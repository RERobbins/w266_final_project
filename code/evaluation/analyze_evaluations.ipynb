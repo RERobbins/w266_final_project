{
  "nbformat": 4,
  "nbformat_minor": 0,
  "metadata": {
    "colab": {
      "provenance": [],
      "toc_visible": true,
      "authorship_tag": "ABX9TyNh0TgWjL5/9ZpP7unrDj91",
      "include_colab_link": true
    },
    "kernelspec": {
      "name": "python3",
      "display_name": "Python 3"
    },
    "language_info": {
      "name": "python"
    }
  },
  "cells": [
    {
      "cell_type": "markdown",
      "metadata": {
        "id": "view-in-github",
        "colab_type": "text"
      },
      "source": [
        "<a href=\"https://colab.research.google.com/github/jeanlucjackson/w266_final_project/blob/main/code/evaluation/analyze_evaluations.ipynb\" target=\"_parent\"><img src=\"https://colab.research.google.com/assets/colab-badge.svg\" alt=\"Open In Colab\"/></a>"
      ]
    },
    {
      "cell_type": "markdown",
      "source": [
        "# Imports & Google Drive"
      ],
      "metadata": {
        "id": "ucCrAZ4G_yET"
      }
    },
    {
      "cell_type": "code",
      "execution_count": 1,
      "metadata": {
        "id": "-HzRdb2_8kO9"
      },
      "outputs": [],
      "source": [
        "from os import listdir\n",
        "from os.path import isfile, join\n",
        "\n",
        "import csv\n",
        "import json\n",
        "from pprint import pprint\n",
        "\n",
        "import pandas as pd\n",
        "from tqdm import tqdm"
      ]
    },
    {
      "cell_type": "code",
      "source": [
        "# This cell will authenticate you and mount your Drive in the Colab.\n",
        "from google.colab import drive\n",
        "drive.mount('/content/drive')"
      ],
      "metadata": {
        "colab": {
          "base_uri": "https://localhost:8080/"
        },
        "id": "XycyLM9J_1d5",
        "outputId": "f5457317-bc4b-424c-98e5-37a6d653d798"
      },
      "execution_count": 2,
      "outputs": [
        {
          "output_type": "stream",
          "name": "stdout",
          "text": [
            "Mounted at /content/drive\n"
          ]
        }
      ]
    },
    {
      "cell_type": "code",
      "source": [
        "inference_root = \"/content/drive/MyDrive/w266 NLP Final Project/Predictions/\"\n",
        "evaluation_root = \"/content/drive/MyDrive/w266 NLP Final Project/Evaluation/\""
      ],
      "metadata": {
        "id": "F788SMwE_2uf"
      },
      "execution_count": 3,
      "outputs": []
    },
    {
      "cell_type": "markdown",
      "source": [
        "# Load Results"
      ],
      "metadata": {
        "id": "diuukssq63B0"
      }
    },
    {
      "cell_type": "markdown",
      "source": [
        "## From `evaluation_dict`"
      ],
      "metadata": {
        "id": "vH1zMIUppT3J"
      }
    },
    {
      "cell_type": "code",
      "source": [
        "# Standard filename for `evaluation_dict` saved in Google Drive\n",
        "filename = join(evaluation_root, \"evaluation_dict.json\")\n",
        "\n",
        "# Read JSON into dictionary\n",
        "with open(filename) as json_file:\n",
        "    evaluation_dict = json.load(json_file)"
      ],
      "metadata": {
        "id": "RMSUAL2E65G8"
      },
      "execution_count": 7,
      "outputs": []
    },
    {
      "cell_type": "code",
      "source": [
        "# Separate LISTS of results from CALCULATED AVERAGES results\n",
        "series_dict = {}\n",
        "value_dict = {}\n",
        "\n",
        "# Loop through datasets\n",
        "for dataset, metrics in evaluation_dict.items():\n",
        "  \n",
        "  # Loop through metrics and separate \"_series\" items\n",
        "  for metric, value in metrics.items():\n",
        "    \n",
        "    # If it's a \"series\" item, add to `series_dict`\n",
        "    if metric.split('_')[-1].strip() == 'series':\n",
        "\n",
        "      # If this dataset does not yet exist in `series_dict`, add it:\n",
        "      if not series_dict.get(dataset):\n",
        "        series_dict.update(\n",
        "            {dataset: {metric: value}}\n",
        "        )\n",
        "      # If this dataset already exists in `series_dict`, add metric to it:\n",
        "      else:\n",
        "        series_dict[dataset].update(\n",
        "            {metric: value}\n",
        "        )\n",
        "\n",
        "    # If not a \"series\" item then it's a calculated value\n",
        "    else:\n",
        "\n",
        "      # If this dataset does not yet exist in `value_dict`, add it:\n",
        "      if not value_dict.get(dataset):\n",
        "        value_dict.update(\n",
        "            {dataset: {metric: value}}\n",
        "        )\n",
        "      # If this dataset already exists in `value_dict`, add metric to it:\n",
        "      else:\n",
        "        value_dict[dataset].update(\n",
        "            {metric: value}\n",
        "        )\n"
      ],
      "metadata": {
        "id": "eYN1Pp1TrCmu"
      },
      "execution_count": 8,
      "outputs": []
    },
    {
      "cell_type": "code",
      "source": [
        "# for k, v in series_dict.items():\n",
        "#   print(k)\n",
        "#   print('    ', end='')\n",
        "#   for k, v in v.items():\n",
        "#     print(f\"{k}: ({len(v)})\", end=' ')\n",
        "#   print()"
      ],
      "metadata": {
        "id": "yePVrmtMuOQ4"
      },
      "execution_count": null,
      "outputs": []
    },
    {
      "cell_type": "code",
      "source": [
        "# for k, v in value_dict.items():\n",
        "#   print(k)\n",
        "#   print('    ', end='')\n",
        "#   for k, v in v.items():\n",
        "#     print(f\"{k}: {v}\", end=' ')\n",
        "#   print()"
      ],
      "metadata": {
        "id": "c_MNtCxOu5uE"
      },
      "execution_count": null,
      "outputs": []
    },
    {
      "cell_type": "code",
      "source": [
        "# Load value_dict into DataFrame\n",
        "value_df = pd.DataFrame.from_dict(value_dict, orient='index')\n",
        "print(f\"{value_df.shape[0]} datasets and {value_df.shape[1]} metrics\")\n",
        "\n",
        "value_df = value_df.reset_index()\\\n",
        "                       .rename(columns={'index': 'filename'})\n",
        "\n",
        "# Parse filename into metadata columns\n",
        "value_df['base_model'] = value_df.apply(lambda row: row['filename'].split('.')[1], axis=1)\n",
        "value_df['trained_on'] = value_df.apply(lambda row: row['filename'].split('.')[2], axis=1)\n",
        "value_df['tested_on'] = value_df.apply(lambda row: row['filename'].split('.')[3], axis=1)\n",
        "value_df['nickname'] = value_df.apply(lambda row: f\"{row['base_model'].split('_')[0]}_{row['trained_on']}_{row['tested_on']}\", axis=1)"
      ],
      "metadata": {
        "id": "-etoxeM_vQQB",
        "colab": {
          "base_uri": "https://localhost:8080/"
        },
        "outputId": "dd56f0a1-466f-4bbd-9d82-a1dcd0941505"
      },
      "execution_count": 9,
      "outputs": [
        {
          "output_type": "stream",
          "name": "stdout",
          "text": [
            "40 datasets and 9 metrics\n"
          ]
        }
      ]
    },
    {
      "cell_type": "code",
      "source": [
        "value_df.columns"
      ],
      "metadata": {
        "colab": {
          "base_uri": "https://localhost:8080/"
        },
        "id": "hZ3u1CCk7DHq",
        "outputId": "d845dec0-e861-4374-a969-3f32b4ce2260"
      },
      "execution_count": null,
      "outputs": [
        {
          "output_type": "execute_result",
          "data": {
            "text/plain": [
              "Index(['filename', 'rouge1', 'rouge2', 'rougeL', 'rougeLsum', 'bleurt',\n",
              "       'base_model', 'trained_on', 'tested_on', 'nickname'],\n",
              "      dtype='object')"
            ]
          },
          "metadata": {},
          "execution_count": 9
        }
      ]
    },
    {
      "cell_type": "code",
      "source": [
        "value_df.head()"
      ],
      "metadata": {
        "colab": {
          "base_uri": "https://localhost:8080/",
          "height": 444
        },
        "id": "e5A1VmZ87Epk",
        "outputId": "bfd9d80b-aafe-4e0b-8308-acc4f99efb5c"
      },
      "execution_count": null,
      "outputs": [
        {
          "output_type": "execute_result",
          "data": {
            "text/plain": [
              "                                         filename  \\\n",
              "0           predictions.T5_base_pt_long.nq.nq.csv   \n",
              "1        predictions.T5_base_pt_long.nq.squad.csv   \n",
              "2  predictions.T5_base_pt_long.triviaqa.squad.csv   \n",
              "3         predictions.T5_base_pt_long.nq.quac.csv   \n",
              "4     predictions.T5_base_pt_long.nq.triviaqa.csv   \n",
              "\n",
              "                                              rouge1  \\\n",
              "0  [0.5882352941176471, 0.75, 0.75, 0.33333333333...   \n",
              "1  [0.5714285714285713, 0.3333333333333333, 0.470...   \n",
              "2  [0.2105263157894737, 0.2, 0.5, 0.16, 0.4242424...   \n",
              "3  [0.2105263157894737, 0.0, 0.0, 0.0, 0.28571428...   \n",
              "4  [0.34782608695652173, 0.22222222222222224, 0.3...   \n",
              "\n",
              "                                              rouge2  \\\n",
              "0  [0.13333333333333333, 0.7142857142857143, 0.57...   \n",
              "1  [0.4210526315789474, 0.0, 0.26666666666666666,...   \n",
              "2  [0.11764705882352941, 0.0, 0.4444444444444444,...   \n",
              "3  [0.11764705882352941, 0.0, 0.0, 0.0, 0.0, 0.0,...   \n",
              "4  [0.09523809523809525, 0.0, 0.0, 0.0, 0.0, 0.28...   \n",
              "\n",
              "                                              rougeL  \\\n",
              "0  [0.5882352941176471, 0.75, 0.75, 0.33333333333...   \n",
              "1  [0.5714285714285713, 0.3333333333333333, 0.470...   \n",
              "2  [0.2105263157894737, 0.2, 0.5, 0.08, 0.1818181...   \n",
              "3  [0.2105263157894737, 0.0, 0.0, 0.0, 0.28571428...   \n",
              "4  [0.17391304347826086, 0.11111111111111112, 0.2...   \n",
              "\n",
              "                                           rougeLsum  \\\n",
              "0  [0.5882352941176471, 0.75, 0.75, 0.33333333333...   \n",
              "1  [0.5714285714285713, 0.3333333333333333, 0.470...   \n",
              "2  [0.2105263157894737, 0.2, 0.5, 0.08, 0.1818181...   \n",
              "3  [0.2105263157894737, 0.0, 0.0, 0.0, 0.28571428...   \n",
              "4  [0.17391304347826086, 0.11111111111111112, 0.2...   \n",
              "\n",
              "                                              bleurt       base_model  \\\n",
              "0  [0.1726507842540741, 0.33446216583251953, -0.8...  T5_base_pt_long   \n",
              "1  [-0.6205416321754456, -1.0067747831344604, -0....  T5_base_pt_long   \n",
              "2  [-0.8604714274406433, -0.7132484912872314, -0....  T5_base_pt_long   \n",
              "3  [-1.6309146881103516, -1.715489149093628, -1.5...  T5_base_pt_long   \n",
              "4  [-0.7651593089103699, -1.170732021331787, -1.5...  T5_base_pt_long   \n",
              "\n",
              "  trained_on tested_on           nickname  \n",
              "0         nq        nq           T5_nq_nq  \n",
              "1         nq     squad        T5_nq_squad  \n",
              "2   triviaqa     squad  T5_triviaqa_squad  \n",
              "3         nq      quac         T5_nq_quac  \n",
              "4         nq  triviaqa     T5_nq_triviaqa  "
            ],
            "text/html": [
              "\n",
              "  <div id=\"df-2ef5253c-f60b-4091-a275-6b8c8b34776c\">\n",
              "    <div class=\"colab-df-container\">\n",
              "      <div>\n",
              "<style scoped>\n",
              "    .dataframe tbody tr th:only-of-type {\n",
              "        vertical-align: middle;\n",
              "    }\n",
              "\n",
              "    .dataframe tbody tr th {\n",
              "        vertical-align: top;\n",
              "    }\n",
              "\n",
              "    .dataframe thead th {\n",
              "        text-align: right;\n",
              "    }\n",
              "</style>\n",
              "<table border=\"1\" class=\"dataframe\">\n",
              "  <thead>\n",
              "    <tr style=\"text-align: right;\">\n",
              "      <th></th>\n",
              "      <th>filename</th>\n",
              "      <th>rouge1</th>\n",
              "      <th>rouge2</th>\n",
              "      <th>rougeL</th>\n",
              "      <th>rougeLsum</th>\n",
              "      <th>bleurt</th>\n",
              "      <th>base_model</th>\n",
              "      <th>trained_on</th>\n",
              "      <th>tested_on</th>\n",
              "      <th>nickname</th>\n",
              "    </tr>\n",
              "  </thead>\n",
              "  <tbody>\n",
              "    <tr>\n",
              "      <th>0</th>\n",
              "      <td>predictions.T5_base_pt_long.nq.nq.csv</td>\n",
              "      <td>[0.5882352941176471, 0.75, 0.75, 0.33333333333...</td>\n",
              "      <td>[0.13333333333333333, 0.7142857142857143, 0.57...</td>\n",
              "      <td>[0.5882352941176471, 0.75, 0.75, 0.33333333333...</td>\n",
              "      <td>[0.5882352941176471, 0.75, 0.75, 0.33333333333...</td>\n",
              "      <td>[0.1726507842540741, 0.33446216583251953, -0.8...</td>\n",
              "      <td>T5_base_pt_long</td>\n",
              "      <td>nq</td>\n",
              "      <td>nq</td>\n",
              "      <td>T5_nq_nq</td>\n",
              "    </tr>\n",
              "    <tr>\n",
              "      <th>1</th>\n",
              "      <td>predictions.T5_base_pt_long.nq.squad.csv</td>\n",
              "      <td>[0.5714285714285713, 0.3333333333333333, 0.470...</td>\n",
              "      <td>[0.4210526315789474, 0.0, 0.26666666666666666,...</td>\n",
              "      <td>[0.5714285714285713, 0.3333333333333333, 0.470...</td>\n",
              "      <td>[0.5714285714285713, 0.3333333333333333, 0.470...</td>\n",
              "      <td>[-0.6205416321754456, -1.0067747831344604, -0....</td>\n",
              "      <td>T5_base_pt_long</td>\n",
              "      <td>nq</td>\n",
              "      <td>squad</td>\n",
              "      <td>T5_nq_squad</td>\n",
              "    </tr>\n",
              "    <tr>\n",
              "      <th>2</th>\n",
              "      <td>predictions.T5_base_pt_long.triviaqa.squad.csv</td>\n",
              "      <td>[0.2105263157894737, 0.2, 0.5, 0.16, 0.4242424...</td>\n",
              "      <td>[0.11764705882352941, 0.0, 0.4444444444444444,...</td>\n",
              "      <td>[0.2105263157894737, 0.2, 0.5, 0.08, 0.1818181...</td>\n",
              "      <td>[0.2105263157894737, 0.2, 0.5, 0.08, 0.1818181...</td>\n",
              "      <td>[-0.8604714274406433, -0.7132484912872314, -0....</td>\n",
              "      <td>T5_base_pt_long</td>\n",
              "      <td>triviaqa</td>\n",
              "      <td>squad</td>\n",
              "      <td>T5_triviaqa_squad</td>\n",
              "    </tr>\n",
              "    <tr>\n",
              "      <th>3</th>\n",
              "      <td>predictions.T5_base_pt_long.nq.quac.csv</td>\n",
              "      <td>[0.2105263157894737, 0.0, 0.0, 0.0, 0.28571428...</td>\n",
              "      <td>[0.11764705882352941, 0.0, 0.0, 0.0, 0.0, 0.0,...</td>\n",
              "      <td>[0.2105263157894737, 0.0, 0.0, 0.0, 0.28571428...</td>\n",
              "      <td>[0.2105263157894737, 0.0, 0.0, 0.0, 0.28571428...</td>\n",
              "      <td>[-1.6309146881103516, -1.715489149093628, -1.5...</td>\n",
              "      <td>T5_base_pt_long</td>\n",
              "      <td>nq</td>\n",
              "      <td>quac</td>\n",
              "      <td>T5_nq_quac</td>\n",
              "    </tr>\n",
              "    <tr>\n",
              "      <th>4</th>\n",
              "      <td>predictions.T5_base_pt_long.nq.triviaqa.csv</td>\n",
              "      <td>[0.34782608695652173, 0.22222222222222224, 0.3...</td>\n",
              "      <td>[0.09523809523809525, 0.0, 0.0, 0.0, 0.0, 0.28...</td>\n",
              "      <td>[0.17391304347826086, 0.11111111111111112, 0.2...</td>\n",
              "      <td>[0.17391304347826086, 0.11111111111111112, 0.2...</td>\n",
              "      <td>[-0.7651593089103699, -1.170732021331787, -1.5...</td>\n",
              "      <td>T5_base_pt_long</td>\n",
              "      <td>nq</td>\n",
              "      <td>triviaqa</td>\n",
              "      <td>T5_nq_triviaqa</td>\n",
              "    </tr>\n",
              "  </tbody>\n",
              "</table>\n",
              "</div>\n",
              "      <button class=\"colab-df-convert\" onclick=\"convertToInteractive('df-2ef5253c-f60b-4091-a275-6b8c8b34776c')\"\n",
              "              title=\"Convert this dataframe to an interactive table.\"\n",
              "              style=\"display:none;\">\n",
              "        \n",
              "  <svg xmlns=\"http://www.w3.org/2000/svg\" height=\"24px\"viewBox=\"0 0 24 24\"\n",
              "       width=\"24px\">\n",
              "    <path d=\"M0 0h24v24H0V0z\" fill=\"none\"/>\n",
              "    <path d=\"M18.56 5.44l.94 2.06.94-2.06 2.06-.94-2.06-.94-.94-2.06-.94 2.06-2.06.94zm-11 1L8.5 8.5l.94-2.06 2.06-.94-2.06-.94L8.5 2.5l-.94 2.06-2.06.94zm10 10l.94 2.06.94-2.06 2.06-.94-2.06-.94-.94-2.06-.94 2.06-2.06.94z\"/><path d=\"M17.41 7.96l-1.37-1.37c-.4-.4-.92-.59-1.43-.59-.52 0-1.04.2-1.43.59L10.3 9.45l-7.72 7.72c-.78.78-.78 2.05 0 2.83L4 21.41c.39.39.9.59 1.41.59.51 0 1.02-.2 1.41-.59l7.78-7.78 2.81-2.81c.8-.78.8-2.07 0-2.86zM5.41 20L4 18.59l7.72-7.72 1.47 1.35L5.41 20z\"/>\n",
              "  </svg>\n",
              "      </button>\n",
              "      \n",
              "  <style>\n",
              "    .colab-df-container {\n",
              "      display:flex;\n",
              "      flex-wrap:wrap;\n",
              "      gap: 12px;\n",
              "    }\n",
              "\n",
              "    .colab-df-convert {\n",
              "      background-color: #E8F0FE;\n",
              "      border: none;\n",
              "      border-radius: 50%;\n",
              "      cursor: pointer;\n",
              "      display: none;\n",
              "      fill: #1967D2;\n",
              "      height: 32px;\n",
              "      padding: 0 0 0 0;\n",
              "      width: 32px;\n",
              "    }\n",
              "\n",
              "    .colab-df-convert:hover {\n",
              "      background-color: #E2EBFA;\n",
              "      box-shadow: 0px 1px 2px rgba(60, 64, 67, 0.3), 0px 1px 3px 1px rgba(60, 64, 67, 0.15);\n",
              "      fill: #174EA6;\n",
              "    }\n",
              "\n",
              "    [theme=dark] .colab-df-convert {\n",
              "      background-color: #3B4455;\n",
              "      fill: #D2E3FC;\n",
              "    }\n",
              "\n",
              "    [theme=dark] .colab-df-convert:hover {\n",
              "      background-color: #434B5C;\n",
              "      box-shadow: 0px 1px 3px 1px rgba(0, 0, 0, 0.15);\n",
              "      filter: drop-shadow(0px 1px 2px rgba(0, 0, 0, 0.3));\n",
              "      fill: #FFFFFF;\n",
              "    }\n",
              "  </style>\n",
              "\n",
              "      <script>\n",
              "        const buttonEl =\n",
              "          document.querySelector('#df-2ef5253c-f60b-4091-a275-6b8c8b34776c button.colab-df-convert');\n",
              "        buttonEl.style.display =\n",
              "          google.colab.kernel.accessAllowed ? 'block' : 'none';\n",
              "\n",
              "        async function convertToInteractive(key) {\n",
              "          const element = document.querySelector('#df-2ef5253c-f60b-4091-a275-6b8c8b34776c');\n",
              "          const dataTable =\n",
              "            await google.colab.kernel.invokeFunction('convertToInteractive',\n",
              "                                                     [key], {});\n",
              "          if (!dataTable) return;\n",
              "\n",
              "          const docLinkHtml = 'Like what you see? Visit the ' +\n",
              "            '<a target=\"_blank\" href=https://colab.research.google.com/notebooks/data_table.ipynb>data table notebook</a>'\n",
              "            + ' to learn more about interactive tables.';\n",
              "          element.innerHTML = '';\n",
              "          dataTable['output_type'] = 'display_data';\n",
              "          await google.colab.output.renderOutput(dataTable, element);\n",
              "          const docLink = document.createElement('div');\n",
              "          docLink.innerHTML = docLinkHtml;\n",
              "          element.appendChild(docLink);\n",
              "        }\n",
              "      </script>\n",
              "    </div>\n",
              "  </div>\n",
              "  "
            ]
          },
          "metadata": {},
          "execution_count": 10
        }
      ]
    },
    {
      "cell_type": "code",
      "source": [
        "value_df.groupby('trained_on').size()"
      ],
      "metadata": {
        "colab": {
          "base_uri": "https://localhost:8080/"
        },
        "id": "Px0JdRa7Fmaq",
        "outputId": "be6af2d2-6758-466d-cfa9-0c76b5d4fb31"
      },
      "execution_count": null,
      "outputs": [
        {
          "output_type": "execute_result",
          "data": {
            "text/plain": [
              "trained_on\n",
              "amalgam     8\n",
              "nq          8\n",
              "quac        8\n",
              "squad       8\n",
              "triviaqa    8\n",
              "dtype: int64"
            ]
          },
          "metadata": {},
          "execution_count": 11
        }
      ]
    },
    {
      "cell_type": "code",
      "source": [
        "value_df.groupby('tested_on').size()"
      ],
      "metadata": {
        "colab": {
          "base_uri": "https://localhost:8080/"
        },
        "id": "v4rqBBC0GQMt",
        "outputId": "a78ef5a7-8ebb-4ed0-a057-cede407370bd"
      },
      "execution_count": null,
      "outputs": [
        {
          "output_type": "execute_result",
          "data": {
            "text/plain": [
              "tested_on\n",
              "nq          10\n",
              "quac        10\n",
              "squad       10\n",
              "triviaqa    10\n",
              "dtype: int64"
            ]
          },
          "metadata": {},
          "execution_count": 12
        }
      ]
    },
    {
      "cell_type": "markdown",
      "source": [
        "## From `evaluation_database`"
      ],
      "metadata": {
        "id": "FTc3t_TwpYvP"
      }
    },
    {
      "cell_type": "code",
      "source": [
        "filename = join(evaluation_root, \"evaluation_database.json\")\n",
        "\n",
        "# Read JSON into dataframe\n",
        "evaluation_db_df = pd.read_json(filename)"
      ],
      "metadata": {
        "id": "avG6wso7pdG_"
      },
      "execution_count": 8,
      "outputs": []
    },
    {
      "cell_type": "code",
      "source": [
        "evaluation_db_df.groupby('nickname').size()"
      ],
      "metadata": {
        "colab": {
          "base_uri": "https://localhost:8080/"
        },
        "id": "G-18HDwspdA8",
        "outputId": "a1d53249-26a7-492a-c43a-6b72693af800"
      },
      "execution_count": 9,
      "outputs": [
        {
          "output_type": "execute_result",
          "data": {
            "text/plain": [
              "nickname\n",
              "T5_amalgam_nq              2356\n",
              "T5_amalgam_quac            5868\n",
              "T5_amalgam_squad          10570\n",
              "T5_amalgam_triviaqa        9835\n",
              "T5_nq_nq                   2356\n",
              "T5_nq_quac                 5868\n",
              "T5_nq_squad               10570\n",
              "T5_nq_triviaqa             9835\n",
              "T5_quac_nq                 2356\n",
              "T5_quac_quac               5868\n",
              "T5_quac_squad             10570\n",
              "T5_quac_triviaqa           9835\n",
              "T5_squad_nq                2356\n",
              "T5_squad_quac              5868\n",
              "T5_squad_squad            10570\n",
              "T5_squad_triviaqa          9835\n",
              "T5_triviaqa_nq             2356\n",
              "T5_triviaqa_quac           5868\n",
              "T5_triviaqa_squad         10570\n",
              "T5_triviaqa_triviaqa       9835\n",
              "bart_amalgam_nq            2356\n",
              "bart_amalgam_quac          5868\n",
              "bart_amalgam_squad        10570\n",
              "bart_amalgam_triviaqa      9835\n",
              "bart_nq_nq                 2356\n",
              "bart_nq_quac               5868\n",
              "bart_nq_squad             10570\n",
              "bart_nq_triviaqa           9835\n",
              "bart_quac_nq               2356\n",
              "bart_quac_quac             5868\n",
              "bart_quac_squad           10570\n",
              "bart_quac_triviaqa         9835\n",
              "bart_squad_nq              2356\n",
              "bart_squad_quac            5868\n",
              "bart_squad_squad          10570\n",
              "bart_squad_triviaqa        9835\n",
              "bart_triviaqa_nq           2356\n",
              "bart_triviaqa_quac         5868\n",
              "bart_triviaqa_squad       10570\n",
              "bart_triviaqa_triviaqa     9835\n",
              "dtype: int64"
            ]
          },
          "metadata": {},
          "execution_count": 9
        }
      ]
    },
    {
      "cell_type": "code",
      "source": [
        "evaluation_db_df"
      ],
      "metadata": {
        "colab": {
          "base_uri": "https://localhost:8080/",
          "height": 1000
        },
        "id": "2jOwIXE1pdD-",
        "outputId": "48621713-6706-4243-f7f3-2f951802e689"
      },
      "execution_count": 10,
      "outputs": [
        {
          "output_type": "execute_result",
          "data": {
            "text/plain": [
              "                                         model_checkpoint  \\\n",
              "0                   predictions.T5_base_pt_long.nq.nq.csv   \n",
              "1                   predictions.T5_base_pt_long.nq.nq.csv   \n",
              "2                   predictions.T5_base_pt_long.nq.nq.csv   \n",
              "3                   predictions.T5_base_pt_long.nq.nq.csv   \n",
              "4                   predictions.T5_base_pt_long.nq.nq.csv   \n",
              "...                                                   ...   \n",
              "286285  predictions.bart_base_pt_long.amalgam.triviaqa...   \n",
              "286286  predictions.bart_base_pt_long.amalgam.triviaqa...   \n",
              "286287  predictions.bart_base_pt_long.amalgam.triviaqa...   \n",
              "286288  predictions.bart_base_pt_long.amalgam.triviaqa...   \n",
              "286289  predictions.bart_base_pt_long.amalgam.triviaqa...   \n",
              "\n",
              "                                                   target  \\\n",
              "0                  what was the real name of saudi arabia   \n",
              "1          whats the most liked picture on instagram 2018   \n",
              "2           where does the movie proof of life take place   \n",
              "3                where is net profit on the balance sheet   \n",
              "4        when was fingerprinting first used by the police   \n",
              "...                                                   ...   \n",
              "286285  Which ex British daily newspaper was first pub...   \n",
              "286286  Which cartoon character lived in Bunkerton Cas...   \n",
              "286287  In which prison was 'Amy' born in the novel 'L...   \n",
              "286288  The Sign Of Four was a detective story written...   \n",
              "286289  Albacore, bigeye and longtail are species of w...   \n",
              "\n",
              "                                               prediction    rouge1    rouge2  \\\n",
              "0               what is the name of the new saudi kingdom  0.588235  0.133333   \n",
              "1             what is the most liked picture on instagram  0.750000  0.714286   \n",
              "2                    where does the movie adol take place  0.750000  0.571429   \n",
              "3       where does net profit come from in a financial...  0.333333  0.125000   \n",
              "4       when did fingerprint analysis become a common ...  0.125000  0.000000   \n",
              "...                                                   ...       ...       ...   \n",
              "286285  What is the name of the railway station in Man...  0.133333  0.000000   \n",
              "286286  In the Beano comic strip, who was the Earl of ...  0.222222  0.000000   \n",
              "286287  What is the name of the prison in Dickens' 'Li...  0.454545  0.100000   \n",
              "286288  \"Who wrote the novels \"\"The Sign of Four\"\" and...  0.400000  0.260870   \n",
              "286289             What is the largest fish in the world?  0.210526  0.000000   \n",
              "\n",
              "          rougeL  rougeLsum    bleurt  bertscore-precision  bertscore-recall  \\\n",
              "0       0.588235   0.588235  0.172651             0.907339          0.912351   \n",
              "1       0.750000   0.750000  0.334462             0.947524          0.917478   \n",
              "2       0.750000   0.750000 -0.815040             0.918053          0.903542   \n",
              "3       0.333333   0.333333  0.047884             0.846695          0.865777   \n",
              "4       0.125000   0.125000  0.092736             0.841615          0.808970   \n",
              "...          ...        ...       ...                  ...               ...   \n",
              "286285  0.088889   0.088889 -1.632916             0.737380          0.651539   \n",
              "286286  0.222222   0.222222 -1.002661             0.795007          0.838565   \n",
              "286287  0.363636   0.363636 -1.007403             0.854209          0.865874   \n",
              "286288  0.400000   0.400000 -1.406101             0.750298          0.827784   \n",
              "286289  0.210526   0.210526 -0.765258             0.775869          0.763761   \n",
              "\n",
              "        bertscore-f1    meteor         base_model framework trained_on  \\\n",
              "0           0.909838  0.459259    T5_base_pt_long        pt         nq   \n",
              "1           0.932259  0.864796    T5_base_pt_long        pt         nq   \n",
              "2           0.910740  0.669192    T5_base_pt_long        pt         nq   \n",
              "3           0.856129  0.311653    T5_base_pt_long        pt         nq   \n",
              "4           0.824970  0.125000    T5_base_pt_long        pt         nq   \n",
              "...              ...       ...                ...       ...        ...   \n",
              "286285      0.691807  0.072254  bart_base_pt_long        pt    amalgam   \n",
              "286286      0.816205  0.176471  bart_base_pt_long        pt    amalgam   \n",
              "286287      0.860002  0.501674  bart_base_pt_long        pt    amalgam   \n",
              "286288      0.787139  0.398936  bart_base_pt_long        pt    amalgam   \n",
              "286289      0.769767  0.119048  bart_base_pt_long        pt    amalgam   \n",
              "\n",
              "       tested_on               nickname  \n",
              "0             nq               T5_nq_nq  \n",
              "1             nq               T5_nq_nq  \n",
              "2             nq               T5_nq_nq  \n",
              "3             nq               T5_nq_nq  \n",
              "4             nq               T5_nq_nq  \n",
              "...          ...                    ...  \n",
              "286285  triviaqa  bart_amalgam_triviaqa  \n",
              "286286  triviaqa  bart_amalgam_triviaqa  \n",
              "286287  triviaqa  bart_amalgam_triviaqa  \n",
              "286288  triviaqa  bart_amalgam_triviaqa  \n",
              "286289  triviaqa  bart_amalgam_triviaqa  \n",
              "\n",
              "[286290 rows x 17 columns]"
            ],
            "text/html": [
              "\n",
              "  <div id=\"df-90239cb9-5bef-47b9-a89f-82865763d126\">\n",
              "    <div class=\"colab-df-container\">\n",
              "      <div>\n",
              "<style scoped>\n",
              "    .dataframe tbody tr th:only-of-type {\n",
              "        vertical-align: middle;\n",
              "    }\n",
              "\n",
              "    .dataframe tbody tr th {\n",
              "        vertical-align: top;\n",
              "    }\n",
              "\n",
              "    .dataframe thead th {\n",
              "        text-align: right;\n",
              "    }\n",
              "</style>\n",
              "<table border=\"1\" class=\"dataframe\">\n",
              "  <thead>\n",
              "    <tr style=\"text-align: right;\">\n",
              "      <th></th>\n",
              "      <th>model_checkpoint</th>\n",
              "      <th>target</th>\n",
              "      <th>prediction</th>\n",
              "      <th>rouge1</th>\n",
              "      <th>rouge2</th>\n",
              "      <th>rougeL</th>\n",
              "      <th>rougeLsum</th>\n",
              "      <th>bleurt</th>\n",
              "      <th>bertscore-precision</th>\n",
              "      <th>bertscore-recall</th>\n",
              "      <th>bertscore-f1</th>\n",
              "      <th>meteor</th>\n",
              "      <th>base_model</th>\n",
              "      <th>framework</th>\n",
              "      <th>trained_on</th>\n",
              "      <th>tested_on</th>\n",
              "      <th>nickname</th>\n",
              "    </tr>\n",
              "  </thead>\n",
              "  <tbody>\n",
              "    <tr>\n",
              "      <th>0</th>\n",
              "      <td>predictions.T5_base_pt_long.nq.nq.csv</td>\n",
              "      <td>what was the real name of saudi arabia</td>\n",
              "      <td>what is the name of the new saudi kingdom</td>\n",
              "      <td>0.588235</td>\n",
              "      <td>0.133333</td>\n",
              "      <td>0.588235</td>\n",
              "      <td>0.588235</td>\n",
              "      <td>0.172651</td>\n",
              "      <td>0.907339</td>\n",
              "      <td>0.912351</td>\n",
              "      <td>0.909838</td>\n",
              "      <td>0.459259</td>\n",
              "      <td>T5_base_pt_long</td>\n",
              "      <td>pt</td>\n",
              "      <td>nq</td>\n",
              "      <td>nq</td>\n",
              "      <td>T5_nq_nq</td>\n",
              "    </tr>\n",
              "    <tr>\n",
              "      <th>1</th>\n",
              "      <td>predictions.T5_base_pt_long.nq.nq.csv</td>\n",
              "      <td>whats the most liked picture on instagram 2018</td>\n",
              "      <td>what is the most liked picture on instagram</td>\n",
              "      <td>0.750000</td>\n",
              "      <td>0.714286</td>\n",
              "      <td>0.750000</td>\n",
              "      <td>0.750000</td>\n",
              "      <td>0.334462</td>\n",
              "      <td>0.947524</td>\n",
              "      <td>0.917478</td>\n",
              "      <td>0.932259</td>\n",
              "      <td>0.864796</td>\n",
              "      <td>T5_base_pt_long</td>\n",
              "      <td>pt</td>\n",
              "      <td>nq</td>\n",
              "      <td>nq</td>\n",
              "      <td>T5_nq_nq</td>\n",
              "    </tr>\n",
              "    <tr>\n",
              "      <th>2</th>\n",
              "      <td>predictions.T5_base_pt_long.nq.nq.csv</td>\n",
              "      <td>where does the movie proof of life take place</td>\n",
              "      <td>where does the movie adol take place</td>\n",
              "      <td>0.750000</td>\n",
              "      <td>0.571429</td>\n",
              "      <td>0.750000</td>\n",
              "      <td>0.750000</td>\n",
              "      <td>-0.815040</td>\n",
              "      <td>0.918053</td>\n",
              "      <td>0.903542</td>\n",
              "      <td>0.910740</td>\n",
              "      <td>0.669192</td>\n",
              "      <td>T5_base_pt_long</td>\n",
              "      <td>pt</td>\n",
              "      <td>nq</td>\n",
              "      <td>nq</td>\n",
              "      <td>T5_nq_nq</td>\n",
              "    </tr>\n",
              "    <tr>\n",
              "      <th>3</th>\n",
              "      <td>predictions.T5_base_pt_long.nq.nq.csv</td>\n",
              "      <td>where is net profit on the balance sheet</td>\n",
              "      <td>where does net profit come from in a financial...</td>\n",
              "      <td>0.333333</td>\n",
              "      <td>0.125000</td>\n",
              "      <td>0.333333</td>\n",
              "      <td>0.333333</td>\n",
              "      <td>0.047884</td>\n",
              "      <td>0.846695</td>\n",
              "      <td>0.865777</td>\n",
              "      <td>0.856129</td>\n",
              "      <td>0.311653</td>\n",
              "      <td>T5_base_pt_long</td>\n",
              "      <td>pt</td>\n",
              "      <td>nq</td>\n",
              "      <td>nq</td>\n",
              "      <td>T5_nq_nq</td>\n",
              "    </tr>\n",
              "    <tr>\n",
              "      <th>4</th>\n",
              "      <td>predictions.T5_base_pt_long.nq.nq.csv</td>\n",
              "      <td>when was fingerprinting first used by the police</td>\n",
              "      <td>when did fingerprint analysis become a common ...</td>\n",
              "      <td>0.125000</td>\n",
              "      <td>0.000000</td>\n",
              "      <td>0.125000</td>\n",
              "      <td>0.125000</td>\n",
              "      <td>0.092736</td>\n",
              "      <td>0.841615</td>\n",
              "      <td>0.808970</td>\n",
              "      <td>0.824970</td>\n",
              "      <td>0.125000</td>\n",
              "      <td>T5_base_pt_long</td>\n",
              "      <td>pt</td>\n",
              "      <td>nq</td>\n",
              "      <td>nq</td>\n",
              "      <td>T5_nq_nq</td>\n",
              "    </tr>\n",
              "    <tr>\n",
              "      <th>...</th>\n",
              "      <td>...</td>\n",
              "      <td>...</td>\n",
              "      <td>...</td>\n",
              "      <td>...</td>\n",
              "      <td>...</td>\n",
              "      <td>...</td>\n",
              "      <td>...</td>\n",
              "      <td>...</td>\n",
              "      <td>...</td>\n",
              "      <td>...</td>\n",
              "      <td>...</td>\n",
              "      <td>...</td>\n",
              "      <td>...</td>\n",
              "      <td>...</td>\n",
              "      <td>...</td>\n",
              "      <td>...</td>\n",
              "      <td>...</td>\n",
              "    </tr>\n",
              "    <tr>\n",
              "      <th>286285</th>\n",
              "      <td>predictions.bart_base_pt_long.amalgam.triviaqa...</td>\n",
              "      <td>Which ex British daily newspaper was first pub...</td>\n",
              "      <td>What is the name of the railway station in Man...</td>\n",
              "      <td>0.133333</td>\n",
              "      <td>0.000000</td>\n",
              "      <td>0.088889</td>\n",
              "      <td>0.088889</td>\n",
              "      <td>-1.632916</td>\n",
              "      <td>0.737380</td>\n",
              "      <td>0.651539</td>\n",
              "      <td>0.691807</td>\n",
              "      <td>0.072254</td>\n",
              "      <td>bart_base_pt_long</td>\n",
              "      <td>pt</td>\n",
              "      <td>amalgam</td>\n",
              "      <td>triviaqa</td>\n",
              "      <td>bart_amalgam_triviaqa</td>\n",
              "    </tr>\n",
              "    <tr>\n",
              "      <th>286286</th>\n",
              "      <td>predictions.bart_base_pt_long.amalgam.triviaqa...</td>\n",
              "      <td>Which cartoon character lived in Bunkerton Cas...</td>\n",
              "      <td>In the Beano comic strip, who was the Earl of ...</td>\n",
              "      <td>0.222222</td>\n",
              "      <td>0.000000</td>\n",
              "      <td>0.222222</td>\n",
              "      <td>0.222222</td>\n",
              "      <td>-1.002661</td>\n",
              "      <td>0.795007</td>\n",
              "      <td>0.838565</td>\n",
              "      <td>0.816205</td>\n",
              "      <td>0.176471</td>\n",
              "      <td>bart_base_pt_long</td>\n",
              "      <td>pt</td>\n",
              "      <td>amalgam</td>\n",
              "      <td>triviaqa</td>\n",
              "      <td>bart_amalgam_triviaqa</td>\n",
              "    </tr>\n",
              "    <tr>\n",
              "      <th>286287</th>\n",
              "      <td>predictions.bart_base_pt_long.amalgam.triviaqa...</td>\n",
              "      <td>In which prison was 'Amy' born in the novel 'L...</td>\n",
              "      <td>What is the name of the prison in Dickens' 'Li...</td>\n",
              "      <td>0.454545</td>\n",
              "      <td>0.100000</td>\n",
              "      <td>0.363636</td>\n",
              "      <td>0.363636</td>\n",
              "      <td>-1.007403</td>\n",
              "      <td>0.854209</td>\n",
              "      <td>0.865874</td>\n",
              "      <td>0.860002</td>\n",
              "      <td>0.501674</td>\n",
              "      <td>bart_base_pt_long</td>\n",
              "      <td>pt</td>\n",
              "      <td>amalgam</td>\n",
              "      <td>triviaqa</td>\n",
              "      <td>bart_amalgam_triviaqa</td>\n",
              "    </tr>\n",
              "    <tr>\n",
              "      <th>286288</th>\n",
              "      <td>predictions.bart_base_pt_long.amalgam.triviaqa...</td>\n",
              "      <td>The Sign Of Four was a detective story written...</td>\n",
              "      <td>\"Who wrote the novels \"\"The Sign of Four\"\" and...</td>\n",
              "      <td>0.400000</td>\n",
              "      <td>0.260870</td>\n",
              "      <td>0.400000</td>\n",
              "      <td>0.400000</td>\n",
              "      <td>-1.406101</td>\n",
              "      <td>0.750298</td>\n",
              "      <td>0.827784</td>\n",
              "      <td>0.787139</td>\n",
              "      <td>0.398936</td>\n",
              "      <td>bart_base_pt_long</td>\n",
              "      <td>pt</td>\n",
              "      <td>amalgam</td>\n",
              "      <td>triviaqa</td>\n",
              "      <td>bart_amalgam_triviaqa</td>\n",
              "    </tr>\n",
              "    <tr>\n",
              "      <th>286289</th>\n",
              "      <td>predictions.bart_base_pt_long.amalgam.triviaqa...</td>\n",
              "      <td>Albacore, bigeye and longtail are species of w...</td>\n",
              "      <td>What is the largest fish in the world?</td>\n",
              "      <td>0.210526</td>\n",
              "      <td>0.000000</td>\n",
              "      <td>0.210526</td>\n",
              "      <td>0.210526</td>\n",
              "      <td>-0.765258</td>\n",
              "      <td>0.775869</td>\n",
              "      <td>0.763761</td>\n",
              "      <td>0.769767</td>\n",
              "      <td>0.119048</td>\n",
              "      <td>bart_base_pt_long</td>\n",
              "      <td>pt</td>\n",
              "      <td>amalgam</td>\n",
              "      <td>triviaqa</td>\n",
              "      <td>bart_amalgam_triviaqa</td>\n",
              "    </tr>\n",
              "  </tbody>\n",
              "</table>\n",
              "<p>286290 rows × 17 columns</p>\n",
              "</div>\n",
              "      <button class=\"colab-df-convert\" onclick=\"convertToInteractive('df-90239cb9-5bef-47b9-a89f-82865763d126')\"\n",
              "              title=\"Convert this dataframe to an interactive table.\"\n",
              "              style=\"display:none;\">\n",
              "        \n",
              "  <svg xmlns=\"http://www.w3.org/2000/svg\" height=\"24px\"viewBox=\"0 0 24 24\"\n",
              "       width=\"24px\">\n",
              "    <path d=\"M0 0h24v24H0V0z\" fill=\"none\"/>\n",
              "    <path d=\"M18.56 5.44l.94 2.06.94-2.06 2.06-.94-2.06-.94-.94-2.06-.94 2.06-2.06.94zm-11 1L8.5 8.5l.94-2.06 2.06-.94-2.06-.94L8.5 2.5l-.94 2.06-2.06.94zm10 10l.94 2.06.94-2.06 2.06-.94-2.06-.94-.94-2.06-.94 2.06-2.06.94z\"/><path d=\"M17.41 7.96l-1.37-1.37c-.4-.4-.92-.59-1.43-.59-.52 0-1.04.2-1.43.59L10.3 9.45l-7.72 7.72c-.78.78-.78 2.05 0 2.83L4 21.41c.39.39.9.59 1.41.59.51 0 1.02-.2 1.41-.59l7.78-7.78 2.81-2.81c.8-.78.8-2.07 0-2.86zM5.41 20L4 18.59l7.72-7.72 1.47 1.35L5.41 20z\"/>\n",
              "  </svg>\n",
              "      </button>\n",
              "      \n",
              "  <style>\n",
              "    .colab-df-container {\n",
              "      display:flex;\n",
              "      flex-wrap:wrap;\n",
              "      gap: 12px;\n",
              "    }\n",
              "\n",
              "    .colab-df-convert {\n",
              "      background-color: #E8F0FE;\n",
              "      border: none;\n",
              "      border-radius: 50%;\n",
              "      cursor: pointer;\n",
              "      display: none;\n",
              "      fill: #1967D2;\n",
              "      height: 32px;\n",
              "      padding: 0 0 0 0;\n",
              "      width: 32px;\n",
              "    }\n",
              "\n",
              "    .colab-df-convert:hover {\n",
              "      background-color: #E2EBFA;\n",
              "      box-shadow: 0px 1px 2px rgba(60, 64, 67, 0.3), 0px 1px 3px 1px rgba(60, 64, 67, 0.15);\n",
              "      fill: #174EA6;\n",
              "    }\n",
              "\n",
              "    [theme=dark] .colab-df-convert {\n",
              "      background-color: #3B4455;\n",
              "      fill: #D2E3FC;\n",
              "    }\n",
              "\n",
              "    [theme=dark] .colab-df-convert:hover {\n",
              "      background-color: #434B5C;\n",
              "      box-shadow: 0px 1px 3px 1px rgba(0, 0, 0, 0.15);\n",
              "      filter: drop-shadow(0px 1px 2px rgba(0, 0, 0, 0.3));\n",
              "      fill: #FFFFFF;\n",
              "    }\n",
              "  </style>\n",
              "\n",
              "      <script>\n",
              "        const buttonEl =\n",
              "          document.querySelector('#df-90239cb9-5bef-47b9-a89f-82865763d126 button.colab-df-convert');\n",
              "        buttonEl.style.display =\n",
              "          google.colab.kernel.accessAllowed ? 'block' : 'none';\n",
              "\n",
              "        async function convertToInteractive(key) {\n",
              "          const element = document.querySelector('#df-90239cb9-5bef-47b9-a89f-82865763d126');\n",
              "          const dataTable =\n",
              "            await google.colab.kernel.invokeFunction('convertToInteractive',\n",
              "                                                     [key], {});\n",
              "          if (!dataTable) return;\n",
              "\n",
              "          const docLinkHtml = 'Like what you see? Visit the ' +\n",
              "            '<a target=\"_blank\" href=https://colab.research.google.com/notebooks/data_table.ipynb>data table notebook</a>'\n",
              "            + ' to learn more about interactive tables.';\n",
              "          element.innerHTML = '';\n",
              "          dataTable['output_type'] = 'display_data';\n",
              "          await google.colab.output.renderOutput(dataTable, element);\n",
              "          const docLink = document.createElement('div');\n",
              "          docLink.innerHTML = docLinkHtml;\n",
              "          element.appendChild(docLink);\n",
              "        }\n",
              "      </script>\n",
              "    </div>\n",
              "  </div>\n",
              "  "
            ]
          },
          "metadata": {},
          "execution_count": 10
        }
      ]
    },
    {
      "cell_type": "markdown",
      "source": [
        "# Calculate Statistics\n",
        "\n",
        "`stats_df`:  \n",
        "Calculate statistics on each dataset for each metric:\n",
        "- Average\n",
        "- Standard deviation\n",
        "\n",
        "Plot metrics to understand each dataset's metrics:\n",
        "- Histogram of each metric\n",
        "\n"
      ],
      "metadata": {
        "id": "_OX_qwn9HlZp"
      }
    },
    {
      "cell_type": "code",
      "source": [],
      "metadata": {
        "id": "K9obl9RUKhaC"
      },
      "execution_count": null,
      "outputs": []
    },
    {
      "cell_type": "markdown",
      "source": [
        "# Analyze"
      ],
      "metadata": {
        "id": "9fwgN6Xr651b"
      }
    },
    {
      "cell_type": "markdown",
      "source": [
        "## Trained & Tested on Same Dataset"
      ],
      "metadata": {
        "id": "yIbCaAqMG6xD"
      }
    },
    {
      "cell_type": "markdown",
      "source": [
        "### SQuAD - SQuAD\n",
        "\n",
        "Analyzing models trained and tested on SQuAD "
      ],
      "metadata": {
        "id": "seJfop8ZGbsR"
      }
    },
    {
      "cell_type": "code",
      "source": [
        "squad_squad_df = value_df[(value_df.trained_on == 'squad') &\n",
        "                          (value_df.tested_on == 'squad')]\n",
        "squad_squad_df"
      ],
      "metadata": {
        "colab": {
          "base_uri": "https://localhost:8080/",
          "height": 245
        },
        "id": "fDbR7f5pGjHn",
        "outputId": "5488da17-075c-4ff0-ef2d-865b81a50c1e"
      },
      "execution_count": null,
      "outputs": [
        {
          "output_type": "execute_result",
          "data": {
            "text/plain": [
              "                                         filename  \\\n",
              "7     predictions.T5_base_pt_long.squad.squad.csv   \n",
              "18  predictions.bart_base_pt_long.squad.squad.csv   \n",
              "\n",
              "                                               rouge1  \\\n",
              "7   [0.631578947368421, 0.26666666666666666, 0.285...   \n",
              "18  [0.6666666666666665, 0.3333333333333333, 0.285...   \n",
              "\n",
              "                                               rouge2  \\\n",
              "7   [0.47058823529411764, 0.0, 0.0, 0.222222222222...   \n",
              "18  [0.5, 0.0, 0.0, 0.22222222222222224, 0.0909090...   \n",
              "\n",
              "                                               rougeL  \\\n",
              "7   [0.631578947368421, 0.26666666666666666, 0.285...   \n",
              "18  [0.6666666666666665, 0.3333333333333333, 0.285...   \n",
              "\n",
              "                                            rougeLsum  \\\n",
              "7   [0.631578947368421, 0.26666666666666666, 0.285...   \n",
              "18  [0.6666666666666665, 0.3333333333333333, 0.285...   \n",
              "\n",
              "                                               bleurt         base_model  \\\n",
              "7   [-0.058771658688783646, -0.8465666174888611, -...    T5_base_pt_long   \n",
              "18                                                NaN  bart_base_pt_long   \n",
              "\n",
              "   trained_on tested_on          nickname  \n",
              "7       squad     squad    T5_squad_squad  \n",
              "18      squad     squad  bart_squad_squad  "
            ],
            "text/html": [
              "\n",
              "  <div id=\"df-6ea72d80-ccf7-4f0f-8c3e-74b393880964\">\n",
              "    <div class=\"colab-df-container\">\n",
              "      <div>\n",
              "<style scoped>\n",
              "    .dataframe tbody tr th:only-of-type {\n",
              "        vertical-align: middle;\n",
              "    }\n",
              "\n",
              "    .dataframe tbody tr th {\n",
              "        vertical-align: top;\n",
              "    }\n",
              "\n",
              "    .dataframe thead th {\n",
              "        text-align: right;\n",
              "    }\n",
              "</style>\n",
              "<table border=\"1\" class=\"dataframe\">\n",
              "  <thead>\n",
              "    <tr style=\"text-align: right;\">\n",
              "      <th></th>\n",
              "      <th>filename</th>\n",
              "      <th>rouge1</th>\n",
              "      <th>rouge2</th>\n",
              "      <th>rougeL</th>\n",
              "      <th>rougeLsum</th>\n",
              "      <th>bleurt</th>\n",
              "      <th>base_model</th>\n",
              "      <th>trained_on</th>\n",
              "      <th>tested_on</th>\n",
              "      <th>nickname</th>\n",
              "    </tr>\n",
              "  </thead>\n",
              "  <tbody>\n",
              "    <tr>\n",
              "      <th>7</th>\n",
              "      <td>predictions.T5_base_pt_long.squad.squad.csv</td>\n",
              "      <td>[0.631578947368421, 0.26666666666666666, 0.285...</td>\n",
              "      <td>[0.47058823529411764, 0.0, 0.0, 0.222222222222...</td>\n",
              "      <td>[0.631578947368421, 0.26666666666666666, 0.285...</td>\n",
              "      <td>[0.631578947368421, 0.26666666666666666, 0.285...</td>\n",
              "      <td>[-0.058771658688783646, -0.8465666174888611, -...</td>\n",
              "      <td>T5_base_pt_long</td>\n",
              "      <td>squad</td>\n",
              "      <td>squad</td>\n",
              "      <td>T5_squad_squad</td>\n",
              "    </tr>\n",
              "    <tr>\n",
              "      <th>18</th>\n",
              "      <td>predictions.bart_base_pt_long.squad.squad.csv</td>\n",
              "      <td>[0.6666666666666665, 0.3333333333333333, 0.285...</td>\n",
              "      <td>[0.5, 0.0, 0.0, 0.22222222222222224, 0.0909090...</td>\n",
              "      <td>[0.6666666666666665, 0.3333333333333333, 0.285...</td>\n",
              "      <td>[0.6666666666666665, 0.3333333333333333, 0.285...</td>\n",
              "      <td>NaN</td>\n",
              "      <td>bart_base_pt_long</td>\n",
              "      <td>squad</td>\n",
              "      <td>squad</td>\n",
              "      <td>bart_squad_squad</td>\n",
              "    </tr>\n",
              "  </tbody>\n",
              "</table>\n",
              "</div>\n",
              "      <button class=\"colab-df-convert\" onclick=\"convertToInteractive('df-6ea72d80-ccf7-4f0f-8c3e-74b393880964')\"\n",
              "              title=\"Convert this dataframe to an interactive table.\"\n",
              "              style=\"display:none;\">\n",
              "        \n",
              "  <svg xmlns=\"http://www.w3.org/2000/svg\" height=\"24px\"viewBox=\"0 0 24 24\"\n",
              "       width=\"24px\">\n",
              "    <path d=\"M0 0h24v24H0V0z\" fill=\"none\"/>\n",
              "    <path d=\"M18.56 5.44l.94 2.06.94-2.06 2.06-.94-2.06-.94-.94-2.06-.94 2.06-2.06.94zm-11 1L8.5 8.5l.94-2.06 2.06-.94-2.06-.94L8.5 2.5l-.94 2.06-2.06.94zm10 10l.94 2.06.94-2.06 2.06-.94-2.06-.94-.94-2.06-.94 2.06-2.06.94z\"/><path d=\"M17.41 7.96l-1.37-1.37c-.4-.4-.92-.59-1.43-.59-.52 0-1.04.2-1.43.59L10.3 9.45l-7.72 7.72c-.78.78-.78 2.05 0 2.83L4 21.41c.39.39.9.59 1.41.59.51 0 1.02-.2 1.41-.59l7.78-7.78 2.81-2.81c.8-.78.8-2.07 0-2.86zM5.41 20L4 18.59l7.72-7.72 1.47 1.35L5.41 20z\"/>\n",
              "  </svg>\n",
              "      </button>\n",
              "      \n",
              "  <style>\n",
              "    .colab-df-container {\n",
              "      display:flex;\n",
              "      flex-wrap:wrap;\n",
              "      gap: 12px;\n",
              "    }\n",
              "\n",
              "    .colab-df-convert {\n",
              "      background-color: #E8F0FE;\n",
              "      border: none;\n",
              "      border-radius: 50%;\n",
              "      cursor: pointer;\n",
              "      display: none;\n",
              "      fill: #1967D2;\n",
              "      height: 32px;\n",
              "      padding: 0 0 0 0;\n",
              "      width: 32px;\n",
              "    }\n",
              "\n",
              "    .colab-df-convert:hover {\n",
              "      background-color: #E2EBFA;\n",
              "      box-shadow: 0px 1px 2px rgba(60, 64, 67, 0.3), 0px 1px 3px 1px rgba(60, 64, 67, 0.15);\n",
              "      fill: #174EA6;\n",
              "    }\n",
              "\n",
              "    [theme=dark] .colab-df-convert {\n",
              "      background-color: #3B4455;\n",
              "      fill: #D2E3FC;\n",
              "    }\n",
              "\n",
              "    [theme=dark] .colab-df-convert:hover {\n",
              "      background-color: #434B5C;\n",
              "      box-shadow: 0px 1px 3px 1px rgba(0, 0, 0, 0.15);\n",
              "      filter: drop-shadow(0px 1px 2px rgba(0, 0, 0, 0.3));\n",
              "      fill: #FFFFFF;\n",
              "    }\n",
              "  </style>\n",
              "\n",
              "      <script>\n",
              "        const buttonEl =\n",
              "          document.querySelector('#df-6ea72d80-ccf7-4f0f-8c3e-74b393880964 button.colab-df-convert');\n",
              "        buttonEl.style.display =\n",
              "          google.colab.kernel.accessAllowed ? 'block' : 'none';\n",
              "\n",
              "        async function convertToInteractive(key) {\n",
              "          const element = document.querySelector('#df-6ea72d80-ccf7-4f0f-8c3e-74b393880964');\n",
              "          const dataTable =\n",
              "            await google.colab.kernel.invokeFunction('convertToInteractive',\n",
              "                                                     [key], {});\n",
              "          if (!dataTable) return;\n",
              "\n",
              "          const docLinkHtml = 'Like what you see? Visit the ' +\n",
              "            '<a target=\"_blank\" href=https://colab.research.google.com/notebooks/data_table.ipynb>data table notebook</a>'\n",
              "            + ' to learn more about interactive tables.';\n",
              "          element.innerHTML = '';\n",
              "          dataTable['output_type'] = 'display_data';\n",
              "          await google.colab.output.renderOutput(dataTable, element);\n",
              "          const docLink = document.createElement('div');\n",
              "          docLink.innerHTML = docLinkHtml;\n",
              "          element.appendChild(docLink);\n",
              "        }\n",
              "      </script>\n",
              "    </div>\n",
              "  </div>\n",
              "  "
            ]
          },
          "metadata": {},
          "execution_count": 13
        }
      ]
    },
    {
      "cell_type": "markdown",
      "source": [
        "### TriviaQA - TriviaQA"
      ],
      "metadata": {
        "id": "P4Q8Rz2kHA1B"
      }
    },
    {
      "cell_type": "code",
      "source": [
        "triviaqa_triviaqa_df = value_df[(value_df.trained_on == 'triviaqa') &\n",
        "                                (value_df.tested_on == 'triviaqa')]\n",
        "triviaqa_triviaqa_df"
      ],
      "metadata": {
        "colab": {
          "base_uri": "https://localhost:8080/",
          "height": 245
        },
        "id": "v375e17rXw6Q",
        "outputId": "0da8bd4f-b57d-4863-a5db-2bbbb89b487f"
      },
      "execution_count": null,
      "outputs": [
        {
          "output_type": "execute_result",
          "data": {
            "text/plain": [
              "                                             filename  \\\n",
              "15  predictions.T5_base_pt_long.triviaqa.triviaqa.csv   \n",
              "31  predictions.bart_base_pt_long.triviaqa.triviaq...   \n",
              "\n",
              "                                               rouge1  \\\n",
              "15  [0.12903225806451615, 0.37499999999999994, 0.2...   \n",
              "31  [0.4761904761904762, 0.7058823529411764, 0.294...   \n",
              "\n",
              "                                               rouge2  \\\n",
              "15  [0.0, 0.0, 0.052631578947368425, 0.0, 0.0, 0.2...   \n",
              "31  [0.2105263157894737, 0.26666666666666666, 0.12...   \n",
              "\n",
              "                                               rougeL  \\\n",
              "15  [0.12903225806451615, 0.37499999999999994, 0.1...   \n",
              "31  [0.380952380952381, 0.3529411764705882, 0.2941...   \n",
              "\n",
              "                                            rougeLsum bleurt  \\\n",
              "15  [0.12903225806451615, 0.37499999999999994, 0.1...    NaN   \n",
              "31  [0.380952380952381, 0.3529411764705882, 0.2941...    NaN   \n",
              "\n",
              "           base_model trained_on tested_on                nickname  \n",
              "15    T5_base_pt_long   triviaqa  triviaqa    T5_triviaqa_triviaqa  \n",
              "31  bart_base_pt_long   triviaqa  triviaqa  bart_triviaqa_triviaqa  "
            ],
            "text/html": [
              "\n",
              "  <div id=\"df-b89a9ab2-3c14-46da-bd38-2e0c16abcda4\">\n",
              "    <div class=\"colab-df-container\">\n",
              "      <div>\n",
              "<style scoped>\n",
              "    .dataframe tbody tr th:only-of-type {\n",
              "        vertical-align: middle;\n",
              "    }\n",
              "\n",
              "    .dataframe tbody tr th {\n",
              "        vertical-align: top;\n",
              "    }\n",
              "\n",
              "    .dataframe thead th {\n",
              "        text-align: right;\n",
              "    }\n",
              "</style>\n",
              "<table border=\"1\" class=\"dataframe\">\n",
              "  <thead>\n",
              "    <tr style=\"text-align: right;\">\n",
              "      <th></th>\n",
              "      <th>filename</th>\n",
              "      <th>rouge1</th>\n",
              "      <th>rouge2</th>\n",
              "      <th>rougeL</th>\n",
              "      <th>rougeLsum</th>\n",
              "      <th>bleurt</th>\n",
              "      <th>base_model</th>\n",
              "      <th>trained_on</th>\n",
              "      <th>tested_on</th>\n",
              "      <th>nickname</th>\n",
              "    </tr>\n",
              "  </thead>\n",
              "  <tbody>\n",
              "    <tr>\n",
              "      <th>15</th>\n",
              "      <td>predictions.T5_base_pt_long.triviaqa.triviaqa.csv</td>\n",
              "      <td>[0.12903225806451615, 0.37499999999999994, 0.2...</td>\n",
              "      <td>[0.0, 0.0, 0.052631578947368425, 0.0, 0.0, 0.2...</td>\n",
              "      <td>[0.12903225806451615, 0.37499999999999994, 0.1...</td>\n",
              "      <td>[0.12903225806451615, 0.37499999999999994, 0.1...</td>\n",
              "      <td>NaN</td>\n",
              "      <td>T5_base_pt_long</td>\n",
              "      <td>triviaqa</td>\n",
              "      <td>triviaqa</td>\n",
              "      <td>T5_triviaqa_triviaqa</td>\n",
              "    </tr>\n",
              "    <tr>\n",
              "      <th>31</th>\n",
              "      <td>predictions.bart_base_pt_long.triviaqa.triviaq...</td>\n",
              "      <td>[0.4761904761904762, 0.7058823529411764, 0.294...</td>\n",
              "      <td>[0.2105263157894737, 0.26666666666666666, 0.12...</td>\n",
              "      <td>[0.380952380952381, 0.3529411764705882, 0.2941...</td>\n",
              "      <td>[0.380952380952381, 0.3529411764705882, 0.2941...</td>\n",
              "      <td>NaN</td>\n",
              "      <td>bart_base_pt_long</td>\n",
              "      <td>triviaqa</td>\n",
              "      <td>triviaqa</td>\n",
              "      <td>bart_triviaqa_triviaqa</td>\n",
              "    </tr>\n",
              "  </tbody>\n",
              "</table>\n",
              "</div>\n",
              "      <button class=\"colab-df-convert\" onclick=\"convertToInteractive('df-b89a9ab2-3c14-46da-bd38-2e0c16abcda4')\"\n",
              "              title=\"Convert this dataframe to an interactive table.\"\n",
              "              style=\"display:none;\">\n",
              "        \n",
              "  <svg xmlns=\"http://www.w3.org/2000/svg\" height=\"24px\"viewBox=\"0 0 24 24\"\n",
              "       width=\"24px\">\n",
              "    <path d=\"M0 0h24v24H0V0z\" fill=\"none\"/>\n",
              "    <path d=\"M18.56 5.44l.94 2.06.94-2.06 2.06-.94-2.06-.94-.94-2.06-.94 2.06-2.06.94zm-11 1L8.5 8.5l.94-2.06 2.06-.94-2.06-.94L8.5 2.5l-.94 2.06-2.06.94zm10 10l.94 2.06.94-2.06 2.06-.94-2.06-.94-.94-2.06-.94 2.06-2.06.94z\"/><path d=\"M17.41 7.96l-1.37-1.37c-.4-.4-.92-.59-1.43-.59-.52 0-1.04.2-1.43.59L10.3 9.45l-7.72 7.72c-.78.78-.78 2.05 0 2.83L4 21.41c.39.39.9.59 1.41.59.51 0 1.02-.2 1.41-.59l7.78-7.78 2.81-2.81c.8-.78.8-2.07 0-2.86zM5.41 20L4 18.59l7.72-7.72 1.47 1.35L5.41 20z\"/>\n",
              "  </svg>\n",
              "      </button>\n",
              "      \n",
              "  <style>\n",
              "    .colab-df-container {\n",
              "      display:flex;\n",
              "      flex-wrap:wrap;\n",
              "      gap: 12px;\n",
              "    }\n",
              "\n",
              "    .colab-df-convert {\n",
              "      background-color: #E8F0FE;\n",
              "      border: none;\n",
              "      border-radius: 50%;\n",
              "      cursor: pointer;\n",
              "      display: none;\n",
              "      fill: #1967D2;\n",
              "      height: 32px;\n",
              "      padding: 0 0 0 0;\n",
              "      width: 32px;\n",
              "    }\n",
              "\n",
              "    .colab-df-convert:hover {\n",
              "      background-color: #E2EBFA;\n",
              "      box-shadow: 0px 1px 2px rgba(60, 64, 67, 0.3), 0px 1px 3px 1px rgba(60, 64, 67, 0.15);\n",
              "      fill: #174EA6;\n",
              "    }\n",
              "\n",
              "    [theme=dark] .colab-df-convert {\n",
              "      background-color: #3B4455;\n",
              "      fill: #D2E3FC;\n",
              "    }\n",
              "\n",
              "    [theme=dark] .colab-df-convert:hover {\n",
              "      background-color: #434B5C;\n",
              "      box-shadow: 0px 1px 3px 1px rgba(0, 0, 0, 0.15);\n",
              "      filter: drop-shadow(0px 1px 2px rgba(0, 0, 0, 0.3));\n",
              "      fill: #FFFFFF;\n",
              "    }\n",
              "  </style>\n",
              "\n",
              "      <script>\n",
              "        const buttonEl =\n",
              "          document.querySelector('#df-b89a9ab2-3c14-46da-bd38-2e0c16abcda4 button.colab-df-convert');\n",
              "        buttonEl.style.display =\n",
              "          google.colab.kernel.accessAllowed ? 'block' : 'none';\n",
              "\n",
              "        async function convertToInteractive(key) {\n",
              "          const element = document.querySelector('#df-b89a9ab2-3c14-46da-bd38-2e0c16abcda4');\n",
              "          const dataTable =\n",
              "            await google.colab.kernel.invokeFunction('convertToInteractive',\n",
              "                                                     [key], {});\n",
              "          if (!dataTable) return;\n",
              "\n",
              "          const docLinkHtml = 'Like what you see? Visit the ' +\n",
              "            '<a target=\"_blank\" href=https://colab.research.google.com/notebooks/data_table.ipynb>data table notebook</a>'\n",
              "            + ' to learn more about interactive tables.';\n",
              "          element.innerHTML = '';\n",
              "          dataTable['output_type'] = 'display_data';\n",
              "          await google.colab.output.renderOutput(dataTable, element);\n",
              "          const docLink = document.createElement('div');\n",
              "          docLink.innerHTML = docLinkHtml;\n",
              "          element.appendChild(docLink);\n",
              "        }\n",
              "      </script>\n",
              "    </div>\n",
              "  </div>\n",
              "  "
            ]
          },
          "metadata": {},
          "execution_count": 14
        }
      ]
    },
    {
      "cell_type": "markdown",
      "source": [
        "### QUAC - QUAC"
      ],
      "metadata": {
        "id": "cVm1Xi2CHJM0"
      }
    },
    {
      "cell_type": "code",
      "source": [
        "quac_quac_df = value_df[(value_df.trained_on == 'quac') &\n",
        "                        (value_df.tested_on == 'quac')]\n",
        "quac_quac_df"
      ],
      "metadata": {
        "colab": {
          "base_uri": "https://localhost:8080/",
          "height": 245
        },
        "id": "Lp6IPPOgX8dT",
        "outputId": "98f238c6-16d4-4115-9027-a209c25a4cb3"
      },
      "execution_count": null,
      "outputs": [
        {
          "output_type": "execute_result",
          "data": {
            "text/plain": [
              "                                       filename  \\\n",
              "13    predictions.T5_base_pt_long.quac.quac.csv   \n",
              "21  predictions.bart_base_pt_long.quac.quac.csv   \n",
              "\n",
              "                                               rouge1  \\\n",
              "13  [0.0, 0.15384615384615385, 0.5454545454545454,...   \n",
              "21  [0.13333333333333333, 0.15384615384615385, 0.6...   \n",
              "\n",
              "                                               rouge2  \\\n",
              "13  [0.0, 0.0, 0.0, 0.0, 0.0, 0.0, 0.0, 0.0, 0.0, ...   \n",
              "21  [0.0, 0.0, 0.4, 0.5454545454545454, 0.0, 0.5, ...   \n",
              "\n",
              "                                               rougeL  \\\n",
              "13  [0.0, 0.15384615384615385, 0.36363636363636365...   \n",
              "21  [0.13333333333333333, 0.15384615384615385, 0.6...   \n",
              "\n",
              "                                            rougeLsum bleurt  \\\n",
              "13  [0.0, 0.15384615384615385, 0.36363636363636365...    NaN   \n",
              "21  [0.13333333333333333, 0.15384615384615385, 0.6...    NaN   \n",
              "\n",
              "           base_model trained_on tested_on        nickname  \n",
              "13    T5_base_pt_long       quac      quac    T5_quac_quac  \n",
              "21  bart_base_pt_long       quac      quac  bart_quac_quac  "
            ],
            "text/html": [
              "\n",
              "  <div id=\"df-285d08c2-c54b-4427-8c9a-1722671ea83f\">\n",
              "    <div class=\"colab-df-container\">\n",
              "      <div>\n",
              "<style scoped>\n",
              "    .dataframe tbody tr th:only-of-type {\n",
              "        vertical-align: middle;\n",
              "    }\n",
              "\n",
              "    .dataframe tbody tr th {\n",
              "        vertical-align: top;\n",
              "    }\n",
              "\n",
              "    .dataframe thead th {\n",
              "        text-align: right;\n",
              "    }\n",
              "</style>\n",
              "<table border=\"1\" class=\"dataframe\">\n",
              "  <thead>\n",
              "    <tr style=\"text-align: right;\">\n",
              "      <th></th>\n",
              "      <th>filename</th>\n",
              "      <th>rouge1</th>\n",
              "      <th>rouge2</th>\n",
              "      <th>rougeL</th>\n",
              "      <th>rougeLsum</th>\n",
              "      <th>bleurt</th>\n",
              "      <th>base_model</th>\n",
              "      <th>trained_on</th>\n",
              "      <th>tested_on</th>\n",
              "      <th>nickname</th>\n",
              "    </tr>\n",
              "  </thead>\n",
              "  <tbody>\n",
              "    <tr>\n",
              "      <th>13</th>\n",
              "      <td>predictions.T5_base_pt_long.quac.quac.csv</td>\n",
              "      <td>[0.0, 0.15384615384615385, 0.5454545454545454,...</td>\n",
              "      <td>[0.0, 0.0, 0.0, 0.0, 0.0, 0.0, 0.0, 0.0, 0.0, ...</td>\n",
              "      <td>[0.0, 0.15384615384615385, 0.36363636363636365...</td>\n",
              "      <td>[0.0, 0.15384615384615385, 0.36363636363636365...</td>\n",
              "      <td>NaN</td>\n",
              "      <td>T5_base_pt_long</td>\n",
              "      <td>quac</td>\n",
              "      <td>quac</td>\n",
              "      <td>T5_quac_quac</td>\n",
              "    </tr>\n",
              "    <tr>\n",
              "      <th>21</th>\n",
              "      <td>predictions.bart_base_pt_long.quac.quac.csv</td>\n",
              "      <td>[0.13333333333333333, 0.15384615384615385, 0.6...</td>\n",
              "      <td>[0.0, 0.0, 0.4, 0.5454545454545454, 0.0, 0.5, ...</td>\n",
              "      <td>[0.13333333333333333, 0.15384615384615385, 0.6...</td>\n",
              "      <td>[0.13333333333333333, 0.15384615384615385, 0.6...</td>\n",
              "      <td>NaN</td>\n",
              "      <td>bart_base_pt_long</td>\n",
              "      <td>quac</td>\n",
              "      <td>quac</td>\n",
              "      <td>bart_quac_quac</td>\n",
              "    </tr>\n",
              "  </tbody>\n",
              "</table>\n",
              "</div>\n",
              "      <button class=\"colab-df-convert\" onclick=\"convertToInteractive('df-285d08c2-c54b-4427-8c9a-1722671ea83f')\"\n",
              "              title=\"Convert this dataframe to an interactive table.\"\n",
              "              style=\"display:none;\">\n",
              "        \n",
              "  <svg xmlns=\"http://www.w3.org/2000/svg\" height=\"24px\"viewBox=\"0 0 24 24\"\n",
              "       width=\"24px\">\n",
              "    <path d=\"M0 0h24v24H0V0z\" fill=\"none\"/>\n",
              "    <path d=\"M18.56 5.44l.94 2.06.94-2.06 2.06-.94-2.06-.94-.94-2.06-.94 2.06-2.06.94zm-11 1L8.5 8.5l.94-2.06 2.06-.94-2.06-.94L8.5 2.5l-.94 2.06-2.06.94zm10 10l.94 2.06.94-2.06 2.06-.94-2.06-.94-.94-2.06-.94 2.06-2.06.94z\"/><path d=\"M17.41 7.96l-1.37-1.37c-.4-.4-.92-.59-1.43-.59-.52 0-1.04.2-1.43.59L10.3 9.45l-7.72 7.72c-.78.78-.78 2.05 0 2.83L4 21.41c.39.39.9.59 1.41.59.51 0 1.02-.2 1.41-.59l7.78-7.78 2.81-2.81c.8-.78.8-2.07 0-2.86zM5.41 20L4 18.59l7.72-7.72 1.47 1.35L5.41 20z\"/>\n",
              "  </svg>\n",
              "      </button>\n",
              "      \n",
              "  <style>\n",
              "    .colab-df-container {\n",
              "      display:flex;\n",
              "      flex-wrap:wrap;\n",
              "      gap: 12px;\n",
              "    }\n",
              "\n",
              "    .colab-df-convert {\n",
              "      background-color: #E8F0FE;\n",
              "      border: none;\n",
              "      border-radius: 50%;\n",
              "      cursor: pointer;\n",
              "      display: none;\n",
              "      fill: #1967D2;\n",
              "      height: 32px;\n",
              "      padding: 0 0 0 0;\n",
              "      width: 32px;\n",
              "    }\n",
              "\n",
              "    .colab-df-convert:hover {\n",
              "      background-color: #E2EBFA;\n",
              "      box-shadow: 0px 1px 2px rgba(60, 64, 67, 0.3), 0px 1px 3px 1px rgba(60, 64, 67, 0.15);\n",
              "      fill: #174EA6;\n",
              "    }\n",
              "\n",
              "    [theme=dark] .colab-df-convert {\n",
              "      background-color: #3B4455;\n",
              "      fill: #D2E3FC;\n",
              "    }\n",
              "\n",
              "    [theme=dark] .colab-df-convert:hover {\n",
              "      background-color: #434B5C;\n",
              "      box-shadow: 0px 1px 3px 1px rgba(0, 0, 0, 0.15);\n",
              "      filter: drop-shadow(0px 1px 2px rgba(0, 0, 0, 0.3));\n",
              "      fill: #FFFFFF;\n",
              "    }\n",
              "  </style>\n",
              "\n",
              "      <script>\n",
              "        const buttonEl =\n",
              "          document.querySelector('#df-285d08c2-c54b-4427-8c9a-1722671ea83f button.colab-df-convert');\n",
              "        buttonEl.style.display =\n",
              "          google.colab.kernel.accessAllowed ? 'block' : 'none';\n",
              "\n",
              "        async function convertToInteractive(key) {\n",
              "          const element = document.querySelector('#df-285d08c2-c54b-4427-8c9a-1722671ea83f');\n",
              "          const dataTable =\n",
              "            await google.colab.kernel.invokeFunction('convertToInteractive',\n",
              "                                                     [key], {});\n",
              "          if (!dataTable) return;\n",
              "\n",
              "          const docLinkHtml = 'Like what you see? Visit the ' +\n",
              "            '<a target=\"_blank\" href=https://colab.research.google.com/notebooks/data_table.ipynb>data table notebook</a>'\n",
              "            + ' to learn more about interactive tables.';\n",
              "          element.innerHTML = '';\n",
              "          dataTable['output_type'] = 'display_data';\n",
              "          await google.colab.output.renderOutput(dataTable, element);\n",
              "          const docLink = document.createElement('div');\n",
              "          docLink.innerHTML = docLinkHtml;\n",
              "          element.appendChild(docLink);\n",
              "        }\n",
              "      </script>\n",
              "    </div>\n",
              "  </div>\n",
              "  "
            ]
          },
          "metadata": {},
          "execution_count": 15
        }
      ]
    },
    {
      "cell_type": "markdown",
      "source": [
        "### NQ - NQ"
      ],
      "metadata": {
        "id": "TIce_XV44RUl"
      }
    },
    {
      "cell_type": "code",
      "source": [
        "nq_nq_df = value_df[(value_df.trained_on == 'nq') &\n",
        "                    (value_df.tested_on == 'nq')]\n",
        "nq_nq_df"
      ],
      "metadata": {
        "id": "btGSYs4mX9KJ"
      },
      "execution_count": null,
      "outputs": []
    },
    {
      "cell_type": "markdown",
      "source": [
        "## Trained & Tested on Different Datasets"
      ],
      "metadata": {
        "id": "08YSWtcI4XDo"
      }
    },
    {
      "cell_type": "markdown",
      "source": [
        "### Tested on SQuAD"
      ],
      "metadata": {
        "id": "3Se1DCX64eKk"
      }
    },
    {
      "cell_type": "code",
      "source": [
        "on_squad_df = value_df[value_df.tested_on == 'squad']\n",
        "on_squad_df"
      ],
      "metadata": {
        "id": "HMIZvVZmYN80"
      },
      "execution_count": null,
      "outputs": []
    },
    {
      "cell_type": "markdown",
      "source": [
        "### Tested on TriviaQA"
      ],
      "metadata": {
        "id": "krL3o0Mq4dbw"
      }
    },
    {
      "cell_type": "code",
      "source": [
        "on_triviaqa_df = value_df[value_df.tested_on == 'triviaqa']\n",
        "on_triviaqa_df"
      ],
      "metadata": {
        "id": "mJxGiBkLYXIA"
      },
      "execution_count": null,
      "outputs": []
    },
    {
      "cell_type": "markdown",
      "source": [
        "### Tested on QuAC"
      ],
      "metadata": {
        "id": "J1tQVuRh4dSm"
      }
    },
    {
      "cell_type": "code",
      "source": [
        "on_quac_df = value_df[value_df.tested_on == 'quac']\n",
        "on_quac_df"
      ],
      "metadata": {
        "id": "O1_Ii8IbYbNE"
      },
      "execution_count": null,
      "outputs": []
    },
    {
      "cell_type": "markdown",
      "source": [
        "### Tested on NQ"
      ],
      "metadata": {
        "id": "t6M6O2Rm4dHH"
      }
    },
    {
      "cell_type": "code",
      "source": [
        "on_nq_df = value_df[value_df.tested_on == 'nq']\n",
        "on_nq_df"
      ],
      "metadata": {
        "id": "sQpcubdaYbj5"
      },
      "execution_count": null,
      "outputs": []
    },
    {
      "cell_type": "markdown",
      "source": [
        "## Top Performers by Metric"
      ],
      "metadata": {
        "id": "WtFPtqv4Ac2k"
      }
    },
    {
      "cell_type": "code",
      "source": [
        "top_X_performers = 5\n",
        "\n",
        "metrics = [\n",
        "    # 'rouge1',\n",
        "    # 'rouge2',\n",
        "    'rougeL',\n",
        "    'meteor',\n",
        "    'bleurt',\n",
        "    # 'bertscore-precision',\n",
        "    # 'bertscore-recall',\n",
        "    'bertscore-f1'\n",
        "]"
      ],
      "metadata": {
        "id": "D8mY6_KpAgav"
      },
      "execution_count": 11,
      "outputs": []
    },
    {
      "cell_type": "code",
      "source": [
        "print(f\"Printing top {top_X_performers} performers...\\n\")\n",
        "\n",
        "for met in metrics:\n",
        "  tops = value_df.sort_values(by=met, ascending=False)[['nickname', 'trained_on', 'tested_on', met]]\\\n",
        "                   .head(top_X_performers)\n",
        "  print(met + ':\\n', tops, '\\n')"
      ],
      "metadata": {
        "colab": {
          "base_uri": "https://localhost:8080/",
          "height": 278
        },
        "id": "-26MttRe67XQ",
        "outputId": "e5126b14-4b20-4630-c5d3-728e671e5e0e"
      },
      "execution_count": 12,
      "outputs": [
        {
          "output_type": "stream",
          "name": "stdout",
          "text": [
            "Printing top 5 performers...\n",
            "\n"
          ]
        },
        {
          "output_type": "error",
          "ename": "NameError",
          "evalue": "ignored",
          "traceback": [
            "\u001b[0;31m---------------------------------------------------------------------------\u001b[0m",
            "\u001b[0;31mNameError\u001b[0m                                 Traceback (most recent call last)",
            "\u001b[0;32m<ipython-input-12-5b96f1743355>\u001b[0m in \u001b[0;36m<module>\u001b[0;34m\u001b[0m\n\u001b[1;32m      2\u001b[0m \u001b[0;34m\u001b[0m\u001b[0m\n\u001b[1;32m      3\u001b[0m \u001b[0;32mfor\u001b[0m \u001b[0mmet\u001b[0m \u001b[0;32min\u001b[0m \u001b[0mmetrics\u001b[0m\u001b[0;34m:\u001b[0m\u001b[0;34m\u001b[0m\u001b[0;34m\u001b[0m\u001b[0m\n\u001b[0;32m----> 4\u001b[0;31m   \u001b[0mtops\u001b[0m \u001b[0;34m=\u001b[0m \u001b[0mvalue_df\u001b[0m\u001b[0;34m.\u001b[0m\u001b[0msort_values\u001b[0m\u001b[0;34m(\u001b[0m\u001b[0mby\u001b[0m\u001b[0;34m=\u001b[0m\u001b[0mmet\u001b[0m\u001b[0;34m,\u001b[0m \u001b[0mascending\u001b[0m\u001b[0;34m=\u001b[0m\u001b[0;32mFalse\u001b[0m\u001b[0;34m)\u001b[0m\u001b[0;34m[\u001b[0m\u001b[0;34m[\u001b[0m\u001b[0;34m'nickname'\u001b[0m\u001b[0;34m,\u001b[0m \u001b[0;34m'trained_on'\u001b[0m\u001b[0;34m,\u001b[0m \u001b[0;34m'tested_on'\u001b[0m\u001b[0;34m,\u001b[0m \u001b[0mmet\u001b[0m\u001b[0;34m]\u001b[0m\u001b[0;34m]\u001b[0m\u001b[0;31m\\\u001b[0m\u001b[0;34m\u001b[0m\u001b[0;34m\u001b[0m\u001b[0m\n\u001b[0m\u001b[1;32m      5\u001b[0m                    \u001b[0;34m.\u001b[0m\u001b[0mhead\u001b[0m\u001b[0;34m(\u001b[0m\u001b[0mtop_X_performers\u001b[0m\u001b[0;34m)\u001b[0m\u001b[0;34m\u001b[0m\u001b[0;34m\u001b[0m\u001b[0m\n\u001b[1;32m      6\u001b[0m   \u001b[0mprint\u001b[0m\u001b[0;34m(\u001b[0m\u001b[0mmet\u001b[0m \u001b[0;34m+\u001b[0m \u001b[0;34m':\\n'\u001b[0m\u001b[0;34m,\u001b[0m \u001b[0mtops\u001b[0m\u001b[0;34m,\u001b[0m \u001b[0;34m'\\n'\u001b[0m\u001b[0;34m)\u001b[0m\u001b[0;34m\u001b[0m\u001b[0;34m\u001b[0m\u001b[0m\n",
            "\u001b[0;31mNameError\u001b[0m: name 'value_df' is not defined"
          ]
        }
      ]
    },
    {
      "cell_type": "markdown",
      "source": [
        "# Plotting"
      ],
      "metadata": {
        "id": "1fLWfIU57HQY"
      }
    },
    {
      "cell_type": "markdown",
      "source": [
        "## Metric Averages"
      ],
      "metadata": {
        "id": "y8RUgkgaOOQ6"
      }
    },
    {
      "cell_type": "code",
      "source": [
        "rouge_fig = value_df[['nickname', 'rouge1', 'rouge2', 'rougeL', 'rougeLsum']]\\\n",
        "              .set_index('nickname')\\\n",
        "              .sort_values(by='rougeL', ascending=False)\\\n",
        "              .plot.bar(figsize=(15,10),\n",
        "                      title='ROUGE Scores')\\\n",
        "              .get_figure()\n",
        "rouge_fig\n",
        "\n",
        "plot_name = join(inference_root, \"rouge.png\")\n",
        "rouge_fig.savefig(plot_name, bbox_inches='tight')"
      ],
      "metadata": {
        "colab": {
          "base_uri": "https://localhost:8080/",
          "height": 727
        },
        "id": "MnyPYR_s7H4o",
        "outputId": "e5c153c2-e5d6-4950-c56c-9d1bf8ff362e"
      },
      "execution_count": null,
      "outputs": [
        {
          "output_type": "display_data",
          "data": {
            "text/plain": [
              "<Figure size 1080x720 with 1 Axes>"
            ],
            "image/png": "[encoded data removed]"
          },
          "metadata": {
            "needs_background": "light"
          }
        }
      ]
    },
    {
      "cell_type": "code",
      "source": [
        "meteor_fig = value_df[['nickname', 'meteor']]\\\n",
        "              .set_index('nickname')\\\n",
        "              .sort_values(by='meteor', ascending=False)\\\n",
        "              .plot.bar(figsize=(15,10),\n",
        "                      title='METEOR Scores',\n",
        "                      legend=False)\\\n",
        "              .get_figure()\n",
        "meteor_fig\n",
        "\n",
        "plot_name = join(inference_root, \"meteor.png\")\n",
        "meteor_fig.savefig(plot_name, bbox_inches='tight')"
      ],
      "metadata": {
        "colab": {
          "base_uri": "https://localhost:8080/",
          "height": 727
        },
        "id": "UV_PR7K37JWD",
        "outputId": "e1da2670-4eac-45e9-be0f-3254957935a1"
      },
      "execution_count": null,
      "outputs": [
        {
          "output_type": "display_data",
          "data": {
            "text/plain": [
              "<Figure size 1080x720 with 1 Axes>"
            ],
            "image/png": "[encoded data removed]"
          },
          "metadata": {
            "needs_background": "light"
          }
        }
      ]
    },
    {
      "cell_type": "code",
      "source": [
        "bleurt_fig = value_df[['nickname', 'bleurt']]\\\n",
        "              .set_index('nickname')\\\n",
        "              .sort_values(by='bleurt', ascending=False)\\\n",
        "              .plot.bar(figsize=(15,10),\n",
        "                        title='BLEU-RT Scores',\n",
        "                        legend=False)\\\n",
        "              .get_figure()\n",
        "\n",
        "bleurt_fig\n",
        "\n",
        "plot_name = join(inference_root, \"bleurt.png\")\n",
        "bleurt_fig.savefig(plot_name, bbox_inches='tight')"
      ],
      "metadata": {
        "colab": {
          "base_uri": "https://localhost:8080/",
          "height": 727
        },
        "id": "GXZtyT1A7MM-",
        "outputId": "14e90e33-bc31-4daa-8a98-5d366880a00f"
      },
      "execution_count": null,
      "outputs": [
        {
          "output_type": "display_data",
          "data": {
            "text/plain": [
              "<Figure size 1080x720 with 1 Axes>"
            ],
            "image/png": "[encoded data removed]"
          },
          "metadata": {
            "needs_background": "light"
          }
        }
      ]
    },
    {
      "cell_type": "code",
      "source": [
        "bertscore_fig = value_df[['nickname', 'bertscore-precision', 'bertscore-recall', 'bertscore-f1']]\\\n",
        "                  .set_index('nickname')\\\n",
        "                  .sort_values(by='bertscore-f1', ascending=False)\\\n",
        "                  .plot.bar(figsize=(15,10),\n",
        "                            title='BERT Scores')\\\n",
        "                  .get_figure()\n",
        "bertscore_fig\n",
        "\n",
        "plot_name = join(inference_root, \"bertscore.png\")\n",
        "bertscore_fig.savefig(plot_name, bbox_inches='tight')"
      ],
      "metadata": {
        "colab": {
          "base_uri": "https://localhost:8080/",
          "height": 727
        },
        "id": "OMQZ-zmB7PGj",
        "outputId": "79dc5316-0af4-430d-d76e-9f662b7e1ff2"
      },
      "execution_count": null,
      "outputs": [
        {
          "output_type": "display_data",
          "data": {
            "text/plain": [
              "<Figure size 1080x720 with 1 Axes>"
            ],
            "image/png": "[encoded data removed]"
          },
          "metadata": {
            "needs_background": "light"
          }
        }
      ]
    },
    {
      "cell_type": "code",
      "source": [],
      "metadata": {
        "id": "9OM2fQynwiHF"
      },
      "execution_count": null,
      "outputs": []
    }
  ]
}