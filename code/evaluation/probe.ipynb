{
  "cells": [
    {
      "cell_type": "markdown",
      "metadata": {
        "id": "view-in-github",
        "colab_type": "text"
      },
      "source": [
        "<a href=\"https://colab.research.google.com/github/jeanlucjackson/w266_final_project/blob/main/code/evaluation/probe.ipynb\" target=\"_parent\"><img src=\"https://colab.research.google.com/assets/colab-badge.svg\" alt=\"Open In Colab\"/></a>"
      ]
    },
    {
      "cell_type": "markdown",
      "source": [
        "### Setup"
      ],
      "metadata": {
        "id": "rZgKQakG7kj1"
      }
    },
    {
      "cell_type": "code",
      "execution_count": 3,
      "metadata": {
        "id": "c3906UT0dyke",
        "colab": {
          "base_uri": "https://localhost:8080/"
        },
        "outputId": "bd89b241-e447-475d-82ed-d23d0e72b59a"
      },
      "outputs": [
        {
          "output_type": "stream",
          "name": "stdout",
          "text": [
            "\u001b[K     |████████████████████████████████| 5.5 MB 25.9 MB/s \n",
            "\u001b[K     |████████████████████████████████| 182 kB 64.1 MB/s \n",
            "\u001b[K     |████████████████████████████████| 7.6 MB 63.5 MB/s \n",
            "\u001b[?25h"
          ]
        }
      ],
      "source": [
        "!pip install -q transformers"
      ]
    },
    {
      "cell_type": "code",
      "execution_count": 4,
      "metadata": {
        "id": "vBX23WXdd0v-",
        "outputId": "7914a2ab-049b-4680-91d8-847d9a3541b3",
        "colab": {
          "base_uri": "https://localhost:8080/"
        }
      },
      "outputs": [
        {
          "output_type": "stream",
          "name": "stdout",
          "text": [
            "\u001b[?25l\r\u001b[K     |▎                               | 10 kB 31.7 MB/s eta 0:00:01\r\u001b[K     |▌                               | 20 kB 37.7 MB/s eta 0:00:01\r\u001b[K     |▊                               | 30 kB 44.6 MB/s eta 0:00:01\r\u001b[K     |█                               | 40 kB 43.6 MB/s eta 0:00:01\r\u001b[K     |█▎                              | 51 kB 47.4 MB/s eta 0:00:01\r\u001b[K     |█▌                              | 61 kB 51.7 MB/s eta 0:00:01\r\u001b[K     |█▉                              | 71 kB 35.2 MB/s eta 0:00:01\r\u001b[K     |██                              | 81 kB 36.9 MB/s eta 0:00:01\r\u001b[K     |██▎                             | 92 kB 38.7 MB/s eta 0:00:01\r\u001b[K     |██▋                             | 102 kB 40.9 MB/s eta 0:00:01\r\u001b[K     |██▉                             | 112 kB 40.9 MB/s eta 0:00:01\r\u001b[K     |███                             | 122 kB 40.9 MB/s eta 0:00:01\r\u001b[K     |███▍                            | 133 kB 40.9 MB/s eta 0:00:01\r\u001b[K     |███▋                            | 143 kB 40.9 MB/s eta 0:00:01\r\u001b[K     |███▉                            | 153 kB 40.9 MB/s eta 0:00:01\r\u001b[K     |████                            | 163 kB 40.9 MB/s eta 0:00:01\r\u001b[K     |████▍                           | 174 kB 40.9 MB/s eta 0:00:01\r\u001b[K     |████▋                           | 184 kB 40.9 MB/s eta 0:00:01\r\u001b[K     |████▉                           | 194 kB 40.9 MB/s eta 0:00:01\r\u001b[K     |█████▏                          | 204 kB 40.9 MB/s eta 0:00:01\r\u001b[K     |█████▍                          | 215 kB 40.9 MB/s eta 0:00:01\r\u001b[K     |█████▋                          | 225 kB 40.9 MB/s eta 0:00:01\r\u001b[K     |██████                          | 235 kB 40.9 MB/s eta 0:00:01\r\u001b[K     |██████▏                         | 245 kB 40.9 MB/s eta 0:00:01\r\u001b[K     |██████▍                         | 256 kB 40.9 MB/s eta 0:00:01\r\u001b[K     |██████▊                         | 266 kB 40.9 MB/s eta 0:00:01\r\u001b[K     |███████                         | 276 kB 40.9 MB/s eta 0:00:01\r\u001b[K     |███████▏                        | 286 kB 40.9 MB/s eta 0:00:01\r\u001b[K     |███████▍                        | 296 kB 40.9 MB/s eta 0:00:01\r\u001b[K     |███████▊                        | 307 kB 40.9 MB/s eta 0:00:01\r\u001b[K     |████████                        | 317 kB 40.9 MB/s eta 0:00:01\r\u001b[K     |████████▏                       | 327 kB 40.9 MB/s eta 0:00:01\r\u001b[K     |████████▌                       | 337 kB 40.9 MB/s eta 0:00:01\r\u001b[K     |████████▊                       | 348 kB 40.9 MB/s eta 0:00:01\r\u001b[K     |█████████                       | 358 kB 40.9 MB/s eta 0:00:01\r\u001b[K     |█████████▎                      | 368 kB 40.9 MB/s eta 0:00:01\r\u001b[K     |█████████▌                      | 378 kB 40.9 MB/s eta 0:00:01\r\u001b[K     |█████████▊                      | 389 kB 40.9 MB/s eta 0:00:01\r\u001b[K     |██████████                      | 399 kB 40.9 MB/s eta 0:00:01\r\u001b[K     |██████████▎                     | 409 kB 40.9 MB/s eta 0:00:01\r\u001b[K     |██████████▌                     | 419 kB 40.9 MB/s eta 0:00:01\r\u001b[K     |██████████▉                     | 430 kB 40.9 MB/s eta 0:00:01\r\u001b[K     |███████████                     | 440 kB 40.9 MB/s eta 0:00:01\r\u001b[K     |███████████▎                    | 450 kB 40.9 MB/s eta 0:00:01\r\u001b[K     |███████████▌                    | 460 kB 40.9 MB/s eta 0:00:01\r\u001b[K     |███████████▉                    | 471 kB 40.9 MB/s eta 0:00:01\r\u001b[K     |████████████                    | 481 kB 40.9 MB/s eta 0:00:01\r\u001b[K     |████████████▎                   | 491 kB 40.9 MB/s eta 0:00:01\r\u001b[K     |████████████▋                   | 501 kB 40.9 MB/s eta 0:00:01\r\u001b[K     |████████████▉                   | 512 kB 40.9 MB/s eta 0:00:01\r\u001b[K     |█████████████                   | 522 kB 40.9 MB/s eta 0:00:01\r\u001b[K     |█████████████▍                  | 532 kB 40.9 MB/s eta 0:00:01\r\u001b[K     |█████████████▋                  | 542 kB 40.9 MB/s eta 0:00:01\r\u001b[K     |█████████████▉                  | 552 kB 40.9 MB/s eta 0:00:01\r\u001b[K     |██████████████▏                 | 563 kB 40.9 MB/s eta 0:00:01\r\u001b[K     |██████████████▍                 | 573 kB 40.9 MB/s eta 0:00:01\r\u001b[K     |██████████████▋                 | 583 kB 40.9 MB/s eta 0:00:01\r\u001b[K     |██████████████▉                 | 593 kB 40.9 MB/s eta 0:00:01\r\u001b[K     |███████████████▏                | 604 kB 40.9 MB/s eta 0:00:01\r\u001b[K     |███████████████▍                | 614 kB 40.9 MB/s eta 0:00:01\r\u001b[K     |███████████████▋                | 624 kB 40.9 MB/s eta 0:00:01\r\u001b[K     |████████████████                | 634 kB 40.9 MB/s eta 0:00:01\r\u001b[K     |████████████████▏               | 645 kB 40.9 MB/s eta 0:00:01\r\u001b[K     |████████████████▍               | 655 kB 40.9 MB/s eta 0:00:01\r\u001b[K     |████████████████▊               | 665 kB 40.9 MB/s eta 0:00:01\r\u001b[K     |█████████████████               | 675 kB 40.9 MB/s eta 0:00:01\r\u001b[K     |█████████████████▏              | 686 kB 40.9 MB/s eta 0:00:01\r\u001b[K     |█████████████████▌              | 696 kB 40.9 MB/s eta 0:00:01\r\u001b[K     |█████████████████▊              | 706 kB 40.9 MB/s eta 0:00:01\r\u001b[K     |██████████████████              | 716 kB 40.9 MB/s eta 0:00:01\r\u001b[K     |██████████████████▎             | 727 kB 40.9 MB/s eta 0:00:01\r\u001b[K     |██████████████████▌             | 737 kB 40.9 MB/s eta 0:00:01\r\u001b[K     |██████████████████▊             | 747 kB 40.9 MB/s eta 0:00:01\r\u001b[K     |███████████████████             | 757 kB 40.9 MB/s eta 0:00:01\r\u001b[K     |███████████████████▎            | 768 kB 40.9 MB/s eta 0:00:01\r\u001b[K     |███████████████████▌            | 778 kB 40.9 MB/s eta 0:00:01\r\u001b[K     |███████████████████▊            | 788 kB 40.9 MB/s eta 0:00:01\r\u001b[K     |████████████████████            | 798 kB 40.9 MB/s eta 0:00:01\r\u001b[K     |████████████████████▎           | 808 kB 40.9 MB/s eta 0:00:01\r\u001b[K     |████████████████████▌           | 819 kB 40.9 MB/s eta 0:00:01\r\u001b[K     |████████████████████▉           | 829 kB 40.9 MB/s eta 0:00:01\r\u001b[K     |█████████████████████           | 839 kB 40.9 MB/s eta 0:00:01\r\u001b[K     |█████████████████████▎          | 849 kB 40.9 MB/s eta 0:00:01\r\u001b[K     |█████████████████████▋          | 860 kB 40.9 MB/s eta 0:00:01\r\u001b[K     |█████████████████████▉          | 870 kB 40.9 MB/s eta 0:00:01\r\u001b[K     |██████████████████████          | 880 kB 40.9 MB/s eta 0:00:01\r\u001b[K     |██████████████████████▎         | 890 kB 40.9 MB/s eta 0:00:01\r\u001b[K     |██████████████████████▋         | 901 kB 40.9 MB/s eta 0:00:01\r\u001b[K     |██████████████████████▉         | 911 kB 40.9 MB/s eta 0:00:01\r\u001b[K     |███████████████████████         | 921 kB 40.9 MB/s eta 0:00:01\r\u001b[K     |███████████████████████▍        | 931 kB 40.9 MB/s eta 0:00:01\r\u001b[K     |███████████████████████▋        | 942 kB 40.9 MB/s eta 0:00:01\r\u001b[K     |███████████████████████▉        | 952 kB 40.9 MB/s eta 0:00:01\r\u001b[K     |████████████████████████▏       | 962 kB 40.9 MB/s eta 0:00:01\r\u001b[K     |████████████████████████▍       | 972 kB 40.9 MB/s eta 0:00:01\r\u001b[K     |████████████████████████▋       | 983 kB 40.9 MB/s eta 0:00:01\r\u001b[K     |█████████████████████████       | 993 kB 40.9 MB/s eta 0:00:01\r\u001b[K     |█████████████████████████▏      | 1.0 MB 40.9 MB/s eta 0:00:01\r\u001b[K     |█████████████████████████▍      | 1.0 MB 40.9 MB/s eta 0:00:01\r\u001b[K     |█████████████████████████▊      | 1.0 MB 40.9 MB/s eta 0:00:01\r\u001b[K     |██████████████████████████      | 1.0 MB 40.9 MB/s eta 0:00:01\r\u001b[K     |██████████████████████████▏     | 1.0 MB 40.9 MB/s eta 0:00:01\r\u001b[K     |██████████████████████████▍     | 1.1 MB 40.9 MB/s eta 0:00:01\r\u001b[K     |██████████████████████████▊     | 1.1 MB 40.9 MB/s eta 0:00:01\r\u001b[K     |███████████████████████████     | 1.1 MB 40.9 MB/s eta 0:00:01\r\u001b[K     |███████████████████████████▏    | 1.1 MB 40.9 MB/s eta 0:00:01\r\u001b[K     |███████████████████████████▌    | 1.1 MB 40.9 MB/s eta 0:00:01\r\u001b[K     |███████████████████████████▊    | 1.1 MB 40.9 MB/s eta 0:00:01\r\u001b[K     |████████████████████████████    | 1.1 MB 40.9 MB/s eta 0:00:01\r\u001b[K     |████████████████████████████▎   | 1.1 MB 40.9 MB/s eta 0:00:01\r\u001b[K     |████████████████████████████▌   | 1.1 MB 40.9 MB/s eta 0:00:01\r\u001b[K     |████████████████████████████▊   | 1.1 MB 40.9 MB/s eta 0:00:01\r\u001b[K     |█████████████████████████████   | 1.2 MB 40.9 MB/s eta 0:00:01\r\u001b[K     |█████████████████████████████▎  | 1.2 MB 40.9 MB/s eta 0:00:01\r\u001b[K     |█████████████████████████████▌  | 1.2 MB 40.9 MB/s eta 0:00:01\r\u001b[K     |█████████████████████████████▊  | 1.2 MB 40.9 MB/s eta 0:00:01\r\u001b[K     |██████████████████████████████  | 1.2 MB 40.9 MB/s eta 0:00:01\r\u001b[K     |██████████████████████████████▎ | 1.2 MB 40.9 MB/s eta 0:00:01\r\u001b[K     |██████████████████████████████▌ | 1.2 MB 40.9 MB/s eta 0:00:01\r\u001b[K     |██████████████████████████████▉ | 1.2 MB 40.9 MB/s eta 0:00:01\r\u001b[K     |███████████████████████████████ | 1.2 MB 40.9 MB/s eta 0:00:01\r\u001b[K     |███████████████████████████████▎| 1.2 MB 40.9 MB/s eta 0:00:01\r\u001b[K     |███████████████████████████████▋| 1.3 MB 40.9 MB/s eta 0:00:01\r\u001b[K     |███████████████████████████████▉| 1.3 MB 40.9 MB/s eta 0:00:01\r\u001b[K     |████████████████████████████████| 1.3 MB 40.9 MB/s \n",
            "\u001b[?25h"
          ]
        }
      ],
      "source": [
        "!pip install -q sentencepiece"
      ]
    },
    {
      "cell_type": "code",
      "source": [
        "import os\n",
        "import numpy as np\n",
        "import pandas as pd\n",
        "\n",
        "import torch\n",
        "\n",
        "from transformers import BartTokenizer, BartForConditionalGeneration\n",
        "from transformers import T5Tokenizer, T5ForConditionalGeneration\n",
        "\n",
        "import warnings\n",
        "\n",
        "warnings.simplefilter(action=\"ignore\", category=FutureWarning)"
      ],
      "metadata": {
        "id": "0RC42_aYMGDc"
      },
      "execution_count": 5,
      "outputs": []
    },
    {
      "cell_type": "code",
      "execution_count": 6,
      "metadata": {
        "id": "17N1XaF7d6dW",
        "colab": {
          "base_uri": "https://localhost:8080/"
        },
        "outputId": "9d7840f4-74ba-4376-f808-fb86abcc5c54"
      },
      "outputs": [
        {
          "output_type": "stream",
          "name": "stdout",
          "text": [
            "Mounted at /content/drive\n"
          ]
        }
      ],
      "source": [
        "from google.colab import drive\n",
        "\n",
        "drive.mount(\"/content/drive\")"
      ]
    },
    {
      "cell_type": "markdown",
      "source": [
        "### Black"
      ],
      "metadata": {
        "id": "bbX8FtQrDM46"
      }
    },
    {
      "cell_type": "code",
      "source": [
        "!pip install black[jupyter]"
      ],
      "metadata": {
        "colab": {
          "base_uri": "https://localhost:8080/"
        },
        "id": "7soHfAMfDRoZ",
        "outputId": "365ea63b-67bd-4ee3-e5e1-cb6b7c4b32c4"
      },
      "execution_count": null,
      "outputs": [
        {
          "output_type": "stream",
          "name": "stdout",
          "text": [
            "Looking in indexes: https://pypi.org/simple, https://us-python.pkg.dev/colab-wheels/public/simple/\n",
            "Collecting black[jupyter]\n",
            "  Downloading black-22.10.0-cp37-cp37m-manylinux_2_17_x86_64.manylinux2014_x86_64.whl (1.5 MB)\n",
            "\u001b[K     |████████████████████████████████| 1.5 MB 14.0 MB/s \n",
            "\u001b[?25hCollecting typed-ast>=1.4.2\n",
            "  Downloading typed_ast-1.5.4-cp37-cp37m-manylinux_2_5_x86_64.manylinux1_x86_64.manylinux_2_12_x86_64.manylinux2010_x86_64.whl (843 kB)\n",
            "\u001b[K     |████████████████████████████████| 843 kB 56.0 MB/s \n",
            "\u001b[?25hCollecting click>=8.0.0\n",
            "  Downloading click-8.1.3-py3-none-any.whl (96 kB)\n",
            "\u001b[K     |████████████████████████████████| 96 kB 6.1 MB/s \n",
            "\u001b[?25hRequirement already satisfied: tomli>=1.1.0 in /usr/local/lib/python3.7/dist-packages (from black[jupyter]) (2.0.1)\n",
            "Collecting pathspec>=0.9.0\n",
            "  Downloading pathspec-0.10.2-py3-none-any.whl (28 kB)\n",
            "Collecting mypy-extensions>=0.4.3\n",
            "  Downloading mypy_extensions-0.4.3-py2.py3-none-any.whl (4.5 kB)\n",
            "Collecting platformdirs>=2\n",
            "  Downloading platformdirs-2.5.4-py3-none-any.whl (14 kB)\n",
            "Requirement already satisfied: typing-extensions>=3.10.0.0 in /usr/local/lib/python3.7/dist-packages (from black[jupyter]) (4.1.1)\n",
            "Collecting tokenize-rt>=3.2.0\n",
            "  Downloading tokenize_rt-5.0.0-py2.py3-none-any.whl (5.8 kB)\n",
            "Requirement already satisfied: ipython>=7.8.0 in /usr/local/lib/python3.7/dist-packages (from black[jupyter]) (7.9.0)\n",
            "Requirement already satisfied: importlib-metadata in /usr/local/lib/python3.7/dist-packages (from click>=8.0.0->black[jupyter]) (4.13.0)\n",
            "Requirement already satisfied: decorator in /usr/local/lib/python3.7/dist-packages (from ipython>=7.8.0->black[jupyter]) (4.4.2)\n",
            "Requirement already satisfied: pygments in /usr/local/lib/python3.7/dist-packages (from ipython>=7.8.0->black[jupyter]) (2.6.1)\n",
            "Requirement already satisfied: pickleshare in /usr/local/lib/python3.7/dist-packages (from ipython>=7.8.0->black[jupyter]) (0.7.5)\n",
            "Requirement already satisfied: prompt-toolkit<2.1.0,>=2.0.0 in /usr/local/lib/python3.7/dist-packages (from ipython>=7.8.0->black[jupyter]) (2.0.10)\n",
            "Collecting jedi>=0.10\n",
            "  Downloading jedi-0.18.1-py2.py3-none-any.whl (1.6 MB)\n",
            "\u001b[K     |████████████████████████████████| 1.6 MB 49.0 MB/s \n",
            "\u001b[?25hRequirement already satisfied: setuptools>=18.5 in /usr/local/lib/python3.7/dist-packages (from ipython>=7.8.0->black[jupyter]) (57.4.0)\n",
            "Requirement already satisfied: pexpect in /usr/local/lib/python3.7/dist-packages (from ipython>=7.8.0->black[jupyter]) (4.8.0)\n",
            "Requirement already satisfied: backcall in /usr/local/lib/python3.7/dist-packages (from ipython>=7.8.0->black[jupyter]) (0.2.0)\n",
            "Requirement already satisfied: traitlets>=4.2 in /usr/local/lib/python3.7/dist-packages (from ipython>=7.8.0->black[jupyter]) (5.1.1)\n",
            "Requirement already satisfied: parso<0.9.0,>=0.8.0 in /usr/local/lib/python3.7/dist-packages (from jedi>=0.10->ipython>=7.8.0->black[jupyter]) (0.8.3)\n",
            "Requirement already satisfied: six>=1.9.0 in /usr/local/lib/python3.7/dist-packages (from prompt-toolkit<2.1.0,>=2.0.0->ipython>=7.8.0->black[jupyter]) (1.15.0)\n",
            "Requirement already satisfied: wcwidth in /usr/local/lib/python3.7/dist-packages (from prompt-toolkit<2.1.0,>=2.0.0->ipython>=7.8.0->black[jupyter]) (0.2.5)\n",
            "Requirement already satisfied: zipp>=0.5 in /usr/local/lib/python3.7/dist-packages (from importlib-metadata->click>=8.0.0->black[jupyter]) (3.10.0)\n",
            "Requirement already satisfied: ptyprocess>=0.5 in /usr/local/lib/python3.7/dist-packages (from pexpect->ipython>=7.8.0->black[jupyter]) (0.7.0)\n",
            "Installing collected packages: typed-ast, platformdirs, pathspec, mypy-extensions, jedi, click, tokenize-rt, black\n",
            "  Attempting uninstall: click\n",
            "    Found existing installation: click 7.1.2\n",
            "    Uninstalling click-7.1.2:\n",
            "      Successfully uninstalled click-7.1.2\n"
          ]
        }
      ]
    },
    {
      "cell_type": "code",
      "source": [
        "!black \"/content/drive/MyDrive/Colab Notebooks/probe.ipynb\""
      ],
      "metadata": {
        "id": "2tB5kakCDS76"
      },
      "execution_count": null,
      "outputs": []
    },
    {
      "cell_type": "markdown",
      "source": [
        "### Probe Class\n",
        "\n",
        "A probe instance can be used to generate predictions from any of our models.\n",
        "\n",
        "It loads (and caches) appropriate tokenizers and models as needed.\n",
        "\n",
        "The only method you need to use is the predict method."
      ],
      "metadata": {
        "id": "2yLqiUSeMG_M"
      }
    },
    {
      "cell_type": "code",
      "source": [
        "class Probe:\n",
        "    \"\"\"\n",
        "    A class used to represent an Awesome Puppies Question Generation Probe\n",
        "    ...\n",
        "\n",
        "    Attributes\n",
        "    ----------\n",
        "    models : dict\n",
        "        a dictionary of cached models\n",
        "    tokenizers : dict\n",
        "        a dictionary of cached tokenizers\n",
        "\n",
        "    Methods\n",
        "    -------\n",
        "    predict(context, answer, base_model='bart', training_dataset='amalgam',\n",
        "            num_beams=1, early_stopping=False, no_repeat_ngram_size=0,\n",
        "            maximum_input_length=1024, maximum_target_length=50)\n",
        "\n",
        "        returns a prediction string\n",
        "\n",
        "    retrieve_tokenizer (base_model='bart')\n",
        "\n",
        "        returns and caches a tokenizer\n",
        "\n",
        "    retrieve_model(base_model='bart', training_dataset='amalgam')\n",
        "\n",
        "        returns and caches a model\n",
        "    \"\"\"\n",
        "\n",
        "    project_root = \"/content/drive/MyDrive/w266 NLP Final Project/\"\n",
        "    model_root = project_root + \"Models/\"\n",
        "\n",
        "    def __init__(self):\n",
        "        self.models = {}\n",
        "        self.tokenizers = {}\n",
        "\n",
        "    def predict(\n",
        "        self,\n",
        "        context,\n",
        "        answer,\n",
        "        base_model=\"bart\",\n",
        "        training_dataset=\"amalgam\",\n",
        "        num_beams=1,\n",
        "        early_stopping=False,\n",
        "        no_repeat_ngram_size=0,\n",
        "        maximum_input_length=1024,\n",
        "        maximum_target_length=50,\n",
        "    ):\n",
        "\n",
        "        tokenizer = self.retrieve_tokenizer(base_model)\n",
        "        model = self.retrieve_model(base_model, training_dataset)\n",
        "\n",
        "        if base_model == \"bart\":\n",
        "            prompt_string = f\"{answer} </s> {context}\"\n",
        "        elif base_model == \"T5\":\n",
        "            prompt_string = f\"generate question: answer: {answer} context: {context}\"\n",
        "        else:\n",
        "            raise ValueError(\"invalid base model\")\n",
        "\n",
        "        inputs = tokenizer(\n",
        "            prompt_string,\n",
        "            return_tensors=\"pt\",\n",
        "            max_length=maximum_input_length,\n",
        "            truncation=True,\n",
        "            padding=True,\n",
        "        )\n",
        "        output_ids = model.generate(\n",
        "            inputs[\"input_ids\"].cuda(),\n",
        "            max_length=maximum_target_length,\n",
        "            num_beams=num_beams,\n",
        "            no_repeat_ngram_size=no_repeat_ngram_size,\n",
        "            early_stopping=early_stopping,\n",
        "        )\n",
        "        prediction = tokenizer.batch_decode(output_ids, skip_special_tokens=True)\n",
        "        return prediction\n",
        "\n",
        "    def retrieve_tokenizer(self, base_model=\"bart\"):\n",
        "        tokenizer = self.tokenizers.get(base_model)\n",
        "        if tokenizer:\n",
        "            return tokenizer\n",
        "\n",
        "        if base_model == \"bart\":\n",
        "            tokenizer = BartTokenizer.from_pretrained(\"facebook/bart-base\")\n",
        "        elif base_model == \"T5\":\n",
        "            tokenizer = T5Tokenizer.from_pretrained(\"google/t5-v1_1-base\")\n",
        "        else:\n",
        "            raise ValueError(\"invalid base model\")\n",
        "\n",
        "        self.tokenizers[base_model] = tokenizer\n",
        "        return tokenizer\n",
        "\n",
        "    def retrieve_model(self, base_model=\"bart\", training_dataset=\"amalgam\"):\n",
        "        model_tuple = (base_model, training_dataset)\n",
        "        model = self.models.get(model_tuple)\n",
        "        if model:\n",
        "            return model\n",
        "\n",
        "        model_dir = f\"{self.model_root}{base_model}_base_pt_long.{training_dataset}\"\n",
        "\n",
        "        if base_model == \"bart\":\n",
        "            print(f\"Loading: {model_dir}\")\n",
        "            model = BartForConditionalGeneration.from_pretrained(model_dir)\n",
        "        elif base_model == \"T5\":\n",
        "            print(f\"Loading: {model_dir}\")\n",
        "            model = T5ForConditionalGeneration.from_pretrained(model_dir)\n",
        "        else:\n",
        "            raise ValueError(\"invalid base model\")\n",
        "\n",
        "        model.to(torch.device(\"cuda:0\"))\n",
        "        self.models[model_tuple] = model\n",
        "        return model"
      ],
      "metadata": {
        "id": "vhw3l992MKIT"
      },
      "execution_count": 7,
      "outputs": []
    },
    {
      "cell_type": "markdown",
      "source": [
        "### Play Time"
      ],
      "metadata": {
        "id": "5cKWRy5W7uf0"
      }
    },
    {
      "cell_type": "code",
      "source": [
        "help(Probe)"
      ],
      "metadata": {
        "colab": {
          "base_uri": "https://localhost:8080/"
        },
        "id": "WcnRlChwCO_y",
        "outputId": "53f74bc6-3912-4bf9-af50-65bd129be996"
      },
      "execution_count": null,
      "outputs": [
        {
          "output_type": "stream",
          "name": "stdout",
          "text": [
            "Help on class Probe in module __main__:\n",
            "\n",
            "class Probe(builtins.object)\n",
            " |  A class used to represent an Awesome Puppies Question Generation Probe\n",
            " |  ...\n",
            " |  \n",
            " |  Attributes\n",
            " |  ----------\n",
            " |  models : dict\n",
            " |      a dictionary of cached models\n",
            " |  tokenizers : dict\n",
            " |      a dictionary of cached tokenizers\n",
            " |  \n",
            " |  Methods\n",
            " |  -------\n",
            " |  predict(context, answer, base_model='bart', training_dataset='amalgam',\n",
            " |          num_beams=1, early_stopping=False, no_repeat_ngram_size=0,\n",
            " |          maximum_input_length=1024, maximum_target_length=50)\n",
            " |  \n",
            " |      returns a prediction string\n",
            " |  \n",
            " |  retrieve_tokenizer (base_model='bart')\n",
            " |  \n",
            " |      returns and caches a tokenizer\n",
            " |  \n",
            " |  retrieve_model(base_model='bart', training_dataset='amalgam')\n",
            " |  \n",
            " |      returns and caches a model\n",
            " |  \n",
            " |  Methods defined here:\n",
            " |  \n",
            " |  __init__(self)\n",
            " |      Initialize self.  See help(type(self)) for accurate signature.\n",
            " |  \n",
            " |  predict(self, context, answer, base_model='bart', training_dataset='amalgam', num_beams=1, early_stopping=False, no_repeat_ngram_size=0, maximum_input_length=1024, maximum_target_length=50)\n",
            " |  \n",
            " |  retrieve_model(self, base_model='bart', training_dataset='amalgam')\n",
            " |  \n",
            " |  retrieve_tokenizer(self, base_model='bart')\n",
            " |  \n",
            " |  ----------------------------------------------------------------------\n",
            " |  Data descriptors defined here:\n",
            " |  \n",
            " |  __dict__\n",
            " |      dictionary for instance variables (if defined)\n",
            " |  \n",
            " |  __weakref__\n",
            " |      list of weak references to the object (if defined)\n",
            " |  \n",
            " |  ----------------------------------------------------------------------\n",
            " |  Data and other attributes defined here:\n",
            " |  \n",
            " |  model_root = '/content/drive/MyDrive/w266 NLP Final Project/Models/'\n",
            " |  \n",
            " |  project_root = '/content/drive/MyDrive/w266 NLP Final Project/'\n",
            "\n"
          ]
        }
      ]
    },
    {
      "cell_type": "code",
      "source": [
        "p = Probe()"
      ],
      "metadata": {
        "id": "0N8OTycDYjWP"
      },
      "execution_count": 8,
      "outputs": []
    },
    {
      "cell_type": "code",
      "source": [
        "context = \"Mary had a little lamb, its fleece was white as snow. Everywhere the child went, the little lamb was sure to go.\"\n",
        "answer = \"Mary\""
      ],
      "metadata": {
        "id": "yUOZT5ze26CP"
      },
      "execution_count": null,
      "outputs": []
    },
    {
      "cell_type": "code",
      "source": [
        "p.predict(context, answer)"
      ],
      "metadata": {
        "colab": {
          "base_uri": "https://localhost:8080/",
          "height": 148,
          "referenced_widgets": [
            "5e072be82d5b4ee98da9eadb4bbe268d",
            "38ec7d2c12fd4cf1b1c655c61a2b1b24",
            "f47b2c76be4b44178971b8272f961442",
            "cea4aca03cde4204b3db3daaa8a7c461",
            "e09fdbfc414e48a9b80b64c0ceacaebc",
            "1ad58be6bb1d487b815a6b38cd240f5f",
            "5300df8a8b4e43599acab19112d2cc0f",
            "75a359a24ddd484780dd2a8bfe0f0e1e",
            "e52bbdafc57b498199d16b516e1c25c4",
            "3d6aee629b114268bab8d0df9a88a96c",
            "6dc6644d59fd4e20a8b214e3fa4ffb66",
            "b113bb56d15c4c50aecdd4cece4af502",
            "9996c6c6c2de49d5baa48dbd25a87df1",
            "b19442458ca04c2cbaa5579e530634c8",
            "f72678073a124640843e8e40fb2880a8",
            "91f5fc12264f44a4ad0aec72e2e18467",
            "995a853d9661490fb7becf8fc76add57",
            "045b2c058a8b4f21b6481f0df578a4b9",
            "e04d097746814e99a1353d39bd0f8699",
            "96b942901cd14a7db4fee453401e0b69",
            "59cc039193704f948b8cc15896fbd950",
            "37df5c988aca45f9a46b58e595d5ed1b",
            "382b280feeaf4275917e839eb03e8e7f",
            "919273b25a3a4a34a0d907b44d958cdb",
            "d5f26758a8474446a6d1bf275ebf0791",
            "ba6ea0cb648b449a9b97c0c4d37b3ff5",
            "f05cce0d4dbf4653947f1645aeb37c3e",
            "141a66e1f1bf4247bc7774d96d73cb8d",
            "fc91b7eb60e34ff5b3da71b5c0a72e21",
            "7f12050971334119bf4a8f4804e6cc52",
            "d23603bdca4b48c79675aedc5fb8b272",
            "b35d0e8e606a49d49305fa0f5e4ba4a0",
            "7be10da533a541a08598d4b7496bd3d9"
          ]
        },
        "id": "tjco55lt3KyI",
        "outputId": "c87880d5-9e5a-43ea-e550-0b893c560c0c"
      },
      "execution_count": null,
      "outputs": [
        {
          "output_type": "display_data",
          "data": {
            "text/plain": [
              "Downloading:   0%|          | 0.00/899k [00:00<?, ?B/s]"
            ],
            "application/vnd.jupyter.widget-view+json": {
              "version_major": 2,
              "version_minor": 0,
              "model_id": "5e072be82d5b4ee98da9eadb4bbe268d"
            }
          },
          "metadata": {}
        },
        {
          "output_type": "display_data",
          "data": {
            "text/plain": [
              "Downloading:   0%|          | 0.00/456k [00:00<?, ?B/s]"
            ],
            "application/vnd.jupyter.widget-view+json": {
              "version_major": 2,
              "version_minor": 0,
              "model_id": "b113bb56d15c4c50aecdd4cece4af502"
            }
          },
          "metadata": {}
        },
        {
          "output_type": "display_data",
          "data": {
            "text/plain": [
              "Downloading:   0%|          | 0.00/1.72k [00:00<?, ?B/s]"
            ],
            "application/vnd.jupyter.widget-view+json": {
              "version_major": 2,
              "version_minor": 0,
              "model_id": "382b280feeaf4275917e839eb03e8e7f"
            }
          },
          "metadata": {}
        },
        {
          "output_type": "stream",
          "name": "stdout",
          "text": [
            "Loading: /content/drive/MyDrive/w266 NLP Final Project/Models/bart_base_pt_long.amalgam\n"
          ]
        },
        {
          "output_type": "execute_result",
          "data": {
            "text/plain": [
              "['who had a little lamb in her hair']"
            ]
          },
          "metadata": {},
          "execution_count": 9
        }
      ]
    },
    {
      "cell_type": "code",
      "source": [
        "p.predict(context, answer, base_model=\"T5\")"
      ],
      "metadata": {
        "colab": {
          "base_uri": "https://localhost:8080/",
          "height": 180,
          "referenced_widgets": [
            "e36b48d241314cd2b5487a6b8a9943c4",
            "a3906e40d70c4bffb0561ef0eae9869d",
            "ec7e272d1487403eaa2cec33a8a1225e",
            "b7dedbbe9e8e43b2826233a37dfbc994",
            "fb6e37cc80f649bcb0f4623649c6f50b",
            "f01f87bf233145fca7398139860c41f9",
            "5e92cf3231c0423bae5f2dcb9681f132",
            "20333002c3654fc98eeea0cb1ad2e515",
            "11a59defe0bf4f6789b17a951bc98697",
            "dad3ddac9c804b62ab7f219ba10317d2",
            "44d66f524bb544f6b75dbbf07ca116e5",
            "9ea76fc9a76d499b8b22e3a301e40da9",
            "4b2f1b7e44f242f5acbee92902a6bf74",
            "8eaa133bf72a434896e77a14894b4b28",
            "3073949f62954e188abf4f7666b772ee",
            "b135c8ca5cd54c979949026b94eab433",
            "d9a1621ab5c44bf282bc8f8f4c0fa7d3",
            "1d0848d76edd4d7980be81639c6ea9a4",
            "a0cecd872fd04b37b86fb582d6432b87",
            "7051395b7a3a46b3bc602859dadf15b2",
            "fcb0ca88f29c4876a986b8fb859e5a08",
            "7047a62b3c704237a7c45219a08084ab",
            "cbeb658c4a0c4ad4b954f5a055e45f3e",
            "63cfc84889594146993d16b181a2619c",
            "91491a12e1414258a0b43b3bf1885656",
            "8e7f1b791d964d7fab82850e37560e4a",
            "fcfe40dd2b42473dbd71de20ab594105",
            "bbbf546cc8cc497793f7fc7c649696f8",
            "3c0b06d1addb476caf40abe5ca1d397d",
            "32afa9b1d8be453cb68a2e4d50319c0a",
            "d9487a07eda841d4bed766fa5cb3c13d",
            "3b1876fdb39f4883bfdf5bc9082339d8",
            "54f597a8e2e84d8595d54a45be16217c",
            "63c261ba682240fe91eded4c18179a55",
            "f8a489bae0424d04b0914cbe1d0bbf63",
            "f8e9417af94d40749f073294fe7d87a7",
            "433bd1859e6e408cbaaa73314137ae70",
            "1e505030af2b42b4920d3af8b5f54831",
            "af027709817244b3a7ddad114a1e8c73",
            "27f92c2005e74bfba7a9549170eeacc4",
            "d02ebac6f3b84613b55bc962dac14993",
            "c5527cf34974476ba666cfc77e3f1883",
            "74c494649d5e4da8aea960a389d80f9e",
            "8f30f918292b4edd877b6c78cc8f1c61"
          ]
        },
        "id": "ubYX-Tsy8e5i",
        "outputId": "ce438339-e7c2-42f3-e8f6-e1f4d7cc1f67"
      },
      "execution_count": null,
      "outputs": [
        {
          "output_type": "display_data",
          "data": {
            "text/plain": [
              "Downloading:   0%|          | 0.00/792k [00:00<?, ?B/s]"
            ],
            "application/vnd.jupyter.widget-view+json": {
              "version_major": 2,
              "version_minor": 0,
              "model_id": "e36b48d241314cd2b5487a6b8a9943c4"
            }
          },
          "metadata": {}
        },
        {
          "output_type": "display_data",
          "data": {
            "text/plain": [
              "Downloading:   0%|          | 0.00/1.79k [00:00<?, ?B/s]"
            ],
            "application/vnd.jupyter.widget-view+json": {
              "version_major": 2,
              "version_minor": 0,
              "model_id": "9ea76fc9a76d499b8b22e3a301e40da9"
            }
          },
          "metadata": {}
        },
        {
          "output_type": "display_data",
          "data": {
            "text/plain": [
              "Downloading:   0%|          | 0.00/1.86k [00:00<?, ?B/s]"
            ],
            "application/vnd.jupyter.widget-view+json": {
              "version_major": 2,
              "version_minor": 0,
              "model_id": "cbeb658c4a0c4ad4b954f5a055e45f3e"
            }
          },
          "metadata": {}
        },
        {
          "output_type": "display_data",
          "data": {
            "text/plain": [
              "Downloading:   0%|          | 0.00/605 [00:00<?, ?B/s]"
            ],
            "application/vnd.jupyter.widget-view+json": {
              "version_major": 2,
              "version_minor": 0,
              "model_id": "63c261ba682240fe91eded4c18179a55"
            }
          },
          "metadata": {}
        },
        {
          "output_type": "stream",
          "name": "stdout",
          "text": [
            "Loading: /content/drive/MyDrive/w266 NLP Final Project/Models/T5_base_pt_long.amalgam\n"
          ]
        },
        {
          "output_type": "execute_result",
          "data": {
            "text/plain": [
              "['who had a little lamb in the bible']"
            ]
          },
          "metadata": {},
          "execution_count": 10
        }
      ]
    },
    {
      "cell_type": "code",
      "source": [
        "p.predict(context, answer, maximum_target_length=8)"
      ],
      "metadata": {
        "colab": {
          "base_uri": "https://localhost:8080/"
        },
        "id": "h7rnP8m18l6s",
        "outputId": "a300b793-0718-47b1-96ca-94da88ff1e1b"
      },
      "execution_count": null,
      "outputs": [
        {
          "output_type": "execute_result",
          "data": {
            "text/plain": [
              "['who had a little lamb']"
            ]
          },
          "metadata": {},
          "execution_count": 11
        }
      ]
    },
    {
      "cell_type": "code",
      "source": [
        "p.predict(context, answer, maximum_target_length=7, base_model=\"T5\")"
      ],
      "metadata": {
        "colab": {
          "base_uri": "https://localhost:8080/"
        },
        "id": "BcqwQwg78wHY",
        "outputId": "c7b4c3e6-4aa0-4f61-d9a0-2dbbfe0ebf89"
      },
      "execution_count": null,
      "outputs": [
        {
          "output_type": "execute_result",
          "data": {
            "text/plain": [
              "['who had a little lamb']"
            ]
          },
          "metadata": {},
          "execution_count": 12
        }
      ]
    },
    {
      "cell_type": "code",
      "source": [
        "p.predict(\n",
        "    context,\n",
        "    answer,\n",
        "    maximum_target_length=8,\n",
        "    base_model=\"bart\",\n",
        "    training_dataset=\"squad\",\n",
        ")"
      ],
      "metadata": {
        "colab": {
          "base_uri": "https://localhost:8080/"
        },
        "id": "DbvNvi3P9FDb",
        "outputId": "99b153de-8d51-4a61-a06f-7216230bc47c"
      },
      "execution_count": null,
      "outputs": [
        {
          "output_type": "stream",
          "name": "stdout",
          "text": [
            "Loading: /content/drive/MyDrive/w266 NLP Final Project/Models/bart_base_pt_long.squad\n"
          ]
        },
        {
          "output_type": "execute_result",
          "data": {
            "text/plain": [
              "['Who had a little lamb']"
            ]
          },
          "metadata": {},
          "execution_count": 13
        }
      ]
    },
    {
      "cell_type": "code",
      "source": [
        "list(p.models.keys())"
      ],
      "metadata": {
        "colab": {
          "base_uri": "https://localhost:8080/"
        },
        "id": "N3BMStyq9Su4",
        "outputId": "25ea2a49-5dba-4892-94c3-c33343e6dc8f"
      },
      "execution_count": null,
      "outputs": [
        {
          "output_type": "execute_result",
          "data": {
            "text/plain": [
              "[('bart', 'amalgam'), ('T5', 'amalgam'), ('bart', 'squad')]"
            ]
          },
          "metadata": {},
          "execution_count": 14
        }
      ]
    },
    {
      "cell_type": "code",
      "source": [
        "context = \"\"\"Once upon a time there were three bears who lived in a house in the forest. \n",
        "There was a great big father bear, a middle-sized mother bear and a tiny baby bear.\n",
        "One morning, their breakfast porridge was too hot to eat, so they decided to go for a walk in the forest. \n",
        "While they were out, a little girl called Goldilocks came through the trees and found their house. \n",
        "She knocked on the door and, as there was no answer, she pushed it open and went inside.\n",
        "In front of her was a table with three chairs, one large chair, one middle-sized chair and one small chair. \n",
        "On the table were three bowls of porridge, one large bowl, one middle-sized bowl and one small bowl – and three spoons.\n",
        "Goldilocks was hungry and the porridge looked good, so she sat in the great big chair, picked up the large spoon and tried some of the porridge from the big bowl. \n",
        "But the chair was very big and very hard, the spoon was heavy and the porridge too hot.\n",
        "Goldilocks jumped off quickly and went over to the middle-sized chair. \n",
        "But this chair was far too soft, and when she tried the porridge from the middle-sized bowl it was too cold. \n",
        "So she went over to the little chair and picked up the smallest spoon and tried some of the porridge from the tiny bowl.\n",
        "This time it was neither too hot nor too cold. \n",
        "It was just right and so delicious that she ate it all up. \n",
        "But she was too heavy for the little chair and it broke in pieces under her weight.\n",
        "Next Goldilocks went upstairs, where she found three beds. \n",
        "There was a great big bed, a middle-sized bed and a tiny little bed. \n",
        "By now she was feeling rather tired. \n",
        "So she climbed into the big bed and lay down. \n",
        "The big bed was very hard and far too big. \n",
        "Then she tried the middle-sized bed, but that was far too soft. \n",
        "So she climbed into the tiny little bed. \n",
        "It was neither too hard nor too soft. \n",
        "In fact, it felt just right, all cosy and warm. \n",
        "And in no time at all Goldilocks fell fast asleep.\n",
        "In a little while, the three bears came back from their walk in the forest. \n",
        "They saw at once that someone had pushed open the door of their house and Father Bear looked around. \n",
        "Then roared with a growly voice.\n",
        "Mother Bear said in a quiet gentle voice.\n",
        "\"Somebody has been sitting in my chair.\n",
        "Then Little Bear said in small squeaky baby voice.\n",
        "\"Somebody has been sitting in my chair and has broken it!\"\n",
        "Then Father Bear looked at his bowl of porridge and saw the spoon in it and he said in his great big growly voice,\n",
        "\"SOMEBODY HAS BEEN EATING MY PORRIDGE\"\n",
        "Then Mother Bear saw that her bowl had a spoon in it, and said in her quiet voice.\n",
        "\"Somebody has been eating my porridge Little Bear looked at his porridge bowl and said in his small squeaky baby voice,\n",
        "\"Somebody has been eating my porridge, and has eaten it all up:-\n",
        "Then the three bears went upstairs, and Father Bear saw at once that his bed was untidy, and he said in his great big growly voice,\n",
        "\"SOMEBODY HAS BEEN SLEEPING IN MY BED!\"\n",
        "Mother Bear saw that her bed, too, had the bedclothes turned back, and she said in her quiet gentle voice,\n",
        "\"Somebody has been sleeping in my bed!\"\n",
        "Then Little Bear looked at his bed and said in his small squeaky baby voice,\n",
        "\"Somebody is sleeping in my bed!\"\n",
        "He squeaked so loudly that Goldilocks woke up with a start. She jumped out of bed, and away she ran, down the stairs and out into the forest. And the three bears never saw her again.\"\"\"\n"
      ],
      "metadata": {
        "id": "b-6_xqYloOHq"
      },
      "execution_count": null,
      "outputs": []
    },
    {
      "cell_type": "code",
      "source": [
        "p.predict(context, \"The forest\")"
      ],
      "metadata": {
        "colab": {
          "base_uri": "https://localhost:8080/"
        },
        "id": "Tz2aab-9octZ",
        "outputId": "fa2caf91-41ea-47f3-cc89-404dbc3a7a30"
      },
      "execution_count": null,
      "outputs": [
        {
          "output_type": "execute_result",
          "data": {
            "text/plain": [
              "['Where did Goldilocks go when she was young?']"
            ]
          },
          "metadata": {},
          "execution_count": 16
        }
      ]
    },
    {
      "cell_type": "code",
      "source": [
        "p.predict(context, \"It broke into pieces.\")"
      ],
      "metadata": {
        "colab": {
          "base_uri": "https://localhost:8080/"
        },
        "id": "ancwSmptonoO",
        "outputId": "4b10f1cc-68f3-4480-a5b7-3b60cc6ebe72"
      },
      "execution_count": null,
      "outputs": [
        {
          "output_type": "execute_result",
          "data": {
            "text/plain": [
              "['What happened to the little chair?']"
            ]
          },
          "metadata": {},
          "execution_count": 17
        }
      ]
    },
    {
      "cell_type": "code",
      "source": [
        "p.predict(context, \"Never again\")"
      ],
      "metadata": {
        "colab": {
          "base_uri": "https://localhost:8080/"
        },
        "id": "mzB5KKr7qCyS",
        "outputId": "679908e4-cfa0-442f-9cf0-396c122b7056"
      },
      "execution_count": null,
      "outputs": [
        {
          "output_type": "execute_result",
          "data": {
            "text/plain": [
              "['How long did it take for Goldilocks to see her?']"
            ]
          },
          "metadata": {},
          "execution_count": 20
        }
      ]
    },
    {
      "cell_type": "code",
      "source": [
        "p.predict(context, \"Too hot\")"
      ],
      "metadata": {
        "colab": {
          "base_uri": "https://localhost:8080/"
        },
        "id": "KR2jtoy0qMti",
        "outputId": "83da9ad4-0d22-48f7-d433-b9365d5bb47a"
      },
      "execution_count": null,
      "outputs": [
        {
          "output_type": "execute_result",
          "data": {
            "text/plain": [
              "['Why did Goldilocks decide to eat porridge?']"
            ]
          },
          "metadata": {},
          "execution_count": 21
        }
      ]
    },
    {
      "cell_type": "code",
      "source": [
        "p.predict(context, \"It was too hard\")"
      ],
      "metadata": {
        "colab": {
          "base_uri": "https://localhost:8080/"
        },
        "id": "vtkxqXqEqUSf",
        "outputId": "51e25ea1-c1d3-4d7d-b2d4-62ae1b6f6d0d"
      },
      "execution_count": null,
      "outputs": [
        {
          "output_type": "execute_result",
          "data": {
            "text/plain": [
              "['Why did Goldilocks want to sit in the big bed?']"
            ]
          },
          "metadata": {},
          "execution_count": 22
        }
      ]
    },
    {
      "cell_type": "code",
      "source": [
        "p.predict(context, \"squeaky\")"
      ],
      "metadata": {
        "colab": {
          "base_uri": "https://localhost:8080/"
        },
        "id": "PcjOkKxuqXeG",
        "outputId": "226cb94c-b5f4-4459-e98c-053874d02ae5"
      },
      "execution_count": null,
      "outputs": [
        {
          "output_type": "execute_result",
          "data": {
            "text/plain": [
              "['What kind of voice did the bear have?']"
            ]
          },
          "metadata": {},
          "execution_count": 23
        }
      ]
    },
    {
      "cell_type": "code",
      "source": [
        "context = \"\"\"BERKELEY - Jackson Sirmon scored on a 37-yard return following a wild play with two fumbles and the Cal football team rallied from a double-digit deficit in the fourth quarter to beat Stanford 27-20 in the 125th edition of the Big Game on Saturday.\n",
        "\"It's really neat... as a defensive player, you don't get a lot of opportunities to score touchdowns and you have to enjoy them when you get them,\" said Sirmon, who played in his first Big Game on Saturday. \"It was very neat especially considering the timing of it all.\"\"\n",
        "The Golden Bears (4-7, 2-6 Pac-12) trailed 17-6 in the fourth quarter when Jack Plummer started the comeback with a 1-yard touchdown pass to Monroe Young.\n",
        "Then things really went crazy on the ensuing possession for Stanford (3-8, 1-8).\n",
        "Backup quarterback Ashton Daniels took a direct snap and ran to his left. He was stripped of the ball by Daniel Scott and Cal's Jeremiah Earby recovered. But Daniels then knocked the ball loose from Earby for a second fumble on the play only to have Sirmon scoop it up and run in to give Cal a 20-17 lead with 9:54 to play.\n",
        "\"It bounced right to me,'' Sirmon said.\" I was in the right place at the right time. All I did that play is I didn't mess it up. The ball came right to me and I ran with it.\n",
        "Stanford had three more drives to rally. But the Cardinal punted twice and Scott came up with an interception with just more than two minutes to play, setting up Jaydn Ott's 1-yard run that sealed the win in front of a sellout crowd of 51,892.\n",
        "\"We know how important this game is to us as a team, our administration and our support staff,\" Travers Family Head Football Coach Justin Wilcox said. \"Our fans and students were just incredible tonight. What an awesome environment.\" \"\"\"\n",
        " "
      ],
      "metadata": {
        "id": "pOA6nT53r0pp"
      },
      "execution_count": 9,
      "outputs": []
    },
    {
      "cell_type": "code",
      "source": [
        "import pprint"
      ],
      "metadata": {
        "id": "107z0mgb8NRw"
      },
      "execution_count": 12,
      "outputs": []
    },
    {
      "cell_type": "code",
      "source": [
        "pprint.pprint(context)"
      ],
      "metadata": {
        "id": "OfkHEXbh8QR-",
        "outputId": "5a368efb-3586-44a1-a42a-3f570e82fa34",
        "colab": {
          "base_uri": "https://localhost:8080/"
        }
      },
      "execution_count": 13,
      "outputs": [
        {
          "output_type": "stream",
          "name": "stdout",
          "text": [
            "('BERKELEY - Jackson Sirmon scored on a 37-yard return following a wild play '\n",
            " 'with two fumbles and the Cal football team rallied from a double-digit '\n",
            " 'deficit in the fourth quarter to beat Stanford 27-20 in the 125th edition of '\n",
            " 'the Big Game on Saturday.\\n'\n",
            " '\"It\\'s really neat... as a defensive player, you don\\'t get a lot of '\n",
            " 'opportunities to score touchdowns and you have to enjoy them when you get '\n",
            " 'them,\" said Sirmon, who played in his first Big Game on Saturday. \"It was '\n",
            " 'very neat especially considering the timing of it all.\"\"\\n'\n",
            " 'The Golden Bears (4-7, 2-6 Pac-12) trailed 17-6 in the fourth quarter when '\n",
            " 'Jack Plummer started the comeback with a 1-yard touchdown pass to Monroe '\n",
            " 'Young.\\n'\n",
            " 'Then things really went crazy on the ensuing possession for Stanford (3-8, '\n",
            " '1-8).\\n'\n",
            " 'Backup quarterback Ashton Daniels took a direct snap and ran to his left. He '\n",
            " \"was stripped of the ball by Daniel Scott and Cal's Jeremiah Earby recovered. \"\n",
            " 'But Daniels then knocked the ball loose from Earby for a second fumble on '\n",
            " 'the play only to have Sirmon scoop it up and run in to give Cal a 20-17 lead '\n",
            " 'with 9:54 to play.\\n'\n",
            " '\"It bounced right to me,\\'\\' Sirmon said.\" I was in the right place at the '\n",
            " \"right time. All I did that play is I didn't mess it up. The ball came right \"\n",
            " 'to me and I ran with it.\\n'\n",
            " 'Stanford had three more drives to rally. But the Cardinal punted twice and '\n",
            " 'Scott came up with an interception with just more than two minutes to play, '\n",
            " \"setting up Jaydn Ott's 1-yard run that sealed the win in front of a sellout \"\n",
            " 'crowd of 51,892.\\n'\n",
            " '\"We know how important this game is to us as a team, our administration and '\n",
            " 'our support staff,\" Travers Family Head Football Coach Justin Wilcox said. '\n",
            " '\"Our fans and students were just incredible tonight. What an awesome '\n",
            " 'environment.\" ')\n"
          ]
        }
      ]
    },
    {
      "cell_type": "code",
      "source": [
        "p.predict(context, \"Jakson Sirmon\")"
      ],
      "metadata": {
        "id": "VA3iDAv27M0q",
        "outputId": "da6fb7e1-13d5-4ee6-9058-f3c0364e6ca6",
        "colab": {
          "base_uri": "https://localhost:8080/",
          "height": 148,
          "referenced_widgets": [
            "1ef369d97f954da29c9da6d2d7a06a6b",
            "ea3b4aa6c6fb43fc859084aac8dae949",
            "828dedeb512647578b29ba98cd9e572b",
            "27ab604f51ae4b83b8b9838c263a285f",
            "ca4b5e1d1ca148228f6f56d6d1847921",
            "d6b506a5ed264d0b8f08870d9aa7804d",
            "e7f8197ed81640c397f44d8acad454ea",
            "76f4f16f6f53467c9c27aec110ad7043",
            "6d070191ce944600bd79ebda88c2c121",
            "fbb052fea73848bfb435993880fc7d2d",
            "92a06f6f9e9e49039472ceb5eefff41e",
            "56172d3ec379412dabca3ef61a4233fc",
            "588bb44ff1954e628aa9d8c4a165c532",
            "98b6e55a71684b60ab23009224329f52",
            "d9640f0d5bff431abfe61da046ece1bd",
            "d1db74c8e2ed4700afc0e06f965f643a",
            "096c13535a0a4138911bf959e0185c48",
            "f91f602f365c479a8270debee11fb80d",
            "a7b813175a8042819dcaf38e061f2a37",
            "50312e7453a84ab29dc1f7a2bf85d4a8",
            "ba761633b792449bba813cf2b7d41a4b",
            "ec8769312afb4c5381c794e453bf1005",
            "97c619995d9d4909971eabb49e3357c5",
            "58c7f5aa07444ce2a53e67ad6537e83b",
            "129303c4b32746f78bbe3c0bcd72b34e",
            "f1441c9e857b465584d43118b3460b5c",
            "22cdc53f794a4a969e0a0ef7655e74a3",
            "a72b259b91554610b234627a1d8dc31f",
            "af2df31ea7fe42f09e88493e64bf196d",
            "9919e396ebc74c239bf62eefb5e5123c",
            "9c5cfc06a9ad493e875a264c565d6619",
            "11716b05bded4fbd95e2994fb15c9d09",
            "535628ca9c5148a29b6c6ca881440413"
          ]
        }
      },
      "execution_count": 11,
      "outputs": [
        {
          "output_type": "display_data",
          "data": {
            "text/plain": [
              "Downloading:   0%|          | 0.00/899k [00:00<?, ?B/s]"
            ],
            "application/vnd.jupyter.widget-view+json": {
              "version_major": 2,
              "version_minor": 0,
              "model_id": "1ef369d97f954da29c9da6d2d7a06a6b"
            }
          },
          "metadata": {}
        },
        {
          "output_type": "display_data",
          "data": {
            "text/plain": [
              "Downloading:   0%|          | 0.00/456k [00:00<?, ?B/s]"
            ],
            "application/vnd.jupyter.widget-view+json": {
              "version_major": 2,
              "version_minor": 0,
              "model_id": "56172d3ec379412dabca3ef61a4233fc"
            }
          },
          "metadata": {}
        },
        {
          "output_type": "display_data",
          "data": {
            "text/plain": [
              "Downloading:   0%|          | 0.00/1.72k [00:00<?, ?B/s]"
            ],
            "application/vnd.jupyter.widget-view+json": {
              "version_major": 2,
              "version_minor": 0,
              "model_id": "97c619995d9d4909971eabb49e3357c5"
            }
          },
          "metadata": {}
        },
        {
          "output_type": "stream",
          "name": "stdout",
          "text": [
            "Loading: /content/drive/MyDrive/w266 NLP Final Project/Models/bart_base_pt_long.amalgam\n"
          ]
        },
        {
          "output_type": "execute_result",
          "data": {
            "text/plain": [
              "['Who scored a 37-yard return in the Big Game?']"
            ]
          },
          "metadata": {},
          "execution_count": 11
        }
      ]
    },
    {
      "cell_type": "code",
      "source": [
        "p.predict(context, \"Stanford\")"
      ],
      "metadata": {
        "id": "MMmLkdw97PAh",
        "outputId": "bb33441d-0fca-4e22-9845-9e89c5a23963",
        "colab": {
          "base_uri": "https://localhost:8080/"
        }
      },
      "execution_count": 14,
      "outputs": [
        {
          "output_type": "execute_result",
          "data": {
            "text/plain": [
              "['who did cal beat in the big game']"
            ]
          },
          "metadata": {},
          "execution_count": 14
        }
      ]
    },
    {
      "cell_type": "code",
      "source": [
        "p.predict(context, \"Jaydn Ott\")"
      ],
      "metadata": {
        "id": "PPesn12O92FI",
        "outputId": "0166fe7f-a852-4ff9-df6f-df8d3d9615f1",
        "colab": {
          "base_uri": "https://localhost:8080/"
        }
      },
      "execution_count": 15,
      "outputs": [
        {
          "output_type": "execute_result",
          "data": {
            "text/plain": [
              "['Who scored the winning touchdown in the Big Game?']"
            ]
          },
          "metadata": {},
          "execution_count": 15
        }
      ]
    },
    {
      "cell_type": "code",
      "source": [
        "p.predict(context, \"51,892\")"
      ],
      "metadata": {
        "id": "3DFy2xOQ_YuS",
        "outputId": "26facd08-289b-42de-f5dd-699a206c7d91",
        "colab": {
          "base_uri": "https://localhost:8080/"
        }
      },
      "execution_count": 16,
      "outputs": [
        {
          "output_type": "execute_result",
          "data": {
            "text/plain": [
              "['How many people attended the game?']"
            ]
          },
          "metadata": {},
          "execution_count": 16
        }
      ]
    },
    {
      "cell_type": "code",
      "source": [
        "p.predict(context, \"125\")"
      ],
      "metadata": {
        "id": "sNr3phRdBS7h",
        "outputId": "dd24673d-6310-4d1d-83c4-6dd0562e1d18",
        "colab": {
          "base_uri": "https://localhost:8080/"
        }
      },
      "execution_count": 17,
      "outputs": [
        {
          "output_type": "execute_result",
          "data": {
            "text/plain": [
              "['How many games did Cal win in the Big Game?']"
            ]
          },
          "metadata": {},
          "execution_count": 17
        }
      ]
    },
    {
      "cell_type": "code",
      "source": [
        "p.predict(context, \"20-17\")"
      ],
      "metadata": {
        "id": "fV_icn8sBhws",
        "outputId": "e8af6bb5-3db5-4abc-f69d-73e93f3e24ec",
        "colab": {
          "base_uri": "https://localhost:8080/"
        }
      },
      "execution_count": 18,
      "outputs": [
        {
          "output_type": "execute_result",
          "data": {
            "text/plain": [
              "['What was the score of the game that was won by the Golden Bears?']"
            ]
          },
          "metadata": {},
          "execution_count": 18
        }
      ]
    },
    {
      "cell_type": "code",
      "source": [
        "p.predict(context, \"20-20\")"
      ],
      "metadata": {
        "id": "Jf3c-fVSBodc",
        "outputId": "37d78810-68fa-4450-ac73-106214cf4918",
        "colab": {
          "base_uri": "https://localhost:8080/"
        }
      },
      "execution_count": 19,
      "outputs": [
        {
          "output_type": "execute_result",
          "data": {
            "text/plain": [
              "[\"What was the score of the game that was won by Cal's Jackson Sirmon?\"]"
            ]
          },
          "metadata": {},
          "execution_count": 19
        }
      ]
    },
    {
      "cell_type": "code",
      "source": [],
      "metadata": {
        "id": "fwR_i3rCB0wb"
      },
      "execution_count": null,
      "outputs": []
    }
  ],
  "metadata": {
    "colab": {
      "provenance": [],
      "include_colab_link": true
    },
    "gpuClass": "standard",
    "kernelspec": {
      "display_name": "Python [conda env:gpu]",
      "language": "python",
      "name": "conda-env-gpu-py"
    },
    "language_info": {
      "codemirror_mode": {
        "name": "ipython",
        "version": 3
      },
      "file_extension": ".py",
      "mimetype": "text/x-python",
      "name": "python",
      "nbconvert_exporter": "python",
      "pygments_lexer": "ipython3",
      "version": "3.9.15"
    },
    "accelerator": "GPU",
    "widgets": {
      "application/vnd.jupyter.widget-state+json": {
        "5e072be82d5b4ee98da9eadb4bbe268d": {
          "model_module": "@jupyter-widgets/controls",
          "model_name": "HBoxModel",
          "model_module_version": "1.5.0",
          "state": {
            "_dom_classes": [],
            "_model_module": "@jupyter-widgets/controls",
            "_model_module_version": "1.5.0",
            "_model_name": "HBoxModel",
            "_view_count": null,
            "_view_module": "@jupyter-widgets/controls",
            "_view_module_version": "1.5.0",
            "_view_name": "HBoxView",
            "box_style": "",
            "children": [
              "IPY_MODEL_38ec7d2c12fd4cf1b1c655c61a2b1b24",
              "IPY_MODEL_f47b2c76be4b44178971b8272f961442",
              "IPY_MODEL_cea4aca03cde4204b3db3daaa8a7c461"
            ],
            "layout": "IPY_MODEL_e09fdbfc414e48a9b80b64c0ceacaebc"
          }
        },
        "38ec7d2c12fd4cf1b1c655c61a2b1b24": {
          "model_module": "@jupyter-widgets/controls",
          "model_name": "HTMLModel",
          "model_module_version": "1.5.0",
          "state": {
            "_dom_classes": [],
            "_model_module": "@jupyter-widgets/controls",
            "_model_module_version": "1.5.0",
            "_model_name": "HTMLModel",
            "_view_count": null,
            "_view_module": "@jupyter-widgets/controls",
            "_view_module_version": "1.5.0",
            "_view_name": "HTMLView",
            "description": "",
            "description_tooltip": null,
            "layout": "IPY_MODEL_1ad58be6bb1d487b815a6b38cd240f5f",
            "placeholder": "​",
            "style": "IPY_MODEL_5300df8a8b4e43599acab19112d2cc0f",
            "value": "Downloading: 100%"
          }
        },
        "f47b2c76be4b44178971b8272f961442": {
          "model_module": "@jupyter-widgets/controls",
          "model_name": "FloatProgressModel",
          "model_module_version": "1.5.0",
          "state": {
            "_dom_classes": [],
            "_model_module": "@jupyter-widgets/controls",
            "_model_module_version": "1.5.0",
            "_model_name": "FloatProgressModel",
            "_view_count": null,
            "_view_module": "@jupyter-widgets/controls",
            "_view_module_version": "1.5.0",
            "_view_name": "ProgressView",
            "bar_style": "success",
            "description": "",
            "description_tooltip": null,
            "layout": "IPY_MODEL_75a359a24ddd484780dd2a8bfe0f0e1e",
            "max": 898823,
            "min": 0,
            "orientation": "horizontal",
            "style": "IPY_MODEL_e52bbdafc57b498199d16b516e1c25c4",
            "value": 898823
          }
        },
        "cea4aca03cde4204b3db3daaa8a7c461": {
          "model_module": "@jupyter-widgets/controls",
          "model_name": "HTMLModel",
          "model_module_version": "1.5.0",
          "state": {
            "_dom_classes": [],
            "_model_module": "@jupyter-widgets/controls",
            "_model_module_version": "1.5.0",
            "_model_name": "HTMLModel",
            "_view_count": null,
            "_view_module": "@jupyter-widgets/controls",
            "_view_module_version": "1.5.0",
            "_view_name": "HTMLView",
            "description": "",
            "description_tooltip": null,
            "layout": "IPY_MODEL_3d6aee629b114268bab8d0df9a88a96c",
            "placeholder": "​",
            "style": "IPY_MODEL_6dc6644d59fd4e20a8b214e3fa4ffb66",
            "value": " 899k/899k [00:00&lt;00:00, 12.5MB/s]"
          }
        },
        "e09fdbfc414e48a9b80b64c0ceacaebc": {
          "model_module": "@jupyter-widgets/base",
          "model_name": "LayoutModel",
          "model_module_version": "1.2.0",
          "state": {
            "_model_module": "@jupyter-widgets/base",
            "_model_module_version": "1.2.0",
            "_model_name": "LayoutModel",
            "_view_count": null,
            "_view_module": "@jupyter-widgets/base",
            "_view_module_version": "1.2.0",
            "_view_name": "LayoutView",
            "align_content": null,
            "align_items": null,
            "align_self": null,
            "border": null,
            "bottom": null,
            "display": null,
            "flex": null,
            "flex_flow": null,
            "grid_area": null,
            "grid_auto_columns": null,
            "grid_auto_flow": null,
            "grid_auto_rows": null,
            "grid_column": null,
            "grid_gap": null,
            "grid_row": null,
            "grid_template_areas": null,
            "grid_template_columns": null,
            "grid_template_rows": null,
            "height": null,
            "justify_content": null,
            "justify_items": null,
            "left": null,
            "margin": null,
            "max_height": null,
            "max_width": null,
            "min_height": null,
            "min_width": null,
            "object_fit": null,
            "object_position": null,
            "order": null,
            "overflow": null,
            "overflow_x": null,
            "overflow_y": null,
            "padding": null,
            "right": null,
            "top": null,
            "visibility": null,
            "width": null
          }
        },
        "1ad58be6bb1d487b815a6b38cd240f5f": {
          "model_module": "@jupyter-widgets/base",
          "model_name": "LayoutModel",
          "model_module_version": "1.2.0",
          "state": {
            "_model_module": "@jupyter-widgets/base",
            "_model_module_version": "1.2.0",
            "_model_name": "LayoutModel",
            "_view_count": null,
            "_view_module": "@jupyter-widgets/base",
            "_view_module_version": "1.2.0",
            "_view_name": "LayoutView",
            "align_content": null,
            "align_items": null,
            "align_self": null,
            "border": null,
            "bottom": null,
            "display": null,
            "flex": null,
            "flex_flow": null,
            "grid_area": null,
            "grid_auto_columns": null,
            "grid_auto_flow": null,
            "grid_auto_rows": null,
            "grid_column": null,
            "grid_gap": null,
            "grid_row": null,
            "grid_template_areas": null,
            "grid_template_columns": null,
            "grid_template_rows": null,
            "height": null,
            "justify_content": null,
            "justify_items": null,
            "left": null,
            "margin": null,
            "max_height": null,
            "max_width": null,
            "min_height": null,
            "min_width": null,
            "object_fit": null,
            "object_position": null,
            "order": null,
            "overflow": null,
            "overflow_x": null,
            "overflow_y": null,
            "padding": null,
            "right": null,
            "top": null,
            "visibility": null,
            "width": null
          }
        },
        "5300df8a8b4e43599acab19112d2cc0f": {
          "model_module": "@jupyter-widgets/controls",
          "model_name": "DescriptionStyleModel",
          "model_module_version": "1.5.0",
          "state": {
            "_model_module": "@jupyter-widgets/controls",
            "_model_module_version": "1.5.0",
            "_model_name": "DescriptionStyleModel",
            "_view_count": null,
            "_view_module": "@jupyter-widgets/base",
            "_view_module_version": "1.2.0",
            "_view_name": "StyleView",
            "description_width": ""
          }
        },
        "75a359a24ddd484780dd2a8bfe0f0e1e": {
          "model_module": "@jupyter-widgets/base",
          "model_name": "LayoutModel",
          "model_module_version": "1.2.0",
          "state": {
            "_model_module": "@jupyter-widgets/base",
            "_model_module_version": "1.2.0",
            "_model_name": "LayoutModel",
            "_view_count": null,
            "_view_module": "@jupyter-widgets/base",
            "_view_module_version": "1.2.0",
            "_view_name": "LayoutView",
            "align_content": null,
            "align_items": null,
            "align_self": null,
            "border": null,
            "bottom": null,
            "display": null,
            "flex": null,
            "flex_flow": null,
            "grid_area": null,
            "grid_auto_columns": null,
            "grid_auto_flow": null,
            "grid_auto_rows": null,
            "grid_column": null,
            "grid_gap": null,
            "grid_row": null,
            "grid_template_areas": null,
            "grid_template_columns": null,
            "grid_template_rows": null,
            "height": null,
            "justify_content": null,
            "justify_items": null,
            "left": null,
            "margin": null,
            "max_height": null,
            "max_width": null,
            "min_height": null,
            "min_width": null,
            "object_fit": null,
            "object_position": null,
            "order": null,
            "overflow": null,
            "overflow_x": null,
            "overflow_y": null,
            "padding": null,
            "right": null,
            "top": null,
            "visibility": null,
            "width": null
          }
        },
        "e52bbdafc57b498199d16b516e1c25c4": {
          "model_module": "@jupyter-widgets/controls",
          "model_name": "ProgressStyleModel",
          "model_module_version": "1.5.0",
          "state": {
            "_model_module": "@jupyter-widgets/controls",
            "_model_module_version": "1.5.0",
            "_model_name": "ProgressStyleModel",
            "_view_count": null,
            "_view_module": "@jupyter-widgets/base",
            "_view_module_version": "1.2.0",
            "_view_name": "StyleView",
            "bar_color": null,
            "description_width": ""
          }
        },
        "3d6aee629b114268bab8d0df9a88a96c": {
          "model_module": "@jupyter-widgets/base",
          "model_name": "LayoutModel",
          "model_module_version": "1.2.0",
          "state": {
            "_model_module": "@jupyter-widgets/base",
            "_model_module_version": "1.2.0",
            "_model_name": "LayoutModel",
            "_view_count": null,
            "_view_module": "@jupyter-widgets/base",
            "_view_module_version": "1.2.0",
            "_view_name": "LayoutView",
            "align_content": null,
            "align_items": null,
            "align_self": null,
            "border": null,
            "bottom": null,
            "display": null,
            "flex": null,
            "flex_flow": null,
            "grid_area": null,
            "grid_auto_columns": null,
            "grid_auto_flow": null,
            "grid_auto_rows": null,
            "grid_column": null,
            "grid_gap": null,
            "grid_row": null,
            "grid_template_areas": null,
            "grid_template_columns": null,
            "grid_template_rows": null,
            "height": null,
            "justify_content": null,
            "justify_items": null,
            "left": null,
            "margin": null,
            "max_height": null,
            "max_width": null,
            "min_height": null,
            "min_width": null,
            "object_fit": null,
            "object_position": null,
            "order": null,
            "overflow": null,
            "overflow_x": null,
            "overflow_y": null,
            "padding": null,
            "right": null,
            "top": null,
            "visibility": null,
            "width": null
          }
        },
        "6dc6644d59fd4e20a8b214e3fa4ffb66": {
          "model_module": "@jupyter-widgets/controls",
          "model_name": "DescriptionStyleModel",
          "model_module_version": "1.5.0",
          "state": {
            "_model_module": "@jupyter-widgets/controls",
            "_model_module_version": "1.5.0",
            "_model_name": "DescriptionStyleModel",
            "_view_count": null,
            "_view_module": "@jupyter-widgets/base",
            "_view_module_version": "1.2.0",
            "_view_name": "StyleView",
            "description_width": ""
          }
        },
        "b113bb56d15c4c50aecdd4cece4af502": {
          "model_module": "@jupyter-widgets/controls",
          "model_name": "HBoxModel",
          "model_module_version": "1.5.0",
          "state": {
            "_dom_classes": [],
            "_model_module": "@jupyter-widgets/controls",
            "_model_module_version": "1.5.0",
            "_model_name": "HBoxModel",
            "_view_count": null,
            "_view_module": "@jupyter-widgets/controls",
            "_view_module_version": "1.5.0",
            "_view_name": "HBoxView",
            "box_style": "",
            "children": [
              "IPY_MODEL_9996c6c6c2de49d5baa48dbd25a87df1",
              "IPY_MODEL_b19442458ca04c2cbaa5579e530634c8",
              "IPY_MODEL_f72678073a124640843e8e40fb2880a8"
            ],
            "layout": "IPY_MODEL_91f5fc12264f44a4ad0aec72e2e18467"
          }
        },
        "9996c6c6c2de49d5baa48dbd25a87df1": {
          "model_module": "@jupyter-widgets/controls",
          "model_name": "HTMLModel",
          "model_module_version": "1.5.0",
          "state": {
            "_dom_classes": [],
            "_model_module": "@jupyter-widgets/controls",
            "_model_module_version": "1.5.0",
            "_model_name": "HTMLModel",
            "_view_count": null,
            "_view_module": "@jupyter-widgets/controls",
            "_view_module_version": "1.5.0",
            "_view_name": "HTMLView",
            "description": "",
            "description_tooltip": null,
            "layout": "IPY_MODEL_995a853d9661490fb7becf8fc76add57",
            "placeholder": "​",
            "style": "IPY_MODEL_045b2c058a8b4f21b6481f0df578a4b9",
            "value": "Downloading: 100%"
          }
        },
        "b19442458ca04c2cbaa5579e530634c8": {
          "model_module": "@jupyter-widgets/controls",
          "model_name": "FloatProgressModel",
          "model_module_version": "1.5.0",
          "state": {
            "_dom_classes": [],
            "_model_module": "@jupyter-widgets/controls",
            "_model_module_version": "1.5.0",
            "_model_name": "FloatProgressModel",
            "_view_count": null,
            "_view_module": "@jupyter-widgets/controls",
            "_view_module_version": "1.5.0",
            "_view_name": "ProgressView",
            "bar_style": "success",
            "description": "",
            "description_tooltip": null,
            "layout": "IPY_MODEL_e04d097746814e99a1353d39bd0f8699",
            "max": 456318,
            "min": 0,
            "orientation": "horizontal",
            "style": "IPY_MODEL_96b942901cd14a7db4fee453401e0b69",
            "value": 456318
          }
        },
        "f72678073a124640843e8e40fb2880a8": {
          "model_module": "@jupyter-widgets/controls",
          "model_name": "HTMLModel",
          "model_module_version": "1.5.0",
          "state": {
            "_dom_classes": [],
            "_model_module": "@jupyter-widgets/controls",
            "_model_module_version": "1.5.0",
            "_model_name": "HTMLModel",
            "_view_count": null,
            "_view_module": "@jupyter-widgets/controls",
            "_view_module_version": "1.5.0",
            "_view_name": "HTMLView",
            "description": "",
            "description_tooltip": null,
            "layout": "IPY_MODEL_59cc039193704f948b8cc15896fbd950",
            "placeholder": "​",
            "style": "IPY_MODEL_37df5c988aca45f9a46b58e595d5ed1b",
            "value": " 456k/456k [00:00&lt;00:00, 9.02MB/s]"
          }
        },
        "91f5fc12264f44a4ad0aec72e2e18467": {
          "model_module": "@jupyter-widgets/base",
          "model_name": "LayoutModel",
          "model_module_version": "1.2.0",
          "state": {
            "_model_module": "@jupyter-widgets/base",
            "_model_module_version": "1.2.0",
            "_model_name": "LayoutModel",
            "_view_count": null,
            "_view_module": "@jupyter-widgets/base",
            "_view_module_version": "1.2.0",
            "_view_name": "LayoutView",
            "align_content": null,
            "align_items": null,
            "align_self": null,
            "border": null,
            "bottom": null,
            "display": null,
            "flex": null,
            "flex_flow": null,
            "grid_area": null,
            "grid_auto_columns": null,
            "grid_auto_flow": null,
            "grid_auto_rows": null,
            "grid_column": null,
            "grid_gap": null,
            "grid_row": null,
            "grid_template_areas": null,
            "grid_template_columns": null,
            "grid_template_rows": null,
            "height": null,
            "justify_content": null,
            "justify_items": null,
            "left": null,
            "margin": null,
            "max_height": null,
            "max_width": null,
            "min_height": null,
            "min_width": null,
            "object_fit": null,
            "object_position": null,
            "order": null,
            "overflow": null,
            "overflow_x": null,
            "overflow_y": null,
            "padding": null,
            "right": null,
            "top": null,
            "visibility": null,
            "width": null
          }
        },
        "995a853d9661490fb7becf8fc76add57": {
          "model_module": "@jupyter-widgets/base",
          "model_name": "LayoutModel",
          "model_module_version": "1.2.0",
          "state": {
            "_model_module": "@jupyter-widgets/base",
            "_model_module_version": "1.2.0",
            "_model_name": "LayoutModel",
            "_view_count": null,
            "_view_module": "@jupyter-widgets/base",
            "_view_module_version": "1.2.0",
            "_view_name": "LayoutView",
            "align_content": null,
            "align_items": null,
            "align_self": null,
            "border": null,
            "bottom": null,
            "display": null,
            "flex": null,
            "flex_flow": null,
            "grid_area": null,
            "grid_auto_columns": null,
            "grid_auto_flow": null,
            "grid_auto_rows": null,
            "grid_column": null,
            "grid_gap": null,
            "grid_row": null,
            "grid_template_areas": null,
            "grid_template_columns": null,
            "grid_template_rows": null,
            "height": null,
            "justify_content": null,
            "justify_items": null,
            "left": null,
            "margin": null,
            "max_height": null,
            "max_width": null,
            "min_height": null,
            "min_width": null,
            "object_fit": null,
            "object_position": null,
            "order": null,
            "overflow": null,
            "overflow_x": null,
            "overflow_y": null,
            "padding": null,
            "right": null,
            "top": null,
            "visibility": null,
            "width": null
          }
        },
        "045b2c058a8b4f21b6481f0df578a4b9": {
          "model_module": "@jupyter-widgets/controls",
          "model_name": "DescriptionStyleModel",
          "model_module_version": "1.5.0",
          "state": {
            "_model_module": "@jupyter-widgets/controls",
            "_model_module_version": "1.5.0",
            "_model_name": "DescriptionStyleModel",
            "_view_count": null,
            "_view_module": "@jupyter-widgets/base",
            "_view_module_version": "1.2.0",
            "_view_name": "StyleView",
            "description_width": ""
          }
        },
        "e04d097746814e99a1353d39bd0f8699": {
          "model_module": "@jupyter-widgets/base",
          "model_name": "LayoutModel",
          "model_module_version": "1.2.0",
          "state": {
            "_model_module": "@jupyter-widgets/base",
            "_model_module_version": "1.2.0",
            "_model_name": "LayoutModel",
            "_view_count": null,
            "_view_module": "@jupyter-widgets/base",
            "_view_module_version": "1.2.0",
            "_view_name": "LayoutView",
            "align_content": null,
            "align_items": null,
            "align_self": null,
            "border": null,
            "bottom": null,
            "display": null,
            "flex": null,
            "flex_flow": null,
            "grid_area": null,
            "grid_auto_columns": null,
            "grid_auto_flow": null,
            "grid_auto_rows": null,
            "grid_column": null,
            "grid_gap": null,
            "grid_row": null,
            "grid_template_areas": null,
            "grid_template_columns": null,
            "grid_template_rows": null,
            "height": null,
            "justify_content": null,
            "justify_items": null,
            "left": null,
            "margin": null,
            "max_height": null,
            "max_width": null,
            "min_height": null,
            "min_width": null,
            "object_fit": null,
            "object_position": null,
            "order": null,
            "overflow": null,
            "overflow_x": null,
            "overflow_y": null,
            "padding": null,
            "right": null,
            "top": null,
            "visibility": null,
            "width": null
          }
        },
        "96b942901cd14a7db4fee453401e0b69": {
          "model_module": "@jupyter-widgets/controls",
          "model_name": "ProgressStyleModel",
          "model_module_version": "1.5.0",
          "state": {
            "_model_module": "@jupyter-widgets/controls",
            "_model_module_version": "1.5.0",
            "_model_name": "ProgressStyleModel",
            "_view_count": null,
            "_view_module": "@jupyter-widgets/base",
            "_view_module_version": "1.2.0",
            "_view_name": "StyleView",
            "bar_color": null,
            "description_width": ""
          }
        },
        "59cc039193704f948b8cc15896fbd950": {
          "model_module": "@jupyter-widgets/base",
          "model_name": "LayoutModel",
          "model_module_version": "1.2.0",
          "state": {
            "_model_module": "@jupyter-widgets/base",
            "_model_module_version": "1.2.0",
            "_model_name": "LayoutModel",
            "_view_count": null,
            "_view_module": "@jupyter-widgets/base",
            "_view_module_version": "1.2.0",
            "_view_name": "LayoutView",
            "align_content": null,
            "align_items": null,
            "align_self": null,
            "border": null,
            "bottom": null,
            "display": null,
            "flex": null,
            "flex_flow": null,
            "grid_area": null,
            "grid_auto_columns": null,
            "grid_auto_flow": null,
            "grid_auto_rows": null,
            "grid_column": null,
            "grid_gap": null,
            "grid_row": null,
            "grid_template_areas": null,
            "grid_template_columns": null,
            "grid_template_rows": null,
            "height": null,
            "justify_content": null,
            "justify_items": null,
            "left": null,
            "margin": null,
            "max_height": null,
            "max_width": null,
            "min_height": null,
            "min_width": null,
            "object_fit": null,
            "object_position": null,
            "order": null,
            "overflow": null,
            "overflow_x": null,
            "overflow_y": null,
            "padding": null,
            "right": null,
            "top": null,
            "visibility": null,
            "width": null
          }
        },
        "37df5c988aca45f9a46b58e595d5ed1b": {
          "model_module": "@jupyter-widgets/controls",
          "model_name": "DescriptionStyleModel",
          "model_module_version": "1.5.0",
          "state": {
            "_model_module": "@jupyter-widgets/controls",
            "_model_module_version": "1.5.0",
            "_model_name": "DescriptionStyleModel",
            "_view_count": null,
            "_view_module": "@jupyter-widgets/base",
            "_view_module_version": "1.2.0",
            "_view_name": "StyleView",
            "description_width": ""
          }
        },
        "382b280feeaf4275917e839eb03e8e7f": {
          "model_module": "@jupyter-widgets/controls",
          "model_name": "HBoxModel",
          "model_module_version": "1.5.0",
          "state": {
            "_dom_classes": [],
            "_model_module": "@jupyter-widgets/controls",
            "_model_module_version": "1.5.0",
            "_model_name": "HBoxModel",
            "_view_count": null,
            "_view_module": "@jupyter-widgets/controls",
            "_view_module_version": "1.5.0",
            "_view_name": "HBoxView",
            "box_style": "",
            "children": [
              "IPY_MODEL_919273b25a3a4a34a0d907b44d958cdb",
              "IPY_MODEL_d5f26758a8474446a6d1bf275ebf0791",
              "IPY_MODEL_ba6ea0cb648b449a9b97c0c4d37b3ff5"
            ],
            "layout": "IPY_MODEL_f05cce0d4dbf4653947f1645aeb37c3e"
          }
        },
        "919273b25a3a4a34a0d907b44d958cdb": {
          "model_module": "@jupyter-widgets/controls",
          "model_name": "HTMLModel",
          "model_module_version": "1.5.0",
          "state": {
            "_dom_classes": [],
            "_model_module": "@jupyter-widgets/controls",
            "_model_module_version": "1.5.0",
            "_model_name": "HTMLModel",
            "_view_count": null,
            "_view_module": "@jupyter-widgets/controls",
            "_view_module_version": "1.5.0",
            "_view_name": "HTMLView",
            "description": "",
            "description_tooltip": null,
            "layout": "IPY_MODEL_141a66e1f1bf4247bc7774d96d73cb8d",
            "placeholder": "​",
            "style": "IPY_MODEL_fc91b7eb60e34ff5b3da71b5c0a72e21",
            "value": "Downloading: 100%"
          }
        },
        "d5f26758a8474446a6d1bf275ebf0791": {
          "model_module": "@jupyter-widgets/controls",
          "model_name": "FloatProgressModel",
          "model_module_version": "1.5.0",
          "state": {
            "_dom_classes": [],
            "_model_module": "@jupyter-widgets/controls",
            "_model_module_version": "1.5.0",
            "_model_name": "FloatProgressModel",
            "_view_count": null,
            "_view_module": "@jupyter-widgets/controls",
            "_view_module_version": "1.5.0",
            "_view_name": "ProgressView",
            "bar_style": "success",
            "description": "",
            "description_tooltip": null,
            "layout": "IPY_MODEL_7f12050971334119bf4a8f4804e6cc52",
            "max": 1716,
            "min": 0,
            "orientation": "horizontal",
            "style": "IPY_MODEL_d23603bdca4b48c79675aedc5fb8b272",
            "value": 1716
          }
        },
        "ba6ea0cb648b449a9b97c0c4d37b3ff5": {
          "model_module": "@jupyter-widgets/controls",
          "model_name": "HTMLModel",
          "model_module_version": "1.5.0",
          "state": {
            "_dom_classes": [],
            "_model_module": "@jupyter-widgets/controls",
            "_model_module_version": "1.5.0",
            "_model_name": "HTMLModel",
            "_view_count": null,
            "_view_module": "@jupyter-widgets/controls",
            "_view_module_version": "1.5.0",
            "_view_name": "HTMLView",
            "description": "",
            "description_tooltip": null,
            "layout": "IPY_MODEL_b35d0e8e606a49d49305fa0f5e4ba4a0",
            "placeholder": "​",
            "style": "IPY_MODEL_7be10da533a541a08598d4b7496bd3d9",
            "value": " 1.72k/1.72k [00:00&lt;00:00, 51.7kB/s]"
          }
        },
        "f05cce0d4dbf4653947f1645aeb37c3e": {
          "model_module": "@jupyter-widgets/base",
          "model_name": "LayoutModel",
          "model_module_version": "1.2.0",
          "state": {
            "_model_module": "@jupyter-widgets/base",
            "_model_module_version": "1.2.0",
            "_model_name": "LayoutModel",
            "_view_count": null,
            "_view_module": "@jupyter-widgets/base",
            "_view_module_version": "1.2.0",
            "_view_name": "LayoutView",
            "align_content": null,
            "align_items": null,
            "align_self": null,
            "border": null,
            "bottom": null,
            "display": null,
            "flex": null,
            "flex_flow": null,
            "grid_area": null,
            "grid_auto_columns": null,
            "grid_auto_flow": null,
            "grid_auto_rows": null,
            "grid_column": null,
            "grid_gap": null,
            "grid_row": null,
            "grid_template_areas": null,
            "grid_template_columns": null,
            "grid_template_rows": null,
            "height": null,
            "justify_content": null,
            "justify_items": null,
            "left": null,
            "margin": null,
            "max_height": null,
            "max_width": null,
            "min_height": null,
            "min_width": null,
            "object_fit": null,
            "object_position": null,
            "order": null,
            "overflow": null,
            "overflow_x": null,
            "overflow_y": null,
            "padding": null,
            "right": null,
            "top": null,
            "visibility": null,
            "width": null
          }
        },
        "141a66e1f1bf4247bc7774d96d73cb8d": {
          "model_module": "@jupyter-widgets/base",
          "model_name": "LayoutModel",
          "model_module_version": "1.2.0",
          "state": {
            "_model_module": "@jupyter-widgets/base",
            "_model_module_version": "1.2.0",
            "_model_name": "LayoutModel",
            "_view_count": null,
            "_view_module": "@jupyter-widgets/base",
            "_view_module_version": "1.2.0",
            "_view_name": "LayoutView",
            "align_content": null,
            "align_items": null,
            "align_self": null,
            "border": null,
            "bottom": null,
            "display": null,
            "flex": null,
            "flex_flow": null,
            "grid_area": null,
            "grid_auto_columns": null,
            "grid_auto_flow": null,
            "grid_auto_rows": null,
            "grid_column": null,
            "grid_gap": null,
            "grid_row": null,
            "grid_template_areas": null,
            "grid_template_columns": null,
            "grid_template_rows": null,
            "height": null,
            "justify_content": null,
            "justify_items": null,
            "left": null,
            "margin": null,
            "max_height": null,
            "max_width": null,
            "min_height": null,
            "min_width": null,
            "object_fit": null,
            "object_position": null,
            "order": null,
            "overflow": null,
            "overflow_x": null,
            "overflow_y": null,
            "padding": null,
            "right": null,
            "top": null,
            "visibility": null,
            "width": null
          }
        },
        "fc91b7eb60e34ff5b3da71b5c0a72e21": {
          "model_module": "@jupyter-widgets/controls",
          "model_name": "DescriptionStyleModel",
          "model_module_version": "1.5.0",
          "state": {
            "_model_module": "@jupyter-widgets/controls",
            "_model_module_version": "1.5.0",
            "_model_name": "DescriptionStyleModel",
            "_view_count": null,
            "_view_module": "@jupyter-widgets/base",
            "_view_module_version": "1.2.0",
            "_view_name": "StyleView",
            "description_width": ""
          }
        },
        "7f12050971334119bf4a8f4804e6cc52": {
          "model_module": "@jupyter-widgets/base",
          "model_name": "LayoutModel",
          "model_module_version": "1.2.0",
          "state": {
            "_model_module": "@jupyter-widgets/base",
            "_model_module_version": "1.2.0",
            "_model_name": "LayoutModel",
            "_view_count": null,
            "_view_module": "@jupyter-widgets/base",
            "_view_module_version": "1.2.0",
            "_view_name": "LayoutView",
            "align_content": null,
            "align_items": null,
            "align_self": null,
            "border": null,
            "bottom": null,
            "display": null,
            "flex": null,
            "flex_flow": null,
            "grid_area": null,
            "grid_auto_columns": null,
            "grid_auto_flow": null,
            "grid_auto_rows": null,
            "grid_column": null,
            "grid_gap": null,
            "grid_row": null,
            "grid_template_areas": null,
            "grid_template_columns": null,
            "grid_template_rows": null,
            "height": null,
            "justify_content": null,
            "justify_items": null,
            "left": null,
            "margin": null,
            "max_height": null,
            "max_width": null,
            "min_height": null,
            "min_width": null,
            "object_fit": null,
            "object_position": null,
            "order": null,
            "overflow": null,
            "overflow_x": null,
            "overflow_y": null,
            "padding": null,
            "right": null,
            "top": null,
            "visibility": null,
            "width": null
          }
        },
        "d23603bdca4b48c79675aedc5fb8b272": {
          "model_module": "@jupyter-widgets/controls",
          "model_name": "ProgressStyleModel",
          "model_module_version": "1.5.0",
          "state": {
            "_model_module": "@jupyter-widgets/controls",
            "_model_module_version": "1.5.0",
            "_model_name": "ProgressStyleModel",
            "_view_count": null,
            "_view_module": "@jupyter-widgets/base",
            "_view_module_version": "1.2.0",
            "_view_name": "StyleView",
            "bar_color": null,
            "description_width": ""
          }
        },
        "b35d0e8e606a49d49305fa0f5e4ba4a0": {
          "model_module": "@jupyter-widgets/base",
          "model_name": "LayoutModel",
          "model_module_version": "1.2.0",
          "state": {
            "_model_module": "@jupyter-widgets/base",
            "_model_module_version": "1.2.0",
            "_model_name": "LayoutModel",
            "_view_count": null,
            "_view_module": "@jupyter-widgets/base",
            "_view_module_version": "1.2.0",
            "_view_name": "LayoutView",
            "align_content": null,
            "align_items": null,
            "align_self": null,
            "border": null,
            "bottom": null,
            "display": null,
            "flex": null,
            "flex_flow": null,
            "grid_area": null,
            "grid_auto_columns": null,
            "grid_auto_flow": null,
            "grid_auto_rows": null,
            "grid_column": null,
            "grid_gap": null,
            "grid_row": null,
            "grid_template_areas": null,
            "grid_template_columns": null,
            "grid_template_rows": null,
            "height": null,
            "justify_content": null,
            "justify_items": null,
            "left": null,
            "margin": null,
            "max_height": null,
            "max_width": null,
            "min_height": null,
            "min_width": null,
            "object_fit": null,
            "object_position": null,
            "order": null,
            "overflow": null,
            "overflow_x": null,
            "overflow_y": null,
            "padding": null,
            "right": null,
            "top": null,
            "visibility": null,
            "width": null
          }
        },
        "7be10da533a541a08598d4b7496bd3d9": {
          "model_module": "@jupyter-widgets/controls",
          "model_name": "DescriptionStyleModel",
          "model_module_version": "1.5.0",
          "state": {
            "_model_module": "@jupyter-widgets/controls",
            "_model_module_version": "1.5.0",
            "_model_name": "DescriptionStyleModel",
            "_view_count": null,
            "_view_module": "@jupyter-widgets/base",
            "_view_module_version": "1.2.0",
            "_view_name": "StyleView",
            "description_width": ""
          }
        },
        "e36b48d241314cd2b5487a6b8a9943c4": {
          "model_module": "@jupyter-widgets/controls",
          "model_name": "HBoxModel",
          "model_module_version": "1.5.0",
          "state": {
            "_dom_classes": [],
            "_model_module": "@jupyter-widgets/controls",
            "_model_module_version": "1.5.0",
            "_model_name": "HBoxModel",
            "_view_count": null,
            "_view_module": "@jupyter-widgets/controls",
            "_view_module_version": "1.5.0",
            "_view_name": "HBoxView",
            "box_style": "",
            "children": [
              "IPY_MODEL_a3906e40d70c4bffb0561ef0eae9869d",
              "IPY_MODEL_ec7e272d1487403eaa2cec33a8a1225e",
              "IPY_MODEL_b7dedbbe9e8e43b2826233a37dfbc994"
            ],
            "layout": "IPY_MODEL_fb6e37cc80f649bcb0f4623649c6f50b"
          }
        },
        "a3906e40d70c4bffb0561ef0eae9869d": {
          "model_module": "@jupyter-widgets/controls",
          "model_name": "HTMLModel",
          "model_module_version": "1.5.0",
          "state": {
            "_dom_classes": [],
            "_model_module": "@jupyter-widgets/controls",
            "_model_module_version": "1.5.0",
            "_model_name": "HTMLModel",
            "_view_count": null,
            "_view_module": "@jupyter-widgets/controls",
            "_view_module_version": "1.5.0",
            "_view_name": "HTMLView",
            "description": "",
            "description_tooltip": null,
            "layout": "IPY_MODEL_f01f87bf233145fca7398139860c41f9",
            "placeholder": "​",
            "style": "IPY_MODEL_5e92cf3231c0423bae5f2dcb9681f132",
            "value": "Downloading: 100%"
          }
        },
        "ec7e272d1487403eaa2cec33a8a1225e": {
          "model_module": "@jupyter-widgets/controls",
          "model_name": "FloatProgressModel",
          "model_module_version": "1.5.0",
          "state": {
            "_dom_classes": [],
            "_model_module": "@jupyter-widgets/controls",
            "_model_module_version": "1.5.0",
            "_model_name": "FloatProgressModel",
            "_view_count": null,
            "_view_module": "@jupyter-widgets/controls",
            "_view_module_version": "1.5.0",
            "_view_name": "ProgressView",
            "bar_style": "success",
            "description": "",
            "description_tooltip": null,
            "layout": "IPY_MODEL_20333002c3654fc98eeea0cb1ad2e515",
            "max": 791656,
            "min": 0,
            "orientation": "horizontal",
            "style": "IPY_MODEL_11a59defe0bf4f6789b17a951bc98697",
            "value": 791656
          }
        },
        "b7dedbbe9e8e43b2826233a37dfbc994": {
          "model_module": "@jupyter-widgets/controls",
          "model_name": "HTMLModel",
          "model_module_version": "1.5.0",
          "state": {
            "_dom_classes": [],
            "_model_module": "@jupyter-widgets/controls",
            "_model_module_version": "1.5.0",
            "_model_name": "HTMLModel",
            "_view_count": null,
            "_view_module": "@jupyter-widgets/controls",
            "_view_module_version": "1.5.0",
            "_view_name": "HTMLView",
            "description": "",
            "description_tooltip": null,
            "layout": "IPY_MODEL_dad3ddac9c804b62ab7f219ba10317d2",
            "placeholder": "​",
            "style": "IPY_MODEL_44d66f524bb544f6b75dbbf07ca116e5",
            "value": " 792k/792k [00:00&lt;00:00, 11.7MB/s]"
          }
        },
        "fb6e37cc80f649bcb0f4623649c6f50b": {
          "model_module": "@jupyter-widgets/base",
          "model_name": "LayoutModel",
          "model_module_version": "1.2.0",
          "state": {
            "_model_module": "@jupyter-widgets/base",
            "_model_module_version": "1.2.0",
            "_model_name": "LayoutModel",
            "_view_count": null,
            "_view_module": "@jupyter-widgets/base",
            "_view_module_version": "1.2.0",
            "_view_name": "LayoutView",
            "align_content": null,
            "align_items": null,
            "align_self": null,
            "border": null,
            "bottom": null,
            "display": null,
            "flex": null,
            "flex_flow": null,
            "grid_area": null,
            "grid_auto_columns": null,
            "grid_auto_flow": null,
            "grid_auto_rows": null,
            "grid_column": null,
            "grid_gap": null,
            "grid_row": null,
            "grid_template_areas": null,
            "grid_template_columns": null,
            "grid_template_rows": null,
            "height": null,
            "justify_content": null,
            "justify_items": null,
            "left": null,
            "margin": null,
            "max_height": null,
            "max_width": null,
            "min_height": null,
            "min_width": null,
            "object_fit": null,
            "object_position": null,
            "order": null,
            "overflow": null,
            "overflow_x": null,
            "overflow_y": null,
            "padding": null,
            "right": null,
            "top": null,
            "visibility": null,
            "width": null
          }
        },
        "f01f87bf233145fca7398139860c41f9": {
          "model_module": "@jupyter-widgets/base",
          "model_name": "LayoutModel",
          "model_module_version": "1.2.0",
          "state": {
            "_model_module": "@jupyter-widgets/base",
            "_model_module_version": "1.2.0",
            "_model_name": "LayoutModel",
            "_view_count": null,
            "_view_module": "@jupyter-widgets/base",
            "_view_module_version": "1.2.0",
            "_view_name": "LayoutView",
            "align_content": null,
            "align_items": null,
            "align_self": null,
            "border": null,
            "bottom": null,
            "display": null,
            "flex": null,
            "flex_flow": null,
            "grid_area": null,
            "grid_auto_columns": null,
            "grid_auto_flow": null,
            "grid_auto_rows": null,
            "grid_column": null,
            "grid_gap": null,
            "grid_row": null,
            "grid_template_areas": null,
            "grid_template_columns": null,
            "grid_template_rows": null,
            "height": null,
            "justify_content": null,
            "justify_items": null,
            "left": null,
            "margin": null,
            "max_height": null,
            "max_width": null,
            "min_height": null,
            "min_width": null,
            "object_fit": null,
            "object_position": null,
            "order": null,
            "overflow": null,
            "overflow_x": null,
            "overflow_y": null,
            "padding": null,
            "right": null,
            "top": null,
            "visibility": null,
            "width": null
          }
        },
        "5e92cf3231c0423bae5f2dcb9681f132": {
          "model_module": "@jupyter-widgets/controls",
          "model_name": "DescriptionStyleModel",
          "model_module_version": "1.5.0",
          "state": {
            "_model_module": "@jupyter-widgets/controls",
            "_model_module_version": "1.5.0",
            "_model_name": "DescriptionStyleModel",
            "_view_count": null,
            "_view_module": "@jupyter-widgets/base",
            "_view_module_version": "1.2.0",
            "_view_name": "StyleView",
            "description_width": ""
          }
        },
        "20333002c3654fc98eeea0cb1ad2e515": {
          "model_module": "@jupyter-widgets/base",
          "model_name": "LayoutModel",
          "model_module_version": "1.2.0",
          "state": {
            "_model_module": "@jupyter-widgets/base",
            "_model_module_version": "1.2.0",
            "_model_name": "LayoutModel",
            "_view_count": null,
            "_view_module": "@jupyter-widgets/base",
            "_view_module_version": "1.2.0",
            "_view_name": "LayoutView",
            "align_content": null,
            "align_items": null,
            "align_self": null,
            "border": null,
            "bottom": null,
            "display": null,
            "flex": null,
            "flex_flow": null,
            "grid_area": null,
            "grid_auto_columns": null,
            "grid_auto_flow": null,
            "grid_auto_rows": null,
            "grid_column": null,
            "grid_gap": null,
            "grid_row": null,
            "grid_template_areas": null,
            "grid_template_columns": null,
            "grid_template_rows": null,
            "height": null,
            "justify_content": null,
            "justify_items": null,
            "left": null,
            "margin": null,
            "max_height": null,
            "max_width": null,
            "min_height": null,
            "min_width": null,
            "object_fit": null,
            "object_position": null,
            "order": null,
            "overflow": null,
            "overflow_x": null,
            "overflow_y": null,
            "padding": null,
            "right": null,
            "top": null,
            "visibility": null,
            "width": null
          }
        },
        "11a59defe0bf4f6789b17a951bc98697": {
          "model_module": "@jupyter-widgets/controls",
          "model_name": "ProgressStyleModel",
          "model_module_version": "1.5.0",
          "state": {
            "_model_module": "@jupyter-widgets/controls",
            "_model_module_version": "1.5.0",
            "_model_name": "ProgressStyleModel",
            "_view_count": null,
            "_view_module": "@jupyter-widgets/base",
            "_view_module_version": "1.2.0",
            "_view_name": "StyleView",
            "bar_color": null,
            "description_width": ""
          }
        },
        "dad3ddac9c804b62ab7f219ba10317d2": {
          "model_module": "@jupyter-widgets/base",
          "model_name": "LayoutModel",
          "model_module_version": "1.2.0",
          "state": {
            "_model_module": "@jupyter-widgets/base",
            "_model_module_version": "1.2.0",
            "_model_name": "LayoutModel",
            "_view_count": null,
            "_view_module": "@jupyter-widgets/base",
            "_view_module_version": "1.2.0",
            "_view_name": "LayoutView",
            "align_content": null,
            "align_items": null,
            "align_self": null,
            "border": null,
            "bottom": null,
            "display": null,
            "flex": null,
            "flex_flow": null,
            "grid_area": null,
            "grid_auto_columns": null,
            "grid_auto_flow": null,
            "grid_auto_rows": null,
            "grid_column": null,
            "grid_gap": null,
            "grid_row": null,
            "grid_template_areas": null,
            "grid_template_columns": null,
            "grid_template_rows": null,
            "height": null,
            "justify_content": null,
            "justify_items": null,
            "left": null,
            "margin": null,
            "max_height": null,
            "max_width": null,
            "min_height": null,
            "min_width": null,
            "object_fit": null,
            "object_position": null,
            "order": null,
            "overflow": null,
            "overflow_x": null,
            "overflow_y": null,
            "padding": null,
            "right": null,
            "top": null,
            "visibility": null,
            "width": null
          }
        },
        "44d66f524bb544f6b75dbbf07ca116e5": {
          "model_module": "@jupyter-widgets/controls",
          "model_name": "DescriptionStyleModel",
          "model_module_version": "1.5.0",
          "state": {
            "_model_module": "@jupyter-widgets/controls",
            "_model_module_version": "1.5.0",
            "_model_name": "DescriptionStyleModel",
            "_view_count": null,
            "_view_module": "@jupyter-widgets/base",
            "_view_module_version": "1.2.0",
            "_view_name": "StyleView",
            "description_width": ""
          }
        },
        "9ea76fc9a76d499b8b22e3a301e40da9": {
          "model_module": "@jupyter-widgets/controls",
          "model_name": "HBoxModel",
          "model_module_version": "1.5.0",
          "state": {
            "_dom_classes": [],
            "_model_module": "@jupyter-widgets/controls",
            "_model_module_version": "1.5.0",
            "_model_name": "HBoxModel",
            "_view_count": null,
            "_view_module": "@jupyter-widgets/controls",
            "_view_module_version": "1.5.0",
            "_view_name": "HBoxView",
            "box_style": "",
            "children": [
              "IPY_MODEL_4b2f1b7e44f242f5acbee92902a6bf74",
              "IPY_MODEL_8eaa133bf72a434896e77a14894b4b28",
              "IPY_MODEL_3073949f62954e188abf4f7666b772ee"
            ],
            "layout": "IPY_MODEL_b135c8ca5cd54c979949026b94eab433"
          }
        },
        "4b2f1b7e44f242f5acbee92902a6bf74": {
          "model_module": "@jupyter-widgets/controls",
          "model_name": "HTMLModel",
          "model_module_version": "1.5.0",
          "state": {
            "_dom_classes": [],
            "_model_module": "@jupyter-widgets/controls",
            "_model_module_version": "1.5.0",
            "_model_name": "HTMLModel",
            "_view_count": null,
            "_view_module": "@jupyter-widgets/controls",
            "_view_module_version": "1.5.0",
            "_view_name": "HTMLView",
            "description": "",
            "description_tooltip": null,
            "layout": "IPY_MODEL_d9a1621ab5c44bf282bc8f8f4c0fa7d3",
            "placeholder": "​",
            "style": "IPY_MODEL_1d0848d76edd4d7980be81639c6ea9a4",
            "value": "Downloading: 100%"
          }
        },
        "8eaa133bf72a434896e77a14894b4b28": {
          "model_module": "@jupyter-widgets/controls",
          "model_name": "FloatProgressModel",
          "model_module_version": "1.5.0",
          "state": {
            "_dom_classes": [],
            "_model_module": "@jupyter-widgets/controls",
            "_model_module_version": "1.5.0",
            "_model_name": "FloatProgressModel",
            "_view_count": null,
            "_view_module": "@jupyter-widgets/controls",
            "_view_module_version": "1.5.0",
            "_view_name": "ProgressView",
            "bar_style": "success",
            "description": "",
            "description_tooltip": null,
            "layout": "IPY_MODEL_a0cecd872fd04b37b86fb582d6432b87",
            "max": 1786,
            "min": 0,
            "orientation": "horizontal",
            "style": "IPY_MODEL_7051395b7a3a46b3bc602859dadf15b2",
            "value": 1786
          }
        },
        "3073949f62954e188abf4f7666b772ee": {
          "model_module": "@jupyter-widgets/controls",
          "model_name": "HTMLModel",
          "model_module_version": "1.5.0",
          "state": {
            "_dom_classes": [],
            "_model_module": "@jupyter-widgets/controls",
            "_model_module_version": "1.5.0",
            "_model_name": "HTMLModel",
            "_view_count": null,
            "_view_module": "@jupyter-widgets/controls",
            "_view_module_version": "1.5.0",
            "_view_name": "HTMLView",
            "description": "",
            "description_tooltip": null,
            "layout": "IPY_MODEL_fcb0ca88f29c4876a986b8fb859e5a08",
            "placeholder": "​",
            "style": "IPY_MODEL_7047a62b3c704237a7c45219a08084ab",
            "value": " 1.79k/1.79k [00:00&lt;00:00, 58.8kB/s]"
          }
        },
        "b135c8ca5cd54c979949026b94eab433": {
          "model_module": "@jupyter-widgets/base",
          "model_name": "LayoutModel",
          "model_module_version": "1.2.0",
          "state": {
            "_model_module": "@jupyter-widgets/base",
            "_model_module_version": "1.2.0",
            "_model_name": "LayoutModel",
            "_view_count": null,
            "_view_module": "@jupyter-widgets/base",
            "_view_module_version": "1.2.0",
            "_view_name": "LayoutView",
            "align_content": null,
            "align_items": null,
            "align_self": null,
            "border": null,
            "bottom": null,
            "display": null,
            "flex": null,
            "flex_flow": null,
            "grid_area": null,
            "grid_auto_columns": null,
            "grid_auto_flow": null,
            "grid_auto_rows": null,
            "grid_column": null,
            "grid_gap": null,
            "grid_row": null,
            "grid_template_areas": null,
            "grid_template_columns": null,
            "grid_template_rows": null,
            "height": null,
            "justify_content": null,
            "justify_items": null,
            "left": null,
            "margin": null,
            "max_height": null,
            "max_width": null,
            "min_height": null,
            "min_width": null,
            "object_fit": null,
            "object_position": null,
            "order": null,
            "overflow": null,
            "overflow_x": null,
            "overflow_y": null,
            "padding": null,
            "right": null,
            "top": null,
            "visibility": null,
            "width": null
          }
        },
        "d9a1621ab5c44bf282bc8f8f4c0fa7d3": {
          "model_module": "@jupyter-widgets/base",
          "model_name": "LayoutModel",
          "model_module_version": "1.2.0",
          "state": {
            "_model_module": "@jupyter-widgets/base",
            "_model_module_version": "1.2.0",
            "_model_name": "LayoutModel",
            "_view_count": null,
            "_view_module": "@jupyter-widgets/base",
            "_view_module_version": "1.2.0",
            "_view_name": "LayoutView",
            "align_content": null,
            "align_items": null,
            "align_self": null,
            "border": null,
            "bottom": null,
            "display": null,
            "flex": null,
            "flex_flow": null,
            "grid_area": null,
            "grid_auto_columns": null,
            "grid_auto_flow": null,
            "grid_auto_rows": null,
            "grid_column": null,
            "grid_gap": null,
            "grid_row": null,
            "grid_template_areas": null,
            "grid_template_columns": null,
            "grid_template_rows": null,
            "height": null,
            "justify_content": null,
            "justify_items": null,
            "left": null,
            "margin": null,
            "max_height": null,
            "max_width": null,
            "min_height": null,
            "min_width": null,
            "object_fit": null,
            "object_position": null,
            "order": null,
            "overflow": null,
            "overflow_x": null,
            "overflow_y": null,
            "padding": null,
            "right": null,
            "top": null,
            "visibility": null,
            "width": null
          }
        },
        "1d0848d76edd4d7980be81639c6ea9a4": {
          "model_module": "@jupyter-widgets/controls",
          "model_name": "DescriptionStyleModel",
          "model_module_version": "1.5.0",
          "state": {
            "_model_module": "@jupyter-widgets/controls",
            "_model_module_version": "1.5.0",
            "_model_name": "DescriptionStyleModel",
            "_view_count": null,
            "_view_module": "@jupyter-widgets/base",
            "_view_module_version": "1.2.0",
            "_view_name": "StyleView",
            "description_width": ""
          }
        },
        "a0cecd872fd04b37b86fb582d6432b87": {
          "model_module": "@jupyter-widgets/base",
          "model_name": "LayoutModel",
          "model_module_version": "1.2.0",
          "state": {
            "_model_module": "@jupyter-widgets/base",
            "_model_module_version": "1.2.0",
            "_model_name": "LayoutModel",
            "_view_count": null,
            "_view_module": "@jupyter-widgets/base",
            "_view_module_version": "1.2.0",
            "_view_name": "LayoutView",
            "align_content": null,
            "align_items": null,
            "align_self": null,
            "border": null,
            "bottom": null,
            "display": null,
            "flex": null,
            "flex_flow": null,
            "grid_area": null,
            "grid_auto_columns": null,
            "grid_auto_flow": null,
            "grid_auto_rows": null,
            "grid_column": null,
            "grid_gap": null,
            "grid_row": null,
            "grid_template_areas": null,
            "grid_template_columns": null,
            "grid_template_rows": null,
            "height": null,
            "justify_content": null,
            "justify_items": null,
            "left": null,
            "margin": null,
            "max_height": null,
            "max_width": null,
            "min_height": null,
            "min_width": null,
            "object_fit": null,
            "object_position": null,
            "order": null,
            "overflow": null,
            "overflow_x": null,
            "overflow_y": null,
            "padding": null,
            "right": null,
            "top": null,
            "visibility": null,
            "width": null
          }
        },
        "7051395b7a3a46b3bc602859dadf15b2": {
          "model_module": "@jupyter-widgets/controls",
          "model_name": "ProgressStyleModel",
          "model_module_version": "1.5.0",
          "state": {
            "_model_module": "@jupyter-widgets/controls",
            "_model_module_version": "1.5.0",
            "_model_name": "ProgressStyleModel",
            "_view_count": null,
            "_view_module": "@jupyter-widgets/base",
            "_view_module_version": "1.2.0",
            "_view_name": "StyleView",
            "bar_color": null,
            "description_width": ""
          }
        },
        "fcb0ca88f29c4876a986b8fb859e5a08": {
          "model_module": "@jupyter-widgets/base",
          "model_name": "LayoutModel",
          "model_module_version": "1.2.0",
          "state": {
            "_model_module": "@jupyter-widgets/base",
            "_model_module_version": "1.2.0",
            "_model_name": "LayoutModel",
            "_view_count": null,
            "_view_module": "@jupyter-widgets/base",
            "_view_module_version": "1.2.0",
            "_view_name": "LayoutView",
            "align_content": null,
            "align_items": null,
            "align_self": null,
            "border": null,
            "bottom": null,
            "display": null,
            "flex": null,
            "flex_flow": null,
            "grid_area": null,
            "grid_auto_columns": null,
            "grid_auto_flow": null,
            "grid_auto_rows": null,
            "grid_column": null,
            "grid_gap": null,
            "grid_row": null,
            "grid_template_areas": null,
            "grid_template_columns": null,
            "grid_template_rows": null,
            "height": null,
            "justify_content": null,
            "justify_items": null,
            "left": null,
            "margin": null,
            "max_height": null,
            "max_width": null,
            "min_height": null,
            "min_width": null,
            "object_fit": null,
            "object_position": null,
            "order": null,
            "overflow": null,
            "overflow_x": null,
            "overflow_y": null,
            "padding": null,
            "right": null,
            "top": null,
            "visibility": null,
            "width": null
          }
        },
        "7047a62b3c704237a7c45219a08084ab": {
          "model_module": "@jupyter-widgets/controls",
          "model_name": "DescriptionStyleModel",
          "model_module_version": "1.5.0",
          "state": {
            "_model_module": "@jupyter-widgets/controls",
            "_model_module_version": "1.5.0",
            "_model_name": "DescriptionStyleModel",
            "_view_count": null,
            "_view_module": "@jupyter-widgets/base",
            "_view_module_version": "1.2.0",
            "_view_name": "StyleView",
            "description_width": ""
          }
        },
        "cbeb658c4a0c4ad4b954f5a055e45f3e": {
          "model_module": "@jupyter-widgets/controls",
          "model_name": "HBoxModel",
          "model_module_version": "1.5.0",
          "state": {
            "_dom_classes": [],
            "_model_module": "@jupyter-widgets/controls",
            "_model_module_version": "1.5.0",
            "_model_name": "HBoxModel",
            "_view_count": null,
            "_view_module": "@jupyter-widgets/controls",
            "_view_module_version": "1.5.0",
            "_view_name": "HBoxView",
            "box_style": "",
            "children": [
              "IPY_MODEL_63cfc84889594146993d16b181a2619c",
              "IPY_MODEL_91491a12e1414258a0b43b3bf1885656",
              "IPY_MODEL_8e7f1b791d964d7fab82850e37560e4a"
            ],
            "layout": "IPY_MODEL_fcfe40dd2b42473dbd71de20ab594105"
          }
        },
        "63cfc84889594146993d16b181a2619c": {
          "model_module": "@jupyter-widgets/controls",
          "model_name": "HTMLModel",
          "model_module_version": "1.5.0",
          "state": {
            "_dom_classes": [],
            "_model_module": "@jupyter-widgets/controls",
            "_model_module_version": "1.5.0",
            "_model_name": "HTMLModel",
            "_view_count": null,
            "_view_module": "@jupyter-widgets/controls",
            "_view_module_version": "1.5.0",
            "_view_name": "HTMLView",
            "description": "",
            "description_tooltip": null,
            "layout": "IPY_MODEL_bbbf546cc8cc497793f7fc7c649696f8",
            "placeholder": "​",
            "style": "IPY_MODEL_3c0b06d1addb476caf40abe5ca1d397d",
            "value": "Downloading: 100%"
          }
        },
        "91491a12e1414258a0b43b3bf1885656": {
          "model_module": "@jupyter-widgets/controls",
          "model_name": "FloatProgressModel",
          "model_module_version": "1.5.0",
          "state": {
            "_dom_classes": [],
            "_model_module": "@jupyter-widgets/controls",
            "_model_module_version": "1.5.0",
            "_model_name": "FloatProgressModel",
            "_view_count": null,
            "_view_module": "@jupyter-widgets/controls",
            "_view_module_version": "1.5.0",
            "_view_name": "ProgressView",
            "bar_style": "success",
            "description": "",
            "description_tooltip": null,
            "layout": "IPY_MODEL_32afa9b1d8be453cb68a2e4d50319c0a",
            "max": 1857,
            "min": 0,
            "orientation": "horizontal",
            "style": "IPY_MODEL_d9487a07eda841d4bed766fa5cb3c13d",
            "value": 1857
          }
        },
        "8e7f1b791d964d7fab82850e37560e4a": {
          "model_module": "@jupyter-widgets/controls",
          "model_name": "HTMLModel",
          "model_module_version": "1.5.0",
          "state": {
            "_dom_classes": [],
            "_model_module": "@jupyter-widgets/controls",
            "_model_module_version": "1.5.0",
            "_model_name": "HTMLModel",
            "_view_count": null,
            "_view_module": "@jupyter-widgets/controls",
            "_view_module_version": "1.5.0",
            "_view_name": "HTMLView",
            "description": "",
            "description_tooltip": null,
            "layout": "IPY_MODEL_3b1876fdb39f4883bfdf5bc9082339d8",
            "placeholder": "​",
            "style": "IPY_MODEL_54f597a8e2e84d8595d54a45be16217c",
            "value": " 1.86k/1.86k [00:00&lt;00:00, 53.4kB/s]"
          }
        },
        "fcfe40dd2b42473dbd71de20ab594105": {
          "model_module": "@jupyter-widgets/base",
          "model_name": "LayoutModel",
          "model_module_version": "1.2.0",
          "state": {
            "_model_module": "@jupyter-widgets/base",
            "_model_module_version": "1.2.0",
            "_model_name": "LayoutModel",
            "_view_count": null,
            "_view_module": "@jupyter-widgets/base",
            "_view_module_version": "1.2.0",
            "_view_name": "LayoutView",
            "align_content": null,
            "align_items": null,
            "align_self": null,
            "border": null,
            "bottom": null,
            "display": null,
            "flex": null,
            "flex_flow": null,
            "grid_area": null,
            "grid_auto_columns": null,
            "grid_auto_flow": null,
            "grid_auto_rows": null,
            "grid_column": null,
            "grid_gap": null,
            "grid_row": null,
            "grid_template_areas": null,
            "grid_template_columns": null,
            "grid_template_rows": null,
            "height": null,
            "justify_content": null,
            "justify_items": null,
            "left": null,
            "margin": null,
            "max_height": null,
            "max_width": null,
            "min_height": null,
            "min_width": null,
            "object_fit": null,
            "object_position": null,
            "order": null,
            "overflow": null,
            "overflow_x": null,
            "overflow_y": null,
            "padding": null,
            "right": null,
            "top": null,
            "visibility": null,
            "width": null
          }
        },
        "bbbf546cc8cc497793f7fc7c649696f8": {
          "model_module": "@jupyter-widgets/base",
          "model_name": "LayoutModel",
          "model_module_version": "1.2.0",
          "state": {
            "_model_module": "@jupyter-widgets/base",
            "_model_module_version": "1.2.0",
            "_model_name": "LayoutModel",
            "_view_count": null,
            "_view_module": "@jupyter-widgets/base",
            "_view_module_version": "1.2.0",
            "_view_name": "LayoutView",
            "align_content": null,
            "align_items": null,
            "align_self": null,
            "border": null,
            "bottom": null,
            "display": null,
            "flex": null,
            "flex_flow": null,
            "grid_area": null,
            "grid_auto_columns": null,
            "grid_auto_flow": null,
            "grid_auto_rows": null,
            "grid_column": null,
            "grid_gap": null,
            "grid_row": null,
            "grid_template_areas": null,
            "grid_template_columns": null,
            "grid_template_rows": null,
            "height": null,
            "justify_content": null,
            "justify_items": null,
            "left": null,
            "margin": null,
            "max_height": null,
            "max_width": null,
            "min_height": null,
            "min_width": null,
            "object_fit": null,
            "object_position": null,
            "order": null,
            "overflow": null,
            "overflow_x": null,
            "overflow_y": null,
            "padding": null,
            "right": null,
            "top": null,
            "visibility": null,
            "width": null
          }
        },
        "3c0b06d1addb476caf40abe5ca1d397d": {
          "model_module": "@jupyter-widgets/controls",
          "model_name": "DescriptionStyleModel",
          "model_module_version": "1.5.0",
          "state": {
            "_model_module": "@jupyter-widgets/controls",
            "_model_module_version": "1.5.0",
            "_model_name": "DescriptionStyleModel",
            "_view_count": null,
            "_view_module": "@jupyter-widgets/base",
            "_view_module_version": "1.2.0",
            "_view_name": "StyleView",
            "description_width": ""
          }
        },
        "32afa9b1d8be453cb68a2e4d50319c0a": {
          "model_module": "@jupyter-widgets/base",
          "model_name": "LayoutModel",
          "model_module_version": "1.2.0",
          "state": {
            "_model_module": "@jupyter-widgets/base",
            "_model_module_version": "1.2.0",
            "_model_name": "LayoutModel",
            "_view_count": null,
            "_view_module": "@jupyter-widgets/base",
            "_view_module_version": "1.2.0",
            "_view_name": "LayoutView",
            "align_content": null,
            "align_items": null,
            "align_self": null,
            "border": null,
            "bottom": null,
            "display": null,
            "flex": null,
            "flex_flow": null,
            "grid_area": null,
            "grid_auto_columns": null,
            "grid_auto_flow": null,
            "grid_auto_rows": null,
            "grid_column": null,
            "grid_gap": null,
            "grid_row": null,
            "grid_template_areas": null,
            "grid_template_columns": null,
            "grid_template_rows": null,
            "height": null,
            "justify_content": null,
            "justify_items": null,
            "left": null,
            "margin": null,
            "max_height": null,
            "max_width": null,
            "min_height": null,
            "min_width": null,
            "object_fit": null,
            "object_position": null,
            "order": null,
            "overflow": null,
            "overflow_x": null,
            "overflow_y": null,
            "padding": null,
            "right": null,
            "top": null,
            "visibility": null,
            "width": null
          }
        },
        "d9487a07eda841d4bed766fa5cb3c13d": {
          "model_module": "@jupyter-widgets/controls",
          "model_name": "ProgressStyleModel",
          "model_module_version": "1.5.0",
          "state": {
            "_model_module": "@jupyter-widgets/controls",
            "_model_module_version": "1.5.0",
            "_model_name": "ProgressStyleModel",
            "_view_count": null,
            "_view_module": "@jupyter-widgets/base",
            "_view_module_version": "1.2.0",
            "_view_name": "StyleView",
            "bar_color": null,
            "description_width": ""
          }
        },
        "3b1876fdb39f4883bfdf5bc9082339d8": {
          "model_module": "@jupyter-widgets/base",
          "model_name": "LayoutModel",
          "model_module_version": "1.2.0",
          "state": {
            "_model_module": "@jupyter-widgets/base",
            "_model_module_version": "1.2.0",
            "_model_name": "LayoutModel",
            "_view_count": null,
            "_view_module": "@jupyter-widgets/base",
            "_view_module_version": "1.2.0",
            "_view_name": "LayoutView",
            "align_content": null,
            "align_items": null,
            "align_self": null,
            "border": null,
            "bottom": null,
            "display": null,
            "flex": null,
            "flex_flow": null,
            "grid_area": null,
            "grid_auto_columns": null,
            "grid_auto_flow": null,
            "grid_auto_rows": null,
            "grid_column": null,
            "grid_gap": null,
            "grid_row": null,
            "grid_template_areas": null,
            "grid_template_columns": null,
            "grid_template_rows": null,
            "height": null,
            "justify_content": null,
            "justify_items": null,
            "left": null,
            "margin": null,
            "max_height": null,
            "max_width": null,
            "min_height": null,
            "min_width": null,
            "object_fit": null,
            "object_position": null,
            "order": null,
            "overflow": null,
            "overflow_x": null,
            "overflow_y": null,
            "padding": null,
            "right": null,
            "top": null,
            "visibility": null,
            "width": null
          }
        },
        "54f597a8e2e84d8595d54a45be16217c": {
          "model_module": "@jupyter-widgets/controls",
          "model_name": "DescriptionStyleModel",
          "model_module_version": "1.5.0",
          "state": {
            "_model_module": "@jupyter-widgets/controls",
            "_model_module_version": "1.5.0",
            "_model_name": "DescriptionStyleModel",
            "_view_count": null,
            "_view_module": "@jupyter-widgets/base",
            "_view_module_version": "1.2.0",
            "_view_name": "StyleView",
            "description_width": ""
          }
        },
        "63c261ba682240fe91eded4c18179a55": {
          "model_module": "@jupyter-widgets/controls",
          "model_name": "HBoxModel",
          "model_module_version": "1.5.0",
          "state": {
            "_dom_classes": [],
            "_model_module": "@jupyter-widgets/controls",
            "_model_module_version": "1.5.0",
            "_model_name": "HBoxModel",
            "_view_count": null,
            "_view_module": "@jupyter-widgets/controls",
            "_view_module_version": "1.5.0",
            "_view_name": "HBoxView",
            "box_style": "",
            "children": [
              "IPY_MODEL_f8a489bae0424d04b0914cbe1d0bbf63",
              "IPY_MODEL_f8e9417af94d40749f073294fe7d87a7",
              "IPY_MODEL_433bd1859e6e408cbaaa73314137ae70"
            ],
            "layout": "IPY_MODEL_1e505030af2b42b4920d3af8b5f54831"
          }
        },
        "f8a489bae0424d04b0914cbe1d0bbf63": {
          "model_module": "@jupyter-widgets/controls",
          "model_name": "HTMLModel",
          "model_module_version": "1.5.0",
          "state": {
            "_dom_classes": [],
            "_model_module": "@jupyter-widgets/controls",
            "_model_module_version": "1.5.0",
            "_model_name": "HTMLModel",
            "_view_count": null,
            "_view_module": "@jupyter-widgets/controls",
            "_view_module_version": "1.5.0",
            "_view_name": "HTMLView",
            "description": "",
            "description_tooltip": null,
            "layout": "IPY_MODEL_af027709817244b3a7ddad114a1e8c73",
            "placeholder": "​",
            "style": "IPY_MODEL_27f92c2005e74bfba7a9549170eeacc4",
            "value": "Downloading: 100%"
          }
        },
        "f8e9417af94d40749f073294fe7d87a7": {
          "model_module": "@jupyter-widgets/controls",
          "model_name": "FloatProgressModel",
          "model_module_version": "1.5.0",
          "state": {
            "_dom_classes": [],
            "_model_module": "@jupyter-widgets/controls",
            "_model_module_version": "1.5.0",
            "_model_name": "FloatProgressModel",
            "_view_count": null,
            "_view_module": "@jupyter-widgets/controls",
            "_view_module_version": "1.5.0",
            "_view_name": "ProgressView",
            "bar_style": "success",
            "description": "",
            "description_tooltip": null,
            "layout": "IPY_MODEL_d02ebac6f3b84613b55bc962dac14993",
            "max": 605,
            "min": 0,
            "orientation": "horizontal",
            "style": "IPY_MODEL_c5527cf34974476ba666cfc77e3f1883",
            "value": 605
          }
        },
        "433bd1859e6e408cbaaa73314137ae70": {
          "model_module": "@jupyter-widgets/controls",
          "model_name": "HTMLModel",
          "model_module_version": "1.5.0",
          "state": {
            "_dom_classes": [],
            "_model_module": "@jupyter-widgets/controls",
            "_model_module_version": "1.5.0",
            "_model_name": "HTMLModel",
            "_view_count": null,
            "_view_module": "@jupyter-widgets/controls",
            "_view_module_version": "1.5.0",
            "_view_name": "HTMLView",
            "description": "",
            "description_tooltip": null,
            "layout": "IPY_MODEL_74c494649d5e4da8aea960a389d80f9e",
            "placeholder": "​",
            "style": "IPY_MODEL_8f30f918292b4edd877b6c78cc8f1c61",
            "value": " 605/605 [00:00&lt;00:00, 14.7kB/s]"
          }
        },
        "1e505030af2b42b4920d3af8b5f54831": {
          "model_module": "@jupyter-widgets/base",
          "model_name": "LayoutModel",
          "model_module_version": "1.2.0",
          "state": {
            "_model_module": "@jupyter-widgets/base",
            "_model_module_version": "1.2.0",
            "_model_name": "LayoutModel",
            "_view_count": null,
            "_view_module": "@jupyter-widgets/base",
            "_view_module_version": "1.2.0",
            "_view_name": "LayoutView",
            "align_content": null,
            "align_items": null,
            "align_self": null,
            "border": null,
            "bottom": null,
            "display": null,
            "flex": null,
            "flex_flow": null,
            "grid_area": null,
            "grid_auto_columns": null,
            "grid_auto_flow": null,
            "grid_auto_rows": null,
            "grid_column": null,
            "grid_gap": null,
            "grid_row": null,
            "grid_template_areas": null,
            "grid_template_columns": null,
            "grid_template_rows": null,
            "height": null,
            "justify_content": null,
            "justify_items": null,
            "left": null,
            "margin": null,
            "max_height": null,
            "max_width": null,
            "min_height": null,
            "min_width": null,
            "object_fit": null,
            "object_position": null,
            "order": null,
            "overflow": null,
            "overflow_x": null,
            "overflow_y": null,
            "padding": null,
            "right": null,
            "top": null,
            "visibility": null,
            "width": null
          }
        },
        "af027709817244b3a7ddad114a1e8c73": {
          "model_module": "@jupyter-widgets/base",
          "model_name": "LayoutModel",
          "model_module_version": "1.2.0",
          "state": {
            "_model_module": "@jupyter-widgets/base",
            "_model_module_version": "1.2.0",
            "_model_name": "LayoutModel",
            "_view_count": null,
            "_view_module": "@jupyter-widgets/base",
            "_view_module_version": "1.2.0",
            "_view_name": "LayoutView",
            "align_content": null,
            "align_items": null,
            "align_self": null,
            "border": null,
            "bottom": null,
            "display": null,
            "flex": null,
            "flex_flow": null,
            "grid_area": null,
            "grid_auto_columns": null,
            "grid_auto_flow": null,
            "grid_auto_rows": null,
            "grid_column": null,
            "grid_gap": null,
            "grid_row": null,
            "grid_template_areas": null,
            "grid_template_columns": null,
            "grid_template_rows": null,
            "height": null,
            "justify_content": null,
            "justify_items": null,
            "left": null,
            "margin": null,
            "max_height": null,
            "max_width": null,
            "min_height": null,
            "min_width": null,
            "object_fit": null,
            "object_position": null,
            "order": null,
            "overflow": null,
            "overflow_x": null,
            "overflow_y": null,
            "padding": null,
            "right": null,
            "top": null,
            "visibility": null,
            "width": null
          }
        },
        "27f92c2005e74bfba7a9549170eeacc4": {
          "model_module": "@jupyter-widgets/controls",
          "model_name": "DescriptionStyleModel",
          "model_module_version": "1.5.0",
          "state": {
            "_model_module": "@jupyter-widgets/controls",
            "_model_module_version": "1.5.0",
            "_model_name": "DescriptionStyleModel",
            "_view_count": null,
            "_view_module": "@jupyter-widgets/base",
            "_view_module_version": "1.2.0",
            "_view_name": "StyleView",
            "description_width": ""
          }
        },
        "d02ebac6f3b84613b55bc962dac14993": {
          "model_module": "@jupyter-widgets/base",
          "model_name": "LayoutModel",
          "model_module_version": "1.2.0",
          "state": {
            "_model_module": "@jupyter-widgets/base",
            "_model_module_version": "1.2.0",
            "_model_name": "LayoutModel",
            "_view_count": null,
            "_view_module": "@jupyter-widgets/base",
            "_view_module_version": "1.2.0",
            "_view_name": "LayoutView",
            "align_content": null,
            "align_items": null,
            "align_self": null,
            "border": null,
            "bottom": null,
            "display": null,
            "flex": null,
            "flex_flow": null,
            "grid_area": null,
            "grid_auto_columns": null,
            "grid_auto_flow": null,
            "grid_auto_rows": null,
            "grid_column": null,
            "grid_gap": null,
            "grid_row": null,
            "grid_template_areas": null,
            "grid_template_columns": null,
            "grid_template_rows": null,
            "height": null,
            "justify_content": null,
            "justify_items": null,
            "left": null,
            "margin": null,
            "max_height": null,
            "max_width": null,
            "min_height": null,
            "min_width": null,
            "object_fit": null,
            "object_position": null,
            "order": null,
            "overflow": null,
            "overflow_x": null,
            "overflow_y": null,
            "padding": null,
            "right": null,
            "top": null,
            "visibility": null,
            "width": null
          }
        },
        "c5527cf34974476ba666cfc77e3f1883": {
          "model_module": "@jupyter-widgets/controls",
          "model_name": "ProgressStyleModel",
          "model_module_version": "1.5.0",
          "state": {
            "_model_module": "@jupyter-widgets/controls",
            "_model_module_version": "1.5.0",
            "_model_name": "ProgressStyleModel",
            "_view_count": null,
            "_view_module": "@jupyter-widgets/base",
            "_view_module_version": "1.2.0",
            "_view_name": "StyleView",
            "bar_color": null,
            "description_width": ""
          }
        },
        "74c494649d5e4da8aea960a389d80f9e": {
          "model_module": "@jupyter-widgets/base",
          "model_name": "LayoutModel",
          "model_module_version": "1.2.0",
          "state": {
            "_model_module": "@jupyter-widgets/base",
            "_model_module_version": "1.2.0",
            "_model_name": "LayoutModel",
            "_view_count": null,
            "_view_module": "@jupyter-widgets/base",
            "_view_module_version": "1.2.0",
            "_view_name": "LayoutView",
            "align_content": null,
            "align_items": null,
            "align_self": null,
            "border": null,
            "bottom": null,
            "display": null,
            "flex": null,
            "flex_flow": null,
            "grid_area": null,
            "grid_auto_columns": null,
            "grid_auto_flow": null,
            "grid_auto_rows": null,
            "grid_column": null,
            "grid_gap": null,
            "grid_row": null,
            "grid_template_areas": null,
            "grid_template_columns": null,
            "grid_template_rows": null,
            "height": null,
            "justify_content": null,
            "justify_items": null,
            "left": null,
            "margin": null,
            "max_height": null,
            "max_width": null,
            "min_height": null,
            "min_width": null,
            "object_fit": null,
            "object_position": null,
            "order": null,
            "overflow": null,
            "overflow_x": null,
            "overflow_y": null,
            "padding": null,
            "right": null,
            "top": null,
            "visibility": null,
            "width": null
          }
        },
        "8f30f918292b4edd877b6c78cc8f1c61": {
          "model_module": "@jupyter-widgets/controls",
          "model_name": "DescriptionStyleModel",
          "model_module_version": "1.5.0",
          "state": {
            "_model_module": "@jupyter-widgets/controls",
            "_model_module_version": "1.5.0",
            "_model_name": "DescriptionStyleModel",
            "_view_count": null,
            "_view_module": "@jupyter-widgets/base",
            "_view_module_version": "1.2.0",
            "_view_name": "StyleView",
            "description_width": ""
          }
        },
        "1ef369d97f954da29c9da6d2d7a06a6b": {
          "model_module": "@jupyter-widgets/controls",
          "model_name": "HBoxModel",
          "model_module_version": "1.5.0",
          "state": {
            "_dom_classes": [],
            "_model_module": "@jupyter-widgets/controls",
            "_model_module_version": "1.5.0",
            "_model_name": "HBoxModel",
            "_view_count": null,
            "_view_module": "@jupyter-widgets/controls",
            "_view_module_version": "1.5.0",
            "_view_name": "HBoxView",
            "box_style": "",
            "children": [
              "IPY_MODEL_ea3b4aa6c6fb43fc859084aac8dae949",
              "IPY_MODEL_828dedeb512647578b29ba98cd9e572b",
              "IPY_MODEL_27ab604f51ae4b83b8b9838c263a285f"
            ],
            "layout": "IPY_MODEL_ca4b5e1d1ca148228f6f56d6d1847921"
          }
        },
        "ea3b4aa6c6fb43fc859084aac8dae949": {
          "model_module": "@jupyter-widgets/controls",
          "model_name": "HTMLModel",
          "model_module_version": "1.5.0",
          "state": {
            "_dom_classes": [],
            "_model_module": "@jupyter-widgets/controls",
            "_model_module_version": "1.5.0",
            "_model_name": "HTMLModel",
            "_view_count": null,
            "_view_module": "@jupyter-widgets/controls",
            "_view_module_version": "1.5.0",
            "_view_name": "HTMLView",
            "description": "",
            "description_tooltip": null,
            "layout": "IPY_MODEL_d6b506a5ed264d0b8f08870d9aa7804d",
            "placeholder": "​",
            "style": "IPY_MODEL_e7f8197ed81640c397f44d8acad454ea",
            "value": "Downloading: 100%"
          }
        },
        "828dedeb512647578b29ba98cd9e572b": {
          "model_module": "@jupyter-widgets/controls",
          "model_name": "FloatProgressModel",
          "model_module_version": "1.5.0",
          "state": {
            "_dom_classes": [],
            "_model_module": "@jupyter-widgets/controls",
            "_model_module_version": "1.5.0",
            "_model_name": "FloatProgressModel",
            "_view_count": null,
            "_view_module": "@jupyter-widgets/controls",
            "_view_module_version": "1.5.0",
            "_view_name": "ProgressView",
            "bar_style": "success",
            "description": "",
            "description_tooltip": null,
            "layout": "IPY_MODEL_76f4f16f6f53467c9c27aec110ad7043",
            "max": 898823,
            "min": 0,
            "orientation": "horizontal",
            "style": "IPY_MODEL_6d070191ce944600bd79ebda88c2c121",
            "value": 898823
          }
        },
        "27ab604f51ae4b83b8b9838c263a285f": {
          "model_module": "@jupyter-widgets/controls",
          "model_name": "HTMLModel",
          "model_module_version": "1.5.0",
          "state": {
            "_dom_classes": [],
            "_model_module": "@jupyter-widgets/controls",
            "_model_module_version": "1.5.0",
            "_model_name": "HTMLModel",
            "_view_count": null,
            "_view_module": "@jupyter-widgets/controls",
            "_view_module_version": "1.5.0",
            "_view_name": "HTMLView",
            "description": "",
            "description_tooltip": null,
            "layout": "IPY_MODEL_fbb052fea73848bfb435993880fc7d2d",
            "placeholder": "​",
            "style": "IPY_MODEL_92a06f6f9e9e49039472ceb5eefff41e",
            "value": " 899k/899k [00:01&lt;00:00, 955kB/s]"
          }
        },
        "ca4b5e1d1ca148228f6f56d6d1847921": {
          "model_module": "@jupyter-widgets/base",
          "model_name": "LayoutModel",
          "model_module_version": "1.2.0",
          "state": {
            "_model_module": "@jupyter-widgets/base",
            "_model_module_version": "1.2.0",
            "_model_name": "LayoutModel",
            "_view_count": null,
            "_view_module": "@jupyter-widgets/base",
            "_view_module_version": "1.2.0",
            "_view_name": "LayoutView",
            "align_content": null,
            "align_items": null,
            "align_self": null,
            "border": null,
            "bottom": null,
            "display": null,
            "flex": null,
            "flex_flow": null,
            "grid_area": null,
            "grid_auto_columns": null,
            "grid_auto_flow": null,
            "grid_auto_rows": null,
            "grid_column": null,
            "grid_gap": null,
            "grid_row": null,
            "grid_template_areas": null,
            "grid_template_columns": null,
            "grid_template_rows": null,
            "height": null,
            "justify_content": null,
            "justify_items": null,
            "left": null,
            "margin": null,
            "max_height": null,
            "max_width": null,
            "min_height": null,
            "min_width": null,
            "object_fit": null,
            "object_position": null,
            "order": null,
            "overflow": null,
            "overflow_x": null,
            "overflow_y": null,
            "padding": null,
            "right": null,
            "top": null,
            "visibility": null,
            "width": null
          }
        },
        "d6b506a5ed264d0b8f08870d9aa7804d": {
          "model_module": "@jupyter-widgets/base",
          "model_name": "LayoutModel",
          "model_module_version": "1.2.0",
          "state": {
            "_model_module": "@jupyter-widgets/base",
            "_model_module_version": "1.2.0",
            "_model_name": "LayoutModel",
            "_view_count": null,
            "_view_module": "@jupyter-widgets/base",
            "_view_module_version": "1.2.0",
            "_view_name": "LayoutView",
            "align_content": null,
            "align_items": null,
            "align_self": null,
            "border": null,
            "bottom": null,
            "display": null,
            "flex": null,
            "flex_flow": null,
            "grid_area": null,
            "grid_auto_columns": null,
            "grid_auto_flow": null,
            "grid_auto_rows": null,
            "grid_column": null,
            "grid_gap": null,
            "grid_row": null,
            "grid_template_areas": null,
            "grid_template_columns": null,
            "grid_template_rows": null,
            "height": null,
            "justify_content": null,
            "justify_items": null,
            "left": null,
            "margin": null,
            "max_height": null,
            "max_width": null,
            "min_height": null,
            "min_width": null,
            "object_fit": null,
            "object_position": null,
            "order": null,
            "overflow": null,
            "overflow_x": null,
            "overflow_y": null,
            "padding": null,
            "right": null,
            "top": null,
            "visibility": null,
            "width": null
          }
        },
        "e7f8197ed81640c397f44d8acad454ea": {
          "model_module": "@jupyter-widgets/controls",
          "model_name": "DescriptionStyleModel",
          "model_module_version": "1.5.0",
          "state": {
            "_model_module": "@jupyter-widgets/controls",
            "_model_module_version": "1.5.0",
            "_model_name": "DescriptionStyleModel",
            "_view_count": null,
            "_view_module": "@jupyter-widgets/base",
            "_view_module_version": "1.2.0",
            "_view_name": "StyleView",
            "description_width": ""
          }
        },
        "76f4f16f6f53467c9c27aec110ad7043": {
          "model_module": "@jupyter-widgets/base",
          "model_name": "LayoutModel",
          "model_module_version": "1.2.0",
          "state": {
            "_model_module": "@jupyter-widgets/base",
            "_model_module_version": "1.2.0",
            "_model_name": "LayoutModel",
            "_view_count": null,
            "_view_module": "@jupyter-widgets/base",
            "_view_module_version": "1.2.0",
            "_view_name": "LayoutView",
            "align_content": null,
            "align_items": null,
            "align_self": null,
            "border": null,
            "bottom": null,
            "display": null,
            "flex": null,
            "flex_flow": null,
            "grid_area": null,
            "grid_auto_columns": null,
            "grid_auto_flow": null,
            "grid_auto_rows": null,
            "grid_column": null,
            "grid_gap": null,
            "grid_row": null,
            "grid_template_areas": null,
            "grid_template_columns": null,
            "grid_template_rows": null,
            "height": null,
            "justify_content": null,
            "justify_items": null,
            "left": null,
            "margin": null,
            "max_height": null,
            "max_width": null,
            "min_height": null,
            "min_width": null,
            "object_fit": null,
            "object_position": null,
            "order": null,
            "overflow": null,
            "overflow_x": null,
            "overflow_y": null,
            "padding": null,
            "right": null,
            "top": null,
            "visibility": null,
            "width": null
          }
        },
        "6d070191ce944600bd79ebda88c2c121": {
          "model_module": "@jupyter-widgets/controls",
          "model_name": "ProgressStyleModel",
          "model_module_version": "1.5.0",
          "state": {
            "_model_module": "@jupyter-widgets/controls",
            "_model_module_version": "1.5.0",
            "_model_name": "ProgressStyleModel",
            "_view_count": null,
            "_view_module": "@jupyter-widgets/base",
            "_view_module_version": "1.2.0",
            "_view_name": "StyleView",
            "bar_color": null,
            "description_width": ""
          }
        },
        "fbb052fea73848bfb435993880fc7d2d": {
          "model_module": "@jupyter-widgets/base",
          "model_name": "LayoutModel",
          "model_module_version": "1.2.0",
          "state": {
            "_model_module": "@jupyter-widgets/base",
            "_model_module_version": "1.2.0",
            "_model_name": "LayoutModel",
            "_view_count": null,
            "_view_module": "@jupyter-widgets/base",
            "_view_module_version": "1.2.0",
            "_view_name": "LayoutView",
            "align_content": null,
            "align_items": null,
            "align_self": null,
            "border": null,
            "bottom": null,
            "display": null,
            "flex": null,
            "flex_flow": null,
            "grid_area": null,
            "grid_auto_columns": null,
            "grid_auto_flow": null,
            "grid_auto_rows": null,
            "grid_column": null,
            "grid_gap": null,
            "grid_row": null,
            "grid_template_areas": null,
            "grid_template_columns": null,
            "grid_template_rows": null,
            "height": null,
            "justify_content": null,
            "justify_items": null,
            "left": null,
            "margin": null,
            "max_height": null,
            "max_width": null,
            "min_height": null,
            "min_width": null,
            "object_fit": null,
            "object_position": null,
            "order": null,
            "overflow": null,
            "overflow_x": null,
            "overflow_y": null,
            "padding": null,
            "right": null,
            "top": null,
            "visibility": null,
            "width": null
          }
        },
        "92a06f6f9e9e49039472ceb5eefff41e": {
          "model_module": "@jupyter-widgets/controls",
          "model_name": "DescriptionStyleModel",
          "model_module_version": "1.5.0",
          "state": {
            "_model_module": "@jupyter-widgets/controls",
            "_model_module_version": "1.5.0",
            "_model_name": "DescriptionStyleModel",
            "_view_count": null,
            "_view_module": "@jupyter-widgets/base",
            "_view_module_version": "1.2.0",
            "_view_name": "StyleView",
            "description_width": ""
          }
        },
        "56172d3ec379412dabca3ef61a4233fc": {
          "model_module": "@jupyter-widgets/controls",
          "model_name": "HBoxModel",
          "model_module_version": "1.5.0",
          "state": {
            "_dom_classes": [],
            "_model_module": "@jupyter-widgets/controls",
            "_model_module_version": "1.5.0",
            "_model_name": "HBoxModel",
            "_view_count": null,
            "_view_module": "@jupyter-widgets/controls",
            "_view_module_version": "1.5.0",
            "_view_name": "HBoxView",
            "box_style": "",
            "children": [
              "IPY_MODEL_588bb44ff1954e628aa9d8c4a165c532",
              "IPY_MODEL_98b6e55a71684b60ab23009224329f52",
              "IPY_MODEL_d9640f0d5bff431abfe61da046ece1bd"
            ],
            "layout": "IPY_MODEL_d1db74c8e2ed4700afc0e06f965f643a"
          }
        },
        "588bb44ff1954e628aa9d8c4a165c532": {
          "model_module": "@jupyter-widgets/controls",
          "model_name": "HTMLModel",
          "model_module_version": "1.5.0",
          "state": {
            "_dom_classes": [],
            "_model_module": "@jupyter-widgets/controls",
            "_model_module_version": "1.5.0",
            "_model_name": "HTMLModel",
            "_view_count": null,
            "_view_module": "@jupyter-widgets/controls",
            "_view_module_version": "1.5.0",
            "_view_name": "HTMLView",
            "description": "",
            "description_tooltip": null,
            "layout": "IPY_MODEL_096c13535a0a4138911bf959e0185c48",
            "placeholder": "​",
            "style": "IPY_MODEL_f91f602f365c479a8270debee11fb80d",
            "value": "Downloading: 100%"
          }
        },
        "98b6e55a71684b60ab23009224329f52": {
          "model_module": "@jupyter-widgets/controls",
          "model_name": "FloatProgressModel",
          "model_module_version": "1.5.0",
          "state": {
            "_dom_classes": [],
            "_model_module": "@jupyter-widgets/controls",
            "_model_module_version": "1.5.0",
            "_model_name": "FloatProgressModel",
            "_view_count": null,
            "_view_module": "@jupyter-widgets/controls",
            "_view_module_version": "1.5.0",
            "_view_name": "ProgressView",
            "bar_style": "success",
            "description": "",
            "description_tooltip": null,
            "layout": "IPY_MODEL_a7b813175a8042819dcaf38e061f2a37",
            "max": 456318,
            "min": 0,
            "orientation": "horizontal",
            "style": "IPY_MODEL_50312e7453a84ab29dc1f7a2bf85d4a8",
            "value": 456318
          }
        },
        "d9640f0d5bff431abfe61da046ece1bd": {
          "model_module": "@jupyter-widgets/controls",
          "model_name": "HTMLModel",
          "model_module_version": "1.5.0",
          "state": {
            "_dom_classes": [],
            "_model_module": "@jupyter-widgets/controls",
            "_model_module_version": "1.5.0",
            "_model_name": "HTMLModel",
            "_view_count": null,
            "_view_module": "@jupyter-widgets/controls",
            "_view_module_version": "1.5.0",
            "_view_name": "HTMLView",
            "description": "",
            "description_tooltip": null,
            "layout": "IPY_MODEL_ba761633b792449bba813cf2b7d41a4b",
            "placeholder": "​",
            "style": "IPY_MODEL_ec8769312afb4c5381c794e453bf1005",
            "value": " 456k/456k [00:01&lt;00:00, 479kB/s]"
          }
        },
        "d1db74c8e2ed4700afc0e06f965f643a": {
          "model_module": "@jupyter-widgets/base",
          "model_name": "LayoutModel",
          "model_module_version": "1.2.0",
          "state": {
            "_model_module": "@jupyter-widgets/base",
            "_model_module_version": "1.2.0",
            "_model_name": "LayoutModel",
            "_view_count": null,
            "_view_module": "@jupyter-widgets/base",
            "_view_module_version": "1.2.0",
            "_view_name": "LayoutView",
            "align_content": null,
            "align_items": null,
            "align_self": null,
            "border": null,
            "bottom": null,
            "display": null,
            "flex": null,
            "flex_flow": null,
            "grid_area": null,
            "grid_auto_columns": null,
            "grid_auto_flow": null,
            "grid_auto_rows": null,
            "grid_column": null,
            "grid_gap": null,
            "grid_row": null,
            "grid_template_areas": null,
            "grid_template_columns": null,
            "grid_template_rows": null,
            "height": null,
            "justify_content": null,
            "justify_items": null,
            "left": null,
            "margin": null,
            "max_height": null,
            "max_width": null,
            "min_height": null,
            "min_width": null,
            "object_fit": null,
            "object_position": null,
            "order": null,
            "overflow": null,
            "overflow_x": null,
            "overflow_y": null,
            "padding": null,
            "right": null,
            "top": null,
            "visibility": null,
            "width": null
          }
        },
        "096c13535a0a4138911bf959e0185c48": {
          "model_module": "@jupyter-widgets/base",
          "model_name": "LayoutModel",
          "model_module_version": "1.2.0",
          "state": {
            "_model_module": "@jupyter-widgets/base",
            "_model_module_version": "1.2.0",
            "_model_name": "LayoutModel",
            "_view_count": null,
            "_view_module": "@jupyter-widgets/base",
            "_view_module_version": "1.2.0",
            "_view_name": "LayoutView",
            "align_content": null,
            "align_items": null,
            "align_self": null,
            "border": null,
            "bottom": null,
            "display": null,
            "flex": null,
            "flex_flow": null,
            "grid_area": null,
            "grid_auto_columns": null,
            "grid_auto_flow": null,
            "grid_auto_rows": null,
            "grid_column": null,
            "grid_gap": null,
            "grid_row": null,
            "grid_template_areas": null,
            "grid_template_columns": null,
            "grid_template_rows": null,
            "height": null,
            "justify_content": null,
            "justify_items": null,
            "left": null,
            "margin": null,
            "max_height": null,
            "max_width": null,
            "min_height": null,
            "min_width": null,
            "object_fit": null,
            "object_position": null,
            "order": null,
            "overflow": null,
            "overflow_x": null,
            "overflow_y": null,
            "padding": null,
            "right": null,
            "top": null,
            "visibility": null,
            "width": null
          }
        },
        "f91f602f365c479a8270debee11fb80d": {
          "model_module": "@jupyter-widgets/controls",
          "model_name": "DescriptionStyleModel",
          "model_module_version": "1.5.0",
          "state": {
            "_model_module": "@jupyter-widgets/controls",
            "_model_module_version": "1.5.0",
            "_model_name": "DescriptionStyleModel",
            "_view_count": null,
            "_view_module": "@jupyter-widgets/base",
            "_view_module_version": "1.2.0",
            "_view_name": "StyleView",
            "description_width": ""
          }
        },
        "a7b813175a8042819dcaf38e061f2a37": {
          "model_module": "@jupyter-widgets/base",
          "model_name": "LayoutModel",
          "model_module_version": "1.2.0",
          "state": {
            "_model_module": "@jupyter-widgets/base",
            "_model_module_version": "1.2.0",
            "_model_name": "LayoutModel",
            "_view_count": null,
            "_view_module": "@jupyter-widgets/base",
            "_view_module_version": "1.2.0",
            "_view_name": "LayoutView",
            "align_content": null,
            "align_items": null,
            "align_self": null,
            "border": null,
            "bottom": null,
            "display": null,
            "flex": null,
            "flex_flow": null,
            "grid_area": null,
            "grid_auto_columns": null,
            "grid_auto_flow": null,
            "grid_auto_rows": null,
            "grid_column": null,
            "grid_gap": null,
            "grid_row": null,
            "grid_template_areas": null,
            "grid_template_columns": null,
            "grid_template_rows": null,
            "height": null,
            "justify_content": null,
            "justify_items": null,
            "left": null,
            "margin": null,
            "max_height": null,
            "max_width": null,
            "min_height": null,
            "min_width": null,
            "object_fit": null,
            "object_position": null,
            "order": null,
            "overflow": null,
            "overflow_x": null,
            "overflow_y": null,
            "padding": null,
            "right": null,
            "top": null,
            "visibility": null,
            "width": null
          }
        },
        "50312e7453a84ab29dc1f7a2bf85d4a8": {
          "model_module": "@jupyter-widgets/controls",
          "model_name": "ProgressStyleModel",
          "model_module_version": "1.5.0",
          "state": {
            "_model_module": "@jupyter-widgets/controls",
            "_model_module_version": "1.5.0",
            "_model_name": "ProgressStyleModel",
            "_view_count": null,
            "_view_module": "@jupyter-widgets/base",
            "_view_module_version": "1.2.0",
            "_view_name": "StyleView",
            "bar_color": null,
            "description_width": ""
          }
        },
        "ba761633b792449bba813cf2b7d41a4b": {
          "model_module": "@jupyter-widgets/base",
          "model_name": "LayoutModel",
          "model_module_version": "1.2.0",
          "state": {
            "_model_module": "@jupyter-widgets/base",
            "_model_module_version": "1.2.0",
            "_model_name": "LayoutModel",
            "_view_count": null,
            "_view_module": "@jupyter-widgets/base",
            "_view_module_version": "1.2.0",
            "_view_name": "LayoutView",
            "align_content": null,
            "align_items": null,
            "align_self": null,
            "border": null,
            "bottom": null,
            "display": null,
            "flex": null,
            "flex_flow": null,
            "grid_area": null,
            "grid_auto_columns": null,
            "grid_auto_flow": null,
            "grid_auto_rows": null,
            "grid_column": null,
            "grid_gap": null,
            "grid_row": null,
            "grid_template_areas": null,
            "grid_template_columns": null,
            "grid_template_rows": null,
            "height": null,
            "justify_content": null,
            "justify_items": null,
            "left": null,
            "margin": null,
            "max_height": null,
            "max_width": null,
            "min_height": null,
            "min_width": null,
            "object_fit": null,
            "object_position": null,
            "order": null,
            "overflow": null,
            "overflow_x": null,
            "overflow_y": null,
            "padding": null,
            "right": null,
            "top": null,
            "visibility": null,
            "width": null
          }
        },
        "ec8769312afb4c5381c794e453bf1005": {
          "model_module": "@jupyter-widgets/controls",
          "model_name": "DescriptionStyleModel",
          "model_module_version": "1.5.0",
          "state": {
            "_model_module": "@jupyter-widgets/controls",
            "_model_module_version": "1.5.0",
            "_model_name": "DescriptionStyleModel",
            "_view_count": null,
            "_view_module": "@jupyter-widgets/base",
            "_view_module_version": "1.2.0",
            "_view_name": "StyleView",
            "description_width": ""
          }
        },
        "97c619995d9d4909971eabb49e3357c5": {
          "model_module": "@jupyter-widgets/controls",
          "model_name": "HBoxModel",
          "model_module_version": "1.5.0",
          "state": {
            "_dom_classes": [],
            "_model_module": "@jupyter-widgets/controls",
            "_model_module_version": "1.5.0",
            "_model_name": "HBoxModel",
            "_view_count": null,
            "_view_module": "@jupyter-widgets/controls",
            "_view_module_version": "1.5.0",
            "_view_name": "HBoxView",
            "box_style": "",
            "children": [
              "IPY_MODEL_58c7f5aa07444ce2a53e67ad6537e83b",
              "IPY_MODEL_129303c4b32746f78bbe3c0bcd72b34e",
              "IPY_MODEL_f1441c9e857b465584d43118b3460b5c"
            ],
            "layout": "IPY_MODEL_22cdc53f794a4a969e0a0ef7655e74a3"
          }
        },
        "58c7f5aa07444ce2a53e67ad6537e83b": {
          "model_module": "@jupyter-widgets/controls",
          "model_name": "HTMLModel",
          "model_module_version": "1.5.0",
          "state": {
            "_dom_classes": [],
            "_model_module": "@jupyter-widgets/controls",
            "_model_module_version": "1.5.0",
            "_model_name": "HTMLModel",
            "_view_count": null,
            "_view_module": "@jupyter-widgets/controls",
            "_view_module_version": "1.5.0",
            "_view_name": "HTMLView",
            "description": "",
            "description_tooltip": null,
            "layout": "IPY_MODEL_a72b259b91554610b234627a1d8dc31f",
            "placeholder": "​",
            "style": "IPY_MODEL_af2df31ea7fe42f09e88493e64bf196d",
            "value": "Downloading: 100%"
          }
        },
        "129303c4b32746f78bbe3c0bcd72b34e": {
          "model_module": "@jupyter-widgets/controls",
          "model_name": "FloatProgressModel",
          "model_module_version": "1.5.0",
          "state": {
            "_dom_classes": [],
            "_model_module": "@jupyter-widgets/controls",
            "_model_module_version": "1.5.0",
            "_model_name": "FloatProgressModel",
            "_view_count": null,
            "_view_module": "@jupyter-widgets/controls",
            "_view_module_version": "1.5.0",
            "_view_name": "ProgressView",
            "bar_style": "success",
            "description": "",
            "description_tooltip": null,
            "layout": "IPY_MODEL_9919e396ebc74c239bf62eefb5e5123c",
            "max": 1716,
            "min": 0,
            "orientation": "horizontal",
            "style": "IPY_MODEL_9c5cfc06a9ad493e875a264c565d6619",
            "value": 1716
          }
        },
        "f1441c9e857b465584d43118b3460b5c": {
          "model_module": "@jupyter-widgets/controls",
          "model_name": "HTMLModel",
          "model_module_version": "1.5.0",
          "state": {
            "_dom_classes": [],
            "_model_module": "@jupyter-widgets/controls",
            "_model_module_version": "1.5.0",
            "_model_name": "HTMLModel",
            "_view_count": null,
            "_view_module": "@jupyter-widgets/controls",
            "_view_module_version": "1.5.0",
            "_view_name": "HTMLView",
            "description": "",
            "description_tooltip": null,
            "layout": "IPY_MODEL_11716b05bded4fbd95e2994fb15c9d09",
            "placeholder": "​",
            "style": "IPY_MODEL_535628ca9c5148a29b6c6ca881440413",
            "value": " 1.72k/1.72k [00:00&lt;00:00, 55.8kB/s]"
          }
        },
        "22cdc53f794a4a969e0a0ef7655e74a3": {
          "model_module": "@jupyter-widgets/base",
          "model_name": "LayoutModel",
          "model_module_version": "1.2.0",
          "state": {
            "_model_module": "@jupyter-widgets/base",
            "_model_module_version": "1.2.0",
            "_model_name": "LayoutModel",
            "_view_count": null,
            "_view_module": "@jupyter-widgets/base",
            "_view_module_version": "1.2.0",
            "_view_name": "LayoutView",
            "align_content": null,
            "align_items": null,
            "align_self": null,
            "border": null,
            "bottom": null,
            "display": null,
            "flex": null,
            "flex_flow": null,
            "grid_area": null,
            "grid_auto_columns": null,
            "grid_auto_flow": null,
            "grid_auto_rows": null,
            "grid_column": null,
            "grid_gap": null,
            "grid_row": null,
            "grid_template_areas": null,
            "grid_template_columns": null,
            "grid_template_rows": null,
            "height": null,
            "justify_content": null,
            "justify_items": null,
            "left": null,
            "margin": null,
            "max_height": null,
            "max_width": null,
            "min_height": null,
            "min_width": null,
            "object_fit": null,
            "object_position": null,
            "order": null,
            "overflow": null,
            "overflow_x": null,
            "overflow_y": null,
            "padding": null,
            "right": null,
            "top": null,
            "visibility": null,
            "width": null
          }
        },
        "a72b259b91554610b234627a1d8dc31f": {
          "model_module": "@jupyter-widgets/base",
          "model_name": "LayoutModel",
          "model_module_version": "1.2.0",
          "state": {
            "_model_module": "@jupyter-widgets/base",
            "_model_module_version": "1.2.0",
            "_model_name": "LayoutModel",
            "_view_count": null,
            "_view_module": "@jupyter-widgets/base",
            "_view_module_version": "1.2.0",
            "_view_name": "LayoutView",
            "align_content": null,
            "align_items": null,
            "align_self": null,
            "border": null,
            "bottom": null,
            "display": null,
            "flex": null,
            "flex_flow": null,
            "grid_area": null,
            "grid_auto_columns": null,
            "grid_auto_flow": null,
            "grid_auto_rows": null,
            "grid_column": null,
            "grid_gap": null,
            "grid_row": null,
            "grid_template_areas": null,
            "grid_template_columns": null,
            "grid_template_rows": null,
            "height": null,
            "justify_content": null,
            "justify_items": null,
            "left": null,
            "margin": null,
            "max_height": null,
            "max_width": null,
            "min_height": null,
            "min_width": null,
            "object_fit": null,
            "object_position": null,
            "order": null,
            "overflow": null,
            "overflow_x": null,
            "overflow_y": null,
            "padding": null,
            "right": null,
            "top": null,
            "visibility": null,
            "width": null
          }
        },
        "af2df31ea7fe42f09e88493e64bf196d": {
          "model_module": "@jupyter-widgets/controls",
          "model_name": "DescriptionStyleModel",
          "model_module_version": "1.5.0",
          "state": {
            "_model_module": "@jupyter-widgets/controls",
            "_model_module_version": "1.5.0",
            "_model_name": "DescriptionStyleModel",
            "_view_count": null,
            "_view_module": "@jupyter-widgets/base",
            "_view_module_version": "1.2.0",
            "_view_name": "StyleView",
            "description_width": ""
          }
        },
        "9919e396ebc74c239bf62eefb5e5123c": {
          "model_module": "@jupyter-widgets/base",
          "model_name": "LayoutModel",
          "model_module_version": "1.2.0",
          "state": {
            "_model_module": "@jupyter-widgets/base",
            "_model_module_version": "1.2.0",
            "_model_name": "LayoutModel",
            "_view_count": null,
            "_view_module": "@jupyter-widgets/base",
            "_view_module_version": "1.2.0",
            "_view_name": "LayoutView",
            "align_content": null,
            "align_items": null,
            "align_self": null,
            "border": null,
            "bottom": null,
            "display": null,
            "flex": null,
            "flex_flow": null,
            "grid_area": null,
            "grid_auto_columns": null,
            "grid_auto_flow": null,
            "grid_auto_rows": null,
            "grid_column": null,
            "grid_gap": null,
            "grid_row": null,
            "grid_template_areas": null,
            "grid_template_columns": null,
            "grid_template_rows": null,
            "height": null,
            "justify_content": null,
            "justify_items": null,
            "left": null,
            "margin": null,
            "max_height": null,
            "max_width": null,
            "min_height": null,
            "min_width": null,
            "object_fit": null,
            "object_position": null,
            "order": null,
            "overflow": null,
            "overflow_x": null,
            "overflow_y": null,
            "padding": null,
            "right": null,
            "top": null,
            "visibility": null,
            "width": null
          }
        },
        "9c5cfc06a9ad493e875a264c565d6619": {
          "model_module": "@jupyter-widgets/controls",
          "model_name": "ProgressStyleModel",
          "model_module_version": "1.5.0",
          "state": {
            "_model_module": "@jupyter-widgets/controls",
            "_model_module_version": "1.5.0",
            "_model_name": "ProgressStyleModel",
            "_view_count": null,
            "_view_module": "@jupyter-widgets/base",
            "_view_module_version": "1.2.0",
            "_view_name": "StyleView",
            "bar_color": null,
            "description_width": ""
          }
        },
        "11716b05bded4fbd95e2994fb15c9d09": {
          "model_module": "@jupyter-widgets/base",
          "model_name": "LayoutModel",
          "model_module_version": "1.2.0",
          "state": {
            "_model_module": "@jupyter-widgets/base",
            "_model_module_version": "1.2.0",
            "_model_name": "LayoutModel",
            "_view_count": null,
            "_view_module": "@jupyter-widgets/base",
            "_view_module_version": "1.2.0",
            "_view_name": "LayoutView",
            "align_content": null,
            "align_items": null,
            "align_self": null,
            "border": null,
            "bottom": null,
            "display": null,
            "flex": null,
            "flex_flow": null,
            "grid_area": null,
            "grid_auto_columns": null,
            "grid_auto_flow": null,
            "grid_auto_rows": null,
            "grid_column": null,
            "grid_gap": null,
            "grid_row": null,
            "grid_template_areas": null,
            "grid_template_columns": null,
            "grid_template_rows": null,
            "height": null,
            "justify_content": null,
            "justify_items": null,
            "left": null,
            "margin": null,
            "max_height": null,
            "max_width": null,
            "min_height": null,
            "min_width": null,
            "object_fit": null,
            "object_position": null,
            "order": null,
            "overflow": null,
            "overflow_x": null,
            "overflow_y": null,
            "padding": null,
            "right": null,
            "top": null,
            "visibility": null,
            "width": null
          }
        },
        "535628ca9c5148a29b6c6ca881440413": {
          "model_module": "@jupyter-widgets/controls",
          "model_name": "DescriptionStyleModel",
          "model_module_version": "1.5.0",
          "state": {
            "_model_module": "@jupyter-widgets/controls",
            "_model_module_version": "1.5.0",
            "_model_name": "DescriptionStyleModel",
            "_view_count": null,
            "_view_module": "@jupyter-widgets/base",
            "_view_module_version": "1.2.0",
            "_view_name": "StyleView",
            "description_width": ""
          }
        }
      }
    }
  },
  "nbformat": 4,
  "nbformat_minor": 0
}