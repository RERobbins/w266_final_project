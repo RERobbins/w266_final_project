{
  "nbformat": 4,
  "nbformat_minor": 0,
  "metadata": {
    "colab": {
      "provenance": [],
      "toc_visible": true,
      "authorship_tag": "ABX9TyPF0VOyRR4f5dd48fhi9pX5",
      "include_colab_link": true
    },
    "kernelspec": {
      "name": "python3",
      "display_name": "Python 3"
    },
    "language_info": {
      "name": "python"
    }
  },
  "cells": [
    {
      "cell_type": "markdown",
      "metadata": {
        "id": "view-in-github",
        "colab_type": "text"
      },
      "source": [
        "<a href=\"https://colab.research.google.com/github/jeanlucjackson/w266_final_project/blob/main/code/evaluation/evaluation_probe.ipynb\" target=\"_parent\"><img src=\"https://colab.research.google.com/assets/colab-badge.svg\" alt=\"Open In Colab\"/></a>"
      ]
    },
    {
      "cell_type": "markdown",
      "source": [
        "# Imports & Google Drive Mounting"
      ],
      "metadata": {
        "id": "1HutV_9t6GXY"
      }
    },
    {
      "cell_type": "code",
      "execution_count": 1,
      "metadata": {
        "id": "I6KoRhHS58Py"
      },
      "outputs": [],
      "source": [
        "import json\n",
        "import pprint\n",
        "\n",
        "import numpy as np\n",
        "import pandas as pd\n",
        "\n",
        "# Hugging Face Evaluation module\n",
        "!pip install -q evaluate\n",
        "import evaluate\n",
        "\n",
        "# For loading the Universal Sentence Encoder\n",
        "import tensorflow_hub as hub"
      ]
    },
    {
      "cell_type": "code",
      "source": [
        "# pip Installs\n",
        "\n",
        "!pip install -q rouge_score\n",
        "!pip install bert_score"
      ],
      "metadata": {
        "colab": {
          "base_uri": "https://localhost:8080/"
        },
        "id": "IkP-N-F7-_qA",
        "outputId": "70573d6d-3f83-476b-f1be-a480b3278f7c"
      },
      "execution_count": 2,
      "outputs": [
        {
          "output_type": "stream",
          "name": "stdout",
          "text": [
            "Looking in indexes: https://pypi.org/simple, https://us-python.pkg.dev/colab-wheels/public/simple/\n",
            "Requirement already satisfied: bert_score in /usr/local/lib/python3.7/dist-packages (0.3.12)\n",
            "Requirement already satisfied: pandas>=1.0.1 in /usr/local/lib/python3.7/dist-packages (from bert_score) (1.3.5)\n",
            "Requirement already satisfied: tqdm>=4.31.1 in /usr/local/lib/python3.7/dist-packages (from bert_score) (4.64.1)\n",
            "Requirement already satisfied: packaging>=20.9 in /usr/local/lib/python3.7/dist-packages (from bert_score) (21.3)\n",
            "Requirement already satisfied: numpy in /usr/local/lib/python3.7/dist-packages (from bert_score) (1.21.6)\n",
            "Requirement already satisfied: matplotlib in /usr/local/lib/python3.7/dist-packages (from bert_score) (3.2.2)\n",
            "Requirement already satisfied: torch>=1.0.0 in /usr/local/lib/python3.7/dist-packages (from bert_score) (1.12.1+cu113)\n",
            "Requirement already satisfied: transformers>=3.0.0 in /usr/local/lib/python3.7/dist-packages (from bert_score) (4.24.0)\n",
            "Requirement already satisfied: requests in /usr/local/lib/python3.7/dist-packages (from bert_score) (2.23.0)\n",
            "Requirement already satisfied: pyparsing!=3.0.5,>=2.0.2 in /usr/local/lib/python3.7/dist-packages (from packaging>=20.9->bert_score) (3.0.9)\n",
            "Requirement already satisfied: pytz>=2017.3 in /usr/local/lib/python3.7/dist-packages (from pandas>=1.0.1->bert_score) (2022.6)\n",
            "Requirement already satisfied: python-dateutil>=2.7.3 in /usr/local/lib/python3.7/dist-packages (from pandas>=1.0.1->bert_score) (2.8.2)\n",
            "Requirement already satisfied: six>=1.5 in /usr/local/lib/python3.7/dist-packages (from python-dateutil>=2.7.3->pandas>=1.0.1->bert_score) (1.15.0)\n",
            "Requirement already satisfied: typing-extensions in /usr/local/lib/python3.7/dist-packages (from torch>=1.0.0->bert_score) (4.1.1)\n",
            "Requirement already satisfied: filelock in /usr/local/lib/python3.7/dist-packages (from transformers>=3.0.0->bert_score) (3.8.0)\n",
            "Requirement already satisfied: importlib-metadata in /usr/local/lib/python3.7/dist-packages (from transformers>=3.0.0->bert_score) (4.13.0)\n",
            "Requirement already satisfied: tokenizers!=0.11.3,<0.14,>=0.11.1 in /usr/local/lib/python3.7/dist-packages (from transformers>=3.0.0->bert_score) (0.13.2)\n",
            "Requirement already satisfied: huggingface-hub<1.0,>=0.10.0 in /usr/local/lib/python3.7/dist-packages (from transformers>=3.0.0->bert_score) (0.11.1)\n",
            "Requirement already satisfied: pyyaml>=5.1 in /usr/local/lib/python3.7/dist-packages (from transformers>=3.0.0->bert_score) (6.0)\n",
            "Requirement already satisfied: regex!=2019.12.17 in /usr/local/lib/python3.7/dist-packages (from transformers>=3.0.0->bert_score) (2022.6.2)\n",
            "Requirement already satisfied: zipp>=0.5 in /usr/local/lib/python3.7/dist-packages (from importlib-metadata->transformers>=3.0.0->bert_score) (3.10.0)\n",
            "Requirement already satisfied: cycler>=0.10 in /usr/local/lib/python3.7/dist-packages (from matplotlib->bert_score) (0.11.0)\n",
            "Requirement already satisfied: kiwisolver>=1.0.1 in /usr/local/lib/python3.7/dist-packages (from matplotlib->bert_score) (1.4.4)\n",
            "Requirement already satisfied: urllib3!=1.25.0,!=1.25.1,<1.26,>=1.21.1 in /usr/local/lib/python3.7/dist-packages (from requests->bert_score) (1.25.11)\n",
            "Requirement already satisfied: chardet<4,>=3.0.2 in /usr/local/lib/python3.7/dist-packages (from requests->bert_score) (3.0.4)\n",
            "Requirement already satisfied: certifi>=2017.4.17 in /usr/local/lib/python3.7/dist-packages (from requests->bert_score) (2022.9.24)\n",
            "Requirement already satisfied: idna<3,>=2.5 in /usr/local/lib/python3.7/dist-packages (from requests->bert_score) (2.10)\n"
          ]
        }
      ]
    },
    {
      "cell_type": "code",
      "source": [
        "# This cell will authenticate you and mount your Drive in the Colab.\n",
        "from google.colab import drive\n",
        "drive.mount('/content/drive')"
      ],
      "metadata": {
        "colab": {
          "base_uri": "https://localhost:8080/"
        },
        "id": "eo-xQBrk6IQW",
        "outputId": "7b840269-3844-40f2-fb44-1f5e570ac520"
      },
      "execution_count": 3,
      "outputs": [
        {
          "output_type": "stream",
          "name": "stdout",
          "text": [
            "Drive already mounted at /content/drive; to attempt to forcibly remount, call drive.mount(\"/content/drive\", force_remount=True).\n"
          ]
        }
      ]
    },
    {
      "cell_type": "markdown",
      "source": [
        "___\n",
        "# `Evaluation_Probe` Class"
      ],
      "metadata": {
        "id": "WeOwVeh96lPl"
      }
    },
    {
      "cell_type": "code",
      "source": [
        "class Evaluation_Probe:\n",
        "  \"\"\"\n",
        "  docstring\n",
        "  \"\"\"\n",
        "  \n",
        "  def __init__(self):\n",
        "    \n",
        "    # Dictionary to store functions that compute each metric\n",
        "    self.metric_computes = {}\n",
        "    self.internal_computes = {}\n",
        "    \n",
        "    # DataFrame to store history of computations\n",
        "    self.eval_history_df = pd.DataFrame()\n",
        "    \n",
        "    # Load all metric modules upon initializing\n",
        "    self._load_metrics()\n",
        "\n",
        "  \n",
        "  def _load_metrics(self):\n",
        "    \"\"\"\n",
        "    Load evaluation modules to run metrics.\n",
        "\n",
        "    Metrics loaded:\n",
        "    - BLEU\n",
        "    - ROUGE\n",
        "    - METEOR\n",
        "    - BERTScore\n",
        "    - Universal Sentence Encoder\n",
        "    \"\"\"\n",
        "    \n",
        "    # BLEU\n",
        "    bleu = evaluate.load(\"bleu\")\n",
        "\n",
        "    # ROUGE\n",
        "    rouge = evaluate.load('rouge')\n",
        "\n",
        "    # METEOR\n",
        "    meteor = evaluate.load('meteor')\n",
        "\n",
        "    # BERTScore\n",
        "    bertscore = evaluate.load('bertscore')\n",
        "\n",
        "    # USE\n",
        "    module_url = \"https://tfhub.dev/google/universal-sentence-encoder/4\"\n",
        "    use_model = hub.load(module_url)\n",
        "\n",
        "    # Add functions to metric compute dictionary\n",
        "    self.metric_computes.update(\n",
        "        {\n",
        "            'bleu': bleu,\n",
        "            'rouge': rouge,\n",
        "            'meteor': meteor,\n",
        "            'bertscore': bertscore,\n",
        "            'use': use_model\n",
        "        }\n",
        "    )\n",
        "    self.internal_computes.update(\n",
        "        {\n",
        "            'bleu': self.bleu_eval,\n",
        "            'rouge': self.rougeL_eval,\n",
        "            'meteor': self.meteor_eval,\n",
        "            'bertscore': self.bertscore_eval,\n",
        "            'use': self.use_eval\n",
        "        }\n",
        "    )\n",
        "\n",
        "\n",
        "  def get_metric_compute(self, metric_name):\n",
        "    return self.metric_computes[metric_name]\n",
        "\n",
        "  def get_internal_compute(self, metric_name):\n",
        "    return self.internal_computes[metric_name]\n",
        "\n",
        "  \n",
        "  def bleu_eval(self, prediction, target):\n",
        "    bleu = self.metric_computes['bleu']\n",
        "    return bleu.compute(predictions=[prediction],\n",
        "                        references=[target])['bleu']\n",
        "  \n",
        "  def use_eval(self, prediction, target):\n",
        "    \"\"\"\n",
        "    Calculate cosine similarity between USE embeds of inputs.\n",
        "    \"\"\"\n",
        "    use_model = self.get_metric_compute('use')\n",
        "    embeds = use_model(\n",
        "        [\n",
        "          target,\n",
        "          prediction\n",
        "        ]\n",
        "    )\n",
        "\n",
        "    # Calculate correlation between embeddings\n",
        "    corr = np.inner(embeds, embeds)\n",
        "\n",
        "    # Grab prediction's correlation score\n",
        "    pred_corr = corr[0].tolist()[1]\n",
        "\n",
        "    return pred_corr\n",
        "\n",
        "\n",
        "  def rougeL_eval(self, prediction, target):\n",
        "    rouge = self.metric_computes['rouge']\n",
        "    return rouge.compute(predictions=[prediction],\n",
        "                         references=[target])['rougeL']\n",
        "\n",
        "  def meteor_eval(self, prediction, target):\n",
        "    meteor = self.metric_computes['meteor']\n",
        "    return meteor.compute(predictions=[prediction],\n",
        "                          references=[target])['meteor']\n",
        "  \n",
        "  def bertscore_eval(self, prediction, target):\n",
        "    bertscore = self.metric_computes['bertscore']\n",
        "    return bertscore.compute(predictions=[prediction],\n",
        "                             references=[target],\n",
        "                             model_type='distilbert-base-uncased')['f1'][0]\n",
        "\n",
        "\n",
        "  def evaluate(self, prediction, target):\n",
        "    \"\"\"\n",
        "    Evaluates a prediction based on the target across all loaded metrics\n",
        "    in the internal metric dictionary.\n",
        "    \"\"\"\n",
        "\n",
        "    results = {}\n",
        "    # Add target and prediction\n",
        "    results.update(\n",
        "        {\n",
        "            'target': target,\n",
        "            'prediction': prediction\n",
        "        }\n",
        "    )\n",
        "\n",
        "    # Evaluate on each metric\n",
        "    for metric in self.metric_computes.keys():\n",
        "      results.update(\n",
        "          {\n",
        "              metric: self.internal_computes[metric](prediction, target)\n",
        "          }\n",
        "      )\n",
        "\n",
        "    # Add to history DF\n",
        "    self.update_history(results)\n",
        "    \n",
        "    # Return\n",
        "    return results\n",
        "\n",
        "  \n",
        "  def update_history(self, new_row):\n",
        "    new_row_df = pd.DataFrame(new_row, index=[0])\n",
        "\n",
        "    self.eval_history_df = pd.concat([self.eval_history_df, new_row_df],\n",
        "                                     ignore_index=True)\n",
        "\n",
        "\n",
        "  def get_history(self):\n",
        "    return self.eval_history_df\n"
      ],
      "metadata": {
        "id": "ZW14qAdW6Jg_"
      },
      "execution_count": 4,
      "outputs": []
    },
    {
      "cell_type": "markdown",
      "source": [
        "# How to Use `Evaluation_Probe`"
      ],
      "metadata": {
        "id": "uOfvUwvPNPfx"
      }
    },
    {
      "cell_type": "code",
      "source": [
        "eval = Evaluation_Probe()"
      ],
      "metadata": {
        "colab": {
          "base_uri": "https://localhost:8080/"
        },
        "id": "sqdQvrbOCQx5",
        "outputId": "69015843-64fa-43ac-c033-d7c12a0bf87f"
      },
      "execution_count": 5,
      "outputs": [
        {
          "output_type": "stream",
          "name": "stderr",
          "text": [
            "[nltk_data] Downloading package wordnet to /root/nltk_data...\n",
            "[nltk_data]   Package wordnet is already up-to-date!\n",
            "[nltk_data] Downloading package punkt to /root/nltk_data...\n",
            "[nltk_data]   Package punkt is already up-to-date!\n",
            "[nltk_data] Downloading package omw-1.4 to /root/nltk_data...\n",
            "[nltk_data]   Package omw-1.4 is already up-to-date!\n"
          ]
        }
      ]
    },
    {
      "cell_type": "code",
      "source": [
        "target =     \"who has the power to approve or veto legislation constitution?\"\n",
        "\n",
        "prediction = \"who has the power to veto a bill?\""
      ],
      "metadata": {
        "id": "i5hAUaIrCW6c"
      },
      "execution_count": 6,
      "outputs": []
    },
    {
      "cell_type": "code",
      "source": [
        "eval.evaluate(prediction, target)"
      ],
      "metadata": {
        "colab": {
          "base_uri": "https://localhost:8080/"
        },
        "id": "0RThCpOKCkCf",
        "outputId": "5953a1f6-9717-4028-cb54-6548b32c7839"
      },
      "execution_count": 7,
      "outputs": [
        {
          "output_type": "execute_result",
          "data": {
            "text/plain": [
              "{'target': 'who has the power to approve or veto legislation constitution?',\n",
              " 'prediction': 'who has the power to veto a bill?',\n",
              " 'bleu': 0.3887514204144021,\n",
              " 'rouge': 0.6666666666666665,\n",
              " 'meteor': 0.6226379440665155,\n",
              " 'bertscore': 0.9280303120613098,\n",
              " 'use': 0.7975350618362427}"
            ]
          },
          "metadata": {},
          "execution_count": 7
        }
      ]
    },
    {
      "cell_type": "code",
      "source": [
        "df = eval.get_history()\n",
        "df"
      ],
      "metadata": {
        "colab": {
          "base_uri": "https://localhost:8080/",
          "height": 81
        },
        "id": "JPl7UskjHlPb",
        "outputId": "582e585e-9389-4487-98e8-84e00d903c63"
      },
      "execution_count": 8,
      "outputs": [
        {
          "output_type": "execute_result",
          "data": {
            "text/plain": [
              "                                              target  \\\n",
              "0  who has the power to approve or veto legislati...   \n",
              "\n",
              "                          prediction      bleu     rouge    meteor  bertscore  \\\n",
              "0  who has the power to veto a bill?  0.388751  0.666667  0.622638    0.92803   \n",
              "\n",
              "        use  \n",
              "0  0.797535  "
            ],
            "text/html": [
              "\n",
              "  <div id=\"df-180bee41-0fce-4b49-bdd7-9fe199d14776\">\n",
              "    <div class=\"colab-df-container\">\n",
              "      <div>\n",
              "<style scoped>\n",
              "    .dataframe tbody tr th:only-of-type {\n",
              "        vertical-align: middle;\n",
              "    }\n",
              "\n",
              "    .dataframe tbody tr th {\n",
              "        vertical-align: top;\n",
              "    }\n",
              "\n",
              "    .dataframe thead th {\n",
              "        text-align: right;\n",
              "    }\n",
              "</style>\n",
              "<table border=\"1\" class=\"dataframe\">\n",
              "  <thead>\n",
              "    <tr style=\"text-align: right;\">\n",
              "      <th></th>\n",
              "      <th>target</th>\n",
              "      <th>prediction</th>\n",
              "      <th>bleu</th>\n",
              "      <th>rouge</th>\n",
              "      <th>meteor</th>\n",
              "      <th>bertscore</th>\n",
              "      <th>use</th>\n",
              "    </tr>\n",
              "  </thead>\n",
              "  <tbody>\n",
              "    <tr>\n",
              "      <th>0</th>\n",
              "      <td>who has the power to approve or veto legislati...</td>\n",
              "      <td>who has the power to veto a bill?</td>\n",
              "      <td>0.388751</td>\n",
              "      <td>0.666667</td>\n",
              "      <td>0.622638</td>\n",
              "      <td>0.92803</td>\n",
              "      <td>0.797535</td>\n",
              "    </tr>\n",
              "  </tbody>\n",
              "</table>\n",
              "</div>\n",
              "      <button class=\"colab-df-convert\" onclick=\"convertToInteractive('df-180bee41-0fce-4b49-bdd7-9fe199d14776')\"\n",
              "              title=\"Convert this dataframe to an interactive table.\"\n",
              "              style=\"display:none;\">\n",
              "        \n",
              "  <svg xmlns=\"http://www.w3.org/2000/svg\" height=\"24px\"viewBox=\"0 0 24 24\"\n",
              "       width=\"24px\">\n",
              "    <path d=\"M0 0h24v24H0V0z\" fill=\"none\"/>\n",
              "    <path d=\"M18.56 5.44l.94 2.06.94-2.06 2.06-.94-2.06-.94-.94-2.06-.94 2.06-2.06.94zm-11 1L8.5 8.5l.94-2.06 2.06-.94-2.06-.94L8.5 2.5l-.94 2.06-2.06.94zm10 10l.94 2.06.94-2.06 2.06-.94-2.06-.94-.94-2.06-.94 2.06-2.06.94z\"/><path d=\"M17.41 7.96l-1.37-1.37c-.4-.4-.92-.59-1.43-.59-.52 0-1.04.2-1.43.59L10.3 9.45l-7.72 7.72c-.78.78-.78 2.05 0 2.83L4 21.41c.39.39.9.59 1.41.59.51 0 1.02-.2 1.41-.59l7.78-7.78 2.81-2.81c.8-.78.8-2.07 0-2.86zM5.41 20L4 18.59l7.72-7.72 1.47 1.35L5.41 20z\"/>\n",
              "  </svg>\n",
              "      </button>\n",
              "      \n",
              "  <style>\n",
              "    .colab-df-container {\n",
              "      display:flex;\n",
              "      flex-wrap:wrap;\n",
              "      gap: 12px;\n",
              "    }\n",
              "\n",
              "    .colab-df-convert {\n",
              "      background-color: #E8F0FE;\n",
              "      border: none;\n",
              "      border-radius: 50%;\n",
              "      cursor: pointer;\n",
              "      display: none;\n",
              "      fill: #1967D2;\n",
              "      height: 32px;\n",
              "      padding: 0 0 0 0;\n",
              "      width: 32px;\n",
              "    }\n",
              "\n",
              "    .colab-df-convert:hover {\n",
              "      background-color: #E2EBFA;\n",
              "      box-shadow: 0px 1px 2px rgba(60, 64, 67, 0.3), 0px 1px 3px 1px rgba(60, 64, 67, 0.15);\n",
              "      fill: #174EA6;\n",
              "    }\n",
              "\n",
              "    [theme=dark] .colab-df-convert {\n",
              "      background-color: #3B4455;\n",
              "      fill: #D2E3FC;\n",
              "    }\n",
              "\n",
              "    [theme=dark] .colab-df-convert:hover {\n",
              "      background-color: #434B5C;\n",
              "      box-shadow: 0px 1px 3px 1px rgba(0, 0, 0, 0.15);\n",
              "      filter: drop-shadow(0px 1px 2px rgba(0, 0, 0, 0.3));\n",
              "      fill: #FFFFFF;\n",
              "    }\n",
              "  </style>\n",
              "\n",
              "      <script>\n",
              "        const buttonEl =\n",
              "          document.querySelector('#df-180bee41-0fce-4b49-bdd7-9fe199d14776 button.colab-df-convert');\n",
              "        buttonEl.style.display =\n",
              "          google.colab.kernel.accessAllowed ? 'block' : 'none';\n",
              "\n",
              "        async function convertToInteractive(key) {\n",
              "          const element = document.querySelector('#df-180bee41-0fce-4b49-bdd7-9fe199d14776');\n",
              "          const dataTable =\n",
              "            await google.colab.kernel.invokeFunction('convertToInteractive',\n",
              "                                                     [key], {});\n",
              "          if (!dataTable) return;\n",
              "\n",
              "          const docLinkHtml = 'Like what you see? Visit the ' +\n",
              "            '<a target=\"_blank\" href=https://colab.research.google.com/notebooks/data_table.ipynb>data table notebook</a>'\n",
              "            + ' to learn more about interactive tables.';\n",
              "          element.innerHTML = '';\n",
              "          dataTable['output_type'] = 'display_data';\n",
              "          await google.colab.output.renderOutput(dataTable, element);\n",
              "          const docLink = document.createElement('div');\n",
              "          docLink.innerHTML = docLinkHtml;\n",
              "          element.appendChild(docLink);\n",
              "        }\n",
              "      </script>\n",
              "    </div>\n",
              "  </div>\n",
              "  "
            ]
          },
          "metadata": {},
          "execution_count": 8
        }
      ]
    },
    {
      "cell_type": "code",
      "source": [
        "target =     \"who scored the game winning run in the last inning of last night's game?\"\n",
        "\n",
        "prediction = \"what player scored the final run in yesterday's match to win it?\"\n",
        "\n",
        "eval.evaluate(prediction, target)"
      ],
      "metadata": {
        "colab": {
          "base_uri": "https://localhost:8080/"
        },
        "id": "Gr8qMz4wCmJJ",
        "outputId": "9df965f1-5323-47e1-ac7d-ccc3b09e00f1"
      },
      "execution_count": 9,
      "outputs": [
        {
          "output_type": "execute_result",
          "data": {
            "text/plain": [
              "{'target': \"who scored the game winning run in the last inning of last night's game?\",\n",
              " 'prediction': \"what player scored the final run in yesterday's match to win it?\",\n",
              " 'bleu': 0.0,\n",
              " 'rouge': 0.3571428571428571,\n",
              " 'meteor': 0.3367286392405063,\n",
              " 'bertscore': 0.8611516356468201,\n",
              " 'use': 0.714165210723877}"
            ]
          },
          "metadata": {},
          "execution_count": 9
        }
      ]
    },
    {
      "cell_type": "code",
      "source": [
        "df = eval.get_history()\n",
        "df"
      ],
      "metadata": {
        "colab": {
          "base_uri": "https://localhost:8080/",
          "height": 112
        },
        "id": "UHbQGx9bI8MG",
        "outputId": "9ebe127f-2a57-4541-ed7e-d0fa21305c57"
      },
      "execution_count": 10,
      "outputs": [
        {
          "output_type": "execute_result",
          "data": {
            "text/plain": [
              "                                              target  \\\n",
              "0  who has the power to approve or veto legislati...   \n",
              "1  who scored the game winning run in the last in...   \n",
              "\n",
              "                                          prediction      bleu     rouge  \\\n",
              "0                  who has the power to veto a bill?  0.388751  0.666667   \n",
              "1  what player scored the final run in yesterday'...  0.000000  0.357143   \n",
              "\n",
              "     meteor  bertscore       use  \n",
              "0  0.622638   0.928030  0.797535  \n",
              "1  0.336729   0.861152  0.714165  "
            ],
            "text/html": [
              "\n",
              "  <div id=\"df-88c5e071-cf91-4779-9acf-3261625390e1\">\n",
              "    <div class=\"colab-df-container\">\n",
              "      <div>\n",
              "<style scoped>\n",
              "    .dataframe tbody tr th:only-of-type {\n",
              "        vertical-align: middle;\n",
              "    }\n",
              "\n",
              "    .dataframe tbody tr th {\n",
              "        vertical-align: top;\n",
              "    }\n",
              "\n",
              "    .dataframe thead th {\n",
              "        text-align: right;\n",
              "    }\n",
              "</style>\n",
              "<table border=\"1\" class=\"dataframe\">\n",
              "  <thead>\n",
              "    <tr style=\"text-align: right;\">\n",
              "      <th></th>\n",
              "      <th>target</th>\n",
              "      <th>prediction</th>\n",
              "      <th>bleu</th>\n",
              "      <th>rouge</th>\n",
              "      <th>meteor</th>\n",
              "      <th>bertscore</th>\n",
              "      <th>use</th>\n",
              "    </tr>\n",
              "  </thead>\n",
              "  <tbody>\n",
              "    <tr>\n",
              "      <th>0</th>\n",
              "      <td>who has the power to approve or veto legislati...</td>\n",
              "      <td>who has the power to veto a bill?</td>\n",
              "      <td>0.388751</td>\n",
              "      <td>0.666667</td>\n",
              "      <td>0.622638</td>\n",
              "      <td>0.928030</td>\n",
              "      <td>0.797535</td>\n",
              "    </tr>\n",
              "    <tr>\n",
              "      <th>1</th>\n",
              "      <td>who scored the game winning run in the last in...</td>\n",
              "      <td>what player scored the final run in yesterday'...</td>\n",
              "      <td>0.000000</td>\n",
              "      <td>0.357143</td>\n",
              "      <td>0.336729</td>\n",
              "      <td>0.861152</td>\n",
              "      <td>0.714165</td>\n",
              "    </tr>\n",
              "  </tbody>\n",
              "</table>\n",
              "</div>\n",
              "      <button class=\"colab-df-convert\" onclick=\"convertToInteractive('df-88c5e071-cf91-4779-9acf-3261625390e1')\"\n",
              "              title=\"Convert this dataframe to an interactive table.\"\n",
              "              style=\"display:none;\">\n",
              "        \n",
              "  <svg xmlns=\"http://www.w3.org/2000/svg\" height=\"24px\"viewBox=\"0 0 24 24\"\n",
              "       width=\"24px\">\n",
              "    <path d=\"M0 0h24v24H0V0z\" fill=\"none\"/>\n",
              "    <path d=\"M18.56 5.44l.94 2.06.94-2.06 2.06-.94-2.06-.94-.94-2.06-.94 2.06-2.06.94zm-11 1L8.5 8.5l.94-2.06 2.06-.94-2.06-.94L8.5 2.5l-.94 2.06-2.06.94zm10 10l.94 2.06.94-2.06 2.06-.94-2.06-.94-.94-2.06-.94 2.06-2.06.94z\"/><path d=\"M17.41 7.96l-1.37-1.37c-.4-.4-.92-.59-1.43-.59-.52 0-1.04.2-1.43.59L10.3 9.45l-7.72 7.72c-.78.78-.78 2.05 0 2.83L4 21.41c.39.39.9.59 1.41.59.51 0 1.02-.2 1.41-.59l7.78-7.78 2.81-2.81c.8-.78.8-2.07 0-2.86zM5.41 20L4 18.59l7.72-7.72 1.47 1.35L5.41 20z\"/>\n",
              "  </svg>\n",
              "      </button>\n",
              "      \n",
              "  <style>\n",
              "    .colab-df-container {\n",
              "      display:flex;\n",
              "      flex-wrap:wrap;\n",
              "      gap: 12px;\n",
              "    }\n",
              "\n",
              "    .colab-df-convert {\n",
              "      background-color: #E8F0FE;\n",
              "      border: none;\n",
              "      border-radius: 50%;\n",
              "      cursor: pointer;\n",
              "      display: none;\n",
              "      fill: #1967D2;\n",
              "      height: 32px;\n",
              "      padding: 0 0 0 0;\n",
              "      width: 32px;\n",
              "    }\n",
              "\n",
              "    .colab-df-convert:hover {\n",
              "      background-color: #E2EBFA;\n",
              "      box-shadow: 0px 1px 2px rgba(60, 64, 67, 0.3), 0px 1px 3px 1px rgba(60, 64, 67, 0.15);\n",
              "      fill: #174EA6;\n",
              "    }\n",
              "\n",
              "    [theme=dark] .colab-df-convert {\n",
              "      background-color: #3B4455;\n",
              "      fill: #D2E3FC;\n",
              "    }\n",
              "\n",
              "    [theme=dark] .colab-df-convert:hover {\n",
              "      background-color: #434B5C;\n",
              "      box-shadow: 0px 1px 3px 1px rgba(0, 0, 0, 0.15);\n",
              "      filter: drop-shadow(0px 1px 2px rgba(0, 0, 0, 0.3));\n",
              "      fill: #FFFFFF;\n",
              "    }\n",
              "  </style>\n",
              "\n",
              "      <script>\n",
              "        const buttonEl =\n",
              "          document.querySelector('#df-88c5e071-cf91-4779-9acf-3261625390e1 button.colab-df-convert');\n",
              "        buttonEl.style.display =\n",
              "          google.colab.kernel.accessAllowed ? 'block' : 'none';\n",
              "\n",
              "        async function convertToInteractive(key) {\n",
              "          const element = document.querySelector('#df-88c5e071-cf91-4779-9acf-3261625390e1');\n",
              "          const dataTable =\n",
              "            await google.colab.kernel.invokeFunction('convertToInteractive',\n",
              "                                                     [key], {});\n",
              "          if (!dataTable) return;\n",
              "\n",
              "          const docLinkHtml = 'Like what you see? Visit the ' +\n",
              "            '<a target=\"_blank\" href=https://colab.research.google.com/notebooks/data_table.ipynb>data table notebook</a>'\n",
              "            + ' to learn more about interactive tables.';\n",
              "          element.innerHTML = '';\n",
              "          dataTable['output_type'] = 'display_data';\n",
              "          await google.colab.output.renderOutput(dataTable, element);\n",
              "          const docLink = document.createElement('div');\n",
              "          docLink.innerHTML = docLinkHtml;\n",
              "          element.appendChild(docLink);\n",
              "        }\n",
              "      </script>\n",
              "    </div>\n",
              "  </div>\n",
              "  "
            ]
          },
          "metadata": {},
          "execution_count": 10
        }
      ]
    }
  ]
}