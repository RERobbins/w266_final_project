{
 "cells": [
  {
   "cell_type": "code",
   "execution_count": 1,
   "id": "52a443d8",
   "metadata": {},
   "outputs": [],
   "source": [
    "import os\n",
    "import re\n",
    "import numpy as np\n",
    "import pandas as pd\n",
    "import json\n",
    "\n",
    "from matplotlib import pyplot as plt\n",
    "from pprint import pprint"
   ]
  },
  {
   "cell_type": "code",
   "execution_count": 58,
   "id": "65174b1d",
   "metadata": {},
   "outputs": [],
   "source": [
    "train_quac = pd.read_json(\"quac_train.squad.json\")\n",
    "train_quac = train_quac['data']"
   ]
  },
  {
   "cell_type": "code",
   "execution_count": 12,
   "id": "44033f14",
   "metadata": {},
   "outputs": [
    {
     "data": {
      "text/plain": [
       "pandas.core.series.Series"
      ]
     },
     "execution_count": 12,
     "metadata": {},
     "output_type": "execute_result"
    }
   ],
   "source": [
    "type(train_quac)"
   ]
  },
  {
   "cell_type": "code",
   "execution_count": 13,
   "id": "04dbc8ed",
   "metadata": {},
   "outputs": [
    {
     "data": {
      "text/plain": [
       "0        {'paragraphs': [{'context': 'According to the ...\n",
       "1        {'paragraphs': [{'context': 'According to the ...\n",
       "2        {'paragraphs': [{'context': 'According to the ...\n",
       "3        {'paragraphs': [{'context': 'According to the ...\n",
       "4        {'paragraphs': [{'context': 'According to the ...\n",
       "                               ...                        \n",
       "83563    {'paragraphs': [{'context': 'The band was foun...\n",
       "83564    {'paragraphs': [{'context': 'The band was foun...\n",
       "83565    {'paragraphs': [{'context': 'The band was foun...\n",
       "83566    {'paragraphs': [{'context': 'The band was foun...\n",
       "83567    {'paragraphs': [{'context': 'The band was foun...\n",
       "Name: data, Length: 83568, dtype: object"
      ]
     },
     "execution_count": 13,
     "metadata": {},
     "output_type": "execute_result"
    }
   ],
   "source": [
    "train_quac"
   ]
  },
  {
   "cell_type": "code",
   "execution_count": 63,
   "id": "32a3b6fe",
   "metadata": {},
   "outputs": [
    {
     "name": "stdout",
     "output_type": "stream",
     "text": [
      "{'paragraphs': [{'context': 'According to the Indian census of 2001, there '\n",
      "                            'were 30,803,747 speakers of Malayalam in Kerala, '\n",
      "                            'making up 93.2% of the total number of Malayalam '\n",
      "                            'speakers in India, and 96.7% of the total '\n",
      "                            'population of the state. There were a further '\n",
      "                            '701,673 (2.1% of the total number) in Karnataka, '\n",
      "                            '557,705 (1.7%) in Tamil Nadu and 406,358 (1.2%) '\n",
      "                            'in Maharashtra. The number of Malayalam speakers '\n",
      "                            'in Lakshadweep is 51,100, which is only 0.15% of '\n",
      "                            'the total number, but is as much as about 84% of '\n",
      "                            'the population of Lakshadweep. In all, Malayalis '\n",
      "                            'made up 3.22% of the total Indian population in '\n",
      "                            '2001. Of the total 33,066,392 Malayalam speakers '\n",
      "                            'in India in 2001, 33,015,420 spoke the standard '\n",
      "                            'dialects, 19,643 spoke the Yerava dialect and '\n",
      "                            '31,329 spoke non-standard regional variations '\n",
      "                            'like Eranadan. As per the 1991 census data, '\n",
      "                            '28.85% of all Malayalam speakers in India spoke a '\n",
      "                            'second language and 19.64% of the total knew '\n",
      "                            'three or more languages.  Large numbers of '\n",
      "                            'Malayalis have settled in Bangalore, Mangalore, '\n",
      "                            'Delhi, Coimbatore, Hyderabad, Mumbai (Bombay), '\n",
      "                            'Ahmedabad, Pune, and Chennai (Madras). A large '\n",
      "                            'number of Malayalis have also emigrated to the '\n",
      "                            'Middle East, the United States, and Europe. '\n",
      "                            'Accessed November 22, 2014.</ref> including a '\n",
      "                            'large number of professionals. There were 7,093 '\n",
      "                            'Malayalam speakers in Australia in 2006. The 2001 '\n",
      "                            'Canadian census reported 7,070 people who listed '\n",
      "                            'Malayalam as their mother tongue, mostly in the '\n",
      "                            'Greater Toronto Area and Southern Ontario. In '\n",
      "                            '2010, the Census of Population of Singapore '\n",
      "                            'reported that there were 26,348 Malayalees in '\n",
      "                            'Singapore. The 2006 New Zealand census reported '\n",
      "                            '2,139 speakers. 134 Malayalam speaking households '\n",
      "                            'were reported in 1956 in Fiji. There is also a '\n",
      "                            'considerable Malayali population in the Persian '\n",
      "                            'Gulf regions, especially in Bahrain, Muscat, '\n",
      "                            'Doha, Dubai, Abu Dhabi, Kuwait and European '\n",
      "                            'region mainly in London.  World Malayalee '\n",
      "                            'Council, the organisation working with the '\n",
      "                            'Malayali diaspora across the Globe has embarked '\n",
      "                            'upon a project for making a data bank of the '\n",
      "                            'diaspora. CANNOTANSWER',\n",
      "                 'qas': [{'answers': [{'answer_start': 51,\n",
      "                                       'text': '30,803,747 speakers of '\n",
      "                                               'Malayalam in Kerala, making up '\n",
      "                                               '93.2% of the total number of '\n",
      "                                               'Malayalam speakers in India,'}],\n",
      "                          'id': 'C_69758fcdfc1f46baba0e92c0f3b0919c_1_q#0',\n",
      "                          'is_impossible': False,\n",
      "                          'question': 'Where is Malayali located?'}]}]}\n"
     ]
    }
   ],
   "source": [
    "pprint(train_quac[0])"
   ]
  },
  {
   "cell_type": "code",
   "execution_count": 60,
   "id": "5f29adb7",
   "metadata": {},
   "outputs": [],
   "source": [
    "training_context = [sample['paragraphs'][0]['context'].rstrip(\" CANNOTANSWER\") for sample in train_quac]"
   ]
  },
  {
   "cell_type": "code",
   "execution_count": 61,
   "id": "52fd2fa3",
   "metadata": {},
   "outputs": [
    {
     "data": {
      "text/plain": [
       "(array([4.8086e+04, 2.9200e+04, 4.0830e+03, 3.8000e+01, 1.2800e+02,\n",
       "        5.8200e+02, 5.6100e+02, 5.3800e+02, 3.2000e+02, 3.2000e+01]),\n",
       " array([ 250. ,  386.4,  522.8,  659.2,  795.6,  932. , 1068.4, 1204.8,\n",
       "        1341.2, 1477.6, 1614. ]),\n",
       " <BarContainer object of 10 artists>)"
      ]
     },
     "execution_count": 61,
     "metadata": {},
     "output_type": "execute_result"
    },
    {
     "data": {
      "image/png": "[encoded data removed]",
      "text/plain": [
       "<Figure size 432x288 with 1 Axes>"
      ]
     },
     "metadata": {
      "needs_background": "light"
     },
     "output_type": "display_data"
    }
   ],
   "source": [
    "# Lets take a look at how many words are in our context paragraphs.\n",
    "# It appears that the bulk of the context paragraphs are short enough.\n",
    "# We won't eliminate the longer context items for now as the relevant text\n",
    "# could be early in the context for those.\n",
    "\n",
    "lengths = [len(context.split()) for context in training_context]\n",
    "plt.hist(lengths)"
   ]
  },
  {
   "cell_type": "code",
   "execution_count": 128,
   "id": "4b8f8862",
   "metadata": {},
   "outputs": [
    {
     "data": {
      "text/plain": [
       "'According to the Indian census of 2001, there were 30,803,747 speakers of Malayalam in Kerala, making up 93.2% of the total number of Malayalam speakers in India, and 96.7% of the total population of the state. There were a further 701,673 (2.1% of the total number) in Karnataka, 557,705 (1.7%) in Tamil Nadu and 406,358 (1.2%) in Maharashtra. The number of Malayalam speakers in Lakshadweep is 51,100, which is only 0.15% of the total number, but is as much as about 84% of the population of Lakshadweep. In all, Malayalis made up 3.22% of the total Indian population in 2001. Of the total 33,066,392 Malayalam speakers in India in 2001, 33,015,420 spoke the standard dialects, 19,643 spoke the Yerava dialect and 31,329 spoke non-standard regional variations like Eranadan. As per the 1991 census data, 28.85% of all Malayalam speakers in India spoke a second language and 19.64% of the total knew three or more languages.  Large numbers of Malayalis have settled in Bangalore, Mangalore, Delhi, Coimbatore, Hyderabad, Mumbai (Bombay), Ahmedabad, Pune, and Chennai (Madras). A large number of Malayalis have also emigrated to the Middle East, the United States, and Europe. Accessed November 22, 2014.</ref> including a large number of professionals. There were 7,093 Malayalam speakers in Australia in 2006. The 2001 Canadian census reported 7,070 people who listed Malayalam as their mother tongue, mostly in the Greater Toronto Area and Southern Ontario. In 2010, the Census of Population of Singapore reported that there were 26,348 Malayalees in Singapore. The 2006 New Zealand census reported 2,139 speakers. 134 Malayalam speaking households were reported in 1956 in Fiji. There is also a considerable Malayali population in the Persian Gulf regions, especially in Bahrain, Muscat, Doha, Dubai, Abu Dhabi, Kuwait and European region mainly in London.  World Malayalee Council, the organisation working with the Malayali diaspora across the Globe has embarked upon a project for making a data bank of the diaspora.'"
      ]
     },
     "execution_count": 128,
     "metadata": {},
     "output_type": "execute_result"
    }
   ],
   "source": [
    "training_context[0]"
   ]
  },
  {
   "cell_type": "code",
   "execution_count": 76,
   "id": "5984ecd8",
   "metadata": {},
   "outputs": [
    {
     "data": {
      "text/plain": [
       "'30,803,747 speakers of Malayalam in Kerala, making up 93.2% of the total number of Malayalam speakers in India,'"
      ]
     },
     "execution_count": 76,
     "metadata": {},
     "output_type": "execute_result"
    }
   ],
   "source": [
    "train_quac[0]['paragraphs'][0]['qas'][0]['answers'][0]['text']"
   ]
  },
  {
   "cell_type": "code",
   "execution_count": 123,
   "id": "9d02e145",
   "metadata": {},
   "outputs": [],
   "source": [
    "# For some reason I can't get this to work as single list comprehension.\n",
    "# Note the special handling where there is no answer, we will remove those rows later\n",
    "\n",
    "training_answers = [sample['paragraphs'][0]['qas'][0]['answers'] if sample else sample for sample in train_quac]\n",
    "training_answers = [sample[0]['text'] if sample else sample for sample in training_answers]"
   ]
  },
  {
   "cell_type": "code",
   "execution_count": 124,
   "id": "7ee344fb",
   "metadata": {},
   "outputs": [
    {
     "data": {
      "text/plain": [
       "['30,803,747 speakers of Malayalam in Kerala, making up 93.2% of the total number of Malayalam speakers in India,',\n",
       " '33,015,420 spoke the standard dialects, 19,643 spoke the Yerava dialect and 31,329 spoke non-standard regional variations like Eranadan.',\n",
       " 'World Malayalee Council, the organisation working with the Malayali diaspora across the Globe has embarked upon a project for making a data bank of the diaspora.',\n",
       " [],\n",
       " [],\n",
       " 'In 2010, the Census of Population of Singapore reported that there were 26,348 Malayalees in Singapore.',\n",
       " [],\n",
       " 'Malayalam is the language spoken by the Malayalis.',\n",
       " 'Malayalam is derived from old Tamil and Sanskrit in the 6th century.',\n",
       " 'Malayalam literature is ancient in origin. The oldest literature works in Malayalam, distinct from the Tamil tradition,']"
      ]
     },
     "execution_count": 124,
     "metadata": {},
     "output_type": "execute_result"
    }
   ],
   "source": [
    "training_answers[:10]"
   ]
  },
  {
   "cell_type": "code",
   "execution_count": 125,
   "id": "2e7be1a9",
   "metadata": {},
   "outputs": [],
   "source": [
    "training_questions = [sample['paragraphs'][0]['qas'][0]['question'] for sample in train_quac]"
   ]
  },
  {
   "cell_type": "code",
   "execution_count": 126,
   "id": "2bbd2745",
   "metadata": {},
   "outputs": [
    {
     "data": {
      "text/plain": [
       "['Where is Malayali located?',\n",
       " 'What other languages are spoken there?',\n",
       " 'What else is this place known for?',\n",
       " 'Were they ever successful in doing this?',\n",
       " 'Do they produce anything from here?',\n",
       " 'Is this population still growing?',\n",
       " 'Is the country thriving?',\n",
       " 'what language do they speak?',\n",
       " 'Do they speak any other languages?',\n",
       " 'any literary items of interest?']"
      ]
     },
     "execution_count": 126,
     "metadata": {},
     "output_type": "execute_result"
    }
   ],
   "source": [
    "training_questions[:10]"
   ]
  },
  {
   "cell_type": "code",
   "execution_count": 38,
   "id": "9e97b6dc",
   "metadata": {},
   "outputs": [
    {
     "name": "stdout",
     "output_type": "stream",
     "text": [
      "{'paragraphs': [{'context': 'After the audition process and several guest '\n",
      "                            'vocalists on demos, the then 19-year-old Cove '\n",
      "                            'Reber was announced as their new permanent lead '\n",
      "                            'singer. Reber had sent in his demo tape, which '\n",
      "                            'was an acoustic demo with \"Mookie\\'s Last '\n",
      "                            'Christmas\". The demo has since leaked onto the '\n",
      "                            'internet. It is widely speculated to have '\n",
      "                            'included a few songs from Translating the Name. '\n",
      "                            'When Beau Burchell first heard the demo, he '\n",
      "                            'thought it was Anthony playing a trick on them, '\n",
      "                            \"as Reber's vocal stylings were very similar to \"\n",
      "                            \"those of Green's when the demo was originally \"\n",
      "                            'recorded.  In an interview with PlayPro.com, '\n",
      "                            'Reber commented that \"everyone I\\'ve played with '\n",
      "                            'wants to make music their lives...Saosin is a '\n",
      "                            'band on a completely different level. All these '\n",
      "                            'dudes are freaks about music.\"  Reber\\'s addition '\n",
      "                            'to the band was difficult, for the more '\n",
      "                            'experienced Green was the center piece of the '\n",
      "                            \"band in the eyes of Saosin's fans. Many fans \"\n",
      "                            'consider the time with Green to be something '\n",
      "                            'entirely different from the time with Reber. '\n",
      "                            'There are still distinct fans of both eras (Green '\n",
      "                            'Era/Reber Era) debating on which is a better fit '\n",
      "                            'for the band as a whole.  Saosin played the Taste '\n",
      "                            'of Chaos tour the following winter. Saosin was '\n",
      "                            'signed to Capitol Records in March and toured the '\n",
      "                            'United States with the Warped Tour for the second '\n",
      "                            'time. That summer, they released the Saosin EP. '\n",
      "                            'At first it was intended to be a free sampler, '\n",
      "                            'but Capitol Records would not allow this and '\n",
      "                            'released it as an EP. It contained demo versions '\n",
      "                            'of songs later recorded on their first '\n",
      "                            'full-length album. A video to their new single '\n",
      "                            '\"Bury Your Head\" was filmed during the tour. The '\n",
      "                            'band continued touring for the rest of 2005, '\n",
      "                            'opening for Avenged Sevenfold and Coheed and '\n",
      "                            'Cambria. CANNOTANSWER',\n",
      "                 'qas': [{'answers': [{'answer_start': 1577,\n",
      "                                       'text': '\"Bury Your Head\"'}],\n",
      "                          'id': 'C_de8ea5cde2934ac2899df443ca40d105_0_q#4',\n",
      "                          'is_impossible': False,\n",
      "                          'question': 'What was a single they released?'}]}]}\n"
     ]
    }
   ],
   "source": [
    "pprint (train_quac[18])"
   ]
  },
  {
   "cell_type": "code",
   "execution_count": 130,
   "id": "3b546d18",
   "metadata": {},
   "outputs": [],
   "source": [
    "# Create our validation version....\n",
    "validation_quac = pd.read_json(\"quac_val.squad.json\")\n",
    "validation_quac = validation_quac['data']\n",
    "validation_context = [sample['paragraphs'][0]['context'].rstrip(\" CANNOTANSWER\") for sample in validation_quac]\n",
    "validation_answers = [sample['paragraphs'][0]['qas'][0]['answers'] if sample else sample for sample in validation_quac]\n",
    "validation_answers = [sample[0]['text'] if sample else sample for sample in validation_answers]\n",
    "validation_questions = [sample['paragraphs'][0]['qas'][0]['question'] for sample in validation_quac]"
   ]
  },
  {
   "cell_type": "code",
   "execution_count": 131,
   "id": "c1c2840e",
   "metadata": {},
   "outputs": [
    {
     "data": {
      "text/plain": [
       "'In May 1983, she married Nikos Karvelas, a composer, with whom she collaborated in 1975 and in November she gave birth to her daughter Sofia. After their marriage, she started a close collaboration with Karvelas. Since 1975, all her releases have become gold or platinum and have included songs by Karvelas. In 1986, she participated at the Cypriot National Final for Eurovision Song Contest with the song Thelo Na Gino Star (\"I Want To Be A Star\"), taking second place. This song is still unreleased up to date. In 1984, Vissi left her record company EMI Greece and signed with CBS Records Greece, which later became Sony Music Greece, a collaboration that lasted until 2013. In March 1984, she released Na \\'Hes Kardia (\"If You Had a Heart\"). The album was certified gold. The following year her seventh album Kati Simveni (\"Something Is Happening\") was released which included one of her most famous songs, titled \"Dodeka\" [\"Twelve (O\\'Clock)\"] and reached gold status selling 80.000 units. In 1986 I Epomeni Kinisi (\"The Next Move\") was released. The album included the hit Pragmata (\"Things\") and went platinum, becoming the best selling record of the year. In February 1988 she released her ninth album Tora (\"Now\") and in December the album Empnefsi! (\"Inspiration!\") which went gold. In 1988, she made her debut as a radio producer on ANT1 Radio. Her radio program was titled after one of her songs Ta Koritsia Einai Atakta (\"Girls Are Naughty\") and was aired every weekend. In the same year, she participated with the song Klaio (\"I\\'m Crying\") at the Greek National Final for Eurovision Song Contest, finishing third. In 1989, she released the highly successful studio album Fotia (Fire), being one of the first albums to feature western sounds. The lead single Pseftika (\"Fake\") became a big hit and the album reached platinum status, selling 180.000 copies and becoming the second best selling record of 1990. She performed at \"Diogenis Palace\" in that same year, Athens\\'s biggest nightclub/music hall at the time.'"
      ]
     },
     "execution_count": 131,
     "metadata": {},
     "output_type": "execute_result"
    }
   ],
   "source": [
    "validation_context[0]"
   ]
  },
  {
   "cell_type": "code",
   "execution_count": 132,
   "id": "fa66d43f",
   "metadata": {},
   "outputs": [
    {
     "data": {
      "text/plain": [
       "['In May 1983, she married Nikos Karvelas, a composer,',\n",
       " 'in November she gave birth to her daughter Sofia.',\n",
       " [],\n",
       " 'Since 1975, all her releases have become gold or platinum and have included songs by Karvelas.',\n",
       " [],\n",
       " 'one of her most famous songs, titled \"Dodeka\" [\"Twelve (O\\'Clock)\"]',\n",
       " 'reached gold status selling 80.000 units.',\n",
       " 'The album included the hit Pragmata (\"Things\") and went platinum,',\n",
       " 'probably FSB) are known to have targeted the webmail account of the murdered Russian journalist Anna Politkovskaya.',\n",
       " 'On 5 December 2005, RFIS initiated an attack against the account annapolitovskaya@US Provider1, by deploying malicious software']"
      ]
     },
     "execution_count": 132,
     "metadata": {},
     "output_type": "execute_result"
    }
   ],
   "source": [
    "validation_answers[:10]"
   ]
  },
  {
   "cell_type": "code",
   "execution_count": 133,
   "id": "88e3d611",
   "metadata": {},
   "outputs": [
    {
     "data": {
      "text/plain": [
       "['what happened in 1983?',\n",
       " 'did they have any children?',\n",
       " 'did she have any other children?',\n",
       " 'what collaborations did she do with nikos?',\n",
       " 'what influences does he have in her music?',\n",
       " 'what were some of the songs?',\n",
       " 'how famous was it?',\n",
       " 'did she have any other famous songs?',\n",
       " 'Did they have any clues?',\n",
       " 'How did they target her email?']"
      ]
     },
     "execution_count": 133,
     "metadata": {},
     "output_type": "execute_result"
    }
   ],
   "source": [
    "validation_questions[:10]"
   ]
  },
  {
   "cell_type": "code",
   "execution_count": 159,
   "id": "fba7f5be",
   "metadata": {},
   "outputs": [
    {
     "data": {
      "text/html": [
       "<div>\n",
       "<style scoped>\n",
       "    .dataframe tbody tr th:only-of-type {\n",
       "        vertical-align: middle;\n",
       "    }\n",
       "\n",
       "    .dataframe tbody tr th {\n",
       "        vertical-align: top;\n",
       "    }\n",
       "\n",
       "    .dataframe thead th {\n",
       "        text-align: right;\n",
       "    }\n",
       "</style>\n",
       "<table border=\"1\" class=\"dataframe\">\n",
       "  <thead>\n",
       "    <tr style=\"text-align: right;\">\n",
       "      <th></th>\n",
       "      <th>context</th>\n",
       "      <th>answer</th>\n",
       "      <th>question</th>\n",
       "    </tr>\n",
       "  </thead>\n",
       "  <tbody>\n",
       "    <tr>\n",
       "      <th>0</th>\n",
       "      <td>According to the Indian census of 2001, there ...</td>\n",
       "      <td>30,803,747 speakers of Malayalam in Kerala, ma...</td>\n",
       "      <td>Where is Malayali located?</td>\n",
       "    </tr>\n",
       "    <tr>\n",
       "      <th>1</th>\n",
       "      <td>According to the Indian census of 2001, there ...</td>\n",
       "      <td>33,015,420 spoke the standard dialects, 19,643...</td>\n",
       "      <td>What other languages are spoken there?</td>\n",
       "    </tr>\n",
       "    <tr>\n",
       "      <th>2</th>\n",
       "      <td>According to the Indian census of 2001, there ...</td>\n",
       "      <td>World Malayalee Council, the organisation work...</td>\n",
       "      <td>What else is this place known for?</td>\n",
       "    </tr>\n",
       "    <tr>\n",
       "      <th>3</th>\n",
       "      <td>According to the Indian census of 2001, there ...</td>\n",
       "      <td>NaN</td>\n",
       "      <td>Were they ever successful in doing this?</td>\n",
       "    </tr>\n",
       "    <tr>\n",
       "      <th>4</th>\n",
       "      <td>According to the Indian census of 2001, there ...</td>\n",
       "      <td>NaN</td>\n",
       "      <td>Do they produce anything from here?</td>\n",
       "    </tr>\n",
       "    <tr>\n",
       "      <th>...</th>\n",
       "      <td>...</td>\n",
       "      <td>...</td>\n",
       "      <td>...</td>\n",
       "    </tr>\n",
       "    <tr>\n",
       "      <th>83563</th>\n",
       "      <td>The band was founded by Marko Paasikoski (guit...</td>\n",
       "      <td>Originally named Tricky Beans, they played har...</td>\n",
       "      <td>Did they know each other previously?</td>\n",
       "    </tr>\n",
       "    <tr>\n",
       "      <th>83564</th>\n",
       "      <td>The band was founded by Marko Paasikoski (guit...</td>\n",
       "      <td>because they thought they wouldn't be able to ...</td>\n",
       "      <td>Why did the change the name?</td>\n",
       "    </tr>\n",
       "    <tr>\n",
       "      <th>83565</th>\n",
       "      <td>The band was founded by Marko Paasikoski (guit...</td>\n",
       "      <td>\"Sonata Arctica\" was suggested by a friend of ...</td>\n",
       "      <td>How did they decide on Sonata Arctica for the ...</td>\n",
       "    </tr>\n",
       "    <tr>\n",
       "      <th>83566</th>\n",
       "      <td>The band was founded by Marko Paasikoski (guit...</td>\n",
       "      <td>the band was going to play \"a mixture of Megad...</td>\n",
       "      <td>Did they have any influences?</td>\n",
       "    </tr>\n",
       "    <tr>\n",
       "      <th>83567</th>\n",
       "      <td>The band was founded by Marko Paasikoski (guit...</td>\n",
       "      <td>Spinefarm,</td>\n",
       "      <td>What label were they with?</td>\n",
       "    </tr>\n",
       "  </tbody>\n",
       "</table>\n",
       "<p>83568 rows × 3 columns</p>\n",
       "</div>"
      ],
      "text/plain": [
       "                                                 context  \\\n",
       "0      According to the Indian census of 2001, there ...   \n",
       "1      According to the Indian census of 2001, there ...   \n",
       "2      According to the Indian census of 2001, there ...   \n",
       "3      According to the Indian census of 2001, there ...   \n",
       "4      According to the Indian census of 2001, there ...   \n",
       "...                                                  ...   \n",
       "83563  The band was founded by Marko Paasikoski (guit...   \n",
       "83564  The band was founded by Marko Paasikoski (guit...   \n",
       "83565  The band was founded by Marko Paasikoski (guit...   \n",
       "83566  The band was founded by Marko Paasikoski (guit...   \n",
       "83567  The band was founded by Marko Paasikoski (guit...   \n",
       "\n",
       "                                                  answer  \\\n",
       "0      30,803,747 speakers of Malayalam in Kerala, ma...   \n",
       "1      33,015,420 spoke the standard dialects, 19,643...   \n",
       "2      World Malayalee Council, the organisation work...   \n",
       "3                                                    NaN   \n",
       "4                                                    NaN   \n",
       "...                                                  ...   \n",
       "83563  Originally named Tricky Beans, they played har...   \n",
       "83564  because they thought they wouldn't be able to ...   \n",
       "83565  \"Sonata Arctica\" was suggested by a friend of ...   \n",
       "83566  the band was going to play \"a mixture of Megad...   \n",
       "83567                                         Spinefarm,   \n",
       "\n",
       "                                                question  \n",
       "0                             Where is Malayali located?  \n",
       "1                 What other languages are spoken there?  \n",
       "2                     What else is this place known for?  \n",
       "3               Were they ever successful in doing this?  \n",
       "4                    Do they produce anything from here?  \n",
       "...                                                  ...  \n",
       "83563               Did they know each other previously?  \n",
       "83564                       Why did the change the name?  \n",
       "83565  How did they decide on Sonata Arctica for the ...  \n",
       "83566                      Did they have any influences?  \n",
       "83567                         What label were they with?  \n",
       "\n",
       "[83568 rows x 3 columns]"
      ]
     },
     "execution_count": 159,
     "metadata": {},
     "output_type": "execute_result"
    }
   ],
   "source": [
    "# Create our training dataframe, we replace empty answers with NaN\n",
    "# When we are done we eliminate rows without answers\n",
    "\n",
    "training_df = pd.DataFrame()\n",
    "training_df['context'] = training_context\n",
    "training_df['answer'] = training_answers\n",
    "training_df['answer'] = training_df['answer'].apply(lambda x: x if x else np.nan)\n",
    "training_df['question'] = training_questions\n",
    "training_df"
   ]
  },
  {
   "cell_type": "code",
   "execution_count": 160,
   "id": "fc27ee39",
   "metadata": {},
   "outputs": [
    {
     "data": {
      "text/html": [
       "<div>\n",
       "<style scoped>\n",
       "    .dataframe tbody tr th:only-of-type {\n",
       "        vertical-align: middle;\n",
       "    }\n",
       "\n",
       "    .dataframe tbody tr th {\n",
       "        vertical-align: top;\n",
       "    }\n",
       "\n",
       "    .dataframe thead th {\n",
       "        text-align: right;\n",
       "    }\n",
       "</style>\n",
       "<table border=\"1\" class=\"dataframe\">\n",
       "  <thead>\n",
       "    <tr style=\"text-align: right;\">\n",
       "      <th></th>\n",
       "      <th>context</th>\n",
       "      <th>answer</th>\n",
       "      <th>question</th>\n",
       "    </tr>\n",
       "  </thead>\n",
       "  <tbody>\n",
       "    <tr>\n",
       "      <th>0</th>\n",
       "      <td>According to the Indian census of 2001, there ...</td>\n",
       "      <td>30,803,747 speakers of Malayalam in Kerala, ma...</td>\n",
       "      <td>Where is Malayali located?</td>\n",
       "    </tr>\n",
       "    <tr>\n",
       "      <th>1</th>\n",
       "      <td>According to the Indian census of 2001, there ...</td>\n",
       "      <td>33,015,420 spoke the standard dialects, 19,643...</td>\n",
       "      <td>What other languages are spoken there?</td>\n",
       "    </tr>\n",
       "    <tr>\n",
       "      <th>2</th>\n",
       "      <td>According to the Indian census of 2001, there ...</td>\n",
       "      <td>World Malayalee Council, the organisation work...</td>\n",
       "      <td>What else is this place known for?</td>\n",
       "    </tr>\n",
       "    <tr>\n",
       "      <th>5</th>\n",
       "      <td>According to the Indian census of 2001, there ...</td>\n",
       "      <td>In 2010, the Census of Population of Singapore...</td>\n",
       "      <td>Is this population still growing?</td>\n",
       "    </tr>\n",
       "    <tr>\n",
       "      <th>7</th>\n",
       "      <td>Malayalam is the language spoken by the Malaya...</td>\n",
       "      <td>Malayalam is the language spoken by the Malaya...</td>\n",
       "      <td>what language do they speak?</td>\n",
       "    </tr>\n",
       "    <tr>\n",
       "      <th>...</th>\n",
       "      <td>...</td>\n",
       "      <td>...</td>\n",
       "      <td>...</td>\n",
       "    </tr>\n",
       "    <tr>\n",
       "      <th>83563</th>\n",
       "      <td>The band was founded by Marko Paasikoski (guit...</td>\n",
       "      <td>Originally named Tricky Beans, they played har...</td>\n",
       "      <td>Did they know each other previously?</td>\n",
       "    </tr>\n",
       "    <tr>\n",
       "      <th>83564</th>\n",
       "      <td>The band was founded by Marko Paasikoski (guit...</td>\n",
       "      <td>because they thought they wouldn't be able to ...</td>\n",
       "      <td>Why did the change the name?</td>\n",
       "    </tr>\n",
       "    <tr>\n",
       "      <th>83565</th>\n",
       "      <td>The band was founded by Marko Paasikoski (guit...</td>\n",
       "      <td>\"Sonata Arctica\" was suggested by a friend of ...</td>\n",
       "      <td>How did they decide on Sonata Arctica for the ...</td>\n",
       "    </tr>\n",
       "    <tr>\n",
       "      <th>83566</th>\n",
       "      <td>The band was founded by Marko Paasikoski (guit...</td>\n",
       "      <td>the band was going to play \"a mixture of Megad...</td>\n",
       "      <td>Did they have any influences?</td>\n",
       "    </tr>\n",
       "    <tr>\n",
       "      <th>83567</th>\n",
       "      <td>The band was founded by Marko Paasikoski (guit...</td>\n",
       "      <td>Spinefarm,</td>\n",
       "      <td>What label were they with?</td>\n",
       "    </tr>\n",
       "  </tbody>\n",
       "</table>\n",
       "<p>69109 rows × 3 columns</p>\n",
       "</div>"
      ],
      "text/plain": [
       "                                                 context  \\\n",
       "0      According to the Indian census of 2001, there ...   \n",
       "1      According to the Indian census of 2001, there ...   \n",
       "2      According to the Indian census of 2001, there ...   \n",
       "5      According to the Indian census of 2001, there ...   \n",
       "7      Malayalam is the language spoken by the Malaya...   \n",
       "...                                                  ...   \n",
       "83563  The band was founded by Marko Paasikoski (guit...   \n",
       "83564  The band was founded by Marko Paasikoski (guit...   \n",
       "83565  The band was founded by Marko Paasikoski (guit...   \n",
       "83566  The band was founded by Marko Paasikoski (guit...   \n",
       "83567  The band was founded by Marko Paasikoski (guit...   \n",
       "\n",
       "                                                  answer  \\\n",
       "0      30,803,747 speakers of Malayalam in Kerala, ma...   \n",
       "1      33,015,420 spoke the standard dialects, 19,643...   \n",
       "2      World Malayalee Council, the organisation work...   \n",
       "5      In 2010, the Census of Population of Singapore...   \n",
       "7      Malayalam is the language spoken by the Malaya...   \n",
       "...                                                  ...   \n",
       "83563  Originally named Tricky Beans, they played har...   \n",
       "83564  because they thought they wouldn't be able to ...   \n",
       "83565  \"Sonata Arctica\" was suggested by a friend of ...   \n",
       "83566  the band was going to play \"a mixture of Megad...   \n",
       "83567                                         Spinefarm,   \n",
       "\n",
       "                                                question  \n",
       "0                             Where is Malayali located?  \n",
       "1                 What other languages are spoken there?  \n",
       "2                     What else is this place known for?  \n",
       "5                      Is this population still growing?  \n",
       "7                           what language do they speak?  \n",
       "...                                                  ...  \n",
       "83563               Did they know each other previously?  \n",
       "83564                       Why did the change the name?  \n",
       "83565  How did they decide on Sonata Arctica for the ...  \n",
       "83566                      Did they have any influences?  \n",
       "83567                         What label were they with?  \n",
       "\n",
       "[69109 rows x 3 columns]"
      ]
     },
     "execution_count": 160,
     "metadata": {},
     "output_type": "execute_result"
    }
   ],
   "source": [
    "training_df = training_df.dropna()\n",
    "training_df"
   ]
  },
  {
   "cell_type": "code",
   "execution_count": 149,
   "id": "013d6225",
   "metadata": {},
   "outputs": [],
   "source": [
    "# Now create the validation dataframe"
   ]
  },
  {
   "cell_type": "code",
   "execution_count": 161,
   "id": "5cad28ef",
   "metadata": {},
   "outputs": [
    {
     "data": {
      "text/html": [
       "<div>\n",
       "<style scoped>\n",
       "    .dataframe tbody tr th:only-of-type {\n",
       "        vertical-align: middle;\n",
       "    }\n",
       "\n",
       "    .dataframe tbody tr th {\n",
       "        vertical-align: top;\n",
       "    }\n",
       "\n",
       "    .dataframe thead th {\n",
       "        text-align: right;\n",
       "    }\n",
       "</style>\n",
       "<table border=\"1\" class=\"dataframe\">\n",
       "  <thead>\n",
       "    <tr style=\"text-align: right;\">\n",
       "      <th></th>\n",
       "      <th>context</th>\n",
       "      <th>answer</th>\n",
       "      <th>question</th>\n",
       "    </tr>\n",
       "  </thead>\n",
       "  <tbody>\n",
       "    <tr>\n",
       "      <th>0</th>\n",
       "      <td>In May 1983, she married Nikos Karvelas, a com...</td>\n",
       "      <td>In May 1983, she married Nikos Karvelas, a com...</td>\n",
       "      <td>what happened in 1983?</td>\n",
       "    </tr>\n",
       "    <tr>\n",
       "      <th>1</th>\n",
       "      <td>In May 1983, she married Nikos Karvelas, a com...</td>\n",
       "      <td>in November she gave birth to her daughter Sofia.</td>\n",
       "      <td>did they have any children?</td>\n",
       "    </tr>\n",
       "    <tr>\n",
       "      <th>2</th>\n",
       "      <td>In May 1983, she married Nikos Karvelas, a com...</td>\n",
       "      <td>NaN</td>\n",
       "      <td>did she have any other children?</td>\n",
       "    </tr>\n",
       "    <tr>\n",
       "      <th>3</th>\n",
       "      <td>In May 1983, she married Nikos Karvelas, a com...</td>\n",
       "      <td>Since 1975, all her releases have become gold ...</td>\n",
       "      <td>what collaborations did she do with nikos?</td>\n",
       "    </tr>\n",
       "    <tr>\n",
       "      <th>4</th>\n",
       "      <td>In May 1983, she married Nikos Karvelas, a com...</td>\n",
       "      <td>NaN</td>\n",
       "      <td>what influences does he have in her music?</td>\n",
       "    </tr>\n",
       "    <tr>\n",
       "      <th>...</th>\n",
       "      <td>...</td>\n",
       "      <td>...</td>\n",
       "      <td>...</td>\n",
       "    </tr>\n",
       "    <tr>\n",
       "      <th>7349</th>\n",
       "      <td>In 1963, Major League Baseball expanded the st...</td>\n",
       "      <td>Facing the Yankees in the 1963 World Series, K...</td>\n",
       "      <td>How did Koufax perform in the post-season?</td>\n",
       "    </tr>\n",
       "    <tr>\n",
       "      <th>7350</th>\n",
       "      <td>In 1963, Major League Baseball expanded the st...</td>\n",
       "      <td>The top pitchers of the era - Don Drysdale, Ju...</td>\n",
       "      <td>Are there any other interesting aspects about ...</td>\n",
       "    </tr>\n",
       "    <tr>\n",
       "      <th>7351</th>\n",
       "      <td>In 1963, Major League Baseball expanded the st...</td>\n",
       "      <td>NaN</td>\n",
       "      <td>How did this change in walks affect the game o...</td>\n",
       "    </tr>\n",
       "    <tr>\n",
       "      <th>7352</th>\n",
       "      <td>In 1963, Major League Baseball expanded the st...</td>\n",
       "      <td>NaN</td>\n",
       "      <td>How did the league respond to this change?</td>\n",
       "    </tr>\n",
       "    <tr>\n",
       "      <th>7353</th>\n",
       "      <td>In 1963, Major League Baseball expanded the st...</td>\n",
       "      <td>NaN</td>\n",
       "      <td>How did the fans respond to this?</td>\n",
       "    </tr>\n",
       "  </tbody>\n",
       "</table>\n",
       "<p>7354 rows × 3 columns</p>\n",
       "</div>"
      ],
      "text/plain": [
       "                                                context  \\\n",
       "0     In May 1983, she married Nikos Karvelas, a com...   \n",
       "1     In May 1983, she married Nikos Karvelas, a com...   \n",
       "2     In May 1983, she married Nikos Karvelas, a com...   \n",
       "3     In May 1983, she married Nikos Karvelas, a com...   \n",
       "4     In May 1983, she married Nikos Karvelas, a com...   \n",
       "...                                                 ...   \n",
       "7349  In 1963, Major League Baseball expanded the st...   \n",
       "7350  In 1963, Major League Baseball expanded the st...   \n",
       "7351  In 1963, Major League Baseball expanded the st...   \n",
       "7352  In 1963, Major League Baseball expanded the st...   \n",
       "7353  In 1963, Major League Baseball expanded the st...   \n",
       "\n",
       "                                                 answer  \\\n",
       "0     In May 1983, she married Nikos Karvelas, a com...   \n",
       "1     in November she gave birth to her daughter Sofia.   \n",
       "2                                                   NaN   \n",
       "3     Since 1975, all her releases have become gold ...   \n",
       "4                                                   NaN   \n",
       "...                                                 ...   \n",
       "7349  Facing the Yankees in the 1963 World Series, K...   \n",
       "7350  The top pitchers of the era - Don Drysdale, Ju...   \n",
       "7351                                                NaN   \n",
       "7352                                                NaN   \n",
       "7353                                                NaN   \n",
       "\n",
       "                                               question  \n",
       "0                                what happened in 1983?  \n",
       "1                           did they have any children?  \n",
       "2                      did she have any other children?  \n",
       "3            what collaborations did she do with nikos?  \n",
       "4            what influences does he have in her music?  \n",
       "...                                                 ...  \n",
       "7349         How did Koufax perform in the post-season?  \n",
       "7350  Are there any other interesting aspects about ...  \n",
       "7351  How did this change in walks affect the game o...  \n",
       "7352         How did the league respond to this change?  \n",
       "7353                  How did the fans respond to this?  \n",
       "\n",
       "[7354 rows x 3 columns]"
      ]
     },
     "execution_count": 161,
     "metadata": {},
     "output_type": "execute_result"
    }
   ],
   "source": [
    "# Create our training dataframe, we replace empty answers with NaN\n",
    "# When we are done we eliminate rows without answers\n",
    "\n",
    "validation_df = pd.DataFrame()\n",
    "validation_df['context'] = validation_context\n",
    "validation_df['answer'] = validation_answers\n",
    "validation_df['answer'] = validation_df['answer'].apply(lambda x: x if x else np.nan)\n",
    "validation_df['question'] = validation_questions\n",
    "validation_df"
   ]
  },
  {
   "cell_type": "code",
   "execution_count": 163,
   "id": "45286f19",
   "metadata": {},
   "outputs": [
    {
     "data": {
      "text/html": [
       "<div>\n",
       "<style scoped>\n",
       "    .dataframe tbody tr th:only-of-type {\n",
       "        vertical-align: middle;\n",
       "    }\n",
       "\n",
       "    .dataframe tbody tr th {\n",
       "        vertical-align: top;\n",
       "    }\n",
       "\n",
       "    .dataframe thead th {\n",
       "        text-align: right;\n",
       "    }\n",
       "</style>\n",
       "<table border=\"1\" class=\"dataframe\">\n",
       "  <thead>\n",
       "    <tr style=\"text-align: right;\">\n",
       "      <th></th>\n",
       "      <th>context</th>\n",
       "      <th>answer</th>\n",
       "      <th>question</th>\n",
       "    </tr>\n",
       "  </thead>\n",
       "  <tbody>\n",
       "    <tr>\n",
       "      <th>0</th>\n",
       "      <td>In May 1983, she married Nikos Karvelas, a com...</td>\n",
       "      <td>In May 1983, she married Nikos Karvelas, a com...</td>\n",
       "      <td>what happened in 1983?</td>\n",
       "    </tr>\n",
       "    <tr>\n",
       "      <th>1</th>\n",
       "      <td>In May 1983, she married Nikos Karvelas, a com...</td>\n",
       "      <td>in November she gave birth to her daughter Sofia.</td>\n",
       "      <td>did they have any children?</td>\n",
       "    </tr>\n",
       "    <tr>\n",
       "      <th>3</th>\n",
       "      <td>In May 1983, she married Nikos Karvelas, a com...</td>\n",
       "      <td>Since 1975, all her releases have become gold ...</td>\n",
       "      <td>what collaborations did she do with nikos?</td>\n",
       "    </tr>\n",
       "    <tr>\n",
       "      <th>5</th>\n",
       "      <td>In May 1983, she married Nikos Karvelas, a com...</td>\n",
       "      <td>one of her most famous songs, titled \"Dodeka\" ...</td>\n",
       "      <td>what were some of the songs?</td>\n",
       "    </tr>\n",
       "    <tr>\n",
       "      <th>6</th>\n",
       "      <td>In May 1983, she married Nikos Karvelas, a com...</td>\n",
       "      <td>reached gold status selling 80.000 units.</td>\n",
       "      <td>how famous was it?</td>\n",
       "    </tr>\n",
       "    <tr>\n",
       "      <th>...</th>\n",
       "      <td>...</td>\n",
       "      <td>...</td>\n",
       "      <td>...</td>\n",
       "    </tr>\n",
       "    <tr>\n",
       "      <th>7346</th>\n",
       "      <td>In 1963, Major League Baseball expanded the st...</td>\n",
       "      <td>Koufax threw 11 shutouts, setting a new post-1...</td>\n",
       "      <td>What records did Koufax set in 1963?</td>\n",
       "    </tr>\n",
       "    <tr>\n",
       "      <th>7347</th>\n",
       "      <td>In 1963, Major League Baseball expanded the st...</td>\n",
       "      <td>On May 11, Koufax no-hit the San Francisco Gia...</td>\n",
       "      <td>How did the team do in 1963?</td>\n",
       "    </tr>\n",
       "    <tr>\n",
       "      <th>7348</th>\n",
       "      <td>In 1963, Major League Baseball expanded the st...</td>\n",
       "      <td>Koufax carried a perfect game into the eighth ...</td>\n",
       "      <td>In what other games did Koufax perform well?</td>\n",
       "    </tr>\n",
       "    <tr>\n",
       "      <th>7349</th>\n",
       "      <td>In 1963, Major League Baseball expanded the st...</td>\n",
       "      <td>Facing the Yankees in the 1963 World Series, K...</td>\n",
       "      <td>How did Koufax perform in the post-season?</td>\n",
       "    </tr>\n",
       "    <tr>\n",
       "      <th>7350</th>\n",
       "      <td>In 1963, Major League Baseball expanded the st...</td>\n",
       "      <td>The top pitchers of the era - Don Drysdale, Ju...</td>\n",
       "      <td>Are there any other interesting aspects about ...</td>\n",
       "    </tr>\n",
       "  </tbody>\n",
       "</table>\n",
       "<p>5868 rows × 3 columns</p>\n",
       "</div>"
      ],
      "text/plain": [
       "                                                context  \\\n",
       "0     In May 1983, she married Nikos Karvelas, a com...   \n",
       "1     In May 1983, she married Nikos Karvelas, a com...   \n",
       "3     In May 1983, she married Nikos Karvelas, a com...   \n",
       "5     In May 1983, she married Nikos Karvelas, a com...   \n",
       "6     In May 1983, she married Nikos Karvelas, a com...   \n",
       "...                                                 ...   \n",
       "7346  In 1963, Major League Baseball expanded the st...   \n",
       "7347  In 1963, Major League Baseball expanded the st...   \n",
       "7348  In 1963, Major League Baseball expanded the st...   \n",
       "7349  In 1963, Major League Baseball expanded the st...   \n",
       "7350  In 1963, Major League Baseball expanded the st...   \n",
       "\n",
       "                                                 answer  \\\n",
       "0     In May 1983, she married Nikos Karvelas, a com...   \n",
       "1     in November she gave birth to her daughter Sofia.   \n",
       "3     Since 1975, all her releases have become gold ...   \n",
       "5     one of her most famous songs, titled \"Dodeka\" ...   \n",
       "6             reached gold status selling 80.000 units.   \n",
       "...                                                 ...   \n",
       "7346  Koufax threw 11 shutouts, setting a new post-1...   \n",
       "7347  On May 11, Koufax no-hit the San Francisco Gia...   \n",
       "7348  Koufax carried a perfect game into the eighth ...   \n",
       "7349  Facing the Yankees in the 1963 World Series, K...   \n",
       "7350  The top pitchers of the era - Don Drysdale, Ju...   \n",
       "\n",
       "                                               question  \n",
       "0                                what happened in 1983?  \n",
       "1                           did they have any children?  \n",
       "3            what collaborations did she do with nikos?  \n",
       "5                          what were some of the songs?  \n",
       "6                                    how famous was it?  \n",
       "...                                                 ...  \n",
       "7346               What records did Koufax set in 1963?  \n",
       "7347                       How did the team do in 1963?  \n",
       "7348       In what other games did Koufax perform well?  \n",
       "7349         How did Koufax perform in the post-season?  \n",
       "7350  Are there any other interesting aspects about ...  \n",
       "\n",
       "[5868 rows x 3 columns]"
      ]
     },
     "execution_count": 163,
     "metadata": {},
     "output_type": "execute_result"
    }
   ],
   "source": [
    "validation_df = validation_df.dropna()\n",
    "validation_df"
   ]
  },
  {
   "cell_type": "code",
   "execution_count": null,
   "id": "96cd5938",
   "metadata": {},
   "outputs": [],
   "source": []
  }
 ],
 "metadata": {
  "kernelspec": {
   "display_name": "Python 3 (ipykernel)",
   "language": "python",
   "name": "python3"
  },
  "language_info": {
   "codemirror_mode": {
    "name": "ipython",
    "version": 3
   },
   "file_extension": ".py",
   "mimetype": "text/x-python",
   "name": "python",
   "nbconvert_exporter": "python",
   "pygments_lexer": "ipython3",
   "version": "3.8.10"
  }
 },
 "nbformat": 4,
 "nbformat_minor": 5
}
