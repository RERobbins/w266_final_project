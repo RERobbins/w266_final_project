{
  "cells": [
    {
      "cell_type": "markdown",
      "metadata": {
        "id": "view-in-github",
        "colab_type": "text"
      },
      "source": [
        "<a href=\"https://colab.research.google.com/github/jeanlucjackson/w266_final_project/blob/main/code/rr/sandbox.ipynb\" target=\"_parent\"><img src=\"https://colab.research.google.com/assets/colab-badge.svg\" alt=\"Open In Colab\"/></a>"
      ]
    },
    {
      "cell_type": "markdown",
      "metadata": {
        "id": "2t9Q-89MYNZU"
      },
      "source": [
        "# Sandbox -- First Attempts with T5"
      ]
    },
    {
      "cell_type": "markdown",
      "metadata": {
        "id": "0DBGDwpkYSkD"
      },
      "source": [
        "## Downloading Datasets\n",
        "Download using HuggingFace's `datasets` library"
      ]
    },
    {
      "cell_type": "code",
      "execution_count": 1,
      "metadata": {
        "id": "5lKT2zt491dv"
      },
      "outputs": [],
      "source": [
        "import numpy as np\n",
        "import pandas as pd\n",
        "import tensorflow as tf\n",
        "\n",
        "import warnings\n",
        "warnings.simplefilter(action='ignore', category=FutureWarning)\n",
        "\n",
        "import json\n",
        "\n",
        "from pprint import pprint"
      ]
    },
    {
      "cell_type": "code",
      "execution_count": 2,
      "metadata": {
        "colab": {
          "base_uri": "https://localhost:8080/"
        },
        "id": "BmTpEC_R91dv",
        "outputId": "f6416bd2-cc5c-40d5-d2f4-8278504dfd00"
      },
      "outputs": [
        {
          "output_type": "stream",
          "name": "stdout",
          "text": [
            "Mounted at /content/drive\n"
          ]
        }
      ],
      "source": [
        "from google.colab import drive\n",
        "\n",
        "drive.mount('/content/drive')"
      ]
    },
    {
      "cell_type": "code",
      "source": [
        "!pip install -q sentencepiece"
      ],
      "metadata": {
        "colab": {
          "base_uri": "https://localhost:8080/"
        },
        "id": "ylEa90d_H_6X",
        "outputId": "d709756b-673c-4573-ea69-09fcd27434cd"
      },
      "execution_count": 3,
      "outputs": [
        {
          "output_type": "stream",
          "name": "stdout",
          "text": [
            "\u001b[?25l\r\u001b[K     |▎                               | 10 kB 21.4 MB/s eta 0:00:01\r\u001b[K     |▌                               | 20 kB 7.1 MB/s eta 0:00:01\r\u001b[K     |▊                               | 30 kB 10.0 MB/s eta 0:00:01\r\u001b[K     |█                               | 40 kB 4.5 MB/s eta 0:00:01\r\u001b[K     |█▎                              | 51 kB 4.6 MB/s eta 0:00:01\r\u001b[K     |█▌                              | 61 kB 5.4 MB/s eta 0:00:01\r\u001b[K     |█▉                              | 71 kB 6.0 MB/s eta 0:00:01\r\u001b[K     |██                              | 81 kB 5.5 MB/s eta 0:00:01\r\u001b[K     |██▎                             | 92 kB 6.2 MB/s eta 0:00:01\r\u001b[K     |██▋                             | 102 kB 5.4 MB/s eta 0:00:01\r\u001b[K     |██▉                             | 112 kB 5.4 MB/s eta 0:00:01\r\u001b[K     |███                             | 122 kB 5.4 MB/s eta 0:00:01\r\u001b[K     |███▍                            | 133 kB 5.4 MB/s eta 0:00:01\r\u001b[K     |███▋                            | 143 kB 5.4 MB/s eta 0:00:01\r\u001b[K     |███▉                            | 153 kB 5.4 MB/s eta 0:00:01\r\u001b[K     |████                            | 163 kB 5.4 MB/s eta 0:00:01\r\u001b[K     |████▍                           | 174 kB 5.4 MB/s eta 0:00:01\r\u001b[K     |████▋                           | 184 kB 5.4 MB/s eta 0:00:01\r\u001b[K     |████▉                           | 194 kB 5.4 MB/s eta 0:00:01\r\u001b[K     |█████▏                          | 204 kB 5.4 MB/s eta 0:00:01\r\u001b[K     |█████▍                          | 215 kB 5.4 MB/s eta 0:00:01\r\u001b[K     |█████▋                          | 225 kB 5.4 MB/s eta 0:00:01\r\u001b[K     |██████                          | 235 kB 5.4 MB/s eta 0:00:01\r\u001b[K     |██████▏                         | 245 kB 5.4 MB/s eta 0:00:01\r\u001b[K     |██████▍                         | 256 kB 5.4 MB/s eta 0:00:01\r\u001b[K     |██████▊                         | 266 kB 5.4 MB/s eta 0:00:01\r\u001b[K     |███████                         | 276 kB 5.4 MB/s eta 0:00:01\r\u001b[K     |███████▏                        | 286 kB 5.4 MB/s eta 0:00:01\r\u001b[K     |███████▍                        | 296 kB 5.4 MB/s eta 0:00:01\r\u001b[K     |███████▊                        | 307 kB 5.4 MB/s eta 0:00:01\r\u001b[K     |████████                        | 317 kB 5.4 MB/s eta 0:00:01\r\u001b[K     |████████▏                       | 327 kB 5.4 MB/s eta 0:00:01\r\u001b[K     |████████▌                       | 337 kB 5.4 MB/s eta 0:00:01\r\u001b[K     |████████▊                       | 348 kB 5.4 MB/s eta 0:00:01\r\u001b[K     |█████████                       | 358 kB 5.4 MB/s eta 0:00:01\r\u001b[K     |█████████▎                      | 368 kB 5.4 MB/s eta 0:00:01\r\u001b[K     |█████████▌                      | 378 kB 5.4 MB/s eta 0:00:01\r\u001b[K     |█████████▊                      | 389 kB 5.4 MB/s eta 0:00:01\r\u001b[K     |██████████                      | 399 kB 5.4 MB/s eta 0:00:01\r\u001b[K     |██████████▎                     | 409 kB 5.4 MB/s eta 0:00:01\r\u001b[K     |██████████▌                     | 419 kB 5.4 MB/s eta 0:00:01\r\u001b[K     |██████████▉                     | 430 kB 5.4 MB/s eta 0:00:01\r\u001b[K     |███████████                     | 440 kB 5.4 MB/s eta 0:00:01\r\u001b[K     |███████████▎                    | 450 kB 5.4 MB/s eta 0:00:01\r\u001b[K     |███████████▌                    | 460 kB 5.4 MB/s eta 0:00:01\r\u001b[K     |███████████▉                    | 471 kB 5.4 MB/s eta 0:00:01\r\u001b[K     |████████████                    | 481 kB 5.4 MB/s eta 0:00:01\r\u001b[K     |████████████▎                   | 491 kB 5.4 MB/s eta 0:00:01\r\u001b[K     |████████████▋                   | 501 kB 5.4 MB/s eta 0:00:01\r\u001b[K     |████████████▉                   | 512 kB 5.4 MB/s eta 0:00:01\r\u001b[K     |█████████████                   | 522 kB 5.4 MB/s eta 0:00:01\r\u001b[K     |█████████████▍                  | 532 kB 5.4 MB/s eta 0:00:01\r\u001b[K     |█████████████▋                  | 542 kB 5.4 MB/s eta 0:00:01\r\u001b[K     |█████████████▉                  | 552 kB 5.4 MB/s eta 0:00:01\r\u001b[K     |██████████████▏                 | 563 kB 5.4 MB/s eta 0:00:01\r\u001b[K     |██████████████▍                 | 573 kB 5.4 MB/s eta 0:00:01\r\u001b[K     |██████████████▋                 | 583 kB 5.4 MB/s eta 0:00:01\r\u001b[K     |██████████████▉                 | 593 kB 5.4 MB/s eta 0:00:01\r\u001b[K     |███████████████▏                | 604 kB 5.4 MB/s eta 0:00:01\r\u001b[K     |███████████████▍                | 614 kB 5.4 MB/s eta 0:00:01\r\u001b[K     |███████████████▋                | 624 kB 5.4 MB/s eta 0:00:01\r\u001b[K     |████████████████                | 634 kB 5.4 MB/s eta 0:00:01\r\u001b[K     |████████████████▏               | 645 kB 5.4 MB/s eta 0:00:01\r\u001b[K     |████████████████▍               | 655 kB 5.4 MB/s eta 0:00:01\r\u001b[K     |████████████████▊               | 665 kB 5.4 MB/s eta 0:00:01\r\u001b[K     |█████████████████               | 675 kB 5.4 MB/s eta 0:00:01\r\u001b[K     |█████████████████▏              | 686 kB 5.4 MB/s eta 0:00:01\r\u001b[K     |█████████████████▌              | 696 kB 5.4 MB/s eta 0:00:01\r\u001b[K     |█████████████████▊              | 706 kB 5.4 MB/s eta 0:00:01\r\u001b[K     |██████████████████              | 716 kB 5.4 MB/s eta 0:00:01\r\u001b[K     |██████████████████▎             | 727 kB 5.4 MB/s eta 0:00:01\r\u001b[K     |██████████████████▌             | 737 kB 5.4 MB/s eta 0:00:01\r\u001b[K     |██████████████████▊             | 747 kB 5.4 MB/s eta 0:00:01\r\u001b[K     |███████████████████             | 757 kB 5.4 MB/s eta 0:00:01\r\u001b[K     |███████████████████▎            | 768 kB 5.4 MB/s eta 0:00:01\r\u001b[K     |███████████████████▌            | 778 kB 5.4 MB/s eta 0:00:01\r\u001b[K     |███████████████████▊            | 788 kB 5.4 MB/s eta 0:00:01\r\u001b[K     |████████████████████            | 798 kB 5.4 MB/s eta 0:00:01\r\u001b[K     |████████████████████▎           | 808 kB 5.4 MB/s eta 0:00:01\r\u001b[K     |████████████████████▌           | 819 kB 5.4 MB/s eta 0:00:01\r\u001b[K     |████████████████████▉           | 829 kB 5.4 MB/s eta 0:00:01\r\u001b[K     |█████████████████████           | 839 kB 5.4 MB/s eta 0:00:01\r\u001b[K     |█████████████████████▎          | 849 kB 5.4 MB/s eta 0:00:01\r\u001b[K     |█████████████████████▋          | 860 kB 5.4 MB/s eta 0:00:01\r\u001b[K     |█████████████████████▉          | 870 kB 5.4 MB/s eta 0:00:01\r\u001b[K     |██████████████████████          | 880 kB 5.4 MB/s eta 0:00:01\r\u001b[K     |██████████████████████▎         | 890 kB 5.4 MB/s eta 0:00:01\r\u001b[K     |██████████████████████▋         | 901 kB 5.4 MB/s eta 0:00:01\r\u001b[K     |██████████████████████▉         | 911 kB 5.4 MB/s eta 0:00:01\r\u001b[K     |███████████████████████         | 921 kB 5.4 MB/s eta 0:00:01\r\u001b[K     |███████████████████████▍        | 931 kB 5.4 MB/s eta 0:00:01\r\u001b[K     |███████████████████████▋        | 942 kB 5.4 MB/s eta 0:00:01\r\u001b[K     |███████████████████████▉        | 952 kB 5.4 MB/s eta 0:00:01\r\u001b[K     |████████████████████████▏       | 962 kB 5.4 MB/s eta 0:00:01\r\u001b[K     |████████████████████████▍       | 972 kB 5.4 MB/s eta 0:00:01\r\u001b[K     |████████████████████████▋       | 983 kB 5.4 MB/s eta 0:00:01\r\u001b[K     |█████████████████████████       | 993 kB 5.4 MB/s eta 0:00:01\r\u001b[K     |█████████████████████████▏      | 1.0 MB 5.4 MB/s eta 0:00:01\r\u001b[K     |█████████████████████████▍      | 1.0 MB 5.4 MB/s eta 0:00:01\r\u001b[K     |█████████████████████████▊      | 1.0 MB 5.4 MB/s eta 0:00:01\r\u001b[K     |██████████████████████████      | 1.0 MB 5.4 MB/s eta 0:00:01\r\u001b[K     |██████████████████████████▏     | 1.0 MB 5.4 MB/s eta 0:00:01\r\u001b[K     |██████████████████████████▍     | 1.1 MB 5.4 MB/s eta 0:00:01\r\u001b[K     |██████████████████████████▊     | 1.1 MB 5.4 MB/s eta 0:00:01\r\u001b[K     |███████████████████████████     | 1.1 MB 5.4 MB/s eta 0:00:01\r\u001b[K     |███████████████████████████▏    | 1.1 MB 5.4 MB/s eta 0:00:01\r\u001b[K     |███████████████████████████▌    | 1.1 MB 5.4 MB/s eta 0:00:01\r\u001b[K     |███████████████████████████▊    | 1.1 MB 5.4 MB/s eta 0:00:01\r\u001b[K     |████████████████████████████    | 1.1 MB 5.4 MB/s eta 0:00:01\r\u001b[K     |████████████████████████████▎   | 1.1 MB 5.4 MB/s eta 0:00:01\r\u001b[K     |████████████████████████████▌   | 1.1 MB 5.4 MB/s eta 0:00:01\r\u001b[K     |████████████████████████████▊   | 1.1 MB 5.4 MB/s eta 0:00:01\r\u001b[K     |█████████████████████████████   | 1.2 MB 5.4 MB/s eta 0:00:01\r\u001b[K     |█████████████████████████████▎  | 1.2 MB 5.4 MB/s eta 0:00:01\r\u001b[K     |█████████████████████████████▌  | 1.2 MB 5.4 MB/s eta 0:00:01\r\u001b[K     |█████████████████████████████▊  | 1.2 MB 5.4 MB/s eta 0:00:01\r\u001b[K     |██████████████████████████████  | 1.2 MB 5.4 MB/s eta 0:00:01\r\u001b[K     |██████████████████████████████▎ | 1.2 MB 5.4 MB/s eta 0:00:01\r\u001b[K     |██████████████████████████████▌ | 1.2 MB 5.4 MB/s eta 0:00:01\r\u001b[K     |██████████████████████████████▉ | 1.2 MB 5.4 MB/s eta 0:00:01\r\u001b[K     |███████████████████████████████ | 1.2 MB 5.4 MB/s eta 0:00:01\r\u001b[K     |███████████████████████████████▎| 1.2 MB 5.4 MB/s eta 0:00:01\r\u001b[K     |███████████████████████████████▋| 1.3 MB 5.4 MB/s eta 0:00:01\r\u001b[K     |███████████████████████████████▉| 1.3 MB 5.4 MB/s eta 0:00:01\r\u001b[K     |████████████████████████████████| 1.3 MB 5.4 MB/s \n",
            "\u001b[?25h"
          ]
        }
      ]
    },
    {
      "cell_type": "code",
      "source": [
        "!pip install -q transformers"
      ],
      "metadata": {
        "colab": {
          "base_uri": "https://localhost:8080/"
        },
        "id": "VCY3M3HqIHaK",
        "outputId": "52cdb00d-990e-4f26-c018-cdd010036d38"
      },
      "execution_count": 7,
      "outputs": [
        {
          "output_type": "stream",
          "name": "stdout",
          "text": [
            "\u001b[K     |████████████████████████████████| 5.3 MB 4.9 MB/s \n",
            "\u001b[K     |████████████████████████████████| 7.6 MB 40.1 MB/s \n",
            "\u001b[?25h"
          ]
        }
      ]
    },
    {
      "cell_type": "code",
      "execution_count": 4,
      "metadata": {
        "colab": {
          "base_uri": "https://localhost:8080/"
        },
        "id": "ctVIZnDxYjzo",
        "outputId": "d19deaae-fea0-4709-a3aa-64962fc8e6d5"
      },
      "outputs": [
        {
          "output_type": "stream",
          "name": "stdout",
          "text": [
            "\u001b[K     |████████████████████████████████| 441 kB 5.5 MB/s \n",
            "\u001b[K     |████████████████████████████████| 163 kB 68.8 MB/s \n",
            "\u001b[K     |████████████████████████████████| 115 kB 55.7 MB/s \n",
            "\u001b[K     |████████████████████████████████| 212 kB 45.2 MB/s \n",
            "\u001b[K     |████████████████████████████████| 127 kB 40.6 MB/s \n",
            "\u001b[K     |████████████████████████████████| 115 kB 48.5 MB/s \n",
            "\u001b[?25h"
          ]
        }
      ],
      "source": [
        "!pip install -q datasets"
      ]
    },
    {
      "cell_type": "code",
      "execution_count": 5,
      "metadata": {
        "id": "c0U-ilwRYH1P"
      },
      "outputs": [],
      "source": [
        "from datasets import list_datasets, load_dataset_builder, get_dataset_config_names, load_dataset, load_from_disk"
      ]
    },
    {
      "cell_type": "code",
      "source": [
        "from transformers import T5Tokenizer, TFT5ForConditionalGeneration\n",
        "model = TFT5ForConditionalGeneration.from_pretrained(\"google/t5-v1_1-base\")\n",
        "tokenizer = T5Tokenizer.from_pretrained(\"google/t5-v1_1-base\")"
      ],
      "metadata": {
        "colab": {
          "base_uri": "https://localhost:8080/",
          "height": 246,
          "referenced_widgets": [
            "da622226181b4381a0a099581724b0b5",
            "b3ed93391cac41388ed6ad824832d399",
            "7b4cccb73f9740a4bf777ccfa644ee4a",
            "475ac741d56a42e5928614faffb77458",
            "e086d2695fce451f8a922c27458779f1",
            "95e880d3e6114e2bb24b22caea32c57a",
            "3b4932ce405c45618df93ede8c080f5d",
            "2add5f1e93ef4131a53845914fe3e82e",
            "65043d7163ae432c9292d5dd323feecf",
            "7aec80c99fc24bd389b8c812c3b2611c",
            "24dc1d0e74404a6b96b8c2535acbd427",
            "bf84e6ad6a3e42dc95a06b5df7741f50",
            "59f897df1616459ba3e70dcdf8cb0b80",
            "d13169af09b64cf99ac5c0da2bee80c2",
            "92b9b19596e5431dafebd3d4d301a331",
            "6bf6d8a2f4674682b5501e57344a250b",
            "dbd4489b531e48fb9f2da0d6215e9c56",
            "3c22ab687bf041fea6585b584f169689",
            "bbdd6cd089cc432398c16f7cdce301d0",
            "7633be49b8ff4f09af48a2be074cd4df",
            "997be8dfcab647e4a7ddb88bb39b0231",
            "1e2e20c747f544189d2a6e62b077e3ac",
            "57b2aa40fa34462a8ecc3892b44eed6c",
            "9420f264e39149f193743d740785674f",
            "c8b9d69e8d1d4cd1ae8f22ab66164992",
            "2572690d9a0547db9032671431987842",
            "eedecd8b58f14860ba419dbc31dd1017",
            "2efb911aa827424685ace5b1b7baae33",
            "1eb178b8bee74c5cb38e6816786f1409",
            "aa9e542841a44d6382f766c970128799",
            "1f68e2bdcdb54b53bf336d03edcc5395",
            "de072d58010e4bdfb8098549e25c75ae",
            "9eab49f4cb5c49119230ee3b60d5e80b",
            "7b1ada4c2153418c8c8cceff452c3148",
            "db5b3022fac34d6fb2f88c2a30b1e9ac",
            "c98cba2baee045bab5ebcce28eb4ef1b",
            "9936d9feb08b492b80362084edb16a5a",
            "5714f1415f2f419aaa229784ee2eea00",
            "0e27de0e477b4727a2aaa3850d629b3a",
            "d2830dfc547e470e925f352db877a2e1",
            "01c8f79664f34598b59aa376d81720dd",
            "c8ccc8060ee7436f9574ba5d82bf9ad4",
            "cfa48608d364484880085165b6da7492",
            "f3a2391a69644461a794cb7fc54ca3c8",
            "f4a7f4aa772b4bff9cdc61b0ec7ea8ce",
            "3c77dfd15bf84b8394c31276e01ba6b5",
            "d2615abb12274d43a635d8fe05aa56fb",
            "afe8fa0adf4a447d8f7a048a0d74144d",
            "a0c76c5997f4406583ebe63460a3febe",
            "233ab3cee996459688baff6b7298e9d2",
            "cfd32dff2c924609916c672cdf624d3f",
            "b9fc7c07dd6e4c9790a39b4222c2877b",
            "c54b56100d0a4b069b9ce30a0e4e2e20",
            "7ff1163f3dda4ad68fb157f61f31533d",
            "e79a23ec9aa0488e8ee1a800e9e87133"
          ]
        },
        "id": "jDCY9oZNAoJb",
        "outputId": "d07a8b8c-6439-406d-bda5-ad3397544026"
      },
      "execution_count": 8,
      "outputs": [
        {
          "output_type": "display_data",
          "data": {
            "text/plain": [
              "Downloading:   0%|          | 0.00/605 [00:00<?, ?B/s]"
            ],
            "application/vnd.jupyter.widget-view+json": {
              "version_major": 2,
              "version_minor": 0,
              "model_id": "da622226181b4381a0a099581724b0b5"
            }
          },
          "metadata": {}
        },
        {
          "output_type": "display_data",
          "data": {
            "text/plain": [
              "Downloading:   0%|          | 0.00/991M [00:00<?, ?B/s]"
            ],
            "application/vnd.jupyter.widget-view+json": {
              "version_major": 2,
              "version_minor": 0,
              "model_id": "bf84e6ad6a3e42dc95a06b5df7741f50"
            }
          },
          "metadata": {}
        },
        {
          "output_type": "stream",
          "name": "stderr",
          "text": [
            "All model checkpoint layers were used when initializing TFT5ForConditionalGeneration.\n",
            "\n",
            "All the layers of TFT5ForConditionalGeneration were initialized from the model checkpoint at google/t5-v1_1-base.\n",
            "If your task is similar to the task the model of the checkpoint was trained on, you can already use TFT5ForConditionalGeneration for predictions without further training.\n"
          ]
        },
        {
          "output_type": "display_data",
          "data": {
            "text/plain": [
              "Downloading:   0%|          | 0.00/792k [00:00<?, ?B/s]"
            ],
            "application/vnd.jupyter.widget-view+json": {
              "version_major": 2,
              "version_minor": 0,
              "model_id": "57b2aa40fa34462a8ecc3892b44eed6c"
            }
          },
          "metadata": {}
        },
        {
          "output_type": "display_data",
          "data": {
            "text/plain": [
              "Downloading:   0%|          | 0.00/1.79k [00:00<?, ?B/s]"
            ],
            "application/vnd.jupyter.widget-view+json": {
              "version_major": 2,
              "version_minor": 0,
              "model_id": "7b1ada4c2153418c8c8cceff452c3148"
            }
          },
          "metadata": {}
        },
        {
          "output_type": "display_data",
          "data": {
            "text/plain": [
              "Downloading:   0%|          | 0.00/1.86k [00:00<?, ?B/s]"
            ],
            "application/vnd.jupyter.widget-view+json": {
              "version_major": 2,
              "version_minor": 0,
              "model_id": "f4a7f4aa772b4bff9cdc61b0ec7ea8ce"
            }
          },
          "metadata": {}
        }
      ]
    },
    {
      "cell_type": "code",
      "execution_count": 9,
      "metadata": {
        "id": "fURMt0oOyVbI"
      },
      "outputs": [],
      "source": [
        "def summarize_dataset (dataset, config=None):\n",
        "    builder = load_dataset_builder(dataset, config)\n",
        "    pprint(f\"Description:\\n {builder.info.description}\")\n",
        "    print(f\"Features:\")\n",
        "    pprint(builder.info.features)\n",
        "    return"
      ]
    },
    {
      "cell_type": "code",
      "source": [
        "def word_count(string):\n",
        "  return(len(string.strip().split(\" \")))"
      ],
      "metadata": {
        "id": "RjX4XKqEgfNK"
      },
      "execution_count": 10,
      "outputs": []
    },
    {
      "cell_type": "markdown",
      "metadata": {
        "id": "KwnQKUy5hwqg"
      },
      "source": [
        "### SQuAD"
      ]
    },
    {
      "cell_type": "code",
      "execution_count": 11,
      "metadata": {
        "colab": {
          "base_uri": "https://localhost:8080/",
          "height": 321,
          "referenced_widgets": [
            "26611e208a074f2686777c4d50737df2",
            "ad03cadb592242a3ba15c56e85c0ea7d",
            "1d11a70896bc4a0880c98ddf7e32a829",
            "6c31a1f0e33f46bcba9d514af01e294b",
            "5463301ce8da4fcb8706f81a526ca247",
            "f0a9a6a060334ab380b72d4c08ccf2d4",
            "ddc87a7ab4ef4048b51c432a6922f8e8",
            "63f6955ef9824bd8affd3a8363db2cd1",
            "2900816a49974e36a2db3834ffcb5f4c",
            "414fa273358d4911b32db6c4a4f55de5",
            "8f925ffb130e46e4ae73ada49becd1a4",
            "f840339a2d7d4999be228a19d4c4c960",
            "cc0220dc99224d7ca7420c311e209982",
            "9ffc4d4f8d6b4393b7d81301d2a59995",
            "c5188021bcb34a289165ce739e3552d1",
            "11bed789e7c044ac9f5b819e76fb3e59",
            "09861215d0c540bda4a0c761dff09d39",
            "da63ba9f09e049b88b30ef7260df828d",
            "df6b3b61c6eb4fb2a3c63335591d31e9",
            "b7417789de484e80a3ed47fe001f8059",
            "9e6c598f96ba43d29f4ec0418bc6e7e4",
            "a2f0be3b4df74565a7b4ae8159e51aef",
            "a8901c361a7a4dc6ac1b1ccdef76ea78",
            "6e5737904de441f69122ce88013469ae",
            "0753581482974beeb99be9a31fa2a1db",
            "702b87f74f9f4e08ad4b432c85483e68",
            "e943a69a1db04a1b9c9214d1736e5808",
            "8d13189084c44545884a6f885d06665c",
            "24f7fafc8d754d3097d84972bf51e9d4",
            "4d617fa6cb8b4510aaa5c6224ce1d0ab",
            "7bc22dd5e6414be58503760ccf0b06f1",
            "653b7088533a463c923b156a2452b9af",
            "aa932413f7754c4998f29dff1e2fd5bb"
          ]
        },
        "id": "8xiwmqM2yVbJ",
        "outputId": "5dcb82f4-7998-4782-ca49-41cba01a0c0b"
      },
      "outputs": [
        {
          "output_type": "display_data",
          "data": {
            "text/plain": [
              "Downloading builder script:   0%|          | 0.00/5.27k [00:00<?, ?B/s]"
            ],
            "application/vnd.jupyter.widget-view+json": {
              "version_major": 2,
              "version_minor": 0,
              "model_id": "26611e208a074f2686777c4d50737df2"
            }
          },
          "metadata": {}
        },
        {
          "output_type": "display_data",
          "data": {
            "text/plain": [
              "Downloading metadata:   0%|          | 0.00/2.36k [00:00<?, ?B/s]"
            ],
            "application/vnd.jupyter.widget-view+json": {
              "version_major": 2,
              "version_minor": 0,
              "model_id": "f840339a2d7d4999be228a19d4c4c960"
            }
          },
          "metadata": {}
        },
        {
          "output_type": "display_data",
          "data": {
            "text/plain": [
              "Downloading readme:   0%|          | 0.00/7.17k [00:00<?, ?B/s]"
            ],
            "application/vnd.jupyter.widget-view+json": {
              "version_major": 2,
              "version_minor": 0,
              "model_id": "a8901c361a7a4dc6ac1b1ccdef76ea78"
            }
          },
          "metadata": {}
        },
        {
          "output_type": "stream",
          "name": "stdout",
          "text": [
            "('Description:\\n'\n",
            " ' Stanford Question Answering Dataset (SQuAD) is a reading comprehension '\n",
            " 'dataset, consisting of questions posed by crowdworkers on a set of Wikipedia '\n",
            " 'articles, where the answer to every question is a segment of text, or span, '\n",
            " 'from the corresponding reading passage, or the question might be '\n",
            " 'unanswerable.\\n')\n",
            "Features:\n",
            "{'answers': Sequence(feature={'text': Value(dtype='string', id=None), 'answer_start': Value(dtype='int32', id=None)}, length=-1, id=None),\n",
            " 'context': Value(dtype='string', id=None),\n",
            " 'id': Value(dtype='string', id=None),\n",
            " 'question': Value(dtype='string', id=None),\n",
            " 'title': Value(dtype='string', id=None)}\n"
          ]
        }
      ],
      "source": [
        "summarize_dataset(\"squad\")"
      ]
    },
    {
      "cell_type": "code",
      "execution_count": 12,
      "metadata": {
        "id": "gfgYoNO_hLvh"
      },
      "outputs": [],
      "source": [
        "# SQuAD is quick to download from Hugging Face\n",
        "# Use the code below if you aren't accessing the data from the shared\n",
        "# Google Drive folder.\n",
        "\n",
        "# data_squad = load_dataset(\"squad\")\n",
        "\n",
        "# The followind code assumes you have added a link to the shared \n",
        "# w266 NLP Final Project folder in your Google Drive folder\n",
        "# Loading data from there is faster.\n",
        "\n",
        "data_squad = load_from_disk(\"/content/drive/MyDrive/w266 NLP Final Project/Data/squad.hf\")"
      ]
    },
    {
      "cell_type": "code",
      "execution_count": 13,
      "metadata": {
        "colab": {
          "base_uri": "https://localhost:8080/"
        },
        "id": "UIQ5-rH4-020",
        "outputId": "3dabc5ab-e90a-4324-ed3b-ad0220f152e6"
      },
      "outputs": [
        {
          "output_type": "execute_result",
          "data": {
            "text/plain": [
              "datasets.dataset_dict.DatasetDict"
            ]
          },
          "metadata": {},
          "execution_count": 13
        }
      ],
      "source": [
        "(type (data_squad))"
      ]
    },
    {
      "cell_type": "code",
      "execution_count": 14,
      "metadata": {
        "id": "f5mfEh20-1CT"
      },
      "outputs": [],
      "source": [
        "# data_squad.save_to_disk(\"/content/drive/MyDrive/w266 NLP Final Project/Data/squad.hf\")"
      ]
    },
    {
      "cell_type": "markdown",
      "metadata": {
        "id": "kS_IWealiE0I"
      },
      "source": [
        "## Getting Familiar"
      ]
    },
    {
      "cell_type": "markdown",
      "metadata": {
        "id": "FVx79HnxiIFk"
      },
      "source": [
        "### SQuAD"
      ]
    },
    {
      "cell_type": "code",
      "execution_count": 15,
      "metadata": {
        "colab": {
          "base_uri": "https://localhost:8080/"
        },
        "id": "bGaLqmq5iKx3",
        "outputId": "b463662f-b869-4464-8868-141be87da635"
      },
      "outputs": [
        {
          "output_type": "execute_result",
          "data": {
            "text/plain": [
              "DatasetDict({\n",
              "    train: Dataset({\n",
              "        features: ['id', 'title', 'context', 'question', 'answers'],\n",
              "        num_rows: 87599\n",
              "    })\n",
              "    validation: Dataset({\n",
              "        features: ['id', 'title', 'context', 'question', 'answers'],\n",
              "        num_rows: 10570\n",
              "    })\n",
              "})"
            ]
          },
          "metadata": {},
          "execution_count": 15
        }
      ],
      "source": [
        "data_squad"
      ]
    },
    {
      "cell_type": "code",
      "execution_count": 16,
      "metadata": {
        "colab": {
          "base_uri": "https://localhost:8080/"
        },
        "id": "LOhCAEZgiM5U",
        "outputId": "1d206cc5-c3f2-4b2f-d885-7a6930e900ce"
      },
      "outputs": [
        {
          "output_type": "execute_result",
          "data": {
            "text/plain": [
              "{'id': Value(dtype='string', id=None),\n",
              " 'title': Value(dtype='string', id=None),\n",
              " 'context': Value(dtype='string', id=None),\n",
              " 'question': Value(dtype='string', id=None),\n",
              " 'answers': Sequence(feature={'text': Value(dtype='string', id=None), 'answer_start': Value(dtype='int32', id=None)}, length=-1, id=None)}"
            ]
          },
          "metadata": {},
          "execution_count": 16
        }
      ],
      "source": [
        "data_squad['train'].info.features"
      ]
    },
    {
      "cell_type": "code",
      "execution_count": 17,
      "metadata": {
        "colab": {
          "base_uri": "https://localhost:8080/"
        },
        "id": "zoHj5HKiZVeI",
        "outputId": "a7c1b0f5-b1af-4668-acc1-9bca386586ce"
      },
      "outputs": [
        {
          "output_type": "stream",
          "name": "stdout",
          "text": [
            "{'answers': {'answer_start': [515], 'text': ['Saint Bernadette Soubirous']},\n",
            " 'context': 'Architecturally, the school has a Catholic character. Atop the '\n",
            "            \"Main Building's gold dome is a golden statue of the Virgin Mary. \"\n",
            "            'Immediately in front of the Main Building and facing it, is a '\n",
            "            'copper statue of Christ with arms upraised with the legend '\n",
            "            '\"Venite Ad Me Omnes\". Next to the Main Building is the Basilica '\n",
            "            'of the Sacred Heart. Immediately behind the basilica is the '\n",
            "            'Grotto, a Marian place of prayer and reflection. It is a replica '\n",
            "            'of the grotto at Lourdes, France where the Virgin Mary reputedly '\n",
            "            'appeared to Saint Bernadette Soubirous in 1858. At the end of the '\n",
            "            'main drive (and in a direct line that connects through 3 statues '\n",
            "            'and the Gold Dome), is a simple, modern stone statue of Mary.',\n",
            " 'id': '5733be284776f41900661182',\n",
            " 'question': 'To whom did the Virgin Mary allegedly appear in 1858 in Lourdes '\n",
            "             'France?',\n",
            " 'title': 'University_of_Notre_Dame'}\n"
          ]
        }
      ],
      "source": [
        "# Look at first example\n",
        "pprint(data_squad['train'][0])"
      ]
    },
    {
      "cell_type": "code",
      "execution_count": 20,
      "metadata": {
        "colab": {
          "base_uri": "https://localhost:8080/"
        },
        "id": "J3_Gt2PYokcF",
        "outputId": "0ba74fd2-2cf5-408f-d922-3ca1a7589d61"
      },
      "outputs": [
        {
          "output_type": "stream",
          "name": "stderr",
          "text": [
            "WARNING:datasets.arrow_dataset:Loading cached shuffled indices for dataset at /content/drive/MyDrive/w266 NLP Final Project/Data/squad.hf/train/cache-8ab9b6302b91254a.arrow\n"
          ]
        }
      ],
      "source": [
        "# Shuffle the dataset and take a handful of examples\n",
        "\n",
        "count=2000\n",
        "sample=data_squad['train'].shuffle(seed=1962).select(range(count))\n",
        "#sample=data_squad['train']\n",
        "df=pd.DataFrame()\n",
        "df['answer'] = [answer['text'][0] for answer in sample['answers']]\n",
        "df['context'] = sample['context']\n",
        "df['question'] = sample['question']"
      ]
    },
    {
      "cell_type": "code",
      "execution_count": 21,
      "metadata": {
        "colab": {
          "base_uri": "https://localhost:8080/",
          "height": 424
        },
        "id": "1VHLGgZh7Znc",
        "outputId": "2c19a29d-86c7-4d42-850e-2369218806e8"
      },
      "outputs": [
        {
          "output_type": "execute_result",
          "data": {
            "text/plain": [
              "                                                 answer  \\\n",
              "0                                     biotech companies   \n",
              "1                                   Tytus Woyciechowski   \n",
              "2                      the Endangered Species Committee   \n",
              "3                                                 China   \n",
              "4                                              45 years   \n",
              "...                                                 ...   \n",
              "1995  according to the type of aircraft they carry a...   \n",
              "1996                                   mistakes/defects   \n",
              "1997                                            Mexican   \n",
              "1998                                    Michael Dukakis   \n",
              "1999  quail, doves, cardinals, bald eagles, red-tail...   \n",
              "\n",
              "                                                context  \\\n",
              "0     Prior to moving its headquarters to Chicago, a...   \n",
              "1     Four boarders at his parents' apartments becam...   \n",
              "2     The question to be answered is whether a liste...   \n",
              "3     In Asian countries such as China, Korea, and J...   \n",
              "4     Saint Athanasius of Alexandria (/ˌæθəˈneɪʃəs/;...   \n",
              "...                                                 ...   \n",
              "1995  There is no single definition of an \"aircraft ...   \n",
              "1996  In its metaphysics, Nyāya school is closer to ...   \n",
              "1997  President Franklin D. Roosevelt promoted a \"go...   \n",
              "1998  After receiving his J.D. from Boston College L...   \n",
              "1999  The state holds populations of white-tailed de...   \n",
              "\n",
              "                                               question  \n",
              "0     What type of businesses did Nickles want to at...  \n",
              "1     To whom did Chopin reveal in letters which par...  \n",
              "2     If a species may be harmed, who holds final sa...  \n",
              "3     What country has the dog as part of its 12 ani...  \n",
              "4                     How long did his episcopate last?  \n",
              "...                                                 ...  \n",
              "1995           How may aircraft carriers be classified?  \n",
              "1996        What does Nyaya say causes human suffering?  \n",
              "1997  People of what descent were classified as whit...  \n",
              "1998                     Who was Kerry an Lt. Gov. for?  \n",
              "1999   What types of birds does Oklahoma have a lot of?  \n",
              "\n",
              "[2000 rows x 3 columns]"
            ],
            "text/html": [
              "\n",
              "  <div id=\"df-73d07d4c-f56b-47f6-ba49-68d55a780a0c\">\n",
              "    <div class=\"colab-df-container\">\n",
              "      <div>\n",
              "<style scoped>\n",
              "    .dataframe tbody tr th:only-of-type {\n",
              "        vertical-align: middle;\n",
              "    }\n",
              "\n",
              "    .dataframe tbody tr th {\n",
              "        vertical-align: top;\n",
              "    }\n",
              "\n",
              "    .dataframe thead th {\n",
              "        text-align: right;\n",
              "    }\n",
              "</style>\n",
              "<table border=\"1\" class=\"dataframe\">\n",
              "  <thead>\n",
              "    <tr style=\"text-align: right;\">\n",
              "      <th></th>\n",
              "      <th>answer</th>\n",
              "      <th>context</th>\n",
              "      <th>question</th>\n",
              "    </tr>\n",
              "  </thead>\n",
              "  <tbody>\n",
              "    <tr>\n",
              "      <th>0</th>\n",
              "      <td>biotech companies</td>\n",
              "      <td>Prior to moving its headquarters to Chicago, a...</td>\n",
              "      <td>What type of businesses did Nickles want to at...</td>\n",
              "    </tr>\n",
              "    <tr>\n",
              "      <th>1</th>\n",
              "      <td>Tytus Woyciechowski</td>\n",
              "      <td>Four boarders at his parents' apartments becam...</td>\n",
              "      <td>To whom did Chopin reveal in letters which par...</td>\n",
              "    </tr>\n",
              "    <tr>\n",
              "      <th>2</th>\n",
              "      <td>the Endangered Species Committee</td>\n",
              "      <td>The question to be answered is whether a liste...</td>\n",
              "      <td>If a species may be harmed, who holds final sa...</td>\n",
              "    </tr>\n",
              "    <tr>\n",
              "      <th>3</th>\n",
              "      <td>China</td>\n",
              "      <td>In Asian countries such as China, Korea, and J...</td>\n",
              "      <td>What country has the dog as part of its 12 ani...</td>\n",
              "    </tr>\n",
              "    <tr>\n",
              "      <th>4</th>\n",
              "      <td>45 years</td>\n",
              "      <td>Saint Athanasius of Alexandria (/ˌæθəˈneɪʃəs/;...</td>\n",
              "      <td>How long did his episcopate last?</td>\n",
              "    </tr>\n",
              "    <tr>\n",
              "      <th>...</th>\n",
              "      <td>...</td>\n",
              "      <td>...</td>\n",
              "      <td>...</td>\n",
              "    </tr>\n",
              "    <tr>\n",
              "      <th>1995</th>\n",
              "      <td>according to the type of aircraft they carry a...</td>\n",
              "      <td>There is no single definition of an \"aircraft ...</td>\n",
              "      <td>How may aircraft carriers be classified?</td>\n",
              "    </tr>\n",
              "    <tr>\n",
              "      <th>1996</th>\n",
              "      <td>mistakes/defects</td>\n",
              "      <td>In its metaphysics, Nyāya school is closer to ...</td>\n",
              "      <td>What does Nyaya say causes human suffering?</td>\n",
              "    </tr>\n",
              "    <tr>\n",
              "      <th>1997</th>\n",
              "      <td>Mexican</td>\n",
              "      <td>President Franklin D. Roosevelt promoted a \"go...</td>\n",
              "      <td>People of what descent were classified as whit...</td>\n",
              "    </tr>\n",
              "    <tr>\n",
              "      <th>1998</th>\n",
              "      <td>Michael Dukakis</td>\n",
              "      <td>After receiving his J.D. from Boston College L...</td>\n",
              "      <td>Who was Kerry an Lt. Gov. for?</td>\n",
              "    </tr>\n",
              "    <tr>\n",
              "      <th>1999</th>\n",
              "      <td>quail, doves, cardinals, bald eagles, red-tail...</td>\n",
              "      <td>The state holds populations of white-tailed de...</td>\n",
              "      <td>What types of birds does Oklahoma have a lot of?</td>\n",
              "    </tr>\n",
              "  </tbody>\n",
              "</table>\n",
              "<p>2000 rows × 3 columns</p>\n",
              "</div>\n",
              "      <button class=\"colab-df-convert\" onclick=\"convertToInteractive('df-73d07d4c-f56b-47f6-ba49-68d55a780a0c')\"\n",
              "              title=\"Convert this dataframe to an interactive table.\"\n",
              "              style=\"display:none;\">\n",
              "        \n",
              "  <svg xmlns=\"http://www.w3.org/2000/svg\" height=\"24px\"viewBox=\"0 0 24 24\"\n",
              "       width=\"24px\">\n",
              "    <path d=\"M0 0h24v24H0V0z\" fill=\"none\"/>\n",
              "    <path d=\"M18.56 5.44l.94 2.06.94-2.06 2.06-.94-2.06-.94-.94-2.06-.94 2.06-2.06.94zm-11 1L8.5 8.5l.94-2.06 2.06-.94-2.06-.94L8.5 2.5l-.94 2.06-2.06.94zm10 10l.94 2.06.94-2.06 2.06-.94-2.06-.94-.94-2.06-.94 2.06-2.06.94z\"/><path d=\"M17.41 7.96l-1.37-1.37c-.4-.4-.92-.59-1.43-.59-.52 0-1.04.2-1.43.59L10.3 9.45l-7.72 7.72c-.78.78-.78 2.05 0 2.83L4 21.41c.39.39.9.59 1.41.59.51 0 1.02-.2 1.41-.59l7.78-7.78 2.81-2.81c.8-.78.8-2.07 0-2.86zM5.41 20L4 18.59l7.72-7.72 1.47 1.35L5.41 20z\"/>\n",
              "  </svg>\n",
              "      </button>\n",
              "      \n",
              "  <style>\n",
              "    .colab-df-container {\n",
              "      display:flex;\n",
              "      flex-wrap:wrap;\n",
              "      gap: 12px;\n",
              "    }\n",
              "\n",
              "    .colab-df-convert {\n",
              "      background-color: #E8F0FE;\n",
              "      border: none;\n",
              "      border-radius: 50%;\n",
              "      cursor: pointer;\n",
              "      display: none;\n",
              "      fill: #1967D2;\n",
              "      height: 32px;\n",
              "      padding: 0 0 0 0;\n",
              "      width: 32px;\n",
              "    }\n",
              "\n",
              "    .colab-df-convert:hover {\n",
              "      background-color: #E2EBFA;\n",
              "      box-shadow: 0px 1px 2px rgba(60, 64, 67, 0.3), 0px 1px 3px 1px rgba(60, 64, 67, 0.15);\n",
              "      fill: #174EA6;\n",
              "    }\n",
              "\n",
              "    [theme=dark] .colab-df-convert {\n",
              "      background-color: #3B4455;\n",
              "      fill: #D2E3FC;\n",
              "    }\n",
              "\n",
              "    [theme=dark] .colab-df-convert:hover {\n",
              "      background-color: #434B5C;\n",
              "      box-shadow: 0px 1px 3px 1px rgba(0, 0, 0, 0.15);\n",
              "      filter: drop-shadow(0px 1px 2px rgba(0, 0, 0, 0.3));\n",
              "      fill: #FFFFFF;\n",
              "    }\n",
              "  </style>\n",
              "\n",
              "      <script>\n",
              "        const buttonEl =\n",
              "          document.querySelector('#df-73d07d4c-f56b-47f6-ba49-68d55a780a0c button.colab-df-convert');\n",
              "        buttonEl.style.display =\n",
              "          google.colab.kernel.accessAllowed ? 'block' : 'none';\n",
              "\n",
              "        async function convertToInteractive(key) {\n",
              "          const element = document.querySelector('#df-73d07d4c-f56b-47f6-ba49-68d55a780a0c');\n",
              "          const dataTable =\n",
              "            await google.colab.kernel.invokeFunction('convertToInteractive',\n",
              "                                                     [key], {});\n",
              "          if (!dataTable) return;\n",
              "\n",
              "          const docLinkHtml = 'Like what you see? Visit the ' +\n",
              "            '<a target=\"_blank\" href=https://colab.research.google.com/notebooks/data_table.ipynb>data table notebook</a>'\n",
              "            + ' to learn more about interactive tables.';\n",
              "          element.innerHTML = '';\n",
              "          dataTable['output_type'] = 'display_data';\n",
              "          await google.colab.output.renderOutput(dataTable, element);\n",
              "          const docLink = document.createElement('div');\n",
              "          docLink.innerHTML = docLinkHtml;\n",
              "          element.appendChild(docLink);\n",
              "        }\n",
              "      </script>\n",
              "    </div>\n",
              "  </div>\n",
              "  "
            ]
          },
          "metadata": {},
          "execution_count": 21
        }
      ],
      "source": [
        "df"
      ]
    },
    {
      "cell_type": "code",
      "source": [
        "max([word_count(x) for x in df.context])"
      ],
      "metadata": {
        "colab": {
          "base_uri": "https://localhost:8080/"
        },
        "id": "NymDV-jqhM5a",
        "outputId": "3c2e983e-d6ee-4ad7-c905-60bc05404d23"
      },
      "execution_count": 22,
      "outputs": [
        {
          "output_type": "execute_result",
          "data": {
            "text/plain": [
              "402"
            ]
          },
          "metadata": {},
          "execution_count": 22
        }
      ]
    },
    {
      "cell_type": "code",
      "source": [
        "model.summary()"
      ],
      "metadata": {
        "colab": {
          "base_uri": "https://localhost:8080/"
        },
        "id": "qUsCgO0JJ8zF",
        "outputId": "59b26ef2-6112-48a1-91b0-c36a1ca3d94e"
      },
      "execution_count": 23,
      "outputs": [
        {
          "output_type": "stream",
          "name": "stdout",
          "text": [
            "Model: \"tft5_for_conditional_generation\"\n",
            "_________________________________________________________________\n",
            " Layer (type)                Output Shape              Param #   \n",
            "=================================================================\n",
            " shared (TFSharedEmbeddings)  multiple                 24674304  \n",
            "                                                                 \n",
            " encoder (TFT5MainLayer)     multiple                  84954240  \n",
            "                                                                 \n",
            " decoder (TFT5MainLayer)     multiple                  113275008 \n",
            "                                                                 \n",
            " lm_head (Dense)             multiple                  24674304  \n",
            "                                                                 \n",
            "=================================================================\n",
            "Total params: 247,577,856\n",
            "Trainable params: 247,577,856\n",
            "Non-trainable params: 0\n",
            "_________________________________________________________________\n"
          ]
        }
      ]
    },
    {
      "cell_type": "markdown",
      "source": [
        "### Create a list of input strings and a list of target strings\n"
      ],
      "metadata": {
        "id": "sSSxN4ezCLUY"
      }
    },
    {
      "cell_type": "code",
      "source": [
        "input_strings = [f\"gq answer: {answer} context: {context}\" for answer, context in zip (df.answer, df.context)]\n",
        "\n",
        "target_strings = df.question.to_list()"
      ],
      "metadata": {
        "id": "wzEhMLyBJ-hI"
      },
      "execution_count": 24,
      "outputs": []
    },
    {
      "cell_type": "code",
      "source": [
        "input_strings[1]"
      ],
      "metadata": {
        "colab": {
          "base_uri": "https://localhost:8080/",
          "height": 122
        },
        "id": "V881Z6hKMYah",
        "outputId": "6009e00d-3df5-47f8-8c5c-7532c2dfd8fa"
      },
      "execution_count": 25,
      "outputs": [
        {
          "output_type": "execute_result",
          "data": {
            "text/plain": [
              "'gq answer: Tytus Woyciechowski context: Four boarders at his parents\\' apartments became Chopin\\'s intimates: Tytus Woyciechowski, Jan Nepomucen Białobłocki, Jan Matuszyński and Julian Fontana; the latter two would become part of his Paris milieu. He was friendly with members of Warsaw\\'s young artistic and intellectual world, including Fontana, Józef Bohdan Zaleski and Stefan Witwicki. He was also attracted to the singing student Konstancja Gładkowska. In letters to Woyciechowski, he indicated which of his works, and even which of their passages, were influenced by his fascination with her; his letter of 15 May 1830 revealed that the slow movement (Larghetto) of his Piano Concerto No. 1 (in E minor) was secretly dedicated to her – \"It should be like dreaming in beautiful springtime – by moonlight.\" His final Conservatory report (July 1829) read: \"Chopin F., third-year student, exceptional talent, musical genius.\"'"
            ],
            "application/vnd.google.colaboratory.intrinsic+json": {
              "type": "string"
            }
          },
          "metadata": {},
          "execution_count": 25
        }
      ]
    },
    {
      "cell_type": "code",
      "source": [
        "max([word_count(x) for x in input_strings])"
      ],
      "metadata": {
        "colab": {
          "base_uri": "https://localhost:8080/"
        },
        "id": "xb5bt-1Yjft1",
        "outputId": "8e1564f3-b168-458f-9275-72fc8e5dfad6"
      },
      "execution_count": 26,
      "outputs": [
        {
          "output_type": "execute_result",
          "data": {
            "text/plain": [
              "408"
            ]
          },
          "metadata": {},
          "execution_count": 26
        }
      ]
    },
    {
      "cell_type": "code",
      "source": [
        "target_strings[1]"
      ],
      "metadata": {
        "colab": {
          "base_uri": "https://localhost:8080/",
          "height": 35
        },
        "id": "3tO9XdfHOT9C",
        "outputId": "20571549-d4b1-4625-e340-54a1889968f9"
      },
      "execution_count": 27,
      "outputs": [
        {
          "output_type": "execute_result",
          "data": {
            "text/plain": [
              "'To whom did Chopin reveal in letters which parts of his work were about the singing student he was infatuated with?'"
            ],
            "application/vnd.google.colaboratory.intrinsic+json": {
              "type": "string"
            }
          },
          "metadata": {},
          "execution_count": 27
        }
      ]
    },
    {
      "cell_type": "code",
      "source": [
        "max_source_length = 1024\n",
        "max_target_length = 64"
      ],
      "metadata": {
        "id": "-CoS-sk2CyIk"
      },
      "execution_count": 28,
      "outputs": []
    },
    {
      "cell_type": "code",
      "source": [
        "input_encoding = tokenizer(input_strings, padding=\"longest\", max_length=max_source_length, truncation=True, return_tensors=\"tf\")\n",
        "input_ids, attention_mask = input_encoding.input_ids, input_encoding.attention_mask"
      ],
      "metadata": {
        "id": "CMIhlLSYMZjY"
      },
      "execution_count": 29,
      "outputs": []
    },
    {
      "cell_type": "code",
      "source": [
        "max (len(x) for x in input_ids)"
      ],
      "metadata": {
        "colab": {
          "base_uri": "https://localhost:8080/"
        },
        "id": "MsREXhOZju1B",
        "outputId": "339cc2d9-f306-470d-c94f-17514146f6b4"
      },
      "execution_count": 30,
      "outputs": [
        {
          "output_type": "execute_result",
          "data": {
            "text/plain": [
              "647"
            ]
          },
          "metadata": {},
          "execution_count": 30
        }
      ]
    },
    {
      "cell_type": "code",
      "source": [
        "target_encoding = tokenizer(target_strings, padding=\"longest\", max_length=max_target_length, truncation=True, return_tensors=\"tf\")"
      ],
      "metadata": {
        "id": "Ei-gF80TNqJ8"
      },
      "execution_count": 31,
      "outputs": []
    },
    {
      "cell_type": "code",
      "source": [
        "target_ids = target_encoding.input_ids"
      ],
      "metadata": {
        "id": "SudSOb_lOc7Y"
      },
      "execution_count": 32,
      "outputs": []
    },
    {
      "cell_type": "code",
      "source": [
        "# We need to substitute -100 for the tokenizers pad token ID in the target labels\n",
        "# And I can't figure out how to do that in TensorFlow\n",
        "# So I will convert to a numpy array, make the substitution and then cast back \n",
        "\n",
        "target_ids = target_ids.numpy()\n",
        "target_ids[target_ids == tokenizer.pad_token_id] = -100\n",
        "target_ids = tf.convert_to_tensor(target_ids)"
      ],
      "metadata": {
        "id": "K4paVz-eNpV6"
      },
      "execution_count": 33,
      "outputs": []
    },
    {
      "cell_type": "code",
      "source": [
        "max (len (x) for x in target_ids)"
      ],
      "metadata": {
        "colab": {
          "base_uri": "https://localhost:8080/"
        },
        "id": "p8tAqTCskxpJ",
        "outputId": "441b83af-283c-4ae7-a61a-c515da6fd8ab"
      },
      "execution_count": 34,
      "outputs": [
        {
          "output_type": "execute_result",
          "data": {
            "text/plain": [
              "37"
            ]
          },
          "metadata": {},
          "execution_count": 34
        }
      ]
    },
    {
      "cell_type": "code",
      "source": [
        "target_ids[0]"
      ],
      "metadata": {
        "colab": {
          "base_uri": "https://localhost:8080/"
        },
        "id": "c1H9E1gyJJwk",
        "outputId": "58320ca7-83d6-42bf-ce57-ecf71cbb1953"
      },
      "execution_count": 35,
      "outputs": [
        {
          "output_type": "execute_result",
          "data": {
            "text/plain": [
              "<tf.Tensor: shape=(37,), dtype=int32, numpy=\n",
              "array([ 363,  686,   13, 1623,  410, 7486,  965,  241,   12, 5521,   12,\n",
              "       8854,   58,    1, -100, -100, -100, -100, -100, -100, -100, -100,\n",
              "       -100, -100, -100, -100, -100, -100, -100, -100, -100, -100, -100,\n",
              "       -100, -100, -100, -100], dtype=int32)>"
            ]
          },
          "metadata": {},
          "execution_count": 35
        }
      ]
    },
    {
      "cell_type": "code",
      "source": [
        "outputs = model(input_ids=input_ids[:32], attention_mask=attention_mask[:32], labels=target_ids[:32])"
      ],
      "metadata": {
        "id": "Aiq9ADKLPDMp"
      },
      "execution_count": null,
      "outputs": []
    },
    {
      "cell_type": "code",
      "source": [
        "loss = outputs.loss\n",
        "loss"
      ],
      "metadata": {
        "id": "G8cmL0eWRwll",
        "outputId": "d8471530-0dbe-4d41-cffa-58775daa970e",
        "colab": {
          "base_uri": "https://localhost:8080/"
        }
      },
      "execution_count": null,
      "outputs": [
        {
          "output_type": "execute_result",
          "data": {
            "text/plain": [
              "<tf.Tensor: shape=(1,), dtype=float32, numpy=array([11.030337], dtype=float32)>"
            ]
          },
          "metadata": {},
          "execution_count": 57
        }
      ]
    },
    {
      "cell_type": "code",
      "source": [
        "model.save_pretrained(\"test\")"
      ],
      "metadata": {
        "id": "iwZsiv2nR3fL"
      },
      "execution_count": null,
      "outputs": []
    },
    {
      "cell_type": "code",
      "source": [
        "outputs = model.generate(input_ids[:10], max_length=max_target_length)"
      ],
      "metadata": {
        "id": "fRFRrFhQS8nN"
      },
      "execution_count": null,
      "outputs": []
    },
    {
      "cell_type": "code",
      "source": [
        "len(outputs)"
      ],
      "metadata": {
        "id": "q3EWrFKoTSVg",
        "outputId": "68dafa09-baa4-4b93-a3dd-4e4f70cba869",
        "colab": {
          "base_uri": "https://localhost:8080/"
        }
      },
      "execution_count": null,
      "outputs": [
        {
          "output_type": "execute_result",
          "data": {
            "text/plain": [
              "10"
            ]
          },
          "metadata": {},
          "execution_count": 60
        }
      ]
    },
    {
      "cell_type": "code",
      "source": [
        "[tokenizer.decode(x, skip_special_tokens=True) for x in outputs]"
      ],
      "metadata": {
        "id": "5RIjEzGoUm75",
        "outputId": "dbe019ab-0c7b-4274-9d99-1ca0b84c708f",
        "colab": {
          "base_uri": "https://localhost:8080/"
        }
      },
      "execution_count": null,
      "outputs": [
        {
          "output_type": "execute_result",
          "data": {
            "text/plain": [
              "['.com..com..com..com..com..com..com..com\\'s \"Best Cities for Business and Careers.\" in 2006..com..com..com..com..',\n",
              " '. gq answer: gq answer: gq answer: gq answer: gq answer: gq answer: gq answer: gq gq answer: gq gq answer: gq answer: g',\n",
              " 'gq gq answer: gq answer: gq answer: gq answer: gq answer: gq answer: gq answer: gq gq else. and',\n",
              " '. gq question: Dogs are protectors. gq answer: Dogs are protectors. gq answer: Dogs are protectors. gq answer: Dog. gq answer: Dog.. Dog',\n",
              " 'a gq answer: 45 years gq answer: 45 years gq answer: 45 years gq answer: 45 years gq answer: 45 years gq gq gq',\n",
              " \". gq question: Cold War, First Gulf War, Kosovo War context: Canada's Cold War, First Gulf War, Kosovo War, and Kosovo War.\",\n",
              " 'gq answer: Buddha gq answer: Buddha gq answer: Buddha answer: Buddha answer: Buddha answer: Buddha answer: Buddha answer: Buddha context: Buddha  answer: Buddha: Buddha context: Buddha: Buddha: Answer',\n",
              " ', a Macintosh is the most popular personal computer in the world.. a Macintosh is the most popular personal computer...........',\n",
              " \"Chopin's improvisations. gq answer: gq answer: gq answer: gq answer: gq answer: gq q: gq:: morecan,\",\n",
              " ': adrian north: adrian north: adrian north: adrian north: adrian north: ad: ng: : : : : :']"
            ]
          },
          "metadata": {},
          "execution_count": 61
        }
      ]
    },
    {
      "cell_type": "code",
      "source": [
        "model = TFT5ForConditionalGeneration.from_pretrained(\"test\")"
      ],
      "metadata": {
        "id": "X1qxCfryJUzP",
        "outputId": "d4280554-0efd-494a-faa8-18f0df10e771",
        "colab": {
          "base_uri": "https://localhost:8080/"
        }
      },
      "execution_count": null,
      "outputs": [
        {
          "output_type": "stream",
          "name": "stderr",
          "text": [
            "All model checkpoint layers were used when initializing TFT5ForConditionalGeneration.\n",
            "\n",
            "All the layers of TFT5ForConditionalGeneration were initialized from the model checkpoint at test.\n",
            "If your task is similar to the task the model of the checkpoint was trained on, you can already use TFT5ForConditionalGeneration for predictions without further training.\n"
          ]
        }
      ]
    },
    {
      "cell_type": "code",
      "source": [
        "model = TFT5ForConditionalGeneration.from_pretrained(\"google/t5-v1_1-base\")\n",
        "for index in range (32):\n",
        "  start = index * 32\n",
        "  end = start + 32\n",
        "  outputs = model(input_ids=input_ids[start:end], \n",
        "                  attention_mask=attention_mask[start:end], \n",
        "                  labels=target_ids[start:end])\n",
        "  model.save_pretrained(\"test\")\n",
        "  print (f\"{start} to {end - 1} loss: {outputs.loss}\")\n",
        "  outputs = model.generate(input_ids[1024:1027], max_length=max_target_length)\n",
        "  pprint([tokenizer.decode(x, skip_special_tokens=True) for x in outputs])\n"
      ],
      "metadata": {
        "id": "DOdQRWVrSwol",
        "outputId": "b4a083a2-a124-4753-bfc4-4a48b878d7a4",
        "colab": {
          "base_uri": "https://localhost:8080/"
        }
      },
      "execution_count": 38,
      "outputs": [
        {
          "output_type": "stream",
          "name": "stderr",
          "text": [
            "All model checkpoint layers were used when initializing TFT5ForConditionalGeneration.\n",
            "\n",
            "All the layers of TFT5ForConditionalGeneration were initialized from the model checkpoint at google/t5-v1_1-base.\n",
            "If your task is similar to the task the model of the checkpoint was trained on, you can already use TFT5ForConditionalGeneration for predictions without further training.\n"
          ]
        },
        {
          "output_type": "stream",
          "name": "stdout",
          "text": [
            "0 to 31 loss: [11.030336]\n",
            "['. gq answer: hunt in the dark. gq answer: hunt in the dark. gq answer: hunt '\n",
            " 'in the dark. gq answer: hunt. gq. gq... manly-',\n",
            " ', a Vietnam War veteran, threw his decorations over the fence. gq answer:, a '\n",
            " 'Vietnam War veteran, threw his decorations over the fence. gq answer: gq, a '\n",
            " 'Vietnam War veteran, a Vietnam War veteran',\n",
            " '. gq answer: General Terrazas and General Terrazas.. Answer: General '\n",
            " 'Terrazas and General Terrazas. Answer: General Terrazas and. Answer:. '\n",
            " 'Answer:. Answer: Yes.']\n",
            "32 to 63 loss: [9.447608]\n",
            "['. gq answer: hunt in the dark. gq answer: hunt in the dark. gq answer: hunt '\n",
            " 'in the dark. gq answer: hunt. gq. gq... manly-',\n",
            " ', a Vietnam War veteran, threw his decorations over the fence. gq answer:, a '\n",
            " 'Vietnam War veteran, threw his decorations over the fence. gq answer: gq, a '\n",
            " 'Vietnam War veteran, a Vietnam War veteran',\n",
            " '. gq answer: General Terrazas and General Terrazas.. Answer: General '\n",
            " 'Terrazas and General Terrazas. Answer: General Terrazas and. Answer:. '\n",
            " 'Answer:. Answer: Yes.']\n",
            "64 to 95 loss: [10.719361]\n",
            "['. gq answer: hunt in the dark. gq answer: hunt in the dark. gq answer: hunt '\n",
            " 'in the dark. gq answer: hunt. gq. gq... manly-',\n",
            " ', a Vietnam War veteran, threw his decorations over the fence. gq answer:, a '\n",
            " 'Vietnam War veteran, threw his decorations over the fence. gq answer: gq, a '\n",
            " 'Vietnam War veteran, a Vietnam War veteran',\n",
            " '. gq answer: General Terrazas and General Terrazas.. Answer: General '\n",
            " 'Terrazas and General Terrazas. Answer: General Terrazas and. Answer:. '\n",
            " 'Answer:. Answer: Yes.']\n",
            "96 to 127 loss: [10.157696]\n",
            "['. gq answer: hunt in the dark. gq answer: hunt in the dark. gq answer: hunt '\n",
            " 'in the dark. gq answer: hunt. gq. gq... manly-',\n",
            " ', a Vietnam War veteran, threw his decorations over the fence. gq answer:, a '\n",
            " 'Vietnam War veteran, threw his decorations over the fence. gq answer: gq, a '\n",
            " 'Vietnam War veteran, a Vietnam War veteran',\n",
            " '. gq answer: General Terrazas and General Terrazas.. Answer: General '\n",
            " 'Terrazas and General Terrazas. Answer: General Terrazas and. Answer:. '\n",
            " 'Answer:. Answer: Yes.']\n",
            "128 to 159 loss: [10.281119]\n",
            "['. gq answer: hunt in the dark. gq answer: hunt in the dark. gq answer: hunt '\n",
            " 'in the dark. gq answer: hunt. gq. gq... manly-',\n",
            " ', a Vietnam War veteran, threw his decorations over the fence. gq answer:, a '\n",
            " 'Vietnam War veteran, threw his decorations over the fence. gq answer: gq, a '\n",
            " 'Vietnam War veteran, a Vietnam War veteran',\n",
            " '. gq answer: General Terrazas and General Terrazas.. Answer: General '\n",
            " 'Terrazas and General Terrazas. Answer: General Terrazas and. Answer:. '\n",
            " 'Answer:. Answer: Yes.']\n",
            "160 to 191 loss: [9.981251]\n",
            "['. gq answer: hunt in the dark. gq answer: hunt in the dark. gq answer: hunt '\n",
            " 'in the dark. gq answer: hunt. gq. gq... manly-',\n",
            " ', a Vietnam War veteran, threw his decorations over the fence. gq answer:, a '\n",
            " 'Vietnam War veteran, threw his decorations over the fence. gq answer: gq, a '\n",
            " 'Vietnam War veteran, a Vietnam War veteran',\n",
            " '. gq answer: General Terrazas and General Terrazas.. Answer: General '\n",
            " 'Terrazas and General Terrazas. Answer: General Terrazas and. Answer:. '\n",
            " 'Answer:. Answer: Yes.']\n",
            "192 to 223 loss: [12.223597]\n",
            "['. gq answer: hunt in the dark. gq answer: hunt in the dark. gq answer: hunt '\n",
            " 'in the dark. gq answer: hunt. gq. gq... manly-',\n",
            " ', a Vietnam War veteran, threw his decorations over the fence. gq answer:, a '\n",
            " 'Vietnam War veteran, threw his decorations over the fence. gq answer: gq, a '\n",
            " 'Vietnam War veteran, a Vietnam War veteran',\n",
            " '. gq answer: General Terrazas and General Terrazas.. Answer: General '\n",
            " 'Terrazas and General Terrazas. Answer: General Terrazas and. Answer:. '\n",
            " 'Answer:. Answer: Yes.']\n",
            "224 to 255 loss: [9.345798]\n",
            "['. gq answer: hunt in the dark. gq answer: hunt in the dark. gq answer: hunt '\n",
            " 'in the dark. gq answer: hunt. gq. gq... manly-',\n",
            " ', a Vietnam War veteran, threw his decorations over the fence. gq answer:, a '\n",
            " 'Vietnam War veteran, threw his decorations over the fence. gq answer: gq, a '\n",
            " 'Vietnam War veteran, a Vietnam War veteran',\n",
            " '. gq answer: General Terrazas and General Terrazas.. Answer: General '\n",
            " 'Terrazas and General Terrazas. Answer: General Terrazas and. Answer:. '\n",
            " 'Answer:. Answer: Yes.']\n",
            "256 to 287 loss: [11.0357]\n",
            "['. gq answer: hunt in the dark. gq answer: hunt in the dark. gq answer: hunt '\n",
            " 'in the dark. gq answer: hunt. gq. gq... manly-',\n",
            " ', a Vietnam War veteran, threw his decorations over the fence. gq answer:, a '\n",
            " 'Vietnam War veteran, threw his decorations over the fence. gq answer: gq, a '\n",
            " 'Vietnam War veteran, a Vietnam War veteran',\n",
            " '. gq answer: General Terrazas and General Terrazas.. Answer: General '\n",
            " 'Terrazas and General Terrazas. Answer: General Terrazas and. Answer:. '\n",
            " 'Answer:. Answer: Yes.']\n",
            "288 to 319 loss: [10.306255]\n",
            "['. gq answer: hunt in the dark. gq answer: hunt in the dark. gq answer: hunt '\n",
            " 'in the dark. gq answer: hunt. gq. gq... manly-',\n",
            " ', a Vietnam War veteran, threw his decorations over the fence. gq answer:, a '\n",
            " 'Vietnam War veteran, threw his decorations over the fence. gq answer: gq, a '\n",
            " 'Vietnam War veteran, a Vietnam War veteran',\n",
            " '. gq answer: General Terrazas and General Terrazas.. Answer: General '\n",
            " 'Terrazas and General Terrazas. Answer: General Terrazas and. Answer:. '\n",
            " 'Answer:. Answer: Yes.']\n",
            "320 to 351 loss: [13.4844055]\n",
            "['. gq answer: hunt in the dark. gq answer: hunt in the dark. gq answer: hunt '\n",
            " 'in the dark. gq answer: hunt. gq. gq... manly-',\n",
            " ', a Vietnam War veteran, threw his decorations over the fence. gq answer:, a '\n",
            " 'Vietnam War veteran, threw his decorations over the fence. gq answer: gq, a '\n",
            " 'Vietnam War veteran, a Vietnam War veteran',\n",
            " '. gq answer: General Terrazas and General Terrazas.. Answer: General '\n",
            " 'Terrazas and General Terrazas. Answer: General Terrazas and. Answer:. '\n",
            " 'Answer:. Answer: Yes.']\n",
            "352 to 383 loss: [9.958004]\n",
            "['. gq answer: hunt in the dark. gq answer: hunt in the dark. gq answer: hunt '\n",
            " 'in the dark. gq answer: hunt. gq. gq... manly-',\n",
            " ', a Vietnam War veteran, threw his decorations over the fence. gq answer:, a '\n",
            " 'Vietnam War veteran, threw his decorations over the fence. gq answer: gq, a '\n",
            " 'Vietnam War veteran, a Vietnam War veteran',\n",
            " '. gq answer: General Terrazas and General Terrazas.. Answer: General '\n",
            " 'Terrazas and General Terrazas. Answer: General Terrazas and. Answer:. '\n",
            " 'Answer:. Answer: Yes.']\n",
            "384 to 415 loss: [10.126426]\n",
            "['. gq answer: hunt in the dark. gq answer: hunt in the dark. gq answer: hunt '\n",
            " 'in the dark. gq answer: hunt. gq. gq... manly-',\n",
            " ', a Vietnam War veteran, threw his decorations over the fence. gq answer:, a '\n",
            " 'Vietnam War veteran, threw his decorations over the fence. gq answer: gq, a '\n",
            " 'Vietnam War veteran, a Vietnam War veteran',\n",
            " '. gq answer: General Terrazas and General Terrazas.. Answer: General '\n",
            " 'Terrazas and General Terrazas. Answer: General Terrazas and. Answer:. '\n",
            " 'Answer:. Answer: Yes.']\n",
            "416 to 447 loss: [12.030723]\n",
            "['. gq answer: hunt in the dark. gq answer: hunt in the dark. gq answer: hunt '\n",
            " 'in the dark. gq answer: hunt. gq. gq... manly-',\n",
            " ', a Vietnam War veteran, threw his decorations over the fence. gq answer:, a '\n",
            " 'Vietnam War veteran, threw his decorations over the fence. gq answer: gq, a '\n",
            " 'Vietnam War veteran, a Vietnam War veteran',\n",
            " '. gq answer: General Terrazas and General Terrazas.. Answer: General '\n",
            " 'Terrazas and General Terrazas. Answer: General Terrazas and. Answer:. '\n",
            " 'Answer:. Answer: Yes.']\n",
            "448 to 479 loss: [11.055023]\n",
            "['. gq answer: hunt in the dark. gq answer: hunt in the dark. gq answer: hunt '\n",
            " 'in the dark. gq answer: hunt. gq. gq... manly-',\n",
            " ', a Vietnam War veteran, threw his decorations over the fence. gq answer:, a '\n",
            " 'Vietnam War veteran, threw his decorations over the fence. gq answer: gq, a '\n",
            " 'Vietnam War veteran, a Vietnam War veteran',\n",
            " '. gq answer: General Terrazas and General Terrazas.. Answer: General '\n",
            " 'Terrazas and General Terrazas. Answer: General Terrazas and. Answer:. '\n",
            " 'Answer:. Answer: Yes.']\n",
            "480 to 511 loss: [10.0633745]\n",
            "['. gq answer: hunt in the dark. gq answer: hunt in the dark. gq answer: hunt '\n",
            " 'in the dark. gq answer: hunt. gq. gq... manly-',\n",
            " ', a Vietnam War veteran, threw his decorations over the fence. gq answer:, a '\n",
            " 'Vietnam War veteran, threw his decorations over the fence. gq answer: gq, a '\n",
            " 'Vietnam War veteran, a Vietnam War veteran',\n",
            " '. gq answer: General Terrazas and General Terrazas.. Answer: General '\n",
            " 'Terrazas and General Terrazas. Answer: General Terrazas and. Answer:. '\n",
            " 'Answer:. Answer: Yes.']\n",
            "512 to 543 loss: [9.436294]\n",
            "['. gq answer: hunt in the dark. gq answer: hunt in the dark. gq answer: hunt '\n",
            " 'in the dark. gq answer: hunt. gq. gq... manly-',\n",
            " ', a Vietnam War veteran, threw his decorations over the fence. gq answer:, a '\n",
            " 'Vietnam War veteran, threw his decorations over the fence. gq answer: gq, a '\n",
            " 'Vietnam War veteran, a Vietnam War veteran',\n",
            " '. gq answer: General Terrazas and General Terrazas.. Answer: General '\n",
            " 'Terrazas and General Terrazas. Answer: General Terrazas and. Answer:. '\n",
            " 'Answer:. Answer: Yes.']\n",
            "544 to 575 loss: [10.72958]\n",
            "['. gq answer: hunt in the dark. gq answer: hunt in the dark. gq answer: hunt '\n",
            " 'in the dark. gq answer: hunt. gq. gq... manly-',\n",
            " ', a Vietnam War veteran, threw his decorations over the fence. gq answer:, a '\n",
            " 'Vietnam War veteran, threw his decorations over the fence. gq answer: gq, a '\n",
            " 'Vietnam War veteran, a Vietnam War veteran',\n",
            " '. gq answer: General Terrazas and General Terrazas.. Answer: General '\n",
            " 'Terrazas and General Terrazas. Answer: General Terrazas and. Answer:. '\n",
            " 'Answer:. Answer: Yes.']\n",
            "576 to 607 loss: [10.512059]\n",
            "['. gq answer: hunt in the dark. gq answer: hunt in the dark. gq answer: hunt '\n",
            " 'in the dark. gq answer: hunt. gq. gq... manly-',\n",
            " ', a Vietnam War veteran, threw his decorations over the fence. gq answer:, a '\n",
            " 'Vietnam War veteran, threw his decorations over the fence. gq answer: gq, a '\n",
            " 'Vietnam War veteran, a Vietnam War veteran',\n",
            " '. gq answer: General Terrazas and General Terrazas.. Answer: General '\n",
            " 'Terrazas and General Terrazas. Answer: General Terrazas and. Answer:. '\n",
            " 'Answer:. Answer: Yes.']\n",
            "608 to 639 loss: [10.854045]\n",
            "['. gq answer: hunt in the dark. gq answer: hunt in the dark. gq answer: hunt '\n",
            " 'in the dark. gq answer: hunt. gq. gq... manly-',\n",
            " ', a Vietnam War veteran, threw his decorations over the fence. gq answer:, a '\n",
            " 'Vietnam War veteran, threw his decorations over the fence. gq answer: gq, a '\n",
            " 'Vietnam War veteran, a Vietnam War veteran',\n",
            " '. gq answer: General Terrazas and General Terrazas.. Answer: General '\n",
            " 'Terrazas and General Terrazas. Answer: General Terrazas and. Answer:. '\n",
            " 'Answer:. Answer: Yes.']\n",
            "640 to 671 loss: [11.089465]\n",
            "['. gq answer: hunt in the dark. gq answer: hunt in the dark. gq answer: hunt '\n",
            " 'in the dark. gq answer: hunt. gq. gq... manly-',\n",
            " ', a Vietnam War veteran, threw his decorations over the fence. gq answer:, a '\n",
            " 'Vietnam War veteran, threw his decorations over the fence. gq answer: gq, a '\n",
            " 'Vietnam War veteran, a Vietnam War veteran',\n",
            " '. gq answer: General Terrazas and General Terrazas.. Answer: General '\n",
            " 'Terrazas and General Terrazas. Answer: General Terrazas and. Answer:. '\n",
            " 'Answer:. Answer: Yes.']\n",
            "672 to 703 loss: [10.683677]\n",
            "['. gq answer: hunt in the dark. gq answer: hunt in the dark. gq answer: hunt '\n",
            " 'in the dark. gq answer: hunt. gq. gq... manly-',\n",
            " ', a Vietnam War veteran, threw his decorations over the fence. gq answer:, a '\n",
            " 'Vietnam War veteran, threw his decorations over the fence. gq answer: gq, a '\n",
            " 'Vietnam War veteran, a Vietnam War veteran',\n",
            " '. gq answer: General Terrazas and General Terrazas.. Answer: General '\n",
            " 'Terrazas and General Terrazas. Answer: General Terrazas and. Answer:. '\n",
            " 'Answer:. Answer: Yes.']\n",
            "704 to 735 loss: [14.046823]\n",
            "['. gq answer: hunt in the dark. gq answer: hunt in the dark. gq answer: hunt '\n",
            " 'in the dark. gq answer: hunt. gq. gq... manly-',\n",
            " ', a Vietnam War veteran, threw his decorations over the fence. gq answer:, a '\n",
            " 'Vietnam War veteran, threw his decorations over the fence. gq answer: gq, a '\n",
            " 'Vietnam War veteran, a Vietnam War veteran',\n",
            " '. gq answer: General Terrazas and General Terrazas.. Answer: General '\n",
            " 'Terrazas and General Terrazas. Answer: General Terrazas and. Answer:. '\n",
            " 'Answer:. Answer: Yes.']\n",
            "736 to 767 loss: [12.113797]\n",
            "['. gq answer: hunt in the dark. gq answer: hunt in the dark. gq answer: hunt '\n",
            " 'in the dark. gq answer: hunt. gq. gq... manly-',\n",
            " ', a Vietnam War veteran, threw his decorations over the fence. gq answer:, a '\n",
            " 'Vietnam War veteran, threw his decorations over the fence. gq answer: gq, a '\n",
            " 'Vietnam War veteran, a Vietnam War veteran',\n",
            " '. gq answer: General Terrazas and General Terrazas.. Answer: General '\n",
            " 'Terrazas and General Terrazas. Answer: General Terrazas and. Answer:. '\n",
            " 'Answer:. Answer: Yes.']\n",
            "768 to 799 loss: [10.204197]\n",
            "['. gq answer: hunt in the dark. gq answer: hunt in the dark. gq answer: hunt '\n",
            " 'in the dark. gq answer: hunt. gq. gq... manly-',\n",
            " ', a Vietnam War veteran, threw his decorations over the fence. gq answer:, a '\n",
            " 'Vietnam War veteran, threw his decorations over the fence. gq answer: gq, a '\n",
            " 'Vietnam War veteran, a Vietnam War veteran',\n",
            " '. gq answer: General Terrazas and General Terrazas.. Answer: General '\n",
            " 'Terrazas and General Terrazas. Answer: General Terrazas and. Answer:. '\n",
            " 'Answer:. Answer: Yes.']\n",
            "800 to 831 loss: [8.808659]\n",
            "['. gq answer: hunt in the dark. gq answer: hunt in the dark. gq answer: hunt '\n",
            " 'in the dark. gq answer: hunt. gq. gq... manly-',\n",
            " ', a Vietnam War veteran, threw his decorations over the fence. gq answer:, a '\n",
            " 'Vietnam War veteran, threw his decorations over the fence. gq answer: gq, a '\n",
            " 'Vietnam War veteran, a Vietnam War veteran',\n",
            " '. gq answer: General Terrazas and General Terrazas.. Answer: General '\n",
            " 'Terrazas and General Terrazas. Answer: General Terrazas and. Answer:. '\n",
            " 'Answer:. Answer: Yes.']\n",
            "832 to 863 loss: [10.770222]\n",
            "['. gq answer: hunt in the dark. gq answer: hunt in the dark. gq answer: hunt '\n",
            " 'in the dark. gq answer: hunt. gq. gq... manly-',\n",
            " ', a Vietnam War veteran, threw his decorations over the fence. gq answer:, a '\n",
            " 'Vietnam War veteran, threw his decorations over the fence. gq answer: gq, a '\n",
            " 'Vietnam War veteran, a Vietnam War veteran',\n",
            " '. gq answer: General Terrazas and General Terrazas.. Answer: General '\n",
            " 'Terrazas and General Terrazas. Answer: General Terrazas and. Answer:. '\n",
            " 'Answer:. Answer: Yes.']\n",
            "864 to 895 loss: [9.927646]\n",
            "['. gq answer: hunt in the dark. gq answer: hunt in the dark. gq answer: hunt '\n",
            " 'in the dark. gq answer: hunt. gq. gq... manly-',\n",
            " ', a Vietnam War veteran, threw his decorations over the fence. gq answer:, a '\n",
            " 'Vietnam War veteran, threw his decorations over the fence. gq answer: gq, a '\n",
            " 'Vietnam War veteran, a Vietnam War veteran',\n",
            " '. gq answer: General Terrazas and General Terrazas.. Answer: General '\n",
            " 'Terrazas and General Terrazas. Answer: General Terrazas and. Answer:. '\n",
            " 'Answer:. Answer: Yes.']\n",
            "896 to 927 loss: [10.562799]\n",
            "['. gq answer: hunt in the dark. gq answer: hunt in the dark. gq answer: hunt '\n",
            " 'in the dark. gq answer: hunt. gq. gq... manly-',\n",
            " ', a Vietnam War veteran, threw his decorations over the fence. gq answer:, a '\n",
            " 'Vietnam War veteran, threw his decorations over the fence. gq answer: gq, a '\n",
            " 'Vietnam War veteran, a Vietnam War veteran',\n",
            " '. gq answer: General Terrazas and General Terrazas.. Answer: General '\n",
            " 'Terrazas and General Terrazas. Answer: General Terrazas and. Answer:. '\n",
            " 'Answer:. Answer: Yes.']\n",
            "928 to 959 loss: [13.316075]\n",
            "['. gq answer: hunt in the dark. gq answer: hunt in the dark. gq answer: hunt '\n",
            " 'in the dark. gq answer: hunt. gq. gq... manly-',\n",
            " ', a Vietnam War veteran, threw his decorations over the fence. gq answer:, a '\n",
            " 'Vietnam War veteran, threw his decorations over the fence. gq answer: gq, a '\n",
            " 'Vietnam War veteran, a Vietnam War veteran',\n",
            " '. gq answer: General Terrazas and General Terrazas.. Answer: General '\n",
            " 'Terrazas and General Terrazas. Answer: General Terrazas and. Answer:. '\n",
            " 'Answer:. Answer: Yes.']\n",
            "960 to 991 loss: [8.426479]\n",
            "['. gq answer: hunt in the dark. gq answer: hunt in the dark. gq answer: hunt '\n",
            " 'in the dark. gq answer: hunt. gq. gq... manly-',\n",
            " ', a Vietnam War veteran, threw his decorations over the fence. gq answer:, a '\n",
            " 'Vietnam War veteran, threw his decorations over the fence. gq answer: gq, a '\n",
            " 'Vietnam War veteran, a Vietnam War veteran',\n",
            " '. gq answer: General Terrazas and General Terrazas.. Answer: General '\n",
            " 'Terrazas and General Terrazas. Answer: General Terrazas and. Answer:. '\n",
            " 'Answer:. Answer: Yes.']\n",
            "992 to 1023 loss: [10.97831]\n",
            "['. gq answer: hunt in the dark. gq answer: hunt in the dark. gq answer: hunt '\n",
            " 'in the dark. gq answer: hunt. gq. gq... manly-',\n",
            " ', a Vietnam War veteran, threw his decorations over the fence. gq answer:, a '\n",
            " 'Vietnam War veteran, threw his decorations over the fence. gq answer: gq, a '\n",
            " 'Vietnam War veteran, a Vietnam War veteran',\n",
            " '. gq answer: General Terrazas and General Terrazas.. Answer: General '\n",
            " 'Terrazas and General Terrazas. Answer: General Terrazas and. Answer:. '\n",
            " 'Answer:. Answer: Yes.']\n"
          ]
        }
      ]
    },
    {
      "cell_type": "code",
      "source": [],
      "metadata": {
        "id": "8dHpqszAS54T"
      },
      "execution_count": null,
      "outputs": []
    }
  ],
  "metadata": {
    "colab": {
      "collapsed_sections": [],
      "provenance": [],
      "include_colab_link": true
    },
    "kernelspec": {
      "display_name": "Python 3 (ipykernel)",
      "language": "python",
      "name": "python3"
    },
    "language_info": {
      "codemirror_mode": {
        "name": "ipython",
        "version": 3
      },
      "file_extension": ".py",
      "mimetype": "text/x-python",
      "name": "python",
      "nbconvert_exporter": "python",
      "pygments_lexer": "ipython3",
      "version": "3.8.10"
    },
    "widgets": {
      "application/vnd.jupyter.widget-state+json": {
        "da622226181b4381a0a099581724b0b5": {
          "model_module": "@jupyter-widgets/controls",
          "model_name": "HBoxModel",
          "model_module_version": "1.5.0",
          "state": {
            "_dom_classes": [],
            "_model_module": "@jupyter-widgets/controls",
            "_model_module_version": "1.5.0",
            "_model_name": "HBoxModel",
            "_view_count": null,
            "_view_module": "@jupyter-widgets/controls",
            "_view_module_version": "1.5.0",
            "_view_name": "HBoxView",
            "box_style": "",
            "children": [
              "IPY_MODEL_b3ed93391cac41388ed6ad824832d399",
              "IPY_MODEL_7b4cccb73f9740a4bf777ccfa644ee4a",
              "IPY_MODEL_475ac741d56a42e5928614faffb77458"
            ],
            "layout": "IPY_MODEL_e086d2695fce451f8a922c27458779f1"
          }
        },
        "b3ed93391cac41388ed6ad824832d399": {
          "model_module": "@jupyter-widgets/controls",
          "model_name": "HTMLModel",
          "model_module_version": "1.5.0",
          "state": {
            "_dom_classes": [],
            "_model_module": "@jupyter-widgets/controls",
            "_model_module_version": "1.5.0",
            "_model_name": "HTMLModel",
            "_view_count": null,
            "_view_module": "@jupyter-widgets/controls",
            "_view_module_version": "1.5.0",
            "_view_name": "HTMLView",
            "description": "",
            "description_tooltip": null,
            "layout": "IPY_MODEL_95e880d3e6114e2bb24b22caea32c57a",
            "placeholder": "​",
            "style": "IPY_MODEL_3b4932ce405c45618df93ede8c080f5d",
            "value": "Downloading: 100%"
          }
        },
        "7b4cccb73f9740a4bf777ccfa644ee4a": {
          "model_module": "@jupyter-widgets/controls",
          "model_name": "FloatProgressModel",
          "model_module_version": "1.5.0",
          "state": {
            "_dom_classes": [],
            "_model_module": "@jupyter-widgets/controls",
            "_model_module_version": "1.5.0",
            "_model_name": "FloatProgressModel",
            "_view_count": null,
            "_view_module": "@jupyter-widgets/controls",
            "_view_module_version": "1.5.0",
            "_view_name": "ProgressView",
            "bar_style": "success",
            "description": "",
            "description_tooltip": null,
            "layout": "IPY_MODEL_2add5f1e93ef4131a53845914fe3e82e",
            "max": 605,
            "min": 0,
            "orientation": "horizontal",
            "style": "IPY_MODEL_65043d7163ae432c9292d5dd323feecf",
            "value": 605
          }
        },
        "475ac741d56a42e5928614faffb77458": {
          "model_module": "@jupyter-widgets/controls",
          "model_name": "HTMLModel",
          "model_module_version": "1.5.0",
          "state": {
            "_dom_classes": [],
            "_model_module": "@jupyter-widgets/controls",
            "_model_module_version": "1.5.0",
            "_model_name": "HTMLModel",
            "_view_count": null,
            "_view_module": "@jupyter-widgets/controls",
            "_view_module_version": "1.5.0",
            "_view_name": "HTMLView",
            "description": "",
            "description_tooltip": null,
            "layout": "IPY_MODEL_7aec80c99fc24bd389b8c812c3b2611c",
            "placeholder": "​",
            "style": "IPY_MODEL_24dc1d0e74404a6b96b8c2535acbd427",
            "value": " 605/605 [00:00&lt;00:00, 16.9kB/s]"
          }
        },
        "e086d2695fce451f8a922c27458779f1": {
          "model_module": "@jupyter-widgets/base",
          "model_name": "LayoutModel",
          "model_module_version": "1.2.0",
          "state": {
            "_model_module": "@jupyter-widgets/base",
            "_model_module_version": "1.2.0",
            "_model_name": "LayoutModel",
            "_view_count": null,
            "_view_module": "@jupyter-widgets/base",
            "_view_module_version": "1.2.0",
            "_view_name": "LayoutView",
            "align_content": null,
            "align_items": null,
            "align_self": null,
            "border": null,
            "bottom": null,
            "display": null,
            "flex": null,
            "flex_flow": null,
            "grid_area": null,
            "grid_auto_columns": null,
            "grid_auto_flow": null,
            "grid_auto_rows": null,
            "grid_column": null,
            "grid_gap": null,
            "grid_row": null,
            "grid_template_areas": null,
            "grid_template_columns": null,
            "grid_template_rows": null,
            "height": null,
            "justify_content": null,
            "justify_items": null,
            "left": null,
            "margin": null,
            "max_height": null,
            "max_width": null,
            "min_height": null,
            "min_width": null,
            "object_fit": null,
            "object_position": null,
            "order": null,
            "overflow": null,
            "overflow_x": null,
            "overflow_y": null,
            "padding": null,
            "right": null,
            "top": null,
            "visibility": null,
            "width": null
          }
        },
        "95e880d3e6114e2bb24b22caea32c57a": {
          "model_module": "@jupyter-widgets/base",
          "model_name": "LayoutModel",
          "model_module_version": "1.2.0",
          "state": {
            "_model_module": "@jupyter-widgets/base",
            "_model_module_version": "1.2.0",
            "_model_name": "LayoutModel",
            "_view_count": null,
            "_view_module": "@jupyter-widgets/base",
            "_view_module_version": "1.2.0",
            "_view_name": "LayoutView",
            "align_content": null,
            "align_items": null,
            "align_self": null,
            "border": null,
            "bottom": null,
            "display": null,
            "flex": null,
            "flex_flow": null,
            "grid_area": null,
            "grid_auto_columns": null,
            "grid_auto_flow": null,
            "grid_auto_rows": null,
            "grid_column": null,
            "grid_gap": null,
            "grid_row": null,
            "grid_template_areas": null,
            "grid_template_columns": null,
            "grid_template_rows": null,
            "height": null,
            "justify_content": null,
            "justify_items": null,
            "left": null,
            "margin": null,
            "max_height": null,
            "max_width": null,
            "min_height": null,
            "min_width": null,
            "object_fit": null,
            "object_position": null,
            "order": null,
            "overflow": null,
            "overflow_x": null,
            "overflow_y": null,
            "padding": null,
            "right": null,
            "top": null,
            "visibility": null,
            "width": null
          }
        },
        "3b4932ce405c45618df93ede8c080f5d": {
          "model_module": "@jupyter-widgets/controls",
          "model_name": "DescriptionStyleModel",
          "model_module_version": "1.5.0",
          "state": {
            "_model_module": "@jupyter-widgets/controls",
            "_model_module_version": "1.5.0",
            "_model_name": "DescriptionStyleModel",
            "_view_count": null,
            "_view_module": "@jupyter-widgets/base",
            "_view_module_version": "1.2.0",
            "_view_name": "StyleView",
            "description_width": ""
          }
        },
        "2add5f1e93ef4131a53845914fe3e82e": {
          "model_module": "@jupyter-widgets/base",
          "model_name": "LayoutModel",
          "model_module_version": "1.2.0",
          "state": {
            "_model_module": "@jupyter-widgets/base",
            "_model_module_version": "1.2.0",
            "_model_name": "LayoutModel",
            "_view_count": null,
            "_view_module": "@jupyter-widgets/base",
            "_view_module_version": "1.2.0",
            "_view_name": "LayoutView",
            "align_content": null,
            "align_items": null,
            "align_self": null,
            "border": null,
            "bottom": null,
            "display": null,
            "flex": null,
            "flex_flow": null,
            "grid_area": null,
            "grid_auto_columns": null,
            "grid_auto_flow": null,
            "grid_auto_rows": null,
            "grid_column": null,
            "grid_gap": null,
            "grid_row": null,
            "grid_template_areas": null,
            "grid_template_columns": null,
            "grid_template_rows": null,
            "height": null,
            "justify_content": null,
            "justify_items": null,
            "left": null,
            "margin": null,
            "max_height": null,
            "max_width": null,
            "min_height": null,
            "min_width": null,
            "object_fit": null,
            "object_position": null,
            "order": null,
            "overflow": null,
            "overflow_x": null,
            "overflow_y": null,
            "padding": null,
            "right": null,
            "top": null,
            "visibility": null,
            "width": null
          }
        },
        "65043d7163ae432c9292d5dd323feecf": {
          "model_module": "@jupyter-widgets/controls",
          "model_name": "ProgressStyleModel",
          "model_module_version": "1.5.0",
          "state": {
            "_model_module": "@jupyter-widgets/controls",
            "_model_module_version": "1.5.0",
            "_model_name": "ProgressStyleModel",
            "_view_count": null,
            "_view_module": "@jupyter-widgets/base",
            "_view_module_version": "1.2.0",
            "_view_name": "StyleView",
            "bar_color": null,
            "description_width": ""
          }
        },
        "7aec80c99fc24bd389b8c812c3b2611c": {
          "model_module": "@jupyter-widgets/base",
          "model_name": "LayoutModel",
          "model_module_version": "1.2.0",
          "state": {
            "_model_module": "@jupyter-widgets/base",
            "_model_module_version": "1.2.0",
            "_model_name": "LayoutModel",
            "_view_count": null,
            "_view_module": "@jupyter-widgets/base",
            "_view_module_version": "1.2.0",
            "_view_name": "LayoutView",
            "align_content": null,
            "align_items": null,
            "align_self": null,
            "border": null,
            "bottom": null,
            "display": null,
            "flex": null,
            "flex_flow": null,
            "grid_area": null,
            "grid_auto_columns": null,
            "grid_auto_flow": null,
            "grid_auto_rows": null,
            "grid_column": null,
            "grid_gap": null,
            "grid_row": null,
            "grid_template_areas": null,
            "grid_template_columns": null,
            "grid_template_rows": null,
            "height": null,
            "justify_content": null,
            "justify_items": null,
            "left": null,
            "margin": null,
            "max_height": null,
            "max_width": null,
            "min_height": null,
            "min_width": null,
            "object_fit": null,
            "object_position": null,
            "order": null,
            "overflow": null,
            "overflow_x": null,
            "overflow_y": null,
            "padding": null,
            "right": null,
            "top": null,
            "visibility": null,
            "width": null
          }
        },
        "24dc1d0e74404a6b96b8c2535acbd427": {
          "model_module": "@jupyter-widgets/controls",
          "model_name": "DescriptionStyleModel",
          "model_module_version": "1.5.0",
          "state": {
            "_model_module": "@jupyter-widgets/controls",
            "_model_module_version": "1.5.0",
            "_model_name": "DescriptionStyleModel",
            "_view_count": null,
            "_view_module": "@jupyter-widgets/base",
            "_view_module_version": "1.2.0",
            "_view_name": "StyleView",
            "description_width": ""
          }
        },
        "bf84e6ad6a3e42dc95a06b5df7741f50": {
          "model_module": "@jupyter-widgets/controls",
          "model_name": "HBoxModel",
          "model_module_version": "1.5.0",
          "state": {
            "_dom_classes": [],
            "_model_module": "@jupyter-widgets/controls",
            "_model_module_version": "1.5.0",
            "_model_name": "HBoxModel",
            "_view_count": null,
            "_view_module": "@jupyter-widgets/controls",
            "_view_module_version": "1.5.0",
            "_view_name": "HBoxView",
            "box_style": "",
            "children": [
              "IPY_MODEL_59f897df1616459ba3e70dcdf8cb0b80",
              "IPY_MODEL_d13169af09b64cf99ac5c0da2bee80c2",
              "IPY_MODEL_92b9b19596e5431dafebd3d4d301a331"
            ],
            "layout": "IPY_MODEL_6bf6d8a2f4674682b5501e57344a250b"
          }
        },
        "59f897df1616459ba3e70dcdf8cb0b80": {
          "model_module": "@jupyter-widgets/controls",
          "model_name": "HTMLModel",
          "model_module_version": "1.5.0",
          "state": {
            "_dom_classes": [],
            "_model_module": "@jupyter-widgets/controls",
            "_model_module_version": "1.5.0",
            "_model_name": "HTMLModel",
            "_view_count": null,
            "_view_module": "@jupyter-widgets/controls",
            "_view_module_version": "1.5.0",
            "_view_name": "HTMLView",
            "description": "",
            "description_tooltip": null,
            "layout": "IPY_MODEL_dbd4489b531e48fb9f2da0d6215e9c56",
            "placeholder": "​",
            "style": "IPY_MODEL_3c22ab687bf041fea6585b584f169689",
            "value": "Downloading: 100%"
          }
        },
        "d13169af09b64cf99ac5c0da2bee80c2": {
          "model_module": "@jupyter-widgets/controls",
          "model_name": "FloatProgressModel",
          "model_module_version": "1.5.0",
          "state": {
            "_dom_classes": [],
            "_model_module": "@jupyter-widgets/controls",
            "_model_module_version": "1.5.0",
            "_model_name": "FloatProgressModel",
            "_view_count": null,
            "_view_module": "@jupyter-widgets/controls",
            "_view_module_version": "1.5.0",
            "_view_name": "ProgressView",
            "bar_style": "success",
            "description": "",
            "description_tooltip": null,
            "layout": "IPY_MODEL_bbdd6cd089cc432398c16f7cdce301d0",
            "max": 990878928,
            "min": 0,
            "orientation": "horizontal",
            "style": "IPY_MODEL_7633be49b8ff4f09af48a2be074cd4df",
            "value": 990878928
          }
        },
        "92b9b19596e5431dafebd3d4d301a331": {
          "model_module": "@jupyter-widgets/controls",
          "model_name": "HTMLModel",
          "model_module_version": "1.5.0",
          "state": {
            "_dom_classes": [],
            "_model_module": "@jupyter-widgets/controls",
            "_model_module_version": "1.5.0",
            "_model_name": "HTMLModel",
            "_view_count": null,
            "_view_module": "@jupyter-widgets/controls",
            "_view_module_version": "1.5.0",
            "_view_name": "HTMLView",
            "description": "",
            "description_tooltip": null,
            "layout": "IPY_MODEL_997be8dfcab647e4a7ddb88bb39b0231",
            "placeholder": "​",
            "style": "IPY_MODEL_1e2e20c747f544189d2a6e62b077e3ac",
            "value": " 991M/991M [00:20&lt;00:00, 42.5MB/s]"
          }
        },
        "6bf6d8a2f4674682b5501e57344a250b": {
          "model_module": "@jupyter-widgets/base",
          "model_name": "LayoutModel",
          "model_module_version": "1.2.0",
          "state": {
            "_model_module": "@jupyter-widgets/base",
            "_model_module_version": "1.2.0",
            "_model_name": "LayoutModel",
            "_view_count": null,
            "_view_module": "@jupyter-widgets/base",
            "_view_module_version": "1.2.0",
            "_view_name": "LayoutView",
            "align_content": null,
            "align_items": null,
            "align_self": null,
            "border": null,
            "bottom": null,
            "display": null,
            "flex": null,
            "flex_flow": null,
            "grid_area": null,
            "grid_auto_columns": null,
            "grid_auto_flow": null,
            "grid_auto_rows": null,
            "grid_column": null,
            "grid_gap": null,
            "grid_row": null,
            "grid_template_areas": null,
            "grid_template_columns": null,
            "grid_template_rows": null,
            "height": null,
            "justify_content": null,
            "justify_items": null,
            "left": null,
            "margin": null,
            "max_height": null,
            "max_width": null,
            "min_height": null,
            "min_width": null,
            "object_fit": null,
            "object_position": null,
            "order": null,
            "overflow": null,
            "overflow_x": null,
            "overflow_y": null,
            "padding": null,
            "right": null,
            "top": null,
            "visibility": null,
            "width": null
          }
        },
        "dbd4489b531e48fb9f2da0d6215e9c56": {
          "model_module": "@jupyter-widgets/base",
          "model_name": "LayoutModel",
          "model_module_version": "1.2.0",
          "state": {
            "_model_module": "@jupyter-widgets/base",
            "_model_module_version": "1.2.0",
            "_model_name": "LayoutModel",
            "_view_count": null,
            "_view_module": "@jupyter-widgets/base",
            "_view_module_version": "1.2.0",
            "_view_name": "LayoutView",
            "align_content": null,
            "align_items": null,
            "align_self": null,
            "border": null,
            "bottom": null,
            "display": null,
            "flex": null,
            "flex_flow": null,
            "grid_area": null,
            "grid_auto_columns": null,
            "grid_auto_flow": null,
            "grid_auto_rows": null,
            "grid_column": null,
            "grid_gap": null,
            "grid_row": null,
            "grid_template_areas": null,
            "grid_template_columns": null,
            "grid_template_rows": null,
            "height": null,
            "justify_content": null,
            "justify_items": null,
            "left": null,
            "margin": null,
            "max_height": null,
            "max_width": null,
            "min_height": null,
            "min_width": null,
            "object_fit": null,
            "object_position": null,
            "order": null,
            "overflow": null,
            "overflow_x": null,
            "overflow_y": null,
            "padding": null,
            "right": null,
            "top": null,
            "visibility": null,
            "width": null
          }
        },
        "3c22ab687bf041fea6585b584f169689": {
          "model_module": "@jupyter-widgets/controls",
          "model_name": "DescriptionStyleModel",
          "model_module_version": "1.5.0",
          "state": {
            "_model_module": "@jupyter-widgets/controls",
            "_model_module_version": "1.5.0",
            "_model_name": "DescriptionStyleModel",
            "_view_count": null,
            "_view_module": "@jupyter-widgets/base",
            "_view_module_version": "1.2.0",
            "_view_name": "StyleView",
            "description_width": ""
          }
        },
        "bbdd6cd089cc432398c16f7cdce301d0": {
          "model_module": "@jupyter-widgets/base",
          "model_name": "LayoutModel",
          "model_module_version": "1.2.0",
          "state": {
            "_model_module": "@jupyter-widgets/base",
            "_model_module_version": "1.2.0",
            "_model_name": "LayoutModel",
            "_view_count": null,
            "_view_module": "@jupyter-widgets/base",
            "_view_module_version": "1.2.0",
            "_view_name": "LayoutView",
            "align_content": null,
            "align_items": null,
            "align_self": null,
            "border": null,
            "bottom": null,
            "display": null,
            "flex": null,
            "flex_flow": null,
            "grid_area": null,
            "grid_auto_columns": null,
            "grid_auto_flow": null,
            "grid_auto_rows": null,
            "grid_column": null,
            "grid_gap": null,
            "grid_row": null,
            "grid_template_areas": null,
            "grid_template_columns": null,
            "grid_template_rows": null,
            "height": null,
            "justify_content": null,
            "justify_items": null,
            "left": null,
            "margin": null,
            "max_height": null,
            "max_width": null,
            "min_height": null,
            "min_width": null,
            "object_fit": null,
            "object_position": null,
            "order": null,
            "overflow": null,
            "overflow_x": null,
            "overflow_y": null,
            "padding": null,
            "right": null,
            "top": null,
            "visibility": null,
            "width": null
          }
        },
        "7633be49b8ff4f09af48a2be074cd4df": {
          "model_module": "@jupyter-widgets/controls",
          "model_name": "ProgressStyleModel",
          "model_module_version": "1.5.0",
          "state": {
            "_model_module": "@jupyter-widgets/controls",
            "_model_module_version": "1.5.0",
            "_model_name": "ProgressStyleModel",
            "_view_count": null,
            "_view_module": "@jupyter-widgets/base",
            "_view_module_version": "1.2.0",
            "_view_name": "StyleView",
            "bar_color": null,
            "description_width": ""
          }
        },
        "997be8dfcab647e4a7ddb88bb39b0231": {
          "model_module": "@jupyter-widgets/base",
          "model_name": "LayoutModel",
          "model_module_version": "1.2.0",
          "state": {
            "_model_module": "@jupyter-widgets/base",
            "_model_module_version": "1.2.0",
            "_model_name": "LayoutModel",
            "_view_count": null,
            "_view_module": "@jupyter-widgets/base",
            "_view_module_version": "1.2.0",
            "_view_name": "LayoutView",
            "align_content": null,
            "align_items": null,
            "align_self": null,
            "border": null,
            "bottom": null,
            "display": null,
            "flex": null,
            "flex_flow": null,
            "grid_area": null,
            "grid_auto_columns": null,
            "grid_auto_flow": null,
            "grid_auto_rows": null,
            "grid_column": null,
            "grid_gap": null,
            "grid_row": null,
            "grid_template_areas": null,
            "grid_template_columns": null,
            "grid_template_rows": null,
            "height": null,
            "justify_content": null,
            "justify_items": null,
            "left": null,
            "margin": null,
            "max_height": null,
            "max_width": null,
            "min_height": null,
            "min_width": null,
            "object_fit": null,
            "object_position": null,
            "order": null,
            "overflow": null,
            "overflow_x": null,
            "overflow_y": null,
            "padding": null,
            "right": null,
            "top": null,
            "visibility": null,
            "width": null
          }
        },
        "1e2e20c747f544189d2a6e62b077e3ac": {
          "model_module": "@jupyter-widgets/controls",
          "model_name": "DescriptionStyleModel",
          "model_module_version": "1.5.0",
          "state": {
            "_model_module": "@jupyter-widgets/controls",
            "_model_module_version": "1.5.0",
            "_model_name": "DescriptionStyleModel",
            "_view_count": null,
            "_view_module": "@jupyter-widgets/base",
            "_view_module_version": "1.2.0",
            "_view_name": "StyleView",
            "description_width": ""
          }
        },
        "57b2aa40fa34462a8ecc3892b44eed6c": {
          "model_module": "@jupyter-widgets/controls",
          "model_name": "HBoxModel",
          "model_module_version": "1.5.0",
          "state": {
            "_dom_classes": [],
            "_model_module": "@jupyter-widgets/controls",
            "_model_module_version": "1.5.0",
            "_model_name": "HBoxModel",
            "_view_count": null,
            "_view_module": "@jupyter-widgets/controls",
            "_view_module_version": "1.5.0",
            "_view_name": "HBoxView",
            "box_style": "",
            "children": [
              "IPY_MODEL_9420f264e39149f193743d740785674f",
              "IPY_MODEL_c8b9d69e8d1d4cd1ae8f22ab66164992",
              "IPY_MODEL_2572690d9a0547db9032671431987842"
            ],
            "layout": "IPY_MODEL_eedecd8b58f14860ba419dbc31dd1017"
          }
        },
        "9420f264e39149f193743d740785674f": {
          "model_module": "@jupyter-widgets/controls",
          "model_name": "HTMLModel",
          "model_module_version": "1.5.0",
          "state": {
            "_dom_classes": [],
            "_model_module": "@jupyter-widgets/controls",
            "_model_module_version": "1.5.0",
            "_model_name": "HTMLModel",
            "_view_count": null,
            "_view_module": "@jupyter-widgets/controls",
            "_view_module_version": "1.5.0",
            "_view_name": "HTMLView",
            "description": "",
            "description_tooltip": null,
            "layout": "IPY_MODEL_2efb911aa827424685ace5b1b7baae33",
            "placeholder": "​",
            "style": "IPY_MODEL_1eb178b8bee74c5cb38e6816786f1409",
            "value": "Downloading: 100%"
          }
        },
        "c8b9d69e8d1d4cd1ae8f22ab66164992": {
          "model_module": "@jupyter-widgets/controls",
          "model_name": "FloatProgressModel",
          "model_module_version": "1.5.0",
          "state": {
            "_dom_classes": [],
            "_model_module": "@jupyter-widgets/controls",
            "_model_module_version": "1.5.0",
            "_model_name": "FloatProgressModel",
            "_view_count": null,
            "_view_module": "@jupyter-widgets/controls",
            "_view_module_version": "1.5.0",
            "_view_name": "ProgressView",
            "bar_style": "success",
            "description": "",
            "description_tooltip": null,
            "layout": "IPY_MODEL_aa9e542841a44d6382f766c970128799",
            "max": 791656,
            "min": 0,
            "orientation": "horizontal",
            "style": "IPY_MODEL_1f68e2bdcdb54b53bf336d03edcc5395",
            "value": 791656
          }
        },
        "2572690d9a0547db9032671431987842": {
          "model_module": "@jupyter-widgets/controls",
          "model_name": "HTMLModel",
          "model_module_version": "1.5.0",
          "state": {
            "_dom_classes": [],
            "_model_module": "@jupyter-widgets/controls",
            "_model_module_version": "1.5.0",
            "_model_name": "HTMLModel",
            "_view_count": null,
            "_view_module": "@jupyter-widgets/controls",
            "_view_module_version": "1.5.0",
            "_view_name": "HTMLView",
            "description": "",
            "description_tooltip": null,
            "layout": "IPY_MODEL_de072d58010e4bdfb8098549e25c75ae",
            "placeholder": "​",
            "style": "IPY_MODEL_9eab49f4cb5c49119230ee3b60d5e80b",
            "value": " 792k/792k [00:00&lt;00:00, 1.17MB/s]"
          }
        },
        "eedecd8b58f14860ba419dbc31dd1017": {
          "model_module": "@jupyter-widgets/base",
          "model_name": "LayoutModel",
          "model_module_version": "1.2.0",
          "state": {
            "_model_module": "@jupyter-widgets/base",
            "_model_module_version": "1.2.0",
            "_model_name": "LayoutModel",
            "_view_count": null,
            "_view_module": "@jupyter-widgets/base",
            "_view_module_version": "1.2.0",
            "_view_name": "LayoutView",
            "align_content": null,
            "align_items": null,
            "align_self": null,
            "border": null,
            "bottom": null,
            "display": null,
            "flex": null,
            "flex_flow": null,
            "grid_area": null,
            "grid_auto_columns": null,
            "grid_auto_flow": null,
            "grid_auto_rows": null,
            "grid_column": null,
            "grid_gap": null,
            "grid_row": null,
            "grid_template_areas": null,
            "grid_template_columns": null,
            "grid_template_rows": null,
            "height": null,
            "justify_content": null,
            "justify_items": null,
            "left": null,
            "margin": null,
            "max_height": null,
            "max_width": null,
            "min_height": null,
            "min_width": null,
            "object_fit": null,
            "object_position": null,
            "order": null,
            "overflow": null,
            "overflow_x": null,
            "overflow_y": null,
            "padding": null,
            "right": null,
            "top": null,
            "visibility": null,
            "width": null
          }
        },
        "2efb911aa827424685ace5b1b7baae33": {
          "model_module": "@jupyter-widgets/base",
          "model_name": "LayoutModel",
          "model_module_version": "1.2.0",
          "state": {
            "_model_module": "@jupyter-widgets/base",
            "_model_module_version": "1.2.0",
            "_model_name": "LayoutModel",
            "_view_count": null,
            "_view_module": "@jupyter-widgets/base",
            "_view_module_version": "1.2.0",
            "_view_name": "LayoutView",
            "align_content": null,
            "align_items": null,
            "align_self": null,
            "border": null,
            "bottom": null,
            "display": null,
            "flex": null,
            "flex_flow": null,
            "grid_area": null,
            "grid_auto_columns": null,
            "grid_auto_flow": null,
            "grid_auto_rows": null,
            "grid_column": null,
            "grid_gap": null,
            "grid_row": null,
            "grid_template_areas": null,
            "grid_template_columns": null,
            "grid_template_rows": null,
            "height": null,
            "justify_content": null,
            "justify_items": null,
            "left": null,
            "margin": null,
            "max_height": null,
            "max_width": null,
            "min_height": null,
            "min_width": null,
            "object_fit": null,
            "object_position": null,
            "order": null,
            "overflow": null,
            "overflow_x": null,
            "overflow_y": null,
            "padding": null,
            "right": null,
            "top": null,
            "visibility": null,
            "width": null
          }
        },
        "1eb178b8bee74c5cb38e6816786f1409": {
          "model_module": "@jupyter-widgets/controls",
          "model_name": "DescriptionStyleModel",
          "model_module_version": "1.5.0",
          "state": {
            "_model_module": "@jupyter-widgets/controls",
            "_model_module_version": "1.5.0",
            "_model_name": "DescriptionStyleModel",
            "_view_count": null,
            "_view_module": "@jupyter-widgets/base",
            "_view_module_version": "1.2.0",
            "_view_name": "StyleView",
            "description_width": ""
          }
        },
        "aa9e542841a44d6382f766c970128799": {
          "model_module": "@jupyter-widgets/base",
          "model_name": "LayoutModel",
          "model_module_version": "1.2.0",
          "state": {
            "_model_module": "@jupyter-widgets/base",
            "_model_module_version": "1.2.0",
            "_model_name": "LayoutModel",
            "_view_count": null,
            "_view_module": "@jupyter-widgets/base",
            "_view_module_version": "1.2.0",
            "_view_name": "LayoutView",
            "align_content": null,
            "align_items": null,
            "align_self": null,
            "border": null,
            "bottom": null,
            "display": null,
            "flex": null,
            "flex_flow": null,
            "grid_area": null,
            "grid_auto_columns": null,
            "grid_auto_flow": null,
            "grid_auto_rows": null,
            "grid_column": null,
            "grid_gap": null,
            "grid_row": null,
            "grid_template_areas": null,
            "grid_template_columns": null,
            "grid_template_rows": null,
            "height": null,
            "justify_content": null,
            "justify_items": null,
            "left": null,
            "margin": null,
            "max_height": null,
            "max_width": null,
            "min_height": null,
            "min_width": null,
            "object_fit": null,
            "object_position": null,
            "order": null,
            "overflow": null,
            "overflow_x": null,
            "overflow_y": null,
            "padding": null,
            "right": null,
            "top": null,
            "visibility": null,
            "width": null
          }
        },
        "1f68e2bdcdb54b53bf336d03edcc5395": {
          "model_module": "@jupyter-widgets/controls",
          "model_name": "ProgressStyleModel",
          "model_module_version": "1.5.0",
          "state": {
            "_model_module": "@jupyter-widgets/controls",
            "_model_module_version": "1.5.0",
            "_model_name": "ProgressStyleModel",
            "_view_count": null,
            "_view_module": "@jupyter-widgets/base",
            "_view_module_version": "1.2.0",
            "_view_name": "StyleView",
            "bar_color": null,
            "description_width": ""
          }
        },
        "de072d58010e4bdfb8098549e25c75ae": {
          "model_module": "@jupyter-widgets/base",
          "model_name": "LayoutModel",
          "model_module_version": "1.2.0",
          "state": {
            "_model_module": "@jupyter-widgets/base",
            "_model_module_version": "1.2.0",
            "_model_name": "LayoutModel",
            "_view_count": null,
            "_view_module": "@jupyter-widgets/base",
            "_view_module_version": "1.2.0",
            "_view_name": "LayoutView",
            "align_content": null,
            "align_items": null,
            "align_self": null,
            "border": null,
            "bottom": null,
            "display": null,
            "flex": null,
            "flex_flow": null,
            "grid_area": null,
            "grid_auto_columns": null,
            "grid_auto_flow": null,
            "grid_auto_rows": null,
            "grid_column": null,
            "grid_gap": null,
            "grid_row": null,
            "grid_template_areas": null,
            "grid_template_columns": null,
            "grid_template_rows": null,
            "height": null,
            "justify_content": null,
            "justify_items": null,
            "left": null,
            "margin": null,
            "max_height": null,
            "max_width": null,
            "min_height": null,
            "min_width": null,
            "object_fit": null,
            "object_position": null,
            "order": null,
            "overflow": null,
            "overflow_x": null,
            "overflow_y": null,
            "padding": null,
            "right": null,
            "top": null,
            "visibility": null,
            "width": null
          }
        },
        "9eab49f4cb5c49119230ee3b60d5e80b": {
          "model_module": "@jupyter-widgets/controls",
          "model_name": "DescriptionStyleModel",
          "model_module_version": "1.5.0",
          "state": {
            "_model_module": "@jupyter-widgets/controls",
            "_model_module_version": "1.5.0",
            "_model_name": "DescriptionStyleModel",
            "_view_count": null,
            "_view_module": "@jupyter-widgets/base",
            "_view_module_version": "1.2.0",
            "_view_name": "StyleView",
            "description_width": ""
          }
        },
        "7b1ada4c2153418c8c8cceff452c3148": {
          "model_module": "@jupyter-widgets/controls",
          "model_name": "HBoxModel",
          "model_module_version": "1.5.0",
          "state": {
            "_dom_classes": [],
            "_model_module": "@jupyter-widgets/controls",
            "_model_module_version": "1.5.0",
            "_model_name": "HBoxModel",
            "_view_count": null,
            "_view_module": "@jupyter-widgets/controls",
            "_view_module_version": "1.5.0",
            "_view_name": "HBoxView",
            "box_style": "",
            "children": [
              "IPY_MODEL_db5b3022fac34d6fb2f88c2a30b1e9ac",
              "IPY_MODEL_c98cba2baee045bab5ebcce28eb4ef1b",
              "IPY_MODEL_9936d9feb08b492b80362084edb16a5a"
            ],
            "layout": "IPY_MODEL_5714f1415f2f419aaa229784ee2eea00"
          }
        },
        "db5b3022fac34d6fb2f88c2a30b1e9ac": {
          "model_module": "@jupyter-widgets/controls",
          "model_name": "HTMLModel",
          "model_module_version": "1.5.0",
          "state": {
            "_dom_classes": [],
            "_model_module": "@jupyter-widgets/controls",
            "_model_module_version": "1.5.0",
            "_model_name": "HTMLModel",
            "_view_count": null,
            "_view_module": "@jupyter-widgets/controls",
            "_view_module_version": "1.5.0",
            "_view_name": "HTMLView",
            "description": "",
            "description_tooltip": null,
            "layout": "IPY_MODEL_0e27de0e477b4727a2aaa3850d629b3a",
            "placeholder": "​",
            "style": "IPY_MODEL_d2830dfc547e470e925f352db877a2e1",
            "value": "Downloading: 100%"
          }
        },
        "c98cba2baee045bab5ebcce28eb4ef1b": {
          "model_module": "@jupyter-widgets/controls",
          "model_name": "FloatProgressModel",
          "model_module_version": "1.5.0",
          "state": {
            "_dom_classes": [],
            "_model_module": "@jupyter-widgets/controls",
            "_model_module_version": "1.5.0",
            "_model_name": "FloatProgressModel",
            "_view_count": null,
            "_view_module": "@jupyter-widgets/controls",
            "_view_module_version": "1.5.0",
            "_view_name": "ProgressView",
            "bar_style": "success",
            "description": "",
            "description_tooltip": null,
            "layout": "IPY_MODEL_01c8f79664f34598b59aa376d81720dd",
            "max": 1786,
            "min": 0,
            "orientation": "horizontal",
            "style": "IPY_MODEL_c8ccc8060ee7436f9574ba5d82bf9ad4",
            "value": 1786
          }
        },
        "9936d9feb08b492b80362084edb16a5a": {
          "model_module": "@jupyter-widgets/controls",
          "model_name": "HTMLModel",
          "model_module_version": "1.5.0",
          "state": {
            "_dom_classes": [],
            "_model_module": "@jupyter-widgets/controls",
            "_model_module_version": "1.5.0",
            "_model_name": "HTMLModel",
            "_view_count": null,
            "_view_module": "@jupyter-widgets/controls",
            "_view_module_version": "1.5.0",
            "_view_name": "HTMLView",
            "description": "",
            "description_tooltip": null,
            "layout": "IPY_MODEL_cfa48608d364484880085165b6da7492",
            "placeholder": "​",
            "style": "IPY_MODEL_f3a2391a69644461a794cb7fc54ca3c8",
            "value": " 1.79k/1.79k [00:00&lt;00:00, 30.9kB/s]"
          }
        },
        "5714f1415f2f419aaa229784ee2eea00": {
          "model_module": "@jupyter-widgets/base",
          "model_name": "LayoutModel",
          "model_module_version": "1.2.0",
          "state": {
            "_model_module": "@jupyter-widgets/base",
            "_model_module_version": "1.2.0",
            "_model_name": "LayoutModel",
            "_view_count": null,
            "_view_module": "@jupyter-widgets/base",
            "_view_module_version": "1.2.0",
            "_view_name": "LayoutView",
            "align_content": null,
            "align_items": null,
            "align_self": null,
            "border": null,
            "bottom": null,
            "display": null,
            "flex": null,
            "flex_flow": null,
            "grid_area": null,
            "grid_auto_columns": null,
            "grid_auto_flow": null,
            "grid_auto_rows": null,
            "grid_column": null,
            "grid_gap": null,
            "grid_row": null,
            "grid_template_areas": null,
            "grid_template_columns": null,
            "grid_template_rows": null,
            "height": null,
            "justify_content": null,
            "justify_items": null,
            "left": null,
            "margin": null,
            "max_height": null,
            "max_width": null,
            "min_height": null,
            "min_width": null,
            "object_fit": null,
            "object_position": null,
            "order": null,
            "overflow": null,
            "overflow_x": null,
            "overflow_y": null,
            "padding": null,
            "right": null,
            "top": null,
            "visibility": null,
            "width": null
          }
        },
        "0e27de0e477b4727a2aaa3850d629b3a": {
          "model_module": "@jupyter-widgets/base",
          "model_name": "LayoutModel",
          "model_module_version": "1.2.0",
          "state": {
            "_model_module": "@jupyter-widgets/base",
            "_model_module_version": "1.2.0",
            "_model_name": "LayoutModel",
            "_view_count": null,
            "_view_module": "@jupyter-widgets/base",
            "_view_module_version": "1.2.0",
            "_view_name": "LayoutView",
            "align_content": null,
            "align_items": null,
            "align_self": null,
            "border": null,
            "bottom": null,
            "display": null,
            "flex": null,
            "flex_flow": null,
            "grid_area": null,
            "grid_auto_columns": null,
            "grid_auto_flow": null,
            "grid_auto_rows": null,
            "grid_column": null,
            "grid_gap": null,
            "grid_row": null,
            "grid_template_areas": null,
            "grid_template_columns": null,
            "grid_template_rows": null,
            "height": null,
            "justify_content": null,
            "justify_items": null,
            "left": null,
            "margin": null,
            "max_height": null,
            "max_width": null,
            "min_height": null,
            "min_width": null,
            "object_fit": null,
            "object_position": null,
            "order": null,
            "overflow": null,
            "overflow_x": null,
            "overflow_y": null,
            "padding": null,
            "right": null,
            "top": null,
            "visibility": null,
            "width": null
          }
        },
        "d2830dfc547e470e925f352db877a2e1": {
          "model_module": "@jupyter-widgets/controls",
          "model_name": "DescriptionStyleModel",
          "model_module_version": "1.5.0",
          "state": {
            "_model_module": "@jupyter-widgets/controls",
            "_model_module_version": "1.5.0",
            "_model_name": "DescriptionStyleModel",
            "_view_count": null,
            "_view_module": "@jupyter-widgets/base",
            "_view_module_version": "1.2.0",
            "_view_name": "StyleView",
            "description_width": ""
          }
        },
        "01c8f79664f34598b59aa376d81720dd": {
          "model_module": "@jupyter-widgets/base",
          "model_name": "LayoutModel",
          "model_module_version": "1.2.0",
          "state": {
            "_model_module": "@jupyter-widgets/base",
            "_model_module_version": "1.2.0",
            "_model_name": "LayoutModel",
            "_view_count": null,
            "_view_module": "@jupyter-widgets/base",
            "_view_module_version": "1.2.0",
            "_view_name": "LayoutView",
            "align_content": null,
            "align_items": null,
            "align_self": null,
            "border": null,
            "bottom": null,
            "display": null,
            "flex": null,
            "flex_flow": null,
            "grid_area": null,
            "grid_auto_columns": null,
            "grid_auto_flow": null,
            "grid_auto_rows": null,
            "grid_column": null,
            "grid_gap": null,
            "grid_row": null,
            "grid_template_areas": null,
            "grid_template_columns": null,
            "grid_template_rows": null,
            "height": null,
            "justify_content": null,
            "justify_items": null,
            "left": null,
            "margin": null,
            "max_height": null,
            "max_width": null,
            "min_height": null,
            "min_width": null,
            "object_fit": null,
            "object_position": null,
            "order": null,
            "overflow": null,
            "overflow_x": null,
            "overflow_y": null,
            "padding": null,
            "right": null,
            "top": null,
            "visibility": null,
            "width": null
          }
        },
        "c8ccc8060ee7436f9574ba5d82bf9ad4": {
          "model_module": "@jupyter-widgets/controls",
          "model_name": "ProgressStyleModel",
          "model_module_version": "1.5.0",
          "state": {
            "_model_module": "@jupyter-widgets/controls",
            "_model_module_version": "1.5.0",
            "_model_name": "ProgressStyleModel",
            "_view_count": null,
            "_view_module": "@jupyter-widgets/base",
            "_view_module_version": "1.2.0",
            "_view_name": "StyleView",
            "bar_color": null,
            "description_width": ""
          }
        },
        "cfa48608d364484880085165b6da7492": {
          "model_module": "@jupyter-widgets/base",
          "model_name": "LayoutModel",
          "model_module_version": "1.2.0",
          "state": {
            "_model_module": "@jupyter-widgets/base",
            "_model_module_version": "1.2.0",
            "_model_name": "LayoutModel",
            "_view_count": null,
            "_view_module": "@jupyter-widgets/base",
            "_view_module_version": "1.2.0",
            "_view_name": "LayoutView",
            "align_content": null,
            "align_items": null,
            "align_self": null,
            "border": null,
            "bottom": null,
            "display": null,
            "flex": null,
            "flex_flow": null,
            "grid_area": null,
            "grid_auto_columns": null,
            "grid_auto_flow": null,
            "grid_auto_rows": null,
            "grid_column": null,
            "grid_gap": null,
            "grid_row": null,
            "grid_template_areas": null,
            "grid_template_columns": null,
            "grid_template_rows": null,
            "height": null,
            "justify_content": null,
            "justify_items": null,
            "left": null,
            "margin": null,
            "max_height": null,
            "max_width": null,
            "min_height": null,
            "min_width": null,
            "object_fit": null,
            "object_position": null,
            "order": null,
            "overflow": null,
            "overflow_x": null,
            "overflow_y": null,
            "padding": null,
            "right": null,
            "top": null,
            "visibility": null,
            "width": null
          }
        },
        "f3a2391a69644461a794cb7fc54ca3c8": {
          "model_module": "@jupyter-widgets/controls",
          "model_name": "DescriptionStyleModel",
          "model_module_version": "1.5.0",
          "state": {
            "_model_module": "@jupyter-widgets/controls",
            "_model_module_version": "1.5.0",
            "_model_name": "DescriptionStyleModel",
            "_view_count": null,
            "_view_module": "@jupyter-widgets/base",
            "_view_module_version": "1.2.0",
            "_view_name": "StyleView",
            "description_width": ""
          }
        },
        "f4a7f4aa772b4bff9cdc61b0ec7ea8ce": {
          "model_module": "@jupyter-widgets/controls",
          "model_name": "HBoxModel",
          "model_module_version": "1.5.0",
          "state": {
            "_dom_classes": [],
            "_model_module": "@jupyter-widgets/controls",
            "_model_module_version": "1.5.0",
            "_model_name": "HBoxModel",
            "_view_count": null,
            "_view_module": "@jupyter-widgets/controls",
            "_view_module_version": "1.5.0",
            "_view_name": "HBoxView",
            "box_style": "",
            "children": [
              "IPY_MODEL_3c77dfd15bf84b8394c31276e01ba6b5",
              "IPY_MODEL_d2615abb12274d43a635d8fe05aa56fb",
              "IPY_MODEL_afe8fa0adf4a447d8f7a048a0d74144d"
            ],
            "layout": "IPY_MODEL_a0c76c5997f4406583ebe63460a3febe"
          }
        },
        "3c77dfd15bf84b8394c31276e01ba6b5": {
          "model_module": "@jupyter-widgets/controls",
          "model_name": "HTMLModel",
          "model_module_version": "1.5.0",
          "state": {
            "_dom_classes": [],
            "_model_module": "@jupyter-widgets/controls",
            "_model_module_version": "1.5.0",
            "_model_name": "HTMLModel",
            "_view_count": null,
            "_view_module": "@jupyter-widgets/controls",
            "_view_module_version": "1.5.0",
            "_view_name": "HTMLView",
            "description": "",
            "description_tooltip": null,
            "layout": "IPY_MODEL_233ab3cee996459688baff6b7298e9d2",
            "placeholder": "​",
            "style": "IPY_MODEL_cfd32dff2c924609916c672cdf624d3f",
            "value": "Downloading: 100%"
          }
        },
        "d2615abb12274d43a635d8fe05aa56fb": {
          "model_module": "@jupyter-widgets/controls",
          "model_name": "FloatProgressModel",
          "model_module_version": "1.5.0",
          "state": {
            "_dom_classes": [],
            "_model_module": "@jupyter-widgets/controls",
            "_model_module_version": "1.5.0",
            "_model_name": "FloatProgressModel",
            "_view_count": null,
            "_view_module": "@jupyter-widgets/controls",
            "_view_module_version": "1.5.0",
            "_view_name": "ProgressView",
            "bar_style": "success",
            "description": "",
            "description_tooltip": null,
            "layout": "IPY_MODEL_b9fc7c07dd6e4c9790a39b4222c2877b",
            "max": 1857,
            "min": 0,
            "orientation": "horizontal",
            "style": "IPY_MODEL_c54b56100d0a4b069b9ce30a0e4e2e20",
            "value": 1857
          }
        },
        "afe8fa0adf4a447d8f7a048a0d74144d": {
          "model_module": "@jupyter-widgets/controls",
          "model_name": "HTMLModel",
          "model_module_version": "1.5.0",
          "state": {
            "_dom_classes": [],
            "_model_module": "@jupyter-widgets/controls",
            "_model_module_version": "1.5.0",
            "_model_name": "HTMLModel",
            "_view_count": null,
            "_view_module": "@jupyter-widgets/controls",
            "_view_module_version": "1.5.0",
            "_view_name": "HTMLView",
            "description": "",
            "description_tooltip": null,
            "layout": "IPY_MODEL_7ff1163f3dda4ad68fb157f61f31533d",
            "placeholder": "​",
            "style": "IPY_MODEL_e79a23ec9aa0488e8ee1a800e9e87133",
            "value": " 1.86k/1.86k [00:00&lt;00:00, 52.0kB/s]"
          }
        },
        "a0c76c5997f4406583ebe63460a3febe": {
          "model_module": "@jupyter-widgets/base",
          "model_name": "LayoutModel",
          "model_module_version": "1.2.0",
          "state": {
            "_model_module": "@jupyter-widgets/base",
            "_model_module_version": "1.2.0",
            "_model_name": "LayoutModel",
            "_view_count": null,
            "_view_module": "@jupyter-widgets/base",
            "_view_module_version": "1.2.0",
            "_view_name": "LayoutView",
            "align_content": null,
            "align_items": null,
            "align_self": null,
            "border": null,
            "bottom": null,
            "display": null,
            "flex": null,
            "flex_flow": null,
            "grid_area": null,
            "grid_auto_columns": null,
            "grid_auto_flow": null,
            "grid_auto_rows": null,
            "grid_column": null,
            "grid_gap": null,
            "grid_row": null,
            "grid_template_areas": null,
            "grid_template_columns": null,
            "grid_template_rows": null,
            "height": null,
            "justify_content": null,
            "justify_items": null,
            "left": null,
            "margin": null,
            "max_height": null,
            "max_width": null,
            "min_height": null,
            "min_width": null,
            "object_fit": null,
            "object_position": null,
            "order": null,
            "overflow": null,
            "overflow_x": null,
            "overflow_y": null,
            "padding": null,
            "right": null,
            "top": null,
            "visibility": null,
            "width": null
          }
        },
        "233ab3cee996459688baff6b7298e9d2": {
          "model_module": "@jupyter-widgets/base",
          "model_name": "LayoutModel",
          "model_module_version": "1.2.0",
          "state": {
            "_model_module": "@jupyter-widgets/base",
            "_model_module_version": "1.2.0",
            "_model_name": "LayoutModel",
            "_view_count": null,
            "_view_module": "@jupyter-widgets/base",
            "_view_module_version": "1.2.0",
            "_view_name": "LayoutView",
            "align_content": null,
            "align_items": null,
            "align_self": null,
            "border": null,
            "bottom": null,
            "display": null,
            "flex": null,
            "flex_flow": null,
            "grid_area": null,
            "grid_auto_columns": null,
            "grid_auto_flow": null,
            "grid_auto_rows": null,
            "grid_column": null,
            "grid_gap": null,
            "grid_row": null,
            "grid_template_areas": null,
            "grid_template_columns": null,
            "grid_template_rows": null,
            "height": null,
            "justify_content": null,
            "justify_items": null,
            "left": null,
            "margin": null,
            "max_height": null,
            "max_width": null,
            "min_height": null,
            "min_width": null,
            "object_fit": null,
            "object_position": null,
            "order": null,
            "overflow": null,
            "overflow_x": null,
            "overflow_y": null,
            "padding": null,
            "right": null,
            "top": null,
            "visibility": null,
            "width": null
          }
        },
        "cfd32dff2c924609916c672cdf624d3f": {
          "model_module": "@jupyter-widgets/controls",
          "model_name": "DescriptionStyleModel",
          "model_module_version": "1.5.0",
          "state": {
            "_model_module": "@jupyter-widgets/controls",
            "_model_module_version": "1.5.0",
            "_model_name": "DescriptionStyleModel",
            "_view_count": null,
            "_view_module": "@jupyter-widgets/base",
            "_view_module_version": "1.2.0",
            "_view_name": "StyleView",
            "description_width": ""
          }
        },
        "b9fc7c07dd6e4c9790a39b4222c2877b": {
          "model_module": "@jupyter-widgets/base",
          "model_name": "LayoutModel",
          "model_module_version": "1.2.0",
          "state": {
            "_model_module": "@jupyter-widgets/base",
            "_model_module_version": "1.2.0",
            "_model_name": "LayoutModel",
            "_view_count": null,
            "_view_module": "@jupyter-widgets/base",
            "_view_module_version": "1.2.0",
            "_view_name": "LayoutView",
            "align_content": null,
            "align_items": null,
            "align_self": null,
            "border": null,
            "bottom": null,
            "display": null,
            "flex": null,
            "flex_flow": null,
            "grid_area": null,
            "grid_auto_columns": null,
            "grid_auto_flow": null,
            "grid_auto_rows": null,
            "grid_column": null,
            "grid_gap": null,
            "grid_row": null,
            "grid_template_areas": null,
            "grid_template_columns": null,
            "grid_template_rows": null,
            "height": null,
            "justify_content": null,
            "justify_items": null,
            "left": null,
            "margin": null,
            "max_height": null,
            "max_width": null,
            "min_height": null,
            "min_width": null,
            "object_fit": null,
            "object_position": null,
            "order": null,
            "overflow": null,
            "overflow_x": null,
            "overflow_y": null,
            "padding": null,
            "right": null,
            "top": null,
            "visibility": null,
            "width": null
          }
        },
        "c54b56100d0a4b069b9ce30a0e4e2e20": {
          "model_module": "@jupyter-widgets/controls",
          "model_name": "ProgressStyleModel",
          "model_module_version": "1.5.0",
          "state": {
            "_model_module": "@jupyter-widgets/controls",
            "_model_module_version": "1.5.0",
            "_model_name": "ProgressStyleModel",
            "_view_count": null,
            "_view_module": "@jupyter-widgets/base",
            "_view_module_version": "1.2.0",
            "_view_name": "StyleView",
            "bar_color": null,
            "description_width": ""
          }
        },
        "7ff1163f3dda4ad68fb157f61f31533d": {
          "model_module": "@jupyter-widgets/base",
          "model_name": "LayoutModel",
          "model_module_version": "1.2.0",
          "state": {
            "_model_module": "@jupyter-widgets/base",
            "_model_module_version": "1.2.0",
            "_model_name": "LayoutModel",
            "_view_count": null,
            "_view_module": "@jupyter-widgets/base",
            "_view_module_version": "1.2.0",
            "_view_name": "LayoutView",
            "align_content": null,
            "align_items": null,
            "align_self": null,
            "border": null,
            "bottom": null,
            "display": null,
            "flex": null,
            "flex_flow": null,
            "grid_area": null,
            "grid_auto_columns": null,
            "grid_auto_flow": null,
            "grid_auto_rows": null,
            "grid_column": null,
            "grid_gap": null,
            "grid_row": null,
            "grid_template_areas": null,
            "grid_template_columns": null,
            "grid_template_rows": null,
            "height": null,
            "justify_content": null,
            "justify_items": null,
            "left": null,
            "margin": null,
            "max_height": null,
            "max_width": null,
            "min_height": null,
            "min_width": null,
            "object_fit": null,
            "object_position": null,
            "order": null,
            "overflow": null,
            "overflow_x": null,
            "overflow_y": null,
            "padding": null,
            "right": null,
            "top": null,
            "visibility": null,
            "width": null
          }
        },
        "e79a23ec9aa0488e8ee1a800e9e87133": {
          "model_module": "@jupyter-widgets/controls",
          "model_name": "DescriptionStyleModel",
          "model_module_version": "1.5.0",
          "state": {
            "_model_module": "@jupyter-widgets/controls",
            "_model_module_version": "1.5.0",
            "_model_name": "DescriptionStyleModel",
            "_view_count": null,
            "_view_module": "@jupyter-widgets/base",
            "_view_module_version": "1.2.0",
            "_view_name": "StyleView",
            "description_width": ""
          }
        },
        "26611e208a074f2686777c4d50737df2": {
          "model_module": "@jupyter-widgets/controls",
          "model_name": "HBoxModel",
          "model_module_version": "1.5.0",
          "state": {
            "_dom_classes": [],
            "_model_module": "@jupyter-widgets/controls",
            "_model_module_version": "1.5.0",
            "_model_name": "HBoxModel",
            "_view_count": null,
            "_view_module": "@jupyter-widgets/controls",
            "_view_module_version": "1.5.0",
            "_view_name": "HBoxView",
            "box_style": "",
            "children": [
              "IPY_MODEL_ad03cadb592242a3ba15c56e85c0ea7d",
              "IPY_MODEL_1d11a70896bc4a0880c98ddf7e32a829",
              "IPY_MODEL_6c31a1f0e33f46bcba9d514af01e294b"
            ],
            "layout": "IPY_MODEL_5463301ce8da4fcb8706f81a526ca247"
          }
        },
        "ad03cadb592242a3ba15c56e85c0ea7d": {
          "model_module": "@jupyter-widgets/controls",
          "model_name": "HTMLModel",
          "model_module_version": "1.5.0",
          "state": {
            "_dom_classes": [],
            "_model_module": "@jupyter-widgets/controls",
            "_model_module_version": "1.5.0",
            "_model_name": "HTMLModel",
            "_view_count": null,
            "_view_module": "@jupyter-widgets/controls",
            "_view_module_version": "1.5.0",
            "_view_name": "HTMLView",
            "description": "",
            "description_tooltip": null,
            "layout": "IPY_MODEL_f0a9a6a060334ab380b72d4c08ccf2d4",
            "placeholder": "​",
            "style": "IPY_MODEL_ddc87a7ab4ef4048b51c432a6922f8e8",
            "value": "Downloading builder script: 100%"
          }
        },
        "1d11a70896bc4a0880c98ddf7e32a829": {
          "model_module": "@jupyter-widgets/controls",
          "model_name": "FloatProgressModel",
          "model_module_version": "1.5.0",
          "state": {
            "_dom_classes": [],
            "_model_module": "@jupyter-widgets/controls",
            "_model_module_version": "1.5.0",
            "_model_name": "FloatProgressModel",
            "_view_count": null,
            "_view_module": "@jupyter-widgets/controls",
            "_view_module_version": "1.5.0",
            "_view_name": "ProgressView",
            "bar_style": "success",
            "description": "",
            "description_tooltip": null,
            "layout": "IPY_MODEL_63f6955ef9824bd8affd3a8363db2cd1",
            "max": 5274,
            "min": 0,
            "orientation": "horizontal",
            "style": "IPY_MODEL_2900816a49974e36a2db3834ffcb5f4c",
            "value": 5274
          }
        },
        "6c31a1f0e33f46bcba9d514af01e294b": {
          "model_module": "@jupyter-widgets/controls",
          "model_name": "HTMLModel",
          "model_module_version": "1.5.0",
          "state": {
            "_dom_classes": [],
            "_model_module": "@jupyter-widgets/controls",
            "_model_module_version": "1.5.0",
            "_model_name": "HTMLModel",
            "_view_count": null,
            "_view_module": "@jupyter-widgets/controls",
            "_view_module_version": "1.5.0",
            "_view_name": "HTMLView",
            "description": "",
            "description_tooltip": null,
            "layout": "IPY_MODEL_414fa273358d4911b32db6c4a4f55de5",
            "placeholder": "​",
            "style": "IPY_MODEL_8f925ffb130e46e4ae73ada49becd1a4",
            "value": " 5.27k/5.27k [00:00&lt;00:00, 103kB/s]"
          }
        },
        "5463301ce8da4fcb8706f81a526ca247": {
          "model_module": "@jupyter-widgets/base",
          "model_name": "LayoutModel",
          "model_module_version": "1.2.0",
          "state": {
            "_model_module": "@jupyter-widgets/base",
            "_model_module_version": "1.2.0",
            "_model_name": "LayoutModel",
            "_view_count": null,
            "_view_module": "@jupyter-widgets/base",
            "_view_module_version": "1.2.0",
            "_view_name": "LayoutView",
            "align_content": null,
            "align_items": null,
            "align_self": null,
            "border": null,
            "bottom": null,
            "display": null,
            "flex": null,
            "flex_flow": null,
            "grid_area": null,
            "grid_auto_columns": null,
            "grid_auto_flow": null,
            "grid_auto_rows": null,
            "grid_column": null,
            "grid_gap": null,
            "grid_row": null,
            "grid_template_areas": null,
            "grid_template_columns": null,
            "grid_template_rows": null,
            "height": null,
            "justify_content": null,
            "justify_items": null,
            "left": null,
            "margin": null,
            "max_height": null,
            "max_width": null,
            "min_height": null,
            "min_width": null,
            "object_fit": null,
            "object_position": null,
            "order": null,
            "overflow": null,
            "overflow_x": null,
            "overflow_y": null,
            "padding": null,
            "right": null,
            "top": null,
            "visibility": null,
            "width": null
          }
        },
        "f0a9a6a060334ab380b72d4c08ccf2d4": {
          "model_module": "@jupyter-widgets/base",
          "model_name": "LayoutModel",
          "model_module_version": "1.2.0",
          "state": {
            "_model_module": "@jupyter-widgets/base",
            "_model_module_version": "1.2.0",
            "_model_name": "LayoutModel",
            "_view_count": null,
            "_view_module": "@jupyter-widgets/base",
            "_view_module_version": "1.2.0",
            "_view_name": "LayoutView",
            "align_content": null,
            "align_items": null,
            "align_self": null,
            "border": null,
            "bottom": null,
            "display": null,
            "flex": null,
            "flex_flow": null,
            "grid_area": null,
            "grid_auto_columns": null,
            "grid_auto_flow": null,
            "grid_auto_rows": null,
            "grid_column": null,
            "grid_gap": null,
            "grid_row": null,
            "grid_template_areas": null,
            "grid_template_columns": null,
            "grid_template_rows": null,
            "height": null,
            "justify_content": null,
            "justify_items": null,
            "left": null,
            "margin": null,
            "max_height": null,
            "max_width": null,
            "min_height": null,
            "min_width": null,
            "object_fit": null,
            "object_position": null,
            "order": null,
            "overflow": null,
            "overflow_x": null,
            "overflow_y": null,
            "padding": null,
            "right": null,
            "top": null,
            "visibility": null,
            "width": null
          }
        },
        "ddc87a7ab4ef4048b51c432a6922f8e8": {
          "model_module": "@jupyter-widgets/controls",
          "model_name": "DescriptionStyleModel",
          "model_module_version": "1.5.0",
          "state": {
            "_model_module": "@jupyter-widgets/controls",
            "_model_module_version": "1.5.0",
            "_model_name": "DescriptionStyleModel",
            "_view_count": null,
            "_view_module": "@jupyter-widgets/base",
            "_view_module_version": "1.2.0",
            "_view_name": "StyleView",
            "description_width": ""
          }
        },
        "63f6955ef9824bd8affd3a8363db2cd1": {
          "model_module": "@jupyter-widgets/base",
          "model_name": "LayoutModel",
          "model_module_version": "1.2.0",
          "state": {
            "_model_module": "@jupyter-widgets/base",
            "_model_module_version": "1.2.0",
            "_model_name": "LayoutModel",
            "_view_count": null,
            "_view_module": "@jupyter-widgets/base",
            "_view_module_version": "1.2.0",
            "_view_name": "LayoutView",
            "align_content": null,
            "align_items": null,
            "align_self": null,
            "border": null,
            "bottom": null,
            "display": null,
            "flex": null,
            "flex_flow": null,
            "grid_area": null,
            "grid_auto_columns": null,
            "grid_auto_flow": null,
            "grid_auto_rows": null,
            "grid_column": null,
            "grid_gap": null,
            "grid_row": null,
            "grid_template_areas": null,
            "grid_template_columns": null,
            "grid_template_rows": null,
            "height": null,
            "justify_content": null,
            "justify_items": null,
            "left": null,
            "margin": null,
            "max_height": null,
            "max_width": null,
            "min_height": null,
            "min_width": null,
            "object_fit": null,
            "object_position": null,
            "order": null,
            "overflow": null,
            "overflow_x": null,
            "overflow_y": null,
            "padding": null,
            "right": null,
            "top": null,
            "visibility": null,
            "width": null
          }
        },
        "2900816a49974e36a2db3834ffcb5f4c": {
          "model_module": "@jupyter-widgets/controls",
          "model_name": "ProgressStyleModel",
          "model_module_version": "1.5.0",
          "state": {
            "_model_module": "@jupyter-widgets/controls",
            "_model_module_version": "1.5.0",
            "_model_name": "ProgressStyleModel",
            "_view_count": null,
            "_view_module": "@jupyter-widgets/base",
            "_view_module_version": "1.2.0",
            "_view_name": "StyleView",
            "bar_color": null,
            "description_width": ""
          }
        },
        "414fa273358d4911b32db6c4a4f55de5": {
          "model_module": "@jupyter-widgets/base",
          "model_name": "LayoutModel",
          "model_module_version": "1.2.0",
          "state": {
            "_model_module": "@jupyter-widgets/base",
            "_model_module_version": "1.2.0",
            "_model_name": "LayoutModel",
            "_view_count": null,
            "_view_module": "@jupyter-widgets/base",
            "_view_module_version": "1.2.0",
            "_view_name": "LayoutView",
            "align_content": null,
            "align_items": null,
            "align_self": null,
            "border": null,
            "bottom": null,
            "display": null,
            "flex": null,
            "flex_flow": null,
            "grid_area": null,
            "grid_auto_columns": null,
            "grid_auto_flow": null,
            "grid_auto_rows": null,
            "grid_column": null,
            "grid_gap": null,
            "grid_row": null,
            "grid_template_areas": null,
            "grid_template_columns": null,
            "grid_template_rows": null,
            "height": null,
            "justify_content": null,
            "justify_items": null,
            "left": null,
            "margin": null,
            "max_height": null,
            "max_width": null,
            "min_height": null,
            "min_width": null,
            "object_fit": null,
            "object_position": null,
            "order": null,
            "overflow": null,
            "overflow_x": null,
            "overflow_y": null,
            "padding": null,
            "right": null,
            "top": null,
            "visibility": null,
            "width": null
          }
        },
        "8f925ffb130e46e4ae73ada49becd1a4": {
          "model_module": "@jupyter-widgets/controls",
          "model_name": "DescriptionStyleModel",
          "model_module_version": "1.5.0",
          "state": {
            "_model_module": "@jupyter-widgets/controls",
            "_model_module_version": "1.5.0",
            "_model_name": "DescriptionStyleModel",
            "_view_count": null,
            "_view_module": "@jupyter-widgets/base",
            "_view_module_version": "1.2.0",
            "_view_name": "StyleView",
            "description_width": ""
          }
        },
        "f840339a2d7d4999be228a19d4c4c960": {
          "model_module": "@jupyter-widgets/controls",
          "model_name": "HBoxModel",
          "model_module_version": "1.5.0",
          "state": {
            "_dom_classes": [],
            "_model_module": "@jupyter-widgets/controls",
            "_model_module_version": "1.5.0",
            "_model_name": "HBoxModel",
            "_view_count": null,
            "_view_module": "@jupyter-widgets/controls",
            "_view_module_version": "1.5.0",
            "_view_name": "HBoxView",
            "box_style": "",
            "children": [
              "IPY_MODEL_cc0220dc99224d7ca7420c311e209982",
              "IPY_MODEL_9ffc4d4f8d6b4393b7d81301d2a59995",
              "IPY_MODEL_c5188021bcb34a289165ce739e3552d1"
            ],
            "layout": "IPY_MODEL_11bed789e7c044ac9f5b819e76fb3e59"
          }
        },
        "cc0220dc99224d7ca7420c311e209982": {
          "model_module": "@jupyter-widgets/controls",
          "model_name": "HTMLModel",
          "model_module_version": "1.5.0",
          "state": {
            "_dom_classes": [],
            "_model_module": "@jupyter-widgets/controls",
            "_model_module_version": "1.5.0",
            "_model_name": "HTMLModel",
            "_view_count": null,
            "_view_module": "@jupyter-widgets/controls",
            "_view_module_version": "1.5.0",
            "_view_name": "HTMLView",
            "description": "",
            "description_tooltip": null,
            "layout": "IPY_MODEL_09861215d0c540bda4a0c761dff09d39",
            "placeholder": "​",
            "style": "IPY_MODEL_da63ba9f09e049b88b30ef7260df828d",
            "value": "Downloading metadata: 100%"
          }
        },
        "9ffc4d4f8d6b4393b7d81301d2a59995": {
          "model_module": "@jupyter-widgets/controls",
          "model_name": "FloatProgressModel",
          "model_module_version": "1.5.0",
          "state": {
            "_dom_classes": [],
            "_model_module": "@jupyter-widgets/controls",
            "_model_module_version": "1.5.0",
            "_model_name": "FloatProgressModel",
            "_view_count": null,
            "_view_module": "@jupyter-widgets/controls",
            "_view_module_version": "1.5.0",
            "_view_name": "ProgressView",
            "bar_style": "success",
            "description": "",
            "description_tooltip": null,
            "layout": "IPY_MODEL_df6b3b61c6eb4fb2a3c63335591d31e9",
            "max": 2360,
            "min": 0,
            "orientation": "horizontal",
            "style": "IPY_MODEL_b7417789de484e80a3ed47fe001f8059",
            "value": 2360
          }
        },
        "c5188021bcb34a289165ce739e3552d1": {
          "model_module": "@jupyter-widgets/controls",
          "model_name": "HTMLModel",
          "model_module_version": "1.5.0",
          "state": {
            "_dom_classes": [],
            "_model_module": "@jupyter-widgets/controls",
            "_model_module_version": "1.5.0",
            "_model_name": "HTMLModel",
            "_view_count": null,
            "_view_module": "@jupyter-widgets/controls",
            "_view_module_version": "1.5.0",
            "_view_name": "HTMLView",
            "description": "",
            "description_tooltip": null,
            "layout": "IPY_MODEL_9e6c598f96ba43d29f4ec0418bc6e7e4",
            "placeholder": "​",
            "style": "IPY_MODEL_a2f0be3b4df74565a7b4ae8159e51aef",
            "value": " 2.36k/2.36k [00:00&lt;00:00, 67.3kB/s]"
          }
        },
        "11bed789e7c044ac9f5b819e76fb3e59": {
          "model_module": "@jupyter-widgets/base",
          "model_name": "LayoutModel",
          "model_module_version": "1.2.0",
          "state": {
            "_model_module": "@jupyter-widgets/base",
            "_model_module_version": "1.2.0",
            "_model_name": "LayoutModel",
            "_view_count": null,
            "_view_module": "@jupyter-widgets/base",
            "_view_module_version": "1.2.0",
            "_view_name": "LayoutView",
            "align_content": null,
            "align_items": null,
            "align_self": null,
            "border": null,
            "bottom": null,
            "display": null,
            "flex": null,
            "flex_flow": null,
            "grid_area": null,
            "grid_auto_columns": null,
            "grid_auto_flow": null,
            "grid_auto_rows": null,
            "grid_column": null,
            "grid_gap": null,
            "grid_row": null,
            "grid_template_areas": null,
            "grid_template_columns": null,
            "grid_template_rows": null,
            "height": null,
            "justify_content": null,
            "justify_items": null,
            "left": null,
            "margin": null,
            "max_height": null,
            "max_width": null,
            "min_height": null,
            "min_width": null,
            "object_fit": null,
            "object_position": null,
            "order": null,
            "overflow": null,
            "overflow_x": null,
            "overflow_y": null,
            "padding": null,
            "right": null,
            "top": null,
            "visibility": null,
            "width": null
          }
        },
        "09861215d0c540bda4a0c761dff09d39": {
          "model_module": "@jupyter-widgets/base",
          "model_name": "LayoutModel",
          "model_module_version": "1.2.0",
          "state": {
            "_model_module": "@jupyter-widgets/base",
            "_model_module_version": "1.2.0",
            "_model_name": "LayoutModel",
            "_view_count": null,
            "_view_module": "@jupyter-widgets/base",
            "_view_module_version": "1.2.0",
            "_view_name": "LayoutView",
            "align_content": null,
            "align_items": null,
            "align_self": null,
            "border": null,
            "bottom": null,
            "display": null,
            "flex": null,
            "flex_flow": null,
            "grid_area": null,
            "grid_auto_columns": null,
            "grid_auto_flow": null,
            "grid_auto_rows": null,
            "grid_column": null,
            "grid_gap": null,
            "grid_row": null,
            "grid_template_areas": null,
            "grid_template_columns": null,
            "grid_template_rows": null,
            "height": null,
            "justify_content": null,
            "justify_items": null,
            "left": null,
            "margin": null,
            "max_height": null,
            "max_width": null,
            "min_height": null,
            "min_width": null,
            "object_fit": null,
            "object_position": null,
            "order": null,
            "overflow": null,
            "overflow_x": null,
            "overflow_y": null,
            "padding": null,
            "right": null,
            "top": null,
            "visibility": null,
            "width": null
          }
        },
        "da63ba9f09e049b88b30ef7260df828d": {
          "model_module": "@jupyter-widgets/controls",
          "model_name": "DescriptionStyleModel",
          "model_module_version": "1.5.0",
          "state": {
            "_model_module": "@jupyter-widgets/controls",
            "_model_module_version": "1.5.0",
            "_model_name": "DescriptionStyleModel",
            "_view_count": null,
            "_view_module": "@jupyter-widgets/base",
            "_view_module_version": "1.2.0",
            "_view_name": "StyleView",
            "description_width": ""
          }
        },
        "df6b3b61c6eb4fb2a3c63335591d31e9": {
          "model_module": "@jupyter-widgets/base",
          "model_name": "LayoutModel",
          "model_module_version": "1.2.0",
          "state": {
            "_model_module": "@jupyter-widgets/base",
            "_model_module_version": "1.2.0",
            "_model_name": "LayoutModel",
            "_view_count": null,
            "_view_module": "@jupyter-widgets/base",
            "_view_module_version": "1.2.0",
            "_view_name": "LayoutView",
            "align_content": null,
            "align_items": null,
            "align_self": null,
            "border": null,
            "bottom": null,
            "display": null,
            "flex": null,
            "flex_flow": null,
            "grid_area": null,
            "grid_auto_columns": null,
            "grid_auto_flow": null,
            "grid_auto_rows": null,
            "grid_column": null,
            "grid_gap": null,
            "grid_row": null,
            "grid_template_areas": null,
            "grid_template_columns": null,
            "grid_template_rows": null,
            "height": null,
            "justify_content": null,
            "justify_items": null,
            "left": null,
            "margin": null,
            "max_height": null,
            "max_width": null,
            "min_height": null,
            "min_width": null,
            "object_fit": null,
            "object_position": null,
            "order": null,
            "overflow": null,
            "overflow_x": null,
            "overflow_y": null,
            "padding": null,
            "right": null,
            "top": null,
            "visibility": null,
            "width": null
          }
        },
        "b7417789de484e80a3ed47fe001f8059": {
          "model_module": "@jupyter-widgets/controls",
          "model_name": "ProgressStyleModel",
          "model_module_version": "1.5.0",
          "state": {
            "_model_module": "@jupyter-widgets/controls",
            "_model_module_version": "1.5.0",
            "_model_name": "ProgressStyleModel",
            "_view_count": null,
            "_view_module": "@jupyter-widgets/base",
            "_view_module_version": "1.2.0",
            "_view_name": "StyleView",
            "bar_color": null,
            "description_width": ""
          }
        },
        "9e6c598f96ba43d29f4ec0418bc6e7e4": {
          "model_module": "@jupyter-widgets/base",
          "model_name": "LayoutModel",
          "model_module_version": "1.2.0",
          "state": {
            "_model_module": "@jupyter-widgets/base",
            "_model_module_version": "1.2.0",
            "_model_name": "LayoutModel",
            "_view_count": null,
            "_view_module": "@jupyter-widgets/base",
            "_view_module_version": "1.2.0",
            "_view_name": "LayoutView",
            "align_content": null,
            "align_items": null,
            "align_self": null,
            "border": null,
            "bottom": null,
            "display": null,
            "flex": null,
            "flex_flow": null,
            "grid_area": null,
            "grid_auto_columns": null,
            "grid_auto_flow": null,
            "grid_auto_rows": null,
            "grid_column": null,
            "grid_gap": null,
            "grid_row": null,
            "grid_template_areas": null,
            "grid_template_columns": null,
            "grid_template_rows": null,
            "height": null,
            "justify_content": null,
            "justify_items": null,
            "left": null,
            "margin": null,
            "max_height": null,
            "max_width": null,
            "min_height": null,
            "min_width": null,
            "object_fit": null,
            "object_position": null,
            "order": null,
            "overflow": null,
            "overflow_x": null,
            "overflow_y": null,
            "padding": null,
            "right": null,
            "top": null,
            "visibility": null,
            "width": null
          }
        },
        "a2f0be3b4df74565a7b4ae8159e51aef": {
          "model_module": "@jupyter-widgets/controls",
          "model_name": "DescriptionStyleModel",
          "model_module_version": "1.5.0",
          "state": {
            "_model_module": "@jupyter-widgets/controls",
            "_model_module_version": "1.5.0",
            "_model_name": "DescriptionStyleModel",
            "_view_count": null,
            "_view_module": "@jupyter-widgets/base",
            "_view_module_version": "1.2.0",
            "_view_name": "StyleView",
            "description_width": ""
          }
        },
        "a8901c361a7a4dc6ac1b1ccdef76ea78": {
          "model_module": "@jupyter-widgets/controls",
          "model_name": "HBoxModel",
          "model_module_version": "1.5.0",
          "state": {
            "_dom_classes": [],
            "_model_module": "@jupyter-widgets/controls",
            "_model_module_version": "1.5.0",
            "_model_name": "HBoxModel",
            "_view_count": null,
            "_view_module": "@jupyter-widgets/controls",
            "_view_module_version": "1.5.0",
            "_view_name": "HBoxView",
            "box_style": "",
            "children": [
              "IPY_MODEL_6e5737904de441f69122ce88013469ae",
              "IPY_MODEL_0753581482974beeb99be9a31fa2a1db",
              "IPY_MODEL_702b87f74f9f4e08ad4b432c85483e68"
            ],
            "layout": "IPY_MODEL_e943a69a1db04a1b9c9214d1736e5808"
          }
        },
        "6e5737904de441f69122ce88013469ae": {
          "model_module": "@jupyter-widgets/controls",
          "model_name": "HTMLModel",
          "model_module_version": "1.5.0",
          "state": {
            "_dom_classes": [],
            "_model_module": "@jupyter-widgets/controls",
            "_model_module_version": "1.5.0",
            "_model_name": "HTMLModel",
            "_view_count": null,
            "_view_module": "@jupyter-widgets/controls",
            "_view_module_version": "1.5.0",
            "_view_name": "HTMLView",
            "description": "",
            "description_tooltip": null,
            "layout": "IPY_MODEL_8d13189084c44545884a6f885d06665c",
            "placeholder": "​",
            "style": "IPY_MODEL_24f7fafc8d754d3097d84972bf51e9d4",
            "value": "Downloading readme: 100%"
          }
        },
        "0753581482974beeb99be9a31fa2a1db": {
          "model_module": "@jupyter-widgets/controls",
          "model_name": "FloatProgressModel",
          "model_module_version": "1.5.0",
          "state": {
            "_dom_classes": [],
            "_model_module": "@jupyter-widgets/controls",
            "_model_module_version": "1.5.0",
            "_model_name": "FloatProgressModel",
            "_view_count": null,
            "_view_module": "@jupyter-widgets/controls",
            "_view_module_version": "1.5.0",
            "_view_name": "ProgressView",
            "bar_style": "success",
            "description": "",
            "description_tooltip": null,
            "layout": "IPY_MODEL_4d617fa6cb8b4510aaa5c6224ce1d0ab",
            "max": 7173,
            "min": 0,
            "orientation": "horizontal",
            "style": "IPY_MODEL_7bc22dd5e6414be58503760ccf0b06f1",
            "value": 7173
          }
        },
        "702b87f74f9f4e08ad4b432c85483e68": {
          "model_module": "@jupyter-widgets/controls",
          "model_name": "HTMLModel",
          "model_module_version": "1.5.0",
          "state": {
            "_dom_classes": [],
            "_model_module": "@jupyter-widgets/controls",
            "_model_module_version": "1.5.0",
            "_model_name": "HTMLModel",
            "_view_count": null,
            "_view_module": "@jupyter-widgets/controls",
            "_view_module_version": "1.5.0",
            "_view_name": "HTMLView",
            "description": "",
            "description_tooltip": null,
            "layout": "IPY_MODEL_653b7088533a463c923b156a2452b9af",
            "placeholder": "​",
            "style": "IPY_MODEL_aa932413f7754c4998f29dff1e2fd5bb",
            "value": " 7.17k/7.17k [00:00&lt;00:00, 76.6kB/s]"
          }
        },
        "e943a69a1db04a1b9c9214d1736e5808": {
          "model_module": "@jupyter-widgets/base",
          "model_name": "LayoutModel",
          "model_module_version": "1.2.0",
          "state": {
            "_model_module": "@jupyter-widgets/base",
            "_model_module_version": "1.2.0",
            "_model_name": "LayoutModel",
            "_view_count": null,
            "_view_module": "@jupyter-widgets/base",
            "_view_module_version": "1.2.0",
            "_view_name": "LayoutView",
            "align_content": null,
            "align_items": null,
            "align_self": null,
            "border": null,
            "bottom": null,
            "display": null,
            "flex": null,
            "flex_flow": null,
            "grid_area": null,
            "grid_auto_columns": null,
            "grid_auto_flow": null,
            "grid_auto_rows": null,
            "grid_column": null,
            "grid_gap": null,
            "grid_row": null,
            "grid_template_areas": null,
            "grid_template_columns": null,
            "grid_template_rows": null,
            "height": null,
            "justify_content": null,
            "justify_items": null,
            "left": null,
            "margin": null,
            "max_height": null,
            "max_width": null,
            "min_height": null,
            "min_width": null,
            "object_fit": null,
            "object_position": null,
            "order": null,
            "overflow": null,
            "overflow_x": null,
            "overflow_y": null,
            "padding": null,
            "right": null,
            "top": null,
            "visibility": null,
            "width": null
          }
        },
        "8d13189084c44545884a6f885d06665c": {
          "model_module": "@jupyter-widgets/base",
          "model_name": "LayoutModel",
          "model_module_version": "1.2.0",
          "state": {
            "_model_module": "@jupyter-widgets/base",
            "_model_module_version": "1.2.0",
            "_model_name": "LayoutModel",
            "_view_count": null,
            "_view_module": "@jupyter-widgets/base",
            "_view_module_version": "1.2.0",
            "_view_name": "LayoutView",
            "align_content": null,
            "align_items": null,
            "align_self": null,
            "border": null,
            "bottom": null,
            "display": null,
            "flex": null,
            "flex_flow": null,
            "grid_area": null,
            "grid_auto_columns": null,
            "grid_auto_flow": null,
            "grid_auto_rows": null,
            "grid_column": null,
            "grid_gap": null,
            "grid_row": null,
            "grid_template_areas": null,
            "grid_template_columns": null,
            "grid_template_rows": null,
            "height": null,
            "justify_content": null,
            "justify_items": null,
            "left": null,
            "margin": null,
            "max_height": null,
            "max_width": null,
            "min_height": null,
            "min_width": null,
            "object_fit": null,
            "object_position": null,
            "order": null,
            "overflow": null,
            "overflow_x": null,
            "overflow_y": null,
            "padding": null,
            "right": null,
            "top": null,
            "visibility": null,
            "width": null
          }
        },
        "24f7fafc8d754d3097d84972bf51e9d4": {
          "model_module": "@jupyter-widgets/controls",
          "model_name": "DescriptionStyleModel",
          "model_module_version": "1.5.0",
          "state": {
            "_model_module": "@jupyter-widgets/controls",
            "_model_module_version": "1.5.0",
            "_model_name": "DescriptionStyleModel",
            "_view_count": null,
            "_view_module": "@jupyter-widgets/base",
            "_view_module_version": "1.2.0",
            "_view_name": "StyleView",
            "description_width": ""
          }
        },
        "4d617fa6cb8b4510aaa5c6224ce1d0ab": {
          "model_module": "@jupyter-widgets/base",
          "model_name": "LayoutModel",
          "model_module_version": "1.2.0",
          "state": {
            "_model_module": "@jupyter-widgets/base",
            "_model_module_version": "1.2.0",
            "_model_name": "LayoutModel",
            "_view_count": null,
            "_view_module": "@jupyter-widgets/base",
            "_view_module_version": "1.2.0",
            "_view_name": "LayoutView",
            "align_content": null,
            "align_items": null,
            "align_self": null,
            "border": null,
            "bottom": null,
            "display": null,
            "flex": null,
            "flex_flow": null,
            "grid_area": null,
            "grid_auto_columns": null,
            "grid_auto_flow": null,
            "grid_auto_rows": null,
            "grid_column": null,
            "grid_gap": null,
            "grid_row": null,
            "grid_template_areas": null,
            "grid_template_columns": null,
            "grid_template_rows": null,
            "height": null,
            "justify_content": null,
            "justify_items": null,
            "left": null,
            "margin": null,
            "max_height": null,
            "max_width": null,
            "min_height": null,
            "min_width": null,
            "object_fit": null,
            "object_position": null,
            "order": null,
            "overflow": null,
            "overflow_x": null,
            "overflow_y": null,
            "padding": null,
            "right": null,
            "top": null,
            "visibility": null,
            "width": null
          }
        },
        "7bc22dd5e6414be58503760ccf0b06f1": {
          "model_module": "@jupyter-widgets/controls",
          "model_name": "ProgressStyleModel",
          "model_module_version": "1.5.0",
          "state": {
            "_model_module": "@jupyter-widgets/controls",
            "_model_module_version": "1.5.0",
            "_model_name": "ProgressStyleModel",
            "_view_count": null,
            "_view_module": "@jupyter-widgets/base",
            "_view_module_version": "1.2.0",
            "_view_name": "StyleView",
            "bar_color": null,
            "description_width": ""
          }
        },
        "653b7088533a463c923b156a2452b9af": {
          "model_module": "@jupyter-widgets/base",
          "model_name": "LayoutModel",
          "model_module_version": "1.2.0",
          "state": {
            "_model_module": "@jupyter-widgets/base",
            "_model_module_version": "1.2.0",
            "_model_name": "LayoutModel",
            "_view_count": null,
            "_view_module": "@jupyter-widgets/base",
            "_view_module_version": "1.2.0",
            "_view_name": "LayoutView",
            "align_content": null,
            "align_items": null,
            "align_self": null,
            "border": null,
            "bottom": null,
            "display": null,
            "flex": null,
            "flex_flow": null,
            "grid_area": null,
            "grid_auto_columns": null,
            "grid_auto_flow": null,
            "grid_auto_rows": null,
            "grid_column": null,
            "grid_gap": null,
            "grid_row": null,
            "grid_template_areas": null,
            "grid_template_columns": null,
            "grid_template_rows": null,
            "height": null,
            "justify_content": null,
            "justify_items": null,
            "left": null,
            "margin": null,
            "max_height": null,
            "max_width": null,
            "min_height": null,
            "min_width": null,
            "object_fit": null,
            "object_position": null,
            "order": null,
            "overflow": null,
            "overflow_x": null,
            "overflow_y": null,
            "padding": null,
            "right": null,
            "top": null,
            "visibility": null,
            "width": null
          }
        },
        "aa932413f7754c4998f29dff1e2fd5bb": {
          "model_module": "@jupyter-widgets/controls",
          "model_name": "DescriptionStyleModel",
          "model_module_version": "1.5.0",
          "state": {
            "_model_module": "@jupyter-widgets/controls",
            "_model_module_version": "1.5.0",
            "_model_name": "DescriptionStyleModel",
            "_view_count": null,
            "_view_module": "@jupyter-widgets/base",
            "_view_module_version": "1.2.0",
            "_view_name": "StyleView",
            "description_width": ""
          }
        }
      }
    }
  },
  "nbformat": 4,
  "nbformat_minor": 0
}