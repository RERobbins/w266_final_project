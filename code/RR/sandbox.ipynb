{
  "cells": [
    {
      "cell_type": "markdown",
      "metadata": {
        "id": "2t9Q-89MYNZU"
      },
      "source": [
        "[![Open In Colab](https://colab.research.google.com/assets/colab-badge.svg)](https://colab.research.google.com/github/googlecolab/colabtools/blob/master/notebooks/colab-github-demo.ipynb)\n",
        "\n",
        "# Sandbox -- First Attempts with T5"
      ]
    },
    {
      "cell_type": "markdown",
      "metadata": {
        "id": "0DBGDwpkYSkD"
      },
      "source": [
        "## Downloading Datasets\n",
        "Download using HuggingFace's `datasets` library"
      ]
    },
    {
      "cell_type": "code",
      "execution_count": 1,
      "metadata": {
        "id": "5lKT2zt491dv"
      },
      "outputs": [],
      "source": [
        "import numpy as np\n",
        "import pandas as pd\n",
        "\n",
        "import warnings\n",
        "warnings.simplefilter(action='ignore', category=FutureWarning)\n",
        "\n",
        "import json\n",
        "\n",
        "from pprint import pprint"
      ]
    },
    {
      "cell_type": "code",
      "execution_count": 2,
      "metadata": {
        "colab": {
          "base_uri": "https://localhost:8080/"
        },
        "id": "BmTpEC_R91dv",
        "outputId": "532fece2-36ef-4364-facc-733a5c642d86"
      },
      "outputs": [
        {
          "output_type": "stream",
          "name": "stdout",
          "text": [
            "Mounted at /content/drive\n"
          ]
        }
      ],
      "source": [
        "from google.colab import drive\n",
        "\n",
        "drive.mount('/content/drive')"
      ]
    },
    {
      "cell_type": "code",
      "source": [
        "!pip install -q sentencepiece"
      ],
      "metadata": {
        "colab": {
          "base_uri": "https://localhost:8080/"
        },
        "id": "ylEa90d_H_6X",
        "outputId": "47132fa8-8b35-4fe2-fc01-83aa2a79ee7a"
      },
      "execution_count": 3,
      "outputs": [
        {
          "output_type": "stream",
          "name": "stdout",
          "text": [
            "\u001b[?25l\r\u001b[K     |▎                               | 10 kB 15.9 MB/s eta 0:00:01\r\u001b[K     |▌                               | 20 kB 3.9 MB/s eta 0:00:01\r\u001b[K     |▊                               | 30 kB 5.4 MB/s eta 0:00:01\r\u001b[K     |█                               | 40 kB 6.9 MB/s eta 0:00:01\r\u001b[K     |█▎                              | 51 kB 6.3 MB/s eta 0:00:01\r\u001b[K     |█▌                              | 61 kB 7.4 MB/s eta 0:00:01\r\u001b[K     |█▉                              | 71 kB 7.9 MB/s eta 0:00:01\r\u001b[K     |██                              | 81 kB 6.9 MB/s eta 0:00:01\r\u001b[K     |██▎                             | 92 kB 7.6 MB/s eta 0:00:01\r\u001b[K     |██▋                             | 102 kB 8.3 MB/s eta 0:00:01\r\u001b[K     |██▉                             | 112 kB 8.3 MB/s eta 0:00:01\r\u001b[K     |███                             | 122 kB 8.3 MB/s eta 0:00:01\r\u001b[K     |███▍                            | 133 kB 8.3 MB/s eta 0:00:01\r\u001b[K     |███▋                            | 143 kB 8.3 MB/s eta 0:00:01\r\u001b[K     |███▉                            | 153 kB 8.3 MB/s eta 0:00:01\r\u001b[K     |████                            | 163 kB 8.3 MB/s eta 0:00:01\r\u001b[K     |████▍                           | 174 kB 8.3 MB/s eta 0:00:01\r\u001b[K     |████▋                           | 184 kB 8.3 MB/s eta 0:00:01\r\u001b[K     |████▉                           | 194 kB 8.3 MB/s eta 0:00:01\r\u001b[K     |█████▏                          | 204 kB 8.3 MB/s eta 0:00:01\r\u001b[K     |█████▍                          | 215 kB 8.3 MB/s eta 0:00:01\r\u001b[K     |█████▋                          | 225 kB 8.3 MB/s eta 0:00:01\r\u001b[K     |██████                          | 235 kB 8.3 MB/s eta 0:00:01\r\u001b[K     |██████▏                         | 245 kB 8.3 MB/s eta 0:00:01\r\u001b[K     |██████▍                         | 256 kB 8.3 MB/s eta 0:00:01\r\u001b[K     |██████▊                         | 266 kB 8.3 MB/s eta 0:00:01\r\u001b[K     |███████                         | 276 kB 8.3 MB/s eta 0:00:01\r\u001b[K     |███████▏                        | 286 kB 8.3 MB/s eta 0:00:01\r\u001b[K     |███████▍                        | 296 kB 8.3 MB/s eta 0:00:01\r\u001b[K     |███████▊                        | 307 kB 8.3 MB/s eta 0:00:01\r\u001b[K     |████████                        | 317 kB 8.3 MB/s eta 0:00:01\r\u001b[K     |████████▏                       | 327 kB 8.3 MB/s eta 0:00:01\r\u001b[K     |████████▌                       | 337 kB 8.3 MB/s eta 0:00:01\r\u001b[K     |████████▊                       | 348 kB 8.3 MB/s eta 0:00:01\r\u001b[K     |█████████                       | 358 kB 8.3 MB/s eta 0:00:01\r\u001b[K     |█████████▎                      | 368 kB 8.3 MB/s eta 0:00:01\r\u001b[K     |█████████▌                      | 378 kB 8.3 MB/s eta 0:00:01\r\u001b[K     |█████████▊                      | 389 kB 8.3 MB/s eta 0:00:01\r\u001b[K     |██████████                      | 399 kB 8.3 MB/s eta 0:00:01\r\u001b[K     |██████████▎                     | 409 kB 8.3 MB/s eta 0:00:01\r\u001b[K     |██████████▌                     | 419 kB 8.3 MB/s eta 0:00:01\r\u001b[K     |██████████▉                     | 430 kB 8.3 MB/s eta 0:00:01\r\u001b[K     |███████████                     | 440 kB 8.3 MB/s eta 0:00:01\r\u001b[K     |███████████▎                    | 450 kB 8.3 MB/s eta 0:00:01\r\u001b[K     |███████████▌                    | 460 kB 8.3 MB/s eta 0:00:01\r\u001b[K     |███████████▉                    | 471 kB 8.3 MB/s eta 0:00:01\r\u001b[K     |████████████                    | 481 kB 8.3 MB/s eta 0:00:01\r\u001b[K     |████████████▎                   | 491 kB 8.3 MB/s eta 0:00:01\r\u001b[K     |████████████▋                   | 501 kB 8.3 MB/s eta 0:00:01\r\u001b[K     |████████████▉                   | 512 kB 8.3 MB/s eta 0:00:01\r\u001b[K     |█████████████                   | 522 kB 8.3 MB/s eta 0:00:01\r\u001b[K     |█████████████▍                  | 532 kB 8.3 MB/s eta 0:00:01\r\u001b[K     |█████████████▋                  | 542 kB 8.3 MB/s eta 0:00:01\r\u001b[K     |█████████████▉                  | 552 kB 8.3 MB/s eta 0:00:01\r\u001b[K     |██████████████▏                 | 563 kB 8.3 MB/s eta 0:00:01\r\u001b[K     |██████████████▍                 | 573 kB 8.3 MB/s eta 0:00:01\r\u001b[K     |██████████████▋                 | 583 kB 8.3 MB/s eta 0:00:01\r\u001b[K     |██████████████▉                 | 593 kB 8.3 MB/s eta 0:00:01\r\u001b[K     |███████████████▏                | 604 kB 8.3 MB/s eta 0:00:01\r\u001b[K     |███████████████▍                | 614 kB 8.3 MB/s eta 0:00:01\r\u001b[K     |███████████████▋                | 624 kB 8.3 MB/s eta 0:00:01\r\u001b[K     |████████████████                | 634 kB 8.3 MB/s eta 0:00:01\r\u001b[K     |████████████████▏               | 645 kB 8.3 MB/s eta 0:00:01\r\u001b[K     |████████████████▍               | 655 kB 8.3 MB/s eta 0:00:01\r\u001b[K     |████████████████▊               | 665 kB 8.3 MB/s eta 0:00:01\r\u001b[K     |█████████████████               | 675 kB 8.3 MB/s eta 0:00:01\r\u001b[K     |█████████████████▏              | 686 kB 8.3 MB/s eta 0:00:01\r\u001b[K     |█████████████████▌              | 696 kB 8.3 MB/s eta 0:00:01\r\u001b[K     |█████████████████▊              | 706 kB 8.3 MB/s eta 0:00:01\r\u001b[K     |██████████████████              | 716 kB 8.3 MB/s eta 0:00:01\r\u001b[K     |██████████████████▎             | 727 kB 8.3 MB/s eta 0:00:01\r\u001b[K     |██████████████████▌             | 737 kB 8.3 MB/s eta 0:00:01\r\u001b[K     |██████████████████▊             | 747 kB 8.3 MB/s eta 0:00:01\r\u001b[K     |███████████████████             | 757 kB 8.3 MB/s eta 0:00:01\r\u001b[K     |███████████████████▎            | 768 kB 8.3 MB/s eta 0:00:01\r\u001b[K     |███████████████████▌            | 778 kB 8.3 MB/s eta 0:00:01\r\u001b[K     |███████████████████▊            | 788 kB 8.3 MB/s eta 0:00:01\r\u001b[K     |████████████████████            | 798 kB 8.3 MB/s eta 0:00:01\r\u001b[K     |████████████████████▎           | 808 kB 8.3 MB/s eta 0:00:01\r\u001b[K     |████████████████████▌           | 819 kB 8.3 MB/s eta 0:00:01\r\u001b[K     |████████████████████▉           | 829 kB 8.3 MB/s eta 0:00:01\r\u001b[K     |█████████████████████           | 839 kB 8.3 MB/s eta 0:00:01\r\u001b[K     |█████████████████████▎          | 849 kB 8.3 MB/s eta 0:00:01\r\u001b[K     |█████████████████████▋          | 860 kB 8.3 MB/s eta 0:00:01\r\u001b[K     |█████████████████████▉          | 870 kB 8.3 MB/s eta 0:00:01\r\u001b[K     |██████████████████████          | 880 kB 8.3 MB/s eta 0:00:01\r\u001b[K     |██████████████████████▎         | 890 kB 8.3 MB/s eta 0:00:01\r\u001b[K     |██████████████████████▋         | 901 kB 8.3 MB/s eta 0:00:01\r\u001b[K     |██████████████████████▉         | 911 kB 8.3 MB/s eta 0:00:01\r\u001b[K     |███████████████████████         | 921 kB 8.3 MB/s eta 0:00:01\r\u001b[K     |███████████████████████▍        | 931 kB 8.3 MB/s eta 0:00:01\r\u001b[K     |███████████████████████▋        | 942 kB 8.3 MB/s eta 0:00:01\r\u001b[K     |███████████████████████▉        | 952 kB 8.3 MB/s eta 0:00:01\r\u001b[K     |████████████████████████▏       | 962 kB 8.3 MB/s eta 0:00:01\r\u001b[K     |████████████████████████▍       | 972 kB 8.3 MB/s eta 0:00:01\r\u001b[K     |████████████████████████▋       | 983 kB 8.3 MB/s eta 0:00:01\r\u001b[K     |█████████████████████████       | 993 kB 8.3 MB/s eta 0:00:01\r\u001b[K     |█████████████████████████▏      | 1.0 MB 8.3 MB/s eta 0:00:01\r\u001b[K     |█████████████████████████▍      | 1.0 MB 8.3 MB/s eta 0:00:01\r\u001b[K     |█████████████████████████▊      | 1.0 MB 8.3 MB/s eta 0:00:01\r\u001b[K     |██████████████████████████      | 1.0 MB 8.3 MB/s eta 0:00:01\r\u001b[K     |██████████████████████████▏     | 1.0 MB 8.3 MB/s eta 0:00:01\r\u001b[K     |██████████████████████████▍     | 1.1 MB 8.3 MB/s eta 0:00:01\r\u001b[K     |██████████████████████████▊     | 1.1 MB 8.3 MB/s eta 0:00:01\r\u001b[K     |███████████████████████████     | 1.1 MB 8.3 MB/s eta 0:00:01\r\u001b[K     |███████████████████████████▏    | 1.1 MB 8.3 MB/s eta 0:00:01\r\u001b[K     |███████████████████████████▌    | 1.1 MB 8.3 MB/s eta 0:00:01\r\u001b[K     |███████████████████████████▊    | 1.1 MB 8.3 MB/s eta 0:00:01\r\u001b[K     |████████████████████████████    | 1.1 MB 8.3 MB/s eta 0:00:01\r\u001b[K     |████████████████████████████▎   | 1.1 MB 8.3 MB/s eta 0:00:01\r\u001b[K     |████████████████████████████▌   | 1.1 MB 8.3 MB/s eta 0:00:01\r\u001b[K     |████████████████████████████▊   | 1.1 MB 8.3 MB/s eta 0:00:01\r\u001b[K     |█████████████████████████████   | 1.2 MB 8.3 MB/s eta 0:00:01\r\u001b[K     |█████████████████████████████▎  | 1.2 MB 8.3 MB/s eta 0:00:01\r\u001b[K     |█████████████████████████████▌  | 1.2 MB 8.3 MB/s eta 0:00:01\r\u001b[K     |█████████████████████████████▊  | 1.2 MB 8.3 MB/s eta 0:00:01\r\u001b[K     |██████████████████████████████  | 1.2 MB 8.3 MB/s eta 0:00:01\r\u001b[K     |██████████████████████████████▎ | 1.2 MB 8.3 MB/s eta 0:00:01\r\u001b[K     |██████████████████████████████▌ | 1.2 MB 8.3 MB/s eta 0:00:01\r\u001b[K     |██████████████████████████████▉ | 1.2 MB 8.3 MB/s eta 0:00:01\r\u001b[K     |███████████████████████████████ | 1.2 MB 8.3 MB/s eta 0:00:01\r\u001b[K     |███████████████████████████████▎| 1.2 MB 8.3 MB/s eta 0:00:01\r\u001b[K     |███████████████████████████████▋| 1.3 MB 8.3 MB/s eta 0:00:01\r\u001b[K     |███████████████████████████████▉| 1.3 MB 8.3 MB/s eta 0:00:01\r\u001b[K     |████████████████████████████████| 1.3 MB 8.3 MB/s \n",
            "\u001b[?25h"
          ]
        }
      ]
    },
    {
      "cell_type": "code",
      "source": [
        "!pip install -q transformers"
      ],
      "metadata": {
        "colab": {
          "base_uri": "https://localhost:8080/"
        },
        "id": "VCY3M3HqIHaK",
        "outputId": "31655cca-4f9d-49f7-e9c3-253c850f8359"
      },
      "execution_count": 4,
      "outputs": [
        {
          "output_type": "stream",
          "name": "stdout",
          "text": [
            "\u001b[K     |████████████████████████████████| 5.3 MB 7.6 MB/s \n",
            "\u001b[K     |████████████████████████████████| 7.6 MB 33.0 MB/s \n",
            "\u001b[K     |████████████████████████████████| 163 kB 36.8 MB/s \n",
            "\u001b[?25h"
          ]
        }
      ]
    },
    {
      "cell_type": "code",
      "execution_count": 5,
      "metadata": {
        "colab": {
          "base_uri": "https://localhost:8080/"
        },
        "id": "ctVIZnDxYjzo",
        "outputId": "9ab9fed7-ee28-423f-ab8b-f1aa034d6f9b"
      },
      "outputs": [
        {
          "output_type": "stream",
          "name": "stdout",
          "text": [
            "\u001b[K     |████████████████████████████████| 441 kB 9.5 MB/s \n",
            "\u001b[K     |████████████████████████████████| 115 kB 46.1 MB/s \n",
            "\u001b[K     |████████████████████████████████| 212 kB 11.2 MB/s \n",
            "\u001b[K     |████████████████████████████████| 127 kB 44.5 MB/s \n",
            "\u001b[?25h"
          ]
        }
      ],
      "source": [
        "!pip install -q datasets"
      ]
    },
    {
      "cell_type": "code",
      "execution_count": 6,
      "metadata": {
        "id": "c0U-ilwRYH1P"
      },
      "outputs": [],
      "source": [
        "from datasets import list_datasets, load_dataset_builder, get_dataset_config_names, load_dataset, load_from_disk"
      ]
    },
    {
      "cell_type": "code",
      "source": [
        "from transformers import T5Tokenizer, TFT5ForConditionalGeneration\n",
        "model = TFT5ForConditionalGeneration.from_pretrained(\"google/t5-v1_1-small\")\n",
        "tokenizer = T5Tokenizer.from_pretrained(\"google/t5-v1_1-small\")"
      ],
      "metadata": {
        "colab": {
          "base_uri": "https://localhost:8080/"
        },
        "id": "jDCY9oZNAoJb",
        "outputId": "4f7f032d-33cd-4eca-faa8-6ab9a7e42f84"
      },
      "execution_count": 90,
      "outputs": [
        {
          "output_type": "stream",
          "name": "stderr",
          "text": [
            "All model checkpoint layers were used when initializing TFT5ForConditionalGeneration.\n",
            "\n",
            "All the layers of TFT5ForConditionalGeneration were initialized from the model checkpoint at google/t5-v1_1-small.\n",
            "If your task is similar to the task the model of the checkpoint was trained on, you can already use TFT5ForConditionalGeneration for predictions without further training.\n"
          ]
        }
      ]
    },
    {
      "cell_type": "code",
      "execution_count": 8,
      "metadata": {
        "id": "fURMt0oOyVbI"
      },
      "outputs": [],
      "source": [
        "def summarize_dataset (dataset, config=None):\n",
        "    builder = load_dataset_builder(dataset, config)\n",
        "    pprint(f\"Description:\\n {builder.info.description}\")\n",
        "    print(f\"Features:\")\n",
        "    pprint(builder.info.features)\n",
        "    return"
      ]
    },
    {
      "cell_type": "markdown",
      "metadata": {
        "id": "KwnQKUy5hwqg"
      },
      "source": [
        "### SQuAD"
      ]
    },
    {
      "cell_type": "code",
      "execution_count": 9,
      "metadata": {
        "colab": {
          "base_uri": "https://localhost:8080/",
          "height": 130,
          "referenced_widgets": [
            "93d7e3b609f24607990e94ed9acb86e0",
            "f5a5afd9603f45b8bc20814a93f76918",
            "7218c19a97574aa0a3d5eb676b6c3be0",
            "1ce9f4d2923b4e8daf2c49ef55447f41",
            "3303e8878dfa4bad92380d7abcb5a239",
            "a4147feff7a54d749e036d07df2155b8",
            "be68e8c64ef044909f5a4eaef47be5ba",
            "e7f04b20f9524a84b7fccc1792d64cff",
            "879194dd4a23431d8e67d0c105c28466",
            "0a3203cf3af449968200d181d07f412d",
            "bf7c52e06d7d49da87af351844200846",
            "67206e6e00254422aa45bf7cb9d96385",
            "c90b89fdef544b61942dbfe297eb259d",
            "f31f1c2c4c684017a97654983c58e2f7",
            "cfb24043c68a445f8de7bf493a74261f",
            "e0185bfd6003477c99dfa910c322d241",
            "e0af9c1126244b709fe96cdf6397c798",
            "792ea090b07f4fc1b79ee9500411304b",
            "5d62ec289ac241bba9e79711f5e0a723",
            "4e7d8768cd984076abd331aeb634c2a8",
            "cd836ce64a604d829ee85260d2724fae",
            "1fb4cb00358a4f4085e5942b5e0f0f06",
            "62a5ba3216dc4c1aa270bc03e3264942",
            "287689fd4cf34c4abaf6d76f7952b72a",
            "ea2654dc5345402181a2369c49cb2125",
            "92c019ac808944e1bfa6648699a8ddb7",
            "cd50ccd201c542e194558a00278efa15",
            "5cb5df33743642bb95cde5fb11ce875d",
            "134b23d944524ab6bbd44927a30d688d",
            "28c1bf5a887644b7b7b9f78eb6bfa71f",
            "4e0aa9f7c94e4c6fb090dd38ca202cc7",
            "d777348ae194485b812837c851dbb77a",
            "a465fc650236478baedd66ab295f7bc3"
          ]
        },
        "id": "_rlPGyypyVbJ",
        "outputId": "c726d36e-2108-4771-f6d7-0b8425ee462a"
      },
      "outputs": [
        {
          "output_type": "display_data",
          "data": {
            "text/plain": [
              "Downloading builder script:   0%|          | 0.00/5.27k [00:00<?, ?B/s]"
            ],
            "application/vnd.jupyter.widget-view+json": {
              "version_major": 2,
              "version_minor": 0,
              "model_id": "93d7e3b609f24607990e94ed9acb86e0"
            }
          },
          "metadata": {}
        },
        {
          "output_type": "display_data",
          "data": {
            "text/plain": [
              "Downloading metadata:   0%|          | 0.00/2.36k [00:00<?, ?B/s]"
            ],
            "application/vnd.jupyter.widget-view+json": {
              "version_major": 2,
              "version_minor": 0,
              "model_id": "67206e6e00254422aa45bf7cb9d96385"
            }
          },
          "metadata": {}
        },
        {
          "output_type": "display_data",
          "data": {
            "text/plain": [
              "Downloading readme:   0%|          | 0.00/7.17k [00:00<?, ?B/s]"
            ],
            "application/vnd.jupyter.widget-view+json": {
              "version_major": 2,
              "version_minor": 0,
              "model_id": "62a5ba3216dc4c1aa270bc03e3264942"
            }
          },
          "metadata": {}
        },
        {
          "output_type": "stream",
          "name": "stdout",
          "text": [
            "['plain_text']\n"
          ]
        }
      ],
      "source": [
        "print (get_dataset_config_names(\"squad\"))"
      ]
    },
    {
      "cell_type": "code",
      "execution_count": 10,
      "metadata": {
        "colab": {
          "base_uri": "https://localhost:8080/"
        },
        "id": "8xiwmqM2yVbJ",
        "outputId": "21834ef0-268c-4bef-b52d-3e4f6c66b942"
      },
      "outputs": [
        {
          "output_type": "stream",
          "name": "stdout",
          "text": [
            "('Description:\\n'\n",
            " ' Stanford Question Answering Dataset (SQuAD) is a reading comprehension '\n",
            " 'dataset, consisting of questions posed by crowdworkers on a set of Wikipedia '\n",
            " 'articles, where the answer to every question is a segment of text, or span, '\n",
            " 'from the corresponding reading passage, or the question might be '\n",
            " 'unanswerable.\\n')\n",
            "Features:\n",
            "{'answers': Sequence(feature={'text': Value(dtype='string', id=None), 'answer_start': Value(dtype='int32', id=None)}, length=-1, id=None),\n",
            " 'context': Value(dtype='string', id=None),\n",
            " 'id': Value(dtype='string', id=None),\n",
            " 'question': Value(dtype='string', id=None),\n",
            " 'title': Value(dtype='string', id=None)}\n"
          ]
        }
      ],
      "source": [
        "summarize_dataset(\"squad\")"
      ]
    },
    {
      "cell_type": "code",
      "execution_count": 11,
      "metadata": {
        "id": "gfgYoNO_hLvh"
      },
      "outputs": [],
      "source": [
        "# SQuAD is quick to download from Hugging Face\n",
        "# Use the code below if you aren't accessing the data from the shared\n",
        "# Google Drive folder.\n",
        "\n",
        "# data_squad = load_dataset(\"squad\")\n",
        "\n",
        "# The followind code assumes you have added a link to the shared \n",
        "# w266 NLP Final Project folder in your Google Drive folder\n",
        "# Loading data from there is faster.\n",
        "\n",
        "data_squad = load_from_disk(\"/content/drive/MyDrive/w266 NLP Final Project/Data/squad.hf\")"
      ]
    },
    {
      "cell_type": "code",
      "execution_count": 12,
      "metadata": {
        "colab": {
          "base_uri": "https://localhost:8080/"
        },
        "id": "UIQ5-rH4-020",
        "outputId": "eddeaaa5-a93a-42a0-e080-c114427e4bc6"
      },
      "outputs": [
        {
          "output_type": "execute_result",
          "data": {
            "text/plain": [
              "datasets.dataset_dict.DatasetDict"
            ]
          },
          "metadata": {},
          "execution_count": 12
        }
      ],
      "source": [
        "(type (data_squad))"
      ]
    },
    {
      "cell_type": "code",
      "execution_count": 13,
      "metadata": {
        "id": "f5mfEh20-1CT"
      },
      "outputs": [],
      "source": [
        "# data_squad.save_to_disk(\"/content/drive/MyDrive/w266 NLP Final Project/Data/squad.hf\")"
      ]
    },
    {
      "cell_type": "markdown",
      "metadata": {
        "id": "kS_IWealiE0I"
      },
      "source": [
        "## Getting Familiar"
      ]
    },
    {
      "cell_type": "markdown",
      "metadata": {
        "id": "FVx79HnxiIFk"
      },
      "source": [
        "### SQuAD"
      ]
    },
    {
      "cell_type": "code",
      "execution_count": 14,
      "metadata": {
        "colab": {
          "base_uri": "https://localhost:8080/"
        },
        "id": "bGaLqmq5iKx3",
        "outputId": "2e71cdfe-31a2-45df-df24-05a1f46e6a3b"
      },
      "outputs": [
        {
          "output_type": "execute_result",
          "data": {
            "text/plain": [
              "DatasetDict({\n",
              "    train: Dataset({\n",
              "        features: ['id', 'title', 'context', 'question', 'answers'],\n",
              "        num_rows: 87599\n",
              "    })\n",
              "    validation: Dataset({\n",
              "        features: ['id', 'title', 'context', 'question', 'answers'],\n",
              "        num_rows: 10570\n",
              "    })\n",
              "})"
            ]
          },
          "metadata": {},
          "execution_count": 14
        }
      ],
      "source": [
        "data_squad"
      ]
    },
    {
      "cell_type": "code",
      "execution_count": 15,
      "metadata": {
        "colab": {
          "base_uri": "https://localhost:8080/"
        },
        "id": "LOhCAEZgiM5U",
        "outputId": "2e0fbc44-027b-41e7-f58b-7b3252edc73b"
      },
      "outputs": [
        {
          "output_type": "execute_result",
          "data": {
            "text/plain": [
              "{'id': Value(dtype='string', id=None),\n",
              " 'title': Value(dtype='string', id=None),\n",
              " 'context': Value(dtype='string', id=None),\n",
              " 'question': Value(dtype='string', id=None),\n",
              " 'answers': Sequence(feature={'text': Value(dtype='string', id=None), 'answer_start': Value(dtype='int32', id=None)}, length=-1, id=None)}"
            ]
          },
          "metadata": {},
          "execution_count": 15
        }
      ],
      "source": [
        "data_squad['train'].info.features"
      ]
    },
    {
      "cell_type": "code",
      "execution_count": 16,
      "metadata": {
        "colab": {
          "base_uri": "https://localhost:8080/"
        },
        "id": "zoHj5HKiZVeI",
        "outputId": "32f65c4b-d044-4bf2-8894-b3f34efb7595"
      },
      "outputs": [
        {
          "output_type": "stream",
          "name": "stdout",
          "text": [
            "{'answers': {'answer_start': [515], 'text': ['Saint Bernadette Soubirous']},\n",
            " 'context': 'Architecturally, the school has a Catholic character. Atop the '\n",
            "            \"Main Building's gold dome is a golden statue of the Virgin Mary. \"\n",
            "            'Immediately in front of the Main Building and facing it, is a '\n",
            "            'copper statue of Christ with arms upraised with the legend '\n",
            "            '\"Venite Ad Me Omnes\". Next to the Main Building is the Basilica '\n",
            "            'of the Sacred Heart. Immediately behind the basilica is the '\n",
            "            'Grotto, a Marian place of prayer and reflection. It is a replica '\n",
            "            'of the grotto at Lourdes, France where the Virgin Mary reputedly '\n",
            "            'appeared to Saint Bernadette Soubirous in 1858. At the end of the '\n",
            "            'main drive (and in a direct line that connects through 3 statues '\n",
            "            'and the Gold Dome), is a simple, modern stone statue of Mary.',\n",
            " 'id': '5733be284776f41900661182',\n",
            " 'question': 'To whom did the Virgin Mary allegedly appear in 1858 in Lourdes '\n",
            "             'France?',\n",
            " 'title': 'University_of_Notre_Dame'}\n"
          ]
        }
      ],
      "source": [
        "# Look at first example\n",
        "pprint(data_squad['train'][0])"
      ]
    },
    {
      "cell_type": "code",
      "execution_count": 17,
      "metadata": {
        "colab": {
          "base_uri": "https://localhost:8080/"
        },
        "id": "J3_Gt2PYokcF",
        "outputId": "e0ba036b-0f10-4049-fffe-6805920bd7ee"
      },
      "outputs": [
        {
          "output_type": "stream",
          "name": "stderr",
          "text": [
            "WARNING:datasets.arrow_dataset:Loading cached shuffled indices for dataset at /content/drive/MyDrive/w266 NLP Final Project/Data/squad.hf/train/cache-8ab9b6302b91254a.arrow\n"
          ]
        }
      ],
      "source": [
        "# Shuffle the dataset and take a handful of examples\n",
        "\n",
        "count=25\n",
        "sample=data_squad['train'].shuffle(seed=1962).select(range(count))\n",
        "df=pd.DataFrame()\n",
        "df['answer'] = [answer['text'][0] for answer in sample['answers']]\n",
        "df['context'] = sample['context']\n",
        "df['question'] = sample['question']"
      ]
    },
    {
      "cell_type": "code",
      "execution_count": 18,
      "metadata": {
        "colab": {
          "base_uri": "https://localhost:8080/",
          "height": 2332
        },
        "id": "1VHLGgZh7Znc",
        "outputId": "0e7fc8c2-6c3c-42f6-c71d-d62be7b24450"
      },
      "outputs": [
        {
          "output_type": "execute_result",
          "data": {
            "text/plain": [
              "                                     answer  \\\n",
              "0                         biotech companies   \n",
              "1                       Tytus Woyciechowski   \n",
              "2          the Endangered Species Committee   \n",
              "3                                     China   \n",
              "4                                  45 years   \n",
              "5      Cold War, First Gulf War, Kosovo War   \n",
              "6                                    Buddha   \n",
              "7                                      9.3%   \n",
              "8                             Improvisation   \n",
              "9                                      1861   \n",
              "10                                      40%   \n",
              "11         Event-based prospective memories   \n",
              "12                     dragonfly-like forms   \n",
              "13             the Shijing or Book of Songs   \n",
              "14                        Olympic Peninsula   \n",
              "15  transported along the canals and rivers   \n",
              "16                               base alone   \n",
              "17                                1031–1095   \n",
              "18                               Mechanical   \n",
              "19                          The Lamb of God   \n",
              "20                                     2.79   \n",
              "21                                    urban   \n",
              "22                                  parents   \n",
              "23       the proper aim point automatically   \n",
              "24                        Tarsus of Cilicia   \n",
              "\n",
              "                                              context  \\\n",
              "0   Prior to moving its headquarters to Chicago, a...   \n",
              "1   Four boarders at his parents' apartments becam...   \n",
              "2   The question to be answered is whether a liste...   \n",
              "3   In Asian countries such as China, Korea, and J...   \n",
              "4   Saint Athanasius of Alexandria (/ˌæθəˈneɪʃəs/;...   \n",
              "5   Since 1947, Canadian military units have parti...   \n",
              "6   Tibet has various festivals that are commonly ...   \n",
              "7   From 2001 to 2008, Mac sales increased continu...   \n",
              "8   Improvisation stands at the centre of Chopin's...   \n",
              "9   Alfred North Whitehead was born in Ramsgate, K...   \n",
              "10  While Southeast Asia is rich in flora and faun...   \n",
              "11  Another major way to distinguish different mem...   \n",
              "12  Late Carboniferous and Early Permian insect or...   \n",
              "13  As a more urban culture developed, academies p...   \n",
              "14  Seattle is located between the saltwater Puget...   \n",
              "15  By the time of the Uruk period (c. 4100–2900 B...   \n",
              "16  Thermally, a temperate glacier is at melting p...   \n",
              "17  There are many notable contributors to the fie...   \n",
              "18  Two assumptions underpinned the British approa...   \n",
              "19  In Johannine \"agent Christology\" the submissio...   \n",
              "20  There were 46,917 households, out of which 7,8...   \n",
              "21  The Baker v. Carr (1962) decision of the US Su...   \n",
              "22  Home-based manufacturing operations were activ...   \n",
              "23  The solution was automation, in the form of a ...   \n",
              "24  In 1045, the Byzantine Empire conquered Bagrat...   \n",
              "\n",
              "                                             question  \n",
              "0   What type of businesses did Nickles want to at...  \n",
              "1   To whom did Chopin reveal in letters which par...  \n",
              "2   If a species may be harmed, who holds final sa...  \n",
              "3   What country has the dog as part of its 12 ani...  \n",
              "4                   How long did his episcopate last?  \n",
              "5   What are some of the wars the Canadian Militar...  \n",
              "6   What is worshipped during Tibet's various fest...  \n",
              "7   What was Apples market share of all computer s...  \n",
              "8                What is central to Chopin's process?  \n",
              "9                       What year was Whitehead born?  \n",
              "10  What percentage of plant and animal species ex...  \n",
              "11  If Bob realized he needed to mail his mother a...  \n",
              "12      What kind of giant insect form had wingspans?  \n",
              "13  What is an example of a collection of classic ...  \n",
              "14             What land area is west of Puget Sound?  \n",
              "15  How were trade goods transported in southern M...  \n",
              "16  From where is the temperature of a glacier mea...  \n",
              "17                           When was Shen Kuo alive?  \n",
              "18                    What kind of fuses were needed?  \n",
              "19              What is another name for Jesus given?  \n",
              "20            What was the total average family size?  \n",
              "21  Which type of geographical district became mor...  \n",
              "22                  Who did the children work beside?  \n",
              "23  What did the Predictor calculate after it was ...  \n",
              "24                      Where did Roupen find refuge?  "
            ],
            "text/html": [
              "\n",
              "  <div id=\"df-3d80bf84-f84f-4d3d-ae7b-f8b37c0f0eb7\">\n",
              "    <div class=\"colab-df-container\">\n",
              "      <div>\n",
              "<style scoped>\n",
              "    .dataframe tbody tr th:only-of-type {\n",
              "        vertical-align: middle;\n",
              "    }\n",
              "\n",
              "    .dataframe tbody tr th {\n",
              "        vertical-align: top;\n",
              "    }\n",
              "\n",
              "    .dataframe thead th {\n",
              "        text-align: right;\n",
              "    }\n",
              "</style>\n",
              "<table border=\"1\" class=\"dataframe\">\n",
              "  <thead>\n",
              "    <tr style=\"text-align: right;\">\n",
              "      <th></th>\n",
              "      <th>answer</th>\n",
              "      <th>context</th>\n",
              "      <th>question</th>\n",
              "    </tr>\n",
              "  </thead>\n",
              "  <tbody>\n",
              "    <tr>\n",
              "      <th>0</th>\n",
              "      <td>biotech companies</td>\n",
              "      <td>Prior to moving its headquarters to Chicago, a...</td>\n",
              "      <td>What type of businesses did Nickles want to at...</td>\n",
              "    </tr>\n",
              "    <tr>\n",
              "      <th>1</th>\n",
              "      <td>Tytus Woyciechowski</td>\n",
              "      <td>Four boarders at his parents' apartments becam...</td>\n",
              "      <td>To whom did Chopin reveal in letters which par...</td>\n",
              "    </tr>\n",
              "    <tr>\n",
              "      <th>2</th>\n",
              "      <td>the Endangered Species Committee</td>\n",
              "      <td>The question to be answered is whether a liste...</td>\n",
              "      <td>If a species may be harmed, who holds final sa...</td>\n",
              "    </tr>\n",
              "    <tr>\n",
              "      <th>3</th>\n",
              "      <td>China</td>\n",
              "      <td>In Asian countries such as China, Korea, and J...</td>\n",
              "      <td>What country has the dog as part of its 12 ani...</td>\n",
              "    </tr>\n",
              "    <tr>\n",
              "      <th>4</th>\n",
              "      <td>45 years</td>\n",
              "      <td>Saint Athanasius of Alexandria (/ˌæθəˈneɪʃəs/;...</td>\n",
              "      <td>How long did his episcopate last?</td>\n",
              "    </tr>\n",
              "    <tr>\n",
              "      <th>5</th>\n",
              "      <td>Cold War, First Gulf War, Kosovo War</td>\n",
              "      <td>Since 1947, Canadian military units have parti...</td>\n",
              "      <td>What are some of the wars the Canadian Militar...</td>\n",
              "    </tr>\n",
              "    <tr>\n",
              "      <th>6</th>\n",
              "      <td>Buddha</td>\n",
              "      <td>Tibet has various festivals that are commonly ...</td>\n",
              "      <td>What is worshipped during Tibet's various fest...</td>\n",
              "    </tr>\n",
              "    <tr>\n",
              "      <th>7</th>\n",
              "      <td>9.3%</td>\n",
              "      <td>From 2001 to 2008, Mac sales increased continu...</td>\n",
              "      <td>What was Apples market share of all computer s...</td>\n",
              "    </tr>\n",
              "    <tr>\n",
              "      <th>8</th>\n",
              "      <td>Improvisation</td>\n",
              "      <td>Improvisation stands at the centre of Chopin's...</td>\n",
              "      <td>What is central to Chopin's process?</td>\n",
              "    </tr>\n",
              "    <tr>\n",
              "      <th>9</th>\n",
              "      <td>1861</td>\n",
              "      <td>Alfred North Whitehead was born in Ramsgate, K...</td>\n",
              "      <td>What year was Whitehead born?</td>\n",
              "    </tr>\n",
              "    <tr>\n",
              "      <th>10</th>\n",
              "      <td>40%</td>\n",
              "      <td>While Southeast Asia is rich in flora and faun...</td>\n",
              "      <td>What percentage of plant and animal species ex...</td>\n",
              "    </tr>\n",
              "    <tr>\n",
              "      <th>11</th>\n",
              "      <td>Event-based prospective memories</td>\n",
              "      <td>Another major way to distinguish different mem...</td>\n",
              "      <td>If Bob realized he needed to mail his mother a...</td>\n",
              "    </tr>\n",
              "    <tr>\n",
              "      <th>12</th>\n",
              "      <td>dragonfly-like forms</td>\n",
              "      <td>Late Carboniferous and Early Permian insect or...</td>\n",
              "      <td>What kind of giant insect form had wingspans?</td>\n",
              "    </tr>\n",
              "    <tr>\n",
              "      <th>13</th>\n",
              "      <td>the Shijing or Book of Songs</td>\n",
              "      <td>As a more urban culture developed, academies p...</td>\n",
              "      <td>What is an example of a collection of classic ...</td>\n",
              "    </tr>\n",
              "    <tr>\n",
              "      <th>14</th>\n",
              "      <td>Olympic Peninsula</td>\n",
              "      <td>Seattle is located between the saltwater Puget...</td>\n",
              "      <td>What land area is west of Puget Sound?</td>\n",
              "    </tr>\n",
              "    <tr>\n",
              "      <th>15</th>\n",
              "      <td>transported along the canals and rivers</td>\n",
              "      <td>By the time of the Uruk period (c. 4100–2900 B...</td>\n",
              "      <td>How were trade goods transported in southern M...</td>\n",
              "    </tr>\n",
              "    <tr>\n",
              "      <th>16</th>\n",
              "      <td>base alone</td>\n",
              "      <td>Thermally, a temperate glacier is at melting p...</td>\n",
              "      <td>From where is the temperature of a glacier mea...</td>\n",
              "    </tr>\n",
              "    <tr>\n",
              "      <th>17</th>\n",
              "      <td>1031–1095</td>\n",
              "      <td>There are many notable contributors to the fie...</td>\n",
              "      <td>When was Shen Kuo alive?</td>\n",
              "    </tr>\n",
              "    <tr>\n",
              "      <th>18</th>\n",
              "      <td>Mechanical</td>\n",
              "      <td>Two assumptions underpinned the British approa...</td>\n",
              "      <td>What kind of fuses were needed?</td>\n",
              "    </tr>\n",
              "    <tr>\n",
              "      <th>19</th>\n",
              "      <td>The Lamb of God</td>\n",
              "      <td>In Johannine \"agent Christology\" the submissio...</td>\n",
              "      <td>What is another name for Jesus given?</td>\n",
              "    </tr>\n",
              "    <tr>\n",
              "      <th>20</th>\n",
              "      <td>2.79</td>\n",
              "      <td>There were 46,917 households, out of which 7,8...</td>\n",
              "      <td>What was the total average family size?</td>\n",
              "    </tr>\n",
              "    <tr>\n",
              "      <th>21</th>\n",
              "      <td>urban</td>\n",
              "      <td>The Baker v. Carr (1962) decision of the US Su...</td>\n",
              "      <td>Which type of geographical district became mor...</td>\n",
              "    </tr>\n",
              "    <tr>\n",
              "      <th>22</th>\n",
              "      <td>parents</td>\n",
              "      <td>Home-based manufacturing operations were activ...</td>\n",
              "      <td>Who did the children work beside?</td>\n",
              "    </tr>\n",
              "    <tr>\n",
              "      <th>23</th>\n",
              "      <td>the proper aim point automatically</td>\n",
              "      <td>The solution was automation, in the form of a ...</td>\n",
              "      <td>What did the Predictor calculate after it was ...</td>\n",
              "    </tr>\n",
              "    <tr>\n",
              "      <th>24</th>\n",
              "      <td>Tarsus of Cilicia</td>\n",
              "      <td>In 1045, the Byzantine Empire conquered Bagrat...</td>\n",
              "      <td>Where did Roupen find refuge?</td>\n",
              "    </tr>\n",
              "  </tbody>\n",
              "</table>\n",
              "</div>\n",
              "      <button class=\"colab-df-convert\" onclick=\"convertToInteractive('df-3d80bf84-f84f-4d3d-ae7b-f8b37c0f0eb7')\"\n",
              "              title=\"Convert this dataframe to an interactive table.\"\n",
              "              style=\"display:none;\">\n",
              "        \n",
              "  <svg xmlns=\"http://www.w3.org/2000/svg\" height=\"24px\"viewBox=\"0 0 24 24\"\n",
              "       width=\"24px\">\n",
              "    <path d=\"M0 0h24v24H0V0z\" fill=\"none\"/>\n",
              "    <path d=\"M18.56 5.44l.94 2.06.94-2.06 2.06-.94-2.06-.94-.94-2.06-.94 2.06-2.06.94zm-11 1L8.5 8.5l.94-2.06 2.06-.94-2.06-.94L8.5 2.5l-.94 2.06-2.06.94zm10 10l.94 2.06.94-2.06 2.06-.94-2.06-.94-.94-2.06-.94 2.06-2.06.94z\"/><path d=\"M17.41 7.96l-1.37-1.37c-.4-.4-.92-.59-1.43-.59-.52 0-1.04.2-1.43.59L10.3 9.45l-7.72 7.72c-.78.78-.78 2.05 0 2.83L4 21.41c.39.39.9.59 1.41.59.51 0 1.02-.2 1.41-.59l7.78-7.78 2.81-2.81c.8-.78.8-2.07 0-2.86zM5.41 20L4 18.59l7.72-7.72 1.47 1.35L5.41 20z\"/>\n",
              "  </svg>\n",
              "      </button>\n",
              "      \n",
              "  <style>\n",
              "    .colab-df-container {\n",
              "      display:flex;\n",
              "      flex-wrap:wrap;\n",
              "      gap: 12px;\n",
              "    }\n",
              "\n",
              "    .colab-df-convert {\n",
              "      background-color: #E8F0FE;\n",
              "      border: none;\n",
              "      border-radius: 50%;\n",
              "      cursor: pointer;\n",
              "      display: none;\n",
              "      fill: #1967D2;\n",
              "      height: 32px;\n",
              "      padding: 0 0 0 0;\n",
              "      width: 32px;\n",
              "    }\n",
              "\n",
              "    .colab-df-convert:hover {\n",
              "      background-color: #E2EBFA;\n",
              "      box-shadow: 0px 1px 2px rgba(60, 64, 67, 0.3), 0px 1px 3px 1px rgba(60, 64, 67, 0.15);\n",
              "      fill: #174EA6;\n",
              "    }\n",
              "\n",
              "    [theme=dark] .colab-df-convert {\n",
              "      background-color: #3B4455;\n",
              "      fill: #D2E3FC;\n",
              "    }\n",
              "\n",
              "    [theme=dark] .colab-df-convert:hover {\n",
              "      background-color: #434B5C;\n",
              "      box-shadow: 0px 1px 3px 1px rgba(0, 0, 0, 0.15);\n",
              "      filter: drop-shadow(0px 1px 2px rgba(0, 0, 0, 0.3));\n",
              "      fill: #FFFFFF;\n",
              "    }\n",
              "  </style>\n",
              "\n",
              "      <script>\n",
              "        const buttonEl =\n",
              "          document.querySelector('#df-3d80bf84-f84f-4d3d-ae7b-f8b37c0f0eb7 button.colab-df-convert');\n",
              "        buttonEl.style.display =\n",
              "          google.colab.kernel.accessAllowed ? 'block' : 'none';\n",
              "\n",
              "        async function convertToInteractive(key) {\n",
              "          const element = document.querySelector('#df-3d80bf84-f84f-4d3d-ae7b-f8b37c0f0eb7');\n",
              "          const dataTable =\n",
              "            await google.colab.kernel.invokeFunction('convertToInteractive',\n",
              "                                                     [key], {});\n",
              "          if (!dataTable) return;\n",
              "\n",
              "          const docLinkHtml = 'Like what you see? Visit the ' +\n",
              "            '<a target=\"_blank\" href=https://colab.research.google.com/notebooks/data_table.ipynb>data table notebook</a>'\n",
              "            + ' to learn more about interactive tables.';\n",
              "          element.innerHTML = '';\n",
              "          dataTable['output_type'] = 'display_data';\n",
              "          await google.colab.output.renderOutput(dataTable, element);\n",
              "          const docLink = document.createElement('div');\n",
              "          docLink.innerHTML = docLinkHtml;\n",
              "          element.appendChild(docLink);\n",
              "        }\n",
              "      </script>\n",
              "    </div>\n",
              "  </div>\n",
              "  "
            ]
          },
          "metadata": {},
          "execution_count": 18
        }
      ],
      "source": [
        "df"
      ]
    },
    {
      "cell_type": "code",
      "source": [
        "model.summary()"
      ],
      "metadata": {
        "colab": {
          "base_uri": "https://localhost:8080/"
        },
        "id": "qUsCgO0JJ8zF",
        "outputId": "60795b03-33d3-4b90-b24b-6d509639fbc4"
      },
      "execution_count": 19,
      "outputs": [
        {
          "output_type": "stream",
          "name": "stdout",
          "text": [
            "Model: \"tft5_for_conditional_generation\"\n",
            "_________________________________________________________________\n",
            " Layer (type)                Output Shape              Param #   \n",
            "=================================================================\n",
            " shared (TFSharedEmbeddings)  multiple                 16449536  \n",
            "                                                                 \n",
            " encoder (TFT5MainLayer)     multiple                  18883264  \n",
            "                                                                 \n",
            " decoder (TFT5MainLayer)     multiple                  25178816  \n",
            "                                                                 \n",
            " lm_head (Dense)             multiple                  16449536  \n",
            "                                                                 \n",
            "=================================================================\n",
            "Total params: 76,961,152\n",
            "Trainable params: 76,961,152\n",
            "Non-trainable params: 0\n",
            "_________________________________________________________________\n"
          ]
        }
      ]
    },
    {
      "cell_type": "code",
      "source": [
        "answer = df.answer[0]\n",
        "context = df.context[0]\n",
        "task = \"qg\"\n",
        "\n",
        "input_string = f\"{task} answer: {answer} </s> context: {context}\"\n",
        "\n",
        "target_string = df.question[0]"
      ],
      "metadata": {
        "id": "wzEhMLyBJ-hI"
      },
      "execution_count": 111,
      "outputs": []
    },
    {
      "cell_type": "code",
      "source": [
        "input_string"
      ],
      "metadata": {
        "colab": {
          "base_uri": "https://localhost:8080/",
          "height": 140
        },
        "id": "V881Z6hKMYah",
        "outputId": "808c565f-e9b6-4fe8-98c6-0baac0dc9fbd"
      },
      "execution_count": 112,
      "outputs": [
        {
          "output_type": "execute_result",
          "data": {
            "text/plain": [
              "\"qg answer: biotech companies </s> context: Prior to moving its headquarters to Chicago, aerospace manufacturer Boeing (#30) was the largest company based in Seattle. Its largest division is still headquartered in nearby Renton, and the company has large aircraft manufacturing plants in Everett and Renton, so it remains the largest private employer in the Seattle metropolitan area. Former Seattle Mayor Greg Nickels announced a desire to spark a new economic boom driven by the biotechnology industry in 2006. Major redevelopment of the South Lake Union neighborhood is underway, in an effort to attract new and established biotech companies to the city, joining biotech companies Corixa (acquired by GlaxoSmithKline), Immunex (now part of Amgen), Trubion, and ZymoGenetics. Vulcan Inc., the holding company of billionaire Paul Allen, is behind most of the development projects in the region. While some see the new development as an economic boon, others have criticized Nickels and the Seattle City Council for pandering to Allen's interests at taxpayers' expense. Also in 2006, Expansion Magazine ranked Seattle among the top 10 metropolitan areas in the nation for climates favorable to business expansion. In 2005, Forbes ranked Seattle as the most expensive American city for buying a house based on the local income levels. In 2013, however, the magazine ranked Seattle No. 9 on its list of the Best Places for Business and Careers.\""
            ],
            "application/vnd.google.colaboratory.intrinsic+json": {
              "type": "string"
            }
          },
          "metadata": {},
          "execution_count": 112
        }
      ]
    },
    {
      "cell_type": "code",
      "source": [
        "target_string"
      ],
      "metadata": {
        "colab": {
          "base_uri": "https://localhost:8080/",
          "height": 35
        },
        "id": "3tO9XdfHOT9C",
        "outputId": "dd743479-4e16-45e3-f916-b24b8f952852"
      },
      "execution_count": 113,
      "outputs": [
        {
          "output_type": "execute_result",
          "data": {
            "text/plain": [
              "'What type of businesses did Nickles want to attract to Seattle?'"
            ],
            "application/vnd.google.colaboratory.intrinsic+json": {
              "type": "string"
            }
          },
          "metadata": {},
          "execution_count": 113
        }
      ]
    },
    {
      "cell_type": "code",
      "source": [
        "inputs = tokenizer(input_string, max_length=1024, truncation=True, return_tensors=\"tf\")"
      ],
      "metadata": {
        "id": "CMIhlLSYMZjY"
      },
      "execution_count": 114,
      "outputs": []
    },
    {
      "cell_type": "code",
      "source": [
        "inputs"
      ],
      "metadata": {
        "colab": {
          "base_uri": "https://localhost:8080/"
        },
        "id": "LhWAqmJxOfMj",
        "outputId": "2fd1f541-1364-482b-f5a1-7c3b894c0684"
      },
      "execution_count": 115,
      "outputs": [
        {
          "output_type": "execute_result",
          "data": {
            "text/plain": [
              "{'input_ids': <tf.Tensor: shape=(1, 318), dtype=int32, numpy=\n",
              "array([[    3,  1824,   122,  1525,    10,  2392,  3470,   688,     1,\n",
              "         2625,    10,  6783,    12,  1735,   165, 13767,    12,  3715,\n",
              "            6, 28674,  4818, 21430,    41,  4663,  1458,    61,    47,\n",
              "            8,  2015,   349,     3,   390,    16,  8854,     5,    94,\n",
              "            7,  2015,  4889,    19,   341,     3, 27630,    16,  4676,\n",
              "         9405,   106,     6,    11,     8,   349,    65,   508,  6442,\n",
              "         3732,  2677,    16,  6381,    15,    17,    17,    11,  9405,\n",
              "          106,     6,    78,    34,  3048,     8,  2015,  1045,  6152,\n",
              "           16,     8,  8854, 25233,   616,     5, 18263,  8854, 12394,\n",
              "        11859, 29005,     7,  2162,     3,     9,  3667,    12, 13233,\n",
              "            3,     9,   126,  1456, 13997,  6737,    57,     8,  2392,\n",
              "        18485,   681,    16, 15066,  9236,     3,    60, 19677,    13,\n",
              "            8,  1013,  2154,  3545,  5353,    19, 18953,     6,    16,\n",
              "           46,  1941,    12,  5521,   126,    11,  2127,  2392,  3470,\n",
              "          688,    12,     8,   690,     6,  6109,  2392,  3470,   688,\n",
              "         2487,  2407,     9,    41,     9,    75,  1169,  1271,    57,\n",
              "        10941,   226,    32, 30077,   439,   747,   201, 18502,   994,\n",
              "           41,  7651,   294,    13,   736,   729,   201,  7953,  6420,\n",
              "           29,     6,    11,  1027,    63,    51,    32, 13714,  7578,\n",
              "            7,     5,   584,    83,  1608,  1542,     5,     6,     8,\n",
              "         3609,   349,    13,  2108,  2378,  1838, 10618,     6,    19,\n",
              "         1187,   167,    13,     8,   606,  1195,    16,     8,  1719,\n",
              "            5,   818,   128,   217,     8,   126,   606,    38,    46,\n",
              "         1456,  3005,   106,     6,   717,    43,     3, 27624, 29005,\n",
              "            7,    11,     8,  8854,   896,  2063,    21,  2131,   588,\n",
              "           53,    12, 10618,    31,     7,  3984,    44, 15375,     7,\n",
              "           31,  8225,     5,  1203,    16,  3581,     6,  1881,  2837,\n",
              "         1938,  8336,     3,  8232,  8854,   859,     8,   420,   335,\n",
              "        25233,   844,    16,     8,  2982,    21,  3298,     7, 15229,\n",
              "           12,   268,  5919,     5,    86,  3105,     6, 24852,     3,\n",
              "         8232,  8854,    38,     8,   167,  2881,   797,   690,    21,\n",
              "         2611,     3,     9,   629,     3,   390,    30,     8,   415,\n",
              "         2055,  1425,     5,    86,  7218,   983,     6,     8,  3835,\n",
              "            3,  8232,  8854,   465,     5,   668,    30,   165,   570,\n",
              "           13,     8,  1648,  3399,     7,    21,  1769,    11, 15151,\n",
              "            7,     5,     1]], dtype=int32)>, 'attention_mask': <tf.Tensor: shape=(1, 318), dtype=int32, numpy=\n",
              "array([[1, 1, 1, 1, 1, 1, 1, 1, 1, 1, 1, 1, 1, 1, 1, 1, 1, 1, 1, 1, 1, 1,\n",
              "        1, 1, 1, 1, 1, 1, 1, 1, 1, 1, 1, 1, 1, 1, 1, 1, 1, 1, 1, 1, 1, 1,\n",
              "        1, 1, 1, 1, 1, 1, 1, 1, 1, 1, 1, 1, 1, 1, 1, 1, 1, 1, 1, 1, 1, 1,\n",
              "        1, 1, 1, 1, 1, 1, 1, 1, 1, 1, 1, 1, 1, 1, 1, 1, 1, 1, 1, 1, 1, 1,\n",
              "        1, 1, 1, 1, 1, 1, 1, 1, 1, 1, 1, 1, 1, 1, 1, 1, 1, 1, 1, 1, 1, 1,\n",
              "        1, 1, 1, 1, 1, 1, 1, 1, 1, 1, 1, 1, 1, 1, 1, 1, 1, 1, 1, 1, 1, 1,\n",
              "        1, 1, 1, 1, 1, 1, 1, 1, 1, 1, 1, 1, 1, 1, 1, 1, 1, 1, 1, 1, 1, 1,\n",
              "        1, 1, 1, 1, 1, 1, 1, 1, 1, 1, 1, 1, 1, 1, 1, 1, 1, 1, 1, 1, 1, 1,\n",
              "        1, 1, 1, 1, 1, 1, 1, 1, 1, 1, 1, 1, 1, 1, 1, 1, 1, 1, 1, 1, 1, 1,\n",
              "        1, 1, 1, 1, 1, 1, 1, 1, 1, 1, 1, 1, 1, 1, 1, 1, 1, 1, 1, 1, 1, 1,\n",
              "        1, 1, 1, 1, 1, 1, 1, 1, 1, 1, 1, 1, 1, 1, 1, 1, 1, 1, 1, 1, 1, 1,\n",
              "        1, 1, 1, 1, 1, 1, 1, 1, 1, 1, 1, 1, 1, 1, 1, 1, 1, 1, 1, 1, 1, 1,\n",
              "        1, 1, 1, 1, 1, 1, 1, 1, 1, 1, 1, 1, 1, 1, 1, 1, 1, 1, 1, 1, 1, 1,\n",
              "        1, 1, 1, 1, 1, 1, 1, 1, 1, 1, 1, 1, 1, 1, 1, 1, 1, 1, 1, 1, 1, 1,\n",
              "        1, 1, 1, 1, 1, 1, 1, 1, 1, 1]], dtype=int32)>}"
            ]
          },
          "metadata": {},
          "execution_count": 115
        }
      ]
    },
    {
      "cell_type": "code",
      "source": [
        "labels = tokenizer(target_string, max_length=1024, truncation=True, return_tensors=\"tf\")"
      ],
      "metadata": {
        "id": "Ei-gF80TNqJ8"
      },
      "execution_count": 116,
      "outputs": []
    },
    {
      "cell_type": "code",
      "source": [
        "labels"
      ],
      "metadata": {
        "colab": {
          "base_uri": "https://localhost:8080/"
        },
        "id": "SudSOb_lOc7Y",
        "outputId": "d1f2ed8b-b174-449f-f117-31a2d686a0d8"
      },
      "execution_count": 117,
      "outputs": [
        {
          "output_type": "execute_result",
          "data": {
            "text/plain": [
              "{'input_ids': <tf.Tensor: shape=(1, 14), dtype=int32, numpy=\n",
              "array([[ 363,  686,   13, 1623,  410, 7486,  965,  241,   12, 5521,   12,\n",
              "        8854,   58,    1]], dtype=int32)>, 'attention_mask': <tf.Tensor: shape=(1, 14), dtype=int32, numpy=array([[1, 1, 1, 1, 1, 1, 1, 1, 1, 1, 1, 1, 1, 1]], dtype=int32)>}"
            ]
          },
          "metadata": {},
          "execution_count": 117
        }
      ]
    },
    {
      "cell_type": "code",
      "source": [
        "pprint(tokenizer.batch_decode(inputs.input_ids, skip_special_tokens=True, clean_up_tokenization_spaces=False)[0], compact=True)"
      ],
      "metadata": {
        "colab": {
          "base_uri": "https://localhost:8080/"
        },
        "id": "JGRVuL-dPrn_",
        "outputId": "97b4e9dc-df87-4562-c797-8e6a29a375b0"
      },
      "execution_count": 118,
      "outputs": [
        {
          "output_type": "stream",
          "name": "stdout",
          "text": [
            "('qg answer: biotech companies context: Prior to moving its headquarters to '\n",
            " 'Chicago, aerospace manufacturer Boeing (#30) was the largest company based '\n",
            " 'in Seattle. Its largest division is still headquartered in nearby Renton, '\n",
            " 'and the company has large aircraft manufacturing plants in Everett and '\n",
            " 'Renton, so it remains the largest private employer in the Seattle '\n",
            " 'metropolitan area. Former Seattle Mayor Greg Nickels announced a desire to '\n",
            " 'spark a new economic boom driven by the biotechnology industry in 2006. '\n",
            " 'Major redevelopment of the South Lake Union neighborhood is underway, in an '\n",
            " 'effort to attract new and established biotech companies to the city, joining '\n",
            " 'biotech companies Corixa (acquired by GlaxoSmithKline), Immunex (now part of '\n",
            " 'Amgen), Trubion, and ZymoGenetics. Vulcan Inc., the holding company of '\n",
            " 'billionaire Paul Allen, is behind most of the development projects in the '\n",
            " 'region. While some see the new development as an economic boon, others have '\n",
            " \"criticized Nickels and the Seattle City Council for pandering to Allen's \"\n",
            " \"interests at taxpayers' expense. Also in 2006, Expansion Magazine ranked \"\n",
            " 'Seattle among the top 10 metropolitan areas in the nation for climates '\n",
            " 'favorable to business expansion. In 2005, Forbes ranked Seattle as the most '\n",
            " 'expensive American city for buying a house based on the local income levels. '\n",
            " 'In 2013, however, the magazine ranked Seattle No. 9 on its list of the Best '\n",
            " 'Places for Business and Careers.')\n"
          ]
        }
      ]
    },
    {
      "cell_type": "code",
      "source": [
        "pprint(tokenizer.batch_decode(labels.input_ids, skip_special_tokens=True, clean_up_tokenization_spaces=False)[0], compact=True)"
      ],
      "metadata": {
        "colab": {
          "base_uri": "https://localhost:8080/"
        },
        "id": "ubP6z_pwOnS1",
        "outputId": "943d50e5-e4c8-447f-c4ea-314da1d4898c"
      },
      "execution_count": 119,
      "outputs": [
        {
          "output_type": "stream",
          "name": "stdout",
          "text": [
            "'What type of businesses did Nickles want to attract to Seattle?'\n"
          ]
        }
      ]
    },
    {
      "cell_type": "code",
      "source": [
        "outputs = model(inputs.input_ids, labels=labels.input_ids)"
      ],
      "metadata": {
        "id": "Aiq9ADKLPDMp"
      },
      "execution_count": 120,
      "outputs": []
    },
    {
      "cell_type": "code",
      "source": [
        "loss = outputs.loss"
      ],
      "metadata": {
        "id": "G8cmL0eWRwll"
      },
      "execution_count": 121,
      "outputs": []
    },
    {
      "cell_type": "code",
      "source": [
        "logits = outputs.logits"
      ],
      "metadata": {
        "id": "iwZsiv2nR3fL"
      },
      "execution_count": 102,
      "outputs": []
    },
    {
      "cell_type": "code",
      "source": [
        "answer = df.answer[5]\n",
        "context = df.context[5]\n",
        "task = \"qg\"\n",
        "\n",
        "input_string = f\"{task} answer: {answer} </s> context: {context}\"\n",
        "\n",
        "target_string = df.question[5]"
      ],
      "metadata": {
        "id": "ftZ88D4aSKDN"
      },
      "execution_count": 103,
      "outputs": []
    },
    {
      "cell_type": "code",
      "source": [
        "inputs = tokenizer(input_string, max_length=1024, truncation=True, return_tensors=\"tf\").input_ids"
      ],
      "metadata": {
        "id": "vl_5hEavSqQP"
      },
      "execution_count": 104,
      "outputs": []
    },
    {
      "cell_type": "code",
      "source": [
        "input_string"
      ],
      "metadata": {
        "colab": {
          "base_uri": "https://localhost:8080/",
          "height": 105
        },
        "id": "-AXN72MZS0s4",
        "outputId": "c63f3d61-67c9-4c8f-d336-e460af4d4fc7"
      },
      "execution_count": 105,
      "outputs": [
        {
          "output_type": "execute_result",
          "data": {
            "text/plain": [
              "\"qg answer: Cold War, First Gulf War, Kosovo War </s> context: Since 1947, Canadian military units have participated in more than 200 operations worldwide, and completed 72 international operations. Canadian soldiers, sailors, and aviators came to be considered world-class professionals through conspicuous service during these conflicts and the country's integral participation in NATO during the Cold War, First Gulf War, Kosovo War, and in United Nations Peacekeeping operations, such as the Suez Crisis, Golan Heights, Cyprus, Croatia, Bosnia, Afghanistan, and Libya. Canada maintained an aircraft carrier from 1957 to 1970 during the Cold War, which never saw combat but participated in patrols during the Cuban Missile Crisis.\""
            ],
            "application/vnd.google.colaboratory.intrinsic+json": {
              "type": "string"
            }
          },
          "metadata": {},
          "execution_count": 105
        }
      ]
    },
    {
      "cell_type": "code",
      "source": [
        "target_string"
      ],
      "metadata": {
        "colab": {
          "base_uri": "https://localhost:8080/",
          "height": 35
        },
        "id": "T7eMAL2_S2mv",
        "outputId": "16b076aa-b945-4fa6-ac6e-1b9bf2d4025f"
      },
      "execution_count": 106,
      "outputs": [
        {
          "output_type": "execute_result",
          "data": {
            "text/plain": [
              "'What are some of the wars the Canadian Military was involved in?'"
            ],
            "application/vnd.google.colaboratory.intrinsic+json": {
              "type": "string"
            }
          },
          "metadata": {},
          "execution_count": 106
        }
      ]
    },
    {
      "cell_type": "code",
      "source": [
        "outputs = model.generate(inputs)"
      ],
      "metadata": {
        "id": "fRFRrFhQS8nN"
      },
      "execution_count": 107,
      "outputs": []
    },
    {
      "cell_type": "code",
      "source": [
        "print(tokenizer.decode(outputs[0], skip_special_tokens=True))"
      ],
      "metadata": {
        "colab": {
          "base_uri": "https://localhost:8080/"
        },
        "id": "v2bVV_MGTIdv",
        "outputId": "e24be434-efaf-4e6c-9d79-d65034e7c913"
      },
      "execution_count": 108,
      "outputs": [
        {
          "output_type": "stream",
          "name": "stdout",
          "text": [
            ", qg answer: answer: Cold War, First Gulf War, answer\n"
          ]
        }
      ]
    },
    {
      "cell_type": "code",
      "source": [],
      "metadata": {
        "id": "q3EWrFKoTSVg"
      },
      "execution_count": null,
      "outputs": []
    }
  ],
  "metadata": {
    "colab": {
      "collapsed_sections": [],
      "provenance": []
    },
    "kernelspec": {
      "display_name": "Python 3 (ipykernel)",
      "language": "python",
      "name": "python3"
    },
    "language_info": {
      "codemirror_mode": {
        "name": "ipython",
        "version": 3
      },
      "file_extension": ".py",
      "mimetype": "text/x-python",
      "name": "python",
      "nbconvert_exporter": "python",
      "pygments_lexer": "ipython3",
      "version": "3.8.10"
    },
    "widgets": {
      "application/vnd.jupyter.widget-state+json": {
        "93d7e3b609f24607990e94ed9acb86e0": {
          "model_module": "@jupyter-widgets/controls",
          "model_name": "HBoxModel",
          "model_module_version": "1.5.0",
          "state": {
            "_dom_classes": [],
            "_model_module": "@jupyter-widgets/controls",
            "_model_module_version": "1.5.0",
            "_model_name": "HBoxModel",
            "_view_count": null,
            "_view_module": "@jupyter-widgets/controls",
            "_view_module_version": "1.5.0",
            "_view_name": "HBoxView",
            "box_style": "",
            "children": [
              "IPY_MODEL_f5a5afd9603f45b8bc20814a93f76918",
              "IPY_MODEL_7218c19a97574aa0a3d5eb676b6c3be0",
              "IPY_MODEL_1ce9f4d2923b4e8daf2c49ef55447f41"
            ],
            "layout": "IPY_MODEL_3303e8878dfa4bad92380d7abcb5a239"
          }
        },
        "f5a5afd9603f45b8bc20814a93f76918": {
          "model_module": "@jupyter-widgets/controls",
          "model_name": "HTMLModel",
          "model_module_version": "1.5.0",
          "state": {
            "_dom_classes": [],
            "_model_module": "@jupyter-widgets/controls",
            "_model_module_version": "1.5.0",
            "_model_name": "HTMLModel",
            "_view_count": null,
            "_view_module": "@jupyter-widgets/controls",
            "_view_module_version": "1.5.0",
            "_view_name": "HTMLView",
            "description": "",
            "description_tooltip": null,
            "layout": "IPY_MODEL_a4147feff7a54d749e036d07df2155b8",
            "placeholder": "​",
            "style": "IPY_MODEL_be68e8c64ef044909f5a4eaef47be5ba",
            "value": "Downloading builder script: 100%"
          }
        },
        "7218c19a97574aa0a3d5eb676b6c3be0": {
          "model_module": "@jupyter-widgets/controls",
          "model_name": "FloatProgressModel",
          "model_module_version": "1.5.0",
          "state": {
            "_dom_classes": [],
            "_model_module": "@jupyter-widgets/controls",
            "_model_module_version": "1.5.0",
            "_model_name": "FloatProgressModel",
            "_view_count": null,
            "_view_module": "@jupyter-widgets/controls",
            "_view_module_version": "1.5.0",
            "_view_name": "ProgressView",
            "bar_style": "success",
            "description": "",
            "description_tooltip": null,
            "layout": "IPY_MODEL_e7f04b20f9524a84b7fccc1792d64cff",
            "max": 5274,
            "min": 0,
            "orientation": "horizontal",
            "style": "IPY_MODEL_879194dd4a23431d8e67d0c105c28466",
            "value": 5274
          }
        },
        "1ce9f4d2923b4e8daf2c49ef55447f41": {
          "model_module": "@jupyter-widgets/controls",
          "model_name": "HTMLModel",
          "model_module_version": "1.5.0",
          "state": {
            "_dom_classes": [],
            "_model_module": "@jupyter-widgets/controls",
            "_model_module_version": "1.5.0",
            "_model_name": "HTMLModel",
            "_view_count": null,
            "_view_module": "@jupyter-widgets/controls",
            "_view_module_version": "1.5.0",
            "_view_name": "HTMLView",
            "description": "",
            "description_tooltip": null,
            "layout": "IPY_MODEL_0a3203cf3af449968200d181d07f412d",
            "placeholder": "​",
            "style": "IPY_MODEL_bf7c52e06d7d49da87af351844200846",
            "value": " 5.27k/5.27k [00:00&lt;00:00, 65.2kB/s]"
          }
        },
        "3303e8878dfa4bad92380d7abcb5a239": {
          "model_module": "@jupyter-widgets/base",
          "model_name": "LayoutModel",
          "model_module_version": "1.2.0",
          "state": {
            "_model_module": "@jupyter-widgets/base",
            "_model_module_version": "1.2.0",
            "_model_name": "LayoutModel",
            "_view_count": null,
            "_view_module": "@jupyter-widgets/base",
            "_view_module_version": "1.2.0",
            "_view_name": "LayoutView",
            "align_content": null,
            "align_items": null,
            "align_self": null,
            "border": null,
            "bottom": null,
            "display": null,
            "flex": null,
            "flex_flow": null,
            "grid_area": null,
            "grid_auto_columns": null,
            "grid_auto_flow": null,
            "grid_auto_rows": null,
            "grid_column": null,
            "grid_gap": null,
            "grid_row": null,
            "grid_template_areas": null,
            "grid_template_columns": null,
            "grid_template_rows": null,
            "height": null,
            "justify_content": null,
            "justify_items": null,
            "left": null,
            "margin": null,
            "max_height": null,
            "max_width": null,
            "min_height": null,
            "min_width": null,
            "object_fit": null,
            "object_position": null,
            "order": null,
            "overflow": null,
            "overflow_x": null,
            "overflow_y": null,
            "padding": null,
            "right": null,
            "top": null,
            "visibility": null,
            "width": null
          }
        },
        "a4147feff7a54d749e036d07df2155b8": {
          "model_module": "@jupyter-widgets/base",
          "model_name": "LayoutModel",
          "model_module_version": "1.2.0",
          "state": {
            "_model_module": "@jupyter-widgets/base",
            "_model_module_version": "1.2.0",
            "_model_name": "LayoutModel",
            "_view_count": null,
            "_view_module": "@jupyter-widgets/base",
            "_view_module_version": "1.2.0",
            "_view_name": "LayoutView",
            "align_content": null,
            "align_items": null,
            "align_self": null,
            "border": null,
            "bottom": null,
            "display": null,
            "flex": null,
            "flex_flow": null,
            "grid_area": null,
            "grid_auto_columns": null,
            "grid_auto_flow": null,
            "grid_auto_rows": null,
            "grid_column": null,
            "grid_gap": null,
            "grid_row": null,
            "grid_template_areas": null,
            "grid_template_columns": null,
            "grid_template_rows": null,
            "height": null,
            "justify_content": null,
            "justify_items": null,
            "left": null,
            "margin": null,
            "max_height": null,
            "max_width": null,
            "min_height": null,
            "min_width": null,
            "object_fit": null,
            "object_position": null,
            "order": null,
            "overflow": null,
            "overflow_x": null,
            "overflow_y": null,
            "padding": null,
            "right": null,
            "top": null,
            "visibility": null,
            "width": null
          }
        },
        "be68e8c64ef044909f5a4eaef47be5ba": {
          "model_module": "@jupyter-widgets/controls",
          "model_name": "DescriptionStyleModel",
          "model_module_version": "1.5.0",
          "state": {
            "_model_module": "@jupyter-widgets/controls",
            "_model_module_version": "1.5.0",
            "_model_name": "DescriptionStyleModel",
            "_view_count": null,
            "_view_module": "@jupyter-widgets/base",
            "_view_module_version": "1.2.0",
            "_view_name": "StyleView",
            "description_width": ""
          }
        },
        "e7f04b20f9524a84b7fccc1792d64cff": {
          "model_module": "@jupyter-widgets/base",
          "model_name": "LayoutModel",
          "model_module_version": "1.2.0",
          "state": {
            "_model_module": "@jupyter-widgets/base",
            "_model_module_version": "1.2.0",
            "_model_name": "LayoutModel",
            "_view_count": null,
            "_view_module": "@jupyter-widgets/base",
            "_view_module_version": "1.2.0",
            "_view_name": "LayoutView",
            "align_content": null,
            "align_items": null,
            "align_self": null,
            "border": null,
            "bottom": null,
            "display": null,
            "flex": null,
            "flex_flow": null,
            "grid_area": null,
            "grid_auto_columns": null,
            "grid_auto_flow": null,
            "grid_auto_rows": null,
            "grid_column": null,
            "grid_gap": null,
            "grid_row": null,
            "grid_template_areas": null,
            "grid_template_columns": null,
            "grid_template_rows": null,
            "height": null,
            "justify_content": null,
            "justify_items": null,
            "left": null,
            "margin": null,
            "max_height": null,
            "max_width": null,
            "min_height": null,
            "min_width": null,
            "object_fit": null,
            "object_position": null,
            "order": null,
            "overflow": null,
            "overflow_x": null,
            "overflow_y": null,
            "padding": null,
            "right": null,
            "top": null,
            "visibility": null,
            "width": null
          }
        },
        "879194dd4a23431d8e67d0c105c28466": {
          "model_module": "@jupyter-widgets/controls",
          "model_name": "ProgressStyleModel",
          "model_module_version": "1.5.0",
          "state": {
            "_model_module": "@jupyter-widgets/controls",
            "_model_module_version": "1.5.0",
            "_model_name": "ProgressStyleModel",
            "_view_count": null,
            "_view_module": "@jupyter-widgets/base",
            "_view_module_version": "1.2.0",
            "_view_name": "StyleView",
            "bar_color": null,
            "description_width": ""
          }
        },
        "0a3203cf3af449968200d181d07f412d": {
          "model_module": "@jupyter-widgets/base",
          "model_name": "LayoutModel",
          "model_module_version": "1.2.0",
          "state": {
            "_model_module": "@jupyter-widgets/base",
            "_model_module_version": "1.2.0",
            "_model_name": "LayoutModel",
            "_view_count": null,
            "_view_module": "@jupyter-widgets/base",
            "_view_module_version": "1.2.0",
            "_view_name": "LayoutView",
            "align_content": null,
            "align_items": null,
            "align_self": null,
            "border": null,
            "bottom": null,
            "display": null,
            "flex": null,
            "flex_flow": null,
            "grid_area": null,
            "grid_auto_columns": null,
            "grid_auto_flow": null,
            "grid_auto_rows": null,
            "grid_column": null,
            "grid_gap": null,
            "grid_row": null,
            "grid_template_areas": null,
            "grid_template_columns": null,
            "grid_template_rows": null,
            "height": null,
            "justify_content": null,
            "justify_items": null,
            "left": null,
            "margin": null,
            "max_height": null,
            "max_width": null,
            "min_height": null,
            "min_width": null,
            "object_fit": null,
            "object_position": null,
            "order": null,
            "overflow": null,
            "overflow_x": null,
            "overflow_y": null,
            "padding": null,
            "right": null,
            "top": null,
            "visibility": null,
            "width": null
          }
        },
        "bf7c52e06d7d49da87af351844200846": {
          "model_module": "@jupyter-widgets/controls",
          "model_name": "DescriptionStyleModel",
          "model_module_version": "1.5.0",
          "state": {
            "_model_module": "@jupyter-widgets/controls",
            "_model_module_version": "1.5.0",
            "_model_name": "DescriptionStyleModel",
            "_view_count": null,
            "_view_module": "@jupyter-widgets/base",
            "_view_module_version": "1.2.0",
            "_view_name": "StyleView",
            "description_width": ""
          }
        },
        "67206e6e00254422aa45bf7cb9d96385": {
          "model_module": "@jupyter-widgets/controls",
          "model_name": "HBoxModel",
          "model_module_version": "1.5.0",
          "state": {
            "_dom_classes": [],
            "_model_module": "@jupyter-widgets/controls",
            "_model_module_version": "1.5.0",
            "_model_name": "HBoxModel",
            "_view_count": null,
            "_view_module": "@jupyter-widgets/controls",
            "_view_module_version": "1.5.0",
            "_view_name": "HBoxView",
            "box_style": "",
            "children": [
              "IPY_MODEL_c90b89fdef544b61942dbfe297eb259d",
              "IPY_MODEL_f31f1c2c4c684017a97654983c58e2f7",
              "IPY_MODEL_cfb24043c68a445f8de7bf493a74261f"
            ],
            "layout": "IPY_MODEL_e0185bfd6003477c99dfa910c322d241"
          }
        },
        "c90b89fdef544b61942dbfe297eb259d": {
          "model_module": "@jupyter-widgets/controls",
          "model_name": "HTMLModel",
          "model_module_version": "1.5.0",
          "state": {
            "_dom_classes": [],
            "_model_module": "@jupyter-widgets/controls",
            "_model_module_version": "1.5.0",
            "_model_name": "HTMLModel",
            "_view_count": null,
            "_view_module": "@jupyter-widgets/controls",
            "_view_module_version": "1.5.0",
            "_view_name": "HTMLView",
            "description": "",
            "description_tooltip": null,
            "layout": "IPY_MODEL_e0af9c1126244b709fe96cdf6397c798",
            "placeholder": "​",
            "style": "IPY_MODEL_792ea090b07f4fc1b79ee9500411304b",
            "value": "Downloading metadata: 100%"
          }
        },
        "f31f1c2c4c684017a97654983c58e2f7": {
          "model_module": "@jupyter-widgets/controls",
          "model_name": "FloatProgressModel",
          "model_module_version": "1.5.0",
          "state": {
            "_dom_classes": [],
            "_model_module": "@jupyter-widgets/controls",
            "_model_module_version": "1.5.0",
            "_model_name": "FloatProgressModel",
            "_view_count": null,
            "_view_module": "@jupyter-widgets/controls",
            "_view_module_version": "1.5.0",
            "_view_name": "ProgressView",
            "bar_style": "success",
            "description": "",
            "description_tooltip": null,
            "layout": "IPY_MODEL_5d62ec289ac241bba9e79711f5e0a723",
            "max": 2360,
            "min": 0,
            "orientation": "horizontal",
            "style": "IPY_MODEL_4e7d8768cd984076abd331aeb634c2a8",
            "value": 2360
          }
        },
        "cfb24043c68a445f8de7bf493a74261f": {
          "model_module": "@jupyter-widgets/controls",
          "model_name": "HTMLModel",
          "model_module_version": "1.5.0",
          "state": {
            "_dom_classes": [],
            "_model_module": "@jupyter-widgets/controls",
            "_model_module_version": "1.5.0",
            "_model_name": "HTMLModel",
            "_view_count": null,
            "_view_module": "@jupyter-widgets/controls",
            "_view_module_version": "1.5.0",
            "_view_name": "HTMLView",
            "description": "",
            "description_tooltip": null,
            "layout": "IPY_MODEL_cd836ce64a604d829ee85260d2724fae",
            "placeholder": "​",
            "style": "IPY_MODEL_1fb4cb00358a4f4085e5942b5e0f0f06",
            "value": " 2.36k/2.36k [00:00&lt;00:00, 60.1kB/s]"
          }
        },
        "e0185bfd6003477c99dfa910c322d241": {
          "model_module": "@jupyter-widgets/base",
          "model_name": "LayoutModel",
          "model_module_version": "1.2.0",
          "state": {
            "_model_module": "@jupyter-widgets/base",
            "_model_module_version": "1.2.0",
            "_model_name": "LayoutModel",
            "_view_count": null,
            "_view_module": "@jupyter-widgets/base",
            "_view_module_version": "1.2.0",
            "_view_name": "LayoutView",
            "align_content": null,
            "align_items": null,
            "align_self": null,
            "border": null,
            "bottom": null,
            "display": null,
            "flex": null,
            "flex_flow": null,
            "grid_area": null,
            "grid_auto_columns": null,
            "grid_auto_flow": null,
            "grid_auto_rows": null,
            "grid_column": null,
            "grid_gap": null,
            "grid_row": null,
            "grid_template_areas": null,
            "grid_template_columns": null,
            "grid_template_rows": null,
            "height": null,
            "justify_content": null,
            "justify_items": null,
            "left": null,
            "margin": null,
            "max_height": null,
            "max_width": null,
            "min_height": null,
            "min_width": null,
            "object_fit": null,
            "object_position": null,
            "order": null,
            "overflow": null,
            "overflow_x": null,
            "overflow_y": null,
            "padding": null,
            "right": null,
            "top": null,
            "visibility": null,
            "width": null
          }
        },
        "e0af9c1126244b709fe96cdf6397c798": {
          "model_module": "@jupyter-widgets/base",
          "model_name": "LayoutModel",
          "model_module_version": "1.2.0",
          "state": {
            "_model_module": "@jupyter-widgets/base",
            "_model_module_version": "1.2.0",
            "_model_name": "LayoutModel",
            "_view_count": null,
            "_view_module": "@jupyter-widgets/base",
            "_view_module_version": "1.2.0",
            "_view_name": "LayoutView",
            "align_content": null,
            "align_items": null,
            "align_self": null,
            "border": null,
            "bottom": null,
            "display": null,
            "flex": null,
            "flex_flow": null,
            "grid_area": null,
            "grid_auto_columns": null,
            "grid_auto_flow": null,
            "grid_auto_rows": null,
            "grid_column": null,
            "grid_gap": null,
            "grid_row": null,
            "grid_template_areas": null,
            "grid_template_columns": null,
            "grid_template_rows": null,
            "height": null,
            "justify_content": null,
            "justify_items": null,
            "left": null,
            "margin": null,
            "max_height": null,
            "max_width": null,
            "min_height": null,
            "min_width": null,
            "object_fit": null,
            "object_position": null,
            "order": null,
            "overflow": null,
            "overflow_x": null,
            "overflow_y": null,
            "padding": null,
            "right": null,
            "top": null,
            "visibility": null,
            "width": null
          }
        },
        "792ea090b07f4fc1b79ee9500411304b": {
          "model_module": "@jupyter-widgets/controls",
          "model_name": "DescriptionStyleModel",
          "model_module_version": "1.5.0",
          "state": {
            "_model_module": "@jupyter-widgets/controls",
            "_model_module_version": "1.5.0",
            "_model_name": "DescriptionStyleModel",
            "_view_count": null,
            "_view_module": "@jupyter-widgets/base",
            "_view_module_version": "1.2.0",
            "_view_name": "StyleView",
            "description_width": ""
          }
        },
        "5d62ec289ac241bba9e79711f5e0a723": {
          "model_module": "@jupyter-widgets/base",
          "model_name": "LayoutModel",
          "model_module_version": "1.2.0",
          "state": {
            "_model_module": "@jupyter-widgets/base",
            "_model_module_version": "1.2.0",
            "_model_name": "LayoutModel",
            "_view_count": null,
            "_view_module": "@jupyter-widgets/base",
            "_view_module_version": "1.2.0",
            "_view_name": "LayoutView",
            "align_content": null,
            "align_items": null,
            "align_self": null,
            "border": null,
            "bottom": null,
            "display": null,
            "flex": null,
            "flex_flow": null,
            "grid_area": null,
            "grid_auto_columns": null,
            "grid_auto_flow": null,
            "grid_auto_rows": null,
            "grid_column": null,
            "grid_gap": null,
            "grid_row": null,
            "grid_template_areas": null,
            "grid_template_columns": null,
            "grid_template_rows": null,
            "height": null,
            "justify_content": null,
            "justify_items": null,
            "left": null,
            "margin": null,
            "max_height": null,
            "max_width": null,
            "min_height": null,
            "min_width": null,
            "object_fit": null,
            "object_position": null,
            "order": null,
            "overflow": null,
            "overflow_x": null,
            "overflow_y": null,
            "padding": null,
            "right": null,
            "top": null,
            "visibility": null,
            "width": null
          }
        },
        "4e7d8768cd984076abd331aeb634c2a8": {
          "model_module": "@jupyter-widgets/controls",
          "model_name": "ProgressStyleModel",
          "model_module_version": "1.5.0",
          "state": {
            "_model_module": "@jupyter-widgets/controls",
            "_model_module_version": "1.5.0",
            "_model_name": "ProgressStyleModel",
            "_view_count": null,
            "_view_module": "@jupyter-widgets/base",
            "_view_module_version": "1.2.0",
            "_view_name": "StyleView",
            "bar_color": null,
            "description_width": ""
          }
        },
        "cd836ce64a604d829ee85260d2724fae": {
          "model_module": "@jupyter-widgets/base",
          "model_name": "LayoutModel",
          "model_module_version": "1.2.0",
          "state": {
            "_model_module": "@jupyter-widgets/base",
            "_model_module_version": "1.2.0",
            "_model_name": "LayoutModel",
            "_view_count": null,
            "_view_module": "@jupyter-widgets/base",
            "_view_module_version": "1.2.0",
            "_view_name": "LayoutView",
            "align_content": null,
            "align_items": null,
            "align_self": null,
            "border": null,
            "bottom": null,
            "display": null,
            "flex": null,
            "flex_flow": null,
            "grid_area": null,
            "grid_auto_columns": null,
            "grid_auto_flow": null,
            "grid_auto_rows": null,
            "grid_column": null,
            "grid_gap": null,
            "grid_row": null,
            "grid_template_areas": null,
            "grid_template_columns": null,
            "grid_template_rows": null,
            "height": null,
            "justify_content": null,
            "justify_items": null,
            "left": null,
            "margin": null,
            "max_height": null,
            "max_width": null,
            "min_height": null,
            "min_width": null,
            "object_fit": null,
            "object_position": null,
            "order": null,
            "overflow": null,
            "overflow_x": null,
            "overflow_y": null,
            "padding": null,
            "right": null,
            "top": null,
            "visibility": null,
            "width": null
          }
        },
        "1fb4cb00358a4f4085e5942b5e0f0f06": {
          "model_module": "@jupyter-widgets/controls",
          "model_name": "DescriptionStyleModel",
          "model_module_version": "1.5.0",
          "state": {
            "_model_module": "@jupyter-widgets/controls",
            "_model_module_version": "1.5.0",
            "_model_name": "DescriptionStyleModel",
            "_view_count": null,
            "_view_module": "@jupyter-widgets/base",
            "_view_module_version": "1.2.0",
            "_view_name": "StyleView",
            "description_width": ""
          }
        },
        "62a5ba3216dc4c1aa270bc03e3264942": {
          "model_module": "@jupyter-widgets/controls",
          "model_name": "HBoxModel",
          "model_module_version": "1.5.0",
          "state": {
            "_dom_classes": [],
            "_model_module": "@jupyter-widgets/controls",
            "_model_module_version": "1.5.0",
            "_model_name": "HBoxModel",
            "_view_count": null,
            "_view_module": "@jupyter-widgets/controls",
            "_view_module_version": "1.5.0",
            "_view_name": "HBoxView",
            "box_style": "",
            "children": [
              "IPY_MODEL_287689fd4cf34c4abaf6d76f7952b72a",
              "IPY_MODEL_ea2654dc5345402181a2369c49cb2125",
              "IPY_MODEL_92c019ac808944e1bfa6648699a8ddb7"
            ],
            "layout": "IPY_MODEL_cd50ccd201c542e194558a00278efa15"
          }
        },
        "287689fd4cf34c4abaf6d76f7952b72a": {
          "model_module": "@jupyter-widgets/controls",
          "model_name": "HTMLModel",
          "model_module_version": "1.5.0",
          "state": {
            "_dom_classes": [],
            "_model_module": "@jupyter-widgets/controls",
            "_model_module_version": "1.5.0",
            "_model_name": "HTMLModel",
            "_view_count": null,
            "_view_module": "@jupyter-widgets/controls",
            "_view_module_version": "1.5.0",
            "_view_name": "HTMLView",
            "description": "",
            "description_tooltip": null,
            "layout": "IPY_MODEL_5cb5df33743642bb95cde5fb11ce875d",
            "placeholder": "​",
            "style": "IPY_MODEL_134b23d944524ab6bbd44927a30d688d",
            "value": "Downloading readme: 100%"
          }
        },
        "ea2654dc5345402181a2369c49cb2125": {
          "model_module": "@jupyter-widgets/controls",
          "model_name": "FloatProgressModel",
          "model_module_version": "1.5.0",
          "state": {
            "_dom_classes": [],
            "_model_module": "@jupyter-widgets/controls",
            "_model_module_version": "1.5.0",
            "_model_name": "FloatProgressModel",
            "_view_count": null,
            "_view_module": "@jupyter-widgets/controls",
            "_view_module_version": "1.5.0",
            "_view_name": "ProgressView",
            "bar_style": "success",
            "description": "",
            "description_tooltip": null,
            "layout": "IPY_MODEL_28c1bf5a887644b7b7b9f78eb6bfa71f",
            "max": 7173,
            "min": 0,
            "orientation": "horizontal",
            "style": "IPY_MODEL_4e0aa9f7c94e4c6fb090dd38ca202cc7",
            "value": 7173
          }
        },
        "92c019ac808944e1bfa6648699a8ddb7": {
          "model_module": "@jupyter-widgets/controls",
          "model_name": "HTMLModel",
          "model_module_version": "1.5.0",
          "state": {
            "_dom_classes": [],
            "_model_module": "@jupyter-widgets/controls",
            "_model_module_version": "1.5.0",
            "_model_name": "HTMLModel",
            "_view_count": null,
            "_view_module": "@jupyter-widgets/controls",
            "_view_module_version": "1.5.0",
            "_view_name": "HTMLView",
            "description": "",
            "description_tooltip": null,
            "layout": "IPY_MODEL_d777348ae194485b812837c851dbb77a",
            "placeholder": "​",
            "style": "IPY_MODEL_a465fc650236478baedd66ab295f7bc3",
            "value": " 7.17k/7.17k [00:00&lt;00:00, 147kB/s]"
          }
        },
        "cd50ccd201c542e194558a00278efa15": {
          "model_module": "@jupyter-widgets/base",
          "model_name": "LayoutModel",
          "model_module_version": "1.2.0",
          "state": {
            "_model_module": "@jupyter-widgets/base",
            "_model_module_version": "1.2.0",
            "_model_name": "LayoutModel",
            "_view_count": null,
            "_view_module": "@jupyter-widgets/base",
            "_view_module_version": "1.2.0",
            "_view_name": "LayoutView",
            "align_content": null,
            "align_items": null,
            "align_self": null,
            "border": null,
            "bottom": null,
            "display": null,
            "flex": null,
            "flex_flow": null,
            "grid_area": null,
            "grid_auto_columns": null,
            "grid_auto_flow": null,
            "grid_auto_rows": null,
            "grid_column": null,
            "grid_gap": null,
            "grid_row": null,
            "grid_template_areas": null,
            "grid_template_columns": null,
            "grid_template_rows": null,
            "height": null,
            "justify_content": null,
            "justify_items": null,
            "left": null,
            "margin": null,
            "max_height": null,
            "max_width": null,
            "min_height": null,
            "min_width": null,
            "object_fit": null,
            "object_position": null,
            "order": null,
            "overflow": null,
            "overflow_x": null,
            "overflow_y": null,
            "padding": null,
            "right": null,
            "top": null,
            "visibility": null,
            "width": null
          }
        },
        "5cb5df33743642bb95cde5fb11ce875d": {
          "model_module": "@jupyter-widgets/base",
          "model_name": "LayoutModel",
          "model_module_version": "1.2.0",
          "state": {
            "_model_module": "@jupyter-widgets/base",
            "_model_module_version": "1.2.0",
            "_model_name": "LayoutModel",
            "_view_count": null,
            "_view_module": "@jupyter-widgets/base",
            "_view_module_version": "1.2.0",
            "_view_name": "LayoutView",
            "align_content": null,
            "align_items": null,
            "align_self": null,
            "border": null,
            "bottom": null,
            "display": null,
            "flex": null,
            "flex_flow": null,
            "grid_area": null,
            "grid_auto_columns": null,
            "grid_auto_flow": null,
            "grid_auto_rows": null,
            "grid_column": null,
            "grid_gap": null,
            "grid_row": null,
            "grid_template_areas": null,
            "grid_template_columns": null,
            "grid_template_rows": null,
            "height": null,
            "justify_content": null,
            "justify_items": null,
            "left": null,
            "margin": null,
            "max_height": null,
            "max_width": null,
            "min_height": null,
            "min_width": null,
            "object_fit": null,
            "object_position": null,
            "order": null,
            "overflow": null,
            "overflow_x": null,
            "overflow_y": null,
            "padding": null,
            "right": null,
            "top": null,
            "visibility": null,
            "width": null
          }
        },
        "134b23d944524ab6bbd44927a30d688d": {
          "model_module": "@jupyter-widgets/controls",
          "model_name": "DescriptionStyleModel",
          "model_module_version": "1.5.0",
          "state": {
            "_model_module": "@jupyter-widgets/controls",
            "_model_module_version": "1.5.0",
            "_model_name": "DescriptionStyleModel",
            "_view_count": null,
            "_view_module": "@jupyter-widgets/base",
            "_view_module_version": "1.2.0",
            "_view_name": "StyleView",
            "description_width": ""
          }
        },
        "28c1bf5a887644b7b7b9f78eb6bfa71f": {
          "model_module": "@jupyter-widgets/base",
          "model_name": "LayoutModel",
          "model_module_version": "1.2.0",
          "state": {
            "_model_module": "@jupyter-widgets/base",
            "_model_module_version": "1.2.0",
            "_model_name": "LayoutModel",
            "_view_count": null,
            "_view_module": "@jupyter-widgets/base",
            "_view_module_version": "1.2.0",
            "_view_name": "LayoutView",
            "align_content": null,
            "align_items": null,
            "align_self": null,
            "border": null,
            "bottom": null,
            "display": null,
            "flex": null,
            "flex_flow": null,
            "grid_area": null,
            "grid_auto_columns": null,
            "grid_auto_flow": null,
            "grid_auto_rows": null,
            "grid_column": null,
            "grid_gap": null,
            "grid_row": null,
            "grid_template_areas": null,
            "grid_template_columns": null,
            "grid_template_rows": null,
            "height": null,
            "justify_content": null,
            "justify_items": null,
            "left": null,
            "margin": null,
            "max_height": null,
            "max_width": null,
            "min_height": null,
            "min_width": null,
            "object_fit": null,
            "object_position": null,
            "order": null,
            "overflow": null,
            "overflow_x": null,
            "overflow_y": null,
            "padding": null,
            "right": null,
            "top": null,
            "visibility": null,
            "width": null
          }
        },
        "4e0aa9f7c94e4c6fb090dd38ca202cc7": {
          "model_module": "@jupyter-widgets/controls",
          "model_name": "ProgressStyleModel",
          "model_module_version": "1.5.0",
          "state": {
            "_model_module": "@jupyter-widgets/controls",
            "_model_module_version": "1.5.0",
            "_model_name": "ProgressStyleModel",
            "_view_count": null,
            "_view_module": "@jupyter-widgets/base",
            "_view_module_version": "1.2.0",
            "_view_name": "StyleView",
            "bar_color": null,
            "description_width": ""
          }
        },
        "d777348ae194485b812837c851dbb77a": {
          "model_module": "@jupyter-widgets/base",
          "model_name": "LayoutModel",
          "model_module_version": "1.2.0",
          "state": {
            "_model_module": "@jupyter-widgets/base",
            "_model_module_version": "1.2.0",
            "_model_name": "LayoutModel",
            "_view_count": null,
            "_view_module": "@jupyter-widgets/base",
            "_view_module_version": "1.2.0",
            "_view_name": "LayoutView",
            "align_content": null,
            "align_items": null,
            "align_self": null,
            "border": null,
            "bottom": null,
            "display": null,
            "flex": null,
            "flex_flow": null,
            "grid_area": null,
            "grid_auto_columns": null,
            "grid_auto_flow": null,
            "grid_auto_rows": null,
            "grid_column": null,
            "grid_gap": null,
            "grid_row": null,
            "grid_template_areas": null,
            "grid_template_columns": null,
            "grid_template_rows": null,
            "height": null,
            "justify_content": null,
            "justify_items": null,
            "left": null,
            "margin": null,
            "max_height": null,
            "max_width": null,
            "min_height": null,
            "min_width": null,
            "object_fit": null,
            "object_position": null,
            "order": null,
            "overflow": null,
            "overflow_x": null,
            "overflow_y": null,
            "padding": null,
            "right": null,
            "top": null,
            "visibility": null,
            "width": null
          }
        },
        "a465fc650236478baedd66ab295f7bc3": {
          "model_module": "@jupyter-widgets/controls",
          "model_name": "DescriptionStyleModel",
          "model_module_version": "1.5.0",
          "state": {
            "_model_module": "@jupyter-widgets/controls",
            "_model_module_version": "1.5.0",
            "_model_name": "DescriptionStyleModel",
            "_view_count": null,
            "_view_module": "@jupyter-widgets/base",
            "_view_module_version": "1.2.0",
            "_view_name": "StyleView",
            "description_width": ""
          }
        }
      }
    }
  },
  "nbformat": 4,
  "nbformat_minor": 0
}