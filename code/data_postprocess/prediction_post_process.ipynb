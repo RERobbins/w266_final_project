{
  "cells": [
    {
      "cell_type": "markdown",
      "metadata": {
        "id": "view-in-github",
        "colab_type": "text"
      },
      "source": [
        "<a href=\"https://colab.research.google.com/github/jeanlucjackson/w266_final_project/blob/main/code/data_postprocess/prediction_post_process.ipynb\" target=\"_parent\"><img src=\"https://colab.research.google.com/assets/colab-badge.svg\" alt=\"Open In Colab\"/></a>"
      ]
    },
    {
      "cell_type": "code",
      "execution_count": 1,
      "metadata": {
        "colab": {
          "base_uri": "https://localhost:8080/"
        },
        "id": "17N1XaF7d6dW",
        "outputId": "b6f53311-d0cf-4fc8-f6de-aff5a92110b5"
      },
      "outputs": [
        {
          "output_type": "stream",
          "name": "stdout",
          "text": [
            "Mounted at /content/drive\n"
          ]
        }
      ],
      "source": [
        "from google.colab import drive\n",
        "drive.mount('/content/drive')"
      ]
    },
    {
      "cell_type": "code",
      "execution_count": 2,
      "metadata": {
        "id": "3jvE9TJRd4cG"
      },
      "outputs": [],
      "source": [
        "import os\n",
        "import glob\n",
        "import numpy as np\n",
        "import pandas as pd\n",
        "\n",
        "#from google.colab import data_table\n",
        "#data_table.enable_dataframe_formatter()"
      ]
    },
    {
      "cell_type": "code",
      "execution_count": 3,
      "metadata": {
        "id": "iMHoUiDnd9He"
      },
      "outputs": [],
      "source": [
        "# Some important file locations and constants\n",
        "\n",
        "project_root = \"/content/drive/MyDrive/w266 NLP Final Project/\"\n",
        "prediction_folder = project_root + \"Predictions/checkpoint/\"\n",
        "data_folder = project_root + \"Data/\"\n",
        "processed_folder = project_root + \"Predictions/\"\n",
        "\n",
        "datasets = ['nq', 'quac', 'squad.hf', 'triviaqa']\n",
        "\n",
        "validation_set_size = {}"
      ]
    },
    {
      "cell_type": "code",
      "source": [
        "for dataset in datasets:\n",
        "  df = pd.read_csv(f\"{data_folder}{dataset}/valid_pairs.csv\")\n",
        "  validation_set_size [dataset.split(\".\")[0]] = df.shape[0]"
      ],
      "metadata": {
        "id": "_oLDdfxlbSrT"
      },
      "execution_count": 4,
      "outputs": []
    },
    {
      "cell_type": "code",
      "source": [
        "validation_set_size"
      ],
      "metadata": {
        "id": "Qc76Hn1Vbpxt",
        "outputId": "4b62eb53-a19d-4135-9638-1bb4f2382d25",
        "colab": {
          "base_uri": "https://localhost:8080/"
        }
      },
      "execution_count": 5,
      "outputs": [
        {
          "output_type": "execute_result",
          "data": {
            "text/plain": [
              "{'nq': 2356, 'quac': 5868, 'squad': 10570, 'triviaqa': 9835}"
            ]
          },
          "metadata": {},
          "execution_count": 5
        }
      ]
    },
    {
      "cell_type": "code",
      "execution_count": 17,
      "metadata": {
        "id": "dqiY1wv-dxLx"
      },
      "outputs": [],
      "source": [
        "file_list = glob.glob(prediction_folder + \"*.csv\")"
      ]
    },
    {
      "cell_type": "code",
      "execution_count": 18,
      "metadata": {
        "id": "UHTIt4vpONUk",
        "outputId": "e6a6d7a6-9c00-4a5b-c486-e983be499682",
        "colab": {
          "base_uri": "https://localhost:8080/"
        }
      },
      "outputs": [
        {
          "output_type": "execute_result",
          "data": {
            "text/plain": [
              "['/content/drive/MyDrive/w266 NLP Final Project/Predictions/checkpoint/predictions.T5_base_pt_long.nq.nq.csv',\n",
              " '/content/drive/MyDrive/w266 NLP Final Project/Predictions/checkpoint/predictions.T5_base_pt_long.nq.squad.csv',\n",
              " '/content/drive/MyDrive/w266 NLP Final Project/Predictions/checkpoint/predictions.T5_base_pt_long.triviaqa.squad.csv',\n",
              " '/content/drive/MyDrive/w266 NLP Final Project/Predictions/checkpoint/predictions.T5_base_pt_long.nq.quac.csv',\n",
              " '/content/drive/MyDrive/w266 NLP Final Project/Predictions/checkpoint/predictions.T5_base_pt_long.nq.triviaqa.csv',\n",
              " '/content/drive/MyDrive/w266 NLP Final Project/Predictions/checkpoint/predictions.T5_base_pt_long.triviaqa.quac.csv',\n",
              " '/content/drive/MyDrive/w266 NLP Final Project/Predictions/checkpoint/predictions.T5_base_pt_long.triviaqa.nq.csv',\n",
              " '/content/drive/MyDrive/w266 NLP Final Project/Predictions/checkpoint/predictions.T5_base_pt_long.squad.squad.csv',\n",
              " '/content/drive/MyDrive/w266 NLP Final Project/Predictions/checkpoint/predictions.T5_base_pt_long.squad.nq.csv',\n",
              " '/content/drive/MyDrive/w266 NLP Final Project/Predictions/checkpoint/predictions.T5_base_pt_long.squad.triviaqa.csv',\n",
              " '/content/drive/MyDrive/w266 NLP Final Project/Predictions/checkpoint/predictions.T5_base_pt_long.quac.squad.csv',\n",
              " '/content/drive/MyDrive/w266 NLP Final Project/Predictions/checkpoint/predictions.T5_base_pt_long.quac.nq.csv',\n",
              " '/content/drive/MyDrive/w266 NLP Final Project/Predictions/checkpoint/predictions.T5_base_pt_long.squad.quac.csv',\n",
              " '/content/drive/MyDrive/w266 NLP Final Project/Predictions/checkpoint/predictions.T5_base_pt_long.quac.quac.csv',\n",
              " '/content/drive/MyDrive/w266 NLP Final Project/Predictions/checkpoint/predictions.T5_base_pt_long.quac.triviaqa.csv',\n",
              " '/content/drive/MyDrive/w266 NLP Final Project/Predictions/checkpoint/predictions.T5_base_pt_long.triviaqa.triviaqa.csv',\n",
              " '/content/drive/MyDrive/w266 NLP Final Project/Predictions/checkpoint/predictions.bart_base_pt_long.squad.nq.csv',\n",
              " '/content/drive/MyDrive/w266 NLP Final Project/Predictions/checkpoint/predictions.bart_base_pt_long.squad.quac.csv',\n",
              " '/content/drive/MyDrive/w266 NLP Final Project/Predictions/checkpoint/predictions.bart_base_pt_long.squad.squad.csv',\n",
              " '/content/drive/MyDrive/w266 NLP Final Project/Predictions/checkpoint/predictions.bart_base_pt_long.squad.triviaqa.csv',\n",
              " '/content/drive/MyDrive/w266 NLP Final Project/Predictions/checkpoint/predictions.bart_base_pt_long.quac.nq.csv',\n",
              " '/content/drive/MyDrive/w266 NLP Final Project/Predictions/checkpoint/predictions.bart_base_pt_long.quac.quac.csv',\n",
              " '/content/drive/MyDrive/w266 NLP Final Project/Predictions/checkpoint/predictions.bart_base_pt_long.quac.squad.csv',\n",
              " '/content/drive/MyDrive/w266 NLP Final Project/Predictions/checkpoint/predictions.bart_base_pt_long.quac.triviaqa.csv',\n",
              " '/content/drive/MyDrive/w266 NLP Final Project/Predictions/checkpoint/predictions.bart_base_pt_long.nq.nq.csv',\n",
              " '/content/drive/MyDrive/w266 NLP Final Project/Predictions/checkpoint/predictions.bart_base_pt_long.nq.quac.csv',\n",
              " '/content/drive/MyDrive/w266 NLP Final Project/Predictions/checkpoint/predictions.bart_base_pt_long.nq.squad.csv',\n",
              " '/content/drive/MyDrive/w266 NLP Final Project/Predictions/checkpoint/predictions.bart_base_pt_long.nq.triviaqa.csv',\n",
              " '/content/drive/MyDrive/w266 NLP Final Project/Predictions/checkpoint/predictions.bart_base_pt_long.triviaqa.nq.csv',\n",
              " '/content/drive/MyDrive/w266 NLP Final Project/Predictions/checkpoint/predictions.bart_base_pt_long.triviaqa.quac.csv',\n",
              " '/content/drive/MyDrive/w266 NLP Final Project/Predictions/checkpoint/predictions.bart_base_pt_long.triviaqa.squad.csv',\n",
              " '/content/drive/MyDrive/w266 NLP Final Project/Predictions/checkpoint/predictions.bart_base_pt_long.triviaqa.triviaqa.csv']"
            ]
          },
          "metadata": {},
          "execution_count": 18
        }
      ],
      "source": [
        "file_list"
      ]
    },
    {
      "cell_type": "code",
      "source": [
        "len(file_list)"
      ],
      "metadata": {
        "colab": {
          "base_uri": "https://localhost:8080/"
        },
        "id": "ic-R-RJiDU7q",
        "outputId": "3fe8f36e-7266-44eb-c4c5-dffb0c556adc"
      },
      "execution_count": 19,
      "outputs": [
        {
          "output_type": "execute_result",
          "data": {
            "text/plain": [
              "32"
            ]
          },
          "metadata": {},
          "execution_count": 19
        }
      ]
    },
    {
      "cell_type": "code",
      "execution_count": 20,
      "metadata": {
        "id": "0zljTLBVONUl",
        "outputId": "27160c6f-2258-4623-e6ef-5a0050d60e5e",
        "colab": {
          "base_uri": "https://localhost:8080/",
          "height": 1000
        }
      },
      "outputs": [
        {
          "output_type": "execute_result",
          "data": {
            "text/plain": [
              "                                                 name  count\n",
              "0               predictions.T5_base_pt_long.nq.nq.csv   2356\n",
              "16         predictions.bart_base_pt_long.squad.nq.csv   2356\n",
              "20          predictions.bart_base_pt_long.quac.nq.csv   2356\n",
              "11            predictions.T5_base_pt_long.quac.nq.csv   2356\n",
              "8            predictions.T5_base_pt_long.squad.nq.csv   2356\n",
              "6         predictions.T5_base_pt_long.triviaqa.nq.csv   2356\n",
              "24            predictions.bart_base_pt_long.nq.nq.csv   2356\n",
              "28      predictions.bart_base_pt_long.triviaqa.nq.csv   2356\n",
              "25          predictions.bart_base_pt_long.nq.quac.csv   5868\n",
              "17       predictions.bart_base_pt_long.squad.quac.csv   5868\n",
              "3             predictions.T5_base_pt_long.nq.quac.csv   5868\n",
              "12         predictions.T5_base_pt_long.squad.quac.csv   5868\n",
              "13          predictions.T5_base_pt_long.quac.quac.csv   5868\n",
              "21        predictions.bart_base_pt_long.quac.quac.csv   5868\n",
              "29    predictions.bart_base_pt_long.triviaqa.quac.csv   5868\n",
              "5       predictions.T5_base_pt_long.triviaqa.quac.csv   5868\n",
              "27      predictions.bart_base_pt_long.nq.triviaqa.csv   9835\n",
              "23    predictions.bart_base_pt_long.quac.triviaqa.csv   9835\n",
              "19   predictions.bart_base_pt_long.squad.triviaqa.csv   9835\n",
              "15  predictions.T5_base_pt_long.triviaqa.triviaqa.csv   9835\n",
              "14      predictions.T5_base_pt_long.quac.triviaqa.csv   9835\n",
              "9      predictions.T5_base_pt_long.squad.triviaqa.csv   9835\n",
              "4         predictions.T5_base_pt_long.nq.triviaqa.csv   9835\n",
              "31  predictions.bart_base_pt_long.triviaqa.triviaq...   9835\n",
              "30   predictions.bart_base_pt_long.triviaqa.squad.csv  10570\n",
              "22       predictions.bart_base_pt_long.quac.squad.csv  10570\n",
              "10         predictions.T5_base_pt_long.quac.squad.csv  10570\n",
              "7         predictions.T5_base_pt_long.squad.squad.csv  10570\n",
              "26         predictions.bart_base_pt_long.nq.squad.csv  10570\n",
              "2      predictions.T5_base_pt_long.triviaqa.squad.csv  10570\n",
              "1            predictions.T5_base_pt_long.nq.squad.csv  10570\n",
              "18      predictions.bart_base_pt_long.squad.squad.csv  10570"
            ],
            "text/html": [
              "\n",
              "  <div id=\"df-9fcb54d6-a175-45b8-847b-3f1d156ffd45\">\n",
              "    <div class=\"colab-df-container\">\n",
              "      <div>\n",
              "<style scoped>\n",
              "    .dataframe tbody tr th:only-of-type {\n",
              "        vertical-align: middle;\n",
              "    }\n",
              "\n",
              "    .dataframe tbody tr th {\n",
              "        vertical-align: top;\n",
              "    }\n",
              "\n",
              "    .dataframe thead th {\n",
              "        text-align: right;\n",
              "    }\n",
              "</style>\n",
              "<table border=\"1\" class=\"dataframe\">\n",
              "  <thead>\n",
              "    <tr style=\"text-align: right;\">\n",
              "      <th></th>\n",
              "      <th>name</th>\n",
              "      <th>count</th>\n",
              "    </tr>\n",
              "  </thead>\n",
              "  <tbody>\n",
              "    <tr>\n",
              "      <th>0</th>\n",
              "      <td>predictions.T5_base_pt_long.nq.nq.csv</td>\n",
              "      <td>2356</td>\n",
              "    </tr>\n",
              "    <tr>\n",
              "      <th>16</th>\n",
              "      <td>predictions.bart_base_pt_long.squad.nq.csv</td>\n",
              "      <td>2356</td>\n",
              "    </tr>\n",
              "    <tr>\n",
              "      <th>20</th>\n",
              "      <td>predictions.bart_base_pt_long.quac.nq.csv</td>\n",
              "      <td>2356</td>\n",
              "    </tr>\n",
              "    <tr>\n",
              "      <th>11</th>\n",
              "      <td>predictions.T5_base_pt_long.quac.nq.csv</td>\n",
              "      <td>2356</td>\n",
              "    </tr>\n",
              "    <tr>\n",
              "      <th>8</th>\n",
              "      <td>predictions.T5_base_pt_long.squad.nq.csv</td>\n",
              "      <td>2356</td>\n",
              "    </tr>\n",
              "    <tr>\n",
              "      <th>6</th>\n",
              "      <td>predictions.T5_base_pt_long.triviaqa.nq.csv</td>\n",
              "      <td>2356</td>\n",
              "    </tr>\n",
              "    <tr>\n",
              "      <th>24</th>\n",
              "      <td>predictions.bart_base_pt_long.nq.nq.csv</td>\n",
              "      <td>2356</td>\n",
              "    </tr>\n",
              "    <tr>\n",
              "      <th>28</th>\n",
              "      <td>predictions.bart_base_pt_long.triviaqa.nq.csv</td>\n",
              "      <td>2356</td>\n",
              "    </tr>\n",
              "    <tr>\n",
              "      <th>25</th>\n",
              "      <td>predictions.bart_base_pt_long.nq.quac.csv</td>\n",
              "      <td>5868</td>\n",
              "    </tr>\n",
              "    <tr>\n",
              "      <th>17</th>\n",
              "      <td>predictions.bart_base_pt_long.squad.quac.csv</td>\n",
              "      <td>5868</td>\n",
              "    </tr>\n",
              "    <tr>\n",
              "      <th>3</th>\n",
              "      <td>predictions.T5_base_pt_long.nq.quac.csv</td>\n",
              "      <td>5868</td>\n",
              "    </tr>\n",
              "    <tr>\n",
              "      <th>12</th>\n",
              "      <td>predictions.T5_base_pt_long.squad.quac.csv</td>\n",
              "      <td>5868</td>\n",
              "    </tr>\n",
              "    <tr>\n",
              "      <th>13</th>\n",
              "      <td>predictions.T5_base_pt_long.quac.quac.csv</td>\n",
              "      <td>5868</td>\n",
              "    </tr>\n",
              "    <tr>\n",
              "      <th>21</th>\n",
              "      <td>predictions.bart_base_pt_long.quac.quac.csv</td>\n",
              "      <td>5868</td>\n",
              "    </tr>\n",
              "    <tr>\n",
              "      <th>29</th>\n",
              "      <td>predictions.bart_base_pt_long.triviaqa.quac.csv</td>\n",
              "      <td>5868</td>\n",
              "    </tr>\n",
              "    <tr>\n",
              "      <th>5</th>\n",
              "      <td>predictions.T5_base_pt_long.triviaqa.quac.csv</td>\n",
              "      <td>5868</td>\n",
              "    </tr>\n",
              "    <tr>\n",
              "      <th>27</th>\n",
              "      <td>predictions.bart_base_pt_long.nq.triviaqa.csv</td>\n",
              "      <td>9835</td>\n",
              "    </tr>\n",
              "    <tr>\n",
              "      <th>23</th>\n",
              "      <td>predictions.bart_base_pt_long.quac.triviaqa.csv</td>\n",
              "      <td>9835</td>\n",
              "    </tr>\n",
              "    <tr>\n",
              "      <th>19</th>\n",
              "      <td>predictions.bart_base_pt_long.squad.triviaqa.csv</td>\n",
              "      <td>9835</td>\n",
              "    </tr>\n",
              "    <tr>\n",
              "      <th>15</th>\n",
              "      <td>predictions.T5_base_pt_long.triviaqa.triviaqa.csv</td>\n",
              "      <td>9835</td>\n",
              "    </tr>\n",
              "    <tr>\n",
              "      <th>14</th>\n",
              "      <td>predictions.T5_base_pt_long.quac.triviaqa.csv</td>\n",
              "      <td>9835</td>\n",
              "    </tr>\n",
              "    <tr>\n",
              "      <th>9</th>\n",
              "      <td>predictions.T5_base_pt_long.squad.triviaqa.csv</td>\n",
              "      <td>9835</td>\n",
              "    </tr>\n",
              "    <tr>\n",
              "      <th>4</th>\n",
              "      <td>predictions.T5_base_pt_long.nq.triviaqa.csv</td>\n",
              "      <td>9835</td>\n",
              "    </tr>\n",
              "    <tr>\n",
              "      <th>31</th>\n",
              "      <td>predictions.bart_base_pt_long.triviaqa.triviaq...</td>\n",
              "      <td>9835</td>\n",
              "    </tr>\n",
              "    <tr>\n",
              "      <th>30</th>\n",
              "      <td>predictions.bart_base_pt_long.triviaqa.squad.csv</td>\n",
              "      <td>10570</td>\n",
              "    </tr>\n",
              "    <tr>\n",
              "      <th>22</th>\n",
              "      <td>predictions.bart_base_pt_long.quac.squad.csv</td>\n",
              "      <td>10570</td>\n",
              "    </tr>\n",
              "    <tr>\n",
              "      <th>10</th>\n",
              "      <td>predictions.T5_base_pt_long.quac.squad.csv</td>\n",
              "      <td>10570</td>\n",
              "    </tr>\n",
              "    <tr>\n",
              "      <th>7</th>\n",
              "      <td>predictions.T5_base_pt_long.squad.squad.csv</td>\n",
              "      <td>10570</td>\n",
              "    </tr>\n",
              "    <tr>\n",
              "      <th>26</th>\n",
              "      <td>predictions.bart_base_pt_long.nq.squad.csv</td>\n",
              "      <td>10570</td>\n",
              "    </tr>\n",
              "    <tr>\n",
              "      <th>2</th>\n",
              "      <td>predictions.T5_base_pt_long.triviaqa.squad.csv</td>\n",
              "      <td>10570</td>\n",
              "    </tr>\n",
              "    <tr>\n",
              "      <th>1</th>\n",
              "      <td>predictions.T5_base_pt_long.nq.squad.csv</td>\n",
              "      <td>10570</td>\n",
              "    </tr>\n",
              "    <tr>\n",
              "      <th>18</th>\n",
              "      <td>predictions.bart_base_pt_long.squad.squad.csv</td>\n",
              "      <td>10570</td>\n",
              "    </tr>\n",
              "  </tbody>\n",
              "</table>\n",
              "</div>\n",
              "      <button class=\"colab-df-convert\" onclick=\"convertToInteractive('df-9fcb54d6-a175-45b8-847b-3f1d156ffd45')\"\n",
              "              title=\"Convert this dataframe to an interactive table.\"\n",
              "              style=\"display:none;\">\n",
              "        \n",
              "  <svg xmlns=\"http://www.w3.org/2000/svg\" height=\"24px\"viewBox=\"0 0 24 24\"\n",
              "       width=\"24px\">\n",
              "    <path d=\"M0 0h24v24H0V0z\" fill=\"none\"/>\n",
              "    <path d=\"M18.56 5.44l.94 2.06.94-2.06 2.06-.94-2.06-.94-.94-2.06-.94 2.06-2.06.94zm-11 1L8.5 8.5l.94-2.06 2.06-.94-2.06-.94L8.5 2.5l-.94 2.06-2.06.94zm10 10l.94 2.06.94-2.06 2.06-.94-2.06-.94-.94-2.06-.94 2.06-2.06.94z\"/><path d=\"M17.41 7.96l-1.37-1.37c-.4-.4-.92-.59-1.43-.59-.52 0-1.04.2-1.43.59L10.3 9.45l-7.72 7.72c-.78.78-.78 2.05 0 2.83L4 21.41c.39.39.9.59 1.41.59.51 0 1.02-.2 1.41-.59l7.78-7.78 2.81-2.81c.8-.78.8-2.07 0-2.86zM5.41 20L4 18.59l7.72-7.72 1.47 1.35L5.41 20z\"/>\n",
              "  </svg>\n",
              "      </button>\n",
              "      \n",
              "  <style>\n",
              "    .colab-df-container {\n",
              "      display:flex;\n",
              "      flex-wrap:wrap;\n",
              "      gap: 12px;\n",
              "    }\n",
              "\n",
              "    .colab-df-convert {\n",
              "      background-color: #E8F0FE;\n",
              "      border: none;\n",
              "      border-radius: 50%;\n",
              "      cursor: pointer;\n",
              "      display: none;\n",
              "      fill: #1967D2;\n",
              "      height: 32px;\n",
              "      padding: 0 0 0 0;\n",
              "      width: 32px;\n",
              "    }\n",
              "\n",
              "    .colab-df-convert:hover {\n",
              "      background-color: #E2EBFA;\n",
              "      box-shadow: 0px 1px 2px rgba(60, 64, 67, 0.3), 0px 1px 3px 1px rgba(60, 64, 67, 0.15);\n",
              "      fill: #174EA6;\n",
              "    }\n",
              "\n",
              "    [theme=dark] .colab-df-convert {\n",
              "      background-color: #3B4455;\n",
              "      fill: #D2E3FC;\n",
              "    }\n",
              "\n",
              "    [theme=dark] .colab-df-convert:hover {\n",
              "      background-color: #434B5C;\n",
              "      box-shadow: 0px 1px 3px 1px rgba(0, 0, 0, 0.15);\n",
              "      filter: drop-shadow(0px 1px 2px rgba(0, 0, 0, 0.3));\n",
              "      fill: #FFFFFF;\n",
              "    }\n",
              "  </style>\n",
              "\n",
              "      <script>\n",
              "        const buttonEl =\n",
              "          document.querySelector('#df-9fcb54d6-a175-45b8-847b-3f1d156ffd45 button.colab-df-convert');\n",
              "        buttonEl.style.display =\n",
              "          google.colab.kernel.accessAllowed ? 'block' : 'none';\n",
              "\n",
              "        async function convertToInteractive(key) {\n",
              "          const element = document.querySelector('#df-9fcb54d6-a175-45b8-847b-3f1d156ffd45');\n",
              "          const dataTable =\n",
              "            await google.colab.kernel.invokeFunction('convertToInteractive',\n",
              "                                                     [key], {});\n",
              "          if (!dataTable) return;\n",
              "\n",
              "          const docLinkHtml = 'Like what you see? Visit the ' +\n",
              "            '<a target=\"_blank\" href=https://colab.research.google.com/notebooks/data_table.ipynb>data table notebook</a>'\n",
              "            + ' to learn more about interactive tables.';\n",
              "          element.innerHTML = '';\n",
              "          dataTable['output_type'] = 'display_data';\n",
              "          await google.colab.output.renderOutput(dataTable, element);\n",
              "          const docLink = document.createElement('div');\n",
              "          docLink.innerHTML = docLinkHtml;\n",
              "          element.appendChild(docLink);\n",
              "        }\n",
              "      </script>\n",
              "    </div>\n",
              "  </div>\n",
              "  "
            ]
          },
          "metadata": {},
          "execution_count": 20
        }
      ],
      "source": [
        "df = pd.DataFrame([(os.path.basename(x), len (pd.read_csv(x))) for x in file_list], columns=['name', 'count']).sort_values(by=['count'])\n",
        "df"
      ]
    },
    {
      "cell_type": "code",
      "source": [
        "for name in file_list:\n",
        "  df = pd.read_csv(name)\n",
        "  df = df.replace(r'^\\s*$', np.nan, regex=True)\n",
        "  count = df['prediction'].isna().sum()\n",
        "  if count > 0:\n",
        "    print (f\"{os.path.basename(name)} empty predictions: {count}\")"
      ],
      "metadata": {
        "colab": {
          "base_uri": "https://localhost:8080/"
        },
        "id": "LZ6zCvyTknuE",
        "outputId": "6256663a-73aa-4f39-bdfc-198a2c0e0471"
      },
      "execution_count": 21,
      "outputs": [
        {
          "output_type": "stream",
          "name": "stdout",
          "text": [
            "predictions.T5_base_pt_long.triviaqa.squad.csv empty predictions: 96\n",
            "predictions.T5_base_pt_long.triviaqa.quac.csv empty predictions: 96\n",
            "predictions.T5_base_pt_long.triviaqa.nq.csv empty predictions: 5\n"
          ]
        }
      ]
    },
    {
      "cell_type": "code",
      "source": [
        "for file in file_list:\n",
        "  model, training, validation = os.path.basename(file).split(\".\")[1:4]\n",
        "  df = pd.read_csv(file)\n",
        "  print (f\"{model} {training} validation {validation}\", end=\" \")\n",
        "  if df.shape[0]==validation_set_size[validation]:\n",
        "    print (\"proper length\")\n",
        "  else:\n",
        "    print (\"BAD LENGTH\")  "
      ],
      "metadata": {
        "id": "JJH1EhsHVdE8",
        "outputId": "7eff0302-384d-416f-cbc4-384e666e2de1",
        "colab": {
          "base_uri": "https://localhost:8080/"
        }
      },
      "execution_count": 22,
      "outputs": [
        {
          "output_type": "stream",
          "name": "stdout",
          "text": [
            "T5_base_pt_long nq validation nq proper length\n",
            "T5_base_pt_long nq validation squad proper length\n",
            "T5_base_pt_long triviaqa validation squad proper length\n",
            "T5_base_pt_long nq validation quac proper length\n",
            "T5_base_pt_long nq validation triviaqa proper length\n",
            "T5_base_pt_long triviaqa validation quac proper length\n",
            "T5_base_pt_long triviaqa validation nq proper length\n",
            "T5_base_pt_long squad validation squad proper length\n",
            "T5_base_pt_long squad validation nq proper length\n",
            "T5_base_pt_long squad validation triviaqa proper length\n",
            "T5_base_pt_long quac validation squad proper length\n",
            "T5_base_pt_long quac validation nq proper length\n",
            "T5_base_pt_long squad validation quac proper length\n",
            "T5_base_pt_long quac validation quac proper length\n",
            "T5_base_pt_long quac validation triviaqa proper length\n",
            "T5_base_pt_long triviaqa validation triviaqa proper length\n",
            "bart_base_pt_long squad validation nq proper length\n",
            "bart_base_pt_long squad validation quac proper length\n",
            "bart_base_pt_long squad validation squad proper length\n",
            "bart_base_pt_long squad validation triviaqa proper length\n",
            "bart_base_pt_long quac validation nq proper length\n",
            "bart_base_pt_long quac validation quac proper length\n",
            "bart_base_pt_long quac validation squad proper length\n",
            "bart_base_pt_long quac validation triviaqa proper length\n",
            "bart_base_pt_long nq validation nq proper length\n",
            "bart_base_pt_long nq validation quac proper length\n",
            "bart_base_pt_long nq validation squad proper length\n",
            "bart_base_pt_long nq validation triviaqa proper length\n",
            "bart_base_pt_long triviaqa validation nq proper length\n",
            "bart_base_pt_long triviaqa validation quac proper length\n",
            "bart_base_pt_long triviaqa validation squad proper length\n",
            "bart_base_pt_long triviaqa validation triviaqa proper length\n"
          ]
        }
      ]
    },
    {
      "cell_type": "code",
      "source": [
        "for file in file_list:\n",
        " # df = pd.read_csv(file)[['context', 'answer', 'target', 'prediction']]\n",
        "  df = pd.read_csv(file, usecols=['context', 'answer', 'target', 'prediction'])\n",
        "  df = df.replace(r'^\\s*$', np.nan, regex=True)\n",
        "  df['prediction'] = df['prediction'].fillna('NO PREDICTION MADE')\n",
        "  output_file = f\"{processed_folder}{os.path.basename(file)}\"\n",
        "  df.to_csv(output_file, index=False)"
      ],
      "metadata": {
        "id": "f3sglDJsfFGY"
      },
      "execution_count": 23,
      "outputs": []
    },
    {
      "cell_type": "code",
      "source": [
        "for file in file_list:\n",
        "  model, training, validation = os.path.basename(file).split(\".\")[1:4]\n",
        "  test_file = f\"{processed_folder}{os.path.basename(file)}\"\n",
        "  df = pd.read_csv(test_file)\n",
        "  print(df.keys())"
      ],
      "metadata": {
        "colab": {
          "base_uri": "https://localhost:8080/"
        },
        "id": "VWh2EGovmCjw",
        "outputId": "c9fa98b2-ad43-4607-ff45-7be418f2455a"
      },
      "execution_count": 25,
      "outputs": [
        {
          "output_type": "stream",
          "name": "stdout",
          "text": [
            "Index(['context', 'answer', 'target', 'prediction'], dtype='object')\n",
            "Index(['context', 'answer', 'target', 'prediction'], dtype='object')\n",
            "Index(['context', 'answer', 'target', 'prediction'], dtype='object')\n",
            "Index(['context', 'answer', 'target', 'prediction'], dtype='object')\n",
            "Index(['context', 'answer', 'target', 'prediction'], dtype='object')\n",
            "Index(['context', 'answer', 'target', 'prediction'], dtype='object')\n",
            "Index(['context', 'answer', 'target', 'prediction'], dtype='object')\n",
            "Index(['context', 'answer', 'target', 'prediction'], dtype='object')\n",
            "Index(['context', 'answer', 'target', 'prediction'], dtype='object')\n",
            "Index(['context', 'answer', 'target', 'prediction'], dtype='object')\n",
            "Index(['context', 'answer', 'target', 'prediction'], dtype='object')\n",
            "Index(['context', 'answer', 'target', 'prediction'], dtype='object')\n",
            "Index(['context', 'answer', 'target', 'prediction'], dtype='object')\n",
            "Index(['context', 'answer', 'target', 'prediction'], dtype='object')\n",
            "Index(['context', 'answer', 'target', 'prediction'], dtype='object')\n",
            "Index(['context', 'answer', 'target', 'prediction'], dtype='object')\n",
            "Index(['context', 'answer', 'target', 'prediction'], dtype='object')\n",
            "Index(['context', 'answer', 'target', 'prediction'], dtype='object')\n",
            "Index(['context', 'answer', 'target', 'prediction'], dtype='object')\n",
            "Index(['context', 'answer', 'target', 'prediction'], dtype='object')\n",
            "Index(['context', 'answer', 'target', 'prediction'], dtype='object')\n",
            "Index(['context', 'answer', 'target', 'prediction'], dtype='object')\n",
            "Index(['context', 'answer', 'target', 'prediction'], dtype='object')\n",
            "Index(['context', 'answer', 'target', 'prediction'], dtype='object')\n",
            "Index(['context', 'answer', 'target', 'prediction'], dtype='object')\n",
            "Index(['context', 'answer', 'target', 'prediction'], dtype='object')\n",
            "Index(['context', 'answer', 'target', 'prediction'], dtype='object')\n",
            "Index(['context', 'answer', 'target', 'prediction'], dtype='object')\n",
            "Index(['context', 'answer', 'target', 'prediction'], dtype='object')\n",
            "Index(['context', 'answer', 'target', 'prediction'], dtype='object')\n",
            "Index(['context', 'answer', 'target', 'prediction'], dtype='object')\n",
            "Index(['context', 'answer', 'target', 'prediction'], dtype='object')\n"
          ]
        }
      ]
    },
    {
      "cell_type": "code",
      "source": [
        "for file in file_list:\n",
        "  model, training, validation = os.path.basename(file).split(\".\")[1:4]\n",
        "  test_file = f\"{processed_folder}{os.path.basename(file)}\"\n",
        "  df = pd.read_csv(test_file)\n",
        "  df = df[df['prediction'] == \"NO PREDICTION MADE\"]\n",
        "  if df.shape[0]: \n",
        "    print (test_file, df.shape[0])\n",
        "    print (df.index)"
      ],
      "metadata": {
        "colab": {
          "base_uri": "https://localhost:8080/"
        },
        "id": "6eRyrFoqpo5c",
        "outputId": "cfe979d9-265e-4fb2-e8f2-92dc99d09376"
      },
      "execution_count": 27,
      "outputs": [
        {
          "output_type": "stream",
          "name": "stdout",
          "text": [
            "/content/drive/MyDrive/w266 NLP Final Project/Predictions/predictions.T5_base_pt_long.triviaqa.squad.csv 96\n",
            "Int64Index([  431,   446,   475,   611,   710,   723,   807,   926,   986,\n",
            "             1033,  1134,  1161,  1292,  1362,  1458,  1491,  1533,  1586,\n",
            "             1750,  1858,  1872,  2273,  2406,  2473,  2501,  2595,  2646,\n",
            "             2732,  2751,  2830,  2903,  3087,  3097,  3144,  3158,  3362,\n",
            "             3891,  3929,  4050,  4119,  4154,  4212,  4234,  4273,  4394,\n",
            "             4624,  4660,  4692,  4699,  4743,  4830,  4950,  5342,  5461,\n",
            "             5490,  5565,  5638,  5692,  6015,  6114,  6720,  6761,  7112,\n",
            "             7154,  7293,  7461,  7495,  7547,  7588,  7600,  7641,  7716,\n",
            "             7816,  7973,  8055,  8101,  8140,  8232,  8300,  8373,  8389,\n",
            "             8709,  9038,  9062,  9148,  9286,  9503,  9754,  9846,  9851,\n",
            "            10128, 10237, 10271, 10299, 10363, 10460],\n",
            "           dtype='int64')\n",
            "/content/drive/MyDrive/w266 NLP Final Project/Predictions/predictions.T5_base_pt_long.triviaqa.quac.csv 96\n",
            "Int64Index([  42,   57,  358,  429,  451,  531,  620,  682,  755,  814,  876,\n",
            "             900, 1002, 1051, 1116, 1211, 1451, 1483, 1500, 1579, 1583, 1585,\n",
            "            1688, 1809, 1821, 1934, 1952, 1961, 1984, 2064, 2281, 2306, 2463,\n",
            "            2501, 2535, 2602, 2614, 2637, 2800, 2966, 3029, 3036, 3082, 3089,\n",
            "            3218, 3237, 3276, 3314, 3383, 3472, 3475, 3484, 3544, 3559, 3595,\n",
            "            3597, 3630, 3908, 3970, 3997, 4025, 4151, 4159, 4487, 4538, 4556,\n",
            "            4577, 4687, 4690, 4733, 4765, 4774, 4776, 4801, 4827, 4837, 4857,\n",
            "            4866, 4898, 4899, 4903, 4913, 4960, 4978, 4984, 5049, 5061, 5092,\n",
            "            5123, 5167, 5261, 5263, 5406, 5507, 5550, 5770],\n",
            "           dtype='int64')\n",
            "/content/drive/MyDrive/w266 NLP Final Project/Predictions/predictions.T5_base_pt_long.triviaqa.nq.csv 5\n",
            "Int64Index([880, 1031, 1129, 1345, 1808], dtype='int64')\n"
          ]
        }
      ]
    }
  ],
  "metadata": {
    "colab": {
      "collapsed_sections": [],
      "provenance": [],
      "include_colab_link": true
    },
    "gpuClass": "premium",
    "kernelspec": {
      "display_name": "Python 3 (ipykernel)",
      "language": "python",
      "name": "python3"
    },
    "language_info": {
      "codemirror_mode": {
        "name": "ipython",
        "version": 3
      },
      "file_extension": ".py",
      "mimetype": "text/x-python",
      "name": "python",
      "nbconvert_exporter": "python",
      "pygments_lexer": "ipython3",
      "version": "3.9.12"
    }
  },
  "nbformat": 4,
  "nbformat_minor": 0
}