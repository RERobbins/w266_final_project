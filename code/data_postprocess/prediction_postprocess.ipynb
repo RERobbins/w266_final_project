{
  "cells": [
    {
      "cell_type": "markdown",
      "metadata": {
        "id": "view-in-github",
        "colab_type": "text"
      },
      "source": [
        "<a href=\"https://colab.research.google.com/github/jeanlucjackson/w266_final_project/blob/main/code/data_postprocess/prediction_postprocess.ipynb\" target=\"_parent\"><img src=\"https://colab.research.google.com/assets/colab-badge.svg\" alt=\"Open In Colab\"/></a>"
      ]
    },
    {
      "cell_type": "code",
      "execution_count": 1,
      "metadata": {
        "colab": {
          "base_uri": "https://localhost:8080/"
        },
        "id": "17N1XaF7d6dW",
        "outputId": "83a444c2-1bff-49ad-c978-160f67ebac3b"
      },
      "outputs": [
        {
          "output_type": "stream",
          "name": "stdout",
          "text": [
            "Mounted at /content/drive\n"
          ]
        }
      ],
      "source": [
        "from google.colab import drive\n",
        "drive.mount('/content/drive')"
      ]
    },
    {
      "cell_type": "code",
      "execution_count": 2,
      "metadata": {
        "id": "3jvE9TJRd4cG"
      },
      "outputs": [],
      "source": [
        "import os\n",
        "import glob\n",
        "import numpy as np\n",
        "import pandas as pd\n",
        "\n",
        "#from google.colab import data_table\n",
        "#data_table.enable_dataframe_formatter()"
      ]
    },
    {
      "cell_type": "code",
      "execution_count": 3,
      "metadata": {
        "id": "iMHoUiDnd9He"
      },
      "outputs": [],
      "source": [
        "# Some important file locations and constants\n",
        "\n",
        "project_root = \"/content/drive/MyDrive/w266 NLP Final Project/\"\n",
        "prediction_folder = project_root + \"Predictions/checkpoint/\"\n",
        "data_folder = project_root + \"Data/\"\n",
        "processed_folder = project_root + \"Predictions/\"\n",
        "\n",
        "datasets = ['nq', 'quac', 'squad.hf', 'triviaqa']\n",
        "\n",
        "validation_set_size = {}"
      ]
    },
    {
      "cell_type": "code",
      "source": [
        "for dataset in datasets:\n",
        "  df = pd.read_csv(f\"{data_folder}{dataset}/valid_pairs.csv\")\n",
        "  validation_set_size [dataset.split(\".\")[0]] = df.shape[0]"
      ],
      "metadata": {
        "id": "_oLDdfxlbSrT"
      },
      "execution_count": 4,
      "outputs": []
    },
    {
      "cell_type": "code",
      "source": [
        "validation_set_size"
      ],
      "metadata": {
        "id": "Qc76Hn1Vbpxt",
        "outputId": "c712a878-e917-408a-bacd-434227430b26",
        "colab": {
          "base_uri": "https://localhost:8080/"
        }
      },
      "execution_count": 5,
      "outputs": [
        {
          "output_type": "execute_result",
          "data": {
            "text/plain": [
              "{'nq': 2356, 'quac': 5868, 'squad': 10570, 'triviaqa': 9835}"
            ]
          },
          "metadata": {},
          "execution_count": 5
        }
      ]
    },
    {
      "cell_type": "code",
      "execution_count": 6,
      "metadata": {
        "id": "dqiY1wv-dxLx"
      },
      "outputs": [],
      "source": [
        "file_list = glob.glob(prediction_folder + \"*.beams.csv\")"
      ]
    },
    {
      "cell_type": "code",
      "execution_count": 7,
      "metadata": {
        "id": "UHTIt4vpONUk",
        "outputId": "1977de32-7a3a-4251-cacf-78bb3f0f6438",
        "colab": {
          "base_uri": "https://localhost:8080/"
        }
      },
      "outputs": [
        {
          "output_type": "execute_result",
          "data": {
            "text/plain": [
              "['/content/drive/MyDrive/w266 NLP Final Project/Predictions/checkpoint/predictions.bart_base_pt_long.nq.squad.beams.csv',\n",
              " '/content/drive/MyDrive/w266 NLP Final Project/Predictions/checkpoint/predictions.bart_base_pt_long.quac.triviaqa.beams.csv',\n",
              " '/content/drive/MyDrive/w266 NLP Final Project/Predictions/checkpoint/predictions.bart_base_pt_long.squad.quac.beams.csv',\n",
              " '/content/drive/MyDrive/w266 NLP Final Project/Predictions/checkpoint/predictions.bart_base_pt_long.squad.nq.beams.csv',\n",
              " '/content/drive/MyDrive/w266 NLP Final Project/Predictions/checkpoint/predictions.bart_base_pt_long.quac.quac.beams.csv',\n",
              " '/content/drive/MyDrive/w266 NLP Final Project/Predictions/checkpoint/predictions.bart_base_pt_long.triviaqa.triviaqa.beams.csv',\n",
              " '/content/drive/MyDrive/w266 NLP Final Project/Predictions/checkpoint/predictions.bart_base_pt_long.quac.nq.beams.csv',\n",
              " '/content/drive/MyDrive/w266 NLP Final Project/Predictions/checkpoint/predictions.bart_base_pt_long.triviaqa.nq.beams.csv',\n",
              " '/content/drive/MyDrive/w266 NLP Final Project/Predictions/checkpoint/predictions.bart_base_pt_long.nq.nq.beams.csv',\n",
              " '/content/drive/MyDrive/w266 NLP Final Project/Predictions/checkpoint/predictions.bart_base_pt_long.triviaqa.quac.beams.csv',\n",
              " '/content/drive/MyDrive/w266 NLP Final Project/Predictions/checkpoint/predictions.bart_base_pt_long.squad.triviaqa.beams.csv',\n",
              " '/content/drive/MyDrive/w266 NLP Final Project/Predictions/checkpoint/predictions.bart_base_pt_long.nq.quac.beams.csv',\n",
              " '/content/drive/MyDrive/w266 NLP Final Project/Predictions/checkpoint/predictions.bart_base_pt_long.nq.triviaqa.beams.csv',\n",
              " '/content/drive/MyDrive/w266 NLP Final Project/Predictions/checkpoint/predictions.bart_base_pt_long.triviaqa.squad.beams.csv',\n",
              " '/content/drive/MyDrive/w266 NLP Final Project/Predictions/checkpoint/predictions.bart_base_pt_long.squad.squad.beams.csv',\n",
              " '/content/drive/MyDrive/w266 NLP Final Project/Predictions/checkpoint/predictions.bart_base_pt_long.amalgam.squad.beams.csv',\n",
              " '/content/drive/MyDrive/w266 NLP Final Project/Predictions/checkpoint/predictions.bart_base_pt_long.quac.squad.beams.csv',\n",
              " '/content/drive/MyDrive/w266 NLP Final Project/Predictions/checkpoint/predictions.bart_base_pt_long.amalgam.nq.beams.csv',\n",
              " '/content/drive/MyDrive/w266 NLP Final Project/Predictions/checkpoint/predictions.bart_base_pt_long.amalgam.triviaqa.beams.csv',\n",
              " '/content/drive/MyDrive/w266 NLP Final Project/Predictions/checkpoint/predictions.bart_base_pt_long.amalgam.quac.beams.csv']"
            ]
          },
          "metadata": {},
          "execution_count": 7
        }
      ],
      "source": [
        "file_list"
      ]
    },
    {
      "cell_type": "code",
      "source": [
        "len(file_list)"
      ],
      "metadata": {
        "colab": {
          "base_uri": "https://localhost:8080/"
        },
        "id": "ic-R-RJiDU7q",
        "outputId": "e744765f-07ad-46e8-8a45-f5970027b26a"
      },
      "execution_count": 8,
      "outputs": [
        {
          "output_type": "execute_result",
          "data": {
            "text/plain": [
              "20"
            ]
          },
          "metadata": {},
          "execution_count": 8
        }
      ]
    },
    {
      "cell_type": "code",
      "execution_count": 9,
      "metadata": {
        "id": "0zljTLBVONUl",
        "outputId": "605fcd29-4459-4ef5-fa2f-4d60b0cf6963",
        "colab": {
          "base_uri": "https://localhost:8080/",
          "height": 677
        }
      },
      "outputs": [
        {
          "output_type": "execute_result",
          "data": {
            "text/plain": [
              "                                                 name  count\n",
              "17  predictions.bart_base_pt_long.amalgam.nq.beams...   2356\n",
              "3    predictions.bart_base_pt_long.squad.nq.beams.csv   2356\n",
              "8       predictions.bart_base_pt_long.nq.nq.beams.csv   2356\n",
              "7   predictions.bart_base_pt_long.triviaqa.nq.beam...   2356\n",
              "6     predictions.bart_base_pt_long.quac.nq.beams.csv   2356\n",
              "9   predictions.bart_base_pt_long.triviaqa.quac.be...   5868\n",
              "11    predictions.bart_base_pt_long.nq.quac.beams.csv   5868\n",
              "19  predictions.bart_base_pt_long.amalgam.quac.bea...   5868\n",
              "4   predictions.bart_base_pt_long.quac.quac.beams.csv   5868\n",
              "2   predictions.bart_base_pt_long.squad.quac.beams...   5868\n",
              "18  predictions.bart_base_pt_long.amalgam.triviaqa...   9835\n",
              "10  predictions.bart_base_pt_long.squad.triviaqa.b...   9835\n",
              "12  predictions.bart_base_pt_long.nq.triviaqa.beam...   9835\n",
              "1   predictions.bart_base_pt_long.quac.triviaqa.be...   9835\n",
              "5   predictions.bart_base_pt_long.triviaqa.triviaq...   9835\n",
              "13  predictions.bart_base_pt_long.triviaqa.squad.b...  10570\n",
              "14  predictions.bart_base_pt_long.squad.squad.beam...  10570\n",
              "15  predictions.bart_base_pt_long.amalgam.squad.be...  10570\n",
              "16  predictions.bart_base_pt_long.quac.squad.beams...  10570\n",
              "0    predictions.bart_base_pt_long.nq.squad.beams.csv  10570"
            ],
            "text/html": [
              "\n",
              "  <div id=\"df-2609c538-68dd-4bde-8bb4-1ead84bef528\">\n",
              "    <div class=\"colab-df-container\">\n",
              "      <div>\n",
              "<style scoped>\n",
              "    .dataframe tbody tr th:only-of-type {\n",
              "        vertical-align: middle;\n",
              "    }\n",
              "\n",
              "    .dataframe tbody tr th {\n",
              "        vertical-align: top;\n",
              "    }\n",
              "\n",
              "    .dataframe thead th {\n",
              "        text-align: right;\n",
              "    }\n",
              "</style>\n",
              "<table border=\"1\" class=\"dataframe\">\n",
              "  <thead>\n",
              "    <tr style=\"text-align: right;\">\n",
              "      <th></th>\n",
              "      <th>name</th>\n",
              "      <th>count</th>\n",
              "    </tr>\n",
              "  </thead>\n",
              "  <tbody>\n",
              "    <tr>\n",
              "      <th>17</th>\n",
              "      <td>predictions.bart_base_pt_long.amalgam.nq.beams...</td>\n",
              "      <td>2356</td>\n",
              "    </tr>\n",
              "    <tr>\n",
              "      <th>3</th>\n",
              "      <td>predictions.bart_base_pt_long.squad.nq.beams.csv</td>\n",
              "      <td>2356</td>\n",
              "    </tr>\n",
              "    <tr>\n",
              "      <th>8</th>\n",
              "      <td>predictions.bart_base_pt_long.nq.nq.beams.csv</td>\n",
              "      <td>2356</td>\n",
              "    </tr>\n",
              "    <tr>\n",
              "      <th>7</th>\n",
              "      <td>predictions.bart_base_pt_long.triviaqa.nq.beam...</td>\n",
              "      <td>2356</td>\n",
              "    </tr>\n",
              "    <tr>\n",
              "      <th>6</th>\n",
              "      <td>predictions.bart_base_pt_long.quac.nq.beams.csv</td>\n",
              "      <td>2356</td>\n",
              "    </tr>\n",
              "    <tr>\n",
              "      <th>9</th>\n",
              "      <td>predictions.bart_base_pt_long.triviaqa.quac.be...</td>\n",
              "      <td>5868</td>\n",
              "    </tr>\n",
              "    <tr>\n",
              "      <th>11</th>\n",
              "      <td>predictions.bart_base_pt_long.nq.quac.beams.csv</td>\n",
              "      <td>5868</td>\n",
              "    </tr>\n",
              "    <tr>\n",
              "      <th>19</th>\n",
              "      <td>predictions.bart_base_pt_long.amalgam.quac.bea...</td>\n",
              "      <td>5868</td>\n",
              "    </tr>\n",
              "    <tr>\n",
              "      <th>4</th>\n",
              "      <td>predictions.bart_base_pt_long.quac.quac.beams.csv</td>\n",
              "      <td>5868</td>\n",
              "    </tr>\n",
              "    <tr>\n",
              "      <th>2</th>\n",
              "      <td>predictions.bart_base_pt_long.squad.quac.beams...</td>\n",
              "      <td>5868</td>\n",
              "    </tr>\n",
              "    <tr>\n",
              "      <th>18</th>\n",
              "      <td>predictions.bart_base_pt_long.amalgam.triviaqa...</td>\n",
              "      <td>9835</td>\n",
              "    </tr>\n",
              "    <tr>\n",
              "      <th>10</th>\n",
              "      <td>predictions.bart_base_pt_long.squad.triviaqa.b...</td>\n",
              "      <td>9835</td>\n",
              "    </tr>\n",
              "    <tr>\n",
              "      <th>12</th>\n",
              "      <td>predictions.bart_base_pt_long.nq.triviaqa.beam...</td>\n",
              "      <td>9835</td>\n",
              "    </tr>\n",
              "    <tr>\n",
              "      <th>1</th>\n",
              "      <td>predictions.bart_base_pt_long.quac.triviaqa.be...</td>\n",
              "      <td>9835</td>\n",
              "    </tr>\n",
              "    <tr>\n",
              "      <th>5</th>\n",
              "      <td>predictions.bart_base_pt_long.triviaqa.triviaq...</td>\n",
              "      <td>9835</td>\n",
              "    </tr>\n",
              "    <tr>\n",
              "      <th>13</th>\n",
              "      <td>predictions.bart_base_pt_long.triviaqa.squad.b...</td>\n",
              "      <td>10570</td>\n",
              "    </tr>\n",
              "    <tr>\n",
              "      <th>14</th>\n",
              "      <td>predictions.bart_base_pt_long.squad.squad.beam...</td>\n",
              "      <td>10570</td>\n",
              "    </tr>\n",
              "    <tr>\n",
              "      <th>15</th>\n",
              "      <td>predictions.bart_base_pt_long.amalgam.squad.be...</td>\n",
              "      <td>10570</td>\n",
              "    </tr>\n",
              "    <tr>\n",
              "      <th>16</th>\n",
              "      <td>predictions.bart_base_pt_long.quac.squad.beams...</td>\n",
              "      <td>10570</td>\n",
              "    </tr>\n",
              "    <tr>\n",
              "      <th>0</th>\n",
              "      <td>predictions.bart_base_pt_long.nq.squad.beams.csv</td>\n",
              "      <td>10570</td>\n",
              "    </tr>\n",
              "  </tbody>\n",
              "</table>\n",
              "</div>\n",
              "      <button class=\"colab-df-convert\" onclick=\"convertToInteractive('df-2609c538-68dd-4bde-8bb4-1ead84bef528')\"\n",
              "              title=\"Convert this dataframe to an interactive table.\"\n",
              "              style=\"display:none;\">\n",
              "        \n",
              "  <svg xmlns=\"http://www.w3.org/2000/svg\" height=\"24px\"viewBox=\"0 0 24 24\"\n",
              "       width=\"24px\">\n",
              "    <path d=\"M0 0h24v24H0V0z\" fill=\"none\"/>\n",
              "    <path d=\"M18.56 5.44l.94 2.06.94-2.06 2.06-.94-2.06-.94-.94-2.06-.94 2.06-2.06.94zm-11 1L8.5 8.5l.94-2.06 2.06-.94-2.06-.94L8.5 2.5l-.94 2.06-2.06.94zm10 10l.94 2.06.94-2.06 2.06-.94-2.06-.94-.94-2.06-.94 2.06-2.06.94z\"/><path d=\"M17.41 7.96l-1.37-1.37c-.4-.4-.92-.59-1.43-.59-.52 0-1.04.2-1.43.59L10.3 9.45l-7.72 7.72c-.78.78-.78 2.05 0 2.83L4 21.41c.39.39.9.59 1.41.59.51 0 1.02-.2 1.41-.59l7.78-7.78 2.81-2.81c.8-.78.8-2.07 0-2.86zM5.41 20L4 18.59l7.72-7.72 1.47 1.35L5.41 20z\"/>\n",
              "  </svg>\n",
              "      </button>\n",
              "      \n",
              "  <style>\n",
              "    .colab-df-container {\n",
              "      display:flex;\n",
              "      flex-wrap:wrap;\n",
              "      gap: 12px;\n",
              "    }\n",
              "\n",
              "    .colab-df-convert {\n",
              "      background-color: #E8F0FE;\n",
              "      border: none;\n",
              "      border-radius: 50%;\n",
              "      cursor: pointer;\n",
              "      display: none;\n",
              "      fill: #1967D2;\n",
              "      height: 32px;\n",
              "      padding: 0 0 0 0;\n",
              "      width: 32px;\n",
              "    }\n",
              "\n",
              "    .colab-df-convert:hover {\n",
              "      background-color: #E2EBFA;\n",
              "      box-shadow: 0px 1px 2px rgba(60, 64, 67, 0.3), 0px 1px 3px 1px rgba(60, 64, 67, 0.15);\n",
              "      fill: #174EA6;\n",
              "    }\n",
              "\n",
              "    [theme=dark] .colab-df-convert {\n",
              "      background-color: #3B4455;\n",
              "      fill: #D2E3FC;\n",
              "    }\n",
              "\n",
              "    [theme=dark] .colab-df-convert:hover {\n",
              "      background-color: #434B5C;\n",
              "      box-shadow: 0px 1px 3px 1px rgba(0, 0, 0, 0.15);\n",
              "      filter: drop-shadow(0px 1px 2px rgba(0, 0, 0, 0.3));\n",
              "      fill: #FFFFFF;\n",
              "    }\n",
              "  </style>\n",
              "\n",
              "      <script>\n",
              "        const buttonEl =\n",
              "          document.querySelector('#df-2609c538-68dd-4bde-8bb4-1ead84bef528 button.colab-df-convert');\n",
              "        buttonEl.style.display =\n",
              "          google.colab.kernel.accessAllowed ? 'block' : 'none';\n",
              "\n",
              "        async function convertToInteractive(key) {\n",
              "          const element = document.querySelector('#df-2609c538-68dd-4bde-8bb4-1ead84bef528');\n",
              "          const dataTable =\n",
              "            await google.colab.kernel.invokeFunction('convertToInteractive',\n",
              "                                                     [key], {});\n",
              "          if (!dataTable) return;\n",
              "\n",
              "          const docLinkHtml = 'Like what you see? Visit the ' +\n",
              "            '<a target=\"_blank\" href=https://colab.research.google.com/notebooks/data_table.ipynb>data table notebook</a>'\n",
              "            + ' to learn more about interactive tables.';\n",
              "          element.innerHTML = '';\n",
              "          dataTable['output_type'] = 'display_data';\n",
              "          await google.colab.output.renderOutput(dataTable, element);\n",
              "          const docLink = document.createElement('div');\n",
              "          docLink.innerHTML = docLinkHtml;\n",
              "          element.appendChild(docLink);\n",
              "        }\n",
              "      </script>\n",
              "    </div>\n",
              "  </div>\n",
              "  "
            ]
          },
          "metadata": {},
          "execution_count": 9
        }
      ],
      "source": [
        "df = pd.DataFrame([(os.path.basename(x), len (pd.read_csv(x))) for x in file_list], columns=['name', 'count']).sort_values(by=['count'])\n",
        "df"
      ]
    },
    {
      "cell_type": "code",
      "source": [
        "for name in file_list:\n",
        "  df = pd.read_csv(name)\n",
        "  df = df.replace(r'^\\s*$', np.nan, regex=True)\n",
        "  count = df['prediction'].isna().sum()\n",
        "  if count > 0:\n",
        "    print (f\"{os.path.basename(name)} empty predictions: {count}\")"
      ],
      "metadata": {
        "id": "LZ6zCvyTknuE"
      },
      "execution_count": 10,
      "outputs": []
    },
    {
      "cell_type": "code",
      "source": [
        "for file in file_list:\n",
        "  model, training, validation = os.path.basename(file).split(\".\")[1:4]\n",
        "  df = pd.read_csv(file)\n",
        "  print (f\"{model} {training} validation {validation}\", end=\" \")\n",
        "  if df.shape[0]==validation_set_size[validation]:\n",
        "    print (\"proper length\")\n",
        "  else:\n",
        "    print (\"BAD LENGTH\")  "
      ],
      "metadata": {
        "id": "JJH1EhsHVdE8",
        "outputId": "8f327c38-213e-45c3-e5de-c972013173e3",
        "colab": {
          "base_uri": "https://localhost:8080/"
        }
      },
      "execution_count": 11,
      "outputs": [
        {
          "output_type": "stream",
          "name": "stdout",
          "text": [
            "bart_base_pt_long nq validation squad proper length\n",
            "bart_base_pt_long quac validation triviaqa proper length\n",
            "bart_base_pt_long squad validation quac proper length\n",
            "bart_base_pt_long squad validation nq proper length\n",
            "bart_base_pt_long quac validation quac proper length\n",
            "bart_base_pt_long triviaqa validation triviaqa proper length\n",
            "bart_base_pt_long quac validation nq proper length\n",
            "bart_base_pt_long triviaqa validation nq proper length\n",
            "bart_base_pt_long nq validation nq proper length\n",
            "bart_base_pt_long triviaqa validation quac proper length\n",
            "bart_base_pt_long squad validation triviaqa proper length\n",
            "bart_base_pt_long nq validation quac proper length\n",
            "bart_base_pt_long nq validation triviaqa proper length\n",
            "bart_base_pt_long triviaqa validation squad proper length\n",
            "bart_base_pt_long squad validation squad proper length\n",
            "bart_base_pt_long amalgam validation squad proper length\n",
            "bart_base_pt_long quac validation squad proper length\n",
            "bart_base_pt_long amalgam validation nq proper length\n",
            "bart_base_pt_long amalgam validation triviaqa proper length\n",
            "bart_base_pt_long amalgam validation quac proper length\n"
          ]
        }
      ]
    },
    {
      "cell_type": "code",
      "source": [
        "for file in file_list:\n",
        "  df = pd.read_csv(file, usecols=['context', 'answer', 'target', 'prediction'])\n",
        "  df = df.replace(r'^\\s*$', np.nan, regex=True)\n",
        "  df['prediction'] = df['prediction'].fillna('NO PREDICTION MADE')\n",
        "  output_file = f\"{processed_folder}{os.path.basename(file)}\"\n",
        "  df.to_csv(output_file, index=False)"
      ],
      "metadata": {
        "id": "f3sglDJsfFGY"
      },
      "execution_count": 12,
      "outputs": []
    },
    {
      "cell_type": "code",
      "source": [
        "for file in file_list:\n",
        "  model, training, validation = os.path.basename(file).split(\".\")[1:4]\n",
        "  test_file = f\"{processed_folder}{os.path.basename(file)}\"\n",
        "  df = pd.read_csv(test_file)\n",
        "  print(df.keys())"
      ],
      "metadata": {
        "colab": {
          "base_uri": "https://localhost:8080/"
        },
        "id": "VWh2EGovmCjw",
        "outputId": "bcbf2b09-ad5e-40d6-93f0-47b3465bc549"
      },
      "execution_count": 13,
      "outputs": [
        {
          "output_type": "stream",
          "name": "stdout",
          "text": [
            "Index(['context', 'answer', 'target', 'prediction'], dtype='object')\n",
            "Index(['context', 'answer', 'target', 'prediction'], dtype='object')\n",
            "Index(['context', 'answer', 'target', 'prediction'], dtype='object')\n",
            "Index(['context', 'answer', 'target', 'prediction'], dtype='object')\n",
            "Index(['context', 'answer', 'target', 'prediction'], dtype='object')\n",
            "Index(['context', 'answer', 'target', 'prediction'], dtype='object')\n",
            "Index(['context', 'answer', 'target', 'prediction'], dtype='object')\n",
            "Index(['context', 'answer', 'target', 'prediction'], dtype='object')\n",
            "Index(['context', 'answer', 'target', 'prediction'], dtype='object')\n",
            "Index(['context', 'answer', 'target', 'prediction'], dtype='object')\n",
            "Index(['context', 'answer', 'target', 'prediction'], dtype='object')\n",
            "Index(['context', 'answer', 'target', 'prediction'], dtype='object')\n",
            "Index(['context', 'answer', 'target', 'prediction'], dtype='object')\n",
            "Index(['context', 'answer', 'target', 'prediction'], dtype='object')\n",
            "Index(['context', 'answer', 'target', 'prediction'], dtype='object')\n",
            "Index(['context', 'answer', 'target', 'prediction'], dtype='object')\n",
            "Index(['context', 'answer', 'target', 'prediction'], dtype='object')\n",
            "Index(['context', 'answer', 'target', 'prediction'], dtype='object')\n",
            "Index(['context', 'answer', 'target', 'prediction'], dtype='object')\n",
            "Index(['context', 'answer', 'target', 'prediction'], dtype='object')\n"
          ]
        }
      ]
    },
    {
      "cell_type": "code",
      "source": [
        "for file in file_list:\n",
        "  model, training, validation = os.path.basename(file).split(\".\")[1:4]\n",
        "  test_file = f\"{processed_folder}{os.path.basename(file)}\"\n",
        "  df = pd.read_csv(test_file)\n",
        "  df = df[df['prediction'] == \"NO PREDICTION MADE\"]\n",
        "  if df.shape[0]: \n",
        "    print (test_file, df.shape[0])\n",
        "    print (df.index)"
      ],
      "metadata": {
        "id": "6eRyrFoqpo5c"
      },
      "execution_count": 15,
      "outputs": []
    }
  ],
  "metadata": {
    "colab": {
      "provenance": [],
      "include_colab_link": true
    },
    "gpuClass": "premium",
    "kernelspec": {
      "display_name": "Python 3 (ipykernel)",
      "language": "python",
      "name": "python3"
    },
    "language_info": {
      "codemirror_mode": {
        "name": "ipython",
        "version": 3
      },
      "file_extension": ".py",
      "mimetype": "text/x-python",
      "name": "python",
      "nbconvert_exporter": "python",
      "pygments_lexer": "ipython3",
      "version": "3.9.12"
    }
  },
  "nbformat": 4,
  "nbformat_minor": 0
}