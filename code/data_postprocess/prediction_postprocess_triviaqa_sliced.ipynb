{
  "cells": [
    {
      "cell_type": "markdown",
      "metadata": {
        "id": "view-in-github",
        "colab_type": "text"
      },
      "source": [
        "<a href=\"https://colab.research.google.com/github/jeanlucjackson/w266_final_project/blob/main/code/data_postprocess/prediction_postprocess_triviaqa_sliced.ipynb\" target=\"_parent\"><img src=\"https://colab.research.google.com/assets/colab-badge.svg\" alt=\"Open In Colab\"/></a>"
      ]
    },
    {
      "cell_type": "code",
      "execution_count": 1,
      "metadata": {
        "colab": {
          "base_uri": "https://localhost:8080/"
        },
        "id": "17N1XaF7d6dW",
        "outputId": "1001a30f-428f-472a-c203-6609fd53ab60"
      },
      "outputs": [
        {
          "output_type": "stream",
          "name": "stdout",
          "text": [
            "Mounted at /content/drive\n"
          ]
        }
      ],
      "source": [
        "from google.colab import drive\n",
        "drive.mount('/content/drive')"
      ]
    },
    {
      "cell_type": "code",
      "execution_count": 2,
      "metadata": {
        "id": "3jvE9TJRd4cG"
      },
      "outputs": [],
      "source": [
        "import os\n",
        "import glob\n",
        "import numpy as np\n",
        "import pandas as pd\n",
        "\n",
        "#from google.colab import data_table\n",
        "#data_table.enable_dataframe_formatter()"
      ]
    },
    {
      "cell_type": "code",
      "execution_count": 15,
      "metadata": {
        "id": "iMHoUiDnd9He"
      },
      "outputs": [],
      "source": [
        "# Some important file locations and constants\n",
        "\n",
        "project_root = \"/content/drive/MyDrive/w266 NLP Final Project/\"\n",
        "prediction_folder = project_root + \"Predictions_3/checkpoint/\"\n",
        "data_folder = project_root + \"Data/\"\n",
        "processed_folder = project_root + \"Predictions_3/\"\n",
        "\n",
        "datasets = ['valid_pairs_v1.csv', 'valid_pairs_v2.csv', 'valid_pairs_d1.csv']\n",
        "\n",
        "validation_set_size = {}"
      ]
    },
    {
      "cell_type": "code",
      "source": [
        "for dataset in datasets:\n",
        "  df = pd.read_csv(f\"{data_folder}triviaqa/{dataset}\")\n",
        "  validation_set_size [dataset.split(\".\")[0]] = df.shape[0]"
      ],
      "metadata": {
        "id": "_oLDdfxlbSrT"
      },
      "execution_count": 4,
      "outputs": []
    },
    {
      "cell_type": "code",
      "source": [
        "validation_set_size"
      ],
      "metadata": {
        "id": "Qc76Hn1Vbpxt",
        "outputId": "9e8186f6-5bc1-41a6-d7fc-9e70abae0e50",
        "colab": {
          "base_uri": "https://localhost:8080/"
        }
      },
      "execution_count": 5,
      "outputs": [
        {
          "output_type": "execute_result",
          "data": {
            "text/plain": [
              "{'valid_pairs_v1': 493, 'valid_pairs_v2': 492, 'valid_pairs_d1': 985}"
            ]
          },
          "metadata": {},
          "execution_count": 5
        }
      ]
    },
    {
      "cell_type": "code",
      "execution_count": 6,
      "metadata": {
        "id": "dqiY1wv-dxLx"
      },
      "outputs": [],
      "source": [
        "file_list = glob.glob(prediction_folder + \"*.csv\")"
      ]
    },
    {
      "cell_type": "code",
      "execution_count": 7,
      "metadata": {
        "id": "UHTIt4vpONUk",
        "outputId": "3aa20deb-3056-4524-ebfd-ba44a8ef3730",
        "colab": {
          "base_uri": "https://localhost:8080/"
        }
      },
      "outputs": [
        {
          "output_type": "execute_result",
          "data": {
            "text/plain": [
              "['/content/drive/MyDrive/w266 NLP Final Project/Predictions_3/checkpoint/predictions.T5_base_pt_long.amalgam.triviaqa_v1.csv',\n",
              " '/content/drive/MyDrive/w266 NLP Final Project/Predictions_3/checkpoint/predictions.T5_base_pt_long.amalgam.triviaqa_v2.csv',\n",
              " '/content/drive/MyDrive/w266 NLP Final Project/Predictions_3/checkpoint/predictions.T5_base_pt_long.amalgam.triviaqa_d1.csv',\n",
              " '/content/drive/MyDrive/w266 NLP Final Project/Predictions_3/checkpoint/predictions.T5_base_pt_long.nq.triviaqa_v1.csv',\n",
              " '/content/drive/MyDrive/w266 NLP Final Project/Predictions_3/checkpoint/predictions.T5_base_pt_long.nq.triviaqa_v2.csv',\n",
              " '/content/drive/MyDrive/w266 NLP Final Project/Predictions_3/checkpoint/predictions.T5_base_pt_long.nq.triviaqa_d1.csv',\n",
              " '/content/drive/MyDrive/w266 NLP Final Project/Predictions_3/checkpoint/predictions.T5_base_pt_long.squad.triviaqa_v1.csv',\n",
              " '/content/drive/MyDrive/w266 NLP Final Project/Predictions_3/checkpoint/predictions.T5_base_pt_long.squad.triviaqa_v2.csv',\n",
              " '/content/drive/MyDrive/w266 NLP Final Project/Predictions_3/checkpoint/predictions.T5_base_pt_long.squad.triviaqa_d1.csv',\n",
              " '/content/drive/MyDrive/w266 NLP Final Project/Predictions_3/checkpoint/predictions.T5_base_pt_long.triviaqa.triviaqa_v1.csv',\n",
              " '/content/drive/MyDrive/w266 NLP Final Project/Predictions_3/checkpoint/predictions.T5_base_pt_long.triviaqa.triviaqa_v2.csv',\n",
              " '/content/drive/MyDrive/w266 NLP Final Project/Predictions_3/checkpoint/predictions.T5_base_pt_long.triviaqa.triviaqa_d1.csv',\n",
              " '/content/drive/MyDrive/w266 NLP Final Project/Predictions_3/checkpoint/predictions.T5_base_pt_long.quac.triviaqa_v1.csv',\n",
              " '/content/drive/MyDrive/w266 NLP Final Project/Predictions_3/checkpoint/predictions.T5_base_pt_long.quac.triviaqa_v2.csv',\n",
              " '/content/drive/MyDrive/w266 NLP Final Project/Predictions_3/checkpoint/predictions.T5_base_pt_long.quac.triviaqa_d1.csv',\n",
              " '/content/drive/MyDrive/w266 NLP Final Project/Predictions_3/checkpoint/predictions.bart_base_pt_long.amalgam.triviaqa_v1.csv',\n",
              " '/content/drive/MyDrive/w266 NLP Final Project/Predictions_3/checkpoint/predictions.bart_base_pt_long.amalgam.triviaqa_v2.csv',\n",
              " '/content/drive/MyDrive/w266 NLP Final Project/Predictions_3/checkpoint/predictions.bart_base_pt_long.amalgam.triviaqa_d1.csv',\n",
              " '/content/drive/MyDrive/w266 NLP Final Project/Predictions_3/checkpoint/predictions.bart_base_pt_long.nq.triviaqa_v1.csv',\n",
              " '/content/drive/MyDrive/w266 NLP Final Project/Predictions_3/checkpoint/predictions.bart_base_pt_long.nq.triviaqa_v2.csv',\n",
              " '/content/drive/MyDrive/w266 NLP Final Project/Predictions_3/checkpoint/predictions.bart_base_pt_long.nq.triviaqa_d1.csv',\n",
              " '/content/drive/MyDrive/w266 NLP Final Project/Predictions_3/checkpoint/predictions.bart_base_pt_long.squad.triviaqa_v1.csv',\n",
              " '/content/drive/MyDrive/w266 NLP Final Project/Predictions_3/checkpoint/predictions.bart_base_pt_long.squad.triviaqa_v2.csv',\n",
              " '/content/drive/MyDrive/w266 NLP Final Project/Predictions_3/checkpoint/predictions.bart_base_pt_long.squad.triviaqa_d1.csv',\n",
              " '/content/drive/MyDrive/w266 NLP Final Project/Predictions_3/checkpoint/predictions.bart_base_pt_long.triviaqa.triviaqa_v1.csv',\n",
              " '/content/drive/MyDrive/w266 NLP Final Project/Predictions_3/checkpoint/predictions.bart_base_pt_long.triviaqa.triviaqa_v2.csv',\n",
              " '/content/drive/MyDrive/w266 NLP Final Project/Predictions_3/checkpoint/predictions.bart_base_pt_long.triviaqa.triviaqa_d1.csv',\n",
              " '/content/drive/MyDrive/w266 NLP Final Project/Predictions_3/checkpoint/predictions.bart_base_pt_long.quac.triviaqa_v1.csv',\n",
              " '/content/drive/MyDrive/w266 NLP Final Project/Predictions_3/checkpoint/predictions.bart_base_pt_long.quac.triviaqa_v2.csv',\n",
              " '/content/drive/MyDrive/w266 NLP Final Project/Predictions_3/checkpoint/predictions.bart_base_pt_long.quac.triviaqa_d1.csv']"
            ]
          },
          "metadata": {},
          "execution_count": 7
        }
      ],
      "source": [
        "file_list"
      ]
    },
    {
      "cell_type": "code",
      "source": [
        "len(file_list)"
      ],
      "metadata": {
        "colab": {
          "base_uri": "https://localhost:8080/"
        },
        "id": "ic-R-RJiDU7q",
        "outputId": "9efe088e-fcd4-40c9-9cc7-d3c6561fb12f"
      },
      "execution_count": 8,
      "outputs": [
        {
          "output_type": "execute_result",
          "data": {
            "text/plain": [
              "30"
            ]
          },
          "metadata": {},
          "execution_count": 8
        }
      ]
    },
    {
      "cell_type": "code",
      "execution_count": 9,
      "metadata": {
        "id": "0zljTLBVONUl",
        "outputId": "27596c2a-bc94-40ef-e1e9-eaf6ca8bd8ba",
        "colab": {
          "base_uri": "https://localhost:8080/",
          "height": 990
        }
      },
      "outputs": [
        {
          "output_type": "execute_result",
          "data": {
            "text/plain": [
              "                                                 name  count\n",
              "10  predictions.T5_base_pt_long.triviaqa.triviaqa_...    492\n",
              "1   predictions.T5_base_pt_long.amalgam.triviaqa_v...    492\n",
              "19   predictions.bart_base_pt_long.nq.triviaqa_v2.csv    492\n",
              "4      predictions.T5_base_pt_long.nq.triviaqa_v2.csv    492\n",
              "16  predictions.bart_base_pt_long.amalgam.triviaqa...    492\n",
              "7   predictions.T5_base_pt_long.squad.triviaqa_v2.csv    492\n",
              "25  predictions.bart_base_pt_long.triviaqa.triviaq...    492\n",
              "28  predictions.bart_base_pt_long.quac.triviaqa_v2...    492\n",
              "22  predictions.bart_base_pt_long.squad.triviaqa_v...    492\n",
              "13   predictions.T5_base_pt_long.quac.triviaqa_v2.csv    492\n",
              "18   predictions.bart_base_pt_long.nq.triviaqa_v1.csv    493\n",
              "15  predictions.bart_base_pt_long.amalgam.triviaqa...    493\n",
              "0   predictions.T5_base_pt_long.amalgam.triviaqa_v...    493\n",
              "24  predictions.bart_base_pt_long.triviaqa.triviaq...    493\n",
              "9   predictions.T5_base_pt_long.triviaqa.triviaqa_...    493\n",
              "6   predictions.T5_base_pt_long.squad.triviaqa_v1.csv    493\n",
              "3      predictions.T5_base_pt_long.nq.triviaqa_v1.csv    493\n",
              "27  predictions.bart_base_pt_long.quac.triviaqa_v1...    493\n",
              "12   predictions.T5_base_pt_long.quac.triviaqa_v1.csv    493\n",
              "21  predictions.bart_base_pt_long.squad.triviaqa_v...    493\n",
              "26  predictions.bart_base_pt_long.triviaqa.triviaq...    985\n",
              "23  predictions.bart_base_pt_long.squad.triviaqa_d...    985\n",
              "14   predictions.T5_base_pt_long.quac.triviaqa_d1.csv    985\n",
              "17  predictions.bart_base_pt_long.amalgam.triviaqa...    985\n",
              "11  predictions.T5_base_pt_long.triviaqa.triviaqa_...    985\n",
              "8   predictions.T5_base_pt_long.squad.triviaqa_d1.csv    985\n",
              "5      predictions.T5_base_pt_long.nq.triviaqa_d1.csv    985\n",
              "2   predictions.T5_base_pt_long.amalgam.triviaqa_d...    985\n",
              "20   predictions.bart_base_pt_long.nq.triviaqa_d1.csv    985\n",
              "29  predictions.bart_base_pt_long.quac.triviaqa_d1...    985"
            ],
            "text/html": [
              "\n",
              "  <div id=\"df-58198414-26f9-4721-9174-21a08566d30f\">\n",
              "    <div class=\"colab-df-container\">\n",
              "      <div>\n",
              "<style scoped>\n",
              "    .dataframe tbody tr th:only-of-type {\n",
              "        vertical-align: middle;\n",
              "    }\n",
              "\n",
              "    .dataframe tbody tr th {\n",
              "        vertical-align: top;\n",
              "    }\n",
              "\n",
              "    .dataframe thead th {\n",
              "        text-align: right;\n",
              "    }\n",
              "</style>\n",
              "<table border=\"1\" class=\"dataframe\">\n",
              "  <thead>\n",
              "    <tr style=\"text-align: right;\">\n",
              "      <th></th>\n",
              "      <th>name</th>\n",
              "      <th>count</th>\n",
              "    </tr>\n",
              "  </thead>\n",
              "  <tbody>\n",
              "    <tr>\n",
              "      <th>10</th>\n",
              "      <td>predictions.T5_base_pt_long.triviaqa.triviaqa_...</td>\n",
              "      <td>492</td>\n",
              "    </tr>\n",
              "    <tr>\n",
              "      <th>1</th>\n",
              "      <td>predictions.T5_base_pt_long.amalgam.triviaqa_v...</td>\n",
              "      <td>492</td>\n",
              "    </tr>\n",
              "    <tr>\n",
              "      <th>19</th>\n",
              "      <td>predictions.bart_base_pt_long.nq.triviaqa_v2.csv</td>\n",
              "      <td>492</td>\n",
              "    </tr>\n",
              "    <tr>\n",
              "      <th>4</th>\n",
              "      <td>predictions.T5_base_pt_long.nq.triviaqa_v2.csv</td>\n",
              "      <td>492</td>\n",
              "    </tr>\n",
              "    <tr>\n",
              "      <th>16</th>\n",
              "      <td>predictions.bart_base_pt_long.amalgam.triviaqa...</td>\n",
              "      <td>492</td>\n",
              "    </tr>\n",
              "    <tr>\n",
              "      <th>7</th>\n",
              "      <td>predictions.T5_base_pt_long.squad.triviaqa_v2.csv</td>\n",
              "      <td>492</td>\n",
              "    </tr>\n",
              "    <tr>\n",
              "      <th>25</th>\n",
              "      <td>predictions.bart_base_pt_long.triviaqa.triviaq...</td>\n",
              "      <td>492</td>\n",
              "    </tr>\n",
              "    <tr>\n",
              "      <th>28</th>\n",
              "      <td>predictions.bart_base_pt_long.quac.triviaqa_v2...</td>\n",
              "      <td>492</td>\n",
              "    </tr>\n",
              "    <tr>\n",
              "      <th>22</th>\n",
              "      <td>predictions.bart_base_pt_long.squad.triviaqa_v...</td>\n",
              "      <td>492</td>\n",
              "    </tr>\n",
              "    <tr>\n",
              "      <th>13</th>\n",
              "      <td>predictions.T5_base_pt_long.quac.triviaqa_v2.csv</td>\n",
              "      <td>492</td>\n",
              "    </tr>\n",
              "    <tr>\n",
              "      <th>18</th>\n",
              "      <td>predictions.bart_base_pt_long.nq.triviaqa_v1.csv</td>\n",
              "      <td>493</td>\n",
              "    </tr>\n",
              "    <tr>\n",
              "      <th>15</th>\n",
              "      <td>predictions.bart_base_pt_long.amalgam.triviaqa...</td>\n",
              "      <td>493</td>\n",
              "    </tr>\n",
              "    <tr>\n",
              "      <th>0</th>\n",
              "      <td>predictions.T5_base_pt_long.amalgam.triviaqa_v...</td>\n",
              "      <td>493</td>\n",
              "    </tr>\n",
              "    <tr>\n",
              "      <th>24</th>\n",
              "      <td>predictions.bart_base_pt_long.triviaqa.triviaq...</td>\n",
              "      <td>493</td>\n",
              "    </tr>\n",
              "    <tr>\n",
              "      <th>9</th>\n",
              "      <td>predictions.T5_base_pt_long.triviaqa.triviaqa_...</td>\n",
              "      <td>493</td>\n",
              "    </tr>\n",
              "    <tr>\n",
              "      <th>6</th>\n",
              "      <td>predictions.T5_base_pt_long.squad.triviaqa_v1.csv</td>\n",
              "      <td>493</td>\n",
              "    </tr>\n",
              "    <tr>\n",
              "      <th>3</th>\n",
              "      <td>predictions.T5_base_pt_long.nq.triviaqa_v1.csv</td>\n",
              "      <td>493</td>\n",
              "    </tr>\n",
              "    <tr>\n",
              "      <th>27</th>\n",
              "      <td>predictions.bart_base_pt_long.quac.triviaqa_v1...</td>\n",
              "      <td>493</td>\n",
              "    </tr>\n",
              "    <tr>\n",
              "      <th>12</th>\n",
              "      <td>predictions.T5_base_pt_long.quac.triviaqa_v1.csv</td>\n",
              "      <td>493</td>\n",
              "    </tr>\n",
              "    <tr>\n",
              "      <th>21</th>\n",
              "      <td>predictions.bart_base_pt_long.squad.triviaqa_v...</td>\n",
              "      <td>493</td>\n",
              "    </tr>\n",
              "    <tr>\n",
              "      <th>26</th>\n",
              "      <td>predictions.bart_base_pt_long.triviaqa.triviaq...</td>\n",
              "      <td>985</td>\n",
              "    </tr>\n",
              "    <tr>\n",
              "      <th>23</th>\n",
              "      <td>predictions.bart_base_pt_long.squad.triviaqa_d...</td>\n",
              "      <td>985</td>\n",
              "    </tr>\n",
              "    <tr>\n",
              "      <th>14</th>\n",
              "      <td>predictions.T5_base_pt_long.quac.triviaqa_d1.csv</td>\n",
              "      <td>985</td>\n",
              "    </tr>\n",
              "    <tr>\n",
              "      <th>17</th>\n",
              "      <td>predictions.bart_base_pt_long.amalgam.triviaqa...</td>\n",
              "      <td>985</td>\n",
              "    </tr>\n",
              "    <tr>\n",
              "      <th>11</th>\n",
              "      <td>predictions.T5_base_pt_long.triviaqa.triviaqa_...</td>\n",
              "      <td>985</td>\n",
              "    </tr>\n",
              "    <tr>\n",
              "      <th>8</th>\n",
              "      <td>predictions.T5_base_pt_long.squad.triviaqa_d1.csv</td>\n",
              "      <td>985</td>\n",
              "    </tr>\n",
              "    <tr>\n",
              "      <th>5</th>\n",
              "      <td>predictions.T5_base_pt_long.nq.triviaqa_d1.csv</td>\n",
              "      <td>985</td>\n",
              "    </tr>\n",
              "    <tr>\n",
              "      <th>2</th>\n",
              "      <td>predictions.T5_base_pt_long.amalgam.triviaqa_d...</td>\n",
              "      <td>985</td>\n",
              "    </tr>\n",
              "    <tr>\n",
              "      <th>20</th>\n",
              "      <td>predictions.bart_base_pt_long.nq.triviaqa_d1.csv</td>\n",
              "      <td>985</td>\n",
              "    </tr>\n",
              "    <tr>\n",
              "      <th>29</th>\n",
              "      <td>predictions.bart_base_pt_long.quac.triviaqa_d1...</td>\n",
              "      <td>985</td>\n",
              "    </tr>\n",
              "  </tbody>\n",
              "</table>\n",
              "</div>\n",
              "      <button class=\"colab-df-convert\" onclick=\"convertToInteractive('df-58198414-26f9-4721-9174-21a08566d30f')\"\n",
              "              title=\"Convert this dataframe to an interactive table.\"\n",
              "              style=\"display:none;\">\n",
              "        \n",
              "  <svg xmlns=\"http://www.w3.org/2000/svg\" height=\"24px\"viewBox=\"0 0 24 24\"\n",
              "       width=\"24px\">\n",
              "    <path d=\"M0 0h24v24H0V0z\" fill=\"none\"/>\n",
              "    <path d=\"M18.56 5.44l.94 2.06.94-2.06 2.06-.94-2.06-.94-.94-2.06-.94 2.06-2.06.94zm-11 1L8.5 8.5l.94-2.06 2.06-.94-2.06-.94L8.5 2.5l-.94 2.06-2.06.94zm10 10l.94 2.06.94-2.06 2.06-.94-2.06-.94-.94-2.06-.94 2.06-2.06.94z\"/><path d=\"M17.41 7.96l-1.37-1.37c-.4-.4-.92-.59-1.43-.59-.52 0-1.04.2-1.43.59L10.3 9.45l-7.72 7.72c-.78.78-.78 2.05 0 2.83L4 21.41c.39.39.9.59 1.41.59.51 0 1.02-.2 1.41-.59l7.78-7.78 2.81-2.81c.8-.78.8-2.07 0-2.86zM5.41 20L4 18.59l7.72-7.72 1.47 1.35L5.41 20z\"/>\n",
              "  </svg>\n",
              "      </button>\n",
              "      \n",
              "  <style>\n",
              "    .colab-df-container {\n",
              "      display:flex;\n",
              "      flex-wrap:wrap;\n",
              "      gap: 12px;\n",
              "    }\n",
              "\n",
              "    .colab-df-convert {\n",
              "      background-color: #E8F0FE;\n",
              "      border: none;\n",
              "      border-radius: 50%;\n",
              "      cursor: pointer;\n",
              "      display: none;\n",
              "      fill: #1967D2;\n",
              "      height: 32px;\n",
              "      padding: 0 0 0 0;\n",
              "      width: 32px;\n",
              "    }\n",
              "\n",
              "    .colab-df-convert:hover {\n",
              "      background-color: #E2EBFA;\n",
              "      box-shadow: 0px 1px 2px rgba(60, 64, 67, 0.3), 0px 1px 3px 1px rgba(60, 64, 67, 0.15);\n",
              "      fill: #174EA6;\n",
              "    }\n",
              "\n",
              "    [theme=dark] .colab-df-convert {\n",
              "      background-color: #3B4455;\n",
              "      fill: #D2E3FC;\n",
              "    }\n",
              "\n",
              "    [theme=dark] .colab-df-convert:hover {\n",
              "      background-color: #434B5C;\n",
              "      box-shadow: 0px 1px 3px 1px rgba(0, 0, 0, 0.15);\n",
              "      filter: drop-shadow(0px 1px 2px rgba(0, 0, 0, 0.3));\n",
              "      fill: #FFFFFF;\n",
              "    }\n",
              "  </style>\n",
              "\n",
              "      <script>\n",
              "        const buttonEl =\n",
              "          document.querySelector('#df-58198414-26f9-4721-9174-21a08566d30f button.colab-df-convert');\n",
              "        buttonEl.style.display =\n",
              "          google.colab.kernel.accessAllowed ? 'block' : 'none';\n",
              "\n",
              "        async function convertToInteractive(key) {\n",
              "          const element = document.querySelector('#df-58198414-26f9-4721-9174-21a08566d30f');\n",
              "          const dataTable =\n",
              "            await google.colab.kernel.invokeFunction('convertToInteractive',\n",
              "                                                     [key], {});\n",
              "          if (!dataTable) return;\n",
              "\n",
              "          const docLinkHtml = 'Like what you see? Visit the ' +\n",
              "            '<a target=\"_blank\" href=https://colab.research.google.com/notebooks/data_table.ipynb>data table notebook</a>'\n",
              "            + ' to learn more about interactive tables.';\n",
              "          element.innerHTML = '';\n",
              "          dataTable['output_type'] = 'display_data';\n",
              "          await google.colab.output.renderOutput(dataTable, element);\n",
              "          const docLink = document.createElement('div');\n",
              "          docLink.innerHTML = docLinkHtml;\n",
              "          element.appendChild(docLink);\n",
              "        }\n",
              "      </script>\n",
              "    </div>\n",
              "  </div>\n",
              "  "
            ]
          },
          "metadata": {},
          "execution_count": 9
        }
      ],
      "source": [
        "df = pd.DataFrame([(os.path.basename(x), len (pd.read_csv(x))) for x in file_list], columns=['name', 'count']).sort_values(by=['count'])\n",
        "df"
      ]
    },
    {
      "cell_type": "code",
      "source": [
        "for name in file_list:\n",
        "  df = pd.read_csv(name)\n",
        "  df = df.replace(r'^\\s*$', np.nan, regex=True)\n",
        "  count = df['prediction'].isna().sum()\n",
        "  if count > 0:\n",
        "    print (f\"{os.path.basename(name)} empty predictions: {count}\")"
      ],
      "metadata": {
        "id": "LZ6zCvyTknuE"
      },
      "execution_count": 10,
      "outputs": []
    },
    {
      "cell_type": "code",
      "source": [
        "for file in file_list:\n",
        "  model, training, validation = os.path.basename(file).split(\".\")[1:4]\n",
        "  df = pd.read_csv(file)\n",
        "  print (f\"{model} {training} validation {validation}\", end=\" \")\n",
        "  if df.shape[0]==validation_set_size[validation]:\n",
        "    print (\"proper length\")\n",
        "  else:\n",
        "    print (\"BAD LENGTH\")  "
      ],
      "metadata": {
        "id": "JJH1EhsHVdE8",
        "outputId": "a9d0acc2-71a9-406a-8456-c4b53bf74431",
        "colab": {
          "base_uri": "https://localhost:8080/",
          "height": 253
        }
      },
      "execution_count": 11,
      "outputs": [
        {
          "output_type": "stream",
          "name": "stdout",
          "text": [
            "T5_base_pt_long amalgam validation triviaqa_v1 "
          ]
        },
        {
          "output_type": "error",
          "ename": "KeyError",
          "evalue": "ignored",
          "traceback": [
            "\u001b[0;31m---------------------------------------------------------------------------\u001b[0m",
            "\u001b[0;31mKeyError\u001b[0m                                  Traceback (most recent call last)",
            "\u001b[0;32m<ipython-input-11-0689ff6445f0>\u001b[0m in \u001b[0;36m<module>\u001b[0;34m\u001b[0m\n\u001b[1;32m      3\u001b[0m   \u001b[0mdf\u001b[0m \u001b[0;34m=\u001b[0m \u001b[0mpd\u001b[0m\u001b[0;34m.\u001b[0m\u001b[0mread_csv\u001b[0m\u001b[0;34m(\u001b[0m\u001b[0mfile\u001b[0m\u001b[0;34m)\u001b[0m\u001b[0;34m\u001b[0m\u001b[0;34m\u001b[0m\u001b[0m\n\u001b[1;32m      4\u001b[0m   \u001b[0mprint\u001b[0m \u001b[0;34m(\u001b[0m\u001b[0;34mf\"{model} {training} validation {validation}\"\u001b[0m\u001b[0;34m,\u001b[0m \u001b[0mend\u001b[0m\u001b[0;34m=\u001b[0m\u001b[0;34m\" \"\u001b[0m\u001b[0;34m)\u001b[0m\u001b[0;34m\u001b[0m\u001b[0;34m\u001b[0m\u001b[0m\n\u001b[0;32m----> 5\u001b[0;31m   \u001b[0;32mif\u001b[0m \u001b[0mdf\u001b[0m\u001b[0;34m.\u001b[0m\u001b[0mshape\u001b[0m\u001b[0;34m[\u001b[0m\u001b[0;36m0\u001b[0m\u001b[0;34m]\u001b[0m\u001b[0;34m==\u001b[0m\u001b[0mvalidation_set_size\u001b[0m\u001b[0;34m[\u001b[0m\u001b[0mvalidation\u001b[0m\u001b[0;34m]\u001b[0m\u001b[0;34m:\u001b[0m\u001b[0;34m\u001b[0m\u001b[0;34m\u001b[0m\u001b[0m\n\u001b[0m\u001b[1;32m      6\u001b[0m     \u001b[0mprint\u001b[0m \u001b[0;34m(\u001b[0m\u001b[0;34m\"proper length\"\u001b[0m\u001b[0;34m)\u001b[0m\u001b[0;34m\u001b[0m\u001b[0;34m\u001b[0m\u001b[0m\n\u001b[1;32m      7\u001b[0m   \u001b[0;32melse\u001b[0m\u001b[0;34m:\u001b[0m\u001b[0;34m\u001b[0m\u001b[0;34m\u001b[0m\u001b[0m\n",
            "\u001b[0;31mKeyError\u001b[0m: 'triviaqa_v1'"
          ]
        }
      ]
    },
    {
      "cell_type": "code",
      "source": [
        "for file in file_list:\n",
        "  df = pd.read_csv(file, usecols=['context', 'answer', 'target', 'prediction'])\n",
        "  df = df.replace(r'^\\s*$', np.nan, regex=True)\n",
        "  df['prediction'] = df['prediction'].fillna('NO PREDICTION MADE')\n",
        "  output_file = f\"{processed_folder}{os.path.basename(file)}\"\n",
        "  df.to_csv(output_file, index=False)"
      ],
      "metadata": {
        "id": "f3sglDJsfFGY"
      },
      "execution_count": 16,
      "outputs": []
    },
    {
      "cell_type": "code",
      "source": [
        "for file in file_list:\n",
        "  model, training, validation = os.path.basename(file).split(\".\")[1:4]\n",
        "  test_file = f\"{processed_folder}{os.path.basename(file)}\"\n",
        "  df = pd.read_csv(test_file)\n",
        "  print(df.keys())"
      ],
      "metadata": {
        "colab": {
          "base_uri": "https://localhost:8080/"
        },
        "id": "VWh2EGovmCjw",
        "outputId": "f6133714-b5de-4ae6-eb4b-bf99b546f4f9"
      },
      "execution_count": 17,
      "outputs": [
        {
          "output_type": "stream",
          "name": "stdout",
          "text": [
            "Index(['context', 'answer', 'target', 'prediction'], dtype='object')\n",
            "Index(['context', 'answer', 'target', 'prediction'], dtype='object')\n",
            "Index(['context', 'answer', 'target', 'prediction'], dtype='object')\n",
            "Index(['context', 'answer', 'target', 'prediction'], dtype='object')\n",
            "Index(['context', 'answer', 'target', 'prediction'], dtype='object')\n",
            "Index(['context', 'answer', 'target', 'prediction'], dtype='object')\n",
            "Index(['context', 'answer', 'target', 'prediction'], dtype='object')\n",
            "Index(['context', 'answer', 'target', 'prediction'], dtype='object')\n",
            "Index(['context', 'answer', 'target', 'prediction'], dtype='object')\n",
            "Index(['context', 'answer', 'target', 'prediction'], dtype='object')\n",
            "Index(['context', 'answer', 'target', 'prediction'], dtype='object')\n",
            "Index(['context', 'answer', 'target', 'prediction'], dtype='object')\n",
            "Index(['context', 'answer', 'target', 'prediction'], dtype='object')\n",
            "Index(['context', 'answer', 'target', 'prediction'], dtype='object')\n",
            "Index(['context', 'answer', 'target', 'prediction'], dtype='object')\n",
            "Index(['context', 'answer', 'target', 'prediction'], dtype='object')\n",
            "Index(['context', 'answer', 'target', 'prediction'], dtype='object')\n",
            "Index(['context', 'answer', 'target', 'prediction'], dtype='object')\n",
            "Index(['context', 'answer', 'target', 'prediction'], dtype='object')\n",
            "Index(['context', 'answer', 'target', 'prediction'], dtype='object')\n",
            "Index(['context', 'answer', 'target', 'prediction'], dtype='object')\n",
            "Index(['context', 'answer', 'target', 'prediction'], dtype='object')\n",
            "Index(['context', 'answer', 'target', 'prediction'], dtype='object')\n",
            "Index(['context', 'answer', 'target', 'prediction'], dtype='object')\n",
            "Index(['context', 'answer', 'target', 'prediction'], dtype='object')\n",
            "Index(['context', 'answer', 'target', 'prediction'], dtype='object')\n",
            "Index(['context', 'answer', 'target', 'prediction'], dtype='object')\n",
            "Index(['context', 'answer', 'target', 'prediction'], dtype='object')\n",
            "Index(['context', 'answer', 'target', 'prediction'], dtype='object')\n",
            "Index(['context', 'answer', 'target', 'prediction'], dtype='object')\n"
          ]
        }
      ]
    },
    {
      "cell_type": "code",
      "source": [
        "for file in file_list:\n",
        "  model, training, validation = os.path.basename(file).split(\".\")[1:4]\n",
        "  test_file = f\"{processed_folder}{os.path.basename(file)}\"\n",
        "  df = pd.read_csv(test_file)\n",
        "  df = df[df['prediction'] == \"NO PREDICTION MADE\"]\n",
        "  if df.shape[0]: \n",
        "    print (test_file, df.shape[0])\n",
        "    print (df.index)"
      ],
      "metadata": {
        "id": "6eRyrFoqpo5c"
      },
      "execution_count": 18,
      "outputs": []
    }
  ],
  "metadata": {
    "colab": {
      "provenance": [],
      "include_colab_link": true
    },
    "gpuClass": "premium",
    "kernelspec": {
      "display_name": "Python 3 (ipykernel)",
      "language": "python",
      "name": "python3"
    },
    "language_info": {
      "codemirror_mode": {
        "name": "ipython",
        "version": 3
      },
      "file_extension": ".py",
      "mimetype": "text/x-python",
      "name": "python",
      "nbconvert_exporter": "python",
      "pygments_lexer": "ipython3",
      "version": "3.9.12"
    }
  },
  "nbformat": 4,
  "nbformat_minor": 0
}