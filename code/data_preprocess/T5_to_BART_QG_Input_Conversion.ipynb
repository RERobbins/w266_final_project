{
  "nbformat": 4,
  "nbformat_minor": 0,
  "metadata": {
    "colab": {
      "provenance": [],
      "collapsed_sections": [],
      "authorship_tag": "ABX9TyNP5FwDaK7xYt8CVMOYrp8S",
      "include_colab_link": true
    },
    "kernelspec": {
      "name": "python3",
      "display_name": "Python 3"
    },
    "language_info": {
      "name": "python"
    }
  },
  "cells": [
    {
      "cell_type": "markdown",
      "metadata": {
        "id": "view-in-github",
        "colab_type": "text"
      },
      "source": [
        "<a href=\"https://colab.research.google.com/github/jeanlucjackson/w266_final_project/blob/main/code/data_preprocess/T5_to_BART_QG_Input_Conversion.ipynb\" target=\"_parent\"><img src=\"https://colab.research.google.com/assets/colab-badge.svg\" alt=\"Open In Colab\"/></a>"
      ]
    },
    {
      "cell_type": "code",
      "execution_count": null,
      "metadata": {
        "colab": {
          "base_uri": "https://localhost:8080/"
        },
        "id": "9QkvX8r__ud8",
        "outputId": "078f5e28-e76a-42ed-ad17-972b03d0eaa2"
      },
      "outputs": [
        {
          "output_type": "stream",
          "name": "stdout",
          "text": [
            "Mounted at /content/drive\n"
          ]
        }
      ],
      "source": [
        "from google.colab import drive\n",
        "\n",
        "drive.mount('/content/drive')"
      ]
    },
    {
      "cell_type": "code",
      "source": [
        "import os\n",
        "import re\n",
        "import numpy as np\n",
        "import pandas as pd\n",
        "\n",
        "from pprint import pprint\n",
        "\n",
        "from google.colab import data_table\n",
        "data_table.enable_dataframe_formatter()"
      ],
      "metadata": {
        "id": "SH3UFv3IAKPk"
      },
      "execution_count": null,
      "outputs": []
    },
    {
      "cell_type": "code",
      "source": [
        "dataset_root = \"/content/drive/MyDrive/w266 NLP Final Project/Data/\"\n",
        "stub=len(\"generate question: answer: \")\n",
        "\n",
        "for dataset_name in ['nq', 'quac', 'triviaqa']:\n",
        "  dataset_folder = dataset_root+dataset_name\n",
        "  T5_training_file = dataset_folder + '/train_pairs.csv'\n",
        "  T5_validation_file = dataset_folder + '/valid_pairs.csv'\n",
        "  BART_training_file = dataset_folder + '/bart_train_pairs.csv'\n",
        "  BART_validation_file = dataset_folder + '/bart_valid_pairs.csv'\n",
        "\n",
        "  training_df = pd.read_csv(T5_training_file)[['orig', 'target']]\n",
        "  validation_df = pd.read_csv(T5_validation_file)[['orig', 'target']]\n",
        "\n",
        "  training_df['orig'] = training_df.apply (lambda row: \n",
        "                                           row['orig'][stub:].replace(\"context:\", \"</s>\", 1), \n",
        "                                           axis=1)\n",
        "\n",
        "  validation_df['orig'] = validation_df.apply(lambda row: \n",
        "                                              row['orig'][stub:].replace(\"context:\", \"</s>\", 1), \n",
        "                                              axis=1)\n",
        "  \n",
        "  \n",
        "  print(f\"{BART_training_file}: {training_df.shape}\")\n",
        "  print(f\"{BART_validation_file}: {validation_df.shape}\")                                   \n",
        "  training_df.to_csv(BART_training_file)\n",
        "  validation_df.to_csv(BART_validation_file)"
      ],
      "metadata": {
        "id": "KEfkR50HCLEL",
        "outputId": "4aa7080b-4945-4ac6-8b4e-bf7eb0b9c40e",
        "colab": {
          "base_uri": "https://localhost:8080/"
        }
      },
      "execution_count": null,
      "outputs": [
        {
          "output_type": "stream",
          "name": "stdout",
          "text": [
            "/content/drive/MyDrive/w266 NLP Final Project/Data/nq/bart_train_pairs.csv: (74218, 2)\n",
            "/content/drive/MyDrive/w266 NLP Final Project/Data/nq/bart_valid_pairs.csv: (2356, 2)\n",
            "/content/drive/MyDrive/w266 NLP Final Project/Data/quac/bart_train_pairs.csv: (69109, 2)\n",
            "/content/drive/MyDrive/w266 NLP Final Project/Data/quac/bart_valid_pairs.csv: (5868, 2)\n",
            "/content/drive/MyDrive/w266 NLP Final Project/Data/triviaqa/bart_train_pairs.csv: (77085, 2)\n",
            "/content/drive/MyDrive/w266 NLP Final Project/Data/triviaqa/bart_valid_pairs.csv: (9835, 2)\n"
          ]
        }
      ]
    },
    {
      "cell_type": "code",
      "source": [],
      "metadata": {
        "id": "FWt3ORJE7lbD"
      },
      "execution_count": null,
      "outputs": []
    }
  ]
}