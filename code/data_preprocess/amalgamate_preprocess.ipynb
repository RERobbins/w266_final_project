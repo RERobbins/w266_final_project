{
  "cells": [
    {
      "cell_type": "markdown",
      "metadata": {
        "id": "view-in-github",
        "colab_type": "text"
      },
      "source": [
        "<a href=\"https://colab.research.google.com/github/jeanlucjackson/w266_final_project/blob/main/code/data_prepprocess/amalgamate_preprocess.ipynb\" target=\"_parent\"><img src=\"https://colab.research.google.com/assets/colab-badge.svg\" alt=\"Open In Colab\"/></a>"
      ]
    },
    {
      "cell_type": "code",
      "execution_count": null,
      "id": "52a443d8",
      "metadata": {
        "id": "52a443d8"
      },
      "outputs": [],
      "source": [
        "import os\n",
        "import re\n",
        "import numpy as np\n",
        "import pandas as pd"
      ]
    },
    {
      "cell_type": "code",
      "source": [
        "# This cell will authenticate you and mount your Drive in the Colab.\n",
        "from google.colab import drive\n",
        "drive.mount('/content/drive')"
      ],
      "metadata": {
        "id": "mJEuDQgCwTY2",
        "outputId": "57edb4f0-bc71-4e75-e599-f874e87441b2",
        "colab": {
          "base_uri": "https://localhost:8080/"
        }
      },
      "id": "mJEuDQgCwTY2",
      "execution_count": null,
      "outputs": [
        {
          "output_type": "stream",
          "name": "stdout",
          "text": [
            "Mounted at /content/drive\n"
          ]
        }
      ]
    },
    {
      "cell_type": "code",
      "source": [
        "# Some important file locations and constants\n",
        "\n",
        "dataset_root = \"/content/drive/MyDrive/w266 NLP Final Project/Data/\"\n",
        "dataset_names = [\"nq\", \"quac\", \"squad.hf\", \"triviaqa\"] \n",
        "training_df = pd.DataFrame()\n",
        "validation_df = pd.DataFrame()\n",
        "amalgam_training_file = dataset_root + \"amalgam/train_pairs.csv\"\n",
        "amalgam_validation_file = dataset_root + \"amalgam/valid_pairs.csv\"\n",
        "training_count = 0\n",
        "validation_count = 0"
      ],
      "metadata": {
        "id": "ZAxNDzAww6z2"
      },
      "id": "ZAxNDzAww6z2",
      "execution_count": null,
      "outputs": []
    },
    {
      "cell_type": "code",
      "source": [
        "for dataset_name in dataset_names:\n",
        "  dataset_folder = f'{dataset_root}{dataset_name}/'\n",
        "  training_file = dataset_folder + 'train_pairs.csv'\n",
        "  validation_file = dataset_folder + 'valid_pairs.csv'\n",
        "  splice_train_df=pd.read_csv(training_file, usecols=['orig', 'target'])\n",
        "  splice_validation_df=pd.read_csv(validation_file, usecols=['orig', 'target'])\n",
        "  training_df = training_df.append(splice_train_df, ignore_index=True)\n",
        "  validation_df = validation_df.append(splice_validation_df, ignore_index=True)\n",
        "  training_count += splice_train_df.shape[0]\n",
        "  validation_count += splice_validation_df.shape[0]\n"
      ],
      "metadata": {
        "id": "98xRAA3AqB8o"
      },
      "id": "98xRAA3AqB8o",
      "execution_count": null,
      "outputs": []
    },
    {
      "cell_type": "code",
      "source": [
        "assert (training_count == training_df.shape[0])\n",
        "assert (validation_count == validation_df.shape[0])"
      ],
      "metadata": {
        "id": "7WFnce3ts83o"
      },
      "id": "7WFnce3ts83o",
      "execution_count": null,
      "outputs": []
    },
    {
      "cell_type": "code",
      "source": [
        "print(training_count, validation_count)"
      ],
      "metadata": {
        "colab": {
          "base_uri": "https://localhost:8080/"
        },
        "id": "AF1iaNOuvm-1",
        "outputId": "e03e3d59-0761-4c58-e734-bbfce18b08c3"
      },
      "id": "AF1iaNOuvm-1",
      "execution_count": null,
      "outputs": [
        {
          "output_type": "stream",
          "name": "stdout",
          "text": [
            "308011 28629\n"
          ]
        }
      ]
    },
    {
      "cell_type": "code",
      "execution_count": null,
      "id": "04dbc8ed",
      "metadata": {
        "id": "04dbc8ed"
      },
      "outputs": [],
      "source": [
        "training_df.to_csv(amalgam_training_file, index=False)\n",
        "validation_df.to_csv(amalgam_validation_file, index=False)"
      ]
    }
  ],
  "metadata": {
    "kernelspec": {
      "display_name": "Python 3 (ipykernel)",
      "language": "python",
      "name": "python3"
    },
    "language_info": {
      "codemirror_mode": {
        "name": "ipython",
        "version": 3
      },
      "file_extension": ".py",
      "mimetype": "text/x-python",
      "name": "python",
      "nbconvert_exporter": "python",
      "pygments_lexer": "ipython3",
      "version": "3.8.10"
    },
    "colab": {
      "provenance": [],
      "collapsed_sections": [],
      "include_colab_link": true
    }
  },
  "nbformat": 4,
  "nbformat_minor": 5
}