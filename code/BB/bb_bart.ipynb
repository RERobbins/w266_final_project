{
  "nbformat": 4,
  "nbformat_minor": 0,
  "metadata": {
    "colab": {
      "provenance": [],
      "collapsed_sections": [],
      "authorship_tag": "ABX9TyMyFigpdiq5667l97oUy4Pg",
      "include_colab_link": true
    },
    "kernelspec": {
      "name": "python3",
      "display_name": "Python 3"
    },
    "language_info": {
      "name": "python"
    }
  },
  "cells": [
    {
      "cell_type": "markdown",
      "metadata": {
        "id": "view-in-github",
        "colab_type": "text"
      },
      "source": [
        "<a href=\"https://colab.research.google.com/github/jeanlucjackson/w266_final_project/blob/main/code/BB/bb_bart.ipynb\" target=\"_parent\"><img src=\"https://colab.research.google.com/assets/colab-badge.svg\" alt=\"Open In Colab\"/></a>"
      ]
    },
    {
      "cell_type": "markdown",
      "source": [
        "# BART for Question Generation"
      ],
      "metadata": {
        "id": "nB-gqy1ZrdwK"
      }
    },
    {
      "cell_type": "code",
      "source": [
        "import numpy as np\n",
        "import pandas as pd\n",
        "import os\n",
        "import re\n",
        "\n",
        "import json\n",
        "\n",
        "# Make longer output readable without scrolling\n",
        "from pprint import pprint\n",
        "\n",
        "# Stop warning messages from showing\n",
        "import warnings\n",
        "warnings.simplefilter(action='ignore', category=FutureWarning)\n",
        "\n",
        "import tensorflow as tf\n",
        "from tensorflow import keras\n",
        "from tensorflow.keras import layers\n",
        "\n",
        "import torch  # Only if you use a pytorch model, both options are shown below\n",
        "from transformers import BartTokenizer, BartForConditionalGeneration\n",
        "from transformers import Seq2SeqTrainingArguments, Seq2SeqTrainer\n",
        "\n"
      ],
      "metadata": {
        "id": "3Agenz05AiSg"
      },
      "execution_count": 80,
      "outputs": []
    },
    {
      "cell_type": "code",
      "source": [
        "!pip install -q sentencepiece"
      ],
      "metadata": {
        "colab": {
          "base_uri": "https://localhost:8080/"
        },
        "id": "oSXRL27MAiU5",
        "outputId": "101cf4d2-e644-452a-d1c3-6bfc863ba7ff"
      },
      "execution_count": 2,
      "outputs": [
        {
          "output_type": "stream",
          "name": "stdout",
          "text": [
            "\u001b[?25l\r\u001b[K     |▎                               | 10 kB 14.8 MB/s eta 0:00:01\r\u001b[K     |▌                               | 20 kB 9.8 MB/s eta 0:00:01\r\u001b[K     |▊                               | 30 kB 12.6 MB/s eta 0:00:01\r\u001b[K     |█                               | 40 kB 7.6 MB/s eta 0:00:01\r\u001b[K     |█▎                              | 51 kB 7.8 MB/s eta 0:00:01\r\u001b[K     |█▌                              | 61 kB 9.1 MB/s eta 0:00:01\r\u001b[K     |█▉                              | 71 kB 8.6 MB/s eta 0:00:01\r\u001b[K     |██                              | 81 kB 7.4 MB/s eta 0:00:01\r\u001b[K     |██▎                             | 92 kB 8.2 MB/s eta 0:00:01\r\u001b[K     |██▋                             | 102 kB 8.9 MB/s eta 0:00:01\r\u001b[K     |██▉                             | 112 kB 8.9 MB/s eta 0:00:01\r\u001b[K     |███                             | 122 kB 8.9 MB/s eta 0:00:01\r\u001b[K     |███▍                            | 133 kB 8.9 MB/s eta 0:00:01\r\u001b[K     |███▋                            | 143 kB 8.9 MB/s eta 0:00:01\r\u001b[K     |███▉                            | 153 kB 8.9 MB/s eta 0:00:01\r\u001b[K     |████                            | 163 kB 8.9 MB/s eta 0:00:01\r\u001b[K     |████▍                           | 174 kB 8.9 MB/s eta 0:00:01\r\u001b[K     |████▋                           | 184 kB 8.9 MB/s eta 0:00:01\r\u001b[K     |████▉                           | 194 kB 8.9 MB/s eta 0:00:01\r\u001b[K     |█████▏                          | 204 kB 8.9 MB/s eta 0:00:01\r\u001b[K     |█████▍                          | 215 kB 8.9 MB/s eta 0:00:01\r\u001b[K     |█████▋                          | 225 kB 8.9 MB/s eta 0:00:01\r\u001b[K     |██████                          | 235 kB 8.9 MB/s eta 0:00:01\r\u001b[K     |██████▏                         | 245 kB 8.9 MB/s eta 0:00:01\r\u001b[K     |██████▍                         | 256 kB 8.9 MB/s eta 0:00:01\r\u001b[K     |██████▊                         | 266 kB 8.9 MB/s eta 0:00:01\r\u001b[K     |███████                         | 276 kB 8.9 MB/s eta 0:00:01\r\u001b[K     |███████▏                        | 286 kB 8.9 MB/s eta 0:00:01\r\u001b[K     |███████▍                        | 296 kB 8.9 MB/s eta 0:00:01\r\u001b[K     |███████▊                        | 307 kB 8.9 MB/s eta 0:00:01\r\u001b[K     |████████                        | 317 kB 8.9 MB/s eta 0:00:01\r\u001b[K     |████████▏                       | 327 kB 8.9 MB/s eta 0:00:01\r\u001b[K     |████████▌                       | 337 kB 8.9 MB/s eta 0:00:01\r\u001b[K     |████████▊                       | 348 kB 8.9 MB/s eta 0:00:01\r\u001b[K     |█████████                       | 358 kB 8.9 MB/s eta 0:00:01\r\u001b[K     |█████████▎                      | 368 kB 8.9 MB/s eta 0:00:01\r\u001b[K     |█████████▌                      | 378 kB 8.9 MB/s eta 0:00:01\r\u001b[K     |█████████▊                      | 389 kB 8.9 MB/s eta 0:00:01\r\u001b[K     |██████████                      | 399 kB 8.9 MB/s eta 0:00:01\r\u001b[K     |██████████▎                     | 409 kB 8.9 MB/s eta 0:00:01\r\u001b[K     |██████████▌                     | 419 kB 8.9 MB/s eta 0:00:01\r\u001b[K     |██████████▉                     | 430 kB 8.9 MB/s eta 0:00:01\r\u001b[K     |███████████                     | 440 kB 8.9 MB/s eta 0:00:01\r\u001b[K     |███████████▎                    | 450 kB 8.9 MB/s eta 0:00:01\r\u001b[K     |███████████▌                    | 460 kB 8.9 MB/s eta 0:00:01\r\u001b[K     |███████████▉                    | 471 kB 8.9 MB/s eta 0:00:01\r\u001b[K     |████████████                    | 481 kB 8.9 MB/s eta 0:00:01\r\u001b[K     |████████████▎                   | 491 kB 8.9 MB/s eta 0:00:01\r\u001b[K     |████████████▋                   | 501 kB 8.9 MB/s eta 0:00:01\r\u001b[K     |████████████▉                   | 512 kB 8.9 MB/s eta 0:00:01\r\u001b[K     |█████████████                   | 522 kB 8.9 MB/s eta 0:00:01\r\u001b[K     |█████████████▍                  | 532 kB 8.9 MB/s eta 0:00:01\r\u001b[K     |█████████████▋                  | 542 kB 8.9 MB/s eta 0:00:01\r\u001b[K     |█████████████▉                  | 552 kB 8.9 MB/s eta 0:00:01\r\u001b[K     |██████████████▏                 | 563 kB 8.9 MB/s eta 0:00:01\r\u001b[K     |██████████████▍                 | 573 kB 8.9 MB/s eta 0:00:01\r\u001b[K     |██████████████▋                 | 583 kB 8.9 MB/s eta 0:00:01\r\u001b[K     |██████████████▉                 | 593 kB 8.9 MB/s eta 0:00:01\r\u001b[K     |███████████████▏                | 604 kB 8.9 MB/s eta 0:00:01\r\u001b[K     |███████████████▍                | 614 kB 8.9 MB/s eta 0:00:01\r\u001b[K     |███████████████▋                | 624 kB 8.9 MB/s eta 0:00:01\r\u001b[K     |████████████████                | 634 kB 8.9 MB/s eta 0:00:01\r\u001b[K     |████████████████▏               | 645 kB 8.9 MB/s eta 0:00:01\r\u001b[K     |████████████████▍               | 655 kB 8.9 MB/s eta 0:00:01\r\u001b[K     |████████████████▊               | 665 kB 8.9 MB/s eta 0:00:01\r\u001b[K     |█████████████████               | 675 kB 8.9 MB/s eta 0:00:01\r\u001b[K     |█████████████████▏              | 686 kB 8.9 MB/s eta 0:00:01\r\u001b[K     |█████████████████▌              | 696 kB 8.9 MB/s eta 0:00:01\r\u001b[K     |█████████████████▊              | 706 kB 8.9 MB/s eta 0:00:01\r\u001b[K     |██████████████████              | 716 kB 8.9 MB/s eta 0:00:01\r\u001b[K     |██████████████████▎             | 727 kB 8.9 MB/s eta 0:00:01\r\u001b[K     |██████████████████▌             | 737 kB 8.9 MB/s eta 0:00:01\r\u001b[K     |██████████████████▊             | 747 kB 8.9 MB/s eta 0:00:01\r\u001b[K     |███████████████████             | 757 kB 8.9 MB/s eta 0:00:01\r\u001b[K     |███████████████████▎            | 768 kB 8.9 MB/s eta 0:00:01\r\u001b[K     |███████████████████▌            | 778 kB 8.9 MB/s eta 0:00:01\r\u001b[K     |███████████████████▊            | 788 kB 8.9 MB/s eta 0:00:01\r\u001b[K     |████████████████████            | 798 kB 8.9 MB/s eta 0:00:01\r\u001b[K     |████████████████████▎           | 808 kB 8.9 MB/s eta 0:00:01\r\u001b[K     |████████████████████▌           | 819 kB 8.9 MB/s eta 0:00:01\r\u001b[K     |████████████████████▉           | 829 kB 8.9 MB/s eta 0:00:01\r\u001b[K     |█████████████████████           | 839 kB 8.9 MB/s eta 0:00:01\r\u001b[K     |█████████████████████▎          | 849 kB 8.9 MB/s eta 0:00:01\r\u001b[K     |█████████████████████▋          | 860 kB 8.9 MB/s eta 0:00:01\r\u001b[K     |█████████████████████▉          | 870 kB 8.9 MB/s eta 0:00:01\r\u001b[K     |██████████████████████          | 880 kB 8.9 MB/s eta 0:00:01\r\u001b[K     |██████████████████████▎         | 890 kB 8.9 MB/s eta 0:00:01\r\u001b[K     |██████████████████████▋         | 901 kB 8.9 MB/s eta 0:00:01\r\u001b[K     |██████████████████████▉         | 911 kB 8.9 MB/s eta 0:00:01\r\u001b[K     |███████████████████████         | 921 kB 8.9 MB/s eta 0:00:01\r\u001b[K     |███████████████████████▍        | 931 kB 8.9 MB/s eta 0:00:01\r\u001b[K     |███████████████████████▋        | 942 kB 8.9 MB/s eta 0:00:01\r\u001b[K     |███████████████████████▉        | 952 kB 8.9 MB/s eta 0:00:01\r\u001b[K     |████████████████████████▏       | 962 kB 8.9 MB/s eta 0:00:01\r\u001b[K     |████████████████████████▍       | 972 kB 8.9 MB/s eta 0:00:01\r\u001b[K     |████████████████████████▋       | 983 kB 8.9 MB/s eta 0:00:01\r\u001b[K     |█████████████████████████       | 993 kB 8.9 MB/s eta 0:00:01\r\u001b[K     |█████████████████████████▏      | 1.0 MB 8.9 MB/s eta 0:00:01\r\u001b[K     |█████████████████████████▍      | 1.0 MB 8.9 MB/s eta 0:00:01\r\u001b[K     |█████████████████████████▊      | 1.0 MB 8.9 MB/s eta 0:00:01\r\u001b[K     |██████████████████████████      | 1.0 MB 8.9 MB/s eta 0:00:01\r\u001b[K     |██████████████████████████▏     | 1.0 MB 8.9 MB/s eta 0:00:01\r\u001b[K     |██████████████████████████▍     | 1.1 MB 8.9 MB/s eta 0:00:01\r\u001b[K     |██████████████████████████▊     | 1.1 MB 8.9 MB/s eta 0:00:01\r\u001b[K     |███████████████████████████     | 1.1 MB 8.9 MB/s eta 0:00:01\r\u001b[K     |███████████████████████████▏    | 1.1 MB 8.9 MB/s eta 0:00:01\r\u001b[K     |███████████████████████████▌    | 1.1 MB 8.9 MB/s eta 0:00:01\r\u001b[K     |███████████████████████████▊    | 1.1 MB 8.9 MB/s eta 0:00:01\r\u001b[K     |████████████████████████████    | 1.1 MB 8.9 MB/s eta 0:00:01\r\u001b[K     |████████████████████████████▎   | 1.1 MB 8.9 MB/s eta 0:00:01\r\u001b[K     |████████████████████████████▌   | 1.1 MB 8.9 MB/s eta 0:00:01\r\u001b[K     |████████████████████████████▊   | 1.1 MB 8.9 MB/s eta 0:00:01\r\u001b[K     |█████████████████████████████   | 1.2 MB 8.9 MB/s eta 0:00:01\r\u001b[K     |█████████████████████████████▎  | 1.2 MB 8.9 MB/s eta 0:00:01\r\u001b[K     |█████████████████████████████▌  | 1.2 MB 8.9 MB/s eta 0:00:01\r\u001b[K     |█████████████████████████████▊  | 1.2 MB 8.9 MB/s eta 0:00:01\r\u001b[K     |██████████████████████████████  | 1.2 MB 8.9 MB/s eta 0:00:01\r\u001b[K     |██████████████████████████████▎ | 1.2 MB 8.9 MB/s eta 0:00:01\r\u001b[K     |██████████████████████████████▌ | 1.2 MB 8.9 MB/s eta 0:00:01\r\u001b[K     |██████████████████████████████▉ | 1.2 MB 8.9 MB/s eta 0:00:01\r\u001b[K     |███████████████████████████████ | 1.2 MB 8.9 MB/s eta 0:00:01\r\u001b[K     |███████████████████████████████▎| 1.2 MB 8.9 MB/s eta 0:00:01\r\u001b[K     |███████████████████████████████▋| 1.3 MB 8.9 MB/s eta 0:00:01\r\u001b[K     |███████████████████████████████▉| 1.3 MB 8.9 MB/s eta 0:00:01\r\u001b[K     |████████████████████████████████| 1.3 MB 8.9 MB/s \n",
            "\u001b[?25h"
          ]
        }
      ]
    },
    {
      "cell_type": "code",
      "source": [
        "!pip install -q transformers"
      ],
      "metadata": {
        "id": "ms3oqoRcAiXR",
        "colab": {
          "base_uri": "https://localhost:8080/"
        },
        "outputId": "b9c64260-dda0-4ed7-cebb-860aa6e7fdf4"
      },
      "execution_count": 3,
      "outputs": [
        {
          "output_type": "stream",
          "name": "stdout",
          "text": [
            "\u001b[K     |████████████████████████████████| 5.3 MB 8.9 MB/s \n",
            "\u001b[K     |████████████████████████████████| 7.6 MB 38.8 MB/s \n",
            "\u001b[K     |████████████████████████████████| 163 kB 22.6 MB/s \n",
            "\u001b[?25h"
          ]
        }
      ]
    },
    {
      "cell_type": "code",
      "source": [
        "!pip install -q datasets"
      ],
      "metadata": {
        "id": "_I01G1xqAiaG",
        "colab": {
          "base_uri": "https://localhost:8080/"
        },
        "outputId": "77177cec-d229-4291-d064-10c93b876f1e"
      },
      "execution_count": 4,
      "outputs": [
        {
          "output_type": "stream",
          "name": "stdout",
          "text": [
            "\u001b[K     |████████████████████████████████| 441 kB 8.7 MB/s \n",
            "\u001b[K     |████████████████████████████████| 115 kB 56.6 MB/s \n",
            "\u001b[K     |████████████████████████████████| 212 kB 57.7 MB/s \n",
            "\u001b[K     |████████████████████████████████| 127 kB 49.9 MB/s \n",
            "\u001b[K     |████████████████████████████████| 115 kB 46.2 MB/s \n",
            "\u001b[?25h"
          ]
        }
      ]
    },
    {
      "cell_type": "code",
      "source": [
        "# !pip install -q evaluate\n",
        "# import evaluate"
      ],
      "metadata": {
        "id": "hLIVseyRAice"
      },
      "execution_count": null,
      "outputs": []
    },
    {
      "cell_type": "code",
      "source": [
        "from google.colab import drive\n",
        "\n",
        "drive.mount('/content/drive')"
      ],
      "metadata": {
        "colab": {
          "base_uri": "https://localhost:8080/"
        },
        "id": "Sak9oXA2Aie0",
        "outputId": "adc28037-bdc0-4b55-a5e4-3b382105804e"
      },
      "execution_count": 6,
      "outputs": [
        {
          "output_type": "stream",
          "name": "stdout",
          "text": [
            "Mounted at /content/drive\n"
          ]
        }
      ]
    },
    {
      "cell_type": "markdown",
      "source": [
        "## Data"
      ],
      "metadata": {
        "id": "ChtPfFXPj2Pm"
      }
    },
    {
      "cell_type": "code",
      "source": [
        "dataset_root = \"/content/drive/MyDrive/w266 NLP Final Project/Data/\"\n",
        "dataset_name = \"squad\"\n",
        "dataset_folder = dataset_root+dataset_name+\".hf\"\n",
        "training_file = dataset_folder + '/train_pairs.csv'\n",
        "validation_file = dataset_folder + '/valid_pairs.csv'"
      ],
      "metadata": {
        "id": "Mu1U33mEjvLz"
      },
      "execution_count": 19,
      "outputs": []
    },
    {
      "cell_type": "markdown",
      "source": [
        "Load the data"
      ],
      "metadata": {
        "id": "0RmjHaUNj09k"
      }
    },
    {
      "cell_type": "code",
      "source": [
        "dataset = load_from_disk(dataset_folder)"
      ],
      "metadata": {
        "id": "4t6t-E0WjvRu"
      },
      "execution_count": 20,
      "outputs": []
    },
    {
      "cell_type": "code",
      "source": [
        "# Training data\n",
        "count=100\n",
        "training_data = dataset['train'].shuffle(seed=1962).select(range(count))\n",
        "training_answers = [answer['text'][0] for answer in training_data['answers']]\n",
        "training_context = training_data['context']\n",
        "training_questions = training_data['question']\n",
        "\n",
        "# Validation data\n",
        "count=10\n",
        "validation_data = dataset['validation'].shuffle(seed=1962).select(range(count))\n",
        "validation_answers = [answer['text'][0] for answer in validation_data['answers']]\n",
        "validation_context = validation_data['context']\n",
        "validation_questions = validation_data['question']"
      ],
      "metadata": {
        "colab": {
          "base_uri": "https://localhost:8080/"
        },
        "id": "jgh-r0KTjvZ3",
        "outputId": "b95f3293-3dad-42ab-a144-2f2150002ff6"
      },
      "execution_count": 105,
      "outputs": [
        {
          "output_type": "stream",
          "name": "stderr",
          "text": [
            "WARNING:datasets.arrow_dataset:Loading cached shuffled indices for dataset at /content/drive/MyDrive/w266 NLP Final Project/Data/squad.hf/train/cache-8ab9b6302b91254a.arrow\n",
            "WARNING:datasets.arrow_dataset:Loading cached shuffled indices for dataset at /content/drive/MyDrive/w266 NLP Final Project/Data/squad.hf/validation/cache-0b0bdbcc58516b16.arrow\n"
          ]
        }
      ]
    },
    {
      "cell_type": "markdown",
      "source": [
        "Formatting input and output/target pairs"
      ],
      "metadata": {
        "id": "Sc4SxlNokRmW"
      }
    },
    {
      "cell_type": "code",
      "source": [
        "training_orig = [f\"answer: {answer} context: {context}\" for answer, context in zip (training_answers, training_context)]\n",
        "training_target = training_questions\n",
        "validation_orig = [f\"answer: {answer} context: {context}\" for answer, context in zip (validation_answers, validation_context)]\n",
        "validation_target = validation_questions"
      ],
      "metadata": {
        "id": "ByvS2pf4jvca"
      },
      "execution_count": 106,
      "outputs": []
    },
    {
      "cell_type": "code",
      "source": [
        "training_df = pd.DataFrame()\n",
        "training_df['orig'] = training_orig\n",
        "training_df['target'] = training_target\n",
        "training_df"
      ],
      "metadata": {
        "colab": {
          "base_uri": "https://localhost:8080/",
          "height": 424
        },
        "id": "sKgAQPu5jve0",
        "outputId": "a88ee941-8ee7-47d4-a89d-4c893c247845"
      },
      "execution_count": 107,
      "outputs": [
        {
          "output_type": "execute_result",
          "data": {
            "text/plain": [
              "                                                 orig  \\\n",
              "0   answer: biotech companies context: Prior to mo...   \n",
              "1   answer: Tytus Woyciechowski context: Four boar...   \n",
              "2   answer: the Endangered Species Committee conte...   \n",
              "3   answer: China context: In Asian countries such...   \n",
              "4   answer: 45 years context: Saint Athanasius of ...   \n",
              "..                                                ...   \n",
              "95  answer: objects context: Buddhist scriptures a...   \n",
              "96  answer: Sadat context: Following Anwar Sadat's...   \n",
              "97  answer: flogged context: Combining statements ...   \n",
              "98  answer: Nick Fradiani context: Nick Fradiani w...   \n",
              "99  answer: faster and more secure context: In Dec...   \n",
              "\n",
              "                                               target  \n",
              "0   What type of businesses did Nickles want to at...  \n",
              "1   To whom did Chopin reveal in letters which par...  \n",
              "2   If a species may be harmed, who holds final sa...  \n",
              "3   What country has the dog as part of its 12 ani...  \n",
              "4                   How long did his episcopate last?  \n",
              "..                                                ...  \n",
              "95  Some schools venerate certain texts as religio...  \n",
              "96  Whose rise to the presidency of Egypt led to t...  \n",
              "97    How was Jesus tortured before he was crucified?  \n",
              "98          Who won American Idols fourteenth season?  \n",
              "99  What type of connection does Tri-Band 3G offer...  \n",
              "\n",
              "[100 rows x 2 columns]"
            ],
            "text/html": [
              "\n",
              "  <div id=\"df-77f6715b-8b34-4779-be8c-0c47e36d688c\">\n",
              "    <div class=\"colab-df-container\">\n",
              "      <div>\n",
              "<style scoped>\n",
              "    .dataframe tbody tr th:only-of-type {\n",
              "        vertical-align: middle;\n",
              "    }\n",
              "\n",
              "    .dataframe tbody tr th {\n",
              "        vertical-align: top;\n",
              "    }\n",
              "\n",
              "    .dataframe thead th {\n",
              "        text-align: right;\n",
              "    }\n",
              "</style>\n",
              "<table border=\"1\" class=\"dataframe\">\n",
              "  <thead>\n",
              "    <tr style=\"text-align: right;\">\n",
              "      <th></th>\n",
              "      <th>orig</th>\n",
              "      <th>target</th>\n",
              "    </tr>\n",
              "  </thead>\n",
              "  <tbody>\n",
              "    <tr>\n",
              "      <th>0</th>\n",
              "      <td>answer: biotech companies context: Prior to mo...</td>\n",
              "      <td>What type of businesses did Nickles want to at...</td>\n",
              "    </tr>\n",
              "    <tr>\n",
              "      <th>1</th>\n",
              "      <td>answer: Tytus Woyciechowski context: Four boar...</td>\n",
              "      <td>To whom did Chopin reveal in letters which par...</td>\n",
              "    </tr>\n",
              "    <tr>\n",
              "      <th>2</th>\n",
              "      <td>answer: the Endangered Species Committee conte...</td>\n",
              "      <td>If a species may be harmed, who holds final sa...</td>\n",
              "    </tr>\n",
              "    <tr>\n",
              "      <th>3</th>\n",
              "      <td>answer: China context: In Asian countries such...</td>\n",
              "      <td>What country has the dog as part of its 12 ani...</td>\n",
              "    </tr>\n",
              "    <tr>\n",
              "      <th>4</th>\n",
              "      <td>answer: 45 years context: Saint Athanasius of ...</td>\n",
              "      <td>How long did his episcopate last?</td>\n",
              "    </tr>\n",
              "    <tr>\n",
              "      <th>...</th>\n",
              "      <td>...</td>\n",
              "      <td>...</td>\n",
              "    </tr>\n",
              "    <tr>\n",
              "      <th>95</th>\n",
              "      <td>answer: objects context: Buddhist scriptures a...</td>\n",
              "      <td>Some schools venerate certain texts as religio...</td>\n",
              "    </tr>\n",
              "    <tr>\n",
              "      <th>96</th>\n",
              "      <td>answer: Sadat context: Following Anwar Sadat's...</td>\n",
              "      <td>Whose rise to the presidency of Egypt led to t...</td>\n",
              "    </tr>\n",
              "    <tr>\n",
              "      <th>97</th>\n",
              "      <td>answer: flogged context: Combining statements ...</td>\n",
              "      <td>How was Jesus tortured before he was crucified?</td>\n",
              "    </tr>\n",
              "    <tr>\n",
              "      <th>98</th>\n",
              "      <td>answer: Nick Fradiani context: Nick Fradiani w...</td>\n",
              "      <td>Who won American Idols fourteenth season?</td>\n",
              "    </tr>\n",
              "    <tr>\n",
              "      <th>99</th>\n",
              "      <td>answer: faster and more secure context: In Dec...</td>\n",
              "      <td>What type of connection does Tri-Band 3G offer...</td>\n",
              "    </tr>\n",
              "  </tbody>\n",
              "</table>\n",
              "<p>100 rows × 2 columns</p>\n",
              "</div>\n",
              "      <button class=\"colab-df-convert\" onclick=\"convertToInteractive('df-77f6715b-8b34-4779-be8c-0c47e36d688c')\"\n",
              "              title=\"Convert this dataframe to an interactive table.\"\n",
              "              style=\"display:none;\">\n",
              "        \n",
              "  <svg xmlns=\"http://www.w3.org/2000/svg\" height=\"24px\"viewBox=\"0 0 24 24\"\n",
              "       width=\"24px\">\n",
              "    <path d=\"M0 0h24v24H0V0z\" fill=\"none\"/>\n",
              "    <path d=\"M18.56 5.44l.94 2.06.94-2.06 2.06-.94-2.06-.94-.94-2.06-.94 2.06-2.06.94zm-11 1L8.5 8.5l.94-2.06 2.06-.94-2.06-.94L8.5 2.5l-.94 2.06-2.06.94zm10 10l.94 2.06.94-2.06 2.06-.94-2.06-.94-.94-2.06-.94 2.06-2.06.94z\"/><path d=\"M17.41 7.96l-1.37-1.37c-.4-.4-.92-.59-1.43-.59-.52 0-1.04.2-1.43.59L10.3 9.45l-7.72 7.72c-.78.78-.78 2.05 0 2.83L4 21.41c.39.39.9.59 1.41.59.51 0 1.02-.2 1.41-.59l7.78-7.78 2.81-2.81c.8-.78.8-2.07 0-2.86zM5.41 20L4 18.59l7.72-7.72 1.47 1.35L5.41 20z\"/>\n",
              "  </svg>\n",
              "      </button>\n",
              "      \n",
              "  <style>\n",
              "    .colab-df-container {\n",
              "      display:flex;\n",
              "      flex-wrap:wrap;\n",
              "      gap: 12px;\n",
              "    }\n",
              "\n",
              "    .colab-df-convert {\n",
              "      background-color: #E8F0FE;\n",
              "      border: none;\n",
              "      border-radius: 50%;\n",
              "      cursor: pointer;\n",
              "      display: none;\n",
              "      fill: #1967D2;\n",
              "      height: 32px;\n",
              "      padding: 0 0 0 0;\n",
              "      width: 32px;\n",
              "    }\n",
              "\n",
              "    .colab-df-convert:hover {\n",
              "      background-color: #E2EBFA;\n",
              "      box-shadow: 0px 1px 2px rgba(60, 64, 67, 0.3), 0px 1px 3px 1px rgba(60, 64, 67, 0.15);\n",
              "      fill: #174EA6;\n",
              "    }\n",
              "\n",
              "    [theme=dark] .colab-df-convert {\n",
              "      background-color: #3B4455;\n",
              "      fill: #D2E3FC;\n",
              "    }\n",
              "\n",
              "    [theme=dark] .colab-df-convert:hover {\n",
              "      background-color: #434B5C;\n",
              "      box-shadow: 0px 1px 3px 1px rgba(0, 0, 0, 0.15);\n",
              "      filter: drop-shadow(0px 1px 2px rgba(0, 0, 0, 0.3));\n",
              "      fill: #FFFFFF;\n",
              "    }\n",
              "  </style>\n",
              "\n",
              "      <script>\n",
              "        const buttonEl =\n",
              "          document.querySelector('#df-77f6715b-8b34-4779-be8c-0c47e36d688c button.colab-df-convert');\n",
              "        buttonEl.style.display =\n",
              "          google.colab.kernel.accessAllowed ? 'block' : 'none';\n",
              "\n",
              "        async function convertToInteractive(key) {\n",
              "          const element = document.querySelector('#df-77f6715b-8b34-4779-be8c-0c47e36d688c');\n",
              "          const dataTable =\n",
              "            await google.colab.kernel.invokeFunction('convertToInteractive',\n",
              "                                                     [key], {});\n",
              "          if (!dataTable) return;\n",
              "\n",
              "          const docLinkHtml = 'Like what you see? Visit the ' +\n",
              "            '<a target=\"_blank\" href=https://colab.research.google.com/notebooks/data_table.ipynb>data table notebook</a>'\n",
              "            + ' to learn more about interactive tables.';\n",
              "          element.innerHTML = '';\n",
              "          dataTable['output_type'] = 'display_data';\n",
              "          await google.colab.output.renderOutput(dataTable, element);\n",
              "          const docLink = document.createElement('div');\n",
              "          docLink.innerHTML = docLinkHtml;\n",
              "          element.appendChild(docLink);\n",
              "        }\n",
              "      </script>\n",
              "    </div>\n",
              "  </div>\n",
              "  "
            ]
          },
          "metadata": {},
          "execution_count": 107
        }
      ]
    },
    {
      "cell_type": "code",
      "source": [
        "validation_df = pd.DataFrame()\n",
        "validation_df['orig'] = validation_orig\n",
        "validation_df['target'] = validation_target\n",
        "validation_df"
      ],
      "metadata": {
        "colab": {
          "base_uri": "https://localhost:8080/",
          "height": 363
        },
        "id": "5w3w7SPmjvhn",
        "outputId": "a8bd611d-56f6-4aff-f6ed-3405010ab975"
      },
      "execution_count": 108,
      "outputs": [
        {
          "output_type": "execute_result",
          "data": {
            "text/plain": [
              "                                                orig  \\\n",
              "0  answer: four context: Prince Albert appears wi...   \n",
              "1  answer: ink context: When some species, includ...   \n",
              "2  answer: 1835 context: The Grainger Market repl...   \n",
              "3  answer: Bills context: Bills can be introduced...   \n",
              "4  answer: the Timucua context: Jacksonville is i...   \n",
              "5  answer: 1912 context: In addition to the Riema...   \n",
              "6  answer: stagnant context: In Marxian analysis,...   \n",
              "7  answer: 90 context: The final major evolution ...   \n",
              "8  answer: 1985 context: In 1968, ABC took advant...   \n",
              "9  answer: the Charter of Fundamental Rights of t...   \n",
              "\n",
              "                                              target  \n",
              "0  How many levels of galleries do the façades su...  \n",
              "1           What are the secretions commonly called?  \n",
              "2     When did Newcastle's first indoor market open?  \n",
              "3  What may be presented to Parliament in various...  \n",
              "4  Prior to the arrival of the French, the area n...  \n",
              "5  When did Landau propose his four conjectural p...  \n",
              "6  What type of wages does mechanization and auto...  \n",
              "7  What percentage of electrical power in the Uni...  \n",
              "8  When was the ABC Pictures division eventually ...  \n",
              "9  What charter has become an important aspect of...  "
            ],
            "text/html": [
              "\n",
              "  <div id=\"df-f7817634-fdf7-4da5-a113-231d35757284\">\n",
              "    <div class=\"colab-df-container\">\n",
              "      <div>\n",
              "<style scoped>\n",
              "    .dataframe tbody tr th:only-of-type {\n",
              "        vertical-align: middle;\n",
              "    }\n",
              "\n",
              "    .dataframe tbody tr th {\n",
              "        vertical-align: top;\n",
              "    }\n",
              "\n",
              "    .dataframe thead th {\n",
              "        text-align: right;\n",
              "    }\n",
              "</style>\n",
              "<table border=\"1\" class=\"dataframe\">\n",
              "  <thead>\n",
              "    <tr style=\"text-align: right;\">\n",
              "      <th></th>\n",
              "      <th>orig</th>\n",
              "      <th>target</th>\n",
              "    </tr>\n",
              "  </thead>\n",
              "  <tbody>\n",
              "    <tr>\n",
              "      <th>0</th>\n",
              "      <td>answer: four context: Prince Albert appears wi...</td>\n",
              "      <td>How many levels of galleries do the façades su...</td>\n",
              "    </tr>\n",
              "    <tr>\n",
              "      <th>1</th>\n",
              "      <td>answer: ink context: When some species, includ...</td>\n",
              "      <td>What are the secretions commonly called?</td>\n",
              "    </tr>\n",
              "    <tr>\n",
              "      <th>2</th>\n",
              "      <td>answer: 1835 context: The Grainger Market repl...</td>\n",
              "      <td>When did Newcastle's first indoor market open?</td>\n",
              "    </tr>\n",
              "    <tr>\n",
              "      <th>3</th>\n",
              "      <td>answer: Bills context: Bills can be introduced...</td>\n",
              "      <td>What may be presented to Parliament in various...</td>\n",
              "    </tr>\n",
              "    <tr>\n",
              "      <th>4</th>\n",
              "      <td>answer: the Timucua context: Jacksonville is i...</td>\n",
              "      <td>Prior to the arrival of the French, the area n...</td>\n",
              "    </tr>\n",
              "    <tr>\n",
              "      <th>5</th>\n",
              "      <td>answer: 1912 context: In addition to the Riema...</td>\n",
              "      <td>When did Landau propose his four conjectural p...</td>\n",
              "    </tr>\n",
              "    <tr>\n",
              "      <th>6</th>\n",
              "      <td>answer: stagnant context: In Marxian analysis,...</td>\n",
              "      <td>What type of wages does mechanization and auto...</td>\n",
              "    </tr>\n",
              "    <tr>\n",
              "      <th>7</th>\n",
              "      <td>answer: 90 context: The final major evolution ...</td>\n",
              "      <td>What percentage of electrical power in the Uni...</td>\n",
              "    </tr>\n",
              "    <tr>\n",
              "      <th>8</th>\n",
              "      <td>answer: 1985 context: In 1968, ABC took advant...</td>\n",
              "      <td>When was the ABC Pictures division eventually ...</td>\n",
              "    </tr>\n",
              "    <tr>\n",
              "      <th>9</th>\n",
              "      <td>answer: the Charter of Fundamental Rights of t...</td>\n",
              "      <td>What charter has become an important aspect of...</td>\n",
              "    </tr>\n",
              "  </tbody>\n",
              "</table>\n",
              "</div>\n",
              "      <button class=\"colab-df-convert\" onclick=\"convertToInteractive('df-f7817634-fdf7-4da5-a113-231d35757284')\"\n",
              "              title=\"Convert this dataframe to an interactive table.\"\n",
              "              style=\"display:none;\">\n",
              "        \n",
              "  <svg xmlns=\"http://www.w3.org/2000/svg\" height=\"24px\"viewBox=\"0 0 24 24\"\n",
              "       width=\"24px\">\n",
              "    <path d=\"M0 0h24v24H0V0z\" fill=\"none\"/>\n",
              "    <path d=\"M18.56 5.44l.94 2.06.94-2.06 2.06-.94-2.06-.94-.94-2.06-.94 2.06-2.06.94zm-11 1L8.5 8.5l.94-2.06 2.06-.94-2.06-.94L8.5 2.5l-.94 2.06-2.06.94zm10 10l.94 2.06.94-2.06 2.06-.94-2.06-.94-.94-2.06-.94 2.06-2.06.94z\"/><path d=\"M17.41 7.96l-1.37-1.37c-.4-.4-.92-.59-1.43-.59-.52 0-1.04.2-1.43.59L10.3 9.45l-7.72 7.72c-.78.78-.78 2.05 0 2.83L4 21.41c.39.39.9.59 1.41.59.51 0 1.02-.2 1.41-.59l7.78-7.78 2.81-2.81c.8-.78.8-2.07 0-2.86zM5.41 20L4 18.59l7.72-7.72 1.47 1.35L5.41 20z\"/>\n",
              "  </svg>\n",
              "      </button>\n",
              "      \n",
              "  <style>\n",
              "    .colab-df-container {\n",
              "      display:flex;\n",
              "      flex-wrap:wrap;\n",
              "      gap: 12px;\n",
              "    }\n",
              "\n",
              "    .colab-df-convert {\n",
              "      background-color: #E8F0FE;\n",
              "      border: none;\n",
              "      border-radius: 50%;\n",
              "      cursor: pointer;\n",
              "      display: none;\n",
              "      fill: #1967D2;\n",
              "      height: 32px;\n",
              "      padding: 0 0 0 0;\n",
              "      width: 32px;\n",
              "    }\n",
              "\n",
              "    .colab-df-convert:hover {\n",
              "      background-color: #E2EBFA;\n",
              "      box-shadow: 0px 1px 2px rgba(60, 64, 67, 0.3), 0px 1px 3px 1px rgba(60, 64, 67, 0.15);\n",
              "      fill: #174EA6;\n",
              "    }\n",
              "\n",
              "    [theme=dark] .colab-df-convert {\n",
              "      background-color: #3B4455;\n",
              "      fill: #D2E3FC;\n",
              "    }\n",
              "\n",
              "    [theme=dark] .colab-df-convert:hover {\n",
              "      background-color: #434B5C;\n",
              "      box-shadow: 0px 1px 3px 1px rgba(0, 0, 0, 0.15);\n",
              "      filter: drop-shadow(0px 1px 2px rgba(0, 0, 0, 0.3));\n",
              "      fill: #FFFFFF;\n",
              "    }\n",
              "  </style>\n",
              "\n",
              "      <script>\n",
              "        const buttonEl =\n",
              "          document.querySelector('#df-f7817634-fdf7-4da5-a113-231d35757284 button.colab-df-convert');\n",
              "        buttonEl.style.display =\n",
              "          google.colab.kernel.accessAllowed ? 'block' : 'none';\n",
              "\n",
              "        async function convertToInteractive(key) {\n",
              "          const element = document.querySelector('#df-f7817634-fdf7-4da5-a113-231d35757284');\n",
              "          const dataTable =\n",
              "            await google.colab.kernel.invokeFunction('convertToInteractive',\n",
              "                                                     [key], {});\n",
              "          if (!dataTable) return;\n",
              "\n",
              "          const docLinkHtml = 'Like what you see? Visit the ' +\n",
              "            '<a target=\"_blank\" href=https://colab.research.google.com/notebooks/data_table.ipynb>data table notebook</a>'\n",
              "            + ' to learn more about interactive tables.';\n",
              "          element.innerHTML = '';\n",
              "          dataTable['output_type'] = 'display_data';\n",
              "          await google.colab.output.renderOutput(dataTable, element);\n",
              "          const docLink = document.createElement('div');\n",
              "          docLink.innerHTML = docLinkHtml;\n",
              "          element.appendChild(docLink);\n",
              "        }\n",
              "      </script>\n",
              "    </div>\n",
              "  </div>\n",
              "  "
            ]
          },
          "metadata": {},
          "execution_count": 108
        }
      ]
    },
    {
      "cell_type": "code",
      "source": [
        "train_pairs = training_df.shape[0]\n",
        "valid_pairs = validation_df.shape[0]\n",
        "\n",
        "print(f\"{train_pairs} training pairs\")\n",
        "print(f\"{valid_pairs} validation pairs\")"
      ],
      "metadata": {
        "colab": {
          "base_uri": "https://localhost:8080/"
        },
        "id": "kJWvt6vxjvkA",
        "outputId": "ae813522-2bee-4c83-cfe8-07e2be74b9c8"
      },
      "execution_count": 109,
      "outputs": [
        {
          "output_type": "stream",
          "name": "stdout",
          "text": [
            "100 training pairs\n",
            "10 validation pairs\n"
          ]
        }
      ]
    },
    {
      "cell_type": "code",
      "source": [
        "# Save splits to separate csv files, to load only part at a time later\n",
        "training_df.to_csv(train_file)\n",
        "validation_df.to_csv(valid_file)"
      ],
      "metadata": {
        "id": "iUaKgidPxNWY"
      },
      "execution_count": 110,
      "outputs": []
    },
    {
      "cell_type": "markdown",
      "source": [
        "Load formatted inputs and outputs"
      ],
      "metadata": {
        "id": "rTkbphXDlozU"
      }
    },
    {
      "cell_type": "code",
      "source": [
        "training_df = pd.read_csv(train_file)\n",
        "validation_df = pd.read_csv(valid_file)"
      ],
      "metadata": {
        "id": "yxWA-9cZxbaK"
      },
      "execution_count": 111,
      "outputs": []
    },
    {
      "cell_type": "code",
      "source": [
        "training_df[:2]"
      ],
      "metadata": {
        "colab": {
          "base_uri": "https://localhost:8080/",
          "height": 112
        },
        "id": "3pxVCHJpjvrz",
        "outputId": "1b2d7526-df80-486d-9162-f1ff5ec7020c"
      },
      "execution_count": 112,
      "outputs": [
        {
          "output_type": "execute_result",
          "data": {
            "text/plain": [
              "   Unnamed: 0                                               orig  \\\n",
              "0           0  answer: biotech companies context: Prior to mo...   \n",
              "1           1  answer: Tytus Woyciechowski context: Four boar...   \n",
              "\n",
              "                                              target  \n",
              "0  What type of businesses did Nickles want to at...  \n",
              "1  To whom did Chopin reveal in letters which par...  "
            ],
            "text/html": [
              "\n",
              "  <div id=\"df-9ae280f4-1228-4e31-ae9d-6833c8ab9c08\">\n",
              "    <div class=\"colab-df-container\">\n",
              "      <div>\n",
              "<style scoped>\n",
              "    .dataframe tbody tr th:only-of-type {\n",
              "        vertical-align: middle;\n",
              "    }\n",
              "\n",
              "    .dataframe tbody tr th {\n",
              "        vertical-align: top;\n",
              "    }\n",
              "\n",
              "    .dataframe thead th {\n",
              "        text-align: right;\n",
              "    }\n",
              "</style>\n",
              "<table border=\"1\" class=\"dataframe\">\n",
              "  <thead>\n",
              "    <tr style=\"text-align: right;\">\n",
              "      <th></th>\n",
              "      <th>Unnamed: 0</th>\n",
              "      <th>orig</th>\n",
              "      <th>target</th>\n",
              "    </tr>\n",
              "  </thead>\n",
              "  <tbody>\n",
              "    <tr>\n",
              "      <th>0</th>\n",
              "      <td>0</td>\n",
              "      <td>answer: biotech companies context: Prior to mo...</td>\n",
              "      <td>What type of businesses did Nickles want to at...</td>\n",
              "    </tr>\n",
              "    <tr>\n",
              "      <th>1</th>\n",
              "      <td>1</td>\n",
              "      <td>answer: Tytus Woyciechowski context: Four boar...</td>\n",
              "      <td>To whom did Chopin reveal in letters which par...</td>\n",
              "    </tr>\n",
              "  </tbody>\n",
              "</table>\n",
              "</div>\n",
              "      <button class=\"colab-df-convert\" onclick=\"convertToInteractive('df-9ae280f4-1228-4e31-ae9d-6833c8ab9c08')\"\n",
              "              title=\"Convert this dataframe to an interactive table.\"\n",
              "              style=\"display:none;\">\n",
              "        \n",
              "  <svg xmlns=\"http://www.w3.org/2000/svg\" height=\"24px\"viewBox=\"0 0 24 24\"\n",
              "       width=\"24px\">\n",
              "    <path d=\"M0 0h24v24H0V0z\" fill=\"none\"/>\n",
              "    <path d=\"M18.56 5.44l.94 2.06.94-2.06 2.06-.94-2.06-.94-.94-2.06-.94 2.06-2.06.94zm-11 1L8.5 8.5l.94-2.06 2.06-.94-2.06-.94L8.5 2.5l-.94 2.06-2.06.94zm10 10l.94 2.06.94-2.06 2.06-.94-2.06-.94-.94-2.06-.94 2.06-2.06.94z\"/><path d=\"M17.41 7.96l-1.37-1.37c-.4-.4-.92-.59-1.43-.59-.52 0-1.04.2-1.43.59L10.3 9.45l-7.72 7.72c-.78.78-.78 2.05 0 2.83L4 21.41c.39.39.9.59 1.41.59.51 0 1.02-.2 1.41-.59l7.78-7.78 2.81-2.81c.8-.78.8-2.07 0-2.86zM5.41 20L4 18.59l7.72-7.72 1.47 1.35L5.41 20z\"/>\n",
              "  </svg>\n",
              "      </button>\n",
              "      \n",
              "  <style>\n",
              "    .colab-df-container {\n",
              "      display:flex;\n",
              "      flex-wrap:wrap;\n",
              "      gap: 12px;\n",
              "    }\n",
              "\n",
              "    .colab-df-convert {\n",
              "      background-color: #E8F0FE;\n",
              "      border: none;\n",
              "      border-radius: 50%;\n",
              "      cursor: pointer;\n",
              "      display: none;\n",
              "      fill: #1967D2;\n",
              "      height: 32px;\n",
              "      padding: 0 0 0 0;\n",
              "      width: 32px;\n",
              "    }\n",
              "\n",
              "    .colab-df-convert:hover {\n",
              "      background-color: #E2EBFA;\n",
              "      box-shadow: 0px 1px 2px rgba(60, 64, 67, 0.3), 0px 1px 3px 1px rgba(60, 64, 67, 0.15);\n",
              "      fill: #174EA6;\n",
              "    }\n",
              "\n",
              "    [theme=dark] .colab-df-convert {\n",
              "      background-color: #3B4455;\n",
              "      fill: #D2E3FC;\n",
              "    }\n",
              "\n",
              "    [theme=dark] .colab-df-convert:hover {\n",
              "      background-color: #434B5C;\n",
              "      box-shadow: 0px 1px 3px 1px rgba(0, 0, 0, 0.15);\n",
              "      filter: drop-shadow(0px 1px 2px rgba(0, 0, 0, 0.3));\n",
              "      fill: #FFFFFF;\n",
              "    }\n",
              "  </style>\n",
              "\n",
              "      <script>\n",
              "        const buttonEl =\n",
              "          document.querySelector('#df-9ae280f4-1228-4e31-ae9d-6833c8ab9c08 button.colab-df-convert');\n",
              "        buttonEl.style.display =\n",
              "          google.colab.kernel.accessAllowed ? 'block' : 'none';\n",
              "\n",
              "        async function convertToInteractive(key) {\n",
              "          const element = document.querySelector('#df-9ae280f4-1228-4e31-ae9d-6833c8ab9c08');\n",
              "          const dataTable =\n",
              "            await google.colab.kernel.invokeFunction('convertToInteractive',\n",
              "                                                     [key], {});\n",
              "          if (!dataTable) return;\n",
              "\n",
              "          const docLinkHtml = 'Like what you see? Visit the ' +\n",
              "            '<a target=\"_blank\" href=https://colab.research.google.com/notebooks/data_table.ipynb>data table notebook</a>'\n",
              "            + ' to learn more about interactive tables.';\n",
              "          element.innerHTML = '';\n",
              "          dataTable['output_type'] = 'display_data';\n",
              "          await google.colab.output.renderOutput(dataTable, element);\n",
              "          const docLink = document.createElement('div');\n",
              "          docLink.innerHTML = docLinkHtml;\n",
              "          element.appendChild(docLink);\n",
              "        }\n",
              "      </script>\n",
              "    </div>\n",
              "  </div>\n",
              "  "
            ]
          },
          "metadata": {},
          "execution_count": 112
        }
      ]
    },
    {
      "cell_type": "markdown",
      "source": [
        "Preprocess data"
      ],
      "metadata": {
        "id": "6RRhJpZjmBHw"
      }
    },
    {
      "cell_type": "code",
      "source": [
        "def preprocess_data_pt(text_pair, tokenizer, max_length=1024):\n",
        "    orig_text, target_text = text_pair\n",
        "    orig_encoded = tokenizer.batch_encode_plus(\n",
        "        [orig_text],\n",
        "        max_length=max_length,\n",
        "        padding='max_length',\n",
        "        truncation=True,\n",
        "        return_attention_mask=True,\n",
        "        return_tensors='pt'\n",
        "    )\n",
        "\n",
        "    orig_input_ids = orig_encoded['input_ids'][0]\n",
        "    orig_attention_mask = orig_encoded['attention_mask'][0]\n",
        "    \n",
        "    target_encoded = tokenizer.batch_encode_plus(\n",
        "        [target_text],\n",
        "        max_length=max_length,\n",
        "        padding='max_length',\n",
        "        truncation=True,\n",
        "        return_attention_mask=True,\n",
        "        return_tensors='pt'\n",
        "    )\n",
        "    \n",
        "    label_ids = target_encoded['input_ids'][0]\n",
        "    \n",
        "    return {'input_ids': orig_input_ids,\n",
        "            'attention_mask': orig_attention_mask,\n",
        "            'labels': label_ids}"
      ],
      "metadata": {
        "id": "rUjCzNQZjvus"
      },
      "execution_count": 113,
      "outputs": []
    },
    {
      "cell_type": "code",
      "source": [
        "class QuestionDataGenerator(tf.keras.utils.Sequence):\n",
        "    \n",
        "    def __init__(self,\n",
        "                 tokenizer,\n",
        "                 n_examples,\n",
        "                 data_filename,\n",
        "                 max_length=1024,\n",
        "                 shuffle=True):\n",
        "        \n",
        "        self.tokenizer = tokenizer\n",
        "        self.n_examples = n_examples\n",
        "        self.data_filename = data_filename\n",
        "        self.max_length = max_length\n",
        "        self.shuffle = shuffle\n",
        "        \n",
        "        # Initialize row order, call on_epoch_end to shuffle row indices\n",
        "        self.row_order = np.arange(1, self.n_examples+1)\n",
        "        self.on_epoch_end()\n",
        "    \n",
        "    def __len__(self):\n",
        "        return self.n_examples\n",
        "    \n",
        "    def __getitem__(self, idx):\n",
        "        row_to_load = self.row_order[idx]\n",
        "        df = pd.read_csv(self.data_filename,\n",
        "                         skiprows=range(1, row_to_load),\n",
        "                         nrows=1)\n",
        "        \n",
        "        text_pairs = df[['orig', 'target']].values.astype(str)[0]\n",
        "        \n",
        "        batch_data = preprocess_data_pt(\n",
        "            text_pairs,\n",
        "            self.tokenizer,\n",
        "            self.max_length\n",
        "        )\n",
        "\n",
        "        return batch_data\n",
        "    \n",
        "    def __call__(self):\n",
        "        for i in range(self.__len__()):\n",
        "            yield self.__getitem__(i)\n",
        "            \n",
        "            if i == self.__len__()-1:\n",
        "                self.on_epoch_end()\n",
        "    \n",
        "    def on_epoch_end(self):\n",
        "        if self.shuffle:\n",
        "            self.row_order = list(np.random.permutation(self.row_order))"
      ],
      "metadata": {
        "id": "43m4qSGomAZ9"
      },
      "execution_count": 114,
      "outputs": []
    },
    {
      "cell_type": "code",
      "source": [
        "# Load the pretrained tensorflow model\n",
        "\n",
        "model_name = 'facebook/bart-base'\n",
        "bart_tokenizer = BartTokenizer.from_pretrained(model_name)\n",
        "bart_model = BartForConditionalGeneration.from_pretrained(model_name)"
      ],
      "metadata": {
        "id": "gAwBs4uanDAa"
      },
      "execution_count": null,
      "outputs": []
    },
    {
      "cell_type": "code",
      "source": [
        "# Create the data iterators for train and validation data, pytorch version\n",
        "\n",
        "max_length = 32\n",
        "\n",
        "train_data_generator = QuestionDataGenerator(\n",
        "    tokenizer=bart_tokenizer,\n",
        "    n_examples=train_pairs,\n",
        "    data_filename=train_file,\n",
        "    max_length=max_length\n",
        ")\n",
        "\n",
        "valid_data_generator = QuestionDataGenerator(\n",
        "    tokenizer=bart_tokenizer,\n",
        "    n_examples=valid_pairs,\n",
        "    data_filename=valid_file,\n",
        "    max_length=max_length\n",
        ")"
      ],
      "metadata": {
        "id": "HuzAUi3dmAcS"
      },
      "execution_count": 116,
      "outputs": []
    },
    {
      "cell_type": "code",
      "source": [
        "# Specify batch size and other training arguments\n",
        "\n",
        "batch_size = 8\n",
        "\n",
        "# Modify this filepath to where you want to save the model after fine-tuning\n",
        "dir_path = '/content/drive/MyDrive/w266 NLP Final Project/Models/BB BART/'\n",
        "file_path = dir_path + 'bartbase-finetuned-squad'\n",
        "\n",
        "args = Seq2SeqTrainingArguments(\n",
        "    file_path,\n",
        "    evaluation_strategy='epoch',\n",
        "    per_device_train_batch_size=batch_size,\n",
        "    per_device_eval_batch_size=batch_size,\n",
        "    num_train_epochs=1,\n",
        ")"
      ],
      "metadata": {
        "colab": {
          "base_uri": "https://localhost:8080/"
        },
        "id": "NmZkiibgswTr",
        "outputId": "f0b1e9fd-49e4-4fe8-9ae9-d27071fbb42e"
      },
      "execution_count": 117,
      "outputs": [
        {
          "output_type": "stream",
          "name": "stderr",
          "text": [
            "PyTorch: setting up devices\n",
            "The default value for the training argument `--report_to` will change in v5 (from all installed integrations to none). In v5, you will need to use `--report_to all` to get the same behavior as now. You should start updating your code and make this info disappear :-).\n"
          ]
        }
      ]
    },
    {
      "cell_type": "code",
      "source": [
        "# Define the trainer, passing in the model, training args, and data generators\n",
        "\n",
        "trainer = Seq2SeqTrainer(\n",
        "    bart_model,\n",
        "    args,\n",
        "    train_dataset=train_data_generator,\n",
        "    eval_dataset=valid_data_generator\n",
        ")"
      ],
      "metadata": {
        "id": "MdoOMOYgtF0c"
      },
      "execution_count": 118,
      "outputs": []
    },
    {
      "cell_type": "code",
      "source": [
        "# Call train\n",
        "\n",
        "trainer.train(resume_from_checkpoint=True)"
      ],
      "metadata": {
        "colab": {
          "base_uri": "https://localhost:8080/",
          "height": 412
        },
        "id": "d5M3yvTTtF2k",
        "outputId": "8405b15c-0705-4c72-9c45-11688c3ea85a"
      },
      "execution_count": 119,
      "outputs": [
        {
          "output_type": "stream",
          "name": "stderr",
          "text": [
            "***** Running training *****\n",
            "  Num examples = 100\n",
            "  Num Epochs = 1\n",
            "  Instantaneous batch size per device = 8\n",
            "  Total train batch size (w. parallel, distributed & accumulation) = 8\n",
            "  Gradient Accumulation steps = 1\n",
            "  Total optimization steps = 13\n"
          ]
        },
        {
          "output_type": "display_data",
          "data": {
            "text/plain": [
              "<IPython.core.display.HTML object>"
            ],
            "text/html": [
              "\n",
              "    <div>\n",
              "      \n",
              "      <progress value='13' max='13' style='width:300px; height:20px; vertical-align: middle;'></progress>\n",
              "      [13/13 01:12, Epoch 1/1]\n",
              "    </div>\n",
              "    <table border=\"1\" class=\"dataframe\">\n",
              "  <thead>\n",
              " <tr style=\"text-align: left;\">\n",
              "      <th>Epoch</th>\n",
              "      <th>Training Loss</th>\n",
              "      <th>Validation Loss</th>\n",
              "    </tr>\n",
              "  </thead>\n",
              "  <tbody>\n",
              "    <tr>\n",
              "      <td>1</td>\n",
              "      <td>No log</td>\n",
              "      <td>7.628573</td>\n",
              "    </tr>\n",
              "  </tbody>\n",
              "</table><p>"
            ]
          },
          "metadata": {}
        },
        {
          "output_type": "stream",
          "name": "stderr",
          "text": [
            "***** Running Evaluation *****\n",
            "  Num examples = 10\n",
            "  Batch size = 8\n",
            "\n",
            "\n",
            "Training completed. Do not forget to share your model on huggingface.co/models =)\n",
            "\n",
            "\n"
          ]
        },
        {
          "output_type": "execute_result",
          "data": {
            "text/plain": [
              "TrainOutput(global_step=13, training_loss=8.895165076622597, metrics={'train_runtime': 78.8822, 'train_samples_per_second': 1.268, 'train_steps_per_second': 0.165, 'total_flos': 1905426432000.0, 'train_loss': 8.895165076622597, 'epoch': 1.0})"
            ]
          },
          "metadata": {},
          "execution_count": 119
        }
      ]
    },
    {
      "cell_type": "markdown",
      "source": [
        "Save model"
      ],
      "metadata": {
        "id": "MpDVU4iXylZu"
      }
    },
    {
      "cell_type": "code",
      "source": [
        "dir_path = \"/content/drive/MyDrive/w266 NLP Final Project/Models/bart_base_pt_squad/\"\n",
        "trainer.save_model(dir_path)"
      ],
      "metadata": {
        "colab": {
          "base_uri": "https://localhost:8080/"
        },
        "id": "tEiZ9nXttOO1",
        "outputId": "5368ca50-8658-425f-8b8e-a6f730e39c01"
      },
      "execution_count": 120,
      "outputs": [
        {
          "output_type": "stream",
          "name": "stderr",
          "text": [
            "Saving model checkpoint to /content/drive/MyDrive/w266 NLP Final Project/Models/bart_base_pt_squad/\n",
            "Configuration saved in /content/drive/MyDrive/w266 NLP Final Project/Models/bart_base_pt_squad/config.json\n",
            "Model weights saved in /content/drive/MyDrive/w266 NLP Final Project/Models/bart_base_pt_squad/pytorch_model.bin\n"
          ]
        }
      ]
    },
    {
      "cell_type": "markdown",
      "source": [
        "### Check to see if model worked"
      ],
      "metadata": {
        "id": "RBgzNrVyzHZw"
      }
    },
    {
      "cell_type": "code",
      "source": [
        "sample_df = validation_df[0:10].copy()\n"
      ],
      "metadata": {
        "id": "mRsOwuXDtOQ3"
      },
      "execution_count": 121,
      "outputs": []
    },
    {
      "cell_type": "code",
      "source": [
        "predictions = []\n",
        "for input_text in sample_df['orig']:\n",
        "  inputs = bart_tokenizer(input_text, return_tensors='pt')\n",
        "  output_ids = bart_model.generate(inputs['input_ids'])\n",
        "  prediction = \"\".join([bart_tokenizer.decode(out_ids, skip_special_tokens=True, \n",
        "                                            clean_up_tokenization_spaces=False) for out_ids in output_ids])\n",
        "  predictions.append(prediction)\n",
        "\n",
        "sample_df['prediction'] = predictions"
      ],
      "metadata": {
        "colab": {
          "base_uri": "https://localhost:8080/"
        },
        "id": "OXhNAZ-ktOTq",
        "outputId": "3aa53cc2-2ca5-4f83-8474-969225e1f0e4"
      },
      "execution_count": 124,
      "outputs": [
        {
          "output_type": "stream",
          "name": "stderr",
          "text": [
            "/usr/local/lib/python3.7/dist-packages/transformers/generation_utils.py:1301: UserWarning: Neither `max_length` nor `max_new_tokens` has been set, `max_length` will default to 20 (`self.config.max_length`). Controlling `max_length` via the config is deprecated and `max_length` will be removed from the config in v5 of Transformers -- we recommend using `max_new_tokens` to control the maximum length of the generation.\n",
            "  UserWarning,\n"
          ]
        }
      ]
    },
    {
      "cell_type": "code",
      "source": [
        "sample_df"
      ],
      "metadata": {
        "colab": {
          "base_uri": "https://localhost:8080/",
          "height": 363
        },
        "id": "7js9JujmtF4o",
        "outputId": "bf35b567-2a0d-4359-d8ab-66097af7bfc8"
      },
      "execution_count": 125,
      "outputs": [
        {
          "output_type": "execute_result",
          "data": {
            "text/plain": [
              "   Unnamed: 0                                               orig  \\\n",
              "0           0  answer: four context: Prince Albert appears wi...   \n",
              "1           1  answer: ink context: When some species, includ...   \n",
              "2           2  answer: 1835 context: The Grainger Market repl...   \n",
              "3           3  answer: Bills context: Bills can be introduced...   \n",
              "4           4  answer: the Timucua context: Jacksonville is i...   \n",
              "5           5  answer: 1912 context: In addition to the Riema...   \n",
              "6           6  answer: stagnant context: In Marxian analysis,...   \n",
              "7           7  answer: 90 context: The final major evolution ...   \n",
              "8           8  answer: 1985 context: In 1968, ABC took advant...   \n",
              "9           9  answer: the Charter of Fundamental Rights of t...   \n",
              "\n",
              "                                              target  \\\n",
              "0  How many levels of galleries do the façades su...   \n",
              "1           What are the secretions commonly called?   \n",
              "2     When did Newcastle's first indoor market open?   \n",
              "3  What may be presented to Parliament in various...   \n",
              "4  Prior to the arrival of the French, the area n...   \n",
              "5  When did Landau propose his four conjectural p...   \n",
              "6  What type of wages does mechanization and auto...   \n",
              "7  What percentage of electrical power in the Uni...   \n",
              "8  When was the ABC Pictures division eventually ...   \n",
              "9  What charter has become an important aspect of...   \n",
              "\n",
              "                                          prediction  \n",
              "0  What was the design of the interior of the bui...  \n",
              "1              What is ctenophores' bioluminescence?  \n",
              "2                  What was Grainger's first market?  \n",
              "3                              What is a draft bill?  \n",
              "4            What is the population of Jacksonville?  \n",
              "5                    What is the Riemann conjecture?  \n",
              "6  What is the level of wage growth for the worki...  \n",
              "7  What type of steam engine was the first to be ...  \n",
              "8            What was ABC's first major acquisition?  \n",
              "9  What is the Charter of Fundamental Rights of t...  "
            ],
            "text/html": [
              "\n",
              "  <div id=\"df-edf79d6e-d99c-423b-9344-8e56184eb74b\">\n",
              "    <div class=\"colab-df-container\">\n",
              "      <div>\n",
              "<style scoped>\n",
              "    .dataframe tbody tr th:only-of-type {\n",
              "        vertical-align: middle;\n",
              "    }\n",
              "\n",
              "    .dataframe tbody tr th {\n",
              "        vertical-align: top;\n",
              "    }\n",
              "\n",
              "    .dataframe thead th {\n",
              "        text-align: right;\n",
              "    }\n",
              "</style>\n",
              "<table border=\"1\" class=\"dataframe\">\n",
              "  <thead>\n",
              "    <tr style=\"text-align: right;\">\n",
              "      <th></th>\n",
              "      <th>Unnamed: 0</th>\n",
              "      <th>orig</th>\n",
              "      <th>target</th>\n",
              "      <th>prediction</th>\n",
              "    </tr>\n",
              "  </thead>\n",
              "  <tbody>\n",
              "    <tr>\n",
              "      <th>0</th>\n",
              "      <td>0</td>\n",
              "      <td>answer: four context: Prince Albert appears wi...</td>\n",
              "      <td>How many levels of galleries do the façades su...</td>\n",
              "      <td>What was the design of the interior of the bui...</td>\n",
              "    </tr>\n",
              "    <tr>\n",
              "      <th>1</th>\n",
              "      <td>1</td>\n",
              "      <td>answer: ink context: When some species, includ...</td>\n",
              "      <td>What are the secretions commonly called?</td>\n",
              "      <td>What is ctenophores' bioluminescence?</td>\n",
              "    </tr>\n",
              "    <tr>\n",
              "      <th>2</th>\n",
              "      <td>2</td>\n",
              "      <td>answer: 1835 context: The Grainger Market repl...</td>\n",
              "      <td>When did Newcastle's first indoor market open?</td>\n",
              "      <td>What was Grainger's first market?</td>\n",
              "    </tr>\n",
              "    <tr>\n",
              "      <th>3</th>\n",
              "      <td>3</td>\n",
              "      <td>answer: Bills context: Bills can be introduced...</td>\n",
              "      <td>What may be presented to Parliament in various...</td>\n",
              "      <td>What is a draft bill?</td>\n",
              "    </tr>\n",
              "    <tr>\n",
              "      <th>4</th>\n",
              "      <td>4</td>\n",
              "      <td>answer: the Timucua context: Jacksonville is i...</td>\n",
              "      <td>Prior to the arrival of the French, the area n...</td>\n",
              "      <td>What is the population of Jacksonville?</td>\n",
              "    </tr>\n",
              "    <tr>\n",
              "      <th>5</th>\n",
              "      <td>5</td>\n",
              "      <td>answer: 1912 context: In addition to the Riema...</td>\n",
              "      <td>When did Landau propose his four conjectural p...</td>\n",
              "      <td>What is the Riemann conjecture?</td>\n",
              "    </tr>\n",
              "    <tr>\n",
              "      <th>6</th>\n",
              "      <td>6</td>\n",
              "      <td>answer: stagnant context: In Marxian analysis,...</td>\n",
              "      <td>What type of wages does mechanization and auto...</td>\n",
              "      <td>What is the level of wage growth for the worki...</td>\n",
              "    </tr>\n",
              "    <tr>\n",
              "      <th>7</th>\n",
              "      <td>7</td>\n",
              "      <td>answer: 90 context: The final major evolution ...</td>\n",
              "      <td>What percentage of electrical power in the Uni...</td>\n",
              "      <td>What type of steam engine was the first to be ...</td>\n",
              "    </tr>\n",
              "    <tr>\n",
              "      <th>8</th>\n",
              "      <td>8</td>\n",
              "      <td>answer: 1985 context: In 1968, ABC took advant...</td>\n",
              "      <td>When was the ABC Pictures division eventually ...</td>\n",
              "      <td>What was ABC's first major acquisition?</td>\n",
              "    </tr>\n",
              "    <tr>\n",
              "      <th>9</th>\n",
              "      <td>9</td>\n",
              "      <td>answer: the Charter of Fundamental Rights of t...</td>\n",
              "      <td>What charter has become an important aspect of...</td>\n",
              "      <td>What is the Charter of Fundamental Rights of t...</td>\n",
              "    </tr>\n",
              "  </tbody>\n",
              "</table>\n",
              "</div>\n",
              "      <button class=\"colab-df-convert\" onclick=\"convertToInteractive('df-edf79d6e-d99c-423b-9344-8e56184eb74b')\"\n",
              "              title=\"Convert this dataframe to an interactive table.\"\n",
              "              style=\"display:none;\">\n",
              "        \n",
              "  <svg xmlns=\"http://www.w3.org/2000/svg\" height=\"24px\"viewBox=\"0 0 24 24\"\n",
              "       width=\"24px\">\n",
              "    <path d=\"M0 0h24v24H0V0z\" fill=\"none\"/>\n",
              "    <path d=\"M18.56 5.44l.94 2.06.94-2.06 2.06-.94-2.06-.94-.94-2.06-.94 2.06-2.06.94zm-11 1L8.5 8.5l.94-2.06 2.06-.94-2.06-.94L8.5 2.5l-.94 2.06-2.06.94zm10 10l.94 2.06.94-2.06 2.06-.94-2.06-.94-.94-2.06-.94 2.06-2.06.94z\"/><path d=\"M17.41 7.96l-1.37-1.37c-.4-.4-.92-.59-1.43-.59-.52 0-1.04.2-1.43.59L10.3 9.45l-7.72 7.72c-.78.78-.78 2.05 0 2.83L4 21.41c.39.39.9.59 1.41.59.51 0 1.02-.2 1.41-.59l7.78-7.78 2.81-2.81c.8-.78.8-2.07 0-2.86zM5.41 20L4 18.59l7.72-7.72 1.47 1.35L5.41 20z\"/>\n",
              "  </svg>\n",
              "      </button>\n",
              "      \n",
              "  <style>\n",
              "    .colab-df-container {\n",
              "      display:flex;\n",
              "      flex-wrap:wrap;\n",
              "      gap: 12px;\n",
              "    }\n",
              "\n",
              "    .colab-df-convert {\n",
              "      background-color: #E8F0FE;\n",
              "      border: none;\n",
              "      border-radius: 50%;\n",
              "      cursor: pointer;\n",
              "      display: none;\n",
              "      fill: #1967D2;\n",
              "      height: 32px;\n",
              "      padding: 0 0 0 0;\n",
              "      width: 32px;\n",
              "    }\n",
              "\n",
              "    .colab-df-convert:hover {\n",
              "      background-color: #E2EBFA;\n",
              "      box-shadow: 0px 1px 2px rgba(60, 64, 67, 0.3), 0px 1px 3px 1px rgba(60, 64, 67, 0.15);\n",
              "      fill: #174EA6;\n",
              "    }\n",
              "\n",
              "    [theme=dark] .colab-df-convert {\n",
              "      background-color: #3B4455;\n",
              "      fill: #D2E3FC;\n",
              "    }\n",
              "\n",
              "    [theme=dark] .colab-df-convert:hover {\n",
              "      background-color: #434B5C;\n",
              "      box-shadow: 0px 1px 3px 1px rgba(0, 0, 0, 0.15);\n",
              "      filter: drop-shadow(0px 1px 2px rgba(0, 0, 0, 0.3));\n",
              "      fill: #FFFFFF;\n",
              "    }\n",
              "  </style>\n",
              "\n",
              "      <script>\n",
              "        const buttonEl =\n",
              "          document.querySelector('#df-edf79d6e-d99c-423b-9344-8e56184eb74b button.colab-df-convert');\n",
              "        buttonEl.style.display =\n",
              "          google.colab.kernel.accessAllowed ? 'block' : 'none';\n",
              "\n",
              "        async function convertToInteractive(key) {\n",
              "          const element = document.querySelector('#df-edf79d6e-d99c-423b-9344-8e56184eb74b');\n",
              "          const dataTable =\n",
              "            await google.colab.kernel.invokeFunction('convertToInteractive',\n",
              "                                                     [key], {});\n",
              "          if (!dataTable) return;\n",
              "\n",
              "          const docLinkHtml = 'Like what you see? Visit the ' +\n",
              "            '<a target=\"_blank\" href=https://colab.research.google.com/notebooks/data_table.ipynb>data table notebook</a>'\n",
              "            + ' to learn more about interactive tables.';\n",
              "          element.innerHTML = '';\n",
              "          dataTable['output_type'] = 'display_data';\n",
              "          await google.colab.output.renderOutput(dataTable, element);\n",
              "          const docLink = document.createElement('div');\n",
              "          docLink.innerHTML = docLinkHtml;\n",
              "          element.appendChild(docLink);\n",
              "        }\n",
              "      </script>\n",
              "    </div>\n",
              "  </div>\n",
              "  "
            ]
          },
          "metadata": {},
          "execution_count": 125
        }
      ]
    },
    {
      "cell_type": "code",
      "source": [],
      "metadata": {
        "id": "Q2IFC7zFAirY"
      },
      "execution_count": null,
      "outputs": []
    },
    {
      "cell_type": "code",
      "source": [],
      "metadata": {
        "id": "CfHSBeq3zhuE"
      },
      "execution_count": null,
      "outputs": []
    },
    {
      "cell_type": "markdown",
      "source": [
        "## BART"
      ],
      "metadata": {
        "id": "7pKWGCU8sVvi"
      }
    },
    {
      "cell_type": "markdown",
      "source": [
        "Sources:\n",
        "\n",
        "\n",
        "*  https://huggingface.co/facebook/bart-base\n",
        "*  https://huggingface.co/transformers/v3.1.0/model_doc/bart.html#bartforquestionanswering\n",
        "*  https://huggingface.co/valhalla/bart-large-finetuned-squadv1?context=My+name+is+Sarah+and+I+live+in+London&question=Where+do+I+live%3F\n",
        "*  https://huggingface.co/docs/transformers/v4.23.1/en/model_doc/bart#transformers.BartForConditionalGeneration"
      ],
      "metadata": {
        "id": "oUyl4srXsmdC"
      }
    },
    {
      "cell_type": "markdown",
      "source": [
        "###Training\n",
        "\n",
        "facebook/bart-base trained on CNN/daily mail data?\n",
        "\n",
        "facebook/bart-large trained on  MultiNLI (MNLI) dataset"
      ],
      "metadata": {
        "id": "XrBeNOQist6e"
      }
    },
    {
      "cell_type": "code",
      "source": [],
      "metadata": {
        "id": "XNni6tdvbM7C"
      },
      "execution_count": null,
      "outputs": []
    },
    {
      "cell_type": "code",
      "source": [],
      "metadata": {
        "id": "3EHO5tWBbM9j"
      },
      "execution_count": null,
      "outputs": []
    }
  ]
}