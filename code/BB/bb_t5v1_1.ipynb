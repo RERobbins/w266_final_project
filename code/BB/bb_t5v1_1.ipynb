{
  "nbformat": 4,
  "nbformat_minor": 0,
  "metadata": {
    "colab": {
      "provenance": [],
      "collapsed_sections": [],
      "authorship_tag": "ABX9TyNpEAEQHY1QrA9C/Jajin/H",
      "include_colab_link": true
    },
    "kernelspec": {
      "name": "python3",
      "display_name": "Python 3"
    },
    "language_info": {
      "name": "python"
    },
    "widgets": {
      "application/vnd.jupyter.widget-state+json": {
        "7143c108e8ef40d9b9817557de4bb46f": {
          "model_module": "@jupyter-widgets/controls",
          "model_name": "HBoxModel",
          "model_module_version": "1.5.0",
          "state": {
            "_dom_classes": [],
            "_model_module": "@jupyter-widgets/controls",
            "_model_module_version": "1.5.0",
            "_model_name": "HBoxModel",
            "_view_count": null,
            "_view_module": "@jupyter-widgets/controls",
            "_view_module_version": "1.5.0",
            "_view_name": "HBoxView",
            "box_style": "",
            "children": [
              "IPY_MODEL_d54c089107374feea2b0e2c76df0fb58",
              "IPY_MODEL_54ed560679c04702b63a905f95ea0e50",
              "IPY_MODEL_79f7f3009c414bce9d615859c4dba68b"
            ],
            "layout": "IPY_MODEL_c1040eadfe5c4f918d2fe136e8274cd6"
          }
        },
        "d54c089107374feea2b0e2c76df0fb58": {
          "model_module": "@jupyter-widgets/controls",
          "model_name": "HTMLModel",
          "model_module_version": "1.5.0",
          "state": {
            "_dom_classes": [],
            "_model_module": "@jupyter-widgets/controls",
            "_model_module_version": "1.5.0",
            "_model_name": "HTMLModel",
            "_view_count": null,
            "_view_module": "@jupyter-widgets/controls",
            "_view_module_version": "1.5.0",
            "_view_name": "HTMLView",
            "description": "",
            "description_tooltip": null,
            "layout": "IPY_MODEL_867f73e2ef034531933e1be74b8b08b6",
            "placeholder": "​",
            "style": "IPY_MODEL_b0ab384b56384ca88651bd62158e0828",
            "value": "Downloading: 100%"
          }
        },
        "54ed560679c04702b63a905f95ea0e50": {
          "model_module": "@jupyter-widgets/controls",
          "model_name": "FloatProgressModel",
          "model_module_version": "1.5.0",
          "state": {
            "_dom_classes": [],
            "_model_module": "@jupyter-widgets/controls",
            "_model_module_version": "1.5.0",
            "_model_name": "FloatProgressModel",
            "_view_count": null,
            "_view_module": "@jupyter-widgets/controls",
            "_view_module_version": "1.5.0",
            "_view_name": "ProgressView",
            "bar_style": "success",
            "description": "",
            "description_tooltip": null,
            "layout": "IPY_MODEL_cfb7a2f795c74db9a332a501a670b444",
            "max": 605,
            "min": 0,
            "orientation": "horizontal",
            "style": "IPY_MODEL_d3b5b22544f5417ba93652f1a912d61d",
            "value": 605
          }
        },
        "79f7f3009c414bce9d615859c4dba68b": {
          "model_module": "@jupyter-widgets/controls",
          "model_name": "HTMLModel",
          "model_module_version": "1.5.0",
          "state": {
            "_dom_classes": [],
            "_model_module": "@jupyter-widgets/controls",
            "_model_module_version": "1.5.0",
            "_model_name": "HTMLModel",
            "_view_count": null,
            "_view_module": "@jupyter-widgets/controls",
            "_view_module_version": "1.5.0",
            "_view_name": "HTMLView",
            "description": "",
            "description_tooltip": null,
            "layout": "IPY_MODEL_3ab3ca44053a4930b62bdfa6eb97494a",
            "placeholder": "​",
            "style": "IPY_MODEL_cb1aa34f54f04d6fbc194e17134b1123",
            "value": " 605/605 [00:00&lt;00:00, 11.6kB/s]"
          }
        },
        "c1040eadfe5c4f918d2fe136e8274cd6": {
          "model_module": "@jupyter-widgets/base",
          "model_name": "LayoutModel",
          "model_module_version": "1.2.0",
          "state": {
            "_model_module": "@jupyter-widgets/base",
            "_model_module_version": "1.2.0",
            "_model_name": "LayoutModel",
            "_view_count": null,
            "_view_module": "@jupyter-widgets/base",
            "_view_module_version": "1.2.0",
            "_view_name": "LayoutView",
            "align_content": null,
            "align_items": null,
            "align_self": null,
            "border": null,
            "bottom": null,
            "display": null,
            "flex": null,
            "flex_flow": null,
            "grid_area": null,
            "grid_auto_columns": null,
            "grid_auto_flow": null,
            "grid_auto_rows": null,
            "grid_column": null,
            "grid_gap": null,
            "grid_row": null,
            "grid_template_areas": null,
            "grid_template_columns": null,
            "grid_template_rows": null,
            "height": null,
            "justify_content": null,
            "justify_items": null,
            "left": null,
            "margin": null,
            "max_height": null,
            "max_width": null,
            "min_height": null,
            "min_width": null,
            "object_fit": null,
            "object_position": null,
            "order": null,
            "overflow": null,
            "overflow_x": null,
            "overflow_y": null,
            "padding": null,
            "right": null,
            "top": null,
            "visibility": null,
            "width": null
          }
        },
        "867f73e2ef034531933e1be74b8b08b6": {
          "model_module": "@jupyter-widgets/base",
          "model_name": "LayoutModel",
          "model_module_version": "1.2.0",
          "state": {
            "_model_module": "@jupyter-widgets/base",
            "_model_module_version": "1.2.0",
            "_model_name": "LayoutModel",
            "_view_count": null,
            "_view_module": "@jupyter-widgets/base",
            "_view_module_version": "1.2.0",
            "_view_name": "LayoutView",
            "align_content": null,
            "align_items": null,
            "align_self": null,
            "border": null,
            "bottom": null,
            "display": null,
            "flex": null,
            "flex_flow": null,
            "grid_area": null,
            "grid_auto_columns": null,
            "grid_auto_flow": null,
            "grid_auto_rows": null,
            "grid_column": null,
            "grid_gap": null,
            "grid_row": null,
            "grid_template_areas": null,
            "grid_template_columns": null,
            "grid_template_rows": null,
            "height": null,
            "justify_content": null,
            "justify_items": null,
            "left": null,
            "margin": null,
            "max_height": null,
            "max_width": null,
            "min_height": null,
            "min_width": null,
            "object_fit": null,
            "object_position": null,
            "order": null,
            "overflow": null,
            "overflow_x": null,
            "overflow_y": null,
            "padding": null,
            "right": null,
            "top": null,
            "visibility": null,
            "width": null
          }
        },
        "b0ab384b56384ca88651bd62158e0828": {
          "model_module": "@jupyter-widgets/controls",
          "model_name": "DescriptionStyleModel",
          "model_module_version": "1.5.0",
          "state": {
            "_model_module": "@jupyter-widgets/controls",
            "_model_module_version": "1.5.0",
            "_model_name": "DescriptionStyleModel",
            "_view_count": null,
            "_view_module": "@jupyter-widgets/base",
            "_view_module_version": "1.2.0",
            "_view_name": "StyleView",
            "description_width": ""
          }
        },
        "cfb7a2f795c74db9a332a501a670b444": {
          "model_module": "@jupyter-widgets/base",
          "model_name": "LayoutModel",
          "model_module_version": "1.2.0",
          "state": {
            "_model_module": "@jupyter-widgets/base",
            "_model_module_version": "1.2.0",
            "_model_name": "LayoutModel",
            "_view_count": null,
            "_view_module": "@jupyter-widgets/base",
            "_view_module_version": "1.2.0",
            "_view_name": "LayoutView",
            "align_content": null,
            "align_items": null,
            "align_self": null,
            "border": null,
            "bottom": null,
            "display": null,
            "flex": null,
            "flex_flow": null,
            "grid_area": null,
            "grid_auto_columns": null,
            "grid_auto_flow": null,
            "grid_auto_rows": null,
            "grid_column": null,
            "grid_gap": null,
            "grid_row": null,
            "grid_template_areas": null,
            "grid_template_columns": null,
            "grid_template_rows": null,
            "height": null,
            "justify_content": null,
            "justify_items": null,
            "left": null,
            "margin": null,
            "max_height": null,
            "max_width": null,
            "min_height": null,
            "min_width": null,
            "object_fit": null,
            "object_position": null,
            "order": null,
            "overflow": null,
            "overflow_x": null,
            "overflow_y": null,
            "padding": null,
            "right": null,
            "top": null,
            "visibility": null,
            "width": null
          }
        },
        "d3b5b22544f5417ba93652f1a912d61d": {
          "model_module": "@jupyter-widgets/controls",
          "model_name": "ProgressStyleModel",
          "model_module_version": "1.5.0",
          "state": {
            "_model_module": "@jupyter-widgets/controls",
            "_model_module_version": "1.5.0",
            "_model_name": "ProgressStyleModel",
            "_view_count": null,
            "_view_module": "@jupyter-widgets/base",
            "_view_module_version": "1.2.0",
            "_view_name": "StyleView",
            "bar_color": null,
            "description_width": ""
          }
        },
        "3ab3ca44053a4930b62bdfa6eb97494a": {
          "model_module": "@jupyter-widgets/base",
          "model_name": "LayoutModel",
          "model_module_version": "1.2.0",
          "state": {
            "_model_module": "@jupyter-widgets/base",
            "_model_module_version": "1.2.0",
            "_model_name": "LayoutModel",
            "_view_count": null,
            "_view_module": "@jupyter-widgets/base",
            "_view_module_version": "1.2.0",
            "_view_name": "LayoutView",
            "align_content": null,
            "align_items": null,
            "align_self": null,
            "border": null,
            "bottom": null,
            "display": null,
            "flex": null,
            "flex_flow": null,
            "grid_area": null,
            "grid_auto_columns": null,
            "grid_auto_flow": null,
            "grid_auto_rows": null,
            "grid_column": null,
            "grid_gap": null,
            "grid_row": null,
            "grid_template_areas": null,
            "grid_template_columns": null,
            "grid_template_rows": null,
            "height": null,
            "justify_content": null,
            "justify_items": null,
            "left": null,
            "margin": null,
            "max_height": null,
            "max_width": null,
            "min_height": null,
            "min_width": null,
            "object_fit": null,
            "object_position": null,
            "order": null,
            "overflow": null,
            "overflow_x": null,
            "overflow_y": null,
            "padding": null,
            "right": null,
            "top": null,
            "visibility": null,
            "width": null
          }
        },
        "cb1aa34f54f04d6fbc194e17134b1123": {
          "model_module": "@jupyter-widgets/controls",
          "model_name": "DescriptionStyleModel",
          "model_module_version": "1.5.0",
          "state": {
            "_model_module": "@jupyter-widgets/controls",
            "_model_module_version": "1.5.0",
            "_model_name": "DescriptionStyleModel",
            "_view_count": null,
            "_view_module": "@jupyter-widgets/base",
            "_view_module_version": "1.2.0",
            "_view_name": "StyleView",
            "description_width": ""
          }
        },
        "6a644a3c8ac649bc91ea57f2ec030d65": {
          "model_module": "@jupyter-widgets/controls",
          "model_name": "HBoxModel",
          "model_module_version": "1.5.0",
          "state": {
            "_dom_classes": [],
            "_model_module": "@jupyter-widgets/controls",
            "_model_module_version": "1.5.0",
            "_model_name": "HBoxModel",
            "_view_count": null,
            "_view_module": "@jupyter-widgets/controls",
            "_view_module_version": "1.5.0",
            "_view_name": "HBoxView",
            "box_style": "",
            "children": [
              "IPY_MODEL_69afbcc5eaf34b31b9e8302e11087fdd",
              "IPY_MODEL_dcc00a3663d24c7bad4e854cc90af8bb",
              "IPY_MODEL_74fc9994cc40445b988e1502735e7361"
            ],
            "layout": "IPY_MODEL_eebe366260fc4c8282497a81e9045c4d"
          }
        },
        "69afbcc5eaf34b31b9e8302e11087fdd": {
          "model_module": "@jupyter-widgets/controls",
          "model_name": "HTMLModel",
          "model_module_version": "1.5.0",
          "state": {
            "_dom_classes": [],
            "_model_module": "@jupyter-widgets/controls",
            "_model_module_version": "1.5.0",
            "_model_name": "HTMLModel",
            "_view_count": null,
            "_view_module": "@jupyter-widgets/controls",
            "_view_module_version": "1.5.0",
            "_view_name": "HTMLView",
            "description": "",
            "description_tooltip": null,
            "layout": "IPY_MODEL_058ee740673c473bb8c7a0167e510673",
            "placeholder": "​",
            "style": "IPY_MODEL_a55d171b46af44e3baa21ad280842015",
            "value": "Downloading: 100%"
          }
        },
        "dcc00a3663d24c7bad4e854cc90af8bb": {
          "model_module": "@jupyter-widgets/controls",
          "model_name": "FloatProgressModel",
          "model_module_version": "1.5.0",
          "state": {
            "_dom_classes": [],
            "_model_module": "@jupyter-widgets/controls",
            "_model_module_version": "1.5.0",
            "_model_name": "FloatProgressModel",
            "_view_count": null,
            "_view_module": "@jupyter-widgets/controls",
            "_view_module_version": "1.5.0",
            "_view_name": "ProgressView",
            "bar_style": "success",
            "description": "",
            "description_tooltip": null,
            "layout": "IPY_MODEL_78c8aa05951e4855afc1801486ff1fad",
            "max": 990878928,
            "min": 0,
            "orientation": "horizontal",
            "style": "IPY_MODEL_c1a2072b9f2e46779c1fb7db912a25f5",
            "value": 990878928
          }
        },
        "74fc9994cc40445b988e1502735e7361": {
          "model_module": "@jupyter-widgets/controls",
          "model_name": "HTMLModel",
          "model_module_version": "1.5.0",
          "state": {
            "_dom_classes": [],
            "_model_module": "@jupyter-widgets/controls",
            "_model_module_version": "1.5.0",
            "_model_name": "HTMLModel",
            "_view_count": null,
            "_view_module": "@jupyter-widgets/controls",
            "_view_module_version": "1.5.0",
            "_view_name": "HTMLView",
            "description": "",
            "description_tooltip": null,
            "layout": "IPY_MODEL_0af195b666fb4cd1a6da1283abbbe2db",
            "placeholder": "​",
            "style": "IPY_MODEL_6d9ae8d5602f4ba081d50581ad634669",
            "value": " 991M/991M [00:23&lt;00:00, 43.1MB/s]"
          }
        },
        "eebe366260fc4c8282497a81e9045c4d": {
          "model_module": "@jupyter-widgets/base",
          "model_name": "LayoutModel",
          "model_module_version": "1.2.0",
          "state": {
            "_model_module": "@jupyter-widgets/base",
            "_model_module_version": "1.2.0",
            "_model_name": "LayoutModel",
            "_view_count": null,
            "_view_module": "@jupyter-widgets/base",
            "_view_module_version": "1.2.0",
            "_view_name": "LayoutView",
            "align_content": null,
            "align_items": null,
            "align_self": null,
            "border": null,
            "bottom": null,
            "display": null,
            "flex": null,
            "flex_flow": null,
            "grid_area": null,
            "grid_auto_columns": null,
            "grid_auto_flow": null,
            "grid_auto_rows": null,
            "grid_column": null,
            "grid_gap": null,
            "grid_row": null,
            "grid_template_areas": null,
            "grid_template_columns": null,
            "grid_template_rows": null,
            "height": null,
            "justify_content": null,
            "justify_items": null,
            "left": null,
            "margin": null,
            "max_height": null,
            "max_width": null,
            "min_height": null,
            "min_width": null,
            "object_fit": null,
            "object_position": null,
            "order": null,
            "overflow": null,
            "overflow_x": null,
            "overflow_y": null,
            "padding": null,
            "right": null,
            "top": null,
            "visibility": null,
            "width": null
          }
        },
        "058ee740673c473bb8c7a0167e510673": {
          "model_module": "@jupyter-widgets/base",
          "model_name": "LayoutModel",
          "model_module_version": "1.2.0",
          "state": {
            "_model_module": "@jupyter-widgets/base",
            "_model_module_version": "1.2.0",
            "_model_name": "LayoutModel",
            "_view_count": null,
            "_view_module": "@jupyter-widgets/base",
            "_view_module_version": "1.2.0",
            "_view_name": "LayoutView",
            "align_content": null,
            "align_items": null,
            "align_self": null,
            "border": null,
            "bottom": null,
            "display": null,
            "flex": null,
            "flex_flow": null,
            "grid_area": null,
            "grid_auto_columns": null,
            "grid_auto_flow": null,
            "grid_auto_rows": null,
            "grid_column": null,
            "grid_gap": null,
            "grid_row": null,
            "grid_template_areas": null,
            "grid_template_columns": null,
            "grid_template_rows": null,
            "height": null,
            "justify_content": null,
            "justify_items": null,
            "left": null,
            "margin": null,
            "max_height": null,
            "max_width": null,
            "min_height": null,
            "min_width": null,
            "object_fit": null,
            "object_position": null,
            "order": null,
            "overflow": null,
            "overflow_x": null,
            "overflow_y": null,
            "padding": null,
            "right": null,
            "top": null,
            "visibility": null,
            "width": null
          }
        },
        "a55d171b46af44e3baa21ad280842015": {
          "model_module": "@jupyter-widgets/controls",
          "model_name": "DescriptionStyleModel",
          "model_module_version": "1.5.0",
          "state": {
            "_model_module": "@jupyter-widgets/controls",
            "_model_module_version": "1.5.0",
            "_model_name": "DescriptionStyleModel",
            "_view_count": null,
            "_view_module": "@jupyter-widgets/base",
            "_view_module_version": "1.2.0",
            "_view_name": "StyleView",
            "description_width": ""
          }
        },
        "78c8aa05951e4855afc1801486ff1fad": {
          "model_module": "@jupyter-widgets/base",
          "model_name": "LayoutModel",
          "model_module_version": "1.2.0",
          "state": {
            "_model_module": "@jupyter-widgets/base",
            "_model_module_version": "1.2.0",
            "_model_name": "LayoutModel",
            "_view_count": null,
            "_view_module": "@jupyter-widgets/base",
            "_view_module_version": "1.2.0",
            "_view_name": "LayoutView",
            "align_content": null,
            "align_items": null,
            "align_self": null,
            "border": null,
            "bottom": null,
            "display": null,
            "flex": null,
            "flex_flow": null,
            "grid_area": null,
            "grid_auto_columns": null,
            "grid_auto_flow": null,
            "grid_auto_rows": null,
            "grid_column": null,
            "grid_gap": null,
            "grid_row": null,
            "grid_template_areas": null,
            "grid_template_columns": null,
            "grid_template_rows": null,
            "height": null,
            "justify_content": null,
            "justify_items": null,
            "left": null,
            "margin": null,
            "max_height": null,
            "max_width": null,
            "min_height": null,
            "min_width": null,
            "object_fit": null,
            "object_position": null,
            "order": null,
            "overflow": null,
            "overflow_x": null,
            "overflow_y": null,
            "padding": null,
            "right": null,
            "top": null,
            "visibility": null,
            "width": null
          }
        },
        "c1a2072b9f2e46779c1fb7db912a25f5": {
          "model_module": "@jupyter-widgets/controls",
          "model_name": "ProgressStyleModel",
          "model_module_version": "1.5.0",
          "state": {
            "_model_module": "@jupyter-widgets/controls",
            "_model_module_version": "1.5.0",
            "_model_name": "ProgressStyleModel",
            "_view_count": null,
            "_view_module": "@jupyter-widgets/base",
            "_view_module_version": "1.2.0",
            "_view_name": "StyleView",
            "bar_color": null,
            "description_width": ""
          }
        },
        "0af195b666fb4cd1a6da1283abbbe2db": {
          "model_module": "@jupyter-widgets/base",
          "model_name": "LayoutModel",
          "model_module_version": "1.2.0",
          "state": {
            "_model_module": "@jupyter-widgets/base",
            "_model_module_version": "1.2.0",
            "_model_name": "LayoutModel",
            "_view_count": null,
            "_view_module": "@jupyter-widgets/base",
            "_view_module_version": "1.2.0",
            "_view_name": "LayoutView",
            "align_content": null,
            "align_items": null,
            "align_self": null,
            "border": null,
            "bottom": null,
            "display": null,
            "flex": null,
            "flex_flow": null,
            "grid_area": null,
            "grid_auto_columns": null,
            "grid_auto_flow": null,
            "grid_auto_rows": null,
            "grid_column": null,
            "grid_gap": null,
            "grid_row": null,
            "grid_template_areas": null,
            "grid_template_columns": null,
            "grid_template_rows": null,
            "height": null,
            "justify_content": null,
            "justify_items": null,
            "left": null,
            "margin": null,
            "max_height": null,
            "max_width": null,
            "min_height": null,
            "min_width": null,
            "object_fit": null,
            "object_position": null,
            "order": null,
            "overflow": null,
            "overflow_x": null,
            "overflow_y": null,
            "padding": null,
            "right": null,
            "top": null,
            "visibility": null,
            "width": null
          }
        },
        "6d9ae8d5602f4ba081d50581ad634669": {
          "model_module": "@jupyter-widgets/controls",
          "model_name": "DescriptionStyleModel",
          "model_module_version": "1.5.0",
          "state": {
            "_model_module": "@jupyter-widgets/controls",
            "_model_module_version": "1.5.0",
            "_model_name": "DescriptionStyleModel",
            "_view_count": null,
            "_view_module": "@jupyter-widgets/base",
            "_view_module_version": "1.2.0",
            "_view_name": "StyleView",
            "description_width": ""
          }
        },
        "4c8bfff8001744d3b9b464cacd233674": {
          "model_module": "@jupyter-widgets/controls",
          "model_name": "HBoxModel",
          "model_module_version": "1.5.0",
          "state": {
            "_dom_classes": [],
            "_model_module": "@jupyter-widgets/controls",
            "_model_module_version": "1.5.0",
            "_model_name": "HBoxModel",
            "_view_count": null,
            "_view_module": "@jupyter-widgets/controls",
            "_view_module_version": "1.5.0",
            "_view_name": "HBoxView",
            "box_style": "",
            "children": [
              "IPY_MODEL_5d366dabe1e64e43a34ea1fbc9bd50c9",
              "IPY_MODEL_8a22d2177f2d4f75960c4a2edc81bd3e",
              "IPY_MODEL_84b136f3070340d78538dfbcdb2d2001"
            ],
            "layout": "IPY_MODEL_5b2b7e8136af4a2b87ac1b850f9ff79b"
          }
        },
        "5d366dabe1e64e43a34ea1fbc9bd50c9": {
          "model_module": "@jupyter-widgets/controls",
          "model_name": "HTMLModel",
          "model_module_version": "1.5.0",
          "state": {
            "_dom_classes": [],
            "_model_module": "@jupyter-widgets/controls",
            "_model_module_version": "1.5.0",
            "_model_name": "HTMLModel",
            "_view_count": null,
            "_view_module": "@jupyter-widgets/controls",
            "_view_module_version": "1.5.0",
            "_view_name": "HTMLView",
            "description": "",
            "description_tooltip": null,
            "layout": "IPY_MODEL_ecc36d4be0274a49b7d1befaec7d1cf5",
            "placeholder": "​",
            "style": "IPY_MODEL_65c07751c7e44c659528cbd7aaf6a238",
            "value": "Downloading: 100%"
          }
        },
        "8a22d2177f2d4f75960c4a2edc81bd3e": {
          "model_module": "@jupyter-widgets/controls",
          "model_name": "FloatProgressModel",
          "model_module_version": "1.5.0",
          "state": {
            "_dom_classes": [],
            "_model_module": "@jupyter-widgets/controls",
            "_model_module_version": "1.5.0",
            "_model_name": "FloatProgressModel",
            "_view_count": null,
            "_view_module": "@jupyter-widgets/controls",
            "_view_module_version": "1.5.0",
            "_view_name": "ProgressView",
            "bar_style": "success",
            "description": "",
            "description_tooltip": null,
            "layout": "IPY_MODEL_7e81f00fbb6c4bc4b42ed00eca1d703a",
            "max": 791656,
            "min": 0,
            "orientation": "horizontal",
            "style": "IPY_MODEL_486759f430af43feac4c4095613177fa",
            "value": 791656
          }
        },
        "84b136f3070340d78538dfbcdb2d2001": {
          "model_module": "@jupyter-widgets/controls",
          "model_name": "HTMLModel",
          "model_module_version": "1.5.0",
          "state": {
            "_dom_classes": [],
            "_model_module": "@jupyter-widgets/controls",
            "_model_module_version": "1.5.0",
            "_model_name": "HTMLModel",
            "_view_count": null,
            "_view_module": "@jupyter-widgets/controls",
            "_view_module_version": "1.5.0",
            "_view_name": "HTMLView",
            "description": "",
            "description_tooltip": null,
            "layout": "IPY_MODEL_f02d01b6088a4ab08160b312f3175a68",
            "placeholder": "​",
            "style": "IPY_MODEL_a67313c6934549a49438606e47bf3894",
            "value": " 792k/792k [00:00&lt;00:00, 2.08MB/s]"
          }
        },
        "5b2b7e8136af4a2b87ac1b850f9ff79b": {
          "model_module": "@jupyter-widgets/base",
          "model_name": "LayoutModel",
          "model_module_version": "1.2.0",
          "state": {
            "_model_module": "@jupyter-widgets/base",
            "_model_module_version": "1.2.0",
            "_model_name": "LayoutModel",
            "_view_count": null,
            "_view_module": "@jupyter-widgets/base",
            "_view_module_version": "1.2.0",
            "_view_name": "LayoutView",
            "align_content": null,
            "align_items": null,
            "align_self": null,
            "border": null,
            "bottom": null,
            "display": null,
            "flex": null,
            "flex_flow": null,
            "grid_area": null,
            "grid_auto_columns": null,
            "grid_auto_flow": null,
            "grid_auto_rows": null,
            "grid_column": null,
            "grid_gap": null,
            "grid_row": null,
            "grid_template_areas": null,
            "grid_template_columns": null,
            "grid_template_rows": null,
            "height": null,
            "justify_content": null,
            "justify_items": null,
            "left": null,
            "margin": null,
            "max_height": null,
            "max_width": null,
            "min_height": null,
            "min_width": null,
            "object_fit": null,
            "object_position": null,
            "order": null,
            "overflow": null,
            "overflow_x": null,
            "overflow_y": null,
            "padding": null,
            "right": null,
            "top": null,
            "visibility": null,
            "width": null
          }
        },
        "ecc36d4be0274a49b7d1befaec7d1cf5": {
          "model_module": "@jupyter-widgets/base",
          "model_name": "LayoutModel",
          "model_module_version": "1.2.0",
          "state": {
            "_model_module": "@jupyter-widgets/base",
            "_model_module_version": "1.2.0",
            "_model_name": "LayoutModel",
            "_view_count": null,
            "_view_module": "@jupyter-widgets/base",
            "_view_module_version": "1.2.0",
            "_view_name": "LayoutView",
            "align_content": null,
            "align_items": null,
            "align_self": null,
            "border": null,
            "bottom": null,
            "display": null,
            "flex": null,
            "flex_flow": null,
            "grid_area": null,
            "grid_auto_columns": null,
            "grid_auto_flow": null,
            "grid_auto_rows": null,
            "grid_column": null,
            "grid_gap": null,
            "grid_row": null,
            "grid_template_areas": null,
            "grid_template_columns": null,
            "grid_template_rows": null,
            "height": null,
            "justify_content": null,
            "justify_items": null,
            "left": null,
            "margin": null,
            "max_height": null,
            "max_width": null,
            "min_height": null,
            "min_width": null,
            "object_fit": null,
            "object_position": null,
            "order": null,
            "overflow": null,
            "overflow_x": null,
            "overflow_y": null,
            "padding": null,
            "right": null,
            "top": null,
            "visibility": null,
            "width": null
          }
        },
        "65c07751c7e44c659528cbd7aaf6a238": {
          "model_module": "@jupyter-widgets/controls",
          "model_name": "DescriptionStyleModel",
          "model_module_version": "1.5.0",
          "state": {
            "_model_module": "@jupyter-widgets/controls",
            "_model_module_version": "1.5.0",
            "_model_name": "DescriptionStyleModel",
            "_view_count": null,
            "_view_module": "@jupyter-widgets/base",
            "_view_module_version": "1.2.0",
            "_view_name": "StyleView",
            "description_width": ""
          }
        },
        "7e81f00fbb6c4bc4b42ed00eca1d703a": {
          "model_module": "@jupyter-widgets/base",
          "model_name": "LayoutModel",
          "model_module_version": "1.2.0",
          "state": {
            "_model_module": "@jupyter-widgets/base",
            "_model_module_version": "1.2.0",
            "_model_name": "LayoutModel",
            "_view_count": null,
            "_view_module": "@jupyter-widgets/base",
            "_view_module_version": "1.2.0",
            "_view_name": "LayoutView",
            "align_content": null,
            "align_items": null,
            "align_self": null,
            "border": null,
            "bottom": null,
            "display": null,
            "flex": null,
            "flex_flow": null,
            "grid_area": null,
            "grid_auto_columns": null,
            "grid_auto_flow": null,
            "grid_auto_rows": null,
            "grid_column": null,
            "grid_gap": null,
            "grid_row": null,
            "grid_template_areas": null,
            "grid_template_columns": null,
            "grid_template_rows": null,
            "height": null,
            "justify_content": null,
            "justify_items": null,
            "left": null,
            "margin": null,
            "max_height": null,
            "max_width": null,
            "min_height": null,
            "min_width": null,
            "object_fit": null,
            "object_position": null,
            "order": null,
            "overflow": null,
            "overflow_x": null,
            "overflow_y": null,
            "padding": null,
            "right": null,
            "top": null,
            "visibility": null,
            "width": null
          }
        },
        "486759f430af43feac4c4095613177fa": {
          "model_module": "@jupyter-widgets/controls",
          "model_name": "ProgressStyleModel",
          "model_module_version": "1.5.0",
          "state": {
            "_model_module": "@jupyter-widgets/controls",
            "_model_module_version": "1.5.0",
            "_model_name": "ProgressStyleModel",
            "_view_count": null,
            "_view_module": "@jupyter-widgets/base",
            "_view_module_version": "1.2.0",
            "_view_name": "StyleView",
            "bar_color": null,
            "description_width": ""
          }
        },
        "f02d01b6088a4ab08160b312f3175a68": {
          "model_module": "@jupyter-widgets/base",
          "model_name": "LayoutModel",
          "model_module_version": "1.2.0",
          "state": {
            "_model_module": "@jupyter-widgets/base",
            "_model_module_version": "1.2.0",
            "_model_name": "LayoutModel",
            "_view_count": null,
            "_view_module": "@jupyter-widgets/base",
            "_view_module_version": "1.2.0",
            "_view_name": "LayoutView",
            "align_content": null,
            "align_items": null,
            "align_self": null,
            "border": null,
            "bottom": null,
            "display": null,
            "flex": null,
            "flex_flow": null,
            "grid_area": null,
            "grid_auto_columns": null,
            "grid_auto_flow": null,
            "grid_auto_rows": null,
            "grid_column": null,
            "grid_gap": null,
            "grid_row": null,
            "grid_template_areas": null,
            "grid_template_columns": null,
            "grid_template_rows": null,
            "height": null,
            "justify_content": null,
            "justify_items": null,
            "left": null,
            "margin": null,
            "max_height": null,
            "max_width": null,
            "min_height": null,
            "min_width": null,
            "object_fit": null,
            "object_position": null,
            "order": null,
            "overflow": null,
            "overflow_x": null,
            "overflow_y": null,
            "padding": null,
            "right": null,
            "top": null,
            "visibility": null,
            "width": null
          }
        },
        "a67313c6934549a49438606e47bf3894": {
          "model_module": "@jupyter-widgets/controls",
          "model_name": "DescriptionStyleModel",
          "model_module_version": "1.5.0",
          "state": {
            "_model_module": "@jupyter-widgets/controls",
            "_model_module_version": "1.5.0",
            "_model_name": "DescriptionStyleModel",
            "_view_count": null,
            "_view_module": "@jupyter-widgets/base",
            "_view_module_version": "1.2.0",
            "_view_name": "StyleView",
            "description_width": ""
          }
        },
        "3f0bdd5f9192441e9e2302e4f00cb471": {
          "model_module": "@jupyter-widgets/controls",
          "model_name": "HBoxModel",
          "model_module_version": "1.5.0",
          "state": {
            "_dom_classes": [],
            "_model_module": "@jupyter-widgets/controls",
            "_model_module_version": "1.5.0",
            "_model_name": "HBoxModel",
            "_view_count": null,
            "_view_module": "@jupyter-widgets/controls",
            "_view_module_version": "1.5.0",
            "_view_name": "HBoxView",
            "box_style": "",
            "children": [
              "IPY_MODEL_24b3f1ed53cf43fbaca20aa609264a5c",
              "IPY_MODEL_eb79c35099614028819e6df8d462811b",
              "IPY_MODEL_ed1bbc94437341f19b5fbce9d7b13040"
            ],
            "layout": "IPY_MODEL_503579bb54154c858984f26e33b8c3c6"
          }
        },
        "24b3f1ed53cf43fbaca20aa609264a5c": {
          "model_module": "@jupyter-widgets/controls",
          "model_name": "HTMLModel",
          "model_module_version": "1.5.0",
          "state": {
            "_dom_classes": [],
            "_model_module": "@jupyter-widgets/controls",
            "_model_module_version": "1.5.0",
            "_model_name": "HTMLModel",
            "_view_count": null,
            "_view_module": "@jupyter-widgets/controls",
            "_view_module_version": "1.5.0",
            "_view_name": "HTMLView",
            "description": "",
            "description_tooltip": null,
            "layout": "IPY_MODEL_6da8a283152347a8a589f9dccd020077",
            "placeholder": "​",
            "style": "IPY_MODEL_85d1e1e9e79c423ebe2632b2c6522fc9",
            "value": "Downloading: 100%"
          }
        },
        "eb79c35099614028819e6df8d462811b": {
          "model_module": "@jupyter-widgets/controls",
          "model_name": "FloatProgressModel",
          "model_module_version": "1.5.0",
          "state": {
            "_dom_classes": [],
            "_model_module": "@jupyter-widgets/controls",
            "_model_module_version": "1.5.0",
            "_model_name": "FloatProgressModel",
            "_view_count": null,
            "_view_module": "@jupyter-widgets/controls",
            "_view_module_version": "1.5.0",
            "_view_name": "ProgressView",
            "bar_style": "success",
            "description": "",
            "description_tooltip": null,
            "layout": "IPY_MODEL_bc2d654c59bd42c2add7414a6ed45421",
            "max": 1786,
            "min": 0,
            "orientation": "horizontal",
            "style": "IPY_MODEL_5f590ab1f8dc4db28c10dc205c48a393",
            "value": 1786
          }
        },
        "ed1bbc94437341f19b5fbce9d7b13040": {
          "model_module": "@jupyter-widgets/controls",
          "model_name": "HTMLModel",
          "model_module_version": "1.5.0",
          "state": {
            "_dom_classes": [],
            "_model_module": "@jupyter-widgets/controls",
            "_model_module_version": "1.5.0",
            "_model_name": "HTMLModel",
            "_view_count": null,
            "_view_module": "@jupyter-widgets/controls",
            "_view_module_version": "1.5.0",
            "_view_name": "HTMLView",
            "description": "",
            "description_tooltip": null,
            "layout": "IPY_MODEL_0a9178fe05c0495ba9e8dc5a5018531d",
            "placeholder": "​",
            "style": "IPY_MODEL_a4c895c1ed504731ac23cf4af5760cf2",
            "value": " 1.79k/1.79k [00:00&lt;00:00, 39.9kB/s]"
          }
        },
        "503579bb54154c858984f26e33b8c3c6": {
          "model_module": "@jupyter-widgets/base",
          "model_name": "LayoutModel",
          "model_module_version": "1.2.0",
          "state": {
            "_model_module": "@jupyter-widgets/base",
            "_model_module_version": "1.2.0",
            "_model_name": "LayoutModel",
            "_view_count": null,
            "_view_module": "@jupyter-widgets/base",
            "_view_module_version": "1.2.0",
            "_view_name": "LayoutView",
            "align_content": null,
            "align_items": null,
            "align_self": null,
            "border": null,
            "bottom": null,
            "display": null,
            "flex": null,
            "flex_flow": null,
            "grid_area": null,
            "grid_auto_columns": null,
            "grid_auto_flow": null,
            "grid_auto_rows": null,
            "grid_column": null,
            "grid_gap": null,
            "grid_row": null,
            "grid_template_areas": null,
            "grid_template_columns": null,
            "grid_template_rows": null,
            "height": null,
            "justify_content": null,
            "justify_items": null,
            "left": null,
            "margin": null,
            "max_height": null,
            "max_width": null,
            "min_height": null,
            "min_width": null,
            "object_fit": null,
            "object_position": null,
            "order": null,
            "overflow": null,
            "overflow_x": null,
            "overflow_y": null,
            "padding": null,
            "right": null,
            "top": null,
            "visibility": null,
            "width": null
          }
        },
        "6da8a283152347a8a589f9dccd020077": {
          "model_module": "@jupyter-widgets/base",
          "model_name": "LayoutModel",
          "model_module_version": "1.2.0",
          "state": {
            "_model_module": "@jupyter-widgets/base",
            "_model_module_version": "1.2.0",
            "_model_name": "LayoutModel",
            "_view_count": null,
            "_view_module": "@jupyter-widgets/base",
            "_view_module_version": "1.2.0",
            "_view_name": "LayoutView",
            "align_content": null,
            "align_items": null,
            "align_self": null,
            "border": null,
            "bottom": null,
            "display": null,
            "flex": null,
            "flex_flow": null,
            "grid_area": null,
            "grid_auto_columns": null,
            "grid_auto_flow": null,
            "grid_auto_rows": null,
            "grid_column": null,
            "grid_gap": null,
            "grid_row": null,
            "grid_template_areas": null,
            "grid_template_columns": null,
            "grid_template_rows": null,
            "height": null,
            "justify_content": null,
            "justify_items": null,
            "left": null,
            "margin": null,
            "max_height": null,
            "max_width": null,
            "min_height": null,
            "min_width": null,
            "object_fit": null,
            "object_position": null,
            "order": null,
            "overflow": null,
            "overflow_x": null,
            "overflow_y": null,
            "padding": null,
            "right": null,
            "top": null,
            "visibility": null,
            "width": null
          }
        },
        "85d1e1e9e79c423ebe2632b2c6522fc9": {
          "model_module": "@jupyter-widgets/controls",
          "model_name": "DescriptionStyleModel",
          "model_module_version": "1.5.0",
          "state": {
            "_model_module": "@jupyter-widgets/controls",
            "_model_module_version": "1.5.0",
            "_model_name": "DescriptionStyleModel",
            "_view_count": null,
            "_view_module": "@jupyter-widgets/base",
            "_view_module_version": "1.2.0",
            "_view_name": "StyleView",
            "description_width": ""
          }
        },
        "bc2d654c59bd42c2add7414a6ed45421": {
          "model_module": "@jupyter-widgets/base",
          "model_name": "LayoutModel",
          "model_module_version": "1.2.0",
          "state": {
            "_model_module": "@jupyter-widgets/base",
            "_model_module_version": "1.2.0",
            "_model_name": "LayoutModel",
            "_view_count": null,
            "_view_module": "@jupyter-widgets/base",
            "_view_module_version": "1.2.0",
            "_view_name": "LayoutView",
            "align_content": null,
            "align_items": null,
            "align_self": null,
            "border": null,
            "bottom": null,
            "display": null,
            "flex": null,
            "flex_flow": null,
            "grid_area": null,
            "grid_auto_columns": null,
            "grid_auto_flow": null,
            "grid_auto_rows": null,
            "grid_column": null,
            "grid_gap": null,
            "grid_row": null,
            "grid_template_areas": null,
            "grid_template_columns": null,
            "grid_template_rows": null,
            "height": null,
            "justify_content": null,
            "justify_items": null,
            "left": null,
            "margin": null,
            "max_height": null,
            "max_width": null,
            "min_height": null,
            "min_width": null,
            "object_fit": null,
            "object_position": null,
            "order": null,
            "overflow": null,
            "overflow_x": null,
            "overflow_y": null,
            "padding": null,
            "right": null,
            "top": null,
            "visibility": null,
            "width": null
          }
        },
        "5f590ab1f8dc4db28c10dc205c48a393": {
          "model_module": "@jupyter-widgets/controls",
          "model_name": "ProgressStyleModel",
          "model_module_version": "1.5.0",
          "state": {
            "_model_module": "@jupyter-widgets/controls",
            "_model_module_version": "1.5.0",
            "_model_name": "ProgressStyleModel",
            "_view_count": null,
            "_view_module": "@jupyter-widgets/base",
            "_view_module_version": "1.2.0",
            "_view_name": "StyleView",
            "bar_color": null,
            "description_width": ""
          }
        },
        "0a9178fe05c0495ba9e8dc5a5018531d": {
          "model_module": "@jupyter-widgets/base",
          "model_name": "LayoutModel",
          "model_module_version": "1.2.0",
          "state": {
            "_model_module": "@jupyter-widgets/base",
            "_model_module_version": "1.2.0",
            "_model_name": "LayoutModel",
            "_view_count": null,
            "_view_module": "@jupyter-widgets/base",
            "_view_module_version": "1.2.0",
            "_view_name": "LayoutView",
            "align_content": null,
            "align_items": null,
            "align_self": null,
            "border": null,
            "bottom": null,
            "display": null,
            "flex": null,
            "flex_flow": null,
            "grid_area": null,
            "grid_auto_columns": null,
            "grid_auto_flow": null,
            "grid_auto_rows": null,
            "grid_column": null,
            "grid_gap": null,
            "grid_row": null,
            "grid_template_areas": null,
            "grid_template_columns": null,
            "grid_template_rows": null,
            "height": null,
            "justify_content": null,
            "justify_items": null,
            "left": null,
            "margin": null,
            "max_height": null,
            "max_width": null,
            "min_height": null,
            "min_width": null,
            "object_fit": null,
            "object_position": null,
            "order": null,
            "overflow": null,
            "overflow_x": null,
            "overflow_y": null,
            "padding": null,
            "right": null,
            "top": null,
            "visibility": null,
            "width": null
          }
        },
        "a4c895c1ed504731ac23cf4af5760cf2": {
          "model_module": "@jupyter-widgets/controls",
          "model_name": "DescriptionStyleModel",
          "model_module_version": "1.5.0",
          "state": {
            "_model_module": "@jupyter-widgets/controls",
            "_model_module_version": "1.5.0",
            "_model_name": "DescriptionStyleModel",
            "_view_count": null,
            "_view_module": "@jupyter-widgets/base",
            "_view_module_version": "1.2.0",
            "_view_name": "StyleView",
            "description_width": ""
          }
        },
        "ede322cb2b6a416691ff7c571e408217": {
          "model_module": "@jupyter-widgets/controls",
          "model_name": "HBoxModel",
          "model_module_version": "1.5.0",
          "state": {
            "_dom_classes": [],
            "_model_module": "@jupyter-widgets/controls",
            "_model_module_version": "1.5.0",
            "_model_name": "HBoxModel",
            "_view_count": null,
            "_view_module": "@jupyter-widgets/controls",
            "_view_module_version": "1.5.0",
            "_view_name": "HBoxView",
            "box_style": "",
            "children": [
              "IPY_MODEL_68e05c7b7d5d4df690ebf7376bda21bb",
              "IPY_MODEL_853c4ece016d448ea92ed12ce7f44b65",
              "IPY_MODEL_78f6ccffb5e7406a8ee9a3a0df745a7e"
            ],
            "layout": "IPY_MODEL_ea20bb29b6a24fe9924228c87f4d675d"
          }
        },
        "68e05c7b7d5d4df690ebf7376bda21bb": {
          "model_module": "@jupyter-widgets/controls",
          "model_name": "HTMLModel",
          "model_module_version": "1.5.0",
          "state": {
            "_dom_classes": [],
            "_model_module": "@jupyter-widgets/controls",
            "_model_module_version": "1.5.0",
            "_model_name": "HTMLModel",
            "_view_count": null,
            "_view_module": "@jupyter-widgets/controls",
            "_view_module_version": "1.5.0",
            "_view_name": "HTMLView",
            "description": "",
            "description_tooltip": null,
            "layout": "IPY_MODEL_3a36bab1c6154a95933ffdc9157eb548",
            "placeholder": "​",
            "style": "IPY_MODEL_7d42e75b0cdd4cc7a2a8fe9105d229d5",
            "value": "Downloading: 100%"
          }
        },
        "853c4ece016d448ea92ed12ce7f44b65": {
          "model_module": "@jupyter-widgets/controls",
          "model_name": "FloatProgressModel",
          "model_module_version": "1.5.0",
          "state": {
            "_dom_classes": [],
            "_model_module": "@jupyter-widgets/controls",
            "_model_module_version": "1.5.0",
            "_model_name": "FloatProgressModel",
            "_view_count": null,
            "_view_module": "@jupyter-widgets/controls",
            "_view_module_version": "1.5.0",
            "_view_name": "ProgressView",
            "bar_style": "success",
            "description": "",
            "description_tooltip": null,
            "layout": "IPY_MODEL_9c96856881a148d7bb5b632cd066e2f5",
            "max": 1857,
            "min": 0,
            "orientation": "horizontal",
            "style": "IPY_MODEL_35b2545b67374846aabadfd49c78a3e8",
            "value": 1857
          }
        },
        "78f6ccffb5e7406a8ee9a3a0df745a7e": {
          "model_module": "@jupyter-widgets/controls",
          "model_name": "HTMLModel",
          "model_module_version": "1.5.0",
          "state": {
            "_dom_classes": [],
            "_model_module": "@jupyter-widgets/controls",
            "_model_module_version": "1.5.0",
            "_model_name": "HTMLModel",
            "_view_count": null,
            "_view_module": "@jupyter-widgets/controls",
            "_view_module_version": "1.5.0",
            "_view_name": "HTMLView",
            "description": "",
            "description_tooltip": null,
            "layout": "IPY_MODEL_65e36f1520ee452698ed5b2883d45f94",
            "placeholder": "​",
            "style": "IPY_MODEL_d345dcfeed074237aefd2e633897814d",
            "value": " 1.86k/1.86k [00:00&lt;00:00, 27.8kB/s]"
          }
        },
        "ea20bb29b6a24fe9924228c87f4d675d": {
          "model_module": "@jupyter-widgets/base",
          "model_name": "LayoutModel",
          "model_module_version": "1.2.0",
          "state": {
            "_model_module": "@jupyter-widgets/base",
            "_model_module_version": "1.2.0",
            "_model_name": "LayoutModel",
            "_view_count": null,
            "_view_module": "@jupyter-widgets/base",
            "_view_module_version": "1.2.0",
            "_view_name": "LayoutView",
            "align_content": null,
            "align_items": null,
            "align_self": null,
            "border": null,
            "bottom": null,
            "display": null,
            "flex": null,
            "flex_flow": null,
            "grid_area": null,
            "grid_auto_columns": null,
            "grid_auto_flow": null,
            "grid_auto_rows": null,
            "grid_column": null,
            "grid_gap": null,
            "grid_row": null,
            "grid_template_areas": null,
            "grid_template_columns": null,
            "grid_template_rows": null,
            "height": null,
            "justify_content": null,
            "justify_items": null,
            "left": null,
            "margin": null,
            "max_height": null,
            "max_width": null,
            "min_height": null,
            "min_width": null,
            "object_fit": null,
            "object_position": null,
            "order": null,
            "overflow": null,
            "overflow_x": null,
            "overflow_y": null,
            "padding": null,
            "right": null,
            "top": null,
            "visibility": null,
            "width": null
          }
        },
        "3a36bab1c6154a95933ffdc9157eb548": {
          "model_module": "@jupyter-widgets/base",
          "model_name": "LayoutModel",
          "model_module_version": "1.2.0",
          "state": {
            "_model_module": "@jupyter-widgets/base",
            "_model_module_version": "1.2.0",
            "_model_name": "LayoutModel",
            "_view_count": null,
            "_view_module": "@jupyter-widgets/base",
            "_view_module_version": "1.2.0",
            "_view_name": "LayoutView",
            "align_content": null,
            "align_items": null,
            "align_self": null,
            "border": null,
            "bottom": null,
            "display": null,
            "flex": null,
            "flex_flow": null,
            "grid_area": null,
            "grid_auto_columns": null,
            "grid_auto_flow": null,
            "grid_auto_rows": null,
            "grid_column": null,
            "grid_gap": null,
            "grid_row": null,
            "grid_template_areas": null,
            "grid_template_columns": null,
            "grid_template_rows": null,
            "height": null,
            "justify_content": null,
            "justify_items": null,
            "left": null,
            "margin": null,
            "max_height": null,
            "max_width": null,
            "min_height": null,
            "min_width": null,
            "object_fit": null,
            "object_position": null,
            "order": null,
            "overflow": null,
            "overflow_x": null,
            "overflow_y": null,
            "padding": null,
            "right": null,
            "top": null,
            "visibility": null,
            "width": null
          }
        },
        "7d42e75b0cdd4cc7a2a8fe9105d229d5": {
          "model_module": "@jupyter-widgets/controls",
          "model_name": "DescriptionStyleModel",
          "model_module_version": "1.5.0",
          "state": {
            "_model_module": "@jupyter-widgets/controls",
            "_model_module_version": "1.5.0",
            "_model_name": "DescriptionStyleModel",
            "_view_count": null,
            "_view_module": "@jupyter-widgets/base",
            "_view_module_version": "1.2.0",
            "_view_name": "StyleView",
            "description_width": ""
          }
        },
        "9c96856881a148d7bb5b632cd066e2f5": {
          "model_module": "@jupyter-widgets/base",
          "model_name": "LayoutModel",
          "model_module_version": "1.2.0",
          "state": {
            "_model_module": "@jupyter-widgets/base",
            "_model_module_version": "1.2.0",
            "_model_name": "LayoutModel",
            "_view_count": null,
            "_view_module": "@jupyter-widgets/base",
            "_view_module_version": "1.2.0",
            "_view_name": "LayoutView",
            "align_content": null,
            "align_items": null,
            "align_self": null,
            "border": null,
            "bottom": null,
            "display": null,
            "flex": null,
            "flex_flow": null,
            "grid_area": null,
            "grid_auto_columns": null,
            "grid_auto_flow": null,
            "grid_auto_rows": null,
            "grid_column": null,
            "grid_gap": null,
            "grid_row": null,
            "grid_template_areas": null,
            "grid_template_columns": null,
            "grid_template_rows": null,
            "height": null,
            "justify_content": null,
            "justify_items": null,
            "left": null,
            "margin": null,
            "max_height": null,
            "max_width": null,
            "min_height": null,
            "min_width": null,
            "object_fit": null,
            "object_position": null,
            "order": null,
            "overflow": null,
            "overflow_x": null,
            "overflow_y": null,
            "padding": null,
            "right": null,
            "top": null,
            "visibility": null,
            "width": null
          }
        },
        "35b2545b67374846aabadfd49c78a3e8": {
          "model_module": "@jupyter-widgets/controls",
          "model_name": "ProgressStyleModel",
          "model_module_version": "1.5.0",
          "state": {
            "_model_module": "@jupyter-widgets/controls",
            "_model_module_version": "1.5.0",
            "_model_name": "ProgressStyleModel",
            "_view_count": null,
            "_view_module": "@jupyter-widgets/base",
            "_view_module_version": "1.2.0",
            "_view_name": "StyleView",
            "bar_color": null,
            "description_width": ""
          }
        },
        "65e36f1520ee452698ed5b2883d45f94": {
          "model_module": "@jupyter-widgets/base",
          "model_name": "LayoutModel",
          "model_module_version": "1.2.0",
          "state": {
            "_model_module": "@jupyter-widgets/base",
            "_model_module_version": "1.2.0",
            "_model_name": "LayoutModel",
            "_view_count": null,
            "_view_module": "@jupyter-widgets/base",
            "_view_module_version": "1.2.0",
            "_view_name": "LayoutView",
            "align_content": null,
            "align_items": null,
            "align_self": null,
            "border": null,
            "bottom": null,
            "display": null,
            "flex": null,
            "flex_flow": null,
            "grid_area": null,
            "grid_auto_columns": null,
            "grid_auto_flow": null,
            "grid_auto_rows": null,
            "grid_column": null,
            "grid_gap": null,
            "grid_row": null,
            "grid_template_areas": null,
            "grid_template_columns": null,
            "grid_template_rows": null,
            "height": null,
            "justify_content": null,
            "justify_items": null,
            "left": null,
            "margin": null,
            "max_height": null,
            "max_width": null,
            "min_height": null,
            "min_width": null,
            "object_fit": null,
            "object_position": null,
            "order": null,
            "overflow": null,
            "overflow_x": null,
            "overflow_y": null,
            "padding": null,
            "right": null,
            "top": null,
            "visibility": null,
            "width": null
          }
        },
        "d345dcfeed074237aefd2e633897814d": {
          "model_module": "@jupyter-widgets/controls",
          "model_name": "DescriptionStyleModel",
          "model_module_version": "1.5.0",
          "state": {
            "_model_module": "@jupyter-widgets/controls",
            "_model_module_version": "1.5.0",
            "_model_name": "DescriptionStyleModel",
            "_view_count": null,
            "_view_module": "@jupyter-widgets/base",
            "_view_module_version": "1.2.0",
            "_view_name": "StyleView",
            "description_width": ""
          }
        }
      }
    }
  },
  "cells": [
    {
      "cell_type": "markdown",
      "metadata": {
        "id": "view-in-github",
        "colab_type": "text"
      },
      "source": [
        "<a href=\"https://colab.research.google.com/github/jeanlucjackson/w266_final_project/blob/main/code/BB/bb_t5v1_1.ipynb\" target=\"_parent\"><img src=\"https://colab.research.google.com/assets/colab-badge.svg\" alt=\"Open In Colab\"/></a>"
      ]
    },
    {
      "cell_type": "code",
      "execution_count": 1,
      "metadata": {
        "id": "S71cSTrx7QAo"
      },
      "outputs": [],
      "source": [
        "import numpy as np\n",
        "import pandas as pd\n",
        "\n",
        "import json\n",
        "\n",
        "# Make longer output readable without scrolling\n",
        "from pprint import pprint\n",
        "\n",
        "# Stop warning messages from showing\n",
        "import warnings\n",
        "warnings.simplefilter(action='ignore', category=FutureWarning)"
      ]
    },
    {
      "cell_type": "code",
      "source": [
        "!pip install -q sentencepiece"
      ],
      "metadata": {
        "colab": {
          "base_uri": "https://localhost:8080/"
        },
        "id": "UPEFNeUY7Q1j",
        "outputId": "fb4691fd-5046-4a98-dedf-4960712a8913"
      },
      "execution_count": 2,
      "outputs": [
        {
          "output_type": "stream",
          "name": "stdout",
          "text": [
            "\u001b[?25l\r\u001b[K     |▎                               | 10 kB 14.3 MB/s eta 0:00:01\r\u001b[K     |▌                               | 20 kB 6.2 MB/s eta 0:00:01\r\u001b[K     |▊                               | 30 kB 8.5 MB/s eta 0:00:01\r\u001b[K     |█                               | 40 kB 4.8 MB/s eta 0:00:01\r\u001b[K     |█▎                              | 51 kB 4.2 MB/s eta 0:00:01\r\u001b[K     |█▌                              | 61 kB 4.9 MB/s eta 0:00:01\r\u001b[K     |█▉                              | 71 kB 5.6 MB/s eta 0:00:01\r\u001b[K     |██                              | 81 kB 6.3 MB/s eta 0:00:01\r\u001b[K     |██▎                             | 92 kB 6.0 MB/s eta 0:00:01\r\u001b[K     |██▋                             | 102 kB 5.6 MB/s eta 0:00:01\r\u001b[K     |██▉                             | 112 kB 5.6 MB/s eta 0:00:01\r\u001b[K     |███                             | 122 kB 5.6 MB/s eta 0:00:01\r\u001b[K     |███▍                            | 133 kB 5.6 MB/s eta 0:00:01\r\u001b[K     |███▋                            | 143 kB 5.6 MB/s eta 0:00:01\r\u001b[K     |███▉                            | 153 kB 5.6 MB/s eta 0:00:01\r\u001b[K     |████                            | 163 kB 5.6 MB/s eta 0:00:01\r\u001b[K     |████▍                           | 174 kB 5.6 MB/s eta 0:00:01\r\u001b[K     |████▋                           | 184 kB 5.6 MB/s eta 0:00:01\r\u001b[K     |████▉                           | 194 kB 5.6 MB/s eta 0:00:01\r\u001b[K     |█████▏                          | 204 kB 5.6 MB/s eta 0:00:01\r\u001b[K     |█████▍                          | 215 kB 5.6 MB/s eta 0:00:01\r\u001b[K     |█████▋                          | 225 kB 5.6 MB/s eta 0:00:01\r\u001b[K     |██████                          | 235 kB 5.6 MB/s eta 0:00:01\r\u001b[K     |██████▏                         | 245 kB 5.6 MB/s eta 0:00:01\r\u001b[K     |██████▍                         | 256 kB 5.6 MB/s eta 0:00:01\r\u001b[K     |██████▊                         | 266 kB 5.6 MB/s eta 0:00:01\r\u001b[K     |███████                         | 276 kB 5.6 MB/s eta 0:00:01\r\u001b[K     |███████▏                        | 286 kB 5.6 MB/s eta 0:00:01\r\u001b[K     |███████▍                        | 296 kB 5.6 MB/s eta 0:00:01\r\u001b[K     |███████▊                        | 307 kB 5.6 MB/s eta 0:00:01\r\u001b[K     |████████                        | 317 kB 5.6 MB/s eta 0:00:01\r\u001b[K     |████████▏                       | 327 kB 5.6 MB/s eta 0:00:01\r\u001b[K     |████████▌                       | 337 kB 5.6 MB/s eta 0:00:01\r\u001b[K     |████████▊                       | 348 kB 5.6 MB/s eta 0:00:01\r\u001b[K     |█████████                       | 358 kB 5.6 MB/s eta 0:00:01\r\u001b[K     |█████████▎                      | 368 kB 5.6 MB/s eta 0:00:01\r\u001b[K     |█████████▌                      | 378 kB 5.6 MB/s eta 0:00:01\r\u001b[K     |█████████▊                      | 389 kB 5.6 MB/s eta 0:00:01\r\u001b[K     |██████████                      | 399 kB 5.6 MB/s eta 0:00:01\r\u001b[K     |██████████▎                     | 409 kB 5.6 MB/s eta 0:00:01\r\u001b[K     |██████████▌                     | 419 kB 5.6 MB/s eta 0:00:01\r\u001b[K     |██████████▉                     | 430 kB 5.6 MB/s eta 0:00:01\r\u001b[K     |███████████                     | 440 kB 5.6 MB/s eta 0:00:01\r\u001b[K     |███████████▎                    | 450 kB 5.6 MB/s eta 0:00:01\r\u001b[K     |███████████▌                    | 460 kB 5.6 MB/s eta 0:00:01\r\u001b[K     |███████████▉                    | 471 kB 5.6 MB/s eta 0:00:01\r\u001b[K     |████████████                    | 481 kB 5.6 MB/s eta 0:00:01\r\u001b[K     |████████████▎                   | 491 kB 5.6 MB/s eta 0:00:01\r\u001b[K     |████████████▋                   | 501 kB 5.6 MB/s eta 0:00:01\r\u001b[K     |████████████▉                   | 512 kB 5.6 MB/s eta 0:00:01\r\u001b[K     |█████████████                   | 522 kB 5.6 MB/s eta 0:00:01\r\u001b[K     |█████████████▍                  | 532 kB 5.6 MB/s eta 0:00:01\r\u001b[K     |█████████████▋                  | 542 kB 5.6 MB/s eta 0:00:01\r\u001b[K     |█████████████▉                  | 552 kB 5.6 MB/s eta 0:00:01\r\u001b[K     |██████████████▏                 | 563 kB 5.6 MB/s eta 0:00:01\r\u001b[K     |██████████████▍                 | 573 kB 5.6 MB/s eta 0:00:01\r\u001b[K     |██████████████▋                 | 583 kB 5.6 MB/s eta 0:00:01\r\u001b[K     |██████████████▉                 | 593 kB 5.6 MB/s eta 0:00:01\r\u001b[K     |███████████████▏                | 604 kB 5.6 MB/s eta 0:00:01\r\u001b[K     |███████████████▍                | 614 kB 5.6 MB/s eta 0:00:01\r\u001b[K     |███████████████▋                | 624 kB 5.6 MB/s eta 0:00:01\r\u001b[K     |████████████████                | 634 kB 5.6 MB/s eta 0:00:01\r\u001b[K     |████████████████▏               | 645 kB 5.6 MB/s eta 0:00:01\r\u001b[K     |████████████████▍               | 655 kB 5.6 MB/s eta 0:00:01\r\u001b[K     |████████████████▊               | 665 kB 5.6 MB/s eta 0:00:01\r\u001b[K     |█████████████████               | 675 kB 5.6 MB/s eta 0:00:01\r\u001b[K     |█████████████████▏              | 686 kB 5.6 MB/s eta 0:00:01\r\u001b[K     |█████████████████▌              | 696 kB 5.6 MB/s eta 0:00:01\r\u001b[K     |█████████████████▊              | 706 kB 5.6 MB/s eta 0:00:01\r\u001b[K     |██████████████████              | 716 kB 5.6 MB/s eta 0:00:01\r\u001b[K     |██████████████████▎             | 727 kB 5.6 MB/s eta 0:00:01\r\u001b[K     |██████████████████▌             | 737 kB 5.6 MB/s eta 0:00:01\r\u001b[K     |██████████████████▊             | 747 kB 5.6 MB/s eta 0:00:01\r\u001b[K     |███████████████████             | 757 kB 5.6 MB/s eta 0:00:01\r\u001b[K     |███████████████████▎            | 768 kB 5.6 MB/s eta 0:00:01\r\u001b[K     |███████████████████▌            | 778 kB 5.6 MB/s eta 0:00:01\r\u001b[K     |███████████████████▊            | 788 kB 5.6 MB/s eta 0:00:01\r\u001b[K     |████████████████████            | 798 kB 5.6 MB/s eta 0:00:01\r\u001b[K     |████████████████████▎           | 808 kB 5.6 MB/s eta 0:00:01\r\u001b[K     |████████████████████▌           | 819 kB 5.6 MB/s eta 0:00:01\r\u001b[K     |████████████████████▉           | 829 kB 5.6 MB/s eta 0:00:01\r\u001b[K     |█████████████████████           | 839 kB 5.6 MB/s eta 0:00:01\r\u001b[K     |█████████████████████▎          | 849 kB 5.6 MB/s eta 0:00:01\r\u001b[K     |█████████████████████▋          | 860 kB 5.6 MB/s eta 0:00:01\r\u001b[K     |█████████████████████▉          | 870 kB 5.6 MB/s eta 0:00:01\r\u001b[K     |██████████████████████          | 880 kB 5.6 MB/s eta 0:00:01\r\u001b[K     |██████████████████████▎         | 890 kB 5.6 MB/s eta 0:00:01\r\u001b[K     |██████████████████████▋         | 901 kB 5.6 MB/s eta 0:00:01\r\u001b[K     |██████████████████████▉         | 911 kB 5.6 MB/s eta 0:00:01\r\u001b[K     |███████████████████████         | 921 kB 5.6 MB/s eta 0:00:01\r\u001b[K     |███████████████████████▍        | 931 kB 5.6 MB/s eta 0:00:01\r\u001b[K     |███████████████████████▋        | 942 kB 5.6 MB/s eta 0:00:01\r\u001b[K     |███████████████████████▉        | 952 kB 5.6 MB/s eta 0:00:01\r\u001b[K     |████████████████████████▏       | 962 kB 5.6 MB/s eta 0:00:01\r\u001b[K     |████████████████████████▍       | 972 kB 5.6 MB/s eta 0:00:01\r\u001b[K     |████████████████████████▋       | 983 kB 5.6 MB/s eta 0:00:01\r\u001b[K     |█████████████████████████       | 993 kB 5.6 MB/s eta 0:00:01\r\u001b[K     |█████████████████████████▏      | 1.0 MB 5.6 MB/s eta 0:00:01\r\u001b[K     |█████████████████████████▍      | 1.0 MB 5.6 MB/s eta 0:00:01\r\u001b[K     |█████████████████████████▊      | 1.0 MB 5.6 MB/s eta 0:00:01\r\u001b[K     |██████████████████████████      | 1.0 MB 5.6 MB/s eta 0:00:01\r\u001b[K     |██████████████████████████▏     | 1.0 MB 5.6 MB/s eta 0:00:01\r\u001b[K     |██████████████████████████▍     | 1.1 MB 5.6 MB/s eta 0:00:01\r\u001b[K     |██████████████████████████▊     | 1.1 MB 5.6 MB/s eta 0:00:01\r\u001b[K     |███████████████████████████     | 1.1 MB 5.6 MB/s eta 0:00:01\r\u001b[K     |███████████████████████████▏    | 1.1 MB 5.6 MB/s eta 0:00:01\r\u001b[K     |███████████████████████████▌    | 1.1 MB 5.6 MB/s eta 0:00:01\r\u001b[K     |███████████████████████████▊    | 1.1 MB 5.6 MB/s eta 0:00:01\r\u001b[K     |████████████████████████████    | 1.1 MB 5.6 MB/s eta 0:00:01\r\u001b[K     |████████████████████████████▎   | 1.1 MB 5.6 MB/s eta 0:00:01\r\u001b[K     |████████████████████████████▌   | 1.1 MB 5.6 MB/s eta 0:00:01\r\u001b[K     |████████████████████████████▊   | 1.1 MB 5.6 MB/s eta 0:00:01\r\u001b[K     |█████████████████████████████   | 1.2 MB 5.6 MB/s eta 0:00:01\r\u001b[K     |█████████████████████████████▎  | 1.2 MB 5.6 MB/s eta 0:00:01\r\u001b[K     |█████████████████████████████▌  | 1.2 MB 5.6 MB/s eta 0:00:01\r\u001b[K     |█████████████████████████████▊  | 1.2 MB 5.6 MB/s eta 0:00:01\r\u001b[K     |██████████████████████████████  | 1.2 MB 5.6 MB/s eta 0:00:01\r\u001b[K     |██████████████████████████████▎ | 1.2 MB 5.6 MB/s eta 0:00:01\r\u001b[K     |██████████████████████████████▌ | 1.2 MB 5.6 MB/s eta 0:00:01\r\u001b[K     |██████████████████████████████▉ | 1.2 MB 5.6 MB/s eta 0:00:01\r\u001b[K     |███████████████████████████████ | 1.2 MB 5.6 MB/s eta 0:00:01\r\u001b[K     |███████████████████████████████▎| 1.2 MB 5.6 MB/s eta 0:00:01\r\u001b[K     |███████████████████████████████▋| 1.3 MB 5.6 MB/s eta 0:00:01\r\u001b[K     |███████████████████████████████▉| 1.3 MB 5.6 MB/s eta 0:00:01\r\u001b[K     |████████████████████████████████| 1.3 MB 5.6 MB/s \n",
            "\u001b[?25h"
          ]
        }
      ]
    },
    {
      "cell_type": "code",
      "source": [
        "!pip install -q transformers"
      ],
      "metadata": {
        "colab": {
          "base_uri": "https://localhost:8080/"
        },
        "id": "UO-94Kyg7c1-",
        "outputId": "cabb9313-6d15-4358-8e21-95fbce9c051c"
      },
      "execution_count": 3,
      "outputs": [
        {
          "output_type": "stream",
          "name": "stdout",
          "text": [
            "\u001b[K     |████████████████████████████████| 5.3 MB 5.4 MB/s \n",
            "\u001b[K     |████████████████████████████████| 163 kB 21.6 MB/s \n",
            "\u001b[K     |████████████████████████████████| 7.6 MB 44.6 MB/s \n",
            "\u001b[?25h"
          ]
        }
      ]
    },
    {
      "cell_type": "code",
      "source": [
        "!pip install -q datasets"
      ],
      "metadata": {
        "colab": {
          "base_uri": "https://localhost:8080/"
        },
        "id": "4ApLdGCt7dB-",
        "outputId": "79c8de20-2add-4ea1-de2c-8883833e1266"
      },
      "execution_count": 4,
      "outputs": [
        {
          "output_type": "stream",
          "name": "stdout",
          "text": [
            "\u001b[K     |████████████████████████████████| 441 kB 5.4 MB/s \n",
            "\u001b[K     |████████████████████████████████| 212 kB 40.6 MB/s \n",
            "\u001b[K     |████████████████████████████████| 115 kB 7.8 MB/s \n",
            "\u001b[K     |████████████████████████████████| 127 kB 44.8 MB/s \n",
            "\u001b[?25h"
          ]
        }
      ]
    },
    {
      "cell_type": "code",
      "source": [
        "!pip install -q evaluate\n",
        "import evaluate"
      ],
      "metadata": {
        "colab": {
          "base_uri": "https://localhost:8080/"
        },
        "id": "-qx6CwXY7dEj",
        "outputId": "a455b512-916a-445d-b1f6-5a518c0ce093"
      },
      "execution_count": 5,
      "outputs": [
        {
          "output_type": "stream",
          "name": "stdout",
          "text": [
            "\u001b[?25l\r\u001b[K     |████▌                           | 10 kB 9.6 MB/s eta 0:00:01\r\u001b[K     |█████████                       | 20 kB 11.2 MB/s eta 0:00:01\r\u001b[K     |█████████████▌                  | 30 kB 14.4 MB/s eta 0:00:01\r\u001b[K     |██████████████████              | 40 kB 5.5 MB/s eta 0:00:01\r\u001b[K     |██████████████████████▌         | 51 kB 5.1 MB/s eta 0:00:01\r\u001b[K     |███████████████████████████     | 61 kB 5.9 MB/s eta 0:00:01\r\u001b[K     |███████████████████████████████▌| 71 kB 5.7 MB/s eta 0:00:01\r\u001b[K     |████████████████████████████████| 72 kB 773 kB/s \n",
            "\u001b[?25h"
          ]
        }
      ]
    },
    {
      "cell_type": "code",
      "source": [
        "from google.colab import drive\n",
        "\n",
        "drive.mount('/content/drive')"
      ],
      "metadata": {
        "colab": {
          "base_uri": "https://localhost:8080/"
        },
        "id": "Aw52OoZj224h",
        "outputId": "9ae6db2a-a9c7-4cb5-960f-59371f2c8359"
      },
      "execution_count": 6,
      "outputs": [
        {
          "output_type": "stream",
          "name": "stdout",
          "text": [
            "Mounted at /content/drive\n"
          ]
        }
      ]
    },
    {
      "cell_type": "code",
      "source": [
        "from datasets import list_datasets, load_dataset_builder, get_dataset_config_names, load_dataset, load_from_disk\n"
      ],
      "metadata": {
        "id": "jKnm9ycN17FJ"
      },
      "execution_count": 7,
      "outputs": []
    },
    {
      "cell_type": "code",
      "source": [
        "def summarize_dataset (dataset, config=None):\n",
        "    builder = load_dataset_builder(dataset, config)\n",
        "    print(f\"Description:\\n {builder.info.description}\")\n",
        "    print(f\"Features:\")\n",
        "    pprint(builder.info.features)\n",
        "    return"
      ],
      "metadata": {
        "id": "AWBlx1YD2YJ8"
      },
      "execution_count": 8,
      "outputs": []
    },
    {
      "cell_type": "markdown",
      "source": [
        "### Load SQuAD dataset from Gdrive"
      ],
      "metadata": {
        "id": "3WNWamSV2-JC"
      }
    },
    {
      "cell_type": "code",
      "source": [
        "data_squad = load_from_disk(\"/content/drive/MyDrive/w266 NLP Final Project/Data/squad.hf\")"
      ],
      "metadata": {
        "id": "5886MGVa17Ma"
      },
      "execution_count": 9,
      "outputs": []
    },
    {
      "cell_type": "code",
      "source": [
        "data_squad"
      ],
      "metadata": {
        "colab": {
          "base_uri": "https://localhost:8080/"
        },
        "id": "mseSStDq17Ox",
        "outputId": "236eb6e2-e779-41f9-d85c-19e16df61ade"
      },
      "execution_count": 10,
      "outputs": [
        {
          "output_type": "execute_result",
          "data": {
            "text/plain": [
              "DatasetDict({\n",
              "    train: Dataset({\n",
              "        features: ['id', 'title', 'context', 'question', 'answers'],\n",
              "        num_rows: 87599\n",
              "    })\n",
              "    validation: Dataset({\n",
              "        features: ['id', 'title', 'context', 'question', 'answers'],\n",
              "        num_rows: 10570\n",
              "    })\n",
              "})"
            ]
          },
          "metadata": {},
          "execution_count": 10
        }
      ]
    },
    {
      "cell_type": "code",
      "source": [
        "# Look at first example\n",
        "pprint(data_squad['train'][0])"
      ],
      "metadata": {
        "colab": {
          "base_uri": "https://localhost:8080/"
        },
        "id": "aHhZXyX23JKc",
        "outputId": "2742e52e-b9c1-4c7c-ab3c-596576700d3a"
      },
      "execution_count": 11,
      "outputs": [
        {
          "output_type": "stream",
          "name": "stdout",
          "text": [
            "{'answers': {'answer_start': [515], 'text': ['Saint Bernadette Soubirous']},\n",
            " 'context': 'Architecturally, the school has a Catholic character. Atop the '\n",
            "            \"Main Building's gold dome is a golden statue of the Virgin Mary. \"\n",
            "            'Immediately in front of the Main Building and facing it, is a '\n",
            "            'copper statue of Christ with arms upraised with the legend '\n",
            "            '\"Venite Ad Me Omnes\". Next to the Main Building is the Basilica '\n",
            "            'of the Sacred Heart. Immediately behind the basilica is the '\n",
            "            'Grotto, a Marian place of prayer and reflection. It is a replica '\n",
            "            'of the grotto at Lourdes, France where the Virgin Mary reputedly '\n",
            "            'appeared to Saint Bernadette Soubirous in 1858. At the end of the '\n",
            "            'main drive (and in a direct line that connects through 3 statues '\n",
            "            'and the Gold Dome), is a simple, modern stone statue of Mary.',\n",
            " 'id': '5733be284776f41900661182',\n",
            " 'question': 'To whom did the Virgin Mary allegedly appear in 1858 in Lourdes '\n",
            "             'France?',\n",
            " 'title': 'University_of_Notre_Dame'}\n"
          ]
        }
      ]
    },
    {
      "cell_type": "markdown",
      "source": [
        "### T5v1.1 Model\n",
        "\n",
        "Sources: https://huggingface.co/docs/transformers/model_doc/t5\n",
        "https://huggingface.co/docs/transformers/model_doc/t5v1.1"
      ],
      "metadata": {
        "id": "ctGQSdG5BdKH"
      }
    },
    {
      "cell_type": "code",
      "source": [
        "from transformers import T5Tokenizer, TFT5ForConditionalGeneration\n",
        "\n",
        "model = TFT5ForConditionalGeneration.from_pretrained(\"google/t5-v1_1-base\")\n",
        "tokenizer = T5Tokenizer.from_pretrained(\"google/t5-v1_1-base\")\n",
        "\n",
        "\n",
        "# model = TFT5ForConditionalGeneration.from_pretrained(\"t5-base\")\n",
        "# tokenizer = T5Tokenizer.from_pretrained(\"t5-base\")"
      ],
      "metadata": {
        "colab": {
          "base_uri": "https://localhost:8080/",
          "height": 269,
          "referenced_widgets": [
            "7143c108e8ef40d9b9817557de4bb46f",
            "d54c089107374feea2b0e2c76df0fb58",
            "54ed560679c04702b63a905f95ea0e50",
            "79f7f3009c414bce9d615859c4dba68b",
            "c1040eadfe5c4f918d2fe136e8274cd6",
            "867f73e2ef034531933e1be74b8b08b6",
            "b0ab384b56384ca88651bd62158e0828",
            "cfb7a2f795c74db9a332a501a670b444",
            "d3b5b22544f5417ba93652f1a912d61d",
            "3ab3ca44053a4930b62bdfa6eb97494a",
            "cb1aa34f54f04d6fbc194e17134b1123",
            "6a644a3c8ac649bc91ea57f2ec030d65",
            "69afbcc5eaf34b31b9e8302e11087fdd",
            "dcc00a3663d24c7bad4e854cc90af8bb",
            "74fc9994cc40445b988e1502735e7361",
            "eebe366260fc4c8282497a81e9045c4d",
            "058ee740673c473bb8c7a0167e510673",
            "a55d171b46af44e3baa21ad280842015",
            "78c8aa05951e4855afc1801486ff1fad",
            "c1a2072b9f2e46779c1fb7db912a25f5",
            "0af195b666fb4cd1a6da1283abbbe2db",
            "6d9ae8d5602f4ba081d50581ad634669",
            "4c8bfff8001744d3b9b464cacd233674",
            "5d366dabe1e64e43a34ea1fbc9bd50c9",
            "8a22d2177f2d4f75960c4a2edc81bd3e",
            "84b136f3070340d78538dfbcdb2d2001",
            "5b2b7e8136af4a2b87ac1b850f9ff79b",
            "ecc36d4be0274a49b7d1befaec7d1cf5",
            "65c07751c7e44c659528cbd7aaf6a238",
            "7e81f00fbb6c4bc4b42ed00eca1d703a",
            "486759f430af43feac4c4095613177fa",
            "f02d01b6088a4ab08160b312f3175a68",
            "a67313c6934549a49438606e47bf3894",
            "3f0bdd5f9192441e9e2302e4f00cb471",
            "24b3f1ed53cf43fbaca20aa609264a5c",
            "eb79c35099614028819e6df8d462811b",
            "ed1bbc94437341f19b5fbce9d7b13040",
            "503579bb54154c858984f26e33b8c3c6",
            "6da8a283152347a8a589f9dccd020077",
            "85d1e1e9e79c423ebe2632b2c6522fc9",
            "bc2d654c59bd42c2add7414a6ed45421",
            "5f590ab1f8dc4db28c10dc205c48a393",
            "0a9178fe05c0495ba9e8dc5a5018531d",
            "a4c895c1ed504731ac23cf4af5760cf2",
            "ede322cb2b6a416691ff7c571e408217",
            "68e05c7b7d5d4df690ebf7376bda21bb",
            "853c4ece016d448ea92ed12ce7f44b65",
            "78f6ccffb5e7406a8ee9a3a0df745a7e",
            "ea20bb29b6a24fe9924228c87f4d675d",
            "3a36bab1c6154a95933ffdc9157eb548",
            "7d42e75b0cdd4cc7a2a8fe9105d229d5",
            "9c96856881a148d7bb5b632cd066e2f5",
            "35b2545b67374846aabadfd49c78a3e8",
            "65e36f1520ee452698ed5b2883d45f94",
            "d345dcfeed074237aefd2e633897814d"
          ]
        },
        "id": "i9k8gX-V7Q4E",
        "outputId": "1d45dffc-4119-4de9-a9b2-56e45bf5ba5a"
      },
      "execution_count": 12,
      "outputs": [
        {
          "output_type": "display_data",
          "data": {
            "text/plain": [
              "Downloading:   0%|          | 0.00/605 [00:00<?, ?B/s]"
            ],
            "application/vnd.jupyter.widget-view+json": {
              "version_major": 2,
              "version_minor": 0,
              "model_id": "7143c108e8ef40d9b9817557de4bb46f"
            }
          },
          "metadata": {}
        },
        {
          "output_type": "display_data",
          "data": {
            "text/plain": [
              "Downloading:   0%|          | 0.00/991M [00:00<?, ?B/s]"
            ],
            "application/vnd.jupyter.widget-view+json": {
              "version_major": 2,
              "version_minor": 0,
              "model_id": "6a644a3c8ac649bc91ea57f2ec030d65"
            }
          },
          "metadata": {}
        },
        {
          "output_type": "stream",
          "name": "stderr",
          "text": [
            "All model checkpoint layers were used when initializing TFT5ForConditionalGeneration.\n",
            "\n",
            "All the layers of TFT5ForConditionalGeneration were initialized from the model checkpoint at google/t5-v1_1-base.\n",
            "If your task is similar to the task the model of the checkpoint was trained on, you can already use TFT5ForConditionalGeneration for predictions without further training.\n"
          ]
        },
        {
          "output_type": "display_data",
          "data": {
            "text/plain": [
              "Downloading:   0%|          | 0.00/792k [00:00<?, ?B/s]"
            ],
            "application/vnd.jupyter.widget-view+json": {
              "version_major": 2,
              "version_minor": 0,
              "model_id": "4c8bfff8001744d3b9b464cacd233674"
            }
          },
          "metadata": {}
        },
        {
          "output_type": "display_data",
          "data": {
            "text/plain": [
              "Downloading:   0%|          | 0.00/1.79k [00:00<?, ?B/s]"
            ],
            "application/vnd.jupyter.widget-view+json": {
              "version_major": 2,
              "version_minor": 0,
              "model_id": "3f0bdd5f9192441e9e2302e4f00cb471"
            }
          },
          "metadata": {}
        },
        {
          "output_type": "display_data",
          "data": {
            "text/plain": [
              "Downloading:   0%|          | 0.00/1.86k [00:00<?, ?B/s]"
            ],
            "application/vnd.jupyter.widget-view+json": {
              "version_major": 2,
              "version_minor": 0,
              "model_id": "ede322cb2b6a416691ff7c571e408217"
            }
          },
          "metadata": {}
        }
      ]
    },
    {
      "cell_type": "code",
      "source": [
        "model.summary()"
      ],
      "metadata": {
        "colab": {
          "base_uri": "https://localhost:8080/"
        },
        "id": "N2snEtEk7Q6v",
        "outputId": "ee2ab0bc-abd8-4924-954d-7353639e5dde"
      },
      "execution_count": 13,
      "outputs": [
        {
          "output_type": "stream",
          "name": "stdout",
          "text": [
            "Model: \"tft5_for_conditional_generation\"\n",
            "_________________________________________________________________\n",
            " Layer (type)                Output Shape              Param #   \n",
            "=================================================================\n",
            " shared (TFSharedEmbeddings)  multiple                 24674304  \n",
            "                                                                 \n",
            " encoder (TFT5MainLayer)     multiple                  84954240  \n",
            "                                                                 \n",
            " decoder (TFT5MainLayer)     multiple                  113275008 \n",
            "                                                                 \n",
            " lm_head (Dense)             multiple                  24674304  \n",
            "                                                                 \n",
            "=================================================================\n",
            "Total params: 247,577,856\n",
            "Trainable params: 247,577,856\n",
            "Non-trainable params: 0\n",
            "_________________________________________________________________\n"
          ]
        }
      ]
    },
    {
      "cell_type": "markdown",
      "source": [
        "### Input Structure\n",
        "\n",
        "The input data should be a single list of dictionaries (or path to a JSON file containing the same). A dictionary represents a single context and its associated questions.\n",
        "\n",
        "Each such dictionary contains two attributes, the \"context\" and \"qas\".\n",
        "\n",
        "context: The paragraph or text from which the question is asked.\n",
        "qas: A list of questions and answers (format below).\n",
        "Questions and answers are represented as dictionaries. Each dictionary in qas has the following format.\n",
        "\n",
        "id: (string) A unique ID for the question. Should be unique across the entire dataset.\n",
        "\n",
        "question: (string) A question.\n",
        "\n",
        "answers: (list) The list of correct answers to the question.\n",
        "\n",
        "Source: https://simpletransformers.ai/docs/qa-data-formats/"
      ],
      "metadata": {
        "id": "2eKxZhYQAEIS"
      }
    },
    {
      "cell_type": "code",
      "source": [
        "# Shuffle the dataset and take a handful of examples\n",
        "\n",
        "count=25\n",
        "sample=data_squad['train'].shuffle(seed=1962).select(range(count))\n",
        "df=pd.DataFrame()\n",
        "df['answer'] = [answer['text'][0] for answer in sample['answers']]\n",
        "df['context'] = sample['context']\n",
        "df['question'] = sample['question']\n",
        "\n",
        "df"
      ],
      "metadata": {
        "colab": {
          "base_uri": "https://localhost:8080/",
          "height": 871
        },
        "id": "LgQ9B0FT3OmF",
        "outputId": "6ec57558-6e7d-4d74-ca47-738ac6195255"
      },
      "execution_count": 33,
      "outputs": [
        {
          "output_type": "stream",
          "name": "stderr",
          "text": [
            "WARNING:datasets.arrow_dataset:Loading cached shuffled indices for dataset at /content/drive/MyDrive/w266 NLP Final Project/Data/squad.hf/train/cache-8ab9b6302b91254a.arrow\n"
          ]
        },
        {
          "output_type": "execute_result",
          "data": {
            "text/plain": [
              "                                     answer  \\\n",
              "0                         biotech companies   \n",
              "1                       Tytus Woyciechowski   \n",
              "2          the Endangered Species Committee   \n",
              "3                                     China   \n",
              "4                                  45 years   \n",
              "5      Cold War, First Gulf War, Kosovo War   \n",
              "6                                    Buddha   \n",
              "7                                      9.3%   \n",
              "8                             Improvisation   \n",
              "9                                      1861   \n",
              "10                                      40%   \n",
              "11         Event-based prospective memories   \n",
              "12                     dragonfly-like forms   \n",
              "13             the Shijing or Book of Songs   \n",
              "14                        Olympic Peninsula   \n",
              "15  transported along the canals and rivers   \n",
              "16                               base alone   \n",
              "17                                1031–1095   \n",
              "18                               Mechanical   \n",
              "19                          The Lamb of God   \n",
              "20                                     2.79   \n",
              "21                                    urban   \n",
              "22                                  parents   \n",
              "23       the proper aim point automatically   \n",
              "24                        Tarsus of Cilicia   \n",
              "\n",
              "                                              context  \\\n",
              "0   Prior to moving its headquarters to Chicago, a...   \n",
              "1   Four boarders at his parents' apartments becam...   \n",
              "2   The question to be answered is whether a liste...   \n",
              "3   In Asian countries such as China, Korea, and J...   \n",
              "4   Saint Athanasius of Alexandria (/ˌæθəˈneɪʃəs/;...   \n",
              "5   Since 1947, Canadian military units have parti...   \n",
              "6   Tibet has various festivals that are commonly ...   \n",
              "7   From 2001 to 2008, Mac sales increased continu...   \n",
              "8   Improvisation stands at the centre of Chopin's...   \n",
              "9   Alfred North Whitehead was born in Ramsgate, K...   \n",
              "10  While Southeast Asia is rich in flora and faun...   \n",
              "11  Another major way to distinguish different mem...   \n",
              "12  Late Carboniferous and Early Permian insect or...   \n",
              "13  As a more urban culture developed, academies p...   \n",
              "14  Seattle is located between the saltwater Puget...   \n",
              "15  By the time of the Uruk period (c. 4100–2900 B...   \n",
              "16  Thermally, a temperate glacier is at melting p...   \n",
              "17  There are many notable contributors to the fie...   \n",
              "18  Two assumptions underpinned the British approa...   \n",
              "19  In Johannine \"agent Christology\" the submissio...   \n",
              "20  There were 46,917 households, out of which 7,8...   \n",
              "21  The Baker v. Carr (1962) decision of the US Su...   \n",
              "22  Home-based manufacturing operations were activ...   \n",
              "23  The solution was automation, in the form of a ...   \n",
              "24  In 1045, the Byzantine Empire conquered Bagrat...   \n",
              "\n",
              "                                             question  \n",
              "0   What type of businesses did Nickles want to at...  \n",
              "1   To whom did Chopin reveal in letters which par...  \n",
              "2   If a species may be harmed, who holds final sa...  \n",
              "3   What country has the dog as part of its 12 ani...  \n",
              "4                   How long did his episcopate last?  \n",
              "5   What are some of the wars the Canadian Militar...  \n",
              "6   What is worshipped during Tibet's various fest...  \n",
              "7   What was Apples market share of all computer s...  \n",
              "8                What is central to Chopin's process?  \n",
              "9                       What year was Whitehead born?  \n",
              "10  What percentage of plant and animal species ex...  \n",
              "11  If Bob realized he needed to mail his mother a...  \n",
              "12      What kind of giant insect form had wingspans?  \n",
              "13  What is an example of a collection of classic ...  \n",
              "14             What land area is west of Puget Sound?  \n",
              "15  How were trade goods transported in southern M...  \n",
              "16  From where is the temperature of a glacier mea...  \n",
              "17                           When was Shen Kuo alive?  \n",
              "18                    What kind of fuses were needed?  \n",
              "19              What is another name for Jesus given?  \n",
              "20            What was the total average family size?  \n",
              "21  Which type of geographical district became mor...  \n",
              "22                  Who did the children work beside?  \n",
              "23  What did the Predictor calculate after it was ...  \n",
              "24                      Where did Roupen find refuge?  "
            ],
            "text/html": [
              "\n",
              "  <div id=\"df-e32cc59b-052d-42b8-9c1a-f0eddd3e7559\">\n",
              "    <div class=\"colab-df-container\">\n",
              "      <div>\n",
              "<style scoped>\n",
              "    .dataframe tbody tr th:only-of-type {\n",
              "        vertical-align: middle;\n",
              "    }\n",
              "\n",
              "    .dataframe tbody tr th {\n",
              "        vertical-align: top;\n",
              "    }\n",
              "\n",
              "    .dataframe thead th {\n",
              "        text-align: right;\n",
              "    }\n",
              "</style>\n",
              "<table border=\"1\" class=\"dataframe\">\n",
              "  <thead>\n",
              "    <tr style=\"text-align: right;\">\n",
              "      <th></th>\n",
              "      <th>answer</th>\n",
              "      <th>context</th>\n",
              "      <th>question</th>\n",
              "    </tr>\n",
              "  </thead>\n",
              "  <tbody>\n",
              "    <tr>\n",
              "      <th>0</th>\n",
              "      <td>biotech companies</td>\n",
              "      <td>Prior to moving its headquarters to Chicago, a...</td>\n",
              "      <td>What type of businesses did Nickles want to at...</td>\n",
              "    </tr>\n",
              "    <tr>\n",
              "      <th>1</th>\n",
              "      <td>Tytus Woyciechowski</td>\n",
              "      <td>Four boarders at his parents' apartments becam...</td>\n",
              "      <td>To whom did Chopin reveal in letters which par...</td>\n",
              "    </tr>\n",
              "    <tr>\n",
              "      <th>2</th>\n",
              "      <td>the Endangered Species Committee</td>\n",
              "      <td>The question to be answered is whether a liste...</td>\n",
              "      <td>If a species may be harmed, who holds final sa...</td>\n",
              "    </tr>\n",
              "    <tr>\n",
              "      <th>3</th>\n",
              "      <td>China</td>\n",
              "      <td>In Asian countries such as China, Korea, and J...</td>\n",
              "      <td>What country has the dog as part of its 12 ani...</td>\n",
              "    </tr>\n",
              "    <tr>\n",
              "      <th>4</th>\n",
              "      <td>45 years</td>\n",
              "      <td>Saint Athanasius of Alexandria (/ˌæθəˈneɪʃəs/;...</td>\n",
              "      <td>How long did his episcopate last?</td>\n",
              "    </tr>\n",
              "    <tr>\n",
              "      <th>5</th>\n",
              "      <td>Cold War, First Gulf War, Kosovo War</td>\n",
              "      <td>Since 1947, Canadian military units have parti...</td>\n",
              "      <td>What are some of the wars the Canadian Militar...</td>\n",
              "    </tr>\n",
              "    <tr>\n",
              "      <th>6</th>\n",
              "      <td>Buddha</td>\n",
              "      <td>Tibet has various festivals that are commonly ...</td>\n",
              "      <td>What is worshipped during Tibet's various fest...</td>\n",
              "    </tr>\n",
              "    <tr>\n",
              "      <th>7</th>\n",
              "      <td>9.3%</td>\n",
              "      <td>From 2001 to 2008, Mac sales increased continu...</td>\n",
              "      <td>What was Apples market share of all computer s...</td>\n",
              "    </tr>\n",
              "    <tr>\n",
              "      <th>8</th>\n",
              "      <td>Improvisation</td>\n",
              "      <td>Improvisation stands at the centre of Chopin's...</td>\n",
              "      <td>What is central to Chopin's process?</td>\n",
              "    </tr>\n",
              "    <tr>\n",
              "      <th>9</th>\n",
              "      <td>1861</td>\n",
              "      <td>Alfred North Whitehead was born in Ramsgate, K...</td>\n",
              "      <td>What year was Whitehead born?</td>\n",
              "    </tr>\n",
              "    <tr>\n",
              "      <th>10</th>\n",
              "      <td>40%</td>\n",
              "      <td>While Southeast Asia is rich in flora and faun...</td>\n",
              "      <td>What percentage of plant and animal species ex...</td>\n",
              "    </tr>\n",
              "    <tr>\n",
              "      <th>11</th>\n",
              "      <td>Event-based prospective memories</td>\n",
              "      <td>Another major way to distinguish different mem...</td>\n",
              "      <td>If Bob realized he needed to mail his mother a...</td>\n",
              "    </tr>\n",
              "    <tr>\n",
              "      <th>12</th>\n",
              "      <td>dragonfly-like forms</td>\n",
              "      <td>Late Carboniferous and Early Permian insect or...</td>\n",
              "      <td>What kind of giant insect form had wingspans?</td>\n",
              "    </tr>\n",
              "    <tr>\n",
              "      <th>13</th>\n",
              "      <td>the Shijing or Book of Songs</td>\n",
              "      <td>As a more urban culture developed, academies p...</td>\n",
              "      <td>What is an example of a collection of classic ...</td>\n",
              "    </tr>\n",
              "    <tr>\n",
              "      <th>14</th>\n",
              "      <td>Olympic Peninsula</td>\n",
              "      <td>Seattle is located between the saltwater Puget...</td>\n",
              "      <td>What land area is west of Puget Sound?</td>\n",
              "    </tr>\n",
              "    <tr>\n",
              "      <th>15</th>\n",
              "      <td>transported along the canals and rivers</td>\n",
              "      <td>By the time of the Uruk period (c. 4100–2900 B...</td>\n",
              "      <td>How were trade goods transported in southern M...</td>\n",
              "    </tr>\n",
              "    <tr>\n",
              "      <th>16</th>\n",
              "      <td>base alone</td>\n",
              "      <td>Thermally, a temperate glacier is at melting p...</td>\n",
              "      <td>From where is the temperature of a glacier mea...</td>\n",
              "    </tr>\n",
              "    <tr>\n",
              "      <th>17</th>\n",
              "      <td>1031–1095</td>\n",
              "      <td>There are many notable contributors to the fie...</td>\n",
              "      <td>When was Shen Kuo alive?</td>\n",
              "    </tr>\n",
              "    <tr>\n",
              "      <th>18</th>\n",
              "      <td>Mechanical</td>\n",
              "      <td>Two assumptions underpinned the British approa...</td>\n",
              "      <td>What kind of fuses were needed?</td>\n",
              "    </tr>\n",
              "    <tr>\n",
              "      <th>19</th>\n",
              "      <td>The Lamb of God</td>\n",
              "      <td>In Johannine \"agent Christology\" the submissio...</td>\n",
              "      <td>What is another name for Jesus given?</td>\n",
              "    </tr>\n",
              "    <tr>\n",
              "      <th>20</th>\n",
              "      <td>2.79</td>\n",
              "      <td>There were 46,917 households, out of which 7,8...</td>\n",
              "      <td>What was the total average family size?</td>\n",
              "    </tr>\n",
              "    <tr>\n",
              "      <th>21</th>\n",
              "      <td>urban</td>\n",
              "      <td>The Baker v. Carr (1962) decision of the US Su...</td>\n",
              "      <td>Which type of geographical district became mor...</td>\n",
              "    </tr>\n",
              "    <tr>\n",
              "      <th>22</th>\n",
              "      <td>parents</td>\n",
              "      <td>Home-based manufacturing operations were activ...</td>\n",
              "      <td>Who did the children work beside?</td>\n",
              "    </tr>\n",
              "    <tr>\n",
              "      <th>23</th>\n",
              "      <td>the proper aim point automatically</td>\n",
              "      <td>The solution was automation, in the form of a ...</td>\n",
              "      <td>What did the Predictor calculate after it was ...</td>\n",
              "    </tr>\n",
              "    <tr>\n",
              "      <th>24</th>\n",
              "      <td>Tarsus of Cilicia</td>\n",
              "      <td>In 1045, the Byzantine Empire conquered Bagrat...</td>\n",
              "      <td>Where did Roupen find refuge?</td>\n",
              "    </tr>\n",
              "  </tbody>\n",
              "</table>\n",
              "</div>\n",
              "      <button class=\"colab-df-convert\" onclick=\"convertToInteractive('df-e32cc59b-052d-42b8-9c1a-f0eddd3e7559')\"\n",
              "              title=\"Convert this dataframe to an interactive table.\"\n",
              "              style=\"display:none;\">\n",
              "        \n",
              "  <svg xmlns=\"http://www.w3.org/2000/svg\" height=\"24px\"viewBox=\"0 0 24 24\"\n",
              "       width=\"24px\">\n",
              "    <path d=\"M0 0h24v24H0V0z\" fill=\"none\"/>\n",
              "    <path d=\"M18.56 5.44l.94 2.06.94-2.06 2.06-.94-2.06-.94-.94-2.06-.94 2.06-2.06.94zm-11 1L8.5 8.5l.94-2.06 2.06-.94-2.06-.94L8.5 2.5l-.94 2.06-2.06.94zm10 10l.94 2.06.94-2.06 2.06-.94-2.06-.94-.94-2.06-.94 2.06-2.06.94z\"/><path d=\"M17.41 7.96l-1.37-1.37c-.4-.4-.92-.59-1.43-.59-.52 0-1.04.2-1.43.59L10.3 9.45l-7.72 7.72c-.78.78-.78 2.05 0 2.83L4 21.41c.39.39.9.59 1.41.59.51 0 1.02-.2 1.41-.59l7.78-7.78 2.81-2.81c.8-.78.8-2.07 0-2.86zM5.41 20L4 18.59l7.72-7.72 1.47 1.35L5.41 20z\"/>\n",
              "  </svg>\n",
              "      </button>\n",
              "      \n",
              "  <style>\n",
              "    .colab-df-container {\n",
              "      display:flex;\n",
              "      flex-wrap:wrap;\n",
              "      gap: 12px;\n",
              "    }\n",
              "\n",
              "    .colab-df-convert {\n",
              "      background-color: #E8F0FE;\n",
              "      border: none;\n",
              "      border-radius: 50%;\n",
              "      cursor: pointer;\n",
              "      display: none;\n",
              "      fill: #1967D2;\n",
              "      height: 32px;\n",
              "      padding: 0 0 0 0;\n",
              "      width: 32px;\n",
              "    }\n",
              "\n",
              "    .colab-df-convert:hover {\n",
              "      background-color: #E2EBFA;\n",
              "      box-shadow: 0px 1px 2px rgba(60, 64, 67, 0.3), 0px 1px 3px 1px rgba(60, 64, 67, 0.15);\n",
              "      fill: #174EA6;\n",
              "    }\n",
              "\n",
              "    [theme=dark] .colab-df-convert {\n",
              "      background-color: #3B4455;\n",
              "      fill: #D2E3FC;\n",
              "    }\n",
              "\n",
              "    [theme=dark] .colab-df-convert:hover {\n",
              "      background-color: #434B5C;\n",
              "      box-shadow: 0px 1px 3px 1px rgba(0, 0, 0, 0.15);\n",
              "      filter: drop-shadow(0px 1px 2px rgba(0, 0, 0, 0.3));\n",
              "      fill: #FFFFFF;\n",
              "    }\n",
              "  </style>\n",
              "\n",
              "      <script>\n",
              "        const buttonEl =\n",
              "          document.querySelector('#df-e32cc59b-052d-42b8-9c1a-f0eddd3e7559 button.colab-df-convert');\n",
              "        buttonEl.style.display =\n",
              "          google.colab.kernel.accessAllowed ? 'block' : 'none';\n",
              "\n",
              "        async function convertToInteractive(key) {\n",
              "          const element = document.querySelector('#df-e32cc59b-052d-42b8-9c1a-f0eddd3e7559');\n",
              "          const dataTable =\n",
              "            await google.colab.kernel.invokeFunction('convertToInteractive',\n",
              "                                                     [key], {});\n",
              "          if (!dataTable) return;\n",
              "\n",
              "          const docLinkHtml = 'Like what you see? Visit the ' +\n",
              "            '<a target=\"_blank\" href=https://colab.research.google.com/notebooks/data_table.ipynb>data table notebook</a>'\n",
              "            + ' to learn more about interactive tables.';\n",
              "          element.innerHTML = '';\n",
              "          dataTable['output_type'] = 'display_data';\n",
              "          await google.colab.output.renderOutput(dataTable, element);\n",
              "          const docLink = document.createElement('div');\n",
              "          docLink.innerHTML = docLinkHtml;\n",
              "          element.appendChild(docLink);\n",
              "        }\n",
              "      </script>\n",
              "    </div>\n",
              "  </div>\n",
              "  "
            ]
          },
          "metadata": {},
          "execution_count": 33
        }
      ]
    },
    {
      "cell_type": "markdown",
      "source": [
        "## Try training the model\n",
        "\n",
        "Source: https://huggingface.co/docs/transformers/model_doc/t5#transformers.TFT5ForConditionalGeneration"
      ],
      "metadata": {
        "id": "7cyQH-uEbyca"
      }
    },
    {
      "cell_type": "markdown",
      "source": [
        "Prep data for inputs and outputs"
      ],
      "metadata": {
        "id": "QCvqS_MtnwBv"
      }
    },
    {
      "cell_type": "code",
      "source": [
        "# Come up with a prompt for T5 model\n",
        "prompt = 'question_gen: '\n",
        "# Add \"answer: \" to each answer in list\n",
        "# answer = [\"question_gen: answer: \" + a for a in df.answer]\n",
        "# Add \"context: \" to each context in list\n",
        "context = [\"context: \" + c for c in df.context]\n",
        "# Add \"question: \" to each question in list\n",
        "question = [\"question: \" + q for q in df.question]\n",
        "\n",
        "# Input text will be prompt + answer + context\n",
        "input_txt = [prompt + x for x in context]\n",
        "\n",
        "# Output text will be questions\n",
        "output_txt = question\n",
        "\n",
        "input_txt"
      ],
      "metadata": {
        "colab": {
          "base_uri": "https://localhost:8080/"
        },
        "id": "dCWc7T-ucFpT",
        "outputId": "0ef994af-c467-45f2-c135-bf21885a7ef7"
      },
      "execution_count": 34,
      "outputs": [
        {
          "output_type": "execute_result",
          "data": {
            "text/plain": [
              "[\"question_gen: context: Prior to moving its headquarters to Chicago, aerospace manufacturer Boeing (#30) was the largest company based in Seattle. Its largest division is still headquartered in nearby Renton, and the company has large aircraft manufacturing plants in Everett and Renton, so it remains the largest private employer in the Seattle metropolitan area. Former Seattle Mayor Greg Nickels announced a desire to spark a new economic boom driven by the biotechnology industry in 2006. Major redevelopment of the South Lake Union neighborhood is underway, in an effort to attract new and established biotech companies to the city, joining biotech companies Corixa (acquired by GlaxoSmithKline), Immunex (now part of Amgen), Trubion, and ZymoGenetics. Vulcan Inc., the holding company of billionaire Paul Allen, is behind most of the development projects in the region. While some see the new development as an economic boon, others have criticized Nickels and the Seattle City Council for pandering to Allen's interests at taxpayers' expense. Also in 2006, Expansion Magazine ranked Seattle among the top 10 metropolitan areas in the nation for climates favorable to business expansion. In 2005, Forbes ranked Seattle as the most expensive American city for buying a house based on the local income levels. In 2013, however, the magazine ranked Seattle No. 9 on its list of the Best Places for Business and Careers.\",\n",
              " 'question_gen: context: Four boarders at his parents\\' apartments became Chopin\\'s intimates: Tytus Woyciechowski, Jan Nepomucen Białobłocki, Jan Matuszyński and Julian Fontana; the latter two would become part of his Paris milieu. He was friendly with members of Warsaw\\'s young artistic and intellectual world, including Fontana, Józef Bohdan Zaleski and Stefan Witwicki. He was also attracted to the singing student Konstancja Gładkowska. In letters to Woyciechowski, he indicated which of his works, and even which of their passages, were influenced by his fascination with her; his letter of 15 May 1830 revealed that the slow movement (Larghetto) of his Piano Concerto No. 1 (in E minor) was secretly dedicated to her – \"It should be like dreaming in beautiful springtime – by moonlight.\" His final Conservatory report (July 1829) read: \"Chopin F., third-year student, exceptional talent, musical genius.\"',\n",
              " 'question_gen: context: The question to be answered is whether a listed species will be harmed by the action and, if so, how the harm can be minimized. If harm cannot be avoided, the project agency can seek an exemption from the Endangered Species Committee, an ad hoc panel composed of members from the executive branch and at least one appointee from the state where the project is to occur. Five of the seven committee members must vote for the exemption to allow taking (to harass, harm, pursue, hunt, shoot, wound, kill, trap, capture, or collect, or significant habitat modification, or to attempt to engage in any such conduct) of listed species.',\n",
              " 'question_gen: context: In Asian countries such as China, Korea, and Japan, dogs are viewed as kind protectors. The role of the dog in Chinese mythology includes a position as one of the twelve animals which cyclically represent years (the zodiacal dog).',\n",
              " 'question_gen: context: Saint Athanasius of Alexandria (/ˌæθəˈneɪʃəs/; Greek: Ἀθανάσιος Ἀλεξανδρείας, Athanásios Alexandrías; c. 296–298 – 2 May 373), also called Athanasius the Great, Athanasius the Confessor or, primarily in the Coptic Orthodox Church, Athanasius the Apostolic, was the twentieth bishop of Alexandria (as Athanasius I). His episcopate lasted 45 years (c. 8 June 328 – 2 May 373), of which over 17 were spent in five exiles ordered by four different Roman emperors. Athanasius is a renowned Christian theologian, a Church Father, the chief defender of Trinitarianism against Arianism, and a noted Egyptian leader of the fourth century.',\n",
              " \"question_gen: context: Since 1947, Canadian military units have participated in more than 200 operations worldwide, and completed 72 international operations. Canadian soldiers, sailors, and aviators came to be considered world-class professionals through conspicuous service during these conflicts and the country's integral participation in NATO during the Cold War, First Gulf War, Kosovo War, and in United Nations Peacekeeping operations, such as the Suez Crisis, Golan Heights, Cyprus, Croatia, Bosnia, Afghanistan, and Libya. Canada maintained an aircraft carrier from 1957 to 1970 during the Cold War, which never saw combat but participated in patrols during the Cuban Missile Crisis.\",\n",
              " \"question_gen: context: Tibet has various festivals that are commonly performed to worship the Buddha[citation needed] throughout the year. Losar is the Tibetan New Year Festival. Preparations for the festive event are manifested by special offerings to family shrine deities, painted doors with religious symbols, and other painstaking jobs done to prepare for the event. Tibetans eat Guthuk (barley noodle soup with filling) on New Year's Eve with their families. The Monlam Prayer Festival follows it in the first month of the Tibetan calendar, falling between the fourth and the eleventh days of the first Tibetan month. It involves dancing and participating in sports events, as well as sharing picnics. The event was established in 1049 by Tsong Khapa, the founder of the Dalai Lama and the Panchen Lama's order.\",\n",
              " \"question_gen: context: From 2001 to 2008, Mac sales increased continuously on an annual basis. Apple reported worldwide sales of 3.36 million Macs during the 2009 holiday season. As of Mid-2011, the Macintosh continues to enjoy rapid market share increase in the US, growing from 7.3% of all computer shipments in 2010 to 9.3% in 2011. According to IDC's quarterly PC tracker, globally, in 3rd quarter of 2014, Apple's PC market share increased 5.7 percent year over year, with record sales of 5.5 million units. Apple now sits in the number five spot, with a global market share of about 6% during 2014, behind Lenovo, HP, Dell and Acer.\",\n",
              " 'question_gen: context: Improvisation stands at the centre of Chopin\\'s creative processes. However, this does not imply impulsive rambling: Nicholas Temperley writes that \"improvisation is designed for an audience, and its starting-point is that audience\\'s expectations, which include the current conventions of musical form.\" The works for piano and orchestra, including the two concertos, are held by Temperley to be \"merely vehicles for brilliant piano playing ... formally longwinded and extremely conservative\". After the piano concertos (which are both early, dating from 1830), Chopin made no attempts at large-scale multi-movement forms, save for his late sonatas for piano and for cello; \"instead he achieved near-perfection in pieces of simple general design but subtle and complex cell-structure.\" Rosen suggests that an important aspect of Chopin\\'s individuality is his flexible handling of the four-bar phrase as a structural unit.',\n",
              " \"question_gen: context: Alfred North Whitehead was born in Ramsgate, Kent, England, in 1861. His father, Alfred Whitehead, was a minister and schoolmaster of Chatham House Academy, a successful school for boys established by Thomas Whitehead, Alfred North's grandfather. Whitehead himself recalled both of them as being very successful schoolmasters, but that his grandfather was the more extraordinary man. Whitehead's mother was Maria Sarah Whitehead, formerly Maria Sarah Buckmaster. Whitehead was apparently not particularly close with his mother, as he never mentioned her in any of his writings, and there is evidence that Whitehead's wife, Evelyn, had a low opinion of her.\",\n",
              " 'question_gen: context: While Southeast Asia is rich in flora and fauna, Southeast Asia is facing severe deforestation which causes habitat loss for various endangered species such as orangutan and the Sumatran tiger. Predictions have been made that more than 40% of the animal and plant species in Southeast Asia could be wiped out in the 21st century. At the same time, haze has been a regular occurrence. The two worst regional hazes were in 1997 and 2006 in which multiple countries were covered with thick haze, mostly caused by \"slash and burn\" activities in Sumatra and Borneo. In reaction, several countries in Southeast Asia signed the ASEAN Agreement on Transboundary Haze Pollution to combat haze pollution.',\n",
              " 'question_gen: context: Another major way to distinguish different memory functions is whether the content to be remembered is in the past, retrospective memory, or in the future, prospective memory. Thus, retrospective memory as a category includes semantic, episodic and autobiographical memory. In contrast, prospective memory is memory for future intentions, or remembering to remember (Winograd, 1988). Prospective memory can be further broken down into event- and time-based prospective remembering. Time-based prospective memories are triggered by a time-cue, such as going to the doctor (action) at 4pm (cue). Event-based prospective memories are intentions triggered by cues, such as remembering to post a letter (action) after seeing a mailbox (cue). Cues do not need to be related to the action (as the mailbox/letter example), and lists, sticky-notes, knotted handkerchiefs, or string around the finger all exemplify cues that people use as strategies to enhance prospective memory.',\n",
              " 'question_gen: context: Late Carboniferous and Early Permian insect orders include both extant groups, their stem groups, and a number of Paleozoic groups, now extinct. During this era, some giant dragonfly-like forms reached wingspans of 55 to 70 cm (22 to 28 in), making them far larger than any living insect. This gigantism may have been due to higher atmospheric oxygen levels that allowed increased respiratory efficiency relative to today. The lack of flying vertebrates could have been another factor. Most extinct orders of insects developed during the Permian period that began around 270 million years ago. Many of the early groups became extinct during the Permian-Triassic extinction event, the largest mass extinction in the history of the Earth, around 252 million years ago.',\n",
              " 'question_gen: context: As a more urban culture developed, academies provided a means of transmission for speculative and philosophical literature in early civilizations, resulting in the prevalence of literature in Ancient China, Ancient India, Persia and Ancient Greece and Rome. Many works of earlier periods, even in narrative form, had a covert moral or didactic purpose, such as the Sanskrit Panchatantra or the Metamorphoses of Ovid. Drama and satire also developed as urban culture provided a larger public audience, and later readership, for literary production. Lyric poetry (as opposed to epic poetry) was often the speciality of courts and aristocratic circles, particularly in East Asia where songs were collected by the Chinese aristocracy as poems, the most notable being the Shijing or Book of Songs. Over a long period, the poetry of popular pre-literate balladry and song interpenetrated and eventually influenced poetry in the literary medium.',\n",
              " \"question_gen: context: Seattle is located between the saltwater Puget Sound (an arm of the Pacific Ocean) to the west and Lake Washington to the east. The city's chief harbor, Elliott Bay, is part of Puget Sound, which makes the city an oceanic port. To the west, beyond Puget Sound, are the Kitsap Peninsula and Olympic Mountains on the Olympic Peninsula; to the east, beyond Lake Washington and the eastside suburbs, are Lake Sammamish and the Cascade Range. Lake Washington's waters flow to Puget Sound through the Lake Washington Ship Canal (consisting of two man-made canals, Lake Union, and the Hiram M. Chittenden Locks at Salmon Bay, ending in Shilshole Bay on Puget Sound).\",\n",
              " 'question_gen: context: By the time of the Uruk period (c. 4100–2900 BC calibrated), the volume of trade goods transported along the canals and rivers of southern Mesopotamia facilitated the rise of many large, stratified, temple-centered cities (with populations of over 10,000 people) where centralized administrations employed specialized workers. It is fairly certain that it was during the Uruk period that Sumerian cities began to make use of slave labor captured from the hill country, and there is ample evidence for captured slaves as workers in the earliest texts. Artifacts, and even colonies of this Uruk civilization have been found over a wide area—from the Taurus Mountains in Turkey, to the Mediterranean Sea in the west, and as far east as central Iran.',\n",
              " 'question_gen: context: Thermally, a temperate glacier is at melting point throughout the year, from its surface to its base. The ice of a polar glacier is always below freezing point from the surface to its base, although the surface snowpack may experience seasonal melting. A sub-polar glacier includes both temperate and polar ice, depending on depth beneath the surface and position along the length of the glacier. In a similar way, the thermal regime of a glacier is often described by the temperature at its base alone. A cold-based glacier is below freezing at the ice-ground interface, and is thus frozen to the underlying substrate. A warm-based glacier is above or at freezing at the interface, and is able to slide at this contact. This contrast is thought to a large extent to govern the ability of a glacier to effectively erode its bed, as sliding ice promotes plucking at rock from the surface below. Glaciers which are partly cold-based and partly warm-based are known as polythermal.',\n",
              " \"question_gen: context: There are many notable contributors to the field of Chinese science throughout the ages. One of the best examples would be Shen Kuo (1031–1095), a polymath scientist and statesman who was the first to describe the magnetic-needle compass used for navigation, discovered the concept of true north, improved the design of the astronomical gnomon, armillary sphere, sight tube, and clepsydra, and described the use of drydocks to repair boats. After observing the natural process of the inundation of silt and the find of marine fossils in the Taihang Mountains (hundreds of miles from the Pacific Ocean), Shen Kuo devised a theory of land formation, or geomorphology. He also adopted a theory of gradual climate change in regions over time, after observing petrified bamboo found underground at Yan'an, Shaanxi province. If not for Shen Kuo's writing, the architectural works of Yu Hao would be little known, along with the inventor of movable type printing, Bi Sheng (990-1051). Shen's contemporary Su Song (1020–1101) was also a brilliant polymath, an astronomer who created a celestial atlas of star maps, wrote a pharmaceutical treatise with related subjects of botany, zoology, mineralogy, and metallurgy, and had erected a large astronomical clocktower in Kaifeng city in 1088. To operate the crowning armillary sphere, his clocktower featured an escapement mechanism and the world's oldest known use of an endless power-transmitting chain drive.\",\n",
              " 'question_gen: context: Two assumptions underpinned the British approach to HAA fire; first, aimed fire was the primary method and this was enabled by predicting gun data from visually tracking the target and having its height. Second, that the target would maintain a steady course, speed and height. This HAA was to engage targets up to 24,000 feet. Mechanical, as opposed to igniferous, time fuses were required because the speed of powder burning varied with height so fuse length was not a simple function of time of flight. Automated fire ensured a constant rate of fire that made it easier to predict where each shell should be individually aimed.',\n",
              " 'question_gen: context: In Johannine \"agent Christology\" the submission of Jesus to crucifixion is a sacrifice made as an agent of God or servant of God, for the sake of eventual victory. This builds on the salvific theme of the Gospel of John which begins in John 1:29 with John the Baptist\\'s proclamation: \"The Lamb of God who takes away the sins of the world\". Further reinforcement of the concept is provided in Revelation 21:14 where the \"lamb slain but standing\" is the only one worthy of handling the scroll (i.e. the book) containing the names of those who are to be saved.',\n",
              " 'question_gen: context: There were 46,917 households, out of which 7,835 (16.7%) had children under the age of 18 living in them, 13,092 (27.9%) were opposite-sex married couples living together, 3,510 (7.5%) had a female householder with no husband present, 1,327 (2.8%) had a male householder with no wife present. There were 2,867 (6.1%) unmarried opposite-sex partnerships, and 416 (0.9%) same-sex married couples or partnerships. 22,716 households (48.4%) were made up of individuals and 5,551 (11.8%) had someone living alone who was 65 years of age or older. The average household size was 1.87. There were 17,929 families (38.2% of all households); the average family size was 2.79.',\n",
              " 'question_gen: context: The Baker v. Carr (1962) decision of the US Supreme Court established the principle of \"one man, one vote\", requiring state legislatures to redistrict to bring Congressional apportionment in line with decennial censuses. It also required both houses of state legislatures to be based on population for representation and not geographic districts such as counties. This case arose out of a lawsuit challenging the longstanding rural bias of apportionment of seats in the Tennessee legislature. After decades in which urban populations had been underrepresented in many state legislatures, this significant ruling led to an increased (and proportional) prominence in state politics by urban and, eventually, suburban, legislators and statewide officeholders in relation to their population within the state. The ruling also applied to numerous other states long controlled by rural minorities, such as Alabama, Vermont, and Montana.',\n",
              " 'question_gen: context: Home-based manufacturing operations were active year round. Families willingly deployed their children in these income generating home enterprises. In many cases, men worked from home. In France, over 58 percent of garment workers operated out of their homes; in Germany, the number of full-time home operations nearly doubled between 1882 and 1907; and in the United States, millions of families operated out of home seven days a week, year round to produce garments, shoes, artificial flowers, feathers, match boxes, toys, umbrellas and other products. Children aged 5–14 worked alongside the parents. Home-based operations and child labour in Australia, Britain, Austria and other parts of the world was common. Rural areas similarly saw families deploying their children in agriculture. In 1946, Frieda Miller - then Director of United States Department of Labour - told the International Labour Organisation that these home-based operations offered, \"low wages, long hours, child labour, unhealthy and insanitary working conditions.\"',\n",
              " 'question_gen: context: The solution was automation, in the form of a mechanical computer, the Kerrison Predictor. Operators kept it pointed at the target, and the Predictor then calculated the proper aim point automatically and displayed it as a pointer mounted on the gun. The gun operators simply followed the pointer and loaded the shells. The Kerrison was fairly simple, but it pointed the way to future generations that incorporated radar, first for ranging and later for tracking. Similar predictor systems were introduced by Germany during the war, also adding radar ranging as the war progressed.',\n",
              " 'question_gen: context: In 1045, the Byzantine Empire conquered Bagratid Armenia. Soon, the other Armenian states fell under Byzantine control as well. The Byzantine rule was short lived, as in 1071 Seljuk Turks defeated the Byzantines and conquered Armenia at the Battle of Manzikert, establishing the Seljuk Empire. To escape death or servitude at the hands of those who had assassinated his relative, Gagik II, King of Ani, an Armenian named Roupen, went with some of his countrymen into the gorges of the Taurus Mountains and then into Tarsus of Cilicia. The Byzantine governor of the palace gave them shelter where the Armenian Kingdom of Cilicia was eventually established on 6 January 1198 under King Leo I, a descendant of Prince Roupen.']"
            ]
          },
          "metadata": {},
          "execution_count": 34
        }
      ]
    },
    {
      "cell_type": "code",
      "source": [
        "output_txt"
      ],
      "metadata": {
        "colab": {
          "base_uri": "https://localhost:8080/"
        },
        "id": "uXFseZ7DcTb2",
        "outputId": "e988da3a-202e-4b30-9209-d63bb1b2a38a"
      },
      "execution_count": 35,
      "outputs": [
        {
          "output_type": "execute_result",
          "data": {
            "text/plain": [
              "['question: What type of businesses did Nickles want to attract to Seattle?',\n",
              " 'question: To whom did Chopin reveal in letters which parts of his work were about the singing student he was infatuated with?',\n",
              " 'question: If a species may be harmed, who holds final say on whether the project may proceed?',\n",
              " 'question: What country has the dog as part of its 12 animals that represent years?',\n",
              " 'question: How long did his episcopate last?',\n",
              " 'question: What are some of the wars the Canadian Military was involved in?',\n",
              " \"question: What is worshipped during Tibet's various festibals?\",\n",
              " 'question: What was Apples market share of all computer shipments in 2011?',\n",
              " \"question: What is central to Chopin's process?\",\n",
              " 'question: What year was Whitehead born?',\n",
              " 'question: What percentage of plant and animal species extinction is predicted in the 21st century?',\n",
              " 'question: If Bob realized he needed to mail his mother a letter after seeing the postal office, which kind of memory did he trigger?',\n",
              " 'question: What kind of giant insect form had wingspans?',\n",
              " 'question: What is an example of a collection of classic Chinese lyric poetry?',\n",
              " 'question: What land area is west of Puget Sound?',\n",
              " 'question: How were trade goods transported in southern Mesopotamia?',\n",
              " 'question: From where is the temperature of a glacier measured?',\n",
              " 'question: When was Shen Kuo alive?',\n",
              " 'question: What kind of fuses were needed?',\n",
              " 'question: What is another name for Jesus given?',\n",
              " 'question: What was the total average family size?',\n",
              " 'question: Which type of geographical district became more powerful in Tennessee politics following the 1962 Supreme Court decision?',\n",
              " 'question: Who did the children work beside?',\n",
              " 'question: What did the Predictor calculate after it was pointed at a target?',\n",
              " 'question: Where did Roupen find refuge?']"
            ]
          },
          "metadata": {},
          "execution_count": 35
        }
      ]
    },
    {
      "cell_type": "markdown",
      "source": [
        "Tokenize data for inputs and outputs\n",
        "\n",
        "Source: https://huggingface.co/docs/transformers/model_doc/t5#transformers.T5ForConditionalGeneration"
      ],
      "metadata": {
        "id": "FHrCp2qZn1KV"
      }
    },
    {
      "cell_type": "code",
      "source": [
        "# Training\n",
        "\n",
        "# Encode inputs\n",
        "inputs = tokenizer(input_txt, max_length=1024, padding=True, truncation=True, return_tensors=\"tf\")\n",
        "#.input_ids\n",
        "# Identify input ids and attention mask\n",
        "input_ids, attention_mask = inputs.input_ids, inputs.attention_mask\n",
        "\n",
        "# Encode outputs/targets\n",
        "labels = tokenizer(output_txt, max_length=1024, padding=True, truncation=True, return_tensors=\"tf\").input_ids\n",
        "\n",
        "outputs = model(input_ids=input_ids, \n",
        "                attention_mask=attention_mask, \n",
        "                labels=labels)\n",
        "loss = outputs.loss\n",
        "logits = outputs.logits"
      ],
      "metadata": {
        "id": "V-xo7xLeGT8R"
      },
      "execution_count": 38,
      "outputs": []
    },
    {
      "cell_type": "markdown",
      "source": [
        "Check an example to see what the model generates\n",
        "\n",
        "*Note: this example context is from the training data, so not a great representation*"
      ],
      "metadata": {
        "id": "cF_22S7ln5b-"
      }
    },
    {
      "cell_type": "code",
      "source": [
        "# Inference\n",
        "inputs = tokenizer(\n",
        "    \"In Asian countries such as China, Korea, and Japan, dogs are viewed as kind protectors. The role of the dog in Chinese mythology includes a position as one of the twelve animals which cyclically represent years (the zodiacal dog).\", return_tensors=\"tf\"\n",
        ")  # Batch size 1\n",
        "\n",
        "input_ids, attention_mask = inputs.input_ids, inputs.attention_mask\n",
        "\n",
        "outputs = model.generate(input_ids=input_ids, \n",
        "                         attention_mask=attention_mask)\n",
        "\n",
        "\n",
        "print(tokenizer.decode(outputs[0], skip_special_tokens=True))\n",
        "\n",
        "\n"
      ],
      "metadata": {
        "colab": {
          "base_uri": "https://localhost:8080/"
        },
        "id": "l2GsJqdAb04I",
        "outputId": "bfc12e97-2beb-4f44-acce-c262028f0251"
      },
      "execution_count": 46,
      "outputs": [
        {
          "output_type": "stream",
          "name": "stderr",
          "text": [
            "/usr/local/lib/python3.7/dist-packages/transformers/generation_tf_utils.py:1695: UserWarning: Neither `max_length` nor `max_new_tokens` have been set, `max_length` will default to 20 (`self.config.max_length`). Controlling `max_length` via the config is deprecated and `max_length` will be removed from the config in v5 of Transformers -- we recommend using `max_new_tokens` to control the maximum length of the generation.\n",
            "  UserWarning,\n"
          ]
        },
        {
          "output_type": "stream",
          "name": "stdout",
          "text": [
            "the zodiacal dog. Dogs are protectors of the home. Dogs are\n"
          ]
        }
      ]
    },
    {
      "cell_type": "markdown",
      "source": [
        "Next check an example the model generates when given more hyperparameters"
      ],
      "metadata": {
        "id": "AY2uQxhTn93D"
      }
    },
    {
      "cell_type": "code",
      "source": [
        "# Now generate model with more sophistication (kind of)\n",
        "soph_outputs = model.generate(input_ids=input_ids, \n",
        "                              attention_mask=attention_mask,\n",
        "                              num_beams=2,\n",
        "                              no_repeat_ngram_size=1,\n",
        "                              min_length=20,\n",
        "                              max_length=40)\n",
        "                            \n",
        "\n",
        "print(tokenizer.decode(soph_outputs[0], skip_special_tokens=True, \n",
        "                           clean_up_tokenization_spaces=False))"
      ],
      "metadata": {
        "colab": {
          "base_uri": "https://localhost:8080/"
        },
        "id": "txuBhjrRcHsD",
        "outputId": "11b75bec-908f-4187-b115-69b9377805c0"
      },
      "execution_count": 45,
      "outputs": [
        {
          "output_type": "stream",
          "name": "stdout",
          "text": [
            "the zodiacal dog. Dogs are viewed as protector of humans and animals in general,?\n"
          ]
        }
      ]
    },
    {
      "cell_type": "markdown",
      "source": [
        "Now check an example the model generates that was not included in training data"
      ],
      "metadata": {
        "id": "ToVeYFUlsGuY"
      }
    },
    {
      "cell_type": "code",
      "source": [
        "inputs = tokenizer(\n",
        "    \"After Hurricane Katrina in 2005, Beyoncé and Rowland founded the Survivor Foundation to provide transitional housing for victims in the Houston area, to which Beyoncé contributed an initial $250,000. The foundation has since expanded to work with other charities in the city, and also provided relief following Hurricane Ike three years later.\", return_tensors=\"tf\"\n",
        ")  # Batch size 1\n",
        "\n",
        "input_ids, attention_mask = inputs.input_ids, inputs.attention_mask\n",
        "\n",
        "outputs = model.generate(input_ids=input_ids, \n",
        "                         attention_mask=attention_mask)\n",
        "\n",
        "\n",
        "print(tokenizer.decode(outputs[0], skip_special_tokens=True))\n"
      ],
      "metadata": {
        "colab": {
          "base_uri": "https://localhost:8080/"
        },
        "id": "JuhGTzgtb06w",
        "outputId": "8dc86e0d-e46d-403a-ac79-8fb74abb85af"
      },
      "execution_count": 47,
      "outputs": [
        {
          "output_type": "stream",
          "name": "stdout",
          "text": [
            ". Beyoncé and Rowland founded the Survivor Foundation in 2005.\n"
          ]
        }
      ]
    },
    {
      "cell_type": "code",
      "source": [
        "# Now generate model with more sophistication (kind of)\n",
        "soph_outputs = model.generate(input_ids=input_ids, \n",
        "                              attention_mask=attention_mask,\n",
        "                              num_beams=2,\n",
        "                              no_repeat_ngram_size=1,\n",
        "                              min_length=10,\n",
        "                              max_length=20)\n",
        "                            \n",
        "\n",
        "print(tokenizer.decode(soph_outputs[0], skip_special_tokens=True, \n",
        "                           clean_up_tokenization_spaces=False))"
      ],
      "metadata": {
        "colab": {
          "base_uri": "https://localhost:8080/"
        },
        "id": "KbPS96s-sX4R",
        "outputId": "d4df1633-a9e6-4080-8c98-7b12dbe781cb"
      },
      "execution_count": 49,
      "outputs": [
        {
          "output_type": "stream",
          "name": "stdout",
          "text": [
            ". Beyoncé and Rowland founded the Survivor Foundation in 2006.\n"
          ]
        }
      ]
    },
    {
      "cell_type": "code",
      "source": [],
      "metadata": {
        "id": "6aDz-nGpseZt"
      },
      "execution_count": null,
      "outputs": []
    },
    {
      "cell_type": "code",
      "source": [
        "# Find a random example to text that wasn't in training dataset\n",
        "data_squad['train'][1000]"
      ],
      "metadata": {
        "colab": {
          "base_uri": "https://localhost:8080/"
        },
        "id": "xK1Y7O8bb09W",
        "outputId": "5ce73023-e38c-4133-b6c6-b2f93b3efaef"
      },
      "execution_count": null,
      "outputs": [
        {
          "output_type": "execute_result",
          "data": {
            "text/plain": [
              "{'id': '56bfe7eaa10cfb1400551389',\n",
              " 'title': 'Beyoncé',\n",
              " 'context': 'After Hurricane Katrina in 2005, Beyoncé and Rowland founded the Survivor Foundation to provide transitional housing for victims in the Houston area, to which Beyoncé contributed an initial $250,000. The foundation has since expanded to work with other charities in the city, and also provided relief following Hurricane Ike three years later.',\n",
              " 'question': 'How much did Beyonce initially contribute to the foundation?',\n",
              " 'answers': {'text': ['$250,000'], 'answer_start': [190]}}"
            ]
          },
          "metadata": {},
          "execution_count": 124
        }
      ]
    },
    {
      "cell_type": "code",
      "source": [],
      "metadata": {
        "id": "pvH_8yb2b1Cb"
      },
      "execution_count": null,
      "outputs": []
    },
    {
      "cell_type": "code",
      "source": [],
      "metadata": {
        "id": "qBbOlvM0LQMR"
      },
      "execution_count": null,
      "outputs": []
    },
    {
      "cell_type": "code",
      "source": [],
      "metadata": {
        "id": "aosoVOlErvu4"
      },
      "execution_count": null,
      "outputs": []
    },
    {
      "cell_type": "code",
      "source": [],
      "metadata": {
        "id": "m2HYBa3vrvxp"
      },
      "execution_count": null,
      "outputs": []
    },
    {
      "cell_type": "code",
      "source": [],
      "metadata": {
        "id": "frZoXyxLrv0S"
      },
      "execution_count": null,
      "outputs": []
    },
    {
      "cell_type": "code",
      "source": [],
      "metadata": {
        "id": "2vHgWU3Rrv25"
      },
      "execution_count": null,
      "outputs": []
    },
    {
      "cell_type": "code",
      "source": [],
      "metadata": {
        "id": "S9tNTXDQrv5c"
      },
      "execution_count": null,
      "outputs": []
    },
    {
      "cell_type": "code",
      "source": [],
      "metadata": {
        "id": "WMxudnQsrv8F"
      },
      "execution_count": null,
      "outputs": []
    },
    {
      "cell_type": "code",
      "source": [],
      "metadata": {
        "id": "42s5xeiorv-t"
      },
      "execution_count": null,
      "outputs": []
    },
    {
      "cell_type": "code",
      "source": [],
      "metadata": {
        "id": "PyYdDBrBrwBm"
      },
      "execution_count": null,
      "outputs": []
    },
    {
      "cell_type": "markdown",
      "source": [
        "### Preprocess data (might want to consider later..?)"
      ],
      "metadata": {
        "id": "jwRHFXjspt84"
      }
    },
    {
      "cell_type": "code",
      "source": [
        "# Import regular expression to help with cleaning text\n",
        "# import re"
      ],
      "metadata": {
        "id": "zj3T8soYplSM"
      },
      "execution_count": null,
      "outputs": []
    },
    {
      "cell_type": "code",
      "source": [
        "# def preprocess(sentence):\n",
        "#     sentence=str(sentence)\n",
        "#     sentence = sentence.lower()\n",
        "#     sentence = sentence.replace('\\n', ' ')\n",
        "    \n",
        "#     # Remove unicode characters\n",
        "#     #sentence = re.sub(r\"(@\\[A-Za-z0-9]+)|([^0-9A-Za-z \\t])|(\\w+\\/\\/\\S+)|^rt|http.+?\", \"\", sentence)\n",
        "\n",
        "#     # Remove excess whitespace (if more than one space)\n",
        "#     sentence =  \" \".join(sentence.split())\n",
        "\n",
        "#     return sentence\n",
        "\n",
        "# clean_input_txt = list(map(preprocess, input_txt))\n",
        "\n",
        "# clean_input_txt"
      ],
      "metadata": {
        "colab": {
          "base_uri": "https://localhost:8080/"
        },
        "id": "xHRBn8-lpxcT",
        "outputId": "3cea7a52-11d0-4c29-fa14-c043e2113984"
      },
      "execution_count": null,
      "outputs": [
        {
          "output_type": "execute_result",
          "data": {
            "text/plain": [
              "[\"question_gen: context: prior to moving its headquarters to chicago, aerospace manufacturer boeing (#30) was the largest company based in seattle. its largest division is still headquartered in nearby renton, and the company has large aircraft manufacturing plants in everett and renton, so it remains the largest private employer in the seattle metropolitan area. former seattle mayor greg nickels announced a desire to spark a new economic boom driven by the biotechnology industry in 2006. major redevelopment of the south lake union neighborhood is underway, in an effort to attract new and established biotech companies to the city, joining biotech companies corixa (acquired by glaxosmithkline), immunex (now part of amgen), trubion, and zymogenetics. vulcan inc., the holding company of billionaire paul allen, is behind most of the development projects in the region. while some see the new development as an economic boon, others have criticized nickels and the seattle city council for pandering to allen's interests at taxpayers' expense. also in 2006, expansion magazine ranked seattle among the top 10 metropolitan areas in the nation for climates favorable to business expansion. in 2005, forbes ranked seattle as the most expensive american city for buying a house based on the local income levels. in 2013, however, the magazine ranked seattle no. 9 on its list of the best places for business and careers.\",\n",
              " 'question_gen: context: four boarders at his parents\\' apartments became chopin\\'s intimates: tytus woyciechowski, jan nepomucen białobłocki, jan matuszyński and julian fontana; the latter two would become part of his paris milieu. he was friendly with members of warsaw\\'s young artistic and intellectual world, including fontana, józef bohdan zaleski and stefan witwicki. he was also attracted to the singing student konstancja gładkowska. in letters to woyciechowski, he indicated which of his works, and even which of their passages, were influenced by his fascination with her; his letter of 15 may 1830 revealed that the slow movement (larghetto) of his piano concerto no. 1 (in e minor) was secretly dedicated to her – \"it should be like dreaming in beautiful springtime – by moonlight.\" his final conservatory report (july 1829) read: \"chopin f., third-year student, exceptional talent, musical genius.\"',\n",
              " 'question_gen: context: the question to be answered is whether a listed species will be harmed by the action and, if so, how the harm can be minimized. if harm cannot be avoided, the project agency can seek an exemption from the endangered species committee, an ad hoc panel composed of members from the executive branch and at least one appointee from the state where the project is to occur. five of the seven committee members must vote for the exemption to allow taking (to harass, harm, pursue, hunt, shoot, wound, kill, trap, capture, or collect, or significant habitat modification, or to attempt to engage in any such conduct) of listed species.',\n",
              " 'question_gen: context: in asian countries such as china, korea, and japan, dogs are viewed as kind protectors. the role of the dog in chinese mythology includes a position as one of the twelve animals which cyclically represent years (the zodiacal dog).',\n",
              " 'question_gen: context: saint athanasius of alexandria (/ˌæθəˈneɪʃəs/; greek: ἀθανάσιος ἀλεξανδρείας, athanásios alexandrías; c. 296–298 – 2 may 373), also called athanasius the great, athanasius the confessor or, primarily in the coptic orthodox church, athanasius the apostolic, was the twentieth bishop of alexandria (as athanasius i). his episcopate lasted 45 years (c. 8 june 328 – 2 may 373), of which over 17 were spent in five exiles ordered by four different roman emperors. athanasius is a renowned christian theologian, a church father, the chief defender of trinitarianism against arianism, and a noted egyptian leader of the fourth century.',\n",
              " \"question_gen: context: since 1947, canadian military units have participated in more than 200 operations worldwide, and completed 72 international operations. canadian soldiers, sailors, and aviators came to be considered world-class professionals through conspicuous service during these conflicts and the country's integral participation in nato during the cold war, first gulf war, kosovo war, and in united nations peacekeeping operations, such as the suez crisis, golan heights, cyprus, croatia, bosnia, afghanistan, and libya. canada maintained an aircraft carrier from 1957 to 1970 during the cold war, which never saw combat but participated in patrols during the cuban missile crisis.\",\n",
              " \"question_gen: context: tibet has various festivals that are commonly performed to worship the buddha[citation needed] throughout the year. losar is the tibetan new year festival. preparations for the festive event are manifested by special offerings to family shrine deities, painted doors with religious symbols, and other painstaking jobs done to prepare for the event. tibetans eat guthuk (barley noodle soup with filling) on new year's eve with their families. the monlam prayer festival follows it in the first month of the tibetan calendar, falling between the fourth and the eleventh days of the first tibetan month. it involves dancing and participating in sports events, as well as sharing picnics. the event was established in 1049 by tsong khapa, the founder of the dalai lama and the panchen lama's order.\",\n",
              " \"question_gen: context: from 2001 to 2008, mac sales increased continuously on an annual basis. apple reported worldwide sales of 3.36 million macs during the 2009 holiday season. as of mid-2011, the macintosh continues to enjoy rapid market share increase in the us, growing from 7.3% of all computer shipments in 2010 to 9.3% in 2011. according to idc's quarterly pc tracker, globally, in 3rd quarter of 2014, apple's pc market share increased 5.7 percent year over year, with record sales of 5.5 million units. apple now sits in the number five spot, with a global market share of about 6% during 2014, behind lenovo, hp, dell and acer.\",\n",
              " 'question_gen: context: improvisation stands at the centre of chopin\\'s creative processes. however, this does not imply impulsive rambling: nicholas temperley writes that \"improvisation is designed for an audience, and its starting-point is that audience\\'s expectations, which include the current conventions of musical form.\" the works for piano and orchestra, including the two concertos, are held by temperley to be \"merely vehicles for brilliant piano playing ... formally longwinded and extremely conservative\". after the piano concertos (which are both early, dating from 1830), chopin made no attempts at large-scale multi-movement forms, save for his late sonatas for piano and for cello; \"instead he achieved near-perfection in pieces of simple general design but subtle and complex cell-structure.\" rosen suggests that an important aspect of chopin\\'s individuality is his flexible handling of the four-bar phrase as a structural unit.',\n",
              " \"question_gen: context: alfred north whitehead was born in ramsgate, kent, england, in 1861. his father, alfred whitehead, was a minister and schoolmaster of chatham house academy, a successful school for boys established by thomas whitehead, alfred north's grandfather. whitehead himself recalled both of them as being very successful schoolmasters, but that his grandfather was the more extraordinary man. whitehead's mother was maria sarah whitehead, formerly maria sarah buckmaster. whitehead was apparently not particularly close with his mother, as he never mentioned her in any of his writings, and there is evidence that whitehead's wife, evelyn, had a low opinion of her.\",\n",
              " 'question_gen: context: while southeast asia is rich in flora and fauna, southeast asia is facing severe deforestation which causes habitat loss for various endangered species such as orangutan and the sumatran tiger. predictions have been made that more than 40% of the animal and plant species in southeast asia could be wiped out in the 21st century. at the same time, haze has been a regular occurrence. the two worst regional hazes were in 1997 and 2006 in which multiple countries were covered with thick haze, mostly caused by \"slash and burn\" activities in sumatra and borneo. in reaction, several countries in southeast asia signed the asean agreement on transboundary haze pollution to combat haze pollution.',\n",
              " 'question_gen: context: another major way to distinguish different memory functions is whether the content to be remembered is in the past, retrospective memory, or in the future, prospective memory. thus, retrospective memory as a category includes semantic, episodic and autobiographical memory. in contrast, prospective memory is memory for future intentions, or remembering to remember (winograd, 1988). prospective memory can be further broken down into event- and time-based prospective remembering. time-based prospective memories are triggered by a time-cue, such as going to the doctor (action) at 4pm (cue). event-based prospective memories are intentions triggered by cues, such as remembering to post a letter (action) after seeing a mailbox (cue). cues do not need to be related to the action (as the mailbox/letter example), and lists, sticky-notes, knotted handkerchiefs, or string around the finger all exemplify cues that people use as strategies to enhance prospective memory.',\n",
              " 'question_gen: context: late carboniferous and early permian insect orders include both extant groups, their stem groups, and a number of paleozoic groups, now extinct. during this era, some giant dragonfly-like forms reached wingspans of 55 to 70 cm (22 to 28 in), making them far larger than any living insect. this gigantism may have been due to higher atmospheric oxygen levels that allowed increased respiratory efficiency relative to today. the lack of flying vertebrates could have been another factor. most extinct orders of insects developed during the permian period that began around 270 million years ago. many of the early groups became extinct during the permian-triassic extinction event, the largest mass extinction in the history of the earth, around 252 million years ago.',\n",
              " 'question_gen: context: as a more urban culture developed, academies provided a means of transmission for speculative and philosophical literature in early civilizations, resulting in the prevalence of literature in ancient china, ancient india, persia and ancient greece and rome. many works of earlier periods, even in narrative form, had a covert moral or didactic purpose, such as the sanskrit panchatantra or the metamorphoses of ovid. drama and satire also developed as urban culture provided a larger public audience, and later readership, for literary production. lyric poetry (as opposed to epic poetry) was often the speciality of courts and aristocratic circles, particularly in east asia where songs were collected by the chinese aristocracy as poems, the most notable being the shijing or book of songs. over a long period, the poetry of popular pre-literate balladry and song interpenetrated and eventually influenced poetry in the literary medium.',\n",
              " \"question_gen: context: seattle is located between the saltwater puget sound (an arm of the pacific ocean) to the west and lake washington to the east. the city's chief harbor, elliott bay, is part of puget sound, which makes the city an oceanic port. to the west, beyond puget sound, are the kitsap peninsula and olympic mountains on the olympic peninsula; to the east, beyond lake washington and the eastside suburbs, are lake sammamish and the cascade range. lake washington's waters flow to puget sound through the lake washington ship canal (consisting of two man-made canals, lake union, and the hiram m. chittenden locks at salmon bay, ending in shilshole bay on puget sound).\",\n",
              " 'question_gen: context: by the time of the uruk period (c. 4100–2900 bc calibrated), the volume of trade goods transported along the canals and rivers of southern mesopotamia facilitated the rise of many large, stratified, temple-centered cities (with populations of over 10,000 people) where centralized administrations employed specialized workers. it is fairly certain that it was during the uruk period that sumerian cities began to make use of slave labor captured from the hill country, and there is ample evidence for captured slaves as workers in the earliest texts. artifacts, and even colonies of this uruk civilization have been found over a wide area—from the taurus mountains in turkey, to the mediterranean sea in the west, and as far east as central iran.',\n",
              " 'question_gen: context: thermally, a temperate glacier is at melting point throughout the year, from its surface to its base. the ice of a polar glacier is always below freezing point from the surface to its base, although the surface snowpack may experience seasonal melting. a sub-polar glacier includes both temperate and polar ice, depending on depth beneath the surface and position along the length of the glacier. in a similar way, the thermal regime of a glacier is often described by the temperature at its base alone. a cold-based glacier is below freezing at the ice-ground interface, and is thus frozen to the underlying substrate. a warm-based glacier is above or at freezing at the interface, and is able to slide at this contact. this contrast is thought to a large extent to govern the ability of a glacier to effectively erode its bed, as sliding ice promotes plucking at rock from the surface below. glaciers which are partly cold-based and partly warm-based are known as polythermal.',\n",
              " \"question_gen: context: there are many notable contributors to the field of chinese science throughout the ages. one of the best examples would be shen kuo (1031–1095), a polymath scientist and statesman who was the first to describe the magnetic-needle compass used for navigation, discovered the concept of true north, improved the design of the astronomical gnomon, armillary sphere, sight tube, and clepsydra, and described the use of drydocks to repair boats. after observing the natural process of the inundation of silt and the find of marine fossils in the taihang mountains (hundreds of miles from the pacific ocean), shen kuo devised a theory of land formation, or geomorphology. he also adopted a theory of gradual climate change in regions over time, after observing petrified bamboo found underground at yan'an, shaanxi province. if not for shen kuo's writing, the architectural works of yu hao would be little known, along with the inventor of movable type printing, bi sheng (990-1051). shen's contemporary su song (1020–1101) was also a brilliant polymath, an astronomer who created a celestial atlas of star maps, wrote a pharmaceutical treatise with related subjects of botany, zoology, mineralogy, and metallurgy, and had erected a large astronomical clocktower in kaifeng city in 1088. to operate the crowning armillary sphere, his clocktower featured an escapement mechanism and the world's oldest known use of an endless power-transmitting chain drive.\",\n",
              " 'question_gen: context: two assumptions underpinned the british approach to haa fire; first, aimed fire was the primary method and this was enabled by predicting gun data from visually tracking the target and having its height. second, that the target would maintain a steady course, speed and height. this haa was to engage targets up to 24,000 feet. mechanical, as opposed to igniferous, time fuses were required because the speed of powder burning varied with height so fuse length was not a simple function of time of flight. automated fire ensured a constant rate of fire that made it easier to predict where each shell should be individually aimed.',\n",
              " 'question_gen: context: in johannine \"agent christology\" the submission of jesus to crucifixion is a sacrifice made as an agent of god or servant of god, for the sake of eventual victory. this builds on the salvific theme of the gospel of john which begins in john 1:29 with john the baptist\\'s proclamation: \"the lamb of god who takes away the sins of the world\". further reinforcement of the concept is provided in revelation 21:14 where the \"lamb slain but standing\" is the only one worthy of handling the scroll (i.e. the book) containing the names of those who are to be saved.',\n",
              " 'question_gen: context: there were 46,917 households, out of which 7,835 (16.7%) had children under the age of 18 living in them, 13,092 (27.9%) were opposite-sex married couples living together, 3,510 (7.5%) had a female householder with no husband present, 1,327 (2.8%) had a male householder with no wife present. there were 2,867 (6.1%) unmarried opposite-sex partnerships, and 416 (0.9%) same-sex married couples or partnerships. 22,716 households (48.4%) were made up of individuals and 5,551 (11.8%) had someone living alone who was 65 years of age or older. the average household size was 1.87. there were 17,929 families (38.2% of all households); the average family size was 2.79.',\n",
              " 'question_gen: context: the baker v. carr (1962) decision of the us supreme court established the principle of \"one man, one vote\", requiring state legislatures to redistrict to bring congressional apportionment in line with decennial censuses. it also required both houses of state legislatures to be based on population for representation and not geographic districts such as counties. this case arose out of a lawsuit challenging the longstanding rural bias of apportionment of seats in the tennessee legislature. after decades in which urban populations had been underrepresented in many state legislatures, this significant ruling led to an increased (and proportional) prominence in state politics by urban and, eventually, suburban, legislators and statewide officeholders in relation to their population within the state. the ruling also applied to numerous other states long controlled by rural minorities, such as alabama, vermont, and montana.',\n",
              " 'question_gen: context: home-based manufacturing operations were active year round. families willingly deployed their children in these income generating home enterprises. in many cases, men worked from home. in france, over 58 percent of garment workers operated out of their homes; in germany, the number of full-time home operations nearly doubled between 1882 and 1907; and in the united states, millions of families operated out of home seven days a week, year round to produce garments, shoes, artificial flowers, feathers, match boxes, toys, umbrellas and other products. children aged 5–14 worked alongside the parents. home-based operations and child labour in australia, britain, austria and other parts of the world was common. rural areas similarly saw families deploying their children in agriculture. in 1946, frieda miller - then director of united states department of labour - told the international labour organisation that these home-based operations offered, \"low wages, long hours, child labour, unhealthy and insanitary working conditions.\"',\n",
              " 'question_gen: context: the solution was automation, in the form of a mechanical computer, the kerrison predictor. operators kept it pointed at the target, and the predictor then calculated the proper aim point automatically and displayed it as a pointer mounted on the gun. the gun operators simply followed the pointer and loaded the shells. the kerrison was fairly simple, but it pointed the way to future generations that incorporated radar, first for ranging and later for tracking. similar predictor systems were introduced by germany during the war, also adding radar ranging as the war progressed.',\n",
              " 'question_gen: context: in 1045, the byzantine empire conquered bagratid armenia. soon, the other armenian states fell under byzantine control as well. the byzantine rule was short lived, as in 1071 seljuk turks defeated the byzantines and conquered armenia at the battle of manzikert, establishing the seljuk empire. to escape death or servitude at the hands of those who had assassinated his relative, gagik ii, king of ani, an armenian named roupen, went with some of his countrymen into the gorges of the taurus mountains and then into tarsus of cilicia. the byzantine governor of the palace gave them shelter where the armenian kingdom of cilicia was eventually established on 6 january 1198 under king leo i, a descendant of prince roupen.']"
            ]
          },
          "metadata": {},
          "execution_count": 123
        }
      ]
    }
  ]
}