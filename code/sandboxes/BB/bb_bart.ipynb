{
  "nbformat": 4,
  "nbformat_minor": 0,
  "metadata": {
    "colab": {
      "provenance": [],
      "collapsed_sections": [],
      "include_colab_link": true
    },
    "kernelspec": {
      "name": "python3",
      "display_name": "Python 3"
    },
    "language_info": {
      "name": "python"
    },
    "accelerator": "GPU",
    "gpuClass": "standard"
  },
  "cells": [
    {
      "cell_type": "markdown",
      "metadata": {
        "id": "view-in-github",
        "colab_type": "text"
      },
      "source": [
        "<a href=\"https://colab.research.google.com/github/jeanlucjackson/w266_final_project/blob/main/code/BB/bb_bart.ipynb\" target=\"_parent\"><img src=\"https://colab.research.google.com/assets/colab-badge.svg\" alt=\"Open In Colab\"/></a>"
      ]
    },
    {
      "cell_type": "markdown",
      "source": [
        "# BART for Question Generation"
      ],
      "metadata": {
        "id": "nB-gqy1ZrdwK"
      }
    },
    {
      "cell_type": "code",
      "source": [
        "!pip install -q transformers"
      ],
      "metadata": {
        "id": "ms3oqoRcAiXR",
        "colab": {
          "base_uri": "https://localhost:8080/"
        },
        "outputId": "6b35e43f-9cc4-41d4-c26c-988523c45043"
      },
      "execution_count": null,
      "outputs": [
        {
          "output_type": "stream",
          "name": "stdout",
          "text": [
            "\u001b[K     |████████████████████████████████| 5.3 MB 15.9 MB/s \n",
            "\u001b[K     |████████████████████████████████| 163 kB 70.3 MB/s \n",
            "\u001b[K     |████████████████████████████████| 7.6 MB 42.2 MB/s \n",
            "\u001b[?25h"
          ]
        }
      ]
    },
    {
      "cell_type": "code",
      "source": [
        "import numpy as np\n",
        "import pandas as pd\n",
        "import os\n",
        "import re\n",
        "\n",
        "import json\n",
        "\n",
        "# Make longer output readable without scrolling\n",
        "from pprint import pprint\n",
        "\n",
        "# Stop warning messages from showing\n",
        "import warnings\n",
        "warnings.simplefilter(action='ignore', category=FutureWarning)\n",
        "\n",
        "import tensorflow as tf\n",
        "from tensorflow import keras\n",
        "from tensorflow.keras import layers\n",
        "\n",
        "import torch  # Only if you use a pytorch model, both options are shown below\n",
        "from transformers import BartTokenizer, BartForConditionalGeneration\n",
        "from transformers import Seq2SeqTrainingArguments, Seq2SeqTrainer\n",
        "\n"
      ],
      "metadata": {
        "id": "3Agenz05AiSg"
      },
      "execution_count": null,
      "outputs": []
    },
    {
      "cell_type": "code",
      "source": [
        "!pip install -q sentencepiece"
      ],
      "metadata": {
        "colab": {
          "base_uri": "https://localhost:8080/"
        },
        "id": "oSXRL27MAiU5",
        "outputId": "8b8234a8-d1ce-4efd-9cc1-853187831adf"
      },
      "execution_count": null,
      "outputs": [
        {
          "output_type": "stream",
          "name": "stdout",
          "text": [
            "\u001b[?25l\r\u001b[K     |▎                               | 10 kB 25.9 MB/s eta 0:00:01\r\u001b[K     |▌                               | 20 kB 18.8 MB/s eta 0:00:01\r\u001b[K     |▊                               | 30 kB 24.3 MB/s eta 0:00:01\r\u001b[K     |█                               | 40 kB 14.4 MB/s eta 0:00:01\r\u001b[K     |█▎                              | 51 kB 13.2 MB/s eta 0:00:01\r\u001b[K     |█▌                              | 61 kB 15.4 MB/s eta 0:00:01\r\u001b[K     |█▉                              | 71 kB 14.6 MB/s eta 0:00:01\r\u001b[K     |██                              | 81 kB 12.6 MB/s eta 0:00:01\r\u001b[K     |██▎                             | 92 kB 13.8 MB/s eta 0:00:01\r\u001b[K     |██▋                             | 102 kB 14.9 MB/s eta 0:00:01\r\u001b[K     |██▉                             | 112 kB 14.9 MB/s eta 0:00:01\r\u001b[K     |███                             | 122 kB 14.9 MB/s eta 0:00:01\r\u001b[K     |███▍                            | 133 kB 14.9 MB/s eta 0:00:01\r\u001b[K     |███▋                            | 143 kB 14.9 MB/s eta 0:00:01\r\u001b[K     |███▉                            | 153 kB 14.9 MB/s eta 0:00:01\r\u001b[K     |████                            | 163 kB 14.9 MB/s eta 0:00:01\r\u001b[K     |████▍                           | 174 kB 14.9 MB/s eta 0:00:01\r\u001b[K     |████▋                           | 184 kB 14.9 MB/s eta 0:00:01\r\u001b[K     |████▉                           | 194 kB 14.9 MB/s eta 0:00:01\r\u001b[K     |█████▏                          | 204 kB 14.9 MB/s eta 0:00:01\r\u001b[K     |█████▍                          | 215 kB 14.9 MB/s eta 0:00:01\r\u001b[K     |█████▋                          | 225 kB 14.9 MB/s eta 0:00:01\r\u001b[K     |██████                          | 235 kB 14.9 MB/s eta 0:00:01\r\u001b[K     |██████▏                         | 245 kB 14.9 MB/s eta 0:00:01\r\u001b[K     |██████▍                         | 256 kB 14.9 MB/s eta 0:00:01\r\u001b[K     |██████▊                         | 266 kB 14.9 MB/s eta 0:00:01\r\u001b[K     |███████                         | 276 kB 14.9 MB/s eta 0:00:01\r\u001b[K     |███████▏                        | 286 kB 14.9 MB/s eta 0:00:01\r\u001b[K     |███████▍                        | 296 kB 14.9 MB/s eta 0:00:01\r\u001b[K     |███████▊                        | 307 kB 14.9 MB/s eta 0:00:01\r\u001b[K     |████████                        | 317 kB 14.9 MB/s eta 0:00:01\r\u001b[K     |████████▏                       | 327 kB 14.9 MB/s eta 0:00:01\r\u001b[K     |████████▌                       | 337 kB 14.9 MB/s eta 0:00:01\r\u001b[K     |████████▊                       | 348 kB 14.9 MB/s eta 0:00:01\r\u001b[K     |█████████                       | 358 kB 14.9 MB/s eta 0:00:01\r\u001b[K     |█████████▎                      | 368 kB 14.9 MB/s eta 0:00:01\r\u001b[K     |█████████▌                      | 378 kB 14.9 MB/s eta 0:00:01\r\u001b[K     |█████████▊                      | 389 kB 14.9 MB/s eta 0:00:01\r\u001b[K     |██████████                      | 399 kB 14.9 MB/s eta 0:00:01\r\u001b[K     |██████████▎                     | 409 kB 14.9 MB/s eta 0:00:01\r\u001b[K     |██████████▌                     | 419 kB 14.9 MB/s eta 0:00:01\r\u001b[K     |██████████▉                     | 430 kB 14.9 MB/s eta 0:00:01\r\u001b[K     |███████████                     | 440 kB 14.9 MB/s eta 0:00:01\r\u001b[K     |███████████▎                    | 450 kB 14.9 MB/s eta 0:00:01\r\u001b[K     |███████████▌                    | 460 kB 14.9 MB/s eta 0:00:01\r\u001b[K     |███████████▉                    | 471 kB 14.9 MB/s eta 0:00:01\r\u001b[K     |████████████                    | 481 kB 14.9 MB/s eta 0:00:01\r\u001b[K     |████████████▎                   | 491 kB 14.9 MB/s eta 0:00:01\r\u001b[K     |████████████▋                   | 501 kB 14.9 MB/s eta 0:00:01\r\u001b[K     |████████████▉                   | 512 kB 14.9 MB/s eta 0:00:01\r\u001b[K     |█████████████                   | 522 kB 14.9 MB/s eta 0:00:01\r\u001b[K     |█████████████▍                  | 532 kB 14.9 MB/s eta 0:00:01\r\u001b[K     |█████████████▋                  | 542 kB 14.9 MB/s eta 0:00:01\r\u001b[K     |█████████████▉                  | 552 kB 14.9 MB/s eta 0:00:01\r\u001b[K     |██████████████▏                 | 563 kB 14.9 MB/s eta 0:00:01\r\u001b[K     |██████████████▍                 | 573 kB 14.9 MB/s eta 0:00:01\r\u001b[K     |██████████████▋                 | 583 kB 14.9 MB/s eta 0:00:01\r\u001b[K     |██████████████▉                 | 593 kB 14.9 MB/s eta 0:00:01\r\u001b[K     |███████████████▏                | 604 kB 14.9 MB/s eta 0:00:01\r\u001b[K     |███████████████▍                | 614 kB 14.9 MB/s eta 0:00:01\r\u001b[K     |███████████████▋                | 624 kB 14.9 MB/s eta 0:00:01\r\u001b[K     |████████████████                | 634 kB 14.9 MB/s eta 0:00:01\r\u001b[K     |████████████████▏               | 645 kB 14.9 MB/s eta 0:00:01\r\u001b[K     |████████████████▍               | 655 kB 14.9 MB/s eta 0:00:01\r\u001b[K     |████████████████▊               | 665 kB 14.9 MB/s eta 0:00:01\r\u001b[K     |█████████████████               | 675 kB 14.9 MB/s eta 0:00:01\r\u001b[K     |█████████████████▏              | 686 kB 14.9 MB/s eta 0:00:01\r\u001b[K     |█████████████████▌              | 696 kB 14.9 MB/s eta 0:00:01\r\u001b[K     |█████████████████▊              | 706 kB 14.9 MB/s eta 0:00:01\r\u001b[K     |██████████████████              | 716 kB 14.9 MB/s eta 0:00:01\r\u001b[K     |██████████████████▎             | 727 kB 14.9 MB/s eta 0:00:01\r\u001b[K     |██████████████████▌             | 737 kB 14.9 MB/s eta 0:00:01\r\u001b[K     |██████████████████▊             | 747 kB 14.9 MB/s eta 0:00:01\r\u001b[K     |███████████████████             | 757 kB 14.9 MB/s eta 0:00:01\r\u001b[K     |███████████████████▎            | 768 kB 14.9 MB/s eta 0:00:01\r\u001b[K     |███████████████████▌            | 778 kB 14.9 MB/s eta 0:00:01\r\u001b[K     |███████████████████▊            | 788 kB 14.9 MB/s eta 0:00:01\r\u001b[K     |████████████████████            | 798 kB 14.9 MB/s eta 0:00:01\r\u001b[K     |████████████████████▎           | 808 kB 14.9 MB/s eta 0:00:01\r\u001b[K     |████████████████████▌           | 819 kB 14.9 MB/s eta 0:00:01\r\u001b[K     |████████████████████▉           | 829 kB 14.9 MB/s eta 0:00:01\r\u001b[K     |█████████████████████           | 839 kB 14.9 MB/s eta 0:00:01\r\u001b[K     |█████████████████████▎          | 849 kB 14.9 MB/s eta 0:00:01\r\u001b[K     |█████████████████████▋          | 860 kB 14.9 MB/s eta 0:00:01\r\u001b[K     |█████████████████████▉          | 870 kB 14.9 MB/s eta 0:00:01\r\u001b[K     |██████████████████████          | 880 kB 14.9 MB/s eta 0:00:01\r\u001b[K     |██████████████████████▎         | 890 kB 14.9 MB/s eta 0:00:01\r\u001b[K     |██████████████████████▋         | 901 kB 14.9 MB/s eta 0:00:01\r\u001b[K     |██████████████████████▉         | 911 kB 14.9 MB/s eta 0:00:01\r\u001b[K     |███████████████████████         | 921 kB 14.9 MB/s eta 0:00:01\r\u001b[K     |███████████████████████▍        | 931 kB 14.9 MB/s eta 0:00:01\r\u001b[K     |███████████████████████▋        | 942 kB 14.9 MB/s eta 0:00:01\r\u001b[K     |███████████████████████▉        | 952 kB 14.9 MB/s eta 0:00:01\r\u001b[K     |████████████████████████▏       | 962 kB 14.9 MB/s eta 0:00:01\r\u001b[K     |████████████████████████▍       | 972 kB 14.9 MB/s eta 0:00:01\r\u001b[K     |████████████████████████▋       | 983 kB 14.9 MB/s eta 0:00:01\r\u001b[K     |█████████████████████████       | 993 kB 14.9 MB/s eta 0:00:01\r\u001b[K     |█████████████████████████▏      | 1.0 MB 14.9 MB/s eta 0:00:01\r\u001b[K     |█████████████████████████▍      | 1.0 MB 14.9 MB/s eta 0:00:01\r\u001b[K     |█████████████████████████▊      | 1.0 MB 14.9 MB/s eta 0:00:01\r\u001b[K     |██████████████████████████      | 1.0 MB 14.9 MB/s eta 0:00:01\r\u001b[K     |██████████████████████████▏     | 1.0 MB 14.9 MB/s eta 0:00:01\r\u001b[K     |██████████████████████████▍     | 1.1 MB 14.9 MB/s eta 0:00:01\r\u001b[K     |██████████████████████████▊     | 1.1 MB 14.9 MB/s eta 0:00:01\r\u001b[K     |███████████████████████████     | 1.1 MB 14.9 MB/s eta 0:00:01\r\u001b[K     |███████████████████████████▏    | 1.1 MB 14.9 MB/s eta 0:00:01\r\u001b[K     |███████████████████████████▌    | 1.1 MB 14.9 MB/s eta 0:00:01\r\u001b[K     |███████████████████████████▊    | 1.1 MB 14.9 MB/s eta 0:00:01\r\u001b[K     |████████████████████████████    | 1.1 MB 14.9 MB/s eta 0:00:01\r\u001b[K     |████████████████████████████▎   | 1.1 MB 14.9 MB/s eta 0:00:01\r\u001b[K     |████████████████████████████▌   | 1.1 MB 14.9 MB/s eta 0:00:01\r\u001b[K     |████████████████████████████▊   | 1.1 MB 14.9 MB/s eta 0:00:01\r\u001b[K     |█████████████████████████████   | 1.2 MB 14.9 MB/s eta 0:00:01\r\u001b[K     |█████████████████████████████▎  | 1.2 MB 14.9 MB/s eta 0:00:01\r\u001b[K     |█████████████████████████████▌  | 1.2 MB 14.9 MB/s eta 0:00:01\r\u001b[K     |█████████████████████████████▊  | 1.2 MB 14.9 MB/s eta 0:00:01\r\u001b[K     |██████████████████████████████  | 1.2 MB 14.9 MB/s eta 0:00:01\r\u001b[K     |██████████████████████████████▎ | 1.2 MB 14.9 MB/s eta 0:00:01\r\u001b[K     |██████████████████████████████▌ | 1.2 MB 14.9 MB/s eta 0:00:01\r\u001b[K     |██████████████████████████████▉ | 1.2 MB 14.9 MB/s eta 0:00:01\r\u001b[K     |███████████████████████████████ | 1.2 MB 14.9 MB/s eta 0:00:01\r\u001b[K     |███████████████████████████████▎| 1.2 MB 14.9 MB/s eta 0:00:01\r\u001b[K     |███████████████████████████████▋| 1.3 MB 14.9 MB/s eta 0:00:01\r\u001b[K     |███████████████████████████████▉| 1.3 MB 14.9 MB/s eta 0:00:01\r\u001b[K     |████████████████████████████████| 1.3 MB 14.9 MB/s \n",
            "\u001b[?25h"
          ]
        }
      ]
    },
    {
      "cell_type": "code",
      "source": [
        "!pip install -q datasets"
      ],
      "metadata": {
        "id": "_I01G1xqAiaG",
        "colab": {
          "base_uri": "https://localhost:8080/"
        },
        "outputId": "9a1e9de7-2f78-4d7f-dc8e-3c5f01d134e4"
      },
      "execution_count": null,
      "outputs": [
        {
          "output_type": "stream",
          "name": "stdout",
          "text": [
            "\u001b[K     |████████████████████████████████| 441 kB 15.6 MB/s \n",
            "\u001b[K     |████████████████████████████████| 212 kB 66.6 MB/s \n",
            "\u001b[K     |████████████████████████████████| 115 kB 62.9 MB/s \n",
            "\u001b[K     |████████████████████████████████| 127 kB 72.6 MB/s \n",
            "\u001b[K     |████████████████████████████████| 115 kB 66.2 MB/s \n",
            "\u001b[?25h"
          ]
        }
      ]
    },
    {
      "cell_type": "code",
      "source": [
        "# !pip install -q evaluate\n",
        "# import evaluate"
      ],
      "metadata": {
        "id": "hLIVseyRAice"
      },
      "execution_count": null,
      "outputs": []
    },
    {
      "cell_type": "code",
      "source": [
        "from google.colab import drive\n",
        "\n",
        "drive.mount('/content/drive')"
      ],
      "metadata": {
        "colab": {
          "base_uri": "https://localhost:8080/"
        },
        "id": "Sak9oXA2Aie0",
        "outputId": "4145695e-3827-4b21-de4d-ec6e482fcb61"
      },
      "execution_count": null,
      "outputs": [
        {
          "output_type": "stream",
          "name": "stdout",
          "text": [
            "Mounted at /content/drive\n"
          ]
        }
      ]
    },
    {
      "cell_type": "markdown",
      "source": [
        "## Data"
      ],
      "metadata": {
        "id": "ChtPfFXPj2Pm"
      }
    },
    {
      "cell_type": "code",
      "source": [
        "from datasets import list_datasets, load_dataset_builder, get_dataset_config_names, load_dataset, load_from_disk\n"
      ],
      "metadata": {
        "id": "nMIQfzHz90uX"
      },
      "execution_count": null,
      "outputs": []
    },
    {
      "cell_type": "code",
      "source": [
        "def summarize_dataset (dataset, config=None):\n",
        "    builder = load_dataset_builder(dataset, config)\n",
        "    print(f\"Description:\\n {builder.info.description}\")\n",
        "    print(f\"Features:\")\n",
        "    pprint(builder.info.features)\n",
        "    return"
      ],
      "metadata": {
        "id": "eP9w3BBR9017"
      },
      "execution_count": null,
      "outputs": []
    },
    {
      "cell_type": "markdown",
      "source": [
        "Load the data"
      ],
      "metadata": {
        "id": "0RmjHaUNj09k"
      }
    },
    {
      "cell_type": "code",
      "source": [
        "dataset = load_from_disk(\"/content/drive/MyDrive/w266 NLP Final Project/Data/squad.hf\")"
      ],
      "metadata": {
        "id": "_ia0iMJm98d7"
      },
      "execution_count": null,
      "outputs": []
    },
    {
      "cell_type": "code",
      "source": [
        "# dataset_root = \"/content/drive/MyDrive/w266 NLP Final Project/Data/\"\n",
        "# dataset_name = \"squad\"\n",
        "# dataset_folder = dataset_root+dataset_name+\".hf\"\n",
        "# training_file = dataset_folder + '/train_pairs.csv'\n",
        "# validation_file = dataset_folder + '/valid_pairs.csv'"
      ],
      "metadata": {
        "id": "Mu1U33mEjvLz"
      },
      "execution_count": null,
      "outputs": []
    },
    {
      "cell_type": "code",
      "source": [
        "# Training data\n",
        "#count=100\n",
        "training_data = dataset['train'].shuffle(seed=1962)\n",
        "#.select(range(count))\n",
        "training_answers = [answer['text'][0] for answer in training_data['answers']]\n",
        "training_context = training_data['context']\n",
        "training_questions = training_data['question']\n",
        "\n",
        "# Validation data\n",
        "#count=10\n",
        "validation_data = dataset['validation'].shuffle(seed=1962)\n",
        "#.select(range(count))\n",
        "validation_answers = [answer['text'][0] for answer in validation_data['answers']]\n",
        "validation_context = validation_data['context']\n",
        "validation_questions = validation_data['question']"
      ],
      "metadata": {
        "colab": {
          "base_uri": "https://localhost:8080/"
        },
        "id": "jgh-r0KTjvZ3",
        "outputId": "80f86e22-965b-496a-b67b-1b5c503b0c24"
      },
      "execution_count": null,
      "outputs": [
        {
          "output_type": "stream",
          "name": "stderr",
          "text": [
            "WARNING:datasets.arrow_dataset:Loading cached shuffled indices for dataset at /content/drive/MyDrive/w266 NLP Final Project/Data/squad.hf/train/cache-8ab9b6302b91254a.arrow\n",
            "WARNING:datasets.arrow_dataset:Loading cached shuffled indices for dataset at /content/drive/MyDrive/w266 NLP Final Project/Data/squad.hf/validation/cache-0b0bdbcc58516b16.arrow\n"
          ]
        }
      ]
    },
    {
      "cell_type": "markdown",
      "source": [
        "Formatting input and output/target pairs"
      ],
      "metadata": {
        "id": "Sc4SxlNokRmW"
      }
    },
    {
      "cell_type": "code",
      "source": [
        "# training_orig = [f\"answer: {answer} context: {context}\" for answer, context in zip (training_answers, training_context)]\n",
        "# training_target = training_questions\n",
        "# validation_orig = [f\"answer: {answer} context: {context}\" for answer, context in zip (validation_answers, validation_context)]\n",
        "# validation_target = validation_questions"
      ],
      "metadata": {
        "id": "ByvS2pf4jvca"
      },
      "execution_count": null,
      "outputs": []
    },
    {
      "cell_type": "code",
      "source": [
        "training_orig = [f\"{answer} </s> {context}\" for answer, context in zip (training_answers, training_context)]\n",
        "training_target = training_questions\n",
        "validation_orig = [f\"{answer} </s> {context}\" for answer, context in zip (validation_answers, validation_context)]\n",
        "validation_target = validation_questions"
      ],
      "metadata": {
        "id": "ucLaU4T3-2-e"
      },
      "execution_count": null,
      "outputs": []
    },
    {
      "cell_type": "code",
      "source": [
        "training_df = pd.DataFrame()\n",
        "training_df['orig'] = training_orig\n",
        "training_df['target'] = training_target\n",
        "training_df"
      ],
      "metadata": {
        "colab": {
          "base_uri": "https://localhost:8080/",
          "height": 424
        },
        "id": "sKgAQPu5jve0",
        "outputId": "69ae6087-a918-4450-f4d9-db8ff584e367"
      },
      "execution_count": null,
      "outputs": [
        {
          "output_type": "execute_result",
          "data": {
            "text/plain": [
              "                                                    orig  \\\n",
              "0      biotech companies </s> Prior to moving its hea...   \n",
              "1      Tytus Woyciechowski </s> Four boarders at his ...   \n",
              "2      the Endangered Species Committee </s> The ques...   \n",
              "3      China </s> In Asian countries such as China, K...   \n",
              "4      45 years </s> Saint Athanasius of Alexandria (...   \n",
              "...                                                  ...   \n",
              "87594  September 21, 19 BC </s> According to the trad...   \n",
              "87595  Disraeli </s> Between April 1877 and February ...   \n",
              "87596  Denmark </s> The local government continuously...   \n",
              "87597  Nuclear surety </s> Nuclear surety ensures the...   \n",
              "87598  Langston University </s> Oklahoma holds eleven...   \n",
              "\n",
              "                                                  target  \n",
              "0      What type of businesses did Nickles want to at...  \n",
              "1      To whom did Chopin reveal in letters which par...  \n",
              "2      If a species may be harmed, who holds final sa...  \n",
              "3      What country has the dog as part of its 12 ani...  \n",
              "4                      How long did his episcopate last?  \n",
              "...                                                  ...  \n",
              "87594                          What date did Virgil die?  \n",
              "87595    Who lost the Disraeli general election in 1880?  \n",
              "87596  What country is the inspiration for Mexico Cit...  \n",
              "87597    What ensures the safety of nuclear operations?   \n",
              "87598                      What is Oklahoma's only HBCU?  \n",
              "\n",
              "[87599 rows x 2 columns]"
            ],
            "text/html": [
              "\n",
              "  <div id=\"df-a821bf0a-4f0f-4fd9-9a5d-840b6f55ac22\">\n",
              "    <div class=\"colab-df-container\">\n",
              "      <div>\n",
              "<style scoped>\n",
              "    .dataframe tbody tr th:only-of-type {\n",
              "        vertical-align: middle;\n",
              "    }\n",
              "\n",
              "    .dataframe tbody tr th {\n",
              "        vertical-align: top;\n",
              "    }\n",
              "\n",
              "    .dataframe thead th {\n",
              "        text-align: right;\n",
              "    }\n",
              "</style>\n",
              "<table border=\"1\" class=\"dataframe\">\n",
              "  <thead>\n",
              "    <tr style=\"text-align: right;\">\n",
              "      <th></th>\n",
              "      <th>orig</th>\n",
              "      <th>target</th>\n",
              "    </tr>\n",
              "  </thead>\n",
              "  <tbody>\n",
              "    <tr>\n",
              "      <th>0</th>\n",
              "      <td>biotech companies &lt;/s&gt; Prior to moving its hea...</td>\n",
              "      <td>What type of businesses did Nickles want to at...</td>\n",
              "    </tr>\n",
              "    <tr>\n",
              "      <th>1</th>\n",
              "      <td>Tytus Woyciechowski &lt;/s&gt; Four boarders at his ...</td>\n",
              "      <td>To whom did Chopin reveal in letters which par...</td>\n",
              "    </tr>\n",
              "    <tr>\n",
              "      <th>2</th>\n",
              "      <td>the Endangered Species Committee &lt;/s&gt; The ques...</td>\n",
              "      <td>If a species may be harmed, who holds final sa...</td>\n",
              "    </tr>\n",
              "    <tr>\n",
              "      <th>3</th>\n",
              "      <td>China &lt;/s&gt; In Asian countries such as China, K...</td>\n",
              "      <td>What country has the dog as part of its 12 ani...</td>\n",
              "    </tr>\n",
              "    <tr>\n",
              "      <th>4</th>\n",
              "      <td>45 years &lt;/s&gt; Saint Athanasius of Alexandria (...</td>\n",
              "      <td>How long did his episcopate last?</td>\n",
              "    </tr>\n",
              "    <tr>\n",
              "      <th>...</th>\n",
              "      <td>...</td>\n",
              "      <td>...</td>\n",
              "    </tr>\n",
              "    <tr>\n",
              "      <th>87594</th>\n",
              "      <td>September 21, 19 BC &lt;/s&gt; According to the trad...</td>\n",
              "      <td>What date did Virgil die?</td>\n",
              "    </tr>\n",
              "    <tr>\n",
              "      <th>87595</th>\n",
              "      <td>Disraeli &lt;/s&gt; Between April 1877 and February ...</td>\n",
              "      <td>Who lost the Disraeli general election in 1880?</td>\n",
              "    </tr>\n",
              "    <tr>\n",
              "      <th>87596</th>\n",
              "      <td>Denmark &lt;/s&gt; The local government continuously...</td>\n",
              "      <td>What country is the inspiration for Mexico Cit...</td>\n",
              "    </tr>\n",
              "    <tr>\n",
              "      <th>87597</th>\n",
              "      <td>Nuclear surety &lt;/s&gt; Nuclear surety ensures the...</td>\n",
              "      <td>What ensures the safety of nuclear operations?</td>\n",
              "    </tr>\n",
              "    <tr>\n",
              "      <th>87598</th>\n",
              "      <td>Langston University &lt;/s&gt; Oklahoma holds eleven...</td>\n",
              "      <td>What is Oklahoma's only HBCU?</td>\n",
              "    </tr>\n",
              "  </tbody>\n",
              "</table>\n",
              "<p>87599 rows × 2 columns</p>\n",
              "</div>\n",
              "      <button class=\"colab-df-convert\" onclick=\"convertToInteractive('df-a821bf0a-4f0f-4fd9-9a5d-840b6f55ac22')\"\n",
              "              title=\"Convert this dataframe to an interactive table.\"\n",
              "              style=\"display:none;\">\n",
              "        \n",
              "  <svg xmlns=\"http://www.w3.org/2000/svg\" height=\"24px\"viewBox=\"0 0 24 24\"\n",
              "       width=\"24px\">\n",
              "    <path d=\"M0 0h24v24H0V0z\" fill=\"none\"/>\n",
              "    <path d=\"M18.56 5.44l.94 2.06.94-2.06 2.06-.94-2.06-.94-.94-2.06-.94 2.06-2.06.94zm-11 1L8.5 8.5l.94-2.06 2.06-.94-2.06-.94L8.5 2.5l-.94 2.06-2.06.94zm10 10l.94 2.06.94-2.06 2.06-.94-2.06-.94-.94-2.06-.94 2.06-2.06.94z\"/><path d=\"M17.41 7.96l-1.37-1.37c-.4-.4-.92-.59-1.43-.59-.52 0-1.04.2-1.43.59L10.3 9.45l-7.72 7.72c-.78.78-.78 2.05 0 2.83L4 21.41c.39.39.9.59 1.41.59.51 0 1.02-.2 1.41-.59l7.78-7.78 2.81-2.81c.8-.78.8-2.07 0-2.86zM5.41 20L4 18.59l7.72-7.72 1.47 1.35L5.41 20z\"/>\n",
              "  </svg>\n",
              "      </button>\n",
              "      \n",
              "  <style>\n",
              "    .colab-df-container {\n",
              "      display:flex;\n",
              "      flex-wrap:wrap;\n",
              "      gap: 12px;\n",
              "    }\n",
              "\n",
              "    .colab-df-convert {\n",
              "      background-color: #E8F0FE;\n",
              "      border: none;\n",
              "      border-radius: 50%;\n",
              "      cursor: pointer;\n",
              "      display: none;\n",
              "      fill: #1967D2;\n",
              "      height: 32px;\n",
              "      padding: 0 0 0 0;\n",
              "      width: 32px;\n",
              "    }\n",
              "\n",
              "    .colab-df-convert:hover {\n",
              "      background-color: #E2EBFA;\n",
              "      box-shadow: 0px 1px 2px rgba(60, 64, 67, 0.3), 0px 1px 3px 1px rgba(60, 64, 67, 0.15);\n",
              "      fill: #174EA6;\n",
              "    }\n",
              "\n",
              "    [theme=dark] .colab-df-convert {\n",
              "      background-color: #3B4455;\n",
              "      fill: #D2E3FC;\n",
              "    }\n",
              "\n",
              "    [theme=dark] .colab-df-convert:hover {\n",
              "      background-color: #434B5C;\n",
              "      box-shadow: 0px 1px 3px 1px rgba(0, 0, 0, 0.15);\n",
              "      filter: drop-shadow(0px 1px 2px rgba(0, 0, 0, 0.3));\n",
              "      fill: #FFFFFF;\n",
              "    }\n",
              "  </style>\n",
              "\n",
              "      <script>\n",
              "        const buttonEl =\n",
              "          document.querySelector('#df-a821bf0a-4f0f-4fd9-9a5d-840b6f55ac22 button.colab-df-convert');\n",
              "        buttonEl.style.display =\n",
              "          google.colab.kernel.accessAllowed ? 'block' : 'none';\n",
              "\n",
              "        async function convertToInteractive(key) {\n",
              "          const element = document.querySelector('#df-a821bf0a-4f0f-4fd9-9a5d-840b6f55ac22');\n",
              "          const dataTable =\n",
              "            await google.colab.kernel.invokeFunction('convertToInteractive',\n",
              "                                                     [key], {});\n",
              "          if (!dataTable) return;\n",
              "\n",
              "          const docLinkHtml = 'Like what you see? Visit the ' +\n",
              "            '<a target=\"_blank\" href=https://colab.research.google.com/notebooks/data_table.ipynb>data table notebook</a>'\n",
              "            + ' to learn more about interactive tables.';\n",
              "          element.innerHTML = '';\n",
              "          dataTable['output_type'] = 'display_data';\n",
              "          await google.colab.output.renderOutput(dataTable, element);\n",
              "          const docLink = document.createElement('div');\n",
              "          docLink.innerHTML = docLinkHtml;\n",
              "          element.appendChild(docLink);\n",
              "        }\n",
              "      </script>\n",
              "    </div>\n",
              "  </div>\n",
              "  "
            ]
          },
          "metadata": {},
          "execution_count": 14
        }
      ]
    },
    {
      "cell_type": "code",
      "source": [
        "validation_df = pd.DataFrame()\n",
        "validation_df['orig'] = validation_orig\n",
        "validation_df['target'] = validation_target\n",
        "validation_df"
      ],
      "metadata": {
        "colab": {
          "base_uri": "https://localhost:8080/",
          "height": 424
        },
        "id": "5w3w7SPmjvhn",
        "outputId": "e21d4ef7-b308-4798-db1f-0a387c21b700"
      },
      "execution_count": null,
      "outputs": [
        {
          "output_type": "execute_result",
          "data": {
            "text/plain": [
              "                                                    orig  \\\n",
              "0      four </s> Prince Albert appears within the mai...   \n",
              "1      ink </s> When some species, including Bathycte...   \n",
              "2      1835 </s> The Grainger Market replaced an earl...   \n",
              "3      Bills </s> Bills can be introduced to Parliame...   \n",
              "4      the Timucua </s> Jacksonville is in the First ...   \n",
              "...                                                  ...   \n",
              "10565  wireless </s> On 30 July 1891, at the age of 3...   \n",
              "10566  TFEU article 294 </s> To make new legislation,...   \n",
              "10567  45 million people </s> Kenya (/ˈkɛnjə/; locall...   \n",
              "10568  spring of 1349 </s> The study also found that ...   \n",
              "10569  Andrew Lortie </s> Both before and after the 1...   \n",
              "\n",
              "                                                  target  \n",
              "0      How many levels of galleries do the façades su...  \n",
              "1               What are the secretions commonly called?  \n",
              "2         When did Newcastle's first indoor market open?  \n",
              "3      What may be presented to Parliament in various...  \n",
              "4      Prior to the arrival of the French, the area n...  \n",
              "...                                                  ...  \n",
              "10565  What sort of power transmission did Tesla show...  \n",
              "10566  Which TFEU article defines the ordinary legisl...  \n",
              "10567          What was the population of Kenya in 2014?  \n",
              "10568              When did the y. pestis reach England?  \n",
              "10569  Who was the famous Huguenot theologian and wri...  \n",
              "\n",
              "[10570 rows x 2 columns]"
            ],
            "text/html": [
              "\n",
              "  <div id=\"df-b793a08f-8a85-4ff3-8ba4-7b208d99d6e1\">\n",
              "    <div class=\"colab-df-container\">\n",
              "      <div>\n",
              "<style scoped>\n",
              "    .dataframe tbody tr th:only-of-type {\n",
              "        vertical-align: middle;\n",
              "    }\n",
              "\n",
              "    .dataframe tbody tr th {\n",
              "        vertical-align: top;\n",
              "    }\n",
              "\n",
              "    .dataframe thead th {\n",
              "        text-align: right;\n",
              "    }\n",
              "</style>\n",
              "<table border=\"1\" class=\"dataframe\">\n",
              "  <thead>\n",
              "    <tr style=\"text-align: right;\">\n",
              "      <th></th>\n",
              "      <th>orig</th>\n",
              "      <th>target</th>\n",
              "    </tr>\n",
              "  </thead>\n",
              "  <tbody>\n",
              "    <tr>\n",
              "      <th>0</th>\n",
              "      <td>four &lt;/s&gt; Prince Albert appears within the mai...</td>\n",
              "      <td>How many levels of galleries do the façades su...</td>\n",
              "    </tr>\n",
              "    <tr>\n",
              "      <th>1</th>\n",
              "      <td>ink &lt;/s&gt; When some species, including Bathycte...</td>\n",
              "      <td>What are the secretions commonly called?</td>\n",
              "    </tr>\n",
              "    <tr>\n",
              "      <th>2</th>\n",
              "      <td>1835 &lt;/s&gt; The Grainger Market replaced an earl...</td>\n",
              "      <td>When did Newcastle's first indoor market open?</td>\n",
              "    </tr>\n",
              "    <tr>\n",
              "      <th>3</th>\n",
              "      <td>Bills &lt;/s&gt; Bills can be introduced to Parliame...</td>\n",
              "      <td>What may be presented to Parliament in various...</td>\n",
              "    </tr>\n",
              "    <tr>\n",
              "      <th>4</th>\n",
              "      <td>the Timucua &lt;/s&gt; Jacksonville is in the First ...</td>\n",
              "      <td>Prior to the arrival of the French, the area n...</td>\n",
              "    </tr>\n",
              "    <tr>\n",
              "      <th>...</th>\n",
              "      <td>...</td>\n",
              "      <td>...</td>\n",
              "    </tr>\n",
              "    <tr>\n",
              "      <th>10565</th>\n",
              "      <td>wireless &lt;/s&gt; On 30 July 1891, at the age of 3...</td>\n",
              "      <td>What sort of power transmission did Tesla show...</td>\n",
              "    </tr>\n",
              "    <tr>\n",
              "      <th>10566</th>\n",
              "      <td>TFEU article 294 &lt;/s&gt; To make new legislation,...</td>\n",
              "      <td>Which TFEU article defines the ordinary legisl...</td>\n",
              "    </tr>\n",
              "    <tr>\n",
              "      <th>10567</th>\n",
              "      <td>45 million people &lt;/s&gt; Kenya (/ˈkɛnjə/; locall...</td>\n",
              "      <td>What was the population of Kenya in 2014?</td>\n",
              "    </tr>\n",
              "    <tr>\n",
              "      <th>10568</th>\n",
              "      <td>spring of 1349 &lt;/s&gt; The study also found that ...</td>\n",
              "      <td>When did the y. pestis reach England?</td>\n",
              "    </tr>\n",
              "    <tr>\n",
              "      <th>10569</th>\n",
              "      <td>Andrew Lortie &lt;/s&gt; Both before and after the 1...</td>\n",
              "      <td>Who was the famous Huguenot theologian and wri...</td>\n",
              "    </tr>\n",
              "  </tbody>\n",
              "</table>\n",
              "<p>10570 rows × 2 columns</p>\n",
              "</div>\n",
              "      <button class=\"colab-df-convert\" onclick=\"convertToInteractive('df-b793a08f-8a85-4ff3-8ba4-7b208d99d6e1')\"\n",
              "              title=\"Convert this dataframe to an interactive table.\"\n",
              "              style=\"display:none;\">\n",
              "        \n",
              "  <svg xmlns=\"http://www.w3.org/2000/svg\" height=\"24px\"viewBox=\"0 0 24 24\"\n",
              "       width=\"24px\">\n",
              "    <path d=\"M0 0h24v24H0V0z\" fill=\"none\"/>\n",
              "    <path d=\"M18.56 5.44l.94 2.06.94-2.06 2.06-.94-2.06-.94-.94-2.06-.94 2.06-2.06.94zm-11 1L8.5 8.5l.94-2.06 2.06-.94-2.06-.94L8.5 2.5l-.94 2.06-2.06.94zm10 10l.94 2.06.94-2.06 2.06-.94-2.06-.94-.94-2.06-.94 2.06-2.06.94z\"/><path d=\"M17.41 7.96l-1.37-1.37c-.4-.4-.92-.59-1.43-.59-.52 0-1.04.2-1.43.59L10.3 9.45l-7.72 7.72c-.78.78-.78 2.05 0 2.83L4 21.41c.39.39.9.59 1.41.59.51 0 1.02-.2 1.41-.59l7.78-7.78 2.81-2.81c.8-.78.8-2.07 0-2.86zM5.41 20L4 18.59l7.72-7.72 1.47 1.35L5.41 20z\"/>\n",
              "  </svg>\n",
              "      </button>\n",
              "      \n",
              "  <style>\n",
              "    .colab-df-container {\n",
              "      display:flex;\n",
              "      flex-wrap:wrap;\n",
              "      gap: 12px;\n",
              "    }\n",
              "\n",
              "    .colab-df-convert {\n",
              "      background-color: #E8F0FE;\n",
              "      border: none;\n",
              "      border-radius: 50%;\n",
              "      cursor: pointer;\n",
              "      display: none;\n",
              "      fill: #1967D2;\n",
              "      height: 32px;\n",
              "      padding: 0 0 0 0;\n",
              "      width: 32px;\n",
              "    }\n",
              "\n",
              "    .colab-df-convert:hover {\n",
              "      background-color: #E2EBFA;\n",
              "      box-shadow: 0px 1px 2px rgba(60, 64, 67, 0.3), 0px 1px 3px 1px rgba(60, 64, 67, 0.15);\n",
              "      fill: #174EA6;\n",
              "    }\n",
              "\n",
              "    [theme=dark] .colab-df-convert {\n",
              "      background-color: #3B4455;\n",
              "      fill: #D2E3FC;\n",
              "    }\n",
              "\n",
              "    [theme=dark] .colab-df-convert:hover {\n",
              "      background-color: #434B5C;\n",
              "      box-shadow: 0px 1px 3px 1px rgba(0, 0, 0, 0.15);\n",
              "      filter: drop-shadow(0px 1px 2px rgba(0, 0, 0, 0.3));\n",
              "      fill: #FFFFFF;\n",
              "    }\n",
              "  </style>\n",
              "\n",
              "      <script>\n",
              "        const buttonEl =\n",
              "          document.querySelector('#df-b793a08f-8a85-4ff3-8ba4-7b208d99d6e1 button.colab-df-convert');\n",
              "        buttonEl.style.display =\n",
              "          google.colab.kernel.accessAllowed ? 'block' : 'none';\n",
              "\n",
              "        async function convertToInteractive(key) {\n",
              "          const element = document.querySelector('#df-b793a08f-8a85-4ff3-8ba4-7b208d99d6e1');\n",
              "          const dataTable =\n",
              "            await google.colab.kernel.invokeFunction('convertToInteractive',\n",
              "                                                     [key], {});\n",
              "          if (!dataTable) return;\n",
              "\n",
              "          const docLinkHtml = 'Like what you see? Visit the ' +\n",
              "            '<a target=\"_blank\" href=https://colab.research.google.com/notebooks/data_table.ipynb>data table notebook</a>'\n",
              "            + ' to learn more about interactive tables.';\n",
              "          element.innerHTML = '';\n",
              "          dataTable['output_type'] = 'display_data';\n",
              "          await google.colab.output.renderOutput(dataTable, element);\n",
              "          const docLink = document.createElement('div');\n",
              "          docLink.innerHTML = docLinkHtml;\n",
              "          element.appendChild(docLink);\n",
              "        }\n",
              "      </script>\n",
              "    </div>\n",
              "  </div>\n",
              "  "
            ]
          },
          "metadata": {},
          "execution_count": 15
        }
      ]
    },
    {
      "cell_type": "code",
      "source": [
        "train_pairs = training_df.shape[0]\n",
        "valid_pairs = validation_df.shape[0]\n",
        "\n",
        "print(f\"{train_pairs} training pairs\")\n",
        "print(f\"{valid_pairs} validation pairs\")"
      ],
      "metadata": {
        "colab": {
          "base_uri": "https://localhost:8080/"
        },
        "id": "kJWvt6vxjvkA",
        "outputId": "f5cb0d37-cd5c-4c33-d337-9316e5074081"
      },
      "execution_count": null,
      "outputs": [
        {
          "output_type": "stream",
          "name": "stdout",
          "text": [
            "87599 training pairs\n",
            "10570 validation pairs\n"
          ]
        }
      ]
    },
    {
      "cell_type": "code",
      "source": [
        "# Save splits to separate csv files, to load only part at a time later\n",
        "\n",
        "train_file = '/content/drive/MyDrive/w266 NLP Final Project/Data/train_pairs.csv'\n",
        "valid_file = '/content/drive/MyDrive/w266 NLP Final Project/Data//valid_pairs.csv'\n",
        "\n",
        "training_df.to_csv(train_file)\n",
        "validation_df.to_csv(valid_file)"
      ],
      "metadata": {
        "id": "iUaKgidPxNWY"
      },
      "execution_count": null,
      "outputs": []
    },
    {
      "cell_type": "markdown",
      "source": [
        "Load formatted inputs and outputs"
      ],
      "metadata": {
        "id": "rTkbphXDlozU"
      }
    },
    {
      "cell_type": "code",
      "source": [
        "training_df = pd.read_csv(train_file)\n",
        "validation_df = pd.read_csv(valid_file)"
      ],
      "metadata": {
        "id": "yxWA-9cZxbaK"
      },
      "execution_count": null,
      "outputs": []
    },
    {
      "cell_type": "code",
      "source": [
        "training_df[:2]"
      ],
      "metadata": {
        "colab": {
          "base_uri": "https://localhost:8080/",
          "height": 112
        },
        "id": "3pxVCHJpjvrz",
        "outputId": "0401c6a0-1b68-4a33-ec03-596fa062a9c4"
      },
      "execution_count": null,
      "outputs": [
        {
          "output_type": "execute_result",
          "data": {
            "text/plain": [
              "   Unnamed: 0                                               orig  \\\n",
              "0           0  biotech companies </s> Prior to moving its hea...   \n",
              "1           1  Tytus Woyciechowski </s> Four boarders at his ...   \n",
              "\n",
              "                                              target  \n",
              "0  What type of businesses did Nickles want to at...  \n",
              "1  To whom did Chopin reveal in letters which par...  "
            ],
            "text/html": [
              "\n",
              "  <div id=\"df-32a89d4c-38a8-42b3-a63d-da47bef0729a\">\n",
              "    <div class=\"colab-df-container\">\n",
              "      <div>\n",
              "<style scoped>\n",
              "    .dataframe tbody tr th:only-of-type {\n",
              "        vertical-align: middle;\n",
              "    }\n",
              "\n",
              "    .dataframe tbody tr th {\n",
              "        vertical-align: top;\n",
              "    }\n",
              "\n",
              "    .dataframe thead th {\n",
              "        text-align: right;\n",
              "    }\n",
              "</style>\n",
              "<table border=\"1\" class=\"dataframe\">\n",
              "  <thead>\n",
              "    <tr style=\"text-align: right;\">\n",
              "      <th></th>\n",
              "      <th>Unnamed: 0</th>\n",
              "      <th>orig</th>\n",
              "      <th>target</th>\n",
              "    </tr>\n",
              "  </thead>\n",
              "  <tbody>\n",
              "    <tr>\n",
              "      <th>0</th>\n",
              "      <td>0</td>\n",
              "      <td>biotech companies &lt;/s&gt; Prior to moving its hea...</td>\n",
              "      <td>What type of businesses did Nickles want to at...</td>\n",
              "    </tr>\n",
              "    <tr>\n",
              "      <th>1</th>\n",
              "      <td>1</td>\n",
              "      <td>Tytus Woyciechowski &lt;/s&gt; Four boarders at his ...</td>\n",
              "      <td>To whom did Chopin reveal in letters which par...</td>\n",
              "    </tr>\n",
              "  </tbody>\n",
              "</table>\n",
              "</div>\n",
              "      <button class=\"colab-df-convert\" onclick=\"convertToInteractive('df-32a89d4c-38a8-42b3-a63d-da47bef0729a')\"\n",
              "              title=\"Convert this dataframe to an interactive table.\"\n",
              "              style=\"display:none;\">\n",
              "        \n",
              "  <svg xmlns=\"http://www.w3.org/2000/svg\" height=\"24px\"viewBox=\"0 0 24 24\"\n",
              "       width=\"24px\">\n",
              "    <path d=\"M0 0h24v24H0V0z\" fill=\"none\"/>\n",
              "    <path d=\"M18.56 5.44l.94 2.06.94-2.06 2.06-.94-2.06-.94-.94-2.06-.94 2.06-2.06.94zm-11 1L8.5 8.5l.94-2.06 2.06-.94-2.06-.94L8.5 2.5l-.94 2.06-2.06.94zm10 10l.94 2.06.94-2.06 2.06-.94-2.06-.94-.94-2.06-.94 2.06-2.06.94z\"/><path d=\"M17.41 7.96l-1.37-1.37c-.4-.4-.92-.59-1.43-.59-.52 0-1.04.2-1.43.59L10.3 9.45l-7.72 7.72c-.78.78-.78 2.05 0 2.83L4 21.41c.39.39.9.59 1.41.59.51 0 1.02-.2 1.41-.59l7.78-7.78 2.81-2.81c.8-.78.8-2.07 0-2.86zM5.41 20L4 18.59l7.72-7.72 1.47 1.35L5.41 20z\"/>\n",
              "  </svg>\n",
              "      </button>\n",
              "      \n",
              "  <style>\n",
              "    .colab-df-container {\n",
              "      display:flex;\n",
              "      flex-wrap:wrap;\n",
              "      gap: 12px;\n",
              "    }\n",
              "\n",
              "    .colab-df-convert {\n",
              "      background-color: #E8F0FE;\n",
              "      border: none;\n",
              "      border-radius: 50%;\n",
              "      cursor: pointer;\n",
              "      display: none;\n",
              "      fill: #1967D2;\n",
              "      height: 32px;\n",
              "      padding: 0 0 0 0;\n",
              "      width: 32px;\n",
              "    }\n",
              "\n",
              "    .colab-df-convert:hover {\n",
              "      background-color: #E2EBFA;\n",
              "      box-shadow: 0px 1px 2px rgba(60, 64, 67, 0.3), 0px 1px 3px 1px rgba(60, 64, 67, 0.15);\n",
              "      fill: #174EA6;\n",
              "    }\n",
              "\n",
              "    [theme=dark] .colab-df-convert {\n",
              "      background-color: #3B4455;\n",
              "      fill: #D2E3FC;\n",
              "    }\n",
              "\n",
              "    [theme=dark] .colab-df-convert:hover {\n",
              "      background-color: #434B5C;\n",
              "      box-shadow: 0px 1px 3px 1px rgba(0, 0, 0, 0.15);\n",
              "      filter: drop-shadow(0px 1px 2px rgba(0, 0, 0, 0.3));\n",
              "      fill: #FFFFFF;\n",
              "    }\n",
              "  </style>\n",
              "\n",
              "      <script>\n",
              "        const buttonEl =\n",
              "          document.querySelector('#df-32a89d4c-38a8-42b3-a63d-da47bef0729a button.colab-df-convert');\n",
              "        buttonEl.style.display =\n",
              "          google.colab.kernel.accessAllowed ? 'block' : 'none';\n",
              "\n",
              "        async function convertToInteractive(key) {\n",
              "          const element = document.querySelector('#df-32a89d4c-38a8-42b3-a63d-da47bef0729a');\n",
              "          const dataTable =\n",
              "            await google.colab.kernel.invokeFunction('convertToInteractive',\n",
              "                                                     [key], {});\n",
              "          if (!dataTable) return;\n",
              "\n",
              "          const docLinkHtml = 'Like what you see? Visit the ' +\n",
              "            '<a target=\"_blank\" href=https://colab.research.google.com/notebooks/data_table.ipynb>data table notebook</a>'\n",
              "            + ' to learn more about interactive tables.';\n",
              "          element.innerHTML = '';\n",
              "          dataTable['output_type'] = 'display_data';\n",
              "          await google.colab.output.renderOutput(dataTable, element);\n",
              "          const docLink = document.createElement('div');\n",
              "          docLink.innerHTML = docLinkHtml;\n",
              "          element.appendChild(docLink);\n",
              "        }\n",
              "      </script>\n",
              "    </div>\n",
              "  </div>\n",
              "  "
            ]
          },
          "metadata": {},
          "execution_count": 19
        }
      ]
    },
    {
      "cell_type": "markdown",
      "source": [
        "Preprocess data"
      ],
      "metadata": {
        "id": "6RRhJpZjmBHw"
      }
    },
    {
      "cell_type": "code",
      "source": [
        "def preprocess_data_pt(text_pair, tokenizer, max_length=1024):\n",
        "    orig_text, target_text = text_pair\n",
        "    orig_encoded = tokenizer.batch_encode_plus(\n",
        "        [orig_text],\n",
        "        max_length=max_length,\n",
        "        padding='max_length',\n",
        "        truncation=True,\n",
        "        return_attention_mask=True,\n",
        "        return_tensors='pt'\n",
        "    )\n",
        "\n",
        "    orig_input_ids = orig_encoded['input_ids'][0]\n",
        "    orig_attention_mask = orig_encoded['attention_mask'][0]\n",
        "    \n",
        "    target_encoded = tokenizer.batch_encode_plus(\n",
        "        [target_text],\n",
        "        max_length=max_length,\n",
        "        padding='max_length',\n",
        "        truncation=True,\n",
        "        return_attention_mask=True,\n",
        "        return_tensors='pt'\n",
        "    )\n",
        "    \n",
        "    label_ids = target_encoded['input_ids'][0]\n",
        "    \n",
        "    return {'input_ids': orig_input_ids,\n",
        "            'attention_mask': orig_attention_mask,\n",
        "            'labels': label_ids}"
      ],
      "metadata": {
        "id": "rUjCzNQZjvus"
      },
      "execution_count": null,
      "outputs": []
    },
    {
      "cell_type": "code",
      "source": [
        "class QuestionDataGenerator(tf.keras.utils.Sequence):\n",
        "    \n",
        "    def __init__(self,\n",
        "                 tokenizer,\n",
        "                 n_examples,\n",
        "                 data_filename,\n",
        "                 max_length=1024,\n",
        "                 shuffle=True):\n",
        "        \n",
        "        self.tokenizer = tokenizer\n",
        "        self.n_examples = n_examples\n",
        "        self.data_filename = data_filename\n",
        "        self.max_length = max_length\n",
        "        self.shuffle = shuffle\n",
        "        \n",
        "        # Initialize row order, call on_epoch_end to shuffle row indices\n",
        "        self.row_order = np.arange(1, self.n_examples+1)\n",
        "        self.on_epoch_end()\n",
        "    \n",
        "    def __len__(self):\n",
        "        return self.n_examples\n",
        "    \n",
        "    def __getitem__(self, idx):\n",
        "        row_to_load = self.row_order[idx]\n",
        "        df = pd.read_csv(self.data_filename,\n",
        "                         skiprows=range(1, row_to_load),\n",
        "                         nrows=1)\n",
        "        \n",
        "        text_pairs = df[['orig', 'target']].values.astype(str)[0]\n",
        "        \n",
        "        batch_data = preprocess_data_pt(\n",
        "            text_pairs,\n",
        "            self.tokenizer,\n",
        "            self.max_length\n",
        "        )\n",
        "\n",
        "        return batch_data\n",
        "    \n",
        "    def __call__(self):\n",
        "        for i in range(self.__len__()):\n",
        "            yield self.__getitem__(i)\n",
        "            \n",
        "            if i == self.__len__()-1:\n",
        "                self.on_epoch_end()\n",
        "    \n",
        "    def on_epoch_end(self):\n",
        "        if self.shuffle:\n",
        "            self.row_order = list(np.random.permutation(self.row_order))"
      ],
      "metadata": {
        "id": "43m4qSGomAZ9"
      },
      "execution_count": null,
      "outputs": []
    },
    {
      "cell_type": "code",
      "source": [
        "# Load the pretrained tensorflow model\n",
        "\n",
        "model_name = 'facebook/bart-base'\n",
        "bart_tokenizer = BartTokenizer.from_pretrained(model_name)\n",
        "bart_model = BartForConditionalGeneration.from_pretrained(model_name)"
      ],
      "metadata": {
        "id": "gAwBs4uanDAa"
      },
      "execution_count": null,
      "outputs": []
    },
    {
      "cell_type": "code",
      "source": [
        "# Create the data iterators for train and validation data, pytorch version\n",
        "\n",
        "max_length = 128\n",
        "\n",
        "train_data_generator = QuestionDataGenerator(\n",
        "    tokenizer=bart_tokenizer,\n",
        "    n_examples=train_pairs,\n",
        "    data_filename=train_file,\n",
        "    max_length=max_length\n",
        ")\n",
        "\n",
        "valid_data_generator = QuestionDataGenerator(\n",
        "    tokenizer=bart_tokenizer,\n",
        "    n_examples=valid_pairs,\n",
        "    data_filename=valid_file,\n",
        "    max_length=max_length\n",
        ")"
      ],
      "metadata": {
        "id": "HuzAUi3dmAcS"
      },
      "execution_count": null,
      "outputs": []
    },
    {
      "cell_type": "code",
      "source": [
        "# Specify batch size and other training arguments\n",
        "\n",
        "batch_size = 8\n",
        "\n",
        "# Modify this filepath to where you want to save the model after fine-tuning\n",
        "dir_path = '/content/drive/MyDrive/w266 NLP Final Project/Models/BB BART/'\n",
        "file_path = dir_path + 'bartbase-finetuned-squad'\n",
        "\n",
        "args = Seq2SeqTrainingArguments(\n",
        "    file_path,\n",
        "    evaluation_strategy='epoch',\n",
        "    per_device_train_batch_size=batch_size,\n",
        "    per_device_eval_batch_size=batch_size,\n",
        "    num_train_epochs=1,\n",
        ")"
      ],
      "metadata": {
        "colab": {
          "base_uri": "https://localhost:8080/"
        },
        "id": "NmZkiibgswTr",
        "outputId": "e44ab721-7369-4614-bf4b-afc9894294b0"
      },
      "execution_count": null,
      "outputs": [
        {
          "output_type": "stream",
          "name": "stderr",
          "text": [
            "PyTorch: setting up devices\n",
            "The default value for the training argument `--report_to` will change in v5 (from all installed integrations to none). In v5, you will need to use `--report_to all` to get the same behavior as now. You should start updating your code and make this info disappear :-).\n"
          ]
        }
      ]
    },
    {
      "cell_type": "code",
      "source": [
        "# Define the trainer, passing in the model, training args, and data generators\n",
        "\n",
        "trainer = Seq2SeqTrainer(\n",
        "    bart_model,\n",
        "    args,\n",
        "    train_dataset=train_data_generator,\n",
        "    eval_dataset=valid_data_generator\n",
        ")"
      ],
      "metadata": {
        "id": "MdoOMOYgtF0c"
      },
      "execution_count": null,
      "outputs": []
    },
    {
      "cell_type": "code",
      "source": [
        "# Call train\n",
        "\n",
        "trainer.train()\n",
        "#(resume_from_checkpoint=True)"
      ],
      "metadata": {
        "colab": {
          "base_uri": "https://localhost:8080/",
          "height": 1000
        },
        "id": "d5M3yvTTtF2k",
        "outputId": "f7636c89-791d-4bbe-a2ac-e11984cc57f4"
      },
      "execution_count": null,
      "outputs": [
        {
          "output_type": "stream",
          "name": "stderr",
          "text": [
            "***** Running training *****\n",
            "  Num examples = 87599\n",
            "  Num Epochs = 1\n",
            "  Instantaneous batch size per device = 8\n",
            "  Total train batch size (w. parallel, distributed & accumulation) = 8\n",
            "  Gradient Accumulation steps = 1\n",
            "  Total optimization steps = 10950\n"
          ]
        },
        {
          "output_type": "display_data",
          "data": {
            "text/plain": [
              "<IPython.core.display.HTML object>"
            ],
            "text/html": [
              "\n",
              "    <div>\n",
              "      \n",
              "      <progress value='10950' max='10950' style='width:300px; height:20px; vertical-align: middle;'></progress>\n",
              "      [10950/10950 7:23:43, Epoch 1/1]\n",
              "    </div>\n",
              "    <table border=\"1\" class=\"dataframe\">\n",
              "  <thead>\n",
              " <tr style=\"text-align: left;\">\n",
              "      <th>Epoch</th>\n",
              "      <th>Training Loss</th>\n",
              "      <th>Validation Loss</th>\n",
              "    </tr>\n",
              "  </thead>\n",
              "  <tbody>\n",
              "    <tr>\n",
              "      <td>1</td>\n",
              "      <td>0.197000</td>\n",
              "      <td>0.187626</td>\n",
              "    </tr>\n",
              "  </tbody>\n",
              "</table><p>"
            ]
          },
          "metadata": {}
        },
        {
          "output_type": "stream",
          "name": "stderr",
          "text": [
            "Saving model checkpoint to /content/drive/MyDrive/w266 NLP Final Project/Models/BB BART/bartbase-finetuned-squad/checkpoint-500\n",
            "Configuration saved in /content/drive/MyDrive/w266 NLP Final Project/Models/BB BART/bartbase-finetuned-squad/checkpoint-500/config.json\n",
            "Model weights saved in /content/drive/MyDrive/w266 NLP Final Project/Models/BB BART/bartbase-finetuned-squad/checkpoint-500/pytorch_model.bin\n",
            "Saving model checkpoint to /content/drive/MyDrive/w266 NLP Final Project/Models/BB BART/bartbase-finetuned-squad/checkpoint-1000\n",
            "Configuration saved in /content/drive/MyDrive/w266 NLP Final Project/Models/BB BART/bartbase-finetuned-squad/checkpoint-1000/config.json\n",
            "Model weights saved in /content/drive/MyDrive/w266 NLP Final Project/Models/BB BART/bartbase-finetuned-squad/checkpoint-1000/pytorch_model.bin\n",
            "Saving model checkpoint to /content/drive/MyDrive/w266 NLP Final Project/Models/BB BART/bartbase-finetuned-squad/checkpoint-1500\n",
            "Configuration saved in /content/drive/MyDrive/w266 NLP Final Project/Models/BB BART/bartbase-finetuned-squad/checkpoint-1500/config.json\n",
            "Model weights saved in /content/drive/MyDrive/w266 NLP Final Project/Models/BB BART/bartbase-finetuned-squad/checkpoint-1500/pytorch_model.bin\n",
            "Saving model checkpoint to /content/drive/MyDrive/w266 NLP Final Project/Models/BB BART/bartbase-finetuned-squad/checkpoint-2000\n",
            "Configuration saved in /content/drive/MyDrive/w266 NLP Final Project/Models/BB BART/bartbase-finetuned-squad/checkpoint-2000/config.json\n",
            "Model weights saved in /content/drive/MyDrive/w266 NLP Final Project/Models/BB BART/bartbase-finetuned-squad/checkpoint-2000/pytorch_model.bin\n",
            "Saving model checkpoint to /content/drive/MyDrive/w266 NLP Final Project/Models/BB BART/bartbase-finetuned-squad/checkpoint-2500\n",
            "Configuration saved in /content/drive/MyDrive/w266 NLP Final Project/Models/BB BART/bartbase-finetuned-squad/checkpoint-2500/config.json\n",
            "Model weights saved in /content/drive/MyDrive/w266 NLP Final Project/Models/BB BART/bartbase-finetuned-squad/checkpoint-2500/pytorch_model.bin\n",
            "Saving model checkpoint to /content/drive/MyDrive/w266 NLP Final Project/Models/BB BART/bartbase-finetuned-squad/checkpoint-3000\n",
            "Configuration saved in /content/drive/MyDrive/w266 NLP Final Project/Models/BB BART/bartbase-finetuned-squad/checkpoint-3000/config.json\n",
            "Model weights saved in /content/drive/MyDrive/w266 NLP Final Project/Models/BB BART/bartbase-finetuned-squad/checkpoint-3000/pytorch_model.bin\n",
            "Saving model checkpoint to /content/drive/MyDrive/w266 NLP Final Project/Models/BB BART/bartbase-finetuned-squad/checkpoint-3500\n",
            "Configuration saved in /content/drive/MyDrive/w266 NLP Final Project/Models/BB BART/bartbase-finetuned-squad/checkpoint-3500/config.json\n",
            "Model weights saved in /content/drive/MyDrive/w266 NLP Final Project/Models/BB BART/bartbase-finetuned-squad/checkpoint-3500/pytorch_model.bin\n",
            "Saving model checkpoint to /content/drive/MyDrive/w266 NLP Final Project/Models/BB BART/bartbase-finetuned-squad/checkpoint-4000\n",
            "Configuration saved in /content/drive/MyDrive/w266 NLP Final Project/Models/BB BART/bartbase-finetuned-squad/checkpoint-4000/config.json\n",
            "Model weights saved in /content/drive/MyDrive/w266 NLP Final Project/Models/BB BART/bartbase-finetuned-squad/checkpoint-4000/pytorch_model.bin\n",
            "Saving model checkpoint to /content/drive/MyDrive/w266 NLP Final Project/Models/BB BART/bartbase-finetuned-squad/checkpoint-4500\n",
            "Configuration saved in /content/drive/MyDrive/w266 NLP Final Project/Models/BB BART/bartbase-finetuned-squad/checkpoint-4500/config.json\n",
            "Model weights saved in /content/drive/MyDrive/w266 NLP Final Project/Models/BB BART/bartbase-finetuned-squad/checkpoint-4500/pytorch_model.bin\n",
            "Saving model checkpoint to /content/drive/MyDrive/w266 NLP Final Project/Models/BB BART/bartbase-finetuned-squad/checkpoint-5000\n",
            "Configuration saved in /content/drive/MyDrive/w266 NLP Final Project/Models/BB BART/bartbase-finetuned-squad/checkpoint-5000/config.json\n",
            "Model weights saved in /content/drive/MyDrive/w266 NLP Final Project/Models/BB BART/bartbase-finetuned-squad/checkpoint-5000/pytorch_model.bin\n",
            "Saving model checkpoint to /content/drive/MyDrive/w266 NLP Final Project/Models/BB BART/bartbase-finetuned-squad/checkpoint-5500\n",
            "Configuration saved in /content/drive/MyDrive/w266 NLP Final Project/Models/BB BART/bartbase-finetuned-squad/checkpoint-5500/config.json\n",
            "Model weights saved in /content/drive/MyDrive/w266 NLP Final Project/Models/BB BART/bartbase-finetuned-squad/checkpoint-5500/pytorch_model.bin\n",
            "Saving model checkpoint to /content/drive/MyDrive/w266 NLP Final Project/Models/BB BART/bartbase-finetuned-squad/checkpoint-6000\n",
            "Configuration saved in /content/drive/MyDrive/w266 NLP Final Project/Models/BB BART/bartbase-finetuned-squad/checkpoint-6000/config.json\n",
            "Model weights saved in /content/drive/MyDrive/w266 NLP Final Project/Models/BB BART/bartbase-finetuned-squad/checkpoint-6000/pytorch_model.bin\n",
            "Saving model checkpoint to /content/drive/MyDrive/w266 NLP Final Project/Models/BB BART/bartbase-finetuned-squad/checkpoint-6500\n",
            "Configuration saved in /content/drive/MyDrive/w266 NLP Final Project/Models/BB BART/bartbase-finetuned-squad/checkpoint-6500/config.json\n",
            "Model weights saved in /content/drive/MyDrive/w266 NLP Final Project/Models/BB BART/bartbase-finetuned-squad/checkpoint-6500/pytorch_model.bin\n",
            "Saving model checkpoint to /content/drive/MyDrive/w266 NLP Final Project/Models/BB BART/bartbase-finetuned-squad/checkpoint-7000\n",
            "Configuration saved in /content/drive/MyDrive/w266 NLP Final Project/Models/BB BART/bartbase-finetuned-squad/checkpoint-7000/config.json\n",
            "Model weights saved in /content/drive/MyDrive/w266 NLP Final Project/Models/BB BART/bartbase-finetuned-squad/checkpoint-7000/pytorch_model.bin\n",
            "Saving model checkpoint to /content/drive/MyDrive/w266 NLP Final Project/Models/BB BART/bartbase-finetuned-squad/checkpoint-7500\n",
            "Configuration saved in /content/drive/MyDrive/w266 NLP Final Project/Models/BB BART/bartbase-finetuned-squad/checkpoint-7500/config.json\n",
            "Model weights saved in /content/drive/MyDrive/w266 NLP Final Project/Models/BB BART/bartbase-finetuned-squad/checkpoint-7500/pytorch_model.bin\n",
            "Saving model checkpoint to /content/drive/MyDrive/w266 NLP Final Project/Models/BB BART/bartbase-finetuned-squad/checkpoint-8000\n",
            "Configuration saved in /content/drive/MyDrive/w266 NLP Final Project/Models/BB BART/bartbase-finetuned-squad/checkpoint-8000/config.json\n",
            "Model weights saved in /content/drive/MyDrive/w266 NLP Final Project/Models/BB BART/bartbase-finetuned-squad/checkpoint-8000/pytorch_model.bin\n",
            "Saving model checkpoint to /content/drive/MyDrive/w266 NLP Final Project/Models/BB BART/bartbase-finetuned-squad/checkpoint-8500\n",
            "Configuration saved in /content/drive/MyDrive/w266 NLP Final Project/Models/BB BART/bartbase-finetuned-squad/checkpoint-8500/config.json\n",
            "Model weights saved in /content/drive/MyDrive/w266 NLP Final Project/Models/BB BART/bartbase-finetuned-squad/checkpoint-8500/pytorch_model.bin\n",
            "Saving model checkpoint to /content/drive/MyDrive/w266 NLP Final Project/Models/BB BART/bartbase-finetuned-squad/checkpoint-9000\n",
            "Configuration saved in /content/drive/MyDrive/w266 NLP Final Project/Models/BB BART/bartbase-finetuned-squad/checkpoint-9000/config.json\n",
            "Model weights saved in /content/drive/MyDrive/w266 NLP Final Project/Models/BB BART/bartbase-finetuned-squad/checkpoint-9000/pytorch_model.bin\n",
            "Saving model checkpoint to /content/drive/MyDrive/w266 NLP Final Project/Models/BB BART/bartbase-finetuned-squad/checkpoint-9500\n",
            "Configuration saved in /content/drive/MyDrive/w266 NLP Final Project/Models/BB BART/bartbase-finetuned-squad/checkpoint-9500/config.json\n",
            "Model weights saved in /content/drive/MyDrive/w266 NLP Final Project/Models/BB BART/bartbase-finetuned-squad/checkpoint-9500/pytorch_model.bin\n",
            "Saving model checkpoint to /content/drive/MyDrive/w266 NLP Final Project/Models/BB BART/bartbase-finetuned-squad/checkpoint-10000\n",
            "Configuration saved in /content/drive/MyDrive/w266 NLP Final Project/Models/BB BART/bartbase-finetuned-squad/checkpoint-10000/config.json\n",
            "Model weights saved in /content/drive/MyDrive/w266 NLP Final Project/Models/BB BART/bartbase-finetuned-squad/checkpoint-10000/pytorch_model.bin\n",
            "Saving model checkpoint to /content/drive/MyDrive/w266 NLP Final Project/Models/BB BART/bartbase-finetuned-squad/checkpoint-10500\n",
            "Configuration saved in /content/drive/MyDrive/w266 NLP Final Project/Models/BB BART/bartbase-finetuned-squad/checkpoint-10500/config.json\n",
            "Model weights saved in /content/drive/MyDrive/w266 NLP Final Project/Models/BB BART/bartbase-finetuned-squad/checkpoint-10500/pytorch_model.bin\n",
            "***** Running Evaluation *****\n",
            "  Num examples = 10570\n",
            "  Batch size = 8\n",
            "\n",
            "\n",
            "Training completed. Do not forget to share your model on huggingface.co/models =)\n",
            "\n",
            "\n"
          ]
        },
        {
          "output_type": "execute_result",
          "data": {
            "text/plain": [
              "TrainOutput(global_step=10950, training_loss=0.23382746587605238, metrics={'train_runtime': 26625.6711, 'train_samples_per_second': 3.29, 'train_steps_per_second': 0.411, 'total_flos': 6676538000670720.0, 'train_loss': 0.23382746587605238, 'epoch': 1.0})"
            ]
          },
          "metadata": {},
          "execution_count": 75
        }
      ]
    },
    {
      "cell_type": "markdown",
      "source": [
        "Save model"
      ],
      "metadata": {
        "id": "MpDVU4iXylZu"
      }
    },
    {
      "cell_type": "code",
      "source": [
        "dir_path = \"/content/drive/MyDrive/w266 NLP Final Project/Models/bart_base_pt_squad/\"\n",
        "trainer.save_model(dir_path)"
      ],
      "metadata": {
        "colab": {
          "base_uri": "https://localhost:8080/"
        },
        "id": "tEiZ9nXttOO1",
        "outputId": "15598d28-977b-4adf-c7f2-2583acab8f83"
      },
      "execution_count": null,
      "outputs": [
        {
          "output_type": "stream",
          "name": "stderr",
          "text": [
            "Saving model checkpoint to /content/drive/MyDrive/w266 NLP Final Project/Models/bart_base_pt_squad/\n",
            "Configuration saved in /content/drive/MyDrive/w266 NLP Final Project/Models/bart_base_pt_squad/config.json\n",
            "Model weights saved in /content/drive/MyDrive/w266 NLP Final Project/Models/bart_base_pt_squad/pytorch_model.bin\n"
          ]
        }
      ]
    },
    {
      "cell_type": "markdown",
      "source": [
        "### Check to see if model worked"
      ],
      "metadata": {
        "id": "RBgzNrVyzHZw"
      }
    },
    {
      "cell_type": "code",
      "source": [
        "sample_df = validation_df[0:10].copy()\n"
      ],
      "metadata": {
        "id": "mRsOwuXDtOQ3"
      },
      "execution_count": null,
      "outputs": []
    },
    {
      "cell_type": "code",
      "source": [
        "predictions = []\n",
        "for input_text in sample_df['orig']:\n",
        "  inputs = bart_tokenizer(input_text, return_tensors='pt')\n",
        "  output_ids = bart_model.generate(inputs['input_ids'].cuda())\n",
        "  prediction = \"\".join([bart_tokenizer.decode(out_ids, skip_special_tokens=True, \n",
        "                                            clean_up_tokenization_spaces=False) for out_ids in output_ids])\n",
        "  predictions.append(prediction)\n",
        "\n",
        "sample_df['prediction'] = predictions"
      ],
      "metadata": {
        "colab": {
          "base_uri": "https://localhost:8080/"
        },
        "id": "OXhNAZ-ktOTq",
        "outputId": "d0610ecf-f12c-4808-d596-1d8c0ee034c4"
      },
      "execution_count": null,
      "outputs": [
        {
          "output_type": "stream",
          "name": "stderr",
          "text": [
            "/usr/local/lib/python3.7/dist-packages/transformers/generation_utils.py:1301: UserWarning: Neither `max_length` nor `max_new_tokens` has been set, `max_length` will default to 20 (`self.config.max_length`). Controlling `max_length` via the config is deprecated and `max_length` will be removed from the config in v5 of Transformers -- we recommend using `max_new_tokens` to control the maximum length of the generation.\n",
            "  UserWarning,\n"
          ]
        }
      ]
    },
    {
      "cell_type": "code",
      "source": [
        "sample_df"
      ],
      "metadata": {
        "colab": {
          "base_uri": "https://localhost:8080/",
          "height": 363
        },
        "id": "7js9JujmtF4o",
        "outputId": "892c3038-68f2-478b-f868-bcc22241d428"
      },
      "execution_count": null,
      "outputs": [
        {
          "output_type": "execute_result",
          "data": {
            "text/plain": [
              "   Unnamed: 0                                               orig  \\\n",
              "0           0  four </s> Prince Albert appears within the mai...   \n",
              "1           1  ink </s> When some species, including Bathycte...   \n",
              "2           2  1835 </s> The Grainger Market replaced an earl...   \n",
              "3           3  Bills </s> Bills can be introduced to Parliame...   \n",
              "4           4  the Timucua </s> Jacksonville is in the First ...   \n",
              "5           5  1912 </s> In addition to the Riemann hypothesi...   \n",
              "6           6  stagnant </s> In Marxian analysis, capitalist ...   \n",
              "7           7  90 </s> The final major evolution of the steam...   \n",
              "8           8  1985 </s> In 1968, ABC took advantage of new F...   \n",
              "9           9  the Charter of Fundamental Rights of the Europ...   \n",
              "\n",
              "                                              target  \\\n",
              "0  How many levels of galleries do the façades su...   \n",
              "1           What are the secretions commonly called?   \n",
              "2     When did Newcastle's first indoor market open?   \n",
              "3  What may be presented to Parliament in various...   \n",
              "4  Prior to the arrival of the French, the area n...   \n",
              "5  When did Landau propose his four conjectural p...   \n",
              "6  What type of wages does mechanization and auto...   \n",
              "7  What percentage of electrical power in the Uni...   \n",
              "8  When was the ABC Pictures division eventually ...   \n",
              "9  What charter has become an important aspect of...   \n",
              "\n",
              "                                          prediction  \n",
              "0                What is the design of the building?  \n",
              "1              What is the exact color of the cells?  \n",
              "2                           How did the market open?  \n",
              "3                              What is a draft bill?  \n",
              "4                   What is the area known as today?  \n",
              "5                    What is the Riemann hypothesis?  \n",
              "6              What is the level of property income?  \n",
              "7                            What is a steam engine?  \n",
              "8   What did the company do with its radio stations?  \n",
              "9  What is the Charter of Fundamental Rights of t...  "
            ],
            "text/html": [
              "\n",
              "  <div id=\"df-3bcacc4e-45b4-4227-ab88-777cee1adce1\">\n",
              "    <div class=\"colab-df-container\">\n",
              "      <div>\n",
              "<style scoped>\n",
              "    .dataframe tbody tr th:only-of-type {\n",
              "        vertical-align: middle;\n",
              "    }\n",
              "\n",
              "    .dataframe tbody tr th {\n",
              "        vertical-align: top;\n",
              "    }\n",
              "\n",
              "    .dataframe thead th {\n",
              "        text-align: right;\n",
              "    }\n",
              "</style>\n",
              "<table border=\"1\" class=\"dataframe\">\n",
              "  <thead>\n",
              "    <tr style=\"text-align: right;\">\n",
              "      <th></th>\n",
              "      <th>Unnamed: 0</th>\n",
              "      <th>orig</th>\n",
              "      <th>target</th>\n",
              "      <th>prediction</th>\n",
              "    </tr>\n",
              "  </thead>\n",
              "  <tbody>\n",
              "    <tr>\n",
              "      <th>0</th>\n",
              "      <td>0</td>\n",
              "      <td>four &lt;/s&gt; Prince Albert appears within the mai...</td>\n",
              "      <td>How many levels of galleries do the façades su...</td>\n",
              "      <td>What is the design of the building?</td>\n",
              "    </tr>\n",
              "    <tr>\n",
              "      <th>1</th>\n",
              "      <td>1</td>\n",
              "      <td>ink &lt;/s&gt; When some species, including Bathycte...</td>\n",
              "      <td>What are the secretions commonly called?</td>\n",
              "      <td>What is the exact color of the cells?</td>\n",
              "    </tr>\n",
              "    <tr>\n",
              "      <th>2</th>\n",
              "      <td>2</td>\n",
              "      <td>1835 &lt;/s&gt; The Grainger Market replaced an earl...</td>\n",
              "      <td>When did Newcastle's first indoor market open?</td>\n",
              "      <td>How did the market open?</td>\n",
              "    </tr>\n",
              "    <tr>\n",
              "      <th>3</th>\n",
              "      <td>3</td>\n",
              "      <td>Bills &lt;/s&gt; Bills can be introduced to Parliame...</td>\n",
              "      <td>What may be presented to Parliament in various...</td>\n",
              "      <td>What is a draft bill?</td>\n",
              "    </tr>\n",
              "    <tr>\n",
              "      <th>4</th>\n",
              "      <td>4</td>\n",
              "      <td>the Timucua &lt;/s&gt; Jacksonville is in the First ...</td>\n",
              "      <td>Prior to the arrival of the French, the area n...</td>\n",
              "      <td>What is the area known as today?</td>\n",
              "    </tr>\n",
              "    <tr>\n",
              "      <th>5</th>\n",
              "      <td>5</td>\n",
              "      <td>1912 &lt;/s&gt; In addition to the Riemann hypothesi...</td>\n",
              "      <td>When did Landau propose his four conjectural p...</td>\n",
              "      <td>What is the Riemann hypothesis?</td>\n",
              "    </tr>\n",
              "    <tr>\n",
              "      <th>6</th>\n",
              "      <td>6</td>\n",
              "      <td>stagnant &lt;/s&gt; In Marxian analysis, capitalist ...</td>\n",
              "      <td>What type of wages does mechanization and auto...</td>\n",
              "      <td>What is the level of property income?</td>\n",
              "    </tr>\n",
              "    <tr>\n",
              "      <th>7</th>\n",
              "      <td>7</td>\n",
              "      <td>90 &lt;/s&gt; The final major evolution of the steam...</td>\n",
              "      <td>What percentage of electrical power in the Uni...</td>\n",
              "      <td>What is a steam engine?</td>\n",
              "    </tr>\n",
              "    <tr>\n",
              "      <th>8</th>\n",
              "      <td>8</td>\n",
              "      <td>1985 &lt;/s&gt; In 1968, ABC took advantage of new F...</td>\n",
              "      <td>When was the ABC Pictures division eventually ...</td>\n",
              "      <td>What did the company do with its radio stations?</td>\n",
              "    </tr>\n",
              "    <tr>\n",
              "      <th>9</th>\n",
              "      <td>9</td>\n",
              "      <td>the Charter of Fundamental Rights of the Europ...</td>\n",
              "      <td>What charter has become an important aspect of...</td>\n",
              "      <td>What is the Charter of Fundamental Rights of t...</td>\n",
              "    </tr>\n",
              "  </tbody>\n",
              "</table>\n",
              "</div>\n",
              "      <button class=\"colab-df-convert\" onclick=\"convertToInteractive('df-3bcacc4e-45b4-4227-ab88-777cee1adce1')\"\n",
              "              title=\"Convert this dataframe to an interactive table.\"\n",
              "              style=\"display:none;\">\n",
              "        \n",
              "  <svg xmlns=\"http://www.w3.org/2000/svg\" height=\"24px\"viewBox=\"0 0 24 24\"\n",
              "       width=\"24px\">\n",
              "    <path d=\"M0 0h24v24H0V0z\" fill=\"none\"/>\n",
              "    <path d=\"M18.56 5.44l.94 2.06.94-2.06 2.06-.94-2.06-.94-.94-2.06-.94 2.06-2.06.94zm-11 1L8.5 8.5l.94-2.06 2.06-.94-2.06-.94L8.5 2.5l-.94 2.06-2.06.94zm10 10l.94 2.06.94-2.06 2.06-.94-2.06-.94-.94-2.06-.94 2.06-2.06.94z\"/><path d=\"M17.41 7.96l-1.37-1.37c-.4-.4-.92-.59-1.43-.59-.52 0-1.04.2-1.43.59L10.3 9.45l-7.72 7.72c-.78.78-.78 2.05 0 2.83L4 21.41c.39.39.9.59 1.41.59.51 0 1.02-.2 1.41-.59l7.78-7.78 2.81-2.81c.8-.78.8-2.07 0-2.86zM5.41 20L4 18.59l7.72-7.72 1.47 1.35L5.41 20z\"/>\n",
              "  </svg>\n",
              "      </button>\n",
              "      \n",
              "  <style>\n",
              "    .colab-df-container {\n",
              "      display:flex;\n",
              "      flex-wrap:wrap;\n",
              "      gap: 12px;\n",
              "    }\n",
              "\n",
              "    .colab-df-convert {\n",
              "      background-color: #E8F0FE;\n",
              "      border: none;\n",
              "      border-radius: 50%;\n",
              "      cursor: pointer;\n",
              "      display: none;\n",
              "      fill: #1967D2;\n",
              "      height: 32px;\n",
              "      padding: 0 0 0 0;\n",
              "      width: 32px;\n",
              "    }\n",
              "\n",
              "    .colab-df-convert:hover {\n",
              "      background-color: #E2EBFA;\n",
              "      box-shadow: 0px 1px 2px rgba(60, 64, 67, 0.3), 0px 1px 3px 1px rgba(60, 64, 67, 0.15);\n",
              "      fill: #174EA6;\n",
              "    }\n",
              "\n",
              "    [theme=dark] .colab-df-convert {\n",
              "      background-color: #3B4455;\n",
              "      fill: #D2E3FC;\n",
              "    }\n",
              "\n",
              "    [theme=dark] .colab-df-convert:hover {\n",
              "      background-color: #434B5C;\n",
              "      box-shadow: 0px 1px 3px 1px rgba(0, 0, 0, 0.15);\n",
              "      filter: drop-shadow(0px 1px 2px rgba(0, 0, 0, 0.3));\n",
              "      fill: #FFFFFF;\n",
              "    }\n",
              "  </style>\n",
              "\n",
              "      <script>\n",
              "        const buttonEl =\n",
              "          document.querySelector('#df-3bcacc4e-45b4-4227-ab88-777cee1adce1 button.colab-df-convert');\n",
              "        buttonEl.style.display =\n",
              "          google.colab.kernel.accessAllowed ? 'block' : 'none';\n",
              "\n",
              "        async function convertToInteractive(key) {\n",
              "          const element = document.querySelector('#df-3bcacc4e-45b4-4227-ab88-777cee1adce1');\n",
              "          const dataTable =\n",
              "            await google.colab.kernel.invokeFunction('convertToInteractive',\n",
              "                                                     [key], {});\n",
              "          if (!dataTable) return;\n",
              "\n",
              "          const docLinkHtml = 'Like what you see? Visit the ' +\n",
              "            '<a target=\"_blank\" href=https://colab.research.google.com/notebooks/data_table.ipynb>data table notebook</a>'\n",
              "            + ' to learn more about interactive tables.';\n",
              "          element.innerHTML = '';\n",
              "          dataTable['output_type'] = 'display_data';\n",
              "          await google.colab.output.renderOutput(dataTable, element);\n",
              "          const docLink = document.createElement('div');\n",
              "          docLink.innerHTML = docLinkHtml;\n",
              "          element.appendChild(docLink);\n",
              "        }\n",
              "      </script>\n",
              "    </div>\n",
              "  </div>\n",
              "  "
            ]
          },
          "metadata": {},
          "execution_count": 59
        }
      ]
    },
    {
      "cell_type": "code",
      "source": [],
      "metadata": {
        "id": "Q2IFC7zFAirY"
      },
      "execution_count": null,
      "outputs": []
    },
    {
      "cell_type": "code",
      "source": [],
      "metadata": {
        "id": "CfHSBeq3zhuE"
      },
      "execution_count": null,
      "outputs": []
    },
    {
      "cell_type": "markdown",
      "source": [
        "## BART"
      ],
      "metadata": {
        "id": "7pKWGCU8sVvi"
      }
    },
    {
      "cell_type": "markdown",
      "source": [
        "Sources:\n",
        "\n",
        "\n",
        "*  https://huggingface.co/facebook/bart-base\n",
        "*  https://huggingface.co/transformers/v3.1.0/model_doc/bart.html#bartforquestionanswering\n",
        "*  https://huggingface.co/valhalla/bart-large-finetuned-squadv1?context=My+name+is+Sarah+and+I+live+in+London&question=Where+do+I+live%3F\n",
        "*  https://huggingface.co/docs/transformers/v4.23.1/en/model_doc/bart#transformers.BartForConditionalGeneration"
      ],
      "metadata": {
        "id": "oUyl4srXsmdC"
      }
    },
    {
      "cell_type": "markdown",
      "source": [
        "###Training\n",
        "\n",
        "facebook/bart-base trained on CNN/daily mail data?\n",
        "\n",
        "facebook/bart-large trained on  MultiNLI (MNLI) dataset"
      ],
      "metadata": {
        "id": "XrBeNOQist6e"
      }
    },
    {
      "cell_type": "code",
      "source": [],
      "metadata": {
        "id": "XNni6tdvbM7C"
      },
      "execution_count": null,
      "outputs": []
    },
    {
      "cell_type": "code",
      "source": [],
      "metadata": {
        "id": "3EHO5tWBbM9j"
      },
      "execution_count": null,
      "outputs": []
    }
  ]
}