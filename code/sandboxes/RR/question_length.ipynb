{
  "cells": [
    {
      "cell_type": "markdown",
      "metadata": {
        "id": "view-in-github",
        "colab_type": "text"
      },
      "source": [
        "<a href=\"https://colab.research.google.com/github/jeanlucjackson/w266_final_project/blob/main/code/sandboxes/RR/queastion_length.ipynb\" target=\"_parent\"><img src=\"https://colab.research.google.com/assets/colab-badge.svg\" alt=\"Open In Colab\"/></a>"
      ]
    },
    {
      "cell_type": "code",
      "execution_count": null,
      "id": "5bdcb418-0e29-4184-b0a4-5744ca40417c",
      "metadata": {
        "id": "5bdcb418-0e29-4184-b0a4-5744ca40417c"
      },
      "outputs": [],
      "source": [
        "import pandas as pd\n",
        "import numpy as np\n",
        "import seaborn as sns\n",
        "from matplotlib import pyplot as plt\n",
        "\n",
        "sns.set_theme()"
      ]
    },
    {
      "cell_type": "code",
      "source": [
        "from google.colab import drive\n",
        "drive.mount('/content/drive')"
      ],
      "metadata": {
        "id": "YcUgCMFgMbTU",
        "outputId": "9e2bbfff-cd7f-4592-c413-04abddfd65de",
        "colab": {
          "base_uri": "https://localhost:8080/"
        }
      },
      "id": "YcUgCMFgMbTU",
      "execution_count": null,
      "outputs": [
        {
          "output_type": "stream",
          "name": "stdout",
          "text": [
            "Drive already mounted at /content/drive; to attempt to forcibly remount, call drive.mount(\"/content/drive\", force_remount=True).\n"
          ]
        }
      ]
    },
    {
      "cell_type": "code",
      "execution_count": null,
      "id": "47d7b180-5346-4f6d-901b-724cd70fa0a0",
      "metadata": {
        "id": "47d7b180-5346-4f6d-901b-724cd70fa0a0"
      },
      "outputs": [],
      "source": [
        "# Some important file locations and constants\n",
        "\n",
        "project_root = \"/content/drive/MyDrive/w266 NLP Final Project/\"\n",
        "# project_root = \"/home/localadmin/Documents/w266_NLP_Final_Project/\"\n",
        "data_folder = project_root + \"Data/\"\n",
        "processed_folder = project_root + \"Predictions/\"\n",
        "\n",
        "datasets = ['nq', 'quac', 'squad.hf', 'triviaqa']\n",
        "dataset_titles = ['NQ', 'QuAC', 'SQuAD', 'TriviaQA']"
      ]
    },
    {
      "cell_type": "code",
      "execution_count": null,
      "id": "ed5c4404-695d-4a00-8936-0c8e1419be1d",
      "metadata": {
        "id": "ed5c4404-695d-4a00-8936-0c8e1419be1d",
        "outputId": "fd54992b-5706-4ce3-d506-78810a533c75",
        "colab": {
          "base_uri": "https://localhost:8080/",
          "height": 365
        }
      },
      "outputs": [
        {
          "output_type": "display_data",
          "data": {
            "text/plain": [
              "<Figure size 360x360 with 4 Axes>"
            ],
            "image/png": "[encoded data removed]"
          },
          "metadata": {}
        }
      ],
      "source": [
        "counts=[]\n",
        "for dataset in datasets:\n",
        "  df = pd.read_csv(data_folder+dataset+\"/train_pairs.csv\")\n",
        "  counts.append(pd.Series([len(sequence.split()) for sequence in df['orig']]))\n",
        "\n",
        "fig, axes = plt.subplots(2, 2, figsize=(5,5))\n",
        "\n",
        "for ax, counts, title in zip (axes.flat, counts, dataset_titles):\n",
        "  sns.histplot(ax=ax, x=counts).set(ylabel=\"\", title=title)\n",
        "  ax.axes.yaxis.set_ticklabels([])\n",
        "\n",
        "fig.tight_layout()\n",
        "\n",
        "plt.show()"
      ]
    }
  ],
  "metadata": {
    "kernelspec": {
      "display_name": "Python [conda env:gpu]",
      "language": "python",
      "name": "conda-env-gpu-py"
    },
    "language_info": {
      "codemirror_mode": {
        "name": "ipython",
        "version": 3
      },
      "file_extension": ".py",
      "mimetype": "text/x-python",
      "name": "python",
      "nbconvert_exporter": "python",
      "pygments_lexer": "ipython3",
      "version": "3.9.15"
    },
    "colab": {
      "provenance": [],
      "include_colab_link": true
    }
  },
  "nbformat": 4,
  "nbformat_minor": 5
}