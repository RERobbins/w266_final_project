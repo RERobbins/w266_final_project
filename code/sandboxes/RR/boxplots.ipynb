{
  "cells": [
    {
      "cell_type": "markdown",
      "metadata": {
        "id": "view-in-github",
        "colab_type": "text"
      },
      "source": [
        "<a href=\"https://colab.research.google.com/github/jeanlucjackson/w266_final_project/blob/main/code/sandboxes/RR/boxplots.ipynb\" target=\"_parent\"><img src=\"https://colab.research.google.com/assets/colab-badge.svg\" alt=\"Open In Colab\"/></a>"
      ]
    },
    {
      "cell_type": "code",
      "execution_count": 1,
      "id": "5bdcb418-0e29-4184-b0a4-5744ca40417c",
      "metadata": {
        "id": "5bdcb418-0e29-4184-b0a4-5744ca40417c"
      },
      "outputs": [],
      "source": [
        "import pandas as pd\n",
        "import numpy as np\n",
        "import seaborn as sns\n",
        "from matplotlib import pyplot as plt\n",
        "\n",
        "sns.set_theme()"
      ]
    },
    {
      "cell_type": "code",
      "source": [
        "from google.colab import drive\n",
        "drive.mount('/content/drive')"
      ],
      "metadata": {
        "id": "YcUgCMFgMbTU",
        "outputId": "919e6ab7-dca2-421c-94a8-c21aec6a01e7",
        "colab": {
          "base_uri": "https://localhost:8080/"
        }
      },
      "id": "YcUgCMFgMbTU",
      "execution_count": 2,
      "outputs": [
        {
          "output_type": "stream",
          "name": "stdout",
          "text": [
            "Mounted at /content/drive\n"
          ]
        }
      ]
    },
    {
      "cell_type": "code",
      "execution_count": 3,
      "id": "47d7b180-5346-4f6d-901b-724cd70fa0a0",
      "metadata": {
        "id": "47d7b180-5346-4f6d-901b-724cd70fa0a0"
      },
      "outputs": [],
      "source": [
        "# Some important file locations and constants\n",
        "\n",
        "project_root = \"/content/drive/MyDrive/w266 NLP Final Project/\"\n",
        "# project_root = \"/home/localadmin/Documents/w266_NLP_Final_Project/\"\n",
        "data_folder = project_root + \"Data/\"\n",
        "processed_folder = project_root + \"Predictions/\"\n",
        "\n",
        "datasets = ['nq', 'quac', 'squad.hf', 'triviaqa']\n",
        "dataset_titles = ['NQ', 'QuAC', 'SQuAD', 'TriviaQA']"
      ]
    },
    {
      "cell_type": "code",
      "execution_count": null,
      "id": "ed5c4404-695d-4a00-8936-0c8e1419be1d",
      "metadata": {
        "id": "ed5c4404-695d-4a00-8936-0c8e1419be1d",
        "outputId": "6ea62a85-bdc1-4241-d987-416897ae5888",
        "colab": {
          "base_uri": "https://localhost:8080/",
          "height": 365
        }
      },
      "outputs": [
        {
          "output_type": "display_data",
          "data": {
            "text/plain": [
              "<Figure size 360x360 with 4 Axes>"
            ],
            "image/png": "[encoded data removed]"
          },
          "metadata": {}
        }
      ],
      "source": [
        "counts=[]\n",
        "for dataset in datasets:\n",
        "  df = pd.read_csv(data_folder+dataset+\"/train_pairs.csv\")\n",
        "  counts.append(pd.Series([len(sequence.split()) for sequence in df['orig']]))\n",
        "\n",
        "fig, axes = plt.subplots(2, 2, figsize=(5,5))\n",
        "\n",
        "for ax, counts, title in zip (axes.flat, counts, dataset_titles):\n",
        "#  sns.histplot(ax=ax, x=counts).set(ylabel=\"\", title=title)\n",
        "  sns.boxplot(ax=ax, x=counts).set(ylabel=\"\", title=title)\n",
        "  ax.axes.yaxis.set_ticklabels([])\n",
        "\n",
        "fig.tight_layout()\n",
        "\n",
        "plt.show()"
      ]
    },
    {
      "cell_type": "code",
      "source": [
        "counts=[]\n",
        "for dataset in datasets:\n",
        "  df = pd.read_csv(data_folder+dataset+\"/train_pairs.csv\")\n",
        "  counts.append(pd.Series([len(sequence.split()) for sequence in df['orig']]))\n",
        "counts_df = pd.DataFrame(counts)\n",
        "counts_df = counts_df.T\n",
        "counts_df.columns = dataset_titles"
      ],
      "metadata": {
        "id": "SlwHtUoT2SGm"
      },
      "id": "SlwHtUoT2SGm",
      "execution_count": null,
      "outputs": []
    },
    {
      "cell_type": "code",
      "source": [
        "counts_df"
      ],
      "metadata": {
        "id": "BlbHP6T_5Gwk",
        "outputId": "4951a11a-5681-4f38-e5a9-f3ba23bf9257",
        "colab": {
          "base_uri": "https://localhost:8080/",
          "height": 424
        }
      },
      "id": "BlbHP6T_5Gwk",
      "execution_count": null,
      "outputs": [
        {
          "output_type": "execute_result",
          "data": {
            "text/plain": [
              "          NQ   QuAC  SQuAD  TriviaQA\n",
              "0       77.0  328.0  225.0     634.0\n",
              "1      172.0  525.0  141.0     377.0\n",
              "2      130.0  449.0  117.0     647.0\n",
              "3       74.0  385.0   44.0     773.0\n",
              "4      168.0  292.0  102.0     770.0\n",
              "...      ...    ...    ...       ...\n",
              "87594    NaN    NaN  162.0       NaN\n",
              "87595    NaN    NaN  175.0       NaN\n",
              "87596    NaN    NaN  159.0       NaN\n",
              "87597    NaN    NaN  203.0       NaN\n",
              "87598    NaN    NaN  110.0       NaN\n",
              "\n",
              "[87599 rows x 4 columns]"
            ],
            "text/html": [
              "\n",
              "  <div id=\"df-5acd40f2-1b09-4d51-a998-a256d6a48362\">\n",
              "    <div class=\"colab-df-container\">\n",
              "      <div>\n",
              "<style scoped>\n",
              "    .dataframe tbody tr th:only-of-type {\n",
              "        vertical-align: middle;\n",
              "    }\n",
              "\n",
              "    .dataframe tbody tr th {\n",
              "        vertical-align: top;\n",
              "    }\n",
              "\n",
              "    .dataframe thead th {\n",
              "        text-align: right;\n",
              "    }\n",
              "</style>\n",
              "<table border=\"1\" class=\"dataframe\">\n",
              "  <thead>\n",
              "    <tr style=\"text-align: right;\">\n",
              "      <th></th>\n",
              "      <th>NQ</th>\n",
              "      <th>QuAC</th>\n",
              "      <th>SQuAD</th>\n",
              "      <th>TriviaQA</th>\n",
              "    </tr>\n",
              "  </thead>\n",
              "  <tbody>\n",
              "    <tr>\n",
              "      <th>0</th>\n",
              "      <td>77.0</td>\n",
              "      <td>328.0</td>\n",
              "      <td>225.0</td>\n",
              "      <td>634.0</td>\n",
              "    </tr>\n",
              "    <tr>\n",
              "      <th>1</th>\n",
              "      <td>172.0</td>\n",
              "      <td>525.0</td>\n",
              "      <td>141.0</td>\n",
              "      <td>377.0</td>\n",
              "    </tr>\n",
              "    <tr>\n",
              "      <th>2</th>\n",
              "      <td>130.0</td>\n",
              "      <td>449.0</td>\n",
              "      <td>117.0</td>\n",
              "      <td>647.0</td>\n",
              "    </tr>\n",
              "    <tr>\n",
              "      <th>3</th>\n",
              "      <td>74.0</td>\n",
              "      <td>385.0</td>\n",
              "      <td>44.0</td>\n",
              "      <td>773.0</td>\n",
              "    </tr>\n",
              "    <tr>\n",
              "      <th>4</th>\n",
              "      <td>168.0</td>\n",
              "      <td>292.0</td>\n",
              "      <td>102.0</td>\n",
              "      <td>770.0</td>\n",
              "    </tr>\n",
              "    <tr>\n",
              "      <th>...</th>\n",
              "      <td>...</td>\n",
              "      <td>...</td>\n",
              "      <td>...</td>\n",
              "      <td>...</td>\n",
              "    </tr>\n",
              "    <tr>\n",
              "      <th>87594</th>\n",
              "      <td>NaN</td>\n",
              "      <td>NaN</td>\n",
              "      <td>162.0</td>\n",
              "      <td>NaN</td>\n",
              "    </tr>\n",
              "    <tr>\n",
              "      <th>87595</th>\n",
              "      <td>NaN</td>\n",
              "      <td>NaN</td>\n",
              "      <td>175.0</td>\n",
              "      <td>NaN</td>\n",
              "    </tr>\n",
              "    <tr>\n",
              "      <th>87596</th>\n",
              "      <td>NaN</td>\n",
              "      <td>NaN</td>\n",
              "      <td>159.0</td>\n",
              "      <td>NaN</td>\n",
              "    </tr>\n",
              "    <tr>\n",
              "      <th>87597</th>\n",
              "      <td>NaN</td>\n",
              "      <td>NaN</td>\n",
              "      <td>203.0</td>\n",
              "      <td>NaN</td>\n",
              "    </tr>\n",
              "    <tr>\n",
              "      <th>87598</th>\n",
              "      <td>NaN</td>\n",
              "      <td>NaN</td>\n",
              "      <td>110.0</td>\n",
              "      <td>NaN</td>\n",
              "    </tr>\n",
              "  </tbody>\n",
              "</table>\n",
              "<p>87599 rows × 4 columns</p>\n",
              "</div>\n",
              "      <button class=\"colab-df-convert\" onclick=\"convertToInteractive('df-5acd40f2-1b09-4d51-a998-a256d6a48362')\"\n",
              "              title=\"Convert this dataframe to an interactive table.\"\n",
              "              style=\"display:none;\">\n",
              "        \n",
              "  <svg xmlns=\"http://www.w3.org/2000/svg\" height=\"24px\"viewBox=\"0 0 24 24\"\n",
              "       width=\"24px\">\n",
              "    <path d=\"M0 0h24v24H0V0z\" fill=\"none\"/>\n",
              "    <path d=\"M18.56 5.44l.94 2.06.94-2.06 2.06-.94-2.06-.94-.94-2.06-.94 2.06-2.06.94zm-11 1L8.5 8.5l.94-2.06 2.06-.94-2.06-.94L8.5 2.5l-.94 2.06-2.06.94zm10 10l.94 2.06.94-2.06 2.06-.94-2.06-.94-.94-2.06-.94 2.06-2.06.94z\"/><path d=\"M17.41 7.96l-1.37-1.37c-.4-.4-.92-.59-1.43-.59-.52 0-1.04.2-1.43.59L10.3 9.45l-7.72 7.72c-.78.78-.78 2.05 0 2.83L4 21.41c.39.39.9.59 1.41.59.51 0 1.02-.2 1.41-.59l7.78-7.78 2.81-2.81c.8-.78.8-2.07 0-2.86zM5.41 20L4 18.59l7.72-7.72 1.47 1.35L5.41 20z\"/>\n",
              "  </svg>\n",
              "      </button>\n",
              "      \n",
              "  <style>\n",
              "    .colab-df-container {\n",
              "      display:flex;\n",
              "      flex-wrap:wrap;\n",
              "      gap: 12px;\n",
              "    }\n",
              "\n",
              "    .colab-df-convert {\n",
              "      background-color: #E8F0FE;\n",
              "      border: none;\n",
              "      border-radius: 50%;\n",
              "      cursor: pointer;\n",
              "      display: none;\n",
              "      fill: #1967D2;\n",
              "      height: 32px;\n",
              "      padding: 0 0 0 0;\n",
              "      width: 32px;\n",
              "    }\n",
              "\n",
              "    .colab-df-convert:hover {\n",
              "      background-color: #E2EBFA;\n",
              "      box-shadow: 0px 1px 2px rgba(60, 64, 67, 0.3), 0px 1px 3px 1px rgba(60, 64, 67, 0.15);\n",
              "      fill: #174EA6;\n",
              "    }\n",
              "\n",
              "    [theme=dark] .colab-df-convert {\n",
              "      background-color: #3B4455;\n",
              "      fill: #D2E3FC;\n",
              "    }\n",
              "\n",
              "    [theme=dark] .colab-df-convert:hover {\n",
              "      background-color: #434B5C;\n",
              "      box-shadow: 0px 1px 3px 1px rgba(0, 0, 0, 0.15);\n",
              "      filter: drop-shadow(0px 1px 2px rgba(0, 0, 0, 0.3));\n",
              "      fill: #FFFFFF;\n",
              "    }\n",
              "  </style>\n",
              "\n",
              "      <script>\n",
              "        const buttonEl =\n",
              "          document.querySelector('#df-5acd40f2-1b09-4d51-a998-a256d6a48362 button.colab-df-convert');\n",
              "        buttonEl.style.display =\n",
              "          google.colab.kernel.accessAllowed ? 'block' : 'none';\n",
              "\n",
              "        async function convertToInteractive(key) {\n",
              "          const element = document.querySelector('#df-5acd40f2-1b09-4d51-a998-a256d6a48362');\n",
              "          const dataTable =\n",
              "            await google.colab.kernel.invokeFunction('convertToInteractive',\n",
              "                                                     [key], {});\n",
              "          if (!dataTable) return;\n",
              "\n",
              "          const docLinkHtml = 'Like what you see? Visit the ' +\n",
              "            '<a target=\"_blank\" href=https://colab.research.google.com/notebooks/data_table.ipynb>data table notebook</a>'\n",
              "            + ' to learn more about interactive tables.';\n",
              "          element.innerHTML = '';\n",
              "          dataTable['output_type'] = 'display_data';\n",
              "          await google.colab.output.renderOutput(dataTable, element);\n",
              "          const docLink = document.createElement('div');\n",
              "          docLink.innerHTML = docLinkHtml;\n",
              "          element.appendChild(docLink);\n",
              "        }\n",
              "      </script>\n",
              "    </div>\n",
              "  </div>\n",
              "  "
            ]
          },
          "metadata": {},
          "execution_count": 65
        }
      ]
    },
    {
      "cell_type": "code",
      "source": [
        "plot_1 = sns.boxplot(data=counts_df, color=\"cornflowerblue\")"
      ],
      "metadata": {
        "id": "2-t1G_h8wcUV",
        "outputId": "fc2083d1-6d6e-43a4-d6e3-4c0877ead04e",
        "colab": {
          "base_uri": "https://localhost:8080/",
          "height": 268
        }
      },
      "id": "2-t1G_h8wcUV",
      "execution_count": null,
      "outputs": [
        {
          "output_type": "display_data",
          "data": {
            "text/plain": [
              "<Figure size 432x288 with 1 Axes>"
            ],
            "image/png": "[encoded data removed]"
          },
          "metadata": {}
        }
      ]
    },
    {
      "cell_type": "code",
      "source": [
        "counts=[]\n",
        "for dataset in datasets:\n",
        "  df = pd.read_csv(data_folder+dataset+\"/valid_pairs.csv\")\n",
        "  counts.append(pd.Series([len(sequence.split()) for sequence in df['orig']]))\n",
        "counts_df = pd.DataFrame(counts)\n",
        "counts_df = counts_df.T\n",
        "counts_df.columns = dataset_titles\n",
        "plot_2 = sns.boxplot(data=counts_df, color=\"cornflowerblue\")"
      ],
      "metadata": {
        "id": "Luoa7Qlj5t33",
        "outputId": "3fbadbae-4307-4c24-c845-451f8efb98d5",
        "colab": {
          "base_uri": "https://localhost:8080/",
          "height": 268
        }
      },
      "id": "Luoa7Qlj5t33",
      "execution_count": null,
      "outputs": [
        {
          "output_type": "display_data",
          "data": {
            "text/plain": [
              "<Figure size 432x288 with 1 Axes>"
            ],
            "image/png": "[encoded data removed]"
          },
          "metadata": {}
        }
      ]
    },
    {
      "cell_type": "code",
      "source": [
        "counts=[]\n",
        "for dataset in datasets:\n",
        "  df = pd.read_csv(data_folder+dataset+\"/train_pairs.csv\")\n",
        "  counts.append(pd.Series([len(sequence.split()) for sequence in df['target']]))\n",
        "counts_df = pd.DataFrame(counts)\n",
        "counts_df = counts_df.T\n",
        "counts_df.columns = dataset_titles\n",
        "plot_3 = sns.boxplot(data=counts_df, color=\"cornflowerblue\")"
      ],
      "metadata": {
        "id": "ac8q1DVD6UcD",
        "outputId": "c733bef7-35b5-4afc-fcf3-c05ad13dbc2b",
        "colab": {
          "base_uri": "https://localhost:8080/",
          "height": 268
        }
      },
      "id": "ac8q1DVD6UcD",
      "execution_count": null,
      "outputs": [
        {
          "output_type": "display_data",
          "data": {
            "text/plain": [
              "<Figure size 432x288 with 1 Axes>"
            ],
            "image/png": "[encoded data removed]"
          },
          "metadata": {}
        }
      ]
    },
    {
      "cell_type": "code",
      "source": [
        "counts=[]\n",
        "for dataset in datasets:\n",
        "  df = pd.read_csv(data_folder+dataset+\"/valid_pairs.csv\")\n",
        "  counts.append(pd.Series([len(sequence.split()) for sequence in df['target']]))\n",
        "counts_df = pd.DataFrame(counts)\n",
        "counts_df = counts_df.T\n",
        "counts_df.columns = dataset_titles\n",
        "plot_4 = sns.boxplot(data=counts_df, color=\"cornflowerblue\")"
      ],
      "metadata": {
        "id": "e6wEEE8p6Ujq",
        "outputId": "9b749905-2784-4535-fe48-91c0e427391a",
        "colab": {
          "base_uri": "https://localhost:8080/",
          "height": 268
        }
      },
      "id": "e6wEEE8p6Ujq",
      "execution_count": null,
      "outputs": [
        {
          "output_type": "display_data",
          "data": {
            "text/plain": [
              "<Figure size 432x288 with 1 Axes>"
            ],
            "image/png": "[encoded data removed]"
          },
          "metadata": {}
        }
      ]
    },
    {
      "cell_type": "code",
      "source": [
        "training_input_counts = []\n",
        "validation_input_counts = []\n",
        "training_target_counts = []\n",
        "validation_target_counts = []\n",
        "\n",
        "for dataset in datasets:\n",
        "  df = pd.read_csv(data_folder+dataset+\"/train_pairs.csv\")\n",
        "  training_input_counts.append(pd.Series([len(sequence.split()) for sequence in df['orig']]))\n",
        "training_input_counts_df = pd.DataFrame(training_input_counts)\n",
        "training_input_counts_df = training_input_counts_df.T\n",
        "training_input_counts_df.columns = dataset_titles\n",
        "\n",
        "for dataset in datasets:\n",
        "  df = pd.read_csv(data_folder+dataset+\"/valid_pairs.csv\")\n",
        "  validation_input_counts.append(pd.Series([len(sequence.split()) for sequence in df['orig']]))\n",
        "validation_input_counts_df = pd.DataFrame(validation_input_counts)\n",
        "validation_input_counts_df = validation_input_counts_df.T\n",
        "validation_input_counts_df.columns = dataset_titles\n",
        "\n",
        "for dataset in datasets:\n",
        "  df = pd.read_csv(data_folder+dataset+\"/train_pairs.csv\")\n",
        "  training_target_counts.append(pd.Series([len(sequence.split()) for sequence in df['target']]))\n",
        "training_target_counts_df = pd.DataFrame(training_target_counts)\n",
        "training_target_counts_df = training_target_counts_df.T\n",
        "training_target_counts_df.columns = dataset_titles\n",
        "\n",
        "for dataset in datasets:\n",
        "  df = pd.read_csv(data_folder+dataset+\"/valid_pairs.csv\")\n",
        "  validation_target_counts.append(pd.Series([len(sequence.split()) for sequence in df['target']]))\n",
        "validation_target_counts_df = pd.DataFrame(validation_target_counts)\n",
        "validation_target_counts_df = validation_target_counts_df.T\n",
        "validation_target_counts_df.columns = dataset_titles\n"
      ],
      "metadata": {
        "id": "gNiKRlgC7NuC"
      },
      "id": "gNiKRlgC7NuC",
      "execution_count": 5,
      "outputs": []
    },
    {
      "cell_type": "code",
      "source": [
        "fig, axes = plt.subplots(2, 2, figsize=(7,7))\n",
        "\n",
        "sns.boxplot(ax=axes[0,0], data=training_input_counts_df, color=\"cornflowerblue\").set(title=\"Training Input Word Counts\")\n",
        "sns.boxplot(ax=axes[0,1], data=validation_input_counts_df, color=\"cornflowerblue\").set(title=\"Validation Input Word Counts\")\n",
        "sns.boxplot(ax=axes[1,0], data=training_target_counts_df, color=\"cornflowerblue\").set(title=\"Training Target Word Counts\")\n",
        "sns.boxplot(ax=axes[1,1], data=validation_target_counts_df, color=\"cornflowerblue\").set(title=\"Validation Target Word Counts\")\n",
        "\n",
        "fig.tight_layout()\n",
        "\n",
        "plt.show()"
      ],
      "metadata": {
        "id": "R6A5rxMi_Cg6",
        "colab": {
          "base_uri": "https://localhost:8080/",
          "height": 509
        },
        "outputId": "86f169db-65fb-438f-8929-2cbe269a9cc5"
      },
      "id": "R6A5rxMi_Cg6",
      "execution_count": 13,
      "outputs": [
        {
          "output_type": "display_data",
          "data": {
            "text/plain": [
              "<Figure size 504x504 with 4 Axes>"
            ],
            "image/png": "[encoded data removed]"
          },
          "metadata": {}
        }
      ]
    },
    {
      "cell_type": "code",
      "source": [
        "dataset_titles"
      ],
      "metadata": {
        "colab": {
          "base_uri": "https://localhost:8080/"
        },
        "id": "ARBvDticA6cw",
        "outputId": "51586932-4ad4-495f-ccb3-eab24efed135"
      },
      "id": "ARBvDticA6cw",
      "execution_count": 7,
      "outputs": [
        {
          "output_type": "execute_result",
          "data": {
            "text/plain": [
              "['NQ', 'QuAC', 'SQuAD', 'TriviaQA']"
            ]
          },
          "metadata": {},
          "execution_count": 7
        }
      ]
    },
    {
      "cell_type": "code",
      "source": [],
      "metadata": {
        "id": "y8coSNjHA8Bj"
      },
      "id": "y8coSNjHA8Bj",
      "execution_count": null,
      "outputs": []
    }
  ],
  "metadata": {
    "kernelspec": {
      "display_name": "Python [conda env:gpu]",
      "language": "python",
      "name": "conda-env-gpu-py"
    },
    "language_info": {
      "codemirror_mode": {
        "name": "ipython",
        "version": 3
      },
      "file_extension": ".py",
      "mimetype": "text/x-python",
      "name": "python",
      "nbconvert_exporter": "python",
      "pygments_lexer": "ipython3",
      "version": "3.9.15"
    },
    "colab": {
      "provenance": [],
      "include_colab_link": true
    }
  },
  "nbformat": 4,
  "nbformat_minor": 5
}