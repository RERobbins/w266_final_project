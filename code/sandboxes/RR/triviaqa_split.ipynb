{
  "cells": [
    {
      "cell_type": "markdown",
      "metadata": {
        "id": "view-in-github",
        "colab_type": "text"
      },
      "source": [
        "<a href=\"https://colab.research.google.com/github/jeanlucjackson/w266_final_project/blob/main/code/sandboxes/RR/triviaqa_split.ipynb\" target=\"_parent\"><img src=\"https://colab.research.google.com/assets/colab-badge.svg\" alt=\"Open In Colab\"/></a>"
      ]
    },
    {
      "cell_type": "code",
      "execution_count": 1,
      "metadata": {
        "colab": {
          "base_uri": "https://localhost:8080/"
        },
        "id": "17N1XaF7d6dW",
        "outputId": "d1d3a267-36a3-41cb-e1b2-944131396930"
      },
      "outputs": [
        {
          "output_type": "stream",
          "name": "stdout",
          "text": [
            "Drive already mounted at /content/drive; to attempt to forcibly remount, call drive.mount(\"/content/drive\", force_remount=True).\n"
          ]
        }
      ],
      "source": [
        "from google.colab import drive\n",
        "drive.mount('/content/drive')"
      ]
    },
    {
      "cell_type": "code",
      "execution_count": 2,
      "metadata": {
        "id": "3jvE9TJRd4cG"
      },
      "outputs": [],
      "source": [
        "import os\n",
        "import glob\n",
        "import numpy as np\n",
        "import pandas as pd\n",
        "\n",
        "from google.colab import data_table\n",
        "data_table.enable_dataframe_formatter()"
      ]
    },
    {
      "cell_type": "code",
      "execution_count": 3,
      "metadata": {
        "id": "iMHoUiDnd9He"
      },
      "outputs": [],
      "source": [
        "# Some important file locations and constants\n",
        "\n",
        "project_root = \"/content/drive/MyDrive/w266 NLP Final Project/\"\n",
        "data_folder = project_root + \"Data/triviaqa/\"\n",
        "\n",
        "T5_source_file = data_folder + \"valid_pairs.csv\"\n",
        "BART_source_file = data_folder + \"bart_valid_pairs.csv\""
      ]
    },
    {
      "cell_type": "code",
      "source": [
        "T5_source_df = pd.read_csv(T5_source_file)\n",
        "BART_source_df = pd.read_csv(BART_source_file)"
      ],
      "metadata": {
        "id": "KpBiLDr0-dWU"
      },
      "execution_count": 4,
      "outputs": []
    },
    {
      "cell_type": "code",
      "source": [
        "T5_counts= [len(str.split()) for str in T5_source_df['orig']]\n",
        "BART_counts = [len(str.split()) for str in BART_source_df['orig']]"
      ],
      "metadata": {
        "id": "GlqR0KjKASfS"
      },
      "execution_count": 5,
      "outputs": []
    },
    {
      "cell_type": "code",
      "source": [
        "T5_quantiles = pd.qcut(T5_counts, 20)\n",
        "BART_quantiles = pd.qcut(BART_counts, 20)\n",
        "#sum(T5_quartiles != BART_quartiles)"
      ],
      "metadata": {
        "id": "Atf_ZKSTB9wd"
      },
      "execution_count": 6,
      "outputs": []
    },
    {
      "cell_type": "code",
      "source": [
        "T5_source_df['quantile'] = T5_quantiles\n",
        "BART_source_df['quantile'] = BART_quantiles"
      ],
      "metadata": {
        "id": "kGbnrnoMFnnR"
      },
      "execution_count": 7,
      "outputs": []
    },
    {
      "cell_type": "code",
      "source": [
        "T5_source_df['quantile'].value_counts()"
      ],
      "metadata": {
        "colab": {
          "base_uri": "https://localhost:8080/"
        },
        "id": "_m_oDx3ZDgSY",
        "outputId": "748c339e-0a3a-4d18-e29b-32db90329963"
      },
      "execution_count": 8,
      "outputs": [
        {
          "output_type": "execute_result",
          "data": {
            "text/plain": [
              "(781.0, 783.0]     713\n",
              "(774.0, 777.0]     575\n",
              "(792.0, 794.0]     575\n",
              "(788.0, 789.0]     574\n",
              "(779.0, 781.0]     571\n",
              "(768.0, 774.0]     567\n",
              "(786.0, 787.0]     542\n",
              "(751.0, 768.0]     520\n",
              "(614.0, 751.0]     508\n",
              "(790.0, 791.0]     506\n",
              "(784.0, 785.0]     494\n",
              "(20.999, 382.0]    493\n",
              "(382.0, 614.0]     492\n",
              "(789.0, 790.0]     458\n",
              "(787.0, 788.0]     442\n",
              "(777.0, 779.0]     414\n",
              "(794.0, 802.0]     367\n",
              "(785.0, 786.0]     361\n",
              "(791.0, 792.0]     338\n",
              "(783.0, 784.0]     325\n",
              "Name: quantile, dtype: int64"
            ]
          },
          "metadata": {},
          "execution_count": 8
        }
      ]
    },
    {
      "cell_type": "code",
      "source": [
        "BART_source_df['quantile'].value_counts()"
      ],
      "metadata": {
        "colab": {
          "base_uri": "https://localhost:8080/"
        },
        "id": "HwGc4ux-GrD2",
        "outputId": "f35a38e2-1f12-4c7d-cc1e-b487b12e85e3"
      },
      "execution_count": 9,
      "outputs": [
        {
          "output_type": "execute_result",
          "data": {
            "text/plain": [
              "(778.0, 780.0]     713\n",
              "(771.0, 774.0]     575\n",
              "(789.0, 791.0]     575\n",
              "(785.0, 786.0]     574\n",
              "(776.0, 778.0]     571\n",
              "(765.0, 771.0]     567\n",
              "(783.0, 784.0]     542\n",
              "(748.0, 765.0]     520\n",
              "(611.0, 748.0]     508\n",
              "(787.0, 788.0]     506\n",
              "(781.0, 782.0]     494\n",
              "(17.999, 379.0]    493\n",
              "(379.0, 611.0]     492\n",
              "(786.0, 787.0]     458\n",
              "(784.0, 785.0]     442\n",
              "(774.0, 776.0]     414\n",
              "(791.0, 799.0]     367\n",
              "(782.0, 783.0]     361\n",
              "(788.0, 789.0]     338\n",
              "(780.0, 781.0]     325\n",
              "Name: quantile, dtype: int64"
            ]
          },
          "metadata": {},
          "execution_count": 9
        }
      ]
    },
    {
      "cell_type": "code",
      "source": [
        "T5_quantiles = pd.qcut(T5_counts, 20, labels=range(1,21))\n",
        "BART_quantiles = pd.qcut(BART_counts, 20, labels=range(1,21))\n",
        "T5_source_df['quantile'] = T5_quantiles\n",
        "BART_source_df['quantile'] = BART_quantiles\n",
        "sum(T5_quantiles != BART_quantiles)"
      ],
      "metadata": {
        "colab": {
          "base_uri": "https://localhost:8080/"
        },
        "id": "WUYcNuarYKn_",
        "outputId": "af780663-f5fa-4b18-b5d6-0d5d0d3b7950"
      },
      "execution_count": 21,
      "outputs": [
        {
          "output_type": "execute_result",
          "data": {
            "text/plain": [
              "0"
            ]
          },
          "metadata": {},
          "execution_count": 21
        }
      ]
    },
    {
      "cell_type": "code",
      "source": [
        "T5_source_df['quantile'].value_counts()"
      ],
      "metadata": {
        "colab": {
          "base_uri": "https://localhost:8080/"
        },
        "id": "TGAAjX1uY0Qt",
        "outputId": "af2b0ad2-ca5b-42b2-b56c-d00c5955edc8"
      },
      "execution_count": 22,
      "outputs": [
        {
          "output_type": "execute_result",
          "data": {
            "text/plain": [
              "9     713\n",
              "6     575\n",
              "19    575\n",
              "15    574\n",
              "8     571\n",
              "5     567\n",
              "13    542\n",
              "4     520\n",
              "3     508\n",
              "17    506\n",
              "11    494\n",
              "1     493\n",
              "2     492\n",
              "16    458\n",
              "14    442\n",
              "7     414\n",
              "20    367\n",
              "12    361\n",
              "18    338\n",
              "10    325\n",
              "Name: quantile, dtype: int64"
            ]
          },
          "metadata": {},
          "execution_count": 22
        }
      ]
    },
    {
      "cell_type": "code",
      "source": [
        "BART_source_df['quantile'].value_counts()"
      ],
      "metadata": {
        "colab": {
          "base_uri": "https://localhost:8080/"
        },
        "id": "5FABF92LZbiZ",
        "outputId": "72a630aa-a026-45a7-bc64-4df55d860227"
      },
      "execution_count": 23,
      "outputs": [
        {
          "output_type": "execute_result",
          "data": {
            "text/plain": [
              "9     713\n",
              "6     575\n",
              "19    575\n",
              "15    574\n",
              "8     571\n",
              "5     567\n",
              "13    542\n",
              "4     520\n",
              "3     508\n",
              "17    506\n",
              "11    494\n",
              "1     493\n",
              "2     492\n",
              "16    458\n",
              "14    442\n",
              "7     414\n",
              "20    367\n",
              "12    361\n",
              "18    338\n",
              "10    325\n",
              "Name: quantile, dtype: int64"
            ]
          },
          "metadata": {},
          "execution_count": 23
        }
      ]
    },
    {
      "cell_type": "code",
      "source": [
        "T5_v1_df = T5_source_df[T5_source_df['quantile'] == 1]\n",
        "T5_v2_df = T5_source_df[T5_source_df['quantile'] == 2]\n",
        "T5_d1_df = T5_source_df[T5_source_df['quantile'] <= 2]\n",
        "BART_v1_df = BART_source_df[BART_source_df['quantile'] == 1]\n",
        "BART_v2_df = BART_source_df[BART_source_df['quantile'] == 2]\n",
        "BART_d1_df = BART_source_df[BART_source_df['quantile'] <= 2]"
      ],
      "metadata": {
        "id": "e5xrA8OwY1Lw"
      },
      "execution_count": 24,
      "outputs": []
    },
    {
      "cell_type": "code",
      "source": [
        "T5_v1_df.to_csv(data_folder + \"valid_pairs_v1.csv\", index=False)\n",
        "T5_v2_df.to_csv(data_folder + \"valid_pairs_v2.csv\", index=False)\n",
        "T5_d1_df.to_csv(data_folder + \"valid_pairs_d1.csv\", index=False)\n",
        "BART_v1_df.to_csv(data_folder + \"bart_valid_pairs_v1.csv\", index=False)\n",
        "BART_v2_df.to_csv(data_folder + \"bart_valid_pairs_v2.csv\", index=False)\n",
        "BART_d1_df.to_csv(data_folder + \"bart_valid_pairs_d1.csv\", index=False)"
      ],
      "metadata": {
        "id": "mSydvlJWgqkY"
      },
      "execution_count": 25,
      "outputs": []
    }
  ],
  "metadata": {
    "colab": {
      "provenance": [],
      "machine_shape": "hm",
      "include_colab_link": true
    },
    "gpuClass": "premium",
    "kernelspec": {
      "display_name": "Python 3 (ipykernel)",
      "language": "python",
      "name": "python3"
    },
    "language_info": {
      "codemirror_mode": {
        "name": "ipython",
        "version": 3
      },
      "file_extension": ".py",
      "mimetype": "text/x-python",
      "name": "python",
      "nbconvert_exporter": "python",
      "pygments_lexer": "ipython3",
      "version": "3.9.12"
    }
  },
  "nbformat": 4,
  "nbformat_minor": 0
}