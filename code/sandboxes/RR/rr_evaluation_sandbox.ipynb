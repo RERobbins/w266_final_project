{
  "nbformat": 4,
  "nbformat_minor": 0,
  "metadata": {
    "colab": {
      "provenance": [],
      "collapsed_sections": [
        "ciKTbDAo6YZs",
        "qiB1BdLHFV9M",
        "s6XRvkI33MMR",
        "7vP_qHhY09ZX",
        "1OfGhg_snQN5",
        "Mcd_R5JUGCxV"
      ],
      "include_colab_link": true
    },
    "kernelspec": {
      "name": "python3",
      "display_name": "Python 3"
    },
    "language_info": {
      "name": "python"
    }
  },
  "cells": [
    {
      "cell_type": "markdown",
      "metadata": {
        "id": "view-in-github",
        "colab_type": "text"
      },
      "source": [
        "<a href=\"https://colab.research.google.com/github/jeanlucjackson/w266_final_project/blob/main/code/sandboxes/RR/rr_evaluation_sandbox.ipynb\" target=\"_parent\"><img src=\"https://colab.research.google.com/assets/colab-badge.svg\" alt=\"Open In Colab\"/></a>"
      ]
    },
    {
      "cell_type": "markdown",
      "source": [
        "### Setup"
      ],
      "metadata": {
        "id": "1szttaXlupSn"
      }
    },
    {
      "cell_type": "code",
      "execution_count": 1,
      "metadata": {
        "colab": {
          "base_uri": "https://localhost:8080/"
        },
        "id": "h2g69HkZJSvo",
        "outputId": "1f67cc39-f4f9-4a5e-e9b4-c43c6e33deac"
      },
      "outputs": [
        {
          "output_type": "stream",
          "name": "stdout",
          "text": [
            "Mounted at /content/drive\n"
          ]
        }
      ],
      "source": [
        "from google.colab import drive\n",
        "\n",
        "drive.mount(\"/content/drive\")"
      ]
    },
    {
      "cell_type": "code",
      "source": [
        "import pandas as pd\n",
        "import numpy as np\n",
        "from sklearn.metrics.pairwise import cosine_similarity\n",
        "\n",
        "import seaborn as sns\n",
        "from matplotlib import pyplot as plt\n",
        "\n",
        "import scipy.stats as st\n",
        "\n",
        "from pprint import pprint\n",
        "\n",
        "pd.set_option(\"precision\", 5)\n",
        "sns.set_theme()"
      ],
      "metadata": {
        "id": "Os8PNswbKW-w"
      },
      "execution_count": 2,
      "outputs": []
    },
    {
      "cell_type": "code",
      "source": [
        "evaluation_root = \"/content/drive/MyDrive/w266 NLP Final Project/Evaluation/\"\n",
        "filename = evaluation_root + \"evaluation_database.json\"\n",
        "\n",
        "evaluation_df = pd.read_json(filename)"
      ],
      "metadata": {
        "id": "g9knLivdJXSg"
      },
      "execution_count": 3,
      "outputs": []
    },
    {
      "cell_type": "code",
      "source": [
        "evaluation_df.columns"
      ],
      "metadata": {
        "colab": {
          "base_uri": "https://localhost:8080/"
        },
        "id": "Xv_nGZ_gY__4",
        "outputId": "dbe85c47-72e5-4bc0-9b08-5ffeb64ef016"
      },
      "execution_count": 4,
      "outputs": [
        {
          "output_type": "execute_result",
          "data": {
            "text/plain": [
              "Index(['prediction_set', 'base_model', 'trained_on', 'tested_on', 'nickname',\n",
              "       'hyperparameter', 'target', 'prediction', 'bleu', 'rouge1', 'rouge2',\n",
              "       'rougeL', 'rougeLsum', 'meteor', 'bertscore-precision',\n",
              "       'bertscore-recall', 'bertscore-f1', 'use', 'bleurt'],\n",
              "      dtype='object')"
            ]
          },
          "metadata": {},
          "execution_count": 4
        }
      ]
    },
    {
      "cell_type": "code",
      "source": [
        "evaluation_exclusions = [\n",
        "    \"rouge1\",\n",
        "    \"rouge2\",\n",
        "    \"rougeLsum\",\n",
        "    \"bertscore-precision\",\n",
        "    \"bertscore-recall\",\n",
        "    \"bleurt\",\n",
        "]\n",
        "evaluation_df = evaluation_df.drop(columns=evaluation_exclusions)"
      ],
      "metadata": {
        "id": "N6T0fJ2Xzuhd"
      },
      "execution_count": 5,
      "outputs": []
    },
    {
      "cell_type": "code",
      "source": [
        "evaluation_metrics = evaluation_df.select_dtypes(exclude=\"object\").columns\n",
        "evaluation_metrics"
      ],
      "metadata": {
        "colab": {
          "base_uri": "https://localhost:8080/"
        },
        "id": "P6nfOkkGBxcv",
        "outputId": "b498e04a-905b-4664-904c-bd2593fc9ea0"
      },
      "execution_count": 6,
      "outputs": [
        {
          "output_type": "execute_result",
          "data": {
            "text/plain": [
              "Index(['bleu', 'rougeL', 'meteor', 'bertscore-f1', 'use'], dtype='object')"
            ]
          },
          "metadata": {},
          "execution_count": 6
        }
      ]
    },
    {
      "cell_type": "code",
      "source": [
        "# Apply this mask to remove all samples from non default inference sets\n",
        "default_hyperparameter_mask = [\n",
        "    sample[\"defaults\"] for sample in evaluation_df.hyperparameter\n",
        "]"
      ],
      "metadata": {
        "id": "doiZOH-sqNc9"
      },
      "execution_count": 7,
      "outputs": []
    },
    {
      "cell_type": "markdown",
      "source": [
        "### BART vs T5\n",
        "\n",
        "In the end, it is hard to distinguish BART from T5, with a slight edge going to T5.\n",
        "\n"
      ],
      "metadata": {
        "id": "ciKTbDAo6YZs"
      }
    },
    {
      "cell_type": "markdown",
      "source": [
        "We built 5 BART models and 5 T5 models.\n",
        "\n",
        "Each set of 5 models includes one model trained on each of our datasets plus one trained on all of our datasets.\n",
        "\n",
        "We ran the validation sets from each of our datasets on each of our ten models yielding 40 sets of predictions."
      ],
      "metadata": {
        "id": "szRDWDak6v-r"
      }
    },
    {
      "cell_type": "markdown",
      "source": [
        "#### In The Aggregate\n",
        "\n",
        "We group the prediction sets by base model and calculate the mean for each metric.\n",
        "\n",
        "In every case, the BART models outperform the T5 models.\n",
        "\n",
        "We applied Welch's t-test to the metric distributions between the two models and, in each case, found $p$ values of less than .05 and reject the hypothesis that the distributions have equal means."
      ],
      "metadata": {
        "id": "CBwU-3oYFc2E"
      }
    },
    {
      "cell_type": "code",
      "source": [
        "df = evaluation_df[default_hyperparameter_mask]\n",
        "df.groupby([\"base_model\"]).mean()\n",
        "df_T5 = df[df[\"base_model\"] == \"T5\"]\n",
        "df_BART = df[df[\"base_model\"] == \"bart\"]"
      ],
      "metadata": {
        "id": "0M1zHZUE1Jxv"
      },
      "execution_count": 10,
      "outputs": []
    },
    {
      "cell_type": "code",
      "source": [
        "print(\"For All Predictions Made\")\n",
        "fig, axes = plt.subplots(2, 3, figsize=(15, 8))\n",
        "for ax, metric in zip(axes.flat, evaluation_metrics):\n",
        "    sns.histplot(x=metric, data=df, hue=\"base_model\", ax=ax)\n",
        "list(axes.flat)[-1].remove()\n",
        "plt.tight_layout()\n",
        "plt.show()"
      ],
      "metadata": {
        "colab": {
          "base_uri": "https://localhost:8080/",
          "height": 598
        },
        "id": "To8Zu5PvWoED",
        "outputId": "3c6c46ac-314f-4636-810c-07f1e8368f31"
      },
      "execution_count": 11,
      "outputs": [
        {
          "output_type": "stream",
          "name": "stdout",
          "text": [
            "For All Predictions Made\n"
          ]
        },
        {
          "output_type": "display_data",
          "data": {
            "text/plain": [
              "<Figure size 1080x576 with 5 Axes>"
            ],
            "image/png": "[encoded data removed]"
          },
          "metadata": {}
        }
      ]
    },
    {
      "cell_type": "code",
      "source": [
        "reject_count = 0\n",
        "fail_to_reject_count = 0\n",
        "\n",
        "print(\"Reject the null hypothesis except where noted otherwise\\n\")\n",
        "\n",
        "for metric in evaluation_metrics:\n",
        "\n",
        "    p = st.ttest_ind(df_T5[metric], df_BART[metric], equal_var=False)[1]\n",
        "\n",
        "    if p <= 0.05:\n",
        "        reject_null = \"\"\n",
        "        reject_count += 1\n",
        "    else:\n",
        "        reject_null = \"***FAIL TO REJECT THE NULL***\"\n",
        "        fail_to_reject_count += 1\n",
        "\n",
        "    print(f\"metric: {metric} Welch's t-test p value {p}, {reject_null}\")\n",
        "\n",
        "print(\n",
        "    f\"\\nreject the null: {reject_count}, fail to reject the null:  {fail_to_reject_count}\"\n",
        ")"
      ],
      "metadata": {
        "id": "YtDlQW4R9vrj",
        "outputId": "cd948fbf-a252-446c-e35e-5aa2a75c4b23",
        "colab": {
          "base_uri": "https://localhost:8080/"
        }
      },
      "execution_count": 12,
      "outputs": [
        {
          "output_type": "stream",
          "name": "stdout",
          "text": [
            "Reject the null hypothesis except where noted otherwise\n",
            "\n",
            "metric: bleu Welch's t-test p value 1.9791640175347386e-23, \n",
            "metric: rougeL Welch's t-test p value 0.0, \n",
            "metric: meteor Welch's t-test p value 4.240592742194901e-230, \n",
            "metric: bertscore-f1 Welch's t-test p value 0.0, \n",
            "metric: use Welch's t-test p value 0.0, \n",
            "\n",
            "reject the null: 5, fail to reject the null:  0\n"
          ]
        }
      ]
    },
    {
      "cell_type": "code",
      "source": [
        "bart_wins = 0\n",
        "t5_wins = 0\n",
        "\n",
        "print(\"BART wins the comparison except where noted otherwise\\n\")\n",
        "\n",
        "for metric in evaluation_metrics:\n",
        "    print(f\"metric: {metric}\", end=\" \")\n",
        "    T5 = df_T5[metric].mean()\n",
        "    BART = df_BART[metric].mean()\n",
        "\n",
        "    if BART > T5:\n",
        "        print(\"\")\n",
        "        bart_wins += 1\n",
        "    else:\n",
        "        print(\"\\t***T5 wins***\")\n",
        "        t5_wins += 1\n",
        "\n",
        "print()\n",
        "print(f\"BART wins: {bart_wins} T5 wins: {t5_wins}\")"
      ],
      "metadata": {
        "id": "zUzMDWDxrbW4",
        "outputId": "ad0c1d79-d4ae-452b-c491-0e066ce8e591",
        "colab": {
          "base_uri": "https://localhost:8080/"
        }
      },
      "execution_count": 13,
      "outputs": [
        {
          "output_type": "stream",
          "name": "stdout",
          "text": [
            "BART wins the comparison except where noted otherwise\n",
            "\n",
            "metric: bleu \n",
            "metric: rougeL \n",
            "metric: meteor \n",
            "metric: bertscore-f1 \n",
            "metric: use \n",
            "\n",
            "BART wins: 5 T5 wins: 0\n"
          ]
        }
      ]
    },
    {
      "cell_type": "markdown",
      "source": [
        "#### Per Training Set\n",
        "\n",
        "We group the prediction sets by base model and training set and calculate the mean for each metric.\n",
        "\n",
        "We have five metrics and five training sets (four individual plus amalgam).\n",
        "\n",
        "In 13 of those 25 cases, the differences in the distributions are not statistically significant.\n",
        "\n",
        "In the 12 cases where the differences in the distributions are significant, BART outperforms T5 for all 5 metrics on each of the QuAC and TriviaQA trained models. On the other hand, T5 outperforms BART on the amalgam trained dataset for Bertscore-F1 and on the NQ trained dataset for USE.\n",
        "\n",
        "So, when we look just at the amalgam trained models, the results are indistinguishable across every metric other than bertscore-f1, where T5 outperforms BART."
      ],
      "metadata": {
        "id": "qiB1BdLHFV9M"
      }
    },
    {
      "cell_type": "code",
      "source": [
        "df = evaluation_df[default_hyperparameter_mask]\n",
        "df = df.groupby([\"trained_on\", \"base_model\"]).mean()\n",
        "df = df.reset_index()\n",
        "training_sets = df.trained_on.unique()\n",
        "df"
      ],
      "metadata": {
        "id": "Tzadu-f4Fsfc",
        "outputId": "f5a13752-a07d-4b93-c64c-57680f310e12",
        "colab": {
          "base_uri": "https://localhost:8080/",
          "height": 363
        }
      },
      "execution_count": 14,
      "outputs": [
        {
          "output_type": "execute_result",
          "data": {
            "text/plain": [
              "  trained_on base_model     bleu   rougeL   meteor  bertscore-f1      use\n",
              "0    amalgam         T5  0.10053  0.39166  0.38429       0.83285  0.58573\n",
              "1    amalgam       bart  0.09873  0.38872  0.38604       0.83153  0.58404\n",
              "2         nq         T5  0.02354  0.29801  0.22997       0.76924  0.50103\n",
              "3         nq       bart  0.02499  0.29348  0.22864       0.76848  0.50252\n",
              "4       quac         T5  0.00495  0.09174  0.09777       0.70548  0.17930\n",
              "5       quac       bart  0.02474  0.26015  0.22003       0.78025  0.42917\n",
              "6      squad         T5  0.06450  0.33603  0.32098       0.81201  0.52813\n",
              "7      squad       bart  0.06580  0.33416  0.32217       0.81202  0.52879\n",
              "8   triviaqa         T5  0.03592  0.26747  0.29125       0.79005  0.48495\n",
              "9   triviaqa       bart  0.04471  0.29440  0.30900       0.79609  0.50747"
            ],
            "text/html": [
              "\n",
              "  <div id=\"df-5a8c27e8-a10f-4c38-a9da-1a9e88dc1c73\">\n",
              "    <div class=\"colab-df-container\">\n",
              "      <div>\n",
              "<style scoped>\n",
              "    .dataframe tbody tr th:only-of-type {\n",
              "        vertical-align: middle;\n",
              "    }\n",
              "\n",
              "    .dataframe tbody tr th {\n",
              "        vertical-align: top;\n",
              "    }\n",
              "\n",
              "    .dataframe thead th {\n",
              "        text-align: right;\n",
              "    }\n",
              "</style>\n",
              "<table border=\"1\" class=\"dataframe\">\n",
              "  <thead>\n",
              "    <tr style=\"text-align: right;\">\n",
              "      <th></th>\n",
              "      <th>trained_on</th>\n",
              "      <th>base_model</th>\n",
              "      <th>bleu</th>\n",
              "      <th>rougeL</th>\n",
              "      <th>meteor</th>\n",
              "      <th>bertscore-f1</th>\n",
              "      <th>use</th>\n",
              "    </tr>\n",
              "  </thead>\n",
              "  <tbody>\n",
              "    <tr>\n",
              "      <th>0</th>\n",
              "      <td>amalgam</td>\n",
              "      <td>T5</td>\n",
              "      <td>0.10053</td>\n",
              "      <td>0.39166</td>\n",
              "      <td>0.38429</td>\n",
              "      <td>0.83285</td>\n",
              "      <td>0.58573</td>\n",
              "    </tr>\n",
              "    <tr>\n",
              "      <th>1</th>\n",
              "      <td>amalgam</td>\n",
              "      <td>bart</td>\n",
              "      <td>0.09873</td>\n",
              "      <td>0.38872</td>\n",
              "      <td>0.38604</td>\n",
              "      <td>0.83153</td>\n",
              "      <td>0.58404</td>\n",
              "    </tr>\n",
              "    <tr>\n",
              "      <th>2</th>\n",
              "      <td>nq</td>\n",
              "      <td>T5</td>\n",
              "      <td>0.02354</td>\n",
              "      <td>0.29801</td>\n",
              "      <td>0.22997</td>\n",
              "      <td>0.76924</td>\n",
              "      <td>0.50103</td>\n",
              "    </tr>\n",
              "    <tr>\n",
              "      <th>3</th>\n",
              "      <td>nq</td>\n",
              "      <td>bart</td>\n",
              "      <td>0.02499</td>\n",
              "      <td>0.29348</td>\n",
              "      <td>0.22864</td>\n",
              "      <td>0.76848</td>\n",
              "      <td>0.50252</td>\n",
              "    </tr>\n",
              "    <tr>\n",
              "      <th>4</th>\n",
              "      <td>quac</td>\n",
              "      <td>T5</td>\n",
              "      <td>0.00495</td>\n",
              "      <td>0.09174</td>\n",
              "      <td>0.09777</td>\n",
              "      <td>0.70548</td>\n",
              "      <td>0.17930</td>\n",
              "    </tr>\n",
              "    <tr>\n",
              "      <th>5</th>\n",
              "      <td>quac</td>\n",
              "      <td>bart</td>\n",
              "      <td>0.02474</td>\n",
              "      <td>0.26015</td>\n",
              "      <td>0.22003</td>\n",
              "      <td>0.78025</td>\n",
              "      <td>0.42917</td>\n",
              "    </tr>\n",
              "    <tr>\n",
              "      <th>6</th>\n",
              "      <td>squad</td>\n",
              "      <td>T5</td>\n",
              "      <td>0.06450</td>\n",
              "      <td>0.33603</td>\n",
              "      <td>0.32098</td>\n",
              "      <td>0.81201</td>\n",
              "      <td>0.52813</td>\n",
              "    </tr>\n",
              "    <tr>\n",
              "      <th>7</th>\n",
              "      <td>squad</td>\n",
              "      <td>bart</td>\n",
              "      <td>0.06580</td>\n",
              "      <td>0.33416</td>\n",
              "      <td>0.32217</td>\n",
              "      <td>0.81202</td>\n",
              "      <td>0.52879</td>\n",
              "    </tr>\n",
              "    <tr>\n",
              "      <th>8</th>\n",
              "      <td>triviaqa</td>\n",
              "      <td>T5</td>\n",
              "      <td>0.03592</td>\n",
              "      <td>0.26747</td>\n",
              "      <td>0.29125</td>\n",
              "      <td>0.79005</td>\n",
              "      <td>0.48495</td>\n",
              "    </tr>\n",
              "    <tr>\n",
              "      <th>9</th>\n",
              "      <td>triviaqa</td>\n",
              "      <td>bart</td>\n",
              "      <td>0.04471</td>\n",
              "      <td>0.29440</td>\n",
              "      <td>0.30900</td>\n",
              "      <td>0.79609</td>\n",
              "      <td>0.50747</td>\n",
              "    </tr>\n",
              "  </tbody>\n",
              "</table>\n",
              "</div>\n",
              "      <button class=\"colab-df-convert\" onclick=\"convertToInteractive('df-5a8c27e8-a10f-4c38-a9da-1a9e88dc1c73')\"\n",
              "              title=\"Convert this dataframe to an interactive table.\"\n",
              "              style=\"display:none;\">\n",
              "        \n",
              "  <svg xmlns=\"http://www.w3.org/2000/svg\" height=\"24px\"viewBox=\"0 0 24 24\"\n",
              "       width=\"24px\">\n",
              "    <path d=\"M0 0h24v24H0V0z\" fill=\"none\"/>\n",
              "    <path d=\"M18.56 5.44l.94 2.06.94-2.06 2.06-.94-2.06-.94-.94-2.06-.94 2.06-2.06.94zm-11 1L8.5 8.5l.94-2.06 2.06-.94-2.06-.94L8.5 2.5l-.94 2.06-2.06.94zm10 10l.94 2.06.94-2.06 2.06-.94-2.06-.94-.94-2.06-.94 2.06-2.06.94z\"/><path d=\"M17.41 7.96l-1.37-1.37c-.4-.4-.92-.59-1.43-.59-.52 0-1.04.2-1.43.59L10.3 9.45l-7.72 7.72c-.78.78-.78 2.05 0 2.83L4 21.41c.39.39.9.59 1.41.59.51 0 1.02-.2 1.41-.59l7.78-7.78 2.81-2.81c.8-.78.8-2.07 0-2.86zM5.41 20L4 18.59l7.72-7.72 1.47 1.35L5.41 20z\"/>\n",
              "  </svg>\n",
              "      </button>\n",
              "      \n",
              "  <style>\n",
              "    .colab-df-container {\n",
              "      display:flex;\n",
              "      flex-wrap:wrap;\n",
              "      gap: 12px;\n",
              "    }\n",
              "\n",
              "    .colab-df-convert {\n",
              "      background-color: #E8F0FE;\n",
              "      border: none;\n",
              "      border-radius: 50%;\n",
              "      cursor: pointer;\n",
              "      display: none;\n",
              "      fill: #1967D2;\n",
              "      height: 32px;\n",
              "      padding: 0 0 0 0;\n",
              "      width: 32px;\n",
              "    }\n",
              "\n",
              "    .colab-df-convert:hover {\n",
              "      background-color: #E2EBFA;\n",
              "      box-shadow: 0px 1px 2px rgba(60, 64, 67, 0.3), 0px 1px 3px 1px rgba(60, 64, 67, 0.15);\n",
              "      fill: #174EA6;\n",
              "    }\n",
              "\n",
              "    [theme=dark] .colab-df-convert {\n",
              "      background-color: #3B4455;\n",
              "      fill: #D2E3FC;\n",
              "    }\n",
              "\n",
              "    [theme=dark] .colab-df-convert:hover {\n",
              "      background-color: #434B5C;\n",
              "      box-shadow: 0px 1px 3px 1px rgba(0, 0, 0, 0.15);\n",
              "      filter: drop-shadow(0px 1px 2px rgba(0, 0, 0, 0.3));\n",
              "      fill: #FFFFFF;\n",
              "    }\n",
              "  </style>\n",
              "\n",
              "      <script>\n",
              "        const buttonEl =\n",
              "          document.querySelector('#df-5a8c27e8-a10f-4c38-a9da-1a9e88dc1c73 button.colab-df-convert');\n",
              "        buttonEl.style.display =\n",
              "          google.colab.kernel.accessAllowed ? 'block' : 'none';\n",
              "\n",
              "        async function convertToInteractive(key) {\n",
              "          const element = document.querySelector('#df-5a8c27e8-a10f-4c38-a9da-1a9e88dc1c73');\n",
              "          const dataTable =\n",
              "            await google.colab.kernel.invokeFunction('convertToInteractive',\n",
              "                                                     [key], {});\n",
              "          if (!dataTable) return;\n",
              "\n",
              "          const docLinkHtml = 'Like what you see? Visit the ' +\n",
              "            '<a target=\"_blank\" href=https://colab.research.google.com/notebooks/data_table.ipynb>data table notebook</a>'\n",
              "            + ' to learn more about interactive tables.';\n",
              "          element.innerHTML = '';\n",
              "          dataTable['output_type'] = 'display_data';\n",
              "          await google.colab.output.renderOutput(dataTable, element);\n",
              "          const docLink = document.createElement('div');\n",
              "          docLink.innerHTML = docLinkHtml;\n",
              "          element.appendChild(docLink);\n",
              "        }\n",
              "      </script>\n",
              "    </div>\n",
              "  </div>\n",
              "  "
            ]
          },
          "metadata": {},
          "execution_count": 14
        }
      ]
    },
    {
      "cell_type": "code",
      "source": [
        "reject = []\n",
        "fail_to_reject = []\n",
        "\n",
        "print(\"Reject the null hypothesis except where noted otherwise\\n\")\n",
        "\n",
        "for training_set in training_sets:\n",
        "    T5_set = df_T5[df_T5[\"trained_on\"] == training_set]\n",
        "    BART_set = df_BART[df_BART[\"trained_on\"] == training_set]\n",
        "\n",
        "    for metric in evaluation_metrics:\n",
        "        p = st.ttest_ind(T5_set[metric], BART_set[metric], equal_var=False)[1]\n",
        "        if p <= 0.05:\n",
        "            reject_null = \"\"\n",
        "            reject.append((training_set, metric))\n",
        "        else:\n",
        "            reject_null = \"***FAIL TO REJECT THE NULL\"\n",
        "            fail_to_reject.append((training_set, metric))\n",
        "\n",
        "        print(\n",
        "            f\"training set: {training_set} metric: {metric} p value: {p}, {reject_null}\"\n",
        "        )\n",
        "\n",
        "print(\n",
        "    f\"\\nreject the null: {len(reject)}, fail to reject the null:  {len(fail_to_reject)}\"\n",
        ")\n",
        "\n",
        "print(\"reject the null:\")\n",
        "pprint(reject)"
      ],
      "metadata": {
        "id": "2fusb5iRFsvk",
        "outputId": "62c47115-d397-4e25-98ea-a02869d30e4a",
        "colab": {
          "base_uri": "https://localhost:8080/"
        }
      },
      "execution_count": 15,
      "outputs": [
        {
          "output_type": "stream",
          "name": "stdout",
          "text": [
            "Reject the null hypothesis except where noted otherwise\n",
            "\n",
            "training set: amalgam metric: bleu p value: 0.33155457217624207, ***FAIL TO REJECT THE NULL\n",
            "training set: amalgam metric: rougeL p value: 0.16550668332605217, ***FAIL TO REJECT THE NULL\n",
            "training set: amalgam metric: meteor p value: 0.41766204420585396, ***FAIL TO REJECT THE NULL\n",
            "training set: amalgam metric: bertscore-f1 p value: 0.04764397222876399, \n",
            "training set: amalgam metric: use p value: 0.38716485857314165, ***FAIL TO REJECT THE NULL\n",
            "training set: nq metric: bleu p value: 0.11419945871024073, ***FAIL TO REJECT THE NULL\n",
            "training set: nq metric: rougeL p value: 0.010631776312341407, \n",
            "training set: nq metric: meteor p value: 0.4402382966513929, ***FAIL TO REJECT THE NULL\n",
            "training set: nq metric: bertscore-f1 p value: 0.22290603302400405, ***FAIL TO REJECT THE NULL\n",
            "training set: nq metric: use p value: 0.41311947824287576, ***FAIL TO REJECT THE NULL\n",
            "training set: quac metric: bleu p value: 5.842527018416679e-125, \n",
            "training set: quac metric: rougeL p value: 0.0, \n",
            "training set: quac metric: meteor p value: 0.0, \n",
            "training set: quac metric: bertscore-f1 p value: 0.0, \n",
            "training set: quac metric: use p value: 0.0, \n",
            "training set: squad metric: bleu p value: 0.39296503673874794, ***FAIL TO REJECT THE NULL\n",
            "training set: squad metric: rougeL p value: 0.3494201159621513, ***FAIL TO REJECT THE NULL\n",
            "training set: squad metric: meteor p value: 0.5608459550593283, ***FAIL TO REJECT THE NULL\n",
            "training set: squad metric: bertscore-f1 p value: 0.9840522395362075, ***FAIL TO REJECT THE NULL\n",
            "training set: squad metric: use p value: 0.7324112462181998, ***FAIL TO REJECT THE NULL\n",
            "training set: triviaqa metric: bleu p value: 2.429960828092899e-16, \n",
            "training set: triviaqa metric: rougeL p value: 4.531755981855174e-55, \n",
            "training set: triviaqa metric: meteor p value: 2.394848060764954e-23, \n",
            "training set: triviaqa metric: bertscore-f1 p value: 3.0245560756690595e-22, \n",
            "training set: triviaqa metric: use p value: 1.050397607470515e-31, \n",
            "\n",
            "reject the null: 12, fail to reject the null:  13\n",
            "reject the null:\n",
            "[('amalgam', 'bertscore-f1'),\n",
            " ('nq', 'rougeL'),\n",
            " ('quac', 'bleu'),\n",
            " ('quac', 'rougeL'),\n",
            " ('quac', 'meteor'),\n",
            " ('quac', 'bertscore-f1'),\n",
            " ('quac', 'use'),\n",
            " ('triviaqa', 'bleu'),\n",
            " ('triviaqa', 'rougeL'),\n",
            " ('triviaqa', 'meteor'),\n",
            " ('triviaqa', 'bertscore-f1'),\n",
            " ('triviaqa', 'use')]\n"
          ]
        }
      ]
    },
    {
      "cell_type": "code",
      "source": [
        "bart_wins = 0\n",
        "t5_wins = 0\n",
        "\n",
        "print(\"BART wins the comparison except where noted otherwise\\n\")\n",
        "\n",
        "for training_set, metric in reject:\n",
        "    print(f\"training set: {training_set}\\tmetric: {metric}\", end=\" \")\n",
        "    T5 = df[(df[\"base_model\"] == \"T5\") & (df[\"trained_on\"] == training_set)][\n",
        "        metric\n",
        "    ].values[0]\n",
        "    BART = df[(df[\"base_model\"] == \"bart\") & (df[\"trained_on\"] == training_set)][\n",
        "        metric\n",
        "    ].values[0]\n",
        "\n",
        "    if BART > T5:\n",
        "        print(\"\")\n",
        "        bart_wins += 1\n",
        "    else:\n",
        "        print(\"\\t***T5 wins***\")\n",
        "        t5_wins += 1\n",
        "\n",
        "print()\n",
        "print(f\"BART wins = {bart_wins} T5 wins = {t5_wins}\")"
      ],
      "metadata": {
        "id": "Fd4RxeTJFspz",
        "outputId": "3ef77cc3-f9c8-45ab-c15f-f5560b7dd433",
        "colab": {
          "base_uri": "https://localhost:8080/"
        }
      },
      "execution_count": 16,
      "outputs": [
        {
          "output_type": "stream",
          "name": "stdout",
          "text": [
            "BART wins the comparison except where noted otherwise\n",
            "\n",
            "training set: amalgam\tmetric: bertscore-f1 \t***T5 wins***\n",
            "training set: nq\tmetric: rougeL \t***T5 wins***\n",
            "training set: quac\tmetric: bleu \n",
            "training set: quac\tmetric: rougeL \n",
            "training set: quac\tmetric: meteor \n",
            "training set: quac\tmetric: bertscore-f1 \n",
            "training set: quac\tmetric: use \n",
            "training set: triviaqa\tmetric: bleu \n",
            "training set: triviaqa\tmetric: rougeL \n",
            "training set: triviaqa\tmetric: meteor \n",
            "training set: triviaqa\tmetric: bertscore-f1 \n",
            "training set: triviaqa\tmetric: use \n",
            "\n",
            "BART wins = 10 T5 wins = 2\n"
          ]
        }
      ]
    },
    {
      "cell_type": "code",
      "source": [
        "df = evaluation_df[default_hyperparameter_mask]\n",
        "df = df[df[\"trained_on\"] == \"amalgam\"]"
      ],
      "metadata": {
        "id": "RGNJeL2hqYhK"
      },
      "execution_count": 17,
      "outputs": []
    },
    {
      "cell_type": "code",
      "source": [
        "print(\"For Amalgam Trained Models\")\n",
        "fig, axes = plt.subplots(2, 3, figsize=(15, 6))\n",
        "for ax, metric in zip(axes.flat, evaluation_metrics):\n",
        "    sns.histplot(x=metric, data=df, hue=\"base_model\", ax=ax)\n",
        "list(axes.flat)[-1].remove()\n",
        "plt.tight_layout()"
      ],
      "metadata": {
        "id": "x--TD2yrpweT",
        "outputId": "e1d5bf09-02df-4cd9-f782-b37ffb428ef7",
        "colab": {
          "base_uri": "https://localhost:8080/",
          "height": 454
        }
      },
      "execution_count": 18,
      "outputs": [
        {
          "output_type": "stream",
          "name": "stdout",
          "text": [
            "For Amalgam Trained Models\n"
          ]
        },
        {
          "output_type": "display_data",
          "data": {
            "text/plain": [
              "<Figure size 1080x432 with 5 Axes>"
            ],
            "image/png": "[encoded data removed]"
          },
          "metadata": {}
        }
      ]
    },
    {
      "cell_type": "markdown",
      "source": [
        "### Which Model Is Best?\n",
        "\n",
        "Next we look at each of our models to see which performs the best when we consider every inference made with that model.  We consider each of our evaluation metrics.\n",
        "\n",
        "For each metric, the top two models are always the amalgram trained models and the next two models are always the squad trained models.\n",
        "\n",
        "As we discussed above, the only statistically significant difference between the amalgam trained models is that T5 outperforms BART on bertscore-F1 and there is not statistically significant difference between how the SQuAD trained models perform on any metric.\n",
        "\n",
        "So, our amalgam trained models are at the top with a slight edge to T5 over BART on those two models."
      ],
      "metadata": {
        "id": "6KYFpaI4y2-W"
      }
    },
    {
      "cell_type": "code",
      "source": [
        "df = evaluation_df[default_hyperparameter_mask]\n",
        "df = df.groupby([\"base_model\", \"trained_on\"]).mean()\n",
        "for metric in evaluation_metrics:\n",
        "    print(metric)\n",
        "    pprint(df[metric].sort_values(ascending=False)[:5])\n",
        "    print()"
      ],
      "metadata": {
        "id": "-kGoID61_u0v",
        "outputId": "4dd53bf7-98f4-44df-d768-4ed527cc1de6",
        "colab": {
          "base_uri": "https://localhost:8080/"
        }
      },
      "execution_count": 19,
      "outputs": [
        {
          "output_type": "stream",
          "name": "stdout",
          "text": [
            "bleu\n",
            "base_model  trained_on\n",
            "T5          amalgam       0.10053\n",
            "bart        amalgam       0.09873\n",
            "            squad         0.06580\n",
            "T5          squad         0.06450\n",
            "bart        triviaqa      0.04471\n",
            "Name: bleu, dtype: float64\n",
            "\n",
            "rougeL\n",
            "base_model  trained_on\n",
            "T5          amalgam       0.39166\n",
            "bart        amalgam       0.38872\n",
            "T5          squad         0.33603\n",
            "bart        squad         0.33416\n",
            "T5          nq            0.29801\n",
            "Name: rougeL, dtype: float64\n",
            "\n",
            "meteor\n",
            "base_model  trained_on\n",
            "bart        amalgam       0.38604\n",
            "T5          amalgam       0.38429\n",
            "bart        squad         0.32217\n",
            "T5          squad         0.32098\n",
            "bart        triviaqa      0.30900\n",
            "Name: meteor, dtype: float64\n",
            "\n",
            "bertscore-f1\n",
            "base_model  trained_on\n",
            "T5          amalgam       0.83285\n",
            "bart        amalgam       0.83153\n",
            "            squad         0.81202\n",
            "T5          squad         0.81201\n",
            "bart        triviaqa      0.79609\n",
            "Name: bertscore-f1, dtype: float64\n",
            "\n",
            "use\n",
            "base_model  trained_on\n",
            "T5          amalgam       0.58573\n",
            "bart        amalgam       0.58404\n",
            "            squad         0.52879\n",
            "T5          squad         0.52813\n",
            "bart        triviaqa      0.50747\n",
            "Name: use, dtype: float64\n",
            "\n"
          ]
        }
      ]
    },
    {
      "cell_type": "code",
      "source": [
        "df = evaluation_df[default_hyperparameter_mask]\n",
        "df = df[df['base_model']=='T5']\n",
        "df = df.groupby([\"trained_on\"]).mean().sort_values(by='use', ascending=False)\n",
        "df = df.multiply(100).reset_index()\n"
      ],
      "metadata": {
        "id": "hxg61ExWvV_b"
      },
      "execution_count": 20,
      "outputs": []
    },
    {
      "cell_type": "code",
      "source": [
        "pd.set_option('display.precision', 2)\n",
        "df"
      ],
      "metadata": {
        "id": "ajk1OS5wytqA",
        "outputId": "1cdc8e0e-9786-4f44-a2a8-2b1d0124db4c",
        "colab": {
          "base_uri": "https://localhost:8080/",
          "height": 206
        }
      },
      "execution_count": 21,
      "outputs": [
        {
          "output_type": "execute_result",
          "data": {
            "text/plain": [
              "  trained_on   bleu  rougeL  meteor  bertscore-f1    use\n",
              "0    amalgam  10.05   39.17   38.43         83.29  58.57\n",
              "1      squad   6.45   33.60   32.10         81.20  52.81\n",
              "2         nq   2.35   29.80   23.00         76.92  50.10\n",
              "3   triviaqa   3.59   26.75   29.13         79.01  48.49\n",
              "4       quac   0.50    9.17    9.78         70.55  17.93"
            ],
            "text/html": [
              "\n",
              "  <div id=\"df-be1032ea-699b-4147-bd3c-97aaac42b41e\">\n",
              "    <div class=\"colab-df-container\">\n",
              "      <div>\n",
              "<style scoped>\n",
              "    .dataframe tbody tr th:only-of-type {\n",
              "        vertical-align: middle;\n",
              "    }\n",
              "\n",
              "    .dataframe tbody tr th {\n",
              "        vertical-align: top;\n",
              "    }\n",
              "\n",
              "    .dataframe thead th {\n",
              "        text-align: right;\n",
              "    }\n",
              "</style>\n",
              "<table border=\"1\" class=\"dataframe\">\n",
              "  <thead>\n",
              "    <tr style=\"text-align: right;\">\n",
              "      <th></th>\n",
              "      <th>trained_on</th>\n",
              "      <th>bleu</th>\n",
              "      <th>rougeL</th>\n",
              "      <th>meteor</th>\n",
              "      <th>bertscore-f1</th>\n",
              "      <th>use</th>\n",
              "    </tr>\n",
              "  </thead>\n",
              "  <tbody>\n",
              "    <tr>\n",
              "      <th>0</th>\n",
              "      <td>amalgam</td>\n",
              "      <td>10.05</td>\n",
              "      <td>39.17</td>\n",
              "      <td>38.43</td>\n",
              "      <td>83.29</td>\n",
              "      <td>58.57</td>\n",
              "    </tr>\n",
              "    <tr>\n",
              "      <th>1</th>\n",
              "      <td>squad</td>\n",
              "      <td>6.45</td>\n",
              "      <td>33.60</td>\n",
              "      <td>32.10</td>\n",
              "      <td>81.20</td>\n",
              "      <td>52.81</td>\n",
              "    </tr>\n",
              "    <tr>\n",
              "      <th>2</th>\n",
              "      <td>nq</td>\n",
              "      <td>2.35</td>\n",
              "      <td>29.80</td>\n",
              "      <td>23.00</td>\n",
              "      <td>76.92</td>\n",
              "      <td>50.10</td>\n",
              "    </tr>\n",
              "    <tr>\n",
              "      <th>3</th>\n",
              "      <td>triviaqa</td>\n",
              "      <td>3.59</td>\n",
              "      <td>26.75</td>\n",
              "      <td>29.13</td>\n",
              "      <td>79.01</td>\n",
              "      <td>48.49</td>\n",
              "    </tr>\n",
              "    <tr>\n",
              "      <th>4</th>\n",
              "      <td>quac</td>\n",
              "      <td>0.50</td>\n",
              "      <td>9.17</td>\n",
              "      <td>9.78</td>\n",
              "      <td>70.55</td>\n",
              "      <td>17.93</td>\n",
              "    </tr>\n",
              "  </tbody>\n",
              "</table>\n",
              "</div>\n",
              "      <button class=\"colab-df-convert\" onclick=\"convertToInteractive('df-be1032ea-699b-4147-bd3c-97aaac42b41e')\"\n",
              "              title=\"Convert this dataframe to an interactive table.\"\n",
              "              style=\"display:none;\">\n",
              "        \n",
              "  <svg xmlns=\"http://www.w3.org/2000/svg\" height=\"24px\"viewBox=\"0 0 24 24\"\n",
              "       width=\"24px\">\n",
              "    <path d=\"M0 0h24v24H0V0z\" fill=\"none\"/>\n",
              "    <path d=\"M18.56 5.44l.94 2.06.94-2.06 2.06-.94-2.06-.94-.94-2.06-.94 2.06-2.06.94zm-11 1L8.5 8.5l.94-2.06 2.06-.94-2.06-.94L8.5 2.5l-.94 2.06-2.06.94zm10 10l.94 2.06.94-2.06 2.06-.94-2.06-.94-.94-2.06-.94 2.06-2.06.94z\"/><path d=\"M17.41 7.96l-1.37-1.37c-.4-.4-.92-.59-1.43-.59-.52 0-1.04.2-1.43.59L10.3 9.45l-7.72 7.72c-.78.78-.78 2.05 0 2.83L4 21.41c.39.39.9.59 1.41.59.51 0 1.02-.2 1.41-.59l7.78-7.78 2.81-2.81c.8-.78.8-2.07 0-2.86zM5.41 20L4 18.59l7.72-7.72 1.47 1.35L5.41 20z\"/>\n",
              "  </svg>\n",
              "      </button>\n",
              "      \n",
              "  <style>\n",
              "    .colab-df-container {\n",
              "      display:flex;\n",
              "      flex-wrap:wrap;\n",
              "      gap: 12px;\n",
              "    }\n",
              "\n",
              "    .colab-df-convert {\n",
              "      background-color: #E8F0FE;\n",
              "      border: none;\n",
              "      border-radius: 50%;\n",
              "      cursor: pointer;\n",
              "      display: none;\n",
              "      fill: #1967D2;\n",
              "      height: 32px;\n",
              "      padding: 0 0 0 0;\n",
              "      width: 32px;\n",
              "    }\n",
              "\n",
              "    .colab-df-convert:hover {\n",
              "      background-color: #E2EBFA;\n",
              "      box-shadow: 0px 1px 2px rgba(60, 64, 67, 0.3), 0px 1px 3px 1px rgba(60, 64, 67, 0.15);\n",
              "      fill: #174EA6;\n",
              "    }\n",
              "\n",
              "    [theme=dark] .colab-df-convert {\n",
              "      background-color: #3B4455;\n",
              "      fill: #D2E3FC;\n",
              "    }\n",
              "\n",
              "    [theme=dark] .colab-df-convert:hover {\n",
              "      background-color: #434B5C;\n",
              "      box-shadow: 0px 1px 3px 1px rgba(0, 0, 0, 0.15);\n",
              "      filter: drop-shadow(0px 1px 2px rgba(0, 0, 0, 0.3));\n",
              "      fill: #FFFFFF;\n",
              "    }\n",
              "  </style>\n",
              "\n",
              "      <script>\n",
              "        const buttonEl =\n",
              "          document.querySelector('#df-be1032ea-699b-4147-bd3c-97aaac42b41e button.colab-df-convert');\n",
              "        buttonEl.style.display =\n",
              "          google.colab.kernel.accessAllowed ? 'block' : 'none';\n",
              "\n",
              "        async function convertToInteractive(key) {\n",
              "          const element = document.querySelector('#df-be1032ea-699b-4147-bd3c-97aaac42b41e');\n",
              "          const dataTable =\n",
              "            await google.colab.kernel.invokeFunction('convertToInteractive',\n",
              "                                                     [key], {});\n",
              "          if (!dataTable) return;\n",
              "\n",
              "          const docLinkHtml = 'Like what you see? Visit the ' +\n",
              "            '<a target=\"_blank\" href=https://colab.research.google.com/notebooks/data_table.ipynb>data table notebook</a>'\n",
              "            + ' to learn more about interactive tables.';\n",
              "          element.innerHTML = '';\n",
              "          dataTable['output_type'] = 'display_data';\n",
              "          await google.colab.output.renderOutput(dataTable, element);\n",
              "          const docLink = document.createElement('div');\n",
              "          docLink.innerHTML = docLinkHtml;\n",
              "          element.appendChild(docLink);\n",
              "        }\n",
              "      </script>\n",
              "    </div>\n",
              "  </div>\n",
              "  "
            ]
          },
          "metadata": {},
          "execution_count": 21
        }
      ]
    },
    {
      "cell_type": "code",
      "source": [
        "df.to_latex(index=False)"
      ],
      "metadata": {
        "id": "fbiEYCUx0WRN",
        "outputId": "f6a42114-4226-41cb-a9ba-ec9d7dc62cad",
        "colab": {
          "base_uri": "https://localhost:8080/",
          "height": 70
        }
      },
      "execution_count": 22,
      "outputs": [
        {
          "output_type": "execute_result",
          "data": {
            "text/plain": [
              "'\\\\begin{tabular}{lrrrrr}\\n\\\\toprule\\ntrained\\\\_on &  bleu &  rougeL &  meteor &  bertscore-f1 &   use \\\\\\\\\\n\\\\midrule\\n   amalgam & 10.05 &   39.17 &   38.43 &         83.29 & 58.57 \\\\\\\\\\n     squad &  6.45 &   33.60 &   32.10 &         81.20 & 52.81 \\\\\\\\\\n        nq &  2.35 &   29.80 &   23.00 &         76.92 & 50.10 \\\\\\\\\\n  triviaqa &  3.59 &   26.75 &   29.13 &         79.01 & 48.49 \\\\\\\\\\n      quac &  0.50 &    9.17 &    9.78 &         70.55 & 17.93 \\\\\\\\\\n\\\\bottomrule\\n\\\\end{tabular}\\n'"
            ],
            "application/vnd.google.colaboratory.intrinsic+json": {
              "type": "string"
            }
          },
          "metadata": {},
          "execution_count": 22
        }
      ]
    },
    {
      "cell_type": "code",
      "source": [
        "pd.reset_option('display.precision')\n",
        "df"
      ],
      "metadata": {
        "id": "R23KxpvfzzJY",
        "outputId": "5f3eca5f-fc47-4cba-bfdb-88500046adfb",
        "colab": {
          "base_uri": "https://localhost:8080/",
          "height": 206
        }
      },
      "execution_count": 23,
      "outputs": [
        {
          "output_type": "execute_result",
          "data": {
            "text/plain": [
              "  trained_on       bleu     rougeL     meteor  bertscore-f1        use\n",
              "0    amalgam  10.053108  39.166116  38.429295     83.285436  58.572591\n",
              "1      squad   6.450104  33.603497  32.098022     81.201079  52.812646\n",
              "2         nq   2.353728  29.801388  22.997445     76.923511  50.102933\n",
              "3   triviaqa   3.592048  26.747323  29.125416     79.005200  48.494866\n",
              "4       quac   0.495437   9.173745   9.776580     70.548394  17.929878"
            ],
            "text/html": [
              "\n",
              "  <div id=\"df-9ce824cd-3ea5-40f5-ba7a-3c69d44d8e40\">\n",
              "    <div class=\"colab-df-container\">\n",
              "      <div>\n",
              "<style scoped>\n",
              "    .dataframe tbody tr th:only-of-type {\n",
              "        vertical-align: middle;\n",
              "    }\n",
              "\n",
              "    .dataframe tbody tr th {\n",
              "        vertical-align: top;\n",
              "    }\n",
              "\n",
              "    .dataframe thead th {\n",
              "        text-align: right;\n",
              "    }\n",
              "</style>\n",
              "<table border=\"1\" class=\"dataframe\">\n",
              "  <thead>\n",
              "    <tr style=\"text-align: right;\">\n",
              "      <th></th>\n",
              "      <th>trained_on</th>\n",
              "      <th>bleu</th>\n",
              "      <th>rougeL</th>\n",
              "      <th>meteor</th>\n",
              "      <th>bertscore-f1</th>\n",
              "      <th>use</th>\n",
              "    </tr>\n",
              "  </thead>\n",
              "  <tbody>\n",
              "    <tr>\n",
              "      <th>0</th>\n",
              "      <td>amalgam</td>\n",
              "      <td>10.053108</td>\n",
              "      <td>39.166116</td>\n",
              "      <td>38.429295</td>\n",
              "      <td>83.285436</td>\n",
              "      <td>58.572591</td>\n",
              "    </tr>\n",
              "    <tr>\n",
              "      <th>1</th>\n",
              "      <td>squad</td>\n",
              "      <td>6.450104</td>\n",
              "      <td>33.603497</td>\n",
              "      <td>32.098022</td>\n",
              "      <td>81.201079</td>\n",
              "      <td>52.812646</td>\n",
              "    </tr>\n",
              "    <tr>\n",
              "      <th>2</th>\n",
              "      <td>nq</td>\n",
              "      <td>2.353728</td>\n",
              "      <td>29.801388</td>\n",
              "      <td>22.997445</td>\n",
              "      <td>76.923511</td>\n",
              "      <td>50.102933</td>\n",
              "    </tr>\n",
              "    <tr>\n",
              "      <th>3</th>\n",
              "      <td>triviaqa</td>\n",
              "      <td>3.592048</td>\n",
              "      <td>26.747323</td>\n",
              "      <td>29.125416</td>\n",
              "      <td>79.005200</td>\n",
              "      <td>48.494866</td>\n",
              "    </tr>\n",
              "    <tr>\n",
              "      <th>4</th>\n",
              "      <td>quac</td>\n",
              "      <td>0.495437</td>\n",
              "      <td>9.173745</td>\n",
              "      <td>9.776580</td>\n",
              "      <td>70.548394</td>\n",
              "      <td>17.929878</td>\n",
              "    </tr>\n",
              "  </tbody>\n",
              "</table>\n",
              "</div>\n",
              "      <button class=\"colab-df-convert\" onclick=\"convertToInteractive('df-9ce824cd-3ea5-40f5-ba7a-3c69d44d8e40')\"\n",
              "              title=\"Convert this dataframe to an interactive table.\"\n",
              "              style=\"display:none;\">\n",
              "        \n",
              "  <svg xmlns=\"http://www.w3.org/2000/svg\" height=\"24px\"viewBox=\"0 0 24 24\"\n",
              "       width=\"24px\">\n",
              "    <path d=\"M0 0h24v24H0V0z\" fill=\"none\"/>\n",
              "    <path d=\"M18.56 5.44l.94 2.06.94-2.06 2.06-.94-2.06-.94-.94-2.06-.94 2.06-2.06.94zm-11 1L8.5 8.5l.94-2.06 2.06-.94-2.06-.94L8.5 2.5l-.94 2.06-2.06.94zm10 10l.94 2.06.94-2.06 2.06-.94-2.06-.94-.94-2.06-.94 2.06-2.06.94z\"/><path d=\"M17.41 7.96l-1.37-1.37c-.4-.4-.92-.59-1.43-.59-.52 0-1.04.2-1.43.59L10.3 9.45l-7.72 7.72c-.78.78-.78 2.05 0 2.83L4 21.41c.39.39.9.59 1.41.59.51 0 1.02-.2 1.41-.59l7.78-7.78 2.81-2.81c.8-.78.8-2.07 0-2.86zM5.41 20L4 18.59l7.72-7.72 1.47 1.35L5.41 20z\"/>\n",
              "  </svg>\n",
              "      </button>\n",
              "      \n",
              "  <style>\n",
              "    .colab-df-container {\n",
              "      display:flex;\n",
              "      flex-wrap:wrap;\n",
              "      gap: 12px;\n",
              "    }\n",
              "\n",
              "    .colab-df-convert {\n",
              "      background-color: #E8F0FE;\n",
              "      border: none;\n",
              "      border-radius: 50%;\n",
              "      cursor: pointer;\n",
              "      display: none;\n",
              "      fill: #1967D2;\n",
              "      height: 32px;\n",
              "      padding: 0 0 0 0;\n",
              "      width: 32px;\n",
              "    }\n",
              "\n",
              "    .colab-df-convert:hover {\n",
              "      background-color: #E2EBFA;\n",
              "      box-shadow: 0px 1px 2px rgba(60, 64, 67, 0.3), 0px 1px 3px 1px rgba(60, 64, 67, 0.15);\n",
              "      fill: #174EA6;\n",
              "    }\n",
              "\n",
              "    [theme=dark] .colab-df-convert {\n",
              "      background-color: #3B4455;\n",
              "      fill: #D2E3FC;\n",
              "    }\n",
              "\n",
              "    [theme=dark] .colab-df-convert:hover {\n",
              "      background-color: #434B5C;\n",
              "      box-shadow: 0px 1px 3px 1px rgba(0, 0, 0, 0.15);\n",
              "      filter: drop-shadow(0px 1px 2px rgba(0, 0, 0, 0.3));\n",
              "      fill: #FFFFFF;\n",
              "    }\n",
              "  </style>\n",
              "\n",
              "      <script>\n",
              "        const buttonEl =\n",
              "          document.querySelector('#df-9ce824cd-3ea5-40f5-ba7a-3c69d44d8e40 button.colab-df-convert');\n",
              "        buttonEl.style.display =\n",
              "          google.colab.kernel.accessAllowed ? 'block' : 'none';\n",
              "\n",
              "        async function convertToInteractive(key) {\n",
              "          const element = document.querySelector('#df-9ce824cd-3ea5-40f5-ba7a-3c69d44d8e40');\n",
              "          const dataTable =\n",
              "            await google.colab.kernel.invokeFunction('convertToInteractive',\n",
              "                                                     [key], {});\n",
              "          if (!dataTable) return;\n",
              "\n",
              "          const docLinkHtml = 'Like what you see? Visit the ' +\n",
              "            '<a target=\"_blank\" href=https://colab.research.google.com/notebooks/data_table.ipynb>data table notebook</a>'\n",
              "            + ' to learn more about interactive tables.';\n",
              "          element.innerHTML = '';\n",
              "          dataTable['output_type'] = 'display_data';\n",
              "          await google.colab.output.renderOutput(dataTable, element);\n",
              "          const docLink = document.createElement('div');\n",
              "          docLink.innerHTML = docLinkHtml;\n",
              "          element.appendChild(docLink);\n",
              "        }\n",
              "      </script>\n",
              "    </div>\n",
              "  </div>\n",
              "  "
            ]
          },
          "metadata": {},
          "execution_count": 23
        }
      ]
    },
    {
      "cell_type": "markdown",
      "source": [
        "### Sequentially Trained Blended Models\n",
        "\n",
        "We compare the sn, snq and snqt models using the same methodology applied in the last section.  We look at every inference made and then each metric.\n",
        "\n",
        "For all metrics, the snqt model is the highest performer of the three sequentially trained models.  There is some variation between the second and third performers.  All differences are statistically significant.\n",
        "\n",
        "While snqt is the best of the sequentially trained models, it never outperforms the blended model that was trained on shuffled data."
      ],
      "metadata": {
        "id": "2aE97JPN3tVp"
      }
    },
    {
      "cell_type": "code",
      "source": [
        "#filename = evaluation_root + \"evaluation_database_snqt.json\"\n",
        "\n",
        "experiment_root = \"/content/drive/MyDrive/w266 NLP Final Project/Evaluation_RER_Experiment/\"\n",
        "filename = experiment_root + \"evaluation_database.json\"\n",
        "evaluation_df_2 = pd.read_json(filename)\n",
        "evaluation_df_2 = evaluation_df_2[evaluation_df_2['base_model'] == \"T5\"]"
      ],
      "metadata": {
        "id": "r_s0rBtQ32GA"
      },
      "execution_count": 32,
      "outputs": []
    },
    {
      "cell_type": "code",
      "source": [
        "default_hyperparameter_mask_2 = [\n",
        "    sample[\"defaults\"] for sample in evaluation_df_2.hyperparameter\n",
        "]\n",
        "evaluation_df_2 = evaluation_df_2.drop(columns=evaluation_exclusions)\n"
      ],
      "metadata": {
        "id": "zlrn3nLR41SX"
      },
      "execution_count": 33,
      "outputs": []
    },
    {
      "cell_type": "code",
      "source": [
        "evaluation_df_2[:1]"
      ],
      "metadata": {
        "id": "_RD0PYGhuO35",
        "outputId": "94cff8a7-48ce-43aa-b3a6-93b2c92f802c",
        "colab": {
          "base_uri": "https://localhost:8080/",
          "height": 159
        }
      },
      "execution_count": 35,
      "outputs": [
        {
          "output_type": "execute_result",
          "data": {
            "text/plain": [
              "                              prediction_set base_model trained_on tested_on  \\\n",
              "59614  predictions.T5_base_pt_long.sn.nq.csv         T5         sn        nq   \n",
              "\n",
              "       nickname      hyperparameter                                  target  \\\n",
              "59614  T5_sn_nq  {'defaults': True}  what was the real name of saudi arabia   \n",
              "\n",
              "                                      prediction  bleu    rougeL    meteor  \\\n",
              "59614  what is the name of the new saudi kingdom   0.0  0.588235  0.459259   \n",
              "\n",
              "       bertscore-f1       use  \n",
              "59614      0.909838  0.750968  "
            ],
            "text/html": [
              "\n",
              "  <div id=\"df-fac5a0c9-5bf0-4e70-9258-173372f00685\">\n",
              "    <div class=\"colab-df-container\">\n",
              "      <div>\n",
              "<style scoped>\n",
              "    .dataframe tbody tr th:only-of-type {\n",
              "        vertical-align: middle;\n",
              "    }\n",
              "\n",
              "    .dataframe tbody tr th {\n",
              "        vertical-align: top;\n",
              "    }\n",
              "\n",
              "    .dataframe thead th {\n",
              "        text-align: right;\n",
              "    }\n",
              "</style>\n",
              "<table border=\"1\" class=\"dataframe\">\n",
              "  <thead>\n",
              "    <tr style=\"text-align: right;\">\n",
              "      <th></th>\n",
              "      <th>prediction_set</th>\n",
              "      <th>base_model</th>\n",
              "      <th>trained_on</th>\n",
              "      <th>tested_on</th>\n",
              "      <th>nickname</th>\n",
              "      <th>hyperparameter</th>\n",
              "      <th>target</th>\n",
              "      <th>prediction</th>\n",
              "      <th>bleu</th>\n",
              "      <th>rougeL</th>\n",
              "      <th>meteor</th>\n",
              "      <th>bertscore-f1</th>\n",
              "      <th>use</th>\n",
              "    </tr>\n",
              "  </thead>\n",
              "  <tbody>\n",
              "    <tr>\n",
              "      <th>59614</th>\n",
              "      <td>predictions.T5_base_pt_long.sn.nq.csv</td>\n",
              "      <td>T5</td>\n",
              "      <td>sn</td>\n",
              "      <td>nq</td>\n",
              "      <td>T5_sn_nq</td>\n",
              "      <td>{'defaults': True}</td>\n",
              "      <td>what was the real name of saudi arabia</td>\n",
              "      <td>what is the name of the new saudi kingdom</td>\n",
              "      <td>0.0</td>\n",
              "      <td>0.588235</td>\n",
              "      <td>0.459259</td>\n",
              "      <td>0.909838</td>\n",
              "      <td>0.750968</td>\n",
              "    </tr>\n",
              "  </tbody>\n",
              "</table>\n",
              "</div>\n",
              "      <button class=\"colab-df-convert\" onclick=\"convertToInteractive('df-fac5a0c9-5bf0-4e70-9258-173372f00685')\"\n",
              "              title=\"Convert this dataframe to an interactive table.\"\n",
              "              style=\"display:none;\">\n",
              "        \n",
              "  <svg xmlns=\"http://www.w3.org/2000/svg\" height=\"24px\"viewBox=\"0 0 24 24\"\n",
              "       width=\"24px\">\n",
              "    <path d=\"M0 0h24v24H0V0z\" fill=\"none\"/>\n",
              "    <path d=\"M18.56 5.44l.94 2.06.94-2.06 2.06-.94-2.06-.94-.94-2.06-.94 2.06-2.06.94zm-11 1L8.5 8.5l.94-2.06 2.06-.94-2.06-.94L8.5 2.5l-.94 2.06-2.06.94zm10 10l.94 2.06.94-2.06 2.06-.94-2.06-.94-.94-2.06-.94 2.06-2.06.94z\"/><path d=\"M17.41 7.96l-1.37-1.37c-.4-.4-.92-.59-1.43-.59-.52 0-1.04.2-1.43.59L10.3 9.45l-7.72 7.72c-.78.78-.78 2.05 0 2.83L4 21.41c.39.39.9.59 1.41.59.51 0 1.02-.2 1.41-.59l7.78-7.78 2.81-2.81c.8-.78.8-2.07 0-2.86zM5.41 20L4 18.59l7.72-7.72 1.47 1.35L5.41 20z\"/>\n",
              "  </svg>\n",
              "      </button>\n",
              "      \n",
              "  <style>\n",
              "    .colab-df-container {\n",
              "      display:flex;\n",
              "      flex-wrap:wrap;\n",
              "      gap: 12px;\n",
              "    }\n",
              "\n",
              "    .colab-df-convert {\n",
              "      background-color: #E8F0FE;\n",
              "      border: none;\n",
              "      border-radius: 50%;\n",
              "      cursor: pointer;\n",
              "      display: none;\n",
              "      fill: #1967D2;\n",
              "      height: 32px;\n",
              "      padding: 0 0 0 0;\n",
              "      width: 32px;\n",
              "    }\n",
              "\n",
              "    .colab-df-convert:hover {\n",
              "      background-color: #E2EBFA;\n",
              "      box-shadow: 0px 1px 2px rgba(60, 64, 67, 0.3), 0px 1px 3px 1px rgba(60, 64, 67, 0.15);\n",
              "      fill: #174EA6;\n",
              "    }\n",
              "\n",
              "    [theme=dark] .colab-df-convert {\n",
              "      background-color: #3B4455;\n",
              "      fill: #D2E3FC;\n",
              "    }\n",
              "\n",
              "    [theme=dark] .colab-df-convert:hover {\n",
              "      background-color: #434B5C;\n",
              "      box-shadow: 0px 1px 3px 1px rgba(0, 0, 0, 0.15);\n",
              "      filter: drop-shadow(0px 1px 2px rgba(0, 0, 0, 0.3));\n",
              "      fill: #FFFFFF;\n",
              "    }\n",
              "  </style>\n",
              "\n",
              "      <script>\n",
              "        const buttonEl =\n",
              "          document.querySelector('#df-fac5a0c9-5bf0-4e70-9258-173372f00685 button.colab-df-convert');\n",
              "        buttonEl.style.display =\n",
              "          google.colab.kernel.accessAllowed ? 'block' : 'none';\n",
              "\n",
              "        async function convertToInteractive(key) {\n",
              "          const element = document.querySelector('#df-fac5a0c9-5bf0-4e70-9258-173372f00685');\n",
              "          const dataTable =\n",
              "            await google.colab.kernel.invokeFunction('convertToInteractive',\n",
              "                                                     [key], {});\n",
              "          if (!dataTable) return;\n",
              "\n",
              "          const docLinkHtml = 'Like what you see? Visit the ' +\n",
              "            '<a target=\"_blank\" href=https://colab.research.google.com/notebooks/data_table.ipynb>data table notebook</a>'\n",
              "            + ' to learn more about interactive tables.';\n",
              "          element.innerHTML = '';\n",
              "          dataTable['output_type'] = 'display_data';\n",
              "          await google.colab.output.renderOutput(dataTable, element);\n",
              "          const docLink = document.createElement('div');\n",
              "          docLink.innerHTML = docLinkHtml;\n",
              "          element.appendChild(docLink);\n",
              "        }\n",
              "      </script>\n",
              "    </div>\n",
              "  </div>\n",
              "  "
            ]
          },
          "metadata": {},
          "execution_count": 35
        }
      ]
    },
    {
      "cell_type": "markdown",
      "source": [
        "#### snqt outperforms sn and snq for each metric, all differences are statistically significant."
      ],
      "metadata": {
        "id": "YmsBuIoYPIAz"
      }
    },
    {
      "cell_type": "code",
      "source": [
        "df = evaluation_df_2[default_hyperparameter_mask_2]\n",
        "df = (\n",
        "    df.groupby([\"base_model\", \"trained_on\"])\n",
        "    .mean()\n",
        "    .sort_values(by=\"use\", ascending=False)\n",
        ")\n",
        "df"
      ],
      "metadata": {
        "id": "cy6lHYeO4kZr",
        "outputId": "1ee5df39-8c66-4f41-e99b-8407d7f63e7c",
        "colab": {
          "base_uri": "https://localhost:8080/",
          "height": 175
        }
      },
      "execution_count": 36,
      "outputs": [
        {
          "output_type": "execute_result",
          "data": {
            "text/plain": [
              "                           bleu    rougeL    meteor  bertscore-f1       use\n",
              "base_model trained_on                                                      \n",
              "T5         snqt        0.053663  0.324955  0.335580      0.808008  0.535357\n",
              "           sn          0.026570  0.309988  0.243392      0.774693  0.515250\n",
              "           snq         0.037292  0.282307  0.246667      0.786718  0.448824"
            ],
            "text/html": [
              "\n",
              "  <div id=\"df-0b032e6a-bc3c-4780-975b-f54c3132e0b9\">\n",
              "    <div class=\"colab-df-container\">\n",
              "      <div>\n",
              "<style scoped>\n",
              "    .dataframe tbody tr th:only-of-type {\n",
              "        vertical-align: middle;\n",
              "    }\n",
              "\n",
              "    .dataframe tbody tr th {\n",
              "        vertical-align: top;\n",
              "    }\n",
              "\n",
              "    .dataframe thead th {\n",
              "        text-align: right;\n",
              "    }\n",
              "</style>\n",
              "<table border=\"1\" class=\"dataframe\">\n",
              "  <thead>\n",
              "    <tr style=\"text-align: right;\">\n",
              "      <th></th>\n",
              "      <th></th>\n",
              "      <th>bleu</th>\n",
              "      <th>rougeL</th>\n",
              "      <th>meteor</th>\n",
              "      <th>bertscore-f1</th>\n",
              "      <th>use</th>\n",
              "    </tr>\n",
              "    <tr>\n",
              "      <th>base_model</th>\n",
              "      <th>trained_on</th>\n",
              "      <th></th>\n",
              "      <th></th>\n",
              "      <th></th>\n",
              "      <th></th>\n",
              "      <th></th>\n",
              "    </tr>\n",
              "  </thead>\n",
              "  <tbody>\n",
              "    <tr>\n",
              "      <th rowspan=\"3\" valign=\"top\">T5</th>\n",
              "      <th>snqt</th>\n",
              "      <td>0.053663</td>\n",
              "      <td>0.324955</td>\n",
              "      <td>0.335580</td>\n",
              "      <td>0.808008</td>\n",
              "      <td>0.535357</td>\n",
              "    </tr>\n",
              "    <tr>\n",
              "      <th>sn</th>\n",
              "      <td>0.026570</td>\n",
              "      <td>0.309988</td>\n",
              "      <td>0.243392</td>\n",
              "      <td>0.774693</td>\n",
              "      <td>0.515250</td>\n",
              "    </tr>\n",
              "    <tr>\n",
              "      <th>snq</th>\n",
              "      <td>0.037292</td>\n",
              "      <td>0.282307</td>\n",
              "      <td>0.246667</td>\n",
              "      <td>0.786718</td>\n",
              "      <td>0.448824</td>\n",
              "    </tr>\n",
              "  </tbody>\n",
              "</table>\n",
              "</div>\n",
              "      <button class=\"colab-df-convert\" onclick=\"convertToInteractive('df-0b032e6a-bc3c-4780-975b-f54c3132e0b9')\"\n",
              "              title=\"Convert this dataframe to an interactive table.\"\n",
              "              style=\"display:none;\">\n",
              "        \n",
              "  <svg xmlns=\"http://www.w3.org/2000/svg\" height=\"24px\"viewBox=\"0 0 24 24\"\n",
              "       width=\"24px\">\n",
              "    <path d=\"M0 0h24v24H0V0z\" fill=\"none\"/>\n",
              "    <path d=\"M18.56 5.44l.94 2.06.94-2.06 2.06-.94-2.06-.94-.94-2.06-.94 2.06-2.06.94zm-11 1L8.5 8.5l.94-2.06 2.06-.94-2.06-.94L8.5 2.5l-.94 2.06-2.06.94zm10 10l.94 2.06.94-2.06 2.06-.94-2.06-.94-.94-2.06-.94 2.06-2.06.94z\"/><path d=\"M17.41 7.96l-1.37-1.37c-.4-.4-.92-.59-1.43-.59-.52 0-1.04.2-1.43.59L10.3 9.45l-7.72 7.72c-.78.78-.78 2.05 0 2.83L4 21.41c.39.39.9.59 1.41.59.51 0 1.02-.2 1.41-.59l7.78-7.78 2.81-2.81c.8-.78.8-2.07 0-2.86zM5.41 20L4 18.59l7.72-7.72 1.47 1.35L5.41 20z\"/>\n",
              "  </svg>\n",
              "      </button>\n",
              "      \n",
              "  <style>\n",
              "    .colab-df-container {\n",
              "      display:flex;\n",
              "      flex-wrap:wrap;\n",
              "      gap: 12px;\n",
              "    }\n",
              "\n",
              "    .colab-df-convert {\n",
              "      background-color: #E8F0FE;\n",
              "      border: none;\n",
              "      border-radius: 50%;\n",
              "      cursor: pointer;\n",
              "      display: none;\n",
              "      fill: #1967D2;\n",
              "      height: 32px;\n",
              "      padding: 0 0 0 0;\n",
              "      width: 32px;\n",
              "    }\n",
              "\n",
              "    .colab-df-convert:hover {\n",
              "      background-color: #E2EBFA;\n",
              "      box-shadow: 0px 1px 2px rgba(60, 64, 67, 0.3), 0px 1px 3px 1px rgba(60, 64, 67, 0.15);\n",
              "      fill: #174EA6;\n",
              "    }\n",
              "\n",
              "    [theme=dark] .colab-df-convert {\n",
              "      background-color: #3B4455;\n",
              "      fill: #D2E3FC;\n",
              "    }\n",
              "\n",
              "    [theme=dark] .colab-df-convert:hover {\n",
              "      background-color: #434B5C;\n",
              "      box-shadow: 0px 1px 3px 1px rgba(0, 0, 0, 0.15);\n",
              "      filter: drop-shadow(0px 1px 2px rgba(0, 0, 0, 0.3));\n",
              "      fill: #FFFFFF;\n",
              "    }\n",
              "  </style>\n",
              "\n",
              "      <script>\n",
              "        const buttonEl =\n",
              "          document.querySelector('#df-0b032e6a-bc3c-4780-975b-f54c3132e0b9 button.colab-df-convert');\n",
              "        buttonEl.style.display =\n",
              "          google.colab.kernel.accessAllowed ? 'block' : 'none';\n",
              "\n",
              "        async function convertToInteractive(key) {\n",
              "          const element = document.querySelector('#df-0b032e6a-bc3c-4780-975b-f54c3132e0b9');\n",
              "          const dataTable =\n",
              "            await google.colab.kernel.invokeFunction('convertToInteractive',\n",
              "                                                     [key], {});\n",
              "          if (!dataTable) return;\n",
              "\n",
              "          const docLinkHtml = 'Like what you see? Visit the ' +\n",
              "            '<a target=\"_blank\" href=https://colab.research.google.com/notebooks/data_table.ipynb>data table notebook</a>'\n",
              "            + ' to learn more about interactive tables.';\n",
              "          element.innerHTML = '';\n",
              "          dataTable['output_type'] = 'display_data';\n",
              "          await google.colab.output.renderOutput(dataTable, element);\n",
              "          const docLink = document.createElement('div');\n",
              "          docLink.innerHTML = docLinkHtml;\n",
              "          element.appendChild(docLink);\n",
              "        }\n",
              "      </script>\n",
              "    </div>\n",
              "  </div>\n",
              "  "
            ]
          },
          "metadata": {},
          "execution_count": 36
        }
      ]
    },
    {
      "cell_type": "code",
      "source": [
        "for metric in evaluation_metrics:\n",
        "    print(metric)\n",
        "    pprint(df[metric].sort_values(ascending=False)[:3])\n",
        "    print()"
      ],
      "metadata": {
        "id": "BoynwyTP6d5d",
        "outputId": "0198de11-debe-4752-ec41-f04a7adb8645",
        "colab": {
          "base_uri": "https://localhost:8080/"
        }
      },
      "execution_count": 37,
      "outputs": [
        {
          "output_type": "stream",
          "name": "stdout",
          "text": [
            "bleu\n",
            "base_model  trained_on\n",
            "T5          snqt          0.053663\n",
            "            snq           0.037292\n",
            "            sn            0.026570\n",
            "Name: bleu, dtype: float64\n",
            "\n",
            "rougeL\n",
            "base_model  trained_on\n",
            "T5          snqt          0.324955\n",
            "            sn            0.309988\n",
            "            snq           0.282307\n",
            "Name: rougeL, dtype: float64\n",
            "\n",
            "meteor\n",
            "base_model  trained_on\n",
            "T5          snqt          0.335580\n",
            "            snq           0.246667\n",
            "            sn            0.243392\n",
            "Name: meteor, dtype: float64\n",
            "\n",
            "bertscore-f1\n",
            "base_model  trained_on\n",
            "T5          snqt          0.808008\n",
            "            snq           0.786718\n",
            "            sn            0.774693\n",
            "Name: bertscore-f1, dtype: float64\n",
            "\n",
            "use\n",
            "base_model  trained_on\n",
            "T5          snqt          0.535357\n",
            "            sn            0.515250\n",
            "            snq           0.448824\n",
            "Name: use, dtype: float64\n",
            "\n"
          ]
        }
      ]
    },
    {
      "cell_type": "code",
      "source": [
        "df = evaluation_df_2[default_hyperparameter_mask_2]\n",
        "\n",
        "snqt_set = df[df[\"trained_on\"] == \"snqt\"]\n",
        "\n",
        "reject = []\n",
        "fail_to_reject = []\n",
        "\n",
        "print(\"Reject the null hypothesis except where noted otherwise\\n\")\n",
        "\n",
        "for training_set in [\"sn\", \"snq\"]:\n",
        "    candidate_set = df[df[\"trained_on\"] == training_set]\n",
        "\n",
        "    for metric in evaluation_metrics:\n",
        "        p = st.ttest_ind(snqt_set[metric], candidate_set[metric], equal_var=False)[1]\n",
        "        if p <= 0.05:\n",
        "            reject_null = \"\"\n",
        "            reject.append((training_set, metric))\n",
        "        else:\n",
        "            reject_null = \"***FAIL TO REJECT THE NULL\"\n",
        "            fail_to_reject.append((training_set, metric))\n",
        "\n",
        "        print(\n",
        "            f\"training set: {training_set} metric: {metric} p value: {p}, {reject_null}\"\n",
        "        )\n",
        "\n",
        "print(\n",
        "    f\"\\nreject the null: {len(reject)}, fail to reject the null: {len(fail_to_reject)}\"\n",
        ")"
      ],
      "metadata": {
        "id": "Ebwf51FdTTP_",
        "outputId": "e6501f4d-f1c1-4e5c-81ed-6fb194bf2b17",
        "colab": {
          "base_uri": "https://localhost:8080/"
        }
      },
      "execution_count": 38,
      "outputs": [
        {
          "output_type": "stream",
          "name": "stdout",
          "text": [
            "Reject the null hypothesis except where noted otherwise\n",
            "\n",
            "training set: sn metric: bleu p value: 2.219859225718957e-128, \n",
            "training set: sn metric: rougeL p value: 3.847921905670774e-16, \n",
            "training set: sn metric: meteor p value: 0.0, \n",
            "training set: sn metric: bertscore-f1 p value: 0.0, \n",
            "training set: sn metric: use p value: 1.1457319968479529e-26, \n",
            "training set: snq metric: bleu p value: 2.2257072752776176e-38, \n",
            "training set: snq metric: rougeL p value: 5.172229360765944e-112, \n",
            "training set: snq metric: meteor p value: 0.0, \n",
            "training set: snq metric: bertscore-f1 p value: 1.286394551402335e-239, \n",
            "training set: snq metric: use p value: 0.0, \n",
            "\n",
            "reject the null: 10, fail to reject the null: 0\n"
          ]
        }
      ]
    },
    {
      "cell_type": "markdown",
      "source": [
        "#### BART|T5 amalgam outperforms BART|T5 snqt on every metric and in each case, the performance difference is statistically significant."
      ],
      "metadata": {
        "id": "rT89GEsOSl3p"
      }
    },
    {
      "cell_type": "code",
      "source": [
        "#df_1 = df_BART[df_BART[\"trained_on\"] == \"amalgam\"]\n",
        "df_1 = df_T5[df_T5[\"trained_on\"] == \"amalgam\"]\n",
        "df_2 = evaluation_df_2[evaluation_df_2[\"trained_on\"] == \"snqt\"]\n",
        "df = pd.concat([df_1, df_2], axis=0, ignore_index=True)\n",
        "df = df.groupby([\"base_model\", \"trained_on\"]).mean()\n",
        "df"
      ],
      "metadata": {
        "id": "rXzNgG5t8Qcx",
        "outputId": "8f2a3064-27ca-426b-dd63-a4b42af04539",
        "colab": {
          "base_uri": "https://localhost:8080/",
          "height": 143
        }
      },
      "execution_count": 39,
      "outputs": [
        {
          "output_type": "execute_result",
          "data": {
            "text/plain": [
              "                           bleu    rougeL    meteor  bertscore-f1       use\n",
              "base_model trained_on                                                      \n",
              "T5         amalgam     0.100531  0.391661  0.384293      0.832854  0.585726\n",
              "           snqt        0.053663  0.324955  0.335580      0.808008  0.535357"
            ],
            "text/html": [
              "\n",
              "  <div id=\"df-b87425a3-245a-4d32-bcfc-bc89b8d5c559\">\n",
              "    <div class=\"colab-df-container\">\n",
              "      <div>\n",
              "<style scoped>\n",
              "    .dataframe tbody tr th:only-of-type {\n",
              "        vertical-align: middle;\n",
              "    }\n",
              "\n",
              "    .dataframe tbody tr th {\n",
              "        vertical-align: top;\n",
              "    }\n",
              "\n",
              "    .dataframe thead th {\n",
              "        text-align: right;\n",
              "    }\n",
              "</style>\n",
              "<table border=\"1\" class=\"dataframe\">\n",
              "  <thead>\n",
              "    <tr style=\"text-align: right;\">\n",
              "      <th></th>\n",
              "      <th></th>\n",
              "      <th>bleu</th>\n",
              "      <th>rougeL</th>\n",
              "      <th>meteor</th>\n",
              "      <th>bertscore-f1</th>\n",
              "      <th>use</th>\n",
              "    </tr>\n",
              "    <tr>\n",
              "      <th>base_model</th>\n",
              "      <th>trained_on</th>\n",
              "      <th></th>\n",
              "      <th></th>\n",
              "      <th></th>\n",
              "      <th></th>\n",
              "      <th></th>\n",
              "    </tr>\n",
              "  </thead>\n",
              "  <tbody>\n",
              "    <tr>\n",
              "      <th rowspan=\"2\" valign=\"top\">T5</th>\n",
              "      <th>amalgam</th>\n",
              "      <td>0.100531</td>\n",
              "      <td>0.391661</td>\n",
              "      <td>0.384293</td>\n",
              "      <td>0.832854</td>\n",
              "      <td>0.585726</td>\n",
              "    </tr>\n",
              "    <tr>\n",
              "      <th>snqt</th>\n",
              "      <td>0.053663</td>\n",
              "      <td>0.324955</td>\n",
              "      <td>0.335580</td>\n",
              "      <td>0.808008</td>\n",
              "      <td>0.535357</td>\n",
              "    </tr>\n",
              "  </tbody>\n",
              "</table>\n",
              "</div>\n",
              "      <button class=\"colab-df-convert\" onclick=\"convertToInteractive('df-b87425a3-245a-4d32-bcfc-bc89b8d5c559')\"\n",
              "              title=\"Convert this dataframe to an interactive table.\"\n",
              "              style=\"display:none;\">\n",
              "        \n",
              "  <svg xmlns=\"http://www.w3.org/2000/svg\" height=\"24px\"viewBox=\"0 0 24 24\"\n",
              "       width=\"24px\">\n",
              "    <path d=\"M0 0h24v24H0V0z\" fill=\"none\"/>\n",
              "    <path d=\"M18.56 5.44l.94 2.06.94-2.06 2.06-.94-2.06-.94-.94-2.06-.94 2.06-2.06.94zm-11 1L8.5 8.5l.94-2.06 2.06-.94-2.06-.94L8.5 2.5l-.94 2.06-2.06.94zm10 10l.94 2.06.94-2.06 2.06-.94-2.06-.94-.94-2.06-.94 2.06-2.06.94z\"/><path d=\"M17.41 7.96l-1.37-1.37c-.4-.4-.92-.59-1.43-.59-.52 0-1.04.2-1.43.59L10.3 9.45l-7.72 7.72c-.78.78-.78 2.05 0 2.83L4 21.41c.39.39.9.59 1.41.59.51 0 1.02-.2 1.41-.59l7.78-7.78 2.81-2.81c.8-.78.8-2.07 0-2.86zM5.41 20L4 18.59l7.72-7.72 1.47 1.35L5.41 20z\"/>\n",
              "  </svg>\n",
              "      </button>\n",
              "      \n",
              "  <style>\n",
              "    .colab-df-container {\n",
              "      display:flex;\n",
              "      flex-wrap:wrap;\n",
              "      gap: 12px;\n",
              "    }\n",
              "\n",
              "    .colab-df-convert {\n",
              "      background-color: #E8F0FE;\n",
              "      border: none;\n",
              "      border-radius: 50%;\n",
              "      cursor: pointer;\n",
              "      display: none;\n",
              "      fill: #1967D2;\n",
              "      height: 32px;\n",
              "      padding: 0 0 0 0;\n",
              "      width: 32px;\n",
              "    }\n",
              "\n",
              "    .colab-df-convert:hover {\n",
              "      background-color: #E2EBFA;\n",
              "      box-shadow: 0px 1px 2px rgba(60, 64, 67, 0.3), 0px 1px 3px 1px rgba(60, 64, 67, 0.15);\n",
              "      fill: #174EA6;\n",
              "    }\n",
              "\n",
              "    [theme=dark] .colab-df-convert {\n",
              "      background-color: #3B4455;\n",
              "      fill: #D2E3FC;\n",
              "    }\n",
              "\n",
              "    [theme=dark] .colab-df-convert:hover {\n",
              "      background-color: #434B5C;\n",
              "      box-shadow: 0px 1px 3px 1px rgba(0, 0, 0, 0.15);\n",
              "      filter: drop-shadow(0px 1px 2px rgba(0, 0, 0, 0.3));\n",
              "      fill: #FFFFFF;\n",
              "    }\n",
              "  </style>\n",
              "\n",
              "      <script>\n",
              "        const buttonEl =\n",
              "          document.querySelector('#df-b87425a3-245a-4d32-bcfc-bc89b8d5c559 button.colab-df-convert');\n",
              "        buttonEl.style.display =\n",
              "          google.colab.kernel.accessAllowed ? 'block' : 'none';\n",
              "\n",
              "        async function convertToInteractive(key) {\n",
              "          const element = document.querySelector('#df-b87425a3-245a-4d32-bcfc-bc89b8d5c559');\n",
              "          const dataTable =\n",
              "            await google.colab.kernel.invokeFunction('convertToInteractive',\n",
              "                                                     [key], {});\n",
              "          if (!dataTable) return;\n",
              "\n",
              "          const docLinkHtml = 'Like what you see? Visit the ' +\n",
              "            '<a target=\"_blank\" href=https://colab.research.google.com/notebooks/data_table.ipynb>data table notebook</a>'\n",
              "            + ' to learn more about interactive tables.';\n",
              "          element.innerHTML = '';\n",
              "          dataTable['output_type'] = 'display_data';\n",
              "          await google.colab.output.renderOutput(dataTable, element);\n",
              "          const docLink = document.createElement('div');\n",
              "          docLink.innerHTML = docLinkHtml;\n",
              "          element.appendChild(docLink);\n",
              "        }\n",
              "      </script>\n",
              "    </div>\n",
              "  </div>\n",
              "  "
            ]
          },
          "metadata": {},
          "execution_count": 39
        }
      ]
    },
    {
      "cell_type": "code",
      "source": [
        "reject = []\n",
        "fail_to_reject = []\n",
        "\n",
        "print(\"Reject the null hypothesis except where noted otherwise\\n\")\n",
        "\n",
        "for metric in evaluation_metrics:\n",
        "    p = st.ttest_ind(df_1[metric], df_2[metric], equal_var=False)[1]\n",
        "    if p <= 0.05:\n",
        "        reject_null = \"\"\n",
        "        reject.append((metric))\n",
        "    else:\n",
        "        reject_null = \"***FAIL TO REJECT THE NULL\"\n",
        "        fail_to_reject.append((metric))\n",
        "\n",
        "    print(f\"metric: {metric} p value: {p}, {reject_null}\")\n",
        "\n",
        "print(\n",
        "    f\"\\nreject the null: {len(reject)}, fail to reject the null:  {len(fail_to_reject)}\"\n",
        ")"
      ],
      "metadata": {
        "id": "nlStVbqp-J93",
        "outputId": "510d4300-aeaa-4917-9dcb-8ae5a94d9680",
        "colab": {
          "base_uri": "https://localhost:8080/"
        }
      },
      "execution_count": 40,
      "outputs": [
        {
          "output_type": "stream",
          "name": "stdout",
          "text": [
            "Reject the null hypothesis except where noted otherwise\n",
            "\n",
            "metric: bleu p value: 1.6658997615710971e-187, \n",
            "metric: rougeL p value: 1.4218202158607217e-241, \n",
            "metric: meteor p value: 2.524537757382533e-125, \n",
            "metric: bertscore-f1 p value: 0.0, \n",
            "metric: use p value: 2.4134543434958126e-147, \n",
            "\n",
            "reject the null: 5, fail to reject the null:  0\n"
          ]
        }
      ]
    },
    {
      "cell_type": "code",
      "source": [
        "amalgam_wins = 0\n",
        "snqt_wins = 0\n",
        "df = df.reset_index()\n",
        "print(\"Amalgam wins the comparison except where noted otherwise\\n\")\n",
        "\n",
        "for metric in reject:\n",
        "    print(f\"metric: {metric}\", end=\" \")\n",
        "    amalgam = df[(df[\"trained_on\"] == \"amalgam\")][metric].values[0]\n",
        "    snqt = df[(df[\"trained_on\"] == \"snqt\")][metric].values[0]\n",
        "\n",
        "    if amalgam > snqt:\n",
        "        print(\"\")\n",
        "        amalgam_wins += 1\n",
        "    else:\n",
        "        print(\"\\t***snqt wins***\")\n",
        "        snqt_wins += 1\n",
        "\n",
        "print()\n",
        "print(f\"amalgam wins = {amalgam_wins} snqt wins = {snqt_wins}\")"
      ],
      "metadata": {
        "id": "x__4O15QAb2Q",
        "outputId": "16382f1d-476b-4b2b-8f02-9f9ae53ebedb",
        "colab": {
          "base_uri": "https://localhost:8080/"
        }
      },
      "execution_count": 41,
      "outputs": [
        {
          "output_type": "stream",
          "name": "stdout",
          "text": [
            "Amalgam wins the comparison except where noted otherwise\n",
            "\n",
            "metric: bleu \n",
            "metric: rougeL \n",
            "metric: meteor \n",
            "metric: bertscore-f1 \n",
            "metric: use \n",
            "\n",
            "amalgam wins = 5 snqt wins = 0\n"
          ]
        }
      ]
    },
    {
      "cell_type": "code",
      "source": [
        "df = pd.concat([df_1, df_2], axis=0, ignore_index=True)\n",
        "print(\"Compare T5 Amalgam v T5 snqt (all inferences)\")\n",
        "fig, axes = plt.subplots(2, 3, figsize=(15, 6))\n",
        "for ax, metric in zip(axes.flat, evaluation_metrics):\n",
        "    sns.histplot(x=metric, data=df, hue=\"trained_on\", ax=ax)\n",
        "list(axes.flat)[-1].remove()\n",
        "plt.tight_layout()"
      ],
      "metadata": {
        "id": "_S0lpv2erpn1",
        "outputId": "d45fe3a0-7f9e-497e-ea10-20d98dd5f7bf",
        "colab": {
          "base_uri": "https://localhost:8080/",
          "height": 454
        }
      },
      "execution_count": 43,
      "outputs": [
        {
          "output_type": "stream",
          "name": "stdout",
          "text": [
            "Compare T5 Amalgam v T5 snqt (all inferences)\n"
          ]
        },
        {
          "output_type": "display_data",
          "data": {
            "text/plain": [
              "<Figure size 1080x432 with 5 Axes>"
            ],
            "image/png": "[encoded data removed]"
          },
          "metadata": {}
        }
      ]
    },
    {
      "cell_type": "markdown",
      "source": [
        "### BART|T5 SQuAD compared to BART|T5 snqt\n",
        "\n",
        "Does BART|T5 snqt manage to outperform BART|T5 SQuAD even though it does not outperform BART|T5 amalgam?\n",
        "\n",
        "BART SQuAD outperforms BART snqt across the board with the exception of meteor.\n",
        "T5 SQuAD outperforms T5 snqt for Bleu, RougeL and BertScore, snqt prevails over SQuAD on meteor and USE\n",
        "\n",
        "All differences are statistically significant."
      ],
      "metadata": {
        "id": "6ODUNglCL1uc"
      }
    },
    {
      "cell_type": "code",
      "source": [
        "#df_3 = df_BART[df_BART[\"trained_on\"] == \"squad\"]\n",
        "df_3 = df_T5[df_T5[\"trained_on\"] == \"squad\"]\n",
        "\n",
        "df = pd.concat([df_2, df_3], axis=0, ignore_index=True)\n",
        "df = (\n",
        "    df.groupby([\"base_model\", \"trained_on\"])\n",
        "    .mean()\n",
        "    .sort_values(by=\"use\", ascending=False)\n",
        ")\n",
        "df"
      ],
      "metadata": {
        "id": "4ZYKIO5QL_mx",
        "colab": {
          "base_uri": "https://localhost:8080/",
          "height": 143
        },
        "outputId": "610ef583-5ab8-490a-a0bf-1cc893a19a50"
      },
      "execution_count": 44,
      "outputs": [
        {
          "output_type": "execute_result",
          "data": {
            "text/plain": [
              "                           bleu    rougeL   meteor  bertscore-f1       use\n",
              "base_model trained_on                                                     \n",
              "T5         snqt        0.053663  0.324955  0.33558      0.808008  0.535357\n",
              "           squad       0.064501  0.336035  0.32098      0.812011  0.528126"
            ],
            "text/html": [
              "\n",
              "  <div id=\"df-2129ecf9-0837-43ba-997e-c5c1bdc5235b\">\n",
              "    <div class=\"colab-df-container\">\n",
              "      <div>\n",
              "<style scoped>\n",
              "    .dataframe tbody tr th:only-of-type {\n",
              "        vertical-align: middle;\n",
              "    }\n",
              "\n",
              "    .dataframe tbody tr th {\n",
              "        vertical-align: top;\n",
              "    }\n",
              "\n",
              "    .dataframe thead th {\n",
              "        text-align: right;\n",
              "    }\n",
              "</style>\n",
              "<table border=\"1\" class=\"dataframe\">\n",
              "  <thead>\n",
              "    <tr style=\"text-align: right;\">\n",
              "      <th></th>\n",
              "      <th></th>\n",
              "      <th>bleu</th>\n",
              "      <th>rougeL</th>\n",
              "      <th>meteor</th>\n",
              "      <th>bertscore-f1</th>\n",
              "      <th>use</th>\n",
              "    </tr>\n",
              "    <tr>\n",
              "      <th>base_model</th>\n",
              "      <th>trained_on</th>\n",
              "      <th></th>\n",
              "      <th></th>\n",
              "      <th></th>\n",
              "      <th></th>\n",
              "      <th></th>\n",
              "    </tr>\n",
              "  </thead>\n",
              "  <tbody>\n",
              "    <tr>\n",
              "      <th rowspan=\"2\" valign=\"top\">T5</th>\n",
              "      <th>snqt</th>\n",
              "      <td>0.053663</td>\n",
              "      <td>0.324955</td>\n",
              "      <td>0.33558</td>\n",
              "      <td>0.808008</td>\n",
              "      <td>0.535357</td>\n",
              "    </tr>\n",
              "    <tr>\n",
              "      <th>squad</th>\n",
              "      <td>0.064501</td>\n",
              "      <td>0.336035</td>\n",
              "      <td>0.32098</td>\n",
              "      <td>0.812011</td>\n",
              "      <td>0.528126</td>\n",
              "    </tr>\n",
              "  </tbody>\n",
              "</table>\n",
              "</div>\n",
              "      <button class=\"colab-df-convert\" onclick=\"convertToInteractive('df-2129ecf9-0837-43ba-997e-c5c1bdc5235b')\"\n",
              "              title=\"Convert this dataframe to an interactive table.\"\n",
              "              style=\"display:none;\">\n",
              "        \n",
              "  <svg xmlns=\"http://www.w3.org/2000/svg\" height=\"24px\"viewBox=\"0 0 24 24\"\n",
              "       width=\"24px\">\n",
              "    <path d=\"M0 0h24v24H0V0z\" fill=\"none\"/>\n",
              "    <path d=\"M18.56 5.44l.94 2.06.94-2.06 2.06-.94-2.06-.94-.94-2.06-.94 2.06-2.06.94zm-11 1L8.5 8.5l.94-2.06 2.06-.94-2.06-.94L8.5 2.5l-.94 2.06-2.06.94zm10 10l.94 2.06.94-2.06 2.06-.94-2.06-.94-.94-2.06-.94 2.06-2.06.94z\"/><path d=\"M17.41 7.96l-1.37-1.37c-.4-.4-.92-.59-1.43-.59-.52 0-1.04.2-1.43.59L10.3 9.45l-7.72 7.72c-.78.78-.78 2.05 0 2.83L4 21.41c.39.39.9.59 1.41.59.51 0 1.02-.2 1.41-.59l7.78-7.78 2.81-2.81c.8-.78.8-2.07 0-2.86zM5.41 20L4 18.59l7.72-7.72 1.47 1.35L5.41 20z\"/>\n",
              "  </svg>\n",
              "      </button>\n",
              "      \n",
              "  <style>\n",
              "    .colab-df-container {\n",
              "      display:flex;\n",
              "      flex-wrap:wrap;\n",
              "      gap: 12px;\n",
              "    }\n",
              "\n",
              "    .colab-df-convert {\n",
              "      background-color: #E8F0FE;\n",
              "      border: none;\n",
              "      border-radius: 50%;\n",
              "      cursor: pointer;\n",
              "      display: none;\n",
              "      fill: #1967D2;\n",
              "      height: 32px;\n",
              "      padding: 0 0 0 0;\n",
              "      width: 32px;\n",
              "    }\n",
              "\n",
              "    .colab-df-convert:hover {\n",
              "      background-color: #E2EBFA;\n",
              "      box-shadow: 0px 1px 2px rgba(60, 64, 67, 0.3), 0px 1px 3px 1px rgba(60, 64, 67, 0.15);\n",
              "      fill: #174EA6;\n",
              "    }\n",
              "\n",
              "    [theme=dark] .colab-df-convert {\n",
              "      background-color: #3B4455;\n",
              "      fill: #D2E3FC;\n",
              "    }\n",
              "\n",
              "    [theme=dark] .colab-df-convert:hover {\n",
              "      background-color: #434B5C;\n",
              "      box-shadow: 0px 1px 3px 1px rgba(0, 0, 0, 0.15);\n",
              "      filter: drop-shadow(0px 1px 2px rgba(0, 0, 0, 0.3));\n",
              "      fill: #FFFFFF;\n",
              "    }\n",
              "  </style>\n",
              "\n",
              "      <script>\n",
              "        const buttonEl =\n",
              "          document.querySelector('#df-2129ecf9-0837-43ba-997e-c5c1bdc5235b button.colab-df-convert');\n",
              "        buttonEl.style.display =\n",
              "          google.colab.kernel.accessAllowed ? 'block' : 'none';\n",
              "\n",
              "        async function convertToInteractive(key) {\n",
              "          const element = document.querySelector('#df-2129ecf9-0837-43ba-997e-c5c1bdc5235b');\n",
              "          const dataTable =\n",
              "            await google.colab.kernel.invokeFunction('convertToInteractive',\n",
              "                                                     [key], {});\n",
              "          if (!dataTable) return;\n",
              "\n",
              "          const docLinkHtml = 'Like what you see? Visit the ' +\n",
              "            '<a target=\"_blank\" href=https://colab.research.google.com/notebooks/data_table.ipynb>data table notebook</a>'\n",
              "            + ' to learn more about interactive tables.';\n",
              "          element.innerHTML = '';\n",
              "          dataTable['output_type'] = 'display_data';\n",
              "          await google.colab.output.renderOutput(dataTable, element);\n",
              "          const docLink = document.createElement('div');\n",
              "          docLink.innerHTML = docLinkHtml;\n",
              "          element.appendChild(docLink);\n",
              "        }\n",
              "      </script>\n",
              "    </div>\n",
              "  </div>\n",
              "  "
            ]
          },
          "metadata": {},
          "execution_count": 44
        }
      ]
    },
    {
      "cell_type": "code",
      "source": [
        "reject = []\n",
        "fail_to_reject = []\n",
        "\n",
        "print(\"Reject the null hypothesis except where noted otherwise\\n\")\n",
        "\n",
        "for metric in evaluation_metrics:\n",
        "    p = st.ttest_ind(df_2[metric], df_3[metric], equal_var=False)[1]\n",
        "    if p <= 0.05:\n",
        "        reject_null = \"\"\n",
        "        reject.append((metric))\n",
        "    else:\n",
        "        reject_null = \"***FAIL TO REJECT THE NULL\"\n",
        "        fail_to_reject.append((metric))\n",
        "\n",
        "    print(f\"metric: {metric} p value: {p}, {reject_null}\")\n",
        "\n",
        "print(\n",
        "    f\"\\nreject the null: {len(reject)}, fail to reject the null:  {len(fail_to_reject)}\"\n",
        ")"
      ],
      "metadata": {
        "id": "UwhRxqbTMaQj",
        "colab": {
          "base_uri": "https://localhost:8080/"
        },
        "outputId": "2a32c9db-af0a-4948-8e1e-78a128e9ba45"
      },
      "execution_count": 45,
      "outputs": [
        {
          "output_type": "stream",
          "name": "stdout",
          "text": [
            "Reject the null hypothesis except where noted otherwise\n",
            "\n",
            "metric: bleu p value: 8.530484322227766e-15, \n",
            "metric: rougeL p value: 8.72644028142053e-09, \n",
            "metric: meteor p value: 1.235548648716043e-13, \n",
            "metric: bertscore-f1 p value: 6.27255376808168e-10, \n",
            "metric: use p value: 0.0001766346457108389, \n",
            "\n",
            "reject the null: 5, fail to reject the null:  0\n"
          ]
        }
      ]
    },
    {
      "cell_type": "code",
      "source": [
        "snqt_wins = 0\n",
        "squad_wins = 0\n",
        "df = df.reset_index()\n",
        "\n",
        "for metric in reject:\n",
        "    print(f\"metric: {metric}\", end=\" \")\n",
        "    snqt = df[(df[\"trained_on\"] == \"snqt\")][metric].values[0]\n",
        "    squad = df[(df[\"trained_on\"] == \"squad\")][metric].values[0]\n",
        "\n",
        "    if squad > snqt:\n",
        "        print(\"\\tSQuAD trained wins\")\n",
        "        squad_wins += 1\n",
        "    else:\n",
        "        print(\"\\tsnqt trained wins\")\n",
        "        snqt_wins += 1\n",
        "\n",
        "print()\n",
        "print(f\"SQuAD wins = {squad_wins} snqt wins = {snqt_wins}\")"
      ],
      "metadata": {
        "id": "2zxvpf-OM7MY",
        "colab": {
          "base_uri": "https://localhost:8080/"
        },
        "outputId": "162acf77-e5af-4c11-b848-471e56135d59"
      },
      "execution_count": 47,
      "outputs": [
        {
          "output_type": "stream",
          "name": "stdout",
          "text": [
            "metric: bleu \tSQuAD trained wins\n",
            "metric: rougeL \tSQuAD trained wins\n",
            "metric: meteor \tsnqt trained wins\n",
            "metric: bertscore-f1 \tSQuAD trained wins\n",
            "metric: use \tsnqt trained wins\n",
            "\n",
            "SQuAD wins = 3 snqt wins = 2\n"
          ]
        }
      ]
    },
    {
      "cell_type": "code",
      "source": [
        "df = pd.concat([df_2, df_3], axis=0, ignore_index=True)\n",
        "print(\"Compare T5 snqt v T5 SQuAD (all inferences)\")\n",
        "fig, axes = plt.subplots(2, 3, figsize=(15, 6))\n",
        "for ax, metric in zip(axes.flat, evaluation_metrics):\n",
        "    sns.histplot(x=metric, data=df, hue=\"trained_on\", ax=ax)\n",
        "list(axes.flat)[-1].remove()\n",
        "plt.tight_layout()"
      ],
      "metadata": {
        "id": "fyn3PW2pK3IL",
        "outputId": "cd48e7e1-8c3c-42a9-abd5-42b89cef5867",
        "colab": {
          "base_uri": "https://localhost:8080/",
          "height": 454
        }
      },
      "execution_count": 49,
      "outputs": [
        {
          "output_type": "stream",
          "name": "stdout",
          "text": [
            "Compare T5 snqt v T5 SQuAD (all inferences)\n"
          ]
        },
        {
          "output_type": "display_data",
          "data": {
            "text/plain": [
              "<Figure size 1080x432 with 5 Axes>"
            ],
            "image/png": "[encoded data removed]"
          },
          "metadata": {}
        }
      ]
    },
    {
      "cell_type": "markdown",
      "source": [
        "#### T5 Amalgam v T5 SQuAD"
      ],
      "metadata": {
        "id": "mqtiUhCUxBqK"
      }
    },
    {
      "cell_type": "code",
      "source": [
        "df = pd.concat([df_1, df_3], axis=0, ignore_index=True)\n",
        "df = (\n",
        "    df.groupby([\"base_model\", \"trained_on\"])\n",
        "    .mean()\n",
        "    .sort_values(by=\"use\", ascending=False)\n",
        ")\n",
        "df"
      ],
      "metadata": {
        "outputId": "ab5381d0-6500-4b3e-8338-54f2f082926b",
        "colab": {
          "base_uri": "https://localhost:8080/",
          "height": 143
        },
        "id": "YfXNCcWnyBY4"
      },
      "execution_count": 51,
      "outputs": [
        {
          "output_type": "execute_result",
          "data": {
            "text/plain": [
              "                           bleu    rougeL    meteor  bertscore-f1       use\n",
              "base_model trained_on                                                      \n",
              "T5         amalgam     0.100531  0.391661  0.384293      0.832854  0.585726\n",
              "           squad       0.064501  0.336035  0.320980      0.812011  0.528126"
            ],
            "text/html": [
              "\n",
              "  <div id=\"df-44104996-2aa6-426d-bce0-c9d26f044dd7\">\n",
              "    <div class=\"colab-df-container\">\n",
              "      <div>\n",
              "<style scoped>\n",
              "    .dataframe tbody tr th:only-of-type {\n",
              "        vertical-align: middle;\n",
              "    }\n",
              "\n",
              "    .dataframe tbody tr th {\n",
              "        vertical-align: top;\n",
              "    }\n",
              "\n",
              "    .dataframe thead th {\n",
              "        text-align: right;\n",
              "    }\n",
              "</style>\n",
              "<table border=\"1\" class=\"dataframe\">\n",
              "  <thead>\n",
              "    <tr style=\"text-align: right;\">\n",
              "      <th></th>\n",
              "      <th></th>\n",
              "      <th>bleu</th>\n",
              "      <th>rougeL</th>\n",
              "      <th>meteor</th>\n",
              "      <th>bertscore-f1</th>\n",
              "      <th>use</th>\n",
              "    </tr>\n",
              "    <tr>\n",
              "      <th>base_model</th>\n",
              "      <th>trained_on</th>\n",
              "      <th></th>\n",
              "      <th></th>\n",
              "      <th></th>\n",
              "      <th></th>\n",
              "      <th></th>\n",
              "    </tr>\n",
              "  </thead>\n",
              "  <tbody>\n",
              "    <tr>\n",
              "      <th rowspan=\"2\" valign=\"top\">T5</th>\n",
              "      <th>amalgam</th>\n",
              "      <td>0.100531</td>\n",
              "      <td>0.391661</td>\n",
              "      <td>0.384293</td>\n",
              "      <td>0.832854</td>\n",
              "      <td>0.585726</td>\n",
              "    </tr>\n",
              "    <tr>\n",
              "      <th>squad</th>\n",
              "      <td>0.064501</td>\n",
              "      <td>0.336035</td>\n",
              "      <td>0.320980</td>\n",
              "      <td>0.812011</td>\n",
              "      <td>0.528126</td>\n",
              "    </tr>\n",
              "  </tbody>\n",
              "</table>\n",
              "</div>\n",
              "      <button class=\"colab-df-convert\" onclick=\"convertToInteractive('df-44104996-2aa6-426d-bce0-c9d26f044dd7')\"\n",
              "              title=\"Convert this dataframe to an interactive table.\"\n",
              "              style=\"display:none;\">\n",
              "        \n",
              "  <svg xmlns=\"http://www.w3.org/2000/svg\" height=\"24px\"viewBox=\"0 0 24 24\"\n",
              "       width=\"24px\">\n",
              "    <path d=\"M0 0h24v24H0V0z\" fill=\"none\"/>\n",
              "    <path d=\"M18.56 5.44l.94 2.06.94-2.06 2.06-.94-2.06-.94-.94-2.06-.94 2.06-2.06.94zm-11 1L8.5 8.5l.94-2.06 2.06-.94-2.06-.94L8.5 2.5l-.94 2.06-2.06.94zm10 10l.94 2.06.94-2.06 2.06-.94-2.06-.94-.94-2.06-.94 2.06-2.06.94z\"/><path d=\"M17.41 7.96l-1.37-1.37c-.4-.4-.92-.59-1.43-.59-.52 0-1.04.2-1.43.59L10.3 9.45l-7.72 7.72c-.78.78-.78 2.05 0 2.83L4 21.41c.39.39.9.59 1.41.59.51 0 1.02-.2 1.41-.59l7.78-7.78 2.81-2.81c.8-.78.8-2.07 0-2.86zM5.41 20L4 18.59l7.72-7.72 1.47 1.35L5.41 20z\"/>\n",
              "  </svg>\n",
              "      </button>\n",
              "      \n",
              "  <style>\n",
              "    .colab-df-container {\n",
              "      display:flex;\n",
              "      flex-wrap:wrap;\n",
              "      gap: 12px;\n",
              "    }\n",
              "\n",
              "    .colab-df-convert {\n",
              "      background-color: #E8F0FE;\n",
              "      border: none;\n",
              "      border-radius: 50%;\n",
              "      cursor: pointer;\n",
              "      display: none;\n",
              "      fill: #1967D2;\n",
              "      height: 32px;\n",
              "      padding: 0 0 0 0;\n",
              "      width: 32px;\n",
              "    }\n",
              "\n",
              "    .colab-df-convert:hover {\n",
              "      background-color: #E2EBFA;\n",
              "      box-shadow: 0px 1px 2px rgba(60, 64, 67, 0.3), 0px 1px 3px 1px rgba(60, 64, 67, 0.15);\n",
              "      fill: #174EA6;\n",
              "    }\n",
              "\n",
              "    [theme=dark] .colab-df-convert {\n",
              "      background-color: #3B4455;\n",
              "      fill: #D2E3FC;\n",
              "    }\n",
              "\n",
              "    [theme=dark] .colab-df-convert:hover {\n",
              "      background-color: #434B5C;\n",
              "      box-shadow: 0px 1px 3px 1px rgba(0, 0, 0, 0.15);\n",
              "      filter: drop-shadow(0px 1px 2px rgba(0, 0, 0, 0.3));\n",
              "      fill: #FFFFFF;\n",
              "    }\n",
              "  </style>\n",
              "\n",
              "      <script>\n",
              "        const buttonEl =\n",
              "          document.querySelector('#df-44104996-2aa6-426d-bce0-c9d26f044dd7 button.colab-df-convert');\n",
              "        buttonEl.style.display =\n",
              "          google.colab.kernel.accessAllowed ? 'block' : 'none';\n",
              "\n",
              "        async function convertToInteractive(key) {\n",
              "          const element = document.querySelector('#df-44104996-2aa6-426d-bce0-c9d26f044dd7');\n",
              "          const dataTable =\n",
              "            await google.colab.kernel.invokeFunction('convertToInteractive',\n",
              "                                                     [key], {});\n",
              "          if (!dataTable) return;\n",
              "\n",
              "          const docLinkHtml = 'Like what you see? Visit the ' +\n",
              "            '<a target=\"_blank\" href=https://colab.research.google.com/notebooks/data_table.ipynb>data table notebook</a>'\n",
              "            + ' to learn more about interactive tables.';\n",
              "          element.innerHTML = '';\n",
              "          dataTable['output_type'] = 'display_data';\n",
              "          await google.colab.output.renderOutput(dataTable, element);\n",
              "          const docLink = document.createElement('div');\n",
              "          docLink.innerHTML = docLinkHtml;\n",
              "          element.appendChild(docLink);\n",
              "        }\n",
              "      </script>\n",
              "    </div>\n",
              "  </div>\n",
              "  "
            ]
          },
          "metadata": {},
          "execution_count": 51
        }
      ]
    },
    {
      "cell_type": "code",
      "source": [
        "reject = []\n",
        "fail_to_reject = []\n",
        "\n",
        "print(\"Reject the null hypothesis except where noted otherwise\\n\")\n",
        "\n",
        "for metric in evaluation_metrics:\n",
        "    p = st.ttest_ind(df_1[metric], df_3[metric], equal_var=False)[1]\n",
        "    if p <= 0.05:\n",
        "        reject_null = \"\"\n",
        "        reject.append((metric))\n",
        "    else:\n",
        "        reject_null = \"***FAIL TO REJECT THE NULL\"\n",
        "        fail_to_reject.append((metric))\n",
        "\n",
        "    print(f\"metric: {metric} p value: {p}, {reject_null}\")\n",
        "\n",
        "print(\n",
        "    f\"\\nreject the null: {len(reject)}, fail to reject the null:  {len(fail_to_reject)}\"\n",
        ")"
      ],
      "metadata": {
        "outputId": "379125d8-f058-4d86-ca42-ca0368c55ee0",
        "colab": {
          "base_uri": "https://localhost:8080/"
        },
        "id": "l2U3ViVqyBY6"
      },
      "execution_count": 52,
      "outputs": [
        {
          "output_type": "stream",
          "name": "stdout",
          "text": [
            "Reject the null hypothesis except where noted otherwise\n",
            "\n",
            "metric: bleu p value: 2.8034717767367996e-99, \n",
            "metric: rougeL p value: 1.0430836914313652e-158, \n",
            "metric: meteor p value: 1.5841840889957527e-197, \n",
            "metric: bertscore-f1 p value: 1.7979773301246652e-212, \n",
            "metric: use p value: 3.0477955320477223e-190, \n",
            "\n",
            "reject the null: 5, fail to reject the null:  0\n"
          ]
        }
      ]
    },
    {
      "cell_type": "code",
      "source": [
        "amalgam_wins = 0\n",
        "squad_wins = 0\n",
        "df = df.reset_index()\n",
        "\n",
        "for metric in reject:\n",
        "    print(f\"metric: {metric}\", end=\" \")\n",
        "    amalgam = df[(df[\"trained_on\"] == \"amalgam\")][metric].values[0]\n",
        "    squad = df[(df[\"trained_on\"] == \"squad\")][metric].values[0]\n",
        "\n",
        "    if squad > amalgam:\n",
        "        print(\"\\tSQuAD trained wins\")\n",
        "        squad_wins += 1\n",
        "    else:\n",
        "        print(\"\\tamalgam trained wins\")\n",
        "        amalgam_wins += 1\n",
        "\n",
        "print()\n",
        "print(f\"SQuAD wins = {squad_wins} amalgam wins = {amalgam_wins}\")"
      ],
      "metadata": {
        "outputId": "7dacd5b9-2584-4d40-9727-72090198a866",
        "colab": {
          "base_uri": "https://localhost:8080/"
        },
        "id": "dSadZ8DoyBY7"
      },
      "execution_count": 53,
      "outputs": [
        {
          "output_type": "stream",
          "name": "stdout",
          "text": [
            "metric: bleu \tamalgam trained wins\n",
            "metric: rougeL \tamalgam trained wins\n",
            "metric: meteor \tamalgam trained wins\n",
            "metric: bertscore-f1 \tamalgam trained wins\n",
            "metric: use \tamalgam trained wins\n",
            "\n",
            "SQuAD wins = 0 amalgam wins = 5\n"
          ]
        }
      ]
    },
    {
      "cell_type": "code",
      "source": [
        "df = pd.concat([df_1, df_3], axis=0, ignore_index=True)\n",
        "print(\"Compare T5 amalgam v T5 SQuAD (all inferences)\")\n",
        "fig, axes = plt.subplots(2, 3, figsize=(15, 6))\n",
        "for ax, metric in zip(axes.flat, evaluation_metrics):\n",
        "    sns.histplot(x=metric, data=df, hue=\"trained_on\", ax=ax)\n",
        "list(axes.flat)[-1].remove()\n",
        "plt.tight_layout()"
      ],
      "metadata": {
        "id": "dHkkaPy1xLpi",
        "outputId": "fbd1febe-abf5-4ccd-c3d7-a8e11b46a913",
        "colab": {
          "base_uri": "https://localhost:8080/",
          "height": 454
        }
      },
      "execution_count": 54,
      "outputs": [
        {
          "output_type": "stream",
          "name": "stdout",
          "text": [
            "Compare T5 amalgam v T5 SQuAD (all inferences)\n"
          ]
        },
        {
          "output_type": "display_data",
          "data": {
            "text/plain": [
              "<Figure size 1080x432 with 5 Axes>"
            ],
            "image/png": "[encoded data removed]"
          },
          "metadata": {}
        }
      ]
    },
    {
      "cell_type": "markdown",
      "source": [
        "### Beam search and no repeat ngrams on TriviaQA\n",
        "\n"
      ],
      "metadata": {
        "id": "s6XRvkI33MMR"
      }
    },
    {
      "cell_type": "markdown",
      "source": [
        "We ran the full suite of inference tests on our BART models with beam search and the use of a no repeat ngram parameters.  The primnary motivation for this experiment was to see if we would get better performance on the TriviaQA validation set.  As shown below, our top performance on each metric we consider remains the model trained on the amalgamated dataset and running inference without beam search or the use of a no repeat ngram parameter."
      ],
      "metadata": {
        "id": "0OpRfiEjCxbj"
      }
    },
    {
      "cell_type": "code",
      "source": [
        "for metric in evaluation_metrics:\n",
        "    df = df_BART[[\"nickname\", \"trained_on\", \"tested_on\", metric]]\n",
        "    df = df[df.tested_on == \"triviaqa\"]\n",
        "    display(\n",
        "        df.groupby([\"nickname\", \"trained_on\", \"tested_on\"])\n",
        "        .mean()\n",
        "        .sort_values([metric], ascending=False)[:4]\n",
        "    )"
      ],
      "metadata": {
        "id": "8xjBrf_s3XRz"
      },
      "execution_count": null,
      "outputs": []
    },
    {
      "cell_type": "markdown",
      "source": [
        "### Kendall's Tau"
      ],
      "metadata": {
        "id": "7vP_qHhY09ZX"
      }
    },
    {
      "cell_type": "code",
      "source": [
        "df = evaluation_df[default_hyperparameter_mask]\n",
        "baseline = (\n",
        "    df[\n",
        "        (df[\"base_model\"] == \"T5\")\n",
        "        & (df[\"trained_on\"] == \"squad\")\n",
        "        & (df[\"tested_on\"] == \"squad\")\n",
        "    ]\n",
        "    .groupby([\"base_model\", \"trained_on\", \"tested_on\"])\n",
        "    .mean()\n",
        ")\n",
        "baseline"
      ],
      "metadata": {
        "id": "2p-1A4cjbCQg"
      },
      "execution_count": null,
      "outputs": []
    },
    {
      "cell_type": "code",
      "source": [
        "nq_df = (\n",
        "    df[df[\"tested_on\"] == \"nq\"]\n",
        "    .groupby([\"base_model\", \"trained_on\", \"tested_on\"])\n",
        "    .mean()\n",
        "    .sort_values(by=[\"bertscore-f1\"], ascending=False)\n",
        ")\n",
        "\n",
        "nq_df"
      ],
      "metadata": {
        "id": "qiyNCJITTt7i"
      },
      "execution_count": null,
      "outputs": []
    },
    {
      "cell_type": "code",
      "source": [
        "quac_df = (\n",
        "    df[df[\"tested_on\"] == \"quac\"]\n",
        "    .groupby([\"base_model\", \"trained_on\", \"tested_on\"])\n",
        "    .mean()\n",
        "    .sort_values(by=[\"bertscore-f1\"], ascending=False)\n",
        ")\n",
        "\n",
        "quac_df"
      ],
      "metadata": {
        "id": "oFfILqTjV4FD"
      },
      "execution_count": null,
      "outputs": []
    },
    {
      "cell_type": "code",
      "source": [
        "squad_df = (\n",
        "    df[df[\"tested_on\"] == \"squad\"]\n",
        "    .groupby([\"base_model\", \"trained_on\", \"tested_on\"])\n",
        "    .mean()\n",
        "    .sort_values(by=[\"bertscore-f1\"], ascending=False)\n",
        ")\n",
        "\n",
        "squad_df"
      ],
      "metadata": {
        "id": "pJW3oDRMYjR-"
      },
      "execution_count": null,
      "outputs": []
    },
    {
      "cell_type": "code",
      "source": [
        "triviaqa_df = (\n",
        "    df[df[\"tested_on\"] == \"triviaqa\"]\n",
        "    .groupby([\"base_model\", \"trained_on\", \"tested_on\"])\n",
        "    .mean()\n",
        "    .sort_values(by=[\"bertscore-f1\"], ascending=False)\n",
        ")\n",
        "\n",
        "triviaqa_df"
      ],
      "metadata": {
        "id": "UVFuDKwXYtSt"
      },
      "execution_count": null,
      "outputs": []
    },
    {
      "cell_type": "code",
      "source": [
        "metrics = list(squad_df.columns)\n",
        "datasets = df[\"tested_on\"].unique()\n",
        "print(f\"metrics = {metrics} \\ndatasets = {datasets}\")"
      ],
      "metadata": {
        "id": "RGLspwsRp4fG"
      },
      "execution_count": null,
      "outputs": []
    },
    {
      "cell_type": "code",
      "source": [
        "# We gather the predictions for a validation dataset\n",
        "# Sort the rows from best to worst scores on one metric\n",
        "# Then we build ranking vectors for all metrics\n",
        "\n",
        "rankings = {}\n",
        "\n",
        "for dataset in datasets:\n",
        "    slice_df = (\n",
        "        df[df[\"tested_on\"] == dataset]\n",
        "        .groupby([\"base_model\", \"trained_on\", \"tested_on\"])\n",
        "        .mean()\n",
        "        .sort_values(by=[\"bleu\"], ascending=False)\n",
        "    )\n",
        "    for metric in metrics:\n",
        "        vector = [\n",
        "            sorted(slice_df[metric], reverse=True).index(x) + 1\n",
        "            for x in slice_df[metric]\n",
        "        ]\n",
        "        rankings[(dataset, metric)] = vector"
      ],
      "metadata": {
        "id": "1TjrEIVjtpfv"
      },
      "execution_count": null,
      "outputs": []
    },
    {
      "cell_type": "code",
      "source": [
        "rankings"
      ],
      "metadata": {
        "id": "vEcTzJhx0d99"
      },
      "execution_count": null,
      "outputs": []
    },
    {
      "cell_type": "code",
      "source": [
        "vectors = {}\n",
        "for dataset in datasets:\n",
        "    vectors[dataset] = {metric: rankings[(dataset, metric)] for metric in metrics}\n",
        "vectors"
      ],
      "metadata": {
        "id": "8V6xewDMnyWr"
      },
      "execution_count": null,
      "outputs": []
    },
    {
      "cell_type": "code",
      "source": [
        "ranking_df = {dataset: pd.DataFrame(vectors[dataset]) for dataset in datasets}\n",
        "for k, v in ranking_df.items():\n",
        "    print(k)\n",
        "    print(v)"
      ],
      "metadata": {
        "id": "2-UZdX3NopCx"
      },
      "execution_count": null,
      "outputs": []
    },
    {
      "cell_type": "code",
      "source": [
        "kendall_df = {\n",
        "    dataset: ranking_df[dataset].corr(method=\"kendall\") for dataset in datasets\n",
        "}\n",
        "for k, v in kendall_df.items():\n",
        "    print(k)\n",
        "    print(v)"
      ],
      "metadata": {
        "id": "YcC7EKjSqP-T"
      },
      "execution_count": null,
      "outputs": []
    },
    {
      "cell_type": "code",
      "source": [
        "# It does not matter which set we use to build the mask\n",
        "mask = np.triu(np.ones_like(kendall_df[\"squad\"].corr(), dtype=bool))\n",
        "mask"
      ],
      "metadata": {
        "id": "VE_IAmOXrmrJ"
      },
      "execution_count": null,
      "outputs": []
    },
    {
      "cell_type": "code",
      "source": [
        "fig, axes = plt.subplots(2, 2, figsize=(9, 9))\n",
        "\n",
        "for ax, dataset in zip(axes.flat, datasets):\n",
        "    sns.heatmap(kendall_df[dataset], mask=mask, cmap=\"Blues\", ax=ax).set(title=dataset)\n",
        "\n",
        "fig.tight_layout()\n",
        "\n",
        "plt.show()"
      ],
      "metadata": {
        "id": "DdNh6cCKrx3Q"
      },
      "execution_count": null,
      "outputs": []
    },
    {
      "cell_type": "markdown",
      "source": [
        "### Cosine Similarity"
      ],
      "metadata": {
        "id": "1OfGhg_snQN5"
      }
    },
    {
      "cell_type": "code",
      "source": [
        "vectors = {}\n",
        "for dataset in datasets:\n",
        "    vectors[dataset] = [rankings[(dataset, metric)] for metric in metrics]"
      ],
      "metadata": {
        "id": "z7S8uYCw1Ge8"
      },
      "execution_count": null,
      "outputs": []
    },
    {
      "cell_type": "code",
      "source": [
        "similarity = {}\n",
        "for dataset in datasets:\n",
        "    similarity[dataset] = pd.DataFrame(\n",
        "        cosine_similarity(vectors[dataset]), columns=metrics, index=metrics\n",
        "    )"
      ],
      "metadata": {
        "id": "RnYRs0YZ6A3o"
      },
      "execution_count": null,
      "outputs": []
    },
    {
      "cell_type": "code",
      "source": [
        "similarity[\"nq\"]"
      ],
      "metadata": {
        "id": "Os99T1Fx7eO_"
      },
      "execution_count": null,
      "outputs": []
    },
    {
      "cell_type": "code",
      "source": [
        "similarity[\"quac\"]"
      ],
      "metadata": {
        "id": "wrzCS3d07elD"
      },
      "execution_count": null,
      "outputs": []
    },
    {
      "cell_type": "code",
      "source": [
        "similarity[\"squad\"]"
      ],
      "metadata": {
        "id": "s72iKPpT7ens"
      },
      "execution_count": null,
      "outputs": []
    },
    {
      "cell_type": "code",
      "source": [
        "similarity[\"triviaqa\"]"
      ],
      "metadata": {
        "id": "bAuPlrz37eqf"
      },
      "execution_count": null,
      "outputs": []
    },
    {
      "cell_type": "code",
      "source": [
        "# It does not matter which set we use to build the mask\n",
        "mask = np.triu(np.ones_like(similarity[\"squad\"].corr(), dtype=bool))"
      ],
      "metadata": {
        "id": "VeKOKB197GZn"
      },
      "execution_count": null,
      "outputs": []
    },
    {
      "cell_type": "code",
      "source": [
        "fig, axes = plt.subplots(2, 2, figsize=(9, 9))\n",
        "\n",
        "for ax, dataset in zip(axes.flat, datasets):\n",
        "    sns.heatmap(similarity[dataset], mask=mask, cmap=\"coolwarm\", ax=ax).set(\n",
        "        title=dataset\n",
        "    )\n",
        "\n",
        "fig.tight_layout()\n",
        "\n",
        "plt.show()"
      ],
      "metadata": {
        "id": "fdAj_1Au1Gp7"
      },
      "execution_count": null,
      "outputs": []
    },
    {
      "cell_type": "markdown",
      "source": [
        "### Black"
      ],
      "metadata": {
        "id": "Mcd_R5JUGCxV"
      }
    },
    {
      "cell_type": "code",
      "source": [
        "!pip install black[jupyter]"
      ],
      "metadata": {
        "id": "N9mKRIlQnygg"
      },
      "execution_count": null,
      "outputs": []
    },
    {
      "cell_type": "code",
      "source": [
        "!black \"/content/drive/MyDrive/Colab Notebooks/rr_evaluation_sandbox.ipynb\""
      ],
      "metadata": {
        "id": "dOT0YkhFokyI"
      },
      "execution_count": null,
      "outputs": []
    }
  ]
}