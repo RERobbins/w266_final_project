{
  "nbformat": 4,
  "nbformat_minor": 0,
  "metadata": {
    "colab": {
      "provenance": [],
      "collapsed_sections": [
        "ciKTbDAo6YZs",
        "qiB1BdLHFV9M",
        "s6XRvkI33MMR",
        "7vP_qHhY09ZX",
        "1OfGhg_snQN5",
        "Mcd_R5JUGCxV"
      ],
      "include_colab_link": true
    },
    "kernelspec": {
      "name": "python3",
      "display_name": "Python 3"
    },
    "language_info": {
      "name": "python"
    }
  },
  "cells": [
    {
      "cell_type": "markdown",
      "metadata": {
        "id": "view-in-github",
        "colab_type": "text"
      },
      "source": [
        "<a href=\"https://colab.research.google.com/github/jeanlucjackson/w266_final_project/blob/main/code/sandboxes/RR/rr_evaluation_sandbox.ipynb\" target=\"_parent\"><img src=\"https://colab.research.google.com/assets/colab-badge.svg\" alt=\"Open In Colab\"/></a>"
      ]
    },
    {
      "cell_type": "markdown",
      "source": [
        "### Setup"
      ],
      "metadata": {
        "id": "1szttaXlupSn"
      }
    },
    {
      "cell_type": "code",
      "execution_count": 1,
      "metadata": {
        "colab": {
          "base_uri": "https://localhost:8080/"
        },
        "id": "h2g69HkZJSvo",
        "outputId": "1a2e0003-c1a5-456e-8125-eab860c8f1ec"
      },
      "outputs": [
        {
          "output_type": "stream",
          "name": "stdout",
          "text": [
            "Mounted at /content/drive\n"
          ]
        }
      ],
      "source": [
        "from google.colab import drive\n",
        "\n",
        "drive.mount(\"/content/drive\")"
      ]
    },
    {
      "cell_type": "code",
      "source": [
        "import pandas as pd\n",
        "import numpy as np\n",
        "from sklearn.metrics.pairwise import cosine_similarity\n",
        "\n",
        "import seaborn as sns\n",
        "from matplotlib import pyplot as plt\n",
        "\n",
        "import scipy.stats as st\n",
        "\n",
        "from pprint import pprint\n",
        "\n",
        "pd.set_option(\"precision\", 5)\n",
        "sns.set_theme()"
      ],
      "metadata": {
        "id": "Os8PNswbKW-w"
      },
      "execution_count": 2,
      "outputs": []
    },
    {
      "cell_type": "code",
      "source": [
        "evaluation_root = \"/content/drive/MyDrive/w266 NLP Final Project/Evaluation/\"\n",
        "filename = evaluation_root + \"evaluation_database.json\"\n",
        "\n",
        "evaluation_df = pd.read_json(filename)"
      ],
      "metadata": {
        "id": "g9knLivdJXSg"
      },
      "execution_count": 3,
      "outputs": []
    },
    {
      "cell_type": "code",
      "source": [
        "evaluation_df.columns"
      ],
      "metadata": {
        "colab": {
          "base_uri": "https://localhost:8080/"
        },
        "id": "Xv_nGZ_gY__4",
        "outputId": "82e02588-287a-4b16-a72c-ddf4a2ac4102"
      },
      "execution_count": 4,
      "outputs": [
        {
          "output_type": "execute_result",
          "data": {
            "text/plain": [
              "Index(['prediction_set', 'base_model', 'trained_on', 'tested_on', 'nickname',\n",
              "       'hyperparameter', 'target', 'prediction', 'bleu', 'rouge1', 'rouge2',\n",
              "       'rougeL', 'rougeLsum', 'meteor', 'bertscore-precision',\n",
              "       'bertscore-recall', 'bertscore-f1', 'use', 'bleurt'],\n",
              "      dtype='object')"
            ]
          },
          "metadata": {},
          "execution_count": 4
        }
      ]
    },
    {
      "cell_type": "code",
      "source": [
        "evaluation_exclusions = [\n",
        "    \"rouge1\",\n",
        "    \"rouge2\",\n",
        "    \"rougeLsum\",\n",
        "    \"bertscore-precision\",\n",
        "    \"bertscore-recall\",\n",
        "    \"bleurt\",\n",
        "]\n",
        "evaluation_df = evaluation_df.drop(columns=evaluation_exclusions)"
      ],
      "metadata": {
        "id": "N6T0fJ2Xzuhd"
      },
      "execution_count": 5,
      "outputs": []
    },
    {
      "cell_type": "code",
      "source": [
        "evaluation_metrics = evaluation_df.select_dtypes(exclude=\"object\").columns\n",
        "evaluation_metrics"
      ],
      "metadata": {
        "colab": {
          "base_uri": "https://localhost:8080/"
        },
        "id": "P6nfOkkGBxcv",
        "outputId": "4157cd7b-3ece-4142-da01-33855616dedb"
      },
      "execution_count": 6,
      "outputs": [
        {
          "output_type": "execute_result",
          "data": {
            "text/plain": [
              "Index(['bleu', 'rougeL', 'meteor', 'bertscore-f1', 'use'], dtype='object')"
            ]
          },
          "metadata": {},
          "execution_count": 6
        }
      ]
    },
    {
      "cell_type": "code",
      "source": [
        "# Apply this mask to remove all samples from non default inference sets\n",
        "default_hyperparameter_mask = [\n",
        "    sample[\"defaults\"] for sample in evaluation_df.hyperparameter\n",
        "]"
      ],
      "metadata": {
        "id": "doiZOH-sqNc9"
      },
      "execution_count": 7,
      "outputs": []
    },
    {
      "cell_type": "markdown",
      "source": [
        "### BART vs T5\n",
        "\n",
        "In the end, it is hard to distinguish BART from T5, with a slight edge going to T5.\n",
        "\n"
      ],
      "metadata": {
        "id": "ciKTbDAo6YZs"
      }
    },
    {
      "cell_type": "markdown",
      "source": [
        "We built 5 BART models and 5 T5 models.\n",
        "\n",
        "Each set of 5 models includes one model trained on each of our datasets plus one trained on all of our datasets.\n",
        "\n",
        "We ran the validation sets from each of our datasets on each of our ten models yielding 40 sets of predictions."
      ],
      "metadata": {
        "id": "szRDWDak6v-r"
      }
    },
    {
      "cell_type": "markdown",
      "source": [
        "#### In The Aggregate\n",
        "\n",
        "We group the prediction sets by base model and calculate the mean for each metric.\n",
        "\n",
        "In every case, the BART models outperform the T5 models.\n",
        "\n",
        "We applied Welch's t-test to the metric distributions between the two models and, in each case, found $p$ values of less than .05 and reject the hypothesis that the distributions have equal means."
      ],
      "metadata": {
        "id": "CBwU-3oYFc2E"
      }
    },
    {
      "cell_type": "code",
      "source": [
        "df = evaluation_df[default_hyperparameter_mask]\n",
        "df.groupby([\"base_model\"]).mean()\n",
        "df_T5 = df[df[\"base_model\"] == \"T5\"]\n",
        "df_BART = df[df[\"base_model\"] == \"bart\"]"
      ],
      "metadata": {
        "id": "0M1zHZUE1Jxv"
      },
      "execution_count": 8,
      "outputs": []
    },
    {
      "cell_type": "code",
      "source": [
        "print(\"For All Predictions Made\")\n",
        "fig, axes = plt.subplots(2, 3, figsize=(15, 8))\n",
        "for ax, metric in zip(axes.flat, evaluation_metrics):\n",
        "    sns.histplot(x=metric, data=df, hue=\"base_model\", ax=ax)\n",
        "list(axes.flat)[-1].remove()\n",
        "plt.tight_layout()\n",
        "plt.show()"
      ],
      "metadata": {
        "colab": {
          "base_uri": "https://localhost:8080/",
          "height": 598
        },
        "id": "To8Zu5PvWoED",
        "outputId": "cd032719-7a9e-44c1-b2fe-c44d679e0e2d"
      },
      "execution_count": 9,
      "outputs": [
        {
          "output_type": "stream",
          "name": "stdout",
          "text": [
            "For All Predictions Made\n"
          ]
        },
        {
          "output_type": "display_data",
          "data": {
            "text/plain": [
              "<Figure size 1080x576 with 5 Axes>"
            ],
            "image/png": "[encoded data removed]"
          },
          "metadata": {}
        }
      ]
    },
    {
      "cell_type": "code",
      "source": [
        "reject_count = 0\n",
        "fail_to_reject_count = 0\n",
        "\n",
        "print(\"Reject the null hypothesis except where noted otherwise\\n\")\n",
        "\n",
        "for metric in evaluation_metrics:\n",
        "\n",
        "    p = st.ttest_ind(df_T5[metric], df_BART[metric], equal_var=False)[1]\n",
        "\n",
        "    if p <= 0.05:\n",
        "        reject_null = \"\"\n",
        "        reject_count += 1\n",
        "    else:\n",
        "        reject_null = \"***FAIL TO REJECT THE NULL***\"\n",
        "        fail_to_reject_count += 1\n",
        "\n",
        "    print(f\"metric: {metric} Welch's t-test p value {p}, {reject_null}\")\n",
        "\n",
        "print(\n",
        "    f\"\\nreject the null: {reject_count}, fail to reject the null:  {fail_to_reject_count}\"\n",
        ")"
      ],
      "metadata": {
        "id": "YtDlQW4R9vrj",
        "outputId": "3f86bf9f-d19e-4582-82c9-3ad7e5267518",
        "colab": {
          "base_uri": "https://localhost:8080/"
        }
      },
      "execution_count": 10,
      "outputs": [
        {
          "output_type": "stream",
          "name": "stdout",
          "text": [
            "Reject the null hypothesis except where noted otherwise\n",
            "\n",
            "metric: bleu Welch's t-test p value 1.9791640175347386e-23, \n",
            "metric: rougeL Welch's t-test p value 0.0, \n",
            "metric: meteor Welch's t-test p value 4.240592742194901e-230, \n",
            "metric: bertscore-f1 Welch's t-test p value 0.0, \n",
            "metric: use Welch's t-test p value 0.0, \n",
            "\n",
            "reject the null: 5, fail to reject the null:  0\n"
          ]
        }
      ]
    },
    {
      "cell_type": "code",
      "source": [
        "bart_wins = 0\n",
        "t5_wins = 0\n",
        "\n",
        "print(\"BART wins the comparison except where noted otherwise\\n\")\n",
        "\n",
        "for metric in evaluation_metrics:\n",
        "    print(f\"metric: {metric}\", end=\" \")\n",
        "    T5 = df_T5[metric].mean()\n",
        "    BART = df_BART[metric].mean()\n",
        "\n",
        "    if BART > T5:\n",
        "        print(\"\")\n",
        "        bart_wins += 1\n",
        "    else:\n",
        "        print(\"\\t***T5 wins***\")\n",
        "        t5_wins += 1\n",
        "\n",
        "print()\n",
        "print(f\"BART wins: {bart_wins} T5 wins: {t5_wins}\")"
      ],
      "metadata": {
        "id": "zUzMDWDxrbW4",
        "outputId": "aef1f9d3-4f4c-4790-ba1b-8adbca10badf",
        "colab": {
          "base_uri": "https://localhost:8080/"
        }
      },
      "execution_count": 11,
      "outputs": [
        {
          "output_type": "stream",
          "name": "stdout",
          "text": [
            "BART wins the comparison except where noted otherwise\n",
            "\n",
            "metric: bleu \n",
            "metric: rougeL \n",
            "metric: meteor \n",
            "metric: bertscore-f1 \n",
            "metric: use \n",
            "\n",
            "BART wins: 5 T5 wins: 0\n"
          ]
        }
      ]
    },
    {
      "cell_type": "markdown",
      "source": [
        "#### Per Training Set\n",
        "\n",
        "We group the prediction sets by base model and training set and calculate the mean for each metric.\n",
        "\n",
        "We have five metrics and five training sets (four individual plus amalgam).\n",
        "\n",
        "In 13 of those 25 cases, the differences in the distributions are not statistically significant.\n",
        "\n",
        "In the 12 cases where the differences in the distributions are significant, BART outperforms T5 for all 5 metrics on each of the QuAC and TriviaQA trained models. On the other hand, T5 outperforms BART on the amalgam trained dataset for Bertscore-F1 and on the NQ trained dataset for USE.\n",
        "\n",
        "So, when we look just at the amalgam trained models, the results are indistinguishable across every metric other than bertscore-f1, where T5 outperforms BART."
      ],
      "metadata": {
        "id": "qiB1BdLHFV9M"
      }
    },
    {
      "cell_type": "code",
      "source": [
        "df = evaluation_df[default_hyperparameter_mask]\n",
        "df = df.groupby([\"trained_on\", \"base_model\"]).mean()\n",
        "df = df.reset_index()\n",
        "training_sets = df.trained_on.unique()\n",
        "df"
      ],
      "metadata": {
        "id": "Tzadu-f4Fsfc",
        "outputId": "549851b9-8e49-4ba5-abb8-70bb6d79adce",
        "colab": {
          "base_uri": "https://localhost:8080/",
          "height": 363
        }
      },
      "execution_count": 12,
      "outputs": [
        {
          "output_type": "execute_result",
          "data": {
            "text/plain": [
              "  trained_on base_model     bleu   rougeL   meteor  bertscore-f1      use\n",
              "0    amalgam         T5  0.10053  0.39166  0.38429       0.83285  0.58573\n",
              "1    amalgam       bart  0.09873  0.38872  0.38604       0.83153  0.58404\n",
              "2         nq         T5  0.02354  0.29801  0.22997       0.76924  0.50103\n",
              "3         nq       bart  0.02499  0.29348  0.22864       0.76848  0.50252\n",
              "4       quac         T5  0.00495  0.09174  0.09777       0.70548  0.17930\n",
              "5       quac       bart  0.02474  0.26015  0.22003       0.78025  0.42917\n",
              "6      squad         T5  0.06450  0.33603  0.32098       0.81201  0.52813\n",
              "7      squad       bart  0.06580  0.33416  0.32217       0.81202  0.52879\n",
              "8   triviaqa         T5  0.03592  0.26747  0.29125       0.79005  0.48495\n",
              "9   triviaqa       bart  0.04471  0.29440  0.30900       0.79609  0.50747"
            ],
            "text/html": [
              "\n",
              "  <div id=\"df-9c11b0df-c178-4132-bde3-5ed5e50d82c1\">\n",
              "    <div class=\"colab-df-container\">\n",
              "      <div>\n",
              "<style scoped>\n",
              "    .dataframe tbody tr th:only-of-type {\n",
              "        vertical-align: middle;\n",
              "    }\n",
              "\n",
              "    .dataframe tbody tr th {\n",
              "        vertical-align: top;\n",
              "    }\n",
              "\n",
              "    .dataframe thead th {\n",
              "        text-align: right;\n",
              "    }\n",
              "</style>\n",
              "<table border=\"1\" class=\"dataframe\">\n",
              "  <thead>\n",
              "    <tr style=\"text-align: right;\">\n",
              "      <th></th>\n",
              "      <th>trained_on</th>\n",
              "      <th>base_model</th>\n",
              "      <th>bleu</th>\n",
              "      <th>rougeL</th>\n",
              "      <th>meteor</th>\n",
              "      <th>bertscore-f1</th>\n",
              "      <th>use</th>\n",
              "    </tr>\n",
              "  </thead>\n",
              "  <tbody>\n",
              "    <tr>\n",
              "      <th>0</th>\n",
              "      <td>amalgam</td>\n",
              "      <td>T5</td>\n",
              "      <td>0.10053</td>\n",
              "      <td>0.39166</td>\n",
              "      <td>0.38429</td>\n",
              "      <td>0.83285</td>\n",
              "      <td>0.58573</td>\n",
              "    </tr>\n",
              "    <tr>\n",
              "      <th>1</th>\n",
              "      <td>amalgam</td>\n",
              "      <td>bart</td>\n",
              "      <td>0.09873</td>\n",
              "      <td>0.38872</td>\n",
              "      <td>0.38604</td>\n",
              "      <td>0.83153</td>\n",
              "      <td>0.58404</td>\n",
              "    </tr>\n",
              "    <tr>\n",
              "      <th>2</th>\n",
              "      <td>nq</td>\n",
              "      <td>T5</td>\n",
              "      <td>0.02354</td>\n",
              "      <td>0.29801</td>\n",
              "      <td>0.22997</td>\n",
              "      <td>0.76924</td>\n",
              "      <td>0.50103</td>\n",
              "    </tr>\n",
              "    <tr>\n",
              "      <th>3</th>\n",
              "      <td>nq</td>\n",
              "      <td>bart</td>\n",
              "      <td>0.02499</td>\n",
              "      <td>0.29348</td>\n",
              "      <td>0.22864</td>\n",
              "      <td>0.76848</td>\n",
              "      <td>0.50252</td>\n",
              "    </tr>\n",
              "    <tr>\n",
              "      <th>4</th>\n",
              "      <td>quac</td>\n",
              "      <td>T5</td>\n",
              "      <td>0.00495</td>\n",
              "      <td>0.09174</td>\n",
              "      <td>0.09777</td>\n",
              "      <td>0.70548</td>\n",
              "      <td>0.17930</td>\n",
              "    </tr>\n",
              "    <tr>\n",
              "      <th>5</th>\n",
              "      <td>quac</td>\n",
              "      <td>bart</td>\n",
              "      <td>0.02474</td>\n",
              "      <td>0.26015</td>\n",
              "      <td>0.22003</td>\n",
              "      <td>0.78025</td>\n",
              "      <td>0.42917</td>\n",
              "    </tr>\n",
              "    <tr>\n",
              "      <th>6</th>\n",
              "      <td>squad</td>\n",
              "      <td>T5</td>\n",
              "      <td>0.06450</td>\n",
              "      <td>0.33603</td>\n",
              "      <td>0.32098</td>\n",
              "      <td>0.81201</td>\n",
              "      <td>0.52813</td>\n",
              "    </tr>\n",
              "    <tr>\n",
              "      <th>7</th>\n",
              "      <td>squad</td>\n",
              "      <td>bart</td>\n",
              "      <td>0.06580</td>\n",
              "      <td>0.33416</td>\n",
              "      <td>0.32217</td>\n",
              "      <td>0.81202</td>\n",
              "      <td>0.52879</td>\n",
              "    </tr>\n",
              "    <tr>\n",
              "      <th>8</th>\n",
              "      <td>triviaqa</td>\n",
              "      <td>T5</td>\n",
              "      <td>0.03592</td>\n",
              "      <td>0.26747</td>\n",
              "      <td>0.29125</td>\n",
              "      <td>0.79005</td>\n",
              "      <td>0.48495</td>\n",
              "    </tr>\n",
              "    <tr>\n",
              "      <th>9</th>\n",
              "      <td>triviaqa</td>\n",
              "      <td>bart</td>\n",
              "      <td>0.04471</td>\n",
              "      <td>0.29440</td>\n",
              "      <td>0.30900</td>\n",
              "      <td>0.79609</td>\n",
              "      <td>0.50747</td>\n",
              "    </tr>\n",
              "  </tbody>\n",
              "</table>\n",
              "</div>\n",
              "      <button class=\"colab-df-convert\" onclick=\"convertToInteractive('df-9c11b0df-c178-4132-bde3-5ed5e50d82c1')\"\n",
              "              title=\"Convert this dataframe to an interactive table.\"\n",
              "              style=\"display:none;\">\n",
              "        \n",
              "  <svg xmlns=\"http://www.w3.org/2000/svg\" height=\"24px\"viewBox=\"0 0 24 24\"\n",
              "       width=\"24px\">\n",
              "    <path d=\"M0 0h24v24H0V0z\" fill=\"none\"/>\n",
              "    <path d=\"M18.56 5.44l.94 2.06.94-2.06 2.06-.94-2.06-.94-.94-2.06-.94 2.06-2.06.94zm-11 1L8.5 8.5l.94-2.06 2.06-.94-2.06-.94L8.5 2.5l-.94 2.06-2.06.94zm10 10l.94 2.06.94-2.06 2.06-.94-2.06-.94-.94-2.06-.94 2.06-2.06.94z\"/><path d=\"M17.41 7.96l-1.37-1.37c-.4-.4-.92-.59-1.43-.59-.52 0-1.04.2-1.43.59L10.3 9.45l-7.72 7.72c-.78.78-.78 2.05 0 2.83L4 21.41c.39.39.9.59 1.41.59.51 0 1.02-.2 1.41-.59l7.78-7.78 2.81-2.81c.8-.78.8-2.07 0-2.86zM5.41 20L4 18.59l7.72-7.72 1.47 1.35L5.41 20z\"/>\n",
              "  </svg>\n",
              "      </button>\n",
              "      \n",
              "  <style>\n",
              "    .colab-df-container {\n",
              "      display:flex;\n",
              "      flex-wrap:wrap;\n",
              "      gap: 12px;\n",
              "    }\n",
              "\n",
              "    .colab-df-convert {\n",
              "      background-color: #E8F0FE;\n",
              "      border: none;\n",
              "      border-radius: 50%;\n",
              "      cursor: pointer;\n",
              "      display: none;\n",
              "      fill: #1967D2;\n",
              "      height: 32px;\n",
              "      padding: 0 0 0 0;\n",
              "      width: 32px;\n",
              "    }\n",
              "\n",
              "    .colab-df-convert:hover {\n",
              "      background-color: #E2EBFA;\n",
              "      box-shadow: 0px 1px 2px rgba(60, 64, 67, 0.3), 0px 1px 3px 1px rgba(60, 64, 67, 0.15);\n",
              "      fill: #174EA6;\n",
              "    }\n",
              "\n",
              "    [theme=dark] .colab-df-convert {\n",
              "      background-color: #3B4455;\n",
              "      fill: #D2E3FC;\n",
              "    }\n",
              "\n",
              "    [theme=dark] .colab-df-convert:hover {\n",
              "      background-color: #434B5C;\n",
              "      box-shadow: 0px 1px 3px 1px rgba(0, 0, 0, 0.15);\n",
              "      filter: drop-shadow(0px 1px 2px rgba(0, 0, 0, 0.3));\n",
              "      fill: #FFFFFF;\n",
              "    }\n",
              "  </style>\n",
              "\n",
              "      <script>\n",
              "        const buttonEl =\n",
              "          document.querySelector('#df-9c11b0df-c178-4132-bde3-5ed5e50d82c1 button.colab-df-convert');\n",
              "        buttonEl.style.display =\n",
              "          google.colab.kernel.accessAllowed ? 'block' : 'none';\n",
              "\n",
              "        async function convertToInteractive(key) {\n",
              "          const element = document.querySelector('#df-9c11b0df-c178-4132-bde3-5ed5e50d82c1');\n",
              "          const dataTable =\n",
              "            await google.colab.kernel.invokeFunction('convertToInteractive',\n",
              "                                                     [key], {});\n",
              "          if (!dataTable) return;\n",
              "\n",
              "          const docLinkHtml = 'Like what you see? Visit the ' +\n",
              "            '<a target=\"_blank\" href=https://colab.research.google.com/notebooks/data_table.ipynb>data table notebook</a>'\n",
              "            + ' to learn more about interactive tables.';\n",
              "          element.innerHTML = '';\n",
              "          dataTable['output_type'] = 'display_data';\n",
              "          await google.colab.output.renderOutput(dataTable, element);\n",
              "          const docLink = document.createElement('div');\n",
              "          docLink.innerHTML = docLinkHtml;\n",
              "          element.appendChild(docLink);\n",
              "        }\n",
              "      </script>\n",
              "    </div>\n",
              "  </div>\n",
              "  "
            ]
          },
          "metadata": {},
          "execution_count": 12
        }
      ]
    },
    {
      "cell_type": "code",
      "source": [
        "reject = []\n",
        "fail_to_reject = []\n",
        "\n",
        "print(\"Reject the null hypothesis except where noted otherwise\\n\")\n",
        "\n",
        "for training_set in training_sets:\n",
        "    T5_set = df_T5[df_T5[\"trained_on\"] == training_set]\n",
        "    BART_set = df_BART[df_BART[\"trained_on\"] == training_set]\n",
        "\n",
        "    for metric in evaluation_metrics:\n",
        "        p = st.ttest_ind(T5_set[metric], BART_set[metric], equal_var=False)[1]\n",
        "        if p <= 0.05:\n",
        "            reject_null = \"\"\n",
        "            reject.append((training_set, metric))\n",
        "        else:\n",
        "            reject_null = \"***FAIL TO REJECT THE NULL\"\n",
        "            fail_to_reject.append((training_set, metric))\n",
        "\n",
        "        print(\n",
        "            f\"training set: {training_set} metric: {metric} p value: {p}, {reject_null}\"\n",
        "        )\n",
        "\n",
        "print(\n",
        "    f\"\\nreject the null: {len(reject)}, fail to reject the null:  {len(fail_to_reject)}\"\n",
        ")\n",
        "\n",
        "print(\"reject the null:\")\n",
        "pprint(reject)"
      ],
      "metadata": {
        "id": "2fusb5iRFsvk",
        "outputId": "4268e547-b1b6-4a37-b533-4c8d356afb6c",
        "colab": {
          "base_uri": "https://localhost:8080/"
        }
      },
      "execution_count": 13,
      "outputs": [
        {
          "output_type": "stream",
          "name": "stdout",
          "text": [
            "Reject the null hypothesis except where noted otherwise\n",
            "\n",
            "training set: amalgam metric: bleu p value: 0.33155457217624207, ***FAIL TO REJECT THE NULL\n",
            "training set: amalgam metric: rougeL p value: 0.16550668332605217, ***FAIL TO REJECT THE NULL\n",
            "training set: amalgam metric: meteor p value: 0.41766204420585396, ***FAIL TO REJECT THE NULL\n",
            "training set: amalgam metric: bertscore-f1 p value: 0.04764397222876399, \n",
            "training set: amalgam metric: use p value: 0.38716485857314165, ***FAIL TO REJECT THE NULL\n",
            "training set: nq metric: bleu p value: 0.11419945871024073, ***FAIL TO REJECT THE NULL\n",
            "training set: nq metric: rougeL p value: 0.010631776312341407, \n",
            "training set: nq metric: meteor p value: 0.4402382966513929, ***FAIL TO REJECT THE NULL\n",
            "training set: nq metric: bertscore-f1 p value: 0.22290603302400405, ***FAIL TO REJECT THE NULL\n",
            "training set: nq metric: use p value: 0.41311947824287576, ***FAIL TO REJECT THE NULL\n",
            "training set: quac metric: bleu p value: 5.842527018416679e-125, \n",
            "training set: quac metric: rougeL p value: 0.0, \n",
            "training set: quac metric: meteor p value: 0.0, \n",
            "training set: quac metric: bertscore-f1 p value: 0.0, \n",
            "training set: quac metric: use p value: 0.0, \n",
            "training set: squad metric: bleu p value: 0.39296503673874794, ***FAIL TO REJECT THE NULL\n",
            "training set: squad metric: rougeL p value: 0.3494201159621513, ***FAIL TO REJECT THE NULL\n",
            "training set: squad metric: meteor p value: 0.5608459550593283, ***FAIL TO REJECT THE NULL\n",
            "training set: squad metric: bertscore-f1 p value: 0.9840522395362075, ***FAIL TO REJECT THE NULL\n",
            "training set: squad metric: use p value: 0.7324112462181998, ***FAIL TO REJECT THE NULL\n",
            "training set: triviaqa metric: bleu p value: 2.429960828092899e-16, \n",
            "training set: triviaqa metric: rougeL p value: 4.531755981855174e-55, \n",
            "training set: triviaqa metric: meteor p value: 2.394848060764954e-23, \n",
            "training set: triviaqa metric: bertscore-f1 p value: 3.0245560756690595e-22, \n",
            "training set: triviaqa metric: use p value: 1.050397607470515e-31, \n",
            "\n",
            "reject the null: 12, fail to reject the null:  13\n",
            "reject the null:\n",
            "[('amalgam', 'bertscore-f1'),\n",
            " ('nq', 'rougeL'),\n",
            " ('quac', 'bleu'),\n",
            " ('quac', 'rougeL'),\n",
            " ('quac', 'meteor'),\n",
            " ('quac', 'bertscore-f1'),\n",
            " ('quac', 'use'),\n",
            " ('triviaqa', 'bleu'),\n",
            " ('triviaqa', 'rougeL'),\n",
            " ('triviaqa', 'meteor'),\n",
            " ('triviaqa', 'bertscore-f1'),\n",
            " ('triviaqa', 'use')]\n"
          ]
        }
      ]
    },
    {
      "cell_type": "code",
      "source": [
        "bart_wins = 0\n",
        "t5_wins = 0\n",
        "\n",
        "print(\"BART wins the comparison except where noted otherwise\\n\")\n",
        "\n",
        "for training_set, metric in reject:\n",
        "    print(f\"training set: {training_set}\\tmetric: {metric}\", end=\" \")\n",
        "    T5 = df[(df[\"base_model\"] == \"T5\") & (df[\"trained_on\"] == training_set)][\n",
        "        metric\n",
        "    ].values[0]\n",
        "    BART = df[(df[\"base_model\"] == \"bart\") & (df[\"trained_on\"] == training_set)][\n",
        "        metric\n",
        "    ].values[0]\n",
        "\n",
        "    if BART > T5:\n",
        "        print(\"\")\n",
        "        bart_wins += 1\n",
        "    else:\n",
        "        print(\"\\t***T5 wins***\")\n",
        "        t5_wins += 1\n",
        "\n",
        "print()\n",
        "print(f\"BART wins = {bart_wins} T5 wins = {t5_wins}\")"
      ],
      "metadata": {
        "id": "Fd4RxeTJFspz",
        "outputId": "9cbfe41f-f112-4b01-b498-b5649e6092ef",
        "colab": {
          "base_uri": "https://localhost:8080/"
        }
      },
      "execution_count": 14,
      "outputs": [
        {
          "output_type": "stream",
          "name": "stdout",
          "text": [
            "BART wins the comparison except where noted otherwise\n",
            "\n",
            "training set: amalgam\tmetric: bertscore-f1 \t***T5 wins***\n",
            "training set: nq\tmetric: rougeL \t***T5 wins***\n",
            "training set: quac\tmetric: bleu \n",
            "training set: quac\tmetric: rougeL \n",
            "training set: quac\tmetric: meteor \n",
            "training set: quac\tmetric: bertscore-f1 \n",
            "training set: quac\tmetric: use \n",
            "training set: triviaqa\tmetric: bleu \n",
            "training set: triviaqa\tmetric: rougeL \n",
            "training set: triviaqa\tmetric: meteor \n",
            "training set: triviaqa\tmetric: bertscore-f1 \n",
            "training set: triviaqa\tmetric: use \n",
            "\n",
            "BART wins = 10 T5 wins = 2\n"
          ]
        }
      ]
    },
    {
      "cell_type": "code",
      "source": [
        "df = evaluation_df[default_hyperparameter_mask]\n",
        "df = df[df[\"trained_on\"] == \"amalgam\"]"
      ],
      "metadata": {
        "id": "RGNJeL2hqYhK"
      },
      "execution_count": 15,
      "outputs": []
    },
    {
      "cell_type": "code",
      "source": [
        "print(\"For Amalgam Trained Models\")\n",
        "fig, axes = plt.subplots(2, 3, figsize=(15, 6))\n",
        "for ax, metric in zip(axes.flat, evaluation_metrics):\n",
        "    sns.histplot(x=metric, data=df, hue=\"base_model\", ax=ax)\n",
        "list(axes.flat)[-1].remove()\n",
        "plt.tight_layout()"
      ],
      "metadata": {
        "id": "x--TD2yrpweT",
        "outputId": "7b1fde43-0989-4db0-f464-7ac05d7dd949",
        "colab": {
          "base_uri": "https://localhost:8080/",
          "height": 454
        }
      },
      "execution_count": 16,
      "outputs": [
        {
          "output_type": "stream",
          "name": "stdout",
          "text": [
            "For Amalgam Trained Models\n"
          ]
        },
        {
          "output_type": "display_data",
          "data": {
            "text/plain": [
              "<Figure size 1080x432 with 5 Axes>"
            ],
            "image/png": "[encoded data removed]"
          },
          "metadata": {}
        }
      ]
    },
    {
      "cell_type": "markdown",
      "source": [
        "### Which Model Is Best?\n",
        "\n",
        "Next we look at each of our models to see which performs the best when we consider every inference made with that model.  We consider each of our evaluation metrics.\n",
        "\n",
        "For each metric, the top two models are always the amalgram trained models and the next two models are always the squad trained models.\n",
        "\n",
        "As we discussed above, the only statistically significant difference between the amalgam trained models is that T5 outperforms BART on bertscore-F1 and there is not statistically significant difference between how the SQuAD trained models perform on any metric.\n",
        "\n",
        "So, our amalgam trained models are at the top with a slight edge to T5 over BART on those two models."
      ],
      "metadata": {
        "id": "6KYFpaI4y2-W"
      }
    },
    {
      "cell_type": "code",
      "source": [
        "df = evaluation_df[default_hyperparameter_mask]\n",
        "df = df.groupby([\"base_model\", \"trained_on\"]).mean()\n",
        "for metric in evaluation_metrics:\n",
        "    print(metric)\n",
        "    pprint(df[metric].sort_values(ascending=False)[:5])\n",
        "    print()"
      ],
      "metadata": {
        "id": "-kGoID61_u0v",
        "outputId": "95c8b46a-497e-4087-8882-debd6106c234",
        "colab": {
          "base_uri": "https://localhost:8080/"
        }
      },
      "execution_count": 17,
      "outputs": [
        {
          "output_type": "stream",
          "name": "stdout",
          "text": [
            "bleu\n",
            "base_model  trained_on\n",
            "T5          amalgam       0.10053\n",
            "bart        amalgam       0.09873\n",
            "            squad         0.06580\n",
            "T5          squad         0.06450\n",
            "bart        triviaqa      0.04471\n",
            "Name: bleu, dtype: float64\n",
            "\n",
            "rougeL\n",
            "base_model  trained_on\n",
            "T5          amalgam       0.39166\n",
            "bart        amalgam       0.38872\n",
            "T5          squad         0.33603\n",
            "bart        squad         0.33416\n",
            "T5          nq            0.29801\n",
            "Name: rougeL, dtype: float64\n",
            "\n",
            "meteor\n",
            "base_model  trained_on\n",
            "bart        amalgam       0.38604\n",
            "T5          amalgam       0.38429\n",
            "bart        squad         0.32217\n",
            "T5          squad         0.32098\n",
            "bart        triviaqa      0.30900\n",
            "Name: meteor, dtype: float64\n",
            "\n",
            "bertscore-f1\n",
            "base_model  trained_on\n",
            "T5          amalgam       0.83285\n",
            "bart        amalgam       0.83153\n",
            "            squad         0.81202\n",
            "T5          squad         0.81201\n",
            "bart        triviaqa      0.79609\n",
            "Name: bertscore-f1, dtype: float64\n",
            "\n",
            "use\n",
            "base_model  trained_on\n",
            "T5          amalgam       0.58573\n",
            "bart        amalgam       0.58404\n",
            "            squad         0.52879\n",
            "T5          squad         0.52813\n",
            "bart        triviaqa      0.50747\n",
            "Name: use, dtype: float64\n",
            "\n"
          ]
        }
      ]
    },
    {
      "cell_type": "markdown",
      "source": [
        "### Sequentially Trained Blended Models\n",
        "\n",
        "We compare the sn, snq and snqt models using the same methodology applied in the last section.  We look at every inference made and then each metric.\n",
        "\n",
        "For all metrics, the snqt model is the highest performer of the three sequentially trained models.  There is some variation between the second and third performers.  All differences are statistically significant.\n",
        "\n",
        "While snqt is the best of the sequentially trained models, it never outperforms the blended model that was trained on shuffled data."
      ],
      "metadata": {
        "id": "2aE97JPN3tVp"
      }
    },
    {
      "cell_type": "code",
      "source": [
        "filename = evaluation_root + \"evaluation_database_snqt.json\"\n",
        "\n",
        "evaluation_df_2 = pd.read_json(filename)"
      ],
      "metadata": {
        "id": "r_s0rBtQ32GA"
      },
      "execution_count": 18,
      "outputs": []
    },
    {
      "cell_type": "code",
      "source": [
        "default_hyperparameter_mask_2 = [\n",
        "    sample[\"defaults\"] for sample in evaluation_df_2.hyperparameter\n",
        "]\n",
        "evaluation_df_2 = evaluation_df_2.drop(columns=evaluation_exclusions)"
      ],
      "metadata": {
        "id": "zlrn3nLR41SX"
      },
      "execution_count": 19,
      "outputs": []
    },
    {
      "cell_type": "markdown",
      "source": [
        "#### snqt outperforms sn and snq for each metric, all differences are statistically significant."
      ],
      "metadata": {
        "id": "YmsBuIoYPIAz"
      }
    },
    {
      "cell_type": "code",
      "source": [
        "df = evaluation_df_2[default_hyperparameter_mask_2]\n",
        "df = (\n",
        "    df.groupby([\"base_model\", \"trained_on\"])\n",
        "    .mean()\n",
        "    .sort_values(by=\"use\", ascending=False)\n",
        ")\n",
        "df"
      ],
      "metadata": {
        "id": "cy6lHYeO4kZr",
        "outputId": "7959bc93-34ea-44af-c49b-9ef19129e250",
        "colab": {
          "base_uri": "https://localhost:8080/",
          "height": 175
        }
      },
      "execution_count": 20,
      "outputs": [
        {
          "output_type": "execute_result",
          "data": {
            "text/plain": [
              "                          bleu   rougeL   meteor  bertscore-f1      use\n",
              "base_model trained_on                                                  \n",
              "bart       snqt        0.05047  0.31302  0.32822       0.80321  0.52447\n",
              "           sn          0.02657  0.30198  0.23887       0.77182  0.51114\n",
              "           snq         0.03194  0.27536  0.23794       0.78428  0.44103"
            ],
            "text/html": [
              "\n",
              "  <div id=\"df-2a5ac204-d04d-4f92-8150-501c162ed73f\">\n",
              "    <div class=\"colab-df-container\">\n",
              "      <div>\n",
              "<style scoped>\n",
              "    .dataframe tbody tr th:only-of-type {\n",
              "        vertical-align: middle;\n",
              "    }\n",
              "\n",
              "    .dataframe tbody tr th {\n",
              "        vertical-align: top;\n",
              "    }\n",
              "\n",
              "    .dataframe thead th {\n",
              "        text-align: right;\n",
              "    }\n",
              "</style>\n",
              "<table border=\"1\" class=\"dataframe\">\n",
              "  <thead>\n",
              "    <tr style=\"text-align: right;\">\n",
              "      <th></th>\n",
              "      <th></th>\n",
              "      <th>bleu</th>\n",
              "      <th>rougeL</th>\n",
              "      <th>meteor</th>\n",
              "      <th>bertscore-f1</th>\n",
              "      <th>use</th>\n",
              "    </tr>\n",
              "    <tr>\n",
              "      <th>base_model</th>\n",
              "      <th>trained_on</th>\n",
              "      <th></th>\n",
              "      <th></th>\n",
              "      <th></th>\n",
              "      <th></th>\n",
              "      <th></th>\n",
              "    </tr>\n",
              "  </thead>\n",
              "  <tbody>\n",
              "    <tr>\n",
              "      <th rowspan=\"3\" valign=\"top\">bart</th>\n",
              "      <th>snqt</th>\n",
              "      <td>0.05047</td>\n",
              "      <td>0.31302</td>\n",
              "      <td>0.32822</td>\n",
              "      <td>0.80321</td>\n",
              "      <td>0.52447</td>\n",
              "    </tr>\n",
              "    <tr>\n",
              "      <th>sn</th>\n",
              "      <td>0.02657</td>\n",
              "      <td>0.30198</td>\n",
              "      <td>0.23887</td>\n",
              "      <td>0.77182</td>\n",
              "      <td>0.51114</td>\n",
              "    </tr>\n",
              "    <tr>\n",
              "      <th>snq</th>\n",
              "      <td>0.03194</td>\n",
              "      <td>0.27536</td>\n",
              "      <td>0.23794</td>\n",
              "      <td>0.78428</td>\n",
              "      <td>0.44103</td>\n",
              "    </tr>\n",
              "  </tbody>\n",
              "</table>\n",
              "</div>\n",
              "      <button class=\"colab-df-convert\" onclick=\"convertToInteractive('df-2a5ac204-d04d-4f92-8150-501c162ed73f')\"\n",
              "              title=\"Convert this dataframe to an interactive table.\"\n",
              "              style=\"display:none;\">\n",
              "        \n",
              "  <svg xmlns=\"http://www.w3.org/2000/svg\" height=\"24px\"viewBox=\"0 0 24 24\"\n",
              "       width=\"24px\">\n",
              "    <path d=\"M0 0h24v24H0V0z\" fill=\"none\"/>\n",
              "    <path d=\"M18.56 5.44l.94 2.06.94-2.06 2.06-.94-2.06-.94-.94-2.06-.94 2.06-2.06.94zm-11 1L8.5 8.5l.94-2.06 2.06-.94-2.06-.94L8.5 2.5l-.94 2.06-2.06.94zm10 10l.94 2.06.94-2.06 2.06-.94-2.06-.94-.94-2.06-.94 2.06-2.06.94z\"/><path d=\"M17.41 7.96l-1.37-1.37c-.4-.4-.92-.59-1.43-.59-.52 0-1.04.2-1.43.59L10.3 9.45l-7.72 7.72c-.78.78-.78 2.05 0 2.83L4 21.41c.39.39.9.59 1.41.59.51 0 1.02-.2 1.41-.59l7.78-7.78 2.81-2.81c.8-.78.8-2.07 0-2.86zM5.41 20L4 18.59l7.72-7.72 1.47 1.35L5.41 20z\"/>\n",
              "  </svg>\n",
              "      </button>\n",
              "      \n",
              "  <style>\n",
              "    .colab-df-container {\n",
              "      display:flex;\n",
              "      flex-wrap:wrap;\n",
              "      gap: 12px;\n",
              "    }\n",
              "\n",
              "    .colab-df-convert {\n",
              "      background-color: #E8F0FE;\n",
              "      border: none;\n",
              "      border-radius: 50%;\n",
              "      cursor: pointer;\n",
              "      display: none;\n",
              "      fill: #1967D2;\n",
              "      height: 32px;\n",
              "      padding: 0 0 0 0;\n",
              "      width: 32px;\n",
              "    }\n",
              "\n",
              "    .colab-df-convert:hover {\n",
              "      background-color: #E2EBFA;\n",
              "      box-shadow: 0px 1px 2px rgba(60, 64, 67, 0.3), 0px 1px 3px 1px rgba(60, 64, 67, 0.15);\n",
              "      fill: #174EA6;\n",
              "    }\n",
              "\n",
              "    [theme=dark] .colab-df-convert {\n",
              "      background-color: #3B4455;\n",
              "      fill: #D2E3FC;\n",
              "    }\n",
              "\n",
              "    [theme=dark] .colab-df-convert:hover {\n",
              "      background-color: #434B5C;\n",
              "      box-shadow: 0px 1px 3px 1px rgba(0, 0, 0, 0.15);\n",
              "      filter: drop-shadow(0px 1px 2px rgba(0, 0, 0, 0.3));\n",
              "      fill: #FFFFFF;\n",
              "    }\n",
              "  </style>\n",
              "\n",
              "      <script>\n",
              "        const buttonEl =\n",
              "          document.querySelector('#df-2a5ac204-d04d-4f92-8150-501c162ed73f button.colab-df-convert');\n",
              "        buttonEl.style.display =\n",
              "          google.colab.kernel.accessAllowed ? 'block' : 'none';\n",
              "\n",
              "        async function convertToInteractive(key) {\n",
              "          const element = document.querySelector('#df-2a5ac204-d04d-4f92-8150-501c162ed73f');\n",
              "          const dataTable =\n",
              "            await google.colab.kernel.invokeFunction('convertToInteractive',\n",
              "                                                     [key], {});\n",
              "          if (!dataTable) return;\n",
              "\n",
              "          const docLinkHtml = 'Like what you see? Visit the ' +\n",
              "            '<a target=\"_blank\" href=https://colab.research.google.com/notebooks/data_table.ipynb>data table notebook</a>'\n",
              "            + ' to learn more about interactive tables.';\n",
              "          element.innerHTML = '';\n",
              "          dataTable['output_type'] = 'display_data';\n",
              "          await google.colab.output.renderOutput(dataTable, element);\n",
              "          const docLink = document.createElement('div');\n",
              "          docLink.innerHTML = docLinkHtml;\n",
              "          element.appendChild(docLink);\n",
              "        }\n",
              "      </script>\n",
              "    </div>\n",
              "  </div>\n",
              "  "
            ]
          },
          "metadata": {},
          "execution_count": 20
        }
      ]
    },
    {
      "cell_type": "code",
      "source": [
        "for metric in evaluation_metrics:\n",
        "    print(metric)\n",
        "    pprint(df[metric].sort_values(ascending=False)[:3])\n",
        "    print()"
      ],
      "metadata": {
        "id": "BoynwyTP6d5d",
        "outputId": "48747541-134e-40be-8cf6-01959abea5fe",
        "colab": {
          "base_uri": "https://localhost:8080/"
        }
      },
      "execution_count": 21,
      "outputs": [
        {
          "output_type": "stream",
          "name": "stdout",
          "text": [
            "bleu\n",
            "base_model  trained_on\n",
            "bart        snqt          0.05047\n",
            "            snq           0.03194\n",
            "            sn            0.02657\n",
            "Name: bleu, dtype: float64\n",
            "\n",
            "rougeL\n",
            "base_model  trained_on\n",
            "bart        snqt          0.31302\n",
            "            sn            0.30198\n",
            "            snq           0.27536\n",
            "Name: rougeL, dtype: float64\n",
            "\n",
            "meteor\n",
            "base_model  trained_on\n",
            "bart        snqt          0.32822\n",
            "            sn            0.23887\n",
            "            snq           0.23794\n",
            "Name: meteor, dtype: float64\n",
            "\n",
            "bertscore-f1\n",
            "base_model  trained_on\n",
            "bart        snqt          0.80321\n",
            "            snq           0.78428\n",
            "            sn            0.77182\n",
            "Name: bertscore-f1, dtype: float64\n",
            "\n",
            "use\n",
            "base_model  trained_on\n",
            "bart        snqt          0.52447\n",
            "            sn            0.51114\n",
            "            snq           0.44103\n",
            "Name: use, dtype: float64\n",
            "\n"
          ]
        }
      ]
    },
    {
      "cell_type": "code",
      "source": [
        "df = evaluation_df_2[default_hyperparameter_mask_2]\n",
        "\n",
        "snqt_set = df[df[\"trained_on\"] == \"snqt\"]\n",
        "\n",
        "reject = []\n",
        "fail_to_reject = []\n",
        "\n",
        "print(\"Reject the null hypothesis except where noted otherwise\\n\")\n",
        "\n",
        "for training_set in [\"sn\", \"snq\"]:\n",
        "    candidate_set = df[df[\"trained_on\"] == training_set]\n",
        "\n",
        "    for metric in evaluation_metrics:\n",
        "        p = st.ttest_ind(snqt_set[metric], candidate_set[metric], equal_var=False)[1]\n",
        "        if p <= 0.05:\n",
        "            reject_null = \"\"\n",
        "            reject.append((training_set, metric))\n",
        "        else:\n",
        "            reject_null = \"***FAIL TO REJECT THE NULL\"\n",
        "            fail_to_reject.append((training_set, metric))\n",
        "\n",
        "        print(\n",
        "            f\"training set: {training_set} metric: {metric} p value: {p}, {reject_null}\"\n",
        "        )\n",
        "\n",
        "print(\n",
        "    f\"\\nreject the null: {len(reject)}, fail to reject the null: {len(fail_to_reject)}\"\n",
        ")"
      ],
      "metadata": {
        "id": "Ebwf51FdTTP_",
        "outputId": "1d682c7d-7d91-4ccd-9a85-e53fc2fac750",
        "colab": {
          "base_uri": "https://localhost:8080/"
        }
      },
      "execution_count": 22,
      "outputs": [
        {
          "output_type": "stream",
          "name": "stdout",
          "text": [
            "Reject the null hypothesis except where noted otherwise\n",
            "\n",
            "training set: sn metric: bleu p value: 1.9315644233594986e-103, \n",
            "training set: sn metric: rougeL p value: 1.0107312754637353e-09, \n",
            "training set: sn metric: meteor p value: 0.0, \n",
            "training set: sn metric: bertscore-f1 p value: 0.0, \n",
            "training set: sn metric: use p value: 1.1273233419606233e-12, \n",
            "training set: snq metric: bleu p value: 6.483216490684301e-55, \n",
            "training set: snq metric: rougeL p value: 2.5317467400165336e-92, \n",
            "training set: snq metric: meteor p value: 0.0, \n",
            "training set: snq metric: bertscore-f1 p value: 5.915188375996545e-198, \n",
            "training set: snq metric: use p value: 0.0, \n",
            "\n",
            "reject the null: 10, fail to reject the null: 0\n"
          ]
        }
      ]
    },
    {
      "cell_type": "markdown",
      "source": [
        "#### BART amalgam outperforms BART snqt on every metric and in each case, the performance difference is statistically significant."
      ],
      "metadata": {
        "id": "rT89GEsOSl3p"
      }
    },
    {
      "cell_type": "code",
      "source": [
        "df_1 = df_BART[df_BART[\"trained_on\"] == \"amalgam\"]\n",
        "df_2 = evaluation_df_2[evaluation_df_2[\"trained_on\"] == \"snqt\"]\n",
        "df = pd.concat([df_1, df_2], axis=0, ignore_index=True)\n",
        "df = df.groupby([\"base_model\", \"trained_on\"]).mean()\n",
        "df"
      ],
      "metadata": {
        "id": "rXzNgG5t8Qcx",
        "outputId": "db9c1961-ef00-4cee-f844-85e21550694f",
        "colab": {
          "base_uri": "https://localhost:8080/",
          "height": 143
        }
      },
      "execution_count": 23,
      "outputs": [
        {
          "output_type": "execute_result",
          "data": {
            "text/plain": [
              "                          bleu   rougeL   meteor  bertscore-f1      use\n",
              "base_model trained_on                                                  \n",
              "bart       amalgam     0.09873  0.38872  0.38604       0.83153  0.58404\n",
              "           snqt        0.05047  0.31302  0.32822       0.80321  0.52447"
            ],
            "text/html": [
              "\n",
              "  <div id=\"df-12c7ccc5-fa56-4c98-ade0-271df2882281\">\n",
              "    <div class=\"colab-df-container\">\n",
              "      <div>\n",
              "<style scoped>\n",
              "    .dataframe tbody tr th:only-of-type {\n",
              "        vertical-align: middle;\n",
              "    }\n",
              "\n",
              "    .dataframe tbody tr th {\n",
              "        vertical-align: top;\n",
              "    }\n",
              "\n",
              "    .dataframe thead th {\n",
              "        text-align: right;\n",
              "    }\n",
              "</style>\n",
              "<table border=\"1\" class=\"dataframe\">\n",
              "  <thead>\n",
              "    <tr style=\"text-align: right;\">\n",
              "      <th></th>\n",
              "      <th></th>\n",
              "      <th>bleu</th>\n",
              "      <th>rougeL</th>\n",
              "      <th>meteor</th>\n",
              "      <th>bertscore-f1</th>\n",
              "      <th>use</th>\n",
              "    </tr>\n",
              "    <tr>\n",
              "      <th>base_model</th>\n",
              "      <th>trained_on</th>\n",
              "      <th></th>\n",
              "      <th></th>\n",
              "      <th></th>\n",
              "      <th></th>\n",
              "      <th></th>\n",
              "    </tr>\n",
              "  </thead>\n",
              "  <tbody>\n",
              "    <tr>\n",
              "      <th rowspan=\"2\" valign=\"top\">bart</th>\n",
              "      <th>amalgam</th>\n",
              "      <td>0.09873</td>\n",
              "      <td>0.38872</td>\n",
              "      <td>0.38604</td>\n",
              "      <td>0.83153</td>\n",
              "      <td>0.58404</td>\n",
              "    </tr>\n",
              "    <tr>\n",
              "      <th>snqt</th>\n",
              "      <td>0.05047</td>\n",
              "      <td>0.31302</td>\n",
              "      <td>0.32822</td>\n",
              "      <td>0.80321</td>\n",
              "      <td>0.52447</td>\n",
              "    </tr>\n",
              "  </tbody>\n",
              "</table>\n",
              "</div>\n",
              "      <button class=\"colab-df-convert\" onclick=\"convertToInteractive('df-12c7ccc5-fa56-4c98-ade0-271df2882281')\"\n",
              "              title=\"Convert this dataframe to an interactive table.\"\n",
              "              style=\"display:none;\">\n",
              "        \n",
              "  <svg xmlns=\"http://www.w3.org/2000/svg\" height=\"24px\"viewBox=\"0 0 24 24\"\n",
              "       width=\"24px\">\n",
              "    <path d=\"M0 0h24v24H0V0z\" fill=\"none\"/>\n",
              "    <path d=\"M18.56 5.44l.94 2.06.94-2.06 2.06-.94-2.06-.94-.94-2.06-.94 2.06-2.06.94zm-11 1L8.5 8.5l.94-2.06 2.06-.94-2.06-.94L8.5 2.5l-.94 2.06-2.06.94zm10 10l.94 2.06.94-2.06 2.06-.94-2.06-.94-.94-2.06-.94 2.06-2.06.94z\"/><path d=\"M17.41 7.96l-1.37-1.37c-.4-.4-.92-.59-1.43-.59-.52 0-1.04.2-1.43.59L10.3 9.45l-7.72 7.72c-.78.78-.78 2.05 0 2.83L4 21.41c.39.39.9.59 1.41.59.51 0 1.02-.2 1.41-.59l7.78-7.78 2.81-2.81c.8-.78.8-2.07 0-2.86zM5.41 20L4 18.59l7.72-7.72 1.47 1.35L5.41 20z\"/>\n",
              "  </svg>\n",
              "      </button>\n",
              "      \n",
              "  <style>\n",
              "    .colab-df-container {\n",
              "      display:flex;\n",
              "      flex-wrap:wrap;\n",
              "      gap: 12px;\n",
              "    }\n",
              "\n",
              "    .colab-df-convert {\n",
              "      background-color: #E8F0FE;\n",
              "      border: none;\n",
              "      border-radius: 50%;\n",
              "      cursor: pointer;\n",
              "      display: none;\n",
              "      fill: #1967D2;\n",
              "      height: 32px;\n",
              "      padding: 0 0 0 0;\n",
              "      width: 32px;\n",
              "    }\n",
              "\n",
              "    .colab-df-convert:hover {\n",
              "      background-color: #E2EBFA;\n",
              "      box-shadow: 0px 1px 2px rgba(60, 64, 67, 0.3), 0px 1px 3px 1px rgba(60, 64, 67, 0.15);\n",
              "      fill: #174EA6;\n",
              "    }\n",
              "\n",
              "    [theme=dark] .colab-df-convert {\n",
              "      background-color: #3B4455;\n",
              "      fill: #D2E3FC;\n",
              "    }\n",
              "\n",
              "    [theme=dark] .colab-df-convert:hover {\n",
              "      background-color: #434B5C;\n",
              "      box-shadow: 0px 1px 3px 1px rgba(0, 0, 0, 0.15);\n",
              "      filter: drop-shadow(0px 1px 2px rgba(0, 0, 0, 0.3));\n",
              "      fill: #FFFFFF;\n",
              "    }\n",
              "  </style>\n",
              "\n",
              "      <script>\n",
              "        const buttonEl =\n",
              "          document.querySelector('#df-12c7ccc5-fa56-4c98-ade0-271df2882281 button.colab-df-convert');\n",
              "        buttonEl.style.display =\n",
              "          google.colab.kernel.accessAllowed ? 'block' : 'none';\n",
              "\n",
              "        async function convertToInteractive(key) {\n",
              "          const element = document.querySelector('#df-12c7ccc5-fa56-4c98-ade0-271df2882281');\n",
              "          const dataTable =\n",
              "            await google.colab.kernel.invokeFunction('convertToInteractive',\n",
              "                                                     [key], {});\n",
              "          if (!dataTable) return;\n",
              "\n",
              "          const docLinkHtml = 'Like what you see? Visit the ' +\n",
              "            '<a target=\"_blank\" href=https://colab.research.google.com/notebooks/data_table.ipynb>data table notebook</a>'\n",
              "            + ' to learn more about interactive tables.';\n",
              "          element.innerHTML = '';\n",
              "          dataTable['output_type'] = 'display_data';\n",
              "          await google.colab.output.renderOutput(dataTable, element);\n",
              "          const docLink = document.createElement('div');\n",
              "          docLink.innerHTML = docLinkHtml;\n",
              "          element.appendChild(docLink);\n",
              "        }\n",
              "      </script>\n",
              "    </div>\n",
              "  </div>\n",
              "  "
            ]
          },
          "metadata": {},
          "execution_count": 23
        }
      ]
    },
    {
      "cell_type": "code",
      "source": [
        "reject = []\n",
        "fail_to_reject = []\n",
        "\n",
        "print(\"Reject the null hypothesis except where noted otherwise\\n\")\n",
        "\n",
        "for metric in evaluation_metrics:\n",
        "    p = st.ttest_ind(df_1[metric], df_2[metric], equal_var=False)[1]\n",
        "    if p <= 0.05:\n",
        "        reject_null = \"\"\n",
        "        reject.append((metric))\n",
        "    else:\n",
        "        reject_null = \"***FAIL TO REJECT THE NULL\"\n",
        "        fail_to_reject.append((metric))\n",
        "\n",
        "    print(f\"metric: {metric} p value: {p}, {reject_null}\")\n",
        "\n",
        "print(\n",
        "    f\"\\nreject the null: {len(reject)}, fail to reject the null:  {len(fail_to_reject)}\"\n",
        ")"
      ],
      "metadata": {
        "id": "nlStVbqp-J93",
        "outputId": "e85ecdc9-e536-4cbd-c563-dca51386e7dd",
        "colab": {
          "base_uri": "https://localhost:8080/"
        }
      },
      "execution_count": 24,
      "outputs": [
        {
          "output_type": "stream",
          "name": "stdout",
          "text": [
            "Reject the null hypothesis except where noted otherwise\n",
            "\n",
            "metric: bleu p value: 3.4519208131155056e-209, \n",
            "metric: rougeL p value: 0.0, \n",
            "metric: meteor p value: 6.18634703010534e-180, \n",
            "metric: bertscore-f1 p value: 0.0, \n",
            "metric: use p value: 7.936538470494229e-210, \n",
            "\n",
            "reject the null: 5, fail to reject the null:  0\n"
          ]
        }
      ]
    },
    {
      "cell_type": "code",
      "source": [
        "amalgam_wins = 0\n",
        "snqt_wins = 0\n",
        "df = df.reset_index()\n",
        "print(\"Amalgam wins the comparison except where noted otherwise\\n\")\n",
        "\n",
        "for metric in reject:\n",
        "    print(f\"metric: {metric}\", end=\" \")\n",
        "    amalgam = df[(df[\"trained_on\"] == \"amalgam\")][metric].values[0]\n",
        "    snqt = df[(df[\"trained_on\"] == \"snqt\")][metric].values[0]\n",
        "\n",
        "    if amalgam > snqt:\n",
        "        print(\"\")\n",
        "        amalgam_wins += 1\n",
        "    else:\n",
        "        print(\"\\t***snqt wins***\")\n",
        "        snqt_wins += 1\n",
        "\n",
        "print()\n",
        "print(f\"amalgam wins = {amalgam_wins} snqt wins = {snqt_wins}\")"
      ],
      "metadata": {
        "id": "x__4O15QAb2Q",
        "outputId": "bcd134f3-3641-4b1a-978f-b1fcef70bb9b",
        "colab": {
          "base_uri": "https://localhost:8080/"
        }
      },
      "execution_count": 25,
      "outputs": [
        {
          "output_type": "stream",
          "name": "stdout",
          "text": [
            "Amalgam wins the comparison except where noted otherwise\n",
            "\n",
            "metric: bleu \n",
            "metric: rougeL \n",
            "metric: meteor \n",
            "metric: bertscore-f1 \n",
            "metric: use \n",
            "\n",
            "amalgam wins = 5 snqt wins = 0\n"
          ]
        }
      ]
    },
    {
      "cell_type": "code",
      "source": [
        "df = pd.concat([df_1, df_2], axis=0, ignore_index=True)\n",
        "print(\"Compare BART Amalgam v BART snqt (all inferences)\")\n",
        "fig, axes = plt.subplots(2, 3, figsize=(15, 6))\n",
        "for ax, metric in zip(axes.flat, evaluation_metrics):\n",
        "    sns.histplot(x=metric, data=df, hue=\"trained_on\", ax=ax)\n",
        "list(axes.flat)[-1].remove()\n",
        "plt.tight_layout()"
      ],
      "metadata": {
        "id": "_S0lpv2erpn1",
        "outputId": "dc559158-2c74-4631-a201-b7264a68067e",
        "colab": {
          "base_uri": "https://localhost:8080/",
          "height": 454
        }
      },
      "execution_count": 26,
      "outputs": [
        {
          "output_type": "stream",
          "name": "stdout",
          "text": [
            "Compare BART Amalgam v BART snqt (all inferences)\n"
          ]
        },
        {
          "output_type": "display_data",
          "data": {
            "text/plain": [
              "<Figure size 1080x432 with 5 Axes>"
            ],
            "image/png": "[encoded data removed]"
          },
          "metadata": {}
        }
      ]
    },
    {
      "cell_type": "markdown",
      "source": [
        "### BART SQuAD compared to BART snqt\n",
        "\n",
        "Does BART snqt manage to outperform BART SQuAD even though it does not outperform BART amalgam?\n",
        "\n",
        "Not really.  BART SQuAD outperforms BART snqt across the board with the exception of meteor.\n",
        "\n",
        "All differences are statistically significant."
      ],
      "metadata": {
        "id": "6ODUNglCL1uc"
      }
    },
    {
      "cell_type": "code",
      "source": [
        "df_3 = df_BART[df_BART[\"trained_on\"] == \"squad\"]\n",
        "df = pd.concat([df_2, df_3], axis=0, ignore_index=True)\n",
        "df = (\n",
        "    df.groupby([\"base_model\", \"trained_on\"])\n",
        "    .mean()\n",
        "    .sort_values(by=\"use\", ascending=False)\n",
        ")\n",
        "df"
      ],
      "metadata": {
        "id": "4ZYKIO5QL_mx",
        "outputId": "4eedc054-e596-49c4-9dee-9a099e04d2c4",
        "colab": {
          "base_uri": "https://localhost:8080/",
          "height": 143
        }
      },
      "execution_count": 27,
      "outputs": [
        {
          "output_type": "execute_result",
          "data": {
            "text/plain": [
              "                          bleu   rougeL   meteor  bertscore-f1      use\n",
              "base_model trained_on                                                  \n",
              "bart       squad       0.06580  0.33416  0.32217       0.81202  0.52879\n",
              "           snqt        0.05047  0.31302  0.32822       0.80321  0.52447"
            ],
            "text/html": [
              "\n",
              "  <div id=\"df-d0ba8f40-4f22-4ef8-9044-119b844daa0d\">\n",
              "    <div class=\"colab-df-container\">\n",
              "      <div>\n",
              "<style scoped>\n",
              "    .dataframe tbody tr th:only-of-type {\n",
              "        vertical-align: middle;\n",
              "    }\n",
              "\n",
              "    .dataframe tbody tr th {\n",
              "        vertical-align: top;\n",
              "    }\n",
              "\n",
              "    .dataframe thead th {\n",
              "        text-align: right;\n",
              "    }\n",
              "</style>\n",
              "<table border=\"1\" class=\"dataframe\">\n",
              "  <thead>\n",
              "    <tr style=\"text-align: right;\">\n",
              "      <th></th>\n",
              "      <th></th>\n",
              "      <th>bleu</th>\n",
              "      <th>rougeL</th>\n",
              "      <th>meteor</th>\n",
              "      <th>bertscore-f1</th>\n",
              "      <th>use</th>\n",
              "    </tr>\n",
              "    <tr>\n",
              "      <th>base_model</th>\n",
              "      <th>trained_on</th>\n",
              "      <th></th>\n",
              "      <th></th>\n",
              "      <th></th>\n",
              "      <th></th>\n",
              "      <th></th>\n",
              "    </tr>\n",
              "  </thead>\n",
              "  <tbody>\n",
              "    <tr>\n",
              "      <th rowspan=\"2\" valign=\"top\">bart</th>\n",
              "      <th>squad</th>\n",
              "      <td>0.06580</td>\n",
              "      <td>0.33416</td>\n",
              "      <td>0.32217</td>\n",
              "      <td>0.81202</td>\n",
              "      <td>0.52879</td>\n",
              "    </tr>\n",
              "    <tr>\n",
              "      <th>snqt</th>\n",
              "      <td>0.05047</td>\n",
              "      <td>0.31302</td>\n",
              "      <td>0.32822</td>\n",
              "      <td>0.80321</td>\n",
              "      <td>0.52447</td>\n",
              "    </tr>\n",
              "  </tbody>\n",
              "</table>\n",
              "</div>\n",
              "      <button class=\"colab-df-convert\" onclick=\"convertToInteractive('df-d0ba8f40-4f22-4ef8-9044-119b844daa0d')\"\n",
              "              title=\"Convert this dataframe to an interactive table.\"\n",
              "              style=\"display:none;\">\n",
              "        \n",
              "  <svg xmlns=\"http://www.w3.org/2000/svg\" height=\"24px\"viewBox=\"0 0 24 24\"\n",
              "       width=\"24px\">\n",
              "    <path d=\"M0 0h24v24H0V0z\" fill=\"none\"/>\n",
              "    <path d=\"M18.56 5.44l.94 2.06.94-2.06 2.06-.94-2.06-.94-.94-2.06-.94 2.06-2.06.94zm-11 1L8.5 8.5l.94-2.06 2.06-.94-2.06-.94L8.5 2.5l-.94 2.06-2.06.94zm10 10l.94 2.06.94-2.06 2.06-.94-2.06-.94-.94-2.06-.94 2.06-2.06.94z\"/><path d=\"M17.41 7.96l-1.37-1.37c-.4-.4-.92-.59-1.43-.59-.52 0-1.04.2-1.43.59L10.3 9.45l-7.72 7.72c-.78.78-.78 2.05 0 2.83L4 21.41c.39.39.9.59 1.41.59.51 0 1.02-.2 1.41-.59l7.78-7.78 2.81-2.81c.8-.78.8-2.07 0-2.86zM5.41 20L4 18.59l7.72-7.72 1.47 1.35L5.41 20z\"/>\n",
              "  </svg>\n",
              "      </button>\n",
              "      \n",
              "  <style>\n",
              "    .colab-df-container {\n",
              "      display:flex;\n",
              "      flex-wrap:wrap;\n",
              "      gap: 12px;\n",
              "    }\n",
              "\n",
              "    .colab-df-convert {\n",
              "      background-color: #E8F0FE;\n",
              "      border: none;\n",
              "      border-radius: 50%;\n",
              "      cursor: pointer;\n",
              "      display: none;\n",
              "      fill: #1967D2;\n",
              "      height: 32px;\n",
              "      padding: 0 0 0 0;\n",
              "      width: 32px;\n",
              "    }\n",
              "\n",
              "    .colab-df-convert:hover {\n",
              "      background-color: #E2EBFA;\n",
              "      box-shadow: 0px 1px 2px rgba(60, 64, 67, 0.3), 0px 1px 3px 1px rgba(60, 64, 67, 0.15);\n",
              "      fill: #174EA6;\n",
              "    }\n",
              "\n",
              "    [theme=dark] .colab-df-convert {\n",
              "      background-color: #3B4455;\n",
              "      fill: #D2E3FC;\n",
              "    }\n",
              "\n",
              "    [theme=dark] .colab-df-convert:hover {\n",
              "      background-color: #434B5C;\n",
              "      box-shadow: 0px 1px 3px 1px rgba(0, 0, 0, 0.15);\n",
              "      filter: drop-shadow(0px 1px 2px rgba(0, 0, 0, 0.3));\n",
              "      fill: #FFFFFF;\n",
              "    }\n",
              "  </style>\n",
              "\n",
              "      <script>\n",
              "        const buttonEl =\n",
              "          document.querySelector('#df-d0ba8f40-4f22-4ef8-9044-119b844daa0d button.colab-df-convert');\n",
              "        buttonEl.style.display =\n",
              "          google.colab.kernel.accessAllowed ? 'block' : 'none';\n",
              "\n",
              "        async function convertToInteractive(key) {\n",
              "          const element = document.querySelector('#df-d0ba8f40-4f22-4ef8-9044-119b844daa0d');\n",
              "          const dataTable =\n",
              "            await google.colab.kernel.invokeFunction('convertToInteractive',\n",
              "                                                     [key], {});\n",
              "          if (!dataTable) return;\n",
              "\n",
              "          const docLinkHtml = 'Like what you see? Visit the ' +\n",
              "            '<a target=\"_blank\" href=https://colab.research.google.com/notebooks/data_table.ipynb>data table notebook</a>'\n",
              "            + ' to learn more about interactive tables.';\n",
              "          element.innerHTML = '';\n",
              "          dataTable['output_type'] = 'display_data';\n",
              "          await google.colab.output.renderOutput(dataTable, element);\n",
              "          const docLink = document.createElement('div');\n",
              "          docLink.innerHTML = docLinkHtml;\n",
              "          element.appendChild(docLink);\n",
              "        }\n",
              "      </script>\n",
              "    </div>\n",
              "  </div>\n",
              "  "
            ]
          },
          "metadata": {},
          "execution_count": 27
        }
      ]
    },
    {
      "cell_type": "code",
      "source": [
        "reject = []\n",
        "fail_to_reject = []\n",
        "\n",
        "print(\"Reject the null hypothesis except where noted otherwise\\n\")\n",
        "\n",
        "for metric in evaluation_metrics:\n",
        "    p = st.ttest_ind(df_2[metric], df_3[metric], equal_var=False)[1]\n",
        "    if p <= 0.05:\n",
        "        reject_null = \"\"\n",
        "        reject.append((metric))\n",
        "    else:\n",
        "        reject_null = \"***FAIL TO REJECT THE NULL\"\n",
        "        fail_to_reject.append((metric))\n",
        "\n",
        "    print(f\"metric: {metric} p value: {p}, {reject_null}\")\n",
        "\n",
        "print(\n",
        "    f\"\\nreject the null: {len(reject)}, fail to reject the null:  {len(fail_to_reject)}\"\n",
        ")"
      ],
      "metadata": {
        "id": "UwhRxqbTMaQj",
        "outputId": "cc1ba630-be1c-4b57-f6b4-778c6ffe085d",
        "colab": {
          "base_uri": "https://localhost:8080/"
        }
      },
      "execution_count": 28,
      "outputs": [
        {
          "output_type": "stream",
          "name": "stdout",
          "text": [
            "Reject the null hypothesis except where noted otherwise\n",
            "\n",
            "metric: bleu p value: 2.4170290874654976e-28, \n",
            "metric: rougeL p value: 4.44701360887471e-28, \n",
            "metric: meteor p value: 0.0021357258020041968, \n",
            "metric: bertscore-f1 p value: 3.580592265864487e-42, \n",
            "metric: use p value: 0.025257380415167823, \n",
            "\n",
            "reject the null: 5, fail to reject the null:  0\n"
          ]
        }
      ]
    },
    {
      "cell_type": "code",
      "source": [
        "snqt_wins = 0\n",
        "squad_wins = 0\n",
        "df = df.reset_index()\n",
        "\n",
        "for metric in reject:\n",
        "    print(f\"metric: {metric}\", end=\" \")\n",
        "    snqt = df[(df[\"trained_on\"] == \"snqt\")][metric].values[0]\n",
        "    squad = df[(df[\"trained_on\"] == \"squad\")][metric].values[0]\n",
        "\n",
        "    if squad > snqt:\n",
        "        print(\"\\tSQuAD trained wins\")\n",
        "        squad_wins += 1\n",
        "    else:\n",
        "        print(\"\\tsnqt trained wins\")\n",
        "        snqt_wins += 1\n",
        "\n",
        "print()\n",
        "print(f\"SQuAD wins = {squad_wins} snqt wins = {snqt_wins}\")"
      ],
      "metadata": {
        "id": "2zxvpf-OM7MY",
        "outputId": "14c4dfce-3851-4b54-b700-b2515d8350af",
        "colab": {
          "base_uri": "https://localhost:8080/"
        }
      },
      "execution_count": 29,
      "outputs": [
        {
          "output_type": "stream",
          "name": "stdout",
          "text": [
            "metric: bleu \tSQuAD trained wins\n",
            "metric: rougeL \tSQuAD trained wins\n",
            "metric: meteor \tsnqt trained wins\n",
            "metric: bertscore-f1 \tSQuAD trained wins\n",
            "metric: use \tSQuAD trained wins\n",
            "\n",
            "SQuAD wins = 4 snqt wins = 1\n"
          ]
        }
      ]
    },
    {
      "cell_type": "code",
      "source": [
        "df = pd.concat([df_2, df_3], axis=0, ignore_index=True)\n",
        "print(\"Compare BART snqt v BART SQuAD (all inferences)\")\n",
        "fig, axes = plt.subplots(2, 3, figsize=(15, 6))\n",
        "for ax, metric in zip(axes.flat, evaluation_metrics):\n",
        "    sns.histplot(x=metric, data=df, hue=\"trained_on\", ax=ax)\n",
        "list(axes.flat)[-1].remove()\n",
        "plt.tight_layout()"
      ],
      "metadata": {
        "id": "fyn3PW2pK3IL",
        "outputId": "64fcb792-b093-464a-8d6e-b10593fc6bd7",
        "colab": {
          "base_uri": "https://localhost:8080/",
          "height": 454
        }
      },
      "execution_count": 30,
      "outputs": [
        {
          "output_type": "stream",
          "name": "stdout",
          "text": [
            "Compare BART snqt v BART SQuAD (all inferences)\n"
          ]
        },
        {
          "output_type": "display_data",
          "data": {
            "text/plain": [
              "<Figure size 1080x432 with 5 Axes>"
            ],
            "image/png": "[encoded data removed]"
          },
          "metadata": {}
        }
      ]
    },
    {
      "cell_type": "markdown",
      "source": [
        "### Beam search and no repeat ngrams on TriviaQA\n",
        "\n"
      ],
      "metadata": {
        "id": "s6XRvkI33MMR"
      }
    },
    {
      "cell_type": "markdown",
      "source": [
        "We ran the full suite of inference tests on our BART models with beam search and the use of a no repeat ngram parameters.  The primnary motivation for this experiment was to see if we would get better performance on the TriviaQA validation set.  As shown below, our top performance on each metric we consider remains the model trained on the amalgamated dataset and running inference without beam search or the use of a no repeat ngram parameter."
      ],
      "metadata": {
        "id": "0OpRfiEjCxbj"
      }
    },
    {
      "cell_type": "code",
      "source": [
        "for metric in evaluation_metrics:\n",
        "    df = df_BART[[\"nickname\", \"trained_on\", \"tested_on\", metric]]\n",
        "    df = df[df.tested_on == \"triviaqa\"]\n",
        "    display(\n",
        "        df.groupby([\"nickname\", \"trained_on\", \"tested_on\"])\n",
        "        .mean()\n",
        "        .sort_values([metric], ascending=False)[:4]\n",
        "    )"
      ],
      "metadata": {
        "id": "8xjBrf_s3XRz"
      },
      "execution_count": null,
      "outputs": []
    },
    {
      "cell_type": "markdown",
      "source": [
        "### Kendall's Tau"
      ],
      "metadata": {
        "id": "7vP_qHhY09ZX"
      }
    },
    {
      "cell_type": "code",
      "source": [
        "df = evaluation_df[default_hyperparameter_mask]\n",
        "baseline = (\n",
        "    df[\n",
        "        (df[\"base_model\"] == \"T5\")\n",
        "        & (df[\"trained_on\"] == \"squad\")\n",
        "        & (df[\"tested_on\"] == \"squad\")\n",
        "    ]\n",
        "    .groupby([\"base_model\", \"trained_on\", \"tested_on\"])\n",
        "    .mean()\n",
        ")\n",
        "baseline"
      ],
      "metadata": {
        "id": "2p-1A4cjbCQg"
      },
      "execution_count": null,
      "outputs": []
    },
    {
      "cell_type": "code",
      "source": [
        "nq_df = (\n",
        "    df[df[\"tested_on\"] == \"nq\"]\n",
        "    .groupby([\"base_model\", \"trained_on\", \"tested_on\"])\n",
        "    .mean()\n",
        "    .sort_values(by=[\"bertscore-f1\"], ascending=False)\n",
        ")\n",
        "\n",
        "nq_df"
      ],
      "metadata": {
        "id": "qiyNCJITTt7i"
      },
      "execution_count": null,
      "outputs": []
    },
    {
      "cell_type": "code",
      "source": [
        "quac_df = (\n",
        "    df[df[\"tested_on\"] == \"quac\"]\n",
        "    .groupby([\"base_model\", \"trained_on\", \"tested_on\"])\n",
        "    .mean()\n",
        "    .sort_values(by=[\"bertscore-f1\"], ascending=False)\n",
        ")\n",
        "\n",
        "quac_df"
      ],
      "metadata": {
        "id": "oFfILqTjV4FD"
      },
      "execution_count": null,
      "outputs": []
    },
    {
      "cell_type": "code",
      "source": [
        "squad_df = (\n",
        "    df[df[\"tested_on\"] == \"squad\"]\n",
        "    .groupby([\"base_model\", \"trained_on\", \"tested_on\"])\n",
        "    .mean()\n",
        "    .sort_values(by=[\"bertscore-f1\"], ascending=False)\n",
        ")\n",
        "\n",
        "squad_df"
      ],
      "metadata": {
        "id": "pJW3oDRMYjR-"
      },
      "execution_count": null,
      "outputs": []
    },
    {
      "cell_type": "code",
      "source": [
        "triviaqa_df = (\n",
        "    df[df[\"tested_on\"] == \"triviaqa\"]\n",
        "    .groupby([\"base_model\", \"trained_on\", \"tested_on\"])\n",
        "    .mean()\n",
        "    .sort_values(by=[\"bertscore-f1\"], ascending=False)\n",
        ")\n",
        "\n",
        "triviaqa_df"
      ],
      "metadata": {
        "id": "UVFuDKwXYtSt"
      },
      "execution_count": null,
      "outputs": []
    },
    {
      "cell_type": "code",
      "source": [
        "metrics = list(squad_df.columns)\n",
        "datasets = df[\"tested_on\"].unique()\n",
        "print(f\"metrics = {metrics} \\ndatasets = {datasets}\")"
      ],
      "metadata": {
        "id": "RGLspwsRp4fG"
      },
      "execution_count": null,
      "outputs": []
    },
    {
      "cell_type": "code",
      "source": [
        "# We gather the predictions for a validation dataset\n",
        "# Sort the rows from best to worst scores on one metric\n",
        "# Then we build ranking vectors for all metrics\n",
        "\n",
        "rankings = {}\n",
        "\n",
        "for dataset in datasets:\n",
        "    slice_df = (\n",
        "        df[df[\"tested_on\"] == dataset]\n",
        "        .groupby([\"base_model\", \"trained_on\", \"tested_on\"])\n",
        "        .mean()\n",
        "        .sort_values(by=[\"bleu\"], ascending=False)\n",
        "    )\n",
        "    for metric in metrics:\n",
        "        vector = [\n",
        "            sorted(slice_df[metric], reverse=True).index(x) + 1\n",
        "            for x in slice_df[metric]\n",
        "        ]\n",
        "        rankings[(dataset, metric)] = vector"
      ],
      "metadata": {
        "id": "1TjrEIVjtpfv"
      },
      "execution_count": null,
      "outputs": []
    },
    {
      "cell_type": "code",
      "source": [
        "rankings"
      ],
      "metadata": {
        "id": "vEcTzJhx0d99"
      },
      "execution_count": null,
      "outputs": []
    },
    {
      "cell_type": "code",
      "source": [
        "vectors = {}\n",
        "for dataset in datasets:\n",
        "    vectors[dataset] = {metric: rankings[(dataset, metric)] for metric in metrics}\n",
        "vectors"
      ],
      "metadata": {
        "id": "8V6xewDMnyWr"
      },
      "execution_count": null,
      "outputs": []
    },
    {
      "cell_type": "code",
      "source": [
        "ranking_df = {dataset: pd.DataFrame(vectors[dataset]) for dataset in datasets}\n",
        "for k, v in ranking_df.items():\n",
        "    print(k)\n",
        "    print(v)"
      ],
      "metadata": {
        "id": "2-UZdX3NopCx"
      },
      "execution_count": null,
      "outputs": []
    },
    {
      "cell_type": "code",
      "source": [
        "kendall_df = {\n",
        "    dataset: ranking_df[dataset].corr(method=\"kendall\") for dataset in datasets\n",
        "}\n",
        "for k, v in kendall_df.items():\n",
        "    print(k)\n",
        "    print(v)"
      ],
      "metadata": {
        "id": "YcC7EKjSqP-T"
      },
      "execution_count": null,
      "outputs": []
    },
    {
      "cell_type": "code",
      "source": [
        "# It does not matter which set we use to build the mask\n",
        "mask = np.triu(np.ones_like(kendall_df[\"squad\"].corr(), dtype=bool))\n",
        "mask"
      ],
      "metadata": {
        "id": "VE_IAmOXrmrJ"
      },
      "execution_count": null,
      "outputs": []
    },
    {
      "cell_type": "code",
      "source": [
        "fig, axes = plt.subplots(2, 2, figsize=(9, 9))\n",
        "\n",
        "for ax, dataset in zip(axes.flat, datasets):\n",
        "    sns.heatmap(kendall_df[dataset], mask=mask, cmap=\"Blues\", ax=ax).set(title=dataset)\n",
        "\n",
        "fig.tight_layout()\n",
        "\n",
        "plt.show()"
      ],
      "metadata": {
        "id": "DdNh6cCKrx3Q"
      },
      "execution_count": null,
      "outputs": []
    },
    {
      "cell_type": "markdown",
      "source": [
        "### Cosine Similarity"
      ],
      "metadata": {
        "id": "1OfGhg_snQN5"
      }
    },
    {
      "cell_type": "code",
      "source": [
        "vectors = {}\n",
        "for dataset in datasets:\n",
        "    vectors[dataset] = [rankings[(dataset, metric)] for metric in metrics]"
      ],
      "metadata": {
        "id": "z7S8uYCw1Ge8"
      },
      "execution_count": null,
      "outputs": []
    },
    {
      "cell_type": "code",
      "source": [
        "similarity = {}\n",
        "for dataset in datasets:\n",
        "    similarity[dataset] = pd.DataFrame(\n",
        "        cosine_similarity(vectors[dataset]), columns=metrics, index=metrics\n",
        "    )"
      ],
      "metadata": {
        "id": "RnYRs0YZ6A3o"
      },
      "execution_count": null,
      "outputs": []
    },
    {
      "cell_type": "code",
      "source": [
        "similarity[\"nq\"]"
      ],
      "metadata": {
        "id": "Os99T1Fx7eO_"
      },
      "execution_count": null,
      "outputs": []
    },
    {
      "cell_type": "code",
      "source": [
        "similarity[\"quac\"]"
      ],
      "metadata": {
        "id": "wrzCS3d07elD"
      },
      "execution_count": null,
      "outputs": []
    },
    {
      "cell_type": "code",
      "source": [
        "similarity[\"squad\"]"
      ],
      "metadata": {
        "id": "s72iKPpT7ens"
      },
      "execution_count": null,
      "outputs": []
    },
    {
      "cell_type": "code",
      "source": [
        "similarity[\"triviaqa\"]"
      ],
      "metadata": {
        "id": "bAuPlrz37eqf"
      },
      "execution_count": null,
      "outputs": []
    },
    {
      "cell_type": "code",
      "source": [
        "# It does not matter which set we use to build the mask\n",
        "mask = np.triu(np.ones_like(similarity[\"squad\"].corr(), dtype=bool))"
      ],
      "metadata": {
        "id": "VeKOKB197GZn"
      },
      "execution_count": null,
      "outputs": []
    },
    {
      "cell_type": "code",
      "source": [
        "fig, axes = plt.subplots(2, 2, figsize=(9, 9))\n",
        "\n",
        "for ax, dataset in zip(axes.flat, datasets):\n",
        "    sns.heatmap(similarity[dataset], mask=mask, cmap=\"coolwarm\", ax=ax).set(\n",
        "        title=dataset\n",
        "    )\n",
        "\n",
        "fig.tight_layout()\n",
        "\n",
        "plt.show()"
      ],
      "metadata": {
        "id": "fdAj_1Au1Gp7"
      },
      "execution_count": null,
      "outputs": []
    },
    {
      "cell_type": "markdown",
      "source": [
        "### Black"
      ],
      "metadata": {
        "id": "Mcd_R5JUGCxV"
      }
    },
    {
      "cell_type": "code",
      "source": [
        "!pip install black[jupyter]"
      ],
      "metadata": {
        "id": "N9mKRIlQnygg"
      },
      "execution_count": null,
      "outputs": []
    },
    {
      "cell_type": "code",
      "source": [
        "!black \"/content/drive/MyDrive/Colab Notebooks/rr_evaluation_sandbox.ipynb\""
      ],
      "metadata": {
        "id": "dOT0YkhFokyI"
      },
      "execution_count": null,
      "outputs": []
    }
  ]
}