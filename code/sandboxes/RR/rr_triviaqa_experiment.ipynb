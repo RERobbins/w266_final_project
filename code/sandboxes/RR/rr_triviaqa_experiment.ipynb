{
  "nbformat": 4,
  "nbformat_minor": 0,
  "metadata": {
    "colab": {
      "provenance": [],
      "collapsed_sections": [
        "1szttaXlupSn"
      ],
      "include_colab_link": true
    },
    "kernelspec": {
      "name": "python3",
      "display_name": "Python 3"
    },
    "language_info": {
      "name": "python"
    }
  },
  "cells": [
    {
      "cell_type": "markdown",
      "metadata": {
        "id": "view-in-github",
        "colab_type": "text"
      },
      "source": [
        "<a href=\"https://colab.research.google.com/github/jeanlucjackson/w266_final_project/blob/main/code/sandboxes/RR/rr_triviaqa_experiment.ipynb\" target=\"_parent\"><img src=\"https://colab.research.google.com/assets/colab-badge.svg\" alt=\"Open In Colab\"/></a>"
      ]
    },
    {
      "cell_type": "markdown",
      "source": [
        "### Setup"
      ],
      "metadata": {
        "id": "1szttaXlupSn"
      }
    },
    {
      "cell_type": "code",
      "execution_count": 1,
      "metadata": {
        "colab": {
          "base_uri": "https://localhost:8080/"
        },
        "id": "h2g69HkZJSvo",
        "outputId": "60faee34-1dd6-4656-910c-aef1e0f5bac3"
      },
      "outputs": [
        {
          "output_type": "stream",
          "name": "stdout",
          "text": [
            "Drive already mounted at /content/drive; to attempt to forcibly remount, call drive.mount(\"/content/drive\", force_remount=True).\n"
          ]
        }
      ],
      "source": [
        "from google.colab import drive\n",
        "\n",
        "drive.mount(\"/content/drive\")"
      ]
    },
    {
      "cell_type": "code",
      "source": [
        "import pandas as pd\n",
        "import numpy as np\n",
        "from sklearn.metrics.pairwise import cosine_similarity\n",
        "\n",
        "import seaborn as sns\n",
        "from matplotlib import pyplot as plt\n",
        "\n",
        "import scipy.stats as st\n",
        "\n",
        "from pprint import pprint\n",
        "\n",
        "pd.set_option(\"precision\", 5)\n",
        "sns.set_theme()"
      ],
      "metadata": {
        "id": "Os8PNswbKW-w"
      },
      "execution_count": 2,
      "outputs": []
    },
    {
      "cell_type": "code",
      "source": [
        "evaluation_root = \"/content/drive/MyDrive/w266 NLP Final Project/Evaluation/\"\n",
        "filename = evaluation_root + \"evaluation_database.json\""
      ],
      "metadata": {
        "id": "g9knLivdJXSg"
      },
      "execution_count": 3,
      "outputs": []
    },
    {
      "cell_type": "code",
      "source": [
        "evaluation_exclusions = [\n",
        "    \"bleu\",\n",
        "    \"rouge1\",\n",
        "    \"rouge2\",\n",
        "    \"rougeL\",\n",
        "    \"rougeLsum\",\n",
        "    \"bertscore-precision\",\n",
        "    \"bertscore-recall\",\n",
        "]"
      ],
      "metadata": {
        "id": "N6T0fJ2Xzuhd"
      },
      "execution_count": 4,
      "outputs": []
    },
    {
      "cell_type": "markdown",
      "source": [
        "### TriviaQA Sliced"
      ],
      "metadata": {
        "id": "KLb6IAcPTiJ9"
      }
    },
    {
      "cell_type": "code",
      "source": [
        "filename_1 = evaluation_root + \"evaluation_database.json\"\n",
        "filename_2 = evaluation_root + \"evaluation_database_triviaqa_sliced.json\"\n",
        "\n",
        "df_1_source = pd.read_json(filename_1)\n",
        "df_2_source = pd.read_json(filename_2)"
      ],
      "metadata": {
        "id": "XiuWMQpNTmh9"
      },
      "execution_count": 5,
      "outputs": []
    },
    {
      "cell_type": "code",
      "source": [
        "\n",
        "df_1 = df_1_source.drop(columns=evaluation_exclusions)\n",
        "df_1 = df_1[df_1['tested_on'] ==\"triviaqa\"]\n",
        "df_2 = df_2_source.drop(columns=evaluation_exclusions)\n",
        "df = pd.concat([df_1, df_2])\n",
        "df = df[(df['base_model'] == 'bart') &\n",
        "        (df['trained_on'].isin(['amalgam', 'triviaqa']))\n",
        "        ]"
      ],
      "metadata": {
        "id": "F3gPwFDqtPNf"
      },
      "execution_count": 6,
      "outputs": []
    },
    {
      "cell_type": "code",
      "source": [
        "focus='meteor'\n",
        "drop=['bertscore-f1', 'use']\n",
        "\n",
        "df.groupby(['tested_on', 'base_model', 'trained_on']).mean().sort_values(by=[focus], ascending=False).multiply(100).reset_index().drop(columns=drop)"
      ],
      "metadata": {
        "id": "KsTHChmvVj_8",
        "outputId": "e0f97c9b-068b-4b66-ef3d-3db4e686c2f1",
        "colab": {
          "base_uri": "https://localhost:8080/",
          "height": 300
        }
      },
      "execution_count": 7,
      "outputs": [
        {
          "output_type": "execute_result",
          "data": {
            "text/plain": [
              "     tested_on base_model trained_on    meteor\n",
              "0  triviaqa_v1       bart   triviaqa  38.50562\n",
              "1  triviaqa_v2       bart    amalgam  38.43945\n",
              "2  triviaqa_d1       bart    amalgam  38.39928\n",
              "3  triviaqa_v1       bart    amalgam  38.35918\n",
              "4  triviaqa_d1       bart   triviaqa  38.20300\n",
              "5  triviaqa_v2       bart   triviaqa  37.89976\n",
              "6     triviaqa       bart    amalgam  35.45594\n",
              "7     triviaqa       bart   triviaqa  35.09811"
            ],
            "text/html": [
              "\n",
              "  <div id=\"df-6254f5b3-462f-4653-b667-962c1815c493\">\n",
              "    <div class=\"colab-df-container\">\n",
              "      <div>\n",
              "<style scoped>\n",
              "    .dataframe tbody tr th:only-of-type {\n",
              "        vertical-align: middle;\n",
              "    }\n",
              "\n",
              "    .dataframe tbody tr th {\n",
              "        vertical-align: top;\n",
              "    }\n",
              "\n",
              "    .dataframe thead th {\n",
              "        text-align: right;\n",
              "    }\n",
              "</style>\n",
              "<table border=\"1\" class=\"dataframe\">\n",
              "  <thead>\n",
              "    <tr style=\"text-align: right;\">\n",
              "      <th></th>\n",
              "      <th>tested_on</th>\n",
              "      <th>base_model</th>\n",
              "      <th>trained_on</th>\n",
              "      <th>meteor</th>\n",
              "    </tr>\n",
              "  </thead>\n",
              "  <tbody>\n",
              "    <tr>\n",
              "      <th>0</th>\n",
              "      <td>triviaqa_v1</td>\n",
              "      <td>bart</td>\n",
              "      <td>triviaqa</td>\n",
              "      <td>38.50562</td>\n",
              "    </tr>\n",
              "    <tr>\n",
              "      <th>1</th>\n",
              "      <td>triviaqa_v2</td>\n",
              "      <td>bart</td>\n",
              "      <td>amalgam</td>\n",
              "      <td>38.43945</td>\n",
              "    </tr>\n",
              "    <tr>\n",
              "      <th>2</th>\n",
              "      <td>triviaqa_d1</td>\n",
              "      <td>bart</td>\n",
              "      <td>amalgam</td>\n",
              "      <td>38.39928</td>\n",
              "    </tr>\n",
              "    <tr>\n",
              "      <th>3</th>\n",
              "      <td>triviaqa_v1</td>\n",
              "      <td>bart</td>\n",
              "      <td>amalgam</td>\n",
              "      <td>38.35918</td>\n",
              "    </tr>\n",
              "    <tr>\n",
              "      <th>4</th>\n",
              "      <td>triviaqa_d1</td>\n",
              "      <td>bart</td>\n",
              "      <td>triviaqa</td>\n",
              "      <td>38.20300</td>\n",
              "    </tr>\n",
              "    <tr>\n",
              "      <th>5</th>\n",
              "      <td>triviaqa_v2</td>\n",
              "      <td>bart</td>\n",
              "      <td>triviaqa</td>\n",
              "      <td>37.89976</td>\n",
              "    </tr>\n",
              "    <tr>\n",
              "      <th>6</th>\n",
              "      <td>triviaqa</td>\n",
              "      <td>bart</td>\n",
              "      <td>amalgam</td>\n",
              "      <td>35.45594</td>\n",
              "    </tr>\n",
              "    <tr>\n",
              "      <th>7</th>\n",
              "      <td>triviaqa</td>\n",
              "      <td>bart</td>\n",
              "      <td>triviaqa</td>\n",
              "      <td>35.09811</td>\n",
              "    </tr>\n",
              "  </tbody>\n",
              "</table>\n",
              "</div>\n",
              "      <button class=\"colab-df-convert\" onclick=\"convertToInteractive('df-6254f5b3-462f-4653-b667-962c1815c493')\"\n",
              "              title=\"Convert this dataframe to an interactive table.\"\n",
              "              style=\"display:none;\">\n",
              "        \n",
              "  <svg xmlns=\"http://www.w3.org/2000/svg\" height=\"24px\"viewBox=\"0 0 24 24\"\n",
              "       width=\"24px\">\n",
              "    <path d=\"M0 0h24v24H0V0z\" fill=\"none\"/>\n",
              "    <path d=\"M18.56 5.44l.94 2.06.94-2.06 2.06-.94-2.06-.94-.94-2.06-.94 2.06-2.06.94zm-11 1L8.5 8.5l.94-2.06 2.06-.94-2.06-.94L8.5 2.5l-.94 2.06-2.06.94zm10 10l.94 2.06.94-2.06 2.06-.94-2.06-.94-.94-2.06-.94 2.06-2.06.94z\"/><path d=\"M17.41 7.96l-1.37-1.37c-.4-.4-.92-.59-1.43-.59-.52 0-1.04.2-1.43.59L10.3 9.45l-7.72 7.72c-.78.78-.78 2.05 0 2.83L4 21.41c.39.39.9.59 1.41.59.51 0 1.02-.2 1.41-.59l7.78-7.78 2.81-2.81c.8-.78.8-2.07 0-2.86zM5.41 20L4 18.59l7.72-7.72 1.47 1.35L5.41 20z\"/>\n",
              "  </svg>\n",
              "      </button>\n",
              "      \n",
              "  <style>\n",
              "    .colab-df-container {\n",
              "      display:flex;\n",
              "      flex-wrap:wrap;\n",
              "      gap: 12px;\n",
              "    }\n",
              "\n",
              "    .colab-df-convert {\n",
              "      background-color: #E8F0FE;\n",
              "      border: none;\n",
              "      border-radius: 50%;\n",
              "      cursor: pointer;\n",
              "      display: none;\n",
              "      fill: #1967D2;\n",
              "      height: 32px;\n",
              "      padding: 0 0 0 0;\n",
              "      width: 32px;\n",
              "    }\n",
              "\n",
              "    .colab-df-convert:hover {\n",
              "      background-color: #E2EBFA;\n",
              "      box-shadow: 0px 1px 2px rgba(60, 64, 67, 0.3), 0px 1px 3px 1px rgba(60, 64, 67, 0.15);\n",
              "      fill: #174EA6;\n",
              "    }\n",
              "\n",
              "    [theme=dark] .colab-df-convert {\n",
              "      background-color: #3B4455;\n",
              "      fill: #D2E3FC;\n",
              "    }\n",
              "\n",
              "    [theme=dark] .colab-df-convert:hover {\n",
              "      background-color: #434B5C;\n",
              "      box-shadow: 0px 1px 3px 1px rgba(0, 0, 0, 0.15);\n",
              "      filter: drop-shadow(0px 1px 2px rgba(0, 0, 0, 0.3));\n",
              "      fill: #FFFFFF;\n",
              "    }\n",
              "  </style>\n",
              "\n",
              "      <script>\n",
              "        const buttonEl =\n",
              "          document.querySelector('#df-6254f5b3-462f-4653-b667-962c1815c493 button.colab-df-convert');\n",
              "        buttonEl.style.display =\n",
              "          google.colab.kernel.accessAllowed ? 'block' : 'none';\n",
              "\n",
              "        async function convertToInteractive(key) {\n",
              "          const element = document.querySelector('#df-6254f5b3-462f-4653-b667-962c1815c493');\n",
              "          const dataTable =\n",
              "            await google.colab.kernel.invokeFunction('convertToInteractive',\n",
              "                                                     [key], {});\n",
              "          if (!dataTable) return;\n",
              "\n",
              "          const docLinkHtml = 'Like what you see? Visit the ' +\n",
              "            '<a target=\"_blank\" href=https://colab.research.google.com/notebooks/data_table.ipynb>data table notebook</a>'\n",
              "            + ' to learn more about interactive tables.';\n",
              "          element.innerHTML = '';\n",
              "          dataTable['output_type'] = 'display_data';\n",
              "          await google.colab.output.renderOutput(dataTable, element);\n",
              "          const docLink = document.createElement('div');\n",
              "          docLink.innerHTML = docLinkHtml;\n",
              "          element.appendChild(docLink);\n",
              "        }\n",
              "      </script>\n",
              "    </div>\n",
              "  </div>\n",
              "  "
            ]
          },
          "metadata": {},
          "execution_count": 7
        }
      ]
    },
    {
      "cell_type": "code",
      "source": [
        "### All of the shorter sets are better than the full set.\n",
        "### The distinction between any of the first six and either of the last two is significant.\n",
        "### There are no statistically significant differences among the first six.\n",
        "\n",
        "x_val = ['triviaqa_v1', 'triviaqa']\n",
        "y_val = ['triviaqa', 'amalgam']\n",
        "\n",
        "x = df[(df['tested_on'] == x_val[0]) & (df['trained_on'] == x_val[1])]\n",
        "y = df[(df['tested_on'] == y_val[0]) & (df['trained_on'] == y_val[1])]\n",
        "\n",
        "st.ttest_ind(x[focus], y[focus], equal_var=False)[1]"
      ],
      "metadata": {
        "id": "GGG1jvMwyo0j",
        "outputId": "a56708d8-84c4-4b60-bff0-79d9b2214e82",
        "colab": {
          "base_uri": "https://localhost:8080/"
        }
      },
      "execution_count": 8,
      "outputs": [
        {
          "output_type": "execute_result",
          "data": {
            "text/plain": [
              "0.004879176609981347"
            ]
          },
          "metadata": {},
          "execution_count": 8
        }
      ]
    },
    {
      "cell_type": "code",
      "source": [
        "focus='bertscore-f1'\n",
        "drop=['meteor', 'use']\n",
        "\n",
        "df.groupby(['tested_on', 'base_model', 'trained_on']).mean().sort_values(by=[focus], ascending=False).multiply(100).reset_index().drop(columns=drop)"
      ],
      "metadata": {
        "id": "8Hcg9zVzkkQY",
        "outputId": "ae36b54d-20c5-4483-c918-aa4c6ea1af0f",
        "colab": {
          "base_uri": "https://localhost:8080/",
          "height": 300
        }
      },
      "execution_count": 9,
      "outputs": [
        {
          "output_type": "execute_result",
          "data": {
            "text/plain": [
              "     tested_on base_model trained_on  bertscore-f1\n",
              "0  triviaqa_v1       bart   triviaqa      84.01969\n",
              "1  triviaqa_v1       bart    amalgam      83.94157\n",
              "2  triviaqa_d1       bart    amalgam      83.89692\n",
              "3  triviaqa_d1       bart   triviaqa      83.88058\n",
              "4  triviaqa_v2       bart    amalgam      83.85218\n",
              "5  triviaqa_v2       bart   triviaqa      83.74118\n",
              "6     triviaqa       bart    amalgam      82.64203\n",
              "7     triviaqa       bart   triviaqa      82.59038"
            ],
            "text/html": [
              "\n",
              "  <div id=\"df-89b0714a-47a4-447d-8fda-38d7b62cff83\">\n",
              "    <div class=\"colab-df-container\">\n",
              "      <div>\n",
              "<style scoped>\n",
              "    .dataframe tbody tr th:only-of-type {\n",
              "        vertical-align: middle;\n",
              "    }\n",
              "\n",
              "    .dataframe tbody tr th {\n",
              "        vertical-align: top;\n",
              "    }\n",
              "\n",
              "    .dataframe thead th {\n",
              "        text-align: right;\n",
              "    }\n",
              "</style>\n",
              "<table border=\"1\" class=\"dataframe\">\n",
              "  <thead>\n",
              "    <tr style=\"text-align: right;\">\n",
              "      <th></th>\n",
              "      <th>tested_on</th>\n",
              "      <th>base_model</th>\n",
              "      <th>trained_on</th>\n",
              "      <th>bertscore-f1</th>\n",
              "    </tr>\n",
              "  </thead>\n",
              "  <tbody>\n",
              "    <tr>\n",
              "      <th>0</th>\n",
              "      <td>triviaqa_v1</td>\n",
              "      <td>bart</td>\n",
              "      <td>triviaqa</td>\n",
              "      <td>84.01969</td>\n",
              "    </tr>\n",
              "    <tr>\n",
              "      <th>1</th>\n",
              "      <td>triviaqa_v1</td>\n",
              "      <td>bart</td>\n",
              "      <td>amalgam</td>\n",
              "      <td>83.94157</td>\n",
              "    </tr>\n",
              "    <tr>\n",
              "      <th>2</th>\n",
              "      <td>triviaqa_d1</td>\n",
              "      <td>bart</td>\n",
              "      <td>amalgam</td>\n",
              "      <td>83.89692</td>\n",
              "    </tr>\n",
              "    <tr>\n",
              "      <th>3</th>\n",
              "      <td>triviaqa_d1</td>\n",
              "      <td>bart</td>\n",
              "      <td>triviaqa</td>\n",
              "      <td>83.88058</td>\n",
              "    </tr>\n",
              "    <tr>\n",
              "      <th>4</th>\n",
              "      <td>triviaqa_v2</td>\n",
              "      <td>bart</td>\n",
              "      <td>amalgam</td>\n",
              "      <td>83.85218</td>\n",
              "    </tr>\n",
              "    <tr>\n",
              "      <th>5</th>\n",
              "      <td>triviaqa_v2</td>\n",
              "      <td>bart</td>\n",
              "      <td>triviaqa</td>\n",
              "      <td>83.74118</td>\n",
              "    </tr>\n",
              "    <tr>\n",
              "      <th>6</th>\n",
              "      <td>triviaqa</td>\n",
              "      <td>bart</td>\n",
              "      <td>amalgam</td>\n",
              "      <td>82.64203</td>\n",
              "    </tr>\n",
              "    <tr>\n",
              "      <th>7</th>\n",
              "      <td>triviaqa</td>\n",
              "      <td>bart</td>\n",
              "      <td>triviaqa</td>\n",
              "      <td>82.59038</td>\n",
              "    </tr>\n",
              "  </tbody>\n",
              "</table>\n",
              "</div>\n",
              "      <button class=\"colab-df-convert\" onclick=\"convertToInteractive('df-89b0714a-47a4-447d-8fda-38d7b62cff83')\"\n",
              "              title=\"Convert this dataframe to an interactive table.\"\n",
              "              style=\"display:none;\">\n",
              "        \n",
              "  <svg xmlns=\"http://www.w3.org/2000/svg\" height=\"24px\"viewBox=\"0 0 24 24\"\n",
              "       width=\"24px\">\n",
              "    <path d=\"M0 0h24v24H0V0z\" fill=\"none\"/>\n",
              "    <path d=\"M18.56 5.44l.94 2.06.94-2.06 2.06-.94-2.06-.94-.94-2.06-.94 2.06-2.06.94zm-11 1L8.5 8.5l.94-2.06 2.06-.94-2.06-.94L8.5 2.5l-.94 2.06-2.06.94zm10 10l.94 2.06.94-2.06 2.06-.94-2.06-.94-.94-2.06-.94 2.06-2.06.94z\"/><path d=\"M17.41 7.96l-1.37-1.37c-.4-.4-.92-.59-1.43-.59-.52 0-1.04.2-1.43.59L10.3 9.45l-7.72 7.72c-.78.78-.78 2.05 0 2.83L4 21.41c.39.39.9.59 1.41.59.51 0 1.02-.2 1.41-.59l7.78-7.78 2.81-2.81c.8-.78.8-2.07 0-2.86zM5.41 20L4 18.59l7.72-7.72 1.47 1.35L5.41 20z\"/>\n",
              "  </svg>\n",
              "      </button>\n",
              "      \n",
              "  <style>\n",
              "    .colab-df-container {\n",
              "      display:flex;\n",
              "      flex-wrap:wrap;\n",
              "      gap: 12px;\n",
              "    }\n",
              "\n",
              "    .colab-df-convert {\n",
              "      background-color: #E8F0FE;\n",
              "      border: none;\n",
              "      border-radius: 50%;\n",
              "      cursor: pointer;\n",
              "      display: none;\n",
              "      fill: #1967D2;\n",
              "      height: 32px;\n",
              "      padding: 0 0 0 0;\n",
              "      width: 32px;\n",
              "    }\n",
              "\n",
              "    .colab-df-convert:hover {\n",
              "      background-color: #E2EBFA;\n",
              "      box-shadow: 0px 1px 2px rgba(60, 64, 67, 0.3), 0px 1px 3px 1px rgba(60, 64, 67, 0.15);\n",
              "      fill: #174EA6;\n",
              "    }\n",
              "\n",
              "    [theme=dark] .colab-df-convert {\n",
              "      background-color: #3B4455;\n",
              "      fill: #D2E3FC;\n",
              "    }\n",
              "\n",
              "    [theme=dark] .colab-df-convert:hover {\n",
              "      background-color: #434B5C;\n",
              "      box-shadow: 0px 1px 3px 1px rgba(0, 0, 0, 0.15);\n",
              "      filter: drop-shadow(0px 1px 2px rgba(0, 0, 0, 0.3));\n",
              "      fill: #FFFFFF;\n",
              "    }\n",
              "  </style>\n",
              "\n",
              "      <script>\n",
              "        const buttonEl =\n",
              "          document.querySelector('#df-89b0714a-47a4-447d-8fda-38d7b62cff83 button.colab-df-convert');\n",
              "        buttonEl.style.display =\n",
              "          google.colab.kernel.accessAllowed ? 'block' : 'none';\n",
              "\n",
              "        async function convertToInteractive(key) {\n",
              "          const element = document.querySelector('#df-89b0714a-47a4-447d-8fda-38d7b62cff83');\n",
              "          const dataTable =\n",
              "            await google.colab.kernel.invokeFunction('convertToInteractive',\n",
              "                                                     [key], {});\n",
              "          if (!dataTable) return;\n",
              "\n",
              "          const docLinkHtml = 'Like what you see? Visit the ' +\n",
              "            '<a target=\"_blank\" href=https://colab.research.google.com/notebooks/data_table.ipynb>data table notebook</a>'\n",
              "            + ' to learn more about interactive tables.';\n",
              "          element.innerHTML = '';\n",
              "          dataTable['output_type'] = 'display_data';\n",
              "          await google.colab.output.renderOutput(dataTable, element);\n",
              "          const docLink = document.createElement('div');\n",
              "          docLink.innerHTML = docLinkHtml;\n",
              "          element.appendChild(docLink);\n",
              "        }\n",
              "      </script>\n",
              "    </div>\n",
              "  </div>\n",
              "  "
            ]
          },
          "metadata": {},
          "execution_count": 9
        }
      ]
    },
    {
      "cell_type": "code",
      "source": [
        "### All of the shorter sets are better than the full set.\n",
        "### The distinction between any of the first six and either of the last two is significant.\n",
        "### There are no statistically significant differences among the first six.\n",
        "\n",
        "x_val = ['triviaqa_v1', 'triviaqa']\n",
        "y_val = ['triviaqa', 'amalgam']\n",
        "\n",
        "x = df[(df['tested_on'] == x_val[0]) & (df['trained_on'] == x_val[1])]\n",
        "y = df[(df['tested_on'] == y_val[0]) & (df['trained_on'] == y_val[1])]\n",
        "\n",
        "st.ttest_ind(x[focus], y[focus], equal_var=False)[1]"
      ],
      "metadata": {
        "id": "pyyNZrXj3c7Z",
        "outputId": "ec71bb07-e6ce-46bc-f540-5e17c11d95f8",
        "colab": {
          "base_uri": "https://localhost:8080/"
        }
      },
      "execution_count": 10,
      "outputs": [
        {
          "output_type": "execute_result",
          "data": {
            "text/plain": [
              "8.204646752547784e-06"
            ]
          },
          "metadata": {},
          "execution_count": 10
        }
      ]
    },
    {
      "cell_type": "code",
      "source": [
        "focus='use'\n",
        "drop=['bertscore-f1', 'meteor']\n",
        "\n",
        "df.groupby(['tested_on', 'base_model', 'trained_on']).mean().sort_values(by=[focus], ascending=False).multiply(100).reset_index().drop(columns=drop)"
      ],
      "metadata": {
        "id": "hdn9DV2XkyU_",
        "outputId": "2ecc5892-c960-43b5-a3c4-9be96f166b4c",
        "colab": {
          "base_uri": "https://localhost:8080/",
          "height": 300
        }
      },
      "execution_count": 11,
      "outputs": [
        {
          "output_type": "execute_result",
          "data": {
            "text/plain": [
              "     tested_on base_model trained_on       use\n",
              "0  triviaqa_v2       bart   triviaqa  61.63178\n",
              "1  triviaqa_v2       bart    amalgam  61.41134\n",
              "2  triviaqa_d1       bart   triviaqa  60.99276\n",
              "3     triviaqa       bart    amalgam  60.91905\n",
              "4  triviaqa_d1       bart    amalgam  60.89107\n",
              "5     triviaqa       bart   triviaqa  60.77681\n",
              "6  triviaqa_v1       bart    amalgam  60.37185\n",
              "7  triviaqa_v1       bart   triviaqa  60.35503"
            ],
            "text/html": [
              "\n",
              "  <div id=\"df-b061aefd-fdf3-40d6-9d72-e8fc6511d82d\">\n",
              "    <div class=\"colab-df-container\">\n",
              "      <div>\n",
              "<style scoped>\n",
              "    .dataframe tbody tr th:only-of-type {\n",
              "        vertical-align: middle;\n",
              "    }\n",
              "\n",
              "    .dataframe tbody tr th {\n",
              "        vertical-align: top;\n",
              "    }\n",
              "\n",
              "    .dataframe thead th {\n",
              "        text-align: right;\n",
              "    }\n",
              "</style>\n",
              "<table border=\"1\" class=\"dataframe\">\n",
              "  <thead>\n",
              "    <tr style=\"text-align: right;\">\n",
              "      <th></th>\n",
              "      <th>tested_on</th>\n",
              "      <th>base_model</th>\n",
              "      <th>trained_on</th>\n",
              "      <th>use</th>\n",
              "    </tr>\n",
              "  </thead>\n",
              "  <tbody>\n",
              "    <tr>\n",
              "      <th>0</th>\n",
              "      <td>triviaqa_v2</td>\n",
              "      <td>bart</td>\n",
              "      <td>triviaqa</td>\n",
              "      <td>61.63178</td>\n",
              "    </tr>\n",
              "    <tr>\n",
              "      <th>1</th>\n",
              "      <td>triviaqa_v2</td>\n",
              "      <td>bart</td>\n",
              "      <td>amalgam</td>\n",
              "      <td>61.41134</td>\n",
              "    </tr>\n",
              "    <tr>\n",
              "      <th>2</th>\n",
              "      <td>triviaqa_d1</td>\n",
              "      <td>bart</td>\n",
              "      <td>triviaqa</td>\n",
              "      <td>60.99276</td>\n",
              "    </tr>\n",
              "    <tr>\n",
              "      <th>3</th>\n",
              "      <td>triviaqa</td>\n",
              "      <td>bart</td>\n",
              "      <td>amalgam</td>\n",
              "      <td>60.91905</td>\n",
              "    </tr>\n",
              "    <tr>\n",
              "      <th>4</th>\n",
              "      <td>triviaqa_d1</td>\n",
              "      <td>bart</td>\n",
              "      <td>amalgam</td>\n",
              "      <td>60.89107</td>\n",
              "    </tr>\n",
              "    <tr>\n",
              "      <th>5</th>\n",
              "      <td>triviaqa</td>\n",
              "      <td>bart</td>\n",
              "      <td>triviaqa</td>\n",
              "      <td>60.77681</td>\n",
              "    </tr>\n",
              "    <tr>\n",
              "      <th>6</th>\n",
              "      <td>triviaqa_v1</td>\n",
              "      <td>bart</td>\n",
              "      <td>amalgam</td>\n",
              "      <td>60.37185</td>\n",
              "    </tr>\n",
              "    <tr>\n",
              "      <th>7</th>\n",
              "      <td>triviaqa_v1</td>\n",
              "      <td>bart</td>\n",
              "      <td>triviaqa</td>\n",
              "      <td>60.35503</td>\n",
              "    </tr>\n",
              "  </tbody>\n",
              "</table>\n",
              "</div>\n",
              "      <button class=\"colab-df-convert\" onclick=\"convertToInteractive('df-b061aefd-fdf3-40d6-9d72-e8fc6511d82d')\"\n",
              "              title=\"Convert this dataframe to an interactive table.\"\n",
              "              style=\"display:none;\">\n",
              "        \n",
              "  <svg xmlns=\"http://www.w3.org/2000/svg\" height=\"24px\"viewBox=\"0 0 24 24\"\n",
              "       width=\"24px\">\n",
              "    <path d=\"M0 0h24v24H0V0z\" fill=\"none\"/>\n",
              "    <path d=\"M18.56 5.44l.94 2.06.94-2.06 2.06-.94-2.06-.94-.94-2.06-.94 2.06-2.06.94zm-11 1L8.5 8.5l.94-2.06 2.06-.94-2.06-.94L8.5 2.5l-.94 2.06-2.06.94zm10 10l.94 2.06.94-2.06 2.06-.94-2.06-.94-.94-2.06-.94 2.06-2.06.94z\"/><path d=\"M17.41 7.96l-1.37-1.37c-.4-.4-.92-.59-1.43-.59-.52 0-1.04.2-1.43.59L10.3 9.45l-7.72 7.72c-.78.78-.78 2.05 0 2.83L4 21.41c.39.39.9.59 1.41.59.51 0 1.02-.2 1.41-.59l7.78-7.78 2.81-2.81c.8-.78.8-2.07 0-2.86zM5.41 20L4 18.59l7.72-7.72 1.47 1.35L5.41 20z\"/>\n",
              "  </svg>\n",
              "      </button>\n",
              "      \n",
              "  <style>\n",
              "    .colab-df-container {\n",
              "      display:flex;\n",
              "      flex-wrap:wrap;\n",
              "      gap: 12px;\n",
              "    }\n",
              "\n",
              "    .colab-df-convert {\n",
              "      background-color: #E8F0FE;\n",
              "      border: none;\n",
              "      border-radius: 50%;\n",
              "      cursor: pointer;\n",
              "      display: none;\n",
              "      fill: #1967D2;\n",
              "      height: 32px;\n",
              "      padding: 0 0 0 0;\n",
              "      width: 32px;\n",
              "    }\n",
              "\n",
              "    .colab-df-convert:hover {\n",
              "      background-color: #E2EBFA;\n",
              "      box-shadow: 0px 1px 2px rgba(60, 64, 67, 0.3), 0px 1px 3px 1px rgba(60, 64, 67, 0.15);\n",
              "      fill: #174EA6;\n",
              "    }\n",
              "\n",
              "    [theme=dark] .colab-df-convert {\n",
              "      background-color: #3B4455;\n",
              "      fill: #D2E3FC;\n",
              "    }\n",
              "\n",
              "    [theme=dark] .colab-df-convert:hover {\n",
              "      background-color: #434B5C;\n",
              "      box-shadow: 0px 1px 3px 1px rgba(0, 0, 0, 0.15);\n",
              "      filter: drop-shadow(0px 1px 2px rgba(0, 0, 0, 0.3));\n",
              "      fill: #FFFFFF;\n",
              "    }\n",
              "  </style>\n",
              "\n",
              "      <script>\n",
              "        const buttonEl =\n",
              "          document.querySelector('#df-b061aefd-fdf3-40d6-9d72-e8fc6511d82d button.colab-df-convert');\n",
              "        buttonEl.style.display =\n",
              "          google.colab.kernel.accessAllowed ? 'block' : 'none';\n",
              "\n",
              "        async function convertToInteractive(key) {\n",
              "          const element = document.querySelector('#df-b061aefd-fdf3-40d6-9d72-e8fc6511d82d');\n",
              "          const dataTable =\n",
              "            await google.colab.kernel.invokeFunction('convertToInteractive',\n",
              "                                                     [key], {});\n",
              "          if (!dataTable) return;\n",
              "\n",
              "          const docLinkHtml = 'Like what you see? Visit the ' +\n",
              "            '<a target=\"_blank\" href=https://colab.research.google.com/notebooks/data_table.ipynb>data table notebook</a>'\n",
              "            + ' to learn more about interactive tables.';\n",
              "          element.innerHTML = '';\n",
              "          dataTable['output_type'] = 'display_data';\n",
              "          await google.colab.output.renderOutput(dataTable, element);\n",
              "          const docLink = document.createElement('div');\n",
              "          docLink.innerHTML = docLinkHtml;\n",
              "          element.appendChild(docLink);\n",
              "        }\n",
              "      </script>\n",
              "    </div>\n",
              "  </div>\n",
              "  "
            ]
          },
          "metadata": {},
          "execution_count": 11
        }
      ]
    },
    {
      "cell_type": "code",
      "source": [
        "### There are no statistically significant differences among any of these.\n",
        "\n",
        "x_val = ['triviaqa_v2', 'triviaqa']\n",
        "y_val = ['triviaqa_v1', 'triviaqa']\n",
        "\n",
        "x = df[(df['tested_on'] == x_val[0]) & (df['trained_on'] == x_val[1])]\n",
        "y = df[(df['tested_on'] == y_val[0]) & (df['trained_on'] == y_val[1])]\n",
        "\n",
        "st.ttest_ind(x[focus], y[focus], equal_var=False)[1]"
      ],
      "metadata": {
        "id": "MF4MaA3V4LOv",
        "outputId": "8a901211-4cd0-44d9-ce20-601f308b132c",
        "colab": {
          "base_uri": "https://localhost:8080/"
        }
      },
      "execution_count": 12,
      "outputs": [
        {
          "output_type": "execute_result",
          "data": {
            "text/plain": [
              "0.26862591869636643"
            ]
          },
          "metadata": {},
          "execution_count": 12
        }
      ]
    }
  ]
}