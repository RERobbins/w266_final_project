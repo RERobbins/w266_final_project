{
  "cells": [
    {
      "cell_type": "markdown",
      "metadata": {
        "id": "view-in-github",
        "colab_type": "text"
      },
      "source": [
        "<a href=\"https://colab.research.google.com/github/jeanlucjackson/w266_final_project/blob/main/code/sandboxes/RR/prediction_count_check.ipynb\" target=\"_parent\"><img src=\"https://colab.research.google.com/assets/colab-badge.svg\" alt=\"Open In Colab\"/></a>"
      ]
    },
    {
      "cell_type": "code",
      "execution_count": 1,
      "metadata": {
        "colab": {
          "base_uri": "https://localhost:8080/"
        },
        "id": "17N1XaF7d6dW",
        "outputId": "5ed7f8e9-a211-4a4a-8d16-c09ba30005ad"
      },
      "outputs": [
        {
          "output_type": "stream",
          "name": "stdout",
          "text": [
            "Mounted at /content/drive\n"
          ]
        }
      ],
      "source": [
        "from google.colab import drive\n",
        "drive.mount('/content/drive')"
      ]
    },
    {
      "cell_type": "code",
      "execution_count": 2,
      "metadata": {
        "id": "3jvE9TJRd4cG"
      },
      "outputs": [],
      "source": [
        "import os\n",
        "import glob\n",
        "import numpy as np\n",
        "import pandas as pd\n",
        "\n",
        "#from google.colab import data_table\n",
        "#data_table.enable_dataframe_formatter()"
      ]
    },
    {
      "cell_type": "code",
      "execution_count": 3,
      "metadata": {
        "id": "iMHoUiDnd9He"
      },
      "outputs": [],
      "source": [
        "# Some important file locations and constants\n",
        "\n",
        "project_root = \"/content/drive/MyDrive/w266 NLP Final Project/\"\n",
        "prediction_folder = project_root + \"Predictions/\"\n",
        "data_folder = project_root + \"Data/\""
      ]
    },
    {
      "cell_type": "code",
      "execution_count": 4,
      "metadata": {
        "id": "dqiY1wv-dxLx"
      },
      "outputs": [],
      "source": [
        "file_list = glob.glob(prediction_folder+\"predictions.*long.**.csv\")"
      ]
    },
    {
      "cell_type": "code",
      "execution_count": 5,
      "metadata": {
        "id": "UHTIt4vpONUk",
        "outputId": "e00e8901-f2e5-4fe5-ce86-2980b16d7e87",
        "colab": {
          "base_uri": "https://localhost:8080/"
        }
      },
      "outputs": [
        {
          "output_type": "execute_result",
          "data": {
            "text/plain": [
              "['/content/drive/MyDrive/w266 NLP Final Project/Predictions/predictions.T5_base_pt_long.nq.nq.csv',\n",
              " '/content/drive/MyDrive/w266 NLP Final Project/Predictions/predictions.T5_base_pt_long.nq.squad.csv',\n",
              " '/content/drive/MyDrive/w266 NLP Final Project/Predictions/predictions.T5_base_pt_long.triviaqa.squad.csv',\n",
              " '/content/drive/MyDrive/w266 NLP Final Project/Predictions/predictions.T5_base_pt_long.nq.quac.csv',\n",
              " '/content/drive/MyDrive/w266 NLP Final Project/Predictions/predictions.T5_base_pt_long.nq.triviaqa.csv',\n",
              " '/content/drive/MyDrive/w266 NLP Final Project/Predictions/predictions.T5_base_pt_long.triviaqa.quac.csv',\n",
              " '/content/drive/MyDrive/w266 NLP Final Project/Predictions/predictions.T5_base_pt_long.triviaqa.nq.csv',\n",
              " '/content/drive/MyDrive/w266 NLP Final Project/Predictions/predictions.T5_base_pt_long.squad.squad.csv',\n",
              " '/content/drive/MyDrive/w266 NLP Final Project/Predictions/predictions.T5_base_pt_long.squad.nq.csv',\n",
              " '/content/drive/MyDrive/w266 NLP Final Project/Predictions/predictions.T5_base_pt_long.squad.triviaqa.csv',\n",
              " '/content/drive/MyDrive/w266 NLP Final Project/Predictions/predictions.T5_base_pt_long.quac.squad.csv',\n",
              " '/content/drive/MyDrive/w266 NLP Final Project/Predictions/predictions.T5_base_pt_long.quac.nq.csv',\n",
              " '/content/drive/MyDrive/w266 NLP Final Project/Predictions/predictions.T5_base_pt_long.squad.quac.csv',\n",
              " '/content/drive/MyDrive/w266 NLP Final Project/Predictions/predictions.T5_base_pt_long.quac.quac.csv',\n",
              " '/content/drive/MyDrive/w266 NLP Final Project/Predictions/predictions.T5_base_pt_long.quac.triviaqa.csv',\n",
              " '/content/drive/MyDrive/w266 NLP Final Project/Predictions/predictions.T5_base_pt_long.triviaqa.triviaqa.csv',\n",
              " '/content/drive/MyDrive/w266 NLP Final Project/Predictions/predictions.bart_base_pt_long.squad.nq.csv',\n",
              " '/content/drive/MyDrive/w266 NLP Final Project/Predictions/predictions.bart_base_pt_long.squad.quac.csv',\n",
              " '/content/drive/MyDrive/w266 NLP Final Project/Predictions/predictions.bart_base_pt_long.squad.squad.csv',\n",
              " '/content/drive/MyDrive/w266 NLP Final Project/Predictions/predictions.bart_base_pt_long.squad.triviaqa.csv',\n",
              " '/content/drive/MyDrive/w266 NLP Final Project/Predictions/predictions.bart_base_pt_long.quac.nq.csv',\n",
              " '/content/drive/MyDrive/w266 NLP Final Project/Predictions/predictions.bart_base_pt_long.quac.quac.csv',\n",
              " '/content/drive/MyDrive/w266 NLP Final Project/Predictions/predictions.bart_base_pt_long.quac.squad.csv',\n",
              " '/content/drive/MyDrive/w266 NLP Final Project/Predictions/predictions.bart_base_pt_long.quac.triviaqa.csv',\n",
              " '/content/drive/MyDrive/w266 NLP Final Project/Predictions/predictions.bart_base_pt_long.nq.nq.csv',\n",
              " '/content/drive/MyDrive/w266 NLP Final Project/Predictions/predictions.bart_base_pt_long.nq.quac.csv',\n",
              " '/content/drive/MyDrive/w266 NLP Final Project/Predictions/predictions.bart_base_pt_long.nq.squad.csv',\n",
              " '/content/drive/MyDrive/w266 NLP Final Project/Predictions/predictions.bart_base_pt_long.nq.triviaqa.csv',\n",
              " '/content/drive/MyDrive/w266 NLP Final Project/Predictions/predictions.bart_base_pt_long.triviaqa.nq.csv',\n",
              " '/content/drive/MyDrive/w266 NLP Final Project/Predictions/predictions.bart_base_pt_long.triviaqa.quac.csv',\n",
              " '/content/drive/MyDrive/w266 NLP Final Project/Predictions/predictions.bart_base_pt_long.triviaqa.squad.csv',\n",
              " '/content/drive/MyDrive/w266 NLP Final Project/Predictions/predictions.bart_base_pt_long.triviaqa.triviaqa.csv']"
            ]
          },
          "metadata": {},
          "execution_count": 5
        }
      ],
      "source": [
        "file_list"
      ]
    },
    {
      "cell_type": "code",
      "source": [
        "len(file_list)"
      ],
      "metadata": {
        "colab": {
          "base_uri": "https://localhost:8080/"
        },
        "id": "ic-R-RJiDU7q",
        "outputId": "9098bd20-bb5d-4e31-ffc8-2ac31221c360"
      },
      "execution_count": 6,
      "outputs": [
        {
          "output_type": "execute_result",
          "data": {
            "text/plain": [
              "32"
            ]
          },
          "metadata": {},
          "execution_count": 6
        }
      ]
    },
    {
      "cell_type": "code",
      "execution_count": 7,
      "metadata": {
        "id": "0zljTLBVONUl",
        "outputId": "aa351507-1a6a-4358-9410-e8342b83574c",
        "colab": {
          "base_uri": "https://localhost:8080/",
          "height": 655
        }
      },
      "outputs": [
        {
          "output_type": "execute_result",
          "data": {
            "text/plain": [
              "                                                 name  count\n",
              "0               predictions.T5_base_pt_long.nq.nq.csv   2356\n",
              "16         predictions.bart_base_pt_long.squad.nq.csv   2356\n",
              "20          predictions.bart_base_pt_long.quac.nq.csv   2356\n",
              "11            predictions.T5_base_pt_long.quac.nq.csv   2356\n",
              "8            predictions.T5_base_pt_long.squad.nq.csv   2356\n",
              "6         predictions.T5_base_pt_long.triviaqa.nq.csv   2356\n",
              "24            predictions.bart_base_pt_long.nq.nq.csv   2356\n",
              "28      predictions.bart_base_pt_long.triviaqa.nq.csv   2356\n",
              "25          predictions.bart_base_pt_long.nq.quac.csv   5868\n",
              "17       predictions.bart_base_pt_long.squad.quac.csv   5868\n",
              "3             predictions.T5_base_pt_long.nq.quac.csv   5868\n",
              "12         predictions.T5_base_pt_long.squad.quac.csv   5868\n",
              "13          predictions.T5_base_pt_long.quac.quac.csv   5868\n",
              "21        predictions.bart_base_pt_long.quac.quac.csv   5868\n",
              "29    predictions.bart_base_pt_long.triviaqa.quac.csv   5868\n",
              "5       predictions.T5_base_pt_long.triviaqa.quac.csv   5868\n",
              "27      predictions.bart_base_pt_long.nq.triviaqa.csv   9835\n",
              "23    predictions.bart_base_pt_long.quac.triviaqa.csv   9835\n",
              "19   predictions.bart_base_pt_long.squad.triviaqa.csv   9835\n",
              "15  predictions.T5_base_pt_long.triviaqa.triviaqa.csv   9835\n",
              "14      predictions.T5_base_pt_long.quac.triviaqa.csv   9835\n",
              "9      predictions.T5_base_pt_long.squad.triviaqa.csv   9835\n",
              "4         predictions.T5_base_pt_long.nq.triviaqa.csv   9835\n",
              "31  predictions.bart_base_pt_long.triviaqa.triviaq...   9835\n",
              "30   predictions.bart_base_pt_long.triviaqa.squad.csv  10570\n",
              "22       predictions.bart_base_pt_long.quac.squad.csv  10570\n",
              "10         predictions.T5_base_pt_long.quac.squad.csv  10570\n",
              "7         predictions.T5_base_pt_long.squad.squad.csv  10570\n",
              "26         predictions.bart_base_pt_long.nq.squad.csv  10570\n",
              "2      predictions.T5_base_pt_long.triviaqa.squad.csv  10570\n",
              "1            predictions.T5_base_pt_long.nq.squad.csv  10570\n",
              "18      predictions.bart_base_pt_long.squad.squad.csv  10570"
            ],
            "text/html": [
              "\n",
              "  <div id=\"df-f14b9ee6-4d81-4fa3-b3be-311cb05232ad\">\n",
              "    <div class=\"colab-df-container\">\n",
              "      <div>\n",
              "<style scoped>\n",
              "    .dataframe tbody tr th:only-of-type {\n",
              "        vertical-align: middle;\n",
              "    }\n",
              "\n",
              "    .dataframe tbody tr th {\n",
              "        vertical-align: top;\n",
              "    }\n",
              "\n",
              "    .dataframe thead th {\n",
              "        text-align: right;\n",
              "    }\n",
              "</style>\n",
              "<table border=\"1\" class=\"dataframe\">\n",
              "  <thead>\n",
              "    <tr style=\"text-align: right;\">\n",
              "      <th></th>\n",
              "      <th>name</th>\n",
              "      <th>count</th>\n",
              "    </tr>\n",
              "  </thead>\n",
              "  <tbody>\n",
              "    <tr>\n",
              "      <th>0</th>\n",
              "      <td>predictions.T5_base_pt_long.nq.nq.csv</td>\n",
              "      <td>2356</td>\n",
              "    </tr>\n",
              "    <tr>\n",
              "      <th>16</th>\n",
              "      <td>predictions.bart_base_pt_long.squad.nq.csv</td>\n",
              "      <td>2356</td>\n",
              "    </tr>\n",
              "    <tr>\n",
              "      <th>20</th>\n",
              "      <td>predictions.bart_base_pt_long.quac.nq.csv</td>\n",
              "      <td>2356</td>\n",
              "    </tr>\n",
              "    <tr>\n",
              "      <th>11</th>\n",
              "      <td>predictions.T5_base_pt_long.quac.nq.csv</td>\n",
              "      <td>2356</td>\n",
              "    </tr>\n",
              "    <tr>\n",
              "      <th>8</th>\n",
              "      <td>predictions.T5_base_pt_long.squad.nq.csv</td>\n",
              "      <td>2356</td>\n",
              "    </tr>\n",
              "    <tr>\n",
              "      <th>6</th>\n",
              "      <td>predictions.T5_base_pt_long.triviaqa.nq.csv</td>\n",
              "      <td>2356</td>\n",
              "    </tr>\n",
              "    <tr>\n",
              "      <th>24</th>\n",
              "      <td>predictions.bart_base_pt_long.nq.nq.csv</td>\n",
              "      <td>2356</td>\n",
              "    </tr>\n",
              "    <tr>\n",
              "      <th>28</th>\n",
              "      <td>predictions.bart_base_pt_long.triviaqa.nq.csv</td>\n",
              "      <td>2356</td>\n",
              "    </tr>\n",
              "    <tr>\n",
              "      <th>25</th>\n",
              "      <td>predictions.bart_base_pt_long.nq.quac.csv</td>\n",
              "      <td>5868</td>\n",
              "    </tr>\n",
              "    <tr>\n",
              "      <th>17</th>\n",
              "      <td>predictions.bart_base_pt_long.squad.quac.csv</td>\n",
              "      <td>5868</td>\n",
              "    </tr>\n",
              "    <tr>\n",
              "      <th>3</th>\n",
              "      <td>predictions.T5_base_pt_long.nq.quac.csv</td>\n",
              "      <td>5868</td>\n",
              "    </tr>\n",
              "    <tr>\n",
              "      <th>12</th>\n",
              "      <td>predictions.T5_base_pt_long.squad.quac.csv</td>\n",
              "      <td>5868</td>\n",
              "    </tr>\n",
              "    <tr>\n",
              "      <th>13</th>\n",
              "      <td>predictions.T5_base_pt_long.quac.quac.csv</td>\n",
              "      <td>5868</td>\n",
              "    </tr>\n",
              "    <tr>\n",
              "      <th>21</th>\n",
              "      <td>predictions.bart_base_pt_long.quac.quac.csv</td>\n",
              "      <td>5868</td>\n",
              "    </tr>\n",
              "    <tr>\n",
              "      <th>29</th>\n",
              "      <td>predictions.bart_base_pt_long.triviaqa.quac.csv</td>\n",
              "      <td>5868</td>\n",
              "    </tr>\n",
              "    <tr>\n",
              "      <th>5</th>\n",
              "      <td>predictions.T5_base_pt_long.triviaqa.quac.csv</td>\n",
              "      <td>5868</td>\n",
              "    </tr>\n",
              "    <tr>\n",
              "      <th>27</th>\n",
              "      <td>predictions.bart_base_pt_long.nq.triviaqa.csv</td>\n",
              "      <td>9835</td>\n",
              "    </tr>\n",
              "    <tr>\n",
              "      <th>23</th>\n",
              "      <td>predictions.bart_base_pt_long.quac.triviaqa.csv</td>\n",
              "      <td>9835</td>\n",
              "    </tr>\n",
              "    <tr>\n",
              "      <th>19</th>\n",
              "      <td>predictions.bart_base_pt_long.squad.triviaqa.csv</td>\n",
              "      <td>9835</td>\n",
              "    </tr>\n",
              "    <tr>\n",
              "      <th>15</th>\n",
              "      <td>predictions.T5_base_pt_long.triviaqa.triviaqa.csv</td>\n",
              "      <td>9835</td>\n",
              "    </tr>\n",
              "    <tr>\n",
              "      <th>14</th>\n",
              "      <td>predictions.T5_base_pt_long.quac.triviaqa.csv</td>\n",
              "      <td>9835</td>\n",
              "    </tr>\n",
              "    <tr>\n",
              "      <th>9</th>\n",
              "      <td>predictions.T5_base_pt_long.squad.triviaqa.csv</td>\n",
              "      <td>9835</td>\n",
              "    </tr>\n",
              "    <tr>\n",
              "      <th>4</th>\n",
              "      <td>predictions.T5_base_pt_long.nq.triviaqa.csv</td>\n",
              "      <td>9835</td>\n",
              "    </tr>\n",
              "    <tr>\n",
              "      <th>31</th>\n",
              "      <td>predictions.bart_base_pt_long.triviaqa.triviaq...</td>\n",
              "      <td>9835</td>\n",
              "    </tr>\n",
              "    <tr>\n",
              "      <th>30</th>\n",
              "      <td>predictions.bart_base_pt_long.triviaqa.squad.csv</td>\n",
              "      <td>10570</td>\n",
              "    </tr>\n",
              "    <tr>\n",
              "      <th>22</th>\n",
              "      <td>predictions.bart_base_pt_long.quac.squad.csv</td>\n",
              "      <td>10570</td>\n",
              "    </tr>\n",
              "    <tr>\n",
              "      <th>10</th>\n",
              "      <td>predictions.T5_base_pt_long.quac.squad.csv</td>\n",
              "      <td>10570</td>\n",
              "    </tr>\n",
              "    <tr>\n",
              "      <th>7</th>\n",
              "      <td>predictions.T5_base_pt_long.squad.squad.csv</td>\n",
              "      <td>10570</td>\n",
              "    </tr>\n",
              "    <tr>\n",
              "      <th>26</th>\n",
              "      <td>predictions.bart_base_pt_long.nq.squad.csv</td>\n",
              "      <td>10570</td>\n",
              "    </tr>\n",
              "    <tr>\n",
              "      <th>2</th>\n",
              "      <td>predictions.T5_base_pt_long.triviaqa.squad.csv</td>\n",
              "      <td>10570</td>\n",
              "    </tr>\n",
              "    <tr>\n",
              "      <th>1</th>\n",
              "      <td>predictions.T5_base_pt_long.nq.squad.csv</td>\n",
              "      <td>10570</td>\n",
              "    </tr>\n",
              "    <tr>\n",
              "      <th>18</th>\n",
              "      <td>predictions.bart_base_pt_long.squad.squad.csv</td>\n",
              "      <td>10570</td>\n",
              "    </tr>\n",
              "  </tbody>\n",
              "</table>\n",
              "</div>\n",
              "      <button class=\"colab-df-convert\" onclick=\"convertToInteractive('df-f14b9ee6-4d81-4fa3-b3be-311cb05232ad')\"\n",
              "              title=\"Convert this dataframe to an interactive table.\"\n",
              "              style=\"display:none;\">\n",
              "        \n",
              "  <svg xmlns=\"http://www.w3.org/2000/svg\" height=\"24px\"viewBox=\"0 0 24 24\"\n",
              "       width=\"24px\">\n",
              "    <path d=\"M0 0h24v24H0V0z\" fill=\"none\"/>\n",
              "    <path d=\"M18.56 5.44l.94 2.06.94-2.06 2.06-.94-2.06-.94-.94-2.06-.94 2.06-2.06.94zm-11 1L8.5 8.5l.94-2.06 2.06-.94-2.06-.94L8.5 2.5l-.94 2.06-2.06.94zm10 10l.94 2.06.94-2.06 2.06-.94-2.06-.94-.94-2.06-.94 2.06-2.06.94z\"/><path d=\"M17.41 7.96l-1.37-1.37c-.4-.4-.92-.59-1.43-.59-.52 0-1.04.2-1.43.59L10.3 9.45l-7.72 7.72c-.78.78-.78 2.05 0 2.83L4 21.41c.39.39.9.59 1.41.59.51 0 1.02-.2 1.41-.59l7.78-7.78 2.81-2.81c.8-.78.8-2.07 0-2.86zM5.41 20L4 18.59l7.72-7.72 1.47 1.35L5.41 20z\"/>\n",
              "  </svg>\n",
              "      </button>\n",
              "      \n",
              "  <style>\n",
              "    .colab-df-container {\n",
              "      display:flex;\n",
              "      flex-wrap:wrap;\n",
              "      gap: 12px;\n",
              "    }\n",
              "\n",
              "    .colab-df-convert {\n",
              "      background-color: #E8F0FE;\n",
              "      border: none;\n",
              "      border-radius: 50%;\n",
              "      cursor: pointer;\n",
              "      display: none;\n",
              "      fill: #1967D2;\n",
              "      height: 32px;\n",
              "      padding: 0 0 0 0;\n",
              "      width: 32px;\n",
              "    }\n",
              "\n",
              "    .colab-df-convert:hover {\n",
              "      background-color: #E2EBFA;\n",
              "      box-shadow: 0px 1px 2px rgba(60, 64, 67, 0.3), 0px 1px 3px 1px rgba(60, 64, 67, 0.15);\n",
              "      fill: #174EA6;\n",
              "    }\n",
              "\n",
              "    [theme=dark] .colab-df-convert {\n",
              "      background-color: #3B4455;\n",
              "      fill: #D2E3FC;\n",
              "    }\n",
              "\n",
              "    [theme=dark] .colab-df-convert:hover {\n",
              "      background-color: #434B5C;\n",
              "      box-shadow: 0px 1px 3px 1px rgba(0, 0, 0, 0.15);\n",
              "      filter: drop-shadow(0px 1px 2px rgba(0, 0, 0, 0.3));\n",
              "      fill: #FFFFFF;\n",
              "    }\n",
              "  </style>\n",
              "\n",
              "      <script>\n",
              "        const buttonEl =\n",
              "          document.querySelector('#df-f14b9ee6-4d81-4fa3-b3be-311cb05232ad button.colab-df-convert');\n",
              "        buttonEl.style.display =\n",
              "          google.colab.kernel.accessAllowed ? 'block' : 'none';\n",
              "\n",
              "        async function convertToInteractive(key) {\n",
              "          const element = document.querySelector('#df-f14b9ee6-4d81-4fa3-b3be-311cb05232ad');\n",
              "          const dataTable =\n",
              "            await google.colab.kernel.invokeFunction('convertToInteractive',\n",
              "                                                     [key], {});\n",
              "          if (!dataTable) return;\n",
              "\n",
              "          const docLinkHtml = 'Like what you see? Visit the ' +\n",
              "            '<a target=\"_blank\" href=https://colab.research.google.com/notebooks/data_table.ipynb>data table notebook</a>'\n",
              "            + ' to learn more about interactive tables.';\n",
              "          element.innerHTML = '';\n",
              "          dataTable['output_type'] = 'display_data';\n",
              "          await google.colab.output.renderOutput(dataTable, element);\n",
              "          const docLink = document.createElement('div');\n",
              "          docLink.innerHTML = docLinkHtml;\n",
              "          element.appendChild(docLink);\n",
              "        }\n",
              "      </script>\n",
              "    </div>\n",
              "  </div>\n",
              "  "
            ]
          },
          "metadata": {},
          "execution_count": 7
        }
      ],
      "source": [
        "df = pd.DataFrame([(os.path.basename(x), len (pd.read_csv(x))) for x in file_list], columns=['name', 'count']).sort_values(by=['count'])\n",
        "df"
      ]
    },
    {
      "cell_type": "code",
      "execution_count": null,
      "metadata": {
        "id": "jeU4axxcONUm",
        "outputId": "ff884acd-ab79-4f30-9f10-e88884cf4108"
      },
      "outputs": [
        {
          "data": {
            "text/html": [
              "<div>\n",
              "<style scoped>\n",
              "    .dataframe tbody tr th:only-of-type {\n",
              "        vertical-align: middle;\n",
              "    }\n",
              "\n",
              "    .dataframe tbody tr th {\n",
              "        vertical-align: top;\n",
              "    }\n",
              "\n",
              "    .dataframe thead th {\n",
              "        text-align: right;\n",
              "    }\n",
              "</style>\n",
              "<table border=\"1\" class=\"dataframe\">\n",
              "  <thead>\n",
              "    <tr style=\"text-align: right;\">\n",
              "      <th></th>\n",
              "      <th>name</th>\n",
              "      <th>count</th>\n",
              "    </tr>\n",
              "  </thead>\n",
              "  <tbody>\n",
              "    <tr>\n",
              "      <th>3</th>\n",
              "      <td>nq_valid_pairs.csv</td>\n",
              "      <td>2356</td>\n",
              "    </tr>\n",
              "    <tr>\n",
              "      <th>1</th>\n",
              "      <td>quac_valid_pairs.csv</td>\n",
              "      <td>5868</td>\n",
              "    </tr>\n",
              "    <tr>\n",
              "      <th>0</th>\n",
              "      <td>triviaqa_valid_pairs.csv</td>\n",
              "      <td>9835</td>\n",
              "    </tr>\n",
              "    <tr>\n",
              "      <th>2</th>\n",
              "      <td>squad_valid_pairs.csv</td>\n",
              "      <td>10570</td>\n",
              "    </tr>\n",
              "  </tbody>\n",
              "</table>\n",
              "</div>"
            ],
            "text/plain": [
              "                       name  count\n",
              "3        nq_valid_pairs.csv   2356\n",
              "1      quac_valid_pairs.csv   5868\n",
              "0  triviaqa_valid_pairs.csv   9835\n",
              "2     squad_valid_pairs.csv  10570"
            ]
          },
          "execution_count": 37,
          "metadata": {},
          "output_type": "execute_result"
        }
      ],
      "source": [
        "df = pd.DataFrame([(os.path.basename(x), len (pd.read_csv(x))) for x in file_list], columns=['name', 'count']).sort_values(by=['count'])\n",
        "df"
      ]
    },
    {
      "cell_type": "code",
      "source": [
        "data_folder"
      ],
      "metadata": {
        "colab": {
          "base_uri": "https://localhost:8080/",
          "height": 35
        },
        "id": "LZ6zCvyTknuE",
        "outputId": "82b73638-1a5c-4c07-c5e0-9632e7f95fc9"
      },
      "execution_count": null,
      "outputs": [
        {
          "output_type": "execute_result",
          "data": {
            "text/plain": [
              "'/content/drive/MyDrive/w266 NLP Final Project/Data/'"
            ],
            "application/vnd.google.colaboratory.intrinsic+json": {
              "type": "string"
            }
          },
          "metadata": {},
          "execution_count": 35
        }
      ]
    },
    {
      "cell_type": "code",
      "source": [
        "files=[\"train_pairs.csv\",\n",
        "       \"valid_pairs.csv\", \n",
        "       \"bart_train_pairs.csv\", \n",
        "       \"bart_valid_pairs.csv\"]\n",
        "\n",
        "datasets=['nq', 'quac', 'triviaqa']\n",
        "\n",
        "pprint([f\"{data_folder}{dataset}/{file}\" for dataset in datasets for file in files])\n"
      ],
      "metadata": {
        "colab": {
          "base_uri": "https://localhost:8080/"
        },
        "id": "DnC_rXeZkxBJ",
        "outputId": "48a81445-b0ef-45ae-eddd-34e0239acb6f"
      },
      "execution_count": null,
      "outputs": [
        {
          "output_type": "stream",
          "name": "stdout",
          "text": [
            "['/content/drive/MyDrive/w266 NLP Final Project/Data/nq/train_pairs.csv',\n",
            " '/content/drive/MyDrive/w266 NLP Final Project/Data/nq/valid_pairs.csv',\n",
            " '/content/drive/MyDrive/w266 NLP Final Project/Data/nq/bart_train_pairs.csv',\n",
            " '/content/drive/MyDrive/w266 NLP Final Project/Data/nq/bart_valid_pairs.csv',\n",
            " '/content/drive/MyDrive/w266 NLP Final Project/Data/quac/train_pairs.csv',\n",
            " '/content/drive/MyDrive/w266 NLP Final Project/Data/quac/valid_pairs.csv',\n",
            " '/content/drive/MyDrive/w266 NLP Final Project/Data/quac/bart_train_pairs.csv',\n",
            " '/content/drive/MyDrive/w266 NLP Final Project/Data/quac/bart_valid_pairs.csv',\n",
            " '/content/drive/MyDrive/w266 NLP Final Project/Data/triviaqa/train_pairs.csv',\n",
            " '/content/drive/MyDrive/w266 NLP Final Project/Data/triviaqa/valid_pairs.csv',\n",
            " '/content/drive/MyDrive/w266 NLP Final '\n",
            " 'Project/Data/triviaqa/bart_train_pairs.csv',\n",
            " '/content/drive/MyDrive/w266 NLP Final '\n",
            " 'Project/Data/triviaqa/bart_valid_pairs.csv']\n"
          ]
        }
      ]
    },
    {
      "cell_type": "code",
      "source": [
        "pprint(folders)"
      ],
      "metadata": {
        "colab": {
          "base_uri": "https://localhost:8080/"
        },
        "id": "cnovabYZrGKb",
        "outputId": "7f3b64d4-99cd-489f-9ec9-3412ff01a2fa"
      },
      "execution_count": null,
      "outputs": [
        {
          "output_type": "stream",
          "name": "stdout",
          "text": [
            "['/content/drive/MyDrive/w266 NLP Final Project/Data/nq',\n",
            " '/content/drive/MyDrive/w266 NLP Final Project/Data/quac',\n",
            " '/content/drive/MyDrive/w266 NLP Final Project/Data/triviaqa',\n",
            " '/content/drive/MyDrive/w266 NLP Final Project/Data/squad.hf']\n"
          ]
        }
      ]
    },
    {
      "cell_type": "code",
      "source": [
        "pprint(names[:12])"
      ],
      "metadata": {
        "colab": {
          "base_uri": "https://localhost:8080/"
        },
        "id": "jZJb7gfdl4Kh",
        "outputId": "ed68fdf1-ccad-416b-d929-9ecb107c640e"
      },
      "execution_count": null,
      "outputs": [
        {
          "output_type": "stream",
          "name": "stdout",
          "text": [
            "['/content/drive/MyDrive/w266 NLP Final Project/Data/nq/train_pairs.csv',\n",
            " '/content/drive/MyDrive/w266 NLP Final Project/Data/nq/valid_pairs.csv',\n",
            " '/content/drive/MyDrive/w266 NLP Final Project/Data/nq/bart_train_pairs.csv',\n",
            " '/content/drive/MyDrive/w266 NLP Final Project/Data/nq/bart_valid_pairs.csv',\n",
            " '/content/drive/MyDrive/w266 NLP Final Project/Data/quac/train_pairs.csv',\n",
            " '/content/drive/MyDrive/w266 NLP Final Project/Data/quac/valid_pairs.csv',\n",
            " '/content/drive/MyDrive/w266 NLP Final Project/Data/quac/bart_train_pairs.csv',\n",
            " '/content/drive/MyDrive/w266 NLP Final Project/Data/quac/bart_valid_pairs.csv',\n",
            " '/content/drive/MyDrive/w266 NLP Final Project/Data/triviaqa/train_pairs.csv',\n",
            " '/content/drive/MyDrive/w266 NLP Final Project/Data/triviaqa/valid_pairs.csv',\n",
            " '/content/drive/MyDrive/w266 NLP Final '\n",
            " 'Project/Data/triviaqa/bart_train_pairs.csv',\n",
            " '/content/drive/MyDrive/w266 NLP Final '\n",
            " 'Project/Data/triviaqa/bart_valid_pairs.csv']\n"
          ]
        }
      ]
    },
    {
      "cell_type": "code",
      "source": [],
      "metadata": {
        "id": "mUm4456arFLQ"
      },
      "execution_count": null,
      "outputs": []
    },
    {
      "cell_type": "code",
      "source": [],
      "metadata": {
        "id": "mX6iaRnemCiW"
      },
      "execution_count": null,
      "outputs": []
    }
  ],
  "metadata": {
    "colab": {
      "collapsed_sections": [],
      "provenance": [],
      "include_colab_link": true
    },
    "gpuClass": "premium",
    "kernelspec": {
      "display_name": "Python 3 (ipykernel)",
      "language": "python",
      "name": "python3"
    },
    "language_info": {
      "codemirror_mode": {
        "name": "ipython",
        "version": 3
      },
      "file_extension": ".py",
      "mimetype": "text/x-python",
      "name": "python",
      "nbconvert_exporter": "python",
      "pygments_lexer": "ipython3",
      "version": "3.9.12"
    }
  },
  "nbformat": 4,
  "nbformat_minor": 0
}