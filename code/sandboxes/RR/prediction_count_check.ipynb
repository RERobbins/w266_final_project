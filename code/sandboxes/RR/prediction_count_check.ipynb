{
 "cells": [
  {
   "cell_type": "markdown",
   "metadata": {
    "colab_type": "text",
    "id": "view-in-github"
   },
   "source": [
    "<a href=\"https://colab.research.google.com/github/jeanlucjackson/w266_final_project/blob/main/code/RR/prediction_count_check.ipynb\" target=\"_parent\"><img src=\"https://colab.research.google.com/assets/colab-badge.svg\" alt=\"Open In Colab\"/></a>"
   ]
  },
  {
   "cell_type": "code",
   "execution_count": null,
   "metadata": {
    "colab": {
     "base_uri": "https://localhost:8080/"
    },
    "id": "17N1XaF7d6dW",
    "outputId": "6759ddb7-427b-46f2-93e5-a0c55d59596f"
   },
   "outputs": [],
   "source": [
    "from google.colab import drive\n",
    "drive.mount('/content/drive')"
   ]
  },
  {
   "cell_type": "code",
   "execution_count": 1,
   "metadata": {
    "id": "3jvE9TJRd4cG"
   },
   "outputs": [],
   "source": [
    "import os\n",
    "import glob\n",
    "import numpy as np\n",
    "import pandas as pd\n",
    "\n",
    "#from google.colab import data_table\n",
    "#data_table.enable_dataframe_formatter()"
   ]
  },
  {
   "cell_type": "code",
   "execution_count": 34,
   "metadata": {
    "id": "iMHoUiDnd9He"
   },
   "outputs": [],
   "source": [
    "# Some important file locations and constants\n",
    "\n",
    "project_root = \"/Users/rerobbins/Downloads/\"\n",
    "prediction_folder = project_root+\"predictions/\"\n",
    "validation_folder = project_root+\"validation/\""
   ]
  },
  {
   "cell_type": "code",
   "execution_count": 27,
   "metadata": {
    "colab": {
     "base_uri": "https://localhost:8080/",
     "height": 551
    },
    "id": "dqiY1wv-dxLx",
    "outputId": "a16a6bee-ae10-496e-8bd0-e77b303ba698"
   },
   "outputs": [],
   "source": [
    "file_list = glob.glob(prediction_folder+\"predictions.T5*.csv\")"
   ]
  },
  {
   "cell_type": "code",
   "execution_count": 28,
   "metadata": {},
   "outputs": [
    {
     "data": {
      "text/plain": [
       "['/Users/rerobbins/Downloads/predictions/predictions.T5_base_pt_long.triviaqa.quac.csv',\n",
       " '/Users/rerobbins/Downloads/predictions/predictions.T5_base_pt_long.squad.nq.csv',\n",
       " '/Users/rerobbins/Downloads/predictions/predictions.T5_base_pt_long.triviaqa.triviaqa.csv',\n",
       " '/Users/rerobbins/Downloads/predictions/predictions.T5_base_pt_long.squad.squad.csv',\n",
       " '/Users/rerobbins/Downloads/predictions/predictions.T5_base_pt_long.squad.quac.csv',\n",
       " '/Users/rerobbins/Downloads/predictions/predictions.T5_base_pt_long.squad.triviaqa.csv',\n",
       " '/Users/rerobbins/Downloads/predictions/predictions.T5_base_pt_long.nq.nq.csv',\n",
       " '/Users/rerobbins/Downloads/predictions/predictions.T5_base_pt_long.quac.triviaqa.csv',\n",
       " '/Users/rerobbins/Downloads/predictions/predictions.T5_base_pt_long.nq.squad.csv',\n",
       " '/Users/rerobbins/Downloads/predictions/predictions.T5_base_pt_long.triviaqa.squad.csv',\n",
       " '/Users/rerobbins/Downloads/predictions/predictions.T5_base_pt_long.quac.nq.csv',\n",
       " '/Users/rerobbins/Downloads/predictions/predictions.T5_base_pt_long.triviaqa.nq.csv',\n",
       " '/Users/rerobbins/Downloads/predictions/predictions.T5_base_pt_long.quac.squad.csv',\n",
       " '/Users/rerobbins/Downloads/predictions/predictions.T5_base_pt_long.quac.quac.csv',\n",
       " '/Users/rerobbins/Downloads/predictions/predictions.T5_base_pt_long.nq.triviaqa.csv',\n",
       " '/Users/rerobbins/Downloads/predictions/predictions.T5_base_pt_long.nq.quac.csv']"
      ]
     },
     "execution_count": 28,
     "metadata": {},
     "output_type": "execute_result"
    }
   ],
   "source": [
    "file_list"
   ]
  },
  {
   "cell_type": "code",
   "execution_count": 29,
   "metadata": {},
   "outputs": [
    {
     "data": {
      "text/html": [
       "<div>\n",
       "<style scoped>\n",
       "    .dataframe tbody tr th:only-of-type {\n",
       "        vertical-align: middle;\n",
       "    }\n",
       "\n",
       "    .dataframe tbody tr th {\n",
       "        vertical-align: top;\n",
       "    }\n",
       "\n",
       "    .dataframe thead th {\n",
       "        text-align: right;\n",
       "    }\n",
       "</style>\n",
       "<table border=\"1\" class=\"dataframe\">\n",
       "  <thead>\n",
       "    <tr style=\"text-align: right;\">\n",
       "      <th></th>\n",
       "      <th>name</th>\n",
       "      <th>count</th>\n",
       "    </tr>\n",
       "  </thead>\n",
       "  <tbody>\n",
       "    <tr>\n",
       "      <th>1</th>\n",
       "      <td>predictions.T5_base_pt_long.squad.nq.csv</td>\n",
       "      <td>2356</td>\n",
       "    </tr>\n",
       "    <tr>\n",
       "      <th>6</th>\n",
       "      <td>predictions.T5_base_pt_long.nq.nq.csv</td>\n",
       "      <td>2356</td>\n",
       "    </tr>\n",
       "    <tr>\n",
       "      <th>10</th>\n",
       "      <td>predictions.T5_base_pt_long.quac.nq.csv</td>\n",
       "      <td>2356</td>\n",
       "    </tr>\n",
       "    <tr>\n",
       "      <th>11</th>\n",
       "      <td>predictions.T5_base_pt_long.triviaqa.nq.csv</td>\n",
       "      <td>2356</td>\n",
       "    </tr>\n",
       "    <tr>\n",
       "      <th>0</th>\n",
       "      <td>predictions.T5_base_pt_long.triviaqa.quac.csv</td>\n",
       "      <td>5868</td>\n",
       "    </tr>\n",
       "    <tr>\n",
       "      <th>15</th>\n",
       "      <td>predictions.T5_base_pt_long.nq.quac.csv</td>\n",
       "      <td>5868</td>\n",
       "    </tr>\n",
       "    <tr>\n",
       "      <th>4</th>\n",
       "      <td>predictions.T5_base_pt_long.squad.quac.csv</td>\n",
       "      <td>5869</td>\n",
       "    </tr>\n",
       "    <tr>\n",
       "      <th>13</th>\n",
       "      <td>predictions.T5_base_pt_long.quac.quac.csv</td>\n",
       "      <td>5869</td>\n",
       "    </tr>\n",
       "    <tr>\n",
       "      <th>5</th>\n",
       "      <td>predictions.T5_base_pt_long.squad.triviaqa.csv</td>\n",
       "      <td>9835</td>\n",
       "    </tr>\n",
       "    <tr>\n",
       "      <th>14</th>\n",
       "      <td>predictions.T5_base_pt_long.nq.triviaqa.csv</td>\n",
       "      <td>9835</td>\n",
       "    </tr>\n",
       "    <tr>\n",
       "      <th>2</th>\n",
       "      <td>predictions.T5_base_pt_long.triviaqa.triviaqa.csv</td>\n",
       "      <td>9836</td>\n",
       "    </tr>\n",
       "    <tr>\n",
       "      <th>7</th>\n",
       "      <td>predictions.T5_base_pt_long.quac.triviaqa.csv</td>\n",
       "      <td>9836</td>\n",
       "    </tr>\n",
       "    <tr>\n",
       "      <th>3</th>\n",
       "      <td>predictions.T5_base_pt_long.squad.squad.csv</td>\n",
       "      <td>10570</td>\n",
       "    </tr>\n",
       "    <tr>\n",
       "      <th>8</th>\n",
       "      <td>predictions.T5_base_pt_long.nq.squad.csv</td>\n",
       "      <td>10570</td>\n",
       "    </tr>\n",
       "    <tr>\n",
       "      <th>9</th>\n",
       "      <td>predictions.T5_base_pt_long.triviaqa.squad.csv</td>\n",
       "      <td>10570</td>\n",
       "    </tr>\n",
       "    <tr>\n",
       "      <th>12</th>\n",
       "      <td>predictions.T5_base_pt_long.quac.squad.csv</td>\n",
       "      <td>10570</td>\n",
       "    </tr>\n",
       "  </tbody>\n",
       "</table>\n",
       "</div>"
      ],
      "text/plain": [
       "                                                 name  count\n",
       "1            predictions.T5_base_pt_long.squad.nq.csv   2356\n",
       "6               predictions.T5_base_pt_long.nq.nq.csv   2356\n",
       "10            predictions.T5_base_pt_long.quac.nq.csv   2356\n",
       "11        predictions.T5_base_pt_long.triviaqa.nq.csv   2356\n",
       "0       predictions.T5_base_pt_long.triviaqa.quac.csv   5868\n",
       "15            predictions.T5_base_pt_long.nq.quac.csv   5868\n",
       "4          predictions.T5_base_pt_long.squad.quac.csv   5869\n",
       "13          predictions.T5_base_pt_long.quac.quac.csv   5869\n",
       "5      predictions.T5_base_pt_long.squad.triviaqa.csv   9835\n",
       "14        predictions.T5_base_pt_long.nq.triviaqa.csv   9835\n",
       "2   predictions.T5_base_pt_long.triviaqa.triviaqa.csv   9836\n",
       "7       predictions.T5_base_pt_long.quac.triviaqa.csv   9836\n",
       "3         predictions.T5_base_pt_long.squad.squad.csv  10570\n",
       "8            predictions.T5_base_pt_long.nq.squad.csv  10570\n",
       "9      predictions.T5_base_pt_long.triviaqa.squad.csv  10570\n",
       "12         predictions.T5_base_pt_long.quac.squad.csv  10570"
      ]
     },
     "execution_count": 29,
     "metadata": {},
     "output_type": "execute_result"
    }
   ],
   "source": [
    "df = pd.DataFrame([(os.path.basename(x), len (pd.read_csv(x))) for x in file_list], columns=['name', 'count']).sort_values(by=['count'])\n",
    "df"
   ]
  },
  {
   "cell_type": "code",
   "execution_count": 35,
   "metadata": {},
   "outputs": [],
   "source": [
    "file_list = glob.glob(validation_folder+\"*.csv\")"
   ]
  },
  {
   "cell_type": "code",
   "execution_count": 36,
   "metadata": {},
   "outputs": [
    {
     "data": {
      "text/plain": [
       "['/Users/rerobbins/Downloads/validation/triviaqa_valid_pairs.csv',\n",
       " '/Users/rerobbins/Downloads/validation/quac_valid_pairs.csv',\n",
       " '/Users/rerobbins/Downloads/validation/squad_valid_pairs.csv',\n",
       " '/Users/rerobbins/Downloads/validation/nq_valid_pairs.csv']"
      ]
     },
     "execution_count": 36,
     "metadata": {},
     "output_type": "execute_result"
    }
   ],
   "source": [
    "file_list"
   ]
  },
  {
   "cell_type": "code",
   "execution_count": 37,
   "metadata": {},
   "outputs": [
    {
     "data": {
      "text/html": [
       "<div>\n",
       "<style scoped>\n",
       "    .dataframe tbody tr th:only-of-type {\n",
       "        vertical-align: middle;\n",
       "    }\n",
       "\n",
       "    .dataframe tbody tr th {\n",
       "        vertical-align: top;\n",
       "    }\n",
       "\n",
       "    .dataframe thead th {\n",
       "        text-align: right;\n",
       "    }\n",
       "</style>\n",
       "<table border=\"1\" class=\"dataframe\">\n",
       "  <thead>\n",
       "    <tr style=\"text-align: right;\">\n",
       "      <th></th>\n",
       "      <th>name</th>\n",
       "      <th>count</th>\n",
       "    </tr>\n",
       "  </thead>\n",
       "  <tbody>\n",
       "    <tr>\n",
       "      <th>3</th>\n",
       "      <td>nq_valid_pairs.csv</td>\n",
       "      <td>2356</td>\n",
       "    </tr>\n",
       "    <tr>\n",
       "      <th>1</th>\n",
       "      <td>quac_valid_pairs.csv</td>\n",
       "      <td>5868</td>\n",
       "    </tr>\n",
       "    <tr>\n",
       "      <th>0</th>\n",
       "      <td>triviaqa_valid_pairs.csv</td>\n",
       "      <td>9835</td>\n",
       "    </tr>\n",
       "    <tr>\n",
       "      <th>2</th>\n",
       "      <td>squad_valid_pairs.csv</td>\n",
       "      <td>10570</td>\n",
       "    </tr>\n",
       "  </tbody>\n",
       "</table>\n",
       "</div>"
      ],
      "text/plain": [
       "                       name  count\n",
       "3        nq_valid_pairs.csv   2356\n",
       "1      quac_valid_pairs.csv   5868\n",
       "0  triviaqa_valid_pairs.csv   9835\n",
       "2     squad_valid_pairs.csv  10570"
      ]
     },
     "execution_count": 37,
     "metadata": {},
     "output_type": "execute_result"
    }
   ],
   "source": [
    "df = pd.DataFrame([(os.path.basename(x), len (pd.read_csv(x))) for x in file_list], columns=['name', 'count']).sort_values(by=['count'])\n",
    "df"
   ]
  },
  {
   "cell_type": "code",
   "execution_count": 39,
   "metadata": {},
   "outputs": [
    {
     "data": {
      "text/plain": [
       "'/Users/rerobbins/Downloads/predictions/predictions.T5_base_pt_long.triviaqa.triviaqa.csv'"
      ]
     },
     "execution_count": 39,
     "metadata": {},
     "output_type": "execute_result"
    }
   ],
   "source": [
    "file_list = glob.glob(prediction_folder+\"predictions.T5*.csv\")\n",
    "file_list[2]"
   ]
  },
  {
   "cell_type": "code",
   "execution_count": 40,
   "metadata": {},
   "outputs": [],
   "source": [
    "df=pd.read_csv(file_list[2])"
   ]
  },
  {
   "cell_type": "code",
   "execution_count": 41,
   "metadata": {},
   "outputs": [],
   "source": [
    "#find duplicate rows across all columns\n",
    "duplicateRows = df[df.duplicated()]"
   ]
  },
  {
   "cell_type": "code",
   "execution_count": 42,
   "metadata": {},
   "outputs": [
    {
     "data": {
      "text/html": [
       "<div>\n",
       "<style scoped>\n",
       "    .dataframe tbody tr th:only-of-type {\n",
       "        vertical-align: middle;\n",
       "    }\n",
       "\n",
       "    .dataframe tbody tr th {\n",
       "        vertical-align: top;\n",
       "    }\n",
       "\n",
       "    .dataframe thead th {\n",
       "        text-align: right;\n",
       "    }\n",
       "</style>\n",
       "<table border=\"1\" class=\"dataframe\">\n",
       "  <thead>\n",
       "    <tr style=\"text-align: right;\">\n",
       "      <th></th>\n",
       "      <th>Unnamed: 0</th>\n",
       "      <th>context</th>\n",
       "      <th>answer</th>\n",
       "      <th>target</th>\n",
       "      <th>prediction</th>\n",
       "    </tr>\n",
       "  </thead>\n",
       "  <tbody>\n",
       "  </tbody>\n",
       "</table>\n",
       "</div>"
      ],
      "text/plain": [
       "Empty DataFrame\n",
       "Columns: [Unnamed: 0, context, answer, target, prediction]\n",
       "Index: []"
      ]
     },
     "execution_count": 42,
     "metadata": {},
     "output_type": "execute_result"
    }
   ],
   "source": [
    "duplicateRows"
   ]
  },
  {
   "cell_type": "code",
   "execution_count": 45,
   "metadata": {},
   "outputs": [
    {
     "data": {
      "text/html": [
       "<div>\n",
       "<style scoped>\n",
       "    .dataframe tbody tr th:only-of-type {\n",
       "        vertical-align: middle;\n",
       "    }\n",
       "\n",
       "    .dataframe tbody tr th {\n",
       "        vertical-align: top;\n",
       "    }\n",
       "\n",
       "    .dataframe thead th {\n",
       "        text-align: right;\n",
       "    }\n",
       "</style>\n",
       "<table border=\"1\" class=\"dataframe\">\n",
       "  <thead>\n",
       "    <tr style=\"text-align: right;\">\n",
       "      <th></th>\n",
       "      <th>Unnamed: 0</th>\n",
       "      <th>context</th>\n",
       "      <th>answer</th>\n",
       "      <th>target</th>\n",
       "      <th>prediction</th>\n",
       "    </tr>\n",
       "  </thead>\n",
       "  <tbody>\n",
       "    <tr>\n",
       "      <th>9830</th>\n",
       "      <td>4829.0</td>\n",
       "      <td>Cecil Balmond OBE is a Sri Lankan – British de...</td>\n",
       "      <td>ArcelorMittal Orbit</td>\n",
       "      <td>How is children's author Mary Pollock better k...</td>\n",
       "      <td>What is the name of the sculpture designed by ...</td>\n",
       "    </tr>\n",
       "    <tr>\n",
       "      <th>9831</th>\n",
       "      <td>4830.0</td>\n",
       "      <td>Manchester is a major city and metropolitan bo...</td>\n",
       "      <td>today</td>\n",
       "      <td>Which British king married Mary of Teck?</td>\n",
       "      <td>Which city was the first to be renamed as 'The...</td>\n",
       "    </tr>\n",
       "    <tr>\n",
       "      <th>9832</th>\n",
       "      <td>4831.0</td>\n",
       "      <td>Lord Snooty ( or Lord Snooty and his Pals ) wa...</td>\n",
       "      <td>Lord Snooty</td>\n",
       "      <td>Who won the 2010 Giro D'Italia?</td>\n",
       "      <td>What was the name of the character in the Bean...</td>\n",
       "    </tr>\n",
       "    <tr>\n",
       "      <th>9833</th>\n",
       "      <td>4832.0</td>\n",
       "      <td>Little Dorrit is a novel by Charles Dickens , ...</td>\n",
       "      <td>Marshalsea</td>\n",
       "      <td>What type of creature is a Kokanee?</td>\n",
       "      <td>What is the name of the prison in Charles Dick...</td>\n",
       "    </tr>\n",
       "    <tr>\n",
       "      <th>9834</th>\n",
       "      <td>4833.0</td>\n",
       "      <td>Plot \\n \\n The Sign of the Four ( 1890 ) , als...</td>\n",
       "      <td>Arthur Conan Doyle</td>\n",
       "      <td>What is the fifth event in the heptathlon</td>\n",
       "      <td>What author wrote the novels 'The Sign of Four...</td>\n",
       "    </tr>\n",
       "    <tr>\n",
       "      <th>9835</th>\n",
       "      <td>4834.0</td>\n",
       "      <td>A fish is any member of a paraphyletic group o...</td>\n",
       "      <td>tuna</td>\n",
       "      <td>Who set fire to his guitar at the Monterey Pop...</td>\n",
       "      <td>What type of fish is a skunk?</td>\n",
       "    </tr>\n",
       "  </tbody>\n",
       "</table>\n",
       "</div>"
      ],
      "text/plain": [
       "      Unnamed: 0                                            context  \\\n",
       "9830      4829.0  Cecil Balmond OBE is a Sri Lankan – British de...   \n",
       "9831      4830.0  Manchester is a major city and metropolitan bo...   \n",
       "9832      4831.0  Lord Snooty ( or Lord Snooty and his Pals ) wa...   \n",
       "9833      4832.0  Little Dorrit is a novel by Charles Dickens , ...   \n",
       "9834      4833.0  Plot \\n \\n The Sign of the Four ( 1890 ) , als...   \n",
       "9835      4834.0  A fish is any member of a paraphyletic group o...   \n",
       "\n",
       "                     answer  \\\n",
       "9830   ArcelorMittal Orbit    \n",
       "9831                 today    \n",
       "9832           Lord Snooty    \n",
       "9833            Marshalsea    \n",
       "9834    Arthur Conan Doyle    \n",
       "9835                  tuna    \n",
       "\n",
       "                                                 target  \\\n",
       "9830  How is children's author Mary Pollock better k...   \n",
       "9831           Which British king married Mary of Teck?   \n",
       "9832                    Who won the 2010 Giro D'Italia?   \n",
       "9833                What type of creature is a Kokanee?   \n",
       "9834          What is the fifth event in the heptathlon   \n",
       "9835  Who set fire to his guitar at the Monterey Pop...   \n",
       "\n",
       "                                             prediction  \n",
       "9830  What is the name of the sculpture designed by ...  \n",
       "9831  Which city was the first to be renamed as 'The...  \n",
       "9832  What was the name of the character in the Bean...  \n",
       "9833  What is the name of the prison in Charles Dick...  \n",
       "9834  What author wrote the novels 'The Sign of Four...  \n",
       "9835                      What type of fish is a skunk?  "
      ]
     },
     "execution_count": 45,
     "metadata": {},
     "output_type": "execute_result"
    }
   ],
   "source": [
    "df[9830:]"
   ]
  },
  {
   "cell_type": "code",
   "execution_count": 46,
   "metadata": {},
   "outputs": [
    {
     "data": {
      "text/html": [
       "<div>\n",
       "<style scoped>\n",
       "    .dataframe tbody tr th:only-of-type {\n",
       "        vertical-align: middle;\n",
       "    }\n",
       "\n",
       "    .dataframe tbody tr th {\n",
       "        vertical-align: top;\n",
       "    }\n",
       "\n",
       "    .dataframe thead th {\n",
       "        text-align: right;\n",
       "    }\n",
       "</style>\n",
       "<table border=\"1\" class=\"dataframe\">\n",
       "  <thead>\n",
       "    <tr style=\"text-align: right;\">\n",
       "      <th></th>\n",
       "      <th>Unnamed: 0</th>\n",
       "      <th>context</th>\n",
       "      <th>answer</th>\n",
       "      <th>target</th>\n",
       "      <th>prediction</th>\n",
       "    </tr>\n",
       "  </thead>\n",
       "  <tbody>\n",
       "    <tr>\n",
       "      <th>0</th>\n",
       "      <td>0.0</td>\n",
       "      <td>Goliath ( ; ; Arabic : جالوت , Ǧālūt ( Qur'ani...</td>\n",
       "      <td>one</td>\n",
       "      <td>When David killed Goliath, how many of his fiv...</td>\n",
       "      <td>What number was the name of the king of Israel...</td>\n",
       "    </tr>\n",
       "    <tr>\n",
       "      <th>1</th>\n",
       "      <td>1.0</td>\n",
       "      <td>Geronimo ( `` the one who yawns '' ; June 16 ,...</td>\n",
       "      <td>Apaches</td>\n",
       "      <td>Of which tribe of Red Indians was Geronimo a c...</td>\n",
       "      <td>What tribe was led by Geronimo?</td>\n",
       "    </tr>\n",
       "    <tr>\n",
       "      <th>2</th>\n",
       "      <td>2.0</td>\n",
       "      <td>In Jewish eschatology the term mashiach , or `...</td>\n",
       "      <td>Elijah</td>\n",
       "      <td>According to Jewish tradition, whose chair is ...</td>\n",
       "      <td>What was the name of the prophet who was the f...</td>\n",
       "    </tr>\n",
       "    <tr>\n",
       "      <th>3</th>\n",
       "      <td>3.0</td>\n",
       "      <td>Haiti ( ; ; ) , officially the Republic of Hai...</td>\n",
       "      <td>La Española</td>\n",
       "      <td>What island is shared by Haiti and the Dominic...</td>\n",
       "      <td>What is the name of the island of Hispaniola i...</td>\n",
       "    </tr>\n",
       "  </tbody>\n",
       "</table>\n",
       "</div>"
      ],
      "text/plain": [
       "   Unnamed: 0                                            context  \\\n",
       "0         0.0  Goliath ( ; ; Arabic : جالوت , Ǧālūt ( Qur'ani...   \n",
       "1         1.0  Geronimo ( `` the one who yawns '' ; June 16 ,...   \n",
       "2         2.0  In Jewish eschatology the term mashiach , or `...   \n",
       "3         3.0  Haiti ( ; ; ) , officially the Republic of Hai...   \n",
       "\n",
       "          answer                                             target  \\\n",
       "0           one   When David killed Goliath, how many of his fiv...   \n",
       "1       Apaches   Of which tribe of Red Indians was Geronimo a c...   \n",
       "2        Elijah   According to Jewish tradition, whose chair is ...   \n",
       "3   La Española   What island is shared by Haiti and the Dominic...   \n",
       "\n",
       "                                          prediction  \n",
       "0  What number was the name of the king of Israel...  \n",
       "1                    What tribe was led by Geronimo?  \n",
       "2  What was the name of the prophet who was the f...  \n",
       "3  What is the name of the island of Hispaniola i...  "
      ]
     },
     "execution_count": 46,
     "metadata": {},
     "output_type": "execute_result"
    }
   ],
   "source": [
    "df[:4]"
   ]
  },
  {
   "cell_type": "code",
   "execution_count": 49,
   "metadata": {},
   "outputs": [],
   "source": [
    "df_2=df['target']"
   ]
  },
  {
   "cell_type": "code",
   "execution_count": 50,
   "metadata": {},
   "outputs": [
    {
     "data": {
      "text/plain": [
       "73      The male lead roll was played by whom in the 2...\n",
       "205     Who played the title role in the TV series 'Th...\n",
       "254         What colour is the cross on the Finnish flag?\n",
       "301     Who wrote the operas Oedipus Rex and The Rake'...\n",
       "318     Who was the head of the German Ministry of Pub...\n",
       "                              ...                        \n",
       "9831             Which British king married Mary of Teck?\n",
       "9832                      Who won the 2010 Giro D'Italia?\n",
       "9833                  What type of creature is a Kokanee?\n",
       "9834            What is the fifth event in the heptathlon\n",
       "9835    Who set fire to his guitar at the Monterey Pop...\n",
       "Name: target, Length: 5855, dtype: object"
      ]
     },
     "execution_count": 50,
     "metadata": {},
     "output_type": "execute_result"
    }
   ],
   "source": [
    "df_2[df_2.duplicated()]"
   ]
  },
  {
   "cell_type": "code",
   "execution_count": null,
   "metadata": {},
   "outputs": [],
   "source": []
  }
 ],
 "metadata": {
  "colab": {
   "collapsed_sections": [],
   "include_colab_link": true,
   "provenance": []
  },
  "gpuClass": "premium",
  "kernelspec": {
   "display_name": "Python 3 (ipykernel)",
   "language": "python",
   "name": "python3"
  },
  "language_info": {
   "codemirror_mode": {
    "name": "ipython",
    "version": 3
   },
   "file_extension": ".py",
   "mimetype": "text/x-python",
   "name": "python",
   "nbconvert_exporter": "python",
   "pygments_lexer": "ipython3",
   "version": "3.9.12"
  }
 },
 "nbformat": 4,
 "nbformat_minor": 4
}
