{
  "cells": [
    {
      "cell_type": "markdown",
      "metadata": {
        "id": "view-in-github",
        "colab_type": "text"
      },
      "source": [
        "<a href=\"https://colab.research.google.com/github/jeanlucjackson/w266_final_project/blob/main/code/sandboxes/RR/context_length.ipynb\" target=\"_parent\"><img src=\"https://colab.research.google.com/assets/colab-badge.svg\" alt=\"Open In Colab\"/></a>"
      ]
    },
    {
      "cell_type": "code",
      "execution_count": 1,
      "id": "5bdcb418-0e29-4184-b0a4-5744ca40417c",
      "metadata": {
        "id": "5bdcb418-0e29-4184-b0a4-5744ca40417c"
      },
      "outputs": [],
      "source": [
        "import pandas as pd\n",
        "import numpy as np\n",
        "import seaborn as sns\n",
        "from matplotlib import pyplot as plt\n",
        "\n",
        "sns.set_theme()"
      ]
    },
    {
      "cell_type": "code",
      "source": [
        "from google.colab import drive\n",
        "drive.mount('/content/drive')"
      ],
      "metadata": {
        "id": "YcUgCMFgMbTU",
        "outputId": "51927cbf-5184-4686-eedb-0854927ecf5e",
        "colab": {
          "base_uri": "https://localhost:8080/"
        }
      },
      "id": "YcUgCMFgMbTU",
      "execution_count": 2,
      "outputs": [
        {
          "output_type": "stream",
          "name": "stdout",
          "text": [
            "Mounted at /content/drive\n"
          ]
        }
      ]
    },
    {
      "cell_type": "code",
      "execution_count": 3,
      "id": "47d7b180-5346-4f6d-901b-724cd70fa0a0",
      "metadata": {
        "id": "47d7b180-5346-4f6d-901b-724cd70fa0a0"
      },
      "outputs": [],
      "source": [
        "# Some important file locations and constants\n",
        "\n",
        "project_root = \"/content/drive/MyDrive/w266 NLP Final Project/\"\n",
        "# project_root = \"/home/localadmin/Documents/w266_NLP_Final_Project/\"\n",
        "data_folder = project_root + \"Data/\"\n",
        "processed_folder = project_root + \"Predictions/\"\n",
        "\n",
        "datasets = ['nq', 'quac', 'squad.hf', 'triviaqa']"
      ]
    },
    {
      "cell_type": "code",
      "execution_count": 4,
      "id": "ed5c4404-695d-4a00-8936-0c8e1419be1d",
      "metadata": {
        "id": "ed5c4404-695d-4a00-8936-0c8e1419be1d",
        "outputId": "37ceb96f-24d7-4a58-c003-2b01f22c841b",
        "colab": {
          "base_uri": "https://localhost:8080/",
          "height": 371
        }
      },
      "outputs": [
        {
          "output_type": "display_data",
          "data": {
            "text/plain": [
              "<Figure size 360x360 with 4 Axes>"
            ],
            "image/png": "[encoded data removed]"
          },
          "metadata": {}
        }
      ],
      "source": [
        "fig, axes = plt.subplots(2, 2, sharey=True, figsize=(5,5))\n",
        "counts=[]\n",
        "for dataset in datasets:\n",
        "  df = pd.read_csv(data_folder+dataset+\"/train_pairs.csv\")\n",
        "  counts.append(pd.Series([len(input_sequence.split()) for input_sequence in df['orig']]))\n",
        "\n",
        "sns.histplot(ax=axes[0,0], x=counts[0]).set(ylabel=\"\", title=datasets[0].split(\".\")[0])\n",
        "sns.histplot(ax=axes[0,1], x=counts[1]).set(ylabel=\"\", title=datasets[1].split(\".\")[0])\n",
        "sns.histplot(ax=axes[1,0], x=counts[2]).set(ylabel=\"\", title=datasets[2].split(\".\")[0])\n",
        "sns.histplot(ax=axes[1,1], x=counts[3]).set(ylabel=\"\", title=datasets[3].split(\".\")[0])\n",
        "\n",
        "fig.tight_layout()\n",
        "\n",
        "fig.subplots_adjust(top=.87)\n",
        "fig.suptitle(\"Input Sequence Word Count\")\n",
        "plt.show()"
      ]
    },
    {
      "cell_type": "code",
      "source": [],
      "metadata": {
        "id": "Jgpb4KHgQM9n"
      },
      "id": "Jgpb4KHgQM9n",
      "execution_count": null,
      "outputs": []
    }
  ],
  "metadata": {
    "kernelspec": {
      "display_name": "Python [conda env:gpu]",
      "language": "python",
      "name": "conda-env-gpu-py"
    },
    "language_info": {
      "codemirror_mode": {
        "name": "ipython",
        "version": 3
      },
      "file_extension": ".py",
      "mimetype": "text/x-python",
      "name": "python",
      "nbconvert_exporter": "python",
      "pygments_lexer": "ipython3",
      "version": "3.9.15"
    },
    "colab": {
      "provenance": [],
      "include_colab_link": true
    }
  },
  "nbformat": 4,
  "nbformat_minor": 5
}