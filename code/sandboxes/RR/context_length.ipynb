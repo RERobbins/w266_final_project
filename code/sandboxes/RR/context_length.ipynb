{
 "cells": [
  {
   "cell_type": "code",
   "execution_count": 1,
   "id": "5bdcb418-0e29-4184-b0a4-5744ca40417c",
   "metadata": {},
   "outputs": [
    {
     "name": "stdout",
     "output_type": "stream",
     "text": [
      "Requirement already satisfied: matplotlib in /home/localadmin/anaconda3/envs/gpu/lib/python3.9/site-packages (3.6.2)\n",
      "Requirement already satisfied: pyparsing>=2.2.1 in /home/localadmin/anaconda3/envs/gpu/lib/python3.9/site-packages (from matplotlib) (3.0.9)\n",
      "Requirement already satisfied: cycler>=0.10 in /home/localadmin/anaconda3/envs/gpu/lib/python3.9/site-packages (from matplotlib) (0.11.0)\n",
      "Requirement already satisfied: contourpy>=1.0.1 in /home/localadmin/anaconda3/envs/gpu/lib/python3.9/site-packages (from matplotlib) (1.0.6)\n",
      "Requirement already satisfied: kiwisolver>=1.0.1 in /home/localadmin/anaconda3/envs/gpu/lib/python3.9/site-packages (from matplotlib) (1.4.4)\n",
      "Requirement already satisfied: packaging>=20.0 in /home/localadmin/anaconda3/envs/gpu/lib/python3.9/site-packages (from matplotlib) (21.3)\n",
      "Requirement already satisfied: python-dateutil>=2.7 in /home/localadmin/anaconda3/envs/gpu/lib/python3.9/site-packages (from matplotlib) (2.8.2)\n",
      "Requirement already satisfied: pillow>=6.2.0 in /home/localadmin/anaconda3/envs/gpu/lib/python3.9/site-packages (from matplotlib) (9.2.0)\n",
      "Requirement already satisfied: fonttools>=4.22.0 in /home/localadmin/anaconda3/envs/gpu/lib/python3.9/site-packages (from matplotlib) (4.38.0)\n",
      "Requirement already satisfied: numpy>=1.19 in /home/localadmin/anaconda3/envs/gpu/lib/python3.9/site-packages (from matplotlib) (1.23.3)\n",
      "Requirement already satisfied: six>=1.5 in /home/localadmin/anaconda3/envs/gpu/lib/python3.9/site-packages (from python-dateutil>=2.7->matplotlib) (1.16.0)\n"
     ]
    }
   ],
   "source": [
    "import pandas as pd\n",
    "import numpy as np\n",
    "from matplotlib import pyplot as plt"
   ]
  },
  {
   "cell_type": "code",
   "execution_count": 2,
   "id": "47d7b180-5346-4f6d-901b-724cd70fa0a0",
   "metadata": {},
   "outputs": [],
   "source": [
    "# Some important file locations and constants\n",
    "\n",
    "project_root = \"/content/drive/MyDrive/w266 NLP Final Project/\"\n",
    "# project_root = \"/home/localadmin/Documents/w266_NLP_Final_Project/\"\n",
    "data_folder = project_root + \"Data/\"\n",
    "processed_folder = project_root + \"Predictions/\"\n",
    "\n",
    "datasets = ['nq', 'quac', 'squad.hf', 'triviaqa']"
   ]
  },
  {
   "cell_type": "code",
   "execution_count": 3,
   "id": "ed5c4404-695d-4a00-8936-0c8e1419be1d",
   "metadata": {},
   "outputs": [
    {
     "name": "stdout",
     "output_type": "stream",
     "text": [
      "nq\n"
     ]
    },
    {
     "data": {
      "image/png": "[encoded data removed]",
      "text/plain": [
       "<Figure size 432x288 with 1 Axes>"
      ]
     },
     "metadata": {
      "needs_background": "light"
     },
     "output_type": "display_data"
    },
    {
     "data": {
      "text/plain": [
       "count    74218.000000\n",
       "mean       101.962112\n",
       "std         55.201650\n",
       "min          8.000000\n",
       "25%         65.000000\n",
       "50%         92.000000\n",
       "75%        126.000000\n",
       "max       1623.000000\n",
       "dtype: float64"
      ]
     },
     "metadata": {},
     "output_type": "display_data"
    },
    {
     "name": "stdout",
     "output_type": "stream",
     "text": [
      "\n",
      "quac\n"
     ]
    },
    {
     "data": {
      "image/png": "[encoded data removed]",
      "text/plain": [
       "<Figure size 432x288 with 1 Axes>"
      ]
     },
     "metadata": {
      "needs_background": "light"
     },
     "output_type": "display_data"
    },
    {
     "data": {
      "text/plain": [
       "count    69109.000000\n",
       "mean       414.718025\n",
       "std        152.173521\n",
       "min        255.000000\n",
       "25%        326.000000\n",
       "50%        386.000000\n",
       "75%        464.000000\n",
       "max       1648.000000\n",
       "dtype: float64"
      ]
     },
     "metadata": {},
     "output_type": "display_data"
    },
    {
     "name": "stdout",
     "output_type": "stream",
     "text": [
      "\n",
      "squad.hf\n"
     ]
    },
    {
     "data": {
      "image/png": "[encoded data removed]",
      "text/plain": [
       "<Figure size 432x288 with 1 Axes>"
      ]
     },
     "metadata": {
      "needs_background": "light"
     },
     "output_type": "display_data"
    },
    {
     "data": {
      "text/plain": [
       "count    87599.000000\n",
       "mean       126.925285\n",
       "std         49.578746\n",
       "min         25.000000\n",
       "25%         96.000000\n",
       "50%        117.000000\n",
       "75%        149.000000\n",
       "max        661.000000\n",
       "dtype: float64"
      ]
     },
     "metadata": {},
     "output_type": "display_data"
    },
    {
     "name": "stdout",
     "output_type": "stream",
     "text": [
      "\n",
      "triviaqa\n"
     ]
    },
    {
     "data": {
      "image/png": "[encoded data removed]",
      "text/plain": [
       "<Figure size 432x288 with 1 Axes>"
      ]
     },
     "metadata": {
      "needs_background": "light"
     },
     "output_type": "display_data"
    },
    {
     "data": {
      "text/plain": [
       "count    77085.000000\n",
       "mean       739.266602\n",
       "std        131.759907\n",
       "min         10.000000\n",
       "25%        774.000000\n",
       "50%        784.000000\n",
       "75%        789.000000\n",
       "max        805.000000\n",
       "dtype: float64"
      ]
     },
     "metadata": {},
     "output_type": "display_data"
    },
    {
     "name": "stdout",
     "output_type": "stream",
     "text": [
      "\n"
     ]
    }
   ],
   "source": [
    "for dataset in datasets:\n",
    "    df = pd.read_csv(data_folder+dataset+\"/train_pairs.csv\")\n",
    "    print(dataset)\n",
    "    input_length = pd.Series([len(input_sequence.split()) for input_sequence in df['orig']])\n",
    "    plt.hist(input_length)\n",
    "    plt.show()\n",
    "    display(input_length.describe())\n",
    "    print()"
   ]
  }
 ],
 "metadata": {
  "kernelspec": {
   "display_name": "Python [conda env:gpu]",
   "language": "python",
   "name": "conda-env-gpu-py"
  },
  "language_info": {
   "codemirror_mode": {
    "name": "ipython",
    "version": 3
   },
   "file_extension": ".py",
   "mimetype": "text/x-python",
   "name": "python",
   "nbconvert_exporter": "python",
   "pygments_lexer": "ipython3",
   "version": "3.9.15"
  }
 },
 "nbformat": 4,
 "nbformat_minor": 5
}
