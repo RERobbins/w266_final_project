{
  "cells": [
    {
      "cell_type": "markdown",
      "metadata": {
        "id": "view-in-github",
        "colab_type": "text"
      },
      "source": [
        "<a href=\"https://colab.research.google.com/github/jeanlucjackson/w266_final_project/blob/main/code/sandboxes/RR/prediction_sampler.ipynb\" target=\"_parent\"><img src=\"https://colab.research.google.com/assets/colab-badge.svg\" alt=\"Open In Colab\"/></a>"
      ]
    },
    {
      "cell_type": "code",
      "execution_count": 48,
      "metadata": {
        "colab": {
          "base_uri": "https://localhost:8080/"
        },
        "id": "17N1XaF7d6dW",
        "outputId": "bf3011d8-9d09-4d80-8818-78c90c16d68c"
      },
      "outputs": [
        {
          "output_type": "stream",
          "name": "stdout",
          "text": [
            "Drive already mounted at /content/drive; to attempt to forcibly remount, call drive.mount(\"/content/drive\", force_remount=True).\n"
          ]
        }
      ],
      "source": [
        "from google.colab import drive\n",
        "drive.mount('/content/drive')"
      ]
    },
    {
      "cell_type": "code",
      "execution_count": 49,
      "metadata": {
        "id": "3jvE9TJRd4cG"
      },
      "outputs": [],
      "source": [
        "import os\n",
        "import glob\n",
        "import numpy as np\n",
        "import pandas as pd\n",
        "import random\n",
        "\n",
        "from google.colab import data_table\n",
        "data_table.enable_dataframe_formatter()"
      ]
    },
    {
      "cell_type": "code",
      "execution_count": 50,
      "metadata": {
        "id": "iMHoUiDnd9He"
      },
      "outputs": [],
      "source": [
        "# Some important file locations and constants\n",
        "\n",
        "project_root = \"/content/drive/MyDrive/w266 NLP Final Project/\"\n",
        "processed_folder = project_root + \"Predictions/\""
      ]
    },
    {
      "cell_type": "code",
      "source": [
        "for dataset in datasets:\n",
        "  df = pd.read_csv(f\"{data_folder}{dataset}/valid_pairs.csv\")\n",
        "  validation_set_size [dataset.split(\".\")[0]] = df.shape[0]"
      ],
      "metadata": {
        "id": "_oLDdfxlbSrT"
      },
      "execution_count": 51,
      "outputs": []
    },
    {
      "cell_type": "code",
      "source": [
        "validation_set_size"
      ],
      "metadata": {
        "id": "Qc76Hn1Vbpxt",
        "outputId": "aa62d87b-559c-41ea-aacc-160006da73b9",
        "colab": {
          "base_uri": "https://localhost:8080/"
        }
      },
      "execution_count": 52,
      "outputs": [
        {
          "output_type": "execute_result",
          "data": {
            "text/plain": [
              "{'nq': 2356, 'quac': 5868, 'squad': 10570, 'triviaqa': 9835}"
            ]
          },
          "metadata": {},
          "execution_count": 52
        }
      ]
    },
    {
      "cell_type": "code",
      "source": [
        "file_list = glob.glob(processed_folder + \"*amalgam*quac.csv\")"
      ],
      "metadata": {
        "id": "aKI5tZ0TvElX"
      },
      "execution_count": 53,
      "outputs": []
    },
    {
      "cell_type": "code",
      "source": [
        "file_list"
      ],
      "metadata": {
        "colab": {
          "base_uri": "https://localhost:8080/"
        },
        "id": "gYbXxVMsvHH8",
        "outputId": "c297036d-3801-4e38-9f45-39863a1ec83a"
      },
      "execution_count": 54,
      "outputs": [
        {
          "output_type": "execute_result",
          "data": {
            "text/plain": [
              "['/content/drive/MyDrive/w266 NLP Final Project/Predictions/predictions.bart_base_pt_long.amalgam.quac.csv',\n",
              " '/content/drive/MyDrive/w266 NLP Final Project/Predictions/predictions.T5_base_pt_long.amalgam.quac.csv']"
            ]
          },
          "metadata": {},
          "execution_count": 54
        }
      ]
    },
    {
      "cell_type": "code",
      "source": [
        "sample_size = 10"
      ],
      "metadata": {
        "id": "bouyH4WzvH6S"
      },
      "execution_count": 55,
      "outputs": []
    },
    {
      "cell_type": "code",
      "source": [
        "import random\n",
        "result = random.sample(range(0, validation_set_size['quac']), sample_size)\n",
        "result"
      ],
      "metadata": {
        "colab": {
          "base_uri": "https://localhost:8080/"
        },
        "id": "yWDm6CFM0BHp",
        "outputId": "6836e024-7b5f-4fd5-da9a-ebc5004a79cd"
      },
      "execution_count": 56,
      "outputs": [
        {
          "output_type": "execute_result",
          "data": {
            "text/plain": [
              "[1273, 1445, 304, 1459, 2615, 3344, 2600, 3852, 3329, 832]"
            ]
          },
          "metadata": {},
          "execution_count": 56
        }
      ]
    },
    {
      "cell_type": "code",
      "source": [
        "df_1 = pd.read_csv(file_list[0]).iloc[result][['target', 'prediction']]\n",
        "df_2 = pd.read_csv(file_list[1]).iloc[result][['target', 'prediction']]"
      ],
      "metadata": {
        "id": "BCxgMNtTvU0o"
      },
      "execution_count": 57,
      "outputs": []
    },
    {
      "cell_type": "code",
      "source": [
        "print(file_list[0])\n",
        "df_1"
      ],
      "metadata": {
        "colab": {
          "base_uri": "https://localhost:8080/",
          "height": 322
        },
        "id": "Cc03S2tqvrb9",
        "outputId": "0c771eb9-5c24-467c-928f-1c2b1a56e2c2"
      },
      "execution_count": 60,
      "outputs": [
        {
          "output_type": "stream",
          "name": "stdout",
          "text": [
            "/content/drive/MyDrive/w266 NLP Final Project/Predictions/predictions.bart_base_pt_long.amalgam.quac.csv\n"
          ]
        },
        {
          "output_type": "execute_result",
          "data": {
            "text/plain": [
              "                                                 target  \\\n",
              "1273                              who did he work with?   \n",
              "1445    What happened during his time with the dodgers?   \n",
              "304            is that the record label Taio went with?   \n",
              "1459                            What is La Mediteranee?   \n",
              "2615                         What was their first song?   \n",
              "3344              What was kraftwerk's early years like   \n",
              "2600                              What was the triumph?   \n",
              "3852  Are there any other interesting aspects about ...   \n",
              "3329                         what did he do in chicago?   \n",
              "832                      Did she have any other movies?   \n",
              "\n",
              "                                             prediction  \n",
              "1273  Are there any other interesting aspects about ...  \n",
              "1445                   What did he do with the Dodgers?  \n",
              "304            What is Rokstarr Entertainment Division?  \n",
              "1459  What was La Mediterranee et le Monde Mediterra...  \n",
              "2615  What was the name of Frenzal Rhomb's first album?  \n",
              "3344              How long did Kraftwerk stay together?  \n",
              "2600  What did Thomson do with Fleeming Jenkin and V...  \n",
              "3852                     What is the legacy of the JEM?  \n",
              "3329               How did Billy Corgan meet James Iha?  \n",
              "832   What was the name of the film in which Kelly M...  "
            ],
            "text/html": [
              "\n",
              "  <div id=\"df-81cfebe4-5ec8-4520-b347-5bcb641f5f9c\">\n",
              "    <div class=\"colab-df-container\">\n",
              "      <div>\n",
              "<style scoped>\n",
              "    .dataframe tbody tr th:only-of-type {\n",
              "        vertical-align: middle;\n",
              "    }\n",
              "\n",
              "    .dataframe tbody tr th {\n",
              "        vertical-align: top;\n",
              "    }\n",
              "\n",
              "    .dataframe thead th {\n",
              "        text-align: right;\n",
              "    }\n",
              "</style>\n",
              "<table border=\"1\" class=\"dataframe\">\n",
              "  <thead>\n",
              "    <tr style=\"text-align: right;\">\n",
              "      <th></th>\n",
              "      <th>target</th>\n",
              "      <th>prediction</th>\n",
              "    </tr>\n",
              "  </thead>\n",
              "  <tbody>\n",
              "    <tr>\n",
              "      <th>1273</th>\n",
              "      <td>who did he work with?</td>\n",
              "      <td>Are there any other interesting aspects about ...</td>\n",
              "    </tr>\n",
              "    <tr>\n",
              "      <th>1445</th>\n",
              "      <td>What happened during his time with the dodgers?</td>\n",
              "      <td>What did he do with the Dodgers?</td>\n",
              "    </tr>\n",
              "    <tr>\n",
              "      <th>304</th>\n",
              "      <td>is that the record label Taio went with?</td>\n",
              "      <td>What is Rokstarr Entertainment Division?</td>\n",
              "    </tr>\n",
              "    <tr>\n",
              "      <th>1459</th>\n",
              "      <td>What is La Mediteranee?</td>\n",
              "      <td>What was La Mediterranee et le Monde Mediterra...</td>\n",
              "    </tr>\n",
              "    <tr>\n",
              "      <th>2615</th>\n",
              "      <td>What was their first song?</td>\n",
              "      <td>What was the name of Frenzal Rhomb's first album?</td>\n",
              "    </tr>\n",
              "    <tr>\n",
              "      <th>3344</th>\n",
              "      <td>What was kraftwerk's early years like</td>\n",
              "      <td>How long did Kraftwerk stay together?</td>\n",
              "    </tr>\n",
              "    <tr>\n",
              "      <th>2600</th>\n",
              "      <td>What was the triumph?</td>\n",
              "      <td>What did Thomson do with Fleeming Jenkin and V...</td>\n",
              "    </tr>\n",
              "    <tr>\n",
              "      <th>3852</th>\n",
              "      <td>Are there any other interesting aspects about ...</td>\n",
              "      <td>What is the legacy of the JEM?</td>\n",
              "    </tr>\n",
              "    <tr>\n",
              "      <th>3329</th>\n",
              "      <td>what did he do in chicago?</td>\n",
              "      <td>How did Billy Corgan meet James Iha?</td>\n",
              "    </tr>\n",
              "    <tr>\n",
              "      <th>832</th>\n",
              "      <td>Did she have any other movies?</td>\n",
              "      <td>What was the name of the film in which Kelly M...</td>\n",
              "    </tr>\n",
              "  </tbody>\n",
              "</table>\n",
              "</div>\n",
              "      <button class=\"colab-df-convert\" onclick=\"convertToInteractive('df-81cfebe4-5ec8-4520-b347-5bcb641f5f9c')\"\n",
              "              title=\"Convert this dataframe to an interactive table.\"\n",
              "              style=\"display:none;\">\n",
              "        \n",
              "  <svg xmlns=\"http://www.w3.org/2000/svg\" height=\"24px\"viewBox=\"0 0 24 24\"\n",
              "       width=\"24px\">\n",
              "    <path d=\"M0 0h24v24H0V0z\" fill=\"none\"/>\n",
              "    <path d=\"M18.56 5.44l.94 2.06.94-2.06 2.06-.94-2.06-.94-.94-2.06-.94 2.06-2.06.94zm-11 1L8.5 8.5l.94-2.06 2.06-.94-2.06-.94L8.5 2.5l-.94 2.06-2.06.94zm10 10l.94 2.06.94-2.06 2.06-.94-2.06-.94-.94-2.06-.94 2.06-2.06.94z\"/><path d=\"M17.41 7.96l-1.37-1.37c-.4-.4-.92-.59-1.43-.59-.52 0-1.04.2-1.43.59L10.3 9.45l-7.72 7.72c-.78.78-.78 2.05 0 2.83L4 21.41c.39.39.9.59 1.41.59.51 0 1.02-.2 1.41-.59l7.78-7.78 2.81-2.81c.8-.78.8-2.07 0-2.86zM5.41 20L4 18.59l7.72-7.72 1.47 1.35L5.41 20z\"/>\n",
              "  </svg>\n",
              "      </button>\n",
              "      \n",
              "  <style>\n",
              "    .colab-df-container {\n",
              "      display:flex;\n",
              "      flex-wrap:wrap;\n",
              "      gap: 12px;\n",
              "    }\n",
              "\n",
              "    .colab-df-convert {\n",
              "      background-color: #E8F0FE;\n",
              "      border: none;\n",
              "      border-radius: 50%;\n",
              "      cursor: pointer;\n",
              "      display: none;\n",
              "      fill: #1967D2;\n",
              "      height: 32px;\n",
              "      padding: 0 0 0 0;\n",
              "      width: 32px;\n",
              "    }\n",
              "\n",
              "    .colab-df-convert:hover {\n",
              "      background-color: #E2EBFA;\n",
              "      box-shadow: 0px 1px 2px rgba(60, 64, 67, 0.3), 0px 1px 3px 1px rgba(60, 64, 67, 0.15);\n",
              "      fill: #174EA6;\n",
              "    }\n",
              "\n",
              "    [theme=dark] .colab-df-convert {\n",
              "      background-color: #3B4455;\n",
              "      fill: #D2E3FC;\n",
              "    }\n",
              "\n",
              "    [theme=dark] .colab-df-convert:hover {\n",
              "      background-color: #434B5C;\n",
              "      box-shadow: 0px 1px 3px 1px rgba(0, 0, 0, 0.15);\n",
              "      filter: drop-shadow(0px 1px 2px rgba(0, 0, 0, 0.3));\n",
              "      fill: #FFFFFF;\n",
              "    }\n",
              "  </style>\n",
              "\n",
              "      <script>\n",
              "        const buttonEl =\n",
              "          document.querySelector('#df-81cfebe4-5ec8-4520-b347-5bcb641f5f9c button.colab-df-convert');\n",
              "        buttonEl.style.display =\n",
              "          google.colab.kernel.accessAllowed ? 'block' : 'none';\n",
              "\n",
              "        async function convertToInteractive(key) {\n",
              "          const element = document.querySelector('#df-81cfebe4-5ec8-4520-b347-5bcb641f5f9c');\n",
              "          const dataTable =\n",
              "            await google.colab.kernel.invokeFunction('convertToInteractive',\n",
              "                                                     [key], {});\n",
              "          if (!dataTable) return;\n",
              "\n",
              "          const docLinkHtml = 'Like what you see? Visit the ' +\n",
              "            '<a target=\"_blank\" href=https://colab.research.google.com/notebooks/data_table.ipynb>data table notebook</a>'\n",
              "            + ' to learn more about interactive tables.';\n",
              "          element.innerHTML = '';\n",
              "          dataTable['output_type'] = 'display_data';\n",
              "          await google.colab.output.renderOutput(dataTable, element);\n",
              "          const docLink = document.createElement('div');\n",
              "          docLink.innerHTML = docLinkHtml;\n",
              "          element.appendChild(docLink);\n",
              "        }\n",
              "      </script>\n",
              "    </div>\n",
              "  </div>\n",
              "  "
            ],
            "application/vnd.google.colaboratory.module+javascript": "\n      import \"https://ssl.gstatic.com/colaboratory/data_table/a8bd4d5e58f96183/data_table.js\";\n\n      window.createDataTable({\n        data: [[{\n            'v': 1273,\n            'f': \"1273\",\n        },\n\"who did he work with?\",\n\"Are there any other interesting aspects about this article?\"],\n [{\n            'v': 1445,\n            'f': \"1445\",\n        },\n\"What happened during his time with the dodgers?\",\n\"What did he do with the Dodgers?\"],\n [{\n            'v': 304,\n            'f': \"304\",\n        },\n\"is that the record label Taio went with?\",\n\"What is Rokstarr Entertainment Division?\"],\n [{\n            'v': 1459,\n            'f': \"1459\",\n        },\n\"What is La Mediteranee?\",\n\"What was La Mediterranee et le Monde Mediterraneen?\"],\n [{\n            'v': 2615,\n            'f': \"2615\",\n        },\n\"What was their first song?\",\n\"What was the name of Frenzal Rhomb's first album?\"],\n [{\n            'v': 3344,\n            'f': \"3344\",\n        },\n\"What was kraftwerk's early years like\",\n\"How long did Kraftwerk stay together?\"],\n [{\n            'v': 2600,\n            'f': \"2600\",\n        },\n\"What was the triumph?\",\n\"What did Thomson do with Fleeming Jenkin and Varley?\"],\n [{\n            'v': 3852,\n            'f': \"3852\",\n        },\n\"Are there any other interesting aspects about this article?\",\n\"What is the legacy of the JEM?\"],\n [{\n            'v': 3329,\n            'f': \"3329\",\n        },\n\"what did he do in chicago?\",\n\"How did Billy Corgan meet James Iha?\"],\n [{\n            'v': 832,\n            'f': \"832\",\n        },\n\"Did she have any other movies?\",\n\"What was the name of the film in which Kelly McEntire starred?\"]],\n        columns: [[\"number\", \"index\"], [\"string\", \"target\"], [\"string\", \"prediction\"]],\n        columnOptions: [{\"width\": \"1px\", \"className\": \"index_column\"}],\n        rowsPerPage: 25,\n        helpUrl: \"https://colab.research.google.com/notebooks/data_table.ipynb\",\n        suppressOutputScrolling: true,\n        minimumWidth: undefined,\n      });\n    "
          },
          "metadata": {},
          "execution_count": 60
        }
      ]
    },
    {
      "cell_type": "code",
      "source": [
        "print(file_list[1])\n",
        "df_2"
      ],
      "metadata": {
        "colab": {
          "base_uri": "https://localhost:8080/",
          "height": 322
        },
        "id": "AEUhUPu0060l",
        "outputId": "696101d0-60b0-4716-bd59-f73430a1ba81"
      },
      "execution_count": 62,
      "outputs": [
        {
          "output_type": "stream",
          "name": "stdout",
          "text": [
            "/content/drive/MyDrive/w266 NLP Final Project/Predictions/predictions.T5_base_pt_long.amalgam.quac.csv\n"
          ]
        },
        {
          "output_type": "execute_result",
          "data": {
            "text/plain": [
              "                                                 target  \\\n",
              "1273                              who did he work with?   \n",
              "1445    What happened during his time with the dodgers?   \n",
              "304            is that the record label Taio went with?   \n",
              "1459                            What is La Mediteranee?   \n",
              "2615                         What was their first song?   \n",
              "3344              What was kraftwerk's early years like   \n",
              "2600                              What was the triumph?   \n",
              "3852  Are there any other interesting aspects about ...   \n",
              "3329                         what did he do in chicago?   \n",
              "832                      Did she have any other movies?   \n",
              "\n",
              "                                          prediction  \n",
              "1273                            What else did he do?  \n",
              "1445           What was his greatest accomplishment?  \n",
              "304                           What happened in 2009?  \n",
              "1459                        What was the first book?  \n",
              "2615                 What was the name of the album?  \n",
              "3344                       What was the first album?  \n",
              "2600            What did he do with Fleeming Jenkin?  \n",
              "3852  What is the most important fact about the JEM?  \n",
              "3329                        What was the band about?  \n",
              "832                  What was the name of the movie?  "
            ],
            "text/html": [
              "\n",
              "  <div id=\"df-885bd6e5-51cc-4798-9c1b-aa683c6d0a04\">\n",
              "    <div class=\"colab-df-container\">\n",
              "      <div>\n",
              "<style scoped>\n",
              "    .dataframe tbody tr th:only-of-type {\n",
              "        vertical-align: middle;\n",
              "    }\n",
              "\n",
              "    .dataframe tbody tr th {\n",
              "        vertical-align: top;\n",
              "    }\n",
              "\n",
              "    .dataframe thead th {\n",
              "        text-align: right;\n",
              "    }\n",
              "</style>\n",
              "<table border=\"1\" class=\"dataframe\">\n",
              "  <thead>\n",
              "    <tr style=\"text-align: right;\">\n",
              "      <th></th>\n",
              "      <th>target</th>\n",
              "      <th>prediction</th>\n",
              "    </tr>\n",
              "  </thead>\n",
              "  <tbody>\n",
              "    <tr>\n",
              "      <th>1273</th>\n",
              "      <td>who did he work with?</td>\n",
              "      <td>What else did he do?</td>\n",
              "    </tr>\n",
              "    <tr>\n",
              "      <th>1445</th>\n",
              "      <td>What happened during his time with the dodgers?</td>\n",
              "      <td>What was his greatest accomplishment?</td>\n",
              "    </tr>\n",
              "    <tr>\n",
              "      <th>304</th>\n",
              "      <td>is that the record label Taio went with?</td>\n",
              "      <td>What happened in 2009?</td>\n",
              "    </tr>\n",
              "    <tr>\n",
              "      <th>1459</th>\n",
              "      <td>What is La Mediteranee?</td>\n",
              "      <td>What was the first book?</td>\n",
              "    </tr>\n",
              "    <tr>\n",
              "      <th>2615</th>\n",
              "      <td>What was their first song?</td>\n",
              "      <td>What was the name of the album?</td>\n",
              "    </tr>\n",
              "    <tr>\n",
              "      <th>3344</th>\n",
              "      <td>What was kraftwerk's early years like</td>\n",
              "      <td>What was the first album?</td>\n",
              "    </tr>\n",
              "    <tr>\n",
              "      <th>2600</th>\n",
              "      <td>What was the triumph?</td>\n",
              "      <td>What did he do with Fleeming Jenkin?</td>\n",
              "    </tr>\n",
              "    <tr>\n",
              "      <th>3852</th>\n",
              "      <td>Are there any other interesting aspects about ...</td>\n",
              "      <td>What is the most important fact about the JEM?</td>\n",
              "    </tr>\n",
              "    <tr>\n",
              "      <th>3329</th>\n",
              "      <td>what did he do in chicago?</td>\n",
              "      <td>What was the band about?</td>\n",
              "    </tr>\n",
              "    <tr>\n",
              "      <th>832</th>\n",
              "      <td>Did she have any other movies?</td>\n",
              "      <td>What was the name of the movie?</td>\n",
              "    </tr>\n",
              "  </tbody>\n",
              "</table>\n",
              "</div>\n",
              "      <button class=\"colab-df-convert\" onclick=\"convertToInteractive('df-885bd6e5-51cc-4798-9c1b-aa683c6d0a04')\"\n",
              "              title=\"Convert this dataframe to an interactive table.\"\n",
              "              style=\"display:none;\">\n",
              "        \n",
              "  <svg xmlns=\"http://www.w3.org/2000/svg\" height=\"24px\"viewBox=\"0 0 24 24\"\n",
              "       width=\"24px\">\n",
              "    <path d=\"M0 0h24v24H0V0z\" fill=\"none\"/>\n",
              "    <path d=\"M18.56 5.44l.94 2.06.94-2.06 2.06-.94-2.06-.94-.94-2.06-.94 2.06-2.06.94zm-11 1L8.5 8.5l.94-2.06 2.06-.94-2.06-.94L8.5 2.5l-.94 2.06-2.06.94zm10 10l.94 2.06.94-2.06 2.06-.94-2.06-.94-.94-2.06-.94 2.06-2.06.94z\"/><path d=\"M17.41 7.96l-1.37-1.37c-.4-.4-.92-.59-1.43-.59-.52 0-1.04.2-1.43.59L10.3 9.45l-7.72 7.72c-.78.78-.78 2.05 0 2.83L4 21.41c.39.39.9.59 1.41.59.51 0 1.02-.2 1.41-.59l7.78-7.78 2.81-2.81c.8-.78.8-2.07 0-2.86zM5.41 20L4 18.59l7.72-7.72 1.47 1.35L5.41 20z\"/>\n",
              "  </svg>\n",
              "      </button>\n",
              "      \n",
              "  <style>\n",
              "    .colab-df-container {\n",
              "      display:flex;\n",
              "      flex-wrap:wrap;\n",
              "      gap: 12px;\n",
              "    }\n",
              "\n",
              "    .colab-df-convert {\n",
              "      background-color: #E8F0FE;\n",
              "      border: none;\n",
              "      border-radius: 50%;\n",
              "      cursor: pointer;\n",
              "      display: none;\n",
              "      fill: #1967D2;\n",
              "      height: 32px;\n",
              "      padding: 0 0 0 0;\n",
              "      width: 32px;\n",
              "    }\n",
              "\n",
              "    .colab-df-convert:hover {\n",
              "      background-color: #E2EBFA;\n",
              "      box-shadow: 0px 1px 2px rgba(60, 64, 67, 0.3), 0px 1px 3px 1px rgba(60, 64, 67, 0.15);\n",
              "      fill: #174EA6;\n",
              "    }\n",
              "\n",
              "    [theme=dark] .colab-df-convert {\n",
              "      background-color: #3B4455;\n",
              "      fill: #D2E3FC;\n",
              "    }\n",
              "\n",
              "    [theme=dark] .colab-df-convert:hover {\n",
              "      background-color: #434B5C;\n",
              "      box-shadow: 0px 1px 3px 1px rgba(0, 0, 0, 0.15);\n",
              "      filter: drop-shadow(0px 1px 2px rgba(0, 0, 0, 0.3));\n",
              "      fill: #FFFFFF;\n",
              "    }\n",
              "  </style>\n",
              "\n",
              "      <script>\n",
              "        const buttonEl =\n",
              "          document.querySelector('#df-885bd6e5-51cc-4798-9c1b-aa683c6d0a04 button.colab-df-convert');\n",
              "        buttonEl.style.display =\n",
              "          google.colab.kernel.accessAllowed ? 'block' : 'none';\n",
              "\n",
              "        async function convertToInteractive(key) {\n",
              "          const element = document.querySelector('#df-885bd6e5-51cc-4798-9c1b-aa683c6d0a04');\n",
              "          const dataTable =\n",
              "            await google.colab.kernel.invokeFunction('convertToInteractive',\n",
              "                                                     [key], {});\n",
              "          if (!dataTable) return;\n",
              "\n",
              "          const docLinkHtml = 'Like what you see? Visit the ' +\n",
              "            '<a target=\"_blank\" href=https://colab.research.google.com/notebooks/data_table.ipynb>data table notebook</a>'\n",
              "            + ' to learn more about interactive tables.';\n",
              "          element.innerHTML = '';\n",
              "          dataTable['output_type'] = 'display_data';\n",
              "          await google.colab.output.renderOutput(dataTable, element);\n",
              "          const docLink = document.createElement('div');\n",
              "          docLink.innerHTML = docLinkHtml;\n",
              "          element.appendChild(docLink);\n",
              "        }\n",
              "      </script>\n",
              "    </div>\n",
              "  </div>\n",
              "  "
            ],
            "application/vnd.google.colaboratory.module+javascript": "\n      import \"https://ssl.gstatic.com/colaboratory/data_table/a8bd4d5e58f96183/data_table.js\";\n\n      window.createDataTable({\n        data: [[{\n            'v': 1273,\n            'f': \"1273\",\n        },\n\"who did he work with?\",\n\"What else did he do?\"],\n [{\n            'v': 1445,\n            'f': \"1445\",\n        },\n\"What happened during his time with the dodgers?\",\n\"What was his greatest accomplishment?\"],\n [{\n            'v': 304,\n            'f': \"304\",\n        },\n\"is that the record label Taio went with?\",\n\"What happened in 2009?\"],\n [{\n            'v': 1459,\n            'f': \"1459\",\n        },\n\"What is La Mediteranee?\",\n\"What was the first book?\"],\n [{\n            'v': 2615,\n            'f': \"2615\",\n        },\n\"What was their first song?\",\n\"What was the name of the album?\"],\n [{\n            'v': 3344,\n            'f': \"3344\",\n        },\n\"What was kraftwerk's early years like\",\n\"What was the first album?\"],\n [{\n            'v': 2600,\n            'f': \"2600\",\n        },\n\"What was the triumph?\",\n\"What did he do with Fleeming Jenkin?\"],\n [{\n            'v': 3852,\n            'f': \"3852\",\n        },\n\"Are there any other interesting aspects about this article?\",\n\"What is the most important fact about the JEM?\"],\n [{\n            'v': 3329,\n            'f': \"3329\",\n        },\n\"what did he do in chicago?\",\n\"What was the band about?\"],\n [{\n            'v': 832,\n            'f': \"832\",\n        },\n\"Did she have any other movies?\",\n\"What was the name of the movie?\"]],\n        columns: [[\"number\", \"index\"], [\"string\", \"target\"], [\"string\", \"prediction\"]],\n        columnOptions: [{\"width\": \"1px\", \"className\": \"index_column\"}],\n        rowsPerPage: 25,\n        helpUrl: \"https://colab.research.google.com/notebooks/data_table.ipynb\",\n        suppressOutputScrolling: true,\n        minimumWidth: undefined,\n      });\n    "
          },
          "metadata": {},
          "execution_count": 62
        }
      ]
    },
    {
      "cell_type": "code",
      "source": [],
      "metadata": {
        "id": "lvi0lX1008cf"
      },
      "execution_count": null,
      "outputs": []
    }
  ],
  "metadata": {
    "colab": {
      "collapsed_sections": [],
      "provenance": [],
      "include_colab_link": true
    },
    "gpuClass": "premium",
    "kernelspec": {
      "display_name": "Python 3 (ipykernel)",
      "language": "python",
      "name": "python3"
    },
    "language_info": {
      "codemirror_mode": {
        "name": "ipython",
        "version": 3
      },
      "file_extension": ".py",
      "mimetype": "text/x-python",
      "name": "python",
      "nbconvert_exporter": "python",
      "pygments_lexer": "ipython3",
      "version": "3.9.12"
    }
  },
  "nbformat": 4,
  "nbformat_minor": 0
}