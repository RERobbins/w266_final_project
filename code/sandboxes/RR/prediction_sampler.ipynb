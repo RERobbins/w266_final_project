{
  "cells": [
    {
      "cell_type": "markdown",
      "metadata": {
        "id": "view-in-github",
        "colab_type": "text"
      },
      "source": [
        "<a href=\"https://colab.research.google.com/github/jeanlucjackson/w266_final_project/blob/main/code/sandboxes/RR/prediction_sampler.ipynb\" target=\"_parent\"><img src=\"https://colab.research.google.com/assets/colab-badge.svg\" alt=\"Open In Colab\"/></a>"
      ]
    },
    {
      "cell_type": "markdown",
      "source": [
        "## Setup"
      ],
      "metadata": {
        "id": "tSmxIdj44rHM"
      }
    },
    {
      "cell_type": "code",
      "execution_count": 1,
      "metadata": {
        "colab": {
          "base_uri": "https://localhost:8080/"
        },
        "id": "17N1XaF7d6dW",
        "outputId": "71e6c650-049f-4f35-94de-815bb549e01b"
      },
      "outputs": [
        {
          "output_type": "stream",
          "name": "stdout",
          "text": [
            "Mounted at /content/drive\n"
          ]
        }
      ],
      "source": [
        "from google.colab import drive\n",
        "drive.mount('/content/drive')"
      ]
    },
    {
      "cell_type": "code",
      "execution_count": 2,
      "metadata": {
        "id": "3jvE9TJRd4cG"
      },
      "outputs": [],
      "source": [
        "import os\n",
        "import glob\n",
        "import numpy as np\n",
        "import pandas as pd\n",
        "import random\n",
        "\n",
        "from google.colab import data_table\n",
        "data_table.enable_dataframe_formatter()"
      ]
    },
    {
      "cell_type": "code",
      "execution_count": 3,
      "metadata": {
        "id": "iMHoUiDnd9He"
      },
      "outputs": [],
      "source": [
        "# Some important file locations and constants\n",
        "\n",
        "project_root = \"/content/drive/MyDrive/w266 NLP Final Project/\"\n",
        "processed_folder = project_root + \"Predictions/\"\n",
        "data_folder = project_root + \"Data/\"\n",
        "\n",
        "datasets = ['nq', 'quac', 'squad.hf', 'triviaqa']\n",
        "\n",
        "validation_set_size = {}"
      ]
    },
    {
      "cell_type": "markdown",
      "source": [],
      "metadata": {
        "id": "CCuKyPmg43Nb"
      }
    },
    {
      "cell_type": "code",
      "source": [
        "for dataset in datasets:\n",
        "  df = pd.read_csv(f\"{data_folder}{dataset}/valid_pairs.csv\")\n",
        "  validation_set_size [dataset.split(\".\")[0]] = df.shape[0]"
      ],
      "metadata": {
        "id": "_oLDdfxlbSrT"
      },
      "execution_count": 4,
      "outputs": []
    },
    {
      "cell_type": "markdown",
      "source": [
        "## Tweak and play . . ."
      ],
      "metadata": {
        "id": "KzTpcZbA4zIk"
      }
    },
    {
      "cell_type": "code",
      "source": [
        "# Size of each of our validation sets\n",
        "validation_set_size"
      ],
      "metadata": {
        "id": "Qc76Hn1Vbpxt",
        "outputId": "11a72e0b-cf80-4e72-8e26-0c7bfe1b40c2",
        "colab": {
          "base_uri": "https://localhost:8080/"
        }
      },
      "execution_count": 5,
      "outputs": [
        {
          "output_type": "execute_result",
          "data": {
            "text/plain": [
              "{'nq': 2356, 'quac': 5868, 'squad': 10570, 'triviaqa': 9835}"
            ]
          },
          "metadata": {},
          "execution_count": 5
        }
      ]
    },
    {
      "cell_type": "code",
      "source": [
        "# Form a query to grab a set of interesting prediction sets\n",
        "file_list = glob.glob(processed_folder + \"*amalgam*quac.csv\")\n",
        "file_list"
      ],
      "metadata": {
        "id": "aKI5tZ0TvElX",
        "outputId": "d2efd462-9a29-4a73-a8b5-a3c5d514fa98",
        "colab": {
          "base_uri": "https://localhost:8080/"
        }
      },
      "execution_count": 6,
      "outputs": [
        {
          "output_type": "execute_result",
          "data": {
            "text/plain": [
              "['/content/drive/MyDrive/w266 NLP Final Project/Predictions/predictions.T5_base_pt_long.amalgam.quac.csv',\n",
              " '/content/drive/MyDrive/w266 NLP Final Project/Predictions/predictions.bart_base_pt_long.amalgam.quac.csv']"
            ]
          },
          "metadata": {},
          "execution_count": 6
        }
      ]
    },
    {
      "cell_type": "code",
      "source": [
        "# Number of samples\n",
        "sample_size = 10"
      ],
      "metadata": {
        "id": "bouyH4WzvH6S"
      },
      "execution_count": 7,
      "outputs": []
    },
    {
      "cell_type": "code",
      "source": [
        "# Sample indexes to pull from each set of interest\n",
        "samples = random.sample(range(0, validation_set_size['quac']), sample_size)\n",
        "samples"
      ],
      "metadata": {
        "colab": {
          "base_uri": "https://localhost:8080/"
        },
        "id": "yWDm6CFM0BHp",
        "outputId": "9257317e-32bc-45db-e5c8-8aa98e343299"
      },
      "execution_count": 8,
      "outputs": [
        {
          "output_type": "execute_result",
          "data": {
            "text/plain": [
              "[5429, 2022, 3315, 3503, 4695, 4611, 4419, 2441, 4004, 1730]"
            ]
          },
          "metadata": {},
          "execution_count": 8
        }
      ]
    },
    {
      "cell_type": "code",
      "source": [
        "df_1 = pd.read_csv(file_list[0]).iloc[samples][['target', 'prediction']]\n",
        "df_2 = pd.read_csv(file_list[1]).iloc[samples][['target', 'prediction']]"
      ],
      "metadata": {
        "id": "BCxgMNtTvU0o"
      },
      "execution_count": 9,
      "outputs": []
    },
    {
      "cell_type": "code",
      "source": [
        "print(file_list[0])\n",
        "df_1"
      ],
      "metadata": {
        "colab": {
          "base_uri": "https://localhost:8080/",
          "height": 322
        },
        "id": "Cc03S2tqvrb9",
        "outputId": "3a668e55-6e19-4517-f171-39792b7e96d7"
      },
      "execution_count": 10,
      "outputs": [
        {
          "output_type": "stream",
          "name": "stdout",
          "text": [
            "/content/drive/MyDrive/w266 NLP Final Project/Predictions/predictions.T5_base_pt_long.amalgam.quac.csv\n"
          ]
        },
        {
          "output_type": "execute_result",
          "data": {
            "text/plain": [
              "                                                 target  \\\n",
              "5429                What did their business consist of?   \n",
              "2022                What songs did he write and record?   \n",
              "3315   what happened to Roxette's international career?   \n",
              "3503                  Where did it place on the charts?   \n",
              "4695             In what episode did this topic emerge?   \n",
              "4611        What kind of equipment failures were there?   \n",
              "4419                          How did her husband help?   \n",
              "2441             How did the team do in under Dalglish?   \n",
              "4004  Are there any other interesting aspects about ...   \n",
              "1730  Are there any other interesting aspects about ...   \n",
              "\n",
              "                                             prediction  \n",
              "5429                         What did he do after that?  \n",
              "2022                       What were some of his songs?  \n",
              "3315                             Did the album do well?  \n",
              "3503                Did the song do well on the charts?  \n",
              "4695  What is the most interesting part of the article?  \n",
              "4611  What happened to the right front wheel on the ...  \n",
              "4419        How long did it take to complete the piece?  \n",
              "2441                         What was his first season?  \n",
              "4004                             What happened in 1985?  \n",
              "1730           What was the cause of the spread of HIV?  "
            ],
            "text/html": [
              "\n",
              "  <div id=\"df-35b07a20-656c-4923-92a3-d8a8bb258bd9\">\n",
              "    <div class=\"colab-df-container\">\n",
              "      <div>\n",
              "<style scoped>\n",
              "    .dataframe tbody tr th:only-of-type {\n",
              "        vertical-align: middle;\n",
              "    }\n",
              "\n",
              "    .dataframe tbody tr th {\n",
              "        vertical-align: top;\n",
              "    }\n",
              "\n",
              "    .dataframe thead th {\n",
              "        text-align: right;\n",
              "    }\n",
              "</style>\n",
              "<table border=\"1\" class=\"dataframe\">\n",
              "  <thead>\n",
              "    <tr style=\"text-align: right;\">\n",
              "      <th></th>\n",
              "      <th>target</th>\n",
              "      <th>prediction</th>\n",
              "    </tr>\n",
              "  </thead>\n",
              "  <tbody>\n",
              "    <tr>\n",
              "      <th>5429</th>\n",
              "      <td>What did their business consist of?</td>\n",
              "      <td>What did he do after that?</td>\n",
              "    </tr>\n",
              "    <tr>\n",
              "      <th>2022</th>\n",
              "      <td>What songs did he write and record?</td>\n",
              "      <td>What were some of his songs?</td>\n",
              "    </tr>\n",
              "    <tr>\n",
              "      <th>3315</th>\n",
              "      <td>what happened to Roxette's international career?</td>\n",
              "      <td>Did the album do well?</td>\n",
              "    </tr>\n",
              "    <tr>\n",
              "      <th>3503</th>\n",
              "      <td>Where did it place on the charts?</td>\n",
              "      <td>Did the song do well on the charts?</td>\n",
              "    </tr>\n",
              "    <tr>\n",
              "      <th>4695</th>\n",
              "      <td>In what episode did this topic emerge?</td>\n",
              "      <td>What is the most interesting part of the article?</td>\n",
              "    </tr>\n",
              "    <tr>\n",
              "      <th>4611</th>\n",
              "      <td>What kind of equipment failures were there?</td>\n",
              "      <td>What happened to the right front wheel on the ...</td>\n",
              "    </tr>\n",
              "    <tr>\n",
              "      <th>4419</th>\n",
              "      <td>How did her husband help?</td>\n",
              "      <td>How long did it take to complete the piece?</td>\n",
              "    </tr>\n",
              "    <tr>\n",
              "      <th>2441</th>\n",
              "      <td>How did the team do in under Dalglish?</td>\n",
              "      <td>What was his first season?</td>\n",
              "    </tr>\n",
              "    <tr>\n",
              "      <th>4004</th>\n",
              "      <td>Are there any other interesting aspects about ...</td>\n",
              "      <td>What happened in 1985?</td>\n",
              "    </tr>\n",
              "    <tr>\n",
              "      <th>1730</th>\n",
              "      <td>Are there any other interesting aspects about ...</td>\n",
              "      <td>What was the cause of the spread of HIV?</td>\n",
              "    </tr>\n",
              "  </tbody>\n",
              "</table>\n",
              "</div>\n",
              "      <button class=\"colab-df-convert\" onclick=\"convertToInteractive('df-35b07a20-656c-4923-92a3-d8a8bb258bd9')\"\n",
              "              title=\"Convert this dataframe to an interactive table.\"\n",
              "              style=\"display:none;\">\n",
              "        \n",
              "  <svg xmlns=\"http://www.w3.org/2000/svg\" height=\"24px\"viewBox=\"0 0 24 24\"\n",
              "       width=\"24px\">\n",
              "    <path d=\"M0 0h24v24H0V0z\" fill=\"none\"/>\n",
              "    <path d=\"M18.56 5.44l.94 2.06.94-2.06 2.06-.94-2.06-.94-.94-2.06-.94 2.06-2.06.94zm-11 1L8.5 8.5l.94-2.06 2.06-.94-2.06-.94L8.5 2.5l-.94 2.06-2.06.94zm10 10l.94 2.06.94-2.06 2.06-.94-2.06-.94-.94-2.06-.94 2.06-2.06.94z\"/><path d=\"M17.41 7.96l-1.37-1.37c-.4-.4-.92-.59-1.43-.59-.52 0-1.04.2-1.43.59L10.3 9.45l-7.72 7.72c-.78.78-.78 2.05 0 2.83L4 21.41c.39.39.9.59 1.41.59.51 0 1.02-.2 1.41-.59l7.78-7.78 2.81-2.81c.8-.78.8-2.07 0-2.86zM5.41 20L4 18.59l7.72-7.72 1.47 1.35L5.41 20z\"/>\n",
              "  </svg>\n",
              "      </button>\n",
              "      \n",
              "  <style>\n",
              "    .colab-df-container {\n",
              "      display:flex;\n",
              "      flex-wrap:wrap;\n",
              "      gap: 12px;\n",
              "    }\n",
              "\n",
              "    .colab-df-convert {\n",
              "      background-color: #E8F0FE;\n",
              "      border: none;\n",
              "      border-radius: 50%;\n",
              "      cursor: pointer;\n",
              "      display: none;\n",
              "      fill: #1967D2;\n",
              "      height: 32px;\n",
              "      padding: 0 0 0 0;\n",
              "      width: 32px;\n",
              "    }\n",
              "\n",
              "    .colab-df-convert:hover {\n",
              "      background-color: #E2EBFA;\n",
              "      box-shadow: 0px 1px 2px rgba(60, 64, 67, 0.3), 0px 1px 3px 1px rgba(60, 64, 67, 0.15);\n",
              "      fill: #174EA6;\n",
              "    }\n",
              "\n",
              "    [theme=dark] .colab-df-convert {\n",
              "      background-color: #3B4455;\n",
              "      fill: #D2E3FC;\n",
              "    }\n",
              "\n",
              "    [theme=dark] .colab-df-convert:hover {\n",
              "      background-color: #434B5C;\n",
              "      box-shadow: 0px 1px 3px 1px rgba(0, 0, 0, 0.15);\n",
              "      filter: drop-shadow(0px 1px 2px rgba(0, 0, 0, 0.3));\n",
              "      fill: #FFFFFF;\n",
              "    }\n",
              "  </style>\n",
              "\n",
              "      <script>\n",
              "        const buttonEl =\n",
              "          document.querySelector('#df-35b07a20-656c-4923-92a3-d8a8bb258bd9 button.colab-df-convert');\n",
              "        buttonEl.style.display =\n",
              "          google.colab.kernel.accessAllowed ? 'block' : 'none';\n",
              "\n",
              "        async function convertToInteractive(key) {\n",
              "          const element = document.querySelector('#df-35b07a20-656c-4923-92a3-d8a8bb258bd9');\n",
              "          const dataTable =\n",
              "            await google.colab.kernel.invokeFunction('convertToInteractive',\n",
              "                                                     [key], {});\n",
              "          if (!dataTable) return;\n",
              "\n",
              "          const docLinkHtml = 'Like what you see? Visit the ' +\n",
              "            '<a target=\"_blank\" href=https://colab.research.google.com/notebooks/data_table.ipynb>data table notebook</a>'\n",
              "            + ' to learn more about interactive tables.';\n",
              "          element.innerHTML = '';\n",
              "          dataTable['output_type'] = 'display_data';\n",
              "          await google.colab.output.renderOutput(dataTable, element);\n",
              "          const docLink = document.createElement('div');\n",
              "          docLink.innerHTML = docLinkHtml;\n",
              "          element.appendChild(docLink);\n",
              "        }\n",
              "      </script>\n",
              "    </div>\n",
              "  </div>\n",
              "  "
            ],
            "application/vnd.google.colaboratory.module+javascript": "\n      import \"https://ssl.gstatic.com/colaboratory/data_table/a8bd4d5e58f96183/data_table.js\";\n\n      window.createDataTable({\n        data: [[{\n            'v': 5429,\n            'f': \"5429\",\n        },\n\"What did their business consist of?\",\n\"What did he do after that?\"],\n [{\n            'v': 2022,\n            'f': \"2022\",\n        },\n\"What songs did he write and record?\",\n\"What were some of his songs?\"],\n [{\n            'v': 3315,\n            'f': \"3315\",\n        },\n\"what happened to Roxette's international career?\",\n\"Did the album do well?\"],\n [{\n            'v': 3503,\n            'f': \"3503\",\n        },\n\"Where did it place on the charts?\",\n\"Did the song do well on the charts?\"],\n [{\n            'v': 4695,\n            'f': \"4695\",\n        },\n\"In what episode did this topic emerge?\",\n\"What is the most interesting part of the article?\"],\n [{\n            'v': 4611,\n            'f': \"4611\",\n        },\n\"What kind of equipment failures were there?\",\n\"What happened to the right front wheel on the rover on March 13, 2006?\"],\n [{\n            'v': 4419,\n            'f': \"4419\",\n        },\n\"How did her husband help?\",\n\"How long did it take to complete the piece?\"],\n [{\n            'v': 2441,\n            'f': \"2441\",\n        },\n\"How did the team do in under Dalglish?\",\n\"What was his first season?\"],\n [{\n            'v': 4004,\n            'f': \"4004\",\n        },\n\"Are there any other interesting aspects about this article?\",\n\"What happened in 1985?\"],\n [{\n            'v': 1730,\n            'f': \"1730\",\n        },\n\"Are there any other interesting aspects about this article?\",\n\"What was the cause of the spread of HIV?\"]],\n        columns: [[\"number\", \"index\"], [\"string\", \"target\"], [\"string\", \"prediction\"]],\n        columnOptions: [{\"width\": \"1px\", \"className\": \"index_column\"}],\n        rowsPerPage: 25,\n        helpUrl: \"https://colab.research.google.com/notebooks/data_table.ipynb\",\n        suppressOutputScrolling: true,\n        minimumWidth: undefined,\n      });\n    "
          },
          "metadata": {},
          "execution_count": 10
        }
      ]
    },
    {
      "cell_type": "code",
      "source": [
        "print(file_list[1])\n",
        "df_2"
      ],
      "metadata": {
        "colab": {
          "base_uri": "https://localhost:8080/",
          "height": 322
        },
        "id": "AEUhUPu0060l",
        "outputId": "2f5bd6b8-b4ef-4427-ba42-8d913915bff0"
      },
      "execution_count": 11,
      "outputs": [
        {
          "output_type": "stream",
          "name": "stdout",
          "text": [
            "/content/drive/MyDrive/w266 NLP Final Project/Predictions/predictions.bart_base_pt_long.amalgam.quac.csv\n"
          ]
        },
        {
          "output_type": "execute_result",
          "data": {
            "text/plain": [
              "                                                 target  \\\n",
              "5429                What did their business consist of?   \n",
              "2022                What songs did he write and record?   \n",
              "3315   what happened to Roxette's international career?   \n",
              "3503                  Where did it place on the charts?   \n",
              "4695             In what episode did this topic emerge?   \n",
              "4611        What kind of equipment failures were there?   \n",
              "4419                          How did her husband help?   \n",
              "2441             How did the team do in under Dalglish?   \n",
              "4004  Are there any other interesting aspects about ...   \n",
              "1730  Are there any other interesting aspects about ...   \n",
              "\n",
              "                                             prediction  \n",
              "5429         What did Chagall do with Ambroise Vollard?  \n",
              "2022  What songs were on the album There Goes Rhymin...  \n",
              "3315                      How did Roxette do in the US?  \n",
              "3503         How did \"Gotta Get Away\" do on the charts?  \n",
              "4695         When does Kramer first appear in the show?  \n",
              "4611             What happened to the rover on sol 778?  \n",
              "4419        How long did it take to complete the piece?  \n",
              "2441     When did Dalglish become manager of Liverpool?  \n",
              "4004             when did the bad seeds move to germany  \n",
              "1730                     What caused the spread of HIV?  "
            ],
            "text/html": [
              "\n",
              "  <div id=\"df-318a7a36-d020-4533-8097-88833d5a80f2\">\n",
              "    <div class=\"colab-df-container\">\n",
              "      <div>\n",
              "<style scoped>\n",
              "    .dataframe tbody tr th:only-of-type {\n",
              "        vertical-align: middle;\n",
              "    }\n",
              "\n",
              "    .dataframe tbody tr th {\n",
              "        vertical-align: top;\n",
              "    }\n",
              "\n",
              "    .dataframe thead th {\n",
              "        text-align: right;\n",
              "    }\n",
              "</style>\n",
              "<table border=\"1\" class=\"dataframe\">\n",
              "  <thead>\n",
              "    <tr style=\"text-align: right;\">\n",
              "      <th></th>\n",
              "      <th>target</th>\n",
              "      <th>prediction</th>\n",
              "    </tr>\n",
              "  </thead>\n",
              "  <tbody>\n",
              "    <tr>\n",
              "      <th>5429</th>\n",
              "      <td>What did their business consist of?</td>\n",
              "      <td>What did Chagall do with Ambroise Vollard?</td>\n",
              "    </tr>\n",
              "    <tr>\n",
              "      <th>2022</th>\n",
              "      <td>What songs did he write and record?</td>\n",
              "      <td>What songs were on the album There Goes Rhymin...</td>\n",
              "    </tr>\n",
              "    <tr>\n",
              "      <th>3315</th>\n",
              "      <td>what happened to Roxette's international career?</td>\n",
              "      <td>How did Roxette do in the US?</td>\n",
              "    </tr>\n",
              "    <tr>\n",
              "      <th>3503</th>\n",
              "      <td>Where did it place on the charts?</td>\n",
              "      <td>How did \"Gotta Get Away\" do on the charts?</td>\n",
              "    </tr>\n",
              "    <tr>\n",
              "      <th>4695</th>\n",
              "      <td>In what episode did this topic emerge?</td>\n",
              "      <td>When does Kramer first appear in the show?</td>\n",
              "    </tr>\n",
              "    <tr>\n",
              "      <th>4611</th>\n",
              "      <td>What kind of equipment failures were there?</td>\n",
              "      <td>What happened to the rover on sol 778?</td>\n",
              "    </tr>\n",
              "    <tr>\n",
              "      <th>4419</th>\n",
              "      <td>How did her husband help?</td>\n",
              "      <td>How long did it take to complete the piece?</td>\n",
              "    </tr>\n",
              "    <tr>\n",
              "      <th>2441</th>\n",
              "      <td>How did the team do in under Dalglish?</td>\n",
              "      <td>When did Dalglish become manager of Liverpool?</td>\n",
              "    </tr>\n",
              "    <tr>\n",
              "      <th>4004</th>\n",
              "      <td>Are there any other interesting aspects about ...</td>\n",
              "      <td>when did the bad seeds move to germany</td>\n",
              "    </tr>\n",
              "    <tr>\n",
              "      <th>1730</th>\n",
              "      <td>Are there any other interesting aspects about ...</td>\n",
              "      <td>What caused the spread of HIV?</td>\n",
              "    </tr>\n",
              "  </tbody>\n",
              "</table>\n",
              "</div>\n",
              "      <button class=\"colab-df-convert\" onclick=\"convertToInteractive('df-318a7a36-d020-4533-8097-88833d5a80f2')\"\n",
              "              title=\"Convert this dataframe to an interactive table.\"\n",
              "              style=\"display:none;\">\n",
              "        \n",
              "  <svg xmlns=\"http://www.w3.org/2000/svg\" height=\"24px\"viewBox=\"0 0 24 24\"\n",
              "       width=\"24px\">\n",
              "    <path d=\"M0 0h24v24H0V0z\" fill=\"none\"/>\n",
              "    <path d=\"M18.56 5.44l.94 2.06.94-2.06 2.06-.94-2.06-.94-.94-2.06-.94 2.06-2.06.94zm-11 1L8.5 8.5l.94-2.06 2.06-.94-2.06-.94L8.5 2.5l-.94 2.06-2.06.94zm10 10l.94 2.06.94-2.06 2.06-.94-2.06-.94-.94-2.06-.94 2.06-2.06.94z\"/><path d=\"M17.41 7.96l-1.37-1.37c-.4-.4-.92-.59-1.43-.59-.52 0-1.04.2-1.43.59L10.3 9.45l-7.72 7.72c-.78.78-.78 2.05 0 2.83L4 21.41c.39.39.9.59 1.41.59.51 0 1.02-.2 1.41-.59l7.78-7.78 2.81-2.81c.8-.78.8-2.07 0-2.86zM5.41 20L4 18.59l7.72-7.72 1.47 1.35L5.41 20z\"/>\n",
              "  </svg>\n",
              "      </button>\n",
              "      \n",
              "  <style>\n",
              "    .colab-df-container {\n",
              "      display:flex;\n",
              "      flex-wrap:wrap;\n",
              "      gap: 12px;\n",
              "    }\n",
              "\n",
              "    .colab-df-convert {\n",
              "      background-color: #E8F0FE;\n",
              "      border: none;\n",
              "      border-radius: 50%;\n",
              "      cursor: pointer;\n",
              "      display: none;\n",
              "      fill: #1967D2;\n",
              "      height: 32px;\n",
              "      padding: 0 0 0 0;\n",
              "      width: 32px;\n",
              "    }\n",
              "\n",
              "    .colab-df-convert:hover {\n",
              "      background-color: #E2EBFA;\n",
              "      box-shadow: 0px 1px 2px rgba(60, 64, 67, 0.3), 0px 1px 3px 1px rgba(60, 64, 67, 0.15);\n",
              "      fill: #174EA6;\n",
              "    }\n",
              "\n",
              "    [theme=dark] .colab-df-convert {\n",
              "      background-color: #3B4455;\n",
              "      fill: #D2E3FC;\n",
              "    }\n",
              "\n",
              "    [theme=dark] .colab-df-convert:hover {\n",
              "      background-color: #434B5C;\n",
              "      box-shadow: 0px 1px 3px 1px rgba(0, 0, 0, 0.15);\n",
              "      filter: drop-shadow(0px 1px 2px rgba(0, 0, 0, 0.3));\n",
              "      fill: #FFFFFF;\n",
              "    }\n",
              "  </style>\n",
              "\n",
              "      <script>\n",
              "        const buttonEl =\n",
              "          document.querySelector('#df-318a7a36-d020-4533-8097-88833d5a80f2 button.colab-df-convert');\n",
              "        buttonEl.style.display =\n",
              "          google.colab.kernel.accessAllowed ? 'block' : 'none';\n",
              "\n",
              "        async function convertToInteractive(key) {\n",
              "          const element = document.querySelector('#df-318a7a36-d020-4533-8097-88833d5a80f2');\n",
              "          const dataTable =\n",
              "            await google.colab.kernel.invokeFunction('convertToInteractive',\n",
              "                                                     [key], {});\n",
              "          if (!dataTable) return;\n",
              "\n",
              "          const docLinkHtml = 'Like what you see? Visit the ' +\n",
              "            '<a target=\"_blank\" href=https://colab.research.google.com/notebooks/data_table.ipynb>data table notebook</a>'\n",
              "            + ' to learn more about interactive tables.';\n",
              "          element.innerHTML = '';\n",
              "          dataTable['output_type'] = 'display_data';\n",
              "          await google.colab.output.renderOutput(dataTable, element);\n",
              "          const docLink = document.createElement('div');\n",
              "          docLink.innerHTML = docLinkHtml;\n",
              "          element.appendChild(docLink);\n",
              "        }\n",
              "      </script>\n",
              "    </div>\n",
              "  </div>\n",
              "  "
            ],
            "application/vnd.google.colaboratory.module+javascript": "\n      import \"https://ssl.gstatic.com/colaboratory/data_table/a8bd4d5e58f96183/data_table.js\";\n\n      window.createDataTable({\n        data: [[{\n            'v': 5429,\n            'f': \"5429\",\n        },\n\"What did their business consist of?\",\n\"What did Chagall do with Ambroise Vollard?\"],\n [{\n            'v': 2022,\n            'f': \"2022\",\n        },\n\"What songs did he write and record?\",\n\"What songs were on the album There Goes Rhymin' Simon?\"],\n [{\n            'v': 3315,\n            'f': \"3315\",\n        },\n\"what happened to Roxette's international career?\",\n\"How did Roxette do in the US?\"],\n [{\n            'v': 3503,\n            'f': \"3503\",\n        },\n\"Where did it place on the charts?\",\n\"How did \\\"Gotta Get Away\\\" do on the charts?\"],\n [{\n            'v': 4695,\n            'f': \"4695\",\n        },\n\"In what episode did this topic emerge?\",\n\"When does Kramer first appear in the show?\"],\n [{\n            'v': 4611,\n            'f': \"4611\",\n        },\n\"What kind of equipment failures were there?\",\n\"What happened to the rover on sol 778?\"],\n [{\n            'v': 4419,\n            'f': \"4419\",\n        },\n\"How did her husband help?\",\n\"How long did it take to complete the piece?\"],\n [{\n            'v': 2441,\n            'f': \"2441\",\n        },\n\"How did the team do in under Dalglish?\",\n\"When did Dalglish become manager of Liverpool?\"],\n [{\n            'v': 4004,\n            'f': \"4004\",\n        },\n\"Are there any other interesting aspects about this article?\",\n\"when did the bad seeds move to germany\"],\n [{\n            'v': 1730,\n            'f': \"1730\",\n        },\n\"Are there any other interesting aspects about this article?\",\n\"What caused the spread of HIV?\"]],\n        columns: [[\"number\", \"index\"], [\"string\", \"target\"], [\"string\", \"prediction\"]],\n        columnOptions: [{\"width\": \"1px\", \"className\": \"index_column\"}],\n        rowsPerPage: 25,\n        helpUrl: \"https://colab.research.google.com/notebooks/data_table.ipynb\",\n        suppressOutputScrolling: true,\n        minimumWidth: undefined,\n      });\n    "
          },
          "metadata": {},
          "execution_count": 11
        }
      ]
    }
  ],
  "metadata": {
    "colab": {
      "collapsed_sections": [],
      "provenance": [],
      "include_colab_link": true
    },
    "gpuClass": "premium",
    "kernelspec": {
      "display_name": "Python 3 (ipykernel)",
      "language": "python",
      "name": "python3"
    },
    "language_info": {
      "codemirror_mode": {
        "name": "ipython",
        "version": 3
      },
      "file_extension": ".py",
      "mimetype": "text/x-python",
      "name": "python",
      "nbconvert_exporter": "python",
      "pygments_lexer": "ipython3",
      "version": "3.9.12"
    }
  },
  "nbformat": 4,
  "nbformat_minor": 0
}