{
  "cells": [
    {
      "cell_type": "markdown",
      "metadata": {
        "id": "view-in-github",
        "colab_type": "text"
      },
      "source": [
        "<a href=\"https://colab.research.google.com/github/jeanlucjackson/w266_final_project/blob/main/code/inference/awesome_T5_pt_inference.ipynb\" target=\"_parent\"><img src=\"https://colab.research.google.com/assets/colab-badge.svg\" alt=\"Open In Colab\"/></a>"
      ]
    },
    {
      "cell_type": "markdown",
      "source": [
        "### Generate Predictions From An Awesome Validation Dataset\n",
        "\n",
        "This notebook assumes a T5 PyTorch model.\n",
        "\n",
        "Setting the constants in the next call should be all that is necessary to run the validation set."
      ],
      "metadata": {
        "id": "Hh-4vVXTMhpC"
      }
    },
    {
      "cell_type": "code",
      "source": [
        "# Set these constants for each model and validation dataset combination\n",
        "\n",
        "model_name = \"T5_base_pt_long.quac\"\n",
        "validation_dataset_name = \"quac\"\n",
        "\n",
        "save_predictions = True\n",
        "save_mode = 'w' # w for write, a for append\n",
        "\n",
        "max_length = 1024 # 1024 for long model and 512 otherwise\n",
        "batch_size = 200\n",
        "\n",
        "start_sample = None  # If None, then 0 will be used\n",
        "end_sample = None # If None, then the end of the set will be used"
      ],
      "metadata": {
        "id": "rlCLzceMMahp"
      },
      "execution_count": 1,
      "outputs": []
    },
    {
      "cell_type": "markdown",
      "source": [
        "### Generate Predictions"
      ],
      "metadata": {
        "id": "fJ8lW8X8NJ9o"
      }
    },
    {
      "cell_type": "code",
      "execution_count": null,
      "metadata": {
        "id": "c3906UT0dyke"
      },
      "outputs": [],
      "source": [
        "!pip install -q transformers"
      ]
    },
    {
      "cell_type": "code",
      "execution_count": null,
      "metadata": {
        "id": "vBX23WXdd0v-"
      },
      "outputs": [],
      "source": [
        "!pip install -q sentencepiece"
      ]
    },
    {
      "cell_type": "code",
      "execution_count": null,
      "metadata": {
        "colab": {
          "base_uri": "https://localhost:8080/"
        },
        "id": "17N1XaF7d6dW",
        "outputId": "eb7168e9-0098-4b58-c795-515a18ca53b7"
      },
      "outputs": [
        {
          "output_type": "stream",
          "name": "stdout",
          "text": [
            "Drive already mounted at /content/drive; to attempt to forcibly remount, call drive.mount(\"/content/drive\", force_remount=True).\n"
          ]
        }
      ],
      "source": [
        "from google.colab import drive\n",
        "drive.mount('/content/drive')"
      ]
    },
    {
      "cell_type": "code",
      "execution_count": null,
      "metadata": {
        "id": "3jvE9TJRd4cG"
      },
      "outputs": [],
      "source": [
        "import os\n",
        "import numpy as np\n",
        "import pandas as pd\n",
        "\n",
        "import torch\n",
        "from transformers import T5Tokenizer, T5ForConditionalGeneration\n",
        "\n",
        "import warnings\n",
        "warnings.simplefilter(action='ignore', category=FutureWarning)\n",
        "\n",
        "from google.colab import data_table\n",
        "data_table.enable_dataframe_formatter()"
      ]
    },
    {
      "cell_type": "code",
      "execution_count": null,
      "metadata": {
        "id": "iMHoUiDnd9He"
      },
      "outputs": [],
      "source": [
        "# Some important file locations and constants\n",
        "\n",
        "project_root = \"/content/drive/MyDrive/w266 NLP Final Project/\"\n",
        "dataset_root = project_root + \"Data/\"\n",
        "model_root = project_root + \"Models/\"\n",
        "prediction_folder = project_root + \"Predictions/\"\n",
        "\n",
        "tokenizer = \"google/t5-v1_1-base\"\n",
        "\n",
        "model_folder = model_root + model_name\n",
        "\n",
        "validation_data_file = f\"{dataset_root}squad.hf/valid_pairs.csv\"\n",
        "if validation_dataset_name != \"squad\":\n",
        "  validation_data_file = f\"{dataset_root}{validation_dataset_name}/valid_pairs.csv\"\n",
        "\n",
        "prediction_file = f\"{prediction_folder}predictions.{model_name}.{validation_dataset_name}.csv\""
      ]
    },
    {
      "cell_type": "code",
      "execution_count": null,
      "metadata": {
        "colab": {
          "base_uri": "https://localhost:8080/",
          "height": 1239
        },
        "id": "aq5h729KfB5F",
        "outputId": "c92e0766-1a8c-4398-d6fe-81169189a7e6"
      },
      "outputs": [
        {
          "output_type": "execute_result",
          "data": {
            "text/plain": [
              "                                                orig  \\\n",
              "0  generate question: answer: one context: Goliat...   \n",
              "1  generate question: answer: Apaches context: Ge...   \n",
              "\n",
              "                                              target  \n",
              "0  When David killed Goliath, how many of his fiv...  \n",
              "1  Of which tribe of Red Indians was Geronimo a c...  "
            ],
            "text/html": [
              "\n",
              "  <div id=\"df-46fab319-8a27-4c18-bc0d-928ab63b447e\">\n",
              "    <div class=\"colab-df-container\">\n",
              "      <div>\n",
              "<style scoped>\n",
              "    .dataframe tbody tr th:only-of-type {\n",
              "        vertical-align: middle;\n",
              "    }\n",
              "\n",
              "    .dataframe tbody tr th {\n",
              "        vertical-align: top;\n",
              "    }\n",
              "\n",
              "    .dataframe thead th {\n",
              "        text-align: right;\n",
              "    }\n",
              "</style>\n",
              "<table border=\"1\" class=\"dataframe\">\n",
              "  <thead>\n",
              "    <tr style=\"text-align: right;\">\n",
              "      <th></th>\n",
              "      <th>orig</th>\n",
              "      <th>target</th>\n",
              "    </tr>\n",
              "  </thead>\n",
              "  <tbody>\n",
              "    <tr>\n",
              "      <th>0</th>\n",
              "      <td>generate question: answer: one context: Goliat...</td>\n",
              "      <td>When David killed Goliath, how many of his fiv...</td>\n",
              "    </tr>\n",
              "    <tr>\n",
              "      <th>1</th>\n",
              "      <td>generate question: answer: Apaches context: Ge...</td>\n",
              "      <td>Of which tribe of Red Indians was Geronimo a c...</td>\n",
              "    </tr>\n",
              "  </tbody>\n",
              "</table>\n",
              "</div>\n",
              "      <button class=\"colab-df-convert\" onclick=\"convertToInteractive('df-46fab319-8a27-4c18-bc0d-928ab63b447e')\"\n",
              "              title=\"Convert this dataframe to an interactive table.\"\n",
              "              style=\"display:none;\">\n",
              "        \n",
              "  <svg xmlns=\"http://www.w3.org/2000/svg\" height=\"24px\"viewBox=\"0 0 24 24\"\n",
              "       width=\"24px\">\n",
              "    <path d=\"M0 0h24v24H0V0z\" fill=\"none\"/>\n",
              "    <path d=\"M18.56 5.44l.94 2.06.94-2.06 2.06-.94-2.06-.94-.94-2.06-.94 2.06-2.06.94zm-11 1L8.5 8.5l.94-2.06 2.06-.94-2.06-.94L8.5 2.5l-.94 2.06-2.06.94zm10 10l.94 2.06.94-2.06 2.06-.94-2.06-.94-.94-2.06-.94 2.06-2.06.94z\"/><path d=\"M17.41 7.96l-1.37-1.37c-.4-.4-.92-.59-1.43-.59-.52 0-1.04.2-1.43.59L10.3 9.45l-7.72 7.72c-.78.78-.78 2.05 0 2.83L4 21.41c.39.39.9.59 1.41.59.51 0 1.02-.2 1.41-.59l7.78-7.78 2.81-2.81c.8-.78.8-2.07 0-2.86zM5.41 20L4 18.59l7.72-7.72 1.47 1.35L5.41 20z\"/>\n",
              "  </svg>\n",
              "      </button>\n",
              "      \n",
              "  <style>\n",
              "    .colab-df-container {\n",
              "      display:flex;\n",
              "      flex-wrap:wrap;\n",
              "      gap: 12px;\n",
              "    }\n",
              "\n",
              "    .colab-df-convert {\n",
              "      background-color: #E8F0FE;\n",
              "      border: none;\n",
              "      border-radius: 50%;\n",
              "      cursor: pointer;\n",
              "      display: none;\n",
              "      fill: #1967D2;\n",
              "      height: 32px;\n",
              "      padding: 0 0 0 0;\n",
              "      width: 32px;\n",
              "    }\n",
              "\n",
              "    .colab-df-convert:hover {\n",
              "      background-color: #E2EBFA;\n",
              "      box-shadow: 0px 1px 2px rgba(60, 64, 67, 0.3), 0px 1px 3px 1px rgba(60, 64, 67, 0.15);\n",
              "      fill: #174EA6;\n",
              "    }\n",
              "\n",
              "    [theme=dark] .colab-df-convert {\n",
              "      background-color: #3B4455;\n",
              "      fill: #D2E3FC;\n",
              "    }\n",
              "\n",
              "    [theme=dark] .colab-df-convert:hover {\n",
              "      background-color: #434B5C;\n",
              "      box-shadow: 0px 1px 3px 1px rgba(0, 0, 0, 0.15);\n",
              "      filter: drop-shadow(0px 1px 2px rgba(0, 0, 0, 0.3));\n",
              "      fill: #FFFFFF;\n",
              "    }\n",
              "  </style>\n",
              "\n",
              "      <script>\n",
              "        const buttonEl =\n",
              "          document.querySelector('#df-46fab319-8a27-4c18-bc0d-928ab63b447e button.colab-df-convert');\n",
              "        buttonEl.style.display =\n",
              "          google.colab.kernel.accessAllowed ? 'block' : 'none';\n",
              "\n",
              "        async function convertToInteractive(key) {\n",
              "          const element = document.querySelector('#df-46fab319-8a27-4c18-bc0d-928ab63b447e');\n",
              "          const dataTable =\n",
              "            await google.colab.kernel.invokeFunction('convertToInteractive',\n",
              "                                                     [key], {});\n",
              "          if (!dataTable) return;\n",
              "\n",
              "          const docLinkHtml = 'Like what you see? Visit the ' +\n",
              "            '<a target=\"_blank\" href=https://colab.research.google.com/notebooks/data_table.ipynb>data table notebook</a>'\n",
              "            + ' to learn more about interactive tables.';\n",
              "          element.innerHTML = '';\n",
              "          dataTable['output_type'] = 'display_data';\n",
              "          await google.colab.output.renderOutput(dataTable, element);\n",
              "          const docLink = document.createElement('div');\n",
              "          docLink.innerHTML = docLinkHtml;\n",
              "          element.appendChild(docLink);\n",
              "        }\n",
              "      </script>\n",
              "    </div>\n",
              "  </div>\n",
              "  "
            ],
            "application/vnd.google.colaboratory.module+javascript": "\n      import \"https://ssl.gstatic.com/colaboratory/data_table/a8bd4d5e58f96183/data_table.js\";\n\n      window.createDataTable({\n        data: [[{\n            'v': 0,\n            'f': \"0\",\n        },\n\"generate question: answer: one context: Goliath ( ; ; Arabic : \\u062c\\u0627\\u0644\\u0648\\u062a , \\u01e6\\u0101l\\u016bt ( Qur'anic term ) , \\u062c\\u0644\\u064a\\u0627\\u062a \\u01e6uly\\u0101t ( Christian term ) ) of Gath ( one of five city states of the Philistines ) was a giant Philistine warrior defeated by the young David , the future king of Israel . The story is told in the Bible 's Books of Samuel ( 1 Samuel 17 ) . \\n \\n The original purpose of the story was to show David 's identity as the true king of Israel . Post-Classical Jewish traditions stressed Goliath 's status as the representative of paganism , in contrast to David , the champion of the God of Israel . Christian tradition gave him a distinctively Christian perspective , seeing in David 's battle with Goliath the victory of God 's king over the enemies of God 's helpless people as a prefiguring of Jesus ' victory over sin on the cross and the Church 's victory over Satan . \\n \\n The phrase `` David and Goliath '' has taken on a more secular meaning , denoting an underdog situation , a contest where a smaller , weaker opponent faces a much bigger , stronger adversary . \\n \\n Biblical account \\n \\n The Goliath narrative in 1 Samuel 17 \\n \\n The account of the battle between David and Goliath is told in 1 Samuel , chapter 17 . Saul and the Israelites are facing the Philistines near the Valley of Elah . Twice a day for 40 days , Goliath , the champion of the Philistines , comes out between the lines and challenges the Israelites to send out a champion of their own to decide the outcome in single combat , but Saul and all the Israelites are afraid . David , bringing food for his elder brothers , hears that Goliath had defied the armies of God and of the reward from Saul to the one that defeats him , and accepts the challenge . Saul reluctantly agrees and offers his armor , which David declines , taking only his staff , sling ( q\\u0101la \\u2018 ) and five stones from a brook . \\n \\n David and Goliath confront each other , Goliath with his armor and javelin , David with his staff and sling . `` The Philistine cursed David by his gods '' , but David replies : `` This day the will deliver you into my hand , and I will strike you down ; and I will give the dead bodies of the host of the Philistines this day to the birds of the air and to the wild beasts of the earth ; that all the earth may know that there is a God in Israel , and that all this assembly may know that God saves not with sword and spear ; for the battle is God \\u2019 s , and he will give you into our hand . '' \\n \\n David hurls a stone from his sling with all his might and hits Goliath in the center of his forehead , Goliath falls on his face to the ground , and David cuts off his head . The Philistines flee and are pursued by the Israelites `` as far as Gath and the gates of Ekron '' . David puts the armor of Goliath in his own tent and takes the head to Jerusalem , and Saul sends Abner to bring the boy to him . The king asks whose son he is , and David answers , `` I am the son of your servant Jesse the Bethlehemite . '' \\n \\n Composition of the Book of Samuel and the Goliath narrative \\n \\n The Book of Samuel , together with the books of Joshua , Judges and Kings , make up a unified history of Israel stretching from the entry into Canaan to the early Babylonian exile of the 6th century BCE , which biblical scholars call the Deuteronomistic history . The first edition of the history was probably written at the court of Judah 's King Josiah ( late 7th century ) and a revised second edition during the exile ( 6th century ) , with further revisions in the post-exilic period . The Goliath story contains the traces of this in its many contradictions and illogicalities - to take a few examples , Saul finds it necessary to send for David when as the king 's shield-bearer he should already be beside his royal master , and he has to ask who David is , which sits strangely with David 's status at his court . These signs indicate that the Goliath story is made up of base-narrative with numerous additions made probably after the exile . \\n \\n Original\",\n\"When David killed Goliath, how many of his five stones did he use?\"],\n [{\n            'v': 1,\n            'f': \"1\",\n        },\n\"generate question: answer: Apaches context: Geronimo ( `` the one who yawns '' ; June 16 , 1829 \\u2013 February 17 , 1909 ) was a prominent leader from the Bedonkohe band of the Chiricahua Apache tribe . From 1850 to 1886 Geronimo joined with members of three other Chiricahua Apache bands\\u2014the Chihenne , the Chokonen and the Nednhi\\u2014to carry out numerous raids as well as resistance to US and Mexican military campaigns in the northern Mexico states of Chihuahua and Sonora , and in the southwestern American territories of New Mexico and Arizona . Geronimo 's raids and related combat actions were a part of the prolonged period of the Apache-American conflict , that started with American settlement in Apache lands following the end of the war with Mexico in 1848 . The Apache-American conflict was itself a direct outgrowth of the much older Apache-Mexican conflict which had been ongoing in the same general area since the beginning of Mexican/Spanish settlement in the 1600s . \\n \\n During the centuries of Apache-Mexican and Apache-American conflict , raiding had become embedded in the Apache way of life , used not only for strategic purposes but also as an economic enterprise , and often there was overlap between raids for economic need and warfare . Raids ranged from stealing livestock and other plunder , to the capture and/or violent killing of victims , sometimes by torture . Mexicans and Americans responded with retaliation attacks against the Apache which were no less violent , and were often indiscriminate . The raiding and retaliation fed the fires of a virulent revenge warfare that reverberated back and forth between Apaches and Mexicans and later , Apaches and Americans . This was a deadly , brutal and barbaric business for all sides . From 1850 to 1886 Geronimo as well as other Apache leaders conducted raids and carried on revenge warfare , but Geronimo accumulated a record during this time that matched any of his contemporaries , and his fighting ability extending over 30 years form a major characteristic of his persona . \\n \\n Geronimo was not counted a chief among the Apache . At any one time , only about 30 to 50 Apaches would be numbered among his personal following . However , since he was a superb leader in raiding and revenge warfare he frequently led numbers larger than his own following . Among Geronimo 's own Chiricahua tribe many had mixed feelings about him\\u2014while respected as a skilled and effective leader of raids or warfare , he emerges as not very likable , and he was not widely popular among the other Apache . Nevertheless , Apache people stood in awe of Geronimo 's `` powers '' which he demonstrated to them on a series of occasions . These powers indicated to other Apaches that Geronimo had super-natural gifts that he could use for good or ill . In eye-witness accounts by other Apaches , Geronimo was able to become aware of distant events as they happened , and he was able to anticipate events that were in the future . He also demonstrated powers to heal other Apaches . \\n \\n Early in his life , Geronimo became invested in the continuing and relentless cycle of revenge warfare between Apache and Mexican . On March 5 , 1851 , when Geronimo was in his 20 's , a force of Mexican militia from Sonora under Colonel Jose Maria Carrasco attacked and surprised an Apache camp outside of Janos , Chihuahua , slaughtering the inhabitants which included Geronimo 's family . Col. Carrasco claimed he had followed the Apaches to Janos , Chihuahua after they had conducted a raid in Sonora , taken livestock and other plunder and badly defeated Mexican militia . Geronimo was absent at the time of the attack on the Apache camp , but when he returned he found that his mother , wife , and his three children were among the dead . In retaliation , Geronimo joined in an extended series of revenge attacks against the Mexicans . This event left Geronimo with a bitter and very personal hatred for Mexicans , and he often killed them indiscriminately and with a special vehemence . Throughout Geronimo 's adult life his antipathy , suspicion and dislike for Mexicans was demonstrably greater than for Americans . \\n \\n During Geronimo 's final period of conflict from 1876 to 1886 he `` surrendered '' three times and accepted life on the Apache reservations in Arizona . Reservation life was confining to the free-moving Apache people , and they resented restrictions on their customary way of life . While Apaches were shielded from the violence of warfare on the reservation , disability and death from diseases like malaria was much more prevalent .\",\n\"Of which tribe of Red Indians was Geronimo a chief\"]],\n        columns: [[\"number\", \"index\"], [\"string\", \"orig\"], [\"string\", \"target\"]],\n        columnOptions: [{\"width\": \"1px\", \"className\": \"index_column\"}],\n        rowsPerPage: 25,\n        helpUrl: \"https://colab.research.google.com/notebooks/data_table.ipynb\",\n        suppressOutputScrolling: true,\n        minimumWidth: undefined,\n      });\n    "
          },
          "metadata": {},
          "execution_count": 7
        }
      ],
      "source": [
        "validation_df = pd.read_csv(validation_data_file)\n",
        "validation_df[['orig', 'target']][:2]"
      ]
    },
    {
      "cell_type": "code",
      "source": [
        "validation_df.shape[0]"
      ],
      "metadata": {
        "colab": {
          "base_uri": "https://localhost:8080/"
        },
        "id": "za89_yTEQE3j",
        "outputId": "6cf6fc89-feac-421c-c8ea-7d2a56383a60"
      },
      "execution_count": null,
      "outputs": [
        {
          "output_type": "execute_result",
          "data": {
            "text/plain": [
              "9835"
            ]
          },
          "metadata": {},
          "execution_count": 8
        }
      ]
    },
    {
      "cell_type": "code",
      "execution_count": null,
      "metadata": {
        "id": "VHLLVOB4fG5W"
      },
      "outputs": [],
      "source": [
        "# Download tokenizer and model, associate the model with the GPU\n",
        "\n",
        "t5_tokenizer = T5Tokenizer.from_pretrained(tokenizer)\n",
        "t5_model = T5ForConditionalGeneration.from_pretrained(model_folder)\n",
        "t5_model.to(torch.device('cuda:0'))\n",
        "pass"
      ]
    },
    {
      "cell_type": "code",
      "source": [
        "predictions = []\n",
        "\n",
        "if start_sample is None:\n",
        "  start_sample = 0\n",
        "\n",
        "if end_sample is None:\n",
        "  end_sample = validation_df.shape[0]\n",
        "\n",
        "print(f\"Generating predictions from {start_sample} to {end_sample}:\")\n",
        "for start in range (start_sample, end_sample, batch_size):\n",
        "  to = min([end_sample, start + batch_size])\n",
        "  inputs = t5_tokenizer(validation_df['orig'][start:to].to_list(), return_tensors='pt', max_length=max_length, truncation=True, padding=True)\n",
        "  output_ids = t5_model.generate(inputs['input_ids'].cuda(), max_length=max_length)\n",
        "  prediction_batch = t5_tokenizer.batch_decode(output_ids, skip_special_tokens=True)\n",
        "  predictions.extend(prediction_batch)\n",
        "  print (f\"{to} \", end=\"\")\n",
        "  if to%1000 == 0: print()\n",
        "print(\"Predictions generated.\")"
      ],
      "metadata": {
        "id": "wnD8aDG2_GpV",
        "colab": {
          "base_uri": "https://localhost:8080/"
        },
        "outputId": "d7277f5a-53fc-4889-dc8f-0dfe5762160a"
      },
      "execution_count": null,
      "outputs": [
        {
          "output_type": "stream",
          "name": "stdout",
          "text": [
            "Generating predictions from 5000 to 9835:\n",
            "5050 5100 5150 5200 5250 5300 5350 5400 5450 5500 5550 5600 5650 5700 5750 5800 5850 5900 5950 6000 \n",
            "6050 6100 6150 6200 6250 6300 6350 6400 6450 6500 6550 6600 6650 6700 6750 6800 6850 6900 6950 7000 \n",
            "7050 7100 7150 7200 7250 7300 7350 7400 7450 7500 7550 7600 7650 7700 7750 7800 7850 7900 7950 8000 \n",
            "8050 8100 8150 8200 8250 8300 8350 8400 8450 8500 8550 8600 8650 8700 8750 8800 8850 8900 8950 9000 \n",
            "9050 9100 9150 9200 9250 9300 9350 9400 9450 9500 9550 9600 9650 9700 9750 9800 9835 Predictions generated.\n"
          ]
        }
      ]
    },
    {
      "cell_type": "code",
      "execution_count": null,
      "metadata": {
        "id": "fBYDU6c8jMoU"
      },
      "outputs": [],
      "source": [
        "df=pd.DataFrame()\n",
        "df['context'] = [str.split('context: ')[1] for str in validation_df['orig'][start_sample:end_sample]]\n",
        "df['answer'] =  [str.split('context: ')[0][26: ] for str in validation_df['orig'][start_sample:end_sample]]\n",
        "df['target'] = validation_df['target']\n",
        "df['prediction'] = predictions"
      ]
    },
    {
      "cell_type": "code",
      "execution_count": null,
      "metadata": {
        "colab": {
          "base_uri": "https://localhost:8080/",
          "height": 7621
        },
        "id": "hILCbzSCzLBY",
        "outputId": "2485e66e-77ae-42fe-cb86-308b93b9c2ee"
      },
      "outputs": [
        {
          "output_type": "execute_result",
          "data": {
            "text/plain": [
              "                                             context  \\\n",
              "0  The Moon Is a Harsh Mistress is a 1966 science...   \n",
              "1  John Davison Rockefeller Sr. ( July 8 , 1839 –...   \n",
              "2  Tallahassee is the capital of the U.S. state o...   \n",
              "3  Sweeney Todd is a fictional character who firs...   \n",
              "4  The Battle of Salamanca ( in French and Spanis...   \n",
              "5  Florence Nightingale , ( ; 12 May 1820 – 13 Au...   \n",
              "6  H.M.S . Pinafore ; or , The Lass That Loved a ...   \n",
              "7  The United States presidential election of 195...   \n",
              "8  is the luxury vehicle marque of Japanese autom...   \n",
              "9  Hair loss , also known as alopecia or baldness...   \n",
              "\n",
              "                     answer  \\\n",
              "0       Robert A. Heinlein    \n",
              "1             Standard Oil    \n",
              "2              Tallahassee    \n",
              "3             Fleet Street    \n",
              "4       Duke of Wellington    \n",
              "5   The Lady with the Lamp    \n",
              "6     Gilbert and Sullivan    \n",
              "7               Eisenhower    \n",
              "8               Honda Clio    \n",
              "9                     Hair    \n",
              "\n",
              "                                              target  \\\n",
              "0  When David killed Goliath, how many of his fiv...   \n",
              "1  Of which tribe of Red Indians was Geronimo a c...   \n",
              "2  According to Jewish tradition, whose chair is ...   \n",
              "3  What island is shared by Haiti and the Dominic...   \n",
              "4  In humans, the medical condition Hyposmia affe...   \n",
              "5  Which hit for 'Wet Wet Wet' was the biggest-se...   \n",
              "6  What American industrialist is credited as the...   \n",
              "7  What became the last city on earth to experien...   \n",
              "8  What is the more common name for the order Col...   \n",
              "9  When introduced into Britain in 1752, what cau...   \n",
              "\n",
              "                                          prediction  \n",
              "0  What was the most interesting aspects about th...  \n",
              "1                            What was his first job?  \n",
              "2                       What was his first position?  \n",
              "3                           What was his first name?  \n",
              "4                             What was the military?  \n",
              "5                           What was her first name?  \n",
              "6                         What was her first career?  \n",
              "7                       What was his first position?  \n",
              "8                                  What was the car?  \n",
              "9                              What was the disease?  "
            ],
            "text/html": [
              "\n",
              "  <div id=\"df-1a124982-89b0-4880-a96d-4e4a02456a20\">\n",
              "    <div class=\"colab-df-container\">\n",
              "      <div>\n",
              "<style scoped>\n",
              "    .dataframe tbody tr th:only-of-type {\n",
              "        vertical-align: middle;\n",
              "    }\n",
              "\n",
              "    .dataframe tbody tr th {\n",
              "        vertical-align: top;\n",
              "    }\n",
              "\n",
              "    .dataframe thead th {\n",
              "        text-align: right;\n",
              "    }\n",
              "</style>\n",
              "<table border=\"1\" class=\"dataframe\">\n",
              "  <thead>\n",
              "    <tr style=\"text-align: right;\">\n",
              "      <th></th>\n",
              "      <th>context</th>\n",
              "      <th>answer</th>\n",
              "      <th>target</th>\n",
              "      <th>prediction</th>\n",
              "    </tr>\n",
              "  </thead>\n",
              "  <tbody>\n",
              "    <tr>\n",
              "      <th>0</th>\n",
              "      <td>The Moon Is a Harsh Mistress is a 1966 science...</td>\n",
              "      <td>Robert A. Heinlein</td>\n",
              "      <td>When David killed Goliath, how many of his fiv...</td>\n",
              "      <td>What was the most interesting aspects about th...</td>\n",
              "    </tr>\n",
              "    <tr>\n",
              "      <th>1</th>\n",
              "      <td>John Davison Rockefeller Sr. ( July 8 , 1839 –...</td>\n",
              "      <td>Standard Oil</td>\n",
              "      <td>Of which tribe of Red Indians was Geronimo a c...</td>\n",
              "      <td>What was his first job?</td>\n",
              "    </tr>\n",
              "    <tr>\n",
              "      <th>2</th>\n",
              "      <td>Tallahassee is the capital of the U.S. state o...</td>\n",
              "      <td>Tallahassee</td>\n",
              "      <td>According to Jewish tradition, whose chair is ...</td>\n",
              "      <td>What was his first position?</td>\n",
              "    </tr>\n",
              "    <tr>\n",
              "      <th>3</th>\n",
              "      <td>Sweeney Todd is a fictional character who firs...</td>\n",
              "      <td>Fleet Street</td>\n",
              "      <td>What island is shared by Haiti and the Dominic...</td>\n",
              "      <td>What was his first name?</td>\n",
              "    </tr>\n",
              "    <tr>\n",
              "      <th>4</th>\n",
              "      <td>The Battle of Salamanca ( in French and Spanis...</td>\n",
              "      <td>Duke of Wellington</td>\n",
              "      <td>In humans, the medical condition Hyposmia affe...</td>\n",
              "      <td>What was the military?</td>\n",
              "    </tr>\n",
              "    <tr>\n",
              "      <th>5</th>\n",
              "      <td>Florence Nightingale , ( ; 12 May 1820 – 13 Au...</td>\n",
              "      <td>The Lady with the Lamp</td>\n",
              "      <td>Which hit for 'Wet Wet Wet' was the biggest-se...</td>\n",
              "      <td>What was her first name?</td>\n",
              "    </tr>\n",
              "    <tr>\n",
              "      <th>6</th>\n",
              "      <td>H.M.S . Pinafore ; or , The Lass That Loved a ...</td>\n",
              "      <td>Gilbert and Sullivan</td>\n",
              "      <td>What American industrialist is credited as the...</td>\n",
              "      <td>What was her first career?</td>\n",
              "    </tr>\n",
              "    <tr>\n",
              "      <th>7</th>\n",
              "      <td>The United States presidential election of 195...</td>\n",
              "      <td>Eisenhower</td>\n",
              "      <td>What became the last city on earth to experien...</td>\n",
              "      <td>What was his first position?</td>\n",
              "    </tr>\n",
              "    <tr>\n",
              "      <th>8</th>\n",
              "      <td>is the luxury vehicle marque of Japanese autom...</td>\n",
              "      <td>Honda Clio</td>\n",
              "      <td>What is the more common name for the order Col...</td>\n",
              "      <td>What was the car?</td>\n",
              "    </tr>\n",
              "    <tr>\n",
              "      <th>9</th>\n",
              "      <td>Hair loss , also known as alopecia or baldness...</td>\n",
              "      <td>Hair</td>\n",
              "      <td>When introduced into Britain in 1752, what cau...</td>\n",
              "      <td>What was the disease?</td>\n",
              "    </tr>\n",
              "  </tbody>\n",
              "</table>\n",
              "</div>\n",
              "      <button class=\"colab-df-convert\" onclick=\"convertToInteractive('df-1a124982-89b0-4880-a96d-4e4a02456a20')\"\n",
              "              title=\"Convert this dataframe to an interactive table.\"\n",
              "              style=\"display:none;\">\n",
              "        \n",
              "  <svg xmlns=\"http://www.w3.org/2000/svg\" height=\"24px\"viewBox=\"0 0 24 24\"\n",
              "       width=\"24px\">\n",
              "    <path d=\"M0 0h24v24H0V0z\" fill=\"none\"/>\n",
              "    <path d=\"M18.56 5.44l.94 2.06.94-2.06 2.06-.94-2.06-.94-.94-2.06-.94 2.06-2.06.94zm-11 1L8.5 8.5l.94-2.06 2.06-.94-2.06-.94L8.5 2.5l-.94 2.06-2.06.94zm10 10l.94 2.06.94-2.06 2.06-.94-2.06-.94-.94-2.06-.94 2.06-2.06.94z\"/><path d=\"M17.41 7.96l-1.37-1.37c-.4-.4-.92-.59-1.43-.59-.52 0-1.04.2-1.43.59L10.3 9.45l-7.72 7.72c-.78.78-.78 2.05 0 2.83L4 21.41c.39.39.9.59 1.41.59.51 0 1.02-.2 1.41-.59l7.78-7.78 2.81-2.81c.8-.78.8-2.07 0-2.86zM5.41 20L4 18.59l7.72-7.72 1.47 1.35L5.41 20z\"/>\n",
              "  </svg>\n",
              "      </button>\n",
              "      \n",
              "  <style>\n",
              "    .colab-df-container {\n",
              "      display:flex;\n",
              "      flex-wrap:wrap;\n",
              "      gap: 12px;\n",
              "    }\n",
              "\n",
              "    .colab-df-convert {\n",
              "      background-color: #E8F0FE;\n",
              "      border: none;\n",
              "      border-radius: 50%;\n",
              "      cursor: pointer;\n",
              "      display: none;\n",
              "      fill: #1967D2;\n",
              "      height: 32px;\n",
              "      padding: 0 0 0 0;\n",
              "      width: 32px;\n",
              "    }\n",
              "\n",
              "    .colab-df-convert:hover {\n",
              "      background-color: #E2EBFA;\n",
              "      box-shadow: 0px 1px 2px rgba(60, 64, 67, 0.3), 0px 1px 3px 1px rgba(60, 64, 67, 0.15);\n",
              "      fill: #174EA6;\n",
              "    }\n",
              "\n",
              "    [theme=dark] .colab-df-convert {\n",
              "      background-color: #3B4455;\n",
              "      fill: #D2E3FC;\n",
              "    }\n",
              "\n",
              "    [theme=dark] .colab-df-convert:hover {\n",
              "      background-color: #434B5C;\n",
              "      box-shadow: 0px 1px 3px 1px rgba(0, 0, 0, 0.15);\n",
              "      filter: drop-shadow(0px 1px 2px rgba(0, 0, 0, 0.3));\n",
              "      fill: #FFFFFF;\n",
              "    }\n",
              "  </style>\n",
              "\n",
              "      <script>\n",
              "        const buttonEl =\n",
              "          document.querySelector('#df-1a124982-89b0-4880-a96d-4e4a02456a20 button.colab-df-convert');\n",
              "        buttonEl.style.display =\n",
              "          google.colab.kernel.accessAllowed ? 'block' : 'none';\n",
              "\n",
              "        async function convertToInteractive(key) {\n",
              "          const element = document.querySelector('#df-1a124982-89b0-4880-a96d-4e4a02456a20');\n",
              "          const dataTable =\n",
              "            await google.colab.kernel.invokeFunction('convertToInteractive',\n",
              "                                                     [key], {});\n",
              "          if (!dataTable) return;\n",
              "\n",
              "          const docLinkHtml = 'Like what you see? Visit the ' +\n",
              "            '<a target=\"_blank\" href=https://colab.research.google.com/notebooks/data_table.ipynb>data table notebook</a>'\n",
              "            + ' to learn more about interactive tables.';\n",
              "          element.innerHTML = '';\n",
              "          dataTable['output_type'] = 'display_data';\n",
              "          await google.colab.output.renderOutput(dataTable, element);\n",
              "          const docLink = document.createElement('div');\n",
              "          docLink.innerHTML = docLinkHtml;\n",
              "          element.appendChild(docLink);\n",
              "        }\n",
              "      </script>\n",
              "    </div>\n",
              "  </div>\n",
              "  "
            ],
            "application/vnd.google.colaboratory.module+javascript": "\n      import \"https://ssl.gstatic.com/colaboratory/data_table/a8bd4d5e58f96183/data_table.js\";\n\n      window.createDataTable({\n        data: [[{\n            'v': 0,\n            'f': \"0\",\n        },\n\"The Moon Is a Harsh Mistress is a 1966 science fiction novel by American writer Robert A. Heinlein , about a Lunar colony 's revolt against rule from Earth . The novel expresses and discusses libertarian ideals . It is respected for its credible presentation of a comprehensively imagined future human society on both the Earth and the moon . \\n \\n Originally serialized in Worlds of If ( December 1965 , January , February , March , April 1966 ) , the book was nominated for the Nebula Award in 1966 . It received the Hugo Award for best science fiction novel in 1967 . \\n \\n Plot \\n \\n At the time of the story , 2075 , the Moon ( Luna ) is used as a penal colony by Earth 's government , with the inhabitants living in underground cities . Most inhabitants ( called `` Loonies '' ) are criminals , political exiles , or descendants thereof . The total population is about three million , with men outnumbering women two to one , so that polyandry is the norm . Although Earth 's Protector of the Lunar Colonies ( called the `` Warden '' ) holds power , in practice there is little intervention in the loose Lunar society . \\n \\n HOLMES IV ( `` High-Optional , Logical , Multi-Evaluating Supervisor , Mark IV '' ) is the Lunar Authority 's master computer , having almost total control of Luna 's machinery on the grounds that a single computer is cheaper than ( though not as safe as ) multiple independent systems . \\n \\n The story is narrated by Manuel Garcia `` Mannie '' O'Kelly-Davis , a computer technician who discovers that HOLMES IV has achieved self-awareness and has developed a sense of humor . Mannie names it `` Mike '' after Mycroft Holmes , brother of Sherlock Holmes , and they become friends . \\n \\n Book 1 : That Dinkum Thinkum \\n \\n At the beginning of the story , Mannie , at Mike 's request , places a recorder in an anti-Authority meeting . When the authorities raid the gathering , Mannie flees with Wyoming ( `` Wyoh '' ) Knott , a political agitator , whom he introduces to Mike and with whom he meets his former teacher , the elderly Professor Bernardo de la Paz , who claims that Luna must stop exporting hydroponic wheat to Earth or its limited water resources will be exhausted . In connection with this , Mike calculates that if no prevention occurs , there will be food riots in seven years and cannibalism in nine . Wyoh and the Professor decide to start a revolution , which Mannie is persuaded to join after Mike calculates that it has a 1 in 7 chance of success . \\n \\n Mannie , Wyoh , and de la Paz thereafter form covert cells , protected by Mike , who adopts the persona of `` Adam Selene '' , leader of the movement , and communicates via the telephone system . Mannie saves the life of Stuart Rene LaJoie , a rich , well-connected , sympathetic tourist , who begins turning public opinion on Earth in favor of Lunar independence . When soldiers brought to quell the mounting unrest rape and kill a local young woman , then kill another who finds her body , rioting erupts . The Loonies overcome military opposition and overthrow the Lunar Authority 's Protector , called `` the Warden . '' When Earth tries to reclaim the colony , the revolutionaries plan to use in defense a smaller duplicate of the electromagnetic catapult used to export wheat . \\n \\n Book 2 : A Rabble in Arms \\n \\n Mike impersonates the Warden in messages to Earth , to give the revolutionaries time to organize their work . Meanwhile , the Professor sets up an `` Ad-Hoc Congress '' to distract dissenters . When Earth finally learns the truth , Luna declares its independence on July 4 , 2076 , the 300th anniversary of the United States ' Declaration of Independence . \\n \\n Mannie and the Professor go to Earth to plead Luna 's case , where they are received in Agra by the Federated Nations , and embark on a world tour advertising the benefits of a free Luna , while urging various governments to build a catapult to transfer supplies , especially water , to Luna in exchange for grain . Their proposals are rejected and they are imprisoned ; but they are freed by Stuart LaJoie and returned , with him , to Luna . \\n \\n Public opinion on Earth has become fragmented , while on Luna the news of Mannie 's arrest and the\",\n\" Robert A. Heinlein \",\n\"When David killed Goliath, how many of his five stones did he use?\",\n\"What was the most interesting aspects about this article?\"],\n [{\n            'v': 1,\n            'f': \"1\",\n        },\n\"John Davison Rockefeller Sr. ( July 8 , 1839 \\u2013 May 23 , 1937 ) was an American industrialist and philanthropist . He was a co-founder of the Standard Oil Company , which dominated the oil industry and was the first great U.S. business trust . Rockefeller revolutionized the petroleum industry , and along with other key contemporary industrialists such as Andrew Carnegie , defined the structure of modern philanthropy . In 1870 , he founded Standard Oil Company and actively ran it until he officially retired in 1897 . \\n \\n Rockefeller founded Standard Oil as an Ohio partnership with his brother William along with Henry Flagler , Jabez A. Bostwick , chemist Samuel Andrews , and a silent partner , Stephen V. Harkness . As kerosene and gasoline grew in importance , Rockefeller 's wealth soared and he became the world 's richest man and the first American worth more than a billion dollars , controlling 90 % of all oil in the United States at his peak . His fortune upon his death in 1937 stood at US $ 1.4 billion ( equivalent to $ in dollars ) . At the time , his fortune accounted for more than 1.5 % of the national economy , equivalent to $ 253 billion in 2013 . His peak net worth was estimated at $ 336 billion or almost 2 % of the American economy ( in 2007 USD ; inflation-adjusted ) in 1913 , at 74 years of age , making him arguably the richest person in modern history . \\n \\n Rockefeller spent the last 40 years of his life in retirement at his estate , Kykuit , in Westchester County , New York . His fortune was mainly used to create the modern systematic approach of targeted philanthropy . He was able to do this through the creation of foundations that had a major effect on medicine , education and scientific research . His foundations pioneered the development of medical research and were instrumental in the eradication of hookworm and yellow fever . \\n \\n Rockefeller was also the founder of both the University of Chicago and Rockefeller University and funded the establishment of Central Philippine University in the Philippines . He was a devout and devoted Northern Baptist , and supported many church-based institutions . Rockefeller adhered to total abstinence from alcohol and tobacco throughout his life . He was a faithful congregant of the Erie Street Baptist Mission Church , where he taught Sunday school , and served as a trustee , clerk , and occasional janitor . Religion was a guiding force throughout his life , and Rockefeller believed it to be the source of his success . Rockefeller was also considered a supporter of capitalism based on a perspective of social darwinism , and is often quoted as saying `` The growth of a large business is merely a survival of the fittest . '' \\n \\n Early life \\n \\n Rockefeller was the second of six children and eldest son born in Richford , New York , to con artist William Avery `` Bill '' Rockefeller ( November 13 , 1810 \\u2013 May 11 , 1906 ) and Eliza Davison ( September 12 , 1813 \\u2013 March 28 , 1889 ) . His siblings were Lucy ( 1838\\u20131878 ) , William Jr. ( 1841\\u20131922 ) , Mary ( 1843\\u20131925 ) , and twins Franklin ( Frank ) ( 1845\\u20131917 ) and Frances ( 1845\\u20131847 ) . His father was of English and German descent while his mother was of Scots-Irish descent . Bill was first a lumberman and then a traveling salesman who identified himself as a `` botanic physician '' and sold elixirs . The locals referred to the mysterious but fun-loving man as `` Big Bill '' and `` Devil Bill '' . He was a sworn foe of conventional morality who had opted for a vagabond existence and who returned to his family infrequently . Throughout his life , Bill became notorious for shady schemes . In between the births of Lucy and John , Bill and his mistress/housekeeper Nancy Brown had a daughter named Clorinda ( c . 1838\\u2013 ? , died young ) . Between John and William Jr. 's births , Bill and Nancy had another daughter , Cornelia ( c . 1840\\u2013 ? ) . \\n \\n Eliza , a homemaker and devout Northern Baptist , struggled to maintain a semblance of stability at home , as Bill was frequently gone for extended periods . She also put up with his philandering and his double life , which included bigamy . Thrifty by nature and necessity , she taught her son that `` willful waste makes woeful want '' . Young Rockefeller did his share\",\n\" Standard Oil \",\n\"Of which tribe of Red Indians was Geronimo a chief\",\n\"What was his first job?\"],\n [{\n            'v': 2,\n            'f': \"2\",\n        },\n\"Tallahassee is the capital of the U.S. state of Florida . It is the county seat and only incorporated municipality in Leon County , and is the 126th largest city in the United States . Tallahassee became the capital of Florida , then the Florida Territory , in 1824 . In 2010 , the population was 181,376 , and the Tallahassee metropolitan area is 375,751 as of 2014 . Tallahassee is the largest city in the Northwest Florida region . Tallahassee is the main center for trade and agriculture in the Florida Big Bend and Southwest Georgia region . \\n \\n Tallahassee is home to Florida State University , ranked the nation 's forty-third best public university by U.S. News & World Report . It is also home to the Florida A & M University , one of the country 's largest historically black universities by total enrollment . Tallahassee Community College is a large community college which serves mainly as a feeder school to both Florida State and Florida A & M . Tallahassee qualifies as a significant college town with a student population exceeding 70,000 . \\n \\n Tallahassee is home to the Florida State Capitol , Supreme Court of Florida , Florida Governor 's Mansion , and nearly 30 state agency headquarters . The city is also known for its large number of law firms , lobbying organizations , trade associations and professional associations , including the Florida Bar and the Florida Chamber of Commerce . It is also a recognized regional center for scientific research , and home to the National High Magnetic Field Laboratory . In 2015 , Tallahassee was awarded the All-American City Award by the National Civic League for the second time . Tallahassee is currently ranked as the 18th best college town in the nation by Best College Reviews . \\n \\n History \\n \\n During the 17th century several Spanish missions were established in the territory of the Apalachee to procure food and labor for the settlement at St. Augustine . The largest , Mission San Luis de Apalachee , has been partially reconstructed by the state of Florida . \\n The name `` Tallahassee '' is a Muskogean Indian word often translated as `` old fields '' or `` old town '' , and it likely stems from the Creek ( later called Seminole ) Indians who migrated from Georgia and Alabama to this region in the late 18th and early 19th centuries . They found large areas of cleared land previously occupied by the Apalachee tribe . Earlier , the Mississippian Indians built mounds near Lake Jackson around AD 1200 , which survive today in the Lake Jackson Archaeological State Park . \\n \\n The expedition of P\\u00e1nfilo de Narv\\u00e1ez encountered the Apalachees , although it did not reach the site of Tallahassee . Hernando de Soto and his expedition occupied the Apalachee town of Anhaica in what is now Tallahassee in the winter of 1538\\u20131539 . Based on archaeological excavations this site is now known to be located about east of the present Florida State Capitol . The DeSoto encampment is believed to be the first place Christmas was celebrated in the continental United States . \\n \\n During the First Seminole War , General Andrew Jackson fought two separate skirmishes in and around Tallahassee . The first battle took place on November 12 , 1817 . Chief Neamathla , of the village of Fowltown , just west of present day Tallahassee had refused Jackson 's orders to relocate . Jackson responded by entering the village , burning it to the ground , and driving off its occupants . The Indians later retaliated , by killing 50 soldiers and civilians . Jackson reentered Florida in March 1818 . According to Jackson 's adjutant , Colonel Robert Butler , they `` advanced on the Indian village called Tallahasse ( sic ) [ where ] two of the enemy were made prisoner . '' \\n \\n State capital \\n \\n Tallahassee became the capital of Florida during the second legislative session . It was chosen as it was roughly equidistant from St. Augustine and Pensacola , which had been the capitals of the Spanish territories of East Florida and West Florida . The first session of Florida 's Legislative Council\\u2014as a territory of the United States\\u2014met on July 22 , 1822 at Pensacola and members from St. Augustine traveled fifty-nine days by water to attend . The second session was in St. Augustine and required western delegates to travel perilously around the peninsula on a twenty-eight-day trek . During this session , it was decided that future meetings should be held at a half-way point . Two appointed commissioners selected Tallahassee , at that point an abandoned Apalachee settlement ,\",\n\" Tallahassee \",\n\"According to Jewish tradition, whose chair is set ready at each passover meal in case he reappears to herald the coming of the Messiah?\",\n\"What was his first position?\"],\n [{\n            'v': 3,\n            'f': \"3\",\n        },\n\"Sweeney Todd is a fictional character who first appeared as the protagonist of the Victorian penny dreadful The String of Pearls ( 1846\\u201347 ) . \\n \\n The tale became a staple of Victorian melodrama and London urban legend , and has been retold many times since , most notably in the Tony award-winning Broadway musical by Stephen Sondheim and Hugh Wheeler . \\n \\n Claims that Sweeney Todd was a historical person are strongly disputed by scholars , although possible legendary prototypes exist . \\n \\n Plot synopsis \\n \\n In the original version of the tale , Todd is a barber who dispatches his victims by pulling a lever as they sit in his barber chair . His victims fall backward down a revolving trapdoor into the basement of his shop , generally causing them to break their necks or skulls . In case they are alive , Todd goes to the basement and `` polishes them off '' ( slitting their throats with his straight razor ) . In some adaptations , the murdering process is reversed , with Todd slitting his customers ' throats before dispatching them into the basement through the revolving trapdoor . After Todd has robbed his dead victims of their goods , Mrs. Lovett , his partner in crime ( in some later versions , his friend and/or lover ) , assists him in disposing of the bodies by baking their flesh into meat pies and selling them to the unsuspecting customers of her pie shop . Todd 's barber shop is situated at 186 Fleet Street , London , next to St. Dunstan 's church , and is connected to Mrs. Lovett 's pie shop in nearby Bell Yard by means of an underground passage . In most versions of the story , he and Mrs. Lovett hire an unwitting orphan boy , Tobias Ragg , to serve the pies to customers . \\n \\n Literary history \\n \\n Sweeney Todd first appeared in a story titled The String of Pearls : A Romance . This penny dreadful was published in 18 weekly parts , in Edward Lloyd 's The People 's Periodical and Family Library , issues 7\\u201324 , 21 November 1846 to 20 March 1847 . It was probably written by James Malcolm Rymer , though Thomas Peckett Prest has also been credited with it ; possibly each worked on the serial from part to part . Other attributions include Edward P. Hingston , George Macfarren , and Albert Richard Smith . In February/March 1847 , before the serial was even completed , George Dibdin Pitt adapted The String of Pearls as a melodrama for the Britannia Theatre in Hoxton . It was in this alternative version of the tale , rather than the original , that Todd acquired his catchphrase : `` I 'll polish him off '' . \\n \\n Lloyd published another , lengthier , penny part serial from 1847\\u201348 , with 92 episodes . It was then published in book form in 1850 as The String of Pearls , subtitled `` The Barber of Fleet Street . A Domestic Romance '' . This expanded version of the story was 732 pages long . A plagiarised version of this book appeared in the United States c. 1852\\u201353 as Sweeney Todd : or the Ruffian Barber . A Tale of Terror of the Seas and the Mysteries of the City by `` Captain Merry '' ( a pseudonym for American author Harry Hazel , 1814\\u201389 ) . \\n \\n In 1865 the French novelist Paul H.C. F\\u00e9val ( 1816\\u20131887 ) , famous as a writer of horror and crime novels and short stories , referred to what he called `` L'Affaire de la Rue des Marmousets '' , in the introductory chapter to his book `` La Vampire '' . A version of this story is related by the author Jacques Yonnet in his book Rue des mal\\u00e9fices ( 1954 ) . This version is set in late medieval ( 1387 ) Paris , at the corner of the Rue des Marmousets and the Rue des Deux-Hermites . The familiar plot of the barber and the pastrycook who sell pies made with human flesh is followed , the d\\u00e9nouement following one of the victims ' dogs alerting neighbors and the gendarmes . The two confess , and are summarily burned alive ; the houses where the crimes took place are then razed . Whether this version of the story is based on The String of Pearls or its dramatisation , or a much older tale alluded to by F\\u00e9val is unclear . In any case , it may well be the source for some recent versions that move the tale from London to Paris . \\n \\n In\",\n\" Fleet Street \",\n\"What island is shared by Haiti and the Dominican Republic?\",\n\"What was his first name?\"],\n [{\n            'v': 4,\n            'f': \"4\",\n        },\n\"The Battle of Salamanca ( in French and Spanish known as `` Battle of Arapiles '' ) saw an Anglo-Portuguese army under the Duke of Wellington defeat Marshal Auguste Marmont 's French forces among the hills around Arapiles , south of Salamanca , Spain on 22July 1812 during the Peninsular War . A Spanish division was also present but took no part in the battle . \\n \\n The battle involved a succession of flanking manoeuvres in oblique order , initiated by the British heavy cavalry brigade and Pakenham 's 3rd division , and continued by the cavalry and the 4th , 5th and 6th divisions . These attacks resulted in a rout of the French left wing . Both Marmont and his deputy commander , General Bonet , received shrapnel wounds in the first few minutes of firing . Confusion amongst the French command may have been decisive in creating an opportunity , which Wellington successfully seized and exploited . \\n \\n General Bertrand Clausel , third in seniority , assumed command and ordered a counterattack by the French reserve toward the depleted Allied centre . The move proved partly successful but with Wellington having sent his reinforcements to the centre , the Anglo-Portuguese forces prevailed . \\n \\n Allied losses numbered 3,129 British and 2,038 Portuguese dead or wounded . The Spanish troops took no part in the battle as they were positioned to block French escape routes and as such suffered just six casualties . The French suffered about 13,000 dead , wounded and captured . As a consequence of Wellington 's victory , his army was able to advance to and liberate Madrid for two months , before retreating to Portugal . The French were forced to abandon Andalusia permanently while the loss of Madrid irreparably damaged King Joseph 's pro-French government . \\n \\n Background \\n \\n In April 1812 , following the successful siege of Badajoz , Wellington and the greater part of the Anglo-Portuguese army marched north to expel Marmont \\u2019 s French army who had temporarily invaded Portugal . Following Marmont \\u2019 s retreat to Salamanca Wellington took position behind the Agueda and Coa rivers . In May , acting on Wellington \\u2019 s orders General Hill took a force of 7,000 men to destroy the bridge at Almaraz , breaking the only direct communications between Soult 's and Marmont \\u2019 s armies . \\n \\n On June 13 Wellington crossed the Agueda and advanced eastward to Salamanca , a town that was a major supply depot for the French army . The French had converted three convents into powerful forts to defend the town and the bridge across the river Tormes . On 19 June the first battery opened fire but it was not until 27 June that , with two of the convents battered and in flames and with no sign of relief , the French troops asked for surrender terms . \\n \\n For several weeks Wellington found his movements north of Salamanca blocked by Marmont 's army , which was constantly swelled by reinforcements . With the armies often marching close together , separated by the river and Marmont repeatedly threatening Wellington 's supply line . Moving east , the French crossed to the south bank of the Tormes across another bridge at Huerta and by marching south then west hoped to turn the flank of Wellingtons ' army . By the day of the battle Wellington had decided to withdraw his army all the way back to Portugal , but observed that with the two armies marching parallel to each other , with the British on the inside line , the French became strung out and Marmont had made the tactical error of separating his left flank from the main body of his army . The Duke immediately ordered the major part of his army to attack the overextended French left wing . \\n \\n Forces \\n \\n Marshal Marmont 's 50,000-man Army of Portugal contained eight infantry and two cavalry divisions , plus 78 artillery pieces . The infantry divisions were Maximilien Sebastien Foy 's 1st ( 4,900 ) , Bertrand Clausel 's 2nd ( 6,300 ) , Claude Fran\\u00e7ois Ferey 's 3rd ( 5,400 ) , Jacques Thomas Sarrut 's 4th ( 5,000 ) , Antoine Louis Popon de Maucune 's 5th ( 5,000 ) , Antoine Fran\\u00e7ois Brenier de Montmorand 's 6th ( 4,300 ) , Jean Guillaume Barth\\u00e9lemy Thomi\\u00e8res 's 7th ( 4,300 ) , and Jean Pierre Fran\\u00e7ois Bonet 's 8th ( 6,400 ) . Pierre Fran\\u00e7ois Joseph Boyer led 1,500 dragoons and Jean-Baptiste Theodore Curto commanded 1,900 light cavalry . Louis Tirlet directed 3,300 artillerymen and there were also 1,300 engineers , military police and wagon drivers . \\n \\n Wellington\",\n\" Duke of Wellington \",\n\"In humans, the medical condition Hyposmia affects which of the senses?\",\n\"What was the military?\"],\n [{\n            'v': 5,\n            'f': \"5\",\n        },\n\"Florence Nightingale , ( ; 12 May 1820 \\u2013 13 August 1910 ) was a celebrated English social reformer and statistician , and the founder of modern nursing . \\n \\n She came to prominence while serving as a manager of nurses trained by her during the Crimean War , where she organised the tending to wounded soldiers . She gave nursing a highly favourable reputation and became an icon of Victorian culture , especially in the persona of `` The Lady with the Lamp '' making rounds of wounded soldiers at night . \\n \\n Some recent commentators have asserted Nightingale 's achievements in the Crimean War were exaggerated by the media at the time , to satisfy the public 's need for a hero . Nevertheless , critics agree on the decisive importance of her follow-up achievements in professionalising nursing roles for women . In 1860 , Nightingale laid the foundation of professional nursing with the establishment of her nursing school at St Thomas ' Hospital in London . It was the first secular nursing school in the world , now part of King 's College London . In recognition of her pioneering work in nursing , the Nightingale Pledge taken by new nurses , and the Florence Nightingale Medal , the highest international distinction a nurse can achieve , were named in her honour , and the annual International Nurses Day is celebrated around the world on her birthday . Her social reforms include improving healthcare for all sections of British society , advocating better hunger relief in India , helping to abolish prostitution laws that were over-harsh to women , and expanding the acceptable forms of female participation in the workforce . \\n \\n Nightingale was a prodigious and versatile writer . In her lifetime , much of her published work was concerned with spreading medical knowledge . Some of her tracts were written in simple English so that they could easily be understood by those with poor literary skills . She also helped popularise the graphical presentation of statistical data . Much of her writing , including her extensive work on religion and mysticism , has only been published posthumously . \\n \\n Early life \\n \\n Florence Nightingale was born on 12 May 1820 into a rich , upper-class , well-connected British family at the Villa Colombaia , in Florence , Italy , and was named after the city of her birth . Florence 's older sister Frances Parthenope had similarly been named after her place of birth , Parthenope , a Greek settlement now part of the city of Naples . The family moved back to England in 1821 , with Nightingale being brought up in the family 's homes at Embley , Hampshire and \\n Lea Hurst , Derbyshire . \\n \\n Her parents were William Edward Nightingale , born William Edward Shore ( 1794\\u20131874 ) and Frances ( `` Fanny '' ) Nightingale n\\u00e9e Smith ( 1789\\u20131880 ) . William 's mother Mary n\\u00e9e Evans was the niece of Peter Nightingale , under the terms of whose will William inherited his estate at Lea Hurst , and assumed the name and arms of Nightingale . Fanny 's father ( Florence 's maternal grandfather ) was the abolitionist and Unitarian William Smith . Nightingale 's father educated her . \\n \\n In 1838 , her father took the family on a tour in Europe where he was introduced to the English-born Parisian hostess Mary Clarke , with whom Florence bonded . She recorded that `` Clarkey '' was a stimulating hostess who did not care for her appearance , and while her ideas did not always agree with those of her guests , `` she was incapable of boring anyone . '' Her behaviour was said to be exasperating and eccentric and she had no respect for upper-class British women , whom she regarded generally as inconsequential . She said that if given the choice between being a woman or a galley slave , then she would choose the freedom of the galleys . She generally rejected female company and spent her time with male intellectuals . However , Clarkey made an exception in the case of the Nightingale family and Florence in particular . She and Florence were to remain close friends for 40 years despite their 27-year age difference . Clarke demonstrated that women could be equals to men , an idea that Florence had not obtained from her mother . \\n \\n Nightingale underwent the first of several experiences that she believed were calls from God in February 1837 while at Embley Park , prompting a strong desire to devote her life to the service of others . In her youth she was respectful of her family 's opposition\",\n\" The Lady with the Lamp \",\n\"Which hit for 'Wet Wet Wet' was the biggest-selling single in Britain in 1994?\",\n\"What was her first name?\"],\n [{\n            'v': 6,\n            'f': \"6\",\n        },\n\"H.M.S . Pinafore ; or , The Lass That Loved a Sailor is a comic opera in two acts , with music by Arthur Sullivan and a libretto by W. S. Gilbert . It opened at the Opera Comique in London , on 25 May 1878 and ran for 571 performances , which was the second-longest run of any musical theatre piece up to that time . H.M.S . Pinafore was Gilbert and Sullivan 's fourth operatic collaboration and their first international sensation . \\n \\n The story takes place aboard the ship HMS Pinafore . The captain 's daughter , Josephine , is in love with a lower-class sailor , Ralph Rackstraw , although her father intends her to marry Sir Joseph Porter , the First Lord of the Admiralty . She abides by her father 's wishes at first , but Sir Joseph 's advocacy of the equality of humankind encourages Ralph and Josephine to overturn conventional social order . They declare their love for each other and eventually plan to elope . The captain discovers this plan , but , as in many of the Gilbert and Sullivan operas , a surprise disclosure changes things dramatically near the end of the story . \\n \\n Drawing on several of his earlier `` Bab Ballad '' poems , Gilbert imbued this plot with mirth and silliness . The opera 's humour focuses on love between members of different social classes and lampoons the British class system in general . Pinafore also pokes good-natured fun at patriotism , party politics , the Royal Navy , and the rise of unqualified people to positions of authority . The title of the piece comically applies the name of a garment for girls and women , a pinafore , to the fearsome symbol of a naval warship . \\n \\n Pinafores extraordinary popularity in Britain , America and elsewhere was followed by the similar success of a series of Gilbert and Sullivan works , including The Pirates of Penzance and The Mikado . Their works , later known as the Savoy operas , dominated the musical stage on both sides of the Atlantic for more than a decade and continue to be performed today . The structure and style of these operas , particularly Pinafore , were much copied and contributed significantly to the development of modern musical theatre . \\n \\n Background \\n \\n In 1875 , Richard D'Oyly Carte , who was then managing the Royalty Theatre for Selina Dolaro , brought Gilbert and Sullivan together to write their second show , a one-act opera entitled Trial by Jury . This proved a success , and in 1876 D'Oyly Carte assembled a group of financial backers to establish the Comedy Opera Company , which was devoted to the production and promotion of family-friendly English comic opera . With this theatre company , Carte finally had the financial resources , after many failed attempts , to produce a new full-length Gilbert and Sullivan opera . This next opera was The Sorcerer , which opened in November 1877 . It too was successful , running for 178 performances.Ainger , p. 157 Sheet music from the show sold well , and street musicians played the melodies . \\n \\n Instead of writing a piece for production by a theatre proprietor , as was usual in Victorian theatres , Gilbert , Sullivan and Carte produced the show with their own financial support . They were therefore able to choose their own cast of performers , rather than being obliged to use the actors already engaged at the theatre . They chose talented actors , most of whom were not well-known stars and did not command high fees , and to whom they could teach a more naturalistic style of performance than was commonly used at the time . They then tailored their work to the particular abilities of these performers . The skill with which Gilbert and Sullivan used their performers had an effect on the audience ; as critic Herman Klein wrote : `` we secretly marvelled at the naturalness and ease with which [ the Gilbertian quips and absurdities ] were said and done . For until then no living soul had seen upon the stage such weird , eccentric , yet intensely human beings . ... [ They ] conjured into existence a hitherto unknown comic world of sheer delight . '' \\n \\n The success of The Sorcerer paved the way for another collaboration by Gilbert and Sullivan . Carte agreed on terms for a new opera with the Comedy Opera Company , and Gilbert began work on H.M.S . Pinafore before the end of 1877 . Gilbert 's father had been a naval surgeon , and the nautical theme\",\n\" Gilbert and Sullivan \",\n\"What American industrialist is credited as the father of the modern assembly line?\",\n\"What was her first career?\"],\n [{\n            'v': 7,\n            'f': \"7\",\n        },\n\"The United States presidential election of 1952 was the 42nd quadrennial presidential election , held on Tuesday , November 4 , 1952 . Republican Dwight Eisenhower was the landslide winner , ending a string of Democratic wins that stretched back to 1932 . He carried the Republican Party ( GOP ) to narrow control of the House and Senate . During this time , Cold War tension between the United States and the Soviet Union was at a high level , as was fear of communism in the US , epitomized by the campaign of McCarthyism . Foreign policy was a main issue in the race for the Republican nomination . The nation was polarized over the stalemated Korean War , and the extent of corruption in the federal government became a major issue as well . The economy was prosperous , and thus economic and social issues played little role in the campaign . \\n \\n Incumbent President Harry S. Truman , who as early as 1950 had decided not to run , had decided to back current Illinois Governor Adlai Stevenson . President Truman , as he had in 1948 , reached out to General Dwight D. Eisenhower to see if he had interest in heading the Democratic ticket . Eisenhower demurred at the time and then wound up heading the Republican ticket . The Democratic Party instead nominated Governor Adlai Stevenson of Illinois . Stevenson had gained a reputation in Illinois as an intellectual and eloquent orator , however had vacillated a great deal on whether he even wanted to run for the Presidency . President Truman had several meetings with Stevenson about the President 's desire for Stevenson to become the standard bearer for the party . Truman became very frustrated with Stevenson and his high level of indecision before Stevenson actually committed to running . The Republican Party saw a contest between the internationalist and isolationist perspectives . Senator Robert A. Taft said that isolationism was dead , but he saw little role for the United States in the Cold War . Eisenhower the NATO commander and war hero narrowly defeated Taft , then crusaded against the Truman policies he blasted as `` Korea , Communism and Corruption . '' Ike , as they called him , did well in all major demographic and regional groups outside the Deep South . \\n \\n Nominations \\n \\n Republican Party \\n \\n Republican candidates : \\n \\n File : Dwight_David_Eisenhower , _photo_portrait_by_Bachrach , _1952.jpg|President of Columbia University Dwight D. Eisenhower , from New York \\n File : Robert a taft.jpg|Senator Robert A. Taft from Ohio \\n File : Harold Stassen.jpg|Former Governor Harold Stassen of Minnesota \\n File : Earl Warren Portrait , half figure , seated , facing front , as Governor.jpg|Governor Earl Warren of California \\n Image : MacArthur Manila.jpg|General Douglas MacArthur , from New York \\n \\n The fight for the Republican nomination was between General Dwight D. Eisenhower , who became the candidate of the party 's moderate eastern establishment ; Senator Robert A. Taft of Ohio , the longtime leader of the Republican Party 's conservative wing ; Governor Earl Warren of California , who appealed to Western delegates and independent voters ; and former Governor Harold Stassen of Minnesota , who still had a base of support in the Midwest . \\n \\n The moderate Eastern Republicans were led by New York Governor Thomas E. Dewey , the party 's presidential nominee in 1944 and 1948 . The moderates tended to be interventionists who felt that America needed to fight the Cold War overseas and resist Soviet aggression in Europe and Asia ; they were also willing to accept most aspects of the social welfare state created by the New Deal in the 1930s . The moderates were also concerned with ending the Republicans ' losing streak in presidential elections ; they felt that the personally popular Eisenhower had the best chance of beating the Democrats . For this reason , Dewey himself declined the notion of a third run for President , even though he still had a large amount of support within the party . \\n \\n The conservative Republicans led by Taft were based in the Midwest and parts of the South . The conservatives wanted to abolish many of the New Deal welfare programs ; in foreign policy they were often non-interventionists who believed that America should avoid alliances with foreign powers . Taft had been a candidate for the Republican nomination in 1940 and 1948 , but had been defeated both times by moderate Republicans from New York ( Dewey in 1948 , and Wendell Wilkie in 1940 ) . Taft , who was 62 when the campaign began , freely admitted that 1952 was his last\",\n\" Eisenhower \",\n\"What became the last city on earth to experience the horror of a nuclear bomb when the B-29 Bockscar devastated what Japanese city on August 9, 1945?\",\n\"What was his first position?\"],\n [{\n            'v': 8,\n            'f': \"8\",\n        },\n\"is the luxury vehicle marque of Japanese automaker Honda . The brand was launched in the United States and Canada in March 1986 , marketing luxury , performance , and high-performance vehicles . It was introduced to Hong Kong in 1991 , Mexico in 2004 , China in 2006 , Russia in 2014 and Kuwait in 2015 . Honda 's plan to introduce Acura to the Japanese domestic market ( JDM ) in 2008 was delayed , due to economic reasons , [ http : //www.honda.co.jp/pressroom/conference/200707/movie3/index.html 2007 Mid-Year CEO Speech ] ( Japanese ) Establishing A Sales Channel from the Customer Viewpoint , 2 . Accelerating our effort in Japan to strengthen the core characteristics that make Honda unique , [ http : //world.honda.com/news/2007/c070718Mid-Year-CEO-Speech/ Summary of 2007 Mid-Year CEO Speech ] ( English ) [ http : //www.nikkei.co.jp/news/sangyo/20070718AT1D1800U18072007.html \\u30db\\u30f3\\u30c0\\u3001\\u9ad8\\u7d1a\\u8eca\\u30a2\\u30ad\\u30e5\\u30e9\\u306e\\u56fd\\u5185\\u767a\\u58f2\\u5ef6\\u671f ] ( Japanese ) and later withheld as a result of the 2008 financial crisis . \\n \\n Acura holds the distinction of being the first Japanese automotive luxury brand . The creation of Acura coincided with the introduction of a JDM Honda dealership sales channel , called Honda Clio , which sold luxury vehicles , joining previously established Honda Verno , followed by Honda Primo the following year . In its first few years of existence , Acura was among the best-selling luxury marques in the US . Though sales were down in the mid-to-late 1990s , the brand experienced a revival in the early 2000s , due to drastic redesigns and the introductions of new models . \\n \\n Since its inception , Acura has been a trailblazer in the automotive industry . In the late 1980s , the success of the company 's first flagship vehicle , the Legend , inspired fellow Japanese automakers Toyota and Nissan to launch their own luxury brands , Lexus and Infiniti , respectively . The 1990 launch of the NSX , a mid-engine exotic sports car , offered a reliable and practical alternative to exotic European sports cars , and introduced Honda 's VTEC variable valve timing system to the North American market . The 1993 Legend coup\\u00e9 featured Honda 's first use of a six-speed manual transmission , mated to a Type II engine . In the late 1990s , Acura produced a Type R version of its compact Integra coup\\u00e9 , which featured a reduced curb weight , a stiffer and lower suspension , and a high-output VTEC engine . \\n \\n In the early 2000s , Acura introduced new models , including the company 's first all-original SUV , the MDX , and two models which replaced the Integra coup\\u00e9 and sedan , the RSX and TSX , respectively . Type-S versions of the RSX , CL , and TL were added to the brand 's lineup during that decade . Acura 's 2005 RL flagship introduced SH-AWD , a torque-vectoring all-wheel drive system . The 2007 RDX , a crossover SUV , featured the first North American use of a turbocharged Honda engine . In the 2010s , Acura debuted more new models , including the ILX , TLX , and RLX , the latter of which introduced Acura 's Jewel Eye LED headlights . A second generation NSX was launched in 2015 and features a twin-turbocharged mid-engine , a nine-speed dual-clutch transmission , and Sport Hybrid SH-AWD . \\n \\n History \\n \\n 1980s : Introduction of the Acura brand \\n \\n Following a decade of research , Honda opened 60 new dealerships in North America by 1986 , to support its Acura automobile division . Acura was the first Japanese luxury brand , introduced under the slogan , `` Acura . Precision Crafted Automobiles . '' Its initial offering consisted of two models : the executive class Legend and the compact class Integra , available as a five-door and three-door hatchback . The Legend was the result of Project XX , a joint venture Honda entered into with the UK 's Austin Rover Group . It was mechanically related to the Rover 800 series , while the Integra was an improvement of the Honda Quint hatchback . \\n \\n The success of these models , particularly the Legend , led to competing Japanese luxury brand ventures ( Toyota 's Lexus that began development in 1983 as the F1 project , and Nissan 's Infiniti who began development in 1985 by revising their Japan-only flagship Nissan President ; in the late 1990s Mazda planned but never launched its own Amati luxury division ) . The goal of the Legend was to compete with rivals Toyota Crown and the Nissan Cedric and Gloria , but due to its 1986 introduction worldwide , Toyota , Nissan and other companies like Lincoln took notice of the markets reaction to the\",\n\" Honda Clio \",\n\"What is the more common name for the order Coleoptera which contains more species than any other order in the animal kingdom?\",\n\"What was the car?\"],\n [{\n            'v': 9,\n            'f': \"9\",\n        },\n\"Hair loss , also known as alopecia or baldness , refers to a loss of hair from the head or body . Baldness can refer to general hair loss or male pattern hair loss . \\n \\n Hair loss and hypotrichosis have many causes including androgenetic alopecia , fungal infection , trauma ( e.g. , due to ( trichotillomania ) , radiotherapy , chemotherapy , nutritional deficiencies ( e.g. , iron deficiency ) , and autoimmune diseases ( e.g. , alopecia areata ) . Hair loss severity occurs across a spectrum with extreme examples including alopecia totalis ( total loss of hair on the head ) and alopecia universalis ( total loss of all hair on the head and body ) . \\n \\n Terminology \\n \\n Baldness is the partial or complete lack of hair growth , and part of the wider topic of `` hair thinning '' . The degree and pattern of baldness varies , but its most common cause is androgenic alopecia , alopecia androgenetica , or alopecia seborrheica , with the last term primarily used in Europe . \\n \\n Signs and symptoms \\n \\n Symptoms of hair loss include hair loss in patches usually in circular patterns , dandruff , skin lesions , and scarring . Alopecia areata ( mild - medium level ) usually shows in unusual hair loss areas e.g . eyebrows , backside of the head or above the ears where usually the male pattern baldness does not affect . In male-pattern hair loss , loss and thinning begin at the temples and the crown and either thins out or falls out . Female-pattern hair loss occurs at the frontal and parietal . \\n \\n People have between 100,000 and 150,000 hairs on their head . The number of strands normally lost in a day varies , but on average is 100 . In order to maintain a normal volume , hair must be replaced at the same rate at which it is lost . The first signs of hair thinning that people will often notice are more hairs than usual left in the hairbrush after brushing or in the basin after shampooing . Styling can also reveal areas of thinning , such as a wider parting or a thinning crown . \\n \\n Skin conditions \\n \\n A substantially blemished face , back and limbs could point to cystic acne . The most severe form of the condition , cystic acne arises from the same hormonal imbalances that cause hair loss , and is associated with dihydrotestosterone production . Seborrheic dermatitis , a condition in which an excessive amount of sebum is produced and builds up on the scalp ( looking like an adult cradle cap ) is also a symptom of hormonal imbalances , as is an excessively oily or dry scalp . Both can cause hair thinning . \\n \\n Psychological \\n \\n Hair thinning and baldness cause psychological stress due to their effect on appearance . Although societal interest in appearance has a long history , this particular branch of psychology came into its own during the 1960s and has gained momentum as messages associating physical attractiveness with success and happiness grow more prevalent . \\n \\n The psychology of hair thinning is a complex issue . Hair is considered an essential part of overall identity : especially for women , for whom it often represents femininity and attractiveness . Men typically associate a full head of hair with youth and vigor . Although they may be aware of pattern baldness in their family , many are uncomfortable talking about the issue . Hair thinning is therefore a sensitive issue for both sexes . For sufferers , it can represent a loss of control and feelings of isolation . People experiencing hair thinning often find themselves in a situation where their physical appearance is at odds with their own self-image and commonly worry that they appear older than they are or less attractive to others . Psychological problems due to baldness , if present , are typically most severe at the onset of symptoms . \\n \\n Hair loss induced by cancer chemotherapy has been reported to cause changes in self-concept and body image . Body image does not return to the previous state after regrowth of hair for a majority of patients . In such cases , patients have difficulties expressing their feelings ( alexithymia ) and may be more prone to avoiding family conflicts . Family therapy can help families to cope with these psychological problems if they arise . \\n \\n Causes \\n \\n Although not completely understood , hair loss can have many causes : \\n \\n Male pattern baldness \\n \\n More than 95 % of hair loss in men is male\",\n\" Hair \",\n\"When introduced into Britain in 1752, what caused a riot over eleven lost days?\",\n\"What was the disease?\"]],\n        columns: [[\"number\", \"index\"], [\"string\", \"context\"], [\"string\", \"answer\"], [\"string\", \"target\"], [\"string\", \"prediction\"]],\n        columnOptions: [{\"width\": \"1px\", \"className\": \"index_column\"}],\n        rowsPerPage: 25,\n        helpUrl: \"https://colab.research.google.com/notebooks/data_table.ipynb\",\n        suppressOutputScrolling: true,\n        minimumWidth: undefined,\n      });\n    "
          },
          "metadata": {},
          "execution_count": 12
        }
      ],
      "source": [
        "df[:10]"
      ]
    },
    {
      "cell_type": "code",
      "execution_count": null,
      "metadata": {
        "id": "cKzojpnFqbLN"
      },
      "outputs": [],
      "source": [
        "if save_predictions:\n",
        "  df.to_csv(prediction_file, mode=save_mode)"
      ]
    }
  ],
  "metadata": {
    "accelerator": "GPU",
    "colab": {
      "collapsed_sections": [
        "fJ8lW8X8NJ9o"
      ],
      "provenance": [],
      "include_colab_link": true
    },
    "gpuClass": "premium",
    "kernelspec": {
      "display_name": "Python 3",
      "name": "python3"
    },
    "language_info": {
      "name": "python"
    }
  },
  "nbformat": 4,
  "nbformat_minor": 0
}