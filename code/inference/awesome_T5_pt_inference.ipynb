{
  "cells": [
    {
      "cell_type": "markdown",
      "metadata": {
        "id": "view-in-github",
        "colab_type": "text"
      },
      "source": [
        "<a href=\"https://colab.research.google.com/github/jeanlucjackson/w266_final_project/blob/main/code/inference/awesome_T5_pt_inference.ipynb\" target=\"_parent\"><img src=\"https://colab.research.google.com/assets/colab-badge.svg\" alt=\"Open In Colab\"/></a>"
      ]
    },
    {
      "cell_type": "markdown",
      "source": [
        "### Generate Predictions From An Awesome Validation Dataset\n",
        "\n",
        "This notebook assumes a T5 PyTorch model.\n",
        "\n",
        "Setting the constants in the next call should be all that is necessary to run the validation set."
      ],
      "metadata": {
        "id": "Hh-4vVXTMhpC"
      }
    },
    {
      "cell_type": "code",
      "source": [
        "# Set these constants for each model and validation dataset combination\n",
        "\n",
        "model_name = \"T5_base_pt.quac\"\n",
        "validation_dataset_name = \"nq\"\n",
        "save_predictions = True"
      ],
      "metadata": {
        "id": "rlCLzceMMahp"
      },
      "execution_count": 14,
      "outputs": []
    },
    {
      "cell_type": "markdown",
      "source": [
        "### Generate Predictions"
      ],
      "metadata": {
        "id": "fJ8lW8X8NJ9o"
      }
    },
    {
      "cell_type": "code",
      "execution_count": 15,
      "metadata": {
        "id": "c3906UT0dyke"
      },
      "outputs": [],
      "source": [
        "!pip install -q transformers"
      ]
    },
    {
      "cell_type": "code",
      "execution_count": 16,
      "metadata": {
        "id": "vBX23WXdd0v-"
      },
      "outputs": [],
      "source": [
        "!pip install -q sentencepiece"
      ]
    },
    {
      "cell_type": "code",
      "execution_count": 17,
      "metadata": {
        "id": "3jvE9TJRd4cG"
      },
      "outputs": [],
      "source": [
        "import os\n",
        "import numpy as np\n",
        "import pandas as pd\n",
        "\n",
        "import torch\n",
        "from transformers import T5Tokenizer, T5ForConditionalGeneration\n",
        "\n",
        "import warnings\n",
        "warnings.simplefilter(action='ignore', category=FutureWarning)\n",
        "\n",
        "from google.colab import data_table\n",
        "data_table.enable_dataframe_formatter()"
      ]
    },
    {
      "cell_type": "code",
      "execution_count": 18,
      "metadata": {
        "colab": {
          "base_uri": "https://localhost:8080/"
        },
        "id": "17N1XaF7d6dW",
        "outputId": "6941184f-f05b-4884-c1cc-ea640233ad1c"
      },
      "outputs": [
        {
          "output_type": "stream",
          "name": "stdout",
          "text": [
            "Drive already mounted at /content/drive; to attempt to forcibly remount, call drive.mount(\"/content/drive\", force_remount=True).\n"
          ]
        }
      ],
      "source": [
        "from google.colab import drive\n",
        "drive.mount('/content/drive')"
      ]
    },
    {
      "cell_type": "code",
      "execution_count": 19,
      "metadata": {
        "id": "iMHoUiDnd9He"
      },
      "outputs": [],
      "source": [
        "# Some important file locations and constants\n",
        "\n",
        "project_root = \"/content/drive/MyDrive/w266 NLP Final Project/\"\n",
        "dataset_root = project_root + \"Data/\"\n",
        "model_root = project_root + \"Models/\"\n",
        "prediction_folder = project_root + \"Predictions/\"\n",
        "\n",
        "tokenizer = \"google/t5-v1_1-base\"\n",
        "\n",
        "model_folder = model_root + model_name\n",
        "\n",
        "validation_data_file = f\"{dataset_root}squad.hf/valid_pairs.csv\"\n",
        "if validation_dataset_name != \"squad\":\n",
        "  validation_data_file = f\"{dataset_root}{validation_dataset_name}/valid_pairs.csv\"\n",
        "\n",
        "prediction_file = f\"{prediction_folder}predictions.{model_name}.{validation_dataset_name}.csv\"\n",
        "\n",
        "max_length = 512\n",
        "batch_size = 125"
      ]
    },
    {
      "cell_type": "code",
      "execution_count": 20,
      "metadata": {
        "colab": {
          "base_uri": "https://localhost:8080/",
          "height": 315
        },
        "id": "aq5h729KfB5F",
        "outputId": "9365e640-e8ea-4d4f-bf8b-2e41edc35cb8"
      },
      "outputs": [
        {
          "output_type": "execute_result",
          "data": {
            "text/plain": [
              "                                                orig  \\\n",
              "0  generate question: answer: al-Mamlakah al-ʻAra...   \n",
              "1  generate question: answer: the name announceme...   \n",
              "\n",
              "                                           target  \n",
              "0          what was the real name of saudi arabia  \n",
              "1  whats the most liked picture on instagram 2018  "
            ],
            "text/html": [
              "\n",
              "  <div id=\"df-6e670bd8-934d-44e1-beda-5a03a3b5535a\">\n",
              "    <div class=\"colab-df-container\">\n",
              "      <div>\n",
              "<style scoped>\n",
              "    .dataframe tbody tr th:only-of-type {\n",
              "        vertical-align: middle;\n",
              "    }\n",
              "\n",
              "    .dataframe tbody tr th {\n",
              "        vertical-align: top;\n",
              "    }\n",
              "\n",
              "    .dataframe thead th {\n",
              "        text-align: right;\n",
              "    }\n",
              "</style>\n",
              "<table border=\"1\" class=\"dataframe\">\n",
              "  <thead>\n",
              "    <tr style=\"text-align: right;\">\n",
              "      <th></th>\n",
              "      <th>orig</th>\n",
              "      <th>target</th>\n",
              "    </tr>\n",
              "  </thead>\n",
              "  <tbody>\n",
              "    <tr>\n",
              "      <th>0</th>\n",
              "      <td>generate question: answer: al-Mamlakah al-ʻAra...</td>\n",
              "      <td>what was the real name of saudi arabia</td>\n",
              "    </tr>\n",
              "    <tr>\n",
              "      <th>1</th>\n",
              "      <td>generate question: answer: the name announceme...</td>\n",
              "      <td>whats the most liked picture on instagram 2018</td>\n",
              "    </tr>\n",
              "  </tbody>\n",
              "</table>\n",
              "</div>\n",
              "      <button class=\"colab-df-convert\" onclick=\"convertToInteractive('df-6e670bd8-934d-44e1-beda-5a03a3b5535a')\"\n",
              "              title=\"Convert this dataframe to an interactive table.\"\n",
              "              style=\"display:none;\">\n",
              "        \n",
              "  <svg xmlns=\"http://www.w3.org/2000/svg\" height=\"24px\"viewBox=\"0 0 24 24\"\n",
              "       width=\"24px\">\n",
              "    <path d=\"M0 0h24v24H0V0z\" fill=\"none\"/>\n",
              "    <path d=\"M18.56 5.44l.94 2.06.94-2.06 2.06-.94-2.06-.94-.94-2.06-.94 2.06-2.06.94zm-11 1L8.5 8.5l.94-2.06 2.06-.94-2.06-.94L8.5 2.5l-.94 2.06-2.06.94zm10 10l.94 2.06.94-2.06 2.06-.94-2.06-.94-.94-2.06-.94 2.06-2.06.94z\"/><path d=\"M17.41 7.96l-1.37-1.37c-.4-.4-.92-.59-1.43-.59-.52 0-1.04.2-1.43.59L10.3 9.45l-7.72 7.72c-.78.78-.78 2.05 0 2.83L4 21.41c.39.39.9.59 1.41.59.51 0 1.02-.2 1.41-.59l7.78-7.78 2.81-2.81c.8-.78.8-2.07 0-2.86zM5.41 20L4 18.59l7.72-7.72 1.47 1.35L5.41 20z\"/>\n",
              "  </svg>\n",
              "      </button>\n",
              "      \n",
              "  <style>\n",
              "    .colab-df-container {\n",
              "      display:flex;\n",
              "      flex-wrap:wrap;\n",
              "      gap: 12px;\n",
              "    }\n",
              "\n",
              "    .colab-df-convert {\n",
              "      background-color: #E8F0FE;\n",
              "      border: none;\n",
              "      border-radius: 50%;\n",
              "      cursor: pointer;\n",
              "      display: none;\n",
              "      fill: #1967D2;\n",
              "      height: 32px;\n",
              "      padding: 0 0 0 0;\n",
              "      width: 32px;\n",
              "    }\n",
              "\n",
              "    .colab-df-convert:hover {\n",
              "      background-color: #E2EBFA;\n",
              "      box-shadow: 0px 1px 2px rgba(60, 64, 67, 0.3), 0px 1px 3px 1px rgba(60, 64, 67, 0.15);\n",
              "      fill: #174EA6;\n",
              "    }\n",
              "\n",
              "    [theme=dark] .colab-df-convert {\n",
              "      background-color: #3B4455;\n",
              "      fill: #D2E3FC;\n",
              "    }\n",
              "\n",
              "    [theme=dark] .colab-df-convert:hover {\n",
              "      background-color: #434B5C;\n",
              "      box-shadow: 0px 1px 3px 1px rgba(0, 0, 0, 0.15);\n",
              "      filter: drop-shadow(0px 1px 2px rgba(0, 0, 0, 0.3));\n",
              "      fill: #FFFFFF;\n",
              "    }\n",
              "  </style>\n",
              "\n",
              "      <script>\n",
              "        const buttonEl =\n",
              "          document.querySelector('#df-6e670bd8-934d-44e1-beda-5a03a3b5535a button.colab-df-convert');\n",
              "        buttonEl.style.display =\n",
              "          google.colab.kernel.accessAllowed ? 'block' : 'none';\n",
              "\n",
              "        async function convertToInteractive(key) {\n",
              "          const element = document.querySelector('#df-6e670bd8-934d-44e1-beda-5a03a3b5535a');\n",
              "          const dataTable =\n",
              "            await google.colab.kernel.invokeFunction('convertToInteractive',\n",
              "                                                     [key], {});\n",
              "          if (!dataTable) return;\n",
              "\n",
              "          const docLinkHtml = 'Like what you see? Visit the ' +\n",
              "            '<a target=\"_blank\" href=https://colab.research.google.com/notebooks/data_table.ipynb>data table notebook</a>'\n",
              "            + ' to learn more about interactive tables.';\n",
              "          element.innerHTML = '';\n",
              "          dataTable['output_type'] = 'display_data';\n",
              "          await google.colab.output.renderOutput(dataTable, element);\n",
              "          const docLink = document.createElement('div');\n",
              "          docLink.innerHTML = docLinkHtml;\n",
              "          element.appendChild(docLink);\n",
              "        }\n",
              "      </script>\n",
              "    </div>\n",
              "  </div>\n",
              "  "
            ],
            "application/vnd.google.colaboratory.module+javascript": "\n      import \"https://ssl.gstatic.com/colaboratory/data_table/a8bd4d5e58f96183/data_table.js\";\n\n      window.createDataTable({\n        data: [[{\n            'v': 0,\n            'f': \"0\",\n        },\n\"generate question: answer: al-Mamlakah al-\\u02bbArab\\u012byah as-Su\\u02bb\\u016bd\\u012byah context: Following the unification of the Hejaz and Nejd kingdoms, the new state was named al-Mamlakah al-\\u02bbArab\\u012byah as-Su\\u02bb\\u016bd\\u012byah (a transliteration of \\u0627\\u0644\\u0645\\u0645\\u0644\\u0643\\u0629 \\u0627\\u0644\\u0639\\u0631\\u0628\\u064a\\u0629 \\u0627\\u0644\\u0633\\u0639\\u0648\\u062f\\u064a\\u0629 in Arabic) by royal decree on 23 September 1932 by its founder, Abdulaziz Al Saud (Ibn Saud). Although this is normally translated as \\\"the Kingdom of Saudi Arabia\\\" in English,[24] it literally means \\\"the Saudi Arab kingdom\\\",[25] or \\\"the Arab Saudi Kingdom\\\".[26]\",\n\"what was the real name of saudi arabia\"],\n [{\n            'v': 1,\n            'f': \"1\",\n        },\n\"generate question: answer: the name announcement of Kylie Jenner's first child context: This list contains the top ten pictures with the most likes on the social photo-sharing platform Instagram;[1] Instagram does not provide an official list. As of April 2018, the name announcement of Kylie Jenner's first child is the most-liked picture with over 17 million likes.[2][3] Additionally, Kylie Jenner has the most pictures in the top ten with four, including the top three overall. Most of Jenner's top pictures feature her newborn daughter, Stormi Webster.\",\n\"whats the most liked picture on instagram 2018\"]],\n        columns: [[\"number\", \"index\"], [\"string\", \"orig\"], [\"string\", \"target\"]],\n        columnOptions: [{\"width\": \"1px\", \"className\": \"index_column\"}],\n        rowsPerPage: 25,\n        helpUrl: \"https://colab.research.google.com/notebooks/data_table.ipynb\",\n        suppressOutputScrolling: true,\n        minimumWidth: undefined,\n      });\n    "
          },
          "metadata": {},
          "execution_count": 20
        }
      ],
      "source": [
        "validation_df = pd.read_csv(validation_data_file)\n",
        "validation_df[['orig', 'target']][:2]"
      ]
    },
    {
      "cell_type": "code",
      "execution_count": 21,
      "metadata": {
        "id": "VHLLVOB4fG5W"
      },
      "outputs": [],
      "source": [
        "# Download tokenizer and model, associate the model with the GPU\n",
        "\n",
        "t5_tokenizer = T5Tokenizer.from_pretrained(tokenizer)\n",
        "t5_model = T5ForConditionalGeneration.from_pretrained(model_folder)\n",
        "t5_model.to(torch.device('cuda:0'))\n",
        "pass"
      ]
    },
    {
      "cell_type": "code",
      "source": [
        "predictions = []\n",
        "count = validation_df.shape[0]\n",
        "\n",
        "print(\"Generating predictions:\")\n",
        "for start in range (0, count, batch_size):\n",
        "  to = min([count, start + batch_size])\n",
        "  inputs = t5_tokenizer(validation_df['orig'][start:to].to_list(), return_tensors='pt', max_length=max_length, truncation=True, padding=True)\n",
        "  output_ids = t5_model.generate(inputs['input_ids'].cuda(), max_length=max_length)\n",
        "  prediction_batch = t5_tokenizer.batch_decode(output_ids, skip_special_tokens=True)\n",
        "  predictions.extend(prediction_batch)\n",
        "  print (f\"{to} \", end=\"\")\n",
        "  if to%1000 == 0: print()\n",
        "print(\"Predictions generated\")"
      ],
      "metadata": {
        "id": "wnD8aDG2_GpV",
        "colab": {
          "base_uri": "https://localhost:8080/"
        },
        "outputId": "3f349d33-0a9e-41e6-f1cf-928742c8f458"
      },
      "execution_count": 22,
      "outputs": [
        {
          "output_type": "stream",
          "name": "stdout",
          "text": [
            "Generating predictions:\n",
            "125 250 375 500 625 750 875 1000 \n",
            "1125 1250 1375 1500 1625 1750 1875 2000 \n",
            "2125 2250 2356 Predictions generated\n"
          ]
        }
      ]
    },
    {
      "cell_type": "code",
      "execution_count": 23,
      "metadata": {
        "id": "fBYDU6c8jMoU"
      },
      "outputs": [],
      "source": [
        "df=pd.DataFrame()\n",
        "df['context'] = [str.split('context: ')[1] for str in validation_df['orig']]\n",
        "df['answer'] =  [str.split('context: ')[0][26: ] for str in validation_df['orig']]\n",
        "df['target'] = validation_df['target']\n",
        "df['prediction'] = predictions"
      ]
    },
    {
      "cell_type": "code",
      "execution_count": 26,
      "metadata": {
        "colab": {
          "base_uri": "https://localhost:8080/",
          "height": 1957
        },
        "id": "hILCbzSCzLBY",
        "outputId": "ea9db499-23cc-4e63-d19b-5b5ebde54eb9"
      },
      "outputs": [
        {
          "output_type": "execute_result",
          "data": {
            "text/plain": [
              "                                             context  \\\n",
              "0  Following the unification of the Hejaz and Nej...   \n",
              "1  This list contains the top ten pictures with t...   \n",
              "2  Alice Bowman (Meg Ryan) moves to the (fictiona...   \n",
              "3  A common synonym for net profit when discussin...   \n",
              "4  Human fingerprints are detailed, nearly unique...   \n",
              "5  The Los Angeles Lakers are an American profess...   \n",
              "6  Myofascial trigger points, also known as trigg...   \n",
              "7  USS Maine (ACR-1) is an American naval ship th...   \n",
              "8  Patrick Walshe (July 26, 1900 – December 11, 1...   \n",
              "9  The Winter Olympics has been hosted on three c...   \n",
              "\n",
              "                                              answer  \\\n",
              "0             al-Mamlakah al-ʻArabīyah as-Suʻūdīyah    \n",
              "1   the name announcement of Kylie Jenner's first...   \n",
              "2   the (fictional) South American country of Tec...   \n",
              "3                  on the bottom line of the report    \n",
              "4                            the early 20th century    \n",
              "5                                           in 2010    \n",
              "6   hyperirritable spots in the fascia surroundin...   \n",
              "7                                     Havana Harbor    \n",
              "8                                    Patrick Walshe    \n",
              "9                                              four    \n",
              "\n",
              "                                              target  \\\n",
              "0             what was the real name of saudi arabia   \n",
              "1     whats the most liked picture on instagram 2018   \n",
              "2      where does the movie proof of life take place   \n",
              "3           where is net profit on the balance sheet   \n",
              "4   when was fingerprinting first used by the police   \n",
              "5  when was the last time the los angeles lakers ...   \n",
              "6       where are trigger points located in the body   \n",
              "7  where was the u.s.s maine when it exploded in ...   \n",
              "8                who plays nikko in the wizard of oz   \n",
              "9  how many times have the winter olympics been i...   \n",
              "\n",
              "                                          prediction  \n",
              "0                What was the name of the new state?  \n",
              "1               What is the name of her first child?  \n",
              "2            What country is Alice Bowman living in?  \n",
              "3             What is the bottom line of the report?  \n",
              "4            What year was the fingerprint analysis?  \n",
              "5           What year did they win the championship?  \n",
              "6                 What is myofascial trigger points?  \n",
              "7                What was the location of the wreck?  \n",
              "8                                 What was his name?  \n",
              "9  What countries have the Winter Olympics been h...  "
            ],
            "text/html": [
              "\n",
              "  <div id=\"df-6b3c1961-dd55-496a-8db7-b17db601d270\">\n",
              "    <div class=\"colab-df-container\">\n",
              "      <div>\n",
              "<style scoped>\n",
              "    .dataframe tbody tr th:only-of-type {\n",
              "        vertical-align: middle;\n",
              "    }\n",
              "\n",
              "    .dataframe tbody tr th {\n",
              "        vertical-align: top;\n",
              "    }\n",
              "\n",
              "    .dataframe thead th {\n",
              "        text-align: right;\n",
              "    }\n",
              "</style>\n",
              "<table border=\"1\" class=\"dataframe\">\n",
              "  <thead>\n",
              "    <tr style=\"text-align: right;\">\n",
              "      <th></th>\n",
              "      <th>context</th>\n",
              "      <th>answer</th>\n",
              "      <th>target</th>\n",
              "      <th>prediction</th>\n",
              "    </tr>\n",
              "  </thead>\n",
              "  <tbody>\n",
              "    <tr>\n",
              "      <th>0</th>\n",
              "      <td>Following the unification of the Hejaz and Nej...</td>\n",
              "      <td>al-Mamlakah al-ʻArabīyah as-Suʻūdīyah</td>\n",
              "      <td>what was the real name of saudi arabia</td>\n",
              "      <td>What was the name of the new state?</td>\n",
              "    </tr>\n",
              "    <tr>\n",
              "      <th>1</th>\n",
              "      <td>This list contains the top ten pictures with t...</td>\n",
              "      <td>the name announcement of Kylie Jenner's first...</td>\n",
              "      <td>whats the most liked picture on instagram 2018</td>\n",
              "      <td>What is the name of her first child?</td>\n",
              "    </tr>\n",
              "    <tr>\n",
              "      <th>2</th>\n",
              "      <td>Alice Bowman (Meg Ryan) moves to the (fictiona...</td>\n",
              "      <td>the (fictional) South American country of Tec...</td>\n",
              "      <td>where does the movie proof of life take place</td>\n",
              "      <td>What country is Alice Bowman living in?</td>\n",
              "    </tr>\n",
              "    <tr>\n",
              "      <th>3</th>\n",
              "      <td>A common synonym for net profit when discussin...</td>\n",
              "      <td>on the bottom line of the report</td>\n",
              "      <td>where is net profit on the balance sheet</td>\n",
              "      <td>What is the bottom line of the report?</td>\n",
              "    </tr>\n",
              "    <tr>\n",
              "      <th>4</th>\n",
              "      <td>Human fingerprints are detailed, nearly unique...</td>\n",
              "      <td>the early 20th century</td>\n",
              "      <td>when was fingerprinting first used by the police</td>\n",
              "      <td>What year was the fingerprint analysis?</td>\n",
              "    </tr>\n",
              "    <tr>\n",
              "      <th>5</th>\n",
              "      <td>The Los Angeles Lakers are an American profess...</td>\n",
              "      <td>in 2010</td>\n",
              "      <td>when was the last time the los angeles lakers ...</td>\n",
              "      <td>What year did they win the championship?</td>\n",
              "    </tr>\n",
              "    <tr>\n",
              "      <th>6</th>\n",
              "      <td>Myofascial trigger points, also known as trigg...</td>\n",
              "      <td>hyperirritable spots in the fascia surroundin...</td>\n",
              "      <td>where are trigger points located in the body</td>\n",
              "      <td>What is myofascial trigger points?</td>\n",
              "    </tr>\n",
              "    <tr>\n",
              "      <th>7</th>\n",
              "      <td>USS Maine (ACR-1) is an American naval ship th...</td>\n",
              "      <td>Havana Harbor</td>\n",
              "      <td>where was the u.s.s maine when it exploded in ...</td>\n",
              "      <td>What was the location of the wreck?</td>\n",
              "    </tr>\n",
              "    <tr>\n",
              "      <th>8</th>\n",
              "      <td>Patrick Walshe (July 26, 1900 – December 11, 1...</td>\n",
              "      <td>Patrick Walshe</td>\n",
              "      <td>who plays nikko in the wizard of oz</td>\n",
              "      <td>What was his name?</td>\n",
              "    </tr>\n",
              "    <tr>\n",
              "      <th>9</th>\n",
              "      <td>The Winter Olympics has been hosted on three c...</td>\n",
              "      <td>four</td>\n",
              "      <td>how many times have the winter olympics been i...</td>\n",
              "      <td>What countries have the Winter Olympics been h...</td>\n",
              "    </tr>\n",
              "  </tbody>\n",
              "</table>\n",
              "</div>\n",
              "      <button class=\"colab-df-convert\" onclick=\"convertToInteractive('df-6b3c1961-dd55-496a-8db7-b17db601d270')\"\n",
              "              title=\"Convert this dataframe to an interactive table.\"\n",
              "              style=\"display:none;\">\n",
              "        \n",
              "  <svg xmlns=\"http://www.w3.org/2000/svg\" height=\"24px\"viewBox=\"0 0 24 24\"\n",
              "       width=\"24px\">\n",
              "    <path d=\"M0 0h24v24H0V0z\" fill=\"none\"/>\n",
              "    <path d=\"M18.56 5.44l.94 2.06.94-2.06 2.06-.94-2.06-.94-.94-2.06-.94 2.06-2.06.94zm-11 1L8.5 8.5l.94-2.06 2.06-.94-2.06-.94L8.5 2.5l-.94 2.06-2.06.94zm10 10l.94 2.06.94-2.06 2.06-.94-2.06-.94-.94-2.06-.94 2.06-2.06.94z\"/><path d=\"M17.41 7.96l-1.37-1.37c-.4-.4-.92-.59-1.43-.59-.52 0-1.04.2-1.43.59L10.3 9.45l-7.72 7.72c-.78.78-.78 2.05 0 2.83L4 21.41c.39.39.9.59 1.41.59.51 0 1.02-.2 1.41-.59l7.78-7.78 2.81-2.81c.8-.78.8-2.07 0-2.86zM5.41 20L4 18.59l7.72-7.72 1.47 1.35L5.41 20z\"/>\n",
              "  </svg>\n",
              "      </button>\n",
              "      \n",
              "  <style>\n",
              "    .colab-df-container {\n",
              "      display:flex;\n",
              "      flex-wrap:wrap;\n",
              "      gap: 12px;\n",
              "    }\n",
              "\n",
              "    .colab-df-convert {\n",
              "      background-color: #E8F0FE;\n",
              "      border: none;\n",
              "      border-radius: 50%;\n",
              "      cursor: pointer;\n",
              "      display: none;\n",
              "      fill: #1967D2;\n",
              "      height: 32px;\n",
              "      padding: 0 0 0 0;\n",
              "      width: 32px;\n",
              "    }\n",
              "\n",
              "    .colab-df-convert:hover {\n",
              "      background-color: #E2EBFA;\n",
              "      box-shadow: 0px 1px 2px rgba(60, 64, 67, 0.3), 0px 1px 3px 1px rgba(60, 64, 67, 0.15);\n",
              "      fill: #174EA6;\n",
              "    }\n",
              "\n",
              "    [theme=dark] .colab-df-convert {\n",
              "      background-color: #3B4455;\n",
              "      fill: #D2E3FC;\n",
              "    }\n",
              "\n",
              "    [theme=dark] .colab-df-convert:hover {\n",
              "      background-color: #434B5C;\n",
              "      box-shadow: 0px 1px 3px 1px rgba(0, 0, 0, 0.15);\n",
              "      filter: drop-shadow(0px 1px 2px rgba(0, 0, 0, 0.3));\n",
              "      fill: #FFFFFF;\n",
              "    }\n",
              "  </style>\n",
              "\n",
              "      <script>\n",
              "        const buttonEl =\n",
              "          document.querySelector('#df-6b3c1961-dd55-496a-8db7-b17db601d270 button.colab-df-convert');\n",
              "        buttonEl.style.display =\n",
              "          google.colab.kernel.accessAllowed ? 'block' : 'none';\n",
              "\n",
              "        async function convertToInteractive(key) {\n",
              "          const element = document.querySelector('#df-6b3c1961-dd55-496a-8db7-b17db601d270');\n",
              "          const dataTable =\n",
              "            await google.colab.kernel.invokeFunction('convertToInteractive',\n",
              "                                                     [key], {});\n",
              "          if (!dataTable) return;\n",
              "\n",
              "          const docLinkHtml = 'Like what you see? Visit the ' +\n",
              "            '<a target=\"_blank\" href=https://colab.research.google.com/notebooks/data_table.ipynb>data table notebook</a>'\n",
              "            + ' to learn more about interactive tables.';\n",
              "          element.innerHTML = '';\n",
              "          dataTable['output_type'] = 'display_data';\n",
              "          await google.colab.output.renderOutput(dataTable, element);\n",
              "          const docLink = document.createElement('div');\n",
              "          docLink.innerHTML = docLinkHtml;\n",
              "          element.appendChild(docLink);\n",
              "        }\n",
              "      </script>\n",
              "    </div>\n",
              "  </div>\n",
              "  "
            ],
            "application/vnd.google.colaboratory.module+javascript": "\n      import \"https://ssl.gstatic.com/colaboratory/data_table/a8bd4d5e58f96183/data_table.js\";\n\n      window.createDataTable({\n        data: [[{\n            'v': 0,\n            'f': \"0\",\n        },\n\"Following the unification of the Hejaz and Nejd kingdoms, the new state was named al-Mamlakah al-\\u02bbArab\\u012byah as-Su\\u02bb\\u016bd\\u012byah (a transliteration of \\u0627\\u0644\\u0645\\u0645\\u0644\\u0643\\u0629 \\u0627\\u0644\\u0639\\u0631\\u0628\\u064a\\u0629 \\u0627\\u0644\\u0633\\u0639\\u0648\\u062f\\u064a\\u0629 in Arabic) by royal decree on 23 September 1932 by its founder, Abdulaziz Al Saud (Ibn Saud). Although this is normally translated as \\\"the Kingdom of Saudi Arabia\\\" in English,[24] it literally means \\\"the Saudi Arab kingdom\\\",[25] or \\\"the Arab Saudi Kingdom\\\".[26]\",\n\" al-Mamlakah al-\\u02bbArab\\u012byah as-Su\\u02bb\\u016bd\\u012byah \",\n\"what was the real name of saudi arabia\",\n\"What was the name of the new state?\"],\n [{\n            'v': 1,\n            'f': \"1\",\n        },\n\"This list contains the top ten pictures with the most likes on the social photo-sharing platform Instagram;[1] Instagram does not provide an official list. As of April 2018, the name announcement of Kylie Jenner's first child is the most-liked picture with over 17 million likes.[2][3] Additionally, Kylie Jenner has the most pictures in the top ten with four, including the top three overall. Most of Jenner's top pictures feature her newborn daughter, Stormi Webster.\",\n\" the name announcement of Kylie Jenner's first child \",\n\"whats the most liked picture on instagram 2018\",\n\"What is the name of her first child?\"],\n [{\n            'v': 2,\n            'f': \"2\",\n        },\n\"Alice Bowman (Meg Ryan) moves to the (fictional) South American country of Tecala because her engineer husband, Peter Bowman (David Morse), has been hired to help build a new dam for oil company Quad Carbon. Though Alice is unhappy at this most recent move, she agrees to stay. While driving one morning through the city, Peter is caught in traffic and then ambushed and abducted by guerrilla rebels of the Liberation Army of Tecala (ELT). Believing that Peter is working on Quad Carbon's oil pipeline, ELT soldiers lead him through the jungle.\",\n\" the (fictional) South American country of Tecala \",\n\"where does the movie proof of life take place\",\n\"What country is Alice Bowman living in?\"],\n [{\n            'v': 3,\n            'f': \"3\",\n        },\n\"A common synonym for net profit when discussing financial statements (which include a balance sheet and an income statement) is the bottom line. This term results from the traditional appearance of an income statement which shows all allocated revenues and expenses over a specified time period with the resulting summation on the bottom line of the report.\",\n\" on the bottom line of the report \",\n\"where is net profit on the balance sheet\",\n\"What is the bottom line of the report?\"],\n [{\n            'v': 4,\n            'f': \"4\",\n        },\n\"Human fingerprints are detailed, nearly unique, difficult to alter, and durable over the life of an individual, making them suitable as long-term markers of human identity. They may be employed by police or other authorities to identify individuals who wish to conceal their identity, or to identify people who are incapacitated or deceased and thus unable to identify themselves, as in the aftermath of a natural disaster. Fingerprint analysis, in use since the early 20th century, has led to many crimes being solved.[3] This means that many criminals consider gloves essential.[4][5] In 2015, the identification of sex by use of a fingerprint test has been reported.[6][7]\",\n\" the early 20th century \",\n\"when was fingerprinting first used by the police\",\n\"What year was the fingerprint analysis?\"],\n [{\n            'v': 5,\n            'f': \"5\",\n        },\n\"The Los Angeles Lakers are an American professional basketball team based in Los Angeles. The Lakers compete in the National Basketball Association (NBA), as a member of the league's Western Conference Pacific Division. The Lakers play their home games at Staples Center, an arena shared with the NBA's Los Angeles Clippers, the Los Angeles Sparks of the Women's National Basketball Association, and the Los Angeles Kings of the National Hockey League.[10] The Lakers are one of the most successful teams in the history of the NBA, and have won 16 NBA championships (11 in Los Angeles), their last being in 2010.\",\n\" in 2010 \",\n\"when was the last time the los angeles lakers won a championship\",\n\"What year did they win the championship?\"],\n [{\n            'v': 6,\n            'f': \"6\",\n        },\n\"Myofascial trigger points, also known as trigger points, are described as hyperirritable spots in the fascia surrounding skeletal muscle. They are associated with palpable nodules in taut bands of muscle fibers.[1] They are a topic of ongoing controversy, as there is limited data to inform a scientific understanding of the phenomenon. Accordingly, a formal acceptance of myofascial \\\"knots\\\" as an identifiable source of pain is more common among bodyworkers, physical therapists, chiropractors, and osteopathic practitioners. Nonetheless, the concept of trigger points provides a framework which may be used to help address certain musculoskeletal pain.\",\n\" hyperirritable spots in the fascia surrounding skeletal muscle \",\n\"where are trigger points located in the body\",\n\"What is myofascial trigger points?\"],\n [{\n            'v': 7,\n            'f': \"7\",\n        },\n\"USS Maine (ACR-1) is an American naval ship that sank in Havana Harbor during the Cuban revolt against Spain, an event that became a major political issue in the United States.\",\n\" Havana Harbor \",\n\"where was the u.s.s maine when it exploded in 1898\",\n\"What was the location of the wreck?\"],\n [{\n            'v': 8,\n            'f': \"8\",\n        },\n\"Patrick Walshe (July 26, 1900 \\u2013 December 11, 1991) was an American dwarf character actor and circus performer who specialized portraying animals (animal impersonating). He is best known for playing Nikko, the head of the Winged Monkeys in The Wizard of Oz. He appeared in only a few films, as most of his work was in theater, vaudeville and circus.\",\n\" Patrick Walshe \",\n\"who plays nikko in the wizard of oz\",\n\"What was his name?\"],\n [{\n            'v': 9,\n            'f': \"9\",\n        },\n\"The Winter Olympics has been hosted on three continents by twelve different countries. The Games have been held four times in the United States (in 1932, 1960, 1980 and 2002); three times in France (in 1924, 1968 and 1992); and twice each in Austria (1964, 1976), Canada (1988, 2010), Japan (1972, 1998), Italy (1956, 2006), Norway (1952, 1994), and Switzerland (1928, 1948). Also, the Games have been held just once each in Germany (1936), Yugoslavia (1984), Russia (2014) and South Korea (2018). The IOC has selected Beijing, China, to host the 2022 Winter Olympics and the host of the 2026 Winter Olympics will be selected in September 2019. As of 2018[update], no city in the southern hemisphere has applied to host the cold-weather-dependent Winter Olympics, which are held in February at the height of the southern hemisphere summer.\",\n\" four \",\n\"how many times have the winter olympics been in the usa since 1924\",\n\"What countries have the Winter Olympics been held?\"]],\n        columns: [[\"number\", \"index\"], [\"string\", \"context\"], [\"string\", \"answer\"], [\"string\", \"target\"], [\"string\", \"prediction\"]],\n        columnOptions: [{\"width\": \"1px\", \"className\": \"index_column\"}],\n        rowsPerPage: 25,\n        helpUrl: \"https://colab.research.google.com/notebooks/data_table.ipynb\",\n        suppressOutputScrolling: true,\n        minimumWidth: undefined,\n      });\n    "
          },
          "metadata": {},
          "execution_count": 26
        }
      ],
      "source": [
        "df[:10]"
      ]
    },
    {
      "cell_type": "code",
      "execution_count": 25,
      "metadata": {
        "id": "cKzojpnFqbLN"
      },
      "outputs": [],
      "source": [
        "if save_predictions:\n",
        "  df.to_csv(prediction_file)"
      ]
    }
  ],
  "metadata": {
    "accelerator": "GPU",
    "colab": {
      "collapsed_sections": [
        "fJ8lW8X8NJ9o"
      ],
      "provenance": [],
      "include_colab_link": true
    },
    "gpuClass": "standard",
    "kernelspec": {
      "display_name": "Python 3",
      "name": "python3"
    },
    "language_info": {
      "name": "python"
    }
  },
  "nbformat": 4,
  "nbformat_minor": 0
}