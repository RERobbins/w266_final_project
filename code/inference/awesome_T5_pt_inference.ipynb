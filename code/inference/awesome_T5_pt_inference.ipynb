{
  "cells": [
    {
      "cell_type": "markdown",
      "metadata": {
        "id": "view-in-github",
        "colab_type": "text"
      },
      "source": [
        "<a href=\"https://colab.research.google.com/github/jeanlucjackson/w266_final_project/blob/main/code/inference/awesome_T5_pt_inference.ipynb\" target=\"_parent\"><img src=\"https://colab.research.google.com/assets/colab-badge.svg\" alt=\"Open In Colab\"/></a>"
      ]
    },
    {
      "cell_type": "markdown",
      "source": [
        "### Generate Predictions From An Awesome Validation Dataset\n",
        "\n",
        "This notebook assumes a T5 PyTorch model.\n",
        "\n",
        "Setting the constants in the next call should be all that is necessary to run the validation set."
      ],
      "metadata": {
        "id": "Hh-4vVXTMhpC"
      }
    },
    {
      "cell_type": "code",
      "source": [
        "# Set these constants for each model and validation dataset combination\n",
        "\n",
        "model_name = \"T5_base_pt_long.amalgam\"\n",
        "validation_dataset_names = [\"nq\", \"quac\", \"squad\", \"triviaqa\"]\n",
        "\n",
        "save_predictions = True\n",
        "save_mode = 'w' # w for write, a for append\n",
        "\n",
        "max_length = 1024 # 1024 for long model and 512 otherwise\n",
        "batch_size = 50\n",
        "\n",
        "start_sample = None  # If None, then 0 will be used\n",
        "end_sample = None # If None, then the end of the set will be used"
      ],
      "metadata": {
        "id": "rlCLzceMMahp"
      },
      "execution_count": 12,
      "outputs": []
    },
    {
      "cell_type": "markdown",
      "source": [
        "### Generate Predictions"
      ],
      "metadata": {
        "id": "fJ8lW8X8NJ9o"
      }
    },
    {
      "cell_type": "code",
      "execution_count": 3,
      "metadata": {
        "id": "c3906UT0dyke",
        "colab": {
          "base_uri": "https://localhost:8080/"
        },
        "outputId": "9884e945-41af-4d5f-91ad-a2ba45d8087c"
      },
      "outputs": [
        {
          "output_type": "stream",
          "name": "stdout",
          "text": [
            "\u001b[K     |████████████████████████████████| 5.5 MB 5.0 MB/s \n",
            "\u001b[K     |████████████████████████████████| 163 kB 82.9 MB/s \n",
            "\u001b[K     |████████████████████████████████| 7.6 MB 84.5 MB/s \n",
            "\u001b[?25h"
          ]
        }
      ],
      "source": [
        "!pip install -q transformers"
      ]
    },
    {
      "cell_type": "code",
      "execution_count": 4,
      "metadata": {
        "id": "vBX23WXdd0v-",
        "colab": {
          "base_uri": "https://localhost:8080/"
        },
        "outputId": "88aa6eaf-2af0-4c56-c49d-292b39bda304"
      },
      "outputs": [
        {
          "output_type": "stream",
          "name": "stdout",
          "text": [
            "\u001b[?25l\r\u001b[K     |▎                               | 10 kB 31.1 MB/s eta 0:00:01\r\u001b[K     |▌                               | 20 kB 6.6 MB/s eta 0:00:01\r\u001b[K     |▊                               | 30 kB 9.5 MB/s eta 0:00:01\r\u001b[K     |█                               | 40 kB 4.0 MB/s eta 0:00:01\r\u001b[K     |█▎                              | 51 kB 4.2 MB/s eta 0:00:01\r\u001b[K     |█▌                              | 61 kB 5.0 MB/s eta 0:00:01\r\u001b[K     |█▉                              | 71 kB 5.2 MB/s eta 0:00:01\r\u001b[K     |██                              | 81 kB 5.8 MB/s eta 0:00:01\r\u001b[K     |██▎                             | 92 kB 4.7 MB/s eta 0:00:01\r\u001b[K     |██▋                             | 102 kB 5.0 MB/s eta 0:00:01\r\u001b[K     |██▉                             | 112 kB 5.0 MB/s eta 0:00:01\r\u001b[K     |███                             | 122 kB 5.0 MB/s eta 0:00:01\r\u001b[K     |███▍                            | 133 kB 5.0 MB/s eta 0:00:01\r\u001b[K     |███▋                            | 143 kB 5.0 MB/s eta 0:00:01\r\u001b[K     |███▉                            | 153 kB 5.0 MB/s eta 0:00:01\r\u001b[K     |████                            | 163 kB 5.0 MB/s eta 0:00:01\r\u001b[K     |████▍                           | 174 kB 5.0 MB/s eta 0:00:01\r\u001b[K     |████▋                           | 184 kB 5.0 MB/s eta 0:00:01\r\u001b[K     |████▉                           | 194 kB 5.0 MB/s eta 0:00:01\r\u001b[K     |█████▏                          | 204 kB 5.0 MB/s eta 0:00:01\r\u001b[K     |█████▍                          | 215 kB 5.0 MB/s eta 0:00:01\r\u001b[K     |█████▋                          | 225 kB 5.0 MB/s eta 0:00:01\r\u001b[K     |██████                          | 235 kB 5.0 MB/s eta 0:00:01\r\u001b[K     |██████▏                         | 245 kB 5.0 MB/s eta 0:00:01\r\u001b[K     |██████▍                         | 256 kB 5.0 MB/s eta 0:00:01\r\u001b[K     |██████▊                         | 266 kB 5.0 MB/s eta 0:00:01\r\u001b[K     |███████                         | 276 kB 5.0 MB/s eta 0:00:01\r\u001b[K     |███████▏                        | 286 kB 5.0 MB/s eta 0:00:01\r\u001b[K     |███████▍                        | 296 kB 5.0 MB/s eta 0:00:01\r\u001b[K     |███████▊                        | 307 kB 5.0 MB/s eta 0:00:01\r\u001b[K     |████████                        | 317 kB 5.0 MB/s eta 0:00:01\r\u001b[K     |████████▏                       | 327 kB 5.0 MB/s eta 0:00:01\r\u001b[K     |████████▌                       | 337 kB 5.0 MB/s eta 0:00:01\r\u001b[K     |████████▊                       | 348 kB 5.0 MB/s eta 0:00:01\r\u001b[K     |█████████                       | 358 kB 5.0 MB/s eta 0:00:01\r\u001b[K     |█████████▎                      | 368 kB 5.0 MB/s eta 0:00:01\r\u001b[K     |█████████▌                      | 378 kB 5.0 MB/s eta 0:00:01\r\u001b[K     |█████████▊                      | 389 kB 5.0 MB/s eta 0:00:01\r\u001b[K     |██████████                      | 399 kB 5.0 MB/s eta 0:00:01\r\u001b[K     |██████████▎                     | 409 kB 5.0 MB/s eta 0:00:01\r\u001b[K     |██████████▌                     | 419 kB 5.0 MB/s eta 0:00:01\r\u001b[K     |██████████▉                     | 430 kB 5.0 MB/s eta 0:00:01\r\u001b[K     |███████████                     | 440 kB 5.0 MB/s eta 0:00:01\r\u001b[K     |███████████▎                    | 450 kB 5.0 MB/s eta 0:00:01\r\u001b[K     |███████████▌                    | 460 kB 5.0 MB/s eta 0:00:01\r\u001b[K     |███████████▉                    | 471 kB 5.0 MB/s eta 0:00:01\r\u001b[K     |████████████                    | 481 kB 5.0 MB/s eta 0:00:01\r\u001b[K     |████████████▎                   | 491 kB 5.0 MB/s eta 0:00:01\r\u001b[K     |████████████▋                   | 501 kB 5.0 MB/s eta 0:00:01\r\u001b[K     |████████████▉                   | 512 kB 5.0 MB/s eta 0:00:01\r\u001b[K     |█████████████                   | 522 kB 5.0 MB/s eta 0:00:01\r\u001b[K     |█████████████▍                  | 532 kB 5.0 MB/s eta 0:00:01\r\u001b[K     |█████████████▋                  | 542 kB 5.0 MB/s eta 0:00:01\r\u001b[K     |█████████████▉                  | 552 kB 5.0 MB/s eta 0:00:01\r\u001b[K     |██████████████▏                 | 563 kB 5.0 MB/s eta 0:00:01\r\u001b[K     |██████████████▍                 | 573 kB 5.0 MB/s eta 0:00:01\r\u001b[K     |██████████████▋                 | 583 kB 5.0 MB/s eta 0:00:01\r\u001b[K     |██████████████▉                 | 593 kB 5.0 MB/s eta 0:00:01\r\u001b[K     |███████████████▏                | 604 kB 5.0 MB/s eta 0:00:01\r\u001b[K     |███████████████▍                | 614 kB 5.0 MB/s eta 0:00:01\r\u001b[K     |███████████████▋                | 624 kB 5.0 MB/s eta 0:00:01\r\u001b[K     |████████████████                | 634 kB 5.0 MB/s eta 0:00:01\r\u001b[K     |████████████████▏               | 645 kB 5.0 MB/s eta 0:00:01\r\u001b[K     |████████████████▍               | 655 kB 5.0 MB/s eta 0:00:01\r\u001b[K     |████████████████▊               | 665 kB 5.0 MB/s eta 0:00:01\r\u001b[K     |█████████████████               | 675 kB 5.0 MB/s eta 0:00:01\r\u001b[K     |█████████████████▏              | 686 kB 5.0 MB/s eta 0:00:01\r\u001b[K     |█████████████████▌              | 696 kB 5.0 MB/s eta 0:00:01\r\u001b[K     |█████████████████▊              | 706 kB 5.0 MB/s eta 0:00:01\r\u001b[K     |██████████████████              | 716 kB 5.0 MB/s eta 0:00:01\r\u001b[K     |██████████████████▎             | 727 kB 5.0 MB/s eta 0:00:01\r\u001b[K     |██████████████████▌             | 737 kB 5.0 MB/s eta 0:00:01\r\u001b[K     |██████████████████▊             | 747 kB 5.0 MB/s eta 0:00:01\r\u001b[K     |███████████████████             | 757 kB 5.0 MB/s eta 0:00:01\r\u001b[K     |███████████████████▎            | 768 kB 5.0 MB/s eta 0:00:01\r\u001b[K     |███████████████████▌            | 778 kB 5.0 MB/s eta 0:00:01\r\u001b[K     |███████████████████▊            | 788 kB 5.0 MB/s eta 0:00:01\r\u001b[K     |████████████████████            | 798 kB 5.0 MB/s eta 0:00:01\r\u001b[K     |████████████████████▎           | 808 kB 5.0 MB/s eta 0:00:01\r\u001b[K     |████████████████████▌           | 819 kB 5.0 MB/s eta 0:00:01\r\u001b[K     |████████████████████▉           | 829 kB 5.0 MB/s eta 0:00:01\r\u001b[K     |█████████████████████           | 839 kB 5.0 MB/s eta 0:00:01\r\u001b[K     |█████████████████████▎          | 849 kB 5.0 MB/s eta 0:00:01\r\u001b[K     |█████████████████████▋          | 860 kB 5.0 MB/s eta 0:00:01\r\u001b[K     |█████████████████████▉          | 870 kB 5.0 MB/s eta 0:00:01\r\u001b[K     |██████████████████████          | 880 kB 5.0 MB/s eta 0:00:01\r\u001b[K     |██████████████████████▎         | 890 kB 5.0 MB/s eta 0:00:01\r\u001b[K     |██████████████████████▋         | 901 kB 5.0 MB/s eta 0:00:01\r\u001b[K     |██████████████████████▉         | 911 kB 5.0 MB/s eta 0:00:01\r\u001b[K     |███████████████████████         | 921 kB 5.0 MB/s eta 0:00:01\r\u001b[K     |███████████████████████▍        | 931 kB 5.0 MB/s eta 0:00:01\r\u001b[K     |███████████████████████▋        | 942 kB 5.0 MB/s eta 0:00:01\r\u001b[K     |███████████████████████▉        | 952 kB 5.0 MB/s eta 0:00:01\r\u001b[K     |████████████████████████▏       | 962 kB 5.0 MB/s eta 0:00:01\r\u001b[K     |████████████████████████▍       | 972 kB 5.0 MB/s eta 0:00:01\r\u001b[K     |████████████████████████▋       | 983 kB 5.0 MB/s eta 0:00:01\r\u001b[K     |█████████████████████████       | 993 kB 5.0 MB/s eta 0:00:01\r\u001b[K     |█████████████████████████▏      | 1.0 MB 5.0 MB/s eta 0:00:01\r\u001b[K     |█████████████████████████▍      | 1.0 MB 5.0 MB/s eta 0:00:01\r\u001b[K     |█████████████████████████▊      | 1.0 MB 5.0 MB/s eta 0:00:01\r\u001b[K     |██████████████████████████      | 1.0 MB 5.0 MB/s eta 0:00:01\r\u001b[K     |██████████████████████████▏     | 1.0 MB 5.0 MB/s eta 0:00:01\r\u001b[K     |██████████████████████████▍     | 1.1 MB 5.0 MB/s eta 0:00:01\r\u001b[K     |██████████████████████████▊     | 1.1 MB 5.0 MB/s eta 0:00:01\r\u001b[K     |███████████████████████████     | 1.1 MB 5.0 MB/s eta 0:00:01\r\u001b[K     |███████████████████████████▏    | 1.1 MB 5.0 MB/s eta 0:00:01\r\u001b[K     |███████████████████████████▌    | 1.1 MB 5.0 MB/s eta 0:00:01\r\u001b[K     |███████████████████████████▊    | 1.1 MB 5.0 MB/s eta 0:00:01\r\u001b[K     |████████████████████████████    | 1.1 MB 5.0 MB/s eta 0:00:01\r\u001b[K     |████████████████████████████▎   | 1.1 MB 5.0 MB/s eta 0:00:01\r\u001b[K     |████████████████████████████▌   | 1.1 MB 5.0 MB/s eta 0:00:01\r\u001b[K     |████████████████████████████▊   | 1.1 MB 5.0 MB/s eta 0:00:01\r\u001b[K     |█████████████████████████████   | 1.2 MB 5.0 MB/s eta 0:00:01\r\u001b[K     |█████████████████████████████▎  | 1.2 MB 5.0 MB/s eta 0:00:01\r\u001b[K     |█████████████████████████████▌  | 1.2 MB 5.0 MB/s eta 0:00:01\r\u001b[K     |█████████████████████████████▊  | 1.2 MB 5.0 MB/s eta 0:00:01\r\u001b[K     |██████████████████████████████  | 1.2 MB 5.0 MB/s eta 0:00:01\r\u001b[K     |██████████████████████████████▎ | 1.2 MB 5.0 MB/s eta 0:00:01\r\u001b[K     |██████████████████████████████▌ | 1.2 MB 5.0 MB/s eta 0:00:01\r\u001b[K     |██████████████████████████████▉ | 1.2 MB 5.0 MB/s eta 0:00:01\r\u001b[K     |███████████████████████████████ | 1.2 MB 5.0 MB/s eta 0:00:01\r\u001b[K     |███████████████████████████████▎| 1.2 MB 5.0 MB/s eta 0:00:01\r\u001b[K     |███████████████████████████████▋| 1.3 MB 5.0 MB/s eta 0:00:01\r\u001b[K     |███████████████████████████████▉| 1.3 MB 5.0 MB/s eta 0:00:01\r\u001b[K     |████████████████████████████████| 1.3 MB 5.0 MB/s \n",
            "\u001b[?25h"
          ]
        }
      ],
      "source": [
        "!pip install -q sentencepiece"
      ]
    },
    {
      "cell_type": "code",
      "execution_count": 5,
      "metadata": {
        "colab": {
          "base_uri": "https://localhost:8080/"
        },
        "id": "17N1XaF7d6dW",
        "outputId": "257d172f-0b36-4d47-cd01-25a4728ce517"
      },
      "outputs": [
        {
          "output_type": "stream",
          "name": "stdout",
          "text": [
            "Mounted at /content/drive\n"
          ]
        }
      ],
      "source": [
        "from google.colab import drive\n",
        "drive.mount('/content/drive')"
      ]
    },
    {
      "cell_type": "code",
      "execution_count": 6,
      "metadata": {
        "id": "3jvE9TJRd4cG"
      },
      "outputs": [],
      "source": [
        "import os\n",
        "import numpy as np\n",
        "import pandas as pd\n",
        "\n",
        "import torch\n",
        "from transformers import T5Tokenizer, T5ForConditionalGeneration\n",
        "\n",
        "import warnings\n",
        "warnings.simplefilter(action='ignore', category=FutureWarning)\n",
        "\n",
        "from google.colab import data_table\n",
        "data_table.enable_dataframe_formatter()"
      ]
    },
    {
      "cell_type": "code",
      "execution_count": 13,
      "metadata": {
        "id": "iMHoUiDnd9He"
      },
      "outputs": [],
      "source": [
        "# Some important file locations and constants\n",
        "\n",
        "project_root = \"/content/drive/MyDrive/w266 NLP Final Project/\"\n",
        "dataset_root = project_root + \"Data/\"\n",
        "model_root = project_root + \"Models/\"\n",
        "prediction_folder = project_root + \"Predictions/checkpoint/\"\n",
        "\n",
        "tokenizer = \"google/t5-v1_1-base\"\n",
        "model_folder = model_root + model_name"
      ]
    },
    {
      "cell_type": "code",
      "source": [
        "# Get the model and tokenizer\n",
        "\n",
        "T5_tokenizer = T5Tokenizer.from_pretrained(tokenizer)\n",
        "T5_model = T5ForConditionalGeneration.from_pretrained(model_folder)\n",
        "T5_model.to(torch.device('cuda:0'))\n",
        "pass"
      ],
      "metadata": {
        "id": "fEhqOalVycI9"
      },
      "execution_count": 14,
      "outputs": []
    },
    {
      "cell_type": "code",
      "source": [
        "for dataset_name in validation_dataset_names:\n",
        "  if dataset_name == \"squad\":\n",
        "    validation_data_file = f\"{dataset_root}squad.hf/valid_pairs.csv\"\n",
        "  else:  \n",
        "    validation_data_file = f\"{dataset_root}{dataset_name}/valid_pairs.csv\"\n",
        "  print(validation_data_file)\n",
        "  validation_df = pd.read_csv(validation_data_file)\n",
        "  prediction_file = f\"{prediction_folder}predictions.{model_name}.{dataset_name}.csv\" \n",
        "  \n",
        "  start_sample = None\n",
        "  end_sample = None\n",
        "\n",
        "  predictions = []\n",
        "  \n",
        "  if start_sample is None: start_sample = 0\n",
        "  if end_sample is None: end_sample = validation_df.shape[0]\n",
        "  \n",
        "  print(f\"Generating predictions using {dataset_name} from {start_sample} to {end_sample}:\")\n",
        "  for start in range (start_sample, end_sample, batch_size):\n",
        "     to = min([end_sample, start + batch_size])\n",
        "     inputs = T5_tokenizer(validation_df['orig'][start:to].to_list(), return_tensors='pt', max_length=max_length, truncation=True, padding=True)\n",
        "     output_ids = T5_model.generate(inputs['input_ids'].cuda(), max_length=max_length)\n",
        "     prediction_batch = T5_tokenizer.batch_decode(output_ids, skip_special_tokens=True)\n",
        "     predictions.extend(prediction_batch)\n",
        "     print (f\"{to} \", end=\"\")\n",
        "     if to%1000 == 0: print()\n",
        "  print(\"\\nPredictions generated.\")\n",
        "\n",
        "  df=pd.DataFrame()\n",
        "  df['context'] = [str.split('</s>')[1] for str in validation_df['orig'][start_sample:end_sample]]\n",
        "  df['answer'] =  [str.split('</s>')[0] for str in validation_df['orig'][start_sample:end_sample]]\n",
        "  df['target'] = validation_df['target']\n",
        "  df['prediction'] = predictions\n",
        "\n",
        "  if save_predictions:\n",
        "    df.to_csv(prediction_file, mode=save_mode)\n",
        "    print(f\"Write: {prediction_file}\")"
      ],
      "metadata": {
        "colab": {
          "base_uri": "https://localhost:8080/"
        },
        "id": "zYAIRZMxwXNn",
        "outputId": "0397e222-e961-4a6a-b770-2d89ce7eb310"
      },
      "execution_count": null,
      "outputs": [
        {
          "output_type": "stream",
          "name": "stdout",
          "text": [
            "/content/drive/MyDrive/w266 NLP Final Project/Data/nq/bart_valid_pairs.csv\n",
            "Generating predictions using nq from 0 to 2356:\n",
            "50 100 150 200 250 300 350 400 450 500 550 600 650 700 750 800 850 900 950 1000 \n",
            "1050 1100 1150 1200 1250 1300 1350 1400 1450 1500 1550 1600 1650 1700 1750 1800 1850 1900 1950 2000 \n",
            "2050 2100 2150 2200 2250 2300 2350 2356 \n",
            "Predictions generated.\n",
            "Write: /content/drive/MyDrive/w266 NLP Final Project/Predictions/predictions.bart_base_pt_long.triviaqa.nq.csv\n",
            "/content/drive/MyDrive/w266 NLP Final Project/Data/quac/bart_valid_pairs.csv\n",
            "Generating predictions using quac from 0 to 5868:\n",
            "50 100 150 200 250 300 350 400 450 500 550 600 650 700 750 800 850 900 950 1000 \n",
            "1050 1100 1150 1200 1250 1300 1350 1400 1450 1500 1550 1600 1650 1700 1750 1800 1850 1900 1950 2000 \n",
            "2050 2100 2150 2200 2250 2300 2350 2400 2450 2500 2550 2600 2650 2700 2750 2800 2850 2900 2950 3000 \n",
            "3050 3100 3150 3200 3250 3300 3350 3400 3450 3500 3550 3600 3650 3700 3750 3800 3850 3900 3950 4000 \n",
            "4050 4100 4150 4200 4250 4300 4350 4400 4450 4500 4550 4600 4650 4700 4750 4800 4850 4900 4950 5000 \n",
            "5050 5100 5150 5200 5250 5300 5350 5400 5450 5500 5550 5600 5650 5700 5750 5800 5850 5868 \n",
            "Predictions generated.\n",
            "Write: /content/drive/MyDrive/w266 NLP Final Project/Predictions/predictions.bart_base_pt_long.triviaqa.quac.csv\n",
            "/content/drive/MyDrive/w266 NLP Final Project/Data/squad.hf/bart_valid_pairs.csv\n",
            "Generating predictions using squad from 0 to 10570:\n",
            "50 100 150 200 250 300 350 400 450 500 550 600 650 700 750 800 850 900 950 1000 \n",
            "1050 1100 1150 1200 1250 1300 1350 1400 1450 1500 1550 1600 1650 1700 1750 1800 1850 1900 1950 2000 \n",
            "2050 2100 2150 2200 2250 2300 2350 2400 2450 2500 2550 2600 2650 2700 2750 2800 2850 2900 2950 3000 \n",
            "3050 3100 3150 3200 3250 3300 3350 3400 3450 3500 3550 3600 3650 3700 3750 3800 3850 3900 3950 4000 \n",
            "4050 4100 4150 4200 4250 4300 4350 4400 4450 4500 4550 4600 4650 4700 4750 4800 4850 4900 4950 5000 \n",
            "5050 5100 5150 5200 5250 5300 5350 5400 5450 5500 5550 5600 5650 5700 5750 5800 5850 5900 5950 6000 \n",
            "6050 6100 6150 6200 6250 6300 6350 6400 6450 6500 6550 6600 6650 6700 6750 6800 6850 6900 6950 7000 \n",
            "7050 7100 7150 7200 7250 7300 7350 7400 7450 7500 7550 7600 7650 7700 7750 7800 7850 7900 7950 8000 \n",
            "8050 8100 8150 8200 8250 8300 8350 8400 8450 8500 8550 8600 8650 8700 8750 8800 8850 8900 8950 9000 \n",
            "9050 9100 9150 9200 9250 9300 9350 9400 9450 9500 9550 9600 9650 9700 9750 9800 9850 9900 9950 10000 \n",
            "10050 10100 10150 10200 10250 10300 10350 10400 10450 10500 10550 10570 \n",
            "Predictions generated.\n",
            "Write: /content/drive/MyDrive/w266 NLP Final Project/Predictions/predictions.bart_base_pt_long.triviaqa.squad.csv\n",
            "/content/drive/MyDrive/w266 NLP Final Project/Data/triviaqa/bart_valid_pairs.csv\n",
            "Generating predictions using triviaqa from 0 to 9835:\n",
            "50 100 150 200 250 300 350 400 450 500 550 600 650 700 750 800 850 900 950 1000 \n",
            "1050 1100 1150 1200 1250 1300 1350 1400 1450 1500 1550 1600 1650 1700 1750 1800 1850 1900 1950 2000 \n",
            "2050 2100 2150 2200 2250 2300 2350 2400 2450 2500 2550 2600 2650 2700 2750 2800 2850 2900 2950 3000 \n",
            "3050 3100 3150 3200 3250 3300 3350 3400 3450 3500 3550 3600 3650 3700 3750 3800 3850 3900 3950 4000 \n",
            "4050 4100 4150 4200 4250 4300 4350 4400 4450 4500 4550 4600 4650 4700 4750 4800 4850 4900 4950 5000 \n",
            "5050 5100 5150 5200 5250 5300 5350 5400 5450 5500 5550 5600 5650 5700 5750 5800 5850 5900 5950 6000 \n",
            "6050 6100 6150 6200 6250 6300 6350 6400 6450 6500 6550 6600 6650 6700 6750 6800 6850 6900 6950 7000 \n",
            "7050 7100 7150 7200 7250 7300 7350 7400 7450 7500 7550 7600 7650 7700 7750 7800 7850 7900 7950 8000 \n",
            "8050 8100 8150 8200 8250 8300 8350 8400 8450 8500 8550 8600 8650 8700 8750 8800 8850 8900 8950 9000 \n",
            "9050 9100 9150 9200 9250 9300 9350 9400 9450 9500 9550 9600 9650 9700 9750 9800 9835 \n",
            "Predictions generated.\n",
            "Write: /content/drive/MyDrive/w266 NLP Final Project/Predictions/predictions.bart_base_pt_long.triviaqa.triviaqa.csv\n"
          ]
        }
      ]
    }
  ],
  "metadata": {
    "accelerator": "GPU",
    "colab": {
      "collapsed_sections": [],
      "provenance": [],
      "include_colab_link": true
    },
    "gpuClass": "premium",
    "kernelspec": {
      "display_name": "Python 3",
      "name": "python3"
    },
    "language_info": {
      "name": "python"
    }
  },
  "nbformat": 4,
  "nbformat_minor": 0
}