{
  "nbformat": 4,
  "nbformat_minor": 0,
  "metadata": {
    "colab": {
      "provenance": [],
      "collapsed_sections": [],
      "include_colab_link": true
    },
    "kernelspec": {
      "name": "python3",
      "display_name": "Python 3"
    },
    "language_info": {
      "name": "python"
    },
    "accelerator": "GPU",
    "gpuClass": "standard"
  },
  "cells": [
    {
      "cell_type": "markdown",
      "metadata": {
        "id": "view-in-github",
        "colab_type": "text"
      },
      "source": [
        "<a href=\"https://colab.research.google.com/github/jeanlucjackson/w266_final_project/blob/main/code/inference/BART_pt_inference.ipynb\" target=\"_parent\"><img src=\"https://colab.research.google.com/assets/colab-badge.svg\" alt=\"Open In Colab\"/></a>"
      ]
    },
    {
      "cell_type": "markdown",
      "source": [
        "# Inference: BART trained on SQuAD"
      ],
      "metadata": {
        "id": "uf2wtnCnnfdL"
      }
    },
    {
      "cell_type": "code",
      "execution_count": null,
      "metadata": {
        "id": "e0o1sjXinduc"
      },
      "outputs": [],
      "source": [
        "# Set these constants for each model and validation dataset combination\n",
        "\n",
        "model_name = \"bart_base_pt.squad\"\n",
        "validation_dataset_name = \"squad\"\n",
        "\n",
        "save_predictions = True\n",
        "save_mode = 'a' # w for write, a for append\n",
        "\n",
        "max_length = 512 # 1024 for long model and 512 otherwise\n",
        "batch_size = 150 # 150 is the norm, but dial back when needed\n",
        "\n",
        "start_sample = 10000  # If None, then 0 will be used\n",
        "end_sample = None # If None, then the end of the set will be used"
      ]
    },
    {
      "cell_type": "markdown",
      "source": [
        "### Generate predictions"
      ],
      "metadata": {
        "id": "u3B8iwypoFNU"
      }
    },
    {
      "cell_type": "code",
      "source": [
        "!pip install -q transformers"
      ],
      "metadata": {
        "id": "X84fF8rcne0C"
      },
      "execution_count": null,
      "outputs": []
    },
    {
      "cell_type": "code",
      "source": [
        "!pip install -q sentencepiece"
      ],
      "metadata": {
        "id": "auSp_rm7ne2n"
      },
      "execution_count": null,
      "outputs": []
    },
    {
      "cell_type": "code",
      "source": [
        "from google.colab import drive\n",
        "drive.mount('/content/drive')"
      ],
      "metadata": {
        "colab": {
          "base_uri": "https://localhost:8080/"
        },
        "id": "_M8S_90Rne49",
        "outputId": "de422891-7736-4605-efe4-814567223760"
      },
      "execution_count": null,
      "outputs": [
        {
          "output_type": "stream",
          "name": "stdout",
          "text": [
            "Drive already mounted at /content/drive; to attempt to forcibly remount, call drive.mount(\"/content/drive\", force_remount=True).\n"
          ]
        }
      ]
    },
    {
      "cell_type": "code",
      "source": [
        "import os\n",
        "import numpy as np\n",
        "import pandas as pd\n",
        "\n",
        "import torch\n",
        "from transformers import BartTokenizer, BartForConditionalGeneration\n",
        "\n",
        "import warnings\n",
        "warnings.simplefilter(action='ignore', category=FutureWarning)\n",
        "\n",
        "from google.colab import data_table\n",
        "data_table.enable_dataframe_formatter()"
      ],
      "metadata": {
        "id": "7tcoW_ECne7k"
      },
      "execution_count": null,
      "outputs": []
    },
    {
      "cell_type": "code",
      "source": [
        "# Some important file locations and constants\n",
        "\n",
        "project_root = \"/content/drive/MyDrive/w266 NLP Final Project/\"\n",
        "dataset_root = project_root + \"Data/\"\n",
        "model_root = project_root + \"Models/\"\n",
        "prediction_folder = project_root + \"Predictions/\"\n",
        "\n",
        "tokenizer = \"facebook/bart-base\"\n",
        "\n",
        "model_folder = model_root + model_name\n",
        "\n",
        "validation_data_file = f\"{dataset_root}squad.hf/bart_valid_pairs.csv\"\n",
        "if validation_dataset_name != \"squad\":\n",
        "  validation_data_file = f\"{dataset_root}{validation_dataset_name}/bart_valid_pairs.csv\"\n",
        "\n",
        "prediction_file = f\"{prediction_folder}predictions.{model_name}.{validation_dataset_name}.csv\""
      ],
      "metadata": {
        "id": "CCaYAh9ine98"
      },
      "execution_count": null,
      "outputs": []
    },
    {
      "cell_type": "code",
      "source": [
        "validation_df = pd.read_csv(validation_data_file)\n",
        "validation_df[['orig', 'target']][:2]"
      ],
      "metadata": {
        "colab": {
          "base_uri": "https://localhost:8080/",
          "height": 247
        },
        "id": "45-VkYB5nfAR",
        "outputId": "98e50fb5-78a7-458f-9b02-91e496f46986"
      },
      "execution_count": null,
      "outputs": [
        {
          "output_type": "execute_result",
          "data": {
            "text/plain": [
              "                                                orig  \\\n",
              "0  four </s> Prince Albert appears within the mai...   \n",
              "1  ink </s> When some species, including Bathycte...   \n",
              "\n",
              "                                              target  \n",
              "0  How many levels of galleries do the façades su...  \n",
              "1           What are the secretions commonly called?  "
            ],
            "text/html": [
              "\n",
              "  <div id=\"df-3efc0da1-3cb6-468e-91f4-a5e4e51301e0\">\n",
              "    <div class=\"colab-df-container\">\n",
              "      <div>\n",
              "<style scoped>\n",
              "    .dataframe tbody tr th:only-of-type {\n",
              "        vertical-align: middle;\n",
              "    }\n",
              "\n",
              "    .dataframe tbody tr th {\n",
              "        vertical-align: top;\n",
              "    }\n",
              "\n",
              "    .dataframe thead th {\n",
              "        text-align: right;\n",
              "    }\n",
              "</style>\n",
              "<table border=\"1\" class=\"dataframe\">\n",
              "  <thead>\n",
              "    <tr style=\"text-align: right;\">\n",
              "      <th></th>\n",
              "      <th>orig</th>\n",
              "      <th>target</th>\n",
              "    </tr>\n",
              "  </thead>\n",
              "  <tbody>\n",
              "    <tr>\n",
              "      <th>0</th>\n",
              "      <td>four &lt;/s&gt; Prince Albert appears within the mai...</td>\n",
              "      <td>How many levels of galleries do the façades su...</td>\n",
              "    </tr>\n",
              "    <tr>\n",
              "      <th>1</th>\n",
              "      <td>ink &lt;/s&gt; When some species, including Bathycte...</td>\n",
              "      <td>What are the secretions commonly called?</td>\n",
              "    </tr>\n",
              "  </tbody>\n",
              "</table>\n",
              "</div>\n",
              "      <button class=\"colab-df-convert\" onclick=\"convertToInteractive('df-3efc0da1-3cb6-468e-91f4-a5e4e51301e0')\"\n",
              "              title=\"Convert this dataframe to an interactive table.\"\n",
              "              style=\"display:none;\">\n",
              "        \n",
              "  <svg xmlns=\"http://www.w3.org/2000/svg\" height=\"24px\"viewBox=\"0 0 24 24\"\n",
              "       width=\"24px\">\n",
              "    <path d=\"M0 0h24v24H0V0z\" fill=\"none\"/>\n",
              "    <path d=\"M18.56 5.44l.94 2.06.94-2.06 2.06-.94-2.06-.94-.94-2.06-.94 2.06-2.06.94zm-11 1L8.5 8.5l.94-2.06 2.06-.94-2.06-.94L8.5 2.5l-.94 2.06-2.06.94zm10 10l.94 2.06.94-2.06 2.06-.94-2.06-.94-.94-2.06-.94 2.06-2.06.94z\"/><path d=\"M17.41 7.96l-1.37-1.37c-.4-.4-.92-.59-1.43-.59-.52 0-1.04.2-1.43.59L10.3 9.45l-7.72 7.72c-.78.78-.78 2.05 0 2.83L4 21.41c.39.39.9.59 1.41.59.51 0 1.02-.2 1.41-.59l7.78-7.78 2.81-2.81c.8-.78.8-2.07 0-2.86zM5.41 20L4 18.59l7.72-7.72 1.47 1.35L5.41 20z\"/>\n",
              "  </svg>\n",
              "      </button>\n",
              "      \n",
              "  <style>\n",
              "    .colab-df-container {\n",
              "      display:flex;\n",
              "      flex-wrap:wrap;\n",
              "      gap: 12px;\n",
              "    }\n",
              "\n",
              "    .colab-df-convert {\n",
              "      background-color: #E8F0FE;\n",
              "      border: none;\n",
              "      border-radius: 50%;\n",
              "      cursor: pointer;\n",
              "      display: none;\n",
              "      fill: #1967D2;\n",
              "      height: 32px;\n",
              "      padding: 0 0 0 0;\n",
              "      width: 32px;\n",
              "    }\n",
              "\n",
              "    .colab-df-convert:hover {\n",
              "      background-color: #E2EBFA;\n",
              "      box-shadow: 0px 1px 2px rgba(60, 64, 67, 0.3), 0px 1px 3px 1px rgba(60, 64, 67, 0.15);\n",
              "      fill: #174EA6;\n",
              "    }\n",
              "\n",
              "    [theme=dark] .colab-df-convert {\n",
              "      background-color: #3B4455;\n",
              "      fill: #D2E3FC;\n",
              "    }\n",
              "\n",
              "    [theme=dark] .colab-df-convert:hover {\n",
              "      background-color: #434B5C;\n",
              "      box-shadow: 0px 1px 3px 1px rgba(0, 0, 0, 0.15);\n",
              "      filter: drop-shadow(0px 1px 2px rgba(0, 0, 0, 0.3));\n",
              "      fill: #FFFFFF;\n",
              "    }\n",
              "  </style>\n",
              "\n",
              "      <script>\n",
              "        const buttonEl =\n",
              "          document.querySelector('#df-3efc0da1-3cb6-468e-91f4-a5e4e51301e0 button.colab-df-convert');\n",
              "        buttonEl.style.display =\n",
              "          google.colab.kernel.accessAllowed ? 'block' : 'none';\n",
              "\n",
              "        async function convertToInteractive(key) {\n",
              "          const element = document.querySelector('#df-3efc0da1-3cb6-468e-91f4-a5e4e51301e0');\n",
              "          const dataTable =\n",
              "            await google.colab.kernel.invokeFunction('convertToInteractive',\n",
              "                                                     [key], {});\n",
              "          if (!dataTable) return;\n",
              "\n",
              "          const docLinkHtml = 'Like what you see? Visit the ' +\n",
              "            '<a target=\"_blank\" href=https://colab.research.google.com/notebooks/data_table.ipynb>data table notebook</a>'\n",
              "            + ' to learn more about interactive tables.';\n",
              "          element.innerHTML = '';\n",
              "          dataTable['output_type'] = 'display_data';\n",
              "          await google.colab.output.renderOutput(dataTable, element);\n",
              "          const docLink = document.createElement('div');\n",
              "          docLink.innerHTML = docLinkHtml;\n",
              "          element.appendChild(docLink);\n",
              "        }\n",
              "      </script>\n",
              "    </div>\n",
              "  </div>\n",
              "  "
            ],
            "application/vnd.google.colaboratory.module+javascript": "\n      import \"https://ssl.gstatic.com/colaboratory/data_table/a8bd4d5e58f96183/data_table.js\";\n\n      window.createDataTable({\n        data: [[{\n            'v': 0,\n            'f': \"0\",\n        },\n\"four <\\/s> Prince Albert appears within the main arch above the twin entrances, Queen Victoria above the frame around the arches and entrance, sculpted by Alfred Drury. These fa\\u00e7ades surround four levels of galleries. Other areas designed by Webb include the Entrance Hall and Rotunda, the East and West Halls, the areas occupied by the shop and Asian Galleries as well as the Costume Gallery. The interior makes much use of marble in the entrance hall and flanking staircases, although the galleries as originally designed were white with restrained classical detail and mouldings, very much in contrast to the elaborate decoration of the Victorian galleries, although much of this decoration was removed in the early 20th century.\",\n\"How many levels of galleries do the fa\\u00e7ades surround?\"],\n [{\n            'v': 1,\n            'f': \"1\",\n        },\n\"ink <\\/s> When some species, including Bathyctena chuni, Euplokamis stationis and Eurhamphaea vexilligera, are disturbed, they produce secretions (ink) that luminesce at much the same wavelengths as their bodies. Juveniles will luminesce more brightly in relation to their body size than adults, whose luminescence is diffused over their bodies. Detailed statistical investigation has not suggested the function of ctenophores' bioluminescence nor produced any correlation between its exact color and any aspect of the animals' environments, such as depth or whether they live in coastal or mid-ocean waters.\",\n\"What are the secretions commonly called?\"]],\n        columns: [[\"number\", \"index\"], [\"string\", \"orig\"], [\"string\", \"target\"]],\n        columnOptions: [{\"width\": \"1px\", \"className\": \"index_column\"}],\n        rowsPerPage: 25,\n        helpUrl: \"https://colab.research.google.com/notebooks/data_table.ipynb\",\n        suppressOutputScrolling: true,\n        minimumWidth: undefined,\n      });\n    "
          },
          "metadata": {},
          "execution_count": 7
        }
      ]
    },
    {
      "cell_type": "code",
      "source": [
        "validation_df.shape[0]"
      ],
      "metadata": {
        "colab": {
          "base_uri": "https://localhost:8080/"
        },
        "id": "DVuJabebnfCo",
        "outputId": "e3b3844a-b3a1-4ed0-8b41-fc75e2b5a55e"
      },
      "execution_count": null,
      "outputs": [
        {
          "output_type": "execute_result",
          "data": {
            "text/plain": [
              "10570"
            ]
          },
          "metadata": {},
          "execution_count": 8
        }
      ]
    },
    {
      "cell_type": "code",
      "source": [
        "# Download tokenizer and model, associate the model with the GPU\n",
        "\n",
        "bart_tokenizer = BartTokenizer.from_pretrained(tokenizer)\n",
        "bart_model = BartForConditionalGeneration.from_pretrained(model_folder)\n",
        "bart_model.to(torch.device('cuda:0'))\n",
        "pass"
      ],
      "metadata": {
        "id": "HUgtBn0WnfFf"
      },
      "execution_count": null,
      "outputs": []
    },
    {
      "cell_type": "code",
      "source": [
        "predictions = []\n",
        "for input_text in validation_df['orig']:\n",
        "  inputs = bart_tokenizer(input_text, return_tensors='pt')\n",
        "  output_ids = bart_model.generate(inputs['input_ids'].cuda())\n",
        "  prediction = \"\".join([bart_tokenizer.decode(out_ids, skip_special_tokens=True, \n",
        "                                            clean_up_tokenization_spaces=False) for out_ids in output_ids])\n",
        "  predictions.append(prediction)\n",
        "\n",
        "validation_df['prediction'] = predictions"
      ],
      "metadata": {
        "colab": {
          "base_uri": "https://localhost:8080/"
        },
        "id": "YMuGFUN9DjGr",
        "outputId": "5f36c1e0-a9cf-4416-a1e2-87bbd71ba374"
      },
      "execution_count": null,
      "outputs": [
        {
          "output_type": "stream",
          "name": "stderr",
          "text": [
            "/usr/local/lib/python3.7/dist-packages/transformers/generation_utils.py:1364: UserWarning: Neither `max_length` nor `max_new_tokens` has been set, `max_length` will default to 20 (`self.config.max_length`). Controlling `max_length` via the config is deprecated and `max_length` will be removed from the config in v5 of Transformers -- we recommend using `max_new_tokens` to control the maximum length of the generation.\n",
            "  UserWarning,\n"
          ]
        }
      ]
    },
    {
      "cell_type": "code",
      "source": [
        "validation_df['context'] = [str.split('</s>')[1] for str in validation_df['orig']]\n",
        "validation_df['answer'] =  [str.split('</s>')[0] for str in validation_df['orig']]"
      ],
      "metadata": {
        "id": "gM-QiAnKKDld"
      },
      "execution_count": null,
      "outputs": []
    },
    {
      "cell_type": "code",
      "source": [
        "# Reorder columns\n",
        "df = validation_df[['context', 'answer', 'target', 'prediction']]\n",
        "\n",
        "df[:10]"
      ],
      "metadata": {
        "id": "VJpVOcqunfMP",
        "colab": {
          "base_uri": "https://localhost:8080/",
          "height": 1362
        },
        "outputId": "4dd87423-da6e-4d70-f11a-7e9a3cd66e3c"
      },
      "execution_count": null,
      "outputs": [
        {
          "output_type": "execute_result",
          "data": {
            "text/plain": [
              "                                             context  \\\n",
              "0   Prince Albert appears within the main arch ab...   \n",
              "1   When some species, including Bathyctena chuni...   \n",
              "2   The Grainger Market replaced an earlier marke...   \n",
              "3   Bills can be introduced to Parliament in a nu...   \n",
              "4   Jacksonville is in the First Coast region of ...   \n",
              "5   In addition to the Riemann hypothesis, many m...   \n",
              "6   In Marxian analysis, capitalist firms increas...   \n",
              "7   The final major evolution of the steam engine...   \n",
              "8   In 1968, ABC took advantage of new FCC owners...   \n",
              "9   The 2007 Lisbon Treaty explicitly recognised ...   \n",
              "\n",
              "                                              answer  \\\n",
              "0                                              four    \n",
              "1                                               ink    \n",
              "2                                              1835    \n",
              "3                                             Bills    \n",
              "4                                       the Timucua    \n",
              "5                                              1912    \n",
              "6                                          stagnant    \n",
              "7                                                90    \n",
              "8                                              1985    \n",
              "9  the Charter of Fundamental Rights of the Europ...   \n",
              "\n",
              "                                              target  \\\n",
              "0  How many levels of galleries do the façades su...   \n",
              "1           What are the secretions commonly called?   \n",
              "2     When did Newcastle's first indoor market open?   \n",
              "3  What may be presented to Parliament in various...   \n",
              "4  Prior to the arrival of the French, the area n...   \n",
              "5  When did Landau propose his four conjectural p...   \n",
              "6  What type of wages does mechanization and auto...   \n",
              "7  What percentage of electrical power in the Uni...   \n",
              "8  When was the ABC Pictures division eventually ...   \n",
              "9  What charter has become an important aspect of...   \n",
              "\n",
              "                                          prediction  \n",
              "0            How many levels of galleries are there?  \n",
              "1                               What are secretions?  \n",
              "2               When was the Grainger Market opened?  \n",
              "3  What can be introduced to Parliament in a numb...  \n",
              "4             Who originally inhabited Jacksonville?  \n",
              "5                When were Landau's problems solved?  \n",
              "6  What type of wages did the substitution of cap...  \n",
              "7  What percentage of electric power is produced ...  \n",
              "8            When was ABC Motion Pictures dissolved?  \n",
              "9  What document has become an integral part of E...  "
            ],
            "text/html": [
              "\n",
              "  <div id=\"df-97f522e3-a46a-4959-a6ce-d9a5e50bea02\">\n",
              "    <div class=\"colab-df-container\">\n",
              "      <div>\n",
              "<style scoped>\n",
              "    .dataframe tbody tr th:only-of-type {\n",
              "        vertical-align: middle;\n",
              "    }\n",
              "\n",
              "    .dataframe tbody tr th {\n",
              "        vertical-align: top;\n",
              "    }\n",
              "\n",
              "    .dataframe thead th {\n",
              "        text-align: right;\n",
              "    }\n",
              "</style>\n",
              "<table border=\"1\" class=\"dataframe\">\n",
              "  <thead>\n",
              "    <tr style=\"text-align: right;\">\n",
              "      <th></th>\n",
              "      <th>context</th>\n",
              "      <th>answer</th>\n",
              "      <th>target</th>\n",
              "      <th>prediction</th>\n",
              "    </tr>\n",
              "  </thead>\n",
              "  <tbody>\n",
              "    <tr>\n",
              "      <th>0</th>\n",
              "      <td>Prince Albert appears within the main arch ab...</td>\n",
              "      <td>four</td>\n",
              "      <td>How many levels of galleries do the façades su...</td>\n",
              "      <td>How many levels of galleries are there?</td>\n",
              "    </tr>\n",
              "    <tr>\n",
              "      <th>1</th>\n",
              "      <td>When some species, including Bathyctena chuni...</td>\n",
              "      <td>ink</td>\n",
              "      <td>What are the secretions commonly called?</td>\n",
              "      <td>What are secretions?</td>\n",
              "    </tr>\n",
              "    <tr>\n",
              "      <th>2</th>\n",
              "      <td>The Grainger Market replaced an earlier marke...</td>\n",
              "      <td>1835</td>\n",
              "      <td>When did Newcastle's first indoor market open?</td>\n",
              "      <td>When was the Grainger Market opened?</td>\n",
              "    </tr>\n",
              "    <tr>\n",
              "      <th>3</th>\n",
              "      <td>Bills can be introduced to Parliament in a nu...</td>\n",
              "      <td>Bills</td>\n",
              "      <td>What may be presented to Parliament in various...</td>\n",
              "      <td>What can be introduced to Parliament in a numb...</td>\n",
              "    </tr>\n",
              "    <tr>\n",
              "      <th>4</th>\n",
              "      <td>Jacksonville is in the First Coast region of ...</td>\n",
              "      <td>the Timucua</td>\n",
              "      <td>Prior to the arrival of the French, the area n...</td>\n",
              "      <td>Who originally inhabited Jacksonville?</td>\n",
              "    </tr>\n",
              "    <tr>\n",
              "      <th>5</th>\n",
              "      <td>In addition to the Riemann hypothesis, many m...</td>\n",
              "      <td>1912</td>\n",
              "      <td>When did Landau propose his four conjectural p...</td>\n",
              "      <td>When were Landau's problems solved?</td>\n",
              "    </tr>\n",
              "    <tr>\n",
              "      <th>6</th>\n",
              "      <td>In Marxian analysis, capitalist firms increas...</td>\n",
              "      <td>stagnant</td>\n",
              "      <td>What type of wages does mechanization and auto...</td>\n",
              "      <td>What type of wages did the substitution of cap...</td>\n",
              "    </tr>\n",
              "    <tr>\n",
              "      <th>7</th>\n",
              "      <td>The final major evolution of the steam engine...</td>\n",
              "      <td>90</td>\n",
              "      <td>What percentage of electrical power in the Uni...</td>\n",
              "      <td>What percentage of electric power is produced ...</td>\n",
              "    </tr>\n",
              "    <tr>\n",
              "      <th>8</th>\n",
              "      <td>In 1968, ABC took advantage of new FCC owners...</td>\n",
              "      <td>1985</td>\n",
              "      <td>When was the ABC Pictures division eventually ...</td>\n",
              "      <td>When was ABC Motion Pictures dissolved?</td>\n",
              "    </tr>\n",
              "    <tr>\n",
              "      <th>9</th>\n",
              "      <td>The 2007 Lisbon Treaty explicitly recognised ...</td>\n",
              "      <td>the Charter of Fundamental Rights of the Europ...</td>\n",
              "      <td>What charter has become an important aspect of...</td>\n",
              "      <td>What document has become an integral part of E...</td>\n",
              "    </tr>\n",
              "  </tbody>\n",
              "</table>\n",
              "</div>\n",
              "      <button class=\"colab-df-convert\" onclick=\"convertToInteractive('df-97f522e3-a46a-4959-a6ce-d9a5e50bea02')\"\n",
              "              title=\"Convert this dataframe to an interactive table.\"\n",
              "              style=\"display:none;\">\n",
              "        \n",
              "  <svg xmlns=\"http://www.w3.org/2000/svg\" height=\"24px\"viewBox=\"0 0 24 24\"\n",
              "       width=\"24px\">\n",
              "    <path d=\"M0 0h24v24H0V0z\" fill=\"none\"/>\n",
              "    <path d=\"M18.56 5.44l.94 2.06.94-2.06 2.06-.94-2.06-.94-.94-2.06-.94 2.06-2.06.94zm-11 1L8.5 8.5l.94-2.06 2.06-.94-2.06-.94L8.5 2.5l-.94 2.06-2.06.94zm10 10l.94 2.06.94-2.06 2.06-.94-2.06-.94-.94-2.06-.94 2.06-2.06.94z\"/><path d=\"M17.41 7.96l-1.37-1.37c-.4-.4-.92-.59-1.43-.59-.52 0-1.04.2-1.43.59L10.3 9.45l-7.72 7.72c-.78.78-.78 2.05 0 2.83L4 21.41c.39.39.9.59 1.41.59.51 0 1.02-.2 1.41-.59l7.78-7.78 2.81-2.81c.8-.78.8-2.07 0-2.86zM5.41 20L4 18.59l7.72-7.72 1.47 1.35L5.41 20z\"/>\n",
              "  </svg>\n",
              "      </button>\n",
              "      \n",
              "  <style>\n",
              "    .colab-df-container {\n",
              "      display:flex;\n",
              "      flex-wrap:wrap;\n",
              "      gap: 12px;\n",
              "    }\n",
              "\n",
              "    .colab-df-convert {\n",
              "      background-color: #E8F0FE;\n",
              "      border: none;\n",
              "      border-radius: 50%;\n",
              "      cursor: pointer;\n",
              "      display: none;\n",
              "      fill: #1967D2;\n",
              "      height: 32px;\n",
              "      padding: 0 0 0 0;\n",
              "      width: 32px;\n",
              "    }\n",
              "\n",
              "    .colab-df-convert:hover {\n",
              "      background-color: #E2EBFA;\n",
              "      box-shadow: 0px 1px 2px rgba(60, 64, 67, 0.3), 0px 1px 3px 1px rgba(60, 64, 67, 0.15);\n",
              "      fill: #174EA6;\n",
              "    }\n",
              "\n",
              "    [theme=dark] .colab-df-convert {\n",
              "      background-color: #3B4455;\n",
              "      fill: #D2E3FC;\n",
              "    }\n",
              "\n",
              "    [theme=dark] .colab-df-convert:hover {\n",
              "      background-color: #434B5C;\n",
              "      box-shadow: 0px 1px 3px 1px rgba(0, 0, 0, 0.15);\n",
              "      filter: drop-shadow(0px 1px 2px rgba(0, 0, 0, 0.3));\n",
              "      fill: #FFFFFF;\n",
              "    }\n",
              "  </style>\n",
              "\n",
              "      <script>\n",
              "        const buttonEl =\n",
              "          document.querySelector('#df-97f522e3-a46a-4959-a6ce-d9a5e50bea02 button.colab-df-convert');\n",
              "        buttonEl.style.display =\n",
              "          google.colab.kernel.accessAllowed ? 'block' : 'none';\n",
              "\n",
              "        async function convertToInteractive(key) {\n",
              "          const element = document.querySelector('#df-97f522e3-a46a-4959-a6ce-d9a5e50bea02');\n",
              "          const dataTable =\n",
              "            await google.colab.kernel.invokeFunction('convertToInteractive',\n",
              "                                                     [key], {});\n",
              "          if (!dataTable) return;\n",
              "\n",
              "          const docLinkHtml = 'Like what you see? Visit the ' +\n",
              "            '<a target=\"_blank\" href=https://colab.research.google.com/notebooks/data_table.ipynb>data table notebook</a>'\n",
              "            + ' to learn more about interactive tables.';\n",
              "          element.innerHTML = '';\n",
              "          dataTable['output_type'] = 'display_data';\n",
              "          await google.colab.output.renderOutput(dataTable, element);\n",
              "          const docLink = document.createElement('div');\n",
              "          docLink.innerHTML = docLinkHtml;\n",
              "          element.appendChild(docLink);\n",
              "        }\n",
              "      </script>\n",
              "    </div>\n",
              "  </div>\n",
              "  "
            ],
            "application/vnd.google.colaboratory.module+javascript": "\n      import \"https://ssl.gstatic.com/colaboratory/data_table/a8bd4d5e58f96183/data_table.js\";\n\n      window.createDataTable({\n        data: [[{\n            'v': 0,\n            'f': \"0\",\n        },\n\" Prince Albert appears within the main arch above the twin entrances, Queen Victoria above the frame around the arches and entrance, sculpted by Alfred Drury. These fa\\u00e7ades surround four levels of galleries. Other areas designed by Webb include the Entrance Hall and Rotunda, the East and West Halls, the areas occupied by the shop and Asian Galleries as well as the Costume Gallery. The interior makes much use of marble in the entrance hall and flanking staircases, although the galleries as originally designed were white with restrained classical detail and mouldings, very much in contrast to the elaborate decoration of the Victorian galleries, although much of this decoration was removed in the early 20th century.\",\n\"four \",\n\"How many levels of galleries do the fa\\u00e7ades surround?\",\n\"How many levels of galleries are there?\"],\n [{\n            'v': 1,\n            'f': \"1\",\n        },\n\" When some species, including Bathyctena chuni, Euplokamis stationis and Eurhamphaea vexilligera, are disturbed, they produce secretions (ink) that luminesce at much the same wavelengths as their bodies. Juveniles will luminesce more brightly in relation to their body size than adults, whose luminescence is diffused over their bodies. Detailed statistical investigation has not suggested the function of ctenophores' bioluminescence nor produced any correlation between its exact color and any aspect of the animals' environments, such as depth or whether they live in coastal or mid-ocean waters.\",\n\"ink \",\n\"What are the secretions commonly called?\",\n\"What are secretions?\"],\n [{\n            'v': 2,\n            'f': \"2\",\n        },\n\" The Grainger Market replaced an earlier market originally built in 1808 called the Butcher Market. The Grainger Market itself, was opened in 1835 and was Newcastle's first indoor market. At the time of its opening in 1835 it was said to be one of the largest and most beautiful markets in Europe. The opening was celebrated with a grand dinner attended by 2000 guests, and the Laing Art Gallery has a painting of this event. With the exception of the timber roof which was destroyed by a fire in 1901 and replaced by latticed-steel arches the Market is largely in its original condition. The Grainger Market architecture, like most in Grainger Town, which are either grade I or II listed, was listed grade I in 1954 by English Heritage.\",\n\"1835 \",\n\"When did Newcastle's first indoor market open?\",\n\"When was the Grainger Market opened?\"],\n [{\n            'v': 3,\n            'f': \"3\",\n        },\n\" Bills can be introduced to Parliament in a number of ways; the Scottish Government can introduce new laws or amendments to existing laws as a bill; a committee of the Parliament can present a bill in one of the areas under its remit; a member of the Scottish Parliament can introduce a bill as a private member; or a private bill can be submitted to Parliament by an outside proposer. Most draft laws are government bills introduced by ministers in the governing party. Bills pass through Parliament in a number of stages:\",\n\"Bills \",\n\"What may be presented to Parliament in various ways?\",\n\"What can be introduced to Parliament in a number of ways?\"],\n [{\n            'v': 4,\n            'f': \"4\",\n        },\n\" Jacksonville is in the First Coast region of northeast Florida and is centered on the banks of the St. Johns River, about 25 miles (40 km) south of the Georgia state line and about 340 miles (550 km) north of Miami. The Jacksonville Beaches communities are along the adjacent Atlantic coast. The area was originally inhabited by the Timucua people, and in 1564 was the site of the French colony of Fort Caroline, one of the earliest European settlements in what is now the continental United States. Under British rule, settlement grew at the narrow point in the river where cattle crossed, known as Wacca Pilatka to the Seminole and the Cow Ford to the British. A platted town was established there in 1822, a year after the United States gained Florida from Spain; it was named after Andrew Jackson, the first military governor of the Florida Territory and seventh President of the United States.\",\n\"the Timucua \",\n\"Prior to the arrival of the French, the area now known as Jacksonville was previously inhabited by what people?\",\n\"Who originally inhabited Jacksonville?\"],\n [{\n            'v': 5,\n            'f': \"5\",\n        },\n\" In addition to the Riemann hypothesis, many more conjectures revolving about primes have been posed. Often having an elementary formulation, many of these conjectures have withstood a proof for decades: all four of Landau's problems from 1912 are still unsolved. One of them is Goldbach's conjecture, which asserts that every even integer n greater than 2 can be written as a sum of two primes. As of February 2011[update], this conjecture has been verified for all numbers up to n = 2 \\u00b7 1017. Weaker statements than this have been proven, for example Vinogradov's theorem says that every sufficiently large odd integer can be written as a sum of three primes. Chen's theorem says that every sufficiently large even number can be expressed as the sum of a prime and a semiprime, the product of two primes. Also, any even integer can be written as the sum of six primes. The branch of number theory studying such questions is called additive number theory.\",\n\"1912 \",\n\"When did Landau propose his four conjectural problems?\",\n\"When were Landau's problems solved?\"],\n [{\n            'v': 6,\n            'f': \"6\",\n        },\n\" In Marxian analysis, capitalist firms increasingly substitute capital equipment for labor inputs (workers) under competitive pressure to reduce costs and maximize profits. Over the long-term, this trend increases the organic composition of capital, meaning that less workers are required in proportion to capital inputs, increasing unemployment (the \\\"reserve army of labour\\\"). This process exerts a downward pressure on wages. The substitution of capital equipment for labor (mechanization and automation) raises the productivity of each worker, resulting in a situation of relatively stagnant wages for the working class amidst rising levels of property income for the capitalist class.\",\n\"stagnant \",\n\"What type of wages does mechanization and automation lead to?\",\n\"What type of wages did the substitution of capital equipment for labor result in?\"],\n [{\n            'v': 7,\n            'f': \"7\",\n        },\n\" The final major evolution of the steam engine design was the use of steam turbines starting in the late part of the 19th century. Steam turbines are generally more efficient than reciprocating piston type steam engines (for outputs above several hundred horsepower), have fewer moving parts, and provide rotary power directly instead of through a connecting rod system or similar means. Steam turbines virtually replaced reciprocating engines in electricity generating stations early in the 20th century, where their efficiency, higher speed appropriate to generator service, and smooth rotation were advantages. Today most electric power is provided by steam turbines. In the United States 90% of the electric power is produced in this way using a variety of heat sources. Steam turbines were extensively applied for propulsion of large ships throughout most of the 20th century.\",\n\"90 \",\n\"What percentage of electrical power in the United States is made by steam turbines?\",\n\"What percentage of electric power is produced by steam turbines in the US?\"],\n [{\n            'v': 8,\n            'f': \"8\",\n        },\n\" In 1968, ABC took advantage of new FCC ownership regulations that allowed broadcasting companies to own a maximum of seven radio stations nationwide in order to purchase Houston radio stations KXYZ and KXYZ-FM for $1 million in shares and $1.5 million in bonds. That year, Roone Arledge was named president of ABC Sports; the company also founded ABC Pictures, a film production company which released its first picture that year, the Ralph Nelson-directed Charly. It was renamed ABC Motion Pictures in 1979; the unit was dissolved in 1985. The studio also operated two subsidiaries, Palomar Pictures International and Selmur Pictures. In July 1968, ABC continued its acquisitions in the amusement parks sector with the opening of ABC Marine World in Redwood City, California; that park was sold in 1972 and demolished in 1986, with the land that occupied the park later becoming home to the headquarters of Oracle Corporation.\",\n\"1985 \",\n\"When was the ABC Pictures division eventually dissolved?\",\n\"When was ABC Motion Pictures dissolved?\"],\n [{\n            'v': 9,\n            'f': \"9\",\n        },\n\" The 2007 Lisbon Treaty explicitly recognised fundamental rights by providing in Article 6(1) that \\\"The Union recognises the rights, freedoms and principles set out in the Charter of Fundamental Rights of the European Union of 7 December 2000, as adopted at Strasbourg on 12 December 2007, which shall have the same legal value as the Treaties.\\\" Therefore, the Charter of Fundamental Rights of the European Union has become an integral part of European Union law, codifying the fundamental rights which were previously considered general principles of European Union law. In effect, after the Lisbon Treaty, the Charter and the Convention now co-exist under European Union law, though the former is enforced by the European Court of Justice in relation to European Union measures, and the latter by the European Court of Human Rights in relation to measures by member states.\",\n\"the Charter of Fundamental Rights of the European Union \",\n\"What charter has become an important aspect of EU law?\",\n\"What document has become an integral part of European Union law?\"]],\n        columns: [[\"number\", \"index\"], [\"string\", \"context\"], [\"string\", \"answer\"], [\"string\", \"target\"], [\"string\", \"prediction\"]],\n        columnOptions: [{\"width\": \"1px\", \"className\": \"index_column\"}],\n        rowsPerPage: 25,\n        helpUrl: \"https://colab.research.google.com/notebooks/data_table.ipynb\",\n        suppressOutputScrolling: true,\n        minimumWidth: undefined,\n      });\n    "
          },
          "metadata": {},
          "execution_count": 24
        }
      ]
    },
    {
      "cell_type": "markdown",
      "source": [
        "Save predictions"
      ],
      "metadata": {
        "id": "6XMaYULKqW_Q"
      }
    },
    {
      "cell_type": "code",
      "source": [
        "if save_predictions:\n",
        "  df.to_csv(prediction_file, mode=save_mode)"
      ],
      "metadata": {
        "id": "FH-rh5TrqUOs"
      },
      "execution_count": null,
      "outputs": []
    },
    {
      "cell_type": "code",
      "source": [],
      "metadata": {
        "id": "ixrtfyBGQ0Z7"
      },
      "execution_count": null,
      "outputs": []
    },
    {
      "cell_type": "markdown",
      "source": [
        "Unused code"
      ],
      "metadata": {
        "id": "vf5_muMmQ2IE"
      }
    },
    {
      "cell_type": "code",
      "source": [
        "# predictions = []\n",
        "\n",
        "# if start_sample is None:\n",
        "#   start_sample = 0\n",
        "\n",
        "# if end_sample is None:\n",
        "#   end_sample = validation_df.shape[0]\n",
        "\n",
        "# print(f\"Generating predictions from {start_sample} to {end_sample}:\")\n",
        "# for start in range (start_sample, end_sample, batch_size):\n",
        "#   to = min([end_sample, start + batch_size])\n",
        "#   inputs = bart_tokenizer(validation_df['orig'][start:to].to_list(), return_tensors='pt', max_length=max_length, truncation=True, padding=True)\n",
        "#   output_ids = bart_model.generate(inputs['input_ids'].cuda(), max_length=max_length)\n",
        "#   prediction_batch = bart_tokenizer.batch_decode(output_ids, skip_special_tokens=True)\n",
        "#   predictions.extend(prediction_batch)\n",
        "#   print (f\"{to} \", end=\"\")\n",
        "#   if to%1000 == 0: print()\n",
        "# print(\"Predictions generated.\")"
      ],
      "metadata": {
        "colab": {
          "base_uri": "https://localhost:8080/"
        },
        "id": "9LR5IbJ5nfHS",
        "outputId": "42c16a4a-b033-4951-d60a-de92244af0ca"
      },
      "execution_count": null,
      "outputs": [
        {
          "output_type": "stream",
          "name": "stdout",
          "text": [
            "Generating predictions from 10000 to 10570:\n"
          ]
        }
      ]
    },
    {
      "cell_type": "code",
      "source": [
        "# df=pd.DataFrame()\n",
        "# df['context'] = [str.split('context: ')[1] for str in validation_df['orig'][start_sample:end_sample]]\n",
        "# df['answer'] =  [str.split('context: ')[0][26: ] for str in validation_df['orig'][start_sample:end_sample]]\n",
        "# df['target'] = validation_df['target']\n",
        "# df['prediction'] = predictions"
      ],
      "metadata": {
        "id": "R_i0i5jxnfJ5"
      },
      "execution_count": null,
      "outputs": []
    }
  ]
}