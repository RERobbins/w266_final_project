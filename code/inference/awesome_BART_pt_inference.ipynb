{
  "cells": [
    {
      "cell_type": "markdown",
      "metadata": {
        "id": "view-in-github",
        "colab_type": "text"
      },
      "source": [
        "<a href=\"https://colab.research.google.com/github/jeanlucjackson/w266_final_project/blob/main/code/inference/awesome_BART_pt_inference.ipynb\" target=\"_parent\"><img src=\"https://colab.research.google.com/assets/colab-badge.svg\" alt=\"Open In Colab\"/></a>"
      ]
    },
    {
      "cell_type": "markdown",
      "metadata": {
        "id": "Hh-4vVXTMhpC"
      },
      "source": [
        "### Generate Predictions From An Awesome Validation Dataset\n",
        "\n",
        "This notebook assumes a BART PyTorch model.\n",
        "\n",
        "Setting the constants in the next call should be all that is necessary to run the validation set."
      ]
    },
    {
      "cell_type": "code",
      "execution_count": 1,
      "metadata": {
        "id": "rlCLzceMMahp"
      },
      "outputs": [],
      "source": [
        "# Set these constants for each model and validation dataset combination\n",
        "\n",
        "model_name = \"bart_base_pt_long.snq\"\n",
        "validation_dataset_names = [\"nq\", \"quac\", \"squad\", \"triviaqa\"]\n",
        "\n",
        "save_predictions = True\n",
        "save_mode = 'w' # w for write, a for append\n",
        "\n",
        "max_input_length = 1024\n",
        "\n",
        "num_beams = 4\n",
        "no_repeat_ngram_size = 3\n",
        "max_target_length = 50\n",
        "min_target_length = 1\n",
        "early_stopping = True\n",
        "\n",
        "batch_size = 50\n",
        "\n",
        "start_sample = None  # If None, then 0 will be used\n",
        "end_sample = None # If None, then the end of the set will be used"
      ]
    },
    {
      "cell_type": "markdown",
      "metadata": {
        "id": "fJ8lW8X8NJ9o",
        "tags": []
      },
      "source": [
        "### Generate Predictions"
      ]
    },
    {
      "cell_type": "code",
      "execution_count": 2,
      "metadata": {
        "id": "c3906UT0dyke"
      },
      "outputs": [],
      "source": [
        "!pip install -q transformers"
      ]
    },
    {
      "cell_type": "code",
      "execution_count": 3,
      "metadata": {
        "id": "vBX23WXdd0v-"
      },
      "outputs": [],
      "source": [
        "!pip install -q sentencepiece"
      ]
    },
    {
      "cell_type": "code",
      "execution_count": 4,
      "metadata": {
        "colab": {
          "base_uri": "https://localhost:8080/"
        },
        "id": "17N1XaF7d6dW",
        "outputId": "6afd78b4-6310-41ba-a6df-1b71b3ad807e"
      },
      "outputs": [
        {
          "output_type": "stream",
          "name": "stdout",
          "text": [
            "Drive already mounted at /content/drive; to attempt to forcibly remount, call drive.mount(\"/content/drive\", force_remount=True).\n"
          ]
        }
      ],
      "source": [
        "from google.colab import drive\n",
        "drive.mount('/content/drive')"
      ]
    },
    {
      "cell_type": "code",
      "execution_count": 5,
      "metadata": {
        "id": "3jvE9TJRd4cG"
      },
      "outputs": [],
      "source": [
        "import os\n",
        "import numpy as np\n",
        "import pandas as pd\n",
        "\n",
        "import torch\n",
        "from transformers import BartTokenizer, BartForConditionalGeneration\n",
        "\n",
        "import warnings\n",
        "warnings.simplefilter(action='ignore', category=FutureWarning)\n",
        "\n",
        "#from google.colab import data_table\n",
        "#data_table.enable_dataframe_formatter()"
      ]
    },
    {
      "cell_type": "code",
      "execution_count": 6,
      "metadata": {
        "id": "iMHoUiDnd9He"
      },
      "outputs": [],
      "source": [
        "# Some important file locations and constants\n",
        "\n",
        "project_root = \"/content/drive/MyDrive/w266 NLP Final Project/\"\n",
        "#project_root = \"/home/localadmin/Documents/w266_NLP_Final_Project/\"\n",
        "dataset_root = project_root + \"Data/\"\n",
        "model_root = project_root + \"Models/\"\n",
        "prediction_folder = project_root + \"Predictions_2/checkpoint/\"\n",
        "\n",
        "tokenizer = \"facebook/bart-base\"\n",
        "model_folder = model_root + model_name"
      ]
    },
    {
      "cell_type": "code",
      "execution_count": 7,
      "metadata": {
        "id": "fEhqOalVycI9"
      },
      "outputs": [],
      "source": [
        "# Get the model and tokenizer\n",
        "\n",
        "bart_tokenizer = BartTokenizer.from_pretrained(tokenizer)\n",
        "bart_model = BartForConditionalGeneration.from_pretrained(model_folder)\n",
        "bart_model.to(torch.device('cuda:0'))\n",
        "pass"
      ]
    },
    {
      "cell_type": "code",
      "execution_count": 8,
      "metadata": {
        "colab": {
          "base_uri": "https://localhost:8080/"
        },
        "id": "zYAIRZMxwXNn",
        "outputId": "d4d15620-1edd-4898-dad6-d6d7671ae71a"
      },
      "outputs": [
        {
          "output_type": "stream",
          "name": "stdout",
          "text": [
            "/content/drive/MyDrive/w266 NLP Final Project/Data/nq/bart_valid_pairs.csv\n",
            "Generating predictions using nq from 0 to 2356:\n",
            "50 100 150 200 250 300 350 400 450 500 550 600 650 700 750 800 850 900 950 1000 \n",
            "1050 1100 1150 1200 1250 1300 1350 1400 1450 1500 1550 1600 1650 1700 1750 1800 1850 1900 1950 2000 \n",
            "2050 2100 2150 2200 2250 2300 2350 2356 \n",
            "Predictions generated.\n",
            "Write: /content/drive/MyDrive/w266 NLP Final Project/Predictions_2/checkpoint/predictions.bart_base_pt_long.snq.nq.csv\n",
            "/content/drive/MyDrive/w266 NLP Final Project/Data/quac/bart_valid_pairs.csv\n",
            "Generating predictions using quac from 0 to 5868:\n",
            "50 100 150 200 250 300 350 400 450 500 550 600 650 700 750 800 850 900 950 1000 \n",
            "1050 1100 1150 1200 1250 1300 1350 1400 1450 1500 1550 1600 1650 1700 1750 1800 1850 1900 1950 2000 \n",
            "2050 2100 2150 2200 2250 2300 2350 2400 2450 2500 2550 2600 2650 2700 2750 2800 2850 2900 2950 3000 \n",
            "3050 3100 3150 3200 3250 3300 3350 3400 3450 3500 3550 3600 3650 3700 3750 3800 3850 3900 3950 4000 \n",
            "4050 4100 4150 4200 4250 4300 4350 4400 4450 4500 4550 4600 4650 4700 4750 4800 4850 4900 4950 5000 \n",
            "5050 5100 5150 5200 5250 5300 5350 5400 5450 5500 5550 5600 5650 5700 5750 5800 5850 5868 \n",
            "Predictions generated.\n",
            "Write: /content/drive/MyDrive/w266 NLP Final Project/Predictions_2/checkpoint/predictions.bart_base_pt_long.snq.quac.csv\n",
            "/content/drive/MyDrive/w266 NLP Final Project/Data/squad.hf/bart_valid_pairs.csv\n",
            "Generating predictions using squad from 0 to 10570:\n",
            "50 100 150 200 250 300 350 400 450 500 550 600 650 700 750 800 850 900 950 1000 \n",
            "1050 1100 1150 1200 1250 1300 1350 1400 1450 1500 1550 1600 1650 1700 1750 1800 1850 1900 1950 2000 \n",
            "2050 2100 2150 2200 2250 2300 2350 2400 2450 2500 2550 2600 2650 2700 2750 2800 2850 2900 2950 3000 \n",
            "3050 3100 3150 3200 3250 3300 3350 3400 3450 3500 3550 3600 3650 3700 3750 3800 3850 3900 3950 4000 \n",
            "4050 4100 4150 4200 4250 4300 4350 4400 4450 4500 4550 4600 4650 4700 4750 4800 4850 4900 4950 5000 \n",
            "5050 5100 5150 5200 5250 5300 5350 5400 5450 5500 5550 5600 5650 5700 5750 5800 5850 5900 5950 6000 \n",
            "6050 6100 6150 6200 6250 6300 6350 6400 6450 6500 6550 6600 6650 6700 6750 6800 6850 6900 6950 7000 \n",
            "7050 7100 7150 7200 7250 7300 7350 7400 7450 7500 7550 7600 7650 7700 7750 7800 7850 7900 7950 8000 \n",
            "8050 8100 8150 8200 8250 8300 8350 8400 8450 8500 8550 8600 8650 8700 8750 8800 8850 8900 8950 9000 \n",
            "9050 9100 9150 9200 9250 9300 9350 9400 9450 9500 9550 9600 9650 9700 9750 9800 9850 9900 9950 10000 \n",
            "10050 10100 10150 10200 10250 10300 10350 10400 10450 10500 10550 10570 \n",
            "Predictions generated.\n",
            "Write: /content/drive/MyDrive/w266 NLP Final Project/Predictions_2/checkpoint/predictions.bart_base_pt_long.snq.squad.csv\n",
            "/content/drive/MyDrive/w266 NLP Final Project/Data/triviaqa/bart_valid_pairs.csv\n",
            "Generating predictions using triviaqa from 0 to 9835:\n",
            "50 100 150 200 250 300 350 400 450 500 550 600 650 700 750 800 850 900 950 1000 \n",
            "1050 1100 1150 1200 1250 1300 1350 1400 1450 1500 1550 1600 1650 1700 1750 1800 1850 1900 1950 2000 \n",
            "2050 2100 2150 2200 2250 2300 2350 2400 2450 2500 2550 2600 2650 2700 2750 2800 2850 2900 2950 3000 \n",
            "3050 3100 3150 3200 3250 3300 3350 3400 3450 3500 3550 3600 3650 3700 3750 3800 3850 3900 3950 4000 \n",
            "4050 4100 4150 4200 4250 4300 4350 4400 4450 4500 4550 4600 4650 4700 4750 4800 4850 4900 4950 5000 \n",
            "5050 5100 5150 5200 5250 5300 5350 5400 5450 5500 5550 5600 5650 5700 5750 5800 5850 5900 5950 6000 \n",
            "6050 6100 6150 6200 6250 6300 6350 6400 6450 6500 6550 6600 6650 6700 6750 6800 6850 6900 6950 7000 \n",
            "7050 7100 7150 7200 7250 7300 7350 7400 7450 7500 7550 7600 7650 7700 7750 7800 7850 7900 7950 8000 \n",
            "8050 8100 8150 8200 8250 8300 8350 8400 8450 8500 8550 8600 8650 8700 8750 8800 8850 8900 8950 9000 \n",
            "9050 9100 9150 9200 9250 9300 9350 9400 9450 9500 9550 9600 9650 9700 9750 9800 9835 \n",
            "Predictions generated.\n",
            "Write: /content/drive/MyDrive/w266 NLP Final Project/Predictions_2/checkpoint/predictions.bart_base_pt_long.snq.triviaqa.csv\n"
          ]
        }
      ],
      "source": [
        "for dataset_name in validation_dataset_names:\n",
        "  if dataset_name == \"squad\":\n",
        "    validation_data_file = f\"{dataset_root}squad.hf/bart_valid_pairs.csv\"\n",
        "  else:  \n",
        "    validation_data_file = f\"{dataset_root}{dataset_name}/bart_valid_pairs.csv\"\n",
        "  print(validation_data_file)\n",
        "  validation_df = pd.read_csv(validation_data_file)\n",
        "  prediction_file = f\"{prediction_folder}predictions.{model_name}.{dataset_name}.csv\" \n",
        "  \n",
        "  start_sample = None\n",
        "  end_sample = None\n",
        "\n",
        "  predictions = []\n",
        "  \n",
        "  if start_sample is None: start_sample = 0\n",
        "  if end_sample is None: end_sample = validation_df.shape[0]\n",
        "  \n",
        "  print(f\"Generating predictions using {dataset_name} from {start_sample} to {end_sample}:\")\n",
        "  for start in range (start_sample, end_sample, batch_size):\n",
        "     to = min([end_sample, start + batch_size])\n",
        "     inputs = bart_tokenizer(validation_df['orig'][start:to].to_list(), return_tensors='pt', max_length=max_input_length, truncation=True, padding=True)\n",
        "     output_ids = bart_model.generate(inputs['input_ids'].cuda(),\n",
        "                                      min_length=min_target_length,\n",
        "                                      max_length=max_target_length,\n",
        "                                      num_beams=num_beams, \n",
        "                                      no_repeat_ngram_size=no_repeat_ngram_size, \n",
        "                                      early_stopping=early_stopping)\n",
        "     prediction_batch = bart_tokenizer.batch_decode(output_ids, skip_special_tokens=True)\n",
        "     predictions.extend(prediction_batch)\n",
        "     print (f\"{to} \", end=\"\")\n",
        "     if to%1000 == 0: print()\n",
        "  print(\"\\nPredictions generated.\")\n",
        "\n",
        "  df=pd.DataFrame()\n",
        "  df['context'] = [str.split('</s>')[1] for str in validation_df['orig'][start_sample:end_sample]]\n",
        "  df['answer'] =  [str.split('</s>')[0] for str in validation_df['orig'][start_sample:end_sample]]\n",
        "  df['target'] = validation_df['target']\n",
        "  df['prediction'] = predictions\n",
        "\n",
        "  if save_predictions:\n",
        "    df.to_csv(prediction_file, mode=save_mode)\n",
        "    print(f\"Write: {prediction_file}\")"
      ]
    }
  ],
  "metadata": {
    "accelerator": "GPU",
    "colab": {
      "provenance": [],
      "include_colab_link": true
    },
    "gpuClass": "premium",
    "kernelspec": {
      "display_name": "Python [conda env:gpu]",
      "language": "python",
      "name": "conda-env-gpu-py"
    },
    "language_info": {
      "codemirror_mode": {
        "name": "ipython",
        "version": 3
      },
      "file_extension": ".py",
      "mimetype": "text/x-python",
      "name": "python",
      "nbconvert_exporter": "python",
      "pygments_lexer": "ipython3",
      "version": "3.9.15"
    }
  },
  "nbformat": 4,
  "nbformat_minor": 0
}