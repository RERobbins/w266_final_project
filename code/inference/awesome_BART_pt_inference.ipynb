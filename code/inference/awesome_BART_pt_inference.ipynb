{
  "cells": [
    {
      "cell_type": "markdown",
      "metadata": {
        "id": "view-in-github",
        "colab_type": "text"
      },
      "source": [
        "<a href=\"https://colab.research.google.com/github/jeanlucjackson/w266_final_project/blob/main/code/inference/awesome_BART_pt_inference.ipynb\" target=\"_parent\"><img src=\"https://colab.research.google.com/assets/colab-badge.svg\" alt=\"Open In Colab\"/></a>"
      ]
    },
    {
      "cell_type": "markdown",
      "source": [
        "### Generate Predictions From An Awesome Validation Dataset\n",
        "\n",
        "This notebook assumes a T5 PyTorch model.\n",
        "\n",
        "Setting the constants in the next call should be all that is necessary to run the validation set."
      ],
      "metadata": {
        "id": "Hh-4vVXTMhpC"
      }
    },
    {
      "cell_type": "code",
      "source": [
        "# Set these constants for each model and validation dataset combination\n",
        "\n",
        "model_name = \"bart_base_pt_long.quac\"\n",
        "validation_dataset_names = [\"nq\", \"quac\", \"squad\", \"triviaqa\"]\n",
        "\n",
        "save_predictions = True\n",
        "save_mode = 'w' # w for write, a for append\n",
        "\n",
        "max_length = 1024 # 1024 for long model and 512 otherwise\n",
        "batch_size = 50\n",
        "\n",
        "start_sample = None  # If None, then 0 will be used\n",
        "end_sample = None # If None, then the end of the set will be used"
      ],
      "metadata": {
        "id": "rlCLzceMMahp"
      },
      "execution_count": 1,
      "outputs": []
    },
    {
      "cell_type": "markdown",
      "source": [
        "### Generate Predictions"
      ],
      "metadata": {
        "id": "fJ8lW8X8NJ9o"
      }
    },
    {
      "cell_type": "code",
      "execution_count": 2,
      "metadata": {
        "id": "c3906UT0dyke",
        "colab": {
          "base_uri": "https://localhost:8080/"
        },
        "outputId": "73a5347e-ceb0-4306-9bac-65aaaf573200"
      },
      "outputs": [
        {
          "output_type": "stream",
          "name": "stdout",
          "text": [
            "\u001b[K     |████████████████████████████████| 5.5 MB 21.3 MB/s \n",
            "\u001b[K     |████████████████████████████████| 7.6 MB 49.8 MB/s \n",
            "\u001b[K     |████████████████████████████████| 163 kB 90.8 MB/s \n",
            "\u001b[?25h"
          ]
        }
      ],
      "source": [
        "!pip install -q transformers"
      ]
    },
    {
      "cell_type": "code",
      "execution_count": 3,
      "metadata": {
        "id": "vBX23WXdd0v-",
        "colab": {
          "base_uri": "https://localhost:8080/"
        },
        "outputId": "638b3db4-0b7b-4655-8eba-bcb5e75eebf8"
      },
      "outputs": [
        {
          "output_type": "stream",
          "name": "stdout",
          "text": [
            "\u001b[?25l\r\u001b[K     |▎                               | 10 kB 28.5 MB/s eta 0:00:01\r\u001b[K     |▌                               | 20 kB 22.8 MB/s eta 0:00:01\r\u001b[K     |▊                               | 30 kB 29.6 MB/s eta 0:00:01\r\u001b[K     |█                               | 40 kB 25.7 MB/s eta 0:00:01\r\u001b[K     |█▎                              | 51 kB 29.7 MB/s eta 0:00:01\r\u001b[K     |█▌                              | 61 kB 34.0 MB/s eta 0:00:01\r\u001b[K     |█▉                              | 71 kB 26.3 MB/s eta 0:00:01\r\u001b[K     |██                              | 81 kB 28.5 MB/s eta 0:00:01\r\u001b[K     |██▎                             | 92 kB 31.0 MB/s eta 0:00:01\r\u001b[K     |██▋                             | 102 kB 27.6 MB/s eta 0:00:01\r\u001b[K     |██▉                             | 112 kB 27.6 MB/s eta 0:00:01\r\u001b[K     |███                             | 122 kB 27.6 MB/s eta 0:00:01\r\u001b[K     |███▍                            | 133 kB 27.6 MB/s eta 0:00:01\r\u001b[K     |███▋                            | 143 kB 27.6 MB/s eta 0:00:01\r\u001b[K     |███▉                            | 153 kB 27.6 MB/s eta 0:00:01\r\u001b[K     |████                            | 163 kB 27.6 MB/s eta 0:00:01\r\u001b[K     |████▍                           | 174 kB 27.6 MB/s eta 0:00:01\r\u001b[K     |████▋                           | 184 kB 27.6 MB/s eta 0:00:01\r\u001b[K     |████▉                           | 194 kB 27.6 MB/s eta 0:00:01\r\u001b[K     |█████▏                          | 204 kB 27.6 MB/s eta 0:00:01\r\u001b[K     |█████▍                          | 215 kB 27.6 MB/s eta 0:00:01\r\u001b[K     |█████▋                          | 225 kB 27.6 MB/s eta 0:00:01\r\u001b[K     |██████                          | 235 kB 27.6 MB/s eta 0:00:01\r\u001b[K     |██████▏                         | 245 kB 27.6 MB/s eta 0:00:01\r\u001b[K     |██████▍                         | 256 kB 27.6 MB/s eta 0:00:01\r\u001b[K     |██████▊                         | 266 kB 27.6 MB/s eta 0:00:01\r\u001b[K     |███████                         | 276 kB 27.6 MB/s eta 0:00:01\r\u001b[K     |███████▏                        | 286 kB 27.6 MB/s eta 0:00:01\r\u001b[K     |███████▍                        | 296 kB 27.6 MB/s eta 0:00:01\r\u001b[K     |███████▊                        | 307 kB 27.6 MB/s eta 0:00:01\r\u001b[K     |████████                        | 317 kB 27.6 MB/s eta 0:00:01\r\u001b[K     |████████▏                       | 327 kB 27.6 MB/s eta 0:00:01\r\u001b[K     |████████▌                       | 337 kB 27.6 MB/s eta 0:00:01\r\u001b[K     |████████▊                       | 348 kB 27.6 MB/s eta 0:00:01\r\u001b[K     |█████████                       | 358 kB 27.6 MB/s eta 0:00:01\r\u001b[K     |█████████▎                      | 368 kB 27.6 MB/s eta 0:00:01\r\u001b[K     |█████████▌                      | 378 kB 27.6 MB/s eta 0:00:01\r\u001b[K     |█████████▊                      | 389 kB 27.6 MB/s eta 0:00:01\r\u001b[K     |██████████                      | 399 kB 27.6 MB/s eta 0:00:01\r\u001b[K     |██████████▎                     | 409 kB 27.6 MB/s eta 0:00:01\r\u001b[K     |██████████▌                     | 419 kB 27.6 MB/s eta 0:00:01\r\u001b[K     |██████████▉                     | 430 kB 27.6 MB/s eta 0:00:01\r\u001b[K     |███████████                     | 440 kB 27.6 MB/s eta 0:00:01\r\u001b[K     |███████████▎                    | 450 kB 27.6 MB/s eta 0:00:01\r\u001b[K     |███████████▌                    | 460 kB 27.6 MB/s eta 0:00:01\r\u001b[K     |███████████▉                    | 471 kB 27.6 MB/s eta 0:00:01\r\u001b[K     |████████████                    | 481 kB 27.6 MB/s eta 0:00:01\r\u001b[K     |████████████▎                   | 491 kB 27.6 MB/s eta 0:00:01\r\u001b[K     |████████████▋                   | 501 kB 27.6 MB/s eta 0:00:01\r\u001b[K     |████████████▉                   | 512 kB 27.6 MB/s eta 0:00:01\r\u001b[K     |█████████████                   | 522 kB 27.6 MB/s eta 0:00:01\r\u001b[K     |█████████████▍                  | 532 kB 27.6 MB/s eta 0:00:01\r\u001b[K     |█████████████▋                  | 542 kB 27.6 MB/s eta 0:00:01\r\u001b[K     |█████████████▉                  | 552 kB 27.6 MB/s eta 0:00:01\r\u001b[K     |██████████████▏                 | 563 kB 27.6 MB/s eta 0:00:01\r\u001b[K     |██████████████▍                 | 573 kB 27.6 MB/s eta 0:00:01\r\u001b[K     |██████████████▋                 | 583 kB 27.6 MB/s eta 0:00:01\r\u001b[K     |██████████████▉                 | 593 kB 27.6 MB/s eta 0:00:01\r\u001b[K     |███████████████▏                | 604 kB 27.6 MB/s eta 0:00:01\r\u001b[K     |███████████████▍                | 614 kB 27.6 MB/s eta 0:00:01\r\u001b[K     |███████████████▋                | 624 kB 27.6 MB/s eta 0:00:01\r\u001b[K     |████████████████                | 634 kB 27.6 MB/s eta 0:00:01\r\u001b[K     |████████████████▏               | 645 kB 27.6 MB/s eta 0:00:01\r\u001b[K     |████████████████▍               | 655 kB 27.6 MB/s eta 0:00:01\r\u001b[K     |████████████████▊               | 665 kB 27.6 MB/s eta 0:00:01\r\u001b[K     |█████████████████               | 675 kB 27.6 MB/s eta 0:00:01\r\u001b[K     |█████████████████▏              | 686 kB 27.6 MB/s eta 0:00:01\r\u001b[K     |█████████████████▌              | 696 kB 27.6 MB/s eta 0:00:01\r\u001b[K     |█████████████████▊              | 706 kB 27.6 MB/s eta 0:00:01\r\u001b[K     |██████████████████              | 716 kB 27.6 MB/s eta 0:00:01\r\u001b[K     |██████████████████▎             | 727 kB 27.6 MB/s eta 0:00:01\r\u001b[K     |██████████████████▌             | 737 kB 27.6 MB/s eta 0:00:01\r\u001b[K     |██████████████████▊             | 747 kB 27.6 MB/s eta 0:00:01\r\u001b[K     |███████████████████             | 757 kB 27.6 MB/s eta 0:00:01\r\u001b[K     |███████████████████▎            | 768 kB 27.6 MB/s eta 0:00:01\r\u001b[K     |███████████████████▌            | 778 kB 27.6 MB/s eta 0:00:01\r\u001b[K     |███████████████████▊            | 788 kB 27.6 MB/s eta 0:00:01\r\u001b[K     |████████████████████            | 798 kB 27.6 MB/s eta 0:00:01\r\u001b[K     |████████████████████▎           | 808 kB 27.6 MB/s eta 0:00:01\r\u001b[K     |████████████████████▌           | 819 kB 27.6 MB/s eta 0:00:01\r\u001b[K     |████████████████████▉           | 829 kB 27.6 MB/s eta 0:00:01\r\u001b[K     |█████████████████████           | 839 kB 27.6 MB/s eta 0:00:01\r\u001b[K     |█████████████████████▎          | 849 kB 27.6 MB/s eta 0:00:01\r\u001b[K     |█████████████████████▋          | 860 kB 27.6 MB/s eta 0:00:01\r\u001b[K     |█████████████████████▉          | 870 kB 27.6 MB/s eta 0:00:01\r\u001b[K     |██████████████████████          | 880 kB 27.6 MB/s eta 0:00:01\r\u001b[K     |██████████████████████▎         | 890 kB 27.6 MB/s eta 0:00:01\r\u001b[K     |██████████████████████▋         | 901 kB 27.6 MB/s eta 0:00:01\r\u001b[K     |██████████████████████▉         | 911 kB 27.6 MB/s eta 0:00:01\r\u001b[K     |███████████████████████         | 921 kB 27.6 MB/s eta 0:00:01\r\u001b[K     |███████████████████████▍        | 931 kB 27.6 MB/s eta 0:00:01\r\u001b[K     |███████████████████████▋        | 942 kB 27.6 MB/s eta 0:00:01\r\u001b[K     |███████████████████████▉        | 952 kB 27.6 MB/s eta 0:00:01\r\u001b[K     |████████████████████████▏       | 962 kB 27.6 MB/s eta 0:00:01\r\u001b[K     |████████████████████████▍       | 972 kB 27.6 MB/s eta 0:00:01\r\u001b[K     |████████████████████████▋       | 983 kB 27.6 MB/s eta 0:00:01\r\u001b[K     |█████████████████████████       | 993 kB 27.6 MB/s eta 0:00:01\r\u001b[K     |█████████████████████████▏      | 1.0 MB 27.6 MB/s eta 0:00:01\r\u001b[K     |█████████████████████████▍      | 1.0 MB 27.6 MB/s eta 0:00:01\r\u001b[K     |█████████████████████████▊      | 1.0 MB 27.6 MB/s eta 0:00:01\r\u001b[K     |██████████████████████████      | 1.0 MB 27.6 MB/s eta 0:00:01\r\u001b[K     |██████████████████████████▏     | 1.0 MB 27.6 MB/s eta 0:00:01\r\u001b[K     |██████████████████████████▍     | 1.1 MB 27.6 MB/s eta 0:00:01\r\u001b[K     |██████████████████████████▊     | 1.1 MB 27.6 MB/s eta 0:00:01\r\u001b[K     |███████████████████████████     | 1.1 MB 27.6 MB/s eta 0:00:01\r\u001b[K     |███████████████████████████▏    | 1.1 MB 27.6 MB/s eta 0:00:01\r\u001b[K     |███████████████████████████▌    | 1.1 MB 27.6 MB/s eta 0:00:01\r\u001b[K     |███████████████████████████▊    | 1.1 MB 27.6 MB/s eta 0:00:01\r\u001b[K     |████████████████████████████    | 1.1 MB 27.6 MB/s eta 0:00:01\r\u001b[K     |████████████████████████████▎   | 1.1 MB 27.6 MB/s eta 0:00:01\r\u001b[K     |████████████████████████████▌   | 1.1 MB 27.6 MB/s eta 0:00:01\r\u001b[K     |████████████████████████████▊   | 1.1 MB 27.6 MB/s eta 0:00:01\r\u001b[K     |█████████████████████████████   | 1.2 MB 27.6 MB/s eta 0:00:01\r\u001b[K     |█████████████████████████████▎  | 1.2 MB 27.6 MB/s eta 0:00:01\r\u001b[K     |█████████████████████████████▌  | 1.2 MB 27.6 MB/s eta 0:00:01\r\u001b[K     |█████████████████████████████▊  | 1.2 MB 27.6 MB/s eta 0:00:01\r\u001b[K     |██████████████████████████████  | 1.2 MB 27.6 MB/s eta 0:00:01\r\u001b[K     |██████████████████████████████▎ | 1.2 MB 27.6 MB/s eta 0:00:01\r\u001b[K     |██████████████████████████████▌ | 1.2 MB 27.6 MB/s eta 0:00:01\r\u001b[K     |██████████████████████████████▉ | 1.2 MB 27.6 MB/s eta 0:00:01\r\u001b[K     |███████████████████████████████ | 1.2 MB 27.6 MB/s eta 0:00:01\r\u001b[K     |███████████████████████████████▎| 1.2 MB 27.6 MB/s eta 0:00:01\r\u001b[K     |███████████████████████████████▋| 1.3 MB 27.6 MB/s eta 0:00:01\r\u001b[K     |███████████████████████████████▉| 1.3 MB 27.6 MB/s eta 0:00:01\r\u001b[K     |████████████████████████████████| 1.3 MB 27.6 MB/s \n",
            "\u001b[?25h"
          ]
        }
      ],
      "source": [
        "!pip install -q sentencepiece"
      ]
    },
    {
      "cell_type": "code",
      "execution_count": 4,
      "metadata": {
        "colab": {
          "base_uri": "https://localhost:8080/"
        },
        "id": "17N1XaF7d6dW",
        "outputId": "e7e9f018-f531-4fba-eb57-3a296300057b"
      },
      "outputs": [
        {
          "output_type": "stream",
          "name": "stdout",
          "text": [
            "Mounted at /content/drive\n"
          ]
        }
      ],
      "source": [
        "from google.colab import drive\n",
        "drive.mount('/content/drive')"
      ]
    },
    {
      "cell_type": "code",
      "execution_count": 5,
      "metadata": {
        "id": "3jvE9TJRd4cG"
      },
      "outputs": [],
      "source": [
        "import os\n",
        "import numpy as np\n",
        "import pandas as pd\n",
        "\n",
        "import torch\n",
        "from transformers import BartTokenizer, BartForConditionalGeneration\n",
        "\n",
        "import warnings\n",
        "warnings.simplefilter(action='ignore', category=FutureWarning)\n",
        "\n",
        "from google.colab import data_table\n",
        "data_table.enable_dataframe_formatter()"
      ]
    },
    {
      "cell_type": "code",
      "execution_count": 6,
      "metadata": {
        "id": "iMHoUiDnd9He"
      },
      "outputs": [],
      "source": [
        "# Some important file locations and constants\n",
        "\n",
        "project_root = \"/content/drive/MyDrive/w266 NLP Final Project/\"\n",
        "dataset_root = project_root + \"Data/\"\n",
        "model_root = project_root + \"Models/\"\n",
        "prediction_folder = project_root + \"Predictions/\"\n",
        "\n",
        "tokenizer = \"facebook/bart-base\"\n",
        "model_folder = model_root + model_name"
      ]
    },
    {
      "cell_type": "code",
      "source": [
        "# Get the model and tokenizer\n",
        "\n",
        "bart_tokenizer = BartTokenizer.from_pretrained(tokenizer)\n",
        "bart_model = BartForConditionalGeneration.from_pretrained(model_folder)\n",
        "bart_model.to(torch.device('cuda:0'))\n",
        "pass"
      ],
      "metadata": {
        "colab": {
          "base_uri": "https://localhost:8080/",
          "height": 113,
          "referenced_widgets": [
            "d5974d6090a24f2f8e04d87af05764be",
            "12e993c74e814b0b94a24772384327e1",
            "2cb5b3e3d37a49f0935ae8c5db603344",
            "222286bbd43d450cb7fc8dbfd2c46259",
            "c4cd10a5ceb3409ea52b45d630be7015",
            "a9fff158325e4af294254516cba0f7d3",
            "4d4b53a690184da9b33a7fe664446dd1",
            "56f61d22aef84071ae4eed2a71072ef8",
            "477a6d7354784fe59660b644de5768c1",
            "5927a6d47b594568a438143424da70fe",
            "0e9dbc0f6da546eaa5fc55f813decd8b",
            "e29e8409b2fa4bf4bf4d0f4bab321cb4",
            "204155e9aff44fca8666b8febb6e8952",
            "722384fd1eb942198261593cec4d7e92",
            "a5271176515a45ad90e2f5c6ab63fcc9",
            "c11a09b4a65644c6b17cca9c02f95167",
            "c1a31cd9d2074d3bb3778f6ad05828b5",
            "7f71f88e01b147789871ef797f656996",
            "f5c47f2016ab44da98800eb5dbe88b40",
            "277961f6382741299a82e252c7d3b08e",
            "60d3e52181484995b37bde14781d4cfe",
            "ba9d8ca55fd54257bc6314d8fb6318ab",
            "9bc30c140ded4d19a8363745b031ad6a",
            "0113c902f2f6480c84e3b041308bae9b",
            "d7f44136d3e44e48a40019278493c5fc",
            "b2ad8541e13a4e198229efd7012a1149",
            "8eac44b88192406c9dc11735e305f4b8",
            "cd2574ba4661484a89c22901b18a0253",
            "e3b15033cf9040c49c12b8e8c55edfee",
            "cf83ac554ac6423eb3c0165d542f7ea6",
            "932a7053e34e47bb98b64530ebb7b5a7",
            "e27c1131e53847bb9da2e10173bb903c",
            "8516b0e1539441c8b050382dea92f0e2"
          ]
        },
        "id": "fEhqOalVycI9",
        "outputId": "2e01d2a3-9b7c-49b0-e48a-627b18edfd6f"
      },
      "execution_count": 7,
      "outputs": [
        {
          "output_type": "display_data",
          "data": {
            "text/plain": [
              "Downloading:   0%|          | 0.00/899k [00:00<?, ?B/s]"
            ],
            "application/vnd.jupyter.widget-view+json": {
              "version_major": 2,
              "version_minor": 0,
              "model_id": "d5974d6090a24f2f8e04d87af05764be"
            }
          },
          "metadata": {}
        },
        {
          "output_type": "display_data",
          "data": {
            "text/plain": [
              "Downloading:   0%|          | 0.00/456k [00:00<?, ?B/s]"
            ],
            "application/vnd.jupyter.widget-view+json": {
              "version_major": 2,
              "version_minor": 0,
              "model_id": "e29e8409b2fa4bf4bf4d0f4bab321cb4"
            }
          },
          "metadata": {}
        },
        {
          "output_type": "display_data",
          "data": {
            "text/plain": [
              "Downloading:   0%|          | 0.00/1.72k [00:00<?, ?B/s]"
            ],
            "application/vnd.jupyter.widget-view+json": {
              "version_major": 2,
              "version_minor": 0,
              "model_id": "9bc30c140ded4d19a8363745b031ad6a"
            }
          },
          "metadata": {}
        }
      ]
    },
    {
      "cell_type": "code",
      "source": [
        "for dataset_name in validation_dataset_names:\n",
        "  if dataset_name == \"squad\":\n",
        "    validation_data_file = f\"{dataset_root}squad.hf/bart_valid_pairs.csv\"\n",
        "  else:  \n",
        "    validation_data_file = f\"{dataset_root}{dataset_name}/bart_valid_pairs.csv\"\n",
        "  print(validation_data_file)\n",
        "  validation_df = pd.read_csv(validation_data_file)\n",
        "  prediction_file = f\"{prediction_folder}predictions.{model_name}.{dataset_name}.csv\" \n",
        "  \n",
        "  start_sample = None\n",
        "  end_sample = None\n",
        "\n",
        "  predictions = []\n",
        "  \n",
        "  if start_sample is None: start_sample = 0\n",
        "  if end_sample is None: end_sample = validation_df.shape[0]\n",
        "  \n",
        "  print(f\"Generating predictions using {dataset_name} from {start_sample} to {end_sample}:\")\n",
        "  for start in range (start_sample, end_sample, batch_size):\n",
        "     to = min([end_sample, start + batch_size])\n",
        "     inputs = bart_tokenizer(validation_df['orig'][start:to].to_list(), return_tensors='pt', max_length=max_length, truncation=True, padding=True)\n",
        "     output_ids = bart_model.generate(inputs['input_ids'].cuda(), max_length=max_length)\n",
        "     prediction_batch = bart_tokenizer.batch_decode(output_ids, skip_special_tokens=True)\n",
        "     predictions.extend(prediction_batch)\n",
        "     print (f\"{to} \", end=\"\")\n",
        "     if to%1000 == 0: print()\n",
        "  print(\"\\nPredictions generated.\")\n",
        "\n",
        "  df=pd.DataFrame()\n",
        "  df['context'] = [str.split('</s>')[1] for str in validation_df['orig'][start_sample:end_sample]]\n",
        "  df['answer'] =  [str.split('</s>')[0] for str in validation_df['orig'][start_sample:end_sample]]\n",
        "  df['target'] = validation_df['target']\n",
        "  df['prediction'] = predictions\n",
        "\n",
        "  if save_predictions:\n",
        "    df.to_csv(prediction_file, mode=save_mode)\n",
        "    print(f\"Write: {prediction_file}\")"
      ],
      "metadata": {
        "colab": {
          "base_uri": "https://localhost:8080/"
        },
        "id": "zYAIRZMxwXNn",
        "outputId": "11b8afc8-e8e1-4960-f1e7-2a589a26e941"
      },
      "execution_count": 9,
      "outputs": [
        {
          "output_type": "stream",
          "name": "stdout",
          "text": [
            "/content/drive/MyDrive/w266 NLP Final Project/Data/nq/bart_valid_pairs.csv\n",
            "Generating predictions using nq from 0 to 2356:\n",
            "50 100 150 200 250 300 350 400 450 500 550 600 650 700 750 800 850 900 950 1000 \n",
            "1050 1100 1150 1200 1250 1300 1350 1400 1450 1500 1550 1600 1650 1700 1750 1800 1850 1900 1950 2000 \n",
            "2050 2100 2150 2200 2250 2300 2350 2356 \n",
            "Predictions generated.\n",
            "Write: /content/drive/MyDrive/w266 NLP Final Project/Predictions/predictions.bart_base_pt_long.quac.nq.csv\n",
            "/content/drive/MyDrive/w266 NLP Final Project/Data/quac/bart_valid_pairs.csv\n",
            "Generating predictions using quac from 0 to 5868:\n",
            "50 100 150 200 250 300 350 400 450 500 550 600 650 700 750 800 850 900 950 1000 \n",
            "1050 1100 1150 1200 1250 1300 1350 1400 1450 1500 1550 1600 1650 1700 1750 1800 1850 1900 1950 2000 \n",
            "2050 2100 2150 2200 2250 2300 2350 2400 2450 2500 2550 2600 2650 2700 2750 2800 2850 2900 2950 3000 \n",
            "3050 3100 3150 3200 3250 3300 3350 3400 3450 3500 3550 3600 3650 3700 3750 3800 3850 3900 3950 4000 \n",
            "4050 4100 4150 4200 4250 4300 4350 4400 4450 4500 4550 4600 4650 4700 4750 4800 4850 4900 4950 5000 \n",
            "5050 5100 5150 5200 5250 5300 5350 5400 5450 5500 5550 5600 5650 5700 5750 5800 5850 5868 \n",
            "Predictions generated.\n",
            "Write: /content/drive/MyDrive/w266 NLP Final Project/Predictions/predictions.bart_base_pt_long.quac.quac.csv\n",
            "/content/drive/MyDrive/w266 NLP Final Project/Data/squad.hf/bart_valid_pairs.csv\n",
            "Generating predictions using squad from 0 to 10570:\n",
            "50 100 150 200 250 300 350 400 450 500 550 600 650 700 750 800 850 900 950 1000 \n",
            "1050 1100 1150 1200 1250 1300 1350 1400 1450 1500 1550 1600 1650 1700 1750 1800 1850 1900 1950 2000 \n",
            "2050 2100 2150 2200 2250 2300 2350 2400 2450 2500 2550 2600 2650 2700 2750 2800 2850 2900 2950 3000 \n",
            "3050 3100 3150 3200 3250 3300 3350 3400 3450 3500 3550 3600 3650 3700 3750 3800 3850 3900 3950 4000 \n",
            "4050 4100 4150 4200 4250 4300 4350 4400 4450 4500 4550 4600 4650 4700 4750 4800 4850 4900 4950 5000 \n",
            "5050 5100 5150 5200 5250 5300 5350 5400 5450 5500 5550 5600 5650 5700 5750 5800 5850 5900 5950 6000 \n",
            "6050 6100 6150 6200 6250 6300 6350 6400 6450 6500 6550 6600 6650 6700 6750 6800 6850 6900 6950 7000 \n",
            "7050 7100 7150 7200 7250 7300 7350 7400 7450 7500 7550 7600 7650 7700 7750 7800 7850 7900 7950 8000 \n",
            "8050 8100 8150 8200 8250 8300 8350 8400 8450 8500 8550 8600 8650 8700 8750 8800 8850 8900 8950 9000 \n",
            "9050 9100 9150 9200 9250 9300 9350 9400 9450 9500 9550 9600 9650 9700 9750 9800 9850 9900 9950 10000 \n",
            "10050 10100 10150 10200 10250 10300 10350 10400 10450 10500 10550 10570 \n",
            "Predictions generated.\n",
            "Write: /content/drive/MyDrive/w266 NLP Final Project/Predictions/predictions.bart_base_pt_long.quac.squad.csv\n",
            "/content/drive/MyDrive/w266 NLP Final Project/Data/triviaqa/bart_valid_pairs.csv\n",
            "Generating predictions using triviaqa from 0 to 9835:\n",
            "50 100 150 200 250 300 350 400 450 500 550 600 650 700 750 800 850 900 950 1000 \n",
            "1050 1100 1150 1200 1250 1300 1350 1400 1450 1500 1550 1600 1650 1700 1750 1800 1850 1900 1950 2000 \n",
            "2050 2100 2150 2200 2250 2300 2350 2400 2450 2500 2550 2600 2650 2700 2750 2800 2850 2900 2950 3000 \n",
            "3050 3100 3150 3200 3250 3300 3350 3400 3450 3500 3550 3600 3650 3700 3750 3800 3850 3900 3950 4000 \n",
            "4050 4100 4150 4200 4250 4300 4350 4400 4450 4500 4550 4600 4650 4700 4750 4800 4850 4900 4950 5000 \n",
            "5050 5100 5150 5200 5250 5300 5350 5400 5450 5500 5550 5600 5650 5700 5750 5800 5850 5900 5950 6000 \n",
            "6050 6100 6150 6200 6250 6300 6350 6400 6450 6500 6550 6600 6650 6700 6750 6800 6850 6900 6950 7000 \n",
            "7050 7100 7150 7200 7250 7300 7350 7400 7450 7500 7550 7600 7650 7700 7750 7800 7850 7900 7950 8000 \n",
            "8050 8100 8150 8200 8250 8300 8350 8400 8450 8500 8550 8600 8650 8700 8750 8800 8850 8900 8950 9000 \n",
            "9050 9100 9150 9200 9250 9300 9350 9400 9450 9500 9550 9600 9650 9700 9750 9800 9835 \n",
            "Predictions generated.\n",
            "Write: /content/drive/MyDrive/w266 NLP Final Project/Predictions/predictions.bart_base_pt_long.quac.triviaqa.csv\n"
          ]
        }
      ]
    },
    {
      "cell_type": "code",
      "execution_count": null,
      "metadata": {
        "id": "cKzojpnFqbLN"
      },
      "outputs": [],
      "source": []
    }
  ],
  "metadata": {
    "accelerator": "GPU",
    "colab": {
      "collapsed_sections": [],
      "provenance": [],
      "include_colab_link": true
    },
    "gpuClass": "premium",
    "kernelspec": {
      "display_name": "Python 3",
      "name": "python3"
    },
    "language_info": {
      "name": "python"
    },
    "widgets": {
      "application/vnd.jupyter.widget-state+json": {
        "d5974d6090a24f2f8e04d87af05764be": {
          "model_module": "@jupyter-widgets/controls",
          "model_name": "HBoxModel",
          "model_module_version": "1.5.0",
          "state": {
            "_dom_classes": [],
            "_model_module": "@jupyter-widgets/controls",
            "_model_module_version": "1.5.0",
            "_model_name": "HBoxModel",
            "_view_count": null,
            "_view_module": "@jupyter-widgets/controls",
            "_view_module_version": "1.5.0",
            "_view_name": "HBoxView",
            "box_style": "",
            "children": [
              "IPY_MODEL_12e993c74e814b0b94a24772384327e1",
              "IPY_MODEL_2cb5b3e3d37a49f0935ae8c5db603344",
              "IPY_MODEL_222286bbd43d450cb7fc8dbfd2c46259"
            ],
            "layout": "IPY_MODEL_c4cd10a5ceb3409ea52b45d630be7015"
          }
        },
        "12e993c74e814b0b94a24772384327e1": {
          "model_module": "@jupyter-widgets/controls",
          "model_name": "HTMLModel",
          "model_module_version": "1.5.0",
          "state": {
            "_dom_classes": [],
            "_model_module": "@jupyter-widgets/controls",
            "_model_module_version": "1.5.0",
            "_model_name": "HTMLModel",
            "_view_count": null,
            "_view_module": "@jupyter-widgets/controls",
            "_view_module_version": "1.5.0",
            "_view_name": "HTMLView",
            "description": "",
            "description_tooltip": null,
            "layout": "IPY_MODEL_a9fff158325e4af294254516cba0f7d3",
            "placeholder": "​",
            "style": "IPY_MODEL_4d4b53a690184da9b33a7fe664446dd1",
            "value": "Downloading: 100%"
          }
        },
        "2cb5b3e3d37a49f0935ae8c5db603344": {
          "model_module": "@jupyter-widgets/controls",
          "model_name": "FloatProgressModel",
          "model_module_version": "1.5.0",
          "state": {
            "_dom_classes": [],
            "_model_module": "@jupyter-widgets/controls",
            "_model_module_version": "1.5.0",
            "_model_name": "FloatProgressModel",
            "_view_count": null,
            "_view_module": "@jupyter-widgets/controls",
            "_view_module_version": "1.5.0",
            "_view_name": "ProgressView",
            "bar_style": "success",
            "description": "",
            "description_tooltip": null,
            "layout": "IPY_MODEL_56f61d22aef84071ae4eed2a71072ef8",
            "max": 898823,
            "min": 0,
            "orientation": "horizontal",
            "style": "IPY_MODEL_477a6d7354784fe59660b644de5768c1",
            "value": 898823
          }
        },
        "222286bbd43d450cb7fc8dbfd2c46259": {
          "model_module": "@jupyter-widgets/controls",
          "model_name": "HTMLModel",
          "model_module_version": "1.5.0",
          "state": {
            "_dom_classes": [],
            "_model_module": "@jupyter-widgets/controls",
            "_model_module_version": "1.5.0",
            "_model_name": "HTMLModel",
            "_view_count": null,
            "_view_module": "@jupyter-widgets/controls",
            "_view_module_version": "1.5.0",
            "_view_name": "HTMLView",
            "description": "",
            "description_tooltip": null,
            "layout": "IPY_MODEL_5927a6d47b594568a438143424da70fe",
            "placeholder": "​",
            "style": "IPY_MODEL_0e9dbc0f6da546eaa5fc55f813decd8b",
            "value": " 899k/899k [00:01&lt;00:00, 937kB/s]"
          }
        },
        "c4cd10a5ceb3409ea52b45d630be7015": {
          "model_module": "@jupyter-widgets/base",
          "model_name": "LayoutModel",
          "model_module_version": "1.2.0",
          "state": {
            "_model_module": "@jupyter-widgets/base",
            "_model_module_version": "1.2.0",
            "_model_name": "LayoutModel",
            "_view_count": null,
            "_view_module": "@jupyter-widgets/base",
            "_view_module_version": "1.2.0",
            "_view_name": "LayoutView",
            "align_content": null,
            "align_items": null,
            "align_self": null,
            "border": null,
            "bottom": null,
            "display": null,
            "flex": null,
            "flex_flow": null,
            "grid_area": null,
            "grid_auto_columns": null,
            "grid_auto_flow": null,
            "grid_auto_rows": null,
            "grid_column": null,
            "grid_gap": null,
            "grid_row": null,
            "grid_template_areas": null,
            "grid_template_columns": null,
            "grid_template_rows": null,
            "height": null,
            "justify_content": null,
            "justify_items": null,
            "left": null,
            "margin": null,
            "max_height": null,
            "max_width": null,
            "min_height": null,
            "min_width": null,
            "object_fit": null,
            "object_position": null,
            "order": null,
            "overflow": null,
            "overflow_x": null,
            "overflow_y": null,
            "padding": null,
            "right": null,
            "top": null,
            "visibility": null,
            "width": null
          }
        },
        "a9fff158325e4af294254516cba0f7d3": {
          "model_module": "@jupyter-widgets/base",
          "model_name": "LayoutModel",
          "model_module_version": "1.2.0",
          "state": {
            "_model_module": "@jupyter-widgets/base",
            "_model_module_version": "1.2.0",
            "_model_name": "LayoutModel",
            "_view_count": null,
            "_view_module": "@jupyter-widgets/base",
            "_view_module_version": "1.2.0",
            "_view_name": "LayoutView",
            "align_content": null,
            "align_items": null,
            "align_self": null,
            "border": null,
            "bottom": null,
            "display": null,
            "flex": null,
            "flex_flow": null,
            "grid_area": null,
            "grid_auto_columns": null,
            "grid_auto_flow": null,
            "grid_auto_rows": null,
            "grid_column": null,
            "grid_gap": null,
            "grid_row": null,
            "grid_template_areas": null,
            "grid_template_columns": null,
            "grid_template_rows": null,
            "height": null,
            "justify_content": null,
            "justify_items": null,
            "left": null,
            "margin": null,
            "max_height": null,
            "max_width": null,
            "min_height": null,
            "min_width": null,
            "object_fit": null,
            "object_position": null,
            "order": null,
            "overflow": null,
            "overflow_x": null,
            "overflow_y": null,
            "padding": null,
            "right": null,
            "top": null,
            "visibility": null,
            "width": null
          }
        },
        "4d4b53a690184da9b33a7fe664446dd1": {
          "model_module": "@jupyter-widgets/controls",
          "model_name": "DescriptionStyleModel",
          "model_module_version": "1.5.0",
          "state": {
            "_model_module": "@jupyter-widgets/controls",
            "_model_module_version": "1.5.0",
            "_model_name": "DescriptionStyleModel",
            "_view_count": null,
            "_view_module": "@jupyter-widgets/base",
            "_view_module_version": "1.2.0",
            "_view_name": "StyleView",
            "description_width": ""
          }
        },
        "56f61d22aef84071ae4eed2a71072ef8": {
          "model_module": "@jupyter-widgets/base",
          "model_name": "LayoutModel",
          "model_module_version": "1.2.0",
          "state": {
            "_model_module": "@jupyter-widgets/base",
            "_model_module_version": "1.2.0",
            "_model_name": "LayoutModel",
            "_view_count": null,
            "_view_module": "@jupyter-widgets/base",
            "_view_module_version": "1.2.0",
            "_view_name": "LayoutView",
            "align_content": null,
            "align_items": null,
            "align_self": null,
            "border": null,
            "bottom": null,
            "display": null,
            "flex": null,
            "flex_flow": null,
            "grid_area": null,
            "grid_auto_columns": null,
            "grid_auto_flow": null,
            "grid_auto_rows": null,
            "grid_column": null,
            "grid_gap": null,
            "grid_row": null,
            "grid_template_areas": null,
            "grid_template_columns": null,
            "grid_template_rows": null,
            "height": null,
            "justify_content": null,
            "justify_items": null,
            "left": null,
            "margin": null,
            "max_height": null,
            "max_width": null,
            "min_height": null,
            "min_width": null,
            "object_fit": null,
            "object_position": null,
            "order": null,
            "overflow": null,
            "overflow_x": null,
            "overflow_y": null,
            "padding": null,
            "right": null,
            "top": null,
            "visibility": null,
            "width": null
          }
        },
        "477a6d7354784fe59660b644de5768c1": {
          "model_module": "@jupyter-widgets/controls",
          "model_name": "ProgressStyleModel",
          "model_module_version": "1.5.0",
          "state": {
            "_model_module": "@jupyter-widgets/controls",
            "_model_module_version": "1.5.0",
            "_model_name": "ProgressStyleModel",
            "_view_count": null,
            "_view_module": "@jupyter-widgets/base",
            "_view_module_version": "1.2.0",
            "_view_name": "StyleView",
            "bar_color": null,
            "description_width": ""
          }
        },
        "5927a6d47b594568a438143424da70fe": {
          "model_module": "@jupyter-widgets/base",
          "model_name": "LayoutModel",
          "model_module_version": "1.2.0",
          "state": {
            "_model_module": "@jupyter-widgets/base",
            "_model_module_version": "1.2.0",
            "_model_name": "LayoutModel",
            "_view_count": null,
            "_view_module": "@jupyter-widgets/base",
            "_view_module_version": "1.2.0",
            "_view_name": "LayoutView",
            "align_content": null,
            "align_items": null,
            "align_self": null,
            "border": null,
            "bottom": null,
            "display": null,
            "flex": null,
            "flex_flow": null,
            "grid_area": null,
            "grid_auto_columns": null,
            "grid_auto_flow": null,
            "grid_auto_rows": null,
            "grid_column": null,
            "grid_gap": null,
            "grid_row": null,
            "grid_template_areas": null,
            "grid_template_columns": null,
            "grid_template_rows": null,
            "height": null,
            "justify_content": null,
            "justify_items": null,
            "left": null,
            "margin": null,
            "max_height": null,
            "max_width": null,
            "min_height": null,
            "min_width": null,
            "object_fit": null,
            "object_position": null,
            "order": null,
            "overflow": null,
            "overflow_x": null,
            "overflow_y": null,
            "padding": null,
            "right": null,
            "top": null,
            "visibility": null,
            "width": null
          }
        },
        "0e9dbc0f6da546eaa5fc55f813decd8b": {
          "model_module": "@jupyter-widgets/controls",
          "model_name": "DescriptionStyleModel",
          "model_module_version": "1.5.0",
          "state": {
            "_model_module": "@jupyter-widgets/controls",
            "_model_module_version": "1.5.0",
            "_model_name": "DescriptionStyleModel",
            "_view_count": null,
            "_view_module": "@jupyter-widgets/base",
            "_view_module_version": "1.2.0",
            "_view_name": "StyleView",
            "description_width": ""
          }
        },
        "e29e8409b2fa4bf4bf4d0f4bab321cb4": {
          "model_module": "@jupyter-widgets/controls",
          "model_name": "HBoxModel",
          "model_module_version": "1.5.0",
          "state": {
            "_dom_classes": [],
            "_model_module": "@jupyter-widgets/controls",
            "_model_module_version": "1.5.0",
            "_model_name": "HBoxModel",
            "_view_count": null,
            "_view_module": "@jupyter-widgets/controls",
            "_view_module_version": "1.5.0",
            "_view_name": "HBoxView",
            "box_style": "",
            "children": [
              "IPY_MODEL_204155e9aff44fca8666b8febb6e8952",
              "IPY_MODEL_722384fd1eb942198261593cec4d7e92",
              "IPY_MODEL_a5271176515a45ad90e2f5c6ab63fcc9"
            ],
            "layout": "IPY_MODEL_c11a09b4a65644c6b17cca9c02f95167"
          }
        },
        "204155e9aff44fca8666b8febb6e8952": {
          "model_module": "@jupyter-widgets/controls",
          "model_name": "HTMLModel",
          "model_module_version": "1.5.0",
          "state": {
            "_dom_classes": [],
            "_model_module": "@jupyter-widgets/controls",
            "_model_module_version": "1.5.0",
            "_model_name": "HTMLModel",
            "_view_count": null,
            "_view_module": "@jupyter-widgets/controls",
            "_view_module_version": "1.5.0",
            "_view_name": "HTMLView",
            "description": "",
            "description_tooltip": null,
            "layout": "IPY_MODEL_c1a31cd9d2074d3bb3778f6ad05828b5",
            "placeholder": "​",
            "style": "IPY_MODEL_7f71f88e01b147789871ef797f656996",
            "value": "Downloading: 100%"
          }
        },
        "722384fd1eb942198261593cec4d7e92": {
          "model_module": "@jupyter-widgets/controls",
          "model_name": "FloatProgressModel",
          "model_module_version": "1.5.0",
          "state": {
            "_dom_classes": [],
            "_model_module": "@jupyter-widgets/controls",
            "_model_module_version": "1.5.0",
            "_model_name": "FloatProgressModel",
            "_view_count": null,
            "_view_module": "@jupyter-widgets/controls",
            "_view_module_version": "1.5.0",
            "_view_name": "ProgressView",
            "bar_style": "success",
            "description": "",
            "description_tooltip": null,
            "layout": "IPY_MODEL_f5c47f2016ab44da98800eb5dbe88b40",
            "max": 456318,
            "min": 0,
            "orientation": "horizontal",
            "style": "IPY_MODEL_277961f6382741299a82e252c7d3b08e",
            "value": 456318
          }
        },
        "a5271176515a45ad90e2f5c6ab63fcc9": {
          "model_module": "@jupyter-widgets/controls",
          "model_name": "HTMLModel",
          "model_module_version": "1.5.0",
          "state": {
            "_dom_classes": [],
            "_model_module": "@jupyter-widgets/controls",
            "_model_module_version": "1.5.0",
            "_model_name": "HTMLModel",
            "_view_count": null,
            "_view_module": "@jupyter-widgets/controls",
            "_view_module_version": "1.5.0",
            "_view_name": "HTMLView",
            "description": "",
            "description_tooltip": null,
            "layout": "IPY_MODEL_60d3e52181484995b37bde14781d4cfe",
            "placeholder": "​",
            "style": "IPY_MODEL_ba9d8ca55fd54257bc6314d8fb6318ab",
            "value": " 456k/456k [00:01&lt;00:00, 476kB/s]"
          }
        },
        "c11a09b4a65644c6b17cca9c02f95167": {
          "model_module": "@jupyter-widgets/base",
          "model_name": "LayoutModel",
          "model_module_version": "1.2.0",
          "state": {
            "_model_module": "@jupyter-widgets/base",
            "_model_module_version": "1.2.0",
            "_model_name": "LayoutModel",
            "_view_count": null,
            "_view_module": "@jupyter-widgets/base",
            "_view_module_version": "1.2.0",
            "_view_name": "LayoutView",
            "align_content": null,
            "align_items": null,
            "align_self": null,
            "border": null,
            "bottom": null,
            "display": null,
            "flex": null,
            "flex_flow": null,
            "grid_area": null,
            "grid_auto_columns": null,
            "grid_auto_flow": null,
            "grid_auto_rows": null,
            "grid_column": null,
            "grid_gap": null,
            "grid_row": null,
            "grid_template_areas": null,
            "grid_template_columns": null,
            "grid_template_rows": null,
            "height": null,
            "justify_content": null,
            "justify_items": null,
            "left": null,
            "margin": null,
            "max_height": null,
            "max_width": null,
            "min_height": null,
            "min_width": null,
            "object_fit": null,
            "object_position": null,
            "order": null,
            "overflow": null,
            "overflow_x": null,
            "overflow_y": null,
            "padding": null,
            "right": null,
            "top": null,
            "visibility": null,
            "width": null
          }
        },
        "c1a31cd9d2074d3bb3778f6ad05828b5": {
          "model_module": "@jupyter-widgets/base",
          "model_name": "LayoutModel",
          "model_module_version": "1.2.0",
          "state": {
            "_model_module": "@jupyter-widgets/base",
            "_model_module_version": "1.2.0",
            "_model_name": "LayoutModel",
            "_view_count": null,
            "_view_module": "@jupyter-widgets/base",
            "_view_module_version": "1.2.0",
            "_view_name": "LayoutView",
            "align_content": null,
            "align_items": null,
            "align_self": null,
            "border": null,
            "bottom": null,
            "display": null,
            "flex": null,
            "flex_flow": null,
            "grid_area": null,
            "grid_auto_columns": null,
            "grid_auto_flow": null,
            "grid_auto_rows": null,
            "grid_column": null,
            "grid_gap": null,
            "grid_row": null,
            "grid_template_areas": null,
            "grid_template_columns": null,
            "grid_template_rows": null,
            "height": null,
            "justify_content": null,
            "justify_items": null,
            "left": null,
            "margin": null,
            "max_height": null,
            "max_width": null,
            "min_height": null,
            "min_width": null,
            "object_fit": null,
            "object_position": null,
            "order": null,
            "overflow": null,
            "overflow_x": null,
            "overflow_y": null,
            "padding": null,
            "right": null,
            "top": null,
            "visibility": null,
            "width": null
          }
        },
        "7f71f88e01b147789871ef797f656996": {
          "model_module": "@jupyter-widgets/controls",
          "model_name": "DescriptionStyleModel",
          "model_module_version": "1.5.0",
          "state": {
            "_model_module": "@jupyter-widgets/controls",
            "_model_module_version": "1.5.0",
            "_model_name": "DescriptionStyleModel",
            "_view_count": null,
            "_view_module": "@jupyter-widgets/base",
            "_view_module_version": "1.2.0",
            "_view_name": "StyleView",
            "description_width": ""
          }
        },
        "f5c47f2016ab44da98800eb5dbe88b40": {
          "model_module": "@jupyter-widgets/base",
          "model_name": "LayoutModel",
          "model_module_version": "1.2.0",
          "state": {
            "_model_module": "@jupyter-widgets/base",
            "_model_module_version": "1.2.0",
            "_model_name": "LayoutModel",
            "_view_count": null,
            "_view_module": "@jupyter-widgets/base",
            "_view_module_version": "1.2.0",
            "_view_name": "LayoutView",
            "align_content": null,
            "align_items": null,
            "align_self": null,
            "border": null,
            "bottom": null,
            "display": null,
            "flex": null,
            "flex_flow": null,
            "grid_area": null,
            "grid_auto_columns": null,
            "grid_auto_flow": null,
            "grid_auto_rows": null,
            "grid_column": null,
            "grid_gap": null,
            "grid_row": null,
            "grid_template_areas": null,
            "grid_template_columns": null,
            "grid_template_rows": null,
            "height": null,
            "justify_content": null,
            "justify_items": null,
            "left": null,
            "margin": null,
            "max_height": null,
            "max_width": null,
            "min_height": null,
            "min_width": null,
            "object_fit": null,
            "object_position": null,
            "order": null,
            "overflow": null,
            "overflow_x": null,
            "overflow_y": null,
            "padding": null,
            "right": null,
            "top": null,
            "visibility": null,
            "width": null
          }
        },
        "277961f6382741299a82e252c7d3b08e": {
          "model_module": "@jupyter-widgets/controls",
          "model_name": "ProgressStyleModel",
          "model_module_version": "1.5.0",
          "state": {
            "_model_module": "@jupyter-widgets/controls",
            "_model_module_version": "1.5.0",
            "_model_name": "ProgressStyleModel",
            "_view_count": null,
            "_view_module": "@jupyter-widgets/base",
            "_view_module_version": "1.2.0",
            "_view_name": "StyleView",
            "bar_color": null,
            "description_width": ""
          }
        },
        "60d3e52181484995b37bde14781d4cfe": {
          "model_module": "@jupyter-widgets/base",
          "model_name": "LayoutModel",
          "model_module_version": "1.2.0",
          "state": {
            "_model_module": "@jupyter-widgets/base",
            "_model_module_version": "1.2.0",
            "_model_name": "LayoutModel",
            "_view_count": null,
            "_view_module": "@jupyter-widgets/base",
            "_view_module_version": "1.2.0",
            "_view_name": "LayoutView",
            "align_content": null,
            "align_items": null,
            "align_self": null,
            "border": null,
            "bottom": null,
            "display": null,
            "flex": null,
            "flex_flow": null,
            "grid_area": null,
            "grid_auto_columns": null,
            "grid_auto_flow": null,
            "grid_auto_rows": null,
            "grid_column": null,
            "grid_gap": null,
            "grid_row": null,
            "grid_template_areas": null,
            "grid_template_columns": null,
            "grid_template_rows": null,
            "height": null,
            "justify_content": null,
            "justify_items": null,
            "left": null,
            "margin": null,
            "max_height": null,
            "max_width": null,
            "min_height": null,
            "min_width": null,
            "object_fit": null,
            "object_position": null,
            "order": null,
            "overflow": null,
            "overflow_x": null,
            "overflow_y": null,
            "padding": null,
            "right": null,
            "top": null,
            "visibility": null,
            "width": null
          }
        },
        "ba9d8ca55fd54257bc6314d8fb6318ab": {
          "model_module": "@jupyter-widgets/controls",
          "model_name": "DescriptionStyleModel",
          "model_module_version": "1.5.0",
          "state": {
            "_model_module": "@jupyter-widgets/controls",
            "_model_module_version": "1.5.0",
            "_model_name": "DescriptionStyleModel",
            "_view_count": null,
            "_view_module": "@jupyter-widgets/base",
            "_view_module_version": "1.2.0",
            "_view_name": "StyleView",
            "description_width": ""
          }
        },
        "9bc30c140ded4d19a8363745b031ad6a": {
          "model_module": "@jupyter-widgets/controls",
          "model_name": "HBoxModel",
          "model_module_version": "1.5.0",
          "state": {
            "_dom_classes": [],
            "_model_module": "@jupyter-widgets/controls",
            "_model_module_version": "1.5.0",
            "_model_name": "HBoxModel",
            "_view_count": null,
            "_view_module": "@jupyter-widgets/controls",
            "_view_module_version": "1.5.0",
            "_view_name": "HBoxView",
            "box_style": "",
            "children": [
              "IPY_MODEL_0113c902f2f6480c84e3b041308bae9b",
              "IPY_MODEL_d7f44136d3e44e48a40019278493c5fc",
              "IPY_MODEL_b2ad8541e13a4e198229efd7012a1149"
            ],
            "layout": "IPY_MODEL_8eac44b88192406c9dc11735e305f4b8"
          }
        },
        "0113c902f2f6480c84e3b041308bae9b": {
          "model_module": "@jupyter-widgets/controls",
          "model_name": "HTMLModel",
          "model_module_version": "1.5.0",
          "state": {
            "_dom_classes": [],
            "_model_module": "@jupyter-widgets/controls",
            "_model_module_version": "1.5.0",
            "_model_name": "HTMLModel",
            "_view_count": null,
            "_view_module": "@jupyter-widgets/controls",
            "_view_module_version": "1.5.0",
            "_view_name": "HTMLView",
            "description": "",
            "description_tooltip": null,
            "layout": "IPY_MODEL_cd2574ba4661484a89c22901b18a0253",
            "placeholder": "​",
            "style": "IPY_MODEL_e3b15033cf9040c49c12b8e8c55edfee",
            "value": "Downloading: 100%"
          }
        },
        "d7f44136d3e44e48a40019278493c5fc": {
          "model_module": "@jupyter-widgets/controls",
          "model_name": "FloatProgressModel",
          "model_module_version": "1.5.0",
          "state": {
            "_dom_classes": [],
            "_model_module": "@jupyter-widgets/controls",
            "_model_module_version": "1.5.0",
            "_model_name": "FloatProgressModel",
            "_view_count": null,
            "_view_module": "@jupyter-widgets/controls",
            "_view_module_version": "1.5.0",
            "_view_name": "ProgressView",
            "bar_style": "success",
            "description": "",
            "description_tooltip": null,
            "layout": "IPY_MODEL_cf83ac554ac6423eb3c0165d542f7ea6",
            "max": 1716,
            "min": 0,
            "orientation": "horizontal",
            "style": "IPY_MODEL_932a7053e34e47bb98b64530ebb7b5a7",
            "value": 1716
          }
        },
        "b2ad8541e13a4e198229efd7012a1149": {
          "model_module": "@jupyter-widgets/controls",
          "model_name": "HTMLModel",
          "model_module_version": "1.5.0",
          "state": {
            "_dom_classes": [],
            "_model_module": "@jupyter-widgets/controls",
            "_model_module_version": "1.5.0",
            "_model_name": "HTMLModel",
            "_view_count": null,
            "_view_module": "@jupyter-widgets/controls",
            "_view_module_version": "1.5.0",
            "_view_name": "HTMLView",
            "description": "",
            "description_tooltip": null,
            "layout": "IPY_MODEL_e27c1131e53847bb9da2e10173bb903c",
            "placeholder": "​",
            "style": "IPY_MODEL_8516b0e1539441c8b050382dea92f0e2",
            "value": " 1.72k/1.72k [00:00&lt;00:00, 70.9kB/s]"
          }
        },
        "8eac44b88192406c9dc11735e305f4b8": {
          "model_module": "@jupyter-widgets/base",
          "model_name": "LayoutModel",
          "model_module_version": "1.2.0",
          "state": {
            "_model_module": "@jupyter-widgets/base",
            "_model_module_version": "1.2.0",
            "_model_name": "LayoutModel",
            "_view_count": null,
            "_view_module": "@jupyter-widgets/base",
            "_view_module_version": "1.2.0",
            "_view_name": "LayoutView",
            "align_content": null,
            "align_items": null,
            "align_self": null,
            "border": null,
            "bottom": null,
            "display": null,
            "flex": null,
            "flex_flow": null,
            "grid_area": null,
            "grid_auto_columns": null,
            "grid_auto_flow": null,
            "grid_auto_rows": null,
            "grid_column": null,
            "grid_gap": null,
            "grid_row": null,
            "grid_template_areas": null,
            "grid_template_columns": null,
            "grid_template_rows": null,
            "height": null,
            "justify_content": null,
            "justify_items": null,
            "left": null,
            "margin": null,
            "max_height": null,
            "max_width": null,
            "min_height": null,
            "min_width": null,
            "object_fit": null,
            "object_position": null,
            "order": null,
            "overflow": null,
            "overflow_x": null,
            "overflow_y": null,
            "padding": null,
            "right": null,
            "top": null,
            "visibility": null,
            "width": null
          }
        },
        "cd2574ba4661484a89c22901b18a0253": {
          "model_module": "@jupyter-widgets/base",
          "model_name": "LayoutModel",
          "model_module_version": "1.2.0",
          "state": {
            "_model_module": "@jupyter-widgets/base",
            "_model_module_version": "1.2.0",
            "_model_name": "LayoutModel",
            "_view_count": null,
            "_view_module": "@jupyter-widgets/base",
            "_view_module_version": "1.2.0",
            "_view_name": "LayoutView",
            "align_content": null,
            "align_items": null,
            "align_self": null,
            "border": null,
            "bottom": null,
            "display": null,
            "flex": null,
            "flex_flow": null,
            "grid_area": null,
            "grid_auto_columns": null,
            "grid_auto_flow": null,
            "grid_auto_rows": null,
            "grid_column": null,
            "grid_gap": null,
            "grid_row": null,
            "grid_template_areas": null,
            "grid_template_columns": null,
            "grid_template_rows": null,
            "height": null,
            "justify_content": null,
            "justify_items": null,
            "left": null,
            "margin": null,
            "max_height": null,
            "max_width": null,
            "min_height": null,
            "min_width": null,
            "object_fit": null,
            "object_position": null,
            "order": null,
            "overflow": null,
            "overflow_x": null,
            "overflow_y": null,
            "padding": null,
            "right": null,
            "top": null,
            "visibility": null,
            "width": null
          }
        },
        "e3b15033cf9040c49c12b8e8c55edfee": {
          "model_module": "@jupyter-widgets/controls",
          "model_name": "DescriptionStyleModel",
          "model_module_version": "1.5.0",
          "state": {
            "_model_module": "@jupyter-widgets/controls",
            "_model_module_version": "1.5.0",
            "_model_name": "DescriptionStyleModel",
            "_view_count": null,
            "_view_module": "@jupyter-widgets/base",
            "_view_module_version": "1.2.0",
            "_view_name": "StyleView",
            "description_width": ""
          }
        },
        "cf83ac554ac6423eb3c0165d542f7ea6": {
          "model_module": "@jupyter-widgets/base",
          "model_name": "LayoutModel",
          "model_module_version": "1.2.0",
          "state": {
            "_model_module": "@jupyter-widgets/base",
            "_model_module_version": "1.2.0",
            "_model_name": "LayoutModel",
            "_view_count": null,
            "_view_module": "@jupyter-widgets/base",
            "_view_module_version": "1.2.0",
            "_view_name": "LayoutView",
            "align_content": null,
            "align_items": null,
            "align_self": null,
            "border": null,
            "bottom": null,
            "display": null,
            "flex": null,
            "flex_flow": null,
            "grid_area": null,
            "grid_auto_columns": null,
            "grid_auto_flow": null,
            "grid_auto_rows": null,
            "grid_column": null,
            "grid_gap": null,
            "grid_row": null,
            "grid_template_areas": null,
            "grid_template_columns": null,
            "grid_template_rows": null,
            "height": null,
            "justify_content": null,
            "justify_items": null,
            "left": null,
            "margin": null,
            "max_height": null,
            "max_width": null,
            "min_height": null,
            "min_width": null,
            "object_fit": null,
            "object_position": null,
            "order": null,
            "overflow": null,
            "overflow_x": null,
            "overflow_y": null,
            "padding": null,
            "right": null,
            "top": null,
            "visibility": null,
            "width": null
          }
        },
        "932a7053e34e47bb98b64530ebb7b5a7": {
          "model_module": "@jupyter-widgets/controls",
          "model_name": "ProgressStyleModel",
          "model_module_version": "1.5.0",
          "state": {
            "_model_module": "@jupyter-widgets/controls",
            "_model_module_version": "1.5.0",
            "_model_name": "ProgressStyleModel",
            "_view_count": null,
            "_view_module": "@jupyter-widgets/base",
            "_view_module_version": "1.2.0",
            "_view_name": "StyleView",
            "bar_color": null,
            "description_width": ""
          }
        },
        "e27c1131e53847bb9da2e10173bb903c": {
          "model_module": "@jupyter-widgets/base",
          "model_name": "LayoutModel",
          "model_module_version": "1.2.0",
          "state": {
            "_model_module": "@jupyter-widgets/base",
            "_model_module_version": "1.2.0",
            "_model_name": "LayoutModel",
            "_view_count": null,
            "_view_module": "@jupyter-widgets/base",
            "_view_module_version": "1.2.0",
            "_view_name": "LayoutView",
            "align_content": null,
            "align_items": null,
            "align_self": null,
            "border": null,
            "bottom": null,
            "display": null,
            "flex": null,
            "flex_flow": null,
            "grid_area": null,
            "grid_auto_columns": null,
            "grid_auto_flow": null,
            "grid_auto_rows": null,
            "grid_column": null,
            "grid_gap": null,
            "grid_row": null,
            "grid_template_areas": null,
            "grid_template_columns": null,
            "grid_template_rows": null,
            "height": null,
            "justify_content": null,
            "justify_items": null,
            "left": null,
            "margin": null,
            "max_height": null,
            "max_width": null,
            "min_height": null,
            "min_width": null,
            "object_fit": null,
            "object_position": null,
            "order": null,
            "overflow": null,
            "overflow_x": null,
            "overflow_y": null,
            "padding": null,
            "right": null,
            "top": null,
            "visibility": null,
            "width": null
          }
        },
        "8516b0e1539441c8b050382dea92f0e2": {
          "model_module": "@jupyter-widgets/controls",
          "model_name": "DescriptionStyleModel",
          "model_module_version": "1.5.0",
          "state": {
            "_model_module": "@jupyter-widgets/controls",
            "_model_module_version": "1.5.0",
            "_model_name": "DescriptionStyleModel",
            "_view_count": null,
            "_view_module": "@jupyter-widgets/base",
            "_view_module_version": "1.2.0",
            "_view_name": "StyleView",
            "description_width": ""
          }
        }
      }
    }
  },
  "nbformat": 4,
  "nbformat_minor": 0
}