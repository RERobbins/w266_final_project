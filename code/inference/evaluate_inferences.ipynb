{
  "cells": [
    {
      "cell_type": "markdown",
      "metadata": {
        "id": "view-in-github",
        "colab_type": "text"
      },
      "source": [
        "<a href=\"https://colab.research.google.com/github/jeanlucjackson/w266_final_project/blob/main/code/inference/evaluate_inferences.ipynb\" target=\"_parent\"><img src=\"https://colab.research.google.com/assets/colab-badge.svg\" alt=\"Open In Colab\"/></a>"
      ]
    },
    {
      "cell_type": "markdown",
      "metadata": {
        "id": "0ti7N7kgi9k-"
      },
      "source": [
        "# Imports & Google Drive Mounting"
      ]
    },
    {
      "cell_type": "code",
      "execution_count": null,
      "metadata": {
        "id": "sEho-NjGi9VU"
      },
      "outputs": [],
      "source": [
        "from os import listdir\n",
        "from os.path import isfile, join\n",
        "\n",
        "import csv\n",
        "import json\n",
        "import pprint\n",
        "\n",
        "import pandas as pd"
      ]
    },
    {
      "cell_type": "code",
      "execution_count": null,
      "metadata": {
        "colab": {
          "base_uri": "https://localhost:8080/"
        },
        "id": "HjsB3ST7hdDE",
        "outputId": "69848b7d-a9d1-4f00-cac2-030364e866f2"
      },
      "outputs": [
        {
          "output_type": "stream",
          "name": "stdout",
          "text": [
            "Mounted at /content/drive\n"
          ]
        }
      ],
      "source": [
        "# This cell will authenticate you and mount your Drive in the Colab.\n",
        "from google.colab import drive\n",
        "drive.mount('/content/drive')"
      ]
    },
    {
      "cell_type": "code",
      "execution_count": null,
      "metadata": {
        "id": "2Uu8rbzeisNt"
      },
      "outputs": [],
      "source": [
        "inference_root = \"/content/drive/MyDrive/w266 NLP Final Project/Predictions/\""
      ]
    },
    {
      "cell_type": "code",
      "execution_count": null,
      "metadata": {
        "colab": {
          "base_uri": "https://localhost:8080/"
        },
        "id": "ly7uAmyOi7mc",
        "outputId": "3b76b872-ed3b-4b29-d6be-f24e55095217"
      },
      "outputs": [
        {
          "output_type": "stream",
          "name": "stdout",
          "text": [
            "['t5_simple_transformers_preds.csv',\n",
            " 'predictions.bart_base_pt.squad.squad.csv',\n",
            " 'predictions.T5_base_pt_long.nq.nq.csv',\n",
            " 'predictions.T5_base_pt_long.nq.squad.csv',\n",
            " 'predictions.T5_base_pt_long.triviaqa.squad.csv',\n",
            " 'T5 short model prediction archive',\n",
            " 'predictions.T5_base_pt_long.nq.quac.csv',\n",
            " 'predictions.T5_base_pt_long.nq.triviaqa.csv',\n",
            " 'predictions.T5_base_pt_long.triviaqa.quac.csv',\n",
            " 'predictions.T5_base_pt_long.triviaqa.nq.csv',\n",
            " 'predictions.T5_base_pt_long.squad.squad.csv',\n",
            " 'predictions.T5_base_pt_long.squad.nq.csv',\n",
            " 'predictions.T5_base_pt_long.squad.triviaqa.csv',\n",
            " 'predictions.bart_base_pt.squad.quac.csv',\n",
            " 'predictions.T5_base_pt_long.quac.squad.csv',\n",
            " 'predictions.T5_base_pt_long.quac.nq.csv',\n",
            " 'predictions.T5_base_pt_long.squad.quac.csv',\n",
            " 'predictions.T5_base_pt_long.quac.quac.csv',\n",
            " 'predictions.T5_base_pt_long.quac.triviaqa.csv',\n",
            " 'evaluation_dict.json',\n",
            " 'predictions.T5_base_pt_long.triviaqa.triviaqa.csv']\n"
          ]
        }
      ],
      "source": [
        "inference_files = listdir(inference_root)\n",
        "pprint.pprint(inference_files)"
      ]
    },
    {
      "cell_type": "markdown",
      "metadata": {
        "id": "1qgm7t1BASt5"
      },
      "source": [
        "# Evaluations"
      ]
    },
    {
      "cell_type": "markdown",
      "metadata": {
        "id": "PBHNV6rdjcjE"
      },
      "source": [
        "\n",
        "## Load Data\n",
        "\n",
        "Inferences will be saved into the `inference_dict` nested dictionary, whose format is:\n",
        "- keys: CSV filenames\n",
        "- values:\n",
        "  - `target`: list of target values\n",
        "  - `prediction`: list of prediction values"
      ]
    },
    {
      "cell_type": "code",
      "execution_count": null,
      "metadata": {
        "colab": {
          "base_uri": "https://localhost:8080/"
        },
        "id": "kif-BL0OoxA2",
        "outputId": "cd3f0b6e-e077-4d8b-c20f-fc7a80355767"
      },
      "outputs": [
        {
          "output_type": "stream",
          "name": "stdout",
          "text": [
            "Opening file 1 of 21: t5_simple_transformers_preds.csv\n",
            "\n",
            "WARNING: Columns `target` and `prediction` not found in CSV. Skipping CSV.\n",
            "Check file: /content/drive/MyDrive/w266 NLP Final Project/Predictions/t5_simple_transformers_preds.csv\n",
            "________________________________________\n",
            "\n",
            "Opening file 2 of 21: predictions.bart_base_pt.squad.squad.csv\n",
            "\n",
            "CSV loaded.\n",
            "Length of targets:      10570\n",
            "Length of predictions:  10570\n",
            "\n",
            "Targets and predictions saved.\n",
            "________________________________________\n",
            "\n",
            "Opening file 3 of 21: predictions.T5_base_pt_long.nq.nq.csv\n",
            "\n",
            "CSV loaded.\n",
            "Length of targets:      2356\n",
            "Length of predictions:  2356\n",
            "\n",
            "Targets and predictions saved.\n",
            "________________________________________\n",
            "\n",
            "Opening file 4 of 21: predictions.T5_base_pt_long.nq.squad.csv\n",
            "\n",
            "CSV loaded.\n",
            "Length of targets:      10570\n",
            "Length of predictions:  10570\n",
            "\n",
            "Targets and predictions saved.\n",
            "________________________________________\n",
            "\n",
            "Opening file 5 of 21: predictions.T5_base_pt_long.triviaqa.squad.csv\n",
            "\n",
            "CSV loaded.\n",
            "Length of targets:      10570\n",
            "Length of predictions:  10570\n",
            "\n",
            "Targets and predictions saved.\n",
            "________________________________________\n",
            "\n",
            "Opening file 7 of 21: predictions.T5_base_pt_long.nq.quac.csv\n",
            "\n",
            "CSV loaded.\n",
            "Length of targets:      5868\n",
            "Length of predictions:  5868\n",
            "\n",
            "Targets and predictions saved.\n",
            "________________________________________\n",
            "\n",
            "Opening file 8 of 21: predictions.T5_base_pt_long.nq.triviaqa.csv\n",
            "\n",
            "CSV loaded.\n",
            "Length of targets:      9835\n",
            "Length of predictions:  9835\n",
            "\n",
            "Targets and predictions saved.\n",
            "________________________________________\n",
            "\n",
            "Opening file 9 of 21: predictions.T5_base_pt_long.triviaqa.quac.csv\n",
            "\n",
            "CSV loaded.\n",
            "Length of targets:      5868\n",
            "Length of predictions:  5868\n",
            "\n",
            "Targets and predictions saved.\n",
            "________________________________________\n",
            "\n",
            "Opening file 10 of 21: predictions.T5_base_pt_long.triviaqa.nq.csv\n",
            "\n",
            "CSV loaded.\n",
            "Length of targets:      2356\n",
            "Length of predictions:  2356\n",
            "\n",
            "Targets and predictions saved.\n",
            "________________________________________\n",
            "\n",
            "Opening file 11 of 21: predictions.T5_base_pt_long.squad.squad.csv\n",
            "\n",
            "CSV loaded.\n",
            "Length of targets:      10570\n",
            "Length of predictions:  10570\n",
            "\n",
            "Targets and predictions saved.\n",
            "________________________________________\n",
            "\n",
            "Opening file 12 of 21: predictions.T5_base_pt_long.squad.nq.csv\n",
            "\n",
            "CSV loaded.\n",
            "Length of targets:      2356\n",
            "Length of predictions:  2356\n",
            "\n",
            "Targets and predictions saved.\n",
            "________________________________________\n",
            "\n",
            "Opening file 13 of 21: predictions.T5_base_pt_long.squad.triviaqa.csv\n",
            "\n",
            "CSV loaded.\n",
            "Length of targets:      9835\n",
            "Length of predictions:  9835\n",
            "\n",
            "Targets and predictions saved.\n",
            "________________________________________\n",
            "\n",
            "Opening file 14 of 21: predictions.bart_base_pt.squad.quac.csv\n",
            "\n",
            "CSV loaded.\n",
            "Length of targets:      10733\n",
            "Length of predictions:  10733\n",
            "\n",
            "Targets and predictions saved.\n",
            "________________________________________\n",
            "\n",
            "Opening file 15 of 21: predictions.T5_base_pt_long.quac.squad.csv\n",
            "\n",
            "CSV loaded.\n",
            "Length of targets:      10570\n",
            "Length of predictions:  10570\n",
            "\n",
            "Targets and predictions saved.\n",
            "________________________________________\n",
            "\n",
            "Opening file 16 of 21: predictions.T5_base_pt_long.quac.nq.csv\n",
            "\n",
            "CSV loaded.\n",
            "Length of targets:      2356\n",
            "Length of predictions:  2356\n",
            "\n",
            "Targets and predictions saved.\n",
            "________________________________________\n",
            "\n",
            "Opening file 17 of 21: predictions.T5_base_pt_long.squad.quac.csv\n",
            "\n",
            "CSV loaded.\n",
            "Length of targets:      5868\n",
            "Length of predictions:  5868\n",
            "\n",
            "Targets and predictions saved.\n",
            "________________________________________\n",
            "\n",
            "Opening file 18 of 21: predictions.T5_base_pt_long.quac.quac.csv\n",
            "\n",
            "CSV loaded.\n",
            "Length of targets:      5868\n",
            "Length of predictions:  5868\n",
            "\n",
            "Targets and predictions saved.\n",
            "________________________________________\n",
            "\n",
            "Opening file 19 of 21: predictions.T5_base_pt_long.quac.triviaqa.csv\n",
            "\n",
            "CSV loaded.\n",
            "Length of targets:      9835\n",
            "Length of predictions:  9835\n",
            "\n",
            "Targets and predictions saved.\n",
            "________________________________________\n",
            "\n",
            "Opening file 20 of 21: evaluation_dict.json\n",
            "\n",
            "WARNING: Columns `target` and `prediction` not found in CSV. Skipping CSV.\n",
            "Check file: /content/drive/MyDrive/w266 NLP Final Project/Predictions/evaluation_dict.json\n",
            "________________________________________\n",
            "\n",
            "Opening file 21 of 21: predictions.T5_base_pt_long.triviaqa.triviaqa.csv\n",
            "\n",
            "CSV loaded.\n",
            "Length of targets:      9835\n",
            "Length of predictions:  9835\n",
            "\n",
            "Targets and predictions saved.\n",
            "________________________________________\n",
            "\n",
            "\n",
            "Total of 18 datasets loaded:\n",
            "    predictions.bart_base_pt.squad.squad.csv\n",
            "    predictions.T5_base_pt_long.nq.nq.csv\n",
            "    predictions.T5_base_pt_long.nq.squad.csv\n",
            "    predictions.T5_base_pt_long.triviaqa.squad.csv\n",
            "    predictions.T5_base_pt_long.nq.quac.csv\n",
            "    predictions.T5_base_pt_long.nq.triviaqa.csv\n",
            "    predictions.T5_base_pt_long.triviaqa.quac.csv\n",
            "    predictions.T5_base_pt_long.triviaqa.nq.csv\n",
            "    predictions.T5_base_pt_long.squad.squad.csv\n",
            "    predictions.T5_base_pt_long.squad.nq.csv\n",
            "    predictions.T5_base_pt_long.squad.triviaqa.csv\n",
            "    predictions.bart_base_pt.squad.quac.csv\n",
            "    predictions.T5_base_pt_long.quac.squad.csv\n",
            "    predictions.T5_base_pt_long.quac.nq.csv\n",
            "    predictions.T5_base_pt_long.squad.quac.csv\n",
            "    predictions.T5_base_pt_long.quac.quac.csv\n",
            "    predictions.T5_base_pt_long.quac.triviaqa.csv\n",
            "    predictions.T5_base_pt_long.triviaqa.triviaqa.csv\n"
          ]
        }
      ],
      "source": [
        "inference_dict = {}\n",
        "\n",
        "for id, inf_file in enumerate(inference_files):\n",
        "\n",
        "  # Load CSV file containing predictions\n",
        "  filename = join(inference_root, inf_file)\n",
        "  \n",
        "  # If the file exists, load it into pandas\n",
        "  if isfile(filename):\n",
        "    print(f\"Opening file {id + 1} of {len(inference_files)}: {inf_file}\\n\")\n",
        "\n",
        "    df = pd.read_csv(filename)\n",
        "    \n",
        "    # If the CSV does not have correct column names, warn user and skip file\n",
        "    if 'target' not in df.columns and 'prediction' not in df.columns:\n",
        "      print(\"WARNING: Columns `target` and `prediction` not found in CSV. Skipping CSV.\")\n",
        "      print(f\"Check file: {filename}\")\n",
        "      # continue\n",
        "\n",
        "    # Columns exist, so continue\n",
        "    else:\n",
        "      targets = df['target']\n",
        "      predictions = df['prediction']\n",
        "\n",
        "      print('CSV loaded.')\n",
        "      print(f\"Length of targets:      {len(targets)}\")\n",
        "      print(f\"Length of predictions:  {len(predictions)}\")\n",
        "      \n",
        "      # Save lists into prediction dictionary under file's name\n",
        "      inference_dict.update(\n",
        "          {inf_file: {'target': targets,\n",
        "                      'prediction': predictions}\n",
        "          }\n",
        "      )\n",
        "      print('\\nTargets and predictions saved.')\n",
        "    \n",
        "    print('________________________________________\\n')\n",
        "\n",
        "\n",
        "print(f\"\\nTotal of {len(inference_dict.keys())} datasets loaded:\")\n",
        "for dataset in inference_dict.keys():\n",
        "  print('    ' + dataset)"
      ]
    },
    {
      "cell_type": "markdown",
      "metadata": {
        "id": "FUw1vCoos3Na"
      },
      "source": [
        "We'll be using:\n",
        "- ROUGE\n",
        "- BLEU-RT\n",
        "- BERTScore\n",
        "- METEOR\n",
        "- USE\n",
        "\n",
        "And storing evaluations in `evaluation_dict` formatted as:\n",
        "- keys: CSV filenames\n",
        "- values:\n",
        "  - metric_name: metric_value"
      ]
    },
    {
      "cell_type": "markdown",
      "metadata": {
        "id": "svociRbhtP7s"
      },
      "source": [
        "## Load Evaluation Metrics"
      ]
    },
    {
      "cell_type": "code",
      "execution_count": null,
      "metadata": {
        "colab": {
          "base_uri": "https://localhost:8080/"
        },
        "id": "e3tiJPqOsyll",
        "outputId": "63dd1d2b-0383-479b-ed60-2f29ea19de66"
      },
      "outputs": [
        {
          "output_type": "stream",
          "name": "stdout",
          "text": [
            "\u001b[K     |████████████████████████████████| 72 kB 1.1 MB/s \n",
            "\u001b[K     |████████████████████████████████| 115 kB 11.2 MB/s \n",
            "\u001b[K     |████████████████████████████████| 441 kB 52.3 MB/s \n",
            "\u001b[K     |████████████████████████████████| 163 kB 71.2 MB/s \n",
            "\u001b[K     |████████████████████████████████| 212 kB 73.2 MB/s \n",
            "\u001b[K     |████████████████████████████████| 95 kB 4.5 MB/s \n",
            "\u001b[K     |████████████████████████████████| 127 kB 61.7 MB/s \n",
            "\u001b[K     |████████████████████████████████| 115 kB 74.7 MB/s \n",
            "\u001b[?25h"
          ]
        }
      ],
      "source": [
        "!pip install -q evaluate\n",
        "import evaluate"
      ]
    },
    {
      "cell_type": "markdown",
      "metadata": {
        "id": "5UkrEtmAtamY"
      },
      "source": [
        "### ROUGE\n",
        "🤗 [ROUGE page](https://huggingface.co/spaces/evaluate-metric/rouge)"
      ]
    },
    {
      "cell_type": "code",
      "execution_count": null,
      "metadata": {
        "colab": {
          "base_uri": "https://localhost:8080/",
          "height": 66,
          "referenced_widgets": [
            "daf5c1d3908d435d8deed1a05e979222",
            "9dad9469d0a04272829c8b17ca6eab56",
            "0f7863c6c9ac418ca43302adcb95e0d7",
            "3162d84d522d4726ab87d86ffcd43def",
            "b8925017b6014767ae1b069bf1834a11",
            "1d7237d6802343e38c7252d2d07c48f0",
            "b0dc29c591754cf4b36be57eb5e3a229",
            "9a45e677ea2f49cfb51a64af00cf2996",
            "090b6c61590445ccb2186eae0c9091e5",
            "cfd3e63f640640eabaa1c698c05a0ac2",
            "e28c344693794f1ba37e38f219d970c5"
          ]
        },
        "id": "0Nc9eaqLtXt4",
        "outputId": "c4c913e6-f568-42d3-ae79-b67f18638a6c"
      },
      "outputs": [
        {
          "output_type": "stream",
          "name": "stdout",
          "text": [
            "  Building wheel for rouge-score (setup.py) ... \u001b[?25l\u001b[?25hdone\n"
          ]
        },
        {
          "output_type": "display_data",
          "data": {
            "text/plain": [
              "Downloading builder script:   0%|          | 0.00/6.27k [00:00<?, ?B/s]"
            ],
            "application/vnd.jupyter.widget-view+json": {
              "version_major": 2,
              "version_minor": 0,
              "model_id": "daf5c1d3908d435d8deed1a05e979222"
            }
          },
          "metadata": {}
        }
      ],
      "source": [
        "!pip install -q rouge_score\n",
        "\n",
        "rouge = evaluate.load('rouge')"
      ]
    },
    {
      "cell_type": "markdown",
      "metadata": {
        "id": "7Dr3uT0ht8_j"
      },
      "source": [
        "### BLEU-RT\n",
        "- No fine-tuning yet.\n",
        "- Using `BLEURT-20` checkpoint per Google's recommendation (see [BLEURT GitHub page](https://github.com/google-research/bleurt/blob/master/checkpoints.md#the-recommended-checkpoint-bleurt-20))"
      ]
    },
    {
      "cell_type": "code",
      "execution_count": null,
      "metadata": {
        "colab": {
          "base_uri": "https://localhost:8080/",
          "height": 1000,
          "referenced_widgets": [
            "0e2e600d403c40ce9345ffe234a420e3",
            "36347a1a5e3a4872a30c5c2a7d8c2dde",
            "b5a9eef3e0d342dcbf0bc1fcd3db1fe1",
            "37d40593c2a44ad28ea4c8ca55899ffd",
            "fdd94278196b4674a2c3d40c1a3d79d5",
            "209d87810a534e3a89af7677ab72796f",
            "9d7c3293566e48adb6ea37546fa9c880",
            "1e607ad8a38b48d2af610146463112aa",
            "ffbdbbde616947c583c4b82c07083aa3",
            "38f31ed422284d5eb5d2fa1dd7ef54e9",
            "7b710641764f4e7e94087945e915b7c1",
            "183bd2d9784b40b5a26659f4636adbba",
            "858cdf15039f443cbb4a223341f4f3ea",
            "a083cd7abc034989823f0dfeac8f98cc",
            "4e0d2d2a80d946e9b997f506cb7d9075",
            "c6ed8c10f4f44290a705f69ef73f7e33",
            "1087718be14a41d887de3ac2f95672ad",
            "ddaedfc38c274a78bc986e0b8dcc5129",
            "c8d7b4ebbe144a26b8987b2c9e1a9466",
            "a3531fe093d546eba88f1fa26dd327ed",
            "a6ce66abbff0477788938b0c2cf1b386",
            "ddeee6972d7d4ecb8f4785f3109cf547"
          ]
        },
        "id": "kSStQ_cntd7W",
        "outputId": "10244219-c75b-4626-b652-007a8423b683"
      },
      "outputs": [
        {
          "output_type": "stream",
          "name": "stdout",
          "text": [
            "Looking in indexes: https://pypi.org/simple, https://us-python.pkg.dev/colab-wheels/public/simple/\n",
            "Collecting git+https://github.com/google-research/bleurt.git\n",
            "  Cloning https://github.com/google-research/bleurt.git to /tmp/pip-req-build-9bg0w1q1\n",
            "  Running command git clone -q https://github.com/google-research/bleurt.git /tmp/pip-req-build-9bg0w1q1\n",
            "Requirement already satisfied: pandas in /usr/local/lib/python3.7/dist-packages (from BLEURT==0.0.2) (1.3.5)\n",
            "Requirement already satisfied: numpy in /usr/local/lib/python3.7/dist-packages (from BLEURT==0.0.2) (1.21.6)\n",
            "Requirement already satisfied: scipy in /usr/local/lib/python3.7/dist-packages (from BLEURT==0.0.2) (1.7.3)\n",
            "Requirement already satisfied: tensorflow in /usr/local/lib/python3.7/dist-packages (from BLEURT==0.0.2) (2.9.2)\n",
            "Collecting tf-slim>=1.1\n",
            "  Downloading tf_slim-1.1.0-py2.py3-none-any.whl (352 kB)\n",
            "\u001b[K     |████████████████████████████████| 352 kB 4.9 MB/s \n",
            "\u001b[?25hCollecting sentencepiece\n",
            "  Downloading sentencepiece-0.1.97-cp37-cp37m-manylinux_2_17_x86_64.manylinux2014_x86_64.whl (1.3 MB)\n",
            "\u001b[K     |████████████████████████████████| 1.3 MB 38.8 MB/s \n",
            "\u001b[?25hRequirement already satisfied: absl-py>=0.2.2 in /usr/local/lib/python3.7/dist-packages (from tf-slim>=1.1->BLEURT==0.0.2) (1.3.0)\n",
            "Requirement already satisfied: pytz>=2017.3 in /usr/local/lib/python3.7/dist-packages (from pandas->BLEURT==0.0.2) (2022.5)\n",
            "Requirement already satisfied: python-dateutil>=2.7.3 in /usr/local/lib/python3.7/dist-packages (from pandas->BLEURT==0.0.2) (2.8.2)\n",
            "Requirement already satisfied: six>=1.5 in /usr/local/lib/python3.7/dist-packages (from python-dateutil>=2.7.3->pandas->BLEURT==0.0.2) (1.15.0)\n",
            "Requirement already satisfied: keras<2.10.0,>=2.9.0rc0 in /usr/local/lib/python3.7/dist-packages (from tensorflow->BLEURT==0.0.2) (2.9.0)\n",
            "Requirement already satisfied: opt-einsum>=2.3.2 in /usr/local/lib/python3.7/dist-packages (from tensorflow->BLEURT==0.0.2) (3.3.0)\n",
            "Requirement already satisfied: tensorflow-io-gcs-filesystem>=0.23.1 in /usr/local/lib/python3.7/dist-packages (from tensorflow->BLEURT==0.0.2) (0.27.0)\n",
            "Requirement already satisfied: google-pasta>=0.1.1 in /usr/local/lib/python3.7/dist-packages (from tensorflow->BLEURT==0.0.2) (0.2.0)\n",
            "Requirement already satisfied: packaging in /usr/local/lib/python3.7/dist-packages (from tensorflow->BLEURT==0.0.2) (21.3)\n",
            "Requirement already satisfied: keras-preprocessing>=1.1.1 in /usr/local/lib/python3.7/dist-packages (from tensorflow->BLEURT==0.0.2) (1.1.2)\n",
            "Requirement already satisfied: tensorflow-estimator<2.10.0,>=2.9.0rc0 in /usr/local/lib/python3.7/dist-packages (from tensorflow->BLEURT==0.0.2) (2.9.0)\n",
            "Requirement already satisfied: grpcio<2.0,>=1.24.3 in /usr/local/lib/python3.7/dist-packages (from tensorflow->BLEURT==0.0.2) (1.50.0)\n",
            "Requirement already satisfied: libclang>=13.0.0 in /usr/local/lib/python3.7/dist-packages (from tensorflow->BLEURT==0.0.2) (14.0.6)\n",
            "Requirement already satisfied: gast<=0.4.0,>=0.2.1 in /usr/local/lib/python3.7/dist-packages (from tensorflow->BLEURT==0.0.2) (0.4.0)\n",
            "Requirement already satisfied: protobuf<3.20,>=3.9.2 in /usr/local/lib/python3.7/dist-packages (from tensorflow->BLEURT==0.0.2) (3.17.3)\n",
            "Requirement already satisfied: termcolor>=1.1.0 in /usr/local/lib/python3.7/dist-packages (from tensorflow->BLEURT==0.0.2) (2.0.1)\n",
            "Requirement already satisfied: flatbuffers<2,>=1.12 in /usr/local/lib/python3.7/dist-packages (from tensorflow->BLEURT==0.0.2) (1.12)\n",
            "Requirement already satisfied: tensorboard<2.10,>=2.9 in /usr/local/lib/python3.7/dist-packages (from tensorflow->BLEURT==0.0.2) (2.9.1)\n",
            "Requirement already satisfied: h5py>=2.9.0 in /usr/local/lib/python3.7/dist-packages (from tensorflow->BLEURT==0.0.2) (3.1.0)\n",
            "Requirement already satisfied: wrapt>=1.11.0 in /usr/local/lib/python3.7/dist-packages (from tensorflow->BLEURT==0.0.2) (1.14.1)\n",
            "Requirement already satisfied: setuptools in /usr/local/lib/python3.7/dist-packages (from tensorflow->BLEURT==0.0.2) (57.4.0)\n",
            "Requirement already satisfied: astunparse>=1.6.0 in /usr/local/lib/python3.7/dist-packages (from tensorflow->BLEURT==0.0.2) (1.6.3)\n",
            "Requirement already satisfied: typing-extensions>=3.6.6 in /usr/local/lib/python3.7/dist-packages (from tensorflow->BLEURT==0.0.2) (4.1.1)\n",
            "Requirement already satisfied: wheel<1.0,>=0.23.0 in /usr/local/lib/python3.7/dist-packages (from astunparse>=1.6.0->tensorflow->BLEURT==0.0.2) (0.37.1)\n",
            "Requirement already satisfied: cached-property in /usr/local/lib/python3.7/dist-packages (from h5py>=2.9.0->tensorflow->BLEURT==0.0.2) (1.5.2)\n",
            "Requirement already satisfied: markdown>=2.6.8 in /usr/local/lib/python3.7/dist-packages (from tensorboard<2.10,>=2.9->tensorflow->BLEURT==0.0.2) (3.4.1)\n",
            "Requirement already satisfied: requests<3,>=2.21.0 in /usr/local/lib/python3.7/dist-packages (from tensorboard<2.10,>=2.9->tensorflow->BLEURT==0.0.2) (2.23.0)\n",
            "Requirement already satisfied: werkzeug>=1.0.1 in /usr/local/lib/python3.7/dist-packages (from tensorboard<2.10,>=2.9->tensorflow->BLEURT==0.0.2) (1.0.1)\n",
            "Requirement already satisfied: google-auth-oauthlib<0.5,>=0.4.1 in /usr/local/lib/python3.7/dist-packages (from tensorboard<2.10,>=2.9->tensorflow->BLEURT==0.0.2) (0.4.6)\n",
            "Requirement already satisfied: google-auth<3,>=1.6.3 in /usr/local/lib/python3.7/dist-packages (from tensorboard<2.10,>=2.9->tensorflow->BLEURT==0.0.2) (1.35.0)\n",
            "Requirement already satisfied: tensorboard-data-server<0.7.0,>=0.6.0 in /usr/local/lib/python3.7/dist-packages (from tensorboard<2.10,>=2.9->tensorflow->BLEURT==0.0.2) (0.6.1)\n",
            "Requirement already satisfied: tensorboard-plugin-wit>=1.6.0 in /usr/local/lib/python3.7/dist-packages (from tensorboard<2.10,>=2.9->tensorflow->BLEURT==0.0.2) (1.8.1)\n",
            "Requirement already satisfied: rsa<5,>=3.1.4 in /usr/local/lib/python3.7/dist-packages (from google-auth<3,>=1.6.3->tensorboard<2.10,>=2.9->tensorflow->BLEURT==0.0.2) (4.9)\n",
            "Requirement already satisfied: pyasn1-modules>=0.2.1 in /usr/local/lib/python3.7/dist-packages (from google-auth<3,>=1.6.3->tensorboard<2.10,>=2.9->tensorflow->BLEURT==0.0.2) (0.2.8)\n",
            "Requirement already satisfied: cachetools<5.0,>=2.0.0 in /usr/local/lib/python3.7/dist-packages (from google-auth<3,>=1.6.3->tensorboard<2.10,>=2.9->tensorflow->BLEURT==0.0.2) (4.2.4)\n",
            "Requirement already satisfied: requests-oauthlib>=0.7.0 in /usr/local/lib/python3.7/dist-packages (from google-auth-oauthlib<0.5,>=0.4.1->tensorboard<2.10,>=2.9->tensorflow->BLEURT==0.0.2) (1.3.1)\n",
            "Requirement already satisfied: importlib-metadata>=4.4 in /usr/local/lib/python3.7/dist-packages (from markdown>=2.6.8->tensorboard<2.10,>=2.9->tensorflow->BLEURT==0.0.2) (4.13.0)\n",
            "Requirement already satisfied: zipp>=0.5 in /usr/local/lib/python3.7/dist-packages (from importlib-metadata>=4.4->markdown>=2.6.8->tensorboard<2.10,>=2.9->tensorflow->BLEURT==0.0.2) (3.10.0)\n",
            "Requirement already satisfied: pyasn1<0.5.0,>=0.4.6 in /usr/local/lib/python3.7/dist-packages (from pyasn1-modules>=0.2.1->google-auth<3,>=1.6.3->tensorboard<2.10,>=2.9->tensorflow->BLEURT==0.0.2) (0.4.8)\n",
            "Requirement already satisfied: urllib3!=1.25.0,!=1.25.1,<1.26,>=1.21.1 in /usr/local/lib/python3.7/dist-packages (from requests<3,>=2.21.0->tensorboard<2.10,>=2.9->tensorflow->BLEURT==0.0.2) (1.25.11)\n",
            "Requirement already satisfied: certifi>=2017.4.17 in /usr/local/lib/python3.7/dist-packages (from requests<3,>=2.21.0->tensorboard<2.10,>=2.9->tensorflow->BLEURT==0.0.2) (2022.9.24)\n",
            "Requirement already satisfied: idna<3,>=2.5 in /usr/local/lib/python3.7/dist-packages (from requests<3,>=2.21.0->tensorboard<2.10,>=2.9->tensorflow->BLEURT==0.0.2) (2.10)\n",
            "Requirement already satisfied: chardet<4,>=3.0.2 in /usr/local/lib/python3.7/dist-packages (from requests<3,>=2.21.0->tensorboard<2.10,>=2.9->tensorflow->BLEURT==0.0.2) (3.0.4)\n",
            "Requirement already satisfied: oauthlib>=3.0.0 in /usr/local/lib/python3.7/dist-packages (from requests-oauthlib>=0.7.0->google-auth-oauthlib<0.5,>=0.4.1->tensorboard<2.10,>=2.9->tensorflow->BLEURT==0.0.2) (3.2.2)\n",
            "Requirement already satisfied: pyparsing!=3.0.5,>=2.0.2 in /usr/local/lib/python3.7/dist-packages (from packaging->tensorflow->BLEURT==0.0.2) (3.0.9)\n",
            "Building wheels for collected packages: BLEURT\n",
            "  Building wheel for BLEURT (setup.py) ... \u001b[?25l\u001b[?25hdone\n",
            "  Created wheel for BLEURT: filename=BLEURT-0.0.2-py3-none-any.whl size=16456783 sha256=6ecafcabc9f64433cec2f9b8d03f12cdc7d87cc2b3f10783b7953c317f134b52\n",
            "  Stored in directory: /tmp/pip-ephem-wheel-cache-zfwryw11/wheels/e2/2d/ea/b7a8b2424d2908d2a79d73ce8217d5ac4bd97ed3f47160a7f5\n",
            "Successfully built BLEURT\n",
            "Installing collected packages: tf-slim, sentencepiece, BLEURT\n",
            "Successfully installed BLEURT-0.0.2 sentencepiece-0.1.97 tf-slim-1.1.0\n"
          ]
        },
        {
          "output_type": "display_data",
          "data": {
            "text/plain": [
              "Downloading builder script:   0%|          | 0.00/5.20k [00:00<?, ?B/s]"
            ],
            "application/vnd.jupyter.widget-view+json": {
              "version_major": 2,
              "version_minor": 0,
              "model_id": "0e2e600d403c40ce9345ffe234a420e3"
            }
          },
          "metadata": {}
        },
        {
          "output_type": "stream",
          "name": "stderr",
          "text": [
            "WARNING:evaluate_modules.metrics.evaluate-metric--bleurt.98e148b2f8c4a88aba5037e4e0e90c9fd9ec35dc37a054ded8cfef0fa801ffab.bleurt:Using default BLEURT-Base checkpoint for sequence maximum length 128. You can use a bigger model for better results with e.g.: evaluate.load('bleurt', 'bleurt-large-512').\n"
          ]
        },
        {
          "output_type": "display_data",
          "data": {
            "text/plain": [
              "Downloading data:   0%|          | 0.00/405M [00:00<?, ?B/s]"
            ],
            "application/vnd.jupyter.widget-view+json": {
              "version_major": 2,
              "version_minor": 0,
              "model_id": "183bd2d9784b40b5a26659f4636adbba"
            }
          },
          "metadata": {}
        }
      ],
      "source": [
        "!pip install git+https://github.com/google-research/bleurt.git\n",
        "\n",
        "bleurt = evaluate.load('bleurt', module_type='metric', checkpoint='BLEURT-20-D3')"
      ]
    },
    {
      "cell_type": "markdown",
      "metadata": {
        "id": "XziuT1wluJJn"
      },
      "source": [
        "### BERTScore\n",
        "🤗 [BERTScore page](https://huggingface.co/spaces/evaluate-metric/bertscore)\n",
        "- Using `distilbert-base-uncased` per 🤗 recommendation because the default model (`roberta-large`) is over 1.4GB"
      ]
    },
    {
      "cell_type": "code",
      "execution_count": null,
      "metadata": {
        "colab": {
          "base_uri": "https://localhost:8080/",
          "height": 694,
          "referenced_widgets": [
            "d10b6ab082904c6faf8f3da7a136ee89",
            "5466aa05afb74fc2a85ab7e709f50f28",
            "a86312dabc7549d18ce6282b7979fc8f",
            "958fa14ba8784e69a9f78cbcadc71971",
            "3b3b5cb653b34fb48e359352dca7f2a2",
            "0e602ace86c840b7938ff1917116fe7a",
            "becdd60304b74e6399ea2fe835fa9fb8",
            "fb13276601454ea48eef630b853e55a5",
            "ff93f80ed20f414db5abd5b4bbd62235",
            "71fc6446e409491eabf99352ca234ff9",
            "12975ea9e8f347a8af1029e95572701a"
          ]
        },
        "id": "ovqwrlx7ti97",
        "outputId": "a8d2de88-1013-4073-cd75-18914d953981"
      },
      "outputs": [
        {
          "output_type": "stream",
          "name": "stdout",
          "text": [
            "Looking in indexes: https://pypi.org/simple, https://us-python.pkg.dev/colab-wheels/public/simple/\n",
            "Collecting bert_score\n",
            "  Downloading bert_score-0.3.12-py3-none-any.whl (60 kB)\n",
            "\u001b[K     |████████████████████████████████| 60 kB 3.3 MB/s \n",
            "\u001b[?25hRequirement already satisfied: tqdm>=4.31.1 in /usr/local/lib/python3.7/dist-packages (from bert_score) (4.64.1)\n",
            "Requirement already satisfied: packaging>=20.9 in /usr/local/lib/python3.7/dist-packages (from bert_score) (21.3)\n",
            "Collecting transformers>=3.0.0\n",
            "  Downloading transformers-4.24.0-py3-none-any.whl (5.5 MB)\n",
            "\u001b[K     |████████████████████████████████| 5.5 MB 10.8 MB/s \n",
            "\u001b[?25hRequirement already satisfied: numpy in /usr/local/lib/python3.7/dist-packages (from bert_score) (1.21.6)\n",
            "Requirement already satisfied: torch>=1.0.0 in /usr/local/lib/python3.7/dist-packages (from bert_score) (1.12.1+cu113)\n",
            "Requirement already satisfied: requests in /usr/local/lib/python3.7/dist-packages (from bert_score) (2.23.0)\n",
            "Requirement already satisfied: pandas>=1.0.1 in /usr/local/lib/python3.7/dist-packages (from bert_score) (1.3.5)\n",
            "Requirement already satisfied: matplotlib in /usr/local/lib/python3.7/dist-packages (from bert_score) (3.2.2)\n",
            "Requirement already satisfied: pyparsing!=3.0.5,>=2.0.2 in /usr/local/lib/python3.7/dist-packages (from packaging>=20.9->bert_score) (3.0.9)\n",
            "Requirement already satisfied: python-dateutil>=2.7.3 in /usr/local/lib/python3.7/dist-packages (from pandas>=1.0.1->bert_score) (2.8.2)\n",
            "Requirement already satisfied: pytz>=2017.3 in /usr/local/lib/python3.7/dist-packages (from pandas>=1.0.1->bert_score) (2022.5)\n",
            "Requirement already satisfied: six>=1.5 in /usr/local/lib/python3.7/dist-packages (from python-dateutil>=2.7.3->pandas>=1.0.1->bert_score) (1.15.0)\n",
            "Requirement already satisfied: typing-extensions in /usr/local/lib/python3.7/dist-packages (from torch>=1.0.0->bert_score) (4.1.1)\n",
            "Requirement already satisfied: regex!=2019.12.17 in /usr/local/lib/python3.7/dist-packages (from transformers>=3.0.0->bert_score) (2022.6.2)\n",
            "Requirement already satisfied: filelock in /usr/local/lib/python3.7/dist-packages (from transformers>=3.0.0->bert_score) (3.8.0)\n",
            "Requirement already satisfied: importlib-metadata in /usr/local/lib/python3.7/dist-packages (from transformers>=3.0.0->bert_score) (4.13.0)\n",
            "Requirement already satisfied: huggingface-hub<1.0,>=0.10.0 in /usr/local/lib/python3.7/dist-packages (from transformers>=3.0.0->bert_score) (0.10.1)\n",
            "Collecting tokenizers!=0.11.3,<0.14,>=0.11.1\n",
            "  Downloading tokenizers-0.13.1-cp37-cp37m-manylinux_2_17_x86_64.manylinux2014_x86_64.whl (7.6 MB)\n",
            "\u001b[K     |████████████████████████████████| 7.6 MB 52.2 MB/s \n",
            "\u001b[?25hRequirement already satisfied: pyyaml>=5.1 in /usr/local/lib/python3.7/dist-packages (from transformers>=3.0.0->bert_score) (6.0)\n",
            "Requirement already satisfied: zipp>=0.5 in /usr/local/lib/python3.7/dist-packages (from importlib-metadata->transformers>=3.0.0->bert_score) (3.10.0)\n",
            "Requirement already satisfied: cycler>=0.10 in /usr/local/lib/python3.7/dist-packages (from matplotlib->bert_score) (0.11.0)\n",
            "Requirement already satisfied: kiwisolver>=1.0.1 in /usr/local/lib/python3.7/dist-packages (from matplotlib->bert_score) (1.4.4)\n",
            "Requirement already satisfied: idna<3,>=2.5 in /usr/local/lib/python3.7/dist-packages (from requests->bert_score) (2.10)\n",
            "Requirement already satisfied: urllib3!=1.25.0,!=1.25.1,<1.26,>=1.21.1 in /usr/local/lib/python3.7/dist-packages (from requests->bert_score) (1.25.11)\n",
            "Requirement already satisfied: chardet<4,>=3.0.2 in /usr/local/lib/python3.7/dist-packages (from requests->bert_score) (3.0.4)\n",
            "Requirement already satisfied: certifi>=2017.4.17 in /usr/local/lib/python3.7/dist-packages (from requests->bert_score) (2022.9.24)\n",
            "Installing collected packages: tokenizers, transformers, bert-score\n",
            "Successfully installed bert-score-0.3.12 tokenizers-0.13.1 transformers-4.24.0\n"
          ]
        },
        {
          "output_type": "display_data",
          "data": {
            "text/plain": [
              "Downloading builder script:   0%|          | 0.00/7.95k [00:00<?, ?B/s]"
            ],
            "application/vnd.jupyter.widget-view+json": {
              "version_major": 2,
              "version_minor": 0,
              "model_id": "d10b6ab082904c6faf8f3da7a136ee89"
            }
          },
          "metadata": {}
        }
      ],
      "source": [
        "!pip install bert_score\n",
        "\n",
        "bertscore = evaluate.load('bertscore')"
      ]
    },
    {
      "cell_type": "markdown",
      "metadata": {
        "id": "TuQR5UsVByhb"
      },
      "source": [
        "### METEOR\n",
        "🤗 [METEOR page](https://huggingface.co/spaces/evaluate-metric/meteor)"
      ]
    },
    {
      "cell_type": "code",
      "execution_count": null,
      "metadata": {
        "colab": {
          "base_uri": "https://localhost:8080/",
          "height": 118,
          "referenced_widgets": [
            "20a6b2ec277248ec941fe2007801ba02",
            "25abe020eb8f45509eca0ca1e3328d93",
            "289f4fec5fd94a2ea5d59fd8b93f41cb",
            "868a2f635d2e46eb815096b4b6c5cbd5",
            "4b380a54d71e404b934eb72d7efc53ba",
            "1df5c01e3509469988ac05a208424b1a",
            "b0a7843d8ef74a87ba51e8ecde0b60a9",
            "1145b80a72f342bdbcb596233344b0b9",
            "32e7a6ec734f431cb16743e6810942f3",
            "7b548530c62e4fdebcb312acdbb2572a",
            "be4fb8844900469c8047265158cd9533"
          ]
        },
        "id": "RECwk3-JrJOM",
        "outputId": "8159d743-0c92-4bd7-89e9-278e65163637"
      },
      "outputs": [
        {
          "output_type": "display_data",
          "data": {
            "text/plain": [
              "Downloading builder script:   0%|          | 0.00/6.81k [00:00<?, ?B/s]"
            ],
            "application/vnd.jupyter.widget-view+json": {
              "version_major": 2,
              "version_minor": 0,
              "model_id": "20a6b2ec277248ec941fe2007801ba02"
            }
          },
          "metadata": {}
        },
        {
          "output_type": "stream",
          "name": "stderr",
          "text": [
            "[nltk_data] Downloading package wordnet to /root/nltk_data...\n",
            "[nltk_data] Downloading package punkt to /root/nltk_data...\n",
            "[nltk_data]   Unzipping tokenizers/punkt.zip.\n",
            "[nltk_data] Downloading package omw-1.4 to /root/nltk_data...\n"
          ]
        }
      ],
      "source": [
        "meteor = evaluate.load('meteor')"
      ]
    },
    {
      "cell_type": "markdown",
      "metadata": {
        "id": "li2nrtfWO8k0"
      },
      "source": [
        "### Universal Sentence Encoder (USE) – PENDING"
      ]
    },
    {
      "cell_type": "markdown",
      "metadata": {
        "id": "tOwFwl_7uXse"
      },
      "source": [
        "## Calculate Metrics on Each Dataset\n",
        "\n",
        "Metrics are calculated for each `target` – `prediction` pair. These pairs are averaged for each dataset to have a single value to compare between models and datasets."
      ]
    },
    {
      "cell_type": "code",
      "execution_count": null,
      "metadata": {
        "id": "otfo6eTfPsVQ",
        "colab": {
          "base_uri": "https://localhost:8080/"
        },
        "outputId": "e7b378de-499d-4f42-8f3a-89ac76d3131b"
      },
      "outputs": [
        {
          "output_type": "stream",
          "name": "stdout",
          "text": [
            "A previously saved `evaluation_dict` exists!\n",
            "Consider if you would like to load it or work with an empty dictionary.\n"
          ]
        }
      ],
      "source": [
        "# Evaluations will be stored in dictionary\n",
        "filename = join(inference_root, \"evaluation_dict.json\")\n",
        "\n",
        "if isfile(filename):\n",
        "  print('A previously saved `evaluation_dict` exists!')\n",
        "  print('Consider if you would like to load it or work with an empty dictionary.')"
      ]
    },
    {
      "cell_type": "markdown",
      "metadata": {
        "id": "zEWSwwYQBWpT"
      },
      "source": [
        "### Option 1: Load dict JSON"
      ]
    },
    {
      "cell_type": "code",
      "execution_count": null,
      "metadata": {
        "colab": {
          "base_uri": "https://localhost:8080/",
          "height": 201
        },
        "id": "L3SyaJsJBWMf",
        "outputId": "ef0fb223-bf6b-42da-efb0-4ce5950a0731"
      },
      "outputs": [
        {
          "ename": "FileNotFoundError",
          "evalue": "ignored",
          "output_type": "error",
          "traceback": [
            "\u001b[0;31m---------------------------------------------------------------------------\u001b[0m",
            "\u001b[0;31mFileNotFoundError\u001b[0m                         Traceback (most recent call last)",
            "\u001b[0;32m<ipython-input-20-03b37440cc3e>\u001b[0m in \u001b[0;36m<module>\u001b[0;34m\u001b[0m\n\u001b[0;32m----> 1\u001b[0;31m \u001b[0;32mwith\u001b[0m \u001b[0mopen\u001b[0m\u001b[0;34m(\u001b[0m\u001b[0;34m'evaluation_dict.json'\u001b[0m\u001b[0;34m)\u001b[0m \u001b[0;32mas\u001b[0m \u001b[0mjson_file\u001b[0m\u001b[0;34m:\u001b[0m\u001b[0;34m\u001b[0m\u001b[0;34m\u001b[0m\u001b[0m\n\u001b[0m\u001b[1;32m      2\u001b[0m   \u001b[0mevaluation_dict\u001b[0m \u001b[0;34m=\u001b[0m \u001b[0mjson\u001b[0m\u001b[0;34m.\u001b[0m\u001b[0mload\u001b[0m\u001b[0;34m(\u001b[0m\u001b[0mjson_file\u001b[0m\u001b[0;34m)\u001b[0m\u001b[0;34m\u001b[0m\u001b[0;34m\u001b[0m\u001b[0m\n\u001b[1;32m      3\u001b[0m   \u001b[0mpprint\u001b[0m\u001b[0;34m.\u001b[0m\u001b[0mpprint\u001b[0m\u001b[0;34m(\u001b[0m\u001b[0mevaluation_dict\u001b[0m\u001b[0;34m.\u001b[0m\u001b[0mkeys\u001b[0m\u001b[0;34m(\u001b[0m\u001b[0;34m)\u001b[0m\u001b[0;34m)\u001b[0m\u001b[0;34m\u001b[0m\u001b[0;34m\u001b[0m\u001b[0m\n",
            "\u001b[0;31mFileNotFoundError\u001b[0m: [Errno 2] No such file or directory: 'evaluation_dict.json'"
          ]
        }
      ],
      "source": [
        "filename = join(inference_root, \"evaluation_dict.json\")\n",
        "\n",
        "with open(filename) as json_file:\n",
        "  evaluation_dict = json.load(json_file)\n",
        "  pprint.pprint(evaluation_dict.keys())"
      ]
    },
    {
      "cell_type": "markdown",
      "metadata": {
        "id": "HdhXEWIwBdHK"
      },
      "source": [
        "### Option 2: Create empty JSON"
      ]
    },
    {
      "cell_type": "code",
      "execution_count": null,
      "metadata": {
        "id": "fFed6EBwBV-9"
      },
      "outputs": [],
      "source": [
        "# evaluation_dict = {}"
      ]
    },
    {
      "cell_type": "markdown",
      "metadata": {
        "id": "8ZPuxr9LOcp-"
      },
      "source": [
        "### ROUGE"
      ]
    },
    {
      "cell_type": "code",
      "execution_count": null,
      "metadata": {
        "colab": {
          "base_uri": "https://localhost:8080/"
        },
        "id": "ftr9os6pRTou",
        "outputId": "8b4b0bda-45c7-48fb-be9c-cf0783706b50"
      },
      "outputs": [
        {
          "name": "stdout",
          "output_type": "stream",
          "text": [
            "Evaluating ROUGE on predictions.T5_base_pt_long.quac.triviaqa.csv...\n",
            "Evaluating ROUGE on predictions.bart_base_pt.squad.squad.csv...\n",
            "Evaluating ROUGE on predictions.T5_base_pt_long.nq.nq.csv...\n",
            "Evaluating ROUGE on predictions.T5_base_pt_long.triviaqa.triviaqa.csv...\n",
            "Evaluating ROUGE on predictions.T5_base_pt_long.nq.squad.csv...\n",
            "Evaluating ROUGE on predictions.T5_base_pt_long.triviaqa.squad.csv...\n",
            "Evaluating ROUGE on predictions.T5_base_pt_long.nq.quac.csv...\n",
            "Evaluating ROUGE on predictions.T5_base_pt_long.nq.triviaqa.csv...\n",
            "Evaluating ROUGE on predictions.T5_base_pt_long.triviaqa.quac.csv...\n",
            "Evaluating ROUGE on predictions.T5_base_pt_long.triviaqa.nq.csv...\n",
            "Evaluating ROUGE on predictions.T5_base_pt_long.squad.squad.csv...\n",
            "Evaluating ROUGE on predictions.T5_base_pt_long.squad.nq.csv...\n",
            "Evaluating ROUGE on predictions.T5_base_pt_long.squad.triviaqa.csv...\n",
            "Evaluating ROUGE on predictions.bart_base_pt.squad.quac.csv...\n",
            "Evaluating ROUGE on predictions.T5_base_pt_long.quac.squad.csv...\n",
            "Evaluating ROUGE on predictions.T5_base_pt_long.quac.nq.csv...\n",
            "Evaluating ROUGE on predictions.T5_base_pt_long.squad.quac.csv...\n",
            "Evaluating ROUGE on predictions.T5_base_pt_long.quac.quac.csv...\n"
          ]
        }
      ],
      "source": [
        "for id, dataset in enumerate(inference_dict.keys()):\n",
        "  print(f\"Evaluating ROUGE on {dataset}...\")\n",
        "\n",
        "  targets = inference_dict[dataset]['target'].tolist()\n",
        "  predictions = inference_dict[dataset]['prediction'].tolist()\n",
        "\n",
        "  # ROUGE scores\n",
        "  # The use_aggregator argument takes the average for us\n",
        "  rouge_results = rouge.compute(predictions=predictions,\n",
        "                                references=targets,\n",
        "                                use_aggregator=True)\n",
        "  \n",
        "  for metric in rouge_results:\n",
        "    \n",
        "    # If this dataset hasn't been added to dict, add it and metric\n",
        "    if not evaluation_dict.get(dataset):\n",
        "      evaluation_dict.update(\n",
        "            {\n",
        "                dataset: {metric: rouge_results[metric]}\n",
        "            }\n",
        "        )\n",
        "      \n",
        "    # This dataset already exists as a key, so add this metric\n",
        "    else:\n",
        "      evaluation_dict[dataset].update(\n",
        "          {\n",
        "              metric: rouge_results[metric]\n",
        "          }\n",
        "      )\n"
      ]
    },
    {
      "cell_type": "code",
      "execution_count": null,
      "metadata": {
        "colab": {
          "base_uri": "https://localhost:8080/"
        },
        "id": "x65_l18sFYbx",
        "outputId": "9b226c1b-78d4-4c53-d5a5-983c7c12af7e"
      },
      "outputs": [
        {
          "name": "stdout",
          "output_type": "stream",
          "text": [
            "JSON saved at /content/drive/MyDrive/w266 NLP Final Project/Predictions/evaluation_dict.json\n"
          ]
        }
      ],
      "source": [
        "# `evaluation_dict` as JSON\n",
        "filename = join(inference_root, \"evaluation_dict.json\")\n",
        "with open(filename, \"w\") as outfile:\n",
        "  json.dump(evaluation_dict, outfile)\n",
        "  print(f'JSON saved at {filename}')"
      ]
    },
    {
      "cell_type": "markdown",
      "metadata": {
        "id": "Bzga2-JBq8O-"
      },
      "source": [
        "### BLEU-RT"
      ]
    },
    {
      "cell_type": "code",
      "execution_count": null,
      "metadata": {
        "colab": {
          "base_uri": "https://localhost:8080/"
        },
        "id": "X67s6wPoS9bw",
        "outputId": "83a5ec53-111c-4db1-8508-bc247f122039"
      },
      "outputs": [
        {
          "name": "stdout",
          "output_type": "stream",
          "text": [
            "All predictions to evaluate:\n",
            "    predictions.T5_base_pt_long.quac.triviaqa.csv\n",
            "    predictions.bart_base_pt.squad.squad.csv\n",
            "    predictions.T5_base_pt_long.nq.nq.csv\n",
            "    predictions.T5_base_pt_long.triviaqa.triviaqa.csv\n",
            "    predictions.T5_base_pt_long.nq.squad.csv\n",
            "    predictions.T5_base_pt_long.triviaqa.squad.csv\n",
            "    predictions.T5_base_pt_long.nq.quac.csv\n",
            "    predictions.T5_base_pt_long.nq.triviaqa.csv\n",
            "    predictions.T5_base_pt_long.triviaqa.quac.csv\n",
            "    predictions.T5_base_pt_long.triviaqa.nq.csv\n",
            "    predictions.T5_base_pt_long.squad.squad.csv\n",
            "    predictions.T5_base_pt_long.squad.nq.csv\n",
            "    predictions.T5_base_pt_long.squad.triviaqa.csv\n",
            "    predictions.bart_base_pt.squad.quac.csv\n",
            "    predictions.T5_base_pt_long.quac.squad.csv\n",
            "    predictions.T5_base_pt_long.quac.nq.csv\n",
            "    predictions.T5_base_pt_long.squad.quac.csv\n",
            "    predictions.T5_base_pt_long.quac.quac.csv\n",
            "\n",
            "Predictions with BLEU-RT evaluations:\n"
          ]
        }
      ],
      "source": [
        "# BLEU-RT takes longer, so here's an option to pick-up where\n",
        "# we left off prior if Colab terminated the session\n",
        "\n",
        "print('All predictions to evaluate:')\n",
        "for dataset in inference_dict.keys():\n",
        "  print(f'    {dataset}')\n",
        "\n",
        "print()\n",
        "print('Predictions with BLEU-RT evaluations:')\n",
        "for eval in evaluation_dict.keys():\n",
        "  if evaluation_dict[eval]['bleurt']:\n",
        "    print('    ' + eval)"
      ]
    },
    {
      "cell_type": "code",
      "execution_count": null,
      "metadata": {
        "id": "3d1kLDM7UVSg"
      },
      "outputs": [],
      "source": [
        "# Copy a dataset name string from above and paste below\n",
        "# or set to None to evaluate all of them.\n",
        "begin_at = 'predictions.bart_base_pt.squad.squad.csv'"
      ]
    },
    {
      "cell_type": "code",
      "execution_count": null,
      "metadata": {
        "colab": {
          "background_save": true,
          "base_uri": "https://localhost:8080/"
        },
        "id": "RTbgwIjkxH3-",
        "outputId": "21f8147d-0f4d-422e-96a9-f8da6444018d"
      },
      "outputs": [
        {
          "name": "stdout",
          "output_type": "stream",
          "text": [
            "Evaluating BLEU-RT on predictions.T5_base_pt_long.quac.triviaqa.csv...\n",
            "JSON saved at /content/drive/MyDrive/w266 NLP Final Project/Predictions/evaluation_dict.json\n",
            "Evaluating BLEU-RT on predictions.bart_base_pt.squad.squad.csv...\n"
          ]
        }
      ],
      "source": [
        "# Used to control which dataset to resume evaluation at\n",
        "play = False\n",
        "\n",
        "for id, dataset in enumerate(inference_dict.keys()):\n",
        "\n",
        "  # Do not evaluate until we reach the `begin_at` dataset\n",
        "  if dataset == begin_at or begin_at is None:\n",
        "    play = True\n",
        "  \n",
        "  # If `play` is True, we've reached the dataset and can resume evaluation\n",
        "  if play:\n",
        "    print(f\"Evaluating BLEU-RT on {dataset}...\")\n",
        "\n",
        "    targets = inference_dict[dataset]['target'].tolist()\n",
        "    predictions = inference_dict[dataset]['prediction'].tolist()\n",
        "\n",
        "    # BLEU-RT scores\n",
        "    bleurt_results = bleurt.compute(predictions=predictions,\n",
        "                                    references=targets)\n",
        "    \n",
        "    # Average over scores\n",
        "    bleurt_scores_list = bleurt_results['scores']\n",
        "    avg_bleurt = sum(bleurt_scores_list) / len(bleurt_scores_list)\n",
        "      \n",
        "    # If this dataset hasn't been added to dict, add it and metric\n",
        "    if not evaluation_dict.get(dataset):\n",
        "      evaluation_dict.update(\n",
        "            {\n",
        "                dataset: {'bleurt': avg_bleurt}\n",
        "            }\n",
        "        )\n",
        "      \n",
        "    # This dataset already exists as a key, so add this metric\n",
        "    else:\n",
        "      evaluation_dict[dataset].update(\n",
        "          {\n",
        "              'bleurt': avg_bleurt\n",
        "          }\n",
        "      )\n",
        "\n",
        "    # Save this version of `evaluation_dict` as JSON in case Colab dies out\n",
        "    filename = join(inference_root, \"evaluation_dict.json\")\n",
        "    with open(filename, \"w\") as outfile:\n",
        "      json.dump(evaluation_dict, outfile)\n",
        "      print(f'JSON saved at {filename}')\n",
        "\n",
        "  # If `play` is False, we have not reached the `begin_at` dataset yet\n",
        "  else:\n",
        "    print(f\"Skipping {dataset}.\")\n"
      ]
    },
    {
      "cell_type": "code",
      "execution_count": null,
      "metadata": {
        "id": "b84WuMymyUKW"
      },
      "outputs": [],
      "source": [
        "pprint.pprint(evaluation_dict)"
      ]
    },
    {
      "cell_type": "markdown",
      "metadata": {
        "id": "eUUWH7nTrAzS"
      },
      "source": [
        "### BERTScore"
      ]
    },
    {
      "cell_type": "code",
      "execution_count": null,
      "metadata": {
        "id": "MtikcvCx1Uw9"
      },
      "outputs": [],
      "source": [
        "for id, dataset in enumerate(inference_dict.keys()):\n",
        "  print(f\"Evaluating BERTScore on {dataset}...\")\n",
        "\n",
        "  targets = inference_dict[dataset]['target'].tolist()\n",
        "  predictions = inference_dict[dataset]['prediction'].tolist()\n",
        "\n",
        "  # BERT Scores\n",
        "  bertscore_results = bertscore.compute(predictions=predictions,\n",
        "                                        references=targets,\n",
        "                                        model_type='distilbert-base-uncased')\n",
        "  \n",
        "  # Average over scores\n",
        "  bertscore_precision_list = bertscore_results['precision']\n",
        "  bertscore_recall_list = bertscore_results['recall']\n",
        "  bertscore_f1_list = bertscore_results['f1']\n",
        "\n",
        "  avg_precision = sum(bertscore_precision_list) / len(bertscore_precision_list)\n",
        "  avg_recall = sum(bertscore_recall_list) / len(bertscore_recall_list)\n",
        "  avg_f1 = sum(bertscore_f1_list) / len(bertscore_f1_list)\n",
        "    \n",
        "  # If this dataset hasn't been added to dict, add it and metric\n",
        "  if not evaluation_dict.get(dataset):\n",
        "    evaluation_dict.update(\n",
        "          {\n",
        "              dataset: {'bertscore-precision': avg_precision,\n",
        "                        'bertscore-recall': avg_recall,\n",
        "                        'bertscore-f1': avg_f1}\n",
        "          }\n",
        "      )\n",
        "    \n",
        "  # This dataset already exists as a key, so add this metric\n",
        "  else:\n",
        "    evaluation_dict[dataset].update(\n",
        "        {\n",
        "            'bertscore-precision': avg_precision,\n",
        "            'bertscore-recall': avg_recall,\n",
        "            'bertscore-f1': avg_f1\n",
        "        }\n",
        "    )\n"
      ]
    },
    {
      "cell_type": "markdown",
      "metadata": {
        "id": "mTq3qyEjrC8y"
      },
      "source": [
        "### METEOR"
      ]
    },
    {
      "cell_type": "code",
      "execution_count": null,
      "metadata": {
        "colab": {
          "base_uri": "https://localhost:8080/"
        },
        "id": "xhFjML6rrbop",
        "outputId": "c7c3df34-36ea-4690-f951-c1b59589feef"
      },
      "outputs": [
        {
          "name": "stdout",
          "output_type": "stream",
          "text": [
            "Evaluating METEOR on predictions.T5_base_pt.squad.quac.csv...\n",
            "Evaluating METEOR on predictions.T5_base_pt.squad.squad.csv...\n",
            "Evaluating METEOR on predictions.T5_base_pt.quac.squad.csv...\n",
            "Evaluating METEOR on predictions.T5_base_pt.quac.quac.csv...\n",
            "Evaluating METEOR on predictions.T5_base_pt.squad.nq.csv...\n",
            "Evaluating METEOR on predictions.T5_base_pt.quac.nq.csv...\n",
            "Evaluating METEOR on predictions.T5_base_pt_long.squad.triviaqa.csv...\n",
            "Evaluating METEOR on predictions.T5_base_pt_long.quac.triviaqa.csv...\n",
            "Evaluating METEOR on predictions.bart_base_pt.squad.squad.csv...\n"
          ]
        }
      ],
      "source": [
        "for id, dataset in enumerate(inference_dict.keys()):\n",
        "  print(f\"Evaluating METEOR on {dataset}...\")\n",
        "\n",
        "  targets = inference_dict[dataset]['target'].tolist()\n",
        "  predictions = inference_dict[dataset]['prediction'].tolist()\n",
        "\n",
        "  meteor_results_list = []\n",
        "\n",
        "  # METEOR takes a pair of inputs at a time\n",
        "  for pair in zip(targets, predictions):\n",
        "    \n",
        "    # Calculate METEOR scores\n",
        "    results = meteor.compute(predictions=[pair[0]],\n",
        "                             references=[pair[1]])\n",
        "    \n",
        "    meteor_results_list.append(results['meteor'])\n",
        "  \n",
        "  avg_meteor = sum(meteor_results_list) / len(meteor_results_list)\n",
        "\n",
        "  # Add METEOR to dictionary\n",
        "  # If this dataset hasn't been added to dict, add it and metric\n",
        "  if not evaluation_dict.get(dataset):\n",
        "    evaluation_dict.update(\n",
        "        {\n",
        "            dataset: {'meteor': avg_meteor}\n",
        "        }\n",
        "    )\n",
        "  \n",
        "  # This dataset already exists as a key, so add this metric\n",
        "  else:\n",
        "      evaluation_dict[dataset].update(\n",
        "          {\n",
        "              'meteor': avg_meteor\n",
        "          }\n",
        "      )\n"
      ]
    },
    {
      "cell_type": "code",
      "execution_count": null,
      "metadata": {
        "colab": {
          "base_uri": "https://localhost:8080/"
        },
        "id": "0f3trYfXuebr",
        "outputId": "977ba3c1-1e5a-4e2a-8b29-b6520af355f4"
      },
      "outputs": [
        {
          "data": {
            "text/plain": [
              "{'predictions.T5_base_pt.squad.quac.csv': {'meteor': 0.15452861614981653,\n",
              "  'rouge1': 0.18246685757067002,\n",
              "  'rouge2': 0.039596756029108796,\n",
              "  'rougeL': 0.17629216493034694,\n",
              "  'rougeLsum': 0.1763863380861867},\n",
              " 'predictions.T5_base_pt.squad.squad.csv': {'rouge1': 0.4505391054758221,\n",
              "  'rouge2': 0.23630356484624362,\n",
              "  'rougeL': 0.41706970371613455,\n",
              "  'rougeLsum': 0.4169109103737757,\n",
              "  'meteor': 0.4430975371865821},\n",
              " 'predictions.T5_base_pt.quac.squad.csv': {'rouge1': 0.2995440075780461,\n",
              "  'rouge2': 0.10090232093578526,\n",
              "  'rougeL': 0.27689684166147077,\n",
              "  'rougeLsum': 0.27709570427605157,\n",
              "  'meteor': 0.32373301147608025},\n",
              " 'predictions.T5_base_pt.quac.quac.csv': {'rouge1': 0.21764427384319768,\n",
              "  'rouge2': 0.0718138922285132,\n",
              "  'rougeL': 0.21306161056965345,\n",
              "  'rougeLsum': 0.21318144470237674,\n",
              "  'meteor': 0.2247521536626319},\n",
              " 'predictions.T5_base_pt.squad.nq.csv': {'rouge1': 0.34958469648362983,\n",
              "  'rouge2': 0.1639298816200002,\n",
              "  'rougeL': 0.3276778292684154,\n",
              "  'rougeLsum': 0.32779565382724274,\n",
              "  'meteor': 0.2694306204049121},\n",
              " 'predictions.T5_base_pt.quac.nq.csv': {'rouge1': 0.25728935276041587,\n",
              "  'rouge2': 0.10031120086014222,\n",
              "  'rougeL': 0.2419926589441546,\n",
              "  'rougeLsum': 0.24207844859955746,\n",
              "  'meteor': 0.20906696581923326},\n",
              " 'predictions.T5_base_pt_long.squad.triviaqa.csv': {'rouge1': 0.31188967683275043,\n",
              "  'rouge2': 0.11144286663987,\n",
              "  'rougeL': 0.2693780310845009,\n",
              "  'rougeLsum': 0.26926004183579144,\n",
              "  'meteor': 0.31080680839927166},\n",
              " 'predictions.T5_base_pt_long.quac.triviaqa.csv': {'rouge1': 0.11572891189287132,\n",
              "  'rouge2': 0.011757222291305809,\n",
              "  'rougeL': 0.10806013642756193,\n",
              "  'rougeLsum': 0.10801181882867728,\n",
              "  'meteor': 0.15228926747532834},\n",
              " 'predictions.bart_base_pt.squad.squad.csv': {'rouge1': 0.49870305386996494,\n",
              "  'rouge2': 0.2852314571949791,\n",
              "  'rougeL': 0.4653492280175048,\n",
              "  'rougeLsum': 0.4654403396891432,\n",
              "  'meteor': 0.49918084899063064}}"
            ]
          },
          "execution_count": 48,
          "metadata": {},
          "output_type": "execute_result"
        }
      ],
      "source": [
        "evaluation_dict"
      ]
    },
    {
      "cell_type": "markdown",
      "metadata": {
        "id": "SOZSoXny2NR0"
      },
      "source": [
        "# Archive"
      ]
    },
    {
      "cell_type": "markdown",
      "metadata": {
        "id": "ZL2ecf5_yWoN"
      },
      "source": [
        "⚠️ This cell takes some time. ⚠️"
      ]
    },
    {
      "cell_type": "code",
      "execution_count": null,
      "metadata": {
        "colab": {
          "base_uri": "https://localhost:8080/",
          "height": 381
        },
        "id": "3axFb4Ihuapi",
        "outputId": "3fee34f9-fee6-48ae-eb28-56e732d8042d"
      },
      "outputs": [
        {
          "ename": "KeyboardInterrupt",
          "evalue": "ignored",
          "output_type": "error",
          "traceback": [
            "\u001b[0;31m---------------------------------------------------------------------------\u001b[0m",
            "\u001b[0;31mKeyboardInterrupt\u001b[0m                         Traceback (most recent call last)",
            "\u001b[0;32m<ipython-input-49-ac0a09b4e6fe>\u001b[0m in \u001b[0;36m<module>\u001b[0;34m\u001b[0m\n\u001b[1;32m     22\u001b[0m   \u001b[0;31m# BLEU-RT\u001b[0m\u001b[0;34m\u001b[0m\u001b[0;34m\u001b[0m\u001b[0;34m\u001b[0m\u001b[0m\n\u001b[1;32m     23\u001b[0m   bleurt_results = bleurt.compute(predictions=predictions,\n\u001b[0;32m---> 24\u001b[0;31m                                   references=targets)\n\u001b[0m\u001b[1;32m     25\u001b[0m   evaluation_dict.update(\n\u001b[1;32m     26\u001b[0m       {\n",
            "\u001b[0;32m/usr/local/lib/python3.7/dist-packages/evaluate/module.py\u001b[0m in \u001b[0;36mcompute\u001b[0;34m(self, predictions, references, **kwargs)\u001b[0m\n\u001b[1;32m    442\u001b[0m             \u001b[0minputs\u001b[0m \u001b[0;34m=\u001b[0m \u001b[0;34m{\u001b[0m\u001b[0minput_name\u001b[0m\u001b[0;34m:\u001b[0m \u001b[0mself\u001b[0m\u001b[0;34m.\u001b[0m\u001b[0mdata\u001b[0m\u001b[0;34m[\u001b[0m\u001b[0minput_name\u001b[0m\u001b[0;34m]\u001b[0m \u001b[0;32mfor\u001b[0m \u001b[0minput_name\u001b[0m \u001b[0;32min\u001b[0m \u001b[0mself\u001b[0m\u001b[0;34m.\u001b[0m\u001b[0m_feature_names\u001b[0m\u001b[0;34m(\u001b[0m\u001b[0;34m)\u001b[0m\u001b[0;34m}\u001b[0m\u001b[0;34m\u001b[0m\u001b[0;34m\u001b[0m\u001b[0m\n\u001b[1;32m    443\u001b[0m             \u001b[0;32mwith\u001b[0m \u001b[0mtemp_seed\u001b[0m\u001b[0;34m(\u001b[0m\u001b[0mself\u001b[0m\u001b[0;34m.\u001b[0m\u001b[0mseed\u001b[0m\u001b[0;34m)\u001b[0m\u001b[0;34m:\u001b[0m\u001b[0;34m\u001b[0m\u001b[0;34m\u001b[0m\u001b[0m\n\u001b[0;32m--> 444\u001b[0;31m                 \u001b[0moutput\u001b[0m \u001b[0;34m=\u001b[0m \u001b[0mself\u001b[0m\u001b[0;34m.\u001b[0m\u001b[0m_compute\u001b[0m\u001b[0;34m(\u001b[0m\u001b[0;34m**\u001b[0m\u001b[0minputs\u001b[0m\u001b[0;34m,\u001b[0m \u001b[0;34m**\u001b[0m\u001b[0mcompute_kwargs\u001b[0m\u001b[0;34m)\u001b[0m\u001b[0;34m\u001b[0m\u001b[0;34m\u001b[0m\u001b[0m\n\u001b[0m\u001b[1;32m    445\u001b[0m \u001b[0;34m\u001b[0m\u001b[0m\n\u001b[1;32m    446\u001b[0m             \u001b[0;32mif\u001b[0m \u001b[0mself\u001b[0m\u001b[0;34m.\u001b[0m\u001b[0mbuf_writer\u001b[0m \u001b[0;32mis\u001b[0m \u001b[0;32mnot\u001b[0m \u001b[0;32mNone\u001b[0m\u001b[0;34m:\u001b[0m\u001b[0;34m\u001b[0m\u001b[0;34m\u001b[0m\u001b[0m\n",
            "\u001b[0;32m~/.cache/huggingface/modules/evaluate_modules/metrics/evaluate-metric--bleurt/98e148b2f8c4a88aba5037e4e0e90c9fd9ec35dc37a054ded8cfef0fa801ffab/bleurt.py\u001b[0m in \u001b[0;36m_compute\u001b[0;34m(self, predictions, references)\u001b[0m\n\u001b[1;32m    122\u001b[0m \u001b[0;34m\u001b[0m\u001b[0m\n\u001b[1;32m    123\u001b[0m     \u001b[0;32mdef\u001b[0m \u001b[0m_compute\u001b[0m\u001b[0;34m(\u001b[0m\u001b[0mself\u001b[0m\u001b[0;34m,\u001b[0m \u001b[0mpredictions\u001b[0m\u001b[0;34m,\u001b[0m \u001b[0mreferences\u001b[0m\u001b[0;34m)\u001b[0m\u001b[0;34m:\u001b[0m\u001b[0;34m\u001b[0m\u001b[0;34m\u001b[0m\u001b[0m\n\u001b[0;32m--> 124\u001b[0;31m         \u001b[0mscores\u001b[0m \u001b[0;34m=\u001b[0m \u001b[0mself\u001b[0m\u001b[0;34m.\u001b[0m\u001b[0mscorer\u001b[0m\u001b[0;34m.\u001b[0m\u001b[0mscore\u001b[0m\u001b[0;34m(\u001b[0m\u001b[0mreferences\u001b[0m\u001b[0;34m=\u001b[0m\u001b[0mreferences\u001b[0m\u001b[0;34m,\u001b[0m \u001b[0mcandidates\u001b[0m\u001b[0;34m=\u001b[0m\u001b[0mpredictions\u001b[0m\u001b[0;34m)\u001b[0m\u001b[0;34m\u001b[0m\u001b[0;34m\u001b[0m\u001b[0m\n\u001b[0m\u001b[1;32m    125\u001b[0m         \u001b[0;32mreturn\u001b[0m \u001b[0;34m{\u001b[0m\u001b[0;34m\"scores\"\u001b[0m\u001b[0;34m:\u001b[0m \u001b[0mscores\u001b[0m\u001b[0;34m}\u001b[0m\u001b[0;34m\u001b[0m\u001b[0;34m\u001b[0m\u001b[0m\n",
            "\u001b[0;32m/usr/local/lib/python3.7/dist-packages/bleurt/score.py\u001b[0m in \u001b[0;36mscore\u001b[0;34m(self, references, candidates, batch_size, *args)\u001b[0m\n\u001b[1;32m    212\u001b[0m           \u001b[0;34m\"segment_ids\"\u001b[0m\u001b[0;34m:\u001b[0m \u001b[0msegment_ids\u001b[0m\u001b[0;34m\u001b[0m\u001b[0;34m\u001b[0m\u001b[0m\n\u001b[1;32m    213\u001b[0m       }\n\u001b[0;32m--> 214\u001b[0;31m       \u001b[0mpredict_out\u001b[0m \u001b[0;34m=\u001b[0m \u001b[0mself\u001b[0m\u001b[0;34m.\u001b[0m\u001b[0m_predictor\u001b[0m\u001b[0;34m.\u001b[0m\u001b[0mpredict\u001b[0m\u001b[0;34m(\u001b[0m\u001b[0mtf_input\u001b[0m\u001b[0;34m)\u001b[0m\u001b[0;34m\u001b[0m\u001b[0;34m\u001b[0m\u001b[0m\n\u001b[0m\u001b[1;32m    215\u001b[0m       \u001b[0mbatch_results\u001b[0m \u001b[0;34m=\u001b[0m \u001b[0mpredict_out\u001b[0m\u001b[0;34m.\u001b[0m\u001b[0mtolist\u001b[0m\u001b[0;34m(\u001b[0m\u001b[0;34m)\u001b[0m\u001b[0;34m\u001b[0m\u001b[0;34m\u001b[0m\u001b[0m\n\u001b[1;32m    216\u001b[0m       \u001b[0mall_results\u001b[0m\u001b[0;34m.\u001b[0m\u001b[0mextend\u001b[0m\u001b[0;34m(\u001b[0m\u001b[0mbatch_results\u001b[0m\u001b[0;34m)\u001b[0m\u001b[0;34m\u001b[0m\u001b[0;34m\u001b[0m\u001b[0m\n",
            "\u001b[0;32m/usr/local/lib/python3.7/dist-packages/bleurt/score.py\u001b[0m in \u001b[0;36mpredict\u001b[0;34m(self, input_dict)\u001b[0m\n\u001b[1;32m     68\u001b[0m         \u001b[0minput_mask\u001b[0m\u001b[0;34m=\u001b[0m\u001b[0mtf\u001b[0m\u001b[0;34m.\u001b[0m\u001b[0mconstant\u001b[0m\u001b[0;34m(\u001b[0m\u001b[0minput_dict\u001b[0m\u001b[0;34m[\u001b[0m\u001b[0;34m\"input_mask\"\u001b[0m\u001b[0;34m]\u001b[0m\u001b[0;34m,\u001b[0m \u001b[0mdtype\u001b[0m\u001b[0;34m=\u001b[0m\u001b[0mtf\u001b[0m\u001b[0;34m.\u001b[0m\u001b[0mint64\u001b[0m\u001b[0;34m)\u001b[0m\u001b[0;34m,\u001b[0m\u001b[0;34m\u001b[0m\u001b[0;34m\u001b[0m\u001b[0m\n\u001b[1;32m     69\u001b[0m         segment_ids=tf.constant(input_dict[\"segment_ids\"],\n\u001b[0;32m---> 70\u001b[0;31m                                 dtype=tf.int64))[\"predictions\"].numpy()\n\u001b[0m\u001b[1;32m     71\u001b[0m     \u001b[0;32mreturn\u001b[0m \u001b[0mpredictions\u001b[0m\u001b[0;34m\u001b[0m\u001b[0;34m\u001b[0m\u001b[0m\n\u001b[1;32m     72\u001b[0m \u001b[0;34m\u001b[0m\u001b[0m\n",
            "\u001b[0;32m/usr/local/lib/python3.7/dist-packages/tensorflow/python/eager/function.py\u001b[0m in \u001b[0;36m__call__\u001b[0;34m(self, *args, **kwargs)\u001b[0m\n\u001b[1;32m   1600\u001b[0m       \u001b[0mTypeError\u001b[0m\u001b[0;34m:\u001b[0m \u001b[0mIf\u001b[0m \u001b[0mthe\u001b[0m \u001b[0marguments\u001b[0m \u001b[0mdo\u001b[0m \u001b[0;32mnot\u001b[0m \u001b[0mmatch\u001b[0m \u001b[0mthe\u001b[0m \u001b[0mfunction\u001b[0m\u001b[0;31m'\u001b[0m\u001b[0ms\u001b[0m \u001b[0msignature\u001b[0m\u001b[0;34m.\u001b[0m\u001b[0;34m\u001b[0m\u001b[0;34m\u001b[0m\u001b[0m\n\u001b[1;32m   1601\u001b[0m     \"\"\"\n\u001b[0;32m-> 1602\u001b[0;31m     \u001b[0;32mreturn\u001b[0m \u001b[0mself\u001b[0m\u001b[0;34m.\u001b[0m\u001b[0m_call_impl\u001b[0m\u001b[0;34m(\u001b[0m\u001b[0margs\u001b[0m\u001b[0;34m,\u001b[0m \u001b[0mkwargs\u001b[0m\u001b[0;34m)\u001b[0m\u001b[0;34m\u001b[0m\u001b[0;34m\u001b[0m\u001b[0m\n\u001b[0m\u001b[1;32m   1603\u001b[0m \u001b[0;34m\u001b[0m\u001b[0m\n\u001b[1;32m   1604\u001b[0m   \u001b[0;32mdef\u001b[0m \u001b[0m_call_impl\u001b[0m\u001b[0;34m(\u001b[0m\u001b[0mself\u001b[0m\u001b[0;34m,\u001b[0m \u001b[0margs\u001b[0m\u001b[0;34m,\u001b[0m \u001b[0mkwargs\u001b[0m\u001b[0;34m,\u001b[0m \u001b[0mcancellation_manager\u001b[0m\u001b[0;34m=\u001b[0m\u001b[0;32mNone\u001b[0m\u001b[0;34m)\u001b[0m\u001b[0;34m:\u001b[0m\u001b[0;34m\u001b[0m\u001b[0;34m\u001b[0m\u001b[0m\n",
            "\u001b[0;32m/usr/local/lib/python3.7/dist-packages/tensorflow/python/eager/wrap_function.py\u001b[0m in \u001b[0;36m_call_impl\u001b[0;34m(self, args, kwargs, cancellation_manager)\u001b[0m\n\u001b[1;32m    242\u001b[0m     \u001b[0;32melse\u001b[0m\u001b[0;34m:\u001b[0m\u001b[0;34m\u001b[0m\u001b[0;34m\u001b[0m\u001b[0m\n\u001b[1;32m    243\u001b[0m       return super(WrappedFunction, self)._call_impl(\n\u001b[0;32m--> 244\u001b[0;31m           args, kwargs, cancellation_manager)\n\u001b[0m\u001b[1;32m    245\u001b[0m \u001b[0;34m\u001b[0m\u001b[0m\n\u001b[1;32m    246\u001b[0m   \u001b[0;32mdef\u001b[0m \u001b[0mprune\u001b[0m\u001b[0;34m(\u001b[0m\u001b[0mself\u001b[0m\u001b[0;34m,\u001b[0m \u001b[0mfeeds\u001b[0m\u001b[0;34m,\u001b[0m \u001b[0mfetches\u001b[0m\u001b[0;34m,\u001b[0m \u001b[0mname\u001b[0m\u001b[0;34m=\u001b[0m\u001b[0;32mNone\u001b[0m\u001b[0;34m,\u001b[0m \u001b[0minput_signature\u001b[0m\u001b[0;34m=\u001b[0m\u001b[0;32mNone\u001b[0m\u001b[0;34m)\u001b[0m\u001b[0;34m:\u001b[0m\u001b[0;34m\u001b[0m\u001b[0;34m\u001b[0m\u001b[0m\n",
            "\u001b[0;32m/usr/local/lib/python3.7/dist-packages/tensorflow/python/eager/function.py\u001b[0m in \u001b[0;36m_call_impl\u001b[0;34m(self, args, kwargs, cancellation_manager)\u001b[0m\n\u001b[1;32m   1618\u001b[0m             \u001b[0;32mraise\u001b[0m \u001b[0mstructured_err\u001b[0m\u001b[0;34m\u001b[0m\u001b[0;34m\u001b[0m\u001b[0m\n\u001b[1;32m   1619\u001b[0m \u001b[0;34m\u001b[0m\u001b[0m\n\u001b[0;32m-> 1620\u001b[0;31m       \u001b[0;32mreturn\u001b[0m \u001b[0mself\u001b[0m\u001b[0;34m.\u001b[0m\u001b[0m_call_with_flat_signature\u001b[0m\u001b[0;34m(\u001b[0m\u001b[0margs\u001b[0m\u001b[0;34m,\u001b[0m \u001b[0mkwargs\u001b[0m\u001b[0;34m,\u001b[0m \u001b[0mcancellation_manager\u001b[0m\u001b[0;34m)\u001b[0m\u001b[0;34m\u001b[0m\u001b[0;34m\u001b[0m\u001b[0m\n\u001b[0m\u001b[1;32m   1621\u001b[0m \u001b[0;34m\u001b[0m\u001b[0m\n\u001b[1;32m   1622\u001b[0m   \u001b[0;32mdef\u001b[0m \u001b[0m_call_with_flat_signature\u001b[0m\u001b[0;34m(\u001b[0m\u001b[0mself\u001b[0m\u001b[0;34m,\u001b[0m \u001b[0margs\u001b[0m\u001b[0;34m,\u001b[0m \u001b[0mkwargs\u001b[0m\u001b[0;34m,\u001b[0m \u001b[0mcancellation_manager\u001b[0m\u001b[0;34m)\u001b[0m\u001b[0;34m:\u001b[0m\u001b[0;34m\u001b[0m\u001b[0;34m\u001b[0m\u001b[0m\n",
            "\u001b[0;32m/usr/local/lib/python3.7/dist-packages/tensorflow/python/eager/function.py\u001b[0m in \u001b[0;36m_call_with_flat_signature\u001b[0;34m(self, args, kwargs, cancellation_manager)\u001b[0m\n\u001b[1;32m   1667\u001b[0m                         \u001b[0;34mf\"#{i}(zero-based) to be a Tensor; \"\u001b[0m\u001b[0;34m\u001b[0m\u001b[0;34m\u001b[0m\u001b[0m\n\u001b[1;32m   1668\u001b[0m                         f\"got {type(arg).__name__} ({arg}).\")\n\u001b[0;32m-> 1669\u001b[0;31m     \u001b[0;32mreturn\u001b[0m \u001b[0mself\u001b[0m\u001b[0;34m.\u001b[0m\u001b[0m_call_flat\u001b[0m\u001b[0;34m(\u001b[0m\u001b[0margs\u001b[0m\u001b[0;34m,\u001b[0m \u001b[0mself\u001b[0m\u001b[0;34m.\u001b[0m\u001b[0mcaptured_inputs\u001b[0m\u001b[0;34m,\u001b[0m \u001b[0mcancellation_manager\u001b[0m\u001b[0;34m)\u001b[0m\u001b[0;34m\u001b[0m\u001b[0;34m\u001b[0m\u001b[0m\n\u001b[0m\u001b[1;32m   1670\u001b[0m \u001b[0;34m\u001b[0m\u001b[0m\n\u001b[1;32m   1671\u001b[0m   \u001b[0;32mdef\u001b[0m \u001b[0m_call_with_structured_signature\u001b[0m\u001b[0;34m(\u001b[0m\u001b[0mself\u001b[0m\u001b[0;34m,\u001b[0m \u001b[0margs\u001b[0m\u001b[0;34m,\u001b[0m \u001b[0mkwargs\u001b[0m\u001b[0;34m,\u001b[0m \u001b[0mcancellation_manager\u001b[0m\u001b[0;34m)\u001b[0m\u001b[0;34m:\u001b[0m\u001b[0;34m\u001b[0m\u001b[0;34m\u001b[0m\u001b[0m\n",
            "\u001b[0;32m/usr/local/lib/python3.7/dist-packages/tensorflow/python/eager/function.py\u001b[0m in \u001b[0;36m_call_flat\u001b[0;34m(self, args, captured_inputs, cancellation_manager)\u001b[0m\n\u001b[1;32m   1859\u001b[0m       \u001b[0;31m# No tape is watching; skip to running the function.\u001b[0m\u001b[0;34m\u001b[0m\u001b[0;34m\u001b[0m\u001b[0;34m\u001b[0m\u001b[0m\n\u001b[1;32m   1860\u001b[0m       return self._build_call_outputs(self._inference_function.call(\n\u001b[0;32m-> 1861\u001b[0;31m           ctx, args, cancellation_manager=cancellation_manager))\n\u001b[0m\u001b[1;32m   1862\u001b[0m     forward_backward = self._select_forward_and_backward_functions(\n\u001b[1;32m   1863\u001b[0m         \u001b[0margs\u001b[0m\u001b[0;34m,\u001b[0m\u001b[0;34m\u001b[0m\u001b[0;34m\u001b[0m\u001b[0m\n",
            "\u001b[0;32m/usr/local/lib/python3.7/dist-packages/tensorflow/python/eager/function.py\u001b[0m in \u001b[0;36mcall\u001b[0;34m(self, ctx, args, cancellation_manager)\u001b[0m\n\u001b[1;32m    500\u001b[0m               \u001b[0minputs\u001b[0m\u001b[0;34m=\u001b[0m\u001b[0margs\u001b[0m\u001b[0;34m,\u001b[0m\u001b[0;34m\u001b[0m\u001b[0;34m\u001b[0m\u001b[0m\n\u001b[1;32m    501\u001b[0m               \u001b[0mattrs\u001b[0m\u001b[0;34m=\u001b[0m\u001b[0mattrs\u001b[0m\u001b[0;34m,\u001b[0m\u001b[0;34m\u001b[0m\u001b[0;34m\u001b[0m\u001b[0m\n\u001b[0;32m--> 502\u001b[0;31m               ctx=ctx)\n\u001b[0m\u001b[1;32m    503\u001b[0m         \u001b[0;32melse\u001b[0m\u001b[0;34m:\u001b[0m\u001b[0;34m\u001b[0m\u001b[0;34m\u001b[0m\u001b[0m\n\u001b[1;32m    504\u001b[0m           outputs = execute.execute_with_cancellation(\n",
            "\u001b[0;32m/usr/local/lib/python3.7/dist-packages/tensorflow/python/eager/execute.py\u001b[0m in \u001b[0;36mquick_execute\u001b[0;34m(op_name, num_outputs, inputs, attrs, ctx, name)\u001b[0m\n\u001b[1;32m     53\u001b[0m     \u001b[0mctx\u001b[0m\u001b[0;34m.\u001b[0m\u001b[0mensure_initialized\u001b[0m\u001b[0;34m(\u001b[0m\u001b[0;34m)\u001b[0m\u001b[0;34m\u001b[0m\u001b[0;34m\u001b[0m\u001b[0m\n\u001b[1;32m     54\u001b[0m     tensors = pywrap_tfe.TFE_Py_Execute(ctx._handle, device_name, op_name,\n\u001b[0;32m---> 55\u001b[0;31m                                         inputs, attrs, num_outputs)\n\u001b[0m\u001b[1;32m     56\u001b[0m   \u001b[0;32mexcept\u001b[0m \u001b[0mcore\u001b[0m\u001b[0;34m.\u001b[0m\u001b[0m_NotOkStatusException\u001b[0m \u001b[0;32mas\u001b[0m \u001b[0me\u001b[0m\u001b[0;34m:\u001b[0m\u001b[0;34m\u001b[0m\u001b[0;34m\u001b[0m\u001b[0m\n\u001b[1;32m     57\u001b[0m     \u001b[0;32mif\u001b[0m \u001b[0mname\u001b[0m \u001b[0;32mis\u001b[0m \u001b[0;32mnot\u001b[0m \u001b[0;32mNone\u001b[0m\u001b[0;34m:\u001b[0m\u001b[0;34m\u001b[0m\u001b[0;34m\u001b[0m\u001b[0m\n",
            "\u001b[0;31mKeyboardInterrupt\u001b[0m: "
          ]
        }
      ],
      "source": [
        "evaluation_dict = {}\n",
        "\n",
        "for id, dataset in enumerate(inference_dict.keys()):\n",
        "\n",
        "  # Get this dataset's `target` and `prediction` values\n",
        "  targets = inference_dict[dataset]['target'].tolist()\n",
        "  predictions = inference_dict[dataset]['prediction'].tolist()\n",
        "\n",
        "  \n",
        "  # Evaluations\n",
        "\n",
        "  # ROUGE\n",
        "  rouge_results = rouge.compute(predictions=predictions,\n",
        "                                references=targets,\n",
        "                                use_aggregator=False)\n",
        "  evaluation_dict.update(\n",
        "      {\n",
        "          dataset: {'rouge': rouge_results}\n",
        "      }\n",
        "  )\n",
        "\n",
        "  # BLEU-RT\n",
        "  bleurt_results = bleurt.compute(predictions=predictions,\n",
        "                                  references=targets)\n",
        "  evaluation_dict.update(\n",
        "      {\n",
        "          dataset: {'bleurt': bleurt_results}\n",
        "      }\n",
        "  )\n",
        "\n",
        "  # BERTScore\n",
        "  bertscore_results = bertscore.compute(predictions=predictions,\n",
        "                                        references=targets,\n",
        "                                        model_type='distilbert-base-uncased')\n",
        "  evaluation_dict.update(\n",
        "      {\n",
        "          dataset: {'bertscore': bleurt_results}\n",
        "      }\n",
        "  )\n",
        "\n",
        "  print(f\"Dataset {dataset} evaluated.\")"
      ]
    }
  ],
  "metadata": {
    "colab": {
      "collapsed_sections": [
        "XziuT1wluJJn",
        "TuQR5UsVByhb"
      ],
      "provenance": [],
      "authorship_tag": "ABX9TyMZQpsK7ActXXIJ8piMpi/+",
      "include_colab_link": true
    },
    "kernelspec": {
      "display_name": "Python 3",
      "name": "python3"
    },
    "language_info": {
      "name": "python"
    },
    "widgets": {
      "application/vnd.jupyter.widget-state+json": {
        "daf5c1d3908d435d8deed1a05e979222": {
          "model_module": "@jupyter-widgets/controls",
          "model_name": "HBoxModel",
          "model_module_version": "1.5.0",
          "state": {
            "_dom_classes": [],
            "_model_module": "@jupyter-widgets/controls",
            "_model_module_version": "1.5.0",
            "_model_name": "HBoxModel",
            "_view_count": null,
            "_view_module": "@jupyter-widgets/controls",
            "_view_module_version": "1.5.0",
            "_view_name": "HBoxView",
            "box_style": "",
            "children": [
              "IPY_MODEL_9dad9469d0a04272829c8b17ca6eab56",
              "IPY_MODEL_0f7863c6c9ac418ca43302adcb95e0d7",
              "IPY_MODEL_3162d84d522d4726ab87d86ffcd43def"
            ],
            "layout": "IPY_MODEL_b8925017b6014767ae1b069bf1834a11"
          }
        },
        "9dad9469d0a04272829c8b17ca6eab56": {
          "model_module": "@jupyter-widgets/controls",
          "model_name": "HTMLModel",
          "model_module_version": "1.5.0",
          "state": {
            "_dom_classes": [],
            "_model_module": "@jupyter-widgets/controls",
            "_model_module_version": "1.5.0",
            "_model_name": "HTMLModel",
            "_view_count": null,
            "_view_module": "@jupyter-widgets/controls",
            "_view_module_version": "1.5.0",
            "_view_name": "HTMLView",
            "description": "",
            "description_tooltip": null,
            "layout": "IPY_MODEL_1d7237d6802343e38c7252d2d07c48f0",
            "placeholder": "​",
            "style": "IPY_MODEL_b0dc29c591754cf4b36be57eb5e3a229",
            "value": "Downloading builder script: 100%"
          }
        },
        "0f7863c6c9ac418ca43302adcb95e0d7": {
          "model_module": "@jupyter-widgets/controls",
          "model_name": "FloatProgressModel",
          "model_module_version": "1.5.0",
          "state": {
            "_dom_classes": [],
            "_model_module": "@jupyter-widgets/controls",
            "_model_module_version": "1.5.0",
            "_model_name": "FloatProgressModel",
            "_view_count": null,
            "_view_module": "@jupyter-widgets/controls",
            "_view_module_version": "1.5.0",
            "_view_name": "ProgressView",
            "bar_style": "success",
            "description": "",
            "description_tooltip": null,
            "layout": "IPY_MODEL_9a45e677ea2f49cfb51a64af00cf2996",
            "max": 6270,
            "min": 0,
            "orientation": "horizontal",
            "style": "IPY_MODEL_090b6c61590445ccb2186eae0c9091e5",
            "value": 6270
          }
        },
        "3162d84d522d4726ab87d86ffcd43def": {
          "model_module": "@jupyter-widgets/controls",
          "model_name": "HTMLModel",
          "model_module_version": "1.5.0",
          "state": {
            "_dom_classes": [],
            "_model_module": "@jupyter-widgets/controls",
            "_model_module_version": "1.5.0",
            "_model_name": "HTMLModel",
            "_view_count": null,
            "_view_module": "@jupyter-widgets/controls",
            "_view_module_version": "1.5.0",
            "_view_name": "HTMLView",
            "description": "",
            "description_tooltip": null,
            "layout": "IPY_MODEL_cfd3e63f640640eabaa1c698c05a0ac2",
            "placeholder": "​",
            "style": "IPY_MODEL_e28c344693794f1ba37e38f219d970c5",
            "value": " 6.27k/6.27k [00:00&lt;00:00, 6.60kB/s]"
          }
        },
        "b8925017b6014767ae1b069bf1834a11": {
          "model_module": "@jupyter-widgets/base",
          "model_name": "LayoutModel",
          "model_module_version": "1.2.0",
          "state": {
            "_model_module": "@jupyter-widgets/base",
            "_model_module_version": "1.2.0",
            "_model_name": "LayoutModel",
            "_view_count": null,
            "_view_module": "@jupyter-widgets/base",
            "_view_module_version": "1.2.0",
            "_view_name": "LayoutView",
            "align_content": null,
            "align_items": null,
            "align_self": null,
            "border": null,
            "bottom": null,
            "display": null,
            "flex": null,
            "flex_flow": null,
            "grid_area": null,
            "grid_auto_columns": null,
            "grid_auto_flow": null,
            "grid_auto_rows": null,
            "grid_column": null,
            "grid_gap": null,
            "grid_row": null,
            "grid_template_areas": null,
            "grid_template_columns": null,
            "grid_template_rows": null,
            "height": null,
            "justify_content": null,
            "justify_items": null,
            "left": null,
            "margin": null,
            "max_height": null,
            "max_width": null,
            "min_height": null,
            "min_width": null,
            "object_fit": null,
            "object_position": null,
            "order": null,
            "overflow": null,
            "overflow_x": null,
            "overflow_y": null,
            "padding": null,
            "right": null,
            "top": null,
            "visibility": null,
            "width": null
          }
        },
        "1d7237d6802343e38c7252d2d07c48f0": {
          "model_module": "@jupyter-widgets/base",
          "model_name": "LayoutModel",
          "model_module_version": "1.2.0",
          "state": {
            "_model_module": "@jupyter-widgets/base",
            "_model_module_version": "1.2.0",
            "_model_name": "LayoutModel",
            "_view_count": null,
            "_view_module": "@jupyter-widgets/base",
            "_view_module_version": "1.2.0",
            "_view_name": "LayoutView",
            "align_content": null,
            "align_items": null,
            "align_self": null,
            "border": null,
            "bottom": null,
            "display": null,
            "flex": null,
            "flex_flow": null,
            "grid_area": null,
            "grid_auto_columns": null,
            "grid_auto_flow": null,
            "grid_auto_rows": null,
            "grid_column": null,
            "grid_gap": null,
            "grid_row": null,
            "grid_template_areas": null,
            "grid_template_columns": null,
            "grid_template_rows": null,
            "height": null,
            "justify_content": null,
            "justify_items": null,
            "left": null,
            "margin": null,
            "max_height": null,
            "max_width": null,
            "min_height": null,
            "min_width": null,
            "object_fit": null,
            "object_position": null,
            "order": null,
            "overflow": null,
            "overflow_x": null,
            "overflow_y": null,
            "padding": null,
            "right": null,
            "top": null,
            "visibility": null,
            "width": null
          }
        },
        "b0dc29c591754cf4b36be57eb5e3a229": {
          "model_module": "@jupyter-widgets/controls",
          "model_name": "DescriptionStyleModel",
          "model_module_version": "1.5.0",
          "state": {
            "_model_module": "@jupyter-widgets/controls",
            "_model_module_version": "1.5.0",
            "_model_name": "DescriptionStyleModel",
            "_view_count": null,
            "_view_module": "@jupyter-widgets/base",
            "_view_module_version": "1.2.0",
            "_view_name": "StyleView",
            "description_width": ""
          }
        },
        "9a45e677ea2f49cfb51a64af00cf2996": {
          "model_module": "@jupyter-widgets/base",
          "model_name": "LayoutModel",
          "model_module_version": "1.2.0",
          "state": {
            "_model_module": "@jupyter-widgets/base",
            "_model_module_version": "1.2.0",
            "_model_name": "LayoutModel",
            "_view_count": null,
            "_view_module": "@jupyter-widgets/base",
            "_view_module_version": "1.2.0",
            "_view_name": "LayoutView",
            "align_content": null,
            "align_items": null,
            "align_self": null,
            "border": null,
            "bottom": null,
            "display": null,
            "flex": null,
            "flex_flow": null,
            "grid_area": null,
            "grid_auto_columns": null,
            "grid_auto_flow": null,
            "grid_auto_rows": null,
            "grid_column": null,
            "grid_gap": null,
            "grid_row": null,
            "grid_template_areas": null,
            "grid_template_columns": null,
            "grid_template_rows": null,
            "height": null,
            "justify_content": null,
            "justify_items": null,
            "left": null,
            "margin": null,
            "max_height": null,
            "max_width": null,
            "min_height": null,
            "min_width": null,
            "object_fit": null,
            "object_position": null,
            "order": null,
            "overflow": null,
            "overflow_x": null,
            "overflow_y": null,
            "padding": null,
            "right": null,
            "top": null,
            "visibility": null,
            "width": null
          }
        },
        "090b6c61590445ccb2186eae0c9091e5": {
          "model_module": "@jupyter-widgets/controls",
          "model_name": "ProgressStyleModel",
          "model_module_version": "1.5.0",
          "state": {
            "_model_module": "@jupyter-widgets/controls",
            "_model_module_version": "1.5.0",
            "_model_name": "ProgressStyleModel",
            "_view_count": null,
            "_view_module": "@jupyter-widgets/base",
            "_view_module_version": "1.2.0",
            "_view_name": "StyleView",
            "bar_color": null,
            "description_width": ""
          }
        },
        "cfd3e63f640640eabaa1c698c05a0ac2": {
          "model_module": "@jupyter-widgets/base",
          "model_name": "LayoutModel",
          "model_module_version": "1.2.0",
          "state": {
            "_model_module": "@jupyter-widgets/base",
            "_model_module_version": "1.2.0",
            "_model_name": "LayoutModel",
            "_view_count": null,
            "_view_module": "@jupyter-widgets/base",
            "_view_module_version": "1.2.0",
            "_view_name": "LayoutView",
            "align_content": null,
            "align_items": null,
            "align_self": null,
            "border": null,
            "bottom": null,
            "display": null,
            "flex": null,
            "flex_flow": null,
            "grid_area": null,
            "grid_auto_columns": null,
            "grid_auto_flow": null,
            "grid_auto_rows": null,
            "grid_column": null,
            "grid_gap": null,
            "grid_row": null,
            "grid_template_areas": null,
            "grid_template_columns": null,
            "grid_template_rows": null,
            "height": null,
            "justify_content": null,
            "justify_items": null,
            "left": null,
            "margin": null,
            "max_height": null,
            "max_width": null,
            "min_height": null,
            "min_width": null,
            "object_fit": null,
            "object_position": null,
            "order": null,
            "overflow": null,
            "overflow_x": null,
            "overflow_y": null,
            "padding": null,
            "right": null,
            "top": null,
            "visibility": null,
            "width": null
          }
        },
        "e28c344693794f1ba37e38f219d970c5": {
          "model_module": "@jupyter-widgets/controls",
          "model_name": "DescriptionStyleModel",
          "model_module_version": "1.5.0",
          "state": {
            "_model_module": "@jupyter-widgets/controls",
            "_model_module_version": "1.5.0",
            "_model_name": "DescriptionStyleModel",
            "_view_count": null,
            "_view_module": "@jupyter-widgets/base",
            "_view_module_version": "1.2.0",
            "_view_name": "StyleView",
            "description_width": ""
          }
        },
        "0e2e600d403c40ce9345ffe234a420e3": {
          "model_module": "@jupyter-widgets/controls",
          "model_name": "HBoxModel",
          "model_module_version": "1.5.0",
          "state": {
            "_dom_classes": [],
            "_model_module": "@jupyter-widgets/controls",
            "_model_module_version": "1.5.0",
            "_model_name": "HBoxModel",
            "_view_count": null,
            "_view_module": "@jupyter-widgets/controls",
            "_view_module_version": "1.5.0",
            "_view_name": "HBoxView",
            "box_style": "",
            "children": [
              "IPY_MODEL_36347a1a5e3a4872a30c5c2a7d8c2dde",
              "IPY_MODEL_b5a9eef3e0d342dcbf0bc1fcd3db1fe1",
              "IPY_MODEL_37d40593c2a44ad28ea4c8ca55899ffd"
            ],
            "layout": "IPY_MODEL_fdd94278196b4674a2c3d40c1a3d79d5"
          }
        },
        "36347a1a5e3a4872a30c5c2a7d8c2dde": {
          "model_module": "@jupyter-widgets/controls",
          "model_name": "HTMLModel",
          "model_module_version": "1.5.0",
          "state": {
            "_dom_classes": [],
            "_model_module": "@jupyter-widgets/controls",
            "_model_module_version": "1.5.0",
            "_model_name": "HTMLModel",
            "_view_count": null,
            "_view_module": "@jupyter-widgets/controls",
            "_view_module_version": "1.5.0",
            "_view_name": "HTMLView",
            "description": "",
            "description_tooltip": null,
            "layout": "IPY_MODEL_209d87810a534e3a89af7677ab72796f",
            "placeholder": "​",
            "style": "IPY_MODEL_9d7c3293566e48adb6ea37546fa9c880",
            "value": "Downloading builder script: 100%"
          }
        },
        "b5a9eef3e0d342dcbf0bc1fcd3db1fe1": {
          "model_module": "@jupyter-widgets/controls",
          "model_name": "FloatProgressModel",
          "model_module_version": "1.5.0",
          "state": {
            "_dom_classes": [],
            "_model_module": "@jupyter-widgets/controls",
            "_model_module_version": "1.5.0",
            "_model_name": "FloatProgressModel",
            "_view_count": null,
            "_view_module": "@jupyter-widgets/controls",
            "_view_module_version": "1.5.0",
            "_view_name": "ProgressView",
            "bar_style": "success",
            "description": "",
            "description_tooltip": null,
            "layout": "IPY_MODEL_1e607ad8a38b48d2af610146463112aa",
            "max": 5195,
            "min": 0,
            "orientation": "horizontal",
            "style": "IPY_MODEL_ffbdbbde616947c583c4b82c07083aa3",
            "value": 5195
          }
        },
        "37d40593c2a44ad28ea4c8ca55899ffd": {
          "model_module": "@jupyter-widgets/controls",
          "model_name": "HTMLModel",
          "model_module_version": "1.5.0",
          "state": {
            "_dom_classes": [],
            "_model_module": "@jupyter-widgets/controls",
            "_model_module_version": "1.5.0",
            "_model_name": "HTMLModel",
            "_view_count": null,
            "_view_module": "@jupyter-widgets/controls",
            "_view_module_version": "1.5.0",
            "_view_name": "HTMLView",
            "description": "",
            "description_tooltip": null,
            "layout": "IPY_MODEL_38f31ed422284d5eb5d2fa1dd7ef54e9",
            "placeholder": "​",
            "style": "IPY_MODEL_7b710641764f4e7e94087945e915b7c1",
            "value": " 5.20k/5.20k [00:00&lt;00:00, 101kB/s]"
          }
        },
        "fdd94278196b4674a2c3d40c1a3d79d5": {
          "model_module": "@jupyter-widgets/base",
          "model_name": "LayoutModel",
          "model_module_version": "1.2.0",
          "state": {
            "_model_module": "@jupyter-widgets/base",
            "_model_module_version": "1.2.0",
            "_model_name": "LayoutModel",
            "_view_count": null,
            "_view_module": "@jupyter-widgets/base",
            "_view_module_version": "1.2.0",
            "_view_name": "LayoutView",
            "align_content": null,
            "align_items": null,
            "align_self": null,
            "border": null,
            "bottom": null,
            "display": null,
            "flex": null,
            "flex_flow": null,
            "grid_area": null,
            "grid_auto_columns": null,
            "grid_auto_flow": null,
            "grid_auto_rows": null,
            "grid_column": null,
            "grid_gap": null,
            "grid_row": null,
            "grid_template_areas": null,
            "grid_template_columns": null,
            "grid_template_rows": null,
            "height": null,
            "justify_content": null,
            "justify_items": null,
            "left": null,
            "margin": null,
            "max_height": null,
            "max_width": null,
            "min_height": null,
            "min_width": null,
            "object_fit": null,
            "object_position": null,
            "order": null,
            "overflow": null,
            "overflow_x": null,
            "overflow_y": null,
            "padding": null,
            "right": null,
            "top": null,
            "visibility": null,
            "width": null
          }
        },
        "209d87810a534e3a89af7677ab72796f": {
          "model_module": "@jupyter-widgets/base",
          "model_name": "LayoutModel",
          "model_module_version": "1.2.0",
          "state": {
            "_model_module": "@jupyter-widgets/base",
            "_model_module_version": "1.2.0",
            "_model_name": "LayoutModel",
            "_view_count": null,
            "_view_module": "@jupyter-widgets/base",
            "_view_module_version": "1.2.0",
            "_view_name": "LayoutView",
            "align_content": null,
            "align_items": null,
            "align_self": null,
            "border": null,
            "bottom": null,
            "display": null,
            "flex": null,
            "flex_flow": null,
            "grid_area": null,
            "grid_auto_columns": null,
            "grid_auto_flow": null,
            "grid_auto_rows": null,
            "grid_column": null,
            "grid_gap": null,
            "grid_row": null,
            "grid_template_areas": null,
            "grid_template_columns": null,
            "grid_template_rows": null,
            "height": null,
            "justify_content": null,
            "justify_items": null,
            "left": null,
            "margin": null,
            "max_height": null,
            "max_width": null,
            "min_height": null,
            "min_width": null,
            "object_fit": null,
            "object_position": null,
            "order": null,
            "overflow": null,
            "overflow_x": null,
            "overflow_y": null,
            "padding": null,
            "right": null,
            "top": null,
            "visibility": null,
            "width": null
          }
        },
        "9d7c3293566e48adb6ea37546fa9c880": {
          "model_module": "@jupyter-widgets/controls",
          "model_name": "DescriptionStyleModel",
          "model_module_version": "1.5.0",
          "state": {
            "_model_module": "@jupyter-widgets/controls",
            "_model_module_version": "1.5.0",
            "_model_name": "DescriptionStyleModel",
            "_view_count": null,
            "_view_module": "@jupyter-widgets/base",
            "_view_module_version": "1.2.0",
            "_view_name": "StyleView",
            "description_width": ""
          }
        },
        "1e607ad8a38b48d2af610146463112aa": {
          "model_module": "@jupyter-widgets/base",
          "model_name": "LayoutModel",
          "model_module_version": "1.2.0",
          "state": {
            "_model_module": "@jupyter-widgets/base",
            "_model_module_version": "1.2.0",
            "_model_name": "LayoutModel",
            "_view_count": null,
            "_view_module": "@jupyter-widgets/base",
            "_view_module_version": "1.2.0",
            "_view_name": "LayoutView",
            "align_content": null,
            "align_items": null,
            "align_self": null,
            "border": null,
            "bottom": null,
            "display": null,
            "flex": null,
            "flex_flow": null,
            "grid_area": null,
            "grid_auto_columns": null,
            "grid_auto_flow": null,
            "grid_auto_rows": null,
            "grid_column": null,
            "grid_gap": null,
            "grid_row": null,
            "grid_template_areas": null,
            "grid_template_columns": null,
            "grid_template_rows": null,
            "height": null,
            "justify_content": null,
            "justify_items": null,
            "left": null,
            "margin": null,
            "max_height": null,
            "max_width": null,
            "min_height": null,
            "min_width": null,
            "object_fit": null,
            "object_position": null,
            "order": null,
            "overflow": null,
            "overflow_x": null,
            "overflow_y": null,
            "padding": null,
            "right": null,
            "top": null,
            "visibility": null,
            "width": null
          }
        },
        "ffbdbbde616947c583c4b82c07083aa3": {
          "model_module": "@jupyter-widgets/controls",
          "model_name": "ProgressStyleModel",
          "model_module_version": "1.5.0",
          "state": {
            "_model_module": "@jupyter-widgets/controls",
            "_model_module_version": "1.5.0",
            "_model_name": "ProgressStyleModel",
            "_view_count": null,
            "_view_module": "@jupyter-widgets/base",
            "_view_module_version": "1.2.0",
            "_view_name": "StyleView",
            "bar_color": null,
            "description_width": ""
          }
        },
        "38f31ed422284d5eb5d2fa1dd7ef54e9": {
          "model_module": "@jupyter-widgets/base",
          "model_name": "LayoutModel",
          "model_module_version": "1.2.0",
          "state": {
            "_model_module": "@jupyter-widgets/base",
            "_model_module_version": "1.2.0",
            "_model_name": "LayoutModel",
            "_view_count": null,
            "_view_module": "@jupyter-widgets/base",
            "_view_module_version": "1.2.0",
            "_view_name": "LayoutView",
            "align_content": null,
            "align_items": null,
            "align_self": null,
            "border": null,
            "bottom": null,
            "display": null,
            "flex": null,
            "flex_flow": null,
            "grid_area": null,
            "grid_auto_columns": null,
            "grid_auto_flow": null,
            "grid_auto_rows": null,
            "grid_column": null,
            "grid_gap": null,
            "grid_row": null,
            "grid_template_areas": null,
            "grid_template_columns": null,
            "grid_template_rows": null,
            "height": null,
            "justify_content": null,
            "justify_items": null,
            "left": null,
            "margin": null,
            "max_height": null,
            "max_width": null,
            "min_height": null,
            "min_width": null,
            "object_fit": null,
            "object_position": null,
            "order": null,
            "overflow": null,
            "overflow_x": null,
            "overflow_y": null,
            "padding": null,
            "right": null,
            "top": null,
            "visibility": null,
            "width": null
          }
        },
        "7b710641764f4e7e94087945e915b7c1": {
          "model_module": "@jupyter-widgets/controls",
          "model_name": "DescriptionStyleModel",
          "model_module_version": "1.5.0",
          "state": {
            "_model_module": "@jupyter-widgets/controls",
            "_model_module_version": "1.5.0",
            "_model_name": "DescriptionStyleModel",
            "_view_count": null,
            "_view_module": "@jupyter-widgets/base",
            "_view_module_version": "1.2.0",
            "_view_name": "StyleView",
            "description_width": ""
          }
        },
        "183bd2d9784b40b5a26659f4636adbba": {
          "model_module": "@jupyter-widgets/controls",
          "model_name": "HBoxModel",
          "model_module_version": "1.5.0",
          "state": {
            "_dom_classes": [],
            "_model_module": "@jupyter-widgets/controls",
            "_model_module_version": "1.5.0",
            "_model_name": "HBoxModel",
            "_view_count": null,
            "_view_module": "@jupyter-widgets/controls",
            "_view_module_version": "1.5.0",
            "_view_name": "HBoxView",
            "box_style": "",
            "children": [
              "IPY_MODEL_858cdf15039f443cbb4a223341f4f3ea",
              "IPY_MODEL_a083cd7abc034989823f0dfeac8f98cc",
              "IPY_MODEL_4e0d2d2a80d946e9b997f506cb7d9075"
            ],
            "layout": "IPY_MODEL_c6ed8c10f4f44290a705f69ef73f7e33"
          }
        },
        "858cdf15039f443cbb4a223341f4f3ea": {
          "model_module": "@jupyter-widgets/controls",
          "model_name": "HTMLModel",
          "model_module_version": "1.5.0",
          "state": {
            "_dom_classes": [],
            "_model_module": "@jupyter-widgets/controls",
            "_model_module_version": "1.5.0",
            "_model_name": "HTMLModel",
            "_view_count": null,
            "_view_module": "@jupyter-widgets/controls",
            "_view_module_version": "1.5.0",
            "_view_name": "HTMLView",
            "description": "",
            "description_tooltip": null,
            "layout": "IPY_MODEL_1087718be14a41d887de3ac2f95672ad",
            "placeholder": "​",
            "style": "IPY_MODEL_ddaedfc38c274a78bc986e0b8dcc5129",
            "value": "Downloading data: 100%"
          }
        },
        "a083cd7abc034989823f0dfeac8f98cc": {
          "model_module": "@jupyter-widgets/controls",
          "model_name": "FloatProgressModel",
          "model_module_version": "1.5.0",
          "state": {
            "_dom_classes": [],
            "_model_module": "@jupyter-widgets/controls",
            "_model_module_version": "1.5.0",
            "_model_name": "FloatProgressModel",
            "_view_count": null,
            "_view_module": "@jupyter-widgets/controls",
            "_view_module_version": "1.5.0",
            "_view_name": "ProgressView",
            "bar_style": "success",
            "description": "",
            "description_tooltip": null,
            "layout": "IPY_MODEL_c8d7b4ebbe144a26b8987b2c9e1a9466",
            "max": 405489453,
            "min": 0,
            "orientation": "horizontal",
            "style": "IPY_MODEL_a3531fe093d546eba88f1fa26dd327ed",
            "value": 405489453
          }
        },
        "4e0d2d2a80d946e9b997f506cb7d9075": {
          "model_module": "@jupyter-widgets/controls",
          "model_name": "HTMLModel",
          "model_module_version": "1.5.0",
          "state": {
            "_dom_classes": [],
            "_model_module": "@jupyter-widgets/controls",
            "_model_module_version": "1.5.0",
            "_model_name": "HTMLModel",
            "_view_count": null,
            "_view_module": "@jupyter-widgets/controls",
            "_view_module_version": "1.5.0",
            "_view_name": "HTMLView",
            "description": "",
            "description_tooltip": null,
            "layout": "IPY_MODEL_a6ce66abbff0477788938b0c2cf1b386",
            "placeholder": "​",
            "style": "IPY_MODEL_ddeee6972d7d4ecb8f4785f3109cf547",
            "value": " 405M/405M [00:08&lt;00:00, 45.0MB/s]"
          }
        },
        "c6ed8c10f4f44290a705f69ef73f7e33": {
          "model_module": "@jupyter-widgets/base",
          "model_name": "LayoutModel",
          "model_module_version": "1.2.0",
          "state": {
            "_model_module": "@jupyter-widgets/base",
            "_model_module_version": "1.2.0",
            "_model_name": "LayoutModel",
            "_view_count": null,
            "_view_module": "@jupyter-widgets/base",
            "_view_module_version": "1.2.0",
            "_view_name": "LayoutView",
            "align_content": null,
            "align_items": null,
            "align_self": null,
            "border": null,
            "bottom": null,
            "display": null,
            "flex": null,
            "flex_flow": null,
            "grid_area": null,
            "grid_auto_columns": null,
            "grid_auto_flow": null,
            "grid_auto_rows": null,
            "grid_column": null,
            "grid_gap": null,
            "grid_row": null,
            "grid_template_areas": null,
            "grid_template_columns": null,
            "grid_template_rows": null,
            "height": null,
            "justify_content": null,
            "justify_items": null,
            "left": null,
            "margin": null,
            "max_height": null,
            "max_width": null,
            "min_height": null,
            "min_width": null,
            "object_fit": null,
            "object_position": null,
            "order": null,
            "overflow": null,
            "overflow_x": null,
            "overflow_y": null,
            "padding": null,
            "right": null,
            "top": null,
            "visibility": null,
            "width": null
          }
        },
        "1087718be14a41d887de3ac2f95672ad": {
          "model_module": "@jupyter-widgets/base",
          "model_name": "LayoutModel",
          "model_module_version": "1.2.0",
          "state": {
            "_model_module": "@jupyter-widgets/base",
            "_model_module_version": "1.2.0",
            "_model_name": "LayoutModel",
            "_view_count": null,
            "_view_module": "@jupyter-widgets/base",
            "_view_module_version": "1.2.0",
            "_view_name": "LayoutView",
            "align_content": null,
            "align_items": null,
            "align_self": null,
            "border": null,
            "bottom": null,
            "display": null,
            "flex": null,
            "flex_flow": null,
            "grid_area": null,
            "grid_auto_columns": null,
            "grid_auto_flow": null,
            "grid_auto_rows": null,
            "grid_column": null,
            "grid_gap": null,
            "grid_row": null,
            "grid_template_areas": null,
            "grid_template_columns": null,
            "grid_template_rows": null,
            "height": null,
            "justify_content": null,
            "justify_items": null,
            "left": null,
            "margin": null,
            "max_height": null,
            "max_width": null,
            "min_height": null,
            "min_width": null,
            "object_fit": null,
            "object_position": null,
            "order": null,
            "overflow": null,
            "overflow_x": null,
            "overflow_y": null,
            "padding": null,
            "right": null,
            "top": null,
            "visibility": null,
            "width": null
          }
        },
        "ddaedfc38c274a78bc986e0b8dcc5129": {
          "model_module": "@jupyter-widgets/controls",
          "model_name": "DescriptionStyleModel",
          "model_module_version": "1.5.0",
          "state": {
            "_model_module": "@jupyter-widgets/controls",
            "_model_module_version": "1.5.0",
            "_model_name": "DescriptionStyleModel",
            "_view_count": null,
            "_view_module": "@jupyter-widgets/base",
            "_view_module_version": "1.2.0",
            "_view_name": "StyleView",
            "description_width": ""
          }
        },
        "c8d7b4ebbe144a26b8987b2c9e1a9466": {
          "model_module": "@jupyter-widgets/base",
          "model_name": "LayoutModel",
          "model_module_version": "1.2.0",
          "state": {
            "_model_module": "@jupyter-widgets/base",
            "_model_module_version": "1.2.0",
            "_model_name": "LayoutModel",
            "_view_count": null,
            "_view_module": "@jupyter-widgets/base",
            "_view_module_version": "1.2.0",
            "_view_name": "LayoutView",
            "align_content": null,
            "align_items": null,
            "align_self": null,
            "border": null,
            "bottom": null,
            "display": null,
            "flex": null,
            "flex_flow": null,
            "grid_area": null,
            "grid_auto_columns": null,
            "grid_auto_flow": null,
            "grid_auto_rows": null,
            "grid_column": null,
            "grid_gap": null,
            "grid_row": null,
            "grid_template_areas": null,
            "grid_template_columns": null,
            "grid_template_rows": null,
            "height": null,
            "justify_content": null,
            "justify_items": null,
            "left": null,
            "margin": null,
            "max_height": null,
            "max_width": null,
            "min_height": null,
            "min_width": null,
            "object_fit": null,
            "object_position": null,
            "order": null,
            "overflow": null,
            "overflow_x": null,
            "overflow_y": null,
            "padding": null,
            "right": null,
            "top": null,
            "visibility": null,
            "width": null
          }
        },
        "a3531fe093d546eba88f1fa26dd327ed": {
          "model_module": "@jupyter-widgets/controls",
          "model_name": "ProgressStyleModel",
          "model_module_version": "1.5.0",
          "state": {
            "_model_module": "@jupyter-widgets/controls",
            "_model_module_version": "1.5.0",
            "_model_name": "ProgressStyleModel",
            "_view_count": null,
            "_view_module": "@jupyter-widgets/base",
            "_view_module_version": "1.2.0",
            "_view_name": "StyleView",
            "bar_color": null,
            "description_width": ""
          }
        },
        "a6ce66abbff0477788938b0c2cf1b386": {
          "model_module": "@jupyter-widgets/base",
          "model_name": "LayoutModel",
          "model_module_version": "1.2.0",
          "state": {
            "_model_module": "@jupyter-widgets/base",
            "_model_module_version": "1.2.0",
            "_model_name": "LayoutModel",
            "_view_count": null,
            "_view_module": "@jupyter-widgets/base",
            "_view_module_version": "1.2.0",
            "_view_name": "LayoutView",
            "align_content": null,
            "align_items": null,
            "align_self": null,
            "border": null,
            "bottom": null,
            "display": null,
            "flex": null,
            "flex_flow": null,
            "grid_area": null,
            "grid_auto_columns": null,
            "grid_auto_flow": null,
            "grid_auto_rows": null,
            "grid_column": null,
            "grid_gap": null,
            "grid_row": null,
            "grid_template_areas": null,
            "grid_template_columns": null,
            "grid_template_rows": null,
            "height": null,
            "justify_content": null,
            "justify_items": null,
            "left": null,
            "margin": null,
            "max_height": null,
            "max_width": null,
            "min_height": null,
            "min_width": null,
            "object_fit": null,
            "object_position": null,
            "order": null,
            "overflow": null,
            "overflow_x": null,
            "overflow_y": null,
            "padding": null,
            "right": null,
            "top": null,
            "visibility": null,
            "width": null
          }
        },
        "ddeee6972d7d4ecb8f4785f3109cf547": {
          "model_module": "@jupyter-widgets/controls",
          "model_name": "DescriptionStyleModel",
          "model_module_version": "1.5.0",
          "state": {
            "_model_module": "@jupyter-widgets/controls",
            "_model_module_version": "1.5.0",
            "_model_name": "DescriptionStyleModel",
            "_view_count": null,
            "_view_module": "@jupyter-widgets/base",
            "_view_module_version": "1.2.0",
            "_view_name": "StyleView",
            "description_width": ""
          }
        },
        "d10b6ab082904c6faf8f3da7a136ee89": {
          "model_module": "@jupyter-widgets/controls",
          "model_name": "HBoxModel",
          "model_module_version": "1.5.0",
          "state": {
            "_dom_classes": [],
            "_model_module": "@jupyter-widgets/controls",
            "_model_module_version": "1.5.0",
            "_model_name": "HBoxModel",
            "_view_count": null,
            "_view_module": "@jupyter-widgets/controls",
            "_view_module_version": "1.5.0",
            "_view_name": "HBoxView",
            "box_style": "",
            "children": [
              "IPY_MODEL_5466aa05afb74fc2a85ab7e709f50f28",
              "IPY_MODEL_a86312dabc7549d18ce6282b7979fc8f",
              "IPY_MODEL_958fa14ba8784e69a9f78cbcadc71971"
            ],
            "layout": "IPY_MODEL_3b3b5cb653b34fb48e359352dca7f2a2"
          }
        },
        "5466aa05afb74fc2a85ab7e709f50f28": {
          "model_module": "@jupyter-widgets/controls",
          "model_name": "HTMLModel",
          "model_module_version": "1.5.0",
          "state": {
            "_dom_classes": [],
            "_model_module": "@jupyter-widgets/controls",
            "_model_module_version": "1.5.0",
            "_model_name": "HTMLModel",
            "_view_count": null,
            "_view_module": "@jupyter-widgets/controls",
            "_view_module_version": "1.5.0",
            "_view_name": "HTMLView",
            "description": "",
            "description_tooltip": null,
            "layout": "IPY_MODEL_0e602ace86c840b7938ff1917116fe7a",
            "placeholder": "​",
            "style": "IPY_MODEL_becdd60304b74e6399ea2fe835fa9fb8",
            "value": "Downloading builder script: 100%"
          }
        },
        "a86312dabc7549d18ce6282b7979fc8f": {
          "model_module": "@jupyter-widgets/controls",
          "model_name": "FloatProgressModel",
          "model_module_version": "1.5.0",
          "state": {
            "_dom_classes": [],
            "_model_module": "@jupyter-widgets/controls",
            "_model_module_version": "1.5.0",
            "_model_name": "FloatProgressModel",
            "_view_count": null,
            "_view_module": "@jupyter-widgets/controls",
            "_view_module_version": "1.5.0",
            "_view_name": "ProgressView",
            "bar_style": "success",
            "description": "",
            "description_tooltip": null,
            "layout": "IPY_MODEL_fb13276601454ea48eef630b853e55a5",
            "max": 7950,
            "min": 0,
            "orientation": "horizontal",
            "style": "IPY_MODEL_ff93f80ed20f414db5abd5b4bbd62235",
            "value": 7950
          }
        },
        "958fa14ba8784e69a9f78cbcadc71971": {
          "model_module": "@jupyter-widgets/controls",
          "model_name": "HTMLModel",
          "model_module_version": "1.5.0",
          "state": {
            "_dom_classes": [],
            "_model_module": "@jupyter-widgets/controls",
            "_model_module_version": "1.5.0",
            "_model_name": "HTMLModel",
            "_view_count": null,
            "_view_module": "@jupyter-widgets/controls",
            "_view_module_version": "1.5.0",
            "_view_name": "HTMLView",
            "description": "",
            "description_tooltip": null,
            "layout": "IPY_MODEL_71fc6446e409491eabf99352ca234ff9",
            "placeholder": "​",
            "style": "IPY_MODEL_12975ea9e8f347a8af1029e95572701a",
            "value": " 7.95k/7.95k [00:00&lt;00:00, 127kB/s]"
          }
        },
        "3b3b5cb653b34fb48e359352dca7f2a2": {
          "model_module": "@jupyter-widgets/base",
          "model_name": "LayoutModel",
          "model_module_version": "1.2.0",
          "state": {
            "_model_module": "@jupyter-widgets/base",
            "_model_module_version": "1.2.0",
            "_model_name": "LayoutModel",
            "_view_count": null,
            "_view_module": "@jupyter-widgets/base",
            "_view_module_version": "1.2.0",
            "_view_name": "LayoutView",
            "align_content": null,
            "align_items": null,
            "align_self": null,
            "border": null,
            "bottom": null,
            "display": null,
            "flex": null,
            "flex_flow": null,
            "grid_area": null,
            "grid_auto_columns": null,
            "grid_auto_flow": null,
            "grid_auto_rows": null,
            "grid_column": null,
            "grid_gap": null,
            "grid_row": null,
            "grid_template_areas": null,
            "grid_template_columns": null,
            "grid_template_rows": null,
            "height": null,
            "justify_content": null,
            "justify_items": null,
            "left": null,
            "margin": null,
            "max_height": null,
            "max_width": null,
            "min_height": null,
            "min_width": null,
            "object_fit": null,
            "object_position": null,
            "order": null,
            "overflow": null,
            "overflow_x": null,
            "overflow_y": null,
            "padding": null,
            "right": null,
            "top": null,
            "visibility": null,
            "width": null
          }
        },
        "0e602ace86c840b7938ff1917116fe7a": {
          "model_module": "@jupyter-widgets/base",
          "model_name": "LayoutModel",
          "model_module_version": "1.2.0",
          "state": {
            "_model_module": "@jupyter-widgets/base",
            "_model_module_version": "1.2.0",
            "_model_name": "LayoutModel",
            "_view_count": null,
            "_view_module": "@jupyter-widgets/base",
            "_view_module_version": "1.2.0",
            "_view_name": "LayoutView",
            "align_content": null,
            "align_items": null,
            "align_self": null,
            "border": null,
            "bottom": null,
            "display": null,
            "flex": null,
            "flex_flow": null,
            "grid_area": null,
            "grid_auto_columns": null,
            "grid_auto_flow": null,
            "grid_auto_rows": null,
            "grid_column": null,
            "grid_gap": null,
            "grid_row": null,
            "grid_template_areas": null,
            "grid_template_columns": null,
            "grid_template_rows": null,
            "height": null,
            "justify_content": null,
            "justify_items": null,
            "left": null,
            "margin": null,
            "max_height": null,
            "max_width": null,
            "min_height": null,
            "min_width": null,
            "object_fit": null,
            "object_position": null,
            "order": null,
            "overflow": null,
            "overflow_x": null,
            "overflow_y": null,
            "padding": null,
            "right": null,
            "top": null,
            "visibility": null,
            "width": null
          }
        },
        "becdd60304b74e6399ea2fe835fa9fb8": {
          "model_module": "@jupyter-widgets/controls",
          "model_name": "DescriptionStyleModel",
          "model_module_version": "1.5.0",
          "state": {
            "_model_module": "@jupyter-widgets/controls",
            "_model_module_version": "1.5.0",
            "_model_name": "DescriptionStyleModel",
            "_view_count": null,
            "_view_module": "@jupyter-widgets/base",
            "_view_module_version": "1.2.0",
            "_view_name": "StyleView",
            "description_width": ""
          }
        },
        "fb13276601454ea48eef630b853e55a5": {
          "model_module": "@jupyter-widgets/base",
          "model_name": "LayoutModel",
          "model_module_version": "1.2.0",
          "state": {
            "_model_module": "@jupyter-widgets/base",
            "_model_module_version": "1.2.0",
            "_model_name": "LayoutModel",
            "_view_count": null,
            "_view_module": "@jupyter-widgets/base",
            "_view_module_version": "1.2.0",
            "_view_name": "LayoutView",
            "align_content": null,
            "align_items": null,
            "align_self": null,
            "border": null,
            "bottom": null,
            "display": null,
            "flex": null,
            "flex_flow": null,
            "grid_area": null,
            "grid_auto_columns": null,
            "grid_auto_flow": null,
            "grid_auto_rows": null,
            "grid_column": null,
            "grid_gap": null,
            "grid_row": null,
            "grid_template_areas": null,
            "grid_template_columns": null,
            "grid_template_rows": null,
            "height": null,
            "justify_content": null,
            "justify_items": null,
            "left": null,
            "margin": null,
            "max_height": null,
            "max_width": null,
            "min_height": null,
            "min_width": null,
            "object_fit": null,
            "object_position": null,
            "order": null,
            "overflow": null,
            "overflow_x": null,
            "overflow_y": null,
            "padding": null,
            "right": null,
            "top": null,
            "visibility": null,
            "width": null
          }
        },
        "ff93f80ed20f414db5abd5b4bbd62235": {
          "model_module": "@jupyter-widgets/controls",
          "model_name": "ProgressStyleModel",
          "model_module_version": "1.5.0",
          "state": {
            "_model_module": "@jupyter-widgets/controls",
            "_model_module_version": "1.5.0",
            "_model_name": "ProgressStyleModel",
            "_view_count": null,
            "_view_module": "@jupyter-widgets/base",
            "_view_module_version": "1.2.0",
            "_view_name": "StyleView",
            "bar_color": null,
            "description_width": ""
          }
        },
        "71fc6446e409491eabf99352ca234ff9": {
          "model_module": "@jupyter-widgets/base",
          "model_name": "LayoutModel",
          "model_module_version": "1.2.0",
          "state": {
            "_model_module": "@jupyter-widgets/base",
            "_model_module_version": "1.2.0",
            "_model_name": "LayoutModel",
            "_view_count": null,
            "_view_module": "@jupyter-widgets/base",
            "_view_module_version": "1.2.0",
            "_view_name": "LayoutView",
            "align_content": null,
            "align_items": null,
            "align_self": null,
            "border": null,
            "bottom": null,
            "display": null,
            "flex": null,
            "flex_flow": null,
            "grid_area": null,
            "grid_auto_columns": null,
            "grid_auto_flow": null,
            "grid_auto_rows": null,
            "grid_column": null,
            "grid_gap": null,
            "grid_row": null,
            "grid_template_areas": null,
            "grid_template_columns": null,
            "grid_template_rows": null,
            "height": null,
            "justify_content": null,
            "justify_items": null,
            "left": null,
            "margin": null,
            "max_height": null,
            "max_width": null,
            "min_height": null,
            "min_width": null,
            "object_fit": null,
            "object_position": null,
            "order": null,
            "overflow": null,
            "overflow_x": null,
            "overflow_y": null,
            "padding": null,
            "right": null,
            "top": null,
            "visibility": null,
            "width": null
          }
        },
        "12975ea9e8f347a8af1029e95572701a": {
          "model_module": "@jupyter-widgets/controls",
          "model_name": "DescriptionStyleModel",
          "model_module_version": "1.5.0",
          "state": {
            "_model_module": "@jupyter-widgets/controls",
            "_model_module_version": "1.5.0",
            "_model_name": "DescriptionStyleModel",
            "_view_count": null,
            "_view_module": "@jupyter-widgets/base",
            "_view_module_version": "1.2.0",
            "_view_name": "StyleView",
            "description_width": ""
          }
        },
        "20a6b2ec277248ec941fe2007801ba02": {
          "model_module": "@jupyter-widgets/controls",
          "model_name": "HBoxModel",
          "model_module_version": "1.5.0",
          "state": {
            "_dom_classes": [],
            "_model_module": "@jupyter-widgets/controls",
            "_model_module_version": "1.5.0",
            "_model_name": "HBoxModel",
            "_view_count": null,
            "_view_module": "@jupyter-widgets/controls",
            "_view_module_version": "1.5.0",
            "_view_name": "HBoxView",
            "box_style": "",
            "children": [
              "IPY_MODEL_25abe020eb8f45509eca0ca1e3328d93",
              "IPY_MODEL_289f4fec5fd94a2ea5d59fd8b93f41cb",
              "IPY_MODEL_868a2f635d2e46eb815096b4b6c5cbd5"
            ],
            "layout": "IPY_MODEL_4b380a54d71e404b934eb72d7efc53ba"
          }
        },
        "25abe020eb8f45509eca0ca1e3328d93": {
          "model_module": "@jupyter-widgets/controls",
          "model_name": "HTMLModel",
          "model_module_version": "1.5.0",
          "state": {
            "_dom_classes": [],
            "_model_module": "@jupyter-widgets/controls",
            "_model_module_version": "1.5.0",
            "_model_name": "HTMLModel",
            "_view_count": null,
            "_view_module": "@jupyter-widgets/controls",
            "_view_module_version": "1.5.0",
            "_view_name": "HTMLView",
            "description": "",
            "description_tooltip": null,
            "layout": "IPY_MODEL_1df5c01e3509469988ac05a208424b1a",
            "placeholder": "​",
            "style": "IPY_MODEL_b0a7843d8ef74a87ba51e8ecde0b60a9",
            "value": "Downloading builder script: 100%"
          }
        },
        "289f4fec5fd94a2ea5d59fd8b93f41cb": {
          "model_module": "@jupyter-widgets/controls",
          "model_name": "FloatProgressModel",
          "model_module_version": "1.5.0",
          "state": {
            "_dom_classes": [],
            "_model_module": "@jupyter-widgets/controls",
            "_model_module_version": "1.5.0",
            "_model_name": "FloatProgressModel",
            "_view_count": null,
            "_view_module": "@jupyter-widgets/controls",
            "_view_module_version": "1.5.0",
            "_view_name": "ProgressView",
            "bar_style": "success",
            "description": "",
            "description_tooltip": null,
            "layout": "IPY_MODEL_1145b80a72f342bdbcb596233344b0b9",
            "max": 6809,
            "min": 0,
            "orientation": "horizontal",
            "style": "IPY_MODEL_32e7a6ec734f431cb16743e6810942f3",
            "value": 6809
          }
        },
        "868a2f635d2e46eb815096b4b6c5cbd5": {
          "model_module": "@jupyter-widgets/controls",
          "model_name": "HTMLModel",
          "model_module_version": "1.5.0",
          "state": {
            "_dom_classes": [],
            "_model_module": "@jupyter-widgets/controls",
            "_model_module_version": "1.5.0",
            "_model_name": "HTMLModel",
            "_view_count": null,
            "_view_module": "@jupyter-widgets/controls",
            "_view_module_version": "1.5.0",
            "_view_name": "HTMLView",
            "description": "",
            "description_tooltip": null,
            "layout": "IPY_MODEL_7b548530c62e4fdebcb312acdbb2572a",
            "placeholder": "​",
            "style": "IPY_MODEL_be4fb8844900469c8047265158cd9533",
            "value": " 6.81k/6.81k [00:00&lt;00:00, 121kB/s]"
          }
        },
        "4b380a54d71e404b934eb72d7efc53ba": {
          "model_module": "@jupyter-widgets/base",
          "model_name": "LayoutModel",
          "model_module_version": "1.2.0",
          "state": {
            "_model_module": "@jupyter-widgets/base",
            "_model_module_version": "1.2.0",
            "_model_name": "LayoutModel",
            "_view_count": null,
            "_view_module": "@jupyter-widgets/base",
            "_view_module_version": "1.2.0",
            "_view_name": "LayoutView",
            "align_content": null,
            "align_items": null,
            "align_self": null,
            "border": null,
            "bottom": null,
            "display": null,
            "flex": null,
            "flex_flow": null,
            "grid_area": null,
            "grid_auto_columns": null,
            "grid_auto_flow": null,
            "grid_auto_rows": null,
            "grid_column": null,
            "grid_gap": null,
            "grid_row": null,
            "grid_template_areas": null,
            "grid_template_columns": null,
            "grid_template_rows": null,
            "height": null,
            "justify_content": null,
            "justify_items": null,
            "left": null,
            "margin": null,
            "max_height": null,
            "max_width": null,
            "min_height": null,
            "min_width": null,
            "object_fit": null,
            "object_position": null,
            "order": null,
            "overflow": null,
            "overflow_x": null,
            "overflow_y": null,
            "padding": null,
            "right": null,
            "top": null,
            "visibility": null,
            "width": null
          }
        },
        "1df5c01e3509469988ac05a208424b1a": {
          "model_module": "@jupyter-widgets/base",
          "model_name": "LayoutModel",
          "model_module_version": "1.2.0",
          "state": {
            "_model_module": "@jupyter-widgets/base",
            "_model_module_version": "1.2.0",
            "_model_name": "LayoutModel",
            "_view_count": null,
            "_view_module": "@jupyter-widgets/base",
            "_view_module_version": "1.2.0",
            "_view_name": "LayoutView",
            "align_content": null,
            "align_items": null,
            "align_self": null,
            "border": null,
            "bottom": null,
            "display": null,
            "flex": null,
            "flex_flow": null,
            "grid_area": null,
            "grid_auto_columns": null,
            "grid_auto_flow": null,
            "grid_auto_rows": null,
            "grid_column": null,
            "grid_gap": null,
            "grid_row": null,
            "grid_template_areas": null,
            "grid_template_columns": null,
            "grid_template_rows": null,
            "height": null,
            "justify_content": null,
            "justify_items": null,
            "left": null,
            "margin": null,
            "max_height": null,
            "max_width": null,
            "min_height": null,
            "min_width": null,
            "object_fit": null,
            "object_position": null,
            "order": null,
            "overflow": null,
            "overflow_x": null,
            "overflow_y": null,
            "padding": null,
            "right": null,
            "top": null,
            "visibility": null,
            "width": null
          }
        },
        "b0a7843d8ef74a87ba51e8ecde0b60a9": {
          "model_module": "@jupyter-widgets/controls",
          "model_name": "DescriptionStyleModel",
          "model_module_version": "1.5.0",
          "state": {
            "_model_module": "@jupyter-widgets/controls",
            "_model_module_version": "1.5.0",
            "_model_name": "DescriptionStyleModel",
            "_view_count": null,
            "_view_module": "@jupyter-widgets/base",
            "_view_module_version": "1.2.0",
            "_view_name": "StyleView",
            "description_width": ""
          }
        },
        "1145b80a72f342bdbcb596233344b0b9": {
          "model_module": "@jupyter-widgets/base",
          "model_name": "LayoutModel",
          "model_module_version": "1.2.0",
          "state": {
            "_model_module": "@jupyter-widgets/base",
            "_model_module_version": "1.2.0",
            "_model_name": "LayoutModel",
            "_view_count": null,
            "_view_module": "@jupyter-widgets/base",
            "_view_module_version": "1.2.0",
            "_view_name": "LayoutView",
            "align_content": null,
            "align_items": null,
            "align_self": null,
            "border": null,
            "bottom": null,
            "display": null,
            "flex": null,
            "flex_flow": null,
            "grid_area": null,
            "grid_auto_columns": null,
            "grid_auto_flow": null,
            "grid_auto_rows": null,
            "grid_column": null,
            "grid_gap": null,
            "grid_row": null,
            "grid_template_areas": null,
            "grid_template_columns": null,
            "grid_template_rows": null,
            "height": null,
            "justify_content": null,
            "justify_items": null,
            "left": null,
            "margin": null,
            "max_height": null,
            "max_width": null,
            "min_height": null,
            "min_width": null,
            "object_fit": null,
            "object_position": null,
            "order": null,
            "overflow": null,
            "overflow_x": null,
            "overflow_y": null,
            "padding": null,
            "right": null,
            "top": null,
            "visibility": null,
            "width": null
          }
        },
        "32e7a6ec734f431cb16743e6810942f3": {
          "model_module": "@jupyter-widgets/controls",
          "model_name": "ProgressStyleModel",
          "model_module_version": "1.5.0",
          "state": {
            "_model_module": "@jupyter-widgets/controls",
            "_model_module_version": "1.5.0",
            "_model_name": "ProgressStyleModel",
            "_view_count": null,
            "_view_module": "@jupyter-widgets/base",
            "_view_module_version": "1.2.0",
            "_view_name": "StyleView",
            "bar_color": null,
            "description_width": ""
          }
        },
        "7b548530c62e4fdebcb312acdbb2572a": {
          "model_module": "@jupyter-widgets/base",
          "model_name": "LayoutModel",
          "model_module_version": "1.2.0",
          "state": {
            "_model_module": "@jupyter-widgets/base",
            "_model_module_version": "1.2.0",
            "_model_name": "LayoutModel",
            "_view_count": null,
            "_view_module": "@jupyter-widgets/base",
            "_view_module_version": "1.2.0",
            "_view_name": "LayoutView",
            "align_content": null,
            "align_items": null,
            "align_self": null,
            "border": null,
            "bottom": null,
            "display": null,
            "flex": null,
            "flex_flow": null,
            "grid_area": null,
            "grid_auto_columns": null,
            "grid_auto_flow": null,
            "grid_auto_rows": null,
            "grid_column": null,
            "grid_gap": null,
            "grid_row": null,
            "grid_template_areas": null,
            "grid_template_columns": null,
            "grid_template_rows": null,
            "height": null,
            "justify_content": null,
            "justify_items": null,
            "left": null,
            "margin": null,
            "max_height": null,
            "max_width": null,
            "min_height": null,
            "min_width": null,
            "object_fit": null,
            "object_position": null,
            "order": null,
            "overflow": null,
            "overflow_x": null,
            "overflow_y": null,
            "padding": null,
            "right": null,
            "top": null,
            "visibility": null,
            "width": null
          }
        },
        "be4fb8844900469c8047265158cd9533": {
          "model_module": "@jupyter-widgets/controls",
          "model_name": "DescriptionStyleModel",
          "model_module_version": "1.5.0",
          "state": {
            "_model_module": "@jupyter-widgets/controls",
            "_model_module_version": "1.5.0",
            "_model_name": "DescriptionStyleModel",
            "_view_count": null,
            "_view_module": "@jupyter-widgets/base",
            "_view_module_version": "1.2.0",
            "_view_name": "StyleView",
            "description_width": ""
          }
        }
      }
    }
  },
  "nbformat": 4,
  "nbformat_minor": 0
}