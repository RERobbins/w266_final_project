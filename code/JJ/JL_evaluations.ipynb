{
  "nbformat": 4,
  "nbformat_minor": 0,
  "metadata": {
    "colab": {
      "provenance": [],
      "authorship_tag": "ABX9TyN5MB4inPWtjkog48ABI3zj",
      "include_colab_link": true
    },
    "kernelspec": {
      "name": "python3",
      "display_name": "Python 3"
    },
    "language_info": {
      "name": "python"
    }
  },
  "cells": [
    {
      "cell_type": "markdown",
      "metadata": {
        "id": "view-in-github",
        "colab_type": "text"
      },
      "source": [
        "<a href=\"https://colab.research.google.com/github/jeanlucjackson/w266_final_project/blob/main/code/JJ/JL_evaluations.ipynb\" target=\"_parent\"><img src=\"https://colab.research.google.com/assets/colab-badge.svg\" alt=\"Open In Colab\"/></a>"
      ]
    },
    {
      "cell_type": "code",
      "execution_count": 1,
      "metadata": {
        "id": "MGr_75PJQA6E",
        "colab": {
          "base_uri": "https://localhost:8080/"
        },
        "outputId": "6cce7d22-339b-4aa7-ca6d-78ddc8b2158f"
      },
      "outputs": [
        {
          "output_type": "stream",
          "name": "stdout",
          "text": [
            "\u001b[K     |████████████████████████████████| 72 kB 778 kB/s \n",
            "\u001b[K     |████████████████████████████████| 115 kB 32.1 MB/s \n",
            "\u001b[K     |████████████████████████████████| 163 kB 35.1 MB/s \n",
            "\u001b[K     |████████████████████████████████| 441 kB 48.2 MB/s \n",
            "\u001b[K     |████████████████████████████████| 212 kB 49.5 MB/s \n",
            "\u001b[K     |████████████████████████████████| 127 kB 26.0 MB/s \n",
            "\u001b[K     |████████████████████████████████| 115 kB 54.5 MB/s \n",
            "\u001b[?25h"
          ]
        }
      ],
      "source": [
        "!pip install -q evaluate\n",
        "import evaluate"
      ]
    },
    {
      "cell_type": "code",
      "source": [
        "!pip install -q rouge_score"
      ],
      "metadata": {
        "colab": {
          "base_uri": "https://localhost:8080/"
        },
        "id": "EvUhFN35w_rE",
        "outputId": "941f4d9b-e307-487c-fe58-c0eefdd4ba8e"
      },
      "execution_count": 46,
      "outputs": [
        {
          "output_type": "stream",
          "name": "stdout",
          "text": [
            "  Building wheel for rouge-score (setup.py) ... \u001b[?25l\u001b[?25hdone\n"
          ]
        }
      ]
    },
    {
      "cell_type": "code",
      "source": [
        "evaluate.list_evaluation_modules(module_type='metric',\n",
        "                                 include_community=False,\n",
        "                                 with_details=True)"
      ],
      "metadata": {
        "colab": {
          "base_uri": "https://localhost:8080/"
        },
        "id": "nWuv9bQ6shU4",
        "outputId": "d70f9436-e6c7-4f2e-b71d-2fea4b901ec2"
      },
      "execution_count": 25,
      "outputs": [
        {
          "output_type": "execute_result",
          "data": {
            "text/plain": [
              "[{'name': 'precision', 'type': 'metric', 'community': False, 'likes': 0},\n",
              " {'name': 'code_eval', 'type': 'metric', 'community': False, 'likes': 2},\n",
              " {'name': 'roc_auc', 'type': 'metric', 'community': False, 'likes': 0},\n",
              " {'name': 'cuad', 'type': 'metric', 'community': False, 'likes': 0},\n",
              " {'name': 'xnli', 'type': 'metric', 'community': False, 'likes': 0},\n",
              " {'name': 'rouge', 'type': 'metric', 'community': False, 'likes': 0},\n",
              " {'name': 'pearsonr', 'type': 'metric', 'community': False, 'likes': 1},\n",
              " {'name': 'mse', 'type': 'metric', 'community': False, 'likes': 0},\n",
              " {'name': 'super_glue', 'type': 'metric', 'community': False, 'likes': 0},\n",
              " {'name': 'comet', 'type': 'metric', 'community': False, 'likes': 0},\n",
              " {'name': 'cer', 'type': 'metric', 'community': False, 'likes': 1},\n",
              " {'name': 'sacrebleu', 'type': 'metric', 'community': False, 'likes': 2},\n",
              " {'name': 'mahalanobis', 'type': 'metric', 'community': False, 'likes': 0},\n",
              " {'name': 'wer', 'type': 'metric', 'community': False, 'likes': 1},\n",
              " {'name': 'competition_math',\n",
              "  'type': 'metric',\n",
              "  'community': False,\n",
              "  'likes': 0},\n",
              " {'name': 'f1', 'type': 'metric', 'community': False, 'likes': 0},\n",
              " {'name': 'recall', 'type': 'metric', 'community': False, 'likes': 0},\n",
              " {'name': 'coval', 'type': 'metric', 'community': False, 'likes': 0},\n",
              " {'name': 'mauve', 'type': 'metric', 'community': False, 'likes': 1},\n",
              " {'name': 'xtreme_s', 'type': 'metric', 'community': False, 'likes': 0},\n",
              " {'name': 'bleurt', 'type': 'metric', 'community': False, 'likes': 2},\n",
              " {'name': 'ter', 'type': 'metric', 'community': False, 'likes': 1},\n",
              " {'name': 'accuracy', 'type': 'metric', 'community': False, 'likes': 3},\n",
              " {'name': 'exact_match', 'type': 'metric', 'community': False, 'likes': 0},\n",
              " {'name': 'indic_glue', 'type': 'metric', 'community': False, 'likes': 0},\n",
              " {'name': 'spearmanr', 'type': 'metric', 'community': False, 'likes': 0},\n",
              " {'name': 'mae', 'type': 'metric', 'community': False, 'likes': 0},\n",
              " {'name': 'squad', 'type': 'metric', 'community': False, 'likes': 0},\n",
              " {'name': 'chrf', 'type': 'metric', 'community': False, 'likes': 3},\n",
              " {'name': 'glue', 'type': 'metric', 'community': False, 'likes': 0},\n",
              " {'name': 'perplexity', 'type': 'metric', 'community': False, 'likes': 0},\n",
              " {'name': 'mean_iou', 'type': 'metric', 'community': False, 'likes': 1},\n",
              " {'name': 'squad_v2', 'type': 'metric', 'community': False, 'likes': 0},\n",
              " {'name': 'meteor', 'type': 'metric', 'community': False, 'likes': 1},\n",
              " {'name': 'bleu', 'type': 'metric', 'community': False, 'likes': 3},\n",
              " {'name': 'wiki_split', 'type': 'metric', 'community': False, 'likes': 0},\n",
              " {'name': 'sari', 'type': 'metric', 'community': False, 'likes': 1},\n",
              " {'name': 'frugalscore', 'type': 'metric', 'community': False, 'likes': 0},\n",
              " {'name': 'google_bleu', 'type': 'metric', 'community': False, 'likes': 2},\n",
              " {'name': 'bertscore', 'type': 'metric', 'community': False, 'likes': 3},\n",
              " {'name': 'matthews_correlation',\n",
              "  'type': 'metric',\n",
              "  'community': False,\n",
              "  'likes': 6},\n",
              " {'name': 'seqeval', 'type': 'metric', 'community': False, 'likes': 5},\n",
              " {'name': 'trec_eval', 'type': 'metric', 'community': False, 'likes': 3},\n",
              " {'name': 'rl_reliability', 'type': 'metric', 'community': False, 'likes': 2},\n",
              " {'name': 'poseval', 'type': 'metric', 'community': False, 'likes': 0},\n",
              " {'name': 'brier_score', 'type': 'metric', 'community': False, 'likes': 0}]"
            ]
          },
          "metadata": {},
          "execution_count": 25
        }
      ]
    },
    {
      "cell_type": "code",
      "source": [
        "# See available evaluation modules\n",
        "eval_mods = evaluate.list_evaluation_modules(module_type='metric',\n",
        "                                             include_community=False)\n",
        "display(sorted(eval_mods))"
      ],
      "metadata": {
        "colab": {
          "base_uri": "https://localhost:8080/",
          "height": 844
        },
        "id": "NAxExaJnZVl5",
        "outputId": "f354546b-a69c-4ef1-cc19-8fdc0f6a8666"
      },
      "execution_count": 23,
      "outputs": [
        {
          "output_type": "display_data",
          "data": {
            "text/plain": [
              "['accuracy',\n",
              " 'bertscore',\n",
              " 'bleu',\n",
              " 'bleurt',\n",
              " 'brier_score',\n",
              " 'cer',\n",
              " 'chrf',\n",
              " 'code_eval',\n",
              " 'comet',\n",
              " 'competition_math',\n",
              " 'coval',\n",
              " 'cuad',\n",
              " 'exact_match',\n",
              " 'f1',\n",
              " 'frugalscore',\n",
              " 'glue',\n",
              " 'google_bleu',\n",
              " 'indic_glue',\n",
              " 'mae',\n",
              " 'mahalanobis',\n",
              " 'matthews_correlation',\n",
              " 'mauve',\n",
              " 'mean_iou',\n",
              " 'meteor',\n",
              " 'mse',\n",
              " 'pearsonr',\n",
              " 'perplexity',\n",
              " 'poseval',\n",
              " 'precision',\n",
              " 'recall',\n",
              " 'rl_reliability',\n",
              " 'roc_auc',\n",
              " 'rouge',\n",
              " 'sacrebleu',\n",
              " 'sari',\n",
              " 'seqeval',\n",
              " 'spearmanr',\n",
              " 'squad',\n",
              " 'squad_v2',\n",
              " 'super_glue',\n",
              " 'ter',\n",
              " 'trec_eval',\n",
              " 'wer',\n",
              " 'wiki_split',\n",
              " 'xnli',\n",
              " 'xtreme_s']"
            ]
          },
          "metadata": {}
        }
      ]
    },
    {
      "cell_type": "code",
      "source": [
        "metrics = 'rouge', 'bleu', 'chrf', 'bertscore', 'bleurt', 'comet', 'glue', 'super_glue'\n",
        "for met in metrics:\n",
        "  if met not in eval_mods:\n",
        "    print(f\"{met} not found in `evaluate`\")\n",
        "  "
      ],
      "metadata": {
        "id": "nmAEkCTHfjc3"
      },
      "execution_count": 27,
      "outputs": []
    },
    {
      "cell_type": "markdown",
      "source": [
        "# BLEU"
      ],
      "metadata": {
        "id": "L1XygB5_vaVE"
      }
    },
    {
      "cell_type": "code",
      "source": [
        "bleu = evaluate.load('bleu')\n",
        "print(bleu.description)\n",
        "print(bleu.inputs_description)\n",
        "print(bleu.features)"
      ],
      "metadata": {
        "colab": {
          "base_uri": "https://localhost:8080/"
        },
        "id": "156eY2DqgJlW",
        "outputId": "cee17424-7dce-4b1b-fd87-26ad720f169a"
      },
      "execution_count": 44,
      "outputs": [
        {
          "output_type": "stream",
          "name": "stdout",
          "text": [
            "BLEU (Bilingual Evaluation Understudy) is an algorithm for evaluating the quality of text which has been machine-translated from one natural language to another.\n",
            "Quality is considered to be the correspondence between a machine's output and that of a human: \"the closer a machine translation is to a professional human translation, the better it is\"\n",
            "– this is the central idea behind BLEU. BLEU was one of the first metrics to claim a high correlation with human judgements of quality, and remains one of the most popular automated and inexpensive metrics.\n",
            "\n",
            "Scores are calculated for individual translated segments—generally sentences—by comparing them with a set of good quality reference translations.\n",
            "Those scores are then averaged over the whole corpus to reach an estimate of the translation's overall quality.\n",
            "Neither intelligibility nor grammatical correctness are not taken into account.\n",
            "\n",
            "\n",
            "Computes BLEU score of translated segments against one or more references.\n",
            "Args:\n",
            "    predictions: list of translations to score.\n",
            "    references: list of lists of or just a list of references for each translation.\n",
            "    tokenizer : approach used for tokenizing `predictions` and `references`.\n",
            "        The default tokenizer is `tokenizer_13a`, a minimal tokenization approach that is equivalent to `mteval-v13a`, used by WMT.\n",
            "        This can be replaced by any function that takes a string as input and returns a list of tokens as output.\n",
            "    max_order: Maximum n-gram order to use when computing BLEU score.\n",
            "    smooth: Whether or not to apply Lin et al. 2004 smoothing.\n",
            "Returns:\n",
            "    'bleu': bleu score,\n",
            "    'precisions': geometric mean of n-gram precisions,\n",
            "    'brevity_penalty': brevity penalty,\n",
            "    'length_ratio': ratio of lengths,\n",
            "    'translation_length': translation_length,\n",
            "    'reference_length': reference_length\n",
            "Examples:\n",
            "\n",
            "    >>> predictions = [\"hello there general kenobi\", \"foo bar foobar\"]\n",
            "    >>> references = [\n",
            "    ...     [\"hello there general kenobi\", \"hello there!\"],\n",
            "    ...     [\"foo bar foobar\"]\n",
            "    ... ]\n",
            "    >>> bleu = evaluate.load(\"bleu\")\n",
            "    >>> results = bleu.compute(predictions=predictions, references=references)\n",
            "    >>> print(results[\"bleu\"])\n",
            "    1.0\n",
            "\n",
            "[{'predictions': Value(dtype='string', id='sequence'), 'references': Sequence(feature=Value(dtype='string', id='sequence'), length=-1, id='references')}, {'predictions': Value(dtype='string', id='sequence'), 'references': Value(dtype='string', id='sequence')}]\n"
          ]
        }
      ]
    },
    {
      "cell_type": "code",
      "source": [
        "prediction = ['I live in Seattle']\n",
        "reference = ['My home is in Seattle']\n",
        "\n",
        "results = bleu.compute(predictions=prediction, references=reference)\n",
        "print(results)"
      ],
      "metadata": {
        "colab": {
          "base_uri": "https://localhost:8080/"
        },
        "id": "V7MHHU9juEcj",
        "outputId": "59461faa-8938-49c4-be42-6915e00e17fb"
      },
      "execution_count": 42,
      "outputs": [
        {
          "output_type": "stream",
          "name": "stdout",
          "text": [
            "{'bleu': 0.0, 'precisions': [0.5, 0.3333333333333333, 0.0, 0.0], 'brevity_penalty': 0.7788007830714049, 'length_ratio': 0.8, 'translation_length': 4, 'reference_length': 5}\n"
          ]
        }
      ]
    },
    {
      "cell_type": "markdown",
      "source": [
        "# ROUGE"
      ],
      "metadata": {
        "id": "oFcWq0e3wDis"
      }
    },
    {
      "cell_type": "code",
      "source": [
        "rouge = evaluate.load('rouge')"
      ],
      "metadata": {
        "id": "R501K6MLwDHc"
      },
      "execution_count": 47,
      "outputs": []
    },
    {
      "cell_type": "code",
      "source": [],
      "metadata": {
        "id": "DBFOiG6yw6ml"
      },
      "execution_count": null,
      "outputs": []
    }
  ]
}